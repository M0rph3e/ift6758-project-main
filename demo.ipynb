{
 "cells": [
  {
   "cell_type": "code",
   "execution_count": 1,
   "metadata": {},
   "outputs": [],
   "source": [
    "# Your implementation correctly queries the specific game, and filters the previously processed events correctly. You get the next batch of inputs to pass to your prediction service."
   ]
  },
  {
   "cell_type": "code",
   "execution_count": 2,
   "metadata": {},
   "outputs": [],
   "source": [
    "%load_ext autoreload\n",
    "%autoreload 2"
   ]
  },
  {
   "cell_type": "markdown",
   "metadata": {},
   "source": [
    "* We hardcoded **UI part** for two xgb models (one from part5 and one from part6), \n",
    "    * This is done because, we had to map feature names for each model. We mapped and verified pipeline for these two models.\n",
    "* We assumed TIMELEFT is the time remaining in period"
   ]
  },
  {
   "cell_type": "code",
   "execution_count": 5,
   "metadata": {},
   "outputs": [],
   "source": [
    "from ift6758.ift6758.client  import DisplayClient\n",
    "from IPython.display import display"
   ]
  },
  {
   "cell_type": "code",
   "execution_count": 6,
   "metadata": {},
   "outputs": [
    {
     "data": {
      "application/vnd.jupyter.widget-view+json": {
       "model_id": "a76aab3d0aef4c80a4aefe7c98b5d706",
       "version_major": 2,
       "version_minor": 0
      },
      "text/plain": [
       "VBox(children=(Dropdown(description='Workspace : ', layout=Layout(width='50%'), options=('morph-e',), value='m…"
      ]
     },
     "metadata": {},
     "output_type": "display_data"
    },
    {
     "data": {
      "application/vnd.jupyter.widget-view+json": {
       "model_id": "8d3f14346d24430f96f3e9304f530856",
       "version_major": 2,
       "version_minor": 0
      },
      "text/plain": [
       "VBox(children=(Text(value='2021020329', description='Game ID : ', placeholder='Type a valid Game ID'), Button(…"
      ]
     },
     "metadata": {},
     "output_type": "display_data"
    },
    {
     "data": {
      "application/vnd.jupyter.widget-view+json": {
       "model_id": "9cf84d697c544ecf9312cb2ac6841841",
       "version_major": 2,
       "version_minor": 0
      },
      "text/plain": [
       "Output()"
      ]
     },
     "metadata": {},
     "output_type": "display_data"
    }
   ],
   "source": [
    "dc = DisplayClient(ip='serving')\n",
    "display(dc.container_1,dc.container_2, dc.output)\n",
    "dc.model_button.on_click(dc.on_model_button_clicked)\n",
    "dc.game_button.on_click(dc.on_game_button_clicked)\n"
   ]
  }
 ],
 "metadata": {
  "interpreter": {
   "hash": "fe0e4489f2919cda2ef5940e6c22f887a5b71570af9d1a74ba05de65e7f388ec"
  },
  "kernelspec": {
   "display_name": "Python 3",
   "language": "python",
   "name": "python3"
  },
  "language_info": {
   "codemirror_mode": {
    "name": "ipython",
    "version": 3
   },
   "file_extension": ".py",
   "mimetype": "text/x-python",
   "name": "python",
   "nbconvert_exporter": "python",
   "pygments_lexer": "ipython3",
   "version": "3.8.12"
  }
 },
 "nbformat": 4,
 "nbformat_minor": 4
}
