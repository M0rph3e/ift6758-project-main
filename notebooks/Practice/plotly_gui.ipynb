{
 "cells": [
  {
   "cell_type": "code",
   "execution_count": null,
   "metadata": {},
   "outputs": [],
   "source": [
    "# import sys\n",
    "# from  ift6758.data.data_acquisition import Season\n",
    "# season2018 = Season(2018,\"../ift6758/data\")\n",
    "# df_season2018_clean = season2018.clean_data()\n",
    "# df[[\"gamePk\",\"liveData.plays.allPlays\"]]"
   ]
  },
  {
   "cell_type": "code",
   "execution_count": null,
   "metadata": {},
   "outputs": [],
   "source": [
    "from ipywidgets import interact, RadioButtons, IntSlider, Output, Layout, Dropdown\n",
    "import plotly.graph_objects as go\n",
    "\n",
    "import json\n",
    "import pandas\n",
    "import numpy as np\n",
    "from tabulate import tabulate\n",
    "import matplotlib.pyplot as plt\n",
    "from matplotlib import cm\n",
    "import seaborn as sns\n",
    "\n",
    "import requests\n",
    "import json"
   ]
  },
  {
   "cell_type": "code",
   "execution_count": null,
   "metadata": {},
   "outputs": [],
   "source": [
    "IMG_PATH = \"../figures/nhl_rink.png\""
   ]
  },
  {
   "cell_type": "code",
   "execution_count": null,
   "metadata": {},
   "outputs": [],
   "source": [
    "url = 'https://statsapi.web.nhl.com/api/v1/teams'\n",
    "\n",
    "r = requests.get(url, headers={'accept': 'application/json'})\n",
    "json_teams = r.json()\n",
    "\n",
    "print(json_teams[\"teams\"])"
   ]
  },
  {
   "cell_type": "code",
   "execution_count": null,
   "metadata": {},
   "outputs": [],
   "source": [
    "team_list = list()\n",
    "for team in json_teams[\"teams\"]:\n",
    "    team_list.append(team[\"name\"])\n",
    "print(team_list)"
   ]
  },
  {
   "cell_type": "code",
   "execution_count": null,
   "metadata": {},
   "outputs": [],
   "source": [
    "#CHOOSE GAME ID\n",
    "season_selector = IntSlider(\n",
    "    value=2016,\n",
    "    min=2016,\n",
    "    max=2020,\n",
    "    step=1,\n",
    "    description='Season: ',\n",
    "    continuous_update=False, #only reassign value when the slider stops moving\n",
    "    layout=Layout(width='50%')\n",
    ")\n",
    "\n",
    "#CHOOSE GAME TYPE\n",
    "team_selector = Dropdown(\n",
    "    options=team_list,\n",
    "    value='New Jersey Devils',\n",
    "    description='Number:',\n",
    "    disabled=False,\n",
    "    continuous_update=False,\n",
    "    layout=Layout(width='50%')\n",
    ")"
   ]
  },
  {
   "cell_type": "code",
   "execution_count": null,
   "metadata": {},
   "outputs": [],
   "source": [
    "def fig_shot_map(team, season):\n",
    "    \n",
    "    #create figure\n",
    "    img = plt.imread(IMG_PATH)\n",
    "    fig, ax = plt.subplots(figsize=(10, 5))\n",
    "    \n",
    "    #prep the ring and the axis of the ring\n",
    "    plt.xlim(-100, 100)\n",
    "    plt.ylim(-42.5, 42.5)\n",
    "    plt.xlabel(\"feet\")\n",
    "    plt.ylabel(\"feet\")\n",
    "    plt.title(team + '\\n' + \n",
    "              \"Season: \" + str(season) + \"  Relative to League Average for the Season \")\n",
    "    ax.imshow(img, extent=[-100, 100, -42.5, 42.5], aspect='auto')\n",
    "    \n",
    "    #get random data\n",
    "    from random import randint\n",
    "    delta = 0.5\n",
    "    x= np.arange(-100, 100, delta)\n",
    "    y = np.arange(-42.5, 42.5, delta)\n",
    "    X, Y = np.meshgrid(x, y)\n",
    "    Z1 = np.exp(-X**2 - Y**2)\n",
    "    Z2 = np.exp(-(X - 1)**2 - (Y - 1)**2)\n",
    "    #Z = (Z1 - Z2) * 2\n",
    "    Z= X - Y\n",
    "    Z = Z.reshape((len(y), len(x)))\n",
    "    print(X)\n",
    "    print(Y)\n",
    "    print(Z)\n",
    "    \n",
    "    #create cmap\n",
    "    norm = cm.colors.Normalize(vmax=abs(Z).max(), vmin=-abs(Z).max())\n",
    "    cmap = cm.PRGn\n",
    "    \n",
    "    #draw the contour maps\n",
    "    levels = np.arange(-1.2, 1.6, 0.2)\n",
    "    \n",
    "    CS1 = ax.contourf(X, Y, Z, levels, norm=norm,\n",
    "                   cmap=cm.get_cmap(cmap, len(levels) - 1),\n",
    "                   extent=[-100, 100, -42.5, 42.5],\n",
    "                    linewidths=2\n",
    "                  )\n",
    "# It is not necessary, but for the colormap, we need only the\n",
    "# number of levels minus 1.  To avoid discretization error, use\n",
    "# either this number or a large number such as the default (256).\n",
    "\n",
    "# If we want lines as well as filled regions, we need to call\n",
    "# contour separately; don't try to change the edgecolor or edgewidth\n",
    "# of the polygons in the collections returned by contourf.\n",
    "# Use levels output from previous call to guarantee they are the same.\n",
    "\n",
    "    CS2 = ax.contour(X, Y, Z, CS1.levels, colors='k')\n",
    "    \n",
    "    # make the color bar for the contour lines\n",
    "    CB = fig.colorbar(CS1, shrink=0.8)\n",
    "    #change its location\n",
    "#     l, b, w, h = ax.get_position().bounds\n",
    "#     ll, bb, ww, hh = CB.ax.get_position().bounds\n",
    "#     CB.ax.set_position([ll, b + 0.1*h, ww, h*0.8])\n",
    "       \n",
    "    #show it\n",
    "    plt.show()"
   ]
  },
  {
   "cell_type": "code",
   "execution_count": null,
   "metadata": {},
   "outputs": [],
   "source": [
    "# import plotly.express as px\n",
    "# from skimage import io\n",
    "# def fig_shot_map(team, season):\n",
    "    \n",
    "#     #create figure\n",
    "#     img = plt.imread(IMG_PATH)\n",
    "    \n",
    "#     img = io.imread('https://upload.wikimedia.org/wikipedia/commons/thumb/0/00/Crab_Nebula.jpg/240px-Crab_Nebula.jpg')\n",
    "#     fig = px.imshow(img)\n",
    "#     fig.show()\n"
   ]
  },
  {
   "cell_type": "code",
   "execution_count": null,
   "metadata": {},
   "outputs": [],
   "source": [
    "#display both widgets\n",
    "display(season_selector, team_selector)\n",
    "\n",
    "#init season as 2016\n",
    "season = \"2016\"\n",
    "\n",
    "#LINK season to widget \n",
    "def update_season(change):\n",
    "    global season\n",
    "    season = change['new']\n",
    "    \n",
    "season_selector.observe(update_season, 'value')\n",
    "\n",
    "#init team\n",
    "team = \"New Jersey Devils\"\n",
    "\n",
    "output = Output()\n",
    "display(output)\n",
    "\n",
    "#LINK team to widget \n",
    "def update_team(change):\n",
    "    \n",
    "    #update team\n",
    "    global team\n",
    "    team = change['new']\n",
    "    \n",
    "    fig_shot_map(team, season)\n",
    "    \n",
    "team_selector.observe(update_team, 'value')"
   ]
  },
  {
   "cell_type": "code",
   "execution_count": null,
   "metadata": {},
   "outputs": [],
   "source": []
  },
  {
   "cell_type": "code",
   "execution_count": null,
   "metadata": {},
   "outputs": [],
   "source": []
  },
  {
   "cell_type": "code",
   "execution_count": null,
   "metadata": {},
   "outputs": [],
   "source": []
  }
 ],
 "metadata": {
  "interpreter": {
   "hash": "fe0e4489f2919cda2ef5940e6c22f887a5b71570af9d1a74ba05de65e7f388ec"
  },
  "kernelspec": {
   "display_name": "ift6758-conda-env",
   "language": "python",
   "name": "ift6758-conda-env"
  },
  "language_info": {
   "codemirror_mode": {
    "name": "ipython",
    "version": 3
   },
   "file_extension": ".py",
   "mimetype": "text/x-python",
   "name": "python",
   "nbconvert_exporter": "python",
   "pygments_lexer": "ipython3",
   "version": "3.9.7"
  }
 },
 "nbformat": 4,
 "nbformat_minor": 4
}
