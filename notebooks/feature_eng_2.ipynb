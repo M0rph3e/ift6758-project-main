{
 "cells": [
  {
   "cell_type": "markdown",
   "id": "ebf4668e-cf18-4e09-8240-4da3897207bd",
   "metadata": {},
   "source": [
    "# Notebook for feature engineering II"
   ]
  },
  {
   "cell_type": "code",
   "execution_count": 1,
   "id": "58c123d3-5b14-4efa-821d-bc6657fb8d15",
   "metadata": {},
   "outputs": [],
   "source": [
    "%load_ext autoreload\n",
    "%autoreload 2\n",
    "\n",
    "#Imports\n",
    "import pandas as pd\n",
    "import requests\n",
    "import os\n",
    "from tqdm.notebook import tqdm\n",
    "import pickle\n",
    "import sys\n",
    "import json\n",
    "import numpy as np\n",
    "import matplotlib.pyplot as plt\n",
    "import seaborn as sns\n",
    "\n",
    "from  ift6758.data.data_acquisition import Season\n",
    "from ift6758.visualizations.simple_visualization import Utilities "
   ]
  },
  {
   "cell_type": "code",
   "execution_count": 2,
   "id": "823160dd-de8e-4126-8ad9-1c6955d3af14",
   "metadata": {},
   "outputs": [],
   "source": [
    "season2015 = Season(2015,\"../ift6758/data\")\n",
    "season2016 = Season(2016,\"../ift6758/data\")\n",
    "season2017 = Season(2017,\"../ift6758/data\")\n",
    "season2018 = Season(2018,\"../ift6758/data\")\n",
    "season2019 = Season(2019,\"../ift6758/data\")"
   ]
  },
  {
   "cell_type": "code",
   "execution_count": 5,
   "id": "a84abcf8-ee8d-45e6-86f9-962f3277c2b8",
   "metadata": {
    "scrolled": true
   },
   "outputs": [
    {
     "name": "stdout",
     "output_type": "stream",
     "text": [
      "File already Exists, loading from ../ift6758/data/PICKLE//2017.pkl\n",
      "Len of games_list in 2017 is 1488\n"
     ]
    }
   ],
   "source": [
    "#data_2015 = season2015.get_season_data()\n",
    "# data_2016 = season2016.get_season_data()\n",
    "data_2017 = season2017.get_season_data()\n",
    "# data_2018 = season2018.get_season_data()\n",
    "# data_2019 = season2019.get_season_data()"
   ]
  },
  {
   "cell_type": "markdown",
   "id": "5073e52f-0c74-4016-abf3-b90791355962",
   "metadata": {},
   "source": [
    "## From the already tidied data, include the following features:\n",
    "Now, to each shot, add information from the previous events. Note that this could be any event, not just shots. This means you will likely have to update your code which produced the tidied data to now also look at other event types. As a reminder, you may find this endpoint useful:\n",
    "\n",
    "https://statsapi.web.nhl.com/api/v1/playTypes\n",
    "\n",
    "To each shot, add the following information from the immediately preceding event as four new features:\n",
    "* Last event type\n",
    "* Coordinates of the last event (x, y, separate columns)\n",
    "* Time from the last event (seconds)\n",
    "* Distance from the last event\n",
    "\n",
    "With this new information, we will create a few more features which try to quantify a few more interesting things about the state of the play. Create the following three features:\n",
    "* Rebound (bool): True if the last event was also a shot, otherwise False\n",
    "* Change in shot angle; only include if the shot is a rebound, otherwise 0.\n",
    "* “Speed”: defined as the distance from the previous event, divided by the time since the previous event. "
   ]
  },
  {
   "cell_type": "code",
   "execution_count": 47,
   "id": "1ccba0d0",
   "metadata": {},
   "outputs": [],
   "source": [
    "def clean_data_for_fe2(data):\n",
    "        \"\"\"\n",
    "        Cleaning data for the data of season and add features for feature engineering 2 task\n",
    "        \"\"\" \n",
    "\n",
    "        df = pd.json_normalize(data,record_path=['liveData','plays','allPlays'],meta=['gamePk'])\n",
    "        select_columns = [\"result.event\",\"gamePk\",\"team.name\",\"about.period\",\"about.periodTime\",\"coordinates.x\",\"coordinates.y\"]\n",
    "        df = df[select_columns]\n",
    "    \n",
    "        #shift all relevant info by one to have the last event information\n",
    "        # keep the gamePK id and the period for a sanity check\n",
    "        #this is to prevent leaking between games/periods\n",
    "        df['last.event.gamePk'] = df['gamePk'].shift(1)\n",
    "        df['last.event.about.period'] = df['about.period'].shift(1)\n",
    "        df['lastEventType'] = df['result.event'].shift(1)\n",
    "        df['last.event.about.periodTime'] = df['about.periodTime'].shift(1)\n",
    "        df['last.event.coordinates.x'] = df['coordinates.x'].shift(1)\n",
    "        df['last.event.coordinates.y'] = df['coordinates.y'].shift(1)\n",
    "        \n",
    "        mask = (df[\"result.event\"]==\"Shot\") | (df[\"result.event\"]==\"Goal\") & (df['last.event.gamePk'] == df['gamePk']) & (df['last.event.about.period'] == df['about.period'])\n",
    "        df_masked = df[mask]\n",
    "        \n",
    "        #Calculate time between this event and last event in seconds\n",
    "        df_masked['timeFromLastEvent'] = pd.to_datetime(df_masked['about.periodTime'], format='%M:%S') - pd.to_datetime(df_masked['last.event.about.periodTime'], format='%M:%S')\n",
    "       \n",
    "        #Calculate distance between this event and last event in feet\n",
    "        df_masked['distanceFromLastEvent'] = df_masked.apply(\n",
    "            lambda row: np.linalg.norm(np.array([row['last.event.coordinates.x'], row['last.event.coordinates.y']])-np.array([row['coordinates.x'], row['coordinates.y']])),\n",
    "            axis=1)\n",
    "        \n",
    "        #add rebound if last event is shot\n",
    "        df_masked['Rebound'] = np.where(df_masked['lastEventType']=='Shot', True, False)\n",
    "        \n",
    "        #convert timeFromLastEvent column to seconds\n",
    "        df_masked['timeFromLastEvent'] = df_masked['timeFromLastEvent'].dt.total_seconds()\n",
    "        \n",
    "        #add speed = dist/time\n",
    "        df_masked['Speed'] = df_masked['distanceFromLastEvent'] / df_masked['timeFromLastEvent']\n",
    "        \n",
    "        \n",
    "        #drop unneeded columns\n",
    "        df_clean = df_masked.drop(columns=[\"about.periodTime\",\"last.event.gamePk\",\"last.event.about.period\"],axis=1).reset_index(drop=True)\n",
    "        \n",
    "        return df_clean\n"
   ]
  },
  {
   "cell_type": "code",
   "execution_count": 48,
   "id": "fe6599f0",
   "metadata": {},
   "outputs": [
    {
     "name": "stderr",
     "output_type": "stream",
     "text": [
      "C:\\Users\\alaed\\AppData\\Local\\Temp/ipykernel_3264/1306203328.py:28: SettingWithCopyWarning: \n",
      "A value is trying to be set on a copy of a slice from a DataFrame.\n",
      "Try using .loc[row_indexer,col_indexer] = value instead\n",
      "\n",
      "See the caveats in the documentation: https://pandas.pydata.org/pandas-docs/stable/user_guide/indexing.html#returning-a-view-versus-a-copy\n",
      "  df_masked['timeFromLastEvent'] = pd.to_datetime(df_masked['about.periodTime'], format='%M:%S') - pd.to_datetime(df_masked['last.event.about.periodTime'], format='%M:%S')\n",
      "C:\\Users\\alaed\\AppData\\Local\\Temp/ipykernel_3264/1306203328.py:31: SettingWithCopyWarning: \n",
      "A value is trying to be set on a copy of a slice from a DataFrame.\n",
      "Try using .loc[row_indexer,col_indexer] = value instead\n",
      "\n",
      "See the caveats in the documentation: https://pandas.pydata.org/pandas-docs/stable/user_guide/indexing.html#returning-a-view-versus-a-copy\n",
      "  df_masked['distanceFromLastEvent'] = df_masked.apply(\n",
      "C:\\Users\\alaed\\AppData\\Local\\Temp/ipykernel_3264/1306203328.py:36: SettingWithCopyWarning: \n",
      "A value is trying to be set on a copy of a slice from a DataFrame.\n",
      "Try using .loc[row_indexer,col_indexer] = value instead\n",
      "\n",
      "See the caveats in the documentation: https://pandas.pydata.org/pandas-docs/stable/user_guide/indexing.html#returning-a-view-versus-a-copy\n",
      "  df_masked['Rebound'] = np.where(df_masked['lastEventType']=='Shot', True, False)\n",
      "C:\\Users\\alaed\\AppData\\Local\\Temp/ipykernel_3264/1306203328.py:39: SettingWithCopyWarning: \n",
      "A value is trying to be set on a copy of a slice from a DataFrame.\n",
      "Try using .loc[row_indexer,col_indexer] = value instead\n",
      "\n",
      "See the caveats in the documentation: https://pandas.pydata.org/pandas-docs/stable/user_guide/indexing.html#returning-a-view-versus-a-copy\n",
      "  df_masked['timeFromLastEvent'] = df_masked['timeFromLastEvent'].dt.total_seconds()\n",
      "C:\\Users\\alaed\\AppData\\Local\\Temp/ipykernel_3264/1306203328.py:42: SettingWithCopyWarning: \n",
      "A value is trying to be set on a copy of a slice from a DataFrame.\n",
      "Try using .loc[row_indexer,col_indexer] = value instead\n",
      "\n",
      "See the caveats in the documentation: https://pandas.pydata.org/pandas-docs/stable/user_guide/indexing.html#returning-a-view-versus-a-copy\n",
      "  df_masked['Speed'] = df_masked['distanceFromLastEvent'] / df_masked['timeFromLastEvent']\n"
     ]
    }
   ],
   "source": [
    "df = clean_data_for_fe2(data_2017)"
   ]
  },
  {
   "cell_type": "code",
   "execution_count": 50,
   "id": "ec3efdc8",
   "metadata": {},
   "outputs": [
    {
     "data": {
      "text/html": [
       "<div>\n",
       "<style scoped>\n",
       "    .dataframe tbody tr th:only-of-type {\n",
       "        vertical-align: middle;\n",
       "    }\n",
       "\n",
       "    .dataframe tbody tr th {\n",
       "        vertical-align: top;\n",
       "    }\n",
       "\n",
       "    .dataframe thead th {\n",
       "        text-align: right;\n",
       "    }\n",
       "</style>\n",
       "<table border=\"1\" class=\"dataframe\">\n",
       "  <thead>\n",
       "    <tr style=\"text-align: right;\">\n",
       "      <th></th>\n",
       "      <th>result.event</th>\n",
       "      <th>gamePk</th>\n",
       "      <th>team.name</th>\n",
       "      <th>about.period</th>\n",
       "      <th>coordinates.x</th>\n",
       "      <th>coordinates.y</th>\n",
       "      <th>lastEventType</th>\n",
       "      <th>last.event.about.periodTime</th>\n",
       "      <th>last.event.coordinates.x</th>\n",
       "      <th>last.event.coordinates.y</th>\n",
       "      <th>timeFromLastEvent</th>\n",
       "      <th>distanceFromLastEvent</th>\n",
       "      <th>Rebound</th>\n",
       "      <th>Speed</th>\n",
       "    </tr>\n",
       "  </thead>\n",
       "  <tbody>\n",
       "    <tr>\n",
       "      <th>0</th>\n",
       "      <td>Shot</td>\n",
       "      <td>2017010001</td>\n",
       "      <td>Vancouver Canucks</td>\n",
       "      <td>1</td>\n",
       "      <td>-43.0</td>\n",
       "      <td>5.0</td>\n",
       "      <td>Faceoff</td>\n",
       "      <td>05:27</td>\n",
       "      <td>-20.0</td>\n",
       "      <td>22.0</td>\n",
       "      <td>2.0</td>\n",
       "      <td>28.600699</td>\n",
       "      <td>False</td>\n",
       "      <td>14.300350</td>\n",
       "    </tr>\n",
       "    <tr>\n",
       "      <th>1</th>\n",
       "      <td>Shot</td>\n",
       "      <td>2017010001</td>\n",
       "      <td>Vancouver Canucks</td>\n",
       "      <td>1</td>\n",
       "      <td>75.0</td>\n",
       "      <td>-13.0</td>\n",
       "      <td>Hit</td>\n",
       "      <td>05:48</td>\n",
       "      <td>-97.0</td>\n",
       "      <td>26.0</td>\n",
       "      <td>6.0</td>\n",
       "      <td>176.366097</td>\n",
       "      <td>False</td>\n",
       "      <td>29.394349</td>\n",
       "    </tr>\n",
       "    <tr>\n",
       "      <th>2</th>\n",
       "      <td>Shot</td>\n",
       "      <td>2017010001</td>\n",
       "      <td>Vancouver Canucks</td>\n",
       "      <td>1</td>\n",
       "      <td>84.0</td>\n",
       "      <td>-9.0</td>\n",
       "      <td>Shot</td>\n",
       "      <td>05:54</td>\n",
       "      <td>75.0</td>\n",
       "      <td>-13.0</td>\n",
       "      <td>2.0</td>\n",
       "      <td>9.848858</td>\n",
       "      <td>True</td>\n",
       "      <td>4.924429</td>\n",
       "    </tr>\n",
       "    <tr>\n",
       "      <th>3</th>\n",
       "      <td>Shot</td>\n",
       "      <td>2017010001</td>\n",
       "      <td>Los Angeles Kings</td>\n",
       "      <td>1</td>\n",
       "      <td>-70.0</td>\n",
       "      <td>1.0</td>\n",
       "      <td>Shot</td>\n",
       "      <td>05:56</td>\n",
       "      <td>84.0</td>\n",
       "      <td>-9.0</td>\n",
       "      <td>13.0</td>\n",
       "      <td>154.324334</td>\n",
       "      <td>True</td>\n",
       "      <td>11.871103</td>\n",
       "    </tr>\n",
       "    <tr>\n",
       "      <th>4</th>\n",
       "      <td>Shot</td>\n",
       "      <td>2017010001</td>\n",
       "      <td>Los Angeles Kings</td>\n",
       "      <td>1</td>\n",
       "      <td>-54.0</td>\n",
       "      <td>-25.0</td>\n",
       "      <td>Shot</td>\n",
       "      <td>06:09</td>\n",
       "      <td>-70.0</td>\n",
       "      <td>1.0</td>\n",
       "      <td>31.0</td>\n",
       "      <td>30.528675</td>\n",
       "      <td>True</td>\n",
       "      <td>0.984796</td>\n",
       "    </tr>\n",
       "  </tbody>\n",
       "</table>\n",
       "</div>"
      ],
      "text/plain": [
       "  result.event      gamePk          team.name  about.period  coordinates.x  \\\n",
       "0         Shot  2017010001  Vancouver Canucks             1          -43.0   \n",
       "1         Shot  2017010001  Vancouver Canucks             1           75.0   \n",
       "2         Shot  2017010001  Vancouver Canucks             1           84.0   \n",
       "3         Shot  2017010001  Los Angeles Kings             1          -70.0   \n",
       "4         Shot  2017010001  Los Angeles Kings             1          -54.0   \n",
       "\n",
       "   coordinates.y lastEventType last.event.about.periodTime  \\\n",
       "0            5.0       Faceoff                       05:27   \n",
       "1          -13.0           Hit                       05:48   \n",
       "2           -9.0          Shot                       05:54   \n",
       "3            1.0          Shot                       05:56   \n",
       "4          -25.0          Shot                       06:09   \n",
       "\n",
       "   last.event.coordinates.x  last.event.coordinates.y  timeFromLastEvent  \\\n",
       "0                     -20.0                      22.0                2.0   \n",
       "1                     -97.0                      26.0                6.0   \n",
       "2                      75.0                     -13.0                2.0   \n",
       "3                      84.0                      -9.0               13.0   \n",
       "4                     -70.0                       1.0               31.0   \n",
       "\n",
       "   distanceFromLastEvent  Rebound      Speed  \n",
       "0              28.600699    False  14.300350  \n",
       "1             176.366097    False  29.394349  \n",
       "2               9.848858     True   4.924429  \n",
       "3             154.324334     True  11.871103  \n",
       "4              30.528675     True   0.984796  "
      ]
     },
     "execution_count": 50,
     "metadata": {},
     "output_type": "execute_result"
    }
   ],
   "source": [
    "df.head()"
   ]
  },
  {
   "cell_type": "code",
   "execution_count": 23,
   "id": "ada42d7a",
   "metadata": {},
   "outputs": [
    {
     "data": {
      "text/plain": [
       "92688"
      ]
     },
     "execution_count": 23,
     "metadata": {},
     "output_type": "execute_result"
    }
   ],
   "source": [
    "len(df.index)"
   ]
  },
  {
   "cell_type": "code",
   "execution_count": 19,
   "id": "04febc14",
   "metadata": {},
   "outputs": [
    {
     "data": {
      "text/plain": [
       "array([2017010001, 2017010002, 2017010004, ..., 2017040631, 2017040632,\n",
       "       2017040633], dtype=object)"
      ]
     },
     "execution_count": 19,
     "metadata": {},
     "output_type": "execute_result"
    }
   ],
   "source": [
    "df.gamePk.unique()"
   ]
  }
 ],
 "metadata": {
  "kernelspec": {
   "display_name": "ift6758-conda-env",
   "language": "python",
   "name": "ift6758-conda-env"
  },
  "language_info": {
   "codemirror_mode": {
    "name": "ipython",
    "version": 3
   },
   "file_extension": ".py",
   "mimetype": "text/x-python",
   "name": "python",
   "nbconvert_exporter": "python",
   "pygments_lexer": "ipython3",
   "version": "3.9.7"
  }
 },
 "nbformat": 4,
 "nbformat_minor": 5
}
