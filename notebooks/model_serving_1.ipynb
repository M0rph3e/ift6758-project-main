{
 "cells": [
  {
   "cell_type": "markdown",
   "id": "69d5137d",
   "metadata": {},
   "source": [
    "## Template notebook for part 1 of Milestone 3"
   ]
  },
  {
   "cell_type": "code",
   "execution_count": 1,
   "id": "8ce53a36",
   "metadata": {},
   "outputs": [],
   "source": [
    "from ift6758.features.feature_engineering2 import SeasonDataSetTwo\n",
    "from ift6758.data.data_acquisition import Season\n",
    "from ift6758.visualizations.simple_visualization import Utilities \n",
    "import matplotlib.pyplot as plt\n",
    "import numpy as np\n",
    "import seaborn as sns\n",
    "import os\n",
    "import random\n",
    "import pandas as pd\n",
    "import pickle\n",
    "import sys\n",
    "import json\n",
    "from waitress import serve #for server visualization"
   ]
  },
  {
   "cell_type": "markdown",
   "id": "56a9a809",
   "metadata": {},
   "source": [
    "## Get Features from M2, FE2"
   ]
  },
  {
   "cell_type": "code",
   "execution_count": 2,
   "id": "adcbb84b",
   "metadata": {},
   "outputs": [
    {
     "name": "stdout",
     "output_type": "stream",
     "text": [
      "File already Exists, loading from ../ift6758/data/PICKLE//2015_2016_2017_2018_features2.pkl\n"
     ]
    }
   ],
   "source": [
    "years = [2015,2016,2017,2018]\n",
    "data = SeasonDataSetTwo(years)\n",
    "df = data.get_features_2()"
   ]
  },
  {
   "cell_type": "code",
   "execution_count": 3,
   "id": "f2f771af",
   "metadata": {},
   "outputs": [
    {
     "data": {
      "text/plain": [
       "Index(['gamePk', 'team.name', 'gamePeriod', 'coordinatesX', 'coordinatesY',\n",
       "       'shotType', 'emptyNet', 'isHome', 'gameSeconds', 'totalGameSeconds',\n",
       "       'shotDistance', 'shotAngle', 'isGoal', 'lastEventType',\n",
       "       'lastEventCoordinatesX', 'lastEventCoordinatesY', 'timeFromLastEvent',\n",
       "       'distanceFromLastEvent', 'rebound', 'speed', 'changeInShotAngle',\n",
       "       'angleSpeed'],\n",
       "      dtype='object')"
      ]
     },
     "execution_count": 3,
     "metadata": {},
     "output_type": "execute_result"
    }
   ],
   "source": [
    "df.columns"
   ]
  },
  {
   "cell_type": "code",
   "execution_count": 4,
   "id": "4d5384c2",
   "metadata": {},
   "outputs": [
    {
     "name": "stdout",
     "output_type": "stream",
     "text": [
      "oui\n"
     ]
    }
   ],
   "source": [
    "print(\"oui\")"
   ]
  },
  {
   "cell_type": "code",
   "execution_count": 5,
   "id": "f4587acb",
   "metadata": {},
   "outputs": [],
   "source": [
    "from comet_ml import API\n",
    "from comet_ml import Experiment"
   ]
  },
  {
   "cell_type": "code",
   "execution_count": 80,
   "id": "5ef78848",
   "metadata": {},
   "outputs": [
    {
     "name": "stderr",
     "output_type": "stream",
     "text": [
      "COMET INFO: Downloading registry model 'xgbcv-fold-0', version None, stage None from workspace 'morph-e'...\n",
      "COMET INFO: Unzipping model to 'C:\\\\Users\\\\Yassir\\\\Desktop\\\\Maitrise UdeM\\\\Cours\\\\IFT-6758\\\\ift6758-project-main\\\\download_registry_model' ...\n",
      "COMET INFO: done!\n"
     ]
    }
   ],
   "source": [
    "api = API(api_key = os.environ.get('COMET_API_KEY'))\n",
    "\n",
    "api.download_registry_model(workspace=\"morph-e\", registry_name=\"xgbcv-fold-0\",\n",
    "    output_path=\"../download_registry_model\", expand=True, stage=None)"
   ]
  },
  {
   "cell_type": "code",
   "execution_count": 81,
   "id": "13b670bb",
   "metadata": {},
   "outputs": [],
   "source": [
    "details =  api.get_registry_model_details(workspace=\"morph-e\", registry_name=\"xgbcv-fold-0\")"
   ]
  },
  {
   "cell_type": "code",
   "execution_count": 82,
   "id": "afa9660b",
   "metadata": {},
   "outputs": [
    {
     "data": {
      "text/plain": [
       "'xgbcv-fold-0-yearvalidation.pkl'"
      ]
     },
     "execution_count": 82,
     "metadata": {},
     "output_type": "execute_result"
    }
   ],
   "source": [
    "filename = details['versions'][0]['assets'][0]['fileName'] \n",
    "filename"
   ]
  },
  {
   "cell_type": "code",
   "execution_count": 85,
   "id": "de849c23",
   "metadata": {},
   "outputs": [],
   "source": [
    "os.rename(\"../download_registry_model/\"+filename,\n",
    "          \"../download_registry_model/\"+\"xgbcv-fold-0\" + \".pkl\")"
   ]
  },
  {
   "cell_type": "markdown",
   "id": "0637250e",
   "metadata": {},
   "source": [
    "## Test before_first_request"
   ]
  },
  {
   "cell_type": "code",
   "execution_count": 9,
   "id": "35d64c0d",
   "metadata": {},
   "outputs": [],
   "source": [
    "import requests\n",
    "import json\n",
    "from ift6758 import comet_utils"
   ]
  },
  {
   "cell_type": "code",
   "execution_count": 96,
   "id": "2377d9ce",
   "metadata": {},
   "outputs": [
    {
     "name": "stderr",
     "output_type": "stream",
     "text": [
      "COMET INFO: Downloading registry model 'xgbcv-fold-0', version None, stage None from workspace 'morph-e'...\n",
      "COMET INFO: Unzipping model to 'C:\\\\Users\\\\Yassir\\\\Desktop\\\\Maitrise UdeM\\\\Cours\\\\IFT-6758\\\\ift6758-project-main\\\\download_registry_model' ...\n",
      "COMET INFO: done!\n"
     ]
    }
   ],
   "source": [
    "api = API(api_key = os.environ.get('COMET_API_KEY'))\n",
    "\n",
    "api.download_registry_model(workspace=\"morph-e\", registry_name=\"xgbcv-fold-0\",\n",
    "    output_path=\"../download_registry_model\", expand=True, stage=None)"
   ]
  },
  {
   "cell_type": "code",
   "execution_count": 6,
   "id": "6bfa374b",
   "metadata": {},
   "outputs": [],
   "source": [
    "df_X = df[[\"shotDistance\",\"shotAngle\"]].iloc[:5]"
   ]
  },
  {
   "cell_type": "code",
   "execution_count": 7,
   "id": "fecb3cac",
   "metadata": {},
   "outputs": [
    {
     "data": {
      "text/html": [
       "<div>\n",
       "<style scoped>\n",
       "    .dataframe tbody tr th:only-of-type {\n",
       "        vertical-align: middle;\n",
       "    }\n",
       "\n",
       "    .dataframe tbody tr th {\n",
       "        vertical-align: top;\n",
       "    }\n",
       "\n",
       "    .dataframe thead th {\n",
       "        text-align: right;\n",
       "    }\n",
       "</style>\n",
       "<table border=\"1\" class=\"dataframe\">\n",
       "  <thead>\n",
       "    <tr style=\"text-align: right;\">\n",
       "      <th></th>\n",
       "      <th>shotDistance</th>\n",
       "      <th>shotAngle</th>\n",
       "    </tr>\n",
       "  </thead>\n",
       "  <tbody>\n",
       "    <tr>\n",
       "      <th>0</th>\n",
       "      <td>34.525353</td>\n",
       "      <td>10.007980</td>\n",
       "    </tr>\n",
       "    <tr>\n",
       "      <th>1</th>\n",
       "      <td>10.000000</td>\n",
       "      <td>0.000000</td>\n",
       "    </tr>\n",
       "    <tr>\n",
       "      <th>2</th>\n",
       "      <td>14.035669</td>\n",
       "      <td>-4.085617</td>\n",
       "    </tr>\n",
       "    <tr>\n",
       "      <th>3</th>\n",
       "      <td>49.517674</td>\n",
       "      <td>-46.636577</td>\n",
       "    </tr>\n",
       "    <tr>\n",
       "      <th>4</th>\n",
       "      <td>28.017851</td>\n",
       "      <td>-2.045408</td>\n",
       "    </tr>\n",
       "  </tbody>\n",
       "</table>\n",
       "</div>"
      ],
      "text/plain": [
       "   shotDistance  shotAngle\n",
       "0     34.525353  10.007980\n",
       "1     10.000000   0.000000\n",
       "2     14.035669  -4.085617\n",
       "3     49.517674 -46.636577\n",
       "4     28.017851  -2.045408"
      ]
     },
     "execution_count": 7,
     "metadata": {},
     "output_type": "execute_result"
    }
   ],
   "source": [
    "df_X.head()"
   ]
  },
  {
   "cell_type": "code",
   "execution_count": 11,
   "id": "b587ba39",
   "metadata": {},
   "outputs": [
    {
     "name": "stdout",
     "output_type": "stream",
     "text": [
      "{\"probaIsGoal\":{\"0\":0.0879535764,\"1\":0.1389865209,\"2\":0.1292006972,\"3\":0.06606363,\"4\":0.0996208486},\"predictionIsGoal\":{\"0\":0,\"1\":0,\"2\":0,\"3\":0,\"4\":0}}\n"
     ]
    }
   ],
   "source": [
    "r = requests.post(\n",
    "\t\"http://127.0.0.1:5000/predict\", \n",
    "\tjson=json.loads(df_X.to_json())\n",
    ")\n",
    "print(r.json())"
   ]
  },
  {
   "cell_type": "markdown",
   "id": "1778a0ca",
   "metadata": {},
   "source": [
    "## Test download_registry_model"
   ]
  },
  {
   "cell_type": "code",
   "execution_count": 12,
   "id": "79cc39aa",
   "metadata": {},
   "outputs": [
    {
     "name": "stdout",
     "output_type": "stream",
     "text": [
      "{'new_classifier': 'xgbcv-fold-0'}\n"
     ]
    }
   ],
   "source": [
    "X = {\n",
    "        'workspace' : 'morph-e',\n",
    "        'model': 'xgbcv-fold-0',\n",
    "        'version' : \"1.0.0\"\n",
    "}\n",
    "\n",
    "r = requests.post(\n",
    "\t\"http://127.0.0.1:5000/download_registry_model\", \n",
    "\tjson=X\n",
    ")\n",
    "print(r.json())"
   ]
  },
  {
   "cell_type": "code",
   "execution_count": 134,
   "id": "0155197d",
   "metadata": {},
   "outputs": [
    {
     "data": {
      "text/plain": [
       "19"
      ]
     },
     "execution_count": 134,
     "metadata": {},
     "output_type": "execute_result"
    }
   ],
   "source": [
    "len(df[['gameSeconds', 'totalGameSeconds', 'timeFromLastEvent', 'gamePeriod', 'shotType', 'shotAngle', 'isHome', 'coordinatesX', 'coordinatesY', 'shotDistance', 'lastEventType', 'lastEventCoordinatesX', 'lastEventCoordinatesY', 'distanceFromLastEvent', 'rebound', 'speed', 'changeInShotAngle','shotDistance', 'shotAngle']].columns)"
   ]
  },
  {
   "cell_type": "code",
   "execution_count": 135,
   "id": "04f7b177",
   "metadata": {},
   "outputs": [
    {
     "data": {
      "text/plain": [
       "15"
      ]
     },
     "execution_count": 135,
     "metadata": {},
     "output_type": "execute_result"
    }
   ],
   "source": [
    "len(df[['distanceFromLastEvent', 'coordinatesY', 'shotType', 'gameSeconds', 'totalGameSeconds', 'lastEventType', 'lastEventCoordinatesY', 'timeFromLastEvent', 'speed', 'coordinatesX', 'lastEventCoordinatesX', 'rebound', 'gamePeriod', 'changeInShotAngle', 'isHome']].columns)"
   ]
  },
  {
   "cell_type": "code",
   "execution_count": null,
   "id": "2771d002",
   "metadata": {},
   "outputs": [],
   "source": []
  }
 ],
 "metadata": {
  "kernelspec": {
   "display_name": "ift6758-conda-env",
   "language": "python",
   "name": "ift6758-conda-env"
  },
  "language_info": {
   "codemirror_mode": {
    "name": "ipython",
    "version": 3
   },
   "file_extension": ".py",
   "mimetype": "text/x-python",
   "name": "python",
   "nbconvert_exporter": "python",
   "pygments_lexer": "ipython3",
   "version": "3.9.7"
  }
 },
 "nbformat": 4,
 "nbformat_minor": 5
}
