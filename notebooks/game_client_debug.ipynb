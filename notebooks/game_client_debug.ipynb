{
 "cells": [
  {
   "cell_type": "code",
   "execution_count": 1,
   "metadata": {},
   "outputs": [],
   "source": [
    "%load_ext autoreload\n",
    "%autoreload 2"
   ]
  },
  {
   "cell_type": "code",
   "execution_count": 2,
   "metadata": {},
   "outputs": [],
   "source": [
    "#import comet_ml in the top of your file\n",
    "from comet_ml import Experiment\n",
    "import os\n",
    "import matplotlib.pyplot as plt\n",
    "import joblib\n",
    "from copy import deepcopy\n",
    "import numpy as np\n",
    "from sklearn.feature_selection import RFECV\n",
    "import json\n",
    "from sklearn.model_selection import train_test_split, GridSearchCV\n",
    "from sklearn.preprocessing import StandardScaler\n",
    "from skopt import BayesSearchCV\n",
    "from sklearn import feature_selection\n",
    "from sklearn.metrics import f1_score, precision_score, recall_score, confusion_matrix\n",
    "import xgboost as xgb\n",
    "import pandas as pd\n",
    "from ift6758.features.feature_engineering2 import SeasonDataSetTwo\n",
    "from ift6758.metrics import plot_metrics\n",
    "import random\n",
    "random_state = 42\n",
    "import tempfile\n",
    "import sklearn\n",
    "from ift6758.features.feature_engineering_game import GameData"
   ]
  },
  {
   "cell_type": "code",
   "execution_count": 9,
   "metadata": {},
   "outputs": [],
   "source": [
    "gd= GameData(gameId=2017021065)"
   ]
  },
  {
   "cell_type": "code",
   "execution_count": 10,
   "metadata": {},
   "outputs": [],
   "source": [
    "pd.set_option('display.max_columns',None)"
   ]
  },
  {
   "cell_type": "code",
   "execution_count": 11,
   "metadata": {},
   "outputs": [
    {
     "name": "stderr",
     "output_type": "stream",
     "text": [
      "C:\\Users\\saiak\\.conda\\envs\\ift6758-conda-env\\lib\\site-packages\\pandas\\core\\indexing.py:1667: SettingWithCopyWarning: \n",
      "A value is trying to be set on a copy of a slice from a DataFrame.\n",
      "Try using .loc[row_indexer,col_indexer] = value instead\n",
      "\n",
      "See the caveats in the documentation: https://pandas.pydata.org/pandas-docs/stable/user_guide/indexing.html#returning-a-view-versus-a-copy\n",
      "  self.obj[key] = value\n",
      "C:\\Users\\saiak\\.conda\\envs\\ift6758-conda-env\\lib\\site-packages\\pandas\\core\\indexing.py:1773: SettingWithCopyWarning: \n",
      "A value is trying to be set on a copy of a slice from a DataFrame.\n",
      "Try using .loc[row_indexer,col_indexer] = value instead\n",
      "\n",
      "See the caveats in the documentation: https://pandas.pydata.org/pandas-docs/stable/user_guide/indexing.html#returning-a-view-versus-a-copy\n",
      "  self._setitem_single_column(ilocs[0], value, pi)\n"
     ]
    },
    {
     "data": {
      "text/plain": [
       "(    eventId      gamePk            team.name  gamePeriod  coordinatesX  \\\n",
       " 0        11  2017021065  Washington Capitals           1         -50.0   \n",
       " 1        12  2017021065  Washington Capitals           1         -85.0   \n",
       " 2        16  2017021065        Winnipeg Jets           1          73.0   \n",
       " 3        20  2017021065  Washington Capitals           1         -29.0   \n",
       " 4        21  2017021065        Winnipeg Jets           1          23.0   \n",
       " ..      ...         ...                  ...         ...           ...   \n",
       " 66      355  2017021065  Washington Capitals           4          71.0   \n",
       " 67      356  2017021065  Washington Capitals           4          58.0   \n",
       " 68      358  2017021065  Washington Capitals           4          60.0   \n",
       " 69      364  2017021065  Washington Capitals           4          74.0   \n",
       " 70      367  2017021065  Washington Capitals           4          74.0   \n",
       " \n",
       "     coordinatesY    shotType emptyNet isHome  gameSeconds  totalGameSeconds  \\\n",
       " 0           36.0   Snap Shot        0   True        111.0             111.0   \n",
       " 1          -25.0  Wrist Shot        0   True        115.0             115.0   \n",
       " 2          -16.0    Backhand        0  False        124.0             124.0   \n",
       " 3           -6.0   Slap Shot        0   True        151.0             151.0   \n",
       " 4          -34.0  Wrist Shot        0  False        159.0             159.0   \n",
       " ..           ...         ...      ...    ...          ...               ...   \n",
       " 66          -8.0   Snap Shot        0   True         95.0            3695.0   \n",
       " 67          10.0   Slap Shot        0   True        106.0            3706.0   \n",
       " 68          23.0   Slap Shot        0   True        134.0            3734.0   \n",
       " 69           1.0  Wrist Shot        0   True        207.0            3807.0   \n",
       " 70           1.0  Wrist Shot    False   True        251.0            3851.0   \n",
       " \n",
       "     shotDistance  shotAngle  isGoal lastEventType  lastEventCoordinatesX  \\\n",
       " 0      53.075418  42.709390       0           Hit                   72.0   \n",
       " 1      25.317978 -80.909723       0          Shot                  -50.0   \n",
       " 2      22.627417  45.000000       0      Takeaway                  -39.0   \n",
       " 3      60.299254  -5.710593       0           Hit                   10.0   \n",
       " 4      74.242845  27.255328       0          Shot                  -29.0   \n",
       " ..           ...        ...     ...           ...                    ...   \n",
       " 66     19.697716  23.962489       0          Shot                   76.0   \n",
       " 67     32.572995 -17.878697       0          Shot                   71.0   \n",
       " 68     37.013511 -38.418055       0           Hit                  -61.0   \n",
       " 69     15.033296  -3.814075       0           Hit                   57.0   \n",
       " 70     15.033296  -3.814075       1       Faceoff                   69.0   \n",
       " \n",
       "     lastEventCoordinatesY  timeFromLastEvent  distanceFromLastEvent  rebound  \\\n",
       " 0                    37.0               11.0             122.004098    False   \n",
       " 1                    36.0                4.0              70.327804     True   \n",
       " 2                   -28.0                1.0             112.641023    False   \n",
       " 3                    38.0                5.0              58.796258    False   \n",
       " 4                    -6.0                8.0              59.059292     True   \n",
       " ..                    ...                ...                    ...      ...   \n",
       " 66                   -5.0                7.0               5.830952     True   \n",
       " 67                   -8.0               11.0              22.203603     True   \n",
       " 68                  -32.0               14.0             132.913506    False   \n",
       " 69                  -12.0                2.0              21.400935    False   \n",
       " 70                   22.0               43.0              21.587033    False   \n",
       " \n",
       "          speed  changeInShotAngle  angleSpeed  \n",
       " 0    11.091282           0.000000    0.000000  \n",
       " 1    17.581951         123.619113   30.904778  \n",
       " 2   112.641023           0.000000    0.000000  \n",
       " 3    11.759252           0.000000    0.000000  \n",
       " 4     7.382412          32.965922    4.120740  \n",
       " ..         ...                ...         ...  \n",
       " 66    0.832993           2.924978    0.417854  \n",
       " 67    2.018509          41.841186    3.803744  \n",
       " 68    9.493822           0.000000    0.000000  \n",
       " 69   10.700467           0.000000    0.000000  \n",
       " 70    0.502024           0.000000    0.000000  \n",
       " \n",
       " [71 rows x 23 columns],\n",
       " 370)"
      ]
     },
     "execution_count": 11,
     "metadata": {},
     "output_type": "execute_result"
    }
   ],
   "source": [
    "gd.get_features_2()"
   ]
  },
  {
   "cell_type": "code",
   "execution_count": 16,
   "metadata": {},
   "outputs": [],
   "source": [
    "from ift6758.ift6758.client.game_client import GameClient"
   ]
  },
  {
   "cell_type": "code",
   "execution_count": 21,
   "metadata": {},
   "outputs": [
    {
     "name": "stderr",
     "output_type": "stream",
     "text": [
      "C:\\Users\\saiak\\.conda\\envs\\ift6758-conda-env\\lib\\site-packages\\pandas\\core\\indexing.py:1667: SettingWithCopyWarning: \n",
      "A value is trying to be set on a copy of a slice from a DataFrame.\n",
      "Try using .loc[row_indexer,col_indexer] = value instead\n",
      "\n",
      "See the caveats in the documentation: https://pandas.pydata.org/pandas-docs/stable/user_guide/indexing.html#returning-a-view-versus-a-copy\n",
      "  self.obj[key] = value\n",
      "C:\\Users\\saiak\\.conda\\envs\\ift6758-conda-env\\lib\\site-packages\\pandas\\core\\indexing.py:1773: SettingWithCopyWarning: \n",
      "A value is trying to be set on a copy of a slice from a DataFrame.\n",
      "Try using .loc[row_indexer,col_indexer] = value instead\n",
      "\n",
      "See the caveats in the documentation: https://pandas.pydata.org/pandas-docs/stable/user_guide/indexing.html#returning-a-view-versus-a-copy\n",
      "  self._setitem_single_column(ilocs[0], value, pi)\n"
     ]
    },
    {
     "data": {
      "text/plain": [
       "(    eventId      gamePk            team.name  gamePeriod  coordinatesX  \\\n",
       " 66      355  2017021065  Washington Capitals           4          71.0   \n",
       " 67      356  2017021065  Washington Capitals           4          58.0   \n",
       " 68      358  2017021065  Washington Capitals           4          60.0   \n",
       " 69      364  2017021065  Washington Capitals           4          74.0   \n",
       " 70      367  2017021065  Washington Capitals           4          74.0   \n",
       " \n",
       "     coordinatesY    shotType emptyNet isHome  gameSeconds  totalGameSeconds  \\\n",
       " 66          -8.0   Snap Shot        0   True         95.0            3695.0   \n",
       " 67          10.0   Slap Shot        0   True        106.0            3706.0   \n",
       " 68          23.0   Slap Shot        0   True        134.0            3734.0   \n",
       " 69           1.0  Wrist Shot        0   True        207.0            3807.0   \n",
       " 70           1.0  Wrist Shot    False   True        251.0            3851.0   \n",
       " \n",
       "     shotDistance  shotAngle  isGoal lastEventType  lastEventCoordinatesX  \\\n",
       " 66     19.697716  23.962489       0          Shot                   76.0   \n",
       " 67     32.572995 -17.878697       0          Shot                   71.0   \n",
       " 68     37.013511 -38.418055       0           Hit                  -61.0   \n",
       " 69     15.033296  -3.814075       0           Hit                   57.0   \n",
       " 70     15.033296  -3.814075       1       Faceoff                   69.0   \n",
       " \n",
       "     lastEventCoordinatesY  timeFromLastEvent  distanceFromLastEvent  rebound  \\\n",
       " 66                   -5.0                7.0               5.830952     True   \n",
       " 67                   -8.0               11.0              22.203603     True   \n",
       " 68                  -32.0               14.0             132.913506    False   \n",
       " 69                  -12.0                2.0              21.400935    False   \n",
       " 70                   22.0               43.0              21.587033    False   \n",
       " \n",
       "         speed  changeInShotAngle  angleSpeed  \n",
       " 66   0.832993           2.924978    0.417854  \n",
       " 67   2.018509          41.841186    3.803744  \n",
       " 68   9.493822           0.000000    0.000000  \n",
       " 69  10.700467           0.000000    0.000000  \n",
       " 70   0.502024           0.000000    0.000000  ,\n",
       " 371)"
      ]
     },
     "execution_count": 21,
     "metadata": {},
     "output_type": "execute_result"
    }
   ],
   "source": [
    "gc = GameClient()\n",
    "gc.ping_game(2017021065,non_processed_event=355)"
   ]
  },
  {
   "cell_type": "code",
   "execution_count": null,
   "metadata": {},
   "outputs": [],
   "source": []
  }
 ],
 "metadata": {
  "interpreter": {
   "hash": "fe0e4489f2919cda2ef5940e6c22f887a5b71570af9d1a74ba05de65e7f388ec"
  },
  "kernelspec": {
   "display_name": "Python 3.9.7 64-bit ('ift6758-conda-env': conda)",
   "language": "python",
   "name": "python3"
  },
  "language_info": {
   "codemirror_mode": {
    "name": "ipython",
    "version": 3
   },
   "file_extension": ".py",
   "mimetype": "text/x-python",
   "name": "python",
   "nbconvert_exporter": "python",
   "pygments_lexer": "ipython3",
   "version": "3.9.7"
  },
  "orig_nbformat": 4
 },
 "nbformat": 4,
 "nbformat_minor": 2
}
