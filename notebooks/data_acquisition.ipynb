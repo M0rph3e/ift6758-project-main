{
 "cells": [
  {
   "cell_type": "markdown",
   "source": [
    "# Notebook for data acquisition functions\n"
   ],
   "metadata": {}
  },
  {
   "cell_type": "markdown",
   "source": [
    "#### The first fctn take he target year and a filepath as argument to download the data from a specific season and put it in a certain path"
   ],
   "metadata": {}
  },
  {
   "cell_type": "code",
   "execution_count": 1,
   "source": [
    "%load_ext autoreload\r\n",
    "%autoreload 2"
   ],
   "outputs": [],
   "metadata": {}
  },
  {
   "cell_type": "code",
   "execution_count": 2,
   "source": [
    "#Imports\r\n",
    "import pandas as pd\r\n",
    "import requests\r\n",
    "import os\r\n",
    "from tqdm.notebook import tqdm\r\n",
    "import pickle\r\n",
    "import sys"
   ],
   "outputs": [],
   "metadata": {}
  },
  {
   "cell_type": "code",
   "execution_count": 13,
   "source": [
    "\r\n",
    "def get_season_data(year, file_path):\r\n",
    "    \"\"\"\r\n",
    "    Get the data from the Hockey API in Pickle format for a specific season (year-year+1) and store them to a given file_path. Pickle contains list[dicts of all games in the season]\r\n",
    "\r\n",
    "    :param year: year of the season (example 2017 will download Season 2017-2018)\r\n",
    "    :type year: int\r\n",
    "    :param file_path: Directory where the pickle file for entire season is stored are going to be saved\r\n",
    "    :type file_path: str\r\n",
    "\r\n",
    "    :rtype: list, list[dict]\r\n",
    "    :return: list[ dicts of all games in the season],\r\n",
    "\r\n",
    "    \"\"\"\r\n",
    "    YEAR = year\r\n",
    "    DIRECTORY  = f\"{file_path}/PICKLE/\"\r\n",
    "    PATH = f\"{DIRECTORY}/{YEAR}.pkl\"\r\n",
    "    MAX_GAMES=1300\r\n",
    "    os.makedirs(DIRECTORY, exist_ok=True)\r\n",
    "    season_types = [\"01\", \"02\", \"03\", \"04\"]\r\n",
    "    games_list = []\r\n",
    "    if os.path.isfile(PATH):\r\n",
    "        with open(PATH, 'rb') as f:\r\n",
    "            games_list = pickle.load(f)\r\n",
    "\r\n",
    "    else:\r\n",
    "        for season_type in season_types:\r\n",
    "            for g in tqdm(range(1,MAX_GAMES)):\r\n",
    "                game_number = str(g).zfill(4)\r\n",
    "                GAME_ID = f\"{YEAR}{season_type}{game_number}\"\r\n",
    "                r = requests.get(f\"https://statsapi.web.nhl.com/api/v1/game/{GAME_ID}/feed/live/\")\r\n",
    "                if r.status_code == 200:\r\n",
    "                    ## Storing as dicts\r\n",
    "                    game_dict = r.json()\r\n",
    "                    games_list.append(game_dict)\r\n",
    "        with open(PATH,'wb') as f:\r\n",
    "            pickle.dump(games_list,f)\r\n",
    "    # print(f\"Len of games_list in {year} is {len(games_list)}\")\r\n",
    "\r\n",
    "    return games_list\r\n",
    "                    \r\n",
    "                    \r\n",
    "                    # with open(PATH, 'wb') as f:\r\n",
    "                    #     f.write(r.content)  \r\n",
    "            #else:\r\n",
    "               # print(\"File already exists\")"
   ],
   "outputs": [],
   "metadata": {}
  },
  {
   "cell_type": "code",
   "execution_count": 14,
   "source": [
    "season2016=get_season_data(2016, \"../ift6758/data/\")\r\n",
    "season2017=get_season_data(2017, \"../ift6758/data/\")\r\n",
    "season2018=get_season_data(2018, \"../ift6758/data/\")\r\n",
    "season2019=get_season_data(2019, \"../ift6758/data/\")\r\n",
    "season2020=get_season_data(2020, \"../ift6758/data/\")\r\n"
   ],
   "outputs": [],
   "metadata": {}
  },
  {
   "cell_type": "code",
   "execution_count": null,
   "source": [],
   "outputs": [],
   "metadata": {}
  },
  {
   "cell_type": "code",
   "execution_count": 15,
   "source": [
    "from ift6758.data.data_acquisition import Season\r\n",
    "Season2016=Season(2016,\"../ift6758/data/\")\r\n",
    "print(season2016 == Season2016.data) #Verifying if we are loading same data"
   ],
   "outputs": [
    {
     "output_type": "stream",
     "name": "stdout",
     "text": [
      "Len of games_list in 2016 is 1441\n",
      "True\n"
     ]
    }
   ],
   "metadata": {}
  },
  {
   "cell_type": "code",
   "execution_count": 16,
   "source": [
    "a=Season2016+Season2016"
   ],
   "outputs": [],
   "metadata": {}
  },
  {
   "cell_type": "code",
   "execution_count": 17,
   "source": [
    "len(a)"
   ],
   "outputs": [
    {
     "output_type": "execute_result",
     "data": {
      "text/plain": [
       "2882"
      ]
     },
     "metadata": {},
     "execution_count": 17
    }
   ],
   "metadata": {}
  },
  {
   "cell_type": "markdown",
   "source": [
    "## From the api documentation the max of matches per season is less than 1300. For security, we put 1300 to check all the ids where we can find a match on the data. We could have put a break after we have a 404 answer from the request (for efficency). But we assumed that the data might miss some game ids. And we download them just once. So no need for time efficiency for now"
   ],
   "metadata": {}
  },
  {
   "cell_type": "markdown",
   "source": [],
   "metadata": {}
  }
 ],
 "metadata": {
  "kernelspec": {
   "name": "python3",
   "display_name": "Python 3.9.7 64-bit ('ift6758-conda-env': conda)"
  },
  "language_info": {
   "codemirror_mode": {
    "name": "ipython",
    "version": 3
   },
   "file_extension": ".py",
   "mimetype": "text/x-python",
   "name": "python",
   "nbconvert_exporter": "python",
   "pygments_lexer": "ipython3",
   "version": "3.9.7"
  },
  "interpreter": {
   "hash": "fe0e4489f2919cda2ef5940e6c22f887a5b71570af9d1a74ba05de65e7f388ec"
  }
 },
 "nbformat": 4,
 "nbformat_minor": 5
}