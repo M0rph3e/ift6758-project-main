{
 "cells": [
  {
   "cell_type": "markdown",
   "id": "d0694191-2f1a-4cc1-9acd-89372a9fa7c9",
   "metadata": {},
   "source": [
    "# Notebook for data acquisition functions\n"
   ]
  },
  {
   "cell_type": "markdown",
   "id": "7049099b-819a-452d-9372-a09ec148ce3e",
   "metadata": {},
   "source": [
    "#### The first fctn take he target year and a filepath as argument to download the data from a specific season and put it in a certain path"
   ]
  },
  {
   "cell_type": "code",
   "execution_count": 10,
   "id": "6992c2c7-7ec3-4172-8895-f21ef1ce62ca",
   "metadata": {},
   "outputs": [],
   "source": [
    "import pandas as pd\n",
    "import requests\n",
    "\n",
    "#def get_season_data(year, filepath):\n",
    "    "
   ]
  },
  {
   "cell_type": "code",
   "execution_count": 18,
   "id": "814b7723-bdfb-4dac-8abf-00db0bbdc450",
   "metadata": {},
   "outputs": [],
   "source": [
    "GAME_ID = 2017020608\n",
    "PATH = '../ift6758/data'\n",
    "r = requests.get(f\"https://statsapi.web.nhl.com/api/v1/game/{GAME_ID}/feed/live/\")\n",
    "#r.json()\n",
    "with open(\"../ift6758/data/test.json\", 'wb') as f:\n",
    "    f.write(r.content)"
   ]
  },
  {
   "cell_type": "code",
   "execution_count": null,
   "id": "4c562a52-d6e2-4636-bf00-fd2e95ed947a",
   "metadata": {},
   "outputs": [],
   "source": []
  }
 ],
 "metadata": {
  "kernelspec": {
   "display_name": "ift6758-conda-env",
   "language": "python",
   "name": "ift6758-conda-env"
  },
  "language_info": {
   "codemirror_mode": {
    "name": "ipython",
    "version": 3
   },
   "file_extension": ".py",
   "mimetype": "text/x-python",
   "name": "python",
   "nbconvert_exporter": "python",
   "pygments_lexer": "ipython3",
   "version": "3.9.7"
  }
 },
 "nbformat": 4,
 "nbformat_minor": 5
}
