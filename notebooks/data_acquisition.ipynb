{
 "cells": [
  {
   "cell_type": "markdown",
   "id": "d0694191-2f1a-4cc1-9acd-89372a9fa7c9",
   "metadata": {},
   "source": [
    "## Notebook for data acquisition functions\n"
   ]
  },
  {
   "cell_type": "code",
   "execution_count": null,
   "id": "b3140ca2-c902-4efb-806d-d694bb864e84",
   "metadata": {},
   "outputs": [],
   "source": []
  }
 ],
 "metadata": {
  "kernelspec": {
   "display_name": "ift6758-conda-env",
   "language": "python",
   "name": "ift6758-conda-env"
  },
  "language_info": {
   "codemirror_mode": {
    "name": "ipython",
    "version": 3
   },
   "file_extension": ".py",
   "mimetype": "text/x-python",
   "name": "python",
   "nbconvert_exporter": "python",
   "pygments_lexer": "ipython3",
   "version": "3.9.7"
  }
 },
 "nbformat": 4,
 "nbformat_minor": 5
}
