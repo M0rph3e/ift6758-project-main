{
 "cells": [
  {
   "cell_type": "markdown",
   "metadata": {},
   "source": [
    "## Base Model Q3"
   ]
  },
  {
   "cell_type": "code",
   "execution_count": 3,
   "metadata": {},
   "outputs": [],
   "source": [
    "%load_ext autoreload\n",
    "%autoreload 2"
   ]
  },
  {
   "cell_type": "code",
   "execution_count": 15,
   "metadata": {},
   "outputs": [],
   "source": [
    "from ift6758.features.feature_engineering1 import SeasonDataSet\n",
    "from sklearn.linear_model import LogisticRegression\n",
    "import numpy as np\n",
    "import os\n",
    "import random\n",
    "\n"
   ]
  },
  {
   "cell_type": "code",
   "execution_count": 16,
   "metadata": {},
   "outputs": [],
   "source": [
    "def seed_everything(seed_value):\n",
    "    random.seed(seed_value)\n",
    "    np.random.seed(seed_value)\n",
    "    os.environ['PYTHONHASHSEED'] = str(seed_value)\n",
    "    \n",
    "seed = 42\n",
    "seed_everything(seed)"
   ]
  },
  {
   "cell_type": "code",
   "execution_count": 17,
   "metadata": {},
   "outputs": [],
   "source": [
    "train_years = [2015,2016,2017]\n",
    "val_years = [2018]\n",
    "test_years=[2019]\n"
   ]
  },
  {
   "cell_type": "code",
   "execution_count": null,
   "metadata": {},
   "outputs": [],
   "source": []
  },
  {
   "cell_type": "code",
   "execution_count": 18,
   "metadata": {},
   "outputs": [
    {
     "name": "stdout",
     "output_type": "stream",
     "text": [
      "File already Exists, loading from ../ift6758/data/PICKLE//2015_clean.pkl\n",
      "File already Exists, loading from ../ift6758/data/PICKLE//2015_period_info.pkl\n",
      "File already Exists, loading from ../ift6758/data/PICKLE//2016_clean.pkl\n",
      "File already Exists, loading from ../ift6758/data/PICKLE//2016_period_info.pkl\n",
      "File already Exists, loading from ../ift6758/data/PICKLE//2017_clean.pkl\n",
      "File already Exists, loading from ../ift6758/data/PICKLE//2017_period_info.pkl\n"
     ]
    }
   ],
   "source": [
    "train_dataset = SeasonDataSet(train_years)\n",
    "train_df = train_dataset.get_tidy_data()"
   ]
  },
  {
   "cell_type": "code",
   "execution_count": 19,
   "metadata": {},
   "outputs": [
    {
     "name": "stdout",
     "output_type": "stream",
     "text": [
      "File already Exists, loading from ../ift6758/data/PICKLE//2018_clean.pkl\n",
      "File already Exists, loading from ../ift6758/data/PICKLE//2018_period_info.pkl\n"
     ]
    }
   ],
   "source": [
    "val_dataset = SeasonDataSet(val_years)\n",
    "val_df = val_dataset.get_tidy_data()"
   ]
  },
  {
   "cell_type": "code",
   "execution_count": 20,
   "metadata": {},
   "outputs": [],
   "source": [
    "features = [\"distanceNet\",\"angleNet\"]\n",
    "label_column = \"isGoal\""
   ]
  },
  {
   "cell_type": "code",
   "execution_count": 21,
   "metadata": {},
   "outputs": [
    {
     "data": {
      "text/plain": [
       "result.event                      0\n",
       "gamePk                            0\n",
       "team.name                         0\n",
       "about.period                      0\n",
       "about.periodTime                  0\n",
       "about.periodType                  0\n",
       "about.periodTimeRemaining         0\n",
       "coordinates.x                     0\n",
       "coordinates.y                     0\n",
       "result.secondaryType             27\n",
       "result.emptyNet                   0\n",
       "result.strength.name         223950\n",
       "shooter                           0\n",
       "goalie                         1096\n",
       "goalCoordinates                   0\n",
       "isGoal                            0\n",
       "distanceNet                       0\n",
       "angleNet                          0\n",
       "dtype: int64"
      ]
     },
     "execution_count": 21,
     "metadata": {},
     "output_type": "execute_result"
    }
   ],
   "source": [
    "train_df.isnull().sum() ##No nulls in our features"
   ]
  },
  {
   "cell_type": "code",
   "execution_count": 22,
   "metadata": {},
   "outputs": [
    {
     "data": {
      "text/html": [
       "<div>\n",
       "<style scoped>\n",
       "    .dataframe tbody tr th:only-of-type {\n",
       "        vertical-align: middle;\n",
       "    }\n",
       "\n",
       "    .dataframe tbody tr th {\n",
       "        vertical-align: top;\n",
       "    }\n",
       "\n",
       "    .dataframe thead th {\n",
       "        text-align: right;\n",
       "    }\n",
       "</style>\n",
       "<table border=\"1\" class=\"dataframe\">\n",
       "  <thead>\n",
       "    <tr style=\"text-align: right;\">\n",
       "      <th></th>\n",
       "      <th>result.event</th>\n",
       "      <th>gamePk</th>\n",
       "      <th>team.name</th>\n",
       "      <th>about.period</th>\n",
       "      <th>about.periodTime</th>\n",
       "      <th>about.periodType</th>\n",
       "      <th>about.periodTimeRemaining</th>\n",
       "      <th>coordinates.x</th>\n",
       "      <th>coordinates.y</th>\n",
       "      <th>result.secondaryType</th>\n",
       "      <th>result.emptyNet</th>\n",
       "      <th>result.strength.name</th>\n",
       "      <th>shooter</th>\n",
       "      <th>goalie</th>\n",
       "      <th>goalCoordinates</th>\n",
       "      <th>isGoal</th>\n",
       "      <th>distanceNet</th>\n",
       "      <th>angleNet</th>\n",
       "    </tr>\n",
       "  </thead>\n",
       "  <tbody>\n",
       "    <tr>\n",
       "      <th>0</th>\n",
       "      <td>Shot</td>\n",
       "      <td>2015020001</td>\n",
       "      <td>Toronto Maple Leafs</td>\n",
       "      <td>1</td>\n",
       "      <td>00:51</td>\n",
       "      <td>REGULAR</td>\n",
       "      <td>19:09</td>\n",
       "      <td>-55.0</td>\n",
       "      <td>6.0</td>\n",
       "      <td>Wrist Shot</td>\n",
       "      <td>0</td>\n",
       "      <td>NaN</td>\n",
       "      <td>Brad Boyes</td>\n",
       "      <td>Carey Price</td>\n",
       "      <td>(-89, 0)</td>\n",
       "      <td>0</td>\n",
       "      <td>34.525353</td>\n",
       "      <td>0.174672</td>\n",
       "    </tr>\n",
       "    <tr>\n",
       "      <th>1</th>\n",
       "      <td>Shot</td>\n",
       "      <td>2015020001</td>\n",
       "      <td>Toronto Maple Leafs</td>\n",
       "      <td>1</td>\n",
       "      <td>01:05</td>\n",
       "      <td>REGULAR</td>\n",
       "      <td>18:55</td>\n",
       "      <td>-79.0</td>\n",
       "      <td>0.0</td>\n",
       "      <td>Snap Shot</td>\n",
       "      <td>0</td>\n",
       "      <td>NaN</td>\n",
       "      <td>Nazem Kadri</td>\n",
       "      <td>Carey Price</td>\n",
       "      <td>(-89, 0)</td>\n",
       "      <td>0</td>\n",
       "      <td>10.000000</td>\n",
       "      <td>0.000000</td>\n",
       "    </tr>\n",
       "    <tr>\n",
       "      <th>2</th>\n",
       "      <td>Shot</td>\n",
       "      <td>2015020001</td>\n",
       "      <td>Toronto Maple Leafs</td>\n",
       "      <td>1</td>\n",
       "      <td>01:06</td>\n",
       "      <td>REGULAR</td>\n",
       "      <td>18:54</td>\n",
       "      <td>-75.0</td>\n",
       "      <td>-1.0</td>\n",
       "      <td>Snap Shot</td>\n",
       "      <td>0</td>\n",
       "      <td>NaN</td>\n",
       "      <td>Nazem Kadri</td>\n",
       "      <td>Carey Price</td>\n",
       "      <td>(-89, 0)</td>\n",
       "      <td>0</td>\n",
       "      <td>14.035669</td>\n",
       "      <td>-0.071307</td>\n",
       "    </tr>\n",
       "    <tr>\n",
       "      <th>3</th>\n",
       "      <td>Shot</td>\n",
       "      <td>2015020001</td>\n",
       "      <td>Toronto Maple Leafs</td>\n",
       "      <td>1</td>\n",
       "      <td>01:53</td>\n",
       "      <td>REGULAR</td>\n",
       "      <td>18:07</td>\n",
       "      <td>-55.0</td>\n",
       "      <td>-36.0</td>\n",
       "      <td>Wrist Shot</td>\n",
       "      <td>0</td>\n",
       "      <td>NaN</td>\n",
       "      <td>Daniel Winnik</td>\n",
       "      <td>Carey Price</td>\n",
       "      <td>(-89, 0)</td>\n",
       "      <td>0</td>\n",
       "      <td>49.517674</td>\n",
       "      <td>-0.813962</td>\n",
       "    </tr>\n",
       "    <tr>\n",
       "      <th>4</th>\n",
       "      <td>Shot</td>\n",
       "      <td>2015020001</td>\n",
       "      <td>Toronto Maple Leafs</td>\n",
       "      <td>1</td>\n",
       "      <td>02:37</td>\n",
       "      <td>REGULAR</td>\n",
       "      <td>17:23</td>\n",
       "      <td>-61.0</td>\n",
       "      <td>-1.0</td>\n",
       "      <td>Tip-In</td>\n",
       "      <td>0</td>\n",
       "      <td>NaN</td>\n",
       "      <td>Joffrey Lupul</td>\n",
       "      <td>Carey Price</td>\n",
       "      <td>(-89, 0)</td>\n",
       "      <td>0</td>\n",
       "      <td>28.017851</td>\n",
       "      <td>-0.035699</td>\n",
       "    </tr>\n",
       "    <tr>\n",
       "      <th>...</th>\n",
       "      <td>...</td>\n",
       "      <td>...</td>\n",
       "      <td>...</td>\n",
       "      <td>...</td>\n",
       "      <td>...</td>\n",
       "      <td>...</td>\n",
       "      <td>...</td>\n",
       "      <td>...</td>\n",
       "      <td>...</td>\n",
       "      <td>...</td>\n",
       "      <td>...</td>\n",
       "      <td>...</td>\n",
       "      <td>...</td>\n",
       "      <td>...</td>\n",
       "      <td>...</td>\n",
       "      <td>...</td>\n",
       "      <td>...</td>\n",
       "      <td>...</td>\n",
       "    </tr>\n",
       "    <tr>\n",
       "      <th>246798</th>\n",
       "      <td>Shot</td>\n",
       "      <td>2017030415</td>\n",
       "      <td>Vegas Golden Knights</td>\n",
       "      <td>3</td>\n",
       "      <td>16:01</td>\n",
       "      <td>REGULAR</td>\n",
       "      <td>03:59</td>\n",
       "      <td>-33.0</td>\n",
       "      <td>-25.0</td>\n",
       "      <td>Wrist Shot</td>\n",
       "      <td>0</td>\n",
       "      <td>NaN</td>\n",
       "      <td>Colin Miller</td>\n",
       "      <td>Braden Holtby</td>\n",
       "      <td>(89, 0)</td>\n",
       "      <td>0</td>\n",
       "      <td>124.535136</td>\n",
       "      <td>0.202120</td>\n",
       "    </tr>\n",
       "    <tr>\n",
       "      <th>246799</th>\n",
       "      <td>Shot</td>\n",
       "      <td>2017030415</td>\n",
       "      <td>Vegas Golden Knights</td>\n",
       "      <td>3</td>\n",
       "      <td>16:06</td>\n",
       "      <td>REGULAR</td>\n",
       "      <td>03:54</td>\n",
       "      <td>-35.0</td>\n",
       "      <td>-29.0</td>\n",
       "      <td>Slap Shot</td>\n",
       "      <td>0</td>\n",
       "      <td>NaN</td>\n",
       "      <td>Colin Miller</td>\n",
       "      <td>Braden Holtby</td>\n",
       "      <td>(89, 0)</td>\n",
       "      <td>0</td>\n",
       "      <td>127.345985</td>\n",
       "      <td>0.229742</td>\n",
       "    </tr>\n",
       "    <tr>\n",
       "      <th>246800</th>\n",
       "      <td>Shot</td>\n",
       "      <td>2017030415</td>\n",
       "      <td>Vegas Golden Knights</td>\n",
       "      <td>3</td>\n",
       "      <td>16:08</td>\n",
       "      <td>REGULAR</td>\n",
       "      <td>03:52</td>\n",
       "      <td>-82.0</td>\n",
       "      <td>-3.0</td>\n",
       "      <td>Wrist Shot</td>\n",
       "      <td>0</td>\n",
       "      <td>NaN</td>\n",
       "      <td>Alex Tuch</td>\n",
       "      <td>Braden Holtby</td>\n",
       "      <td>(89, 0)</td>\n",
       "      <td>0</td>\n",
       "      <td>171.026314</td>\n",
       "      <td>0.017542</td>\n",
       "    </tr>\n",
       "    <tr>\n",
       "      <th>246801</th>\n",
       "      <td>Shot</td>\n",
       "      <td>2017030415</td>\n",
       "      <td>Vegas Golden Knights</td>\n",
       "      <td>3</td>\n",
       "      <td>16:09</td>\n",
       "      <td>REGULAR</td>\n",
       "      <td>03:51</td>\n",
       "      <td>-83.0</td>\n",
       "      <td>-4.0</td>\n",
       "      <td>Wrist Shot</td>\n",
       "      <td>0</td>\n",
       "      <td>NaN</td>\n",
       "      <td>Alex Tuch</td>\n",
       "      <td>Braden Holtby</td>\n",
       "      <td>(89, 0)</td>\n",
       "      <td>0</td>\n",
       "      <td>172.046505</td>\n",
       "      <td>0.023252</td>\n",
       "    </tr>\n",
       "    <tr>\n",
       "      <th>246802</th>\n",
       "      <td>Shot</td>\n",
       "      <td>2017030415</td>\n",
       "      <td>Vegas Golden Knights</td>\n",
       "      <td>3</td>\n",
       "      <td>17:56</td>\n",
       "      <td>REGULAR</td>\n",
       "      <td>02:04</td>\n",
       "      <td>-54.0</td>\n",
       "      <td>33.0</td>\n",
       "      <td>Wrist Shot</td>\n",
       "      <td>0</td>\n",
       "      <td>NaN</td>\n",
       "      <td>James Neal</td>\n",
       "      <td>Braden Holtby</td>\n",
       "      <td>(89, 0)</td>\n",
       "      <td>0</td>\n",
       "      <td>146.758305</td>\n",
       "      <td>-0.226799</td>\n",
       "    </tr>\n",
       "  </tbody>\n",
       "</table>\n",
       "<p>246787 rows × 18 columns</p>\n",
       "</div>"
      ],
      "text/plain": [
       "       result.event      gamePk             team.name  about.period  \\\n",
       "0              Shot  2015020001   Toronto Maple Leafs             1   \n",
       "1              Shot  2015020001   Toronto Maple Leafs             1   \n",
       "2              Shot  2015020001   Toronto Maple Leafs             1   \n",
       "3              Shot  2015020001   Toronto Maple Leafs             1   \n",
       "4              Shot  2015020001   Toronto Maple Leafs             1   \n",
       "...             ...         ...                   ...           ...   \n",
       "246798         Shot  2017030415  Vegas Golden Knights             3   \n",
       "246799         Shot  2017030415  Vegas Golden Knights             3   \n",
       "246800         Shot  2017030415  Vegas Golden Knights             3   \n",
       "246801         Shot  2017030415  Vegas Golden Knights             3   \n",
       "246802         Shot  2017030415  Vegas Golden Knights             3   \n",
       "\n",
       "       about.periodTime about.periodType about.periodTimeRemaining  \\\n",
       "0                 00:51          REGULAR                     19:09   \n",
       "1                 01:05          REGULAR                     18:55   \n",
       "2                 01:06          REGULAR                     18:54   \n",
       "3                 01:53          REGULAR                     18:07   \n",
       "4                 02:37          REGULAR                     17:23   \n",
       "...                 ...              ...                       ...   \n",
       "246798            16:01          REGULAR                     03:59   \n",
       "246799            16:06          REGULAR                     03:54   \n",
       "246800            16:08          REGULAR                     03:52   \n",
       "246801            16:09          REGULAR                     03:51   \n",
       "246802            17:56          REGULAR                     02:04   \n",
       "\n",
       "        coordinates.x  coordinates.y result.secondaryType result.emptyNet  \\\n",
       "0               -55.0            6.0           Wrist Shot               0   \n",
       "1               -79.0            0.0            Snap Shot               0   \n",
       "2               -75.0           -1.0            Snap Shot               0   \n",
       "3               -55.0          -36.0           Wrist Shot               0   \n",
       "4               -61.0           -1.0               Tip-In               0   \n",
       "...               ...            ...                  ...             ...   \n",
       "246798          -33.0          -25.0           Wrist Shot               0   \n",
       "246799          -35.0          -29.0            Slap Shot               0   \n",
       "246800          -82.0           -3.0           Wrist Shot               0   \n",
       "246801          -83.0           -4.0           Wrist Shot               0   \n",
       "246802          -54.0           33.0           Wrist Shot               0   \n",
       "\n",
       "       result.strength.name        shooter         goalie goalCoordinates  \\\n",
       "0                       NaN     Brad Boyes    Carey Price        (-89, 0)   \n",
       "1                       NaN    Nazem Kadri    Carey Price        (-89, 0)   \n",
       "2                       NaN    Nazem Kadri    Carey Price        (-89, 0)   \n",
       "3                       NaN  Daniel Winnik    Carey Price        (-89, 0)   \n",
       "4                       NaN  Joffrey Lupul    Carey Price        (-89, 0)   \n",
       "...                     ...            ...            ...             ...   \n",
       "246798                  NaN   Colin Miller  Braden Holtby         (89, 0)   \n",
       "246799                  NaN   Colin Miller  Braden Holtby         (89, 0)   \n",
       "246800                  NaN      Alex Tuch  Braden Holtby         (89, 0)   \n",
       "246801                  NaN      Alex Tuch  Braden Holtby         (89, 0)   \n",
       "246802                  NaN     James Neal  Braden Holtby         (89, 0)   \n",
       "\n",
       "        isGoal  distanceNet  angleNet  \n",
       "0            0    34.525353  0.174672  \n",
       "1            0    10.000000  0.000000  \n",
       "2            0    14.035669 -0.071307  \n",
       "3            0    49.517674 -0.813962  \n",
       "4            0    28.017851 -0.035699  \n",
       "...        ...          ...       ...  \n",
       "246798       0   124.535136  0.202120  \n",
       "246799       0   127.345985  0.229742  \n",
       "246800       0   171.026314  0.017542  \n",
       "246801       0   172.046505  0.023252  \n",
       "246802       0   146.758305 -0.226799  \n",
       "\n",
       "[246787 rows x 18 columns]"
      ]
     },
     "execution_count": 22,
     "metadata": {},
     "output_type": "execute_result"
    }
   ],
   "source": [
    "train_df"
   ]
  },
  {
   "cell_type": "code",
   "execution_count": 23,
   "metadata": {},
   "outputs": [],
   "source": [
    "def XY(df,label_column,features):\n",
    "    X = df.drop([label_column],axis=1)[features]\n",
    "    Y = df[label_column]\n",
    "    return X,Y\n",
    "\n",
    "\n"
   ]
  },
  {
   "cell_type": "markdown",
   "metadata": {},
   "source": [
    "## Spliting X&Y"
   ]
  },
  {
   "cell_type": "code",
   "execution_count": 24,
   "metadata": {},
   "outputs": [],
   "source": [
    "Xtrain,Ytrain = XY(train_df,label_column,features)\n",
    "Xval,Yval = XY(val_df,label_column,features)\n",
    "\n"
   ]
  },
  {
   "cell_type": "markdown",
   "metadata": {},
   "source": [
    "## Training"
   ]
  },
  {
   "cell_type": "code",
   "execution_count": 25,
   "metadata": {},
   "outputs": [
    {
     "data": {
      "text/plain": [
       "LogisticRegression()"
      ]
     },
     "execution_count": 25,
     "metadata": {},
     "output_type": "execute_result"
    }
   ],
   "source": [
    "clf = LogisticRegression()\n",
    "clf.fit(Xtrain, Ytrain)\n"
   ]
  },
  {
   "cell_type": "code",
   "execution_count": 26,
   "metadata": {},
   "outputs": [],
   "source": [
    "from sklearn.metrics import classification_report\n",
    "import matplotlib.pyplot as plt # data visualization\n",
    "import seaborn as sns # statistical data visualization\n",
    "from sklearn.metrics import accuracy_score\n",
    "import pandas as pd\n",
    "from sklearn.metrics import confusion_matrix\n"
   ]
  },
  {
   "cell_type": "code",
   "execution_count": 27,
   "metadata": {},
   "outputs": [
    {
     "data": {
      "text/plain": [
       "0.09253728924132956"
      ]
     },
     "execution_count": 27,
     "metadata": {},
     "output_type": "execute_result"
    }
   ],
   "source": [
    "Ytrain.sum()/Ytrain.shape[0]"
   ]
  },
  {
   "cell_type": "code",
   "execution_count": 28,
   "metadata": {},
   "outputs": [],
   "source": [
    "\n",
    "def plotConfusion(Y,Ypred):\n",
    "    cm = confusion_matrix(Y,Ypred)\n",
    "\n",
    "    cm_matrix = pd.DataFrame(data=cm, columns=['Actual:0', 'Actual:1'], \n",
    "                                    index=['Predict:0','Predict:1'])\n",
    "\n",
    "    plt.figure(figsize=(10,5))\n",
    "    sns.heatmap(cm_matrix, annot=True, fmt='d')\n",
    "    plt.tight_layout()\n",
    "    print(classification_report(Y, Ypred))\n",
    "\n",
    "\n"
   ]
  },
  {
   "cell_type": "code",
   "execution_count": 29,
   "metadata": {},
   "outputs": [
    {
     "name": "stderr",
     "output_type": "stream",
     "text": [
      "C:\\Users\\saiak\\.conda\\envs\\ift6758-conda-env\\lib\\site-packages\\sklearn\\metrics\\_classification.py:1308: UndefinedMetricWarning: Precision and F-score are ill-defined and being set to 0.0 in labels with no predicted samples. Use `zero_division` parameter to control this behavior.\n",
      "  _warn_prf(average, modifier, msg_start, len(result))\n",
      "C:\\Users\\saiak\\.conda\\envs\\ift6758-conda-env\\lib\\site-packages\\sklearn\\metrics\\_classification.py:1308: UndefinedMetricWarning: Precision and F-score are ill-defined and being set to 0.0 in labels with no predicted samples. Use `zero_division` parameter to control this behavior.\n",
      "  _warn_prf(average, modifier, msg_start, len(result))\n",
      "C:\\Users\\saiak\\.conda\\envs\\ift6758-conda-env\\lib\\site-packages\\sklearn\\metrics\\_classification.py:1308: UndefinedMetricWarning: Precision and F-score are ill-defined and being set to 0.0 in labels with no predicted samples. Use `zero_division` parameter to control this behavior.\n",
      "  _warn_prf(average, modifier, msg_start, len(result))\n"
     ]
    },
    {
     "name": "stdout",
     "output_type": "stream",
     "text": [
      "              precision    recall  f1-score   support\n",
      "\n",
      "           0       0.91      1.00      0.95    223950\n",
      "           1       0.00      0.00      0.00     22837\n",
      "\n",
      "    accuracy                           0.91    246787\n",
      "   macro avg       0.45      0.50      0.48    246787\n",
      "weighted avg       0.82      0.91      0.86    246787\n",
      "\n"
     ]
    },
    {
     "data": {
      "image/png": "[encoded data removed]",
      "text/plain": [
       "<Figure size 720x360 with 2 Axes>"
      ]
     },
     "metadata": {
      "needs_background": "light"
     },
     "output_type": "display_data"
    }
   ],
   "source": [
    "y_pred_train  = clf.predict(Xtrain)\n",
    "plotConfusion(Ytrain,y_pred_train)\n"
   ]
  },
  {
   "cell_type": "code",
   "execution_count": 30,
   "metadata": {},
   "outputs": [
    {
     "name": "stdout",
     "output_type": "stream",
     "text": [
      "              precision    recall  f1-score   support\n",
      "\n",
      "           0       0.90      1.00      0.95     77688\n",
      "           1       0.00      0.00      0.00      8247\n",
      "\n",
      "    accuracy                           0.90     85935\n",
      "   macro avg       0.45      0.50      0.47     85935\n",
      "weighted avg       0.82      0.90      0.86     85935\n",
      "\n"
     ]
    },
    {
     "name": "stderr",
     "output_type": "stream",
     "text": [
      "C:\\Users\\saiak\\.conda\\envs\\ift6758-conda-env\\lib\\site-packages\\sklearn\\metrics\\_classification.py:1308: UndefinedMetricWarning: Precision and F-score are ill-defined and being set to 0.0 in labels with no predicted samples. Use `zero_division` parameter to control this behavior.\n",
      "  _warn_prf(average, modifier, msg_start, len(result))\n",
      "C:\\Users\\saiak\\.conda\\envs\\ift6758-conda-env\\lib\\site-packages\\sklearn\\metrics\\_classification.py:1308: UndefinedMetricWarning: Precision and F-score are ill-defined and being set to 0.0 in labels with no predicted samples. Use `zero_division` parameter to control this behavior.\n",
      "  _warn_prf(average, modifier, msg_start, len(result))\n",
      "C:\\Users\\saiak\\.conda\\envs\\ift6758-conda-env\\lib\\site-packages\\sklearn\\metrics\\_classification.py:1308: UndefinedMetricWarning: Precision and F-score are ill-defined and being set to 0.0 in labels with no predicted samples. Use `zero_division` parameter to control this behavior.\n",
      "  _warn_prf(average, modifier, msg_start, len(result))\n"
     ]
    },
    {
     "data": {
      "image/png": "[encoded data removed]",
      "text/plain": [
       "<Figure size 720x360 with 2 Axes>"
      ]
     },
     "metadata": {
      "needs_background": "light"
     },
     "output_type": "display_data"
    }
   ],
   "source": [
    "y_pred_val  = clf.predict(Xval)\n",
    "plotConfusion(Yval,y_pred_val)\n"
   ]
  },
  {
   "cell_type": "markdown",
   "metadata": {},
   "source": [
    "* It's always pedicting 0, although about 10% of data is 1\n",
    "* (Need to explore) Why it's happening (Mostly because the features - diatance,angle values are similar for 1 and 0), and output of predict is 0 or 1 with probability threshold 0.5"
   ]
  },
  {
   "cell_type": "code",
   "execution_count": 31,
   "metadata": {},
   "outputs": [],
   "source": [
    "y_pred_val_probs  = clf.predict_proba(Xval)\n",
    "# plotConfusion(Yval,y_pred_val)"
   ]
  },
  {
   "cell_type": "code",
   "execution_count": 32,
   "metadata": {},
   "outputs": [
    {
     "data": {
      "text/plain": [
       "array([[0.88772277, 0.11227723],\n",
       "       [0.9317579 , 0.0682421 ],\n",
       "       [0.92589069, 0.07410931],\n",
       "       ...,\n",
       "       [0.89171664, 0.10828336],\n",
       "       [0.92488645, 0.07511355],\n",
       "       [0.92951063, 0.07048937]])"
      ]
     },
     "execution_count": 32,
     "metadata": {},
     "output_type": "execute_result"
    }
   ],
   "source": [
    "y_pred_val_probs"
   ]
  },
  {
   "cell_type": "code",
   "execution_count": null,
   "metadata": {},
   "outputs": [],
   "source": []
  }
 ],
 "metadata": {
  "interpreter": {
   "hash": "fe0e4489f2919cda2ef5940e6c22f887a5b71570af9d1a74ba05de65e7f388ec"
  },
  "kernelspec": {
   "display_name": "Python 3.9.7 64-bit ('ift6758-conda-env': conda)",
   "language": "python",
   "name": "python3"
  },
  "language_info": {
   "codemirror_mode": {
    "name": "ipython",
    "version": 3
   },
   "file_extension": ".py",
   "mimetype": "text/x-python",
   "name": "python",
   "nbconvert_exporter": "python",
   "pygments_lexer": "ipython3",
   "version": "3.9.7"
  },
  "orig_nbformat": 4
 },
 "nbformat": 4,
 "nbformat_minor": 2
}
