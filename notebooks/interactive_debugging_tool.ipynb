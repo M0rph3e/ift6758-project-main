{
 "cells": [
  {
   "cell_type": "markdown",
   "id": "6107e6f9",
   "metadata": {},
   "source": [
    "# Code for Question 3"
   ]
  },
  {
   "cell_type": "code",
   "execution_count": 2,
   "id": "c693fb03",
   "metadata": {},
   "outputs": [
    {
     "name": "stdout",
     "output_type": "stream",
     "text": [
      "Collecting tabulate\n",
      "  Using cached tabulate-0.8.9-py3-none-any.whl (25 kB)\n",
      "Installing collected packages: tabulate\n",
      "Successfully installed tabulate-0.8.9\n"
     ]
    }
   ],
   "source": [
    "!pip install tabulate"
   ]
  },
  {
   "cell_type": "code",
   "execution_count": 3,
   "id": "1e488992",
   "metadata": {},
   "outputs": [],
   "source": [
    "from ipywidgets import interact, RadioButtons, IntSlider, Output, Layout\n",
    "import json\n",
    "import pandas\n",
    "from tabulate import tabulate\n",
    "import matplotlib.pyplot as plt\n",
    "import seaborn as sns"
   ]
  },
  {
   "cell_type": "markdown",
   "id": "15798107",
   "metadata": {},
   "source": [
    "## Import Data"
   ]
  },
  {
   "cell_type": "code",
   "execution_count": 4,
   "id": "6940b54f",
   "metadata": {},
   "outputs": [],
   "source": [
    "year = 2017\n",
    "filepath = \"../ift6758/data\"\n",
    "DIRECTORY  = f\"{filepath}/JSON/{year}/\"\n",
    "IMG_PATH = \"../figures/nhl_rink.png\""
   ]
  },
  {
   "cell_type": "markdown",
   "id": "f596a8d7",
   "metadata": {
    "tags": []
   },
   "source": [
    "## Game IDs\n",
    "The first 4 digits identify the season of the game (ie. 2017 for the 2017-2018 season). The next 2 digits give the type of game, where 01 = preseason, 02 = regular season, 03 = playoffs, 04 = all-star. The final 4 digits identify the specific game number. For regular season and preseason games, this ranges from 0001 to the number of games played. (1271 for seasons with 31 teams (2017 and onwards) and 1230 for seasons with 30 teams). For playoff games, the 2nd digit of the specific number gives the round of the playoffs, the 3rd digit specifies the matchup, and the 4th digit specifies the game (out of 7)."
   ]
  },
  {
   "cell_type": "markdown",
   "id": "151e287b",
   "metadata": {},
   "source": [
    "## Implementation: Interactive Debugging Tool"
   ]
  },
  {
   "cell_type": "code",
   "execution_count": 5,
   "id": "2513ef18",
   "metadata": {},
   "outputs": [
    {
     "name": "stdout",
     "output_type": "stream",
     "text": [
      "File already Exists, loading from ../ift6758/data/PICKLE//2017.pkl\n",
      "Len of games_list in 2017 is 1376\n"
     ]
    }
   ],
   "source": [
    "from ift6758.data.data_acquisition import Season\n",
    "\n",
    "season =Season(year,filepath)\n",
    "season_data =season.get_season_data()\n"
   ]
  },
  {
   "cell_type": "code",
   "execution_count": 7,
   "id": "fbccf968",
   "metadata": {},
   "outputs": [],
   "source": [
    "season_data_id_dict ={}\n",
    "for i in season_data:\n",
    "    season_data_id_dict[i['gamePk']]=i\n"
   ]
  },
  {
   "cell_type": "code",
   "execution_count": 9,
   "id": "eb5ee8b0",
   "metadata": {
    "tags": []
   },
   "outputs": [
    {
     "data": {
      "application/vnd.jupyter.widget-view+json": {
       "model_id": "6a2649eb4fa240438c2e1e38fad782e7",
       "version_major": 2,
       "version_minor": 0
      },
      "text/plain": [
       "RadioButtons(description='Game Type:', layout=Layout(width='max-content'), options=('regular season', 'playoff…"
      ]
     },
     "metadata": {},
     "output_type": "display_data"
    },
    {
     "data": {
      "application/vnd.jupyter.widget-view+json": {
       "model_id": "c44f78c965f54d639cfa05ade0ceba8c",
       "version_major": 2,
       "version_minor": 0
      },
      "text/plain": [
       "IntSlider(value=1, continuous_update=False, description='Game #:', layout=Layout(width='50%'), max=1271, min=1…"
      ]
     },
     "metadata": {},
     "output_type": "display_data"
    },
    {
     "data": {
      "application/vnd.jupyter.widget-view+json": {
       "model_id": "c208ab5fec6d4e73a53836cbb67156b3",
       "version_major": 2,
       "version_minor": 0
      },
      "text/plain": [
       "Output()"
      ]
     },
     "metadata": {},
     "output_type": "display_data"
    },
    {
     "data": {
      "application/vnd.jupyter.widget-view+json": {
       "model_id": "ab69715f388b4b1aa984dd9a7b95e3f7",
       "version_major": 2,
       "version_minor": 0
      },
      "text/plain": [
       "IntSlider(value=1, continuous_update=False, description='Event #:', layout=Layout(width='50%'), max=2000, min=…"
      ]
     },
     "metadata": {},
     "output_type": "display_data"
    },
    {
     "data": {
      "application/vnd.jupyter.widget-view+json": {
       "model_id": "eee0182d1f1f4ce7a828a24bd2ded0cf",
       "version_major": 2,
       "version_minor": 0
      },
      "text/plain": [
       "Output()"
      ]
     },
     "metadata": {},
     "output_type": "display_data"
    }
   ],
   "source": [
    "from ift6758.data.data_acquisition import Season\n",
    "#CHOOSE GAME TYPE\n",
    "type_selector = RadioButtons(\n",
    "    #options=['preseason', 'regular season', 'playoffs', 'all-star'],\n",
    "    options=['regular season', 'playoffs'],\n",
    "    value='regular season', # Defaults to 'pineapple'\n",
    "    layout={'width': 'max-content'}, # If the items' names are long\n",
    "    description='Game Type:',\n",
    "    disabled=False,\n",
    "    continuous_update=True\n",
    ")\n",
    "\n",
    "#CHOOSE GAME ID\n",
    "game_selector = IntSlider(\n",
    "    value=1,\n",
    "    min=1,\n",
    "    max=1271,\n",
    "    step=1,\n",
    "    description='Game #:',\n",
    "    continuous_update=False, #only reassign value when the slider stops moving\n",
    "    layout=Layout(width='50%')\n",
    ")\n",
    "\n",
    "#display both widgets\n",
    "display(type_selector, game_selector)\n",
    "\n",
    "#init game type as 02 which is regular season\n",
    "type_game = \"02\"\n",
    "\n",
    "#LINK game selector to the game type selector\n",
    "def update_game_selector_range(change):\n",
    "    global type_game\n",
    "    if change['new'] == 'regular season':\n",
    "        max_game = 1271\n",
    "        type_game = \"02\"\n",
    "    elif change['new'] == 'playoffs':\n",
    "        max_game = 20 #TODO\n",
    "        type_game = \"03\"\n",
    "    else:\n",
    "        raise Exception(\"Sorry, game type not recognized\")  \n",
    "    #change range of the game selector\n",
    "    game_selector.max = max_game\n",
    "\n",
    "type_selector.observe(update_game_selector_range, 'value')\n",
    "\n",
    "#Load the JSON when the game range is chosen\n",
    "output = Output()\n",
    "display(output)\n",
    "\n",
    "event_data = {}\n",
    "data = {}\n",
    "\n",
    "def on_game_id_change(change):\n",
    "    with output:\n",
    "        output.clear_output()\n",
    "        output2.clear_output()\n",
    "        \n",
    "        game_number = str(change['new']).zfill(4)\n",
    "        game_id = f\"{year}{type_game}{game_number}\"\n",
    "        # path = f\"{DIRECTORY}{game_id}.json\"\n",
    "        #print(path)\n",
    "        print('                                         ')\n",
    "        global data\n",
    "        global event_data\n",
    "        # with open(path, encoding='utf-8') as f:\n",
    "        #     data = json.load(f)\n",
    "        data = season_data_id_dict[int(game_id)]\n",
    "        #Print game details\n",
    "        print(\"Game ID: \",data['gamePk'])\n",
    "        print(data['gameData']['teams']['home']['name'],\" (HOME)   VS.   \",data['gameData']['teams']['away']['name'],\" (AWAY)\")\n",
    "        print(\"Start Date: \",data['gameData']['datetime']['dateTime'])\n",
    "        print(\"Location: \",data['gameData']['venue']['name'])\n",
    "        \n",
    "        data_home_by_teamSkaterStats = data['liveData']['boxscore']['teams']['home']['teamStats']['teamSkaterStats']\n",
    "        data_away_by_teamSkaterStats = data['liveData']['boxscore']['teams']['away']['teamStats']['teamSkaterStats']\n",
    "        table = [[\"\", \"TEAM\", \"GOALS\", \"SHOTS\", \"PIM\", \"FACEOFF WIN (%)\", \"BLOCKS\", \"HITS\"],\n",
    "                ['HOME', \n",
    "                 data['liveData']['boxscore']['teams']['home']['team']['abbreviation'],\n",
    "                 data_home_by_teamSkaterStats['goals'],\n",
    "                 data_home_by_teamSkaterStats['shots'],\n",
    "                 data_home_by_teamSkaterStats['pim'],\n",
    "                 data_home_by_teamSkaterStats['faceOffWinPercentage'],\n",
    "                 data_home_by_teamSkaterStats['blocked'],\n",
    "                 data_home_by_teamSkaterStats['hits']\n",
    "                ],\n",
    "                ['AWAY',\n",
    "                 data['liveData']['boxscore']['teams']['away']['team']['abbreviation'],\n",
    "                 data_away_by_teamSkaterStats['goals'],\n",
    "                 data_away_by_teamSkaterStats['shots'],\n",
    "                 data_away_by_teamSkaterStats['pim'],\n",
    "                 data_away_by_teamSkaterStats['faceOffWinPercentage'],\n",
    "                 data_away_by_teamSkaterStats['blocked'],\n",
    "                 data_away_by_teamSkaterStats['hits']\n",
    "                ]\n",
    "               ]\n",
    "        print('                                         ')\n",
    "        print(tabulate(table, headers='firstrow', tablefmt='fancy_grid'))\n",
    "        \n",
    "        #save the event data for later\n",
    "        event_data = data['liveData']['plays']['allPlays']\n",
    "\n",
    "game_selector.observe(on_game_id_change, names='value')\n",
    "\n",
    "###SECOND PART: Field visualisation\n",
    "\n",
    "event_selector = IntSlider(\n",
    "    value=1,\n",
    "    min=1,\n",
    "    max=2000,\n",
    "    step=1,\n",
    "    description='Event #:',\n",
    "    continuous_update=False, #only reassign value when the slider stops moving\n",
    "    layout=Layout(width='50%')\n",
    ")\n",
    "\n",
    "#display both widgets\n",
    "display(event_selector)\n",
    "\n",
    "#LINK game selector to the game type selector\n",
    "def update_event_selector_range(change):\n",
    "    global event_data\n",
    "    event_selector.max = len(event_data)\n",
    "\n",
    "game_selector.observe(update_event_selector_range, 'value')\n",
    "\n",
    "\n",
    "##part3\n",
    "#Load the JSON when the game range is chosen\n",
    "output2 = Output()\n",
    "display(output2)\n",
    "\n",
    "def on_event_id_change(change):\n",
    "    with output2:\n",
    "        \n",
    "        output2.clear_output()\n",
    "        \n",
    "        event_id = change['new']\n",
    "        global event_data\n",
    "        \n",
    "        print(\"event_id: \",event_id - 1)\n",
    "        print(\"event_id: \",len(event_data))\n",
    "        \n",
    "        event = event_data[event_id - 1]\n",
    "        #print(event)\n",
    "        _period_num = event['about']['ordinalNum']\n",
    "        _period_time = event['about']['periodTime']\n",
    "        _goals_away =  event['about']['goals']['away']\n",
    "        _goals_home =  event['about']['goals']['home']\n",
    "        _desc = event['result']['description']\n",
    "        \n",
    "        if \"x\" in event['coordinates']:\n",
    "            _x, _y = event['coordinates']['x'], event['coordinates']['y']\n",
    "        else: \n",
    "            _x, _y = 0, 0\n",
    "        \n",
    "        #create figure\n",
    "        img = plt.imread(IMG_PATH)\n",
    "        \n",
    "        fig, ax = plt.subplots(figsize=(10, 5))\n",
    "        sns.scatterplot(x=[_x], y=[_y], ax=ax, color = 'k', marker = 'X', s=350)\n",
    "        plt.xlim(-100, 100)\n",
    "        plt.ylim(-42.5, 42.5)\n",
    "        plt.xlabel(\"feet\")\n",
    "        plt.ylabel(\"feet\")\n",
    "        plt.title(_desc + '\\n' + \n",
    "                  \"HOME : \" + str(_goals_home) + \"  ---  AWAY : \" + str(_goals_away) + '\\n' + \n",
    "                  _period_num + ' Period: ' + _period_time) # You can comment this line out if you don't need title\n",
    "        ax.imshow(img, extent=[-100, 100, -42.5, 42.5], aspect='auto')\n",
    "        plt.show()\n",
    "\n",
    "event_selector.observe(on_event_id_change, names='value')"
   ]
  },
  {
   "cell_type": "markdown",
   "id": "fe2ce3ca",
   "metadata": {},
   "source": [
    "."
   ]
  },
  {
   "cell_type": "code",
   "execution_count": null,
   "id": "06577dd2",
   "metadata": {},
   "outputs": [],
   "source": []
  }
 ],
 "metadata": {
  "interpreter": {
   "hash": "fe0e4489f2919cda2ef5940e6c22f887a5b71570af9d1a74ba05de65e7f388ec"
  },
  "kernelspec": {
   "display_name": "Python 3.9.7 64-bit ('ift6758-conda-env': conda)",
   "name": "python3"
  },
  "language_info": {
   "codemirror_mode": {
    "name": "ipython",
    "version": 3
   },
   "file_extension": ".py",
   "mimetype": "text/x-python",
   "name": "python",
   "nbconvert_exporter": "python",
   "pygments_lexer": "ipython3",
   "version": "3.9.7"
  }
 },
 "nbformat": 4,
 "nbformat_minor": 5
}
