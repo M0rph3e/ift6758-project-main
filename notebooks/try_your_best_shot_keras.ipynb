{
 "cells": [
  {
   "cell_type": "code",
   "execution_count": 1,
   "id": "8ec8fca5-42cf-4459-a761-3e39b5f8479e",
   "metadata": {},
   "outputs": [],
   "source": [
    "%load_ext autoreload\n",
    "%autoreload 2"
   ]
  },
  {
   "cell_type": "markdown",
   "id": "d5b54079",
   "metadata": {},
   "source": [
    "# Comet Import and Setup"
   ]
  },
  {
   "cell_type": "code",
   "execution_count": 2,
   "id": "62ad282b",
   "metadata": {},
   "outputs": [
    {
     "name": "stderr",
     "output_type": "stream",
     "text": [
      "COMET INFO: Experiment is live on comet.ml https://www.comet.ml/morph-e/milestone-2/73a26054a1404e8c88aec7f43447a44a\n",
      "\n"
     ]
    }
   ],
   "source": [
    "# Import comet_ml at the top of your file, before sklearn!\n",
    "from comet_ml import Experiment\n",
    "import os \n",
    "\n",
    "# Create an experiment with your api key\n",
    "comet_exp = Experiment(\n",
    "    api_key=os.environ.get('COMET_API_KEY'),  # don’t hardcode!!\n",
    "    project_name=\"milestone_2\",\n",
    "    workspace=\"morph-e\",\n",
    "    log_code=True,\n",
    ")"
   ]
  },
  {
   "cell_type": "markdown",
   "id": "0dc1b642-7bfd-496c-a49c-3e051a191a51",
   "metadata": {},
   "source": [
    "# Imports"
   ]
  },
  {
   "cell_type": "code",
   "execution_count": 3,
   "id": "c2635c3c-0b25-4e86-b6b5-9c3ef9d2de4a",
   "metadata": {},
   "outputs": [],
   "source": [
    "#classic\n",
    "import numpy as np\n",
    "import pandas as pd\n",
    "import matplotlib.pyplot as plt\n",
    "import seaborn as sns\n",
    "import os\n",
    "import random\n",
    "\n",
    "#project imports\n",
    "from ift6758.features.feature_engineering1 import SeasonDataSet\n",
    "from ift6758.metrics import plot_metrics\n",
    "\n",
    "#sk-learn imports\n",
    "from sklearn.preprocessing import StandardScaler, MinMaxScaler\n",
    "from sklearn.model_selection import train_test_split\n",
    "from sklearn.pipeline import Pipeline\n",
    "from sklearn.model_selection import GridSearchCV\n",
    "from sklearn.linear_model import LogisticRegression\n",
    "from sklearn.calibration import CalibrationDisplay\n",
    "from sklearn.metrics import (accuracy_score, confusion_matrix, \n",
    "                             classification_report, roc_curve, auc)\n",
    "\n",
    "#keras imports\n",
    "import tensorflow as tf\n",
    "from tensorflow import keras\n",
    "from tensorflow.keras import layers, losses, preprocessing, activations"
   ]
  },
  {
   "cell_type": "code",
   "execution_count": 4,
   "id": "1c516d5d",
   "metadata": {},
   "outputs": [],
   "source": [
    "#comet imports\n",
    "from comet_ml import Experiment"
   ]
  },
  {
   "cell_type": "markdown",
   "id": "685668d4-2f27-498d-bc95-40c6f8a2262d",
   "metadata": {},
   "source": [
    "# DATA LOADING"
   ]
  },
  {
   "cell_type": "code",
   "execution_count": 5,
   "id": "8db58e48-f4b5-4e61-95eb-c5abc27eb253",
   "metadata": {},
   "outputs": [],
   "source": [
    "train_years = [2015,2016,2017,2018]\n",
    "test_years=[2019]"
   ]
  },
  {
   "cell_type": "code",
   "execution_count": 6,
   "id": "b61c930f-c543-46c6-be8b-26031c687150",
   "metadata": {},
   "outputs": [
    {
     "name": "stdout",
     "output_type": "stream",
     "text": [
      "File already Exists, loading from ../ift6758/data/PICKLE//2015_clean.pkl\n",
      "File already Exists, loading from ../ift6758/data/PICKLE//2015_period_info.pkl\n",
      "File already Exists, loading from ../ift6758/data/PICKLE//2016_clean.pkl\n",
      "File already Exists, loading from ../ift6758/data/PICKLE//2016_period_info.pkl\n",
      "File already Exists, loading from ../ift6758/data/PICKLE//2017_clean.pkl\n",
      "File already Exists, loading from ../ift6758/data/PICKLE//2017_period_info.pkl\n",
      "File already Exists, loading from ../ift6758/data/PICKLE//2018_clean.pkl\n",
      "File already Exists, loading from ../ift6758/data/PICKLE//2018_period_info.pkl\n"
     ]
    }
   ],
   "source": [
    "train_dataset = SeasonDataSet(train_years)\n",
    "train_df = train_dataset.get_tidy_data()"
   ]
  },
  {
   "cell_type": "code",
   "execution_count": 7,
   "id": "62063889-8c05-403d-b06a-28ec22532223",
   "metadata": {},
   "outputs": [
    {
     "name": "stdout",
     "output_type": "stream",
     "text": [
      "File already Exists, loading from ../ift6758/data/PICKLE//2019_clean.pkl\n",
      "File already Exists, loading from ../ift6758/data/PICKLE//2019_period_info.pkl\n"
     ]
    }
   ],
   "source": [
    "test_dataset = SeasonDataSet(test_years)\n",
    "test_df = test_dataset.get_tidy_data()"
   ]
  },
  {
   "cell_type": "code",
   "execution_count": 8,
   "id": "810ab9d7-44f6-4de6-8aa2-6aa3fb88ed5c",
   "metadata": {},
   "outputs": [],
   "source": [
    "features = [\"distanceNet\",\"angleNet\"]\n",
    "label_column = \"isGoal\""
   ]
  },
  {
   "cell_type": "code",
   "execution_count": 9,
   "id": "debf8fc2-5f1b-4648-a8ff-0af8d084e1f3",
   "metadata": {},
   "outputs": [
    {
     "data": {
      "text/html": [
       "<div>\n",
       "<style scoped>\n",
       "    .dataframe tbody tr th:only-of-type {\n",
       "        vertical-align: middle;\n",
       "    }\n",
       "\n",
       "    .dataframe tbody tr th {\n",
       "        vertical-align: top;\n",
       "    }\n",
       "\n",
       "    .dataframe thead th {\n",
       "        text-align: right;\n",
       "    }\n",
       "</style>\n",
       "<table border=\"1\" class=\"dataframe\">\n",
       "  <thead>\n",
       "    <tr style=\"text-align: right;\">\n",
       "      <th></th>\n",
       "      <th>result.event</th>\n",
       "      <th>gamePk</th>\n",
       "      <th>team.name</th>\n",
       "      <th>about.period</th>\n",
       "      <th>about.periodTime</th>\n",
       "      <th>about.periodType</th>\n",
       "      <th>about.periodTimeRemaining</th>\n",
       "      <th>coordinates.x</th>\n",
       "      <th>coordinates.y</th>\n",
       "      <th>result.secondaryType</th>\n",
       "      <th>result.emptyNet</th>\n",
       "      <th>result.strength.name</th>\n",
       "      <th>shooter</th>\n",
       "      <th>goalie</th>\n",
       "      <th>goalCoordinates</th>\n",
       "      <th>isGoal</th>\n",
       "      <th>distanceNet</th>\n",
       "      <th>angleNet</th>\n",
       "    </tr>\n",
       "  </thead>\n",
       "  <tbody>\n",
       "    <tr>\n",
       "      <th>0</th>\n",
       "      <td>Shot</td>\n",
       "      <td>2015020001</td>\n",
       "      <td>Toronto Maple Leafs</td>\n",
       "      <td>1</td>\n",
       "      <td>00:51</td>\n",
       "      <td>REGULAR</td>\n",
       "      <td>19:09</td>\n",
       "      <td>-55.0</td>\n",
       "      <td>6.0</td>\n",
       "      <td>Wrist Shot</td>\n",
       "      <td>0</td>\n",
       "      <td>NaN</td>\n",
       "      <td>Brad Boyes</td>\n",
       "      <td>Carey Price</td>\n",
       "      <td>(-89, 0)</td>\n",
       "      <td>0</td>\n",
       "      <td>34.525353</td>\n",
       "      <td>10.007980</td>\n",
       "    </tr>\n",
       "    <tr>\n",
       "      <th>1</th>\n",
       "      <td>Shot</td>\n",
       "      <td>2015020001</td>\n",
       "      <td>Toronto Maple Leafs</td>\n",
       "      <td>1</td>\n",
       "      <td>01:05</td>\n",
       "      <td>REGULAR</td>\n",
       "      <td>18:55</td>\n",
       "      <td>-79.0</td>\n",
       "      <td>0.0</td>\n",
       "      <td>Snap Shot</td>\n",
       "      <td>0</td>\n",
       "      <td>NaN</td>\n",
       "      <td>Nazem Kadri</td>\n",
       "      <td>Carey Price</td>\n",
       "      <td>(-89, 0)</td>\n",
       "      <td>0</td>\n",
       "      <td>10.000000</td>\n",
       "      <td>0.000000</td>\n",
       "    </tr>\n",
       "    <tr>\n",
       "      <th>2</th>\n",
       "      <td>Shot</td>\n",
       "      <td>2015020001</td>\n",
       "      <td>Toronto Maple Leafs</td>\n",
       "      <td>1</td>\n",
       "      <td>01:06</td>\n",
       "      <td>REGULAR</td>\n",
       "      <td>18:54</td>\n",
       "      <td>-75.0</td>\n",
       "      <td>-1.0</td>\n",
       "      <td>Snap Shot</td>\n",
       "      <td>0</td>\n",
       "      <td>NaN</td>\n",
       "      <td>Nazem Kadri</td>\n",
       "      <td>Carey Price</td>\n",
       "      <td>(-89, 0)</td>\n",
       "      <td>0</td>\n",
       "      <td>14.035669</td>\n",
       "      <td>-4.085617</td>\n",
       "    </tr>\n",
       "    <tr>\n",
       "      <th>3</th>\n",
       "      <td>Shot</td>\n",
       "      <td>2015020001</td>\n",
       "      <td>Toronto Maple Leafs</td>\n",
       "      <td>1</td>\n",
       "      <td>01:53</td>\n",
       "      <td>REGULAR</td>\n",
       "      <td>18:07</td>\n",
       "      <td>-55.0</td>\n",
       "      <td>-36.0</td>\n",
       "      <td>Wrist Shot</td>\n",
       "      <td>0</td>\n",
       "      <td>NaN</td>\n",
       "      <td>Daniel Winnik</td>\n",
       "      <td>Carey Price</td>\n",
       "      <td>(-89, 0)</td>\n",
       "      <td>0</td>\n",
       "      <td>49.517674</td>\n",
       "      <td>-46.636577</td>\n",
       "    </tr>\n",
       "    <tr>\n",
       "      <th>4</th>\n",
       "      <td>Shot</td>\n",
       "      <td>2015020001</td>\n",
       "      <td>Toronto Maple Leafs</td>\n",
       "      <td>1</td>\n",
       "      <td>02:37</td>\n",
       "      <td>REGULAR</td>\n",
       "      <td>17:23</td>\n",
       "      <td>-61.0</td>\n",
       "      <td>-1.0</td>\n",
       "      <td>Tip-In</td>\n",
       "      <td>0</td>\n",
       "      <td>NaN</td>\n",
       "      <td>Joffrey Lupul</td>\n",
       "      <td>Carey Price</td>\n",
       "      <td>(-89, 0)</td>\n",
       "      <td>0</td>\n",
       "      <td>28.017851</td>\n",
       "      <td>-2.045408</td>\n",
       "    </tr>\n",
       "    <tr>\n",
       "      <th>...</th>\n",
       "      <td>...</td>\n",
       "      <td>...</td>\n",
       "      <td>...</td>\n",
       "      <td>...</td>\n",
       "      <td>...</td>\n",
       "      <td>...</td>\n",
       "      <td>...</td>\n",
       "      <td>...</td>\n",
       "      <td>...</td>\n",
       "      <td>...</td>\n",
       "      <td>...</td>\n",
       "      <td>...</td>\n",
       "      <td>...</td>\n",
       "      <td>...</td>\n",
       "      <td>...</td>\n",
       "      <td>...</td>\n",
       "      <td>...</td>\n",
       "      <td>...</td>\n",
       "    </tr>\n",
       "    <tr>\n",
       "      <th>343354</th>\n",
       "      <td>Goal</td>\n",
       "      <td>2018030417</td>\n",
       "      <td>St. Louis Blues</td>\n",
       "      <td>3</td>\n",
       "      <td>15:22</td>\n",
       "      <td>REGULAR</td>\n",
       "      <td>04:38</td>\n",
       "      <td>-77.0</td>\n",
       "      <td>7.0</td>\n",
       "      <td>Snap Shot</td>\n",
       "      <td>0</td>\n",
       "      <td>Even</td>\n",
       "      <td>Zach Sanford</td>\n",
       "      <td>Tuukka Rask</td>\n",
       "      <td>(-89, 0)</td>\n",
       "      <td>1</td>\n",
       "      <td>13.892444</td>\n",
       "      <td>30.256437</td>\n",
       "    </tr>\n",
       "    <tr>\n",
       "      <th>343355</th>\n",
       "      <td>Shot</td>\n",
       "      <td>2018030417</td>\n",
       "      <td>St. Louis Blues</td>\n",
       "      <td>3</td>\n",
       "      <td>15:51</td>\n",
       "      <td>REGULAR</td>\n",
       "      <td>04:09</td>\n",
       "      <td>-69.0</td>\n",
       "      <td>7.0</td>\n",
       "      <td>Snap Shot</td>\n",
       "      <td>0</td>\n",
       "      <td>NaN</td>\n",
       "      <td>Alexander Steen</td>\n",
       "      <td>Tuukka Rask</td>\n",
       "      <td>(-89, 0)</td>\n",
       "      <td>0</td>\n",
       "      <td>21.189620</td>\n",
       "      <td>19.290046</td>\n",
       "    </tr>\n",
       "    <tr>\n",
       "      <th>343356</th>\n",
       "      <td>Shot</td>\n",
       "      <td>2018030417</td>\n",
       "      <td>St. Louis Blues</td>\n",
       "      <td>3</td>\n",
       "      <td>15:55</td>\n",
       "      <td>REGULAR</td>\n",
       "      <td>04:05</td>\n",
       "      <td>-65.0</td>\n",
       "      <td>-4.0</td>\n",
       "      <td>Snap Shot</td>\n",
       "      <td>0</td>\n",
       "      <td>NaN</td>\n",
       "      <td>Ryan O'Reilly</td>\n",
       "      <td>Tuukka Rask</td>\n",
       "      <td>(-89, 0)</td>\n",
       "      <td>0</td>\n",
       "      <td>24.331050</td>\n",
       "      <td>-9.462322</td>\n",
       "    </tr>\n",
       "    <tr>\n",
       "      <th>343357</th>\n",
       "      <td>Shot</td>\n",
       "      <td>2018030417</td>\n",
       "      <td>Boston Bruins</td>\n",
       "      <td>3</td>\n",
       "      <td>16:50</td>\n",
       "      <td>REGULAR</td>\n",
       "      <td>03:10</td>\n",
       "      <td>42.0</td>\n",
       "      <td>3.0</td>\n",
       "      <td>Wrist Shot</td>\n",
       "      <td>0</td>\n",
       "      <td>NaN</td>\n",
       "      <td>Marcus Johansson</td>\n",
       "      <td>Jordan Binnington</td>\n",
       "      <td>(89, 0)</td>\n",
       "      <td>0</td>\n",
       "      <td>47.095647</td>\n",
       "      <td>-3.652223</td>\n",
       "    </tr>\n",
       "    <tr>\n",
       "      <th>343358</th>\n",
       "      <td>Goal</td>\n",
       "      <td>2018030417</td>\n",
       "      <td>Boston Bruins</td>\n",
       "      <td>3</td>\n",
       "      <td>17:50</td>\n",
       "      <td>REGULAR</td>\n",
       "      <td>02:10</td>\n",
       "      <td>44.0</td>\n",
       "      <td>24.0</td>\n",
       "      <td>Wrist Shot</td>\n",
       "      <td>0</td>\n",
       "      <td>Even</td>\n",
       "      <td>Matt Grzelcyk</td>\n",
       "      <td>Jordan Binnington</td>\n",
       "      <td>(89, 0)</td>\n",
       "      <td>1</td>\n",
       "      <td>51.000000</td>\n",
       "      <td>-28.072487</td>\n",
       "    </tr>\n",
       "  </tbody>\n",
       "</table>\n",
       "<p>343339 rows × 18 columns</p>\n",
       "</div>"
      ],
      "text/plain": [
       "       result.event      gamePk            team.name  about.period  \\\n",
       "0              Shot  2015020001  Toronto Maple Leafs             1   \n",
       "1              Shot  2015020001  Toronto Maple Leafs             1   \n",
       "2              Shot  2015020001  Toronto Maple Leafs             1   \n",
       "3              Shot  2015020001  Toronto Maple Leafs             1   \n",
       "4              Shot  2015020001  Toronto Maple Leafs             1   \n",
       "...             ...         ...                  ...           ...   \n",
       "343354         Goal  2018030417      St. Louis Blues             3   \n",
       "343355         Shot  2018030417      St. Louis Blues             3   \n",
       "343356         Shot  2018030417      St. Louis Blues             3   \n",
       "343357         Shot  2018030417        Boston Bruins             3   \n",
       "343358         Goal  2018030417        Boston Bruins             3   \n",
       "\n",
       "       about.periodTime about.periodType about.periodTimeRemaining  \\\n",
       "0                 00:51          REGULAR                     19:09   \n",
       "1                 01:05          REGULAR                     18:55   \n",
       "2                 01:06          REGULAR                     18:54   \n",
       "3                 01:53          REGULAR                     18:07   \n",
       "4                 02:37          REGULAR                     17:23   \n",
       "...                 ...              ...                       ...   \n",
       "343354            15:22          REGULAR                     04:38   \n",
       "343355            15:51          REGULAR                     04:09   \n",
       "343356            15:55          REGULAR                     04:05   \n",
       "343357            16:50          REGULAR                     03:10   \n",
       "343358            17:50          REGULAR                     02:10   \n",
       "\n",
       "        coordinates.x  coordinates.y result.secondaryType result.emptyNet  \\\n",
       "0               -55.0            6.0           Wrist Shot               0   \n",
       "1               -79.0            0.0            Snap Shot               0   \n",
       "2               -75.0           -1.0            Snap Shot               0   \n",
       "3               -55.0          -36.0           Wrist Shot               0   \n",
       "4               -61.0           -1.0               Tip-In               0   \n",
       "...               ...            ...                  ...             ...   \n",
       "343354          -77.0            7.0            Snap Shot               0   \n",
       "343355          -69.0            7.0            Snap Shot               0   \n",
       "343356          -65.0           -4.0            Snap Shot               0   \n",
       "343357           42.0            3.0           Wrist Shot               0   \n",
       "343358           44.0           24.0           Wrist Shot               0   \n",
       "\n",
       "       result.strength.name           shooter             goalie  \\\n",
       "0                       NaN        Brad Boyes        Carey Price   \n",
       "1                       NaN       Nazem Kadri        Carey Price   \n",
       "2                       NaN       Nazem Kadri        Carey Price   \n",
       "3                       NaN     Daniel Winnik        Carey Price   \n",
       "4                       NaN     Joffrey Lupul        Carey Price   \n",
       "...                     ...               ...                ...   \n",
       "343354                 Even      Zach Sanford        Tuukka Rask   \n",
       "343355                  NaN   Alexander Steen        Tuukka Rask   \n",
       "343356                  NaN     Ryan O'Reilly        Tuukka Rask   \n",
       "343357                  NaN  Marcus Johansson  Jordan Binnington   \n",
       "343358                 Even     Matt Grzelcyk  Jordan Binnington   \n",
       "\n",
       "       goalCoordinates  isGoal  distanceNet   angleNet  \n",
       "0             (-89, 0)       0    34.525353  10.007980  \n",
       "1             (-89, 0)       0    10.000000   0.000000  \n",
       "2             (-89, 0)       0    14.035669  -4.085617  \n",
       "3             (-89, 0)       0    49.517674 -46.636577  \n",
       "4             (-89, 0)       0    28.017851  -2.045408  \n",
       "...                ...     ...          ...        ...  \n",
       "343354        (-89, 0)       1    13.892444  30.256437  \n",
       "343355        (-89, 0)       0    21.189620  19.290046  \n",
       "343356        (-89, 0)       0    24.331050  -9.462322  \n",
       "343357         (89, 0)       0    47.095647  -3.652223  \n",
       "343358         (89, 0)       1    51.000000 -28.072487  \n",
       "\n",
       "[343339 rows x 18 columns]"
      ]
     },
     "execution_count": 9,
     "metadata": {},
     "output_type": "execute_result"
    }
   ],
   "source": [
    "train_df"
   ]
  },
  {
   "cell_type": "code",
   "execution_count": 10,
   "id": "6d2c5174-3942-46ee-9784-247bff5192f2",
   "metadata": {},
   "outputs": [
    {
     "data": {
      "text/plain": [
       "(        distanceNet   angleNet  isGoal\n",
       " 0         34.525353  10.007980       0\n",
       " 1         10.000000   0.000000       0\n",
       " 2         14.035669  -4.085617       0\n",
       " 3         49.517674 -46.636577       0\n",
       " 4         28.017851  -2.045408       0\n",
       " ...             ...        ...     ...\n",
       " 343354    13.892444  30.256437       1\n",
       " 343355    21.189620  19.290046       0\n",
       " 343356    24.331050  -9.462322       0\n",
       " 343357    47.095647  -3.652223       0\n",
       " 343358    51.000000 -28.072487       1\n",
       " \n",
       " [343339 rows x 3 columns],\n",
       "        distanceNet   angleNet  isGoal\n",
       " 0         4.123106  14.036243       1\n",
       " 1        57.035077  -2.009554       0\n",
       " 2        26.683328  12.994617       0\n",
       " 3        36.055513 -33.690068       0\n",
       " 4        55.226805 -31.675469       0\n",
       " ...            ...        ...     ...\n",
       " 76615   149.933319   9.211027       0\n",
       " 76616   170.026469  -1.010997       0\n",
       " 76617   123.146255  -2.792702       0\n",
       " 76618   120.415946   4.763642       0\n",
       " 76619   166.000000   0.000000       0\n",
       " \n",
       " [76619 rows x 3 columns])"
      ]
     },
     "execution_count": 10,
     "metadata": {},
     "output_type": "execute_result"
    }
   ],
   "source": [
    "train_df = train_df[['distanceNet', 'angleNet', 'isGoal']]\n",
    "test_df = test_df[['distanceNet', 'angleNet', 'isGoal']]\n",
    "train_df, test_df"
   ]
  },
  {
   "cell_type": "markdown",
   "id": "c964bd5d-a065-42a5-9f70-a8ae5f1189c9",
   "metadata": {},
   "source": [
    "# Some EDA"
   ]
  },
  {
   "cell_type": "code",
   "execution_count": 11,
   "id": "4988c1c0-4904-44b1-a15e-fc407d7e649c",
   "metadata": {},
   "outputs": [],
   "source": [
    "# Get weather type counts\n",
    "label_dict = {0: 'Shots',\n",
    "              1: 'Goals'\n",
    "             }\n",
    "\n",
    "label_list = list(label_dict.values())\n",
    "\n",
    "class_counts = [train_df.isGoal.value_counts()[i] for i in range(0,2)]\n",
    "\n",
    "label_counts = sorted(list(zip(label_list, class_counts)), \n",
    "                     key=lambda x:x[1], reverse=True)"
   ]
  },
  {
   "cell_type": "code",
   "execution_count": 12,
   "id": "0d17c87c-5106-40d7-808c-9c514519fb04",
   "metadata": {},
   "outputs": [
    {
     "data": {
      "image/png": "[encoded data removed]",
      "text/plain": [
       "<Figure size 432x576 with 1 Axes>"
      ]
     },
     "metadata": {},
     "output_type": "display_data"
    }
   ],
   "source": [
    "# Plot weather type counts\n",
    "sns.set_context('talk')\n",
    "sns.set_style('white')\n",
    "plt.figure(figsize=(6,8))\n",
    "plt.barh(width=[x[1] for x in label_counts], \n",
    "         y=[x[0] for x in label_counts], \n",
    "         color='darkgreen')\n",
    "plt.yticks(ticks=list(range(0,2)), labels=[x[0] for x in label_counts])\n",
    "plt.xlabel('Samples')\n",
    "plt.title('Number of samples with given label')\n",
    "sns.despine()\n",
    "plt.show();"
   ]
  },
  {
   "cell_type": "code",
   "execution_count": 13,
   "id": "13cbeff7-f73b-4503-b6b4-bb27d41bf67c",
   "metadata": {},
   "outputs": [
    {
     "data": {
      "text/plain": [
       "0    311215\n",
       "1     32124\n",
       "Name: isGoal, dtype: int64"
      ]
     },
     "execution_count": 13,
     "metadata": {},
     "output_type": "execute_result"
    }
   ],
   "source": [
    "train_df.isGoal.value_counts()"
   ]
  },
  {
   "cell_type": "markdown",
   "id": "03e3a936-02bc-462c-b525-d2e0656ec90b",
   "metadata": {},
   "source": [
    "# Generate Train and Validation Splits"
   ]
  },
  {
   "cell_type": "code",
   "execution_count": 14,
   "id": "8f7092c3-2ad4-4fd7-b8dd-404acf862f11",
   "metadata": {},
   "outputs": [
    {
     "data": {
      "text/plain": [
       "(        distanceNet   angleNet\n",
       " 0         34.525353  10.007980\n",
       " 1         10.000000   0.000000\n",
       " 2         14.035669  -4.085617\n",
       " 3         49.517674 -46.636577\n",
       " 4         28.017851  -2.045408\n",
       " ...             ...        ...\n",
       " 343354    13.892444  30.256437\n",
       " 343355    21.189620  19.290046\n",
       " 343356    24.331050  -9.462322\n",
       " 343357    47.095647  -3.652223\n",
       " 343358    51.000000 -28.072487\n",
       " \n",
       " [343339 rows x 2 columns],\n",
       " 0         0\n",
       " 1         0\n",
       " 2         0\n",
       " 3         0\n",
       " 4         0\n",
       "          ..\n",
       " 343354    1\n",
       " 343355    0\n",
       " 343356    0\n",
       " 343357    0\n",
       " 343358    1\n",
       " Name: isGoal, Length: 343339, dtype: int64,\n",
       "        distanceNet   angleNet\n",
       " 0         4.123106  14.036243\n",
       " 1        57.035077  -2.009554\n",
       " 2        26.683328  12.994617\n",
       " 3        36.055513 -33.690068\n",
       " 4        55.226805 -31.675469\n",
       " ...            ...        ...\n",
       " 76615   149.933319   9.211027\n",
       " 76616   170.026469  -1.010997\n",
       " 76617   123.146255  -2.792702\n",
       " 76618   120.415946   4.763642\n",
       " 76619   166.000000   0.000000\n",
       " \n",
       " [76619 rows x 2 columns],\n",
       " 0        1\n",
       " 1        0\n",
       " 2        0\n",
       " 3        0\n",
       " 4        0\n",
       "         ..\n",
       " 76615    0\n",
       " 76616    0\n",
       " 76617    0\n",
       " 76618    0\n",
       " 76619    0\n",
       " Name: isGoal, Length: 76619, dtype: int64)"
      ]
     },
     "execution_count": 14,
     "metadata": {},
     "output_type": "execute_result"
    }
   ],
   "source": [
    "X = train_df.drop('isGoal', axis=1)\n",
    "Y = train_df['isGoal']\n",
    "testX = test_df.drop('isGoal', axis=1)\n",
    "testY = test_df['isGoal']\n",
    "X, Y, testX, testY"
   ]
  },
  {
   "cell_type": "code",
   "execution_count": 15,
   "id": "795a3588-4391-4c38-9949-9a183ec34d69",
   "metadata": {},
   "outputs": [
    {
     "data": {
      "text/plain": [
       "(        distanceNet   angleNet\n",
       " 206722    37.013511  51.581945\n",
       " 143038   130.391718  -8.378673\n",
       " 28061     30.000000  53.130102\n",
       " 87240     59.093147 -23.962489\n",
       " 141245   142.555252  -8.471145\n",
       " ...             ...        ...\n",
       " 6564      21.587033  13.392498\n",
       " 23777     21.931712  24.227745\n",
       " 336314    14.560220 -15.945396\n",
       " 73500     33.941125  45.000000\n",
       " 206948    22.022716  39.472460\n",
       " \n",
       " [274671 rows x 2 columns],\n",
       "         distanceNet   angleNet\n",
       " 284126    10.198039 -11.309932\n",
       " 105690    66.887966 -31.551385\n",
       " 43653      7.615773 -23.198591\n",
       " 71602     29.154759 -22.166346\n",
       " 118954    23.086793 -17.650124\n",
       " ...             ...        ...\n",
       " 321320    22.022716 -39.472460\n",
       " 270873    29.410882 -17.818889\n",
       " 26585     13.341664 -12.994617\n",
       " 1690      55.785303 -14.534455\n",
       " 189330    19.026298   3.012788\n",
       " \n",
       " [68668 rows x 2 columns],\n",
       " 206722    0\n",
       " 143038    0\n",
       " 28061     0\n",
       " 87240     0\n",
       " 141245    0\n",
       "          ..\n",
       " 6564      0\n",
       " 23777     0\n",
       " 336314    1\n",
       " 73500     0\n",
       " 206948    0\n",
       " Name: isGoal, Length: 274671, dtype: int64,\n",
       " 284126    0\n",
       " 105690    0\n",
       " 43653     0\n",
       " 71602     0\n",
       " 118954    0\n",
       "          ..\n",
       " 321320    0\n",
       " 270873    0\n",
       " 26585     0\n",
       " 1690      0\n",
       " 189330    0\n",
       " Name: isGoal, Length: 68668, dtype: int64)"
      ]
     },
     "execution_count": 15,
     "metadata": {},
     "output_type": "execute_result"
    }
   ],
   "source": [
    "trainX, valX, trainY, valY = train_test_split(X, Y, test_size=0.20, stratify=Y) #80-20 Split\n",
    "trainX, valX, trainY, valY"
   ]
  },
  {
   "cell_type": "code",
   "execution_count": 16,
   "id": "f15a4850-5c41-45ab-adbb-51d0b72b19a6",
   "metadata": {},
   "outputs": [],
   "source": [
    "# Save raw copies of train and validation sets before further preprocessing\n",
    "X_train_raw = trainX.copy()\n",
    "y_train_raw = trainY.copy()\n",
    "\n",
    "X_val_raw = valX.copy()\n",
    "y_val_raw = valY.copy()"
   ]
  },
  {
   "cell_type": "code",
   "execution_count": 17,
   "id": "5b5310de-404e-4b14-ae6e-740a4dd02b19",
   "metadata": {},
   "outputs": [
    {
     "data": {
      "text/html": [
       "<div>\n",
       "<style scoped>\n",
       "    .dataframe tbody tr th:only-of-type {\n",
       "        vertical-align: middle;\n",
       "    }\n",
       "\n",
       "    .dataframe tbody tr th {\n",
       "        vertical-align: top;\n",
       "    }\n",
       "\n",
       "    .dataframe thead th {\n",
       "        text-align: right;\n",
       "    }\n",
       "</style>\n",
       "<table border=\"1\" class=\"dataframe\">\n",
       "  <thead>\n",
       "    <tr style=\"text-align: right;\">\n",
       "      <th></th>\n",
       "      <th>0</th>\n",
       "      <th>1</th>\n",
       "    </tr>\n",
       "  </thead>\n",
       "  <tbody>\n",
       "    <tr>\n",
       "      <th>0</th>\n",
       "      <td>0.195162</td>\n",
       "      <td>0.635041</td>\n",
       "    </tr>\n",
       "    <tr>\n",
       "      <th>1</th>\n",
       "      <td>0.687521</td>\n",
       "      <td>0.464635</td>\n",
       "    </tr>\n",
       "    <tr>\n",
       "      <th>2</th>\n",
       "      <td>0.158182</td>\n",
       "      <td>0.639441</td>\n",
       "    </tr>\n",
       "    <tr>\n",
       "      <th>3</th>\n",
       "      <td>0.311582</td>\n",
       "      <td>0.420347</td>\n",
       "    </tr>\n",
       "    <tr>\n",
       "      <th>4</th>\n",
       "      <td>0.751656</td>\n",
       "      <td>0.464373</td>\n",
       "    </tr>\n",
       "    <tr>\n",
       "      <th>...</th>\n",
       "      <td>...</td>\n",
       "      <td>...</td>\n",
       "    </tr>\n",
       "    <tr>\n",
       "      <th>274666</th>\n",
       "      <td>0.113823</td>\n",
       "      <td>0.526508</td>\n",
       "    </tr>\n",
       "    <tr>\n",
       "      <th>274667</th>\n",
       "      <td>0.115640</td>\n",
       "      <td>0.557302</td>\n",
       "    </tr>\n",
       "    <tr>\n",
       "      <th>274668</th>\n",
       "      <td>0.076772</td>\n",
       "      <td>0.443131</td>\n",
       "    </tr>\n",
       "    <tr>\n",
       "      <th>274669</th>\n",
       "      <td>0.178963</td>\n",
       "      <td>0.616335</td>\n",
       "    </tr>\n",
       "    <tr>\n",
       "      <th>274670</th>\n",
       "      <td>0.116120</td>\n",
       "      <td>0.600626</td>\n",
       "    </tr>\n",
       "  </tbody>\n",
       "</table>\n",
       "<p>274671 rows × 2 columns</p>\n",
       "</div>"
      ],
      "text/plain": [
       "               0         1\n",
       "0       0.195162  0.635041\n",
       "1       0.687521  0.464635\n",
       "2       0.158182  0.639441\n",
       "3       0.311582  0.420347\n",
       "4       0.751656  0.464373\n",
       "...          ...       ...\n",
       "274666  0.113823  0.526508\n",
       "274667  0.115640  0.557302\n",
       "274668  0.076772  0.443131\n",
       "274669  0.178963  0.616335\n",
       "274670  0.116120  0.600626\n",
       "\n",
       "[274671 rows x 2 columns]"
      ]
     },
     "execution_count": 17,
     "metadata": {},
     "output_type": "execute_result"
    }
   ],
   "source": [
    "# Scale the features\n",
    "scaler = MinMaxScaler()\n",
    "X_scaled = scaler.fit_transform(trainX)\n",
    "X_scaled = pd.DataFrame(X_scaled)\n",
    "X_scaled"
   ]
  },
  {
   "cell_type": "code",
   "execution_count": 18,
   "id": "95461f47-945b-4330-89de-50981c3ee057",
   "metadata": {},
   "outputs": [
    {
     "data": {
      "text/html": [
       "<div>\n",
       "<style scoped>\n",
       "    .dataframe tbody tr th:only-of-type {\n",
       "        vertical-align: middle;\n",
       "    }\n",
       "\n",
       "    .dataframe tbody tr th {\n",
       "        vertical-align: top;\n",
       "    }\n",
       "\n",
       "    .dataframe thead th {\n",
       "        text-align: right;\n",
       "    }\n",
       "</style>\n",
       "<table border=\"1\" class=\"dataframe\">\n",
       "  <thead>\n",
       "    <tr style=\"text-align: right;\">\n",
       "      <th></th>\n",
       "      <th>0</th>\n",
       "      <th>1</th>\n",
       "    </tr>\n",
       "  </thead>\n",
       "  <tbody>\n",
       "    <tr>\n",
       "      <th>count</th>\n",
       "      <td>274671.000000</td>\n",
       "      <td>274671.000000</td>\n",
       "    </tr>\n",
       "    <tr>\n",
       "      <th>mean</th>\n",
       "      <td>0.211585</td>\n",
       "      <td>0.490905</td>\n",
       "    </tr>\n",
       "    <tr>\n",
       "      <th>std</th>\n",
       "      <td>0.171422</td>\n",
       "      <td>0.102700</td>\n",
       "    </tr>\n",
       "    <tr>\n",
       "      <th>min</th>\n",
       "      <td>0.000000</td>\n",
       "      <td>0.000000</td>\n",
       "    </tr>\n",
       "    <tr>\n",
       "      <th>25%</th>\n",
       "      <td>0.093433</td>\n",
       "      <td>0.412950</td>\n",
       "    </tr>\n",
       "    <tr>\n",
       "      <th>50%</th>\n",
       "      <td>0.181431</td>\n",
       "      <td>0.488447</td>\n",
       "    </tr>\n",
       "    <tr>\n",
       "      <th>75%</th>\n",
       "      <td>0.270199</td>\n",
       "      <td>0.568048</td>\n",
       "    </tr>\n",
       "    <tr>\n",
       "      <th>max</th>\n",
       "      <td>1.000000</td>\n",
       "      <td>1.000000</td>\n",
       "    </tr>\n",
       "  </tbody>\n",
       "</table>\n",
       "</div>"
      ],
      "text/plain": [
       "                   0              1\n",
       "count  274671.000000  274671.000000\n",
       "mean        0.211585       0.490905\n",
       "std         0.171422       0.102700\n",
       "min         0.000000       0.000000\n",
       "25%         0.093433       0.412950\n",
       "50%         0.181431       0.488447\n",
       "75%         0.270199       0.568048\n",
       "max         1.000000       1.000000"
      ]
     },
     "execution_count": 18,
     "metadata": {},
     "output_type": "execute_result"
    }
   ],
   "source": [
    "# Check the results\n",
    "X_scaled.describe()"
   ]
  },
  {
   "cell_type": "code",
   "execution_count": 19,
   "id": "06a47565-674e-4bf7-a18e-8fc2f7e341b2",
   "metadata": {},
   "outputs": [],
   "source": [
    "# Build a pipeline for the preprocessing steps\n",
    "pipe_prepro = Pipeline([('scaler', MinMaxScaler())])\n",
    "\n",
    "# Fit the pipeline and transform the training dataset\n",
    "X_train_trans = pipe_prepro.fit_transform(trainX)\n",
    "# Use the pipeline to transform the validation and test datasets\n",
    "X_val_trans = pipe_prepro.transform(valX)\n",
    "X_test_trans = pipe_prepro.transform(testX)"
   ]
  },
  {
   "cell_type": "markdown",
   "id": "1c7a1a1d-fa1d-4efd-9969-04101c649b4e",
   "metadata": {},
   "source": [
    "# Some Helper Functions"
   ]
  },
  {
   "cell_type": "code",
   "execution_count": 20,
   "id": "05cd22be-e06c-44be-8594-e5ed7fc612b0",
   "metadata": {},
   "outputs": [],
   "source": [
    "# Define a function to print selected model metrics\n",
    "def print_metrics(y_true, y_pred):\n",
    "    '''Print accuracy score, confusion matrix, and classification report.\n",
    "    \n",
    "    Keyword arguments:\n",
    "    y_true: groud-truth labels\n",
    "    y_pred: predicted labels\n",
    "    \n",
    "    Dependencies: \n",
    "    sklearn.metrics.accuracy_score\n",
    "    sklearn.metrics.confusion_matrix\n",
    "    sklearn.metrics.classification_report\n",
    "    '''\n",
    "    acc_score = accuracy_score(y_true, y_pred)\n",
    "    conf_matrix = confusion_matrix(y_true, y_pred)\n",
    "    class_report = classification_report(y_true, y_pred)\n",
    "    print('Accuracy:', acc_score)\n",
    "    print('-------')\n",
    "    print('Confusion matrix:')\n",
    "    print(conf_matrix)\n",
    "    print('-------')\n",
    "    print('Classification report:')\n",
    "    print(class_report)\n",
    "    \n",
    "# Define a function to make the ROC-AUC Curves\n",
    "def roc_it(y_true, y_pred, model_name, figsize=(12,10)):\n",
    "    '''Plot ROC with a separate curve for each class.\n",
    "    \n",
    "        Keyword arguments:\n",
    "    y_true: ground-truth labels\n",
    "    y_pred: predicted labels\n",
    "    model_name: name to print in the plot title\n",
    "    \n",
    "    Dependencies:\n",
    "    pandas aliased as pd\n",
    "    sklearn.metrics.roc_curve\n",
    "    sklearn.metrics.auc\n",
    "    matplotlib.pyplot aliased as plt\n",
    "    '''\n",
    "    y_true_dum = pd.get_dummies(y_true)\n",
    "    y_pred_dum = pd.get_dummies(y_pred)\n",
    "    n_classes = y_true.nunique()\n",
    "    \n",
    "    fprs = []\n",
    "    tprs = []\n",
    "    aucs = []\n",
    "\n",
    "    for i in range(0,n_classes-1):\n",
    "        fpr, tpr, _ = roc_curve(y_true_dum.loc[:,i], y_pred_dum.loc[:,i])\n",
    "        fprs.append(fpr)\n",
    "        tprs.append(tpr)\n",
    "        aucs.append(round(auc(fpr, tpr),2))\n",
    "        \n",
    "    plt.figure(figsize=(12,10))\n",
    "    for i in range(0, n_classes-1):\n",
    "        plt.plot(fprs[i], tprs[i], label='Class: {}, AUC: {}'.format(i, \n",
    "                                                                     aucs[i]))\n",
    "    plt.plot([0.0,1.0], [0.0,1.0], linestyle='--')\n",
    "    plt.title('ROC curves by class for {}'.format(model_name))\n",
    "    plt.xlabel('False Positive Rate')\n",
    "    plt.ylabel('True Positive Rate')\n",
    "    plt.legend();"
   ]
  },
  {
   "cell_type": "markdown",
   "id": "e9a8a25f-51ca-41b5-98de-d3fb60fc180e",
   "metadata": {},
   "source": [
    "# Neural Network with KERAS"
   ]
  },
  {
   "cell_type": "code",
   "execution_count": 21,
   "id": "12dfee0c",
   "metadata": {},
   "outputs": [],
   "source": [
    "# convert to tf.data.Dataset\n",
    "train_ds = tf.data.Dataset.from_tensor_slices((X_train_trans, trainY))\n",
    "val_ds = tf.data.Dataset.from_tensor_slices((X_val_trans, valY))"
   ]
  },
  {
   "cell_type": "code",
   "execution_count": 22,
   "id": "d708118e",
   "metadata": {
    "scrolled": true
   },
   "outputs": [
    {
     "name": "stdout",
     "output_type": "stream",
     "text": [
      "Data: [0.19516238 0.63504109], Target: 0\n",
      "\n",
      "Data: [0.68752077 0.46463544], Target: 0\n",
      "\n"
     ]
    }
   ],
   "source": [
    "for inputs, targets in train_ds.take(2):\n",
    "    print ('Data: {}, Target: {}'.format(inputs, targets))\n",
    "    print()"
   ]
  },
  {
   "cell_type": "code",
   "execution_count": 23,
   "id": "ebedf400",
   "metadata": {
    "scrolled": true
   },
   "outputs": [
    {
     "name": "stdout",
     "output_type": "stream",
     "text": [
      "274671\n"
     ]
    }
   ],
   "source": [
    "print(train_ds.cardinality().numpy())"
   ]
  },
  {
   "cell_type": "code",
   "execution_count": 24,
   "id": "ac2ef8f1",
   "metadata": {},
   "outputs": [
    {
     "name": "stdout",
     "output_type": "stream",
     "text": [
      "68668\n"
     ]
    }
   ],
   "source": [
    "print(val_ds.cardinality().numpy())"
   ]
  },
  {
   "cell_type": "code",
   "execution_count": 25,
   "id": "e302f307",
   "metadata": {},
   "outputs": [
    {
     "name": "stdout",
     "output_type": "stream",
     "text": [
      "Data:  [[0.92001267 0.50059036]\n",
      " [0.17685286 0.51773325]\n",
      " [0.15676964 0.43259192]]\n",
      "Target:  [0 0 0]\n",
      "\n",
      "Data:  [[0.04251014 0.31720468]\n",
      " [0.08518362 0.42648857]\n",
      " [0.75139689 0.50217515]]\n",
      "Target:  [0 1 0]\n",
      "\n",
      "Data:  [[0.71259973 0.45323298]\n",
      " [0.16036393 0.25956247]\n",
      " [0.10870018 0.44855685]]\n",
      "Target:  [0 0 1]\n",
      "\n"
     ]
    }
   ],
   "source": [
    "BATCH_SIZE = 2048\n",
    "\n",
    "train_ds = train_ds.shuffle(buffer_size=1000)\n",
    "train_ds = train_ds.batch(BATCH_SIZE)\n",
    "\n",
    "val_ds = val_ds.shuffle(buffer_size=1000)\n",
    "val_ds = val_ds.batch(BATCH_SIZE)\n",
    "\n",
    "for inputs, targets in train_ds.take(3):\n",
    "    print('Data: ', inputs.numpy()[:3])\n",
    "    print('Target: ', targets.numpy()[:3])\n",
    "    print()"
   ]
  },
  {
   "cell_type": "code",
   "execution_count": 26,
   "id": "7f626bdb-edee-4a26-a1af-67706861235b",
   "metadata": {},
   "outputs": [],
   "source": [
    "def build_model():\n",
    "    \n",
    "    model = keras.models.Sequential()\n",
    "    \n",
    "    #Input Layer\n",
    "    model.add(layers.InputLayer(input_shape=(2,)))\n",
    "    \n",
    "    # first fc layer\n",
    "    model.add(layers.Dense(128, activation='relu'))\n",
    "    model.add(layers.Dropout(0.2))\n",
    "\n",
    "    model.add(layers.Dense(256, activation='relu'))\n",
    "    model.add(layers.Dropout(0.2))\n",
    "    \n",
    "    model.add(layers.Dense(256, activation='relu'))\n",
    "    model.add(layers.Dropout(0.2))\n",
    "      \n",
    "    model.add(layers.Dense(128, activation='relu'))\n",
    "    model.add(layers.Dropout(0.2))\n",
    "    \n",
    "    model.add(layers.Dense(64, activation='relu'))\n",
    "    model.add(layers.Dropout(0.2))\n",
    "    \n",
    "    model.add(layers.Dense(32, activation='relu'))\n",
    "    model.add(layers.Dropout(0.2))\n",
    "    \n",
    "    # Last fc layer \n",
    "    # We choose the activation method as a sigmoid to get an output ranging between [0, 1]\n",
    "    model.add(layers.Dense(1, activation='sigmoid', name='target'))\n",
    "    \n",
    "    return model"
   ]
  },
  {
   "cell_type": "code",
   "execution_count": 27,
   "id": "c2e7dbc9",
   "metadata": {},
   "outputs": [
    {
     "name": "stdout",
     "output_type": "stream",
     "text": [
      "Model: \"sequential\"\n",
      "_________________________________________________________________\n",
      " Layer (type)                Output Shape              Param #   \n",
      "=================================================================\n",
      " dense (Dense)               (None, 128)               384       \n",
      "                                                                 \n",
      " dropout (Dropout)           (None, 128)               0         \n",
      "                                                                 \n",
      " dense_1 (Dense)             (None, 256)               33024     \n",
      "                                                                 \n",
      " dropout_1 (Dropout)         (None, 256)               0         \n",
      "                                                                 \n",
      " dense_2 (Dense)             (None, 256)               65792     \n",
      "                                                                 \n",
      " dropout_2 (Dropout)         (None, 256)               0         \n",
      "                                                                 \n",
      " dense_3 (Dense)             (None, 128)               32896     \n",
      "                                                                 \n",
      " dropout_3 (Dropout)         (None, 128)               0         \n",
      "                                                                 \n",
      " dense_4 (Dense)             (None, 64)                8256      \n",
      "                                                                 \n",
      " dropout_4 (Dropout)         (None, 64)                0         \n",
      "                                                                 \n",
      " dense_5 (Dense)             (None, 32)                2080      \n",
      "                                                                 \n",
      " dropout_5 (Dropout)         (None, 32)                0         \n",
      "                                                                 \n",
      " target (Dense)              (None, 1)                 33        \n",
      "                                                                 \n",
      "=================================================================\n",
      "Total params: 142,465\n",
      "Trainable params: 142,465\n",
      "Non-trainable params: 0\n",
      "_________________________________________________________________\n",
      "None\n"
     ]
    }
   ],
   "source": [
    "#build model\n",
    "model = build_model()\n",
    "\n",
    "# Compile The model\n",
    "LEARNING_RATE = 1e-2\n",
    "\n",
    "model.compile(optimizer = tf.keras.optimizers.Adam(learning_rate=LEARNING_RATE),\n",
    "          loss = keras.losses.BinaryCrossentropy(from_logits=False),\n",
    "          metrics = [keras.metrics.BinaryAccuracy()])\n",
    "\n",
    "print(model.summary())"
   ]
  },
  {
   "cell_type": "code",
   "execution_count": 28,
   "id": "ca5b5b79",
   "metadata": {},
   "outputs": [],
   "source": [
    "stop_early = tf.keras.callbacks.EarlyStopping(monitor='val_loss', patience=3, verbose=1, mode='min')\n",
    "EPOCHS = 10"
   ]
  },
  {
   "cell_type": "code",
   "execution_count": 29,
   "id": "8fa005e0",
   "metadata": {},
   "outputs": [],
   "source": [
    "#these will all get logged\n",
    "params={'batch_size':BATCH_SIZE,\n",
    "        'epochs':EPOCHS,\n",
    "        'layer1_num':512,\n",
    "        'optimizer':'adam',\n",
    "        'learning_rate':LEARNING_RATE\n",
    "}"
   ]
  },
  {
   "cell_type": "code",
   "execution_count": 30,
   "id": "8402236f",
   "metadata": {},
   "outputs": [
    {
     "name": "stderr",
     "output_type": "stream",
     "text": [
      "COMET INFO: Ignoring automatic log_parameter('verbose') because 'keras:verbose' is in COMET_LOGGING_PARAMETERS_IGNORE\n"
     ]
    },
    {
     "name": "stdout",
     "output_type": "stream",
     "text": [
      "Epoch 1/10\n",
      "8584/8584 [==============================] - 47s 5ms/step - loss: 0.3124 - binary_accuracy: 0.9064 - val_loss: 0.3107 - val_binary_accuracy: 0.9064\n",
      "Epoch 2/10\n",
      "8584/8584 [==============================] - 45s 5ms/step - loss: 0.3108 - binary_accuracy: 0.9064 - val_loss: 0.3108 - val_binary_accuracy: 0.9064\n",
      "Epoch 3/10\n",
      "8584/8584 [==============================] - 44s 5ms/step - loss: 0.3108 - binary_accuracy: 0.9064 - val_loss: 0.3108 - val_binary_accuracy: 0.9064\n",
      "Epoch 4/10\n",
      "8584/8584 [==============================] - 43s 5ms/step - loss: 0.3108 - binary_accuracy: 0.9064 - val_loss: 0.3108 - val_binary_accuracy: 0.9064\n",
      "Epoch 00004: early stopping\n"
     ]
    }
   ],
   "source": [
    "#will log metrics with the prefix 'train_'\n",
    "with comet_exp.train():\n",
    "    history = model.fit(x=train_ds,\n",
    "                        epochs=EPOCHS,\n",
    "                        validation_data=val_ds,\n",
    "                        callbacks=[stop_early])"
   ]
  },
  {
   "cell_type": "code",
   "execution_count": 32,
   "id": "7cf37d76",
   "metadata": {},
   "outputs": [
    {
     "data": {
      "text/plain": [
       "['loss', 'binary_accuracy']"
      ]
     },
     "execution_count": 32,
     "metadata": {},
     "output_type": "execute_result"
    }
   ],
   "source": [
    "model.metrics_names"
   ]
  },
  {
   "cell_type": "code",
   "execution_count": 33,
   "id": "ae065966",
   "metadata": {},
   "outputs": [],
   "source": [
    "# loss, score_loss, price_loss, score_rmse, price_rmse= model.evaluate(test_ds)\n",
    "\n",
    "# print(\"Test Loss: \", loss)\n",
    "# print(\"Test Score Loss: \", score_loss)\n",
    "# print(\"Test Price Loss: \", price_loss)\n",
    "# print(\"Test Score Root Mean Squared Error: \", score_rmse)\n",
    "# print(\"Test Price Root Mean Squared Error: \", price_rmse)"
   ]
  },
  {
   "cell_type": "code",
   "execution_count": 34,
   "id": "2a74c48e",
   "metadata": {
    "scrolled": true
   },
   "outputs": [
    {
     "name": "stdout",
     "output_type": "stream",
     "text": [
      "2146/2146 [==============================] - 4s 2ms/step\n"
     ]
    }
   ],
   "source": [
    "val_pred = model.predict(val_ds, verbose=1)"
   ]
  },
  {
   "cell_type": "code",
   "execution_count": 35,
   "id": "f7d6d59e",
   "metadata": {},
   "outputs": [
    {
     "data": {
      "text/plain": [
       "array([[0.09783998],\n",
       "       [0.09783998],\n",
       "       [0.09783998],\n",
       "       ...,\n",
       "       [0.09783998],\n",
       "       [0.09783998],\n",
       "       [0.09783998]], dtype=float32)"
      ]
     },
     "execution_count": 35,
     "metadata": {},
     "output_type": "execute_result"
    }
   ],
   "source": [
    "val_pred"
   ]
  },
  {
   "cell_type": "code",
   "execution_count": 36,
   "id": "70c989a1",
   "metadata": {
    "scrolled": true
   },
   "outputs": [],
   "source": [
    "threshold = 0.5\n",
    "val_pred = np.where(val_pred > threshold, 1,0)"
   ]
  },
  {
   "cell_type": "code",
   "execution_count": 37,
   "id": "71df695c",
   "metadata": {
    "scrolled": true
   },
   "outputs": [],
   "source": [
    "val_pred = np.concatenate([y for y in val_pred], axis=0)"
   ]
  },
  {
   "cell_type": "code",
   "execution_count": 44,
   "id": "a687899d",
   "metadata": {},
   "outputs": [
    {
     "data": {
      "text/plain": [
       "array([0, 0, 0, ..., 0, 0, 0])"
      ]
     },
     "execution_count": 44,
     "metadata": {},
     "output_type": "execute_result"
    }
   ],
   "source": [
    "val_pred"
   ]
  },
  {
   "cell_type": "code",
   "execution_count": 39,
   "id": "d96e80cd",
   "metadata": {},
   "outputs": [],
   "source": [
    "val_y_true = np.concatenate([y for x, y in val_ds], axis=0)"
   ]
  },
  {
   "cell_type": "code",
   "execution_count": 42,
   "id": "eb4377b0",
   "metadata": {},
   "outputs": [
    {
     "data": {
      "text/plain": [
       "array([0, 0, 0, ..., 0, 0, 0], dtype=int64)"
      ]
     },
     "execution_count": 42,
     "metadata": {},
     "output_type": "execute_result"
    }
   ],
   "source": [
    "val_y_true"
   ]
  },
  {
   "cell_type": "code",
   "execution_count": null,
   "id": "e16bdc69",
   "metadata": {},
   "outputs": [],
   "source": [
    "# Plot ROC curve for each class\n",
    "roc_it(valY, val_pred, 'Neural Network 2-f')"
   ]
  },
  {
   "cell_type": "markdown",
   "id": "20e42ce0",
   "metadata": {},
   "source": [
    "# Prepare for Comet Logs"
   ]
  },
  {
   "cell_type": "code",
   "execution_count": null,
   "id": "839a0704",
   "metadata": {},
   "outputs": [],
   "source": [
    "#will log metrics with the prefix 'test_'\n",
    "# with experiment.test():\n",
    "#     loss, accuracy = model.evaluate(x_test, y_test)\n",
    "#     metrics = {\n",
    "#         'loss':loss,\n",
    "#         'accuracy':accuracy\n",
    "#     }\n",
    "#     experiment.log_metrics(metrics)"
   ]
  },
  {
   "cell_type": "code",
   "execution_count": null,
   "id": "0678502f",
   "metadata": {},
   "outputs": [],
   "source": [
    "comet_exp.log_parameters(params)"
   ]
  }
 ],
 "metadata": {
  "kernelspec": {
   "display_name": "ift6758-conda-env",
   "language": "python",
   "name": "ift6758-conda-env"
  },
  "language_info": {
   "codemirror_mode": {
    "name": "ipython",
    "version": 3
   },
   "file_extension": ".py",
   "mimetype": "text/x-python",
   "name": "python",
   "nbconvert_exporter": "python",
   "pygments_lexer": "ipython3",
   "version": "3.9.7"
  }
 },
 "nbformat": 4,
 "nbformat_minor": 5
}
