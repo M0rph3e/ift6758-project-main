{
 "cells": [
  {
   "cell_type": "code",
   "execution_count": 4,
   "id": "8ec8fca5-42cf-4459-a761-3e39b5f8479e",
   "metadata": {},
   "outputs": [
    {
     "name": "stdout",
     "output_type": "stream",
     "text": [
      "The autoreload extension is already loaded. To reload it, use:\n",
      "  %reload_ext autoreload\n"
     ]
    }
   ],
   "source": [
    "%load_ext autoreload\n",
    "%autoreload 2"
   ]
  },
  {
   "cell_type": "markdown",
   "id": "d5b54079",
   "metadata": {},
   "source": [
    "# Comet Import and Setup"
   ]
  },
  {
   "cell_type": "code",
   "execution_count": 5,
   "id": "908d62e3",
   "metadata": {},
   "outputs": [],
   "source": [
    "#comet imports\n",
    "from comet_ml import Experiment"
   ]
  },
  {
   "cell_type": "code",
   "execution_count": 9,
   "id": "62ad282b",
   "metadata": {},
   "outputs": [
    {
     "name": "stderr",
     "output_type": "stream",
     "text": [
      "COMET INFO: ---------------------------\n",
      "COMET INFO: Comet.ml Experiment Summary\n",
      "COMET INFO: ---------------------------\n",
      "COMET INFO:   Data:\n",
      "COMET INFO:     display_summary_level : 1\n",
      "COMET INFO:     url                   : https://www.comet.ml/morph-e/milestone-2/e1b25bbe6ebe466a807aec8d835db26c\n",
      "COMET INFO:   Metrics:\n",
      "COMET INFO:   Parameters:\n",
      "COMET INFO:   Uploads:\n",
      "COMET INFO:     environment details      : 1\n",
      "COMET INFO:     filename                 : 1\n",
      "COMET INFO:     git metadata             : 1\n",
      "COMET INFO:     git-patch (uncompressed) : 1 (5 MB)\n",
      "COMET INFO:     installed packages       : 1\n",
      "COMET INFO: ---------------------------\n",
      "COMET INFO: Experiment is live on comet.ml https://www.comet.ml/morph-e/milestone-2/7b31fdabd2264bacb15166b2be9f561e\n",
      "\n"
     ]
    }
   ],
   "source": [
    "# Import comet_ml at the top of your file, before sklearn!\n",
    "from comet_ml import Experiment\n",
    "import os \n",
    "\n",
    "# Create an experiment with your api key\n",
    "comet_exp = Experiment(\n",
    "    api_key=os.environ.get('COMET_API_KEY'),  # don’t hardcode!!\n",
    "    project_name=\"milestone_2\",\n",
    "    workspace=\"morph-e\",\n",
    "    log_code=True,\n",
    ")"
   ]
  },
  {
   "cell_type": "markdown",
   "id": "0dc1b642-7bfd-496c-a49c-3e051a191a51",
   "metadata": {},
   "source": [
    "# Imports"
   ]
  },
  {
   "cell_type": "code",
   "execution_count": 128,
   "id": "c2635c3c-0b25-4e86-b6b5-9c3ef9d2de4a",
   "metadata": {},
   "outputs": [],
   "source": [
    "#classic\n",
    "import numpy as np\n",
    "import pandas as pd\n",
    "import matplotlib as mpl\n",
    "import matplotlib.pyplot as plt\n",
    "import seaborn as sns\n",
    "import os\n",
    "import random\n",
    "import tempfile\n",
    "\n",
    "#project imports\n",
    "from ift6758.features.feature_engineering2 import SeasonDataSetTwo\n",
    "from ift6758.metrics import plot_metrics\n",
    "from ift6758.data.data_acquisition import Season\n",
    "from ift6758.visualizations.simple_visualization import Utilities \n",
    "\n",
    "#sk-learn imports\n",
    "from sklearn.preprocessing import StandardScaler, MinMaxScaler\n",
    "from sklearn.model_selection import train_test_split\n",
    "from sklearn.pipeline import Pipeline\n",
    "from sklearn.metrics import (accuracy_score, confusion_matrix, \n",
    "                             classification_report, roc_curve, auc)\n",
    "\n",
    "#keras imports\n",
    "import tensorflow as tf\n",
    "from tensorflow import keras\n",
    "from tensorflow.keras import layers, losses, preprocessing, activations\n",
    "\n"
   ]
  },
  {
   "cell_type": "code",
   "execution_count": 129,
   "id": "6c645700",
   "metadata": {},
   "outputs": [],
   "source": [
    "#misc\n",
    "pd.set_option('display.max_columns', None)\n",
    "\n",
    "mpl.rcParams['figure.figsize'] = (12, 10)\n",
    "colors = plt.rcParams['axes.prop_cycle'].by_key()['color']\n",
    "\n",
    "import warnings\n",
    "warnings.filterwarnings(\"ignore\")"
   ]
  },
  {
   "cell_type": "markdown",
   "id": "685668d4-2f27-498d-bc95-40c6f8a2262d",
   "metadata": {},
   "source": [
    "# DATA LOADING"
   ]
  },
  {
   "cell_type": "code",
   "execution_count": 12,
   "id": "8db58e48-f4b5-4e61-95eb-c5abc27eb253",
   "metadata": {},
   "outputs": [],
   "source": [
    "#year selection\n",
    "train_years = [2015,2016,2017]\n",
    "valid_years = [2018]\n",
    "test_years=[2019]"
   ]
  },
  {
   "cell_type": "code",
   "execution_count": 13,
   "id": "b61c930f-c543-46c6-be8b-26031c687150",
   "metadata": {},
   "outputs": [
    {
     "name": "stdout",
     "output_type": "stream",
     "text": [
      "File with all events already Exists, loading from ../ift6758/data/PICKLE//2015_clean_all_events.pkl\n",
      "File already Exists, loading from ../ift6758/data/PICKLE//2015_period_info.pkl\n",
      "File with all events already Exists, loading from ../ift6758/data/PICKLE//2016_clean_all_events.pkl\n",
      "File already Exists, loading from ../ift6758/data/PICKLE//2016_period_info.pkl\n",
      "File with all events already Exists, loading from ../ift6758/data/PICKLE//2017_clean_all_events.pkl\n",
      "File already Exists, loading from ../ift6758/data/PICKLE//2017_period_info.pkl\n",
      "File with all events already Exists, loading from ../ift6758/data/PICKLE//2018_clean_all_events.pkl\n",
      "File already Exists, loading from ../ift6758/data/PICKLE//2018_period_info.pkl\n"
     ]
    }
   ],
   "source": [
    "train_dataset = SeasonDataSetTwo(train_years)\n",
    "valid_dataset = SeasonDataSetTwo(valid_years)\n",
    "train_df = train_dataset.get_features_2()\n",
    "valid_df = valid_dataset.get_features_2()"
   ]
  },
  {
   "cell_type": "code",
   "execution_count": 14,
   "id": "62063889-8c05-403d-b06a-28ec22532223",
   "metadata": {},
   "outputs": [
    {
     "name": "stdout",
     "output_type": "stream",
     "text": [
      "File with all events already Exists, loading from ../ift6758/data/PICKLE//2019_clean_all_events.pkl\n",
      "File already Exists, loading from ../ift6758/data/PICKLE//2019_period_info.pkl\n"
     ]
    }
   ],
   "source": [
    "test_data = SeasonDataSetTwo(test_years)\n",
    "test_df = test_data.get_features_2()"
   ]
  },
  {
   "cell_type": "markdown",
   "id": "9f2901e7",
   "metadata": {},
   "source": [
    "# Split and shuffle"
   ]
  },
  {
   "cell_type": "code",
   "execution_count": 15,
   "id": "f2359d87",
   "metadata": {},
   "outputs": [],
   "source": [
    "random.seed(42)"
   ]
  },
  {
   "cell_type": "code",
   "execution_count": 16,
   "id": "3024da1e",
   "metadata": {},
   "outputs": [],
   "source": [
    "train_df = train_df.sample(frac=1)\n",
    "test_df = test_df.sample(frac=1)\n",
    "valid_df = valid_df.sample(frac=1)"
   ]
  },
  {
   "cell_type": "code",
   "execution_count": 17,
   "id": "0561e7fb",
   "metadata": {},
   "outputs": [
    {
     "data": {
      "text/html": [
       "<div>\n",
       "<style scoped>\n",
       "    .dataframe tbody tr th:only-of-type {\n",
       "        vertical-align: middle;\n",
       "    }\n",
       "\n",
       "    .dataframe tbody tr th {\n",
       "        vertical-align: top;\n",
       "    }\n",
       "\n",
       "    .dataframe thead th {\n",
       "        text-align: right;\n",
       "    }\n",
       "</style>\n",
       "<table border=\"1\" class=\"dataframe\">\n",
       "  <thead>\n",
       "    <tr style=\"text-align: right;\">\n",
       "      <th></th>\n",
       "      <th>result.penaltySeverity</th>\n",
       "      <th>result.penaltyMinutes</th>\n",
       "      <th>gamePk</th>\n",
       "      <th>team.name</th>\n",
       "      <th>gamePeriod</th>\n",
       "      <th>coordinatesX</th>\n",
       "      <th>coordinatesY</th>\n",
       "      <th>shotType</th>\n",
       "      <th>emptyNet</th>\n",
       "      <th>result.strength.name</th>\n",
       "      <th>gameSeconds</th>\n",
       "      <th>shotDistance</th>\n",
       "      <th>shotAngle</th>\n",
       "      <th>isGoal</th>\n",
       "      <th>lastEventType</th>\n",
       "      <th>lastEventCoordinatesX</th>\n",
       "      <th>lastEventCoordinatesY</th>\n",
       "      <th>timeFromLastEvent</th>\n",
       "      <th>distanceFromLastEvent</th>\n",
       "      <th>rebound</th>\n",
       "      <th>speed</th>\n",
       "      <th>changeInShotAngle</th>\n",
       "    </tr>\n",
       "  </thead>\n",
       "  <tbody>\n",
       "    <tr>\n",
       "      <th>207516</th>\n",
       "      <td>NaN</td>\n",
       "      <td>NaN</td>\n",
       "      <td>2017020583</td>\n",
       "      <td>Dallas Stars</td>\n",
       "      <td>1</td>\n",
       "      <td>-53.0</td>\n",
       "      <td>36.0</td>\n",
       "      <td>Slap Shot</td>\n",
       "      <td>0</td>\n",
       "      <td>NaN</td>\n",
       "      <td>506.0</td>\n",
       "      <td>50.911688</td>\n",
       "      <td>45.000000</td>\n",
       "      <td>0</td>\n",
       "      <td>Shot</td>\n",
       "      <td>-51.0</td>\n",
       "      <td>-20.0</td>\n",
       "      <td>22.0</td>\n",
       "      <td>56.035703</td>\n",
       "      <td>True</td>\n",
       "      <td>2.547077</td>\n",
       "      <td>36.869898</td>\n",
       "    </tr>\n",
       "    <tr>\n",
       "      <th>230814</th>\n",
       "      <td>NaN</td>\n",
       "      <td>NaN</td>\n",
       "      <td>2017020942</td>\n",
       "      <td>Pittsburgh Penguins</td>\n",
       "      <td>1</td>\n",
       "      <td>80.0</td>\n",
       "      <td>11.0</td>\n",
       "      <td>Backhand</td>\n",
       "      <td>0</td>\n",
       "      <td>NaN</td>\n",
       "      <td>1084.0</td>\n",
       "      <td>14.212670</td>\n",
       "      <td>-50.710593</td>\n",
       "      <td>0</td>\n",
       "      <td>Takeaway</td>\n",
       "      <td>14.0</td>\n",
       "      <td>-11.0</td>\n",
       "      <td>2.0</td>\n",
       "      <td>69.570109</td>\n",
       "      <td>False</td>\n",
       "      <td>34.785054</td>\n",
       "      <td>0.000000</td>\n",
       "    </tr>\n",
       "    <tr>\n",
       "      <th>166377</th>\n",
       "      <td>NaN</td>\n",
       "      <td>NaN</td>\n",
       "      <td>2017010033</td>\n",
       "      <td>Colorado Avalanche</td>\n",
       "      <td>2</td>\n",
       "      <td>54.0</td>\n",
       "      <td>19.0</td>\n",
       "      <td>Slap Shot</td>\n",
       "      <td>0</td>\n",
       "      <td>NaN</td>\n",
       "      <td>741.0</td>\n",
       "      <td>39.824616</td>\n",
       "      <td>-28.495639</td>\n",
       "      <td>0</td>\n",
       "      <td>Faceoff</td>\n",
       "      <td>-69.0</td>\n",
       "      <td>22.0</td>\n",
       "      <td>21.0</td>\n",
       "      <td>123.036580</td>\n",
       "      <td>False</td>\n",
       "      <td>5.858885</td>\n",
       "      <td>0.000000</td>\n",
       "    </tr>\n",
       "    <tr>\n",
       "      <th>11220</th>\n",
       "      <td>NaN</td>\n",
       "      <td>NaN</td>\n",
       "      <td>2015020189</td>\n",
       "      <td>Minnesota Wild</td>\n",
       "      <td>2</td>\n",
       "      <td>72.0</td>\n",
       "      <td>-21.0</td>\n",
       "      <td>Snap Shot</td>\n",
       "      <td>0</td>\n",
       "      <td>NaN</td>\n",
       "      <td>549.0</td>\n",
       "      <td>27.018512</td>\n",
       "      <td>51.009006</td>\n",
       "      <td>0</td>\n",
       "      <td>Faceoff</td>\n",
       "      <td>69.0</td>\n",
       "      <td>-22.0</td>\n",
       "      <td>7.0</td>\n",
       "      <td>3.162278</td>\n",
       "      <td>False</td>\n",
       "      <td>0.451754</td>\n",
       "      <td>0.000000</td>\n",
       "    </tr>\n",
       "    <tr>\n",
       "      <th>60808</th>\n",
       "      <td>NaN</td>\n",
       "      <td>NaN</td>\n",
       "      <td>2015021011</td>\n",
       "      <td>Edmonton Oilers</td>\n",
       "      <td>2</td>\n",
       "      <td>-51.0</td>\n",
       "      <td>13.0</td>\n",
       "      <td>Wrist Shot</td>\n",
       "      <td>0</td>\n",
       "      <td>NaN</td>\n",
       "      <td>785.0</td>\n",
       "      <td>40.162171</td>\n",
       "      <td>18.886087</td>\n",
       "      <td>0</td>\n",
       "      <td>Blocked Shot</td>\n",
       "      <td>-57.0</td>\n",
       "      <td>8.0</td>\n",
       "      <td>8.0</td>\n",
       "      <td>7.810250</td>\n",
       "      <td>False</td>\n",
       "      <td>0.976281</td>\n",
       "      <td>0.000000</td>\n",
       "    </tr>\n",
       "  </tbody>\n",
       "</table>\n",
       "</div>"
      ],
      "text/plain": [
       "       result.penaltySeverity  result.penaltyMinutes      gamePk  \\\n",
       "207516                    NaN                    NaN  2017020583   \n",
       "230814                    NaN                    NaN  2017020942   \n",
       "166377                    NaN                    NaN  2017010033   \n",
       "11220                     NaN                    NaN  2015020189   \n",
       "60808                     NaN                    NaN  2015021011   \n",
       "\n",
       "                  team.name  gamePeriod  coordinatesX  coordinatesY  \\\n",
       "207516         Dallas Stars           1         -53.0          36.0   \n",
       "230814  Pittsburgh Penguins           1          80.0          11.0   \n",
       "166377   Colorado Avalanche           2          54.0          19.0   \n",
       "11220        Minnesota Wild           2          72.0         -21.0   \n",
       "60808       Edmonton Oilers           2         -51.0          13.0   \n",
       "\n",
       "          shotType emptyNet result.strength.name  gameSeconds  shotDistance  \\\n",
       "207516   Slap Shot        0                  NaN        506.0     50.911688   \n",
       "230814    Backhand        0                  NaN       1084.0     14.212670   \n",
       "166377   Slap Shot        0                  NaN        741.0     39.824616   \n",
       "11220    Snap Shot        0                  NaN        549.0     27.018512   \n",
       "60808   Wrist Shot        0                  NaN        785.0     40.162171   \n",
       "\n",
       "        shotAngle  isGoal lastEventType  lastEventCoordinatesX  \\\n",
       "207516  45.000000       0          Shot                  -51.0   \n",
       "230814 -50.710593       0      Takeaway                   14.0   \n",
       "166377 -28.495639       0       Faceoff                  -69.0   \n",
       "11220   51.009006       0       Faceoff                   69.0   \n",
       "60808   18.886087       0  Blocked Shot                  -57.0   \n",
       "\n",
       "        lastEventCoordinatesY  timeFromLastEvent  distanceFromLastEvent  \\\n",
       "207516                  -20.0               22.0              56.035703   \n",
       "230814                  -11.0                2.0              69.570109   \n",
       "166377                   22.0               21.0             123.036580   \n",
       "11220                   -22.0                7.0               3.162278   \n",
       "60808                     8.0                8.0               7.810250   \n",
       "\n",
       "        rebound      speed  changeInShotAngle  \n",
       "207516     True   2.547077          36.869898  \n",
       "230814    False  34.785054           0.000000  \n",
       "166377    False   5.858885           0.000000  \n",
       "11220     False   0.451754           0.000000  \n",
       "60808     False   0.976281           0.000000  "
      ]
     },
     "execution_count": 17,
     "metadata": {},
     "output_type": "execute_result"
    }
   ],
   "source": [
    "train_df.head()"
   ]
  },
  {
   "cell_type": "markdown",
   "id": "54a9d148",
   "metadata": {},
   "source": [
    "# Preprocessing"
   ]
  },
  {
   "cell_type": "code",
   "execution_count": 18,
   "id": "810ab9d7-44f6-4de6-8aa2-6aa3fb88ed5c",
   "metadata": {},
   "outputs": [],
   "source": [
    "features = ['gameSeconds','timeFromLastEvent','gamePeriod','shotType', 'shotAngle', 'shotDistance','distanceFromLastEvent', 'rebound','speed','changeInShotAngle']\n",
    "label = ['isGoal']"
   ]
  },
  {
   "cell_type": "code",
   "execution_count": 19,
   "id": "debf8fc2-5f1b-4648-a8ff-0af8d084e1f3",
   "metadata": {},
   "outputs": [
    {
     "data": {
      "text/plain": [
       "gameSeconds              False\n",
       "timeFromLastEvent        False\n",
       "gamePeriod               False\n",
       "shotType                  True\n",
       "shotAngle                 True\n",
       "shotDistance              True\n",
       "distanceFromLastEvent     True\n",
       "rebound                  False\n",
       "speed                     True\n",
       "changeInShotAngle        False\n",
       "dtype: bool"
      ]
     },
     "execution_count": 19,
     "metadata": {},
     "output_type": "execute_result"
    }
   ],
   "source": [
    "train_df[features].isna().any()\n",
    "valid_df[features].isna().any()\n",
    "valid_df[features].isna().any()"
   ]
  },
  {
   "cell_type": "code",
   "execution_count": 20,
   "id": "6d2c5174-3942-46ee-9784-247bff5192f2",
   "metadata": {},
   "outputs": [],
   "source": [
    "#replace inf with nan\n",
    "train_df.replace([np.inf, -np.inf], np.nan, inplace=True)\n",
    "valid_df.replace([np.inf, -np.inf], np.nan, inplace=True)\n",
    "test_df.replace([np.inf, -np.inf], np.nan, inplace=True)"
   ]
  },
  {
   "cell_type": "code",
   "execution_count": 21,
   "id": "61febb1f",
   "metadata": {},
   "outputs": [],
   "source": [
    "#drop rows with nan\n",
    "train_df = train_df[train_df['shotType'].notna()]\n",
    "valid_df = train_df[train_df['shotType'].notna()]\n",
    "test_df = train_df[train_df['shotType'].notna()]\n",
    "\n",
    "train_df = train_df[train_df['shotAngle'].notna()]\n",
    "valid_df = train_df[train_df['shotAngle'].notna()]\n",
    "test_df = train_df[train_df['shotAngle'].notna()]\n",
    "\n",
    "train_df = train_df[train_df['shotDistance'].notna()]\n",
    "valid_df = train_df[train_df['shotDistance'].notna()]\n",
    "test_df = train_df[train_df['shotDistance'].notna()]\n",
    "\n",
    "train_df = train_df[train_df['speed'].notna()]\n",
    "valid_df = train_df[train_df['speed'].notna()]\n",
    "test_df = train_df[train_df['speed'].notna()]\n",
    "\n",
    "train_df = train_df[train_df['changeInShotAngle'].notna()]\n",
    "valid_df = train_df[train_df['changeInShotAngle'].notna()]\n",
    "test_df = train_df[train_df['changeInShotAngle'].notna()]\n",
    "\n",
    "train_df = train_df[train_df['distanceFromLastEvent'].notna()]\n",
    "valid_df = train_df[train_df['distanceFromLastEvent'].notna()]\n",
    "test_df = train_df[train_df['distanceFromLastEvent'].notna()]"
   ]
  },
  {
   "cell_type": "code",
   "execution_count": 22,
   "id": "6f79a232",
   "metadata": {
    "scrolled": false
   },
   "outputs": [
    {
     "data": {
      "text/plain": [
       "gameSeconds              False\n",
       "timeFromLastEvent        False\n",
       "gamePeriod               False\n",
       "shotType                 False\n",
       "shotAngle                False\n",
       "shotDistance             False\n",
       "distanceFromLastEvent    False\n",
       "rebound                  False\n",
       "speed                    False\n",
       "changeInShotAngle        False\n",
       "dtype: bool"
      ]
     },
     "execution_count": 22,
     "metadata": {},
     "output_type": "execute_result"
    }
   ],
   "source": [
    "train_df[features].isna().any()\n",
    "valid_df[features].isna().any()\n",
    "valid_df[features].isna().any()"
   ]
  },
  {
   "cell_type": "code",
   "execution_count": 23,
   "id": "d696e8c5",
   "metadata": {},
   "outputs": [
    {
     "data": {
      "text/plain": [
       "(        gameSeconds  timeFromLastEvent  gamePeriod    shotType  shotAngle  \\\n",
       " 207516        506.0               22.0           1   Slap Shot  45.000000   \n",
       " 230814       1084.0                2.0           1    Backhand -50.710593   \n",
       " 166377        741.0               21.0           2   Slap Shot -28.495639   \n",
       " 11220         549.0                7.0           2   Snap Shot  51.009006   \n",
       " 60808         785.0                8.0           2  Wrist Shot  18.886087   \n",
       " ...             ...                ...         ...         ...        ...   \n",
       " 165806         24.0                5.0           1  Wrist Shot -16.699244   \n",
       " 232334        390.0               36.0           2    Backhand  63.434949   \n",
       " 174466        640.0               15.0           3  Wrist Shot  46.169139   \n",
       " 243907        181.0               24.0           3   Slap Shot -22.190289   \n",
       " 150836        470.0               28.0           3   Snap Shot  30.963757   \n",
       " \n",
       "         shotDistance  distanceFromLastEvent  rebound      speed  \\\n",
       " 207516     50.911688              56.035703     True   2.547077   \n",
       " 230814     14.212670              69.570109    False  34.785054   \n",
       " 166377     39.824616             123.036580    False   5.858885   \n",
       " 11220      27.018512               3.162278    False   0.451754   \n",
       " 60808      40.162171               7.810250    False   0.976281   \n",
       " ...              ...                    ...      ...        ...   \n",
       " 165806     10.440307              16.552945    False   3.310589   \n",
       " 232334     35.777088              74.006756    False   2.055743   \n",
       " 174466     34.655447               5.000000    False   0.333333   \n",
       " 243907     82.079230             102.415819    False   4.267326   \n",
       " 150836     34.985711              21.587033     True   0.770965   \n",
       " \n",
       "         changeInShotAngle  \n",
       " 207516          36.869898  \n",
       " 230814           0.000000  \n",
       " 166377           0.000000  \n",
       " 11220            0.000000  \n",
       " 60808            0.000000  \n",
       " ...                   ...  \n",
       " 165806           0.000000  \n",
       " 232334           0.000000  \n",
       " 174466           0.000000  \n",
       " 243907           0.000000  \n",
       " 150836          35.862849  \n",
       " \n",
       " [248276 rows x 10 columns],\n",
       "         isGoal\n",
       " 207516       0\n",
       " 230814       0\n",
       " 166377       0\n",
       " 11220        0\n",
       " 60808        0\n",
       " ...        ...\n",
       " 165806       1\n",
       " 232334       0\n",
       " 174466       0\n",
       " 243907       0\n",
       " 150836       0\n",
       " \n",
       " [248276 rows x 1 columns])"
      ]
     },
     "execution_count": 23,
     "metadata": {},
     "output_type": "execute_result"
    }
   ],
   "source": [
    "X_train = train_df[features]\n",
    "y_train = train_df[label]\n",
    "\n",
    "X_valid = valid_df[features]\n",
    "y_valid = valid_df[label]\n",
    "\n",
    "X_test = test_df[features]\n",
    "y_test = test_df[label]\n",
    "\n",
    "X_train, y_train"
   ]
  },
  {
   "cell_type": "markdown",
   "id": "8a8e940a",
   "metadata": {},
   "source": [
    "### One hot encoding for shot type"
   ]
  },
  {
   "cell_type": "code",
   "execution_count": 24,
   "id": "0591b8e3",
   "metadata": {},
   "outputs": [],
   "source": [
    "dum_train = pd.get_dummies(X_train['shotType'], prefix='Shot',dtype=int)\n",
    "dum_valid = pd.get_dummies(X_valid['shotType'], prefix='Shot',dtype=int)\n",
    "dum_test = pd.get_dummies(X_test['shotType'], prefix='Shot',dtype=int)"
   ]
  },
  {
   "cell_type": "code",
   "execution_count": 25,
   "id": "8d0e2187",
   "metadata": {},
   "outputs": [],
   "source": [
    "X_train = pd.concat([X_train, dum_train], axis=1)\n",
    "X_valid = pd.concat([X_valid, dum_valid], axis=1)\n",
    "X_test = pd.concat([X_test, dum_test], axis=1)"
   ]
  },
  {
   "cell_type": "code",
   "execution_count": 26,
   "id": "6ac1bb09",
   "metadata": {},
   "outputs": [
    {
     "data": {
      "text/plain": [
       "(gameSeconds              False\n",
       " timeFromLastEvent        False\n",
       " gamePeriod               False\n",
       " shotType                 False\n",
       " shotAngle                False\n",
       " shotDistance             False\n",
       " distanceFromLastEvent    False\n",
       " rebound                  False\n",
       " speed                    False\n",
       " changeInShotAngle        False\n",
       " Shot_Backhand            False\n",
       " Shot_Deflected           False\n",
       " Shot_Slap Shot           False\n",
       " Shot_Snap Shot           False\n",
       " Shot_Tip-In              False\n",
       " Shot_Wrap-around         False\n",
       " Shot_Wrist Shot          False\n",
       " dtype: bool,\n",
       " gameSeconds              False\n",
       " timeFromLastEvent        False\n",
       " gamePeriod               False\n",
       " shotType                 False\n",
       " shotAngle                False\n",
       " shotDistance             False\n",
       " distanceFromLastEvent    False\n",
       " rebound                  False\n",
       " speed                    False\n",
       " changeInShotAngle        False\n",
       " Shot_Backhand            False\n",
       " Shot_Deflected           False\n",
       " Shot_Slap Shot           False\n",
       " Shot_Snap Shot           False\n",
       " Shot_Tip-In              False\n",
       " Shot_Wrap-around         False\n",
       " Shot_Wrist Shot          False\n",
       " dtype: bool,\n",
       " gameSeconds              False\n",
       " timeFromLastEvent        False\n",
       " gamePeriod               False\n",
       " shotType                 False\n",
       " shotAngle                False\n",
       " shotDistance             False\n",
       " distanceFromLastEvent    False\n",
       " rebound                  False\n",
       " speed                    False\n",
       " changeInShotAngle        False\n",
       " Shot_Backhand            False\n",
       " Shot_Deflected           False\n",
       " Shot_Slap Shot           False\n",
       " Shot_Snap Shot           False\n",
       " Shot_Tip-In              False\n",
       " Shot_Wrap-around         False\n",
       " Shot_Wrist Shot          False\n",
       " dtype: bool)"
      ]
     },
     "execution_count": 26,
     "metadata": {},
     "output_type": "execute_result"
    }
   ],
   "source": [
    "#check if no nans\n",
    "X_train.isna().any(), X_valid.isna().any(), X_test.isna().any()"
   ]
  },
  {
   "cell_type": "code",
   "execution_count": 27,
   "id": "35740daf",
   "metadata": {
    "scrolled": true
   },
   "outputs": [
    {
     "data": {
      "text/html": [
       "<div>\n",
       "<style scoped>\n",
       "    .dataframe tbody tr th:only-of-type {\n",
       "        vertical-align: middle;\n",
       "    }\n",
       "\n",
       "    .dataframe tbody tr th {\n",
       "        vertical-align: top;\n",
       "    }\n",
       "\n",
       "    .dataframe thead th {\n",
       "        text-align: right;\n",
       "    }\n",
       "</style>\n",
       "<table border=\"1\" class=\"dataframe\">\n",
       "  <thead>\n",
       "    <tr style=\"text-align: right;\">\n",
       "      <th></th>\n",
       "      <th>gameSeconds</th>\n",
       "      <th>timeFromLastEvent</th>\n",
       "      <th>gamePeriod</th>\n",
       "      <th>shotAngle</th>\n",
       "      <th>shotDistance</th>\n",
       "      <th>distanceFromLastEvent</th>\n",
       "      <th>rebound</th>\n",
       "      <th>speed</th>\n",
       "      <th>changeInShotAngle</th>\n",
       "      <th>Shot_Backhand</th>\n",
       "      <th>Shot_Deflected</th>\n",
       "      <th>Shot_Slap Shot</th>\n",
       "      <th>Shot_Snap Shot</th>\n",
       "      <th>Shot_Tip-In</th>\n",
       "      <th>Shot_Wrap-around</th>\n",
       "      <th>Shot_Wrist Shot</th>\n",
       "    </tr>\n",
       "  </thead>\n",
       "  <tbody>\n",
       "    <tr>\n",
       "      <th>207516</th>\n",
       "      <td>506.0</td>\n",
       "      <td>22.0</td>\n",
       "      <td>1</td>\n",
       "      <td>45.000000</td>\n",
       "      <td>50.911688</td>\n",
       "      <td>56.035703</td>\n",
       "      <td>True</td>\n",
       "      <td>2.547077</td>\n",
       "      <td>36.869898</td>\n",
       "      <td>0</td>\n",
       "      <td>0</td>\n",
       "      <td>1</td>\n",
       "      <td>0</td>\n",
       "      <td>0</td>\n",
       "      <td>0</td>\n",
       "      <td>0</td>\n",
       "    </tr>\n",
       "    <tr>\n",
       "      <th>230814</th>\n",
       "      <td>1084.0</td>\n",
       "      <td>2.0</td>\n",
       "      <td>1</td>\n",
       "      <td>-50.710593</td>\n",
       "      <td>14.212670</td>\n",
       "      <td>69.570109</td>\n",
       "      <td>False</td>\n",
       "      <td>34.785054</td>\n",
       "      <td>0.000000</td>\n",
       "      <td>1</td>\n",
       "      <td>0</td>\n",
       "      <td>0</td>\n",
       "      <td>0</td>\n",
       "      <td>0</td>\n",
       "      <td>0</td>\n",
       "      <td>0</td>\n",
       "    </tr>\n",
       "    <tr>\n",
       "      <th>166377</th>\n",
       "      <td>741.0</td>\n",
       "      <td>21.0</td>\n",
       "      <td>2</td>\n",
       "      <td>-28.495639</td>\n",
       "      <td>39.824616</td>\n",
       "      <td>123.036580</td>\n",
       "      <td>False</td>\n",
       "      <td>5.858885</td>\n",
       "      <td>0.000000</td>\n",
       "      <td>0</td>\n",
       "      <td>0</td>\n",
       "      <td>1</td>\n",
       "      <td>0</td>\n",
       "      <td>0</td>\n",
       "      <td>0</td>\n",
       "      <td>0</td>\n",
       "    </tr>\n",
       "    <tr>\n",
       "      <th>11220</th>\n",
       "      <td>549.0</td>\n",
       "      <td>7.0</td>\n",
       "      <td>2</td>\n",
       "      <td>51.009006</td>\n",
       "      <td>27.018512</td>\n",
       "      <td>3.162278</td>\n",
       "      <td>False</td>\n",
       "      <td>0.451754</td>\n",
       "      <td>0.000000</td>\n",
       "      <td>0</td>\n",
       "      <td>0</td>\n",
       "      <td>0</td>\n",
       "      <td>1</td>\n",
       "      <td>0</td>\n",
       "      <td>0</td>\n",
       "      <td>0</td>\n",
       "    </tr>\n",
       "    <tr>\n",
       "      <th>60808</th>\n",
       "      <td>785.0</td>\n",
       "      <td>8.0</td>\n",
       "      <td>2</td>\n",
       "      <td>18.886087</td>\n",
       "      <td>40.162171</td>\n",
       "      <td>7.810250</td>\n",
       "      <td>False</td>\n",
       "      <td>0.976281</td>\n",
       "      <td>0.000000</td>\n",
       "      <td>0</td>\n",
       "      <td>0</td>\n",
       "      <td>0</td>\n",
       "      <td>0</td>\n",
       "      <td>0</td>\n",
       "      <td>0</td>\n",
       "      <td>1</td>\n",
       "    </tr>\n",
       "  </tbody>\n",
       "</table>\n",
       "</div>"
      ],
      "text/plain": [
       "        gameSeconds  timeFromLastEvent  gamePeriod  shotAngle  shotDistance  \\\n",
       "207516        506.0               22.0           1  45.000000     50.911688   \n",
       "230814       1084.0                2.0           1 -50.710593     14.212670   \n",
       "166377        741.0               21.0           2 -28.495639     39.824616   \n",
       "11220         549.0                7.0           2  51.009006     27.018512   \n",
       "60808         785.0                8.0           2  18.886087     40.162171   \n",
       "\n",
       "        distanceFromLastEvent  rebound      speed  changeInShotAngle  \\\n",
       "207516              56.035703     True   2.547077          36.869898   \n",
       "230814              69.570109    False  34.785054           0.000000   \n",
       "166377             123.036580    False   5.858885           0.000000   \n",
       "11220                3.162278    False   0.451754           0.000000   \n",
       "60808                7.810250    False   0.976281           0.000000   \n",
       "\n",
       "        Shot_Backhand  Shot_Deflected  Shot_Slap Shot  Shot_Snap Shot  \\\n",
       "207516              0               0               1               0   \n",
       "230814              1               0               0               0   \n",
       "166377              0               0               1               0   \n",
       "11220               0               0               0               1   \n",
       "60808               0               0               0               0   \n",
       "\n",
       "        Shot_Tip-In  Shot_Wrap-around  Shot_Wrist Shot  \n",
       "207516            0                 0                0  \n",
       "230814            0                 0                0  \n",
       "166377            0                 0                0  \n",
       "11220             0                 0                0  \n",
       "60808             0                 0                1  "
      ]
     },
     "execution_count": 27,
     "metadata": {},
     "output_type": "execute_result"
    }
   ],
   "source": [
    "X_train = X_train.drop(columns='shotType')\n",
    "X_valid = X_valid.drop(columns='shotType')\n",
    "X_test = X_test.drop(columns='shotType')\n",
    "X_train.head()"
   ]
  },
  {
   "cell_type": "markdown",
   "id": "bcc1aa08",
   "metadata": {},
   "source": [
    "## Change rebound to int"
   ]
  },
  {
   "cell_type": "code",
   "execution_count": 28,
   "id": "731e4f78",
   "metadata": {},
   "outputs": [],
   "source": [
    "X_train['rebound'] = X_train['rebound'].astype(int)\n",
    "X_valid['rebound'] = X_valid['rebound'].astype(int)\n",
    "X_test['rebound'] = X_test['rebound'].astype(int)"
   ]
  },
  {
   "cell_type": "markdown",
   "id": "dfa10ff7",
   "metadata": {},
   "source": [
    "## Normalize numerical columns"
   ]
  },
  {
   "cell_type": "code",
   "execution_count": 29,
   "id": "0084daa9",
   "metadata": {},
   "outputs": [],
   "source": [
    "num = ['gameSeconds','timeFromLastEvent', 'shotAngle', 'shotDistance','distanceFromLastEvent','speed','changeInShotAngle']"
   ]
  },
  {
   "cell_type": "code",
   "execution_count": 30,
   "id": "79b56113",
   "metadata": {},
   "outputs": [],
   "source": [
    "from sklearn.preprocessing import StandardScaler\n",
    "\n",
    "scaler = StandardScaler()\n",
    "scaler.fit(X_train[num])\n",
    "\n",
    "X_train[num] = scaler.transform(X_train[num])\n",
    "X_valid[num] = scaler.transform(X_valid[num])\n",
    "X_test[num] = scaler.transform(X_test[num])"
   ]
  },
  {
   "cell_type": "code",
   "execution_count": 31,
   "id": "8f19d32c",
   "metadata": {
    "scrolled": true
   },
   "outputs": [
    {
     "data": {
      "text/html": [
       "<div>\n",
       "<style scoped>\n",
       "    .dataframe tbody tr th:only-of-type {\n",
       "        vertical-align: middle;\n",
       "    }\n",
       "\n",
       "    .dataframe tbody tr th {\n",
       "        vertical-align: top;\n",
       "    }\n",
       "\n",
       "    .dataframe thead th {\n",
       "        text-align: right;\n",
       "    }\n",
       "</style>\n",
       "<table border=\"1\" class=\"dataframe\">\n",
       "  <thead>\n",
       "    <tr style=\"text-align: right;\">\n",
       "      <th></th>\n",
       "      <th>gameSeconds</th>\n",
       "      <th>timeFromLastEvent</th>\n",
       "      <th>gamePeriod</th>\n",
       "      <th>shotAngle</th>\n",
       "      <th>shotDistance</th>\n",
       "      <th>distanceFromLastEvent</th>\n",
       "      <th>rebound</th>\n",
       "      <th>speed</th>\n",
       "      <th>changeInShotAngle</th>\n",
       "      <th>Shot_Backhand</th>\n",
       "      <th>Shot_Deflected</th>\n",
       "      <th>Shot_Slap Shot</th>\n",
       "      <th>Shot_Snap Shot</th>\n",
       "      <th>Shot_Tip-In</th>\n",
       "      <th>Shot_Wrap-around</th>\n",
       "      <th>Shot_Wrist Shot</th>\n",
       "    </tr>\n",
       "  </thead>\n",
       "  <tbody>\n",
       "    <tr>\n",
       "      <th>207516</th>\n",
       "      <td>-0.252915</td>\n",
       "      <td>0.430416</td>\n",
       "      <td>1</td>\n",
       "      <td>1.216117</td>\n",
       "      <td>0.301291</td>\n",
       "      <td>-0.129391</td>\n",
       "      <td>1</td>\n",
       "      <td>-0.537092</td>\n",
       "      <td>1.435676</td>\n",
       "      <td>0</td>\n",
       "      <td>0</td>\n",
       "      <td>1</td>\n",
       "      <td>0</td>\n",
       "      <td>0</td>\n",
       "      <td>0</td>\n",
       "      <td>0</td>\n",
       "    </tr>\n",
       "    <tr>\n",
       "      <th>230814</th>\n",
       "      <td>1.407502</td>\n",
       "      <td>-0.916515</td>\n",
       "      <td>1</td>\n",
       "      <td>-1.421708</td>\n",
       "      <td>-0.804022</td>\n",
       "      <td>0.164040</td>\n",
       "      <td>0</td>\n",
       "      <td>2.651864</td>\n",
       "      <td>-0.362894</td>\n",
       "      <td>1</td>\n",
       "      <td>0</td>\n",
       "      <td>0</td>\n",
       "      <td>0</td>\n",
       "      <td>0</td>\n",
       "      <td>0</td>\n",
       "      <td>0</td>\n",
       "    </tr>\n",
       "    <tr>\n",
       "      <th>166377</th>\n",
       "      <td>0.422168</td>\n",
       "      <td>0.363069</td>\n",
       "      <td>2</td>\n",
       "      <td>-0.809455</td>\n",
       "      <td>-0.032633</td>\n",
       "      <td>1.323213</td>\n",
       "      <td>0</td>\n",
       "      <td>-0.209490</td>\n",
       "      <td>-0.362894</td>\n",
       "      <td>0</td>\n",
       "      <td>0</td>\n",
       "      <td>1</td>\n",
       "      <td>0</td>\n",
       "      <td>0</td>\n",
       "      <td>0</td>\n",
       "      <td>0</td>\n",
       "    </tr>\n",
       "    <tr>\n",
       "      <th>11220</th>\n",
       "      <td>-0.129389</td>\n",
       "      <td>-0.579782</td>\n",
       "      <td>2</td>\n",
       "      <td>1.381728</td>\n",
       "      <td>-0.418331</td>\n",
       "      <td>-1.275707</td>\n",
       "      <td>0</td>\n",
       "      <td>-0.744360</td>\n",
       "      <td>-0.362894</td>\n",
       "      <td>0</td>\n",
       "      <td>0</td>\n",
       "      <td>0</td>\n",
       "      <td>1</td>\n",
       "      <td>0</td>\n",
       "      <td>0</td>\n",
       "      <td>0</td>\n",
       "    </tr>\n",
       "    <tr>\n",
       "      <th>60808</th>\n",
       "      <td>0.548567</td>\n",
       "      <td>-0.512436</td>\n",
       "      <td>2</td>\n",
       "      <td>0.496406</td>\n",
       "      <td>-0.022466</td>\n",
       "      <td>-1.174937</td>\n",
       "      <td>0</td>\n",
       "      <td>-0.692474</td>\n",
       "      <td>-0.362894</td>\n",
       "      <td>0</td>\n",
       "      <td>0</td>\n",
       "      <td>0</td>\n",
       "      <td>0</td>\n",
       "      <td>0</td>\n",
       "      <td>0</td>\n",
       "      <td>1</td>\n",
       "    </tr>\n",
       "  </tbody>\n",
       "</table>\n",
       "</div>"
      ],
      "text/plain": [
       "        gameSeconds  timeFromLastEvent  gamePeriod  shotAngle  shotDistance  \\\n",
       "207516    -0.252915           0.430416           1   1.216117      0.301291   \n",
       "230814     1.407502          -0.916515           1  -1.421708     -0.804022   \n",
       "166377     0.422168           0.363069           2  -0.809455     -0.032633   \n",
       "11220     -0.129389          -0.579782           2   1.381728     -0.418331   \n",
       "60808      0.548567          -0.512436           2   0.496406     -0.022466   \n",
       "\n",
       "        distanceFromLastEvent  rebound     speed  changeInShotAngle  \\\n",
       "207516              -0.129391        1 -0.537092           1.435676   \n",
       "230814               0.164040        0  2.651864          -0.362894   \n",
       "166377               1.323213        0 -0.209490          -0.362894   \n",
       "11220               -1.275707        0 -0.744360          -0.362894   \n",
       "60808               -1.174937        0 -0.692474          -0.362894   \n",
       "\n",
       "        Shot_Backhand  Shot_Deflected  Shot_Slap Shot  Shot_Snap Shot  \\\n",
       "207516              0               0               1               0   \n",
       "230814              1               0               0               0   \n",
       "166377              0               0               1               0   \n",
       "11220               0               0               0               1   \n",
       "60808               0               0               0               0   \n",
       "\n",
       "        Shot_Tip-In  Shot_Wrap-around  Shot_Wrist Shot  \n",
       "207516            0                 0                0  \n",
       "230814            0                 0                0  \n",
       "166377            0                 0                0  \n",
       "11220             0                 0                0  \n",
       "60808             0                 0                1  "
      ]
     },
     "execution_count": 31,
     "metadata": {},
     "output_type": "execute_result"
    }
   ],
   "source": [
    "X_train.head()"
   ]
  },
  {
   "cell_type": "markdown",
   "id": "860189f6",
   "metadata": {},
   "source": [
    "# Imbalnced Data check"
   ]
  },
  {
   "cell_type": "markdown",
   "id": "96d86793",
   "metadata": {},
   "source": [
    "Based on the imbalanced data tutorial by tensorflow\n",
    "https://www.tensorflow.org/tutorials/structured_data/imbalanced_data"
   ]
  },
  {
   "cell_type": "code",
   "execution_count": 32,
   "id": "13cbeff7-f73b-4503-b6b4-bb27d41bf67c",
   "metadata": {
    "scrolled": false
   },
   "outputs": [
    {
     "data": {
      "text/plain": [
       "isGoal\n",
       "0         226058\n",
       "1          22218\n",
       "dtype: int64"
      ]
     },
     "execution_count": 32,
     "metadata": {},
     "output_type": "execute_result"
    }
   ],
   "source": [
    "y_train.value_counts()"
   ]
  },
  {
   "cell_type": "code",
   "execution_count": 100,
   "id": "856c51dd",
   "metadata": {},
   "outputs": [
    {
     "name": "stdout",
     "output_type": "stream",
     "text": [
      "Examples:\n",
      "    Total: 248276\n",
      "    Positive: 22218 (8.95% of total)\n",
      "\n"
     ]
    }
   ],
   "source": [
    "neg, pos = np.bincount(y_train['isGoal'])\n",
    "total = neg + pos\n",
    "print('Examples:\\n    Total: {}\\n    Positive: {} ({:.2f}% of total)\\n'.format(\n",
    "    total, pos, 100 * pos / total))"
   ]
  },
  {
   "cell_type": "markdown",
   "id": "f96ce1ae",
   "metadata": {},
   "source": [
    "### This means that only 10% of the data is goals -> unbalanced data "
   ]
  },
  {
   "cell_type": "markdown",
   "id": "e9a8a25f-51ca-41b5-98de-d3fb60fc180e",
   "metadata": {},
   "source": [
    "# Neural Network with KERAS"
   ]
  },
  {
   "cell_type": "code",
   "execution_count": 161,
   "id": "12dfee0c",
   "metadata": {},
   "outputs": [],
   "source": [
    "# convert to tf.data.Dataset\n",
    "train_ds = tf.data.Dataset.from_tensor_slices((X_train, y_train))\n",
    "val_ds = tf.data.Dataset.from_tensor_slices((X_valid, y_valid))\n",
    "test_ds = tf.data.Dataset.from_tensor_slices((X_test, y_test))"
   ]
  },
  {
   "cell_type": "code",
   "execution_count": 162,
   "id": "d708118e",
   "metadata": {
    "scrolled": true
   },
   "outputs": [
    {
     "name": "stdout",
     "output_type": "stream",
     "text": [
      "Data: [-0.2529146   0.43041584  1.          1.21611705  0.30129105 -0.12939114\n",
      "  1.         -0.53709172  1.43567554  0.          0.          1.\n",
      "  0.          0.          0.          0.        ], Target: [0]\n",
      "\n",
      "Data: [ 1.40750195 -0.91651499  1.         -1.42170849 -0.80402168  0.16403988\n",
      "  0.          2.6518641  -0.36289432  1.          0.          0.\n",
      "  0.          0.          0.          0.        ], Target: [0]\n",
      "\n"
     ]
    }
   ],
   "source": [
    "for inputs, targets in train_ds.take(2):\n",
    "    print ('Data: {}, Target: {}'.format(inputs, targets))\n",
    "    print()"
   ]
  },
  {
   "cell_type": "code",
   "execution_count": 163,
   "id": "ebedf400",
   "metadata": {
    "scrolled": true
   },
   "outputs": [
    {
     "name": "stdout",
     "output_type": "stream",
     "text": [
      "248276\n"
     ]
    }
   ],
   "source": [
    "print(train_ds.cardinality().numpy())"
   ]
  },
  {
   "cell_type": "code",
   "execution_count": 164,
   "id": "ac2ef8f1",
   "metadata": {},
   "outputs": [
    {
     "name": "stdout",
     "output_type": "stream",
     "text": [
      "248276\n"
     ]
    }
   ],
   "source": [
    "print(val_ds.cardinality().numpy())"
   ]
  },
  {
   "cell_type": "code",
   "execution_count": 165,
   "id": "e302f307",
   "metadata": {
    "scrolled": false
   },
   "outputs": [
    {
     "name": "stdout",
     "output_type": "stream",
     "text": [
      "Data:  [[-0.68094586 -0.98386153  2.          1.94826141 -0.94635596 -0.79579132\n",
      "   0.          1.71343389 -0.36289432  0.          0.          0.\n",
      "   0.          0.          0.          1.        ]\n",
      " [ 0.05733625 -0.64712882  3.          1.03332207  0.61178753 -0.82348577\n",
      "   0.         -0.39302642 -0.36289432  0.          0.          1.\n",
      "   0.          0.          0.          0.        ]\n",
      " [ 1.56837276 -0.10835649  1.         -0.2240037   3.7775266   0.7371628\n",
      "   0.         -0.11070657 -0.36289432  0.          0.          0.\n",
      "   0.          0.          0.          1.        ]]\n",
      "Target:  [[0]\n",
      " [0]\n",
      " [0]]\n",
      "\n",
      "Data:  [[-1.47955451 -0.98386153  3.         -3.32432347 -0.98926177 -0.91011709\n",
      "   1.          1.19180937  4.18255997  0.          0.          0.\n",
      "   0.          0.          0.          1.        ]\n",
      " [-0.79010819 -0.51243574  1.          1.09488682 -0.95440624 -0.89731388\n",
      "   0.         -0.53413764 -0.36289432  0.          0.          0.\n",
      "   0.          1.          0.          0.        ]\n",
      " [ 1.50517352 -0.37774266  2.          0.76124968 -0.03263294 -0.75529381\n",
      "   1.         -0.52032114  1.60711329  0.          0.          1.\n",
      "   0.          0.          0.          0.        ]]\n",
      "Target:  [[0]\n",
      " [0]\n",
      " [0]]\n",
      "\n",
      "Data:  [[-0.41953079 -0.4450892   2.         -0.90948142  0.29714439  1.37279618\n",
      "   1.          0.58838802  4.17722152  0.          0.          0.\n",
      "   0.          0.          0.          1.        ]\n",
      " [-0.05757147 -0.91651499  1.         -0.52476416  0.79660393 -0.62357717\n",
      "   0.          0.85506711 -0.36289432  0.          0.          0.\n",
      "   0.          0.          0.          1.        ]\n",
      " [ 1.04266994 -0.10835649  3.          1.37350348  0.05210181  1.73602623\n",
      "   0.          0.21482414 -0.36289432  0.          0.          0.\n",
      "   0.          0.          0.          1.        ]]\n",
      "Target:  [[0]\n",
      " [0]\n",
      " [0]]\n",
      "\n"
     ]
    }
   ],
   "source": [
    "BATCH_SIZE = 512\n",
    "\n",
    "train_ds = train_ds.shuffle(buffer_size=1000)\n",
    "train_ds = train_ds.batch(BATCH_SIZE)\n",
    "\n",
    "val_ds = val_ds.shuffle(buffer_size=1000)\n",
    "val_ds = val_ds.batch(BATCH_SIZE)\n",
    "\n",
    "for inputs, targets in train_ds.take(3):\n",
    "    print('Data: ', inputs.numpy()[:3])\n",
    "    print('Target: ', targets.numpy()[:3])\n",
    "    print()"
   ]
  },
  {
   "cell_type": "code",
   "execution_count": 168,
   "id": "1813ffdd",
   "metadata": {},
   "outputs": [],
   "source": [
    "METRICS = [\n",
    "      keras.metrics.TruePositives(name='tp'),\n",
    "      keras.metrics.FalsePositives(name='fp'),\n",
    "      keras.metrics.TrueNegatives(name='tn'),\n",
    "      keras.metrics.FalseNegatives(name='fn'), \n",
    "      keras.metrics.BinaryAccuracy(name='accuracy'),\n",
    "      keras.metrics.Precision(name='precision'),\n",
    "      keras.metrics.Recall(name='recall'),\n",
    "      keras.metrics.AUC(name='auc'),\n",
    "      keras.metrics.AUC(name='prc', curve='PR'), # precision-recall curve\n",
    "]"
   ]
  },
  {
   "cell_type": "code",
   "execution_count": 169,
   "id": "7f626bdb-edee-4a26-a1af-67706861235b",
   "metadata": {},
   "outputs": [],
   "source": [
    "def build_model(metrics=METRICS, output_bias=None):\n",
    "    \n",
    "    if output_bias is not None:\n",
    "        output_bias = tf.keras.initializers.Constant(output_bias)\n",
    "    \n",
    "    model = keras.models.Sequential()\n",
    "    \n",
    "    #Input Layer\n",
    "    model.add(layers.InputLayer(input_shape=(X_train.shape[-1],)))\n",
    "    \n",
    "    # first fc layer\n",
    "    model.add(layers.Dense(256, kernel_initializer='lecun_normal', activation='selu'))\n",
    "    model.add(layers.AlphaDropout(0.1))\n",
    "\n",
    "    model.add(layers.Dense(128, kernel_initializer='lecun_normal', activation='selu'))\n",
    "    model.add(layers.AlphaDropout(0.1))\n",
    "      \n",
    "    model.add(layers.Dense(64, kernel_initializer='lecun_normal', activation='selu'))\n",
    "    model.add(layers.AlphaDropout(0.1))\n",
    "    \n",
    "    model.add(layers.Dense(32, kernel_initializer='lecun_normal', activation='selu'))\n",
    "    model.add(layers.AlphaDropout(0.1))\n",
    "    \n",
    "    model.add(layers.Dense(16, kernel_initializer='lecun_normal', activation='selu'))\n",
    "    model.add(layers.AlphaDropout(0.1))\n",
    "    \n",
    "    # Last fc layer \n",
    "    # We choose the activation method as a sigmoid to get an output ranging between [0, 1]\n",
    "    model.add(layers.Dense(1, activation='sigmoid', bias_initializer=output_bias, name='target'))\n",
    "    \n",
    "    # Compile The model\n",
    "    global LEARNING_RATE\n",
    "    LEARNING_RATE= 1e-2\n",
    "\n",
    "    model.compile(optimizer = tf.keras.optimizers.Adam(learning_rate=LEARNING_RATE),\n",
    "              loss = keras.losses.BinaryCrossentropy(from_logits=False),\n",
    "              metrics = METRICS)\n",
    "\n",
    "    return model"
   ]
  },
  {
   "cell_type": "code",
   "execution_count": 170,
   "id": "c2e7dbc9",
   "metadata": {},
   "outputs": [
    {
     "name": "stdout",
     "output_type": "stream",
     "text": [
      "Model: \"sequential_7\"\n",
      "_________________________________________________________________\n",
      " Layer (type)                Output Shape              Param #   \n",
      "=================================================================\n",
      " dense_41 (Dense)            (None, 256)               4352      \n",
      "                                                                 \n",
      " alpha_dropout (AlphaDropout  (None, 256)              0         \n",
      " )                                                               \n",
      "                                                                 \n",
      " dense_42 (Dense)            (None, 128)               32896     \n",
      "                                                                 \n",
      " alpha_dropout_1 (AlphaDropo  (None, 128)              0         \n",
      " ut)                                                             \n",
      "                                                                 \n",
      " dense_43 (Dense)            (None, 64)                8256      \n",
      "                                                                 \n",
      " alpha_dropout_2 (AlphaDropo  (None, 64)               0         \n",
      " ut)                                                             \n",
      "                                                                 \n",
      " dense_44 (Dense)            (None, 32)                2080      \n",
      "                                                                 \n",
      " alpha_dropout_3 (AlphaDropo  (None, 32)               0         \n",
      " ut)                                                             \n",
      "                                                                 \n",
      " dense_45 (Dense)            (None, 16)                528       \n",
      "                                                                 \n",
      " alpha_dropout_4 (AlphaDropo  (None, 16)               0         \n",
      " ut)                                                             \n",
      "                                                                 \n",
      " target (Dense)              (None, 1)                 17        \n",
      "                                                                 \n",
      "=================================================================\n",
      "Total params: 48,129\n",
      "Trainable params: 48,129\n",
      "Non-trainable params: 0\n",
      "_________________________________________________________________\n",
      "None\n"
     ]
    }
   ],
   "source": [
    "#build model\n",
    "model = build_model()\n",
    "\n",
    "print(model.summary())"
   ]
  },
  {
   "cell_type": "code",
   "execution_count": 171,
   "id": "ca5b5b79",
   "metadata": {},
   "outputs": [],
   "source": [
    "stop_early = tf.keras.callbacks.EarlyStopping(\n",
    "    monitor='val_prc', \n",
    "    patience=10, \n",
    "    verbose=1, \n",
    "    mode='max',\n",
    "    restore_best_weights=True)\n",
    "\n",
    "EPOCHS = 50"
   ]
  },
  {
   "cell_type": "code",
   "execution_count": 172,
   "id": "6183b5d0",
   "metadata": {
    "scrolled": true
   },
   "outputs": [
    {
     "name": "stdout",
     "output_type": "stream",
     "text": [
      "Epoch 1/50\n",
      "485/485 [==============================] - 11s 19ms/step - loss: 0.2920 - tp: 74.0000 - fp: 588.0000 - tn: 225470.0000 - fn: 22144.0000 - accuracy: 0.9084 - precision: 0.1118 - recall: 0.0033 - auc: 0.6668 - prc: 0.1509 - val_loss: 0.2837 - val_tp: 29.0000 - val_fp: 34.0000 - val_tn: 226024.0000 - val_fn: 22189.0000 - val_accuracy: 0.9105 - val_precision: 0.4603 - val_recall: 0.0013 - val_auc: 0.7214 - val_prc: 0.1910\n",
      "Epoch 2/50\n",
      "485/485 [==============================] - 8s 17ms/step - loss: 0.2799 - tp: 4.0000 - fp: 13.0000 - tn: 226045.0000 - fn: 22214.0000 - accuracy: 0.9105 - precision: 0.2353 - recall: 1.8003e-04 - auc: 0.7056 - prc: 0.1738 - val_loss: 0.2833 - val_tp: 49.0000 - val_fp: 81.0000 - val_tn: 225977.0000 - val_fn: 22169.0000 - val_accuracy: 0.9104 - val_precision: 0.3769 - val_recall: 0.0022 - val_auc: 0.7294 - val_prc: 0.1994\n",
      "Epoch 3/50\n",
      "485/485 [==============================] - 9s 18ms/step - loss: 0.2782 - tp: 20.0000 - fp: 40.0000 - tn: 226018.0000 - fn: 22198.0000 - accuracy: 0.9104 - precision: 0.3333 - recall: 9.0017e-04 - auc: 0.7130 - prc: 0.1821 - val_loss: 0.2990 - val_tp: 0.0000e+00 - val_fp: 0.0000e+00 - val_tn: 226058.0000 - val_fn: 22218.0000 - val_accuracy: 0.9105 - val_precision: 0.0000e+00 - val_recall: 0.0000e+00 - val_auc: 0.7314 - val_prc: 0.2036\n",
      "Epoch 4/50\n",
      "485/485 [==============================] - 8s 17ms/step - loss: 0.2784 - tp: 14.0000 - fp: 41.0000 - tn: 226017.0000 - fn: 22204.0000 - accuracy: 0.9104 - precision: 0.2545 - recall: 6.3012e-04 - auc: 0.7140 - prc: 0.1834 - val_loss: 0.3163 - val_tp: 0.0000e+00 - val_fp: 0.0000e+00 - val_tn: 226058.0000 - val_fn: 22218.0000 - val_accuracy: 0.9105 - val_precision: 0.0000e+00 - val_recall: 0.0000e+00 - val_auc: 0.7052 - val_prc: 0.1892\n",
      "Epoch 5/50\n",
      "485/485 [==============================] - 9s 18ms/step - loss: 0.2793 - tp: 25.0000 - fp: 57.0000 - tn: 226001.0000 - fn: 22193.0000 - accuracy: 0.9104 - precision: 0.3049 - recall: 0.0011 - auc: 0.7092 - prc: 0.1784 - val_loss: 0.2887 - val_tp: 133.0000 - val_fp: 190.0000 - val_tn: 225868.0000 - val_fn: 22085.0000 - val_accuracy: 0.9103 - val_precision: 0.4118 - val_recall: 0.0060 - val_auc: 0.7309 - val_prc: 0.2007\n",
      "Epoch 6/50\n",
      "485/485 [==============================] - 9s 18ms/step - loss: 0.2767 - tp: 18.0000 - fp: 37.0000 - tn: 226021.0000 - fn: 22200.0000 - accuracy: 0.9104 - precision: 0.3273 - recall: 8.1015e-04 - auc: 0.7196 - prc: 0.1876 - val_loss: 0.2969 - val_tp: 1308.0000 - val_fp: 2666.0000 - val_tn: 223392.0000 - val_fn: 20910.0000 - val_accuracy: 0.9050 - val_precision: 0.3291 - val_recall: 0.0589 - val_auc: 0.7363 - val_prc: 0.2084\n",
      "Epoch 7/50\n",
      "485/485 [==============================] - 8s 17ms/step - loss: 0.2759 - tp: 21.0000 - fp: 62.0000 - tn: 225996.0000 - fn: 22197.0000 - accuracy: 0.9103 - precision: 0.2530 - recall: 9.4518e-04 - auc: 0.7222 - prc: 0.1892 - val_loss: 0.3013 - val_tp: 0.0000e+00 - val_fp: 0.0000e+00 - val_tn: 226058.0000 - val_fn: 22218.0000 - val_accuracy: 0.9105 - val_precision: 0.0000e+00 - val_recall: 0.0000e+00 - val_auc: 0.7343 - val_prc: 0.2079\n",
      "Epoch 8/50\n",
      "485/485 [==============================] - 9s 18ms/step - loss: 0.2936 - tp: 14.0000 - fp: 24.0000 - tn: 226034.0000 - fn: 22204.0000 - accuracy: 0.9105 - precision: 0.3684 - recall: 6.3012e-04 - auc: 0.6487 - prc: 0.1474 - val_loss: 0.3071 - val_tp: 0.0000e+00 - val_fp: 0.0000e+00 - val_tn: 226058.0000 - val_fn: 22218.0000 - val_accuracy: 0.9105 - val_precision: 0.0000e+00 - val_recall: 0.0000e+00 - val_auc: 0.5517 - val_prc: 0.0990\n",
      "Epoch 9/50\n",
      "485/485 [==============================] - 8s 17ms/step - loss: 0.2902 - tp: 0.0000e+00 - fp: 5.0000 - tn: 226053.0000 - fn: 22218.0000 - accuracy: 0.9105 - precision: 0.0000e+00 - recall: 0.0000e+00 - auc: 0.6464 - prc: 0.1342 - val_loss: 0.3200 - val_tp: 0.0000e+00 - val_fp: 0.0000e+00 - val_tn: 226058.0000 - val_fn: 22218.0000 - val_accuracy: 0.9105 - val_precision: 0.0000e+00 - val_recall: 0.0000e+00 - val_auc: 0.6939 - val_prc: 0.1534\n",
      "Epoch 10/50\n",
      "485/485 [==============================] - 9s 18ms/step - loss: 0.2827 - tp: 0.0000e+00 - fp: 1.0000 - tn: 226057.0000 - fn: 22218.0000 - accuracy: 0.9105 - precision: 0.0000e+00 - recall: 0.0000e+00 - auc: 0.6903 - prc: 0.1556 - val_loss: 0.3018 - val_tp: 0.0000e+00 - val_fp: 0.0000e+00 - val_tn: 226058.0000 - val_fn: 22218.0000 - val_accuracy: 0.9105 - val_precision: 0.0000e+00 - val_recall: 0.0000e+00 - val_auc: 0.7105 - val_prc: 0.1605\n",
      "Epoch 11/50\n",
      "485/485 [==============================] - 8s 17ms/step - loss: 0.2797 - tp: 0.0000e+00 - fp: 0.0000e+00 - tn: 226058.0000 - fn: 22218.0000 - accuracy: 0.9105 - precision: 0.0000e+00 - recall: 0.0000e+00 - auc: 0.7039 - prc: 0.1644 - val_loss: 0.3039 - val_tp: 0.0000e+00 - val_fp: 0.0000e+00 - val_tn: 226058.0000 - val_fn: 22218.0000 - val_accuracy: 0.9105 - val_precision: 0.0000e+00 - val_recall: 0.0000e+00 - val_auc: 0.6996 - val_prc: 0.1516\n",
      "Epoch 12/50\n",
      "485/485 [==============================] - 9s 18ms/step - loss: 0.2804 - tp: 0.0000e+00 - fp: 0.0000e+00 - tn: 226058.0000 - fn: 22218.0000 - accuracy: 0.9105 - precision: 0.0000e+00 - recall: 0.0000e+00 - auc: 0.7001 - prc: 0.1584 - val_loss: 0.3003 - val_tp: 0.0000e+00 - val_fp: 0.0000e+00 - val_tn: 226058.0000 - val_fn: 22218.0000 - val_accuracy: 0.9105 - val_precision: 0.0000e+00 - val_recall: 0.0000e+00 - val_auc: 0.7242 - val_prc: 0.1741\n",
      "Epoch 13/50\n",
      "485/485 [==============================] - 8s 17ms/step - loss: 0.2791 - tp: 0.0000e+00 - fp: 1.0000 - tn: 226057.0000 - fn: 22218.0000 - accuracy: 0.9105 - precision: 0.0000e+00 - recall: 0.0000e+00 - auc: 0.7062 - prc: 0.1663 - val_loss: 0.3252 - val_tp: 0.0000e+00 - val_fp: 0.0000e+00 - val_tn: 226058.0000 - val_fn: 22218.0000 - val_accuracy: 0.9105 - val_precision: 0.0000e+00 - val_recall: 0.0000e+00 - val_auc: 0.7209 - val_prc: 0.1774\n",
      "Epoch 14/50\n",
      "485/485 [==============================] - 9s 18ms/step - loss: 0.2797 - tp: 0.0000e+00 - fp: 3.0000 - tn: 226055.0000 - fn: 22218.0000 - accuracy: 0.9105 - precision: 0.0000e+00 - recall: 0.0000e+00 - auc: 0.7064 - prc: 0.1673 - val_loss: 0.3222 - val_tp: 0.0000e+00 - val_fp: 0.0000e+00 - val_tn: 226058.0000 - val_fn: 22218.0000 - val_accuracy: 0.9105 - val_precision: 0.0000e+00 - val_recall: 0.0000e+00 - val_auc: 0.7225 - val_prc: 0.1769\n",
      "Epoch 15/50\n",
      "485/485 [==============================] - 8s 17ms/step - loss: 0.2796 - tp: 0.0000e+00 - fp: 3.0000 - tn: 226055.0000 - fn: 22218.0000 - accuracy: 0.9105 - precision: 0.0000e+00 - recall: 0.0000e+00 - auc: 0.7084 - prc: 0.1714 - val_loss: 0.2970 - val_tp: 0.0000e+00 - val_fp: 0.0000e+00 - val_tn: 226058.0000 - val_fn: 22218.0000 - val_accuracy: 0.9105 - val_precision: 0.0000e+00 - val_recall: 0.0000e+00 - val_auc: 0.7172 - val_prc: 0.1659\n",
      "Epoch 16/50\n",
      "482/485 [============================>.] - ETA: 0s - loss: 0.2803 - tp: 1.0000 - fp: 3.0000 - tn: 224695.0000 - fn: 22085.0000 - accuracy: 0.9105 - precision: 0.2500 - recall: 4.5278e-05 - auc: 0.7030 - prc: 0.1671Restoring model weights from the end of the best epoch: 6.\n",
      "485/485 [==============================] - 8s 17ms/step - loss: 0.2802 - tp: 1.0000 - fp: 3.0000 - tn: 226055.0000 - fn: 22217.0000 - accuracy: 0.9105 - precision: 0.2500 - recall: 4.5009e-05 - auc: 0.7031 - prc: 0.1671 - val_loss: 0.3120 - val_tp: 0.0000e+00 - val_fp: 0.0000e+00 - val_tn: 226058.0000 - val_fn: 22218.0000 - val_accuracy: 0.9105 - val_precision: 0.0000e+00 - val_recall: 0.0000e+00 - val_auc: 0.7267 - val_prc: 0.1796\n",
      "Epoch 00016: early stopping\n"
     ]
    }
   ],
   "source": [
    "history = model.fit(x=train_ds,\n",
    "                    epochs=EPOCHS,\n",
    "                    validation_data=val_ds,\n",
    "                    callbacks=[stop_early])"
   ]
  },
  {
   "cell_type": "code",
   "execution_count": 42,
   "id": "8402236f",
   "metadata": {
    "scrolled": true
   },
   "outputs": [
    {
     "name": "stderr",
     "output_type": "stream",
     "text": [
      "COMET INFO: Ignoring automatic log_parameter('verbose') because 'keras:verbose' is in COMET_LOGGING_PARAMETERS_IGNORE\n"
     ]
    },
    {
     "name": "stdout",
     "output_type": "stream",
     "text": [
      "Epoch 1/15\n",
      "122/122 [==============================] - 10s 74ms/step - loss: 0.3005 - binary_accuracy: 0.9069 - val_loss: 0.2736 - val_binary_accuracy: 0.9105\n",
      "Epoch 2/15\n",
      "122/122 [==============================] - 9s 70ms/step - loss: 0.2801 - binary_accuracy: 0.9105 - val_loss: 0.2715 - val_binary_accuracy: 0.9105\n",
      "Epoch 3/15\n",
      "122/122 [==============================] - 9s 72ms/step - loss: 0.2775 - binary_accuracy: 0.9105 - val_loss: 0.2714 - val_binary_accuracy: 0.9105\n",
      "Epoch 4/15\n",
      "122/122 [==============================] - 8s 69ms/step - loss: 0.2767 - binary_accuracy: 0.9105 - val_loss: 0.2705 - val_binary_accuracy: 0.9105\n",
      "Epoch 5/15\n",
      "122/122 [==============================] - 9s 73ms/step - loss: 0.2757 - binary_accuracy: 0.9105 - val_loss: 0.2698 - val_binary_accuracy: 0.9105\n",
      "Epoch 6/15\n",
      "122/122 [==============================] - 9s 72ms/step - loss: 0.2748 - binary_accuracy: 0.9105 - val_loss: 0.2702 - val_binary_accuracy: 0.9105\n",
      "Epoch 7/15\n",
      "122/122 [==============================] - 9s 70ms/step - loss: 0.2742 - binary_accuracy: 0.9105 - val_loss: 0.2692 - val_binary_accuracy: 0.9105\n",
      "Epoch 8/15\n",
      "122/122 [==============================] - 9s 73ms/step - loss: 0.2736 - binary_accuracy: 0.9105 - val_loss: 0.2686 - val_binary_accuracy: 0.9105\n",
      "Epoch 9/15\n",
      "122/122 [==============================] - 9s 70ms/step - loss: 0.2729 - binary_accuracy: 0.9105 - val_loss: 0.2687 - val_binary_accuracy: 0.9105\n",
      "Epoch 10/15\n",
      "122/122 [==============================] - 9s 73ms/step - loss: 0.2727 - binary_accuracy: 0.9104 - val_loss: 0.2678 - val_binary_accuracy: 0.9105\n",
      "Epoch 11/15\n",
      "122/122 [==============================] - 9s 74ms/step - loss: 0.2719 - binary_accuracy: 0.9105 - val_loss: 0.2674 - val_binary_accuracy: 0.9105\n",
      "Epoch 12/15\n",
      "122/122 [==============================] - 9s 74ms/step - loss: 0.2719 - binary_accuracy: 0.9105 - val_loss: 0.2678 - val_binary_accuracy: 0.9105\n",
      "Epoch 13/15\n",
      "122/122 [==============================] - 9s 73ms/step - loss: 0.2714 - binary_accuracy: 0.9105 - val_loss: 0.2669 - val_binary_accuracy: 0.9105\n",
      "Epoch 14/15\n",
      "122/122 [==============================] - 9s 71ms/step - loss: 0.2712 - binary_accuracy: 0.9104 - val_loss: 0.2678 - val_binary_accuracy: 0.9105\n",
      "Epoch 15/15\n",
      "122/122 [==============================] - 9s 73ms/step - loss: 0.2709 - binary_accuracy: 0.9104 - val_loss: 0.2666 - val_binary_accuracy: 0.9105\n"
     ]
    }
   ],
   "source": [
    "# #will log metrics with the prefix 'train_'\n",
    "# with comet_exp.train():\n",
    "#     history = model.fit(x=train_ds,\n",
    "#                         epochs=EPOCHS,\n",
    "#                         validation_data=val_ds,\n",
    "#                         callbacks=[stop_early])"
   ]
  },
  {
   "cell_type": "markdown",
   "id": "0f539b20",
   "metadata": {},
   "source": [
    "### Set the correct initial bias\n"
   ]
  },
  {
   "cell_type": "markdown",
   "id": "2bcbaca0",
   "metadata": {},
   "source": [
    "This way the model doesn't need to spend the first few epochs just learning that positive examples are unlikely. This also makes it easier to read plots of the loss during training."
   ]
  },
  {
   "cell_type": "code",
   "execution_count": 173,
   "id": "274b67ac",
   "metadata": {},
   "outputs": [
    {
     "data": {
      "text/plain": [
       "array([-2.31988883])"
      ]
     },
     "execution_count": 173,
     "metadata": {},
     "output_type": "execute_result"
    }
   ],
   "source": [
    "initial_bias = np.log([pos/neg])\n",
    "initial_bias"
   ]
  },
  {
   "cell_type": "code",
   "execution_count": 174,
   "id": "92e6b3dc",
   "metadata": {
    "scrolled": true
   },
   "outputs": [
    {
     "data": {
      "text/plain": [
       "array([[0.06285092],\n",
       "       [0.50496024],\n",
       "       [0.15721148],\n",
       "       [0.07142055],\n",
       "       [0.09063941],\n",
       "       [0.72378486],\n",
       "       [0.08097106],\n",
       "       [0.0258289 ],\n",
       "       [0.24437699],\n",
       "       [0.06934524]], dtype=float32)"
      ]
     },
     "execution_count": 174,
     "metadata": {},
     "output_type": "execute_result"
    }
   ],
   "source": [
    "model = build_model(output_bias=initial_bias)\n",
    "model.predict(X_train[:10])"
   ]
  },
  {
   "cell_type": "code",
   "execution_count": 175,
   "id": "77256f30",
   "metadata": {},
   "outputs": [
    {
     "name": "stdout",
     "output_type": "stream",
     "text": [
      "Loss: 0.4631\n"
     ]
    }
   ],
   "source": [
    "results = model.evaluate(X_train, y_train, batch_size=BATCH_SIZE, verbose=0)\n",
    "print(\"Loss: {:0.4f}\".format(results[0]))"
   ]
  },
  {
   "cell_type": "markdown",
   "id": "c1d2fcec",
   "metadata": {},
   "source": [
    "Checkpoint the initial weights"
   ]
  },
  {
   "cell_type": "code",
   "execution_count": 176,
   "id": "50e20059",
   "metadata": {},
   "outputs": [],
   "source": [
    "initial_weights = os.path.join(tempfile.mkdtemp(), 'initial_weights')\n",
    "model.save_weights(initial_weights)"
   ]
  },
  {
   "cell_type": "markdown",
   "id": "dec8e9ea",
   "metadata": {},
   "source": [
    "### Check History"
   ]
  },
  {
   "cell_type": "code",
   "execution_count": 177,
   "id": "a24deb6a",
   "metadata": {},
   "outputs": [],
   "source": [
    "def plot_metrics(history):\n",
    "    metrics = ['loss', 'prc', 'precision', 'recall']\n",
    "    for n, metric in enumerate(metrics):\n",
    "        name = metric.replace(\"_\",\" \").capitalize()\n",
    "        plt.subplot(2,2,n+1)\n",
    "        plt.plot(history.epoch, history.history[metric], color=colors[0], label='Train')\n",
    "        plt.plot(history.epoch, history.history['val_'+metric],\n",
    "                 color=colors[0], linestyle=\"--\", label='Val')\n",
    "        plt.xlabel('Epoch')\n",
    "        plt.ylabel(name)\n",
    "        if metric == 'loss':\n",
    "            plt.ylim([0, plt.ylim()[1]])\n",
    "        elif metric == 'auc':\n",
    "            plt.ylim([0.8,1])\n",
    "        else:\n",
    "            plt.ylim([0,1])\n",
    "\n",
    "        plt.legend()"
   ]
  },
  {
   "cell_type": "code",
   "execution_count": 178,
   "id": "f144414c",
   "metadata": {},
   "outputs": [
    {
     "data": {
      "image/png": "[encoded data removed]",
      "text/plain": [
       "<Figure size 864x720 with 4 Axes>"
      ]
     },
     "metadata": {
      "needs_background": "light"
     },
     "output_type": "display_data"
    }
   ],
   "source": [
    "plot_metrics(history)"
   ]
  },
  {
   "cell_type": "code",
   "execution_count": 179,
   "id": "7cf37d76",
   "metadata": {
    "scrolled": true
   },
   "outputs": [
    {
     "data": {
      "text/plain": [
       "['loss',\n",
       " 'tp',\n",
       " 'fp',\n",
       " 'tn',\n",
       " 'fn',\n",
       " 'accuracy',\n",
       " 'precision',\n",
       " 'recall',\n",
       " 'auc',\n",
       " 'prc']"
      ]
     },
     "execution_count": 179,
     "metadata": {},
     "output_type": "execute_result"
    }
   ],
   "source": [
    "model.metrics_names"
   ]
  },
  {
   "cell_type": "markdown",
   "id": "55aad903",
   "metadata": {},
   "source": [
    "## Calculate class weights"
   ]
  },
  {
   "cell_type": "code",
   "execution_count": 180,
   "id": "67e30307",
   "metadata": {
    "scrolled": true
   },
   "outputs": [
    {
     "name": "stdout",
     "output_type": "stream",
     "text": [
      "Weight for class 0: 0.55\n",
      "Weight for class 1: 5.59\n"
     ]
    }
   ],
   "source": [
    "# Scaling by total/2 helps keep the loss to a similar magnitude.\n",
    "# The sum of the weights of all examples stays the same.\n",
    "weight_for_0 = (1 / neg) * (total / 2.0)\n",
    "weight_for_1 = (1 / pos) * (total / 2.0)\n",
    "\n",
    "class_weight = {0: weight_for_0, 1: weight_for_1}\n",
    "\n",
    "print('Weight for class 0: {:.2f}'.format(weight_for_0))\n",
    "print('Weight for class 1: {:.2f}'.format(weight_for_1))"
   ]
  },
  {
   "cell_type": "markdown",
   "id": "26fcf3ab",
   "metadata": {},
   "source": [
    "PS: We use \"Adam\" optimiser since it's unaffected by the scaling here"
   ]
  },
  {
   "cell_type": "code",
   "execution_count": 181,
   "id": "fcd5bd77",
   "metadata": {},
   "outputs": [],
   "source": [
    "#we change it from 50 to 100\n",
    "EPOCHS = 100"
   ]
  },
  {
   "cell_type": "code",
   "execution_count": 182,
   "id": "b405ae95",
   "metadata": {},
   "outputs": [
    {
     "data": {
      "text/plain": [
       "<tensorflow.python.training.tracking.util.CheckpointLoadStatus at 0x21ebff065b0>"
      ]
     },
     "execution_count": 182,
     "metadata": {},
     "output_type": "execute_result"
    }
   ],
   "source": [
    "weighted_model = build_model()\n",
    "weighted_model.load_weights(initial_weights)"
   ]
  },
  {
   "cell_type": "code",
   "execution_count": 183,
   "id": "afbe7f90",
   "metadata": {},
   "outputs": [
    {
     "name": "stdout",
     "output_type": "stream",
     "text": [
      "Epoch 1/100\n",
      "485/485 [==============================] - 11s 20ms/step - loss: 0.6488 - tp: 17729.0000 - fp: 115459.0000 - tn: 562715.0000 - fn: 48925.0000 - accuracy: 0.7793 - precision: 0.1331 - recall: 0.2660 - auc: 0.5731 - prc: 0.1154 - val_loss: 0.9440 - val_tp: 19439.0000 - val_fp: 133966.0000 - val_tn: 92092.0000 - val_fn: 2779.0000 - val_accuracy: 0.4492 - val_precision: 0.1267 - val_recall: 0.8749 - val_auc: 0.7213 - val_prc: 0.1809\n",
      "Epoch 2/100\n",
      "485/485 [==============================] - 8s 17ms/step - loss: 0.6312 - tp: 15490.0000 - fp: 86967.0000 - tn: 139091.0000 - fn: 6728.0000 - accuracy: 0.6226 - precision: 0.1512 - recall: 0.6972 - auc: 0.7034 - prc: 0.1731 - val_loss: 0.9295 - val_tp: 18822.0000 - val_fp: 121501.0000 - val_tn: 104557.0000 - val_fn: 3396.0000 - val_accuracy: 0.4969 - val_precision: 0.1341 - val_recall: 0.8472 - val_auc: 0.7261 - val_prc: 0.1918\n",
      "Epoch 3/100\n",
      "485/485 [==============================] - 8s 17ms/step - loss: 0.6227 - tp: 16125.0000 - fp: 89483.0000 - tn: 136575.0000 - fn: 6093.0000 - accuracy: 0.6150 - precision: 0.1527 - recall: 0.7258 - auc: 0.7121 - prc: 0.1793 - val_loss: 1.0478 - val_tp: 19153.0000 - val_fp: 123528.0000 - val_tn: 102530.0000 - val_fn: 3065.0000 - val_accuracy: 0.4901 - val_precision: 0.1342 - val_recall: 0.8620 - val_auc: 0.7357 - val_prc: 0.2046\n",
      "Epoch 4/100\n",
      "485/485 [==============================] - 8s 17ms/step - loss: 0.6196 - tp: 16105.0000 - fp: 88769.0000 - tn: 137289.0000 - fn: 6113.0000 - accuracy: 0.6178 - precision: 0.1536 - recall: 0.7249 - auc: 0.7164 - prc: 0.1813 - val_loss: 1.0315 - val_tp: 19793.0000 - val_fp: 133601.0000 - val_tn: 92457.0000 - val_fn: 2425.0000 - val_accuracy: 0.4521 - val_precision: 0.1290 - val_recall: 0.8909 - val_auc: 0.7402 - val_prc: 0.2065\n",
      "Epoch 5/100\n",
      "485/485 [==============================] - 9s 18ms/step - loss: 0.6181 - tp: 16283.0000 - fp: 90032.0000 - tn: 136026.0000 - fn: 5935.0000 - accuracy: 0.6135 - precision: 0.1532 - recall: 0.7329 - auc: 0.7188 - prc: 0.1849 - val_loss: 1.0004 - val_tp: 18816.0000 - val_fp: 119829.0000 - val_tn: 106229.0000 - val_fn: 3402.0000 - val_accuracy: 0.5037 - val_precision: 0.1357 - val_recall: 0.8469 - val_auc: 0.7337 - val_prc: 0.2035\n",
      "Epoch 6/100\n",
      "485/485 [==============================] - 8s 17ms/step - loss: 0.6157 - tp: 16195.0000 - fp: 87656.0000 - tn: 138402.0000 - fn: 6023.0000 - accuracy: 0.6227 - precision: 0.1559 - recall: 0.7289 - auc: 0.7221 - prc: 0.1894 - val_loss: 1.0518 - val_tp: 19533.0000 - val_fp: 128725.0000 - val_tn: 97333.0000 - val_fn: 2685.0000 - val_accuracy: 0.4707 - val_precision: 0.1318 - val_recall: 0.8792 - val_auc: 0.7412 - val_prc: 0.2133\n",
      "Epoch 7/100\n",
      "485/485 [==============================] - 9s 18ms/step - loss: 0.6145 - tp: 16345.0000 - fp: 89495.0000 - tn: 136563.0000 - fn: 5873.0000 - accuracy: 0.6159 - precision: 0.1544 - recall: 0.7357 - auc: 0.7235 - prc: 0.1928 - val_loss: 1.0631 - val_tp: 19086.0000 - val_fp: 119673.0000 - val_tn: 106385.0000 - val_fn: 3132.0000 - val_accuracy: 0.5054 - val_precision: 0.1375 - val_recall: 0.8590 - val_auc: 0.7435 - val_prc: 0.2157\n",
      "Epoch 8/100\n",
      "485/485 [==============================] - 8s 17ms/step - loss: 0.6136 - tp: 16315.0000 - fp: 88097.0000 - tn: 137961.0000 - fn: 5903.0000 - accuracy: 0.6214 - precision: 0.1563 - recall: 0.7343 - auc: 0.7244 - prc: 0.1915 - val_loss: 0.9520 - val_tp: 18827.0000 - val_fp: 115806.0000 - val_tn: 110252.0000 - val_fn: 3391.0000 - val_accuracy: 0.5199 - val_precision: 0.1398 - val_recall: 0.8474 - val_auc: 0.7450 - val_prc: 0.2207\n",
      "Epoch 9/100\n",
      "485/485 [==============================] - 8s 17ms/step - loss: 0.6211 - tp: 16345.0000 - fp: 90120.0000 - tn: 135938.0000 - fn: 5873.0000 - accuracy: 0.6134 - precision: 0.1535 - recall: 0.7357 - auc: 0.7171 - prc: 0.1855 - val_loss: 0.7955 - val_tp: 20267.0000 - val_fp: 146109.0000 - val_tn: 79949.0000 - val_fn: 1951.0000 - val_accuracy: 0.4036 - val_precision: 0.1218 - val_recall: 0.9122 - val_auc: 0.7421 - val_prc: 0.2154\n",
      "Epoch 10/100\n",
      "485/485 [==============================] - 9s 18ms/step - loss: 0.6128 - tp: 16602.0000 - fp: 90770.0000 - tn: 135288.0000 - fn: 5616.0000 - accuracy: 0.6118 - precision: 0.1546 - recall: 0.7472 - auc: 0.7258 - prc: 0.1958 - val_loss: 0.7756 - val_tp: 18362.0000 - val_fp: 112577.0000 - val_tn: 113481.0000 - val_fn: 3856.0000 - val_accuracy: 0.5310 - val_precision: 0.1402 - val_recall: 0.8264 - val_auc: 0.7354 - val_prc: 0.2139\n",
      "Epoch 11/100\n",
      "485/485 [==============================] - 8s 17ms/step - loss: 0.6213 - tp: 16549.0000 - fp: 93708.0000 - tn: 132350.0000 - fn: 5669.0000 - accuracy: 0.5997 - precision: 0.1501 - recall: 0.7448 - auc: 0.7150 - prc: 0.1855 - val_loss: 0.7995 - val_tp: 18988.0000 - val_fp: 119639.0000 - val_tn: 106419.0000 - val_fn: 3230.0000 - val_accuracy: 0.5051 - val_precision: 0.1370 - val_recall: 0.8546 - val_auc: 0.7209 - val_prc: 0.1658\n",
      "Epoch 12/100\n",
      "485/485 [==============================] - 9s 18ms/step - loss: 0.6235 - tp: 16477.0000 - fp: 90717.0000 - tn: 135341.0000 - fn: 5741.0000 - accuracy: 0.6115 - precision: 0.1537 - recall: 0.7416 - auc: 0.7071 - prc: 0.1634 - val_loss: 0.7857 - val_tp: 19174.0000 - val_fp: 123452.0000 - val_tn: 102606.0000 - val_fn: 3044.0000 - val_accuracy: 0.4905 - val_precision: 0.1344 - val_recall: 0.8630 - val_auc: 0.7126 - val_prc: 0.1593\n",
      "Epoch 13/100\n",
      "485/485 [==============================] - 8s 17ms/step - loss: 0.6226 - tp: 16731.0000 - fp: 94238.0000 - tn: 131820.0000 - fn: 5487.0000 - accuracy: 0.5983 - precision: 0.1508 - recall: 0.7530 - auc: 0.7071 - prc: 0.1628 - val_loss: 0.8504 - val_tp: 19669.0000 - val_fp: 132120.0000 - val_tn: 93938.0000 - val_fn: 2549.0000 - val_accuracy: 0.4576 - val_precision: 0.1296 - val_recall: 0.8853 - val_auc: 0.7268 - val_prc: 0.1729\n",
      "Epoch 14/100\n",
      "485/485 [==============================] - 9s 18ms/step - loss: 0.6158 - tp: 15960.0000 - fp: 84061.0000 - tn: 141997.0000 - fn: 6258.0000 - accuracy: 0.6362 - precision: 0.1596 - recall: 0.7183 - auc: 0.7185 - prc: 0.1733 - val_loss: 0.7179 - val_tp: 18409.0000 - val_fp: 109212.0000 - val_tn: 116846.0000 - val_fn: 3809.0000 - val_accuracy: 0.5448 - val_precision: 0.1442 - val_recall: 0.8286 - val_auc: 0.7366 - val_prc: 0.1875\n",
      "Epoch 15/100\n",
      "485/485 [==============================] - 8s 17ms/step - loss: 0.6201 - tp: 16075.0000 - fp: 86284.0000 - tn: 139774.0000 - fn: 6143.0000 - accuracy: 0.6277 - precision: 0.1570 - recall: 0.7235 - auc: 0.7149 - prc: 0.1709 - val_loss: 0.7124 - val_tp: 18005.0000 - val_fp: 108703.0000 - val_tn: 117355.0000 - val_fn: 4213.0000 - val_accuracy: 0.5452 - val_precision: 0.1421 - val_recall: 0.8104 - val_auc: 0.7174 - val_prc: 0.1650\n",
      "Epoch 16/100\n",
      "485/485 [==============================] - 9s 19ms/step - loss: 0.6186 - tp: 16487.0000 - fp: 90354.0000 - tn: 135704.0000 - fn: 5731.0000 - accuracy: 0.6130 - precision: 0.1543 - recall: 0.7421 - auc: 0.7144 - prc: 0.1674 - val_loss: 0.7883 - val_tp: 19190.0000 - val_fp: 121405.0000 - val_tn: 104653.0000 - val_fn: 3028.0000 - val_accuracy: 0.4988 - val_precision: 0.1365 - val_recall: 0.8637 - val_auc: 0.7311 - val_prc: 0.1750\n",
      "Epoch 17/100\n",
      "485/485 [==============================] - 8s 17ms/step - loss: 0.6211 - tp: 16374.0000 - fp: 91043.0000 - tn: 135015.0000 - fn: 5844.0000 - accuracy: 0.6098 - precision: 0.1524 - recall: 0.7370 - auc: 0.7106 - prc: 0.1686 - val_loss: 0.7348 - val_tp: 19108.0000 - val_fp: 119783.0000 - val_tn: 106275.0000 - val_fn: 3110.0000 - val_accuracy: 0.5050 - val_precision: 0.1376 - val_recall: 0.8600 - val_auc: 0.7225 - val_prc: 0.1676\n",
      "Epoch 18/100\n",
      "485/485 [==============================] - 9s 18ms/step - loss: 0.6426 - tp: 17232.0000 - fp: 111381.0000 - tn: 114677.0000 - fn: 4986.0000 - accuracy: 0.5313 - precision: 0.1340 - recall: 0.7756 - auc: 0.6823 - prc: 0.1557 - val_loss: 0.7823 - val_tp: 17075.0000 - val_fp: 104481.0000 - val_tn: 121577.0000 - val_fn: 5143.0000 - val_accuracy: 0.5585 - val_precision: 0.1405 - val_recall: 0.7685 - val_auc: 0.6694 - val_prc: 0.1362\n",
      "Epoch 19/100\n"
     ]
    },
    {
     "name": "stdout",
     "output_type": "stream",
     "text": [
      "485/485 [==============================] - 8s 17ms/step - loss: 0.6314 - tp: 15943.0000 - fp: 90428.0000 - tn: 135630.0000 - fn: 6275.0000 - accuracy: 0.6105 - precision: 0.1499 - recall: 0.7176 - auc: 0.6892 - prc: 0.1498 - val_loss: 0.7113 - val_tp: 14555.0000 - val_fp: 72691.0000 - val_tn: 153367.0000 - val_fn: 7663.0000 - val_accuracy: 0.6764 - val_precision: 0.1668 - val_recall: 0.6551 - val_auc: 0.7094 - val_prc: 0.1597\n",
      "Epoch 20/100\n",
      "485/485 [==============================] - 8s 17ms/step - loss: 0.6566 - tp: 16005.0000 - fp: 90126.0000 - tn: 135932.0000 - fn: 6213.0000 - accuracy: 0.6120 - precision: 0.1508 - recall: 0.7204 - auc: 0.7055 - prc: 0.1645 - val_loss: 0.7765 - val_tp: 20576.0000 - val_fp: 156672.0000 - val_tn: 69386.0000 - val_fn: 1642.0000 - val_accuracy: 0.3623 - val_precision: 0.1161 - val_recall: 0.9261 - val_auc: 0.6863 - val_prc: 0.1445\n",
      "Epoch 21/100\n",
      "485/485 [==============================] - 8s 17ms/step - loss: 0.6302 - tp: 15891.0000 - fp: 90468.0000 - tn: 135590.0000 - fn: 6327.0000 - accuracy: 0.6101 - precision: 0.1494 - recall: 0.7152 - auc: 0.6984 - prc: 0.1580 - val_loss: 0.6864 - val_tp: 19045.0000 - val_fp: 121160.0000 - val_tn: 104898.0000 - val_fn: 3173.0000 - val_accuracy: 0.4992 - val_precision: 0.1358 - val_recall: 0.8572 - val_auc: 0.7180 - val_prc: 0.1672\n",
      "Epoch 22/100\n",
      "485/485 [==============================] - 8s 17ms/step - loss: 0.6310 - tp: 16252.0000 - fp: 94142.0000 - tn: 131916.0000 - fn: 5966.0000 - accuracy: 0.5968 - precision: 0.1472 - recall: 0.7315 - auc: 0.7043 - prc: 0.1659 - val_loss: 0.7109 - val_tp: 18003.0000 - val_fp: 106850.0000 - val_tn: 119208.0000 - val_fn: 4215.0000 - val_accuracy: 0.5527 - val_precision: 0.1442 - val_recall: 0.8103 - val_auc: 0.7184 - val_prc: 0.1734\n",
      "Epoch 23/100\n",
      "485/485 [==============================] - 9s 18ms/step - loss: 0.6269 - tp: 16429.0000 - fp: 93967.0000 - tn: 132091.0000 - fn: 5789.0000 - accuracy: 0.5982 - precision: 0.1488 - recall: 0.7394 - auc: 0.7021 - prc: 0.1610 - val_loss: 0.7216 - val_tp: 15360.0000 - val_fp: 75142.0000 - val_tn: 150916.0000 - val_fn: 6858.0000 - val_accuracy: 0.6697 - val_precision: 0.1697 - val_recall: 0.6913 - val_auc: 0.7131 - val_prc: 0.1596\n",
      "Epoch 24/100\n",
      "485/485 [==============================] - 8s 17ms/step - loss: 0.6573 - tp: 16758.0000 - fp: 106186.0000 - tn: 119872.0000 - fn: 5460.0000 - accuracy: 0.5503 - precision: 0.1363 - recall: 0.7543 - auc: 0.6822 - prc: 0.1533 - val_loss: 0.6265 - val_tp: 18062.0000 - val_fp: 111199.0000 - val_tn: 114859.0000 - val_fn: 4156.0000 - val_accuracy: 0.5354 - val_precision: 0.1397 - val_recall: 0.8129 - val_auc: 0.6754 - val_prc: 0.1373\n",
      "Epoch 25/100\n",
      "485/485 [==============================] - 9s 18ms/step - loss: 0.6383 - tp: 17218.0000 - fp: 103912.0000 - tn: 122146.0000 - fn: 5000.0000 - accuracy: 0.5613 - precision: 0.1421 - recall: 0.7750 - auc: 0.6781 - prc: 0.1433 - val_loss: 0.6104 - val_tp: 18416.0000 - val_fp: 110395.0000 - val_tn: 115663.0000 - val_fn: 3802.0000 - val_accuracy: 0.5400 - val_precision: 0.1430 - val_recall: 0.8289 - val_auc: 0.6900 - val_prc: 0.1432\n",
      "Epoch 26/100\n",
      "485/485 [==============================] - 8s 17ms/step - loss: 0.6286 - tp: 17168.0000 - fp: 98649.0000 - tn: 127409.0000 - fn: 5050.0000 - accuracy: 0.5823 - precision: 0.1482 - recall: 0.7727 - auc: 0.6894 - prc: 0.1489 - val_loss: 0.6598 - val_tp: 17694.0000 - val_fp: 99775.0000 - val_tn: 126283.0000 - val_fn: 4524.0000 - val_accuracy: 0.5799 - val_precision: 0.1506 - val_recall: 0.7964 - val_auc: 0.7027 - val_prc: 0.1510\n",
      "Epoch 27/100\n",
      "485/485 [==============================] - 9s 18ms/step - loss: 0.6273 - tp: 17350.0000 - fp: 100151.0000 - tn: 125907.0000 - fn: 4868.0000 - accuracy: 0.5770 - precision: 0.1477 - recall: 0.7809 - auc: 0.6935 - prc: 0.1498 - val_loss: 0.6456 - val_tp: 17338.0000 - val_fp: 95495.0000 - val_tn: 130563.0000 - val_fn: 4880.0000 - val_accuracy: 0.5957 - val_precision: 0.1537 - val_recall: 0.7804 - val_auc: 0.7085 - val_prc: 0.1552\n",
      "Epoch 28/100\n",
      "485/485 [==============================] - 8s 17ms/step - loss: 0.6374 - tp: 16238.0000 - fp: 91487.0000 - tn: 134571.0000 - fn: 5980.0000 - accuracy: 0.6074 - precision: 0.1507 - recall: 0.7308 - auc: 0.6934 - prc: 0.1532 - val_loss: 0.6213 - val_tp: 15143.0000 - val_fp: 73441.0000 - val_tn: 152617.0000 - val_fn: 7075.0000 - val_accuracy: 0.6757 - val_precision: 0.1709 - val_recall: 0.6816 - val_auc: 0.7143 - val_prc: 0.1603\n",
      "Epoch 29/100\n",
      "485/485 [==============================] - 9s 18ms/step - loss: 0.6277 - tp: 16743.0000 - fp: 94528.0000 - tn: 131530.0000 - fn: 5475.0000 - accuracy: 0.5972 - precision: 0.1505 - recall: 0.7536 - auc: 0.6978 - prc: 0.1534 - val_loss: 0.5978 - val_tp: 16247.0000 - val_fp: 82405.0000 - val_tn: 143653.0000 - val_fn: 5971.0000 - val_accuracy: 0.6440 - val_precision: 0.1647 - val_recall: 0.7313 - val_auc: 0.7106 - val_prc: 0.1566\n",
      "Epoch 30/100\n",
      "485/485 [==============================] - 8s 17ms/step - loss: 0.6293 - tp: 15708.0000 - fp: 86928.0000 - tn: 139130.0000 - fn: 6510.0000 - accuracy: 0.6237 - precision: 0.1530 - recall: 0.7070 - auc: 0.7001 - prc: 0.1581 - val_loss: 0.5930 - val_tp: 15344.0000 - val_fp: 77618.0000 - val_tn: 148440.0000 - val_fn: 6874.0000 - val_accuracy: 0.6597 - val_precision: 0.1651 - val_recall: 0.6906 - val_auc: 0.7060 - val_prc: 0.1554\n",
      "Epoch 31/100\n",
      "485/485 [==============================] - 9s 19ms/step - loss: 0.6242 - tp: 15943.0000 - fp: 88499.0000 - tn: 137559.0000 - fn: 6275.0000 - accuracy: 0.6183 - precision: 0.1526 - recall: 0.7176 - auc: 0.7058 - prc: 0.1639 - val_loss: 0.6340 - val_tp: 17395.0000 - val_fp: 96902.0000 - val_tn: 129156.0000 - val_fn: 4823.0000 - val_accuracy: 0.5903 - val_precision: 0.1522 - val_recall: 0.7829 - val_auc: 0.6989 - val_prc: 0.1487\n",
      "Epoch 32/100\n",
      "485/485 [==============================] - 8s 17ms/step - loss: 0.6271 - tp: 16695.0000 - fp: 96563.0000 - tn: 129495.0000 - fn: 5523.0000 - accuracy: 0.5888 - precision: 0.1474 - recall: 0.7514 - auc: 0.6985 - prc: 0.1563 - val_loss: 0.5975 - val_tp: 14428.0000 - val_fp: 68762.0000 - val_tn: 157296.0000 - val_fn: 7790.0000 - val_accuracy: 0.6917 - val_precision: 0.1734 - val_recall: 0.6494 - val_auc: 0.7139 - val_prc: 0.1612\n",
      "Epoch 33/100\n",
      "485/485 [==============================] - 9s 18ms/step - loss: 0.6239 - tp: 15704.0000 - fp: 87526.0000 - tn: 138532.0000 - fn: 6514.0000 - accuracy: 0.6212 - precision: 0.1521 - recall: 0.7068 - auc: 0.7064 - prc: 0.1655 - val_loss: 0.5695 - val_tp: 17504.0000 - val_fp: 98643.0000 - val_tn: 127415.0000 - val_fn: 4714.0000 - val_accuracy: 0.5837 - val_precision: 0.1507 - val_recall: 0.7878 - val_auc: 0.7200 - val_prc: 0.1709\n",
      "Epoch 34/100\n",
      "485/485 [==============================] - 8s 17ms/step - loss: 0.6226 - tp: 16217.0000 - fp: 91689.0000 - tn: 134369.0000 - fn: 6001.0000 - accuracy: 0.6065 - precision: 0.1503 - recall: 0.7299 - auc: 0.7099 - prc: 0.1679 - val_loss: 0.6812 - val_tp: 17729.0000 - val_fp: 104772.0000 - val_tn: 121286.0000 - val_fn: 4489.0000 - val_accuracy: 0.5599 - val_precision: 0.1447 - val_recall: 0.7980 - val_auc: 0.6843 - val_prc: 0.1407\n",
      "Epoch 35/100\n",
      "485/485 [==============================] - 8s 17ms/step - loss: 0.6317 - tp: 17171.0000 - fp: 105858.0000 - tn: 120200.0000 - fn: 5047.0000 - accuracy: 0.5533 - precision: 0.1396 - recall: 0.7728 - auc: 0.6919 - prc: 0.1568 - val_loss: 0.6365 - val_tp: 13927.0000 - val_fp: 65385.0000 - val_tn: 160673.0000 - val_fn: 8291.0000 - val_accuracy: 0.7032 - val_precision: 0.1756 - val_recall: 0.6268 - val_auc: 0.7128 - val_prc: 0.1617\n",
      "Epoch 36/100\n",
      "485/485 [==============================] - 8s 18ms/step - loss: 0.6266 - tp: 16294.0000 - fp: 93041.0000 - tn: 133017.0000 - fn: 5924.0000 - accuracy: 0.6014 - precision: 0.1490 - recall: 0.7334 - auc: 0.7033 - prc: 0.1619 - val_loss: 0.6449 - val_tp: 16491.0000 - val_fp: 86355.0000 - val_tn: 139703.0000 - val_fn: 5727.0000 - val_accuracy: 0.6291 - val_precision: 0.1603 - val_recall: 0.7422 - val_auc: 0.7054 - val_prc: 0.1528\n",
      "Epoch 37/100\n"
     ]
    },
    {
     "name": "stdout",
     "output_type": "stream",
     "text": [
      "485/485 [==============================] - 8s 16ms/step - loss: 0.6281 - tp: 16076.0000 - fp: 92271.0000 - tn: 133787.0000 - fn: 6142.0000 - accuracy: 0.6036 - precision: 0.1484 - recall: 0.7236 - auc: 0.7027 - prc: 0.1588 - val_loss: 0.6155 - val_tp: 14037.0000 - val_fp: 65557.0000 - val_tn: 160501.0000 - val_fn: 8181.0000 - val_accuracy: 0.7030 - val_precision: 0.1764 - val_recall: 0.6318 - val_auc: 0.7112 - val_prc: 0.1624\n",
      "Epoch 38/100\n",
      "485/485 [==============================] - 8s 17ms/step - loss: 0.6382 - tp: 17096.0000 - fp: 105722.0000 - tn: 120336.0000 - fn: 5122.0000 - accuracy: 0.5535 - precision: 0.1392 - recall: 0.7695 - auc: 0.6825 - prc: 0.1457 - val_loss: 0.7405 - val_tp: 20939.0000 - val_fp: 165249.0000 - val_tn: 60809.0000 - val_fn: 1279.0000 - val_accuracy: 0.3293 - val_precision: 0.1125 - val_recall: 0.9424 - val_auc: 0.6102 - val_prc: 0.1127\n",
      "Epoch 39/100\n",
      "485/485 [==============================] - 8s 16ms/step - loss: 0.6319 - tp: 17608.0000 - fp: 106858.0000 - tn: 119200.0000 - fn: 4610.0000 - accuracy: 0.5510 - precision: 0.1415 - recall: 0.7925 - auc: 0.6831 - prc: 0.1437 - val_loss: 0.6080 - val_tp: 15282.0000 - val_fp: 77020.0000 - val_tn: 149038.0000 - val_fn: 6936.0000 - val_accuracy: 0.6618 - val_precision: 0.1656 - val_recall: 0.6878 - val_auc: 0.7064 - val_prc: 0.1557\n",
      "Epoch 40/100\n",
      "485/485 [==============================] - 8s 17ms/step - loss: 0.6257 - tp: 16505.0000 - fp: 93202.0000 - tn: 132856.0000 - fn: 5713.0000 - accuracy: 0.6016 - precision: 0.1504 - recall: 0.7429 - auc: 0.7013 - prc: 0.1577 - val_loss: 0.6615 - val_tp: 17409.0000 - val_fp: 111003.0000 - val_tn: 115055.0000 - val_fn: 4809.0000 - val_accuracy: 0.5335 - val_precision: 0.1356 - val_recall: 0.7836 - val_auc: 0.6596 - val_prc: 0.1313\n",
      "Epoch 41/100\n",
      "485/485 [==============================] - 8s 16ms/step - loss: 0.6282 - tp: 15524.0000 - fp: 86855.0000 - tn: 139203.0000 - fn: 6694.0000 - accuracy: 0.6232 - precision: 0.1516 - recall: 0.6987 - auc: 0.6999 - prc: 0.1575 - val_loss: 0.6233 - val_tp: 19813.0000 - val_fp: 132839.0000 - val_tn: 93219.0000 - val_fn: 2405.0000 - val_accuracy: 0.4553 - val_precision: 0.1298 - val_recall: 0.8918 - val_auc: 0.7143 - val_prc: 0.1657\n",
      "Epoch 42/100\n",
      "485/485 [==============================] - 9s 18ms/step - loss: 0.9660 - tp: 15482.0000 - fp: 89455.0000 - tn: 136603.0000 - fn: 6736.0000 - accuracy: 0.6126 - precision: 0.1475 - recall: 0.6968 - auc: 0.6925 - prc: 0.1538 - val_loss: 0.5477 - val_tp: 16795.0000 - val_fp: 96294.0000 - val_tn: 129764.0000 - val_fn: 5423.0000 - val_accuracy: 0.5903 - val_precision: 0.1485 - val_recall: 0.7559 - val_auc: 0.6847 - val_prc: 0.1426\n",
      "Epoch 43/100\n",
      "485/485 [==============================] - 8s 17ms/step - loss: 0.7673 - tp: 16056.0000 - fp: 92723.0000 - tn: 133335.0000 - fn: 6162.0000 - accuracy: 0.6017 - precision: 0.1476 - recall: 0.7227 - auc: 0.6920 - prc: 0.1536 - val_loss: 3.0285 - val_tp: 15075.0000 - val_fp: 75261.0000 - val_tn: 150797.0000 - val_fn: 7143.0000 - val_accuracy: 0.6681 - val_precision: 0.1669 - val_recall: 0.6785 - val_auc: 0.7068 - val_prc: 0.1575\n",
      "Epoch 44/100\n",
      "485/485 [==============================] - 9s 18ms/step - loss: 0.9461 - tp: 15894.0000 - fp: 100680.0000 - tn: 125378.0000 - fn: 6324.0000 - accuracy: 0.5690 - precision: 0.1363 - recall: 0.7154 - auc: 0.6712 - prc: 0.1502 - val_loss: 0.6943 - val_tp: 17196.0000 - val_fp: 96332.0000 - val_tn: 129726.0000 - val_fn: 5022.0000 - val_accuracy: 0.5918 - val_precision: 0.1515 - val_recall: 0.7740 - val_auc: 0.7066 - val_prc: 0.167352861.0000 - tn: 66448.0000 - fn: 3442.0000 - accura\n",
      "Epoch 45/100\n",
      "485/485 [==============================] - 8s 17ms/step - loss: 0.6321 - tp: 16438.0000 - fp: 98496.0000 - tn: 127562.0000 - fn: 5780.0000 - accuracy: 0.5800 - precision: 0.1430 - recall: 0.7399 - auc: 0.6984 - prc: 0.1675 - val_loss: 0.7302 - val_tp: 18445.0000 - val_fp: 111390.0000 - val_tn: 114668.0000 - val_fn: 3773.0000 - val_accuracy: 0.5361 - val_precision: 0.1421 - val_recall: 0.8302 - val_auc: 0.7182 - val_prc: 0.1674\n",
      "Epoch 46/100\n",
      "485/485 [==============================] - 8s 17ms/step - loss: 0.6313 - tp: 15677.0000 - fp: 88389.0000 - tn: 137669.0000 - fn: 6541.0000 - accuracy: 0.6176 - precision: 0.1506 - recall: 0.7056 - auc: 0.6965 - prc: 0.1576 - val_loss: 0.7091 - val_tp: 18519.0000 - val_fp: 112025.0000 - val_tn: 114033.0000 - val_fn: 3699.0000 - val_accuracy: 0.5339 - val_precision: 0.1419 - val_recall: 0.8335 - val_auc: 0.7049 - val_prc: 0.1535\n",
      "Epoch 47/100\n",
      "485/485 [==============================] - 8s 17ms/step - loss: 0.6277 - tp: 16081.0000 - fp: 90717.0000 - tn: 135341.0000 - fn: 6137.0000 - accuracy: 0.6099 - precision: 0.1506 - recall: 0.7238 - auc: 0.6954 - prc: 0.1530 - val_loss: 0.7642 - val_tp: 19631.0000 - val_fp: 130163.0000 - val_tn: 95895.0000 - val_fn: 2587.0000 - val_accuracy: 0.4653 - val_precision: 0.1311 - val_recall: 0.8836 - val_auc: 0.7045 - val_prc: 0.1531\n",
      "Epoch 48/100\n",
      "485/485 [==============================] - 9s 18ms/step - loss: 0.6291 - tp: 16789.0000 - fp: 97256.0000 - tn: 128802.0000 - fn: 5429.0000 - accuracy: 0.5864 - precision: 0.1472 - recall: 0.7556 - auc: 0.6893 - prc: 0.1481 - val_loss: 0.7278 - val_tp: 16659.0000 - val_fp: 89029.0000 - val_tn: 137029.0000 - val_fn: 5559.0000 - val_accuracy: 0.6190 - val_precision: 0.1576 - val_recall: 0.7498 - val_auc: 0.7054 - val_prc: 0.1535\n",
      "Epoch 49/100\n",
      "485/485 [==============================] - 8s 17ms/step - loss: 0.6257 - tp: 16396.0000 - fp: 91378.0000 - tn: 134680.0000 - fn: 5822.0000 - accuracy: 0.6085 - precision: 0.1521 - recall: 0.7380 - auc: 0.6968 - prc: 0.1535 - val_loss: 0.6942 - val_tp: 16338.0000 - val_fp: 84283.0000 - val_tn: 141775.0000 - val_fn: 5880.0000 - val_accuracy: 0.6368 - val_precision: 0.1624 - val_recall: 0.7353 - val_auc: 0.7111 - val_prc: 0.1586\n",
      "Epoch 50/100\n",
      "485/485 [==============================] - 9s 18ms/step - loss: 0.6240 - tp: 15828.0000 - fp: 87879.0000 - tn: 138179.0000 - fn: 6390.0000 - accuracy: 0.6203 - precision: 0.1526 - recall: 0.7124 - auc: 0.7062 - prc: 0.1636 - val_loss: 0.7223 - val_tp: 18323.0000 - val_fp: 107660.0000 - val_tn: 118398.0000 - val_fn: 3895.0000 - val_accuracy: 0.5507 - val_precision: 0.1454 - val_recall: 0.8247 - val_auc: 0.7136 - val_prc: 0.1592\n",
      "Epoch 51/100\n",
      "485/485 [==============================] - 8s 17ms/step - loss: 0.6253 - tp: 17012.0000 - fp: 99239.0000 - tn: 126819.0000 - fn: 5206.0000 - accuracy: 0.5793 - precision: 0.1463 - recall: 0.7657 - auc: 0.7063 - prc: 0.1678 - val_loss: 0.7054 - val_tp: 18601.0000 - val_fp: 111776.0000 - val_tn: 114282.0000 - val_fn: 3617.0000 - val_accuracy: 0.5352 - val_precision: 0.1427 - val_recall: 0.8372 - val_auc: 0.7205 - val_prc: 0.1740\n",
      "Epoch 52/100\n",
      "485/485 [==============================] - 9s 18ms/step - loss: 0.6244 - tp: 16643.0000 - fp: 95979.0000 - tn: 130079.0000 - fn: 5575.0000 - accuracy: 0.5910 - precision: 0.1478 - recall: 0.7491 - auc: 0.7074 - prc: 0.1659 - val_loss: 0.6912 - val_tp: 18608.0000 - val_fp: 111287.0000 - val_tn: 114771.0000 - val_fn: 3610.0000 - val_accuracy: 0.5372 - val_precision: 0.1433 - val_recall: 0.8375 - val_auc: 0.7216 - val_prc: 0.1683\n",
      "Epoch 53/100\n",
      "485/485 [==============================] - 8s 18ms/step - loss: 0.6232 - tp: 16228.0000 - fp: 93068.0000 - tn: 132990.0000 - fn: 5990.0000 - accuracy: 0.6010 - precision: 0.1485 - recall: 0.7304 - auc: 0.7064 - prc: 0.1631 - val_loss: 0.7207 - val_tp: 19120.0000 - val_fp: 120371.0000 - val_tn: 105687.0000 - val_fn: 3098.0000 - val_accuracy: 0.5027 - val_precision: 0.1371 - val_recall: 0.8606 - val_auc: 0.7181 - val_prc: 0.1651\n",
      "Epoch 54/100\n",
      "485/485 [==============================] - 8s 17ms/step - loss: 0.6249 - tp: 16689.0000 - fp: 95819.0000 - tn: 130239.0000 - fn: 5529.0000 - accuracy: 0.5918 - precision: 0.1483 - recall: 0.7511 - auc: 0.6970 - prc: 0.1531 - val_loss: 0.6354 - val_tp: 12793.0000 - val_fp: 55713.0000 - val_tn: 170345.0000 - val_fn: 9425.0000 - val_accuracy: 0.7376 - val_precision: 0.1867 - val_recall: 0.5758 - val_auc: 0.7142 - val_prc: 0.1670\n",
      "Epoch 55/100\n"
     ]
    },
    {
     "name": "stdout",
     "output_type": "stream",
     "text": [
      "485/485 [==============================] - 8s 17ms/step - loss: 0.6255 - tp: 16949.0000 - fp: 99338.0000 - tn: 126720.0000 - fn: 5269.0000 - accuracy: 0.5787 - precision: 0.1458 - recall: 0.7628 - auc: 0.7036 - prc: 0.1624 - val_loss: 0.7773 - val_tp: 20150.0000 - val_fp: 140605.0000 - val_tn: 85453.0000 - val_fn: 2068.0000 - val_accuracy: 0.4253 - val_precision: 0.1253 - val_recall: 0.9069 - val_auc: 0.7018 - val_prc: 0.1509\n",
      "Epoch 56/100\n",
      "485/485 [==============================] - 8s 17ms/step - loss: 0.6255 - tp: 17037.0000 - fp: 100385.0000 - tn: 125673.0000 - fn: 5181.0000 - accuracy: 0.5748 - precision: 0.1451 - recall: 0.7668 - auc: 0.7064 - prc: 0.1671 - val_loss: 0.6747 - val_tp: 18741.0000 - val_fp: 114436.0000 - val_tn: 111622.0000 - val_fn: 3477.0000 - val_accuracy: 0.5251 - val_precision: 0.1407 - val_recall: 0.8435 - val_auc: 0.7185 - val_prc: 0.1720\n",
      "Epoch 57/100\n",
      "485/485 [==============================] - 8s 17ms/step - loss: 0.6241 - tp: 16366.0000 - fp: 96313.0000 - tn: 129745.0000 - fn: 5852.0000 - accuracy: 0.5885 - precision: 0.1452 - recall: 0.7366 - auc: 0.7064 - prc: 0.1643 - val_loss: 0.6862 - val_tp: 19001.0000 - val_fp: 118305.0000 - val_tn: 107753.0000 - val_fn: 3217.0000 - val_accuracy: 0.5105 - val_precision: 0.1384 - val_recall: 0.8552 - val_auc: 0.7199 - val_prc: 0.1720\n",
      "Epoch 58/100\n",
      "485/485 [==============================] - 8s 17ms/step - loss: 0.6267 - tp: 17165.0000 - fp: 101366.0000 - tn: 124692.0000 - fn: 5053.0000 - accuracy: 0.5714 - precision: 0.1448 - recall: 0.7726 - auc: 0.7053 - prc: 0.1674 - val_loss: 0.6783 - val_tp: 18543.0000 - val_fp: 110578.0000 - val_tn: 115480.0000 - val_fn: 3675.0000 - val_accuracy: 0.5398 - val_precision: 0.1436 - val_recall: 0.8346 - val_auc: 0.7150 - val_prc: 0.1625\n",
      "Epoch 59/100\n",
      "485/485 [==============================] - 9s 18ms/step - loss: 0.6274 - tp: 16818.0000 - fp: 99734.0000 - tn: 126324.0000 - fn: 5400.0000 - accuracy: 0.5765 - precision: 0.1443 - recall: 0.7570 - auc: 0.7039 - prc: 0.1647 - val_loss: 0.8204 - val_tp: 19652.0000 - val_fp: 142550.0000 - val_tn: 83508.0000 - val_fn: 2566.0000 - val_accuracy: 0.4155 - val_precision: 0.1212 - val_recall: 0.8845 - val_auc: 0.6351 - val_prc: 0.1203\n",
      "Epoch 60/100\n",
      "485/485 [==============================] - 8s 16ms/step - loss: 0.6278 - tp: 16419.0000 - fp: 95989.0000 - tn: 130069.0000 - fn: 5799.0000 - accuracy: 0.5900 - precision: 0.1461 - recall: 0.7390 - auc: 0.7011 - prc: 0.1604 - val_loss: 0.6836 - val_tp: 18855.0000 - val_fp: 116630.0000 - val_tn: 109428.0000 - val_fn: 3363.0000 - val_accuracy: 0.5167 - val_precision: 0.1392 - val_recall: 0.8486 - val_auc: 0.7165 - val_prc: 0.1685\n",
      "Epoch 61/100\n",
      "485/485 [==============================] - 8s 17ms/step - loss: 0.6270 - tp: 17020.0000 - fp: 100852.0000 - tn: 125206.0000 - fn: 5198.0000 - accuracy: 0.5729 - precision: 0.1444 - recall: 0.7660 - auc: 0.7055 - prc: 0.1698 - val_loss: 0.6855 - val_tp: 17823.0000 - val_fp: 101075.0000 - val_tn: 124983.0000 - val_fn: 4395.0000 - val_accuracy: 0.5752 - val_precision: 0.1499 - val_recall: 0.8022 - val_auc: 0.7182 - val_prc: 0.1632\n",
      "Epoch 62/100\n",
      "485/485 [==============================] - 8s 16ms/step - loss: 0.6263 - tp: 16668.0000 - fp: 96731.0000 - tn: 129327.0000 - fn: 5550.0000 - accuracy: 0.5880 - precision: 0.1470 - recall: 0.7502 - auc: 0.7053 - prc: 0.1628 - val_loss: 0.6535 - val_tp: 18147.0000 - val_fp: 108468.0000 - val_tn: 117590.0000 - val_fn: 4071.0000 - val_accuracy: 0.5467 - val_precision: 0.1433 - val_recall: 0.8168 - val_auc: 0.7170 - val_prc: 0.1673\n",
      "Epoch 63/100\n",
      "485/485 [==============================] - 8s 17ms/step - loss: 0.6248 - tp: 16628.0000 - fp: 95711.0000 - tn: 130347.0000 - fn: 5590.0000 - accuracy: 0.5920 - precision: 0.1480 - recall: 0.7484 - auc: 0.7078 - prc: 0.1668 - val_loss: 0.7343 - val_tp: 18503.0000 - val_fp: 110704.0000 - val_tn: 115354.0000 - val_fn: 3715.0000 - val_accuracy: 0.5391 - val_precision: 0.1432 - val_recall: 0.8328 - val_auc: 0.7170 - val_prc: 0.1650\n",
      "Epoch 64/100\n",
      "485/485 [==============================] - 8s 16ms/step - loss: 0.6427 - tp: 18105.0000 - fp: 121904.0000 - tn: 104154.0000 - fn: 4113.0000 - accuracy: 0.4924 - precision: 0.1293 - recall: 0.8149 - auc: 0.6740 - prc: 0.1461 - val_loss: 0.9551 - val_tp: 22072.0000 - val_fp: 214222.0000 - val_tn: 11836.0000 - val_fn: 146.0000 - val_accuracy: 0.1366 - val_precision: 0.0934 - val_recall: 0.9934 - val_auc: 0.5276 - val_prc: 0.0942\n",
      "Epoch 65/100\n",
      "485/485 [==============================] - 8s 17ms/step - loss: 0.6567 - tp: 18302.0000 - fp: 130823.0000 - tn: 95235.0000 - fn: 3916.0000 - accuracy: 0.4573 - precision: 0.1227 - recall: 0.8237 - auc: 0.6360 - prc: 0.1234 - val_loss: 0.9021 - val_tp: 19616.0000 - val_fp: 141352.0000 - val_tn: 84706.0000 - val_fn: 2602.0000 - val_accuracy: 0.4202 - val_precision: 0.1219 - val_recall: 0.8829 - val_auc: 0.6312 - val_prc: 0.1200\n",
      "Epoch 66/100\n",
      "485/485 [==============================] - 8s 17ms/step - loss: 0.6500 - tp: 18216.0000 - fp: 127855.0000 - tn: 98203.0000 - fn: 4002.0000 - accuracy: 0.4689 - precision: 0.1247 - recall: 0.8199 - auc: 0.6560 - prc: 0.1376 - val_loss: 0.8336 - val_tp: 19651.0000 - val_fp: 139026.0000 - val_tn: 87032.0000 - val_fn: 2567.0000 - val_accuracy: 0.4297 - val_precision: 0.1238 - val_recall: 0.8845 - val_auc: 0.6381 - val_prc: 0.1220\n",
      "Epoch 67/100\n",
      "485/485 [==============================] - 8s 17ms/step - loss: 0.6410 - tp: 18429.0000 - fp: 120486.0000 - tn: 105572.0000 - fn: 3789.0000 - accuracy: 0.4994 - precision: 0.1327 - recall: 0.8295 - auc: 0.6641 - prc: 0.1352 - val_loss: 0.7749 - val_tp: 16570.0000 - val_fp: 88598.0000 - val_tn: 137460.0000 - val_fn: 5648.0000 - val_accuracy: 0.6204 - val_precision: 0.1576 - val_recall: 0.7458 - val_auc: 0.6925 - val_prc: 0.1488\n",
      "Epoch 68/100\n",
      "485/485 [==============================] - 8s 17ms/step - loss: 0.9861 - tp: 17340.0000 - fp: 110763.0000 - tn: 115295.0000 - fn: 4878.0000 - accuracy: 0.5342 - precision: 0.1354 - recall: 0.7804 - auc: 0.6755 - prc: 0.1461 - val_loss: 0.7979 - val_tp: 18733.0000 - val_fp: 120671.0000 - val_tn: 105387.0000 - val_fn: 3485.0000 - val_accuracy: 0.4999 - val_precision: 0.1344 - val_recall: 0.8431 - val_auc: 0.6690 - val_prc: 0.1340\n",
      "Epoch 69/100\n",
      "485/485 [==============================] - 9s 18ms/step - loss: 0.6460 - tp: 17122.0000 - fp: 101289.0000 - tn: 124769.0000 - fn: 5096.0000 - accuracy: 0.5715 - precision: 0.1446 - recall: 0.7706 - auc: 0.6800 - prc: 0.1431 - val_loss: 0.7717 - val_tp: 18106.0000 - val_fp: 116964.0000 - val_tn: 109094.0000 - val_fn: 4112.0000 - val_accuracy: 0.5123 - val_precision: 0.1340 - val_recall: 0.8149 - val_auc: 0.6604 - val_prc: 0.1317\n",
      "Epoch 70/100\n",
      "485/485 [==============================] - 8s 17ms/step - loss: 0.6374 - tp: 16637.0000 - fp: 97177.0000 - tn: 128881.0000 - fn: 5581.0000 - accuracy: 0.5861 - precision: 0.1462 - recall: 0.7488 - auc: 0.6778 - prc: 0.1432 - val_loss: 0.7139 - val_tp: 16583.0000 - val_fp: 88879.0000 - val_tn: 137179.0000 - val_fn: 5635.0000 - val_accuracy: 0.6193 - val_precision: 0.1572 - val_recall: 0.7464 - val_auc: 0.6963 - val_prc: 0.1494\n",
      "Epoch 71/100\n",
      "485/485 [==============================] - 8s 17ms/step - loss: 0.6331 - tp: 16423.0000 - fp: 92741.0000 - tn: 133317.0000 - fn: 5795.0000 - accuracy: 0.6031 - precision: 0.1504 - recall: 0.7392 - auc: 0.6833 - prc: 0.1468 - val_loss: 0.6878 - val_tp: 15257.0000 - val_fp: 74641.0000 - val_tn: 151417.0000 - val_fn: 6961.0000 - val_accuracy: 0.6713 - val_precision: 0.1697 - val_recall: 0.6867 - val_auc: 0.7053 - val_prc: 0.1575\n",
      "Epoch 72/100\n",
      "485/485 [==============================] - 8s 17ms/step - loss: 0.6321 - tp: 15243.0000 - fp: 83191.0000 - tn: 142867.0000 - fn: 6975.0000 - accuracy: 0.6368 - precision: 0.1549 - recall: 0.6861 - auc: 0.6909 - prc: 0.1550 - val_loss: 0.6963 - val_tp: 15693.0000 - val_fp: 79804.0000 - val_tn: 146254.0000 - val_fn: 6525.0000 - val_accuracy: 0.6523 - val_precision: 0.1643 - val_recall: 0.7063 - val_auc: 0.7019 - val_prc: 0.1541\n",
      "Epoch 73/100\n"
     ]
    },
    {
     "name": "stdout",
     "output_type": "stream",
     "text": [
      "485/485 [==============================] - 9s 18ms/step - loss: 0.7731 - tp: 16125.0000 - fp: 90515.0000 - tn: 135543.0000 - fn: 6093.0000 - accuracy: 0.6109 - precision: 0.1512 - recall: 0.7258 - auc: 0.6822 - prc: 0.1464 - val_loss: 0.5829 - val_tp: 4955.0000 - val_fp: 74402.0000 - val_tn: 151656.0000 - val_fn: 17263.0000 - val_accuracy: 0.6308 - val_precision: 0.0624 - val_recall: 0.2230 - val_auc: 0.5212 - val_prc: 0.0858\n",
      "Epoch 74/100\n",
      "485/485 [==============================] - 10s 20ms/step - loss: 0.7042 - tp: 14168.0000 - fp: 96251.0000 - tn: 129807.0000 - fn: 8050.0000 - accuracy: 0.5799 - precision: 0.1283 - recall: 0.6377 - auc: 0.6560 - prc: 0.1480 - val_loss: 0.5232 - val_tp: 16995.0000 - val_fp: 100701.0000 - val_tn: 125357.0000 - val_fn: 5223.0000 - val_accuracy: 0.5734 - val_precision: 0.1444 - val_recall: 0.7649 - val_auc: 0.7025 - val_prc: 0.1674\n",
      "Epoch 75/100\n",
      "485/485 [==============================] - 12s 24ms/step - loss: 0.6407 - tp: 16861.0000 - fp: 110316.0000 - tn: 115742.0000 - fn: 5357.0000 - accuracy: 0.5341 - precision: 0.1326 - recall: 0.7589 - auc: 0.6826 - prc: 0.1600 - val_loss: 0.5881 - val_tp: 18232.0000 - val_fp: 112664.0000 - val_tn: 113394.0000 - val_fn: 3986.0000 - val_accuracy: 0.5302 - val_precision: 0.1393 - val_recall: 0.8206 - val_auc: 0.7048 - val_prc: 0.1684 - tn: 64794.0000 - fn: 3171.0000 - accuracy: 0.5439 - precis - ETA: 2s - loss: 0.6417 - tp: 12360.0000 - fp: 80584.0000 - tn: 86762.0000 - fn: 4102.0000 - accuracy: 0.5393 -\n",
      "Epoch 76/100\n",
      "485/485 [==============================] - 9s 19ms/step - loss: 0.7316 - tp: 16728.0000 - fp: 104234.0000 - tn: 121824.0000 - fn: 5490.0000 - accuracy: 0.5581 - precision: 0.1383 - recall: 0.7529 - auc: 0.6757 - prc: 0.1494 - val_loss: 0.6326 - val_tp: 15594.0000 - val_fp: 80023.0000 - val_tn: 146035.0000 - val_fn: 6624.0000 - val_accuracy: 0.6510 - val_precision: 0.1631 - val_recall: 0.7019 - val_auc: 0.7096 - val_prc: 0.1711\n",
      "Epoch 77/100\n",
      "485/485 [==============================] - 9s 19ms/step - loss: 0.6413 - tp: 16135.0000 - fp: 94010.0000 - tn: 132048.0000 - fn: 6083.0000 - accuracy: 0.5968 - precision: 0.1465 - recall: 0.7262 - auc: 0.6799 - prc: 0.1504 - val_loss: 0.6715 - val_tp: 17262.0000 - val_fp: 95477.0000 - val_tn: 130581.0000 - val_fn: 4956.0000 - val_accuracy: 0.5955 - val_precision: 0.1531 - val_recall: 0.7769 - val_auc: 0.7107 - val_prc: 0.1693\n",
      "Epoch 78/100\n",
      "485/485 [==============================] - 10s 22ms/step - loss: 0.6389 - tp: 16941.0000 - fp: 102686.0000 - tn: 123372.0000 - fn: 5277.0000 - accuracy: 0.5651 - precision: 0.1416 - recall: 0.7625 - auc: 0.6917 - prc: 0.1570 - val_loss: 1.1920 - val_tp: 17415.0000 - val_fp: 98791.0000 - val_tn: 127267.0000 - val_fn: 4803.0000 - val_accuracy: 0.5827 - val_precision: 0.1499 - val_recall: 0.7838 - val_auc: 0.7188 - val_prc: 0.1690\n",
      "Epoch 79/100\n",
      "485/485 [==============================] - 9s 19ms/step - loss: 0.6408 - tp: 17080.0000 - fp: 107121.0000 - tn: 118937.0000 - fn: 5138.0000 - accuracy: 0.5478 - precision: 0.1375 - recall: 0.7687 - auc: 0.6827 - prc: 0.1514 - val_loss: 0.6525 - val_tp: 17076.0000 - val_fp: 94480.0000 - val_tn: 131578.0000 - val_fn: 5142.0000 - val_accuracy: 0.5987 - val_precision: 0.1531 - val_recall: 0.7686 - val_auc: 0.7104 - val_prc: 0.1602\n",
      "Epoch 80/100\n",
      "485/485 [==============================] - 10s 20ms/step - loss: 0.6349 - tp: 16237.0000 - fp: 96585.0000 - tn: 129473.0000 - fn: 5981.0000 - accuracy: 0.5869 - precision: 0.1439 - recall: 0.7308 - auc: 0.6883 - prc: 0.1513 - val_loss: 0.6552 - val_tp: 18368.0000 - val_fp: 109622.0000 - val_tn: 116436.0000 - val_fn: 3850.0000 - val_accuracy: 0.5430 - val_precision: 0.1435 - val_recall: 0.8267 - val_auc: 0.7091 - val_prc: 0.1594\n",
      "Epoch 81/100\n",
      "485/485 [==============================] - 10s 21ms/step - loss: 0.6307 - tp: 16078.0000 - fp: 91937.0000 - tn: 134121.0000 - fn: 6140.0000 - accuracy: 0.6050 - precision: 0.1488 - recall: 0.7236 - auc: 0.6941 - prc: 0.1544 - val_loss: 0.6652 - val_tp: 18120.0000 - val_fp: 105745.0000 - val_tn: 120313.0000 - val_fn: 4098.0000 - val_accuracy: 0.5576 - val_precision: 0.1463 - val_recall: 0.8156 - val_auc: 0.7097 - val_prc: 0.1605\n",
      "Epoch 82/100\n",
      "485/485 [==============================] - 10s 20ms/step - loss: 1.0474 - tp: 16455.0000 - fp: 94700.0000 - tn: 131358.0000 - fn: 5763.0000 - accuracy: 0.5954 - precision: 0.1480 - recall: 0.7406 - auc: 0.7003 - prc: 0.1627 - val_loss: 0.5093 - val_tp: 16551.0000 - val_fp: 90338.0000 - val_tn: 135720.0000 - val_fn: 5667.0000 - val_accuracy: 0.6133 - val_precision: 0.1548 - val_recall: 0.7449 - val_auc: 0.6960 - val_prc: 0.1476\n",
      "Epoch 83/100\n",
      "485/485 [==============================] - 10s 20ms/step - loss: 0.7464 - tp: 15811.0000 - fp: 98891.0000 - tn: 127167.0000 - fn: 6407.0000 - accuracy: 0.5759 - precision: 0.1378 - recall: 0.7116 - auc: 0.6671 - prc: 0.1431 - val_loss: 0.6379 - val_tp: 16474.0000 - val_fp: 87445.0000 - val_tn: 138613.0000 - val_fn: 5744.0000 - val_accuracy: 0.6247 - val_precision: 0.1585 - val_recall: 0.7415 - val_auc: 0.6977 - val_prc: 0.1516 67366.0000 - fn: 3477.0000 - accuracy: 0.55\n",
      "Epoch 84/100\n",
      "485/485 [==============================] - 11s 22ms/step - loss: 0.6380 - tp: 17331.0000 - fp: 106080.0000 - tn: 119978.0000 - fn: 4887.0000 - accuracy: 0.5530 - precision: 0.1404 - recall: 0.7800 - auc: 0.6776 - prc: 0.1432 - val_loss: 0.6388 - val_tp: 15163.0000 - val_fp: 74953.0000 - val_tn: 151105.0000 - val_fn: 7055.0000 - val_accuracy: 0.6697 - val_precision: 0.1683 - val_recall: 0.6825 - val_auc: 0.7052 - val_prc: 0.1570\n",
      "Epoch 85/100\n",
      "485/485 [==============================] - 10s 20ms/step - loss: 0.6378 - tp: 16113.0000 - fp: 100548.0000 - tn: 125510.0000 - fn: 6105.0000 - accuracy: 0.5704 - precision: 0.1381 - recall: 0.7252 - auc: 0.6876 - prc: 0.1573 - val_loss: 0.6648 - val_tp: 19100.0000 - val_fp: 122546.0000 - val_tn: 103512.0000 - val_fn: 3118.0000 - val_accuracy: 0.4939 - val_precision: 0.1348 - val_recall: 0.8597 - val_auc: 0.6999 - val_prc: 0.1664\n",
      "Epoch 86/100\n",
      "485/485 [==============================] - 12s 24ms/step - loss: 1.5308 - tp: 15816.0000 - fp: 113894.0000 - tn: 112164.0000 - fn: 6402.0000 - accuracy: 0.5155 - precision: 0.1219 - recall: 0.7119 - auc: 0.6332 - prc: 0.1286 - val_loss: 0.5245 - val_tp: 6212.0000 - val_fp: 25457.0000 - val_tn: 200601.0000 - val_fn: 16006.0000 - val_accuracy: 0.8330 - val_precision: 0.1962 - val_recall: 0.2796 - val_auc: 0.6678 - val_prc: 0.1535\n",
      "Epoch 87/100\n",
      "485/485 [==============================] - 11s 22ms/step - loss: 0.6701 - tp: 17461.0000 - fp: 129608.0000 - tn: 96450.0000 - fn: 4757.0000 - accuracy: 0.4588 - precision: 0.1187 - recall: 0.7859 - auc: 0.6542 - prc: 0.1464 - val_loss: 0.4858 - val_tp: 7600.0000 - val_fp: 29941.0000 - val_tn: 196117.0000 - val_fn: 14618.0000 - val_accuracy: 0.8205 - val_precision: 0.2024 - val_recall: 0.3421 - val_auc: 0.6904 - val_prc: 0.1626\n",
      "Epoch 88/100\n",
      "485/485 [==============================] - 10s 21ms/step - loss: 0.6515 - tp: 17541.0000 - fp: 117973.0000 - tn: 108085.0000 - fn: 4677.0000 - accuracy: 0.5060 - precision: 0.1294 - recall: 0.7895 - auc: 0.6652 - prc: 0.1434 - val_loss: 0.5121 - val_tp: 15680.0000 - val_fp: 80905.0000 - val_tn: 145153.0000 - val_fn: 6538.0000 - val_accuracy: 0.6478 - val_precision: 0.1623 - val_recall: 0.7057 - val_auc: 0.6919 - val_prc: 0.1518\n",
      "Epoch 89/100\n",
      "485/485 [==============================] - 10s 21ms/step - loss: 0.6410 - tp: 17275.0000 - fp: 108941.0000 - tn: 117117.0000 - fn: 4943.0000 - accuracy: 0.5413 - precision: 0.1369 - recall: 0.7775 - auc: 0.6812 - prc: 0.1549 - val_loss: 0.4902 - val_tp: 17246.0000 - val_fp: 96931.0000 - val_tn: 129127.0000 - val_fn: 4972.0000 - val_accuracy: 0.5896 - val_precision: 0.1510 - val_recall: 0.7762 - val_auc: 0.7093 - val_prc: 0.1735\n",
      "Epoch 90/100\n",
      "485/485 [==============================] - 9s 19ms/step - loss: 0.6551 - tp: 16596.0000 - fp: 102314.0000 - tn: 123744.0000 - fn: 5622.0000 - accuracy: 0.5653 - precision: 0.1396 - recall: 0.7470 - auc: 0.6851 - prc: 0.1525 - val_loss: 0.5248 - val_tp: 13794.0000 - val_fp: 63952.0000 - val_tn: 162106.0000 - val_fn: 8424.0000 - val_accuracy: 0.7085 - val_precision: 0.1774 - val_recall: 0.6208 - val_auc: 0.7105 - val_prc: 0.1627\n"
     ]
    },
    {
     "name": "stdout",
     "output_type": "stream",
     "text": [
      "Epoch 91/100\n",
      "485/485 [==============================] - 9s 19ms/step - loss: 0.6376 - tp: 17097.0000 - fp: 104177.0000 - tn: 121881.0000 - fn: 5121.0000 - accuracy: 0.5598 - precision: 0.1410 - recall: 0.7695 - auc: 0.6723 - prc: 0.1397 - val_loss: 0.5308 - val_tp: 16982.0000 - val_fp: 93056.0000 - val_tn: 133002.0000 - val_fn: 5236.0000 - val_accuracy: 0.6041 - val_precision: 0.1543 - val_recall: 0.7643 - val_auc: 0.6920 - val_prc: 0.1474\n",
      "Epoch 92/100\n",
      "485/485 [==============================] - 9s 18ms/step - loss: 0.6473 - tp: 16045.0000 - fp: 98580.0000 - tn: 127478.0000 - fn: 6173.0000 - accuracy: 0.5781 - precision: 0.1400 - recall: 0.7222 - auc: 0.6772 - prc: 0.1466 - val_loss: 0.5460 - val_tp: 16231.0000 - val_fp: 91569.0000 - val_tn: 134489.0000 - val_fn: 5987.0000 - val_accuracy: 0.6071 - val_precision: 0.1506 - val_recall: 0.7305 - val_auc: 0.6825 - val_prc: 0.1433\n",
      "Epoch 93/100\n",
      "485/485 [==============================] - 9s 19ms/step - loss: 0.6456 - tp: 16922.0000 - fp: 108221.0000 - tn: 117837.0000 - fn: 5296.0000 - accuracy: 0.5428 - precision: 0.1352 - recall: 0.7616 - auc: 0.6629 - prc: 0.1372 - val_loss: 0.5476 - val_tp: 18016.0000 - val_fp: 110968.0000 - val_tn: 115090.0000 - val_fn: 4202.0000 - val_accuracy: 0.5361 - val_precision: 0.1397 - val_recall: 0.8109 - val_auc: 0.6692 - val_prc: 0.1354\n",
      "Epoch 94/100\n",
      "485/485 [==============================] - 9s 18ms/step - loss: 0.6374 - tp: 16389.0000 - fp: 97397.0000 - tn: 128661.0000 - fn: 5829.0000 - accuracy: 0.5842 - precision: 0.1440 - recall: 0.7376 - auc: 0.6795 - prc: 0.1460 - val_loss: 0.5506 - val_tp: 16064.0000 - val_fp: 84623.0000 - val_tn: 141435.0000 - val_fn: 6154.0000 - val_accuracy: 0.6344 - val_precision: 0.1595 - val_recall: 0.7230 - val_auc: 0.6972 - val_prc: 0.1510\n",
      "Epoch 95/100\n",
      "485/485 [==============================] - 9s 18ms/step - loss: 0.6396 - tp: 16392.0000 - fp: 99608.0000 - tn: 126450.0000 - fn: 5826.0000 - accuracy: 0.5753 - precision: 0.1413 - recall: 0.7378 - auc: 0.6776 - prc: 0.1457 - val_loss: 0.5474 - val_tp: 16599.0000 - val_fp: 88565.0000 - val_tn: 137493.0000 - val_fn: 5619.0000 - val_accuracy: 0.6206 - val_precision: 0.1578 - val_recall: 0.7471 - val_auc: 0.6930 - val_prc: 0.1496\n",
      "Epoch 96/100\n",
      "485/485 [==============================] - 9s 18ms/step - loss: 0.6531 - tp: 16233.0000 - fp: 96697.0000 - tn: 129361.0000 - fn: 5985.0000 - accuracy: 0.5864 - precision: 0.1437 - recall: 0.7306 - auc: 0.6886 - prc: 0.1549 - val_loss: 0.6316 - val_tp: 16798.0000 - val_fp: 90705.0000 - val_tn: 135353.0000 - val_fn: 5420.0000 - val_accuracy: 0.6128 - val_precision: 0.1563 - val_recall: 0.7561 - val_auc: 0.6776 - val_prc: 0.1429\n",
      "Epoch 97/100\n",
      "485/485 [==============================] - 9s 18ms/step - loss: 0.6703 - tp: 16580.0000 - fp: 97061.0000 - tn: 128997.0000 - fn: 5638.0000 - accuracy: 0.5864 - precision: 0.1459 - recall: 0.7462 - auc: 0.6664 - prc: 0.1412 - val_loss: 0.5852 - val_tp: 17165.0000 - val_fp: 94465.0000 - val_tn: 131593.0000 - val_fn: 5053.0000 - val_accuracy: 0.5992 - val_precision: 0.1538 - val_recall: 0.7726 - val_auc: 0.6911 - val_prc: 0.1611\n",
      "Epoch 98/100\n",
      "485/485 [==============================] - 9s 18ms/step - loss: 0.6498 - tp: 17129.0000 - fp: 105252.0000 - tn: 120806.0000 - fn: 5089.0000 - accuracy: 0.5556 - precision: 0.1400 - recall: 0.7710 - auc: 0.6674 - prc: 0.1406 - val_loss: 0.5747 - val_tp: 16174.0000 - val_fp: 85178.0000 - val_tn: 140880.0000 - val_fn: 6044.0000 - val_accuracy: 0.6326 - val_precision: 0.1596 - val_recall: 0.7280 - val_auc: 0.6875 - val_prc: 0.1497\n",
      "Epoch 99/100\n",
      "485/485 [==============================] - 9s 18ms/step - loss: 0.6426 - tp: 16739.0000 - fp: 100162.0000 - tn: 125896.0000 - fn: 5479.0000 - accuracy: 0.5745 - precision: 0.1432 - recall: 0.7534 - auc: 0.6674 - prc: 0.1392 - val_loss: 0.5853 - val_tp: 17669.0000 - val_fp: 101171.0000 - val_tn: 124887.0000 - val_fn: 4549.0000 - val_accuracy: 0.5742 - val_precision: 0.1487 - val_recall: 0.7953 - val_auc: 0.6739 - val_prc: 0.1375\n",
      "Epoch 100/100\n",
      "485/485 [==============================] - 9s 19ms/step - loss: 0.6410 - tp: 16640.0000 - fp: 98367.0000 - tn: 127691.0000 - fn: 5578.0000 - accuracy: 0.5813 - precision: 0.1447 - recall: 0.7489 - auc: 0.6718 - prc: 0.1428 - val_loss: 0.6027 - val_tp: 17739.0000 - val_fp: 101449.0000 - val_tn: 124609.0000 - val_fn: 4479.0000 - val_accuracy: 0.5733 - val_precision: 0.1488 - val_recall: 0.7984 - val_auc: 0.6962 - val_prc: 0.1504\n"
     ]
    }
   ],
   "source": [
    "with comet_exp.train():\n",
    "    weighted_history = weighted_model.fit(\n",
    "    x=train_ds,\n",
    "    epochs=EPOCHS,\n",
    "    #callbacks=[stop_early],\n",
    "    validation_data=val_ds,\n",
    "    # class weights\n",
    "    class_weight=class_weight)"
   ]
  },
  {
   "cell_type": "code",
   "execution_count": 203,
   "id": "ae065966",
   "metadata": {},
   "outputs": [
    {
     "name": "stdout",
     "output_type": "stream",
     "text": [
      "485/485 [==============================] - 3s 6ms/step - loss: 0.6027 - tp: 17739.0000 - fp: 101449.0000 - tn: 124609.0000 - fn: 4479.0000 - accuracy: 0.5733 - precision: 0.1488 - recall: 0.7984 - auc: 0.6962 - prc: 0.1504\n",
      "loss :  0.6026849150657654\n",
      "tp :  17739.0\n",
      "fp :  101449.0\n",
      "tn :  124609.0\n",
      "fn :  4479.0\n",
      "accuracy :  0.5733457803726196\n",
      "precision :  0.14883209764957428\n",
      "recall :  0.798406720161438\n",
      "auc :  0.6962170600891113\n",
      "prc :  0.15040621161460876\n",
      "\n"
     ]
    }
   ],
   "source": [
    "results = weighted_model.evaluate(val_ds)\n",
    "\n",
    "for name, value in zip(weighted_model.metrics_names, results):\n",
    "    print(name, ': ', value)\n",
    "print()"
   ]
  },
  {
   "cell_type": "code",
   "execution_count": 204,
   "id": "2a74c48e",
   "metadata": {
    "scrolled": true
   },
   "outputs": [
    {
     "name": "stdout",
     "output_type": "stream",
     "text": [
      "485/485 [==============================] - 3s 6ms/step\n"
     ]
    }
   ],
   "source": [
    "y_proba_val = weighted_model.predict(val_ds, verbose=1)"
   ]
  },
  {
   "cell_type": "code",
   "execution_count": 205,
   "id": "c76965b3",
   "metadata": {},
   "outputs": [],
   "source": [
    "y_proba_val = np.concatenate([y for y in y_proba_val], axis=0)"
   ]
  },
  {
   "cell_type": "code",
   "execution_count": 206,
   "id": "70c989a1",
   "metadata": {
    "scrolled": true
   },
   "outputs": [],
   "source": [
    "threshold = 0.5\n",
    "y_pred_val = np.where(y_proba_val > threshold, 1,0)"
   ]
  },
  {
   "cell_type": "code",
   "execution_count": 207,
   "id": "a687899d",
   "metadata": {},
   "outputs": [
    {
     "data": {
      "text/plain": [
       "119188"
      ]
     },
     "execution_count": 207,
     "metadata": {},
     "output_type": "execute_result"
    }
   ],
   "source": [
    "y_pred_val.sum()"
   ]
  },
  {
   "cell_type": "code",
   "execution_count": 208,
   "id": "d96e80cd",
   "metadata": {},
   "outputs": [],
   "source": [
    "val_y_true = np.concatenate([y for x, y in val_ds], axis=0)"
   ]
  },
  {
   "cell_type": "code",
   "execution_count": 209,
   "id": "eb4377b0",
   "metadata": {
    "scrolled": true
   },
   "outputs": [
    {
     "data": {
      "text/plain": [
       "22218"
      ]
     },
     "execution_count": 209,
     "metadata": {},
     "output_type": "execute_result"
    }
   ],
   "source": [
    "val_y_true.sum()"
   ]
  },
  {
   "cell_type": "code",
   "execution_count": null,
   "id": "0c38eadc",
   "metadata": {},
   "outputs": [],
   "source": []
  },
  {
   "cell_type": "markdown",
   "id": "20e42ce0",
   "metadata": {},
   "source": [
    "# Prepare for Comet Logs"
   ]
  },
  {
   "cell_type": "code",
   "execution_count": 191,
   "id": "081f8223",
   "metadata": {},
   "outputs": [],
   "source": [
    "#these will all get logged\n",
    "params={'batch_size':BATCH_SIZE,\n",
    "        'epochs':EPOCHS,\n",
    "        'layer_num':7,\n",
    "        'optimizer':'adam',\n",
    "        'learning_rate':LEARNING_RATE\n",
    "}"
   ]
  },
  {
   "cell_type": "code",
   "execution_count": 192,
   "id": "839a0704",
   "metadata": {},
   "outputs": [],
   "source": [
    "#will log metrics with the prefix 'test_'\n",
    "# with experiment.test():\n",
    "#     results = model.evaluate(x_test, y_test)\n",
    "    \n",
    "#     experiment.log_metrics(metrics)"
   ]
  },
  {
   "cell_type": "code",
   "execution_count": 210,
   "id": "aa85d9cc",
   "metadata": {},
   "outputs": [
    {
     "name": "stdout",
     "output_type": "stream",
     "text": [
      "WARNING:tensorflow:Model was constructed with shape (None, 16) for input KerasTensor(type_spec=TensorSpec(shape=(None, 16), dtype=tf.float32, name='input_10'), name='input_10', description=\"created by layer 'input_10'\"), but it was called on an input with incompatible shape (16,).\n"
     ]
    },
    {
     "ename": "ValueError",
     "evalue": "in user code:\n\n    File \"C:\\Users\\alaed\\anaconda3\\envs\\ift6758-conda-env\\lib\\site-packages\\keras\\engine\\training.py\", line 1366, in test_function  *\n        return step_function(self, iterator)\n    File \"C:\\Users\\alaed\\anaconda3\\envs\\ift6758-conda-env\\lib\\site-packages\\keras\\engine\\training.py\", line 1356, in step_function  **\n        outputs = model.distribute_strategy.run(run_step, args=(data,))\n    File \"C:\\Users\\alaed\\anaconda3\\envs\\ift6758-conda-env\\lib\\site-packages\\keras\\engine\\training.py\", line 1349, in run_step  **\n        outputs = model.test_step(data)\n    File \"C:\\Users\\alaed\\anaconda3\\envs\\ift6758-conda-env\\lib\\site-packages\\keras\\engine\\training.py\", line 1303, in test_step\n        y_pred = self(x, training=False)\n    File \"C:\\Users\\alaed\\anaconda3\\envs\\ift6758-conda-env\\lib\\site-packages\\keras\\utils\\traceback_utils.py\", line 67, in error_handler\n        raise e.with_traceback(filtered_tb) from None\n    File \"C:\\Users\\alaed\\anaconda3\\envs\\ift6758-conda-env\\lib\\site-packages\\keras\\engine\\input_spec.py\", line 227, in assert_input_compatibility\n        raise ValueError(f'Input {input_index} of layer \"{layer_name}\" '\n\n    ValueError: Exception encountered when calling layer \"sequential_9\" (type Sequential).\n    \n    Input 0 of layer \"dense_51\" is incompatible with the layer: expected min_ndim=2, found ndim=1. Full shape received: (16,)\n    \n    Call arguments received:\n      • inputs=tf.Tensor(shape=(16,), dtype=float64)\n      • training=False\n      • mask=None\n",
     "output_type": "error",
     "traceback": [
      "\u001b[1;31m---------------------------------------------------------------------------\u001b[0m",
      "\u001b[1;31mValueError\u001b[0m                                Traceback (most recent call last)",
      "\u001b[1;32m~\\AppData\\Local\\Temp/ipykernel_12324/3444575476.py\u001b[0m in \u001b[0;36m<module>\u001b[1;34m\u001b[0m\n\u001b[1;32m----> 1\u001b[1;33m \u001b[0mresults\u001b[0m \u001b[1;33m=\u001b[0m \u001b[0mweighted_model\u001b[0m\u001b[1;33m.\u001b[0m\u001b[0mevaluate\u001b[0m\u001b[1;33m(\u001b[0m\u001b[0mtest_ds\u001b[0m\u001b[1;33m)\u001b[0m\u001b[1;33m\u001b[0m\u001b[1;33m\u001b[0m\u001b[0m\n\u001b[0m\u001b[0;32m      2\u001b[0m \u001b[1;32mfor\u001b[0m \u001b[0mname\u001b[0m\u001b[1;33m,\u001b[0m \u001b[0mvalue\u001b[0m \u001b[1;32min\u001b[0m \u001b[0mzip\u001b[0m\u001b[1;33m(\u001b[0m\u001b[0mweighted_model\u001b[0m\u001b[1;33m.\u001b[0m\u001b[0mmetrics_names\u001b[0m\u001b[1;33m,\u001b[0m \u001b[0mresults\u001b[0m\u001b[1;33m)\u001b[0m\u001b[1;33m:\u001b[0m\u001b[1;33m\u001b[0m\u001b[1;33m\u001b[0m\u001b[0m\n\u001b[0;32m      3\u001b[0m     \u001b[0mprint\u001b[0m\u001b[1;33m(\u001b[0m\u001b[0mname\u001b[0m\u001b[1;33m,\u001b[0m \u001b[1;34m': '\u001b[0m\u001b[1;33m,\u001b[0m \u001b[0mvalue\u001b[0m\u001b[1;33m)\u001b[0m\u001b[1;33m\u001b[0m\u001b[1;33m\u001b[0m\u001b[0m\n",
      "\u001b[1;32m~\\anaconda3\\envs\\ift6758-conda-env\\lib\\site-packages\\keras\\utils\\traceback_utils.py\u001b[0m in \u001b[0;36merror_handler\u001b[1;34m(*args, **kwargs)\u001b[0m\n\u001b[0;32m     65\u001b[0m     \u001b[1;32mexcept\u001b[0m \u001b[0mException\u001b[0m \u001b[1;32mas\u001b[0m \u001b[0me\u001b[0m\u001b[1;33m:\u001b[0m  \u001b[1;31m# pylint: disable=broad-except\u001b[0m\u001b[1;33m\u001b[0m\u001b[1;33m\u001b[0m\u001b[0m\n\u001b[0;32m     66\u001b[0m       \u001b[0mfiltered_tb\u001b[0m \u001b[1;33m=\u001b[0m \u001b[0m_process_traceback_frames\u001b[0m\u001b[1;33m(\u001b[0m\u001b[0me\u001b[0m\u001b[1;33m.\u001b[0m\u001b[0m__traceback__\u001b[0m\u001b[1;33m)\u001b[0m\u001b[1;33m\u001b[0m\u001b[1;33m\u001b[0m\u001b[0m\n\u001b[1;32m---> 67\u001b[1;33m       \u001b[1;32mraise\u001b[0m \u001b[0me\u001b[0m\u001b[1;33m.\u001b[0m\u001b[0mwith_traceback\u001b[0m\u001b[1;33m(\u001b[0m\u001b[0mfiltered_tb\u001b[0m\u001b[1;33m)\u001b[0m \u001b[1;32mfrom\u001b[0m \u001b[1;32mNone\u001b[0m\u001b[1;33m\u001b[0m\u001b[1;33m\u001b[0m\u001b[0m\n\u001b[0m\u001b[0;32m     68\u001b[0m     \u001b[1;32mfinally\u001b[0m\u001b[1;33m:\u001b[0m\u001b[1;33m\u001b[0m\u001b[1;33m\u001b[0m\u001b[0m\n\u001b[0;32m     69\u001b[0m       \u001b[1;32mdel\u001b[0m \u001b[0mfiltered_tb\u001b[0m\u001b[1;33m\u001b[0m\u001b[1;33m\u001b[0m\u001b[0m\n",
      "\u001b[1;32m~\\anaconda3\\envs\\ift6758-conda-env\\lib\\site-packages\\tensorflow\\python\\framework\\func_graph.py\u001b[0m in \u001b[0;36mautograph_handler\u001b[1;34m(*args, **kwargs)\u001b[0m\n\u001b[0;32m   1127\u001b[0m           \u001b[1;32mexcept\u001b[0m \u001b[0mException\u001b[0m \u001b[1;32mas\u001b[0m \u001b[0me\u001b[0m\u001b[1;33m:\u001b[0m  \u001b[1;31m# pylint:disable=broad-except\u001b[0m\u001b[1;33m\u001b[0m\u001b[1;33m\u001b[0m\u001b[0m\n\u001b[0;32m   1128\u001b[0m             \u001b[1;32mif\u001b[0m \u001b[0mhasattr\u001b[0m\u001b[1;33m(\u001b[0m\u001b[0me\u001b[0m\u001b[1;33m,\u001b[0m \u001b[1;34m\"ag_error_metadata\"\u001b[0m\u001b[1;33m)\u001b[0m\u001b[1;33m:\u001b[0m\u001b[1;33m\u001b[0m\u001b[1;33m\u001b[0m\u001b[0m\n\u001b[1;32m-> 1129\u001b[1;33m               \u001b[1;32mraise\u001b[0m \u001b[0me\u001b[0m\u001b[1;33m.\u001b[0m\u001b[0mag_error_metadata\u001b[0m\u001b[1;33m.\u001b[0m\u001b[0mto_exception\u001b[0m\u001b[1;33m(\u001b[0m\u001b[0me\u001b[0m\u001b[1;33m)\u001b[0m\u001b[1;33m\u001b[0m\u001b[1;33m\u001b[0m\u001b[0m\n\u001b[0m\u001b[0;32m   1130\u001b[0m             \u001b[1;32melse\u001b[0m\u001b[1;33m:\u001b[0m\u001b[1;33m\u001b[0m\u001b[1;33m\u001b[0m\u001b[0m\n\u001b[0;32m   1131\u001b[0m               \u001b[1;32mraise\u001b[0m\u001b[1;33m\u001b[0m\u001b[1;33m\u001b[0m\u001b[0m\n",
      "\u001b[1;31mValueError\u001b[0m: in user code:\n\n    File \"C:\\Users\\alaed\\anaconda3\\envs\\ift6758-conda-env\\lib\\site-packages\\keras\\engine\\training.py\", line 1366, in test_function  *\n        return step_function(self, iterator)\n    File \"C:\\Users\\alaed\\anaconda3\\envs\\ift6758-conda-env\\lib\\site-packages\\keras\\engine\\training.py\", line 1356, in step_function  **\n        outputs = model.distribute_strategy.run(run_step, args=(data,))\n    File \"C:\\Users\\alaed\\anaconda3\\envs\\ift6758-conda-env\\lib\\site-packages\\keras\\engine\\training.py\", line 1349, in run_step  **\n        outputs = model.test_step(data)\n    File \"C:\\Users\\alaed\\anaconda3\\envs\\ift6758-conda-env\\lib\\site-packages\\keras\\engine\\training.py\", line 1303, in test_step\n        y_pred = self(x, training=False)\n    File \"C:\\Users\\alaed\\anaconda3\\envs\\ift6758-conda-env\\lib\\site-packages\\keras\\utils\\traceback_utils.py\", line 67, in error_handler\n        raise e.with_traceback(filtered_tb) from None\n    File \"C:\\Users\\alaed\\anaconda3\\envs\\ift6758-conda-env\\lib\\site-packages\\keras\\engine\\input_spec.py\", line 227, in assert_input_compatibility\n        raise ValueError(f'Input {input_index} of layer \"{layer_name}\" '\n\n    ValueError: Exception encountered when calling layer \"sequential_9\" (type Sequential).\n    \n    Input 0 of layer \"dense_51\" is incompatible with the layer: expected min_ndim=2, found ndim=1. Full shape received: (16,)\n    \n    Call arguments received:\n      • inputs=tf.Tensor(shape=(16,), dtype=float64)\n      • training=False\n      • mask=None\n"
     ]
    }
   ],
   "source": [
    "# results = weighted_model.evaluate(test_ds)\n",
    "# for name, value in zip(weighted_model.metrics_names, results):\n",
    "#     print(name, ': ', value)"
   ]
  },
  {
   "cell_type": "code",
   "execution_count": 193,
   "id": "0678502f",
   "metadata": {},
   "outputs": [],
   "source": [
    "comet_exp.log_parameters(params)"
   ]
  },
  {
   "cell_type": "code",
   "execution_count": 194,
   "id": "1aa94faf",
   "metadata": {},
   "outputs": [],
   "source": [
    "weights_dir = \"../ift6758/models/weights\"\n",
    "experiment = \"Neural-Net-with-FE2\"\n",
    "predscore_val_dict={}"
   ]
  },
  {
   "cell_type": "code",
   "execution_count": 195,
   "id": "ec3c44d9",
   "metadata": {},
   "outputs": [],
   "source": [
    "# import joblib\n",
    "\n",
    "# predscore_val_dict[experiment]={}\n",
    "# predscore_val_dict[experiment]['true_valid_label']=y_valid\n",
    "# predscore_val_dict[experiment]['proba']=y_proba_val\n",
    "# predscore_val_dict[experiment]['prediction']=y_pred_val\n",
    "\n",
    "# ## Dumping model\n",
    "# filename=f\"{weights_dir}/{experiment}.pkl\"\n",
    "# filename\n",
    "# joblib.dump(model,filename)"
   ]
  },
  {
   "cell_type": "code",
   "execution_count": 154,
   "id": "5f1abd2c",
   "metadata": {},
   "outputs": [
    {
     "name": "stderr",
     "output_type": "stream",
     "text": [
      "COMET INFO: ---------------------------\n",
      "COMET INFO: Comet.ml Experiment Summary\n",
      "COMET INFO: ---------------------------\n",
      "COMET INFO:   Data:\n",
      "COMET INFO:     display_summary_level : 1\n",
      "COMET INFO:     url                   : https://www.comet.ml/morph-e/milestone-2/7b31fdabd2264bacb15166b2be9f561e\n",
      "COMET INFO:   Metrics [count] (min, max):\n",
      "COMET INFO:     accuracy [50]                        : (0.910345733165741, 0.9106639623641968)\n",
      "COMET INFO:     auc [50]                             : (0.6643919944763184, 0.7489079236984253)\n",
      "COMET INFO:     batch_accuracy [650]                 : (0.89599609375, 0.9130859375)\n",
      "COMET INFO:     batch_auc [650]                      : (0.48242396116256714, 0.7782735824584961)\n",
      "COMET INFO:     batch_fn [650]                       : (177.0, 22183.0)\n",
      "COMET INFO:     batch_fp [650]                       : (0.0, 264.0)\n",
      "COMET INFO:     batch_loss [650]                     : (0.25986507534980774, 0.43941688537597656)\n",
      "COMET INFO:     batch_prc [650]                      : (0.09461189806461334, 0.28267019987106323)\n",
      "COMET INFO:     batch_precision [650]                : (0.0, 1.0)\n",
      "COMET INFO:     batch_recall [650]                   : (0.0, 0.016166280955076218)\n",
      "COMET INFO:     batch_tn [650]                       : (1835.0, 225633.0)\n",
      "COMET INFO:     batch_tp [650]                       : (0.0, 269.0)\n",
      "COMET INFO:     epoch_duration [50]                  : (8.859000000054948, 11.562000000034459)\n",
      "COMET INFO:     fn [50]                              : (21949.0, 22218.0)\n",
      "COMET INFO:     fp [50]                              : (0.0, 264.0)\n",
      "COMET INFO:     loss [50]                            : (0.2679954469203949, 0.2910406291484833)\n",
      "COMET INFO:     prc [50]                             : (0.14592210948467255, 0.2311212122440338)\n",
      "COMET INFO:     precision [50]                       : (0.0, 0.5389344096183777)\n",
      "COMET INFO:     recall [50]                          : (0.0, 0.012107300572097301)\n",
      "COMET INFO:     tn [50]                              : (225794.0, 226058.0)\n",
      "COMET INFO:     tp [50]                              : (0.0, 269.0)\n",
      "COMET INFO:     train_accuracy [74]                  : (0.645789384841919, 0.6816164255142212)\n",
      "COMET INFO:     train_auc [74]                       : (0.5583656430244446, 0.749660074710846)\n",
      "COMET INFO:     train_batch_accuracy [962]           : (0.6084871888160706, 0.70654296875)\n",
      "COMET INFO:     train_batch_auc [962]                : (0.5565836429595947, 0.7877421379089355)\n",
      "COMET INFO:     train_batch_binary_accuracy [195]    : (0.45556640625, 0.9123883843421936)\n",
      "COMET INFO:     train_batch_fn [962]                 : (32.0, 55474.0)\n",
      "COMET INFO:     train_batch_fp [962]                 : (531.0, 290071.0)\n",
      "COMET INFO:     train_batch_loss [1157]              : (0.26773229241371155, 1.324486494064331)\n",
      "COMET INFO:     train_batch_prc [962]                : (0.09540851414203644, 0.2876116633415222)\n",
      "COMET INFO:     train_batch_precision [962]          : (0.08951478451490402, 0.21250000596046448)\n",
      "COMET INFO:     train_batch_recall [962]             : (0.3310418128967285, 0.843137264251709)\n",
      "COMET INFO:     train_batch_tn [962]                 : (1090.0, 613734.0)\n",
      "COMET INFO:     train_batch_tp [962]                 : (123.0, 33357.0)\n",
      "COMET INFO:     train_binary_accuracy [15]           : (0.9068657755851746, 0.9105310440063477)\n",
      "COMET INFO:     train_epoch_duration [89]            : (8.358999999938533, 11.35999999998603)\n",
      "COMET INFO:     train_fn [74]                        : (6052.0, 55494.0)\n",
      "COMET INFO:     train_fp [74]                        : (70567.0, 290153.0)\n",
      "COMET INFO:     train_loss [89]                      : (0.270886093378067, 0.6847451329231262)\n",
      "COMET INFO:     train_prc [74]                       : (0.10677064955234528, 0.22393228113651276)\n",
      "COMET INFO:     train_precision [74]                 : (0.10316785424947739, 0.1714497059583664)\n",
      "COMET INFO:     train_recall [74]                    : (0.37557387351989746, 0.7276082634925842)\n",
      "COMET INFO:     train_tn [74]                        : (144573.0, 614079.0)\n",
      "COMET INFO:     train_tp [74]                        : (13738.0, 33378.0)\n",
      "COMET INFO:     train_val_accuracy [74]              : (0.6046134233474731, 0.7615798711776733)\n",
      "COMET INFO:     train_val_auc [74]                   : (0.7362826466560364, 0.7632462382316589)\n",
      "COMET INFO:     train_val_binary_accuracy [15]       : 0.9105108976364136\n",
      "COMET INFO:     train_val_fn [74]                    : (4595.0, 10313.0)\n",
      "COMET INFO:     train_val_fp [74]                    : (48881.0, 93570.0)\n",
      "COMET INFO:     train_val_loss [89]                  : (0.26659876108169556, 0.6041541695594788)\n",
      "COMET INFO:     train_val_prc [74]                   : (0.20419877767562866, 0.2459024041891098)\n",
      "COMET INFO:     train_val_precision [74]             : (0.15849019587039948, 0.19585101306438446)\n",
      "COMET INFO:     train_val_recall [74]                : (0.5358268022537231, 0.7931857109069824)\n",
      "COMET INFO:     train_val_tn [74]                    : (132488.0, 177177.0)\n",
      "COMET INFO:     train_val_tp [74]                    : (11905.0, 17623.0)\n",
      "COMET INFO:     val_accuracy [50]                    : (0.9105108976364136, 0.9108049273490906)\n",
      "COMET INFO:     val_auc [50]                         : (0.7330371141433716, 0.7622016668319702)\n",
      "COMET INFO:     val_fn [50]                          : (22119.0, 22218.0)\n",
      "COMET INFO:     val_fp [50]                          : (0.0, 31.0)\n",
      "COMET INFO:     val_loss [50]                        : (0.2642461061477661, 0.273316890001297)\n",
      "COMET INFO:     val_prc [50]                         : (0.20076459646224976, 0.25197261571884155)\n",
      "COMET INFO:     val_precision [50]                   : (0.0, 1.0)\n",
      "COMET INFO:     val_recall [50]                      : (0.0, 0.004455846734344959)\n",
      "COMET INFO:     val_tn [50]                          : (226027.0, 226058.0)\n",
      "COMET INFO:     val_tp [50]                          : (0.0, 99.0)\n",
      "COMET INFO:     validate_batch_accuracy [1612]       : (0.6035870909690857, 0.91259765625)\n",
      "COMET INFO:     validate_batch_auc [1612]            : (0.7305052876472473, 0.7953357696533203)\n",
      "COMET INFO:     validate_batch_binary_accuracy [195] : (0.8994140625, 0.9125744104385376)\n",
      "COMET INFO:     validate_batch_fn [1612]             : (29.0, 22191.0)\n",
      "COMET INFO:     validate_batch_fp [1612]             : (0.0, 93388.0)\n",
      "COMET INFO:     validate_batch_loss [1807]           : (0.26012200117111206, 0.6062182784080505)\n",
      "COMET INFO:     validate_batch_prc [1612]            : (0.1949833631515503, 0.29952988028526306)\n",
      "COMET INFO:     validate_batch_precision [1612]      : (0.0, 1.0)\n",
      "COMET INFO:     validate_batch_recall [1612]         : (0.0, 0.8497409224510193)\n",
      "COMET INFO:     validate_batch_tn [1612]             : (1098.0, 225644.0)\n",
      "COMET INFO:     validate_batch_tp [1612]             : (0.0, 17588.0)\n",
      "COMET INFO:   Others [count]:\n",
      "COMET INFO:     train_trainable_params [2] : 144257\n",
      "COMET INFO:     trainable_params           : 144257\n",
      "COMET INFO:   Parameters [count]:\n",
      "COMET INFO:     batch_size               : 2048\n",
      "COMET INFO:     epochs                   : 50\n",
      "COMET INFO:     layer_num                : 7\n",
      "COMET INFO:     learning_rate            : 0.005\n",
      "COMET INFO:     optimizer                : adam\n",
      "COMET INFO:     train_Adam_amsgrad       : 1\n",
      "COMET INFO:     train_Adam_beta_1        : 0.9\n",
      "COMET INFO:     train_Adam_beta_2        : 0.999\n",
      "COMET INFO:     train_Adam_decay         : 1\n",
      "COMET INFO:     train_Adam_epsilon       : 1e-07\n",
      "COMET INFO:     train_Adam_learning_rate : 0.005\n",
      "COMET INFO:     train_Adam_name          : Adam\n",
      "COMET INFO:     train_epochs [2]         : 100\n",
      "COMET INFO:     train_steps              : 122\n",
      "COMET INFO:   Uploads:\n",
      "COMET INFO:     code                     : 1 (29 KB)\n",
      "COMET INFO:     environment details      : 1\n",
      "COMET INFO:     filename                 : 1\n",
      "COMET INFO:     git metadata             : 1\n",
      "COMET INFO:     git-patch (uncompressed) : 1 (5 MB)\n",
      "COMET INFO:     installed packages       : 1\n",
      "COMET INFO:     model graph              : 1\n",
      "COMET INFO: ---------------------------\n"
     ]
    },
    {
     "ename": "AttributeError",
     "evalue": "'CPULoggingThread' object has no attribute 'isAlive'",
     "output_type": "error",
     "traceback": [
      "\u001b[1;31m---------------------------------------------------------------------------\u001b[0m",
      "\u001b[1;31mAttributeError\u001b[0m                            Traceback (most recent call last)",
      "\u001b[1;32m~\\AppData\\Local\\Temp/ipykernel_12324/1290868294.py\u001b[0m in \u001b[0;36m<module>\u001b[1;34m\u001b[0m\n\u001b[1;32m----> 1\u001b[1;33m \u001b[0mcomet_exp\u001b[0m\u001b[1;33m.\u001b[0m\u001b[0mend\u001b[0m\u001b[1;33m(\u001b[0m\u001b[1;33m)\u001b[0m\u001b[1;33m\u001b[0m\u001b[1;33m\u001b[0m\u001b[0m\n\u001b[0m",
      "\u001b[1;32m~\\anaconda3\\envs\\ift6758-conda-env\\lib\\site-packages\\comet_ml\\experiment.py\u001b[0m in \u001b[0;36mend\u001b[1;34m(self)\u001b[0m\n\u001b[0;32m    356\u001b[0m             \u001b[0msource_code\u001b[0m \u001b[1;33m=\u001b[0m \u001b[0mget_jupyter_source_code\u001b[0m\u001b[1;33m(\u001b[0m\u001b[1;33m)\u001b[0m\u001b[1;33m\u001b[0m\u001b[1;33m\u001b[0m\u001b[0m\n\u001b[0;32m    357\u001b[0m             \u001b[0mself\u001b[0m\u001b[1;33m.\u001b[0m\u001b[0m_set_code\u001b[0m\u001b[1;33m(\u001b[0m\u001b[0msource_code\u001b[0m\u001b[1;33m,\u001b[0m \u001b[0moverwrite\u001b[0m\u001b[1;33m=\u001b[0m\u001b[1;32mTrue\u001b[0m\u001b[1;33m)\u001b[0m\u001b[1;33m\u001b[0m\u001b[1;33m\u001b[0m\u001b[0m\n\u001b[1;32m--> 358\u001b[1;33m         \u001b[0mself\u001b[0m\u001b[1;33m.\u001b[0m\u001b[0m_on_end\u001b[0m\u001b[1;33m(\u001b[0m\u001b[0mwait\u001b[0m\u001b[1;33m=\u001b[0m\u001b[1;32mTrue\u001b[0m\u001b[1;33m)\u001b[0m\u001b[1;33m\u001b[0m\u001b[1;33m\u001b[0m\u001b[0m\n\u001b[0m\u001b[0;32m    359\u001b[0m \u001b[1;33m\u001b[0m\u001b[0m\n\u001b[0;32m    360\u001b[0m     \u001b[1;32mdef\u001b[0m \u001b[0mdisplay\u001b[0m\u001b[1;33m(\u001b[0m\u001b[0mself\u001b[0m\u001b[1;33m,\u001b[0m \u001b[0mclear\u001b[0m\u001b[1;33m=\u001b[0m\u001b[1;32mFalse\u001b[0m\u001b[1;33m,\u001b[0m \u001b[0mwait\u001b[0m\u001b[1;33m=\u001b[0m\u001b[1;32mTrue\u001b[0m\u001b[1;33m,\u001b[0m \u001b[0mnew\u001b[0m\u001b[1;33m=\u001b[0m\u001b[1;36m0\u001b[0m\u001b[1;33m,\u001b[0m \u001b[0mautoraise\u001b[0m\u001b[1;33m=\u001b[0m\u001b[1;32mTrue\u001b[0m\u001b[1;33m,\u001b[0m \u001b[0mtab\u001b[0m\u001b[1;33m=\u001b[0m\u001b[1;32mNone\u001b[0m\u001b[1;33m)\u001b[0m\u001b[1;33m:\u001b[0m\u001b[1;33m\u001b[0m\u001b[1;33m\u001b[0m\u001b[0m\n",
      "\u001b[1;32m~\\anaconda3\\envs\\ift6758-conda-env\\lib\\site-packages\\comet_ml\\__init__.py\u001b[0m in \u001b[0;36m_on_end\u001b[1;34m(self, wait)\u001b[0m\n\u001b[0;32m    349\u001b[0m         \u001b[0mend\u001b[0m \u001b[0mof\u001b[0m \u001b[0mthe\u001b[0m \u001b[0mscript\u001b[0m\u001b[1;33m\u001b[0m\u001b[1;33m\u001b[0m\u001b[0m\n\u001b[0;32m    350\u001b[0m         \"\"\"\n\u001b[1;32m--> 351\u001b[1;33m         \u001b[0msuccessful_clean\u001b[0m \u001b[1;33m=\u001b[0m \u001b[0msuper\u001b[0m\u001b[1;33m(\u001b[0m\u001b[0mExperiment\u001b[0m\u001b[1;33m,\u001b[0m \u001b[0mself\u001b[0m\u001b[1;33m)\u001b[0m\u001b[1;33m.\u001b[0m\u001b[0m_on_end\u001b[0m\u001b[1;33m(\u001b[0m\u001b[0mwait\u001b[0m\u001b[1;33m=\u001b[0m\u001b[0mwait\u001b[0m\u001b[1;33m)\u001b[0m\u001b[1;33m\u001b[0m\u001b[1;33m\u001b[0m\u001b[0m\n\u001b[0m\u001b[0;32m    352\u001b[0m \u001b[1;33m\u001b[0m\u001b[0m\n\u001b[0;32m    353\u001b[0m         \u001b[1;32mif\u001b[0m \u001b[1;32mnot\u001b[0m \u001b[0msuccessful_clean\u001b[0m\u001b[1;33m:\u001b[0m\u001b[1;33m\u001b[0m\u001b[1;33m\u001b[0m\u001b[0m\n",
      "\u001b[1;32m~\\anaconda3\\envs\\ift6758-conda-env\\lib\\site-packages\\comet_ml\\experiment.py\u001b[0m in \u001b[0;36m_on_end\u001b[1;34m(self, wait)\u001b[0m\n\u001b[0;32m    482\u001b[0m                 LOGGER.debug(\n\u001b[0;32m    483\u001b[0m                     \u001b[1;34m\"CPU THREAD before join; cpu_thread.isAlive = %s\"\u001b[0m\u001b[1;33m,\u001b[0m\u001b[1;33m\u001b[0m\u001b[1;33m\u001b[0m\u001b[0m\n\u001b[1;32m--> 484\u001b[1;33m                     \u001b[0mself\u001b[0m\u001b[1;33m.\u001b[0m\u001b[0mcpu_thread\u001b[0m\u001b[1;33m.\u001b[0m\u001b[0misAlive\u001b[0m\u001b[1;33m(\u001b[0m\u001b[1;33m)\u001b[0m\u001b[1;33m,\u001b[0m\u001b[1;33m\u001b[0m\u001b[1;33m\u001b[0m\u001b[0m\n\u001b[0m\u001b[0;32m    485\u001b[0m                 )\n\u001b[0;32m    486\u001b[0m                 \u001b[0mself\u001b[0m\u001b[1;33m.\u001b[0m\u001b[0mcpu_thread\u001b[0m\u001b[1;33m.\u001b[0m\u001b[0mjoin\u001b[0m\u001b[1;33m(\u001b[0m\u001b[1;36m2\u001b[0m\u001b[1;33m)\u001b[0m\u001b[1;33m\u001b[0m\u001b[1;33m\u001b[0m\u001b[0m\n",
      "\u001b[1;31mAttributeError\u001b[0m: 'CPULoggingThread' object has no attribute 'isAlive'"
     ]
    }
   ],
   "source": [
    "comet_exp.end()"
   ]
  },
  {
   "cell_type": "markdown",
   "id": "d728a8cb",
   "metadata": {},
   "source": [
    "## Plotting"
   ]
  },
  {
   "cell_type": "code",
   "execution_count": 211,
   "id": "52a4fcc8",
   "metadata": {},
   "outputs": [
    {
     "name": "stdout",
     "output_type": "stream",
     "text": [
      "              precision    recall  f1-score   support\n",
      "\n",
      "           0       0.91      0.52      0.66    226058\n",
      "           1       0.09      0.48      0.15     22218\n",
      "\n",
      "    accuracy                           0.52    248276\n",
      "   macro avg       0.50      0.50      0.41    248276\n",
      "weighted avg       0.84      0.52      0.62    248276\n",
      "\n"
     ]
    },
    {
     "data": {
      "image/png": "[encoded data removed]",
      "text/plain": [
       "<Figure size 720x360 with 2 Axes>"
      ]
     },
     "metadata": {
      "needs_background": "light"
     },
     "output_type": "display_data"
    }
   ],
   "source": [
    "from ift6758.metrics import plot_metrics\n",
    "\n",
    "plot_metrics.plotConfusion(val_y_true,y_pred_val, title='Confusion matrix for Neural Network validation set prediction')"
   ]
  },
  {
   "cell_type": "code",
   "execution_count": 212,
   "id": "5eff32bb",
   "metadata": {
    "scrolled": true
   },
   "outputs": [
    {
     "data": {
      "image/png": "[encoded data removed]",
      "text/plain": [
       "<Figure size 864x720 with 1 Axes>"
      ]
     },
     "metadata": {
      "needs_background": "light"
     },
     "output_type": "display_data"
    }
   ],
   "source": [
    "plot_metrics.plot_roc([val_y_true],[y_proba_val],[\"Valid set for Neural Network\"])"
   ]
  },
  {
   "cell_type": "code",
   "execution_count": 215,
   "id": "6f56b5e5",
   "metadata": {
    "scrolled": false
   },
   "outputs": [
    {
     "ename": "ValueError",
     "evalue": "Bin edges must be unique: array([0.16973025, 0.16973025, 0.16973025, 0.16973025, 0.16973025,\n       0.16973025, 0.16973025, 0.16973025, 0.16973025, 0.4247383 ,\n       0.4732791 , 0.54518922, 0.62757581, 0.64358246, 0.6533007 ,\n       0.6533007 , 0.6533007 , 0.6533007 , 0.6533007 , 0.6533007 ,\n       0.6533007 ]).\nYou can drop duplicate edges by setting the 'duplicates' kwarg",
     "output_type": "error",
     "traceback": [
      "\u001b[1;31m---------------------------------------------------------------------------\u001b[0m",
      "\u001b[1;31mValueError\u001b[0m                                Traceback (most recent call last)",
      "\u001b[1;32m~\\AppData\\Local\\Temp/ipykernel_12324/3301401361.py\u001b[0m in \u001b[0;36m<module>\u001b[1;34m\u001b[0m\n\u001b[1;32m----> 1\u001b[1;33m \u001b[0mplot_metrics\u001b[0m\u001b[1;33m.\u001b[0m\u001b[0mplot_percentile\u001b[0m\u001b[1;33m(\u001b[0m\u001b[1;33m[\u001b[0m\u001b[0mval_y_true\u001b[0m\u001b[1;33m]\u001b[0m\u001b[1;33m,\u001b[0m\u001b[1;33m[\u001b[0m\u001b[0my_proba_val\u001b[0m\u001b[1;33m]\u001b[0m\u001b[1;33m,\u001b[0m\u001b[0mbin_width\u001b[0m\u001b[1;33m=\u001b[0m\u001b[1;36m5\u001b[0m\u001b[1;33m,\u001b[0m\u001b[0mplot_labels\u001b[0m\u001b[1;33m=\u001b[0m\u001b[1;33m[\u001b[0m\u001b[1;34m\"Valid set for Neural Network\"\u001b[0m\u001b[1;33m]\u001b[0m\u001b[1;33m)\u001b[0m\u001b[1;33m\u001b[0m\u001b[1;33m\u001b[0m\u001b[0m\n\u001b[0m",
      "\u001b[1;32mc:\\users\\alaed\\documents\\ds\\project\\code\\ift6758-project-main\\ift6758\\metrics\\plot_metrics.py\u001b[0m in \u001b[0;36mplot_percentile\u001b[1;34m(ytrues, yscores, bin_width, plot_labels)\u001b[0m\n\u001b[0;32m     74\u001b[0m     \u001b[0mnum_bins\u001b[0m \u001b[1;33m=\u001b[0m \u001b[0mint\u001b[0m\u001b[1;33m(\u001b[0m\u001b[1;36m100\u001b[0m\u001b[1;33m/\u001b[0m\u001b[0mbin_width\u001b[0m\u001b[1;33m)\u001b[0m\u001b[1;33m\u001b[0m\u001b[1;33m\u001b[0m\u001b[0m\n\u001b[0;32m     75\u001b[0m     \u001b[1;32mfor\u001b[0m \u001b[0myscore\u001b[0m\u001b[1;33m,\u001b[0m\u001b[0mytrue\u001b[0m\u001b[1;33m,\u001b[0m\u001b[0mplot_label\u001b[0m \u001b[1;32min\u001b[0m \u001b[0mzip\u001b[0m\u001b[1;33m(\u001b[0m\u001b[0myscores\u001b[0m\u001b[1;33m,\u001b[0m\u001b[0mytrues\u001b[0m\u001b[1;33m,\u001b[0m\u001b[0mplot_labels\u001b[0m\u001b[1;33m)\u001b[0m\u001b[1;33m:\u001b[0m\u001b[1;33m\u001b[0m\u001b[1;33m\u001b[0m\u001b[0m\n\u001b[1;32m---> 76\u001b[1;33m         \u001b[0mbin_regions\u001b[0m\u001b[1;33m=\u001b[0m\u001b[0mpd\u001b[0m\u001b[1;33m.\u001b[0m\u001b[0mqcut\u001b[0m\u001b[1;33m(\u001b[0m\u001b[0myscore\u001b[0m\u001b[1;33m,\u001b[0m \u001b[0mq\u001b[0m\u001b[1;33m=\u001b[0m\u001b[0mnum_bins\u001b[0m\u001b[1;33m,\u001b[0m\u001b[0mlabels\u001b[0m\u001b[1;33m=\u001b[0m\u001b[1;32mFalse\u001b[0m\u001b[1;33m)\u001b[0m \u001b[1;31m# Assign 0->num_bins-1 to each cut\u001b[0m\u001b[1;33m\u001b[0m\u001b[1;33m\u001b[0m\u001b[0m\n\u001b[0m\u001b[0;32m     77\u001b[0m         \u001b[0mgoal_rate_values\u001b[0m \u001b[1;33m=\u001b[0m \u001b[0mnp\u001b[0m\u001b[1;33m.\u001b[0m\u001b[0mzeros\u001b[0m\u001b[1;33m(\u001b[0m\u001b[0mnum_bins\u001b[0m\u001b[1;33m)\u001b[0m\u001b[1;33m\u001b[0m\u001b[1;33m\u001b[0m\u001b[0m\n\u001b[0;32m     78\u001b[0m         \u001b[0mcumulative_goals_percentage\u001b[0m\u001b[1;33m=\u001b[0m\u001b[0mnp\u001b[0m\u001b[1;33m.\u001b[0m\u001b[0mzeros\u001b[0m\u001b[1;33m(\u001b[0m\u001b[0mnum_bins\u001b[0m\u001b[1;33m)\u001b[0m\u001b[1;33m\u001b[0m\u001b[1;33m\u001b[0m\u001b[0m\n",
      "\u001b[1;32m~\\anaconda3\\envs\\ift6758-conda-env\\lib\\site-packages\\pandas\\core\\reshape\\tile.py\u001b[0m in \u001b[0;36mqcut\u001b[1;34m(x, q, labels, retbins, precision, duplicates)\u001b[0m\n\u001b[0;32m    370\u001b[0m         \u001b[0mquantiles\u001b[0m \u001b[1;33m=\u001b[0m \u001b[0mq\u001b[0m\u001b[1;33m\u001b[0m\u001b[1;33m\u001b[0m\u001b[0m\n\u001b[0;32m    371\u001b[0m     \u001b[0mbins\u001b[0m \u001b[1;33m=\u001b[0m \u001b[0malgos\u001b[0m\u001b[1;33m.\u001b[0m\u001b[0mquantile\u001b[0m\u001b[1;33m(\u001b[0m\u001b[0mx\u001b[0m\u001b[1;33m,\u001b[0m \u001b[0mquantiles\u001b[0m\u001b[1;33m)\u001b[0m\u001b[1;33m\u001b[0m\u001b[1;33m\u001b[0m\u001b[0m\n\u001b[1;32m--> 372\u001b[1;33m     fac, bins = _bins_to_cuts(\n\u001b[0m\u001b[0;32m    373\u001b[0m         \u001b[0mx\u001b[0m\u001b[1;33m,\u001b[0m\u001b[1;33m\u001b[0m\u001b[1;33m\u001b[0m\u001b[0m\n\u001b[0;32m    374\u001b[0m         \u001b[0mbins\u001b[0m\u001b[1;33m,\u001b[0m\u001b[1;33m\u001b[0m\u001b[1;33m\u001b[0m\u001b[0m\n",
      "\u001b[1;32m~\\anaconda3\\envs\\ift6758-conda-env\\lib\\site-packages\\pandas\\core\\reshape\\tile.py\u001b[0m in \u001b[0;36m_bins_to_cuts\u001b[1;34m(x, bins, right, labels, precision, include_lowest, dtype, duplicates, ordered)\u001b[0m\n\u001b[0;32m    411\u001b[0m     \u001b[1;32mif\u001b[0m \u001b[0mlen\u001b[0m\u001b[1;33m(\u001b[0m\u001b[0munique_bins\u001b[0m\u001b[1;33m)\u001b[0m \u001b[1;33m<\u001b[0m \u001b[0mlen\u001b[0m\u001b[1;33m(\u001b[0m\u001b[0mbins\u001b[0m\u001b[1;33m)\u001b[0m \u001b[1;32mand\u001b[0m \u001b[0mlen\u001b[0m\u001b[1;33m(\u001b[0m\u001b[0mbins\u001b[0m\u001b[1;33m)\u001b[0m \u001b[1;33m!=\u001b[0m \u001b[1;36m2\u001b[0m\u001b[1;33m:\u001b[0m\u001b[1;33m\u001b[0m\u001b[1;33m\u001b[0m\u001b[0m\n\u001b[0;32m    412\u001b[0m         \u001b[1;32mif\u001b[0m \u001b[0mduplicates\u001b[0m \u001b[1;33m==\u001b[0m \u001b[1;34m\"raise\"\u001b[0m\u001b[1;33m:\u001b[0m\u001b[1;33m\u001b[0m\u001b[1;33m\u001b[0m\u001b[0m\n\u001b[1;32m--> 413\u001b[1;33m             raise ValueError(\n\u001b[0m\u001b[0;32m    414\u001b[0m                 \u001b[1;34mf\"Bin edges must be unique: {repr(bins)}.\\n\"\u001b[0m\u001b[1;33m\u001b[0m\u001b[1;33m\u001b[0m\u001b[0m\n\u001b[0;32m    415\u001b[0m                 \u001b[1;34mf\"You can drop duplicate edges by setting the 'duplicates' kwarg\"\u001b[0m\u001b[1;33m\u001b[0m\u001b[1;33m\u001b[0m\u001b[0m\n",
      "\u001b[1;31mValueError\u001b[0m: Bin edges must be unique: array([0.16973025, 0.16973025, 0.16973025, 0.16973025, 0.16973025,\n       0.16973025, 0.16973025, 0.16973025, 0.16973025, 0.4247383 ,\n       0.4732791 , 0.54518922, 0.62757581, 0.64358246, 0.6533007 ,\n       0.6533007 , 0.6533007 , 0.6533007 , 0.6533007 , 0.6533007 ,\n       0.6533007 ]).\nYou can drop duplicate edges by setting the 'duplicates' kwarg"
     ]
    },
    {
     "data": {
      "image/png": "[encoded data removed]",
      "text/plain": [
       "<Figure size 1080x540 with 2 Axes>"
      ]
     },
     "metadata": {
      "needs_background": "light"
     },
     "output_type": "display_data"
    }
   ],
   "source": [
    "plot_metrics.plot_percentile([val_y_true],[y_proba_val],bin_width=5,plot_labels=[\"Valid set for Neural Network\"])"
   ]
  },
  {
   "cell_type": "code",
   "execution_count": 216,
   "id": "46f2089d",
   "metadata": {
    "scrolled": true
   },
   "outputs": [
    {
     "data": {
      "image/png": "[encoded data removed]",
      "text/plain": [
       "<Figure size 540x540 with 1 Axes>"
      ]
     },
     "metadata": {
      "needs_background": "light"
     },
     "output_type": "display_data"
    }
   ],
   "source": [
    "plot_metrics.plot_calibration([val_y_true],[y_proba_val],plot_labels=[\"Valid set for Neural Network\"])"
   ]
  },
  {
   "cell_type": "code",
   "execution_count": null,
   "id": "94233f72",
   "metadata": {},
   "outputs": [],
   "source": []
  }
 ],
 "metadata": {
  "kernelspec": {
   "display_name": "ift6758-conda-env",
   "language": "python",
   "name": "ift6758-conda-env"
  },
  "language_info": {
   "codemirror_mode": {
    "name": "ipython",
    "version": 3
   },
   "file_extension": ".py",
   "mimetype": "text/x-python",
   "name": "python",
   "nbconvert_exporter": "python",
   "pygments_lexer": "ipython3",
   "version": "3.9.7"
  }
 },
 "nbformat": 4,
 "nbformat_minor": 5
}
