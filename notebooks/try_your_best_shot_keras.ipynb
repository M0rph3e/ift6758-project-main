{
 "cells": [
  {
   "cell_type": "code",
   "execution_count": 1,
   "id": "8ec8fca5-42cf-4459-a761-3e39b5f8479e",
   "metadata": {},
   "outputs": [],
   "source": [
    "%load_ext autoreload\n",
    "%autoreload 2"
   ]
  },
  {
   "cell_type": "markdown",
   "id": "d5b54079",
   "metadata": {},
   "source": [
    "# Comet Import and Setup"
   ]
  },
  {
   "cell_type": "code",
   "execution_count": 2,
   "id": "664a72f0",
   "metadata": {},
   "outputs": [],
   "source": [
    "#comet imports\n",
    "from comet_ml import Experiment"
   ]
  },
  {
   "cell_type": "code",
   "execution_count": 3,
   "id": "62ad282b",
   "metadata": {},
   "outputs": [
    {
     "name": "stderr",
     "output_type": "stream",
     "text": [
      "COMET INFO: Experiment is live on comet.ml https://www.comet.ml/morph-e/milestone-2/50331850708a45f7a6a22f8c7b8d2ac3\n",
      "\n"
     ]
    }
   ],
   "source": [
    "# Import comet_ml at the top of your file, before sklearn!\n",
    "from comet_ml import Experiment\n",
    "import os \n",
    "\n",
    "# Create an experiment with your api key\n",
    "comet_exp = Experiment(\n",
    "    api_key=os.environ.get('COMET_API_KEY'),  # don’t hardcode!!\n",
    "    project_name=\"milestone_2\",\n",
    "    workspace=\"morph-e\",\n",
    "    log_code=True,\n",
    ")"
   ]
  },
  {
   "cell_type": "markdown",
   "id": "0dc1b642-7bfd-496c-a49c-3e051a191a51",
   "metadata": {},
   "source": [
    "# Imports"
   ]
  },
  {
   "cell_type": "code",
   "execution_count": 4,
   "id": "c2635c3c-0b25-4e86-b6b5-9c3ef9d2de4a",
   "metadata": {},
   "outputs": [],
   "source": [
    "#classic\n",
    "import numpy as np\n",
    "import pandas as pd\n",
    "import matplotlib as mpl\n",
    "import matplotlib.pyplot as plt\n",
    "import seaborn as sns\n",
    "import os\n",
    "import random\n",
    "import tempfile\n",
    "\n",
    "#project imports\n",
    "from ift6758.features.feature_engineering2 import SeasonDataSetTwo\n",
    "from ift6758.metrics import plot_metrics\n",
    "from ift6758.data.data_acquisition import Season\n",
    "from ift6758.visualizations.simple_visualization import Utilities \n",
    "\n",
    "#sk-learn imports\n",
    "from sklearn.preprocessing import StandardScaler, MinMaxScaler\n",
    "from sklearn.model_selection import train_test_split\n",
    "from sklearn.pipeline import Pipeline\n",
    "from sklearn.metrics import (accuracy_score, confusion_matrix, \n",
    "                             classification_report, roc_curve, auc)\n",
    "\n",
    "#keras imports\n",
    "import tensorflow as tf\n",
    "from tensorflow import keras\n",
    "from tensorflow.keras import layers, losses, preprocessing, activations\n",
    "\n"
   ]
  },
  {
   "cell_type": "code",
   "execution_count": 5,
   "id": "57d8d5ce",
   "metadata": {},
   "outputs": [],
   "source": [
    "#misc\n",
    "pd.set_option('display.max_columns', None)\n",
    "\n",
    "mpl.rcParams['figure.figsize'] = (12, 10)\n",
    "colors = plt.rcParams['axes.prop_cycle'].by_key()['color']\n",
    "\n",
    "import warnings\n",
    "warnings.filterwarnings(\"ignore\")"
   ]
  },
  {
   "cell_type": "markdown",
   "id": "685668d4-2f27-498d-bc95-40c6f8a2262d",
   "metadata": {},
   "source": [
    "# DATA LOADING"
   ]
  },
  {
   "cell_type": "code",
   "execution_count": 6,
   "id": "8db58e48-f4b5-4e61-95eb-c5abc27eb253",
   "metadata": {},
   "outputs": [],
   "source": [
    "#year selection\n",
    "train_years = [2015,2016,2017]\n",
    "valid_years = [2018]\n",
    "test_years=[2019]"
   ]
  },
  {
   "cell_type": "code",
   "execution_count": 7,
   "id": "b61c930f-c543-46c6-be8b-26031c687150",
   "metadata": {},
   "outputs": [
    {
     "name": "stdout",
     "output_type": "stream",
     "text": [
      "File with all events already Exists, loading from ../ift6758/data/PICKLE//2015_clean_all_events.pkl\n",
      "File already Exists, loading from ../ift6758/data/PICKLE//2015_period_info.pkl\n",
      "File with all events already Exists, loading from ../ift6758/data/PICKLE//2016_clean_all_events.pkl\n",
      "File already Exists, loading from ../ift6758/data/PICKLE//2016_period_info.pkl\n",
      "File with all events already Exists, loading from ../ift6758/data/PICKLE//2017_clean_all_events.pkl\n",
      "File already Exists, loading from ../ift6758/data/PICKLE//2017_period_info.pkl\n",
      "File with all events already Exists, loading from ../ift6758/data/PICKLE//2018_clean_all_events.pkl\n",
      "File already Exists, loading from ../ift6758/data/PICKLE//2018_period_info.pkl\n"
     ]
    }
   ],
   "source": [
    "train_dataset = SeasonDataSetTwo(train_years)\n",
    "valid_dataset = SeasonDataSetTwo(valid_years)\n",
    "train_df = train_dataset.get_features_2()\n",
    "valid_df = valid_dataset.get_features_2()"
   ]
  },
  {
   "cell_type": "code",
   "execution_count": 8,
   "id": "62063889-8c05-403d-b06a-28ec22532223",
   "metadata": {},
   "outputs": [
    {
     "name": "stdout",
     "output_type": "stream",
     "text": [
      "File with all events already Exists, loading from ../ift6758/data/PICKLE//2019_clean_all_events.pkl\n",
      "File already Exists, loading from ../ift6758/data/PICKLE//2019_period_info.pkl\n"
     ]
    }
   ],
   "source": [
    "test_data = SeasonDataSetTwo(test_years)\n",
    "test_df = test_data.get_features_2()"
   ]
  },
  {
   "cell_type": "markdown",
   "id": "b949e139",
   "metadata": {},
   "source": [
    "# Split and shuffle"
   ]
  },
  {
   "cell_type": "code",
   "execution_count": 9,
   "id": "4329567d",
   "metadata": {},
   "outputs": [],
   "source": [
    "random.seed(42)"
   ]
  },
  {
   "cell_type": "code",
   "execution_count": 10,
   "id": "1b0b4b35",
   "metadata": {},
   "outputs": [],
   "source": [
    "train_df = train_df.sample(frac=1)\n",
    "test_df = test_df.sample(frac=1)\n",
    "valid_df = valid_df.sample(frac=1)"
   ]
  },
  {
   "cell_type": "code",
   "execution_count": 11,
   "id": "2a0309c2",
   "metadata": {},
   "outputs": [
    {
     "data": {
      "text/html": [
       "<div>\n",
       "<style scoped>\n",
       "    .dataframe tbody tr th:only-of-type {\n",
       "        vertical-align: middle;\n",
       "    }\n",
       "\n",
       "    .dataframe tbody tr th {\n",
       "        vertical-align: top;\n",
       "    }\n",
       "\n",
       "    .dataframe thead th {\n",
       "        text-align: right;\n",
       "    }\n",
       "</style>\n",
       "<table border=\"1\" class=\"dataframe\">\n",
       "  <thead>\n",
       "    <tr style=\"text-align: right;\">\n",
       "      <th></th>\n",
       "      <th>result.penaltySeverity</th>\n",
       "      <th>result.penaltyMinutes</th>\n",
       "      <th>gamePk</th>\n",
       "      <th>team.name</th>\n",
       "      <th>gamePeriod</th>\n",
       "      <th>coordinatesX</th>\n",
       "      <th>coordinatesY</th>\n",
       "      <th>shotType</th>\n",
       "      <th>emptyNet</th>\n",
       "      <th>result.strength.name</th>\n",
       "      <th>gameSeconds</th>\n",
       "      <th>shotDistance</th>\n",
       "      <th>shotAngle</th>\n",
       "      <th>isGoal</th>\n",
       "      <th>lastEventType</th>\n",
       "      <th>lastEventCoordinatesX</th>\n",
       "      <th>lastEventCoordinatesY</th>\n",
       "      <th>timeFromLastEvent</th>\n",
       "      <th>distanceFromLastEvent</th>\n",
       "      <th>rebound</th>\n",
       "      <th>speed</th>\n",
       "      <th>changeInShotAngle</th>\n",
       "      <th>angleSpeed</th>\n",
       "    </tr>\n",
       "  </thead>\n",
       "  <tbody>\n",
       "    <tr>\n",
       "      <th>57230</th>\n",
       "      <td>NaN</td>\n",
       "      <td>NaN</td>\n",
       "      <td>2015020953</td>\n",
       "      <td>Anaheim Ducks</td>\n",
       "      <td>2</td>\n",
       "      <td>54.0</td>\n",
       "      <td>9.0</td>\n",
       "      <td>Wrist Shot</td>\n",
       "      <td>0</td>\n",
       "      <td>NaN</td>\n",
       "      <td>466.0</td>\n",
       "      <td>143.282937</td>\n",
       "      <td>3.601278</td>\n",
       "      <td>0</td>\n",
       "      <td>Hit</td>\n",
       "      <td>-78.0</td>\n",
       "      <td>-40.0</td>\n",
       "      <td>6.0</td>\n",
       "      <td>140.801278</td>\n",
       "      <td>False</td>\n",
       "      <td>23.466880</td>\n",
       "      <td>0.0</td>\n",
       "      <td>0.0</td>\n",
       "    </tr>\n",
       "    <tr>\n",
       "      <th>54244</th>\n",
       "      <td>NaN</td>\n",
       "      <td>NaN</td>\n",
       "      <td>2015020904</td>\n",
       "      <td>San Jose Sharks</td>\n",
       "      <td>2</td>\n",
       "      <td>-80.0</td>\n",
       "      <td>-5.0</td>\n",
       "      <td>Deflected</td>\n",
       "      <td>0</td>\n",
       "      <td>NaN</td>\n",
       "      <td>280.0</td>\n",
       "      <td>10.295630</td>\n",
       "      <td>-29.054604</td>\n",
       "      <td>0</td>\n",
       "      <td>Hit</td>\n",
       "      <td>-78.0</td>\n",
       "      <td>-39.0</td>\n",
       "      <td>26.0</td>\n",
       "      <td>34.058773</td>\n",
       "      <td>False</td>\n",
       "      <td>1.309953</td>\n",
       "      <td>0.0</td>\n",
       "      <td>0.0</td>\n",
       "    </tr>\n",
       "    <tr>\n",
       "      <th>34414</th>\n",
       "      <td>NaN</td>\n",
       "      <td>NaN</td>\n",
       "      <td>2015020577</td>\n",
       "      <td>Colorado Avalanche</td>\n",
       "      <td>2</td>\n",
       "      <td>55.0</td>\n",
       "      <td>-29.0</td>\n",
       "      <td>Wrist Shot</td>\n",
       "      <td>0</td>\n",
       "      <td>NaN</td>\n",
       "      <td>21.0</td>\n",
       "      <td>44.687806</td>\n",
       "      <td>40.462227</td>\n",
       "      <td>0</td>\n",
       "      <td>Faceoff</td>\n",
       "      <td>0.0</td>\n",
       "      <td>0.0</td>\n",
       "      <td>21.0</td>\n",
       "      <td>62.177166</td>\n",
       "      <td>False</td>\n",
       "      <td>2.960817</td>\n",
       "      <td>0.0</td>\n",
       "      <td>0.0</td>\n",
       "    </tr>\n",
       "    <tr>\n",
       "      <th>218950</th>\n",
       "      <td>NaN</td>\n",
       "      <td>NaN</td>\n",
       "      <td>2017020759</td>\n",
       "      <td>Winnipeg Jets</td>\n",
       "      <td>3</td>\n",
       "      <td>-80.0</td>\n",
       "      <td>18.0</td>\n",
       "      <td>Slap Shot</td>\n",
       "      <td>0</td>\n",
       "      <td>NaN</td>\n",
       "      <td>261.0</td>\n",
       "      <td>20.124612</td>\n",
       "      <td>63.434949</td>\n",
       "      <td>0</td>\n",
       "      <td>Missed Shot</td>\n",
       "      <td>-78.0</td>\n",
       "      <td>12.0</td>\n",
       "      <td>9.0</td>\n",
       "      <td>6.324555</td>\n",
       "      <td>False</td>\n",
       "      <td>0.702728</td>\n",
       "      <td>0.0</td>\n",
       "      <td>0.0</td>\n",
       "    </tr>\n",
       "    <tr>\n",
       "      <th>205456</th>\n",
       "      <td>NaN</td>\n",
       "      <td>NaN</td>\n",
       "      <td>2017020551</td>\n",
       "      <td>Philadelphia Flyers</td>\n",
       "      <td>1</td>\n",
       "      <td>-47.0</td>\n",
       "      <td>-28.0</td>\n",
       "      <td>Wrist Shot</td>\n",
       "      <td>0</td>\n",
       "      <td>NaN</td>\n",
       "      <td>694.0</td>\n",
       "      <td>50.477718</td>\n",
       "      <td>-33.690068</td>\n",
       "      <td>0</td>\n",
       "      <td>Stoppage</td>\n",
       "      <td>NaN</td>\n",
       "      <td>NaN</td>\n",
       "      <td>0.0</td>\n",
       "      <td>NaN</td>\n",
       "      <td>False</td>\n",
       "      <td>NaN</td>\n",
       "      <td>0.0</td>\n",
       "      <td>NaN</td>\n",
       "    </tr>\n",
       "  </tbody>\n",
       "</table>\n",
       "</div>"
      ],
      "text/plain": [
       "       result.penaltySeverity  result.penaltyMinutes      gamePk  \\\n",
       "57230                     NaN                    NaN  2015020953   \n",
       "54244                     NaN                    NaN  2015020904   \n",
       "34414                     NaN                    NaN  2015020577   \n",
       "218950                    NaN                    NaN  2017020759   \n",
       "205456                    NaN                    NaN  2017020551   \n",
       "\n",
       "                  team.name  gamePeriod  coordinatesX  coordinatesY  \\\n",
       "57230         Anaheim Ducks           2          54.0           9.0   \n",
       "54244       San Jose Sharks           2         -80.0          -5.0   \n",
       "34414    Colorado Avalanche           2          55.0         -29.0   \n",
       "218950        Winnipeg Jets           3         -80.0          18.0   \n",
       "205456  Philadelphia Flyers           1         -47.0         -28.0   \n",
       "\n",
       "          shotType emptyNet result.strength.name  gameSeconds  shotDistance  \\\n",
       "57230   Wrist Shot        0                  NaN        466.0    143.282937   \n",
       "54244    Deflected        0                  NaN        280.0     10.295630   \n",
       "34414   Wrist Shot        0                  NaN         21.0     44.687806   \n",
       "218950   Slap Shot        0                  NaN        261.0     20.124612   \n",
       "205456  Wrist Shot        0                  NaN        694.0     50.477718   \n",
       "\n",
       "        shotAngle  isGoal lastEventType  lastEventCoordinatesX  \\\n",
       "57230    3.601278       0           Hit                  -78.0   \n",
       "54244  -29.054604       0           Hit                  -78.0   \n",
       "34414   40.462227       0       Faceoff                    0.0   \n",
       "218950  63.434949       0   Missed Shot                  -78.0   \n",
       "205456 -33.690068       0      Stoppage                    NaN   \n",
       "\n",
       "        lastEventCoordinatesY  timeFromLastEvent  distanceFromLastEvent  \\\n",
       "57230                   -40.0                6.0             140.801278   \n",
       "54244                   -39.0               26.0              34.058773   \n",
       "34414                     0.0               21.0              62.177166   \n",
       "218950                   12.0                9.0               6.324555   \n",
       "205456                    NaN                0.0                    NaN   \n",
       "\n",
       "        rebound      speed  changeInShotAngle  angleSpeed  \n",
       "57230     False  23.466880                0.0         0.0  \n",
       "54244     False   1.309953                0.0         0.0  \n",
       "34414     False   2.960817                0.0         0.0  \n",
       "218950    False   0.702728                0.0         0.0  \n",
       "205456    False        NaN                0.0         NaN  "
      ]
     },
     "execution_count": 11,
     "metadata": {},
     "output_type": "execute_result"
    }
   ],
   "source": [
    "train_df.head()"
   ]
  },
  {
   "cell_type": "markdown",
   "id": "cb143317",
   "metadata": {},
   "source": [
    "# Preprocessing"
   ]
  },
  {
   "cell_type": "code",
   "execution_count": 12,
   "id": "810ab9d7-44f6-4de6-8aa2-6aa3fb88ed5c",
   "metadata": {},
   "outputs": [],
   "source": [
    "features = ['gameSeconds','timeFromLastEvent','shotType', 'shotAngle', 'shotDistance','distanceFromLastEvent', 'rebound','speed','changeInShotAngle']\n",
    "label = ['isGoal']"
   ]
  },
  {
   "cell_type": "code",
   "execution_count": 13,
   "id": "debf8fc2-5f1b-4648-a8ff-0af8d084e1f3",
   "metadata": {},
   "outputs": [
    {
     "data": {
      "text/plain": [
       "gameSeconds              False\n",
       "timeFromLastEvent        False\n",
       "shotType                  True\n",
       "shotAngle                 True\n",
       "shotDistance              True\n",
       "distanceFromLastEvent     True\n",
       "rebound                  False\n",
       "speed                     True\n",
       "changeInShotAngle        False\n",
       "dtype: bool"
      ]
     },
     "execution_count": 13,
     "metadata": {},
     "output_type": "execute_result"
    }
   ],
   "source": [
    "train_df[features].isna().any()\n",
    "valid_df[features].isna().any()\n",
    "valid_df[features].isna().any()"
   ]
  },
  {
   "cell_type": "code",
   "execution_count": 14,
   "id": "6d2c5174-3942-46ee-9784-247bff5192f2",
   "metadata": {},
   "outputs": [],
   "source": [
    "#replace inf with nan\n",
    "train_df.replace([np.inf, -np.inf], np.nan, inplace=True)\n",
    "valid_df.replace([np.inf, -np.inf], np.nan, inplace=True)\n",
    "test_df.replace([np.inf, -np.inf], np.nan, inplace=True)"
   ]
  },
  {
   "cell_type": "code",
   "execution_count": 15,
   "id": "2d4adc8c",
   "metadata": {},
   "outputs": [],
   "source": [
    "#drop rows with nan\n",
    "train_df = train_df[train_df['shotType'].notna()]\n",
    "valid_df = train_df[train_df['shotType'].notna()]\n",
    "test_df = train_df[train_df['shotType'].notna()]\n",
    "\n",
    "train_df = train_df[train_df['shotAngle'].notna()]\n",
    "valid_df = train_df[train_df['shotAngle'].notna()]\n",
    "test_df = train_df[train_df['shotAngle'].notna()]\n",
    "\n",
    "train_df = train_df[train_df['shotDistance'].notna()]\n",
    "valid_df = train_df[train_df['shotDistance'].notna()]\n",
    "test_df = train_df[train_df['shotDistance'].notna()]\n",
    "\n",
    "train_df = train_df[train_df['speed'].notna()]\n",
    "valid_df = train_df[train_df['speed'].notna()]\n",
    "test_df = train_df[train_df['speed'].notna()]\n",
    "\n",
    "train_df = train_df[train_df['changeInShotAngle'].notna()]\n",
    "valid_df = train_df[train_df['changeInShotAngle'].notna()]\n",
    "test_df = train_df[train_df['changeInShotAngle'].notna()]\n",
    "\n",
    "train_df = train_df[train_df['distanceFromLastEvent'].notna()]\n",
    "valid_df = train_df[train_df['distanceFromLastEvent'].notna()]\n",
    "test_df = train_df[train_df['distanceFromLastEvent'].notna()]"
   ]
  },
  {
   "cell_type": "code",
   "execution_count": 16,
   "id": "2d675ad8",
   "metadata": {
    "scrolled": false
   },
   "outputs": [
    {
     "data": {
      "text/plain": [
       "gameSeconds              False\n",
       "timeFromLastEvent        False\n",
       "shotType                 False\n",
       "shotAngle                False\n",
       "shotDistance             False\n",
       "distanceFromLastEvent    False\n",
       "rebound                  False\n",
       "speed                    False\n",
       "changeInShotAngle        False\n",
       "dtype: bool"
      ]
     },
     "execution_count": 16,
     "metadata": {},
     "output_type": "execute_result"
    }
   ],
   "source": [
    "#sanity check\n",
    "train_df[features].isna().any()\n",
    "valid_df[features].isna().any()\n",
    "valid_df[features].isna().any()"
   ]
  },
  {
   "cell_type": "code",
   "execution_count": 17,
   "id": "f48b255d",
   "metadata": {},
   "outputs": [
    {
     "data": {
      "text/plain": [
       "(        gameSeconds  timeFromLastEvent    shotType  shotAngle  shotDistance  \\\n",
       " 57230         466.0                6.0  Wrist Shot   3.601278    143.282937   \n",
       " 54244         280.0               26.0   Deflected -29.054604     10.295630   \n",
       " 34414          21.0               21.0  Wrist Shot  40.462227     44.687806   \n",
       " 218950        261.0                9.0   Slap Shot  63.434949     20.124612   \n",
       " 183094        206.0               15.0  Wrist Shot -37.303948     26.400758   \n",
       " ...             ...                ...         ...        ...           ...   \n",
       " 240678       1082.0                6.0  Wrist Shot  -4.332314    132.378246   \n",
       " 125275       1091.0                4.0   Snap Shot -28.442929     27.294688   \n",
       " 133908       1128.0                3.0      Tip-In   2.862405     20.024984   \n",
       " 2630          524.0               11.0  Wrist Shot  30.465545     39.446166   \n",
       " 15893         712.0               13.0   Snap Shot   2.489553     23.021729   \n",
       " \n",
       "         distanceFromLastEvent  rebound      speed  changeInShotAngle  \n",
       " 57230              140.801278    False  23.466880                0.0  \n",
       " 54244               34.058773    False   1.309953                0.0  \n",
       " 34414               62.177166    False   2.960817                0.0  \n",
       " 218950               6.324555    False   0.702728                0.0  \n",
       " 183094              57.245087    False   3.816339                0.0  \n",
       " ...                       ...      ...        ...                ...  \n",
       " 240678              51.244512    False   8.540752                0.0  \n",
       " 125275              42.941821    False  10.735455                0.0  \n",
       " 133908              21.000000    False   7.000000                0.0  \n",
       " 2630               135.944842    False  12.358622                0.0  \n",
       " 15893               23.194827    False   1.784217                0.0  \n",
       " \n",
       " [248276 rows x 9 columns],\n",
       "         isGoal\n",
       " 57230        0\n",
       " 54244        0\n",
       " 34414        0\n",
       " 218950       0\n",
       " 183094       0\n",
       " ...        ...\n",
       " 240678       1\n",
       " 125275       0\n",
       " 133908       1\n",
       " 2630         0\n",
       " 15893        0\n",
       " \n",
       " [248276 rows x 1 columns])"
      ]
     },
     "execution_count": 17,
     "metadata": {},
     "output_type": "execute_result"
    }
   ],
   "source": [
    "X_train = train_df[features]\n",
    "y_train = train_df[label]\n",
    "\n",
    "X_valid = valid_df[features]\n",
    "y_valid = valid_df[label]\n",
    "\n",
    "X_test = test_df[features]\n",
    "y_test = test_df[label]\n",
    "\n",
    "X_train, y_train"
   ]
  },
  {
   "cell_type": "markdown",
   "id": "cc8fdf81",
   "metadata": {},
   "source": [
    "### One hot encoding for shot type"
   ]
  },
  {
   "cell_type": "code",
   "execution_count": 18,
   "id": "a7ec6924",
   "metadata": {},
   "outputs": [
    {
     "data": {
      "text/plain": [
       "array(['Wrist Shot', 'Deflected', 'Slap Shot', 'Backhand', 'Snap Shot',\n",
       "       'Tip-In', 'Wrap-around'], dtype=object)"
      ]
     },
     "execution_count": 18,
     "metadata": {},
     "output_type": "execute_result"
    }
   ],
   "source": [
    "X_train['shotType'].unique()"
   ]
  },
  {
   "cell_type": "code",
   "execution_count": 19,
   "id": "bda2f6c2",
   "metadata": {},
   "outputs": [],
   "source": [
    "dum_train = pd.get_dummies(X_train['shotType'], prefix='Shot',dtype=int)\n",
    "dum_valid = pd.get_dummies(X_valid['shotType'], prefix='Shot',dtype=int)\n",
    "dum_test = pd.get_dummies(X_test['shotType'], prefix='Shot',dtype=int)"
   ]
  },
  {
   "cell_type": "code",
   "execution_count": 20,
   "id": "9624fe25",
   "metadata": {},
   "outputs": [],
   "source": [
    "X_train = pd.concat([X_train, dum_train], axis=1)\n",
    "X_valid = pd.concat([X_valid, dum_valid], axis=1)\n",
    "X_test = pd.concat([X_test, dum_test], axis=1)"
   ]
  },
  {
   "cell_type": "code",
   "execution_count": 21,
   "id": "5a40f865",
   "metadata": {},
   "outputs": [
    {
     "data": {
      "text/plain": [
       "(gameSeconds              False\n",
       " timeFromLastEvent        False\n",
       " shotType                 False\n",
       " shotAngle                False\n",
       " shotDistance             False\n",
       " distanceFromLastEvent    False\n",
       " rebound                  False\n",
       " speed                    False\n",
       " changeInShotAngle        False\n",
       " Shot_Backhand            False\n",
       " Shot_Deflected           False\n",
       " Shot_Slap Shot           False\n",
       " Shot_Snap Shot           False\n",
       " Shot_Tip-In              False\n",
       " Shot_Wrap-around         False\n",
       " Shot_Wrist Shot          False\n",
       " dtype: bool,\n",
       " gameSeconds              False\n",
       " timeFromLastEvent        False\n",
       " shotType                 False\n",
       " shotAngle                False\n",
       " shotDistance             False\n",
       " distanceFromLastEvent    False\n",
       " rebound                  False\n",
       " speed                    False\n",
       " changeInShotAngle        False\n",
       " Shot_Backhand            False\n",
       " Shot_Deflected           False\n",
       " Shot_Slap Shot           False\n",
       " Shot_Snap Shot           False\n",
       " Shot_Tip-In              False\n",
       " Shot_Wrap-around         False\n",
       " Shot_Wrist Shot          False\n",
       " dtype: bool,\n",
       " gameSeconds              False\n",
       " timeFromLastEvent        False\n",
       " shotType                 False\n",
       " shotAngle                False\n",
       " shotDistance             False\n",
       " distanceFromLastEvent    False\n",
       " rebound                  False\n",
       " speed                    False\n",
       " changeInShotAngle        False\n",
       " Shot_Backhand            False\n",
       " Shot_Deflected           False\n",
       " Shot_Slap Shot           False\n",
       " Shot_Snap Shot           False\n",
       " Shot_Tip-In              False\n",
       " Shot_Wrap-around         False\n",
       " Shot_Wrist Shot          False\n",
       " dtype: bool)"
      ]
     },
     "execution_count": 21,
     "metadata": {},
     "output_type": "execute_result"
    }
   ],
   "source": [
    "#check if no nans\n",
    "X_train.isna().any(), X_valid.isna().any(), X_test.isna().any()"
   ]
  },
  {
   "cell_type": "code",
   "execution_count": 22,
   "id": "0c46086d",
   "metadata": {
    "scrolled": true
   },
   "outputs": [
    {
     "data": {
      "text/html": [
       "<div>\n",
       "<style scoped>\n",
       "    .dataframe tbody tr th:only-of-type {\n",
       "        vertical-align: middle;\n",
       "    }\n",
       "\n",
       "    .dataframe tbody tr th {\n",
       "        vertical-align: top;\n",
       "    }\n",
       "\n",
       "    .dataframe thead th {\n",
       "        text-align: right;\n",
       "    }\n",
       "</style>\n",
       "<table border=\"1\" class=\"dataframe\">\n",
       "  <thead>\n",
       "    <tr style=\"text-align: right;\">\n",
       "      <th></th>\n",
       "      <th>gameSeconds</th>\n",
       "      <th>timeFromLastEvent</th>\n",
       "      <th>shotAngle</th>\n",
       "      <th>shotDistance</th>\n",
       "      <th>distanceFromLastEvent</th>\n",
       "      <th>rebound</th>\n",
       "      <th>speed</th>\n",
       "      <th>changeInShotAngle</th>\n",
       "      <th>Shot_Backhand</th>\n",
       "      <th>Shot_Deflected</th>\n",
       "      <th>Shot_Slap Shot</th>\n",
       "      <th>Shot_Snap Shot</th>\n",
       "      <th>Shot_Tip-In</th>\n",
       "      <th>Shot_Wrap-around</th>\n",
       "      <th>Shot_Wrist Shot</th>\n",
       "    </tr>\n",
       "  </thead>\n",
       "  <tbody>\n",
       "    <tr>\n",
       "      <th>57230</th>\n",
       "      <td>466.0</td>\n",
       "      <td>6.0</td>\n",
       "      <td>3.601278</td>\n",
       "      <td>143.282937</td>\n",
       "      <td>140.801278</td>\n",
       "      <td>False</td>\n",
       "      <td>23.466880</td>\n",
       "      <td>0.0</td>\n",
       "      <td>0</td>\n",
       "      <td>0</td>\n",
       "      <td>0</td>\n",
       "      <td>0</td>\n",
       "      <td>0</td>\n",
       "      <td>0</td>\n",
       "      <td>1</td>\n",
       "    </tr>\n",
       "    <tr>\n",
       "      <th>54244</th>\n",
       "      <td>280.0</td>\n",
       "      <td>26.0</td>\n",
       "      <td>-29.054604</td>\n",
       "      <td>10.295630</td>\n",
       "      <td>34.058773</td>\n",
       "      <td>False</td>\n",
       "      <td>1.309953</td>\n",
       "      <td>0.0</td>\n",
       "      <td>0</td>\n",
       "      <td>1</td>\n",
       "      <td>0</td>\n",
       "      <td>0</td>\n",
       "      <td>0</td>\n",
       "      <td>0</td>\n",
       "      <td>0</td>\n",
       "    </tr>\n",
       "    <tr>\n",
       "      <th>34414</th>\n",
       "      <td>21.0</td>\n",
       "      <td>21.0</td>\n",
       "      <td>40.462227</td>\n",
       "      <td>44.687806</td>\n",
       "      <td>62.177166</td>\n",
       "      <td>False</td>\n",
       "      <td>2.960817</td>\n",
       "      <td>0.0</td>\n",
       "      <td>0</td>\n",
       "      <td>0</td>\n",
       "      <td>0</td>\n",
       "      <td>0</td>\n",
       "      <td>0</td>\n",
       "      <td>0</td>\n",
       "      <td>1</td>\n",
       "    </tr>\n",
       "    <tr>\n",
       "      <th>218950</th>\n",
       "      <td>261.0</td>\n",
       "      <td>9.0</td>\n",
       "      <td>63.434949</td>\n",
       "      <td>20.124612</td>\n",
       "      <td>6.324555</td>\n",
       "      <td>False</td>\n",
       "      <td>0.702728</td>\n",
       "      <td>0.0</td>\n",
       "      <td>0</td>\n",
       "      <td>0</td>\n",
       "      <td>1</td>\n",
       "      <td>0</td>\n",
       "      <td>0</td>\n",
       "      <td>0</td>\n",
       "      <td>0</td>\n",
       "    </tr>\n",
       "    <tr>\n",
       "      <th>183094</th>\n",
       "      <td>206.0</td>\n",
       "      <td>15.0</td>\n",
       "      <td>-37.303948</td>\n",
       "      <td>26.400758</td>\n",
       "      <td>57.245087</td>\n",
       "      <td>False</td>\n",
       "      <td>3.816339</td>\n",
       "      <td>0.0</td>\n",
       "      <td>0</td>\n",
       "      <td>0</td>\n",
       "      <td>0</td>\n",
       "      <td>0</td>\n",
       "      <td>0</td>\n",
       "      <td>0</td>\n",
       "      <td>1</td>\n",
       "    </tr>\n",
       "  </tbody>\n",
       "</table>\n",
       "</div>"
      ],
      "text/plain": [
       "        gameSeconds  timeFromLastEvent  shotAngle  shotDistance  \\\n",
       "57230         466.0                6.0   3.601278    143.282937   \n",
       "54244         280.0               26.0 -29.054604     10.295630   \n",
       "34414          21.0               21.0  40.462227     44.687806   \n",
       "218950        261.0                9.0  63.434949     20.124612   \n",
       "183094        206.0               15.0 -37.303948     26.400758   \n",
       "\n",
       "        distanceFromLastEvent  rebound      speed  changeInShotAngle  \\\n",
       "57230              140.801278    False  23.466880                0.0   \n",
       "54244               34.058773    False   1.309953                0.0   \n",
       "34414               62.177166    False   2.960817                0.0   \n",
       "218950               6.324555    False   0.702728                0.0   \n",
       "183094              57.245087    False   3.816339                0.0   \n",
       "\n",
       "        Shot_Backhand  Shot_Deflected  Shot_Slap Shot  Shot_Snap Shot  \\\n",
       "57230               0               0               0               0   \n",
       "54244               0               1               0               0   \n",
       "34414               0               0               0               0   \n",
       "218950              0               0               1               0   \n",
       "183094              0               0               0               0   \n",
       "\n",
       "        Shot_Tip-In  Shot_Wrap-around  Shot_Wrist Shot  \n",
       "57230             0                 0                1  \n",
       "54244             0                 0                0  \n",
       "34414             0                 0                1  \n",
       "218950            0                 0                0  \n",
       "183094            0                 0                1  "
      ]
     },
     "execution_count": 22,
     "metadata": {},
     "output_type": "execute_result"
    }
   ],
   "source": [
    "X_train = X_train.drop(columns='shotType')\n",
    "X_valid = X_valid.drop(columns='shotType')\n",
    "X_test = X_test.drop(columns='shotType')\n",
    "X_train.head()"
   ]
  },
  {
   "cell_type": "markdown",
   "id": "cf6e5458",
   "metadata": {},
   "source": [
    "## Change rebound to int"
   ]
  },
  {
   "cell_type": "code",
   "execution_count": 23,
   "id": "4688a8d8",
   "metadata": {},
   "outputs": [],
   "source": [
    "X_train['rebound'] = X_train['rebound'].astype(int)\n",
    "X_valid['rebound'] = X_valid['rebound'].astype(int)\n",
    "X_test['rebound'] = X_test['rebound'].astype(int)"
   ]
  },
  {
   "cell_type": "markdown",
   "id": "660edb96",
   "metadata": {},
   "source": [
    "## Normalize numerical columns"
   ]
  },
  {
   "cell_type": "code",
   "execution_count": 24,
   "id": "5eaa7933",
   "metadata": {},
   "outputs": [],
   "source": [
    "num = ['gameSeconds','timeFromLastEvent', 'shotAngle', 'shotDistance','distanceFromLastEvent','speed','changeInShotAngle']"
   ]
  },
  {
   "cell_type": "code",
   "execution_count": 25,
   "id": "60216f13",
   "metadata": {},
   "outputs": [],
   "source": [
    "from sklearn.preprocessing import StandardScaler\n",
    "\n",
    "scaler = StandardScaler()\n",
    "scaler.fit(X_train[num])\n",
    "\n",
    "X_train[num] = scaler.transform(X_train[num])\n",
    "X_valid[num] = scaler.transform(X_valid[num])\n",
    "X_test[num] = scaler.transform(X_test[num])"
   ]
  },
  {
   "cell_type": "code",
   "execution_count": 26,
   "id": "407bb224",
   "metadata": {
    "scrolled": true
   },
   "outputs": [
    {
     "data": {
      "text/html": [
       "<div>\n",
       "<style scoped>\n",
       "    .dataframe tbody tr th:only-of-type {\n",
       "        vertical-align: middle;\n",
       "    }\n",
       "\n",
       "    .dataframe tbody tr th {\n",
       "        vertical-align: top;\n",
       "    }\n",
       "\n",
       "    .dataframe thead th {\n",
       "        text-align: right;\n",
       "    }\n",
       "</style>\n",
       "<table border=\"1\" class=\"dataframe\">\n",
       "  <thead>\n",
       "    <tr style=\"text-align: right;\">\n",
       "      <th></th>\n",
       "      <th>gameSeconds</th>\n",
       "      <th>timeFromLastEvent</th>\n",
       "      <th>shotAngle</th>\n",
       "      <th>shotDistance</th>\n",
       "      <th>distanceFromLastEvent</th>\n",
       "      <th>rebound</th>\n",
       "      <th>speed</th>\n",
       "      <th>changeInShotAngle</th>\n",
       "      <th>Shot_Backhand</th>\n",
       "      <th>Shot_Deflected</th>\n",
       "      <th>Shot_Slap Shot</th>\n",
       "      <th>Shot_Snap Shot</th>\n",
       "      <th>Shot_Tip-In</th>\n",
       "      <th>Shot_Wrap-around</th>\n",
       "      <th>Shot_Wrist Shot</th>\n",
       "    </tr>\n",
       "  </thead>\n",
       "  <tbody>\n",
       "    <tr>\n",
       "      <th>57230</th>\n",
       "      <td>-0.367822</td>\n",
       "      <td>-0.647129</td>\n",
       "      <td>0.075150</td>\n",
       "      <td>3.083358</td>\n",
       "      <td>1.708358</td>\n",
       "      <td>0</td>\n",
       "      <td>1.532279</td>\n",
       "      <td>-0.362894</td>\n",
       "      <td>0</td>\n",
       "      <td>0</td>\n",
       "      <td>0</td>\n",
       "      <td>0</td>\n",
       "      <td>0</td>\n",
       "      <td>0</td>\n",
       "      <td>1</td>\n",
       "    </tr>\n",
       "    <tr>\n",
       "      <th>54244</th>\n",
       "      <td>-0.902143</td>\n",
       "      <td>0.699802</td>\n",
       "      <td>-0.824860</td>\n",
       "      <td>-0.921996</td>\n",
       "      <td>-0.605859</td>\n",
       "      <td>0</td>\n",
       "      <td>-0.659467</td>\n",
       "      <td>-0.362894</td>\n",
       "      <td>0</td>\n",
       "      <td>1</td>\n",
       "      <td>0</td>\n",
       "      <td>0</td>\n",
       "      <td>0</td>\n",
       "      <td>0</td>\n",
       "      <td>0</td>\n",
       "    </tr>\n",
       "    <tr>\n",
       "      <th>34414</th>\n",
       "      <td>-1.646171</td>\n",
       "      <td>0.363069</td>\n",
       "      <td>1.091054</td>\n",
       "      <td>0.113838</td>\n",
       "      <td>0.003758</td>\n",
       "      <td>0</td>\n",
       "      <td>-0.496165</td>\n",
       "      <td>-0.362894</td>\n",
       "      <td>0</td>\n",
       "      <td>0</td>\n",
       "      <td>0</td>\n",
       "      <td>0</td>\n",
       "      <td>0</td>\n",
       "      <td>0</td>\n",
       "      <td>1</td>\n",
       "    </tr>\n",
       "    <tr>\n",
       "      <th>218950</th>\n",
       "      <td>-0.956724</td>\n",
       "      <td>-0.445089</td>\n",
       "      <td>1.724192</td>\n",
       "      <td>-0.625964</td>\n",
       "      <td>-1.207148</td>\n",
       "      <td>0</td>\n",
       "      <td>-0.719533</td>\n",
       "      <td>-0.362894</td>\n",
       "      <td>0</td>\n",
       "      <td>0</td>\n",
       "      <td>1</td>\n",
       "      <td>0</td>\n",
       "      <td>0</td>\n",
       "      <td>0</td>\n",
       "      <td>0</td>\n",
       "    </tr>\n",
       "    <tr>\n",
       "      <th>183094</th>\n",
       "      <td>-1.114722</td>\n",
       "      <td>-0.041010</td>\n",
       "      <td>-1.052216</td>\n",
       "      <td>-0.436937</td>\n",
       "      <td>-0.103171</td>\n",
       "      <td>0</td>\n",
       "      <td>-0.411537</td>\n",
       "      <td>-0.362894</td>\n",
       "      <td>0</td>\n",
       "      <td>0</td>\n",
       "      <td>0</td>\n",
       "      <td>0</td>\n",
       "      <td>0</td>\n",
       "      <td>0</td>\n",
       "      <td>1</td>\n",
       "    </tr>\n",
       "  </tbody>\n",
       "</table>\n",
       "</div>"
      ],
      "text/plain": [
       "        gameSeconds  timeFromLastEvent  shotAngle  shotDistance  \\\n",
       "57230     -0.367822          -0.647129   0.075150      3.083358   \n",
       "54244     -0.902143           0.699802  -0.824860     -0.921996   \n",
       "34414     -1.646171           0.363069   1.091054      0.113838   \n",
       "218950    -0.956724          -0.445089   1.724192     -0.625964   \n",
       "183094    -1.114722          -0.041010  -1.052216     -0.436937   \n",
       "\n",
       "        distanceFromLastEvent  rebound     speed  changeInShotAngle  \\\n",
       "57230                1.708358        0  1.532279          -0.362894   \n",
       "54244               -0.605859        0 -0.659467          -0.362894   \n",
       "34414                0.003758        0 -0.496165          -0.362894   \n",
       "218950              -1.207148        0 -0.719533          -0.362894   \n",
       "183094              -0.103171        0 -0.411537          -0.362894   \n",
       "\n",
       "        Shot_Backhand  Shot_Deflected  Shot_Slap Shot  Shot_Snap Shot  \\\n",
       "57230               0               0               0               0   \n",
       "54244               0               1               0               0   \n",
       "34414               0               0               0               0   \n",
       "218950              0               0               1               0   \n",
       "183094              0               0               0               0   \n",
       "\n",
       "        Shot_Tip-In  Shot_Wrap-around  Shot_Wrist Shot  \n",
       "57230             0                 0                1  \n",
       "54244             0                 0                0  \n",
       "34414             0                 0                1  \n",
       "218950            0                 0                0  \n",
       "183094            0                 0                1  "
      ]
     },
     "execution_count": 26,
     "metadata": {},
     "output_type": "execute_result"
    }
   ],
   "source": [
    "X_train.head()"
   ]
  },
  {
   "cell_type": "markdown",
   "id": "e4c96d1a",
   "metadata": {},
   "source": [
    "# Imbalnced Data check"
   ]
  },
  {
   "cell_type": "markdown",
   "id": "eb5aa628",
   "metadata": {},
   "source": [
    "Based on the imbalanced data tutorial by tensorflow\n",
    "https://www.tensorflow.org/tutorials/structured_data/imbalanced_data"
   ]
  },
  {
   "cell_type": "code",
   "execution_count": 27,
   "id": "13cbeff7-f73b-4503-b6b4-bb27d41bf67c",
   "metadata": {
    "scrolled": false
   },
   "outputs": [
    {
     "data": {
      "text/plain": [
       "isGoal\n",
       "0         226058\n",
       "1          22218\n",
       "dtype: int64"
      ]
     },
     "execution_count": 27,
     "metadata": {},
     "output_type": "execute_result"
    }
   ],
   "source": [
    "y_train.value_counts()"
   ]
  },
  {
   "cell_type": "code",
   "execution_count": 28,
   "id": "c78aaac5",
   "metadata": {},
   "outputs": [
    {
     "name": "stdout",
     "output_type": "stream",
     "text": [
      "Examples:\n",
      "    Total: 248276\n",
      "    Positive: 22218 (8.95% of total)\n",
      "\n"
     ]
    }
   ],
   "source": [
    "neg, pos = np.bincount(y_train['isGoal'])\n",
    "total = neg + pos\n",
    "print('Examples:\\n    Total: {}\\n    Positive: {} ({:.2f}% of total)\\n'.format(\n",
    "    total, pos, 100 * pos / total))"
   ]
  },
  {
   "cell_type": "markdown",
   "id": "6fa7caff",
   "metadata": {},
   "source": [
    "### This means that only ~9% of the data is goals -> unbalanced data "
   ]
  },
  {
   "cell_type": "markdown",
   "id": "e9a8a25f-51ca-41b5-98de-d3fb60fc180e",
   "metadata": {},
   "source": [
    "# Neural Network with KERAS"
   ]
  },
  {
   "cell_type": "code",
   "execution_count": 90,
   "id": "12dfee0c",
   "metadata": {},
   "outputs": [],
   "source": [
    "# convert to tf.data.Dataset\n",
    "train_ds = tf.data.Dataset.from_tensor_slices((X_train, y_train))\n",
    "val_ds = tf.data.Dataset.from_tensor_slices((X_valid, y_valid))\n",
    "test_ds = tf.data.Dataset.from_tensor_slices((X_test, y_test))"
   ]
  },
  {
   "cell_type": "code",
   "execution_count": 91,
   "id": "d708118e",
   "metadata": {
    "scrolled": true
   },
   "outputs": [
    {
     "name": "stdout",
     "output_type": "stream",
     "text": [
      "Data: [-0.36782232 -0.64712882  0.07515029  3.08335781  1.70835849  0.\n",
      "  1.532279   -0.36289432  0.          0.          0.          0.\n",
      "  0.          0.          1.        ], Target: [0]\n",
      "\n",
      "Data: [-0.90214322  0.699802   -0.82486002 -0.92199635 -0.60585927  0.\n",
      " -0.65946714 -0.36289432  0.          1.          0.          0.\n",
      "  0.          0.          0.        ], Target: [0]\n",
      "\n"
     ]
    }
   ],
   "source": [
    "for inputs, targets in train_ds.take(2):\n",
    "    print ('Data: {}, Target: {}'.format(inputs, targets))\n",
    "    print()"
   ]
  },
  {
   "cell_type": "code",
   "execution_count": 92,
   "id": "ebedf400",
   "metadata": {
    "scrolled": true
   },
   "outputs": [
    {
     "name": "stdout",
     "output_type": "stream",
     "text": [
      "248276\n"
     ]
    }
   ],
   "source": [
    "print(train_ds.cardinality().numpy())"
   ]
  },
  {
   "cell_type": "code",
   "execution_count": 93,
   "id": "ac2ef8f1",
   "metadata": {},
   "outputs": [
    {
     "name": "stdout",
     "output_type": "stream",
     "text": [
      "248276\n"
     ]
    }
   ],
   "source": [
    "print(val_ds.cardinality().numpy())"
   ]
  },
  {
   "cell_type": "code",
   "execution_count": 94,
   "id": "e302f307",
   "metadata": {
    "scrolled": false
   },
   "outputs": [
    {
     "name": "stdout",
     "output_type": "stream",
     "text": [
      "Data:  [[-0.36782232 -0.64712882  0.07515029  3.08335781  1.70835849  0.\n",
      "   1.532279   -0.36289432  0.          0.          0.          0.\n",
      "   0.          0.          1.        ]\n",
      " [-0.90214322  0.699802   -0.82486002 -0.92199635 -0.60585927  0.\n",
      "  -0.65946714 -0.36289432  0.          1.          0.          0.\n",
      "   0.          0.          0.        ]\n",
      " [-1.6461707   0.3630693   1.09105407  0.11383818  0.0037581   0.\n",
      "  -0.49616488 -0.36289432  0.          0.          0.          0.\n",
      "   0.          0.          1.        ]]\n",
      "Target:  [[0]\n",
      " [0]\n",
      " [0]]\n",
      "\n",
      "Data:  [[-0.62636469  0.43041584  0.11286571 -0.53674803  1.54906915  1.\n",
      "  -0.18899312  1.37123856  0.          0.          1.          0.\n",
      "   0.          0.          0.        ]\n",
      " [ 1.5137916  -0.4450892   1.02564063  0.18379795 -0.53770965  0.\n",
      "  -0.38015688 -0.36289432  0.          0.          1.          0.\n",
      "   0.          0.          0.        ]\n",
      " [ 1.48219197  1.30592087  0.7805929  -0.05901452 -0.98083695  0.\n",
      "  -0.74166985 -0.36289432  0.          0.          0.          1.\n",
      "   0.          0.          0.        ]]\n",
      "Target:  [[1]\n",
      " [0]\n",
      " [0]]\n",
      "\n",
      "Data:  [[ 0.53420328  1.8446932   0.82927208  0.34848281 -0.69205079  0.\n",
      "  -0.7198418  -0.36289432  0.          0.          1.          0.\n",
      "   0.          0.          0.        ]\n",
      " [ 0.05159086 -0.98386153  0.36274247 -0.73535938 -0.94626748  0.\n",
      "   1.026869   -0.36289432  0.          0.          0.          0.\n",
      "   0.          0.          1.        ]\n",
      " [ 1.10874188 -0.10835649 -1.12534992  0.22173006  0.97188399  0.\n",
      "  -0.03421067 -0.36289432  0.          0.          0.          0.\n",
      "   0.          0.          1.        ]]\n",
      "Target:  [[0]\n",
      " [0]\n",
      " [0]]\n",
      "\n"
     ]
    }
   ],
   "source": [
    "BATCH_SIZE = 512\n",
    "\n",
    "train_ds = train_ds.batch(BATCH_SIZE)\n",
    "val_ds = val_ds.batch(BATCH_SIZE)\n",
    "\n",
    "for inputs, targets in train_ds.take(3):\n",
    "    print('Data: ', inputs.numpy()[:3])\n",
    "    print('Target: ', targets.numpy()[:3])\n",
    "    print()"
   ]
  },
  {
   "cell_type": "code",
   "execution_count": 95,
   "id": "8d3fd8fa",
   "metadata": {},
   "outputs": [],
   "source": [
    "METRICS = [\n",
    "      keras.metrics.TruePositives(name='tp'),\n",
    "      keras.metrics.FalsePositives(name='fp'),\n",
    "      keras.metrics.TrueNegatives(name='tn'),\n",
    "      keras.metrics.FalseNegatives(name='fn'), \n",
    "      keras.metrics.BinaryAccuracy(name='accuracy'),\n",
    "      keras.metrics.Precision(name='precision'),\n",
    "      keras.metrics.Recall(name='recall'),\n",
    "      keras.metrics.AUC(name='auc'),\n",
    "      keras.metrics.AUC(name='prc', curve='PR'), # precision-recall curve\n",
    "]"
   ]
  },
  {
   "cell_type": "code",
   "execution_count": 100,
   "id": "7f626bdb-edee-4a26-a1af-67706861235b",
   "metadata": {},
   "outputs": [],
   "source": [
    "def build_model(metrics=METRICS, output_bias=None):\n",
    "    \n",
    "    if output_bias is not None:\n",
    "        output_bias = tf.keras.initializers.Constant(output_bias)\n",
    "    \n",
    "    model = keras.models.Sequential()\n",
    "    \n",
    "    #Input Layer\n",
    "    model.add(layers.InputLayer(input_shape=(X_train.shape[-1],)))\n",
    "    \n",
    "    # first fc layer\n",
    "    \n",
    "    model.add(layers.Dense(128, kernel_initializer='lecun_normal', activation='selu'))\n",
    "    model.add(layers.AlphaDropout(0.1))\n",
    "      \n",
    "    model.add(layers.Dense(64, kernel_initializer='lecun_normal', activation='selu'))\n",
    "    model.add(layers.AlphaDropout(0.1))\n",
    "    \n",
    "    model.add(layers.Dense(16, kernel_initializer='lecun_normal', activation='selu'))\n",
    "    model.add(layers.AlphaDropout(0.1))\n",
    "    \n",
    "    \n",
    "    # Last fc layer \n",
    "    # We choose the activation method as a sigmoid to get an output ranging between [0, 1]\n",
    "    model.add(layers.Dense(1, activation='sigmoid', bias_initializer=output_bias, name='target'))\n",
    "    \n",
    "    # Compile The model\n",
    "    global LEARNING_RATE\n",
    "    LEARNING_RATE= 1e-2\n",
    "\n",
    "    model.compile(optimizer = tf.keras.optimizers.Adam(learning_rate=LEARNING_RATE),\n",
    "              loss = keras.losses.BinaryCrossentropy(from_logits=False),\n",
    "              metrics = METRICS)\n",
    "\n",
    "    return model"
   ]
  },
  {
   "cell_type": "markdown",
   "id": "488abe87",
   "metadata": {},
   "source": [
    "### Set the correct initial bias\n"
   ]
  },
  {
   "cell_type": "markdown",
   "id": "95c5a4d4",
   "metadata": {},
   "source": [
    "This way the model doesn't need to spend the first few epochs just learning that positive examples are unlikely. This also makes it easier to read plots of the loss during training."
   ]
  },
  {
   "cell_type": "code",
   "execution_count": 101,
   "id": "2e0163ae",
   "metadata": {
    "scrolled": true
   },
   "outputs": [
    {
     "data": {
      "text/plain": [
       "array([-2.31988883])"
      ]
     },
     "execution_count": 101,
     "metadata": {},
     "output_type": "execute_result"
    }
   ],
   "source": [
    "initial_bias = np.log([pos/neg])\n",
    "initial_bias"
   ]
  },
  {
   "cell_type": "markdown",
   "id": "7cd75840",
   "metadata": {},
   "source": [
    "## Calculate class weights"
   ]
  },
  {
   "cell_type": "code",
   "execution_count": 102,
   "id": "8a2e6994",
   "metadata": {
    "scrolled": true
   },
   "outputs": [
    {
     "name": "stdout",
     "output_type": "stream",
     "text": [
      "Weight for class 0: 0.55\n",
      "Weight for class 1: 5.59\n"
     ]
    }
   ],
   "source": [
    "# Scaling by total/2 helps keep the loss to a similar magnitude.\n",
    "# The sum of the weights of all examples stays the same.\n",
    "weight_for_0 = (1 / neg) * (total / 2.0)\n",
    "weight_for_1 = (1 / pos) * (total / 2.0)\n",
    "\n",
    "class_weight = {0: weight_for_0, 1: weight_for_1}\n",
    "\n",
    "print('Weight for class 0: {:.2f}'.format(weight_for_0))\n",
    "print('Weight for class 1: {:.2f}'.format(weight_for_1))"
   ]
  },
  {
   "cell_type": "markdown",
   "id": "840f3a0e",
   "metadata": {},
   "source": [
    "PS: We use \"Adam\" optimiser since it's unaffected by the scaling here"
   ]
  },
  {
   "cell_type": "code",
   "execution_count": 103,
   "id": "cb4bd741",
   "metadata": {},
   "outputs": [],
   "source": [
    "#we change it from 50 to 100\n",
    "EPOCHS = 100"
   ]
  },
  {
   "cell_type": "code",
   "execution_count": 104,
   "id": "4da0ae1c",
   "metadata": {},
   "outputs": [
    {
     "name": "stdout",
     "output_type": "stream",
     "text": [
      "Model: \"sequential_4\"\n",
      "_________________________________________________________________\n",
      " Layer (type)                Output Shape              Param #   \n",
      "=================================================================\n",
      " dense_18 (Dense)            (None, 128)               2048      \n",
      "                                                                 \n",
      " alpha_dropout_18 (AlphaDrop  (None, 128)              0         \n",
      " out)                                                            \n",
      "                                                                 \n",
      " dense_19 (Dense)            (None, 64)                8256      \n",
      "                                                                 \n",
      " alpha_dropout_19 (AlphaDrop  (None, 64)               0         \n",
      " out)                                                            \n",
      "                                                                 \n",
      " dense_20 (Dense)            (None, 16)                1040      \n",
      "                                                                 \n",
      " alpha_dropout_20 (AlphaDrop  (None, 16)               0         \n",
      " out)                                                            \n",
      "                                                                 \n",
      " target (Dense)              (None, 1)                 17        \n",
      "                                                                 \n",
      "=================================================================\n",
      "Total params: 11,361\n",
      "Trainable params: 11,361\n",
      "Non-trainable params: 0\n",
      "_________________________________________________________________\n",
      "None\n"
     ]
    }
   ],
   "source": [
    "weighted_model = build_model(output_bias=initial_bias)\n",
    "#weighted_model.load_weights(initial_weights)\n",
    "\n",
    "print(weighted_model.summary())"
   ]
  },
  {
   "cell_type": "code",
   "execution_count": 105,
   "id": "a0f49bb1",
   "metadata": {},
   "outputs": [],
   "source": [
    "stop_early = tf.keras.callbacks.EarlyStopping(\n",
    "    monitor='val_prc', \n",
    "    patience=10, \n",
    "    verbose=1, \n",
    "    mode='max',\n",
    "    restore_best_weights=True)"
   ]
  },
  {
   "cell_type": "code",
   "execution_count": 106,
   "id": "6783377d",
   "metadata": {},
   "outputs": [
    {
     "name": "stdout",
     "output_type": "stream",
     "text": [
      "Epoch 1/100\n",
      "485/485 [==============================] - 8s 13ms/step - loss: 0.6449 - tp: 14396.0000 - fp: 81651.0000 - tn: 144407.0000 - fn: 7822.0000 - accuracy: 0.6396 - precision: 0.1499 - recall: 0.6479 - auc: 0.6873 - prc: 0.1652 - val_loss: 0.8294 - val_tp: 18337.0000 - val_fp: 114258.0000 - val_tn: 111800.0000 - val_fn: 3881.0000 - val_accuracy: 0.5242 - val_precision: 0.1383 - val_recall: 0.8253 - val_auc: 0.7288 - val_prc: 0.1992\n",
      "Epoch 2/100\n",
      "485/485 [==============================] - 5s 10ms/step - loss: 0.6217 - tp: 15447.0000 - fp: 82838.0000 - tn: 143220.0000 - fn: 6771.0000 - accuracy: 0.6391 - precision: 0.1572 - recall: 0.6952 - auc: 0.7134 - prc: 0.1811 - val_loss: 0.8095 - val_tp: 18488.0000 - val_fp: 115724.0000 - val_tn: 110334.0000 - val_fn: 3730.0000 - val_accuracy: 0.5189 - val_precision: 0.1378 - val_recall: 0.8321 - val_auc: 0.7319 - val_prc: 0.2037\n",
      "Epoch 3/100\n",
      "485/485 [==============================] - 5s 10ms/step - loss: 0.6200 - tp: 15455.0000 - fp: 82180.0000 - tn: 143878.0000 - fn: 6763.0000 - accuracy: 0.6418 - precision: 0.1583 - recall: 0.6956 - auc: 0.7160 - prc: 0.1846 - val_loss: 0.7959 - val_tp: 18336.0000 - val_fp: 114155.0000 - val_tn: 111903.0000 - val_fn: 3882.0000 - val_accuracy: 0.5246 - val_precision: 0.1384 - val_recall: 0.8253 - val_auc: 0.7306 - val_prc: 0.2051\n",
      "Epoch 4/100\n",
      "485/485 [==============================] - 5s 11ms/step - loss: 0.6176 - tp: 15555.0000 - fp: 81480.0000 - tn: 144578.0000 - fn: 6663.0000 - accuracy: 0.6450 - precision: 0.1603 - recall: 0.7001 - auc: 0.7187 - prc: 0.1852 - val_loss: 0.7988 - val_tp: 18438.0000 - val_fp: 115025.0000 - val_tn: 111033.0000 - val_fn: 3780.0000 - val_accuracy: 0.5215 - val_precision: 0.1382 - val_recall: 0.8299 - val_auc: 0.7332 - val_prc: 0.2063899.0000 - tn: 18934.0000 - fn: 841.0000 - accuracy: 0.6417 - pre\n",
      "Epoch 5/100\n",
      "485/485 [==============================] - 5s 10ms/step - loss: 0.6173 - tp: 15570.0000 - fp: 82297.0000 - tn: 143761.0000 - fn: 6648.0000 - accuracy: 0.6417 - precision: 0.1591 - recall: 0.7008 - auc: 0.7198 - prc: 0.1879 - val_loss: 0.7790 - val_tp: 18303.0000 - val_fp: 110897.0000 - val_tn: 115161.0000 - val_fn: 3915.0000 - val_accuracy: 0.5376 - val_precision: 0.1417 - val_recall: 0.8238 - val_auc: 0.7373 - val_prc: 0.2090\n",
      "Epoch 6/100\n",
      "485/485 [==============================] - 5s 10ms/step - loss: 0.6157 - tp: 15395.0000 - fp: 79076.0000 - tn: 146982.0000 - fn: 6823.0000 - accuracy: 0.6540 - precision: 0.1630 - recall: 0.6929 - auc: 0.7219 - prc: 0.1896 - val_loss: 0.8181 - val_tp: 18280.0000 - val_fp: 110384.0000 - val_tn: 115674.0000 - val_fn: 3938.0000 - val_accuracy: 0.5395 - val_precision: 0.1421 - val_recall: 0.8228 - val_auc: 0.7368 - val_prc: 0.2096\n",
      "Epoch 7/100\n",
      "485/485 [==============================] - 5s 11ms/step - loss: 0.6153 - tp: 15383.0000 - fp: 79948.0000 - tn: 146110.0000 - fn: 6835.0000 - accuracy: 0.6505 - precision: 0.1614 - recall: 0.6924 - auc: 0.7223 - prc: 0.1916 - val_loss: 0.8076 - val_tp: 17536.0000 - val_fp: 98647.0000 - val_tn: 127411.0000 - val_fn: 4682.0000 - val_accuracy: 0.5838 - val_precision: 0.1509 - val_recall: 0.7893 - val_auc: 0.7387 - val_prc: 0.2104\n",
      "Epoch 8/100\n",
      "485/485 [==============================] - 5s 10ms/step - loss: 0.6142 - tp: 15568.0000 - fp: 80633.0000 - tn: 145425.0000 - fn: 6650.0000 - accuracy: 0.6484 - precision: 0.1618 - recall: 0.7007 - auc: 0.7236 - prc: 0.1909 - val_loss: 0.7984 - val_tp: 18517.0000 - val_fp: 112786.0000 - val_tn: 113272.0000 - val_fn: 3701.0000 - val_accuracy: 0.5308 - val_precision: 0.1410 - val_recall: 0.8334 - val_auc: 0.7392 - val_prc: 0.2120\n",
      "Epoch 9/100\n",
      "485/485 [==============================] - 5s 10ms/step - loss: 0.6129 - tp: 15472.0000 - fp: 79941.0000 - tn: 146117.0000 - fn: 6746.0000 - accuracy: 0.6508 - precision: 0.1622 - recall: 0.6964 - auc: 0.7249 - prc: 0.1943 - val_loss: 0.7849 - val_tp: 18244.0000 - val_fp: 109181.0000 - val_tn: 116877.0000 - val_fn: 3974.0000 - val_accuracy: 0.5442 - val_precision: 0.1432 - val_recall: 0.8211 - val_auc: 0.7388 - val_prc: 0.2123\n",
      "Epoch 10/100\n",
      "485/485 [==============================] - 5s 10ms/step - loss: 0.6125 - tp: 15619.0000 - fp: 80460.0000 - tn: 145598.0000 - fn: 6599.0000 - accuracy: 0.6493 - precision: 0.1626 - recall: 0.7030 - auc: 0.7260 - prc: 0.1952 - val_loss: 0.7393 - val_tp: 18080.0000 - val_fp: 105499.0000 - val_tn: 120559.0000 - val_fn: 4138.0000 - val_accuracy: 0.5584 - val_precision: 0.1463 - val_recall: 0.8138 - val_auc: 0.7405 - val_prc: 0.2143\n",
      "Epoch 11/100\n",
      "485/485 [==============================] - 5s 10ms/step - loss: 0.6126 - tp: 15544.0000 - fp: 79624.0000 - tn: 146434.0000 - fn: 6674.0000 - accuracy: 0.6524 - precision: 0.1633 - recall: 0.6996 - auc: 0.7261 - prc: 0.1963 - val_loss: 0.7626 - val_tp: 18085.0000 - val_fp: 105253.0000 - val_tn: 120805.0000 - val_fn: 4133.0000 - val_accuracy: 0.5594 - val_precision: 0.1466 - val_recall: 0.8140 - val_auc: 0.7415 - val_prc: 0.2149\n",
      "Epoch 12/100\n",
      "485/485 [==============================] - 5s 9ms/step - loss: 0.6125 - tp: 15592.0000 - fp: 80197.0000 - tn: 145861.0000 - fn: 6626.0000 - accuracy: 0.6503 - precision: 0.1628 - recall: 0.7018 - auc: 0.7264 - prc: 0.1951 - val_loss: 0.7537 - val_tp: 18024.0000 - val_fp: 104764.0000 - val_tn: 121294.0000 - val_fn: 4194.0000 - val_accuracy: 0.5611 - val_precision: 0.1468 - val_recall: 0.8112 - val_auc: 0.7415 - val_prc: 0.2152\n",
      "Epoch 13/100\n",
      "485/485 [==============================] - 4s 9ms/step - loss: 0.6122 - tp: 15658.0000 - fp: 81243.0000 - tn: 144815.0000 - fn: 6560.0000 - accuracy: 0.6463 - precision: 0.1616 - recall: 0.7047 - auc: 0.7269 - prc: 0.1968 - val_loss: 0.7224 - val_tp: 17431.0000 - val_fp: 97753.0000 - val_tn: 128305.0000 - val_fn: 4787.0000 - val_accuracy: 0.5870 - val_precision: 0.1513 - val_recall: 0.7845 - val_auc: 0.7412 - val_prc: 0.2154\n",
      "Epoch 14/100\n",
      "485/485 [==============================] - 5s 10ms/step - loss: 0.6132 - tp: 15660.0000 - fp: 82160.0000 - tn: 143898.0000 - fn: 6558.0000 - accuracy: 0.6427 - precision: 0.1601 - recall: 0.7048 - auc: 0.7256 - prc: 0.1941 - val_loss: 0.7834 - val_tp: 18447.0000 - val_fp: 111368.0000 - val_tn: 114690.0000 - val_fn: 3771.0000 - val_accuracy: 0.5362 - val_precision: 0.1421 - val_recall: 0.8303 - val_auc: 0.7402 - val_prc: 0.2133\n",
      "Epoch 15/100\n",
      "485/485 [==============================] - 5s 10ms/step - loss: 0.6125 - tp: 15480.0000 - fp: 80230.0000 - tn: 145828.0000 - fn: 6738.0000 - accuracy: 0.6497 - precision: 0.1617 - recall: 0.6967 - auc: 0.7270 - prc: 0.1960 - val_loss: 0.7621 - val_tp: 18415.0000 - val_fp: 110528.0000 - val_tn: 115530.0000 - val_fn: 3803.0000 - val_accuracy: 0.5395 - val_precision: 0.1428 - val_recall: 0.8288 - val_auc: 0.7431 - val_prc: 0.2169\n",
      "Epoch 16/100\n",
      "485/485 [==============================] - 5s 11ms/step - loss: 0.6110 - tp: 15799.0000 - fp: 81978.0000 - tn: 144080.0000 - fn: 6419.0000 - accuracy: 0.6440 - precision: 0.1616 - recall: 0.7111 - auc: 0.7281 - prc: 0.1961 - val_loss: 0.7620 - val_tp: 18738.0000 - val_fp: 114516.0000 - val_tn: 111542.0000 - val_fn: 3480.0000 - val_accuracy: 0.5247 - val_precision: 0.1406 - val_recall: 0.8434 - val_auc: 0.7435 - val_prc: 0.2176\n",
      "Epoch 17/100\n",
      "485/485 [==============================] - 5s 11ms/step - loss: 0.6098 - tp: 15790.0000 - fp: 81672.0000 - tn: 144386.0000 - fn: 6428.0000 - accuracy: 0.6452 - precision: 0.1620 - recall: 0.7107 - auc: 0.7294 - prc: 0.1978 - val_loss: 0.7136 - val_tp: 17756.0000 - val_fp: 99657.0000 - val_tn: 126401.0000 - val_fn: 4462.0000 - val_accuracy: 0.5806 - val_precision: 0.1512 - val_recall: 0.7992 - val_auc: 0.7435 - val_prc: 0.2176\n",
      "Epoch 18/100\n",
      "485/485 [==============================] - 6s 12ms/step - loss: 0.6093 - tp: 15782.0000 - fp: 81872.0000 - tn: 144186.0000 - fn: 6436.0000 - accuracy: 0.6443 - precision: 0.1616 - recall: 0.7103 - auc: 0.7299 - prc: 0.1991 - val_loss: 0.7551 - val_tp: 17918.0000 - val_fp: 102670.0000 - val_tn: 123388.0000 - val_fn: 4300.0000 - val_accuracy: 0.5691 - val_precision: 0.1486 - val_recall: 0.8065 - val_auc: 0.7440 - val_prc: 0.2191\n",
      "Epoch 19/100\n"
     ]
    },
    {
     "name": "stdout",
     "output_type": "stream",
     "text": [
      "485/485 [==============================] - 5s 11ms/step - loss: 0.6106 - tp: 15646.0000 - fp: 80521.0000 - tn: 145537.0000 - fn: 6572.0000 - accuracy: 0.6492 - precision: 0.1627 - recall: 0.7042 - auc: 0.7295 - prc: 0.1991 - val_loss: 0.7337 - val_tp: 17988.0000 - val_fp: 103093.0000 - val_tn: 122965.0000 - val_fn: 4230.0000 - val_accuracy: 0.5677 - val_precision: 0.1486 - val_recall: 0.8096 - val_auc: 0.7428 - val_prc: 0.2158\n",
      "Epoch 20/100\n",
      "485/485 [==============================] - 5s 10ms/step - loss: 0.6094 - tp: 15637.0000 - fp: 80184.0000 - tn: 145874.0000 - fn: 6581.0000 - accuracy: 0.6505 - precision: 0.1632 - recall: 0.7038 - auc: 0.7299 - prc: 0.1986 - val_loss: 0.7574 - val_tp: 18207.0000 - val_fp: 105934.0000 - val_tn: 120124.0000 - val_fn: 4011.0000 - val_accuracy: 0.5572 - val_precision: 0.1467 - val_recall: 0.8195 - val_auc: 0.7448 - val_prc: 0.2185\n",
      "Epoch 21/100\n",
      "485/485 [==============================] - 5s 10ms/step - loss: 0.6083 - tp: 15687.0000 - fp: 79757.0000 - tn: 146301.0000 - fn: 6531.0000 - accuracy: 0.6525 - precision: 0.1644 - recall: 0.7060 - auc: 0.7314 - prc: 0.2014 - val_loss: 0.7494 - val_tp: 18146.0000 - val_fp: 105941.0000 - val_tn: 120117.0000 - val_fn: 4072.0000 - val_accuracy: 0.5569 - val_precision: 0.1462 - val_recall: 0.8167 - val_auc: 0.7431 - val_prc: 0.2156\n",
      "Epoch 22/100\n",
      "485/485 [==============================] - 6s 12ms/step - loss: 0.6093 - tp: 15738.0000 - fp: 80075.0000 - tn: 145983.0000 - fn: 6480.0000 - accuracy: 0.6514 - precision: 0.1643 - recall: 0.7083 - auc: 0.7301 - prc: 0.1985 - val_loss: 0.7752 - val_tp: 17940.0000 - val_fp: 103294.0000 - val_tn: 122764.0000 - val_fn: 4278.0000 - val_accuracy: 0.5667 - val_precision: 0.1480 - val_recall: 0.8075 - val_auc: 0.7439 - val_prc: 0.2168\n",
      "Epoch 23/100\n",
      "485/485 [==============================] - 5s 10ms/step - loss: 0.6090 - tp: 15777.0000 - fp: 81207.0000 - tn: 144851.0000 - fn: 6441.0000 - accuracy: 0.6470 - precision: 0.1627 - recall: 0.7101 - auc: 0.7306 - prc: 0.1993 - val_loss: 0.7521 - val_tp: 18405.0000 - val_fp: 109986.0000 - val_tn: 116072.0000 - val_fn: 3813.0000 - val_accuracy: 0.5416 - val_precision: 0.1434 - val_recall: 0.8284 - val_auc: 0.7436 - val_prc: 0.2196\n",
      "Epoch 24/100\n",
      "485/485 [==============================] - 5s 10ms/step - loss: 0.6083 - tp: 15860.0000 - fp: 81498.0000 - tn: 144560.0000 - fn: 6358.0000 - accuracy: 0.6461 - precision: 0.1629 - recall: 0.7138 - auc: 0.7317 - prc: 0.2009 - val_loss: 0.7091 - val_tp: 17472.0000 - val_fp: 96058.0000 - val_tn: 130000.0000 - val_fn: 4746.0000 - val_accuracy: 0.5940 - val_precision: 0.1539 - val_recall: 0.7864 - val_auc: 0.7446 - val_prc: 0.2197\n",
      "Epoch 25/100\n",
      "485/485 [==============================] - 5s 11ms/step - loss: 0.6096 - tp: 15797.0000 - fp: 81410.0000 - tn: 144648.0000 - fn: 6421.0000 - accuracy: 0.6462 - precision: 0.1625 - recall: 0.7110 - auc: 0.7308 - prc: 0.1990 - val_loss: 0.7806 - val_tp: 18403.0000 - val_fp: 109634.0000 - val_tn: 116424.0000 - val_fn: 3815.0000 - val_accuracy: 0.5431 - val_precision: 0.1437 - val_recall: 0.8283 - val_auc: 0.7445 - val_prc: 0.2175\n",
      "Epoch 26/100\n",
      "485/485 [==============================] - 5s 10ms/step - loss: 0.6093 - tp: 15793.0000 - fp: 81408.0000 - tn: 144650.0000 - fn: 6425.0000 - accuracy: 0.6462 - precision: 0.1625 - recall: 0.7108 - auc: 0.7300 - prc: 0.1993 - val_loss: 0.7208 - val_tp: 18176.0000 - val_fp: 105576.0000 - val_tn: 120482.0000 - val_fn: 4042.0000 - val_accuracy: 0.5585 - val_precision: 0.1469 - val_recall: 0.8181 - val_auc: 0.7446 - val_prc: 0.2180\n",
      "Epoch 27/100\n",
      "485/485 [==============================] - 5s 10ms/step - loss: 0.6110 - tp: 15683.0000 - fp: 80604.0000 - tn: 145454.0000 - fn: 6535.0000 - accuracy: 0.6490 - precision: 0.1629 - recall: 0.7059 - auc: 0.7297 - prc: 0.1995 - val_loss: 0.7939 - val_tp: 18969.0000 - val_fp: 118315.0000 - val_tn: 107743.0000 - val_fn: 3249.0000 - val_accuracy: 0.5104 - val_precision: 0.1382 - val_recall: 0.8538 - val_auc: 0.7450 - val_prc: 0.2191\n",
      "Epoch 28/100\n",
      "485/485 [==============================] - 5s 10ms/step - loss: 0.6085 - tp: 15829.0000 - fp: 81549.0000 - tn: 144509.0000 - fn: 6389.0000 - accuracy: 0.6458 - precision: 0.1626 - recall: 0.7124 - auc: 0.7312 - prc: 0.2001 - val_loss: 0.7233 - val_tp: 17880.0000 - val_fp: 100332.0000 - val_tn: 125726.0000 - val_fn: 4338.0000 - val_accuracy: 0.5784 - val_precision: 0.1513 - val_recall: 0.8048 - val_auc: 0.7460 - val_prc: 0.2200\n",
      "Epoch 29/100\n",
      "485/485 [==============================] - 5s 10ms/step - loss: 0.6076 - tp: 15854.0000 - fp: 81544.0000 - tn: 144514.0000 - fn: 6364.0000 - accuracy: 0.6459 - precision: 0.1628 - recall: 0.7136 - auc: 0.7323 - prc: 0.2020 - val_loss: 0.7300 - val_tp: 17937.0000 - val_fp: 101806.0000 - val_tn: 124252.0000 - val_fn: 4281.0000 - val_accuracy: 0.5727 - val_precision: 0.1498 - val_recall: 0.8073 - val_auc: 0.7458 - val_prc: 0.2189\n",
      "Epoch 30/100\n",
      "485/485 [==============================] - 5s 10ms/step - loss: 0.6087 - tp: 15871.0000 - fp: 81374.0000 - tn: 144684.0000 - fn: 6347.0000 - accuracy: 0.6467 - precision: 0.1632 - recall: 0.7143 - auc: 0.7324 - prc: 0.2005 - val_loss: 0.7638 - val_tp: 18357.0000 - val_fp: 108307.0000 - val_tn: 117751.0000 - val_fn: 3861.0000 - val_accuracy: 0.5482 - val_precision: 0.1449 - val_recall: 0.8262 - val_auc: 0.7456 - val_prc: 0.2189\n",
      "Epoch 31/100\n",
      "485/485 [==============================] - 5s 11ms/step - loss: 0.6068 - tp: 15935.0000 - fp: 82102.0000 - tn: 143956.0000 - fn: 6283.0000 - accuracy: 0.6440 - precision: 0.1625 - recall: 0.7172 - auc: 0.7333 - prc: 0.2026 - val_loss: 0.7585 - val_tp: 17707.0000 - val_fp: 99792.0000 - val_tn: 126266.0000 - val_fn: 4511.0000 - val_accuracy: 0.5799 - val_precision: 0.1507 - val_recall: 0.7970 - val_auc: 0.7445 - val_prc: 0.2197\n",
      "Epoch 32/100\n",
      "485/485 [==============================] - 5s 11ms/step - loss: 0.6085 - tp: 15812.0000 - fp: 81108.0000 - tn: 144950.0000 - fn: 6406.0000 - accuracy: 0.6475 - precision: 0.1631 - recall: 0.7117 - auc: 0.7321 - prc: 0.2012 - val_loss: 0.7664 - val_tp: 18063.0000 - val_fp: 103989.0000 - val_tn: 122069.0000 - val_fn: 4155.0000 - val_accuracy: 0.5644 - val_precision: 0.1480 - val_recall: 0.8130 - val_auc: 0.7452 - val_prc: 0.2191\n",
      "Epoch 33/100\n",
      "485/485 [==============================] - 5s 10ms/step - loss: 0.6090 - tp: 16056.0000 - fp: 83364.0000 - tn: 142694.0000 - fn: 6162.0000 - accuracy: 0.6394 - precision: 0.1615 - recall: 0.7227 - auc: 0.7311 - prc: 0.1997 - val_loss: 0.7549 - val_tp: 18006.0000 - val_fp: 103641.0000 - val_tn: 122417.0000 - val_fn: 4212.0000 - val_accuracy: 0.5656 - val_precision: 0.1480 - val_recall: 0.8104 - val_auc: 0.7444 - val_prc: 0.2181\n",
      "Epoch 34/100\n",
      "485/485 [==============================] - 5s 10ms/step - loss: 0.6072 - tp: 15843.0000 - fp: 81120.0000 - tn: 144938.0000 - fn: 6375.0000 - accuracy: 0.6476 - precision: 0.1634 - recall: 0.7131 - auc: 0.7331 - prc: 0.2041 - val_loss: 0.7214 - val_tp: 17043.0000 - val_fp: 92613.0000 - val_tn: 133445.0000 - val_fn: 5175.0000 - val_accuracy: 0.6061 - val_precision: 0.1554 - val_recall: 0.7671 - val_auc: 0.7429 - val_prc: 0.2195\n",
      "Epoch 35/100\n",
      "485/485 [==============================] - 5s 11ms/step - loss: 0.6071 - tp: 15803.0000 - fp: 80890.0000 - tn: 145168.0000 - fn: 6415.0000 - accuracy: 0.6484 - precision: 0.1634 - recall: 0.7113 - auc: 0.7331 - prc: 0.2033 - val_loss: 0.7039 - val_tp: 17089.0000 - val_fp: 90941.0000 - val_tn: 135117.0000 - val_fn: 5129.0000 - val_accuracy: 0.6131 - val_precision: 0.1582 - val_recall: 0.7692 - val_auc: 0.7474 - val_prc: 0.2219\n",
      "Epoch 36/100\n",
      "485/485 [==============================] - 5s 10ms/step - loss: 0.6057 - tp: 15894.0000 - fp: 81633.0000 - tn: 144425.0000 - fn: 6324.0000 - accuracy: 0.6457 - precision: 0.1630 - recall: 0.7154 - auc: 0.7347 - prc: 0.2038 - val_loss: 0.7732 - val_tp: 17934.0000 - val_fp: 101508.0000 - val_tn: 124550.0000 - val_fn: 4284.0000 - val_accuracy: 0.5739 - val_precision: 0.1501 - val_recall: 0.8072 - val_auc: 0.7473 - val_prc: 0.2217\n",
      "Epoch 37/100\n"
     ]
    },
    {
     "name": "stdout",
     "output_type": "stream",
     "text": [
      "485/485 [==============================] - 5s 10ms/step - loss: 0.6064 - tp: 15898.0000 - fp: 82146.0000 - tn: 143912.0000 - fn: 6320.0000 - accuracy: 0.6437 - precision: 0.1622 - recall: 0.7155 - auc: 0.7334 - prc: 0.2022 - val_loss: 0.7243 - val_tp: 17945.0000 - val_fp: 102346.0000 - val_tn: 123712.0000 - val_fn: 4273.0000 - val_accuracy: 0.5706 - val_precision: 0.1492 - val_recall: 0.8077 - val_auc: 0.7464 - val_prc: 0.2233\n",
      "Epoch 38/100\n",
      "485/485 [==============================] - 5s 10ms/step - loss: 0.6100 - tp: 15867.0000 - fp: 81923.0000 - tn: 144135.0000 - fn: 6351.0000 - accuracy: 0.6445 - precision: 0.1623 - recall: 0.7142 - auc: 0.7311 - prc: 0.1998 - val_loss: 0.7094 - val_tp: 17524.0000 - val_fp: 96824.0000 - val_tn: 129234.0000 - val_fn: 4694.0000 - val_accuracy: 0.5911 - val_precision: 0.1533 - val_recall: 0.7887 - val_auc: 0.7444 - val_prc: 0.2186\n",
      "Epoch 39/100\n",
      "485/485 [==============================] - 5s 10ms/step - loss: 0.6082 - tp: 15872.0000 - fp: 82391.0000 - tn: 143667.0000 - fn: 6346.0000 - accuracy: 0.6426 - precision: 0.1615 - recall: 0.7144 - auc: 0.7316 - prc: 0.2017 - val_loss: 0.6751 - val_tp: 17394.0000 - val_fp: 94939.0000 - val_tn: 131119.0000 - val_fn: 4824.0000 - val_accuracy: 0.5982 - val_precision: 0.1548 - val_recall: 0.7829 - val_auc: 0.7463 - val_prc: 0.2213\n",
      "Epoch 40/100\n",
      "485/485 [==============================] - 5s 10ms/step - loss: 0.6068 - tp: 15861.0000 - fp: 81297.0000 - tn: 144761.0000 - fn: 6357.0000 - accuracy: 0.6469 - precision: 0.1632 - recall: 0.7139 - auc: 0.7332 - prc: 0.2036 - val_loss: 0.7111 - val_tp: 17645.0000 - val_fp: 97160.0000 - val_tn: 128898.0000 - val_fn: 4573.0000 - val_accuracy: 0.5902 - val_precision: 0.1537 - val_recall: 0.7942 - val_auc: 0.7476 - val_prc: 0.2213\n",
      "Epoch 41/100\n",
      "485/485 [==============================] - 5s 10ms/step - loss: 0.6060 - tp: 15832.0000 - fp: 81464.0000 - tn: 144594.0000 - fn: 6386.0000 - accuracy: 0.6462 - precision: 0.1627 - recall: 0.7126 - auc: 0.7337 - prc: 0.2026 - val_loss: 0.6921 - val_tp: 17815.0000 - val_fp: 100339.0000 - val_tn: 125719.0000 - val_fn: 4403.0000 - val_accuracy: 0.5781 - val_precision: 0.1508 - val_recall: 0.8018 - val_auc: 0.7462 - val_prc: 0.2209\n",
      "Epoch 42/100\n",
      "485/485 [==============================] - 5s 10ms/step - loss: 0.6063 - tp: 15851.0000 - fp: 81555.0000 - tn: 144503.0000 - fn: 6367.0000 - accuracy: 0.6459 - precision: 0.1627 - recall: 0.7134 - auc: 0.7338 - prc: 0.2040 - val_loss: 0.6705 - val_tp: 17426.0000 - val_fp: 94367.0000 - val_tn: 131691.0000 - val_fn: 4792.0000 - val_accuracy: 0.6006 - val_precision: 0.1559 - val_recall: 0.7843 - val_auc: 0.7473 - val_prc: 0.2215\n",
      "Epoch 43/100\n",
      "485/485 [==============================] - 5s 10ms/step - loss: 0.6056 - tp: 15848.0000 - fp: 81270.0000 - tn: 144788.0000 - fn: 6370.0000 - accuracy: 0.6470 - precision: 0.1632 - recall: 0.7133 - auc: 0.7345 - prc: 0.2037 - val_loss: 0.6574 - val_tp: 16890.0000 - val_fp: 88346.0000 - val_tn: 137712.0000 - val_fn: 5328.0000 - val_accuracy: 0.6227 - val_precision: 0.1605 - val_recall: 0.7602 - val_auc: 0.7484 - val_prc: 0.2229\n",
      "Epoch 44/100\n",
      "485/485 [==============================] - 5s 10ms/step - loss: 0.6065 - tp: 15965.0000 - fp: 81641.0000 - tn: 144417.0000 - fn: 6253.0000 - accuracy: 0.6460 - precision: 0.1636 - recall: 0.7186 - auc: 0.7336 - prc: 0.2036 - val_loss: 0.6600 - val_tp: 16581.0000 - val_fp: 85344.0000 - val_tn: 140714.0000 - val_fn: 5637.0000 - val_accuracy: 0.6335 - val_precision: 0.1627 - val_recall: 0.7463 - val_auc: 0.7474 - val_prc: 0.2227\n",
      "Epoch 45/100\n",
      "485/485 [==============================] - 5s 10ms/step - loss: 0.6081 - tp: 15840.0000 - fp: 81333.0000 - tn: 144725.0000 - fn: 6378.0000 - accuracy: 0.6467 - precision: 0.1630 - recall: 0.7129 - auc: 0.7339 - prc: 0.2035 - val_loss: 0.6835 - val_tp: 17464.0000 - val_fp: 95542.0000 - val_tn: 130516.0000 - val_fn: 4754.0000 - val_accuracy: 0.5960 - val_precision: 0.1545 - val_recall: 0.7860 - val_auc: 0.7469 - val_prc: 0.2199\n",
      "Epoch 46/100\n",
      "485/485 [==============================] - 5s 10ms/step - loss: 0.6061 - tp: 16028.0000 - fp: 82526.0000 - tn: 143532.0000 - fn: 6190.0000 - accuracy: 0.6427 - precision: 0.1626 - recall: 0.7214 - auc: 0.7340 - prc: 0.2033 - val_loss: 0.6684 - val_tp: 17184.0000 - val_fp: 91388.0000 - val_tn: 134670.0000 - val_fn: 5034.0000 - val_accuracy: 0.6116 - val_precision: 0.1583 - val_recall: 0.7734 - val_auc: 0.7493 - val_prc: 0.2239\n",
      "Epoch 47/100\n",
      "485/485 [==============================] - 5s 10ms/step - loss: 0.6052 - tp: 16058.0000 - fp: 82717.0000 - tn: 143341.0000 - fn: 6160.0000 - accuracy: 0.6420 - precision: 0.1626 - recall: 0.7227 - auc: 0.7352 - prc: 0.2038 - val_loss: 0.6958 - val_tp: 18017.0000 - val_fp: 102602.0000 - val_tn: 123456.0000 - val_fn: 4201.0000 - val_accuracy: 0.5698 - val_precision: 0.1494 - val_recall: 0.8109 - val_auc: 0.7488 - val_prc: 0.2225\n",
      "Epoch 48/100\n",
      "485/485 [==============================] - 5s 10ms/step - loss: 0.6057 - tp: 15992.0000 - fp: 82447.0000 - tn: 143611.0000 - fn: 6226.0000 - accuracy: 0.6428 - precision: 0.1625 - recall: 0.7198 - auc: 0.7346 - prc: 0.2050 - val_loss: 0.7039 - val_tp: 17834.0000 - val_fp: 99941.0000 - val_tn: 126117.0000 - val_fn: 4384.0000 - val_accuracy: 0.5798 - val_precision: 0.1514 - val_recall: 0.8027 - val_auc: 0.7475 - val_prc: 0.2226\n",
      "Epoch 49/100\n",
      "485/485 [==============================] - 5s 10ms/step - loss: 0.6064 - tp: 15896.0000 - fp: 81099.0000 - tn: 144959.0000 - fn: 6322.0000 - accuracy: 0.6479 - precision: 0.1639 - recall: 0.7155 - auc: 0.7343 - prc: 0.2038 - val_loss: 0.6717 - val_tp: 16891.0000 - val_fp: 87974.0000 - val_tn: 138084.0000 - val_fn: 5327.0000 - val_accuracy: 0.6242 - val_precision: 0.1611 - val_recall: 0.7602 - val_auc: 0.7485 - val_prc: 0.2228\n",
      "Epoch 50/100\n",
      "485/485 [==============================] - 5s 10ms/step - loss: 0.6097 - tp: 15730.0000 - fp: 80586.0000 - tn: 145472.0000 - fn: 6488.0000 - accuracy: 0.6493 - precision: 0.1633 - recall: 0.7080 - auc: 0.7328 - prc: 0.2024 - val_loss: 0.6508 - val_tp: 17029.0000 - val_fp: 89460.0000 - val_tn: 136598.0000 - val_fn: 5189.0000 - val_accuracy: 0.6188 - val_precision: 0.1599 - val_recall: 0.7665 - val_auc: 0.7490 - val_prc: 0.2235\n",
      "Epoch 51/100\n",
      "485/485 [==============================] - 5s 11ms/step - loss: 0.6052 - tp: 15881.0000 - fp: 80685.0000 - tn: 145373.0000 - fn: 6337.0000 - accuracy: 0.6495 - precision: 0.1645 - recall: 0.7148 - auc: 0.7351 - prc: 0.2051 - val_loss: 0.6735 - val_tp: 16467.0000 - val_fp: 83947.0000 - val_tn: 142111.0000 - val_fn: 5751.0000 - val_accuracy: 0.6387 - val_precision: 0.1640 - val_recall: 0.7412 - val_auc: 0.7490 - val_prc: 0.2243\n",
      "Epoch 52/100\n",
      "485/485 [==============================] - 5s 11ms/step - loss: 0.6049 - tp: 16038.0000 - fp: 82678.0000 - tn: 143380.0000 - fn: 6180.0000 - accuracy: 0.6421 - precision: 0.1625 - recall: 0.7218 - auc: 0.7350 - prc: 0.2046 - val_loss: 0.6893 - val_tp: 17715.0000 - val_fp: 98626.0000 - val_tn: 127432.0000 - val_fn: 4503.0000 - val_accuracy: 0.5846 - val_precision: 0.1523 - val_recall: 0.7973 - val_auc: 0.7466 - val_prc: 0.2217\n",
      "Epoch 53/100\n",
      "485/485 [==============================] - 5s 11ms/step - loss: 0.6043 - tp: 15953.0000 - fp: 81675.0000 - tn: 144383.0000 - fn: 6265.0000 - accuracy: 0.6458 - precision: 0.1634 - recall: 0.7180 - auc: 0.7356 - prc: 0.2059 - val_loss: 0.6540 - val_tp: 16660.0000 - val_fp: 86399.0000 - val_tn: 139659.0000 - val_fn: 5558.0000 - val_accuracy: 0.6296 - val_precision: 0.1617 - val_recall: 0.7498 - val_auc: 0.7474 - val_prc: 0.2193\n",
      "Epoch 54/100\n",
      "485/485 [==============================] - 5s 11ms/step - loss: 0.6069 - tp: 15860.0000 - fp: 81071.0000 - tn: 144987.0000 - fn: 6358.0000 - accuracy: 0.6479 - precision: 0.1636 - recall: 0.7138 - auc: 0.7347 - prc: 0.2040 - val_loss: 0.7031 - val_tp: 17393.0000 - val_fp: 94664.0000 - val_tn: 131394.0000 - val_fn: 4825.0000 - val_accuracy: 0.5993 - val_precision: 0.1552 - val_recall: 0.7828 - val_auc: 0.7469 - val_prc: 0.2201\n",
      "Epoch 55/100\n"
     ]
    },
    {
     "name": "stdout",
     "output_type": "stream",
     "text": [
      "485/485 [==============================] - 5s 10ms/step - loss: 0.6144 - tp: 15603.0000 - fp: 79423.0000 - tn: 146635.0000 - fn: 6615.0000 - accuracy: 0.6535 - precision: 0.1642 - recall: 0.7023 - auc: 0.7298 - prc: 0.1986 - val_loss: 0.6465 - val_tp: 16446.0000 - val_fp: 83779.0000 - val_tn: 142279.0000 - val_fn: 5772.0000 - val_accuracy: 0.6393 - val_precision: 0.1641 - val_recall: 0.7402 - val_auc: 0.7472 - val_prc: 0.2187\n",
      "Epoch 56/100\n",
      "485/485 [==============================] - 5s 10ms/step - loss: 0.6054 - tp: 15956.0000 - fp: 82161.0000 - tn: 143897.0000 - fn: 6262.0000 - accuracy: 0.6439 - precision: 0.1626 - recall: 0.7182 - auc: 0.7345 - prc: 0.2054 - val_loss: 0.6812 - val_tp: 17125.0000 - val_fp: 91552.0000 - val_tn: 134506.0000 - val_fn: 5093.0000 - val_accuracy: 0.6107 - val_precision: 0.1576 - val_recall: 0.7708 - val_auc: 0.7478 - val_prc: 0.2214\n",
      "Epoch 57/100\n",
      "485/485 [==============================] - 5s 10ms/step - loss: 0.6053 - tp: 16025.0000 - fp: 82224.0000 - tn: 143834.0000 - fn: 6193.0000 - accuracy: 0.6439 - precision: 0.1631 - recall: 0.7213 - auc: 0.7346 - prc: 0.2032 - val_loss: 0.6065 - val_tp: 16902.0000 - val_fp: 88272.0000 - val_tn: 137786.0000 - val_fn: 5316.0000 - val_accuracy: 0.6230 - val_precision: 0.1607 - val_recall: 0.7607 - val_auc: 0.7481 - val_prc: 0.2216\n",
      "Epoch 58/100\n",
      "485/485 [==============================] - 5s 10ms/step - loss: 0.6056 - tp: 15858.0000 - fp: 80199.0000 - tn: 145859.0000 - fn: 6360.0000 - accuracy: 0.6514 - precision: 0.1651 - recall: 0.7137 - auc: 0.7345 - prc: 0.2041 - val_loss: 0.6649 - val_tp: 17095.0000 - val_fp: 91004.0000 - val_tn: 135054.0000 - val_fn: 5123.0000 - val_accuracy: 0.6128 - val_precision: 0.1581 - val_recall: 0.7694 - val_auc: 0.7474 - val_prc: 0.2200\n",
      "Epoch 59/100\n",
      "485/485 [==============================] - 5s 10ms/step - loss: 0.6054 - tp: 15937.0000 - fp: 82203.0000 - tn: 143855.0000 - fn: 6281.0000 - accuracy: 0.6436 - precision: 0.1624 - recall: 0.7173 - auc: 0.7346 - prc: 0.2040 - val_loss: 0.6094 - val_tp: 15930.0000 - val_fp: 78343.0000 - val_tn: 147715.0000 - val_fn: 6288.0000 - val_accuracy: 0.6591 - val_precision: 0.1690 - val_recall: 0.7170 - val_auc: 0.7484 - val_prc: 0.2230\n",
      "Epoch 60/100\n",
      "485/485 [==============================] - 5s 11ms/step - loss: 0.6057 - tp: 15999.0000 - fp: 82075.0000 - tn: 143983.0000 - fn: 6219.0000 - accuracy: 0.6444 - precision: 0.1631 - recall: 0.7201 - auc: 0.7349 - prc: 0.2070 - val_loss: 0.6377 - val_tp: 16488.0000 - val_fp: 83999.0000 - val_tn: 142059.0000 - val_fn: 5730.0000 - val_accuracy: 0.6386 - val_precision: 0.1641 - val_recall: 0.7421 - val_auc: 0.7485 - val_prc: 0.2242\n",
      "Epoch 61/100\n",
      "485/485 [==============================] - 5s 10ms/step - loss: 0.6047 - tp: 16012.0000 - fp: 82122.0000 - tn: 143936.0000 - fn: 6206.0000 - accuracy: 0.6442 - precision: 0.1632 - recall: 0.7207 - auc: 0.7355 - prc: 0.2046 - val_loss: 0.5828 - val_tp: 15964.0000 - val_fp: 78369.0000 - val_tn: 147689.0000 - val_fn: 6254.0000 - val_accuracy: 0.6592 - val_precision: 0.1692 - val_recall: 0.7185 - val_auc: 0.7497 - val_prc: 0.2240\n",
      "Epoch 62/100\n",
      "485/485 [==============================] - 5s 10ms/step - loss: 0.6058 - tp: 15811.0000 - fp: 80448.0000 - tn: 145610.0000 - fn: 6407.0000 - accuracy: 0.6502 - precision: 0.1643 - recall: 0.7116 - auc: 0.7347 - prc: 0.2039 - val_loss: 0.6091 - val_tp: 16458.0000 - val_fp: 83531.0000 - val_tn: 142527.0000 - val_fn: 5760.0000 - val_accuracy: 0.6404 - val_precision: 0.1646 - val_recall: 0.7408 - val_auc: 0.7492 - val_prc: 0.2230\n",
      "Epoch 63/100\n",
      "485/485 [==============================] - 5s 11ms/step - loss: 0.6051 - tp: 16023.0000 - fp: 82552.0000 - tn: 143506.0000 - fn: 6195.0000 - accuracy: 0.6425 - precision: 0.1625 - recall: 0.7212 - auc: 0.7346 - prc: 0.2062 - val_loss: 0.6351 - val_tp: 16979.0000 - val_fp: 88990.0000 - val_tn: 137068.0000 - val_fn: 5239.0000 - val_accuracy: 0.6205 - val_precision: 0.1602 - val_recall: 0.7642 - val_auc: 0.7491 - val_prc: 0.2240\n",
      "Epoch 64/100\n",
      "485/485 [==============================] - 5s 10ms/step - loss: 0.6064 - tp: 15866.0000 - fp: 81465.0000 - tn: 144593.0000 - fn: 6352.0000 - accuracy: 0.6463 - precision: 0.1630 - recall: 0.7141 - auc: 0.7347 - prc: 0.2035 - val_loss: 0.6055 - val_tp: 16098.0000 - val_fp: 79783.0000 - val_tn: 146275.0000 - val_fn: 6120.0000 - val_accuracy: 0.6540 - val_precision: 0.1679 - val_recall: 0.7245 - val_auc: 0.7490 - val_prc: 0.2240\n",
      "Epoch 65/100\n",
      "485/485 [==============================] - 5s 10ms/step - loss: 0.6054 - tp: 15878.0000 - fp: 80789.0000 - tn: 145269.0000 - fn: 6340.0000 - accuracy: 0.6491 - precision: 0.1643 - recall: 0.7146 - auc: 0.7348 - prc: 0.2046 - val_loss: 0.6390 - val_tp: 16925.0000 - val_fp: 88578.0000 - val_tn: 137480.0000 - val_fn: 5293.0000 - val_accuracy: 0.6219 - val_precision: 0.1604 - val_recall: 0.7618 - val_auc: 0.7492 - val_prc: 0.2245\n",
      "Epoch 66/100\n",
      "485/485 [==============================] - 5s 11ms/step - loss: 0.6054 - tp: 15840.0000 - fp: 80770.0000 - tn: 145288.0000 - fn: 6378.0000 - accuracy: 0.6490 - precision: 0.1640 - recall: 0.7129 - auc: 0.7355 - prc: 0.2062 - val_loss: 0.6589 - val_tp: 16445.0000 - val_fp: 83846.0000 - val_tn: 142212.0000 - val_fn: 5773.0000 - val_accuracy: 0.6390 - val_precision: 0.1640 - val_recall: 0.7402 - val_auc: 0.7491 - val_prc: 0.2240\n",
      "Epoch 67/100\n",
      "485/485 [==============================] - 5s 10ms/step - loss: 0.6119 - tp: 15319.0000 - fp: 78050.0000 - tn: 148008.0000 - fn: 6899.0000 - accuracy: 0.6578 - precision: 0.1641 - recall: 0.6895 - auc: 0.7290 - prc: 0.1987 - val_loss: 0.6131 - val_tp: 16659.0000 - val_fp: 86023.0000 - val_tn: 140035.0000 - val_fn: 5559.0000 - val_accuracy: 0.6311 - val_precision: 0.1622 - val_recall: 0.7498 - val_auc: 0.7489 - val_prc: 0.2250\n",
      "Epoch 68/100\n",
      "485/485 [==============================] - 5s 10ms/step - loss: 0.6049 - tp: 15607.0000 - fp: 78467.0000 - tn: 147591.0000 - fn: 6611.0000 - accuracy: 0.6573 - precision: 0.1659 - recall: 0.7024 - auc: 0.7351 - prc: 0.2054 - val_loss: 0.6348 - val_tp: 16378.0000 - val_fp: 84192.0000 - val_tn: 141866.0000 - val_fn: 5840.0000 - val_accuracy: 0.6374 - val_precision: 0.1629 - val_recall: 0.7372 - val_auc: 0.7481 - val_prc: 0.2228\n",
      "Epoch 69/100\n",
      "485/485 [==============================] - 5s 11ms/step - loss: 0.6044 - tp: 15747.0000 - fp: 79318.0000 - tn: 146740.0000 - fn: 6471.0000 - accuracy: 0.6545 - precision: 0.1656 - recall: 0.7087 - auc: 0.7372 - prc: 0.2071 - val_loss: 0.6168 - val_tp: 15596.0000 - val_fp: 74656.0000 - val_tn: 151402.0000 - val_fn: 6622.0000 - val_accuracy: 0.6726 - val_precision: 0.1728 - val_recall: 0.7020 - val_auc: 0.7486 - val_prc: 0.2254\n",
      "Epoch 70/100\n",
      "485/485 [==============================] - 5s 10ms/step - loss: 0.6035 - tp: 15723.0000 - fp: 78642.0000 - tn: 147416.0000 - fn: 6495.0000 - accuracy: 0.6571 - precision: 0.1666 - recall: 0.7077 - auc: 0.7369 - prc: 0.2083 - val_loss: 0.6096 - val_tp: 15344.0000 - val_fp: 73123.0000 - val_tn: 152935.0000 - val_fn: 6874.0000 - val_accuracy: 0.6778 - val_precision: 0.1734 - val_recall: 0.6906 - val_auc: 0.7486 - val_prc: 0.2232\n",
      "Epoch 71/100\n",
      "485/485 [==============================] - 5s 11ms/step - loss: 0.6045 - tp: 15797.0000 - fp: 79312.0000 - tn: 146746.0000 - fn: 6421.0000 - accuracy: 0.6547 - precision: 0.1661 - recall: 0.7110 - auc: 0.7368 - prc: 0.2072 - val_loss: 0.5705 - val_tp: 15766.0000 - val_fp: 77004.0000 - val_tn: 149054.0000 - val_fn: 6452.0000 - val_accuracy: 0.6639 - val_precision: 0.1699 - val_recall: 0.7096 - val_auc: 0.7492 - val_prc: 0.2251\n",
      "Epoch 72/100\n",
      "485/485 [==============================] - 5s 11ms/step - loss: 0.6040 - tp: 15978.0000 - fp: 81181.0000 - tn: 144877.0000 - fn: 6240.0000 - accuracy: 0.6479 - precision: 0.1645 - recall: 0.7191 - auc: 0.7363 - prc: 0.2056 - val_loss: 0.5794 - val_tp: 15527.0000 - val_fp: 74769.0000 - val_tn: 151289.0000 - val_fn: 6691.0000 - val_accuracy: 0.6719 - val_precision: 0.1720 - val_recall: 0.6988 - val_auc: 0.7483 - val_prc: 0.2232\n",
      "Epoch 73/100\n"
     ]
    },
    {
     "name": "stdout",
     "output_type": "stream",
     "text": [
      "485/485 [==============================] - 5s 10ms/step - loss: 0.6061 - tp: 15799.0000 - fp: 80043.0000 - tn: 146015.0000 - fn: 6419.0000 - accuracy: 0.6518 - precision: 0.1648 - recall: 0.7111 - auc: 0.7354 - prc: 0.2062 - val_loss: 0.5658 - val_tp: 15786.0000 - val_fp: 76295.0000 - val_tn: 149763.0000 - val_fn: 6432.0000 - val_accuracy: 0.6668 - val_precision: 0.1714 - val_recall: 0.7105 - val_auc: 0.7496 - val_prc: 0.2248\n",
      "Epoch 74/100\n",
      "485/485 [==============================] - 5s 10ms/step - loss: 0.6053 - tp: 15840.0000 - fp: 80433.0000 - tn: 145625.0000 - fn: 6378.0000 - accuracy: 0.6503 - precision: 0.1645 - recall: 0.7129 - auc: 0.7352 - prc: 0.2063 - val_loss: 0.5792 - val_tp: 16338.0000 - val_fp: 82579.0000 - val_tn: 143479.0000 - val_fn: 5880.0000 - val_accuracy: 0.6437 - val_precision: 0.1652 - val_recall: 0.7353 - val_auc: 0.7504 - val_prc: 0.2258\n",
      "Epoch 75/100\n",
      "485/485 [==============================] - 5s 10ms/step - loss: 0.6047 - tp: 15904.0000 - fp: 80577.0000 - tn: 145481.0000 - fn: 6314.0000 - accuracy: 0.6500 - precision: 0.1648 - recall: 0.7158 - auc: 0.7356 - prc: 0.2054 - val_loss: 0.5771 - val_tp: 16189.0000 - val_fp: 80017.0000 - val_tn: 146041.0000 - val_fn: 6029.0000 - val_accuracy: 0.6534 - val_precision: 0.1683 - val_recall: 0.7286 - val_auc: 0.7515 - val_prc: 0.2267\n",
      "Epoch 76/100\n",
      "485/485 [==============================] - 5s 11ms/step - loss: 0.6034 - tp: 15963.0000 - fp: 81076.0000 - tn: 144982.0000 - fn: 6255.0000 - accuracy: 0.6483 - precision: 0.1645 - recall: 0.7185 - auc: 0.7370 - prc: 0.2064 - val_loss: 0.5898 - val_tp: 16149.0000 - val_fp: 80171.0000 - val_tn: 145887.0000 - val_fn: 6069.0000 - val_accuracy: 0.6526 - val_precision: 0.1677 - val_recall: 0.7268 - val_auc: 0.7492 - val_prc: 0.2223\n",
      "Epoch 77/100\n",
      "485/485 [==============================] - 5s 10ms/step - loss: 0.6027 - tp: 16135.0000 - fp: 82805.0000 - tn: 143253.0000 - fn: 6083.0000 - accuracy: 0.6420 - precision: 0.1631 - recall: 0.7262 - auc: 0.7376 - prc: 0.2062 - val_loss: 0.6149 - val_tp: 16834.0000 - val_fp: 87707.0000 - val_tn: 138351.0000 - val_fn: 5384.0000 - val_accuracy: 0.6251 - val_precision: 0.1610 - val_recall: 0.7577 - val_auc: 0.7499 - val_prc: 0.2260\n",
      "Epoch 78/100\n",
      "485/485 [==============================] - 5s 10ms/step - loss: 0.6045 - tp: 15786.0000 - fp: 79757.0000 - tn: 146301.0000 - fn: 6432.0000 - accuracy: 0.6529 - precision: 0.1652 - recall: 0.7105 - auc: 0.7363 - prc: 0.2090 - val_loss: 0.5996 - val_tp: 16494.0000 - val_fp: 84234.0000 - val_tn: 141824.0000 - val_fn: 5724.0000 - val_accuracy: 0.6377 - val_precision: 0.1637 - val_recall: 0.7424 - val_auc: 0.7496 - val_prc: 0.2256\n",
      "Epoch 79/100\n",
      "485/485 [==============================] - 5s 11ms/step - loss: 0.6048 - tp: 15781.0000 - fp: 79591.0000 - tn: 146467.0000 - fn: 6437.0000 - accuracy: 0.6535 - precision: 0.1655 - recall: 0.7103 - auc: 0.7356 - prc: 0.2055 - val_loss: 0.5616 - val_tp: 15424.0000 - val_fp: 72918.0000 - val_tn: 153140.0000 - val_fn: 6794.0000 - val_accuracy: 0.6789 - val_precision: 0.1746 - val_recall: 0.6942 - val_auc: 0.7497 - val_prc: 0.2244\n",
      "Epoch 80/100\n",
      "485/485 [==============================] - 5s 10ms/step - loss: 0.6042 - tp: 15844.0000 - fp: 79918.0000 - tn: 146140.0000 - fn: 6374.0000 - accuracy: 0.6524 - precision: 0.1655 - recall: 0.7131 - auc: 0.7364 - prc: 0.2068 - val_loss: 0.5916 - val_tp: 16450.0000 - val_fp: 82841.0000 - val_tn: 143217.0000 - val_fn: 5768.0000 - val_accuracy: 0.6431 - val_precision: 0.1657 - val_recall: 0.7404 - val_auc: 0.7505 - val_prc: 0.2226\n",
      "Epoch 81/100\n",
      "485/485 [==============================] - 5s 10ms/step - loss: 0.6029 - tp: 15865.0000 - fp: 80448.0000 - tn: 145610.0000 - fn: 6353.0000 - accuracy: 0.6504 - precision: 0.1647 - recall: 0.7141 - auc: 0.7377 - prc: 0.2094 - val_loss: 0.6009 - val_tp: 16143.0000 - val_fp: 80062.0000 - val_tn: 145996.0000 - val_fn: 6075.0000 - val_accuracy: 0.6531 - val_precision: 0.1678 - val_recall: 0.7266 - val_auc: 0.7498 - val_prc: 0.2252\n",
      "Epoch 82/100\n",
      "485/485 [==============================] - 5s 11ms/step - loss: 0.6050 - tp: 15840.0000 - fp: 80492.0000 - tn: 145566.0000 - fn: 6378.0000 - accuracy: 0.6501 - precision: 0.1644 - recall: 0.7129 - auc: 0.7358 - prc: 0.2049 - val_loss: 0.5829 - val_tp: 16241.0000 - val_fp: 80571.0000 - val_tn: 145487.0000 - val_fn: 5977.0000 - val_accuracy: 0.6514 - val_precision: 0.1678 - val_recall: 0.7310 - val_auc: 0.7504 - val_prc: 0.2236\n",
      "Epoch 83/100\n",
      "485/485 [==============================] - 5s 10ms/step - loss: 0.6038 - tp: 16089.0000 - fp: 83079.0000 - tn: 142979.0000 - fn: 6129.0000 - accuracy: 0.6407 - precision: 0.1622 - recall: 0.7241 - auc: 0.7362 - prc: 0.2066 - val_loss: 0.5946 - val_tp: 16368.0000 - val_fp: 82205.0000 - val_tn: 143853.0000 - val_fn: 5850.0000 - val_accuracy: 0.6453 - val_precision: 0.1660 - val_recall: 0.7367 - val_auc: 0.7513 - val_prc: 0.2269\n",
      "Epoch 84/100\n",
      "485/485 [==============================] - 5s 11ms/step - loss: 0.6023 - tp: 15866.0000 - fp: 79657.0000 - tn: 146401.0000 - fn: 6352.0000 - accuracy: 0.6536 - precision: 0.1661 - recall: 0.7141 - auc: 0.7381 - prc: 0.2103 - val_loss: 0.5413 - val_tp: 15834.0000 - val_fp: 75930.0000 - val_tn: 150128.0000 - val_fn: 6384.0000 - val_accuracy: 0.6685 - val_precision: 0.1726 - val_recall: 0.7127 - val_auc: 0.7530 - val_prc: 0.2278\n",
      "Epoch 85/100\n",
      "485/485 [==============================] - 5s 11ms/step - loss: 0.6031 - tp: 15941.0000 - fp: 81261.0000 - tn: 144797.0000 - fn: 6277.0000 - accuracy: 0.6474 - precision: 0.1640 - recall: 0.7175 - auc: 0.7373 - prc: 0.2078 - val_loss: 0.5834 - val_tp: 15529.0000 - val_fp: 73890.0000 - val_tn: 152168.0000 - val_fn: 6689.0000 - val_accuracy: 0.6754 - val_precision: 0.1737 - val_recall: 0.6989 - val_auc: 0.7510 - val_prc: 0.2272\n",
      "Epoch 86/100\n",
      "485/485 [==============================] - 5s 11ms/step - loss: 0.6035 - tp: 16002.0000 - fp: 81959.0000 - tn: 144099.0000 - fn: 6216.0000 - accuracy: 0.6449 - precision: 0.1634 - recall: 0.7202 - auc: 0.7363 - prc: 0.2076 - val_loss: 0.5718 - val_tp: 15773.0000 - val_fp: 75974.0000 - val_tn: 150084.0000 - val_fn: 6445.0000 - val_accuracy: 0.6680 - val_precision: 0.1719 - val_recall: 0.7099 - val_auc: 0.7520 - val_prc: 0.2281\n",
      "Epoch 87/100\n",
      "485/485 [==============================] - 5s 11ms/step - loss: 0.6025 - tp: 15987.0000 - fp: 81191.0000 - tn: 144867.0000 - fn: 6231.0000 - accuracy: 0.6479 - precision: 0.1645 - recall: 0.7196 - auc: 0.7377 - prc: 0.2087 - val_loss: 0.5719 - val_tp: 15822.0000 - val_fp: 76121.0000 - val_tn: 149937.0000 - val_fn: 6396.0000 - val_accuracy: 0.6676 - val_precision: 0.1721 - val_recall: 0.7121 - val_auc: 0.7518 - val_prc: 0.2285\n",
      "Epoch 88/100\n",
      "485/485 [==============================] - 5s 10ms/step - loss: 0.6028 - tp: 15988.0000 - fp: 81161.0000 - tn: 144897.0000 - fn: 6230.0000 - accuracy: 0.6480 - precision: 0.1646 - recall: 0.7196 - auc: 0.7374 - prc: 0.2075 - val_loss: 0.5609 - val_tp: 15722.0000 - val_fp: 75485.0000 - val_tn: 150573.0000 - val_fn: 6496.0000 - val_accuracy: 0.6698 - val_precision: 0.1724 - val_recall: 0.7076 - val_auc: 0.7524 - val_prc: 0.2290\n",
      "Epoch 89/100\n",
      "485/485 [==============================] - 5s 10ms/step - loss: 0.6030 - tp: 15969.0000 - fp: 81660.0000 - tn: 144398.0000 - fn: 6249.0000 - accuracy: 0.6459 - precision: 0.1636 - recall: 0.7187 - auc: 0.7373 - prc: 0.2076 - val_loss: 0.5510 - val_tp: 15781.0000 - val_fp: 75854.0000 - val_tn: 150204.0000 - val_fn: 6437.0000 - val_accuracy: 0.6686 - val_precision: 0.1722 - val_recall: 0.7103 - val_auc: 0.7525 - val_prc: 0.2278\n",
      "Epoch 90/100\n",
      "485/485 [==============================] - 5s 11ms/step - loss: 0.6022 - tp: 15941.0000 - fp: 80781.0000 - tn: 145277.0000 - fn: 6277.0000 - accuracy: 0.6493 - precision: 0.1648 - recall: 0.7175 - auc: 0.7380 - prc: 0.2083 - val_loss: 0.5930 - val_tp: 15906.0000 - val_fp: 77410.0000 - val_tn: 148648.0000 - val_fn: 6312.0000 - val_accuracy: 0.6628 - val_precision: 0.1705 - val_recall: 0.7159 - val_auc: 0.7519 - val_prc: 0.2270\n",
      "Epoch 91/100\n",
      "485/485 [==============================] - 5s 10ms/step - loss: 0.6011 - tp: 15997.0000 - fp: 80979.0000 - tn: 145079.0000 - fn: 6221.0000 - accuracy: 0.6488 - precision: 0.1650 - recall: 0.7200 - auc: 0.7391 - prc: 0.2093 - val_loss: 0.5578 - val_tp: 15772.0000 - val_fp: 75522.0000 - val_tn: 150536.0000 - val_fn: 6446.0000 - val_accuracy: 0.6699 - val_precision: 0.1728 - val_recall: 0.7099 - val_auc: 0.7510 - val_prc: 0.2261\n"
     ]
    },
    {
     "name": "stdout",
     "output_type": "stream",
     "text": [
      "Epoch 92/100\n",
      "485/485 [==============================] - 5s 10ms/step - loss: 0.6021 - tp: 16089.0000 - fp: 81849.0000 - tn: 144209.0000 - fn: 6129.0000 - accuracy: 0.6456 - precision: 0.1643 - recall: 0.7241 - auc: 0.7384 - prc: 0.2079 - val_loss: 0.5535 - val_tp: 15611.0000 - val_fp: 74559.0000 - val_tn: 151499.0000 - val_fn: 6607.0000 - val_accuracy: 0.6731 - val_precision: 0.1731 - val_recall: 0.7026 - val_auc: 0.7523 - val_prc: 0.2283\n",
      "Epoch 93/100\n",
      "485/485 [==============================] - 5s 10ms/step - loss: 0.6019 - tp: 16073.0000 - fp: 82072.0000 - tn: 143986.0000 - fn: 6145.0000 - accuracy: 0.6447 - precision: 0.1638 - recall: 0.7234 - auc: 0.7384 - prc: 0.2091 - val_loss: 0.5546 - val_tp: 15392.0000 - val_fp: 72199.0000 - val_tn: 153859.0000 - val_fn: 6826.0000 - val_accuracy: 0.6817 - val_precision: 0.1757 - val_recall: 0.6928 - val_auc: 0.7525 - val_prc: 0.2283\n",
      "Epoch 94/100\n",
      "485/485 [==============================] - 5s 10ms/step - loss: 0.6015 - tp: 15988.0000 - fp: 80978.0000 - tn: 145080.0000 - fn: 6230.0000 - accuracy: 0.6487 - precision: 0.1649 - recall: 0.7196 - auc: 0.7388 - prc: 0.2117 - val_loss: 0.5500 - val_tp: 15478.0000 - val_fp: 73311.0000 - val_tn: 152747.0000 - val_fn: 6740.0000 - val_accuracy: 0.6776 - val_precision: 0.1743 - val_recall: 0.6966 - val_auc: 0.7519 - val_prc: 0.2270\n",
      "Epoch 95/100\n",
      "485/485 [==============================] - 5s 10ms/step - loss: 0.6016 - tp: 16054.0000 - fp: 81762.0000 - tn: 144296.0000 - fn: 6164.0000 - accuracy: 0.6459 - precision: 0.1641 - recall: 0.7226 - auc: 0.7387 - prc: 0.2101 - val_loss: 0.5766 - val_tp: 15961.0000 - val_fp: 77267.0000 - val_tn: 148791.0000 - val_fn: 6257.0000 - val_accuracy: 0.6636 - val_precision: 0.1712 - val_recall: 0.7184 - val_auc: 0.7524 - val_prc: 0.2261\n",
      "Epoch 96/100\n",
      "485/485 [==============================] - 5s 10ms/step - loss: 0.6026 - tp: 15992.0000 - fp: 81097.0000 - tn: 144961.0000 - fn: 6226.0000 - accuracy: 0.6483 - precision: 0.1647 - recall: 0.7198 - auc: 0.7387 - prc: 0.2103 - val_loss: 0.5400 - val_tp: 14842.0000 - val_fp: 67603.0000 - val_tn: 158455.0000 - val_fn: 7376.0000 - val_accuracy: 0.6980 - val_precision: 0.1800 - val_recall: 0.6680 - val_auc: 0.7525 - val_prc: 0.2296\n",
      "Epoch 97/100\n",
      "485/485 [==============================] - 5s 11ms/step - loss: 0.6017 - tp: 15985.0000 - fp: 80666.0000 - tn: 145392.0000 - fn: 6233.0000 - accuracy: 0.6500 - precision: 0.1654 - recall: 0.7195 - auc: 0.7383 - prc: 0.2093 - val_loss: 0.5495 - val_tp: 15355.0000 - val_fp: 72094.0000 - val_tn: 153964.0000 - val_fn: 6863.0000 - val_accuracy: 0.6820 - val_precision: 0.1756 - val_recall: 0.6911 - val_auc: 0.7520 - val_prc: 0.2261\n",
      "Epoch 98/100\n",
      "485/485 [==============================] - 5s 10ms/step - loss: 0.6011 - tp: 15979.0000 - fp: 80808.0000 - tn: 145250.0000 - fn: 6239.0000 - accuracy: 0.6494 - precision: 0.1651 - recall: 0.7192 - auc: 0.7392 - prc: 0.2099 - val_loss: 0.5610 - val_tp: 15821.0000 - val_fp: 75986.0000 - val_tn: 150072.0000 - val_fn: 6397.0000 - val_accuracy: 0.6682 - val_precision: 0.1723 - val_recall: 0.7121 - val_auc: 0.7521 - val_prc: 0.2267\n",
      "Epoch 99/100\n",
      "485/485 [==============================] - 5s 10ms/step - loss: 0.6030 - tp: 16046.0000 - fp: 81553.0000 - tn: 144505.0000 - fn: 6172.0000 - accuracy: 0.6467 - precision: 0.1644 - recall: 0.7222 - auc: 0.7374 - prc: 0.2074 - val_loss: 0.5660 - val_tp: 15466.0000 - val_fp: 72832.0000 - val_tn: 153226.0000 - val_fn: 6752.0000 - val_accuracy: 0.6795 - val_precision: 0.1752 - val_recall: 0.6961 - val_auc: 0.7521 - val_prc: 0.2278\n",
      "Epoch 100/100\n",
      "485/485 [==============================] - 5s 11ms/step - loss: 0.6021 - tp: 15974.0000 - fp: 81185.0000 - tn: 144873.0000 - fn: 6244.0000 - accuracy: 0.6479 - precision: 0.1644 - recall: 0.7190 - auc: 0.7390 - prc: 0.2104 - val_loss: 0.5803 - val_tp: 15957.0000 - val_fp: 77472.0000 - val_tn: 148586.0000 - val_fn: 6261.0000 - val_accuracy: 0.6627 - val_precision: 0.1708 - val_recall: 0.7182 - val_auc: 0.7521 - val_prc: 0.2273\n"
     ]
    }
   ],
   "source": [
    "with comet_exp.train():\n",
    "    weighted_history = weighted_model.fit(\n",
    "    x=train_ds,\n",
    "    epochs=EPOCHS,\n",
    "    #callbacks=[stop_early],\n",
    "    validation_data=val_ds,\n",
    "    # class weights\n",
    "    class_weight=class_weight)"
   ]
  },
  {
   "cell_type": "code",
   "execution_count": 107,
   "id": "d4791e39",
   "metadata": {},
   "outputs": [],
   "source": [
    "def plot_metrics(history):\n",
    "    metrics = ['loss', 'prc', 'precision', 'recall']\n",
    "    for n, metric in enumerate(metrics):\n",
    "        name = metric.replace(\"_\",\" \").capitalize()\n",
    "        plt.subplot(2,2,n+1)\n",
    "        plt.plot(history.epoch, history.history[metric], color=colors[0], label='Train')\n",
    "        plt.plot(history.epoch, history.history['val_'+metric],\n",
    "                 color=colors[0], linestyle=\"--\", label='Val')\n",
    "        plt.xlabel('Epoch')\n",
    "        plt.ylabel(name)\n",
    "        if metric == 'loss':\n",
    "            plt.ylim([0, plt.ylim()[1]])\n",
    "        elif metric == 'auc':\n",
    "            plt.ylim([0.8,1])\n",
    "        else:\n",
    "            plt.ylim([0,1])\n",
    "\n",
    "        plt.legend()"
   ]
  },
  {
   "cell_type": "code",
   "execution_count": 108,
   "id": "3d43aecc",
   "metadata": {},
   "outputs": [
    {
     "data": {
      "text/plain": [
       "['loss',\n",
       " 'tp',\n",
       " 'fp',\n",
       " 'tn',\n",
       " 'fn',\n",
       " 'accuracy',\n",
       " 'precision',\n",
       " 'recall',\n",
       " 'auc',\n",
       " 'prc']"
      ]
     },
     "execution_count": 108,
     "metadata": {},
     "output_type": "execute_result"
    }
   ],
   "source": [
    "weighted_model.metrics_names"
   ]
  },
  {
   "cell_type": "code",
   "execution_count": 109,
   "id": "8317c8dd",
   "metadata": {},
   "outputs": [
    {
     "data": {
      "text/plain": [
       "{'web': 'https://www.comet.ml/api/image/download?imageId=2a54abfd6ae344938e7070d9fa60a026&experimentKey=50331850708a45f7a6a22f8c7b8d2ac3',\n",
       " 'api': 'https://www.comet.ml/api/rest/v1/image/get-image?imageId=2a54abfd6ae344938e7070d9fa60a026&experimentKey=50331850708a45f7a6a22f8c7b8d2ac3',\n",
       " 'imageId': '2a54abfd6ae344938e7070d9fa60a026'}"
      ]
     },
     "execution_count": 109,
     "metadata": {},
     "output_type": "execute_result"
    },
    {
     "data": {
      "image/png": "[encoded data removed]",
      "text/plain": [
       "<Figure size 864x720 with 4 Axes>"
      ]
     },
     "metadata": {
      "needs_background": "light"
     },
     "output_type": "display_data"
    }
   ],
   "source": [
    "plot_metrics(weighted_history)\n",
    "comet_exp.log_figure(figure=plt)"
   ]
  },
  {
   "cell_type": "code",
   "execution_count": 110,
   "id": "ae065966",
   "metadata": {
    "scrolled": true
   },
   "outputs": [
    {
     "name": "stdout",
     "output_type": "stream",
     "text": [
      "485/485 [==============================] - 2s 4ms/step - loss: 0.5803 - tp: 15957.0000 - fp: 77472.0000 - tn: 148586.0000 - fn: 6261.0000 - accuracy: 0.6627 - precision: 0.1708 - recall: 0.7182 - auc: 0.7521 - prc: 0.2273\n",
      "loss :  0.580315351486206\n",
      "tp :  15957.0\n",
      "fp :  77472.0\n",
      "tn :  148586.0\n",
      "fn :  6261.0\n",
      "accuracy :  0.6627422571182251\n",
      "precision :  0.17079278826713562\n",
      "recall :  0.7182014584541321\n",
      "auc :  0.752054750919342\n",
      "prc :  0.22728924453258514\n",
      "\n"
     ]
    }
   ],
   "source": [
    "results = weighted_model.evaluate(val_ds)\n",
    "\n",
    "for name, value in zip(weighted_model.metrics_names, results):\n",
    "    print(name, ': ', value)\n",
    "print()"
   ]
  },
  {
   "cell_type": "code",
   "execution_count": 111,
   "id": "2a74c48e",
   "metadata": {
    "scrolled": true
   },
   "outputs": [
    {
     "name": "stdout",
     "output_type": "stream",
     "text": [
      "485/485 [==============================] - 2s 3ms/step\n"
     ]
    }
   ],
   "source": [
    "y_proba_val = weighted_model.predict(val_ds, verbose=1)"
   ]
  },
  {
   "cell_type": "code",
   "execution_count": 112,
   "id": "5c35a4b1",
   "metadata": {},
   "outputs": [
    {
     "data": {
      "text/plain": [
       "array([0.40867466, 0.8225095 , 0.01696908, ..., 0.7858704 , 0.04583094,\n",
       "       0.68595225], dtype=float32)"
      ]
     },
     "execution_count": 112,
     "metadata": {},
     "output_type": "execute_result"
    }
   ],
   "source": [
    "y_proba_val = np.concatenate([y for y in y_proba_val], axis=0)\n",
    "y_proba_val"
   ]
  },
  {
   "cell_type": "code",
   "execution_count": 113,
   "id": "70c989a1",
   "metadata": {
    "scrolled": true
   },
   "outputs": [],
   "source": [
    "threshold = 0.5\n",
    "y_pred_val = np.where(y_proba_val > threshold, 1,0)"
   ]
  },
  {
   "cell_type": "code",
   "execution_count": 114,
   "id": "a687899d",
   "metadata": {},
   "outputs": [
    {
     "data": {
      "text/plain": [
       "93429"
      ]
     },
     "execution_count": 114,
     "metadata": {},
     "output_type": "execute_result"
    }
   ],
   "source": [
    "y_pred_val.sum()"
   ]
  },
  {
   "cell_type": "code",
   "execution_count": 115,
   "id": "d96e80cd",
   "metadata": {},
   "outputs": [],
   "source": [
    "val_y_true = np.concatenate([y for x, y in val_ds], axis=0)"
   ]
  },
  {
   "cell_type": "code",
   "execution_count": 116,
   "id": "eb4377b0",
   "metadata": {
    "scrolled": true
   },
   "outputs": [
    {
     "data": {
      "text/plain": [
       "22218"
      ]
     },
     "execution_count": 116,
     "metadata": {},
     "output_type": "execute_result"
    }
   ],
   "source": [
    "val_y_true.sum()"
   ]
  },
  {
   "cell_type": "code",
   "execution_count": null,
   "id": "0447a1ec",
   "metadata": {},
   "outputs": [],
   "source": []
  },
  {
   "cell_type": "markdown",
   "id": "20e42ce0",
   "metadata": {},
   "source": [
    "# Prepare for Comet Logs"
   ]
  },
  {
   "cell_type": "code",
   "execution_count": 117,
   "id": "cbe83754",
   "metadata": {},
   "outputs": [],
   "source": [
    "#these will all get logged\n",
    "params={'batch_size':BATCH_SIZE,\n",
    "        'epochs':EPOCHS,\n",
    "        'layer_num':4,\n",
    "        'optimizer':'adam',\n",
    "        'learning_rate':LEARNING_RATE\n",
    "}"
   ]
  },
  {
   "cell_type": "code",
   "execution_count": 75,
   "id": "839a0704",
   "metadata": {},
   "outputs": [],
   "source": [
    "#will log metrics with the prefix 'test_'\n",
    "# with experiment.test():\n",
    "#     results = model.evaluate(x_test, y_test)\n",
    "    \n",
    "#     experiment.log_metrics(metrics)"
   ]
  },
  {
   "cell_type": "code",
   "execution_count": 76,
   "id": "bb644ac5",
   "metadata": {},
   "outputs": [],
   "source": [
    "# results = weighted_model.evaluate(test_ds)\n",
    "# for name, value in zip(weighted_model.metrics_names, results):\n",
    "#     print(name, ': ', value)"
   ]
  },
  {
   "cell_type": "code",
   "execution_count": 118,
   "id": "0678502f",
   "metadata": {},
   "outputs": [],
   "source": [
    "comet_exp.log_parameters(params)"
   ]
  },
  {
   "cell_type": "code",
   "execution_count": null,
   "id": "75487bde",
   "metadata": {},
   "outputs": [],
   "source": [
    "weights_dir = \"../ift6758/models/weights\"\n",
    "experiment = \"Neural-Net-with-FE2\"\n",
    "predscore_val_dict={}"
   ]
  },
  {
   "cell_type": "code",
   "execution_count": null,
   "id": "3d60f7e4",
   "metadata": {},
   "outputs": [],
   "source": [
    "# import joblib\n",
    "\n",
    "# predscore_val_dict[experiment]={}\n",
    "# predscore_val_dict[experiment]['true_valid_label']=y_valid\n",
    "# predscore_val_dict[experiment]['proba']=y_proba_val\n",
    "# predscore_val_dict[experiment]['prediction']=y_pred_val\n",
    "\n",
    "# ## Dumping model\n",
    "# filename=f\"{weights_dir}/{experiment}.pkl\"\n",
    "# filename\n",
    "# joblib.dump(model,filename)"
   ]
  },
  {
   "cell_type": "code",
   "execution_count": 120,
   "id": "de96804f",
   "metadata": {},
   "outputs": [
    {
     "name": "stderr",
     "output_type": "stream",
     "text": [
      "COMET INFO: ---------------------------\n",
      "COMET INFO: Comet.ml Experiment Summary\n",
      "COMET INFO: ---------------------------\n",
      "COMET INFO:   Data:\n",
      "COMET INFO:     display_summary_level : 1\n",
      "COMET INFO:     url                   : https://www.comet.ml/morph-e/milestone-2/50331850708a45f7a6a22f8c7b8d2ac3\n",
      "COMET INFO:   Metrics [count] (min, max):\n",
      "COMET INFO:     train_accuracy [243]             : (0.5663697123527527, 0.6879883408546448)\n",
      "COMET INFO:     train_auc [243]                  : (0.6751080751419067, 0.7392146587371826)\n",
      "COMET INFO:     train_batch_accuracy [11907]     : (0.4986454248428345, 0.90234375)\n",
      "COMET INFO:     train_batch_auc [11907]          : (0.48664534091949463, 0.7892628312110901)\n",
      "COMET INFO:     train_batch_fn [11907]           : (6.0, 10816.0)\n",
      "COMET INFO:     train_batch_fp [11907]           : (8.0, 203762.0)\n",
      "COMET INFO:     train_batch_loss [11907]         : (0.5408026576042175, 1.3990635871887207)\n",
      "COMET INFO:     train_batch_prc [11907]          : (0.08611840009689331, 0.3024900555610657)\n",
      "COMET INFO:     train_batch_precision [11907]    : (0.0, 0.20000000298023224)\n",
      "COMET INFO:     train_batch_recall [11907]       : (0.0, 0.8636363744735718)\n",
      "COMET INFO:     train_batch_tn [11907]           : (247.0, 246515.0)\n",
      "COMET INFO:     train_batch_tp [11907]           : (0.0, 33455.0)\n",
      "COMET INFO:     train_epoch_duration [243]       : (4.406000000075437, 8.625)\n",
      "COMET INFO:     train_fn [243]                   : (5428.0, 10858.0)\n",
      "COMET INFO:     train_fp [243]                   : (69716.0, 204462.0)\n",
      "COMET INFO:     train_loss [243]                 : (0.6010749936103821, 0.6539713144302368)\n",
      "COMET INFO:     train_prc [243]                  : (0.15863919258117676, 0.2116749882698059)\n",
      "COMET INFO:     train_precision [243]            : (0.14106032252311707, 0.17187146842479706)\n",
      "COMET INFO:     train_recall [243]               : (0.6474480032920837, 0.7556935548782349)\n",
      "COMET INFO:     train_tn [243]                   : (133479.0, 247654.0)\n",
      "COMET INFO:     train_tp [243]                   : (14385.0, 33578.0)\n",
      "COMET INFO:     train_val_accuracy [243]         : (0.45055100321769714, 0.7102740406990051)\n",
      "COMET INFO:     train_val_auc [243]              : (0.7106112241744995, 0.7529582977294922)\n",
      "COMET INFO:     train_val_fn [243]               : (2692.0, 8227.0)\n",
      "COMET INFO:     train_val_fp [243]               : (63799.0, 133333.0)\n",
      "COMET INFO:     train_val_loss [243]             : (0.5050494074821472, 0.9623366594314575)\n",
      "COMET INFO:     train_val_prc [243]              : (0.15579737722873688, 0.22957466542720795)\n",
      "COMET INFO:     train_val_precision [243]        : (0.12550747394561768, 0.18084587156772614)\n",
      "COMET INFO:     train_val_recall [243]           : (0.6297146677970886, 0.878836989402771)\n",
      "COMET INFO:     train_val_tn [243]               : (92725.0, 162259.0)\n",
      "COMET INFO:     train_val_tp [243]               : (13991.0, 19526.0)\n",
      "COMET INFO:     validate_batch_accuracy [11907]  : (0.4493977427482605, 0.72265625)\n",
      "COMET INFO:     validate_batch_auc [11907]       : (0.7096935510635376, 0.7736257314682007)\n",
      "COMET INFO:     validate_batch_fn [11907]        : (3.0, 8168.0)\n",
      "COMET INFO:     validate_batch_fp [11907]        : (128.0, 132260.0)\n",
      "COMET INFO:     validate_batch_loss [11907]      : (0.4681297242641449, 0.9657111167907715)\n",
      "COMET INFO:     validate_batch_prc [11907]       : (0.15488308668136597, 0.2590026259422302)\n",
      "COMET INFO:     validate_batch_precision [11907] : (0.12461256980895996, 0.18987341225147247)\n",
      "COMET INFO:     validate_batch_recall [11907]    : (0.6283649206161499, 0.9318181872367859)\n",
      "COMET INFO:     validate_batch_tn [11907]        : (202.0, 160940.0)\n",
      "COMET INFO:     validate_batch_tp [11907]        : (28.0, 19372.0)\n",
      "COMET INFO:   Others [count]:\n",
      "COMET INFO:     train_trainable_params [3] : 11361\n",
      "COMET INFO:   Parameters [count]:\n",
      "COMET INFO:     batch_size               : 512\n",
      "COMET INFO:     layer_num [2]            : 4\n",
      "COMET INFO:     learning_rate            : 0.01\n",
      "COMET INFO:     optimizer                : adam\n",
      "COMET INFO:     train_Adam_amsgrad       : 1\n",
      "COMET INFO:     train_Adam_beta_1        : 0.9\n",
      "COMET INFO:     train_Adam_beta_2        : 0.999\n",
      "COMET INFO:     train_Adam_decay         : 1\n",
      "COMET INFO:     train_Adam_epsilon       : 1e-07\n",
      "COMET INFO:     train_Adam_learning_rate : 0.01\n",
      "COMET INFO:     train_Adam_name          : Adam\n",
      "COMET INFO:     train_epochs             : 100\n",
      "COMET INFO:     train_steps              : 485\n",
      "COMET INFO:   Uploads [count]:\n",
      "COMET INFO:     code                     : 1 (22 KB)\n",
      "COMET INFO:     environment details      : 1\n",
      "COMET INFO:     figures [3]              : 3\n",
      "COMET INFO:     filename                 : 1\n",
      "COMET INFO:     git metadata             : 1\n",
      "COMET INFO:     git-patch (uncompressed) : 1 (6 MB)\n",
      "COMET INFO:     installed packages       : 1\n",
      "COMET INFO:     model graph              : 1\n",
      "COMET INFO: ---------------------------\n"
     ]
    },
    {
     "ename": "AttributeError",
     "evalue": "'CPULoggingThread' object has no attribute 'isAlive'",
     "output_type": "error",
     "traceback": [
      "\u001b[1;31m---------------------------------------------------------------------------\u001b[0m",
      "\u001b[1;31mAttributeError\u001b[0m                            Traceback (most recent call last)",
      "\u001b[1;32m~\\AppData\\Local\\Temp/ipykernel_14556/1290868294.py\u001b[0m in \u001b[0;36m<module>\u001b[1;34m\u001b[0m\n\u001b[1;32m----> 1\u001b[1;33m \u001b[0mcomet_exp\u001b[0m\u001b[1;33m.\u001b[0m\u001b[0mend\u001b[0m\u001b[1;33m(\u001b[0m\u001b[1;33m)\u001b[0m\u001b[1;33m\u001b[0m\u001b[1;33m\u001b[0m\u001b[0m\n\u001b[0m",
      "\u001b[1;32m~\\anaconda3\\envs\\ift6758-conda-env\\lib\\site-packages\\comet_ml\\experiment.py\u001b[0m in \u001b[0;36mend\u001b[1;34m(self)\u001b[0m\n\u001b[0;32m    356\u001b[0m             \u001b[0msource_code\u001b[0m \u001b[1;33m=\u001b[0m \u001b[0mget_jupyter_source_code\u001b[0m\u001b[1;33m(\u001b[0m\u001b[1;33m)\u001b[0m\u001b[1;33m\u001b[0m\u001b[1;33m\u001b[0m\u001b[0m\n\u001b[0;32m    357\u001b[0m             \u001b[0mself\u001b[0m\u001b[1;33m.\u001b[0m\u001b[0m_set_code\u001b[0m\u001b[1;33m(\u001b[0m\u001b[0msource_code\u001b[0m\u001b[1;33m,\u001b[0m \u001b[0moverwrite\u001b[0m\u001b[1;33m=\u001b[0m\u001b[1;32mTrue\u001b[0m\u001b[1;33m)\u001b[0m\u001b[1;33m\u001b[0m\u001b[1;33m\u001b[0m\u001b[0m\n\u001b[1;32m--> 358\u001b[1;33m         \u001b[0mself\u001b[0m\u001b[1;33m.\u001b[0m\u001b[0m_on_end\u001b[0m\u001b[1;33m(\u001b[0m\u001b[0mwait\u001b[0m\u001b[1;33m=\u001b[0m\u001b[1;32mTrue\u001b[0m\u001b[1;33m)\u001b[0m\u001b[1;33m\u001b[0m\u001b[1;33m\u001b[0m\u001b[0m\n\u001b[0m\u001b[0;32m    359\u001b[0m \u001b[1;33m\u001b[0m\u001b[0m\n\u001b[0;32m    360\u001b[0m     \u001b[1;32mdef\u001b[0m \u001b[0mdisplay\u001b[0m\u001b[1;33m(\u001b[0m\u001b[0mself\u001b[0m\u001b[1;33m,\u001b[0m \u001b[0mclear\u001b[0m\u001b[1;33m=\u001b[0m\u001b[1;32mFalse\u001b[0m\u001b[1;33m,\u001b[0m \u001b[0mwait\u001b[0m\u001b[1;33m=\u001b[0m\u001b[1;32mTrue\u001b[0m\u001b[1;33m,\u001b[0m \u001b[0mnew\u001b[0m\u001b[1;33m=\u001b[0m\u001b[1;36m0\u001b[0m\u001b[1;33m,\u001b[0m \u001b[0mautoraise\u001b[0m\u001b[1;33m=\u001b[0m\u001b[1;32mTrue\u001b[0m\u001b[1;33m,\u001b[0m \u001b[0mtab\u001b[0m\u001b[1;33m=\u001b[0m\u001b[1;32mNone\u001b[0m\u001b[1;33m)\u001b[0m\u001b[1;33m:\u001b[0m\u001b[1;33m\u001b[0m\u001b[1;33m\u001b[0m\u001b[0m\n",
      "\u001b[1;32m~\\anaconda3\\envs\\ift6758-conda-env\\lib\\site-packages\\comet_ml\\__init__.py\u001b[0m in \u001b[0;36m_on_end\u001b[1;34m(self, wait)\u001b[0m\n\u001b[0;32m    349\u001b[0m         \u001b[0mend\u001b[0m \u001b[0mof\u001b[0m \u001b[0mthe\u001b[0m \u001b[0mscript\u001b[0m\u001b[1;33m\u001b[0m\u001b[1;33m\u001b[0m\u001b[0m\n\u001b[0;32m    350\u001b[0m         \"\"\"\n\u001b[1;32m--> 351\u001b[1;33m         \u001b[0msuccessful_clean\u001b[0m \u001b[1;33m=\u001b[0m \u001b[0msuper\u001b[0m\u001b[1;33m(\u001b[0m\u001b[0mExperiment\u001b[0m\u001b[1;33m,\u001b[0m \u001b[0mself\u001b[0m\u001b[1;33m)\u001b[0m\u001b[1;33m.\u001b[0m\u001b[0m_on_end\u001b[0m\u001b[1;33m(\u001b[0m\u001b[0mwait\u001b[0m\u001b[1;33m=\u001b[0m\u001b[0mwait\u001b[0m\u001b[1;33m)\u001b[0m\u001b[1;33m\u001b[0m\u001b[1;33m\u001b[0m\u001b[0m\n\u001b[0m\u001b[0;32m    352\u001b[0m \u001b[1;33m\u001b[0m\u001b[0m\n\u001b[0;32m    353\u001b[0m         \u001b[1;32mif\u001b[0m \u001b[1;32mnot\u001b[0m \u001b[0msuccessful_clean\u001b[0m\u001b[1;33m:\u001b[0m\u001b[1;33m\u001b[0m\u001b[1;33m\u001b[0m\u001b[0m\n",
      "\u001b[1;32m~\\anaconda3\\envs\\ift6758-conda-env\\lib\\site-packages\\comet_ml\\experiment.py\u001b[0m in \u001b[0;36m_on_end\u001b[1;34m(self, wait)\u001b[0m\n\u001b[0;32m    482\u001b[0m                 LOGGER.debug(\n\u001b[0;32m    483\u001b[0m                     \u001b[1;34m\"CPU THREAD before join; cpu_thread.isAlive = %s\"\u001b[0m\u001b[1;33m,\u001b[0m\u001b[1;33m\u001b[0m\u001b[1;33m\u001b[0m\u001b[0m\n\u001b[1;32m--> 484\u001b[1;33m                     \u001b[0mself\u001b[0m\u001b[1;33m.\u001b[0m\u001b[0mcpu_thread\u001b[0m\u001b[1;33m.\u001b[0m\u001b[0misAlive\u001b[0m\u001b[1;33m(\u001b[0m\u001b[1;33m)\u001b[0m\u001b[1;33m,\u001b[0m\u001b[1;33m\u001b[0m\u001b[1;33m\u001b[0m\u001b[0m\n\u001b[0m\u001b[0;32m    485\u001b[0m                 )\n\u001b[0;32m    486\u001b[0m                 \u001b[0mself\u001b[0m\u001b[1;33m.\u001b[0m\u001b[0mcpu_thread\u001b[0m\u001b[1;33m.\u001b[0m\u001b[0mjoin\u001b[0m\u001b[1;33m(\u001b[0m\u001b[1;36m2\u001b[0m\u001b[1;33m)\u001b[0m\u001b[1;33m\u001b[0m\u001b[1;33m\u001b[0m\u001b[0m\n",
      "\u001b[1;31mAttributeError\u001b[0m: 'CPULoggingThread' object has no attribute 'isAlive'"
     ]
    }
   ],
   "source": [
    "comet_exp.end()"
   ]
  },
  {
   "cell_type": "markdown",
   "id": "84ff0fdc",
   "metadata": {},
   "source": [
    "## Plotting"
   ]
  },
  {
   "cell_type": "code",
   "execution_count": 119,
   "id": "30b41f81",
   "metadata": {},
   "outputs": [
    {
     "name": "stdout",
     "output_type": "stream",
     "text": [
      "              precision    recall  f1-score   support\n",
      "\n",
      "           0       0.96      0.66      0.78    226058\n",
      "           1       0.17      0.72      0.28     22218\n",
      "\n",
      "    accuracy                           0.66    248276\n",
      "   macro avg       0.57      0.69      0.53    248276\n",
      "weighted avg       0.89      0.66      0.74    248276\n",
      "\n"
     ]
    },
    {
     "data": {
      "text/plain": [
       "{'web': 'https://www.comet.ml/api/image/download?imageId=b58d216f2c3b46b3a87d6f0a574d16c7&experimentKey=50331850708a45f7a6a22f8c7b8d2ac3',\n",
       " 'api': 'https://www.comet.ml/api/rest/v1/image/get-image?imageId=b58d216f2c3b46b3a87d6f0a574d16c7&experimentKey=50331850708a45f7a6a22f8c7b8d2ac3',\n",
       " 'imageId': 'b58d216f2c3b46b3a87d6f0a574d16c7'}"
      ]
     },
     "execution_count": 119,
     "metadata": {},
     "output_type": "execute_result"
    },
    {
     "data": {
      "image/png": "[encoded data removed]",
      "text/plain": [
       "<Figure size 720x360 with 2 Axes>"
      ]
     },
     "metadata": {
      "needs_background": "light"
     },
     "output_type": "display_data"
    }
   ],
   "source": [
    "from ift6758.metrics import plot_metrics\n",
    "img_path = os.path.join(tempfile.mkdtemp(), 'imgs')\n",
    "\n",
    "plot_metrics.plotConfusion(val_y_true,y_pred_val, title='Confusion matrix for Neural Network validation set prediction')\n",
    "comet_exp.log_figure(figure=plt)"
   ]
  },
  {
   "cell_type": "code",
   "execution_count": 87,
   "id": "73aba181",
   "metadata": {
    "scrolled": false
   },
   "outputs": [
    {
     "data": {
      "image/png": "[encoded data removed]",
      "text/plain": [
       "<Figure size 864x720 with 1 Axes>"
      ]
     },
     "metadata": {
      "needs_background": "light"
     },
     "output_type": "display_data"
    },
    {
     "name": "stderr",
     "output_type": "stream",
     "text": [
      "COMET WARNING: Refuse to upload empty figure, please call log_figure before calling show\n",
      "COMET WARNING: Failing to save the matplotlib figure\n"
     ]
    },
    {
     "data": {
      "text/plain": [
       "<Figure size 864x720 with 0 Axes>"
      ]
     },
     "metadata": {},
     "output_type": "display_data"
    }
   ],
   "source": [
    "plot_metrics.plot_roc([val_y_true],[y_proba_val],[\"Valid set for Neural Network\"])\n",
    "comet_exp.log_figure(figure=plt)"
   ]
  },
  {
   "cell_type": "code",
   "execution_count": 88,
   "id": "82278bf2",
   "metadata": {
    "scrolled": false
   },
   "outputs": [
    {
     "data": {
      "image/png": "[encoded data removed]",
      "text/plain": [
       "<Figure size 1080x540 with 2 Axes>"
      ]
     },
     "metadata": {
      "needs_background": "light"
     },
     "output_type": "display_data"
    },
    {
     "name": "stderr",
     "output_type": "stream",
     "text": [
      "COMET WARNING: Refuse to upload empty figure, please call log_figure before calling show\n",
      "COMET WARNING: Failing to save the matplotlib figure\n"
     ]
    },
    {
     "data": {
      "text/plain": [
       "<Figure size 864x720 with 0 Axes>"
      ]
     },
     "metadata": {},
     "output_type": "display_data"
    }
   ],
   "source": [
    "plot_metrics.plot_percentile([val_y_true],[y_proba_val],bin_width=5,plot_labels=[\"Valid set for Neural Network\"])\n",
    "comet_exp.log_figure(figure=plt)"
   ]
  },
  {
   "cell_type": "code",
   "execution_count": 89,
   "id": "3a9dfa86",
   "metadata": {
    "scrolled": true
   },
   "outputs": [
    {
     "data": {
      "image/png": "[encoded data removed]",
      "text/plain": [
       "<Figure size 540x540 with 1 Axes>"
      ]
     },
     "metadata": {
      "needs_background": "light"
     },
     "output_type": "display_data"
    },
    {
     "name": "stderr",
     "output_type": "stream",
     "text": [
      "COMET WARNING: Refuse to upload empty figure, please call log_figure before calling show\n",
      "COMET WARNING: Failing to save the matplotlib figure\n"
     ]
    },
    {
     "data": {
      "text/plain": [
       "<Figure size 864x720 with 0 Axes>"
      ]
     },
     "metadata": {},
     "output_type": "display_data"
    }
   ],
   "source": [
    "plot_metrics.plot_calibration([val_y_true],[y_proba_val],plot_labels=[\"Valid set for Neural Network\"])\n",
    "comet_exp.log_figure(figure=plt)"
   ]
  },
  {
   "cell_type": "code",
   "execution_count": null,
   "id": "329f1a04",
   "metadata": {},
   "outputs": [],
   "source": []
  }
 ],
 "metadata": {
  "kernelspec": {
   "display_name": "ift6758-conda-env",
   "language": "python",
   "name": "ift6758-conda-env"
  },
  "language_info": {
   "codemirror_mode": {
    "name": "ipython",
    "version": 3
   },
   "file_extension": ".py",
   "mimetype": "text/x-python",
   "name": "python",
   "nbconvert_exporter": "python",
   "pygments_lexer": "ipython3",
   "version": "3.9.7"
  }
 },
 "nbformat": 4,
 "nbformat_minor": 5
}
