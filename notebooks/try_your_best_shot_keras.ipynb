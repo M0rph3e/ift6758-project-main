{
 "cells": [
  {
   "cell_type": "code",
   "execution_count": 121,
   "id": "8ec8fca5-42cf-4459-a761-3e39b5f8479e",
   "metadata": {},
   "outputs": [
    {
     "name": "stdout",
     "output_type": "stream",
     "text": [
      "The autoreload extension is already loaded. To reload it, use:\n",
      "  %reload_ext autoreload\n"
     ]
    }
   ],
   "source": [
    "%load_ext autoreload\n",
    "%autoreload 2"
   ]
  },
  {
   "cell_type": "markdown",
   "id": "d5b54079",
   "metadata": {},
   "source": [
    "# Comet Import and Setup"
   ]
  },
  {
   "cell_type": "code",
   "execution_count": 122,
   "id": "e687af58",
   "metadata": {},
   "outputs": [],
   "source": [
    "#comet imports\n",
    "from comet_ml import Experiment"
   ]
  },
  {
   "cell_type": "code",
   "execution_count": 123,
   "id": "62ad282b",
   "metadata": {},
   "outputs": [
    {
     "name": "stderr",
     "output_type": "stream",
     "text": [
      "COMET INFO: ---------------------------\n",
      "COMET INFO: Comet.ml Experiment Summary\n",
      "COMET INFO: ---------------------------\n",
      "COMET INFO:   Data [count]:\n",
      "COMET INFO:     display_summary_level [2] : 1\n",
      "COMET INFO:     url [2]                   : https://www.comet.ml/morph-e/milestone-2/50331850708a45f7a6a22f8c7b8d2ac3\n",
      "COMET INFO:   Metrics [count] (min, max):\n",
      "COMET INFO:     train_accuracy [243]             : (0.5663697123527527, 0.6879883408546448)\n",
      "COMET INFO:     train_auc [243]                  : (0.6751080751419067, 0.7392146587371826)\n",
      "COMET INFO:     train_batch_accuracy [11907]     : (0.4986454248428345, 0.90234375)\n",
      "COMET INFO:     train_batch_auc [11907]          : (0.48664534091949463, 0.7892628312110901)\n",
      "COMET INFO:     train_batch_fn [11907]           : (6.0, 10816.0)\n",
      "COMET INFO:     train_batch_fp [11907]           : (8.0, 203762.0)\n",
      "COMET INFO:     train_batch_loss [11907]         : (0.5408026576042175, 1.3990635871887207)\n",
      "COMET INFO:     train_batch_prc [11907]          : (0.08611840009689331, 0.3024900555610657)\n",
      "COMET INFO:     train_batch_precision [11907]    : (0.0, 0.20000000298023224)\n",
      "COMET INFO:     train_batch_recall [11907]       : (0.0, 0.8636363744735718)\n",
      "COMET INFO:     train_batch_tn [11907]           : (247.0, 246515.0)\n",
      "COMET INFO:     train_batch_tp [11907]           : (0.0, 33455.0)\n",
      "COMET INFO:     train_epoch_duration [243]       : (4.406000000075437, 8.625)\n",
      "COMET INFO:     train_fn [243]                   : (5428.0, 10858.0)\n",
      "COMET INFO:     train_fp [243]                   : (69716.0, 204462.0)\n",
      "COMET INFO:     train_loss [243]                 : (0.6010749936103821, 0.6539713144302368)\n",
      "COMET INFO:     train_prc [243]                  : (0.15863919258117676, 0.2116749882698059)\n",
      "COMET INFO:     train_precision [243]            : (0.14106032252311707, 0.17187146842479706)\n",
      "COMET INFO:     train_recall [243]               : (0.6474480032920837, 0.7556935548782349)\n",
      "COMET INFO:     train_tn [243]                   : (133479.0, 247654.0)\n",
      "COMET INFO:     train_tp [243]                   : (14385.0, 33578.0)\n",
      "COMET INFO:     train_val_accuracy [243]         : (0.45055100321769714, 0.7102740406990051)\n",
      "COMET INFO:     train_val_auc [243]              : (0.7106112241744995, 0.7529582977294922)\n",
      "COMET INFO:     train_val_fn [243]               : (2692.0, 8227.0)\n",
      "COMET INFO:     train_val_fp [243]               : (63799.0, 133333.0)\n",
      "COMET INFO:     train_val_loss [243]             : (0.5050494074821472, 0.9623366594314575)\n",
      "COMET INFO:     train_val_prc [243]              : (0.15579737722873688, 0.22957466542720795)\n",
      "COMET INFO:     train_val_precision [243]        : (0.12550747394561768, 0.18084587156772614)\n",
      "COMET INFO:     train_val_recall [243]           : (0.6297146677970886, 0.878836989402771)\n",
      "COMET INFO:     train_val_tn [243]               : (92725.0, 162259.0)\n",
      "COMET INFO:     train_val_tp [243]               : (13991.0, 19526.0)\n",
      "COMET INFO:     validate_batch_accuracy [11907]  : (0.4493977427482605, 0.72265625)\n",
      "COMET INFO:     validate_batch_auc [11907]       : (0.7096935510635376, 0.7736257314682007)\n",
      "COMET INFO:     validate_batch_fn [11907]        : (3.0, 8168.0)\n",
      "COMET INFO:     validate_batch_fp [11907]        : (128.0, 132260.0)\n",
      "COMET INFO:     validate_batch_loss [11907]      : (0.4681297242641449, 0.9657111167907715)\n",
      "COMET INFO:     validate_batch_prc [11907]       : (0.15488308668136597, 0.2590026259422302)\n",
      "COMET INFO:     validate_batch_precision [11907] : (0.12461256980895996, 0.18987341225147247)\n",
      "COMET INFO:     validate_batch_recall [11907]    : (0.6283649206161499, 0.9318181872367859)\n",
      "COMET INFO:     validate_batch_tn [11907]        : (202.0, 160940.0)\n",
      "COMET INFO:     validate_batch_tp [11907]        : (28.0, 19372.0)\n",
      "COMET INFO:   Others [count]:\n",
      "COMET INFO:     train_trainable_params [3] : 11361\n",
      "COMET INFO:   Parameters [count]:\n",
      "COMET INFO:     batch_size               : 512\n",
      "COMET INFO:     layer_num [2]            : 4\n",
      "COMET INFO:     learning_rate            : 0.01\n",
      "COMET INFO:     optimizer                : adam\n",
      "COMET INFO:     train_Adam_amsgrad       : 1\n",
      "COMET INFO:     train_Adam_beta_1        : 0.9\n",
      "COMET INFO:     train_Adam_beta_2        : 0.999\n",
      "COMET INFO:     train_Adam_decay         : 1\n",
      "COMET INFO:     train_Adam_epsilon       : 1e-07\n",
      "COMET INFO:     train_Adam_learning_rate : 0.01\n",
      "COMET INFO:     train_Adam_name          : Adam\n",
      "COMET INFO:     train_epochs             : 100\n",
      "COMET INFO:     train_steps              : 485\n",
      "COMET INFO:   Uploads [count]:\n",
      "COMET INFO:     code                     : 1 (22 KB)\n",
      "COMET INFO:     environment details      : 1\n",
      "COMET INFO:     figures [3]              : 3\n",
      "COMET INFO:     filename                 : 1\n",
      "COMET INFO:     git metadata             : 1\n",
      "COMET INFO:     git-patch (uncompressed) : 1 (6 MB)\n",
      "COMET INFO:     installed packages       : 1\n",
      "COMET INFO:     model graph              : 1\n",
      "COMET INFO: ---------------------------\n",
      "COMET INFO: Experiment is live on comet.ml https://www.comet.ml/morph-e/milestone-2/4fe58590ba824e9489108f24d576b56b\n",
      "\n"
     ]
    }
   ],
   "source": [
    "# Import comet_ml at the top of your file, before sklearn!\n",
    "from comet_ml import Experiment\n",
    "import os \n",
    "\n",
    "# Create an experiment with your api key\n",
    "comet_exp = Experiment(\n",
    "    api_key=os.environ.get('COMET_API_KEY'),  # don’t hardcode!!\n",
    "    project_name=\"milestone_2\",\n",
    "    workspace=\"morph-e\",\n",
    "    log_code=True,\n",
    ")"
   ]
  },
  {
   "cell_type": "markdown",
   "id": "0dc1b642-7bfd-496c-a49c-3e051a191a51",
   "metadata": {},
   "source": [
    "# Imports"
   ]
  },
  {
   "cell_type": "code",
   "execution_count": 202,
   "id": "c2635c3c-0b25-4e86-b6b5-9c3ef9d2de4a",
   "metadata": {},
   "outputs": [],
   "source": [
    "#classic\n",
    "import numpy as np\n",
    "import pandas as pd\n",
    "import matplotlib as mpl\n",
    "import matplotlib.pyplot as plt\n",
    "import seaborn as sns\n",
    "import os\n",
    "import random\n",
    "import tempfile\n",
    "\n",
    "#project imports\n",
    "from ift6758.features.feature_engineering2 import SeasonDataSetTwo\n",
    "from ift6758.metrics import plot_metrics\n",
    "from ift6758.data.data_acquisition import Season\n",
    "from ift6758.visualizations.simple_visualization import Utilities \n",
    "\n",
    "#sk-learn imports\n",
    "from sklearn.preprocessing import StandardScaler, MinMaxScaler\n",
    "from sklearn.model_selection import train_test_split\n",
    "from sklearn.pipeline import Pipeline\n",
    "from sklearn.metrics import (accuracy_score, confusion_matrix, \n",
    "                             classification_report, roc_curve, auc)\n",
    "\n",
    "#keras imports\n",
    "import tensorflow as tf\n",
    "from tensorflow import keras\n",
    "from tensorflow.keras import layers, losses, preprocessing, activations\n",
    "\n"
   ]
  },
  {
   "cell_type": "code",
   "execution_count": 125,
   "id": "cc1c7346",
   "metadata": {},
   "outputs": [],
   "source": [
    "#misc\n",
    "pd.set_option('display.max_columns', None)\n",
    "\n",
    "mpl.rcParams['figure.figsize'] = (12, 10)\n",
    "colors = plt.rcParams['axes.prop_cycle'].by_key()['color']\n",
    "\n",
    "import warnings\n",
    "warnings.filterwarnings(\"ignore\")"
   ]
  },
  {
   "cell_type": "markdown",
   "id": "685668d4-2f27-498d-bc95-40c6f8a2262d",
   "metadata": {},
   "source": [
    "# DATA LOADING"
   ]
  },
  {
   "cell_type": "code",
   "execution_count": 126,
   "id": "8db58e48-f4b5-4e61-95eb-c5abc27eb253",
   "metadata": {},
   "outputs": [],
   "source": [
    "#year selection\n",
    "train_years = [2015,2016,2017,2018]\n",
    "test_years=[2019]"
   ]
  },
  {
   "cell_type": "code",
   "execution_count": 127,
   "id": "b61c930f-c543-46c6-be8b-26031c687150",
   "metadata": {},
   "outputs": [
    {
     "name": "stdout",
     "output_type": "stream",
     "text": [
      "File with all events already Exists, loading from ../ift6758/data/PICKLE//2015_clean_all_events.pkl\n",
      "File already Exists, loading from ../ift6758/data/PICKLE//2015_period_info.pkl\n",
      "File with all events already Exists, loading from ../ift6758/data/PICKLE//2016_clean_all_events.pkl\n",
      "File already Exists, loading from ../ift6758/data/PICKLE//2016_period_info.pkl\n",
      "File with all events already Exists, loading from ../ift6758/data/PICKLE//2017_clean_all_events.pkl\n",
      "File already Exists, loading from ../ift6758/data/PICKLE//2017_period_info.pkl\n",
      "File with all events already Exists, loading from ../ift6758/data/PICKLE//2018_clean_all_events.pkl\n",
      "File already Exists, loading from ../ift6758/data/PICKLE//2018_period_info.pkl\n"
     ]
    }
   ],
   "source": [
    "train_dataset = SeasonDataSetTwo(train_years)\n",
    "train_df = train_dataset.get_features_2()"
   ]
  },
  {
   "cell_type": "code",
   "execution_count": 128,
   "id": "62063889-8c05-403d-b06a-28ec22532223",
   "metadata": {
    "scrolled": true
   },
   "outputs": [
    {
     "name": "stdout",
     "output_type": "stream",
     "text": [
      "File with all events already Exists, loading from ../ift6758/data/PICKLE//2019_clean_all_events.pkl\n",
      "File already Exists, loading from ../ift6758/data/PICKLE//2019_period_info.pkl\n"
     ]
    }
   ],
   "source": [
    "test_data = SeasonDataSetTwo(test_years)\n",
    "test_df = test_data.get_features_2()"
   ]
  },
  {
   "cell_type": "markdown",
   "id": "c1d45124",
   "metadata": {},
   "source": [
    "# for Part 7"
   ]
  },
  {
   "cell_type": "code",
   "execution_count": 129,
   "id": "c6b02b67",
   "metadata": {},
   "outputs": [],
   "source": [
    "test_df_regular = test_df[test_df['gamePk'].astype(str).str[5]=='2']\n",
    "test_df_playoff = test_df[test_df['gamePk'].astype(str).str[5]=='3']"
   ]
  },
  {
   "cell_type": "markdown",
   "id": "940dd798",
   "metadata": {},
   "source": [
    "# Split and shuffle"
   ]
  },
  {
   "cell_type": "code",
   "execution_count": 130,
   "id": "cfffd0ee",
   "metadata": {},
   "outputs": [],
   "source": [
    "random.seed(42)"
   ]
  },
  {
   "cell_type": "code",
   "execution_count": 131,
   "id": "1dc1ece7",
   "metadata": {},
   "outputs": [],
   "source": [
    "train_df = train_df.sample(frac=1)\n",
    "test_df = test_df.sample(frac=1)\n",
    "#for part 7\n",
    "test_df_regular = test_df_regular.sample(frac=1)\n",
    "test_df_playoff = test_df_playoff.sample(frac=1)"
   ]
  },
  {
   "cell_type": "code",
   "execution_count": 132,
   "id": "112d7ecd",
   "metadata": {},
   "outputs": [
    {
     "data": {
      "text/html": [
       "<div>\n",
       "<style scoped>\n",
       "    .dataframe tbody tr th:only-of-type {\n",
       "        vertical-align: middle;\n",
       "    }\n",
       "\n",
       "    .dataframe tbody tr th {\n",
       "        vertical-align: top;\n",
       "    }\n",
       "\n",
       "    .dataframe thead th {\n",
       "        text-align: right;\n",
       "    }\n",
       "</style>\n",
       "<table border=\"1\" class=\"dataframe\">\n",
       "  <thead>\n",
       "    <tr style=\"text-align: right;\">\n",
       "      <th></th>\n",
       "      <th>result.penaltySeverity</th>\n",
       "      <th>result.penaltyMinutes</th>\n",
       "      <th>gamePk</th>\n",
       "      <th>team.name</th>\n",
       "      <th>gamePeriod</th>\n",
       "      <th>coordinatesX</th>\n",
       "      <th>coordinatesY</th>\n",
       "      <th>shotType</th>\n",
       "      <th>emptyNet</th>\n",
       "      <th>result.strength.name</th>\n",
       "      <th>gameSeconds</th>\n",
       "      <th>shotDistance</th>\n",
       "      <th>shotAngle</th>\n",
       "      <th>isGoal</th>\n",
       "      <th>lastEventType</th>\n",
       "      <th>lastEventCoordinatesX</th>\n",
       "      <th>lastEventCoordinatesY</th>\n",
       "      <th>timeFromLastEvent</th>\n",
       "      <th>distanceFromLastEvent</th>\n",
       "      <th>rebound</th>\n",
       "      <th>speed</th>\n",
       "      <th>changeInShotAngle</th>\n",
       "      <th>angleSpeed</th>\n",
       "    </tr>\n",
       "  </thead>\n",
       "  <tbody>\n",
       "    <tr>\n",
       "      <th>101832</th>\n",
       "      <td>NaN</td>\n",
       "      <td>NaN</td>\n",
       "      <td>2016020291</td>\n",
       "      <td>St. Louis Blues</td>\n",
       "      <td>3</td>\n",
       "      <td>67.0</td>\n",
       "      <td>12.0</td>\n",
       "      <td>Slap Shot</td>\n",
       "      <td>0</td>\n",
       "      <td>NaN</td>\n",
       "      <td>817.0</td>\n",
       "      <td>25.059928</td>\n",
       "      <td>-28.610460</td>\n",
       "      <td>0</td>\n",
       "      <td>Shot</td>\n",
       "      <td>-72.0</td>\n",
       "      <td>-5.0</td>\n",
       "      <td>19.0</td>\n",
       "      <td>140.035710</td>\n",
       "      <td>1</td>\n",
       "      <td>7.370301</td>\n",
       "      <td>12.220919</td>\n",
       "      <td>0.643206</td>\n",
       "    </tr>\n",
       "    <tr>\n",
       "      <th>199945</th>\n",
       "      <td>NaN</td>\n",
       "      <td>NaN</td>\n",
       "      <td>2017020463</td>\n",
       "      <td>Detroit Red Wings</td>\n",
       "      <td>2</td>\n",
       "      <td>69.0</td>\n",
       "      <td>-21.0</td>\n",
       "      <td>Snap Shot</td>\n",
       "      <td>0</td>\n",
       "      <td>NaN</td>\n",
       "      <td>1006.0</td>\n",
       "      <td>29.000000</td>\n",
       "      <td>46.397181</td>\n",
       "      <td>0</td>\n",
       "      <td>Shot</td>\n",
       "      <td>-66.0</td>\n",
       "      <td>-4.0</td>\n",
       "      <td>12.0</td>\n",
       "      <td>136.066160</td>\n",
       "      <td>1</td>\n",
       "      <td>11.338847</td>\n",
       "      <td>56.262988</td>\n",
       "      <td>4.688582</td>\n",
       "    </tr>\n",
       "    <tr>\n",
       "      <th>329529</th>\n",
       "      <td>NaN</td>\n",
       "      <td>NaN</td>\n",
       "      <td>2018021140</td>\n",
       "      <td>St. Louis Blues</td>\n",
       "      <td>3</td>\n",
       "      <td>81.0</td>\n",
       "      <td>-8.0</td>\n",
       "      <td>Wrist Shot</td>\n",
       "      <td>0</td>\n",
       "      <td>NaN</td>\n",
       "      <td>388.0</td>\n",
       "      <td>11.313708</td>\n",
       "      <td>45.000000</td>\n",
       "      <td>0</td>\n",
       "      <td>Faceoff</td>\n",
       "      <td>69.0</td>\n",
       "      <td>22.0</td>\n",
       "      <td>6.0</td>\n",
       "      <td>32.310989</td>\n",
       "      <td>0</td>\n",
       "      <td>5.385165</td>\n",
       "      <td>0.000000</td>\n",
       "      <td>0.000000</td>\n",
       "    </tr>\n",
       "    <tr>\n",
       "      <th>231580</th>\n",
       "      <td>NaN</td>\n",
       "      <td>NaN</td>\n",
       "      <td>2017020954</td>\n",
       "      <td>Chicago Blackhawks</td>\n",
       "      <td>1</td>\n",
       "      <td>-81.0</td>\n",
       "      <td>-2.0</td>\n",
       "      <td>Tip-In</td>\n",
       "      <td>False</td>\n",
       "      <td>Even</td>\n",
       "      <td>88.0</td>\n",
       "      <td>8.246211</td>\n",
       "      <td>-14.036243</td>\n",
       "      <td>1</td>\n",
       "      <td>Shot</td>\n",
       "      <td>36.0</td>\n",
       "      <td>3.0</td>\n",
       "      <td>14.0</td>\n",
       "      <td>117.106789</td>\n",
       "      <td>1</td>\n",
       "      <td>8.364771</td>\n",
       "      <td>10.796543</td>\n",
       "      <td>0.771182</td>\n",
       "    </tr>\n",
       "    <tr>\n",
       "      <th>184071</th>\n",
       "      <td>NaN</td>\n",
       "      <td>NaN</td>\n",
       "      <td>2017020215</td>\n",
       "      <td>Chicago Blackhawks</td>\n",
       "      <td>1</td>\n",
       "      <td>-90.0</td>\n",
       "      <td>-6.0</td>\n",
       "      <td>Wrap-around</td>\n",
       "      <td>0</td>\n",
       "      <td>NaN</td>\n",
       "      <td>1103.0</td>\n",
       "      <td>6.082763</td>\n",
       "      <td>-99.462322</td>\n",
       "      <td>0</td>\n",
       "      <td>Hit</td>\n",
       "      <td>92.0</td>\n",
       "      <td>39.0</td>\n",
       "      <td>29.0</td>\n",
       "      <td>187.480666</td>\n",
       "      <td>0</td>\n",
       "      <td>6.464851</td>\n",
       "      <td>0.000000</td>\n",
       "      <td>0.000000</td>\n",
       "    </tr>\n",
       "  </tbody>\n",
       "</table>\n",
       "</div>"
      ],
      "text/plain": [
       "       result.penaltySeverity  result.penaltyMinutes      gamePk  \\\n",
       "101832                    NaN                    NaN  2016020291   \n",
       "199945                    NaN                    NaN  2017020463   \n",
       "329529                    NaN                    NaN  2018021140   \n",
       "231580                    NaN                    NaN  2017020954   \n",
       "184071                    NaN                    NaN  2017020215   \n",
       "\n",
       "                 team.name  gamePeriod  coordinatesX  coordinatesY  \\\n",
       "101832     St. Louis Blues           3          67.0          12.0   \n",
       "199945   Detroit Red Wings           2          69.0         -21.0   \n",
       "329529     St. Louis Blues           3          81.0          -8.0   \n",
       "231580  Chicago Blackhawks           1         -81.0          -2.0   \n",
       "184071  Chicago Blackhawks           1         -90.0          -6.0   \n",
       "\n",
       "           shotType emptyNet result.strength.name  gameSeconds  shotDistance  \\\n",
       "101832    Slap Shot        0                  NaN        817.0     25.059928   \n",
       "199945    Snap Shot        0                  NaN       1006.0     29.000000   \n",
       "329529   Wrist Shot        0                  NaN        388.0     11.313708   \n",
       "231580       Tip-In    False                 Even         88.0      8.246211   \n",
       "184071  Wrap-around        0                  NaN       1103.0      6.082763   \n",
       "\n",
       "        shotAngle  isGoal lastEventType  lastEventCoordinatesX  \\\n",
       "101832 -28.610460       0          Shot                  -72.0   \n",
       "199945  46.397181       0          Shot                  -66.0   \n",
       "329529  45.000000       0       Faceoff                   69.0   \n",
       "231580 -14.036243       1          Shot                   36.0   \n",
       "184071 -99.462322       0           Hit                   92.0   \n",
       "\n",
       "        lastEventCoordinatesY  timeFromLastEvent  distanceFromLastEvent  \\\n",
       "101832                   -5.0               19.0             140.035710   \n",
       "199945                   -4.0               12.0             136.066160   \n",
       "329529                   22.0                6.0              32.310989   \n",
       "231580                    3.0               14.0             117.106789   \n",
       "184071                   39.0               29.0             187.480666   \n",
       "\n",
       "        rebound      speed  changeInShotAngle  angleSpeed  \n",
       "101832        1   7.370301          12.220919    0.643206  \n",
       "199945        1  11.338847          56.262988    4.688582  \n",
       "329529        0   5.385165           0.000000    0.000000  \n",
       "231580        1   8.364771          10.796543    0.771182  \n",
       "184071        0   6.464851           0.000000    0.000000  "
      ]
     },
     "execution_count": 132,
     "metadata": {},
     "output_type": "execute_result"
    }
   ],
   "source": [
    "train_df.head()"
   ]
  },
  {
   "cell_type": "markdown",
   "id": "21b2a86e",
   "metadata": {},
   "source": [
    "# Preprocessing"
   ]
  },
  {
   "cell_type": "code",
   "execution_count": 138,
   "id": "810ab9d7-44f6-4de6-8aa2-6aa3fb88ed5c",
   "metadata": {},
   "outputs": [],
   "source": [
    "features = ['gameSeconds','timeFromLastEvent','gamePeriod','shotType','lastEventType', 'shotAngle', 'shotDistance','distanceFromLastEvent', 'rebound','speed','changeInShotAngle','angleSpeed']\n",
    "label = ['isGoal']"
   ]
  },
  {
   "cell_type": "code",
   "execution_count": 139,
   "id": "debf8fc2-5f1b-4648-a8ff-0af8d084e1f3",
   "metadata": {},
   "outputs": [
    {
     "data": {
      "text/plain": [
       "gameSeconds              False\n",
       "timeFromLastEvent        False\n",
       "gamePeriod               False\n",
       "shotType                  True\n",
       "lastEventType            False\n",
       "shotAngle                False\n",
       "shotDistance             False\n",
       "distanceFromLastEvent     True\n",
       "rebound                  False\n",
       "speed                     True\n",
       "changeInShotAngle        False\n",
       "angleSpeed                True\n",
       "dtype: bool"
      ]
     },
     "execution_count": 139,
     "metadata": {},
     "output_type": "execute_result"
    }
   ],
   "source": [
    "train_df[features].isna().any()\n",
    "test_df[features].isna().any()\n",
    "\n",
    "test_df_regular[features].isna().any()\n",
    "test_df_playoff[features].isna().any()"
   ]
  },
  {
   "cell_type": "code",
   "execution_count": 140,
   "id": "6d2c5174-3942-46ee-9784-247bff5192f2",
   "metadata": {},
   "outputs": [],
   "source": [
    "#replace inf with nan\n",
    "train_df.replace([np.inf, -np.inf], np.nan, inplace=True)\n",
    "test_df.replace([np.inf, -np.inf], np.nan, inplace=True)\n",
    "\n",
    "test_df_regular.replace([np.inf, -np.inf], np.nan, inplace=True)\n",
    "test_df_playoff.replace([np.inf, -np.inf], np.nan, inplace=True)"
   ]
  },
  {
   "cell_type": "code",
   "execution_count": 141,
   "id": "7b9d3b36",
   "metadata": {},
   "outputs": [],
   "source": [
    "#drop rows with nan\n",
    "train_df = train_df[train_df['shotType'].notna()]\n",
    "test_df = test_df[test_df['shotType'].notna()]\n",
    "test_df_regular = test_df_regular[test_df_regular['shotType'].notna()]\n",
    "test_df_playoff = test_df_playoff[test_df_playoff['shotType'].notna()]\n",
    "\n",
    "train_df = train_df[train_df['shotAngle'].notna()]\n",
    "test_df = test_df[test_df['shotAngle'].notna()]\n",
    "test_df_regular = test_df_regular[test_df_regular['shotAngle'].notna()]\n",
    "test_df_playoff = test_df_playoff[test_df_playoff['shotAngle'].notna()]\n",
    "\n",
    "train_df = train_df[train_df['shotDistance'].notna()]\n",
    "test_df = test_df[test_df['shotDistance'].notna()]\n",
    "test_df_regular = test_df_regular[test_df_regular['shotDistance'].notna()]\n",
    "test_df_playoff = test_df_playoff[test_df_playoff['shotDistance'].notna()]\n",
    "\n",
    "train_df = train_df[train_df['speed'].notna()]\n",
    "test_df = test_df[test_df['speed'].notna()]\n",
    "test_df_regular = test_df_regular[test_df_regular['speed'].notna()]\n",
    "test_df_playoff = test_df_playoff[test_df_playoff['speed'].notna()]\n",
    "\n",
    "train_df = train_df[train_df['changeInShotAngle'].notna()]\n",
    "test_df = test_df[test_df['changeInShotAngle'].notna()]\n",
    "test_df_regular = test_df_regular[test_df_regular['changeInShotAngle'].notna()]\n",
    "test_df_playoff = test_df_playoff[test_df_playoff['changeInShotAngle'].notna()]\n",
    "\n",
    "train_df = train_df[train_df['angleSpeed'].notna()]\n",
    "test_df = test_df[test_df['angleSpeed'].notna()]\n",
    "test_df_regular = test_df_regular[test_df_regular['angleSpeed'].notna()]\n",
    "test_df_playoff = test_df_playoff[test_df_playoff['angleSpeed'].notna()]\n",
    "\n",
    "train_df = train_df[train_df['distanceFromLastEvent'].notna()]\n",
    "test_df = test_df[test_df['distanceFromLastEvent'].notna()]\n",
    "test_df_regular = test_df_regular[test_df_regular['distanceFromLastEvent'].notna()]\n",
    "test_df_playoff = test_df_playoff[test_df_playoff['distanceFromLastEvent'].notna()]"
   ]
  },
  {
   "cell_type": "code",
   "execution_count": 144,
   "id": "9a85865f",
   "metadata": {
    "scrolled": true
   },
   "outputs": [
    {
     "data": {
      "text/plain": [
       "gameSeconds              False\n",
       "timeFromLastEvent        False\n",
       "gamePeriod               False\n",
       "shotType                 False\n",
       "lastEventType            False\n",
       "shotAngle                False\n",
       "shotDistance             False\n",
       "distanceFromLastEvent    False\n",
       "rebound                  False\n",
       "speed                    False\n",
       "changeInShotAngle        False\n",
       "angleSpeed               False\n",
       "dtype: bool"
      ]
     },
     "execution_count": 144,
     "metadata": {},
     "output_type": "execute_result"
    }
   ],
   "source": [
    "#sanity check\n",
    "train_df[features].isna().any()\n",
    "test_df[features].isna().any()\n",
    "test_df_regular[features].isna().any()\n",
    "test_df_playoff[features].isna().any()"
   ]
  },
  {
   "cell_type": "markdown",
   "id": "54aa3904",
   "metadata": {},
   "source": [
    "# Categorical Data encoding"
   ]
  },
  {
   "cell_type": "code",
   "execution_count": 145,
   "id": "e0a500c9",
   "metadata": {},
   "outputs": [],
   "source": [
    "from sklearn.preprocessing import OrdinalEncoder"
   ]
  },
  {
   "cell_type": "code",
   "execution_count": 146,
   "id": "23e7adc0",
   "metadata": {},
   "outputs": [
    {
     "data": {
      "text/plain": [
       "OrdinalEncoder()"
      ]
     },
     "execution_count": 146,
     "metadata": {},
     "output_type": "execute_result"
    }
   ],
   "source": [
    "enc = OrdinalEncoder()\n",
    "enc.fit(train_df[['lastEventType']])"
   ]
  },
  {
   "cell_type": "code",
   "execution_count": 147,
   "id": "99a416a8",
   "metadata": {},
   "outputs": [],
   "source": [
    "train_df[['lastEventType']] = enc.transform(train_df[['lastEventType']]).astype(int)\n",
    "test_df[['lastEventType']] = enc.transform(test_df[['lastEventType']]).astype(int)\n",
    "\n",
    "test_df_regular[['lastEventType']] = enc.transform(test_df_regular[['lastEventType']]).astype(int)\n",
    "test_df_playoff[['lastEventType']] = enc.transform(test_df_playoff[['lastEventType']]).astype(int)"
   ]
  },
  {
   "cell_type": "code",
   "execution_count": 148,
   "id": "b193e120",
   "metadata": {},
   "outputs": [
    {
     "data": {
      "text/plain": [
       "(array([7, 1, 4, 0, 5, 2, 8, 6, 3]), array([1, 7, 8, 4, 2, 0, 5, 6, 3]))"
      ]
     },
     "execution_count": 148,
     "metadata": {},
     "output_type": "execute_result"
    }
   ],
   "source": [
    "train_df['lastEventType'].unique(),test_df['lastEventType'].unique()"
   ]
  },
  {
   "cell_type": "code",
   "execution_count": 149,
   "id": "83724669",
   "metadata": {},
   "outputs": [],
   "source": [
    "enc = OrdinalEncoder()\n",
    "enc.fit(train_df[['shotType']])\n",
    "\n",
    "train_df[['shotType']] = enc.transform(train_df[['shotType']]).astype(int)\n",
    "test_df[['shotType']] = enc.transform(test_df[['shotType']]).astype(int)\n",
    "\n",
    "test_df_regular[['shotType']] = enc.transform(test_df_regular[['shotType']]).astype(int)\n",
    "test_df_playoff[['shotType']] = enc.transform(test_df_playoff[['shotType']]).astype(int)"
   ]
  },
  {
   "cell_type": "code",
   "execution_count": 150,
   "id": "2830bbb1",
   "metadata": {},
   "outputs": [
    {
     "data": {
      "text/plain": [
       "(array([2, 3, 6, 4, 5, 0, 1]), array([1, 7, 8, 4, 2, 0, 5, 6, 3]))"
      ]
     },
     "execution_count": 150,
     "metadata": {},
     "output_type": "execute_result"
    }
   ],
   "source": [
    "#Sanity check\n",
    "train_df['shotType'].unique(), test_df['lastEventType'].unique()"
   ]
  },
  {
   "cell_type": "code",
   "execution_count": 152,
   "id": "5f04cbe1",
   "metadata": {},
   "outputs": [
    {
     "data": {
      "text/html": [
       "<div>\n",
       "<style scoped>\n",
       "    .dataframe tbody tr th:only-of-type {\n",
       "        vertical-align: middle;\n",
       "    }\n",
       "\n",
       "    .dataframe tbody tr th {\n",
       "        vertical-align: top;\n",
       "    }\n",
       "\n",
       "    .dataframe thead th {\n",
       "        text-align: right;\n",
       "    }\n",
       "</style>\n",
       "<table border=\"1\" class=\"dataframe\">\n",
       "  <thead>\n",
       "    <tr style=\"text-align: right;\">\n",
       "      <th></th>\n",
       "      <th>result.penaltySeverity</th>\n",
       "      <th>result.penaltyMinutes</th>\n",
       "      <th>gamePk</th>\n",
       "      <th>team.name</th>\n",
       "      <th>gamePeriod</th>\n",
       "      <th>coordinatesX</th>\n",
       "      <th>coordinatesY</th>\n",
       "      <th>shotType</th>\n",
       "      <th>emptyNet</th>\n",
       "      <th>result.strength.name</th>\n",
       "      <th>gameSeconds</th>\n",
       "      <th>shotDistance</th>\n",
       "      <th>shotAngle</th>\n",
       "      <th>isGoal</th>\n",
       "      <th>lastEventType</th>\n",
       "      <th>lastEventCoordinatesX</th>\n",
       "      <th>lastEventCoordinatesY</th>\n",
       "      <th>timeFromLastEvent</th>\n",
       "      <th>distanceFromLastEvent</th>\n",
       "      <th>rebound</th>\n",
       "      <th>speed</th>\n",
       "      <th>changeInShotAngle</th>\n",
       "      <th>angleSpeed</th>\n",
       "    </tr>\n",
       "  </thead>\n",
       "  <tbody>\n",
       "    <tr>\n",
       "      <th>101832</th>\n",
       "      <td>NaN</td>\n",
       "      <td>NaN</td>\n",
       "      <td>2016020291</td>\n",
       "      <td>St. Louis Blues</td>\n",
       "      <td>3</td>\n",
       "      <td>67.0</td>\n",
       "      <td>12.0</td>\n",
       "      <td>2</td>\n",
       "      <td>0</td>\n",
       "      <td>NaN</td>\n",
       "      <td>817.0</td>\n",
       "      <td>25.059928</td>\n",
       "      <td>-28.610460</td>\n",
       "      <td>0</td>\n",
       "      <td>7</td>\n",
       "      <td>-72.0</td>\n",
       "      <td>-5.0</td>\n",
       "      <td>19.0</td>\n",
       "      <td>140.035710</td>\n",
       "      <td>1</td>\n",
       "      <td>7.370301</td>\n",
       "      <td>12.220919</td>\n",
       "      <td>0.643206</td>\n",
       "    </tr>\n",
       "    <tr>\n",
       "      <th>199945</th>\n",
       "      <td>NaN</td>\n",
       "      <td>NaN</td>\n",
       "      <td>2017020463</td>\n",
       "      <td>Detroit Red Wings</td>\n",
       "      <td>2</td>\n",
       "      <td>69.0</td>\n",
       "      <td>-21.0</td>\n",
       "      <td>3</td>\n",
       "      <td>0</td>\n",
       "      <td>NaN</td>\n",
       "      <td>1006.0</td>\n",
       "      <td>29.000000</td>\n",
       "      <td>46.397181</td>\n",
       "      <td>0</td>\n",
       "      <td>7</td>\n",
       "      <td>-66.0</td>\n",
       "      <td>-4.0</td>\n",
       "      <td>12.0</td>\n",
       "      <td>136.066160</td>\n",
       "      <td>1</td>\n",
       "      <td>11.338847</td>\n",
       "      <td>56.262988</td>\n",
       "      <td>4.688582</td>\n",
       "    </tr>\n",
       "    <tr>\n",
       "      <th>329529</th>\n",
       "      <td>NaN</td>\n",
       "      <td>NaN</td>\n",
       "      <td>2018021140</td>\n",
       "      <td>St. Louis Blues</td>\n",
       "      <td>3</td>\n",
       "      <td>81.0</td>\n",
       "      <td>-8.0</td>\n",
       "      <td>6</td>\n",
       "      <td>0</td>\n",
       "      <td>NaN</td>\n",
       "      <td>388.0</td>\n",
       "      <td>11.313708</td>\n",
       "      <td>45.000000</td>\n",
       "      <td>0</td>\n",
       "      <td>1</td>\n",
       "      <td>69.0</td>\n",
       "      <td>22.0</td>\n",
       "      <td>6.0</td>\n",
       "      <td>32.310989</td>\n",
       "      <td>0</td>\n",
       "      <td>5.385165</td>\n",
       "      <td>0.000000</td>\n",
       "      <td>0.000000</td>\n",
       "    </tr>\n",
       "    <tr>\n",
       "      <th>231580</th>\n",
       "      <td>NaN</td>\n",
       "      <td>NaN</td>\n",
       "      <td>2017020954</td>\n",
       "      <td>Chicago Blackhawks</td>\n",
       "      <td>1</td>\n",
       "      <td>-81.0</td>\n",
       "      <td>-2.0</td>\n",
       "      <td>4</td>\n",
       "      <td>False</td>\n",
       "      <td>Even</td>\n",
       "      <td>88.0</td>\n",
       "      <td>8.246211</td>\n",
       "      <td>-14.036243</td>\n",
       "      <td>1</td>\n",
       "      <td>7</td>\n",
       "      <td>36.0</td>\n",
       "      <td>3.0</td>\n",
       "      <td>14.0</td>\n",
       "      <td>117.106789</td>\n",
       "      <td>1</td>\n",
       "      <td>8.364771</td>\n",
       "      <td>10.796543</td>\n",
       "      <td>0.771182</td>\n",
       "    </tr>\n",
       "    <tr>\n",
       "      <th>184071</th>\n",
       "      <td>NaN</td>\n",
       "      <td>NaN</td>\n",
       "      <td>2017020215</td>\n",
       "      <td>Chicago Blackhawks</td>\n",
       "      <td>1</td>\n",
       "      <td>-90.0</td>\n",
       "      <td>-6.0</td>\n",
       "      <td>5</td>\n",
       "      <td>0</td>\n",
       "      <td>NaN</td>\n",
       "      <td>1103.0</td>\n",
       "      <td>6.082763</td>\n",
       "      <td>-99.462322</td>\n",
       "      <td>0</td>\n",
       "      <td>4</td>\n",
       "      <td>92.0</td>\n",
       "      <td>39.0</td>\n",
       "      <td>29.0</td>\n",
       "      <td>187.480666</td>\n",
       "      <td>0</td>\n",
       "      <td>6.464851</td>\n",
       "      <td>0.000000</td>\n",
       "      <td>0.000000</td>\n",
       "    </tr>\n",
       "  </tbody>\n",
       "</table>\n",
       "</div>"
      ],
      "text/plain": [
       "        result.penaltySeverity  result.penaltyMinutes      gamePk  \\\n",
       "101832                     NaN                    NaN  2016020291   \n",
       "199945                     NaN                    NaN  2017020463   \n",
       "329529                     NaN                    NaN  2018021140   \n",
       "231580                     NaN                    NaN  2017020954   \n",
       "184071                     NaN                    NaN  2017020215   \n",
       "\n",
       "                 team.name  gamePeriod  coordinatesX  coordinatesY  shotType  \\\n",
       "101832     St. Louis Blues           3          67.0          12.0         2   \n",
       "199945   Detroit Red Wings           2          69.0         -21.0         3   \n",
       "329529     St. Louis Blues           3          81.0          -8.0         6   \n",
       "231580  Chicago Blackhawks           1         -81.0          -2.0         4   \n",
       "184071  Chicago Blackhawks           1         -90.0          -6.0         5   \n",
       "\n",
       "       emptyNet result.strength.name  gameSeconds  shotDistance  shotAngle  \\\n",
       "101832        0                  NaN        817.0     25.059928 -28.610460   \n",
       "199945        0                  NaN       1006.0     29.000000  46.397181   \n",
       "329529        0                  NaN        388.0     11.313708  45.000000   \n",
       "231580    False                 Even         88.0      8.246211 -14.036243   \n",
       "184071        0                  NaN       1103.0      6.082763 -99.462322   \n",
       "\n",
       "        isGoal  lastEventType  lastEventCoordinatesX  lastEventCoordinatesY  \\\n",
       "101832       0              7                  -72.0                   -5.0   \n",
       "199945       0              7                  -66.0                   -4.0   \n",
       "329529       0              1                   69.0                   22.0   \n",
       "231580       1              7                   36.0                    3.0   \n",
       "184071       0              4                   92.0                   39.0   \n",
       "\n",
       "        timeFromLastEvent  distanceFromLastEvent  rebound      speed  \\\n",
       "101832               19.0             140.035710        1   7.370301   \n",
       "199945               12.0             136.066160        1  11.338847   \n",
       "329529                6.0              32.310989        0   5.385165   \n",
       "231580               14.0             117.106789        1   8.364771   \n",
       "184071               29.0             187.480666        0   6.464851   \n",
       "\n",
       "        changeInShotAngle  angleSpeed  \n",
       "101832          12.220919    0.643206  \n",
       "199945          56.262988    4.688582  \n",
       "329529           0.000000    0.000000  \n",
       "231580          10.796543    0.771182  \n",
       "184071           0.000000    0.000000  "
      ]
     },
     "execution_count": 152,
     "metadata": {},
     "output_type": "execute_result"
    }
   ],
   "source": [
    "train_df.head()"
   ]
  },
  {
   "cell_type": "markdown",
   "id": "64393bfe",
   "metadata": {},
   "source": [
    "# Feature Selection"
   ]
  },
  {
   "cell_type": "code",
   "execution_count": 154,
   "id": "150801e2",
   "metadata": {
    "scrolled": true
   },
   "outputs": [
    {
     "data": {
      "text/html": [
       "<div>\n",
       "<style scoped>\n",
       "    .dataframe tbody tr th:only-of-type {\n",
       "        vertical-align: middle;\n",
       "    }\n",
       "\n",
       "    .dataframe tbody tr th {\n",
       "        vertical-align: top;\n",
       "    }\n",
       "\n",
       "    .dataframe thead th {\n",
       "        text-align: right;\n",
       "    }\n",
       "</style>\n",
       "<table border=\"1\" class=\"dataframe\">\n",
       "  <thead>\n",
       "    <tr style=\"text-align: right;\">\n",
       "      <th></th>\n",
       "      <th>gameSeconds</th>\n",
       "      <th>timeFromLastEvent</th>\n",
       "      <th>gamePeriod</th>\n",
       "      <th>shotType</th>\n",
       "      <th>lastEventType</th>\n",
       "      <th>shotAngle</th>\n",
       "      <th>shotDistance</th>\n",
       "      <th>distanceFromLastEvent</th>\n",
       "      <th>rebound</th>\n",
       "      <th>speed</th>\n",
       "      <th>changeInShotAngle</th>\n",
       "      <th>angleSpeed</th>\n",
       "    </tr>\n",
       "  </thead>\n",
       "  <tbody>\n",
       "    <tr>\n",
       "      <th>101832</th>\n",
       "      <td>817.0</td>\n",
       "      <td>19.0</td>\n",
       "      <td>3</td>\n",
       "      <td>2</td>\n",
       "      <td>7</td>\n",
       "      <td>-28.610460</td>\n",
       "      <td>25.059928</td>\n",
       "      <td>140.03571</td>\n",
       "      <td>1</td>\n",
       "      <td>7.370301</td>\n",
       "      <td>12.220919</td>\n",
       "      <td>0.643206</td>\n",
       "    </tr>\n",
       "    <tr>\n",
       "      <th>199945</th>\n",
       "      <td>1006.0</td>\n",
       "      <td>12.0</td>\n",
       "      <td>2</td>\n",
       "      <td>3</td>\n",
       "      <td>7</td>\n",
       "      <td>46.397181</td>\n",
       "      <td>29.000000</td>\n",
       "      <td>136.06616</td>\n",
       "      <td>1</td>\n",
       "      <td>11.338847</td>\n",
       "      <td>56.262988</td>\n",
       "      <td>4.688582</td>\n",
       "    </tr>\n",
       "  </tbody>\n",
       "</table>\n",
       "</div>"
      ],
      "text/plain": [
       "        gameSeconds  timeFromLastEvent  gamePeriod  shotType  lastEventType  \\\n",
       "101832        817.0               19.0           3         2              7   \n",
       "199945       1006.0               12.0           2         3              7   \n",
       "\n",
       "        shotAngle  shotDistance  distanceFromLastEvent  rebound      speed  \\\n",
       "101832 -28.610460     25.059928              140.03571        1   7.370301   \n",
       "199945  46.397181     29.000000              136.06616        1  11.338847   \n",
       "\n",
       "        changeInShotAngle  angleSpeed  \n",
       "101832          12.220919    0.643206  \n",
       "199945          56.262988    4.688582  "
      ]
     },
     "execution_count": 154,
     "metadata": {},
     "output_type": "execute_result"
    }
   ],
   "source": [
    "train_df[features].head(2)"
   ]
  },
  {
   "cell_type": "code",
   "execution_count": 155,
   "id": "86d05050",
   "metadata": {},
   "outputs": [],
   "source": [
    "#take categorical features\n",
    "non_categorical = ['gameSeconds','timeFromLastEvent','shotAngle','shotDistance','distanceFromLastEvent','speed','changeInShotAngle','angleSpeed']\n",
    "features_cat = [x for x in features.copy() if x not in non_categorical.copy()]"
   ]
  },
  {
   "cell_type": "code",
   "execution_count": 156,
   "id": "d3c20f93",
   "metadata": {},
   "outputs": [
    {
     "data": {
      "text/plain": [
       "['gamePeriod', 'shotType', 'lastEventType', 'rebound']"
      ]
     },
     "execution_count": 156,
     "metadata": {},
     "output_type": "execute_result"
    }
   ],
   "source": [
    "features_cat"
   ]
  },
  {
   "cell_type": "code",
   "execution_count": 157,
   "id": "80d837b6",
   "metadata": {},
   "outputs": [
    {
     "name": "stdout",
     "output_type": "stream",
     "text": [
      "The best features are:['gamePeriod', 'lastEventType', 'rebound']\n"
     ]
    }
   ],
   "source": [
    "#taken from https://medium.com/analytics-vidhya/feature-selection-using-scikit-learn-5b4362e0c19b\n",
    "from sklearn.feature_selection import SelectKBest, chi2\n",
    "\n",
    "X_3_best= SelectKBest(chi2, k=3).fit(train_df[features_cat], train_df[label])\n",
    "mask = X_3_best.get_support() #list of booleans for selected features\n",
    "new_feat = [] \n",
    "for bool, feature in zip(mask, train_df[features_cat].columns):\n",
    "  if bool:\n",
    "    new_feat.append(feature)\n",
    "print(\"The best features are:{}\".format(new_feat)) # The list of your 3 best features"
   ]
  },
  {
   "cell_type": "code",
   "execution_count": 158,
   "id": "36ae01c6",
   "metadata": {
    "scrolled": true
   },
   "outputs": [
    {
     "name": "stdout",
     "output_type": "stream",
     "text": [
      "['gamePeriod', 'lastEventType', 'rebound', 'gameSeconds', 'timeFromLastEvent', 'shotAngle', 'shotDistance', 'distanceFromLastEvent', 'speed', 'changeInShotAngle', 'angleSpeed']\n"
     ]
    }
   ],
   "source": [
    "features_sel = new_feat + non_categorical\n",
    "print(features_sel)"
   ]
  },
  {
   "cell_type": "markdown",
   "id": "48a33157",
   "metadata": {},
   "source": [
    "# Split train validation set"
   ]
  },
  {
   "cell_type": "code",
   "execution_count": 159,
   "id": "acd8eac3",
   "metadata": {},
   "outputs": [
    {
     "data": {
      "text/plain": [
       "((248898, 12),\n",
       " (248898, 1),\n",
       " (82966, 12),\n",
       " (82966, 1),\n",
       " (66366, 12),\n",
       " (66366, 1),\n",
       " (7802, 12),\n",
       " (7802, 1))"
      ]
     },
     "execution_count": 159,
     "metadata": {},
     "output_type": "execute_result"
    }
   ],
   "source": [
    "from sklearn.model_selection import train_test_split\n",
    "X_train, X_valid, y_train, y_valid = train_test_split(train_df[features].copy(), train_df[label].copy(), test_size=0.25, random_state=42)\n",
    "\n",
    "\n",
    "\n",
    "#for part 7\n",
    "X_test_playoff = test_df_playoff[features].copy()\n",
    "y_test_playoff = test_df_playoff[label].copy()\n",
    "\n",
    "X_test_regular = test_df_regular[features].copy()\n",
    "y_test_regular = test_df_regular[label].copy()\n",
    "\n",
    "X_train.shape, y_train.shape, X_valid.shape, y_valid.shape,X_test_regular.shape, y_test_regular.shape, X_test_playoff.shape, y_test_playoff.shape"
   ]
  },
  {
   "cell_type": "code",
   "execution_count": 160,
   "id": "833cc627",
   "metadata": {},
   "outputs": [
    {
     "data": {
      "text/html": [
       "<div>\n",
       "<style scoped>\n",
       "    .dataframe tbody tr th:only-of-type {\n",
       "        vertical-align: middle;\n",
       "    }\n",
       "\n",
       "    .dataframe tbody tr th {\n",
       "        vertical-align: top;\n",
       "    }\n",
       "\n",
       "    .dataframe thead th {\n",
       "        text-align: right;\n",
       "    }\n",
       "</style>\n",
       "<table border=\"1\" class=\"dataframe\">\n",
       "  <thead>\n",
       "    <tr style=\"text-align: right;\">\n",
       "      <th></th>\n",
       "      <th>gameSeconds</th>\n",
       "      <th>timeFromLastEvent</th>\n",
       "      <th>gamePeriod</th>\n",
       "      <th>shotType</th>\n",
       "      <th>lastEventType</th>\n",
       "      <th>shotAngle</th>\n",
       "      <th>shotDistance</th>\n",
       "      <th>distanceFromLastEvent</th>\n",
       "      <th>rebound</th>\n",
       "      <th>speed</th>\n",
       "      <th>changeInShotAngle</th>\n",
       "      <th>angleSpeed</th>\n",
       "    </tr>\n",
       "  </thead>\n",
       "  <tbody>\n",
       "    <tr>\n",
       "      <th>70435</th>\n",
       "      <td>1186.0</td>\n",
       "      <td>3.0</td>\n",
       "      <td>1</td>\n",
       "      <td>6</td>\n",
       "      <td>2</td>\n",
       "      <td>11.633634</td>\n",
       "      <td>138.852440</td>\n",
       "      <td>42.011903</td>\n",
       "      <td>0</td>\n",
       "      <td>14.003968</td>\n",
       "      <td>0.000000</td>\n",
       "      <td>0.000000</td>\n",
       "    </tr>\n",
       "    <tr>\n",
       "      <th>69276</th>\n",
       "      <td>166.0</td>\n",
       "      <td>16.0</td>\n",
       "      <td>4</td>\n",
       "      <td>0</td>\n",
       "      <td>7</td>\n",
       "      <td>-7.961751</td>\n",
       "      <td>144.391828</td>\n",
       "      <td>42.154478</td>\n",
       "      <td>1</td>\n",
       "      <td>2.634655</td>\n",
       "      <td>16.470454</td>\n",
       "      <td>1.029403</td>\n",
       "    </tr>\n",
       "    <tr>\n",
       "      <th>72723</th>\n",
       "      <td>322.0</td>\n",
       "      <td>32.0</td>\n",
       "      <td>2</td>\n",
       "      <td>3</td>\n",
       "      <td>4</td>\n",
       "      <td>5.194429</td>\n",
       "      <td>176.725776</td>\n",
       "      <td>21.540659</td>\n",
       "      <td>0</td>\n",
       "      <td>0.673146</td>\n",
       "      <td>0.000000</td>\n",
       "      <td>0.000000</td>\n",
       "    </tr>\n",
       "    <tr>\n",
       "      <th>72121</th>\n",
       "      <td>153.0</td>\n",
       "      <td>19.0</td>\n",
       "      <td>4</td>\n",
       "      <td>6</td>\n",
       "      <td>4</td>\n",
       "      <td>-4.763642</td>\n",
       "      <td>168.582324</td>\n",
       "      <td>18.000000</td>\n",
       "      <td>0</td>\n",
       "      <td>0.947368</td>\n",
       "      <td>0.000000</td>\n",
       "      <td>0.000000</td>\n",
       "    </tr>\n",
       "    <tr>\n",
       "      <th>75962</th>\n",
       "      <td>6.0</td>\n",
       "      <td>6.0</td>\n",
       "      <td>4</td>\n",
       "      <td>2</td>\n",
       "      <td>1</td>\n",
       "      <td>15.662106</td>\n",
       "      <td>111.126055</td>\n",
       "      <td>34.985711</td>\n",
       "      <td>0</td>\n",
       "      <td>5.830952</td>\n",
       "      <td>0.000000</td>\n",
       "      <td>0.000000</td>\n",
       "    </tr>\n",
       "  </tbody>\n",
       "</table>\n",
       "</div>"
      ],
      "text/plain": [
       "       gameSeconds  timeFromLastEvent  gamePeriod  shotType  lastEventType  \\\n",
       "70435       1186.0                3.0           1         6              2   \n",
       "69276        166.0               16.0           4         0              7   \n",
       "72723        322.0               32.0           2         3              4   \n",
       "72121        153.0               19.0           4         6              4   \n",
       "75962          6.0                6.0           4         2              1   \n",
       "\n",
       "       shotAngle  shotDistance  distanceFromLastEvent  rebound      speed  \\\n",
       "70435  11.633634    138.852440              42.011903        0  14.003968   \n",
       "69276  -7.961751    144.391828              42.154478        1   2.634655   \n",
       "72723   5.194429    176.725776              21.540659        0   0.673146   \n",
       "72121  -4.763642    168.582324              18.000000        0   0.947368   \n",
       "75962  15.662106    111.126055              34.985711        0   5.830952   \n",
       "\n",
       "       changeInShotAngle  angleSpeed  \n",
       "70435           0.000000    0.000000  \n",
       "69276          16.470454    1.029403  \n",
       "72723           0.000000    0.000000  \n",
       "72121           0.000000    0.000000  \n",
       "75962           0.000000    0.000000  "
      ]
     },
     "execution_count": 160,
     "metadata": {},
     "output_type": "execute_result"
    }
   ],
   "source": [
    "X_test_playoff.head()"
   ]
  },
  {
   "cell_type": "markdown",
   "id": "11107435",
   "metadata": {},
   "source": [
    "## Normalize numerical columns"
   ]
  },
  {
   "cell_type": "code",
   "execution_count": 161,
   "id": "c5d3b20e",
   "metadata": {},
   "outputs": [
    {
     "name": "stdout",
     "output_type": "stream",
     "text": [
      "['gameSeconds', 'timeFromLastEvent', 'shotAngle', 'shotDistance', 'distanceFromLastEvent', 'speed', 'changeInShotAngle', 'angleSpeed']\n"
     ]
    }
   ],
   "source": [
    "num = non_categorical.copy()\n",
    "print(num)"
   ]
  },
  {
   "cell_type": "code",
   "execution_count": 162,
   "id": "0de3eeea",
   "metadata": {},
   "outputs": [],
   "source": [
    "from sklearn.preprocessing import StandardScaler\n",
    "\n",
    "scaler = StandardScaler()\n",
    "scaler.fit(X_train[num])\n",
    "\n",
    "X_train[num] = scaler.transform(X_train[num])\n",
    "X_valid[num] = scaler.transform(X_valid[num])\n",
    "X_test_playoff[num]= scaler.transform(X_test_playoff[num])\n",
    "X_test_regular[num]=scaler.transform(X_test_regular[num])"
   ]
  },
  {
   "cell_type": "code",
   "execution_count": 163,
   "id": "185ff94f",
   "metadata": {
    "scrolled": true
   },
   "outputs": [
    {
     "data": {
      "text/html": [
       "<div>\n",
       "<style scoped>\n",
       "    .dataframe tbody tr th:only-of-type {\n",
       "        vertical-align: middle;\n",
       "    }\n",
       "\n",
       "    .dataframe tbody tr th {\n",
       "        vertical-align: top;\n",
       "    }\n",
       "\n",
       "    .dataframe thead th {\n",
       "        text-align: right;\n",
       "    }\n",
       "</style>\n",
       "<table border=\"1\" class=\"dataframe\">\n",
       "  <thead>\n",
       "    <tr style=\"text-align: right;\">\n",
       "      <th></th>\n",
       "      <th>gameSeconds</th>\n",
       "      <th>timeFromLastEvent</th>\n",
       "      <th>gamePeriod</th>\n",
       "      <th>shotType</th>\n",
       "      <th>lastEventType</th>\n",
       "      <th>shotAngle</th>\n",
       "      <th>shotDistance</th>\n",
       "      <th>distanceFromLastEvent</th>\n",
       "      <th>rebound</th>\n",
       "      <th>speed</th>\n",
       "      <th>changeInShotAngle</th>\n",
       "      <th>angleSpeed</th>\n",
       "    </tr>\n",
       "  </thead>\n",
       "  <tbody>\n",
       "    <tr>\n",
       "      <th>168008</th>\n",
       "      <td>0.597418</td>\n",
       "      <td>0.641036</td>\n",
       "      <td>1</td>\n",
       "      <td>0</td>\n",
       "      <td>8</td>\n",
       "      <td>-1.487151</td>\n",
       "      <td>-0.781001</td>\n",
       "      <td>-0.074427</td>\n",
       "      <td>0</td>\n",
       "      <td>-0.559012</td>\n",
       "      <td>-0.364763</td>\n",
       "      <td>-0.234199</td>\n",
       "    </tr>\n",
       "    <tr>\n",
       "      <th>55097</th>\n",
       "      <td>0.384890</td>\n",
       "      <td>1.182264</td>\n",
       "      <td>2</td>\n",
       "      <td>2</td>\n",
       "      <td>5</td>\n",
       "      <td>0.128778</td>\n",
       "      <td>0.365853</td>\n",
       "      <td>1.218030</td>\n",
       "      <td>0</td>\n",
       "      <td>-0.436799</td>\n",
       "      <td>-0.364763</td>\n",
       "      <td>-0.234199</td>\n",
       "    </tr>\n",
       "    <tr>\n",
       "      <th>243603</th>\n",
       "      <td>-1.372767</td>\n",
       "      <td>-0.103152</td>\n",
       "      <td>1</td>\n",
       "      <td>6</td>\n",
       "      <td>4</td>\n",
       "      <td>-1.852126</td>\n",
       "      <td>-0.705111</td>\n",
       "      <td>-0.951304</td>\n",
       "      <td>0</td>\n",
       "      <td>-0.662611</td>\n",
       "      <td>-0.364763</td>\n",
       "      <td>-0.234199</td>\n",
       "    </tr>\n",
       "    <tr>\n",
       "      <th>37866</th>\n",
       "      <td>0.264267</td>\n",
       "      <td>-0.035498</td>\n",
       "      <td>1</td>\n",
       "      <td>3</td>\n",
       "      <td>4</td>\n",
       "      <td>-1.608402</td>\n",
       "      <td>-0.038338</td>\n",
       "      <td>0.793731</td>\n",
       "      <td>0</td>\n",
       "      <td>-0.141905</td>\n",
       "      <td>-0.364763</td>\n",
       "      <td>-0.234199</td>\n",
       "    </tr>\n",
       "    <tr>\n",
       "      <th>126717</th>\n",
       "      <td>0.603162</td>\n",
       "      <td>1.655838</td>\n",
       "      <td>3</td>\n",
       "      <td>3</td>\n",
       "      <td>5</td>\n",
       "      <td>-0.071957</td>\n",
       "      <td>-0.256981</td>\n",
       "      <td>0.745879</td>\n",
       "      <td>0</td>\n",
       "      <td>-0.552261</td>\n",
       "      <td>-0.364763</td>\n",
       "      <td>-0.234199</td>\n",
       "    </tr>\n",
       "  </tbody>\n",
       "</table>\n",
       "</div>"
      ],
      "text/plain": [
       "        gameSeconds  timeFromLastEvent  gamePeriod  shotType  lastEventType  \\\n",
       "168008     0.597418           0.641036           1         0              8   \n",
       "55097      0.384890           1.182264           2         2              5   \n",
       "243603    -1.372767          -0.103152           1         6              4   \n",
       "37866      0.264267          -0.035498           1         3              4   \n",
       "126717     0.603162           1.655838           3         3              5   \n",
       "\n",
       "        shotAngle  shotDistance  distanceFromLastEvent  rebound     speed  \\\n",
       "168008  -1.487151     -0.781001              -0.074427        0 -0.559012   \n",
       "55097    0.128778      0.365853               1.218030        0 -0.436799   \n",
       "243603  -1.852126     -0.705111              -0.951304        0 -0.662611   \n",
       "37866   -1.608402     -0.038338               0.793731        0 -0.141905   \n",
       "126717  -0.071957     -0.256981               0.745879        0 -0.552261   \n",
       "\n",
       "        changeInShotAngle  angleSpeed  \n",
       "168008          -0.364763   -0.234199  \n",
       "55097           -0.364763   -0.234199  \n",
       "243603          -0.364763   -0.234199  \n",
       "37866           -0.364763   -0.234199  \n",
       "126717          -0.364763   -0.234199  "
      ]
     },
     "execution_count": 163,
     "metadata": {},
     "output_type": "execute_result"
    }
   ],
   "source": [
    "X_train.head()"
   ]
  },
  {
   "cell_type": "markdown",
   "id": "19fcf6e4",
   "metadata": {},
   "source": [
    "# Imbalnced Data check"
   ]
  },
  {
   "cell_type": "markdown",
   "id": "4a881782",
   "metadata": {},
   "source": [
    "Based on the imbalanced data tutorial by tensorflow\n",
    "https://www.tensorflow.org/tutorials/structured_data/imbalanced_data"
   ]
  },
  {
   "cell_type": "code",
   "execution_count": 164,
   "id": "13cbeff7-f73b-4503-b6b4-bb27d41bf67c",
   "metadata": {
    "scrolled": false
   },
   "outputs": [
    {
     "data": {
      "text/plain": [
       "isGoal\n",
       "0         226410\n",
       "1          22488\n",
       "dtype: int64"
      ]
     },
     "execution_count": 164,
     "metadata": {},
     "output_type": "execute_result"
    }
   ],
   "source": [
    "y_train.value_counts()"
   ]
  },
  {
   "cell_type": "code",
   "execution_count": 165,
   "id": "55d557e8",
   "metadata": {},
   "outputs": [
    {
     "name": "stdout",
     "output_type": "stream",
     "text": [
      "Examples:\n",
      "    Total: 248898\n",
      "    Positive: 22488 (9.04% of total)\n",
      "\n"
     ]
    }
   ],
   "source": [
    "neg, pos = np.bincount(y_train['isGoal'])\n",
    "total = neg + pos\n",
    "print('Examples:\\n    Total: {}\\n    Positive: {} ({:.2f}% of total)\\n'.format(\n",
    "    total, pos, 100 * pos / total))"
   ]
  },
  {
   "cell_type": "markdown",
   "id": "26e155d0",
   "metadata": {},
   "source": [
    "### This means that only ~9% of the data is goals -> unbalanced data "
   ]
  },
  {
   "cell_type": "markdown",
   "id": "e9a8a25f-51ca-41b5-98de-d3fb60fc180e",
   "metadata": {},
   "source": [
    "# Neural Network with KERAS"
   ]
  },
  {
   "cell_type": "code",
   "execution_count": 166,
   "id": "12dfee0c",
   "metadata": {},
   "outputs": [],
   "source": [
    "# convert to tf.data.Dataset\n",
    "train_ds = tf.data.Dataset.from_tensor_slices((X_train, y_train))\n",
    "val_ds = tf.data.Dataset.from_tensor_slices((X_valid, y_valid))\n",
    "\n",
    "test_playoff_ds = tf.data.Dataset.from_tensor_slices((X_test_playoff, y_test_playoff))\n",
    "test_regular_ds = tf.data.Dataset.from_tensor_slices((X_test_regular, y_test_regular))"
   ]
  },
  {
   "cell_type": "code",
   "execution_count": 167,
   "id": "d708118e",
   "metadata": {
    "scrolled": true
   },
   "outputs": [
    {
     "name": "stdout",
     "output_type": "stream",
     "text": [
      "Data: [ 0.59741767  0.64103623  1.          0.          8.         -1.48715114\n",
      " -0.7810011  -0.07442705  0.         -0.55901174 -0.36476326 -0.23419933], Target: [0]\n",
      "\n",
      "Data: [ 0.3848905   1.18226368  2.          2.          5.          0.12877789\n",
      "  0.36585295  1.2180297   0.         -0.43679873 -0.36476326 -0.23419933], Target: [0]\n",
      "\n"
     ]
    }
   ],
   "source": [
    "for inputs, targets in train_ds.take(2):\n",
    "    print ('Data: {}, Target: {}'.format(inputs, targets))\n",
    "    print()"
   ]
  },
  {
   "cell_type": "code",
   "execution_count": 168,
   "id": "ebedf400",
   "metadata": {
    "scrolled": true
   },
   "outputs": [
    {
     "name": "stdout",
     "output_type": "stream",
     "text": [
      "248898\n"
     ]
    }
   ],
   "source": [
    "print(train_ds.cardinality().numpy())"
   ]
  },
  {
   "cell_type": "code",
   "execution_count": 169,
   "id": "ac2ef8f1",
   "metadata": {},
   "outputs": [
    {
     "name": "stdout",
     "output_type": "stream",
     "text": [
      "82966\n"
     ]
    }
   ],
   "source": [
    "print(val_ds.cardinality().numpy())"
   ]
  },
  {
   "cell_type": "code",
   "execution_count": 170,
   "id": "e302f307",
   "metadata": {
    "scrolled": false
   },
   "outputs": [
    {
     "name": "stdout",
     "output_type": "stream",
     "text": [
      "Data:  [[ 0.59741767  0.64103623  1.          0.          8.         -1.48715114\n",
      "  -0.7810011  -0.07442705  0.         -0.55901174 -0.36476326 -0.23419933]\n",
      " [ 0.3848905   1.18226368  2.          2.          5.          0.12877789\n",
      "   0.36585295  1.2180297   0.         -0.43679873 -0.36476326 -0.23419933]\n",
      " [-1.3727667  -0.10315152  1.          6.          4.         -1.85212649\n",
      "  -0.70511101 -0.95130375  0.         -0.66261102 -0.36476326 -0.23419933]]\n",
      "Target:  [[0]\n",
      " [0]\n",
      " [0]]\n",
      "\n",
      "Data:  [[ 4.59958081e-02 -1.03151518e-01  2.00000000e+00  3.00000000e+00\n",
      "   7.00000000e+00  1.44191473e+00 -6.27018924e-01  1.10039671e+00\n",
      "   1.00000000e+00  4.00963457e-03  1.64965756e+00  1.86070323e-01]\n",
      " [ 7.78352973e-01 -6.44378970e-01  1.00000000e+00  6.00000000e+00\n",
      "   1.00000000e+00  8.26817691e-01  8.01017128e-01 -9.93832620e-02\n",
      "   0.00000000e+00  1.52793942e-01 -3.64763260e-01 -2.34199326e-01]\n",
      " [-1.35553477e+00 -9.82646128e-01  1.00000000e+00  3.00000000e+00\n",
      "   7.00000000e+00 -2.19019503e-01 -9.94658828e-01 -6.66551117e-01\n",
      "   1.00000000e+00  2.28569031e+00  1.58675130e+00  5.46583747e+00]]\n",
      "Target:  [[0]\n",
      " [0]\n",
      " [0]]\n",
      "\n",
      "Data:  [[-0.97643223 -0.03549809  3.          6.          5.          1.15203958\n",
      "  -0.196775   -0.98661352  0.         -0.68179581 -0.36476326 -0.23419933]\n",
      " [-1.05110394 -0.77968583  2.          6.          0.         -0.24672473\n",
      "  -0.15412922 -1.0885682   0.         -0.50081624 -0.36476326 -0.23419933]\n",
      " [-1.17747146 -0.44141868  1.          6.          5.          1.1529395\n",
      "   0.34806906 -0.49965239  0.         -0.36369616 -0.36476326 -0.23419933]]\n",
      "Target:  [[0]\n",
      " [0]\n",
      " [0]]\n",
      "\n"
     ]
    }
   ],
   "source": [
    "BATCH_SIZE = 512\n",
    "\n",
    "train_ds = train_ds.batch(BATCH_SIZE)\n",
    "val_ds = val_ds.batch(BATCH_SIZE)\n",
    "\n",
    "for inputs, targets in train_ds.take(3):\n",
    "    print('Data: ', inputs.numpy()[:3])\n",
    "    print('Target: ', targets.numpy()[:3])\n",
    "    print()"
   ]
  },
  {
   "cell_type": "code",
   "execution_count": 171,
   "id": "e9e8f219",
   "metadata": {},
   "outputs": [],
   "source": [
    "METRICS = [\n",
    "      keras.metrics.TruePositives(name='tp'),\n",
    "      keras.metrics.FalsePositives(name='fp'),\n",
    "      keras.metrics.TrueNegatives(name='tn'),\n",
    "      keras.metrics.FalseNegatives(name='fn'), \n",
    "      keras.metrics.BinaryAccuracy(name='accuracy'),\n",
    "      keras.metrics.Precision(name='precision'),\n",
    "      keras.metrics.Recall(name='recall'),\n",
    "      keras.metrics.AUC(name='auc'),\n",
    "      keras.metrics.AUC(name='prc', curve='PR'), # precision-recall curve\n",
    "]"
   ]
  },
  {
   "cell_type": "code",
   "execution_count": 172,
   "id": "7f626bdb-edee-4a26-a1af-67706861235b",
   "metadata": {},
   "outputs": [],
   "source": [
    "def build_model(metrics=METRICS, output_bias=None):\n",
    "    \n",
    "    if output_bias is not None:\n",
    "        output_bias = tf.keras.initializers.Constant(output_bias)\n",
    "    \n",
    "    model = keras.models.Sequential()\n",
    "    \n",
    "    #Input Layer\n",
    "    model.add(layers.InputLayer(input_shape=(X_train.shape[-1],)))\n",
    "    \n",
    "    # first fc layer\n",
    "    \n",
    "    model.add(layers.Dense(128, kernel_initializer='lecun_normal', activation='selu'))\n",
    "    model.add(layers.AlphaDropout(0.1))\n",
    "      \n",
    "    model.add(layers.Dense(64, kernel_initializer='lecun_normal', activation='selu'))\n",
    "    model.add(layers.AlphaDropout(0.1))\n",
    "    \n",
    "    model.add(layers.Dense(16, kernel_initializer='lecun_normal', activation='selu'))\n",
    "    model.add(layers.AlphaDropout(0.1))\n",
    "    \n",
    "    \n",
    "    # Last fc layer \n",
    "    # We choose the activation method as a sigmoid to get an output ranging between [0, 1]\n",
    "    model.add(layers.Dense(1, activation='sigmoid', bias_initializer=output_bias, name='target'))\n",
    "    \n",
    "    # Compile The model\n",
    "    global LEARNING_RATE\n",
    "    LEARNING_RATE= 1e-2\n",
    "\n",
    "    model.compile(optimizer = tf.keras.optimizers.Adam(learning_rate=LEARNING_RATE),\n",
    "              loss = keras.losses.BinaryCrossentropy(from_logits=False),\n",
    "              metrics = METRICS)\n",
    "\n",
    "    return model"
   ]
  },
  {
   "cell_type": "markdown",
   "id": "1b07df1a",
   "metadata": {},
   "source": [
    "### Set the correct initial bias\n"
   ]
  },
  {
   "cell_type": "markdown",
   "id": "00f54058",
   "metadata": {},
   "source": [
    "This way the model doesn't need to spend the first few epochs just learning that positive examples are unlikely. This also makes it easier to read plots of the loss during training."
   ]
  },
  {
   "cell_type": "code",
   "execution_count": 173,
   "id": "d35e650b",
   "metadata": {
    "scrolled": true
   },
   "outputs": [
    {
     "data": {
      "text/plain": [
       "array([-2.30936568])"
      ]
     },
     "execution_count": 173,
     "metadata": {},
     "output_type": "execute_result"
    }
   ],
   "source": [
    "initial_bias = np.log([pos/neg])\n",
    "initial_bias"
   ]
  },
  {
   "cell_type": "markdown",
   "id": "0a951a96",
   "metadata": {},
   "source": [
    "## Calculate class weights"
   ]
  },
  {
   "cell_type": "code",
   "execution_count": 174,
   "id": "817daab9",
   "metadata": {
    "scrolled": true
   },
   "outputs": [
    {
     "name": "stdout",
     "output_type": "stream",
     "text": [
      "Weight for class 0: 0.55\n",
      "Weight for class 1: 5.53\n"
     ]
    }
   ],
   "source": [
    "# Scaling by total/2 helps keep the loss to a similar magnitude.\n",
    "# The sum of the weights of all examples stays the same.\n",
    "weight_for_0 = (1 / neg) * (total / 2.0)\n",
    "weight_for_1 = (1 / pos) * (total / 2.0)\n",
    "\n",
    "class_weight = {0: weight_for_0, 1: weight_for_1}\n",
    "\n",
    "print('Weight for class 0: {:.2f}'.format(weight_for_0))\n",
    "print('Weight for class 1: {:.2f}'.format(weight_for_1))"
   ]
  },
  {
   "cell_type": "markdown",
   "id": "7edc4436",
   "metadata": {},
   "source": [
    "PS: We use \"Adam\" optimiser since it's unaffected by the scaling here"
   ]
  },
  {
   "cell_type": "code",
   "execution_count": 175,
   "id": "5f3d2275",
   "metadata": {},
   "outputs": [],
   "source": [
    "#we change it from 50 to 100\n",
    "EPOCHS = 100"
   ]
  },
  {
   "cell_type": "code",
   "execution_count": 176,
   "id": "eccd0fc4",
   "metadata": {},
   "outputs": [
    {
     "name": "stdout",
     "output_type": "stream",
     "text": [
      "Model: \"sequential_5\"\n",
      "_________________________________________________________________\n",
      " Layer (type)                Output Shape              Param #   \n",
      "=================================================================\n",
      " dense_21 (Dense)            (None, 128)               1664      \n",
      "                                                                 \n",
      " alpha_dropout_21 (AlphaDrop  (None, 128)              0         \n",
      " out)                                                            \n",
      "                                                                 \n",
      " dense_22 (Dense)            (None, 64)                8256      \n",
      "                                                                 \n",
      " alpha_dropout_22 (AlphaDrop  (None, 64)               0         \n",
      " out)                                                            \n",
      "                                                                 \n",
      " dense_23 (Dense)            (None, 16)                1040      \n",
      "                                                                 \n",
      " alpha_dropout_23 (AlphaDrop  (None, 16)               0         \n",
      " out)                                                            \n",
      "                                                                 \n",
      " target (Dense)              (None, 1)                 17        \n",
      "                                                                 \n",
      "=================================================================\n",
      "Total params: 10,977\n",
      "Trainable params: 10,977\n",
      "Non-trainable params: 0\n",
      "_________________________________________________________________\n",
      "None\n"
     ]
    }
   ],
   "source": [
    "weighted_model = build_model(output_bias=initial_bias)\n",
    "#weighted_model.load_weights(initial_weights)\n",
    "\n",
    "print(weighted_model.summary())"
   ]
  },
  {
   "cell_type": "code",
   "execution_count": 177,
   "id": "8ca28cf7",
   "metadata": {},
   "outputs": [],
   "source": [
    "stop_early = tf.keras.callbacks.EarlyStopping(\n",
    "    monitor='val_prc', \n",
    "    patience=10, \n",
    "    verbose=1, \n",
    "    mode='max',\n",
    "    restore_best_weights=True)"
   ]
  },
  {
   "cell_type": "code",
   "execution_count": 178,
   "id": "1490ab30",
   "metadata": {},
   "outputs": [
    {
     "name": "stdout",
     "output_type": "stream",
     "text": [
      "Epoch 1/100\n",
      "487/487 [==============================] - 8s 12ms/step - loss: 0.6558 - tp: 13979.0000 - fp: 83044.0000 - tn: 143366.0000 - fn: 8509.0000 - accuracy: 0.6322 - precision: 0.1441 - recall: 0.6216 - auc: 0.6690 - prc: 0.1555 - val_loss: 0.8122 - val_tp: 6242.0000 - val_fp: 40271.0000 - val_tn: 35194.0000 - val_fn: 1259.0000 - val_accuracy: 0.4994 - val_precision: 0.1342 - val_recall: 0.8322 - val_auc: 0.7141 - val_prc: 0.1874\n",
      "Epoch 2/100\n",
      "487/487 [==============================] - 4s 8ms/step - loss: 0.6270 - tp: 15541.0000 - fp: 86385.0000 - tn: 140025.0000 - fn: 6947.0000 - accuracy: 0.6250 - precision: 0.1525 - recall: 0.6911 - auc: 0.7049 - prc: 0.1769 - val_loss: 0.8501 - val_tp: 6304.0000 - val_fp: 40507.0000 - val_tn: 34958.0000 - val_fn: 1197.0000 - val_accuracy: 0.4973 - val_precision: 0.1347 - val_recall: 0.8404 - val_auc: 0.7220 - val_prc: 0.1964\n",
      "Epoch 3/100\n",
      "487/487 [==============================] - 4s 8ms/step - loss: 0.6229 - tp: 15598.0000 - fp: 85585.0000 - tn: 140825.0000 - fn: 6890.0000 - accuracy: 0.6285 - precision: 0.1542 - recall: 0.6936 - auc: 0.7107 - prc: 0.1829 - val_loss: 0.8986 - val_tp: 6541.0000 - val_fp: 44035.0000 - val_tn: 31430.0000 - val_fn: 960.0000 - val_accuracy: 0.4577 - val_precision: 0.1293 - val_recall: 0.8720 - val_auc: 0.7220 - val_prc: 0.1823\n",
      "Epoch 4/100\n",
      "487/487 [==============================] - 4s 8ms/step - loss: 0.6211 - tp: 15765.0000 - fp: 85804.0000 - tn: 140606.0000 - fn: 6723.0000 - accuracy: 0.6283 - precision: 0.1552 - recall: 0.7010 - auc: 0.7134 - prc: 0.1854 - val_loss: 0.8690 - val_tp: 6448.0000 - val_fp: 42423.0000 - val_tn: 33042.0000 - val_fn: 1053.0000 - val_accuracy: 0.4760 - val_precision: 0.1319 - val_recall: 0.8596 - val_auc: 0.7275 - val_prc: 0.2051\n",
      "Epoch 5/100\n",
      "487/487 [==============================] - 4s 8ms/step - loss: 0.6197 - tp: 15731.0000 - fp: 85579.0000 - tn: 140831.0000 - fn: 6757.0000 - accuracy: 0.6290 - precision: 0.1553 - recall: 0.6995 - auc: 0.7154 - prc: 0.1879 - val_loss: 0.8775 - val_tp: 6506.0000 - val_fp: 43177.0000 - val_tn: 32288.0000 - val_fn: 995.0000 - val_accuracy: 0.4676 - val_precision: 0.1310 - val_recall: 0.8674 - val_auc: 0.7309 - val_prc: 0.2067\n",
      "Epoch 6/100\n",
      "487/487 [==============================] - 4s 8ms/step - loss: 0.6178 - tp: 16037.0000 - fp: 87142.0000 - tn: 139268.0000 - fn: 6451.0000 - accuracy: 0.6240 - precision: 0.1554 - recall: 0.7131 - auc: 0.7176 - prc: 0.1885 - val_loss: 0.8537 - val_tp: 6333.0000 - val_fp: 40091.0000 - val_tn: 35374.0000 - val_fn: 1168.0000 - val_accuracy: 0.5027 - val_precision: 0.1364 - val_recall: 0.8443 - val_auc: 0.7331 - val_prc: 0.2097\n",
      "Epoch 7/100\n",
      "487/487 [==============================] - 4s 8ms/step - loss: 0.6180 - tp: 16011.0000 - fp: 87430.0000 - tn: 138980.0000 - fn: 6477.0000 - accuracy: 0.6227 - precision: 0.1548 - recall: 0.7120 - auc: 0.7181 - prc: 0.1902 - val_loss: 0.8723 - val_tp: 6399.0000 - val_fp: 40800.0000 - val_tn: 34665.0000 - val_fn: 1102.0000 - val_accuracy: 0.4949 - val_precision: 0.1356 - val_recall: 0.8531 - val_auc: 0.7345 - val_prc: 0.2152\n",
      "Epoch 8/100\n",
      "487/487 [==============================] - 4s 8ms/step - loss: 0.6158 - tp: 15984.0000 - fp: 85053.0000 - tn: 141357.0000 - fn: 6504.0000 - accuracy: 0.6322 - precision: 0.1582 - recall: 0.7108 - auc: 0.7210 - prc: 0.1918 - val_loss: 0.8735 - val_tp: 6430.0000 - val_fp: 41228.0000 - val_tn: 34237.0000 - val_fn: 1071.0000 - val_accuracy: 0.4902 - val_precision: 0.1349 - val_recall: 0.8572 - val_auc: 0.7350 - val_prc: 0.2146\n",
      "Epoch 9/100\n",
      "487/487 [==============================] - 4s 8ms/step - loss: 0.6147 - tp: 16018.0000 - fp: 85434.0000 - tn: 140976.0000 - fn: 6470.0000 - accuracy: 0.6308 - precision: 0.1579 - recall: 0.7123 - auc: 0.7222 - prc: 0.1946 - val_loss: 0.8734 - val_tp: 6226.0000 - val_fp: 37460.0000 - val_tn: 38005.0000 - val_fn: 1275.0000 - val_accuracy: 0.5331 - val_precision: 0.1425 - val_recall: 0.8300 - val_auc: 0.7373 - val_prc: 0.2178\n",
      "Epoch 10/100\n",
      "487/487 [==============================] - 4s 8ms/step - loss: 0.6149 - tp: 16169.0000 - fp: 86704.0000 - tn: 139706.0000 - fn: 6319.0000 - accuracy: 0.6263 - precision: 0.1572 - recall: 0.7190 - auc: 0.7225 - prc: 0.1956 - val_loss: 0.8361 - val_tp: 6182.0000 - val_fp: 37124.0000 - val_tn: 38341.0000 - val_fn: 1319.0000 - val_accuracy: 0.5366 - val_precision: 0.1428 - val_recall: 0.8242 - val_auc: 0.7376 - val_prc: 0.2180\n",
      "Epoch 11/100\n",
      "487/487 [==============================] - 4s 8ms/step - loss: 0.6127 - tp: 16075.0000 - fp: 84907.0000 - tn: 141503.0000 - fn: 6413.0000 - accuracy: 0.6331 - precision: 0.1592 - recall: 0.7148 - auc: 0.7249 - prc: 0.1989 - val_loss: 0.8633 - val_tp: 6359.0000 - val_fp: 39916.0000 - val_tn: 35549.0000 - val_fn: 1142.0000 - val_accuracy: 0.5051 - val_precision: 0.1374 - val_recall: 0.8478 - val_auc: 0.7386 - val_prc: 0.2210\n",
      "Epoch 12/100\n",
      "487/487 [==============================] - 4s 8ms/step - loss: 0.6131 - tp: 16069.0000 - fp: 84972.0000 - tn: 141438.0000 - fn: 6419.0000 - accuracy: 0.6328 - precision: 0.1590 - recall: 0.7146 - auc: 0.7250 - prc: 0.1975 - val_loss: 0.8228 - val_tp: 6117.0000 - val_fp: 36537.0000 - val_tn: 38928.0000 - val_fn: 1384.0000 - val_accuracy: 0.5429 - val_precision: 0.1434 - val_recall: 0.8155 - val_auc: 0.7370 - val_prc: 0.2166\n",
      "Epoch 13/100\n",
      "487/487 [==============================] - 4s 8ms/step - loss: 0.6130 - tp: 16274.0000 - fp: 86712.0000 - tn: 139698.0000 - fn: 6214.0000 - accuracy: 0.6267 - precision: 0.1580 - recall: 0.7237 - auc: 0.7248 - prc: 0.1978 - val_loss: 0.8610 - val_tp: 6398.0000 - val_fp: 40306.0000 - val_tn: 35159.0000 - val_fn: 1103.0000 - val_accuracy: 0.5009 - val_precision: 0.1370 - val_recall: 0.8530 - val_auc: 0.7390 - val_prc: 0.2197\n",
      "Epoch 14/100\n",
      "487/487 [==============================] - 4s 8ms/step - loss: 0.6120 - tp: 16228.0000 - fp: 85824.0000 - tn: 140586.0000 - fn: 6260.0000 - accuracy: 0.6300 - precision: 0.1590 - recall: 0.7216 - auc: 0.7257 - prc: 0.1986 - val_loss: 0.8748 - val_tp: 6279.0000 - val_fp: 38532.0000 - val_tn: 36933.0000 - val_fn: 1222.0000 - val_accuracy: 0.5208 - val_precision: 0.1401 - val_recall: 0.8371 - val_auc: 0.7394 - val_prc: 0.2197\n",
      "Epoch 15/100\n",
      "487/487 [==============================] - 4s 8ms/step - loss: 0.6116 - tp: 16380.0000 - fp: 87091.0000 - tn: 139319.0000 - fn: 6108.0000 - accuracy: 0.6256 - precision: 0.1583 - recall: 0.7284 - auc: 0.7262 - prc: 0.1984 - val_loss: 0.9205 - val_tp: 6268.0000 - val_fp: 38392.0000 - val_tn: 37073.0000 - val_fn: 1233.0000 - val_accuracy: 0.5224 - val_precision: 0.1403 - val_recall: 0.8356 - val_auc: 0.7403 - val_prc: 0.2198\n",
      "Epoch 16/100\n",
      "487/487 [==============================] - 4s 8ms/step - loss: 0.6123 - tp: 16277.0000 - fp: 86087.0000 - tn: 140323.0000 - fn: 6211.0000 - accuracy: 0.6292 - precision: 0.1590 - recall: 0.7238 - auc: 0.7262 - prc: 0.1996 - val_loss: 0.8638 - val_tp: 6229.0000 - val_fp: 37977.0000 - val_tn: 37488.0000 - val_fn: 1272.0000 - val_accuracy: 0.5269 - val_precision: 0.1409 - val_recall: 0.8304 - val_auc: 0.7393 - val_prc: 0.2189\n",
      "Epoch 17/100\n",
      "487/487 [==============================] - 4s 8ms/step - loss: 0.6103 - tp: 16483.0000 - fp: 88041.0000 - tn: 138369.0000 - fn: 6005.0000 - accuracy: 0.6222 - precision: 0.1577 - recall: 0.7330 - auc: 0.7275 - prc: 0.2004 - val_loss: 0.8522 - val_tp: 6132.0000 - val_fp: 36268.0000 - val_tn: 39197.0000 - val_fn: 1369.0000 - val_accuracy: 0.5464 - val_precision: 0.1446 - val_recall: 0.8175 - val_auc: 0.7384 - val_prc: 0.2208\n",
      "Epoch 18/100\n",
      "487/487 [==============================] - 4s 8ms/step - loss: 0.6109 - tp: 16494.0000 - fp: 88230.0000 - tn: 138180.0000 - fn: 5994.0000 - accuracy: 0.6214 - precision: 0.1575 - recall: 0.7335 - auc: 0.7270 - prc: 0.2011 - val_loss: 0.8198 - val_tp: 5913.0000 - val_fp: 33221.0000 - val_tn: 42244.0000 - val_fn: 1588.0000 - val_accuracy: 0.5804 - val_precision: 0.1511 - val_recall: 0.7883 - val_auc: 0.7381 - val_prc: 0.2206\n",
      "Epoch 19/100\n"
     ]
    },
    {
     "name": "stdout",
     "output_type": "stream",
     "text": [
      "487/487 [==============================] - 4s 8ms/step - loss: 0.6113 - tp: 16434.0000 - fp: 87838.0000 - tn: 138572.0000 - fn: 6054.0000 - accuracy: 0.6228 - precision: 0.1576 - recall: 0.7308 - auc: 0.7269 - prc: 0.2022 - val_loss: 0.8424 - val_tp: 6280.0000 - val_fp: 38446.0000 - val_tn: 37019.0000 - val_fn: 1221.0000 - val_accuracy: 0.5219 - val_precision: 0.1404 - val_recall: 0.8372 - val_auc: 0.7384 - val_prc: 0.2211\n",
      "Epoch 20/100\n",
      "487/487 [==============================] - 4s 9ms/step - loss: 0.6105 - tp: 16402.0000 - fp: 86812.0000 - tn: 139598.0000 - fn: 6086.0000 - accuracy: 0.6268 - precision: 0.1589 - recall: 0.7294 - auc: 0.7283 - prc: 0.2033 - val_loss: 0.9110 - val_tp: 6140.0000 - val_fp: 36679.0000 - val_tn: 38786.0000 - val_fn: 1361.0000 - val_accuracy: 0.5415 - val_precision: 0.1434 - val_recall: 0.8186 - val_auc: 0.7362 - val_prc: 0.2180\n",
      "Epoch 21/100\n",
      "487/487 [==============================] - 4s 7ms/step - loss: 0.6123 - tp: 16400.0000 - fp: 87352.0000 - tn: 139058.0000 - fn: 6088.0000 - accuracy: 0.6246 - precision: 0.1581 - recall: 0.7293 - auc: 0.7265 - prc: 0.2002 - val_loss: 0.8797 - val_tp: 6302.0000 - val_fp: 38533.0000 - val_tn: 36932.0000 - val_fn: 1199.0000 - val_accuracy: 0.5211 - val_precision: 0.1406 - val_recall: 0.8402 - val_auc: 0.7401 - val_prc: 0.2211\n",
      "Epoch 22/100\n",
      "487/487 [==============================] - 4s 8ms/step - loss: 0.6094 - tp: 16357.0000 - fp: 86441.0000 - tn: 139969.0000 - fn: 6131.0000 - accuracy: 0.6281 - precision: 0.1591 - recall: 0.7274 - auc: 0.7288 - prc: 0.2038 - val_loss: 0.8633 - val_tp: 6241.0000 - val_fp: 37775.0000 - val_tn: 37690.0000 - val_fn: 1260.0000 - val_accuracy: 0.5295 - val_precision: 0.1418 - val_recall: 0.8320 - val_auc: 0.7389 - val_prc: 0.2184\n",
      "Epoch 23/100\n",
      "487/487 [==============================] - 4s 8ms/step - loss: 0.6104 - tp: 16392.0000 - fp: 86889.0000 - tn: 139521.0000 - fn: 6096.0000 - accuracy: 0.6264 - precision: 0.1587 - recall: 0.7289 - auc: 0.7283 - prc: 0.2002 - val_loss: 0.7801 - val_tp: 6248.0000 - val_fp: 37925.0000 - val_tn: 37540.0000 - val_fn: 1253.0000 - val_accuracy: 0.5278 - val_precision: 0.1414 - val_recall: 0.8330 - val_auc: 0.7371 - val_prc: 0.2175\n",
      "Epoch 24/100\n",
      "487/487 [==============================] - 4s 8ms/step - loss: 0.6106 - tp: 16352.0000 - fp: 86703.0000 - tn: 139707.0000 - fn: 6136.0000 - accuracy: 0.6270 - precision: 0.1587 - recall: 0.7271 - auc: 0.7282 - prc: 0.2022 - val_loss: 0.8943 - val_tp: 6354.0000 - val_fp: 39566.0000 - val_tn: 35899.0000 - val_fn: 1147.0000 - val_accuracy: 0.5093 - val_precision: 0.1384 - val_recall: 0.8471 - val_auc: 0.7390 - val_prc: 0.2172\n",
      "Epoch 25/100\n",
      "487/487 [==============================] - 4s 7ms/step - loss: 0.6093 - tp: 16212.0000 - fp: 84714.0000 - tn: 141696.0000 - fn: 6276.0000 - accuracy: 0.6344 - precision: 0.1606 - recall: 0.7209 - auc: 0.7293 - prc: 0.2018 - val_loss: 0.8342 - val_tp: 6085.0000 - val_fp: 35760.0000 - val_tn: 39705.0000 - val_fn: 1416.0000 - val_accuracy: 0.5519 - val_precision: 0.1454 - val_recall: 0.8112 - val_auc: 0.7396 - val_prc: 0.2223\n",
      "Epoch 26/100\n",
      "487/487 [==============================] - 4s 7ms/step - loss: 0.6091 - tp: 16210.0000 - fp: 84895.0000 - tn: 141515.0000 - fn: 6278.0000 - accuracy: 0.6337 - precision: 0.1603 - recall: 0.7208 - auc: 0.7299 - prc: 0.2051 - val_loss: 0.8557 - val_tp: 6360.0000 - val_fp: 39725.0000 - val_tn: 35740.0000 - val_fn: 1141.0000 - val_accuracy: 0.5074 - val_precision: 0.1380 - val_recall: 0.8479 - val_auc: 0.7406 - val_prc: 0.2231\n",
      "Epoch 27/100\n",
      "487/487 [==============================] - 4s 9ms/step - loss: 0.6078 - tp: 16317.0000 - fp: 85019.0000 - tn: 141391.0000 - fn: 6171.0000 - accuracy: 0.6336 - precision: 0.1610 - recall: 0.7256 - auc: 0.7310 - prc: 0.2056 - val_loss: 0.8740 - val_tp: 6240.0000 - val_fp: 37351.0000 - val_tn: 38114.0000 - val_fn: 1261.0000 - val_accuracy: 0.5346 - val_precision: 0.1431 - val_recall: 0.8319 - val_auc: 0.7423 - val_prc: 0.2228\n",
      "Epoch 28/100\n",
      "487/487 [==============================] - 4s 7ms/step - loss: 0.6082 - tp: 16461.0000 - fp: 85732.0000 - tn: 140678.0000 - fn: 6027.0000 - accuracy: 0.6313 - precision: 0.1611 - recall: 0.7320 - auc: 0.7308 - prc: 0.2043 - val_loss: 0.8090 - val_tp: 6010.0000 - val_fp: 34129.0000 - val_tn: 41336.0000 - val_fn: 1491.0000 - val_accuracy: 0.5707 - val_precision: 0.1497 - val_recall: 0.8012 - val_auc: 0.7411 - val_prc: 0.2213\n",
      "Epoch 29/100\n",
      "487/487 [==============================] - 4s 8ms/step - loss: 0.6087 - tp: 16301.0000 - fp: 85313.0000 - tn: 141097.0000 - fn: 6187.0000 - accuracy: 0.6324 - precision: 0.1604 - recall: 0.7249 - auc: 0.7300 - prc: 0.2025 - val_loss: 0.8288 - val_tp: 6218.0000 - val_fp: 37218.0000 - val_tn: 38247.0000 - val_fn: 1283.0000 - val_accuracy: 0.5359 - val_precision: 0.1432 - val_recall: 0.8290 - val_auc: 0.7421 - val_prc: 0.2244\n",
      "Epoch 30/100\n",
      "487/487 [==============================] - 4s 8ms/step - loss: 0.6120 - tp: 16176.0000 - fp: 84952.0000 - tn: 141458.0000 - fn: 6312.0000 - accuracy: 0.6333 - precision: 0.1600 - recall: 0.7193 - auc: 0.7281 - prc: 0.2028 - val_loss: 0.8992 - val_tp: 6336.0000 - val_fp: 39599.0000 - val_tn: 35866.0000 - val_fn: 1165.0000 - val_accuracy: 0.5087 - val_precision: 0.1379 - val_recall: 0.8447 - val_auc: 0.7406 - val_prc: 0.2229\n",
      "Epoch 31/100\n",
      "487/487 [==============================] - 4s 7ms/step - loss: 0.6104 - tp: 16288.0000 - fp: 86320.0000 - tn: 140090.0000 - fn: 6200.0000 - accuracy: 0.6283 - precision: 0.1587 - recall: 0.7243 - auc: 0.7279 - prc: 0.2006 - val_loss: 0.8452 - val_tp: 6245.0000 - val_fp: 37653.0000 - val_tn: 37812.0000 - val_fn: 1256.0000 - val_accuracy: 0.5310 - val_precision: 0.1423 - val_recall: 0.8326 - val_auc: 0.7413 - val_prc: 0.2222\n",
      "Epoch 32/100\n",
      "487/487 [==============================] - 3s 7ms/step - loss: 0.6095 - tp: 16136.0000 - fp: 83638.0000 - tn: 142772.0000 - fn: 6352.0000 - accuracy: 0.6384 - precision: 0.1617 - recall: 0.7175 - auc: 0.7297 - prc: 0.2041 - val_loss: 0.8219 - val_tp: 5964.0000 - val_fp: 33536.0000 - val_tn: 41929.0000 - val_fn: 1537.0000 - val_accuracy: 0.5773 - val_precision: 0.1510 - val_recall: 0.7951 - val_auc: 0.7416 - val_prc: 0.2239\n",
      "Epoch 33/100\n",
      "487/487 [==============================] - 5s 10ms/step - loss: 0.6097 - tp: 16235.0000 - fp: 85120.0000 - tn: 141290.0000 - fn: 6253.0000 - accuracy: 0.6329 - precision: 0.1602 - recall: 0.7219 - auc: 0.7292 - prc: 0.2046 - val_loss: 0.8063 - val_tp: 6004.0000 - val_fp: 34087.0000 - val_tn: 41378.0000 - val_fn: 1497.0000 - val_accuracy: 0.5711 - val_precision: 0.1498 - val_recall: 0.8004 - val_auc: 0.7409 - val_prc: 0.2222\n",
      "Epoch 34/100\n",
      "487/487 [==============================] - 5s 10ms/step - loss: 0.6129 - tp: 16319.0000 - fp: 86539.0000 - tn: 139871.0000 - fn: 6169.0000 - accuracy: 0.6275 - precision: 0.1587 - recall: 0.7257 - auc: 0.7280 - prc: 0.2016 - val_loss: 0.8163 - val_tp: 6159.0000 - val_fp: 36580.0000 - val_tn: 38885.0000 - val_fn: 1342.0000 - val_accuracy: 0.5429 - val_precision: 0.1441 - val_recall: 0.8211 - val_auc: 0.7403 - val_prc: 0.2183\n",
      "Epoch 35/100\n",
      "487/487 [==============================] - 6s 11ms/step - loss: 0.6088 - tp: 16644.0000 - fp: 89631.0000 - tn: 136779.0000 - fn: 5844.0000 - accuracy: 0.6164 - precision: 0.1566 - recall: 0.7401 - auc: 0.7292 - prc: 0.2037 - val_loss: 0.8829 - val_tp: 6403.0000 - val_fp: 40078.0000 - val_tn: 35387.0000 - val_fn: 1098.0000 - val_accuracy: 0.5037 - val_precision: 0.1378 - val_recall: 0.8536 - val_auc: 0.7419 - val_prc: 0.2218\n",
      "Epoch 36/100\n",
      "487/487 [==============================] - 5s 10ms/step - loss: 0.6079 - tp: 16325.0000 - fp: 86086.0000 - tn: 140324.0000 - fn: 6163.0000 - accuracy: 0.6294 - precision: 0.1594 - recall: 0.7259 - auc: 0.7310 - prc: 0.2066 - val_loss: 0.7880 - val_tp: 6220.0000 - val_fp: 37088.0000 - val_tn: 38377.0000 - val_fn: 1281.0000 - val_accuracy: 0.5375 - val_precision: 0.1436 - val_recall: 0.8292 - val_auc: 0.7423 - val_prc: 0.2242\n",
      "Epoch 37/100\n",
      "487/487 [==============================] - 5s 11ms/step - loss: 0.6083 - tp: 16271.0000 - fp: 85098.0000 - tn: 141312.0000 - fn: 6217.0000 - accuracy: 0.6331 - precision: 0.1605 - recall: 0.7235 - auc: 0.7305 - prc: 0.2050 - val_loss: 0.8848 - val_tp: 6355.0000 - val_fp: 39161.0000 - val_tn: 36304.0000 - val_fn: 1146.0000 - val_accuracy: 0.5142 - val_precision: 0.1396 - val_recall: 0.8472 - val_auc: 0.7424 - val_prc: 0.2245\n"
     ]
    },
    {
     "name": "stdout",
     "output_type": "stream",
     "text": [
      "Epoch 38/100\n",
      "487/487 [==============================] - 5s 10ms/step - loss: 0.6098 - tp: 16228.0000 - fp: 84855.0000 - tn: 141555.0000 - fn: 6260.0000 - accuracy: 0.6339 - precision: 0.1605 - recall: 0.7216 - auc: 0.7299 - prc: 0.2030 - val_loss: 0.8320 - val_tp: 6161.0000 - val_fp: 36426.0000 - val_tn: 39039.0000 - val_fn: 1340.0000 - val_accuracy: 0.5448 - val_precision: 0.1447 - val_recall: 0.8214 - val_auc: 0.7416 - val_prc: 0.2232\n",
      "Epoch 39/100\n",
      "487/487 [==============================] - 4s 7ms/step - loss: 0.6072 - tp: 16509.0000 - fp: 86896.0000 - tn: 139514.0000 - fn: 5979.0000 - accuracy: 0.6269 - precision: 0.1597 - recall: 0.7341 - auc: 0.7320 - prc: 0.2054 - val_loss: 0.8080 - val_tp: 5974.0000 - val_fp: 34035.0000 - val_tn: 41430.0000 - val_fn: 1527.0000 - val_accuracy: 0.5714 - val_precision: 0.1493 - val_recall: 0.7964 - val_auc: 0.7405 - val_prc: 0.2237\n",
      "Epoch 40/100\n",
      "487/487 [==============================] - 4s 7ms/step - loss: 0.6073 - tp: 16467.0000 - fp: 86210.0000 - tn: 140200.0000 - fn: 6021.0000 - accuracy: 0.6294 - precision: 0.1604 - recall: 0.7323 - auc: 0.7319 - prc: 0.2060 - val_loss: 0.8030 - val_tp: 6053.0000 - val_fp: 34790.0000 - val_tn: 40675.0000 - val_fn: 1448.0000 - val_accuracy: 0.5632 - val_precision: 0.1482 - val_recall: 0.8070 - val_auc: 0.7431 - val_prc: 0.2248\n",
      "Epoch 41/100\n",
      "487/487 [==============================] - 4s 8ms/step - loss: 0.6091 - tp: 16329.0000 - fp: 85689.0000 - tn: 140721.0000 - fn: 6159.0000 - accuracy: 0.6310 - precision: 0.1601 - recall: 0.7261 - auc: 0.7301 - prc: 0.2026 - val_loss: 0.8413 - val_tp: 6311.0000 - val_fp: 38683.0000 - val_tn: 36782.0000 - val_fn: 1190.0000 - val_accuracy: 0.5194 - val_precision: 0.1403 - val_recall: 0.8414 - val_auc: 0.7421 - val_prc: 0.2238\n",
      "Epoch 42/100\n",
      "487/487 [==============================] - 4s 9ms/step - loss: 0.6068 - tp: 16519.0000 - fp: 86828.0000 - tn: 139582.0000 - fn: 5969.0000 - accuracy: 0.6272 - precision: 0.1598 - recall: 0.7346 - auc: 0.7324 - prc: 0.2075 - val_loss: 0.8073 - val_tp: 6230.0000 - val_fp: 37195.0000 - val_tn: 38270.0000 - val_fn: 1271.0000 - val_accuracy: 0.5364 - val_precision: 0.1435 - val_recall: 0.8306 - val_auc: 0.7424 - val_prc: 0.2261\n",
      "Epoch 43/100\n",
      "487/487 [==============================] - 4s 8ms/step - loss: 0.6071 - tp: 16523.0000 - fp: 86407.0000 - tn: 140003.0000 - fn: 5965.0000 - accuracy: 0.6289 - precision: 0.1605 - recall: 0.7347 - auc: 0.7321 - prc: 0.2076 - val_loss: 0.7598 - val_tp: 5961.0000 - val_fp: 33635.0000 - val_tn: 41830.0000 - val_fn: 1540.0000 - val_accuracy: 0.5760 - val_precision: 0.1505 - val_recall: 0.7947 - val_auc: 0.7417 - val_prc: 0.2261\n",
      "Epoch 44/100\n",
      "487/487 [==============================] - 4s 7ms/step - loss: 0.6056 - tp: 16666.0000 - fp: 88069.0000 - tn: 138341.0000 - fn: 5822.0000 - accuracy: 0.6228 - precision: 0.1591 - recall: 0.7411 - auc: 0.7335 - prc: 0.2074 - val_loss: 0.7824 - val_tp: 5890.0000 - val_fp: 32560.0000 - val_tn: 42905.0000 - val_fn: 1611.0000 - val_accuracy: 0.5881 - val_precision: 0.1532 - val_recall: 0.7852 - val_auc: 0.7425 - val_prc: 0.2258\n",
      "Epoch 45/100\n",
      "487/487 [==============================] - 3s 7ms/step - loss: 0.6069 - tp: 16552.0000 - fp: 87170.0000 - tn: 139240.0000 - fn: 5936.0000 - accuracy: 0.6259 - precision: 0.1596 - recall: 0.7360 - auc: 0.7326 - prc: 0.2083 - val_loss: 0.7854 - val_tp: 6115.0000 - val_fp: 35895.0000 - val_tn: 39570.0000 - val_fn: 1386.0000 - val_accuracy: 0.5506 - val_precision: 0.1456 - val_recall: 0.8152 - val_auc: 0.7391 - val_prc: 0.2219\n",
      "Epoch 46/100\n",
      "487/487 [==============================] - 3s 7ms/step - loss: 0.6105 - tp: 16159.0000 - fp: 83518.0000 - tn: 142892.0000 - fn: 6329.0000 - accuracy: 0.6390 - precision: 0.1621 - recall: 0.7186 - auc: 0.7311 - prc: 0.2066 - val_loss: 0.8395 - val_tp: 6279.0000 - val_fp: 38214.0000 - val_tn: 37251.0000 - val_fn: 1222.0000 - val_accuracy: 0.5247 - val_precision: 0.1411 - val_recall: 0.8371 - val_auc: 0.7398 - val_prc: 0.2215\n",
      "Epoch 47/100\n",
      "487/487 [==============================] - 4s 7ms/step - loss: 0.6142 - tp: 16338.0000 - fp: 86824.0000 - tn: 139586.0000 - fn: 6150.0000 - accuracy: 0.6265 - precision: 0.1584 - recall: 0.7265 - auc: 0.7271 - prc: 0.2013 - val_loss: 0.7202 - val_tp: 5697.0000 - val_fp: 30234.0000 - val_tn: 45231.0000 - val_fn: 1804.0000 - val_accuracy: 0.6138 - val_precision: 0.1586 - val_recall: 0.7595 - val_auc: 0.7405 - val_prc: 0.2215\n",
      "Epoch 48/100\n",
      "487/487 [==============================] - 4s 9ms/step - loss: 0.6077 - tp: 16406.0000 - fp: 86090.0000 - tn: 140320.0000 - fn: 6082.0000 - accuracy: 0.6297 - precision: 0.1601 - recall: 0.7295 - auc: 0.7313 - prc: 0.2049 - val_loss: 0.7855 - val_tp: 6104.0000 - val_fp: 35283.0000 - val_tn: 40182.0000 - val_fn: 1397.0000 - val_accuracy: 0.5579 - val_precision: 0.1475 - val_recall: 0.8138 - val_auc: 0.7422 - val_prc: 0.2253\n",
      "Epoch 49/100\n",
      "487/487 [==============================] - 4s 8ms/step - loss: 0.6062 - tp: 16530.0000 - fp: 86788.0000 - tn: 139622.0000 - fn: 5958.0000 - accuracy: 0.6274 - precision: 0.1600 - recall: 0.7351 - auc: 0.7324 - prc: 0.2068 - val_loss: 0.7554 - val_tp: 5849.0000 - val_fp: 31966.0000 - val_tn: 43499.0000 - val_fn: 1652.0000 - val_accuracy: 0.5948 - val_precision: 0.1547 - val_recall: 0.7798 - val_auc: 0.7429 - val_prc: 0.2245\n",
      "Epoch 50/100\n",
      "487/487 [==============================] - 4s 8ms/step - loss: 0.6095 - tp: 16359.0000 - fp: 85916.0000 - tn: 140494.0000 - fn: 6129.0000 - accuracy: 0.6302 - precision: 0.1600 - recall: 0.7275 - auc: 0.7306 - prc: 0.2059 - val_loss: 0.7420 - val_tp: 6007.0000 - val_fp: 34458.0000 - val_tn: 41007.0000 - val_fn: 1494.0000 - val_accuracy: 0.5667 - val_precision: 0.1484 - val_recall: 0.8008 - val_auc: 0.7372 - val_prc: 0.2171\n",
      "Epoch 51/100\n",
      "487/487 [==============================] - 4s 8ms/step - loss: 0.6066 - tp: 16547.0000 - fp: 87578.0000 - tn: 138832.0000 - fn: 5941.0000 - accuracy: 0.6243 - precision: 0.1589 - recall: 0.7358 - auc: 0.7321 - prc: 0.2057 - val_loss: 0.7732 - val_tp: 6102.0000 - val_fp: 35415.0000 - val_tn: 40050.0000 - val_fn: 1399.0000 - val_accuracy: 0.5563 - val_precision: 0.1470 - val_recall: 0.8135 - val_auc: 0.7412 - val_prc: 0.2240\n",
      "Epoch 52/100\n",
      "487/487 [==============================] - 4s 8ms/step - loss: 0.6059 - tp: 16602.0000 - fp: 87495.0000 - tn: 138915.0000 - fn: 5886.0000 - accuracy: 0.6248 - precision: 0.1595 - recall: 0.7383 - auc: 0.7330 - prc: 0.2087 - val_loss: 0.7688 - val_tp: 6001.0000 - val_fp: 33956.0000 - val_tn: 41509.0000 - val_fn: 1500.0000 - val_accuracy: 0.5726 - val_precision: 0.1502 - val_recall: 0.8000 - val_auc: 0.7424 - val_prc: 0.2256\n",
      "Epoch 53/100\n",
      "487/487 [==============================] - 4s 8ms/step - loss: 0.6051 - tp: 16391.0000 - fp: 84762.0000 - tn: 141648.0000 - fn: 6097.0000 - accuracy: 0.6350 - precision: 0.1620 - recall: 0.7289 - auc: 0.7342 - prc: 0.2086 - val_loss: 0.7825 - val_tp: 6192.0000 - val_fp: 36596.0000 - val_tn: 38869.0000 - val_fn: 1309.0000 - val_accuracy: 0.5431 - val_precision: 0.1447 - val_recall: 0.8255 - val_auc: 0.7431 - val_prc: 0.2262\n",
      "Epoch 54/100\n",
      "487/487 [==============================] - 4s 8ms/step - loss: 0.6080 - tp: 16344.0000 - fp: 86224.0000 - tn: 140186.0000 - fn: 6144.0000 - accuracy: 0.6289 - precision: 0.1593 - recall: 0.7268 - auc: 0.7314 - prc: 0.2071 - val_loss: 0.7723 - val_tp: 5957.0000 - val_fp: 33445.0000 - val_tn: 42020.0000 - val_fn: 1544.0000 - val_accuracy: 0.5783 - val_precision: 0.1512 - val_recall: 0.7942 - val_auc: 0.7415 - val_prc: 0.2233\n",
      "Epoch 55/100\n",
      "487/487 [==============================] - 4s 9ms/step - loss: 0.6241 - tp: 15516.0000 - fp: 79818.0000 - tn: 146592.0000 - fn: 6972.0000 - accuracy: 0.6513 - precision: 0.1628 - recall: 0.6900 - auc: 0.7256 - prc: 0.2033 - val_loss: 0.7141 - val_tp: 5845.0000 - val_fp: 32480.0000 - val_tn: 42985.0000 - val_fn: 1656.0000 - val_accuracy: 0.5886 - val_precision: 0.1525 - val_recall: 0.7792 - val_auc: 0.7393 - val_prc: 0.2184\n",
      "Epoch 56/100\n",
      "487/487 [==============================] - 4s 8ms/step - loss: 0.6082 - tp: 16337.0000 - fp: 85721.0000 - tn: 140689.0000 - fn: 6151.0000 - accuracy: 0.6309 - precision: 0.1601 - recall: 0.7265 - auc: 0.7307 - prc: 0.2062 - val_loss: 0.6971 - val_tp: 5865.0000 - val_fp: 32291.0000 - val_tn: 43174.0000 - val_fn: 1636.0000 - val_accuracy: 0.5911 - val_precision: 0.1537 - val_recall: 0.7819 - val_auc: 0.7431 - val_prc: 0.2251\n"
     ]
    },
    {
     "name": "stdout",
     "output_type": "stream",
     "text": [
      "Epoch 57/100\n",
      "487/487 [==============================] - 3s 7ms/step - loss: 0.6064 - tp: 16456.0000 - fp: 85526.0000 - tn: 140884.0000 - fn: 6032.0000 - accuracy: 0.6321 - precision: 0.1614 - recall: 0.7318 - auc: 0.7335 - prc: 0.2089 - val_loss: 0.6958 - val_tp: 5791.0000 - val_fp: 31334.0000 - val_tn: 44131.0000 - val_fn: 1710.0000 - val_accuracy: 0.6017 - val_precision: 0.1560 - val_recall: 0.7720 - val_auc: 0.7431 - val_prc: 0.2260\n",
      "Epoch 58/100\n",
      "487/487 [==============================] - 3s 7ms/step - loss: 0.6048 - tp: 16518.0000 - fp: 86100.0000 - tn: 140310.0000 - fn: 5970.0000 - accuracy: 0.6301 - precision: 0.1610 - recall: 0.7345 - auc: 0.7350 - prc: 0.2110 - val_loss: 0.7333 - val_tp: 5992.0000 - val_fp: 33975.0000 - val_tn: 41490.0000 - val_fn: 1509.0000 - val_accuracy: 0.5723 - val_precision: 0.1499 - val_recall: 0.7988 - val_auc: 0.7424 - val_prc: 0.2248\n",
      "Epoch 59/100\n",
      "487/487 [==============================] - 4s 8ms/step - loss: 0.6046 - tp: 16588.0000 - fp: 86516.0000 - tn: 139894.0000 - fn: 5900.0000 - accuracy: 0.6287 - precision: 0.1609 - recall: 0.7376 - auc: 0.7347 - prc: 0.2112 - val_loss: 0.7130 - val_tp: 5853.0000 - val_fp: 32169.0000 - val_tn: 43296.0000 - val_fn: 1648.0000 - val_accuracy: 0.5924 - val_precision: 0.1539 - val_recall: 0.7803 - val_auc: 0.7444 - val_prc: 0.2272\n",
      "Epoch 60/100\n",
      "487/487 [==============================] - 4s 7ms/step - loss: 0.6048 - tp: 16703.0000 - fp: 87671.0000 - tn: 138739.0000 - fn: 5785.0000 - accuracy: 0.6245 - precision: 0.1600 - recall: 0.7428 - auc: 0.7347 - prc: 0.2106 - val_loss: 0.6960 - val_tp: 5861.0000 - val_fp: 31953.0000 - val_tn: 43512.0000 - val_fn: 1640.0000 - val_accuracy: 0.5951 - val_precision: 0.1550 - val_recall: 0.7814 - val_auc: 0.7435 - val_prc: 0.2241\n",
      "Epoch 61/100\n",
      "487/487 [==============================] - 3s 7ms/step - loss: 0.6060 - tp: 16680.0000 - fp: 88149.0000 - tn: 138261.0000 - fn: 5808.0000 - accuracy: 0.6225 - precision: 0.1591 - recall: 0.7417 - auc: 0.7331 - prc: 0.2098 - val_loss: 0.7062 - val_tp: 5924.0000 - val_fp: 32791.0000 - val_tn: 42674.0000 - val_fn: 1577.0000 - val_accuracy: 0.5858 - val_precision: 0.1530 - val_recall: 0.7898 - val_auc: 0.7431 - val_prc: 0.2250\n",
      "Epoch 62/100\n",
      "487/487 [==============================] - 4s 7ms/step - loss: 0.6050 - tp: 16684.0000 - fp: 88121.0000 - tn: 138289.0000 - fn: 5804.0000 - accuracy: 0.6226 - precision: 0.1592 - recall: 0.7419 - auc: 0.7339 - prc: 0.2096 - val_loss: 0.7004 - val_tp: 5824.0000 - val_fp: 31747.0000 - val_tn: 43718.0000 - val_fn: 1677.0000 - val_accuracy: 0.5971 - val_precision: 0.1550 - val_recall: 0.7764 - val_auc: 0.7442 - val_prc: 0.2245\n",
      "Epoch 63/100\n",
      "487/487 [==============================] - 3s 7ms/step - loss: 0.6060 - tp: 16678.0000 - fp: 87792.0000 - tn: 138618.0000 - fn: 5810.0000 - accuracy: 0.6239 - precision: 0.1596 - recall: 0.7416 - auc: 0.7335 - prc: 0.2095 - val_loss: 0.6507 - val_tp: 5633.0000 - val_fp: 29384.0000 - val_tn: 46081.0000 - val_fn: 1868.0000 - val_accuracy: 0.6233 - val_precision: 0.1609 - val_recall: 0.7510 - val_auc: 0.7426 - val_prc: 0.2248\n",
      "Epoch 64/100\n",
      "487/487 [==============================] - 4s 8ms/step - loss: 0.6043 - tp: 16730.0000 - fp: 88136.0000 - tn: 138274.0000 - fn: 5758.0000 - accuracy: 0.6228 - precision: 0.1595 - recall: 0.7440 - auc: 0.7348 - prc: 0.2120 - val_loss: 0.7045 - val_tp: 5819.0000 - val_fp: 31958.0000 - val_tn: 43507.0000 - val_fn: 1682.0000 - val_accuracy: 0.5945 - val_precision: 0.1540 - val_recall: 0.7758 - val_auc: 0.7435 - val_prc: 0.2251\n",
      "Epoch 65/100\n",
      "487/487 [==============================] - 4s 7ms/step - loss: 0.6060 - tp: 16663.0000 - fp: 88005.0000 - tn: 138405.0000 - fn: 5825.0000 - accuracy: 0.6230 - precision: 0.1592 - recall: 0.7410 - auc: 0.7330 - prc: 0.2095 - val_loss: 0.7364 - val_tp: 5971.0000 - val_fp: 33714.0000 - val_tn: 41751.0000 - val_fn: 1530.0000 - val_accuracy: 0.5752 - val_precision: 0.1505 - val_recall: 0.7960 - val_auc: 0.7426 - val_prc: 0.2240\n",
      "Epoch 66/100\n",
      "487/487 [==============================] - 4s 7ms/step - loss: 0.6051 - tp: 16825.0000 - fp: 89050.0000 - tn: 137360.0000 - fn: 5663.0000 - accuracy: 0.6195 - precision: 0.1589 - recall: 0.7482 - auc: 0.7344 - prc: 0.2090 - val_loss: 0.7691 - val_tp: 6266.0000 - val_fp: 37303.0000 - val_tn: 38162.0000 - val_fn: 1235.0000 - val_accuracy: 0.5355 - val_precision: 0.1438 - val_recall: 0.8354 - val_auc: 0.7442 - val_prc: 0.2267\n",
      "Epoch 67/100\n",
      "487/487 [==============================] - 4s 8ms/step - loss: 0.6573 - tp: 15645.0000 - fp: 83059.0000 - tn: 143351.0000 - fn: 6843.0000 - accuracy: 0.6388 - precision: 0.1585 - recall: 0.6957 - auc: 0.7219 - prc: 0.1958 - val_loss: 0.8062 - val_tp: 5542.0000 - val_fp: 28978.0000 - val_tn: 46487.0000 - val_fn: 1959.0000 - val_accuracy: 0.6271 - val_precision: 0.1605 - val_recall: 0.7388 - val_auc: 0.7316 - val_prc: 0.2016\n",
      "Epoch 68/100\n",
      "487/487 [==============================] - 4s 8ms/step - loss: 0.6116 - tp: 16267.0000 - fp: 85586.0000 - tn: 140824.0000 - fn: 6221.0000 - accuracy: 0.6311 - precision: 0.1597 - recall: 0.7234 - auc: 0.7253 - prc: 0.1991 - val_loss: 0.6443 - val_tp: 5522.0000 - val_fp: 28497.0000 - val_tn: 46968.0000 - val_fn: 1979.0000 - val_accuracy: 0.6327 - val_precision: 0.1623 - val_recall: 0.7362 - val_auc: 0.7419 - val_prc: 0.2225\n",
      "Epoch 69/100\n",
      "487/487 [==============================] - 4s 8ms/step - loss: 0.6145 - tp: 16275.0000 - fp: 84332.0000 - tn: 142078.0000 - fn: 6213.0000 - accuracy: 0.6362 - precision: 0.1618 - recall: 0.7237 - auc: 0.7287 - prc: 0.2040 - val_loss: 0.6872 - val_tp: 5669.0000 - val_fp: 29944.0000 - val_tn: 45521.0000 - val_fn: 1832.0000 - val_accuracy: 0.6170 - val_precision: 0.1592 - val_recall: 0.7558 - val_auc: 0.7412 - val_prc: 0.2203\n",
      "Epoch 70/100\n",
      "487/487 [==============================] - 4s 8ms/step - loss: 0.6068 - tp: 16420.0000 - fp: 85344.0000 - tn: 141066.0000 - fn: 6068.0000 - accuracy: 0.6327 - precision: 0.1614 - recall: 0.7302 - auc: 0.7328 - prc: 0.2079 - val_loss: 0.6159 - val_tp: 5513.0000 - val_fp: 28338.0000 - val_tn: 47127.0000 - val_fn: 1988.0000 - val_accuracy: 0.6345 - val_precision: 0.1629 - val_recall: 0.7350 - val_auc: 0.7416 - val_prc: 0.2210fn: 5496.0000 - accuracy: 0.6324 - precision: 0.1612 - recall: 0.7295 - auc: 0.7319 - prc:\n",
      "Epoch 71/100\n",
      "487/487 [==============================] - 4s 8ms/step - loss: 0.6073 - tp: 16788.0000 - fp: 88948.0000 - tn: 137462.0000 - fn: 5700.0000 - accuracy: 0.6197 - precision: 0.1588 - recall: 0.7465 - auc: 0.7318 - prc: 0.2059 - val_loss: 0.6527 - val_tp: 5892.0000 - val_fp: 32620.0000 - val_tn: 42845.0000 - val_fn: 1609.0000 - val_accuracy: 0.5874 - val_precision: 0.1530 - val_recall: 0.7855 - val_auc: 0.7420 - val_prc: 0.2234\n",
      "Epoch 72/100\n",
      "487/487 [==============================] - 4s 8ms/step - loss: 0.6141 - tp: 15690.0000 - fp: 80567.0000 - tn: 145843.0000 - fn: 6798.0000 - accuracy: 0.6490 - precision: 0.1630 - recall: 0.6977 - auc: 0.7282 - prc: 0.2054 - val_loss: 0.5997 - val_tp: 5372.0000 - val_fp: 26920.0000 - val_tn: 48545.0000 - val_fn: 2129.0000 - val_accuracy: 0.6499 - val_precision: 0.1664 - val_recall: 0.7162 - val_auc: 0.7420 - val_prc: 0.2247\n",
      "Epoch 73/100\n",
      "487/487 [==============================] - 4s 7ms/step - loss: 0.6056 - tp: 16583.0000 - fp: 86162.0000 - tn: 140248.0000 - fn: 5905.0000 - accuracy: 0.6301 - precision: 0.1614 - recall: 0.7374 - auc: 0.7343 - prc: 0.2119 - val_loss: 0.6324 - val_tp: 5458.0000 - val_fp: 27915.0000 - val_tn: 47550.0000 - val_fn: 2043.0000 - val_accuracy: 0.6389 - val_precision: 0.1635 - val_recall: 0.7276 - val_auc: 0.7420 - val_prc: 0.2250\n",
      "Epoch 74/100\n",
      "487/487 [==============================] - 4s 8ms/step - loss: 0.6029 - tp: 16601.0000 - fp: 85953.0000 - tn: 140457.0000 - fn: 5887.0000 - accuracy: 0.6310 - precision: 0.1619 - recall: 0.7382 - auc: 0.7366 - prc: 0.2130 - val_loss: 0.5967 - val_tp: 5306.0000 - val_fp: 26260.0000 - val_tn: 49205.0000 - val_fn: 2195.0000 - val_accuracy: 0.6570 - val_precision: 0.1681 - val_recall: 0.7074 - val_auc: 0.7417 - val_prc: 0.2254\n",
      "Epoch 75/100\n"
     ]
    },
    {
     "name": "stdout",
     "output_type": "stream",
     "text": [
      "487/487 [==============================] - 4s 7ms/step - loss: 0.6047 - tp: 16576.0000 - fp: 86609.0000 - tn: 139801.0000 - fn: 5912.0000 - accuracy: 0.6283 - precision: 0.1606 - recall: 0.7371 - auc: 0.7345 - prc: 0.2116 - val_loss: 0.5581 - val_tp: 5203.0000 - val_fp: 25193.0000 - val_tn: 50272.0000 - val_fn: 2298.0000 - val_accuracy: 0.6686 - val_precision: 0.1712 - val_recall: 0.6936 - val_auc: 0.7428 - val_prc: 0.2249\n",
      "Epoch 76/100\n",
      "487/487 [==============================] - 4s 8ms/step - loss: 0.6044 - tp: 16664.0000 - fp: 86946.0000 - tn: 139464.0000 - fn: 5824.0000 - accuracy: 0.6273 - precision: 0.1608 - recall: 0.7410 - auc: 0.7353 - prc: 0.2117 - val_loss: 0.5712 - val_tp: 5284.0000 - val_fp: 25823.0000 - val_tn: 49642.0000 - val_fn: 2217.0000 - val_accuracy: 0.6620 - val_precision: 0.1699 - val_recall: 0.7044 - val_auc: 0.7442 - val_prc: 0.2262\n",
      "Epoch 77/100\n",
      "487/487 [==============================] - 4s 8ms/step - loss: 0.6045 - tp: 16786.0000 - fp: 87829.0000 - tn: 138581.0000 - fn: 5702.0000 - accuracy: 0.6242 - precision: 0.1605 - recall: 0.7464 - auc: 0.7357 - prc: 0.2118 - val_loss: 0.6217 - val_tp: 5374.0000 - val_fp: 26612.0000 - val_tn: 48853.0000 - val_fn: 2127.0000 - val_accuracy: 0.6536 - val_precision: 0.1680 - val_recall: 0.7164 - val_auc: 0.7435 - val_prc: 0.2266\n",
      "Epoch 78/100\n",
      "487/487 [==============================] - 4s 8ms/step - loss: 0.6049 - tp: 16551.0000 - fp: 86498.0000 - tn: 139912.0000 - fn: 5937.0000 - accuracy: 0.6286 - precision: 0.1606 - recall: 0.7360 - auc: 0.7347 - prc: 0.2096 - val_loss: 0.6144 - val_tp: 5561.0000 - val_fp: 28847.0000 - val_tn: 46618.0000 - val_fn: 1940.0000 - val_accuracy: 0.6289 - val_precision: 0.1616 - val_recall: 0.7414 - val_auc: 0.7435 - val_prc: 0.2260\n",
      "Epoch 79/100\n",
      "487/487 [==============================] - 4s 8ms/step - loss: 0.6028 - tp: 16760.0000 - fp: 87501.0000 - tn: 138909.0000 - fn: 5728.0000 - accuracy: 0.6254 - precision: 0.1608 - recall: 0.7453 - auc: 0.7368 - prc: 0.2122 - val_loss: 0.5909 - val_tp: 5704.0000 - val_fp: 30480.0000 - val_tn: 44985.0000 - val_fn: 1797.0000 - val_accuracy: 0.6110 - val_precision: 0.1576 - val_recall: 0.7604 - val_auc: 0.7425 - val_prc: 0.2261\n",
      "Epoch 80/100\n",
      "487/487 [==============================] - 4s 8ms/step - loss: 0.6048 - tp: 16577.0000 - fp: 87032.0000 - tn: 139378.0000 - fn: 5911.0000 - accuracy: 0.6266 - precision: 0.1600 - recall: 0.7371 - auc: 0.7344 - prc: 0.2107 - val_loss: 0.6270 - val_tp: 5440.0000 - val_fp: 27368.0000 - val_tn: 48097.0000 - val_fn: 2061.0000 - val_accuracy: 0.6453 - val_precision: 0.1658 - val_recall: 0.7252 - val_auc: 0.7436 - val_prc: 0.2261\n",
      "Epoch 81/100\n",
      "487/487 [==============================] - 4s 8ms/step - loss: 0.6091 - tp: 16405.0000 - fp: 85396.0000 - tn: 141014.0000 - fn: 6083.0000 - accuracy: 0.6325 - precision: 0.1611 - recall: 0.7295 - auc: 0.7337 - prc: 0.2092 - val_loss: 0.5761 - val_tp: 5255.0000 - val_fp: 25893.0000 - val_tn: 49572.0000 - val_fn: 2246.0000 - val_accuracy: 0.6608 - val_precision: 0.1687 - val_recall: 0.7006 - val_auc: 0.7433 - val_prc: 0.2263\n",
      "Epoch 82/100\n",
      "487/487 [==============================] - 4s 7ms/step - loss: 0.6048 - tp: 16470.0000 - fp: 85094.0000 - tn: 141316.0000 - fn: 6018.0000 - accuracy: 0.6339 - precision: 0.1622 - recall: 0.7324 - auc: 0.7351 - prc: 0.2102 - val_loss: 0.5647 - val_tp: 5285.0000 - val_fp: 26192.0000 - val_tn: 49273.0000 - val_fn: 2216.0000 - val_accuracy: 0.6576 - val_precision: 0.1679 - val_recall: 0.7046 - val_auc: 0.7435 - val_prc: 0.2269\n",
      "Epoch 83/100\n",
      "487/487 [==============================] - 4s 7ms/step - loss: 0.6064 - tp: 16472.0000 - fp: 85272.0000 - tn: 141138.0000 - fn: 6016.0000 - accuracy: 0.6332 - precision: 0.1619 - recall: 0.7325 - auc: 0.7340 - prc: 0.2100 - val_loss: 0.5870 - val_tp: 5627.0000 - val_fp: 29629.0000 - val_tn: 45836.0000 - val_fn: 1874.0000 - val_accuracy: 0.6203 - val_precision: 0.1596 - val_recall: 0.7502 - val_auc: 0.7430 - val_prc: 0.2273\n",
      "Epoch 84/100\n",
      "487/487 [==============================] - 4s 8ms/step - loss: 0.6053 - tp: 16643.0000 - fp: 87183.0000 - tn: 139227.0000 - fn: 5845.0000 - accuracy: 0.6262 - precision: 0.1603 - recall: 0.7401 - auc: 0.7351 - prc: 0.2116 - val_loss: 0.5790 - val_tp: 5386.0000 - val_fp: 27141.0000 - val_tn: 48324.0000 - val_fn: 2115.0000 - val_accuracy: 0.6474 - val_precision: 0.1656 - val_recall: 0.7180 - val_auc: 0.7424 - val_prc: 0.2251\n",
      "Epoch 85/100\n",
      "487/487 [==============================] - 4s 7ms/step - loss: 0.6036 - tp: 16699.0000 - fp: 86857.0000 - tn: 139553.0000 - fn: 5789.0000 - accuracy: 0.6278 - precision: 0.1613 - recall: 0.7426 - auc: 0.7363 - prc: 0.2124 - val_loss: 0.6001 - val_tp: 5485.0000 - val_fp: 27926.0000 - val_tn: 47539.0000 - val_fn: 2016.0000 - val_accuracy: 0.6391 - val_precision: 0.1642 - val_recall: 0.7312 - val_auc: 0.7440 - val_prc: 0.2257\n",
      "Epoch 86/100\n",
      "487/487 [==============================] - 4s 8ms/step - loss: 0.6034 - tp: 16614.0000 - fp: 86695.0000 - tn: 139715.0000 - fn: 5874.0000 - accuracy: 0.6281 - precision: 0.1608 - recall: 0.7388 - auc: 0.7363 - prc: 0.2126 - val_loss: 0.5671 - val_tp: 5209.0000 - val_fp: 25269.0000 - val_tn: 50196.0000 - val_fn: 2292.0000 - val_accuracy: 0.6678 - val_precision: 0.1709 - val_recall: 0.6944 - val_auc: 0.7440 - val_prc: 0.2259\n",
      "Epoch 87/100\n",
      "487/487 [==============================] - 4s 8ms/step - loss: 0.6043 - tp: 16538.0000 - fp: 86222.0000 - tn: 140188.0000 - fn: 5950.0000 - accuracy: 0.6297 - precision: 0.1609 - recall: 0.7354 - auc: 0.7355 - prc: 0.2116 - val_loss: 0.5845 - val_tp: 5576.0000 - val_fp: 29060.0000 - val_tn: 46405.0000 - val_fn: 1925.0000 - val_accuracy: 0.6265 - val_precision: 0.1610 - val_recall: 0.7434 - val_auc: 0.7437 - val_prc: 0.2252\n",
      "Epoch 88/100\n",
      "487/487 [==============================] - 4s 9ms/step - loss: 0.6044 - tp: 16856.0000 - fp: 88722.0000 - tn: 137688.0000 - fn: 5632.0000 - accuracy: 0.6209 - precision: 0.1597 - recall: 0.7496 - auc: 0.7357 - prc: 0.2127 - val_loss: 0.5912 - val_tp: 5231.0000 - val_fp: 25712.0000 - val_tn: 49753.0000 - val_fn: 2270.0000 - val_accuracy: 0.6627 - val_precision: 0.1691 - val_recall: 0.6974 - val_auc: 0.7429 - val_prc: 0.2267\n",
      "Epoch 89/100\n",
      "487/487 [==============================] - 3s 7ms/step - loss: 0.6035 - tp: 16793.0000 - fp: 88492.0000 - tn: 137918.0000 - fn: 5695.0000 - accuracy: 0.6216 - precision: 0.1595 - recall: 0.7468 - auc: 0.7362 - prc: 0.2118 - val_loss: 0.6320 - val_tp: 5392.0000 - val_fp: 26937.0000 - val_tn: 48528.0000 - val_fn: 2109.0000 - val_accuracy: 0.6499 - val_precision: 0.1668 - val_recall: 0.7188 - val_auc: 0.7433 - val_prc: 0.2246\n",
      "Epoch 90/100\n",
      "487/487 [==============================] - 3s 7ms/step - loss: 0.6030 - tp: 16768.0000 - fp: 87361.0000 - tn: 139049.0000 - fn: 5720.0000 - accuracy: 0.6260 - precision: 0.1610 - recall: 0.7456 - auc: 0.7368 - prc: 0.2132 - val_loss: 0.6043 - val_tp: 5446.0000 - val_fp: 27692.0000 - val_tn: 47773.0000 - val_fn: 2055.0000 - val_accuracy: 0.6415 - val_precision: 0.1643 - val_recall: 0.7260 - val_auc: 0.7435 - val_prc: 0.2268\n",
      "Epoch 91/100\n",
      "487/487 [==============================] - 3s 7ms/step - loss: 0.6034 - tp: 16638.0000 - fp: 86135.0000 - tn: 140275.0000 - fn: 5850.0000 - accuracy: 0.6304 - precision: 0.1619 - recall: 0.7399 - auc: 0.7364 - prc: 0.2132 - val_loss: 0.5886 - val_tp: 5585.0000 - val_fp: 29384.0000 - val_tn: 46081.0000 - val_fn: 1916.0000 - val_accuracy: 0.6227 - val_precision: 0.1597 - val_recall: 0.7446 - val_auc: 0.7422 - val_prc: 0.2253\n",
      "Epoch 92/100\n",
      "487/487 [==============================] - 3s 7ms/step - loss: 0.6026 - tp: 16622.0000 - fp: 86191.0000 - tn: 140219.0000 - fn: 5866.0000 - accuracy: 0.6301 - precision: 0.1617 - recall: 0.7391 - auc: 0.7371 - prc: 0.2129 - val_loss: 0.5734 - val_tp: 5357.0000 - val_fp: 26643.0000 - val_tn: 48822.0000 - val_fn: 2144.0000 - val_accuracy: 0.6530 - val_precision: 0.1674 - val_recall: 0.7142 - val_auc: 0.7435 - val_prc: 0.2279\n",
      "Epoch 93/100\n",
      "487/487 [==============================] - 4s 7ms/step - loss: 0.6032 - tp: 16601.0000 - fp: 86844.0000 - tn: 139566.0000 - fn: 5887.0000 - accuracy: 0.6274 - precision: 0.1605 - recall: 0.7382 - auc: 0.7360 - prc: 0.2111 - val_loss: 0.6175 - val_tp: 5484.0000 - val_fp: 27750.0000 - val_tn: 47715.0000 - val_fn: 2017.0000 - val_accuracy: 0.6412 - val_precision: 0.1650 - val_recall: 0.7311 - val_auc: 0.7431 - val_prc: 0.2269\n"
     ]
    },
    {
     "name": "stdout",
     "output_type": "stream",
     "text": [
      "Epoch 94/100\n",
      "487/487 [==============================] - 3s 7ms/step - loss: 0.6027 - tp: 16642.0000 - fp: 87571.0000 - tn: 138839.0000 - fn: 5846.0000 - accuracy: 0.6247 - precision: 0.1597 - recall: 0.7400 - auc: 0.7365 - prc: 0.2134 - val_loss: 0.5961 - val_tp: 5285.0000 - val_fp: 25958.0000 - val_tn: 49507.0000 - val_fn: 2216.0000 - val_accuracy: 0.6604 - val_precision: 0.1692 - val_recall: 0.7046 - val_auc: 0.7422 - val_prc: 0.2266\n",
      "Epoch 95/100\n",
      "487/487 [==============================] - 3s 7ms/step - loss: 0.6029 - tp: 16743.0000 - fp: 87332.0000 - tn: 139078.0000 - fn: 5745.0000 - accuracy: 0.6260 - precision: 0.1609 - recall: 0.7445 - auc: 0.7369 - prc: 0.2131 - val_loss: 0.5525 - val_tp: 4955.0000 - val_fp: 23298.0000 - val_tn: 52167.0000 - val_fn: 2546.0000 - val_accuracy: 0.6885 - val_precision: 0.1754 - val_recall: 0.6606 - val_auc: 0.7406 - val_prc: 0.2256\n",
      "Epoch 96/100\n",
      "487/487 [==============================] - 3s 7ms/step - loss: 0.6022 - tp: 16732.0000 - fp: 88301.0000 - tn: 138109.0000 - fn: 5756.0000 - accuracy: 0.6221 - precision: 0.1593 - recall: 0.7440 - auc: 0.7372 - prc: 0.2127 - val_loss: 0.6024 - val_tp: 5417.0000 - val_fp: 27613.0000 - val_tn: 47852.0000 - val_fn: 2084.0000 - val_accuracy: 0.6421 - val_precision: 0.1640 - val_recall: 0.7222 - val_auc: 0.7430 - val_prc: 0.2272\n",
      "Epoch 97/100\n",
      "487/487 [==============================] - 4s 9ms/step - loss: 0.6035 - tp: 16592.0000 - fp: 86159.0000 - tn: 140251.0000 - fn: 5896.0000 - accuracy: 0.6301 - precision: 0.1615 - recall: 0.7378 - auc: 0.7361 - prc: 0.2120 - val_loss: 0.5841 - val_tp: 5418.0000 - val_fp: 27407.0000 - val_tn: 48058.0000 - val_fn: 2083.0000 - val_accuracy: 0.6446 - val_precision: 0.1651 - val_recall: 0.7223 - val_auc: 0.7416 - val_prc: 0.2247\n",
      "Epoch 98/100\n",
      "487/487 [==============================] - 4s 8ms/step - loss: 0.6036 - tp: 16544.0000 - fp: 85663.0000 - tn: 140747.0000 - fn: 5944.0000 - accuracy: 0.6319 - precision: 0.1619 - recall: 0.7357 - auc: 0.7365 - prc: 0.2138 - val_loss: 0.6097 - val_tp: 5215.0000 - val_fp: 25390.0000 - val_tn: 50075.0000 - val_fn: 2286.0000 - val_accuracy: 0.6664 - val_precision: 0.1704 - val_recall: 0.6952 - val_auc: 0.7433 - val_prc: 0.2263\n",
      "Epoch 99/100\n",
      "487/487 [==============================] - 4s 8ms/step - loss: 0.6025 - tp: 16655.0000 - fp: 86631.0000 - tn: 139779.0000 - fn: 5833.0000 - accuracy: 0.6285 - precision: 0.1613 - recall: 0.7406 - auc: 0.7370 - prc: 0.2150 - val_loss: 0.5998 - val_tp: 5456.0000 - val_fp: 27779.0000 - val_tn: 47686.0000 - val_fn: 2045.0000 - val_accuracy: 0.6405 - val_precision: 0.1642 - val_recall: 0.7274 - val_auc: 0.7436 - val_prc: 0.2277\n",
      "Epoch 100/100\n",
      "487/487 [==============================] - 4s 8ms/step - loss: 0.6029 - tp: 16578.0000 - fp: 86491.0000 - tn: 139919.0000 - fn: 5910.0000 - accuracy: 0.6288 - precision: 0.1608 - recall: 0.7372 - auc: 0.7364 - prc: 0.2132 - val_loss: 0.6201 - val_tp: 5613.0000 - val_fp: 29696.0000 - val_tn: 45769.0000 - val_fn: 1888.0000 - val_accuracy: 0.6193 - val_precision: 0.1590 - val_recall: 0.7483 - val_auc: 0.7425 - val_prc: 0.2275\n"
     ]
    }
   ],
   "source": [
    "with comet_exp.train():\n",
    "    weighted_history = weighted_model.fit(\n",
    "    x=train_ds,\n",
    "    epochs=EPOCHS,\n",
    "    #callbacks=[stop_early],\n",
    "    validation_data=val_ds,\n",
    "    # class weights\n",
    "    class_weight=class_weight)"
   ]
  },
  {
   "cell_type": "code",
   "execution_count": 179,
   "id": "a40e11b6",
   "metadata": {},
   "outputs": [],
   "source": [
    "def plot_metrics(history):\n",
    "    metrics = ['loss', 'prc', 'precision', 'recall']\n",
    "    for n, metric in enumerate(metrics):\n",
    "        name = metric.replace(\"_\",\" \").capitalize()\n",
    "        plt.subplot(2,2,n+1)\n",
    "        plt.plot(history.epoch, history.history[metric], color=colors[0], label='Train')\n",
    "        plt.plot(history.epoch, history.history['val_'+metric],\n",
    "                 color=colors[0], linestyle=\"--\", label='Val')\n",
    "        plt.xlabel('Epoch')\n",
    "        plt.ylabel(name)\n",
    "        if metric == 'loss':\n",
    "            plt.ylim([0, plt.ylim()[1]])\n",
    "        elif metric == 'auc':\n",
    "            plt.ylim([0.8,1])\n",
    "        else:\n",
    "            plt.ylim([0,1])\n",
    "\n",
    "        plt.legend()"
   ]
  },
  {
   "cell_type": "code",
   "execution_count": 180,
   "id": "d99bea99",
   "metadata": {},
   "outputs": [
    {
     "data": {
      "text/plain": [
       "['loss',\n",
       " 'tp',\n",
       " 'fp',\n",
       " 'tn',\n",
       " 'fn',\n",
       " 'accuracy',\n",
       " 'precision',\n",
       " 'recall',\n",
       " 'auc',\n",
       " 'prc']"
      ]
     },
     "execution_count": 180,
     "metadata": {},
     "output_type": "execute_result"
    }
   ],
   "source": [
    "weighted_model.metrics_names"
   ]
  },
  {
   "cell_type": "code",
   "execution_count": 181,
   "id": "40419471",
   "metadata": {},
   "outputs": [
    {
     "data": {
      "text/plain": [
       "{'web': 'https://www.comet.ml/api/image/download?imageId=096b5865c120471285fdfccf6abb982e&experimentKey=4fe58590ba824e9489108f24d576b56b',\n",
       " 'api': 'https://www.comet.ml/api/rest/v1/image/get-image?imageId=096b5865c120471285fdfccf6abb982e&experimentKey=4fe58590ba824e9489108f24d576b56b',\n",
       " 'imageId': '096b5865c120471285fdfccf6abb982e'}"
      ]
     },
     "execution_count": 181,
     "metadata": {},
     "output_type": "execute_result"
    },
    {
     "data": {
      "image/png": "[encoded data removed]",
      "text/plain": [
       "<Figure size 864x720 with 4 Axes>"
      ]
     },
     "metadata": {
      "needs_background": "light"
     },
     "output_type": "display_data"
    }
   ],
   "source": [
    "plot_metrics(weighted_history)\n",
    "comet_exp.log_figure(figure=plt)"
   ]
  },
  {
   "cell_type": "code",
   "execution_count": 182,
   "id": "ae065966",
   "metadata": {
    "scrolled": true
   },
   "outputs": [
    {
     "name": "stdout",
     "output_type": "stream",
     "text": [
      "163/163 [==============================] - 1s 3ms/step - loss: 0.6201 - tp: 5613.0000 - fp: 29696.0000 - tn: 45769.0000 - fn: 1888.0000 - accuracy: 0.6193 - precision: 0.1590 - recall: 0.7483 - auc: 0.7425 - prc: 0.2275\n",
      "loss :  0.6200566291809082\n",
      "tp :  5613.0\n",
      "fp :  29696.0\n",
      "tn :  45769.0\n",
      "fn :  1888.0\n",
      "accuracy :  0.6193139553070068\n",
      "precision :  0.1589679718017578\n",
      "recall :  0.7483002543449402\n",
      "auc :  0.7424807548522949\n",
      "prc :  0.22753770649433136\n",
      "\n"
     ]
    }
   ],
   "source": [
    "results = weighted_model.evaluate(val_ds)\n",
    "\n",
    "for name, value in zip(weighted_model.metrics_names, results):\n",
    "    print(name, ': ', value)\n",
    "print()"
   ]
  },
  {
   "cell_type": "code",
   "execution_count": 183,
   "id": "2a74c48e",
   "metadata": {
    "scrolled": true
   },
   "outputs": [
    {
     "name": "stdout",
     "output_type": "stream",
     "text": [
      "163/163 [==============================] - 1s 3ms/step\n"
     ]
    }
   ],
   "source": [
    "y_proba_val = weighted_model.predict(val_ds, verbose=1)"
   ]
  },
  {
   "cell_type": "code",
   "execution_count": 184,
   "id": "73d3841f",
   "metadata": {},
   "outputs": [
    {
     "data": {
      "text/plain": [
       "array([0.5545428 , 0.74108934, 0.5034484 , ..., 0.1455465 , 0.18444324,\n",
       "       0.707229  ], dtype=float32)"
      ]
     },
     "execution_count": 184,
     "metadata": {},
     "output_type": "execute_result"
    }
   ],
   "source": [
    "y_proba_val = np.concatenate([y for y in y_proba_val], axis=0)\n",
    "y_proba_val"
   ]
  },
  {
   "cell_type": "code",
   "execution_count": 185,
   "id": "70c989a1",
   "metadata": {
    "scrolled": true
   },
   "outputs": [],
   "source": [
    "threshold = 0.5\n",
    "y_pred_val = np.where(y_proba_val > threshold, 1,0)"
   ]
  },
  {
   "cell_type": "code",
   "execution_count": 186,
   "id": "a687899d",
   "metadata": {},
   "outputs": [
    {
     "data": {
      "text/plain": [
       "35309"
      ]
     },
     "execution_count": 186,
     "metadata": {},
     "output_type": "execute_result"
    }
   ],
   "source": [
    "y_pred_val.sum()"
   ]
  },
  {
   "cell_type": "code",
   "execution_count": 187,
   "id": "d96e80cd",
   "metadata": {},
   "outputs": [],
   "source": [
    "val_y_true = np.concatenate([y for x, y in val_ds], axis=0)"
   ]
  },
  {
   "cell_type": "code",
   "execution_count": 188,
   "id": "eb4377b0",
   "metadata": {
    "scrolled": true
   },
   "outputs": [
    {
     "data": {
      "text/plain": [
       "7501"
      ]
     },
     "execution_count": 188,
     "metadata": {},
     "output_type": "execute_result"
    }
   ],
   "source": [
    "val_y_true.sum()"
   ]
  },
  {
   "cell_type": "code",
   "execution_count": null,
   "id": "130f9645",
   "metadata": {},
   "outputs": [],
   "source": []
  },
  {
   "cell_type": "markdown",
   "id": "20e42ce0",
   "metadata": {},
   "source": [
    "# Prepare for Comet Logs"
   ]
  },
  {
   "cell_type": "code",
   "execution_count": 189,
   "id": "95775e69",
   "metadata": {},
   "outputs": [],
   "source": [
    "#these will all get logged\n",
    "params={'batch_size':BATCH_SIZE,\n",
    "        'epochs':EPOCHS,\n",
    "        'layer_num':4,\n",
    "        'optimizer':'adam',\n",
    "        'learning_rate':LEARNING_RATE\n",
    "}"
   ]
  },
  {
   "cell_type": "code",
   "execution_count": 190,
   "id": "839a0704",
   "metadata": {},
   "outputs": [],
   "source": [
    "#will log metrics with the prefix 'test_'\n",
    "# with experiment.test():\n",
    "#     results = model.evaluate(x_test, y_test)\n",
    "    \n",
    "#     experiment.log_metrics(metrics)"
   ]
  },
  {
   "cell_type": "code",
   "execution_count": 191,
   "id": "3d9bfa67",
   "metadata": {},
   "outputs": [],
   "source": [
    "# results = weighted_model.evaluate(test_ds)\n",
    "# for name, value in zip(weighted_model.metrics_names, results):\n",
    "#     print(name, ': ', value)"
   ]
  },
  {
   "cell_type": "code",
   "execution_count": 192,
   "id": "0678502f",
   "metadata": {},
   "outputs": [],
   "source": [
    "comet_exp.log_parameters(params)"
   ]
  },
  {
   "cell_type": "code",
   "execution_count": 193,
   "id": "3d74b4e0",
   "metadata": {},
   "outputs": [],
   "source": [
    "# weights_dir = \"../ift6758/models/weights\"\n",
    "# experiment = \"Neural-Net-with-FE2\"\n",
    "# predscore_val_dict={}"
   ]
  },
  {
   "cell_type": "code",
   "execution_count": 203,
   "id": "bda7fa61",
   "metadata": {},
   "outputs": [],
   "source": [
    "# import joblib\n",
    "\n",
    "# predscore_val_dict[experiment]={}\n",
    "# predscore_val_dict[experiment]['true_valid_label']=y_valid\n",
    "# predscore_val_dict[experiment]['proba']=y_proba_val\n",
    "# predscore_val_dict[experiment]['prediction']=y_pred_val\n",
    "\n",
    "# ## Dumping model\n",
    "# filename=f\"{weights_dir}/{experiment}.pkl\"\n",
    "# filename\n",
    "# joblib.dump(model,filename)"
   ]
  },
  {
   "cell_type": "markdown",
   "id": "a349d2de",
   "metadata": {},
   "source": [
    "## Plotting"
   ]
  },
  {
   "cell_type": "code",
   "execution_count": 204,
   "id": "acca2617",
   "metadata": {},
   "outputs": [
    {
     "name": "stdout",
     "output_type": "stream",
     "text": [
      "              precision    recall  f1-score   support\n",
      "\n",
      "           0       0.96      0.61      0.74     75465\n",
      "           1       0.16      0.75      0.26      7501\n",
      "\n",
      "    accuracy                           0.62     82966\n",
      "   macro avg       0.56      0.68      0.50     82966\n",
      "weighted avg       0.89      0.62      0.70     82966\n",
      "\n"
     ]
    },
    {
     "data": {
      "text/plain": [
       "{'web': 'https://www.comet.ml/api/image/download?imageId=2255187f8dbf4f058aafa4ccd4827af3&experimentKey=4fe58590ba824e9489108f24d576b56b',\n",
       " 'api': 'https://www.comet.ml/api/rest/v1/image/get-image?imageId=2255187f8dbf4f058aafa4ccd4827af3&experimentKey=4fe58590ba824e9489108f24d576b56b',\n",
       " 'imageId': '2255187f8dbf4f058aafa4ccd4827af3'}"
      ]
     },
     "execution_count": 204,
     "metadata": {},
     "output_type": "execute_result"
    },
    {
     "data": {
      "image/png": "[encoded data removed]",
      "text/plain": [
       "<Figure size 720x360 with 2 Axes>"
      ]
     },
     "metadata": {
      "needs_background": "light"
     },
     "output_type": "display_data"
    }
   ],
   "source": [
    "from ift6758.metrics import plot_metrics\n",
    "img_path = os.path.join(tempfile.mkdtemp(), 'imgs')\n",
    "\n",
    "plot_metrics.plotConfusion(val_y_true,y_pred_val, title='Confusion matrix for Neural Network validation set prediction')\n",
    "comet_exp.log_figure(figure=plt)"
   ]
  },
  {
   "cell_type": "code",
   "execution_count": 206,
   "id": "f57be620",
   "metadata": {
    "scrolled": false
   },
   "outputs": [
    {
     "data": {
      "text/plain": [
       "{'web': 'https://www.comet.ml/api/image/download?imageId=671d0cdce4a142c2b4b0758672b64d7c&experimentKey=4fe58590ba824e9489108f24d576b56b',\n",
       " 'api': 'https://www.comet.ml/api/rest/v1/image/get-image?imageId=671d0cdce4a142c2b4b0758672b64d7c&experimentKey=4fe58590ba824e9489108f24d576b56b',\n",
       " 'imageId': '671d0cdce4a142c2b4b0758672b64d7c'}"
      ]
     },
     "execution_count": 206,
     "metadata": {},
     "output_type": "execute_result"
    },
    {
     "data": {
      "image/png": "[encoded data removed]",
      "text/plain": [
       "<Figure size 864x720 with 1 Axes>"
      ]
     },
     "metadata": {
      "needs_background": "light"
     },
     "output_type": "display_data"
    }
   ],
   "source": [
    "plot_metrics.plot_roc([val_y_true],[y_proba_val],[\"Validation set for Neural Network\"])\n",
    "comet_exp.log_figure(figure=plt)"
   ]
  },
  {
   "cell_type": "code",
   "execution_count": 207,
   "id": "324ac4ad",
   "metadata": {
    "scrolled": false
   },
   "outputs": [
    {
     "data": {
      "text/plain": [
       "{'web': 'https://www.comet.ml/api/image/download?imageId=def028bedb364e41abe156c4d35858d7&experimentKey=4fe58590ba824e9489108f24d576b56b',\n",
       " 'api': 'https://www.comet.ml/api/rest/v1/image/get-image?imageId=def028bedb364e41abe156c4d35858d7&experimentKey=4fe58590ba824e9489108f24d576b56b',\n",
       " 'imageId': 'def028bedb364e41abe156c4d35858d7'}"
      ]
     },
     "execution_count": 207,
     "metadata": {},
     "output_type": "execute_result"
    },
    {
     "data": {
      "image/png": "[encoded data removed]",
      "text/plain": [
       "<Figure size 1080x540 with 2 Axes>"
      ]
     },
     "metadata": {
      "needs_background": "light"
     },
     "output_type": "display_data"
    }
   ],
   "source": [
    "plot_metrics.plot_percentile([val_y_true],[y_proba_val],bin_width=5,plot_labels=[\"Valid set for Neural Network\"])\n",
    "comet_exp.log_figure(figure=plt)"
   ]
  },
  {
   "cell_type": "code",
   "execution_count": 208,
   "id": "cecebeee",
   "metadata": {
    "scrolled": false
   },
   "outputs": [
    {
     "data": {
      "text/plain": [
       "{'web': 'https://www.comet.ml/api/image/download?imageId=a6c1dfd1d91e476281e260a4e0f2be7e&experimentKey=4fe58590ba824e9489108f24d576b56b',\n",
       " 'api': 'https://www.comet.ml/api/rest/v1/image/get-image?imageId=a6c1dfd1d91e476281e260a4e0f2be7e&experimentKey=4fe58590ba824e9489108f24d576b56b',\n",
       " 'imageId': 'a6c1dfd1d91e476281e260a4e0f2be7e'}"
      ]
     },
     "execution_count": 208,
     "metadata": {},
     "output_type": "execute_result"
    },
    {
     "data": {
      "image/png": "[encoded data removed]",
      "text/plain": [
       "<Figure size 540x540 with 1 Axes>"
      ]
     },
     "metadata": {
      "needs_background": "light"
     },
     "output_type": "display_data"
    }
   ],
   "source": [
    "plot_metrics.plot_calibration([val_y_true],[y_proba_val],plot_labels=[\"Valid set for Neural Network\"])\n",
    "comet_exp.log_figure(figure=plt)"
   ]
  },
  {
   "cell_type": "code",
   "execution_count": null,
   "id": "dd3784ca",
   "metadata": {},
   "outputs": [],
   "source": []
  }
 ],
 "metadata": {
  "kernelspec": {
   "display_name": "ift6758-conda-env",
   "language": "python",
   "name": "ift6758-conda-env"
  },
  "language_info": {
   "codemirror_mode": {
    "name": "ipython",
    "version": 3
   },
   "file_extension": ".py",
   "mimetype": "text/x-python",
   "name": "python",
   "nbconvert_exporter": "python",
   "pygments_lexer": "ipython3",
   "version": "3.9.7"
  }
 },
 "nbformat": 4,
 "nbformat_minor": 5
}
