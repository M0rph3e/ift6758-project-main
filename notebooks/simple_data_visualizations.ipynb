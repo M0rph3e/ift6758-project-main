{
 "cells": [
  {
   "cell_type": "markdown",
   "id": "6fc610da-c54c-4672-8871-0508655c416f",
   "metadata": {},
   "source": [
    "# Plot of shot types over all teams in a season"
   ]
  },
  {
   "cell_type": "code",
   "execution_count": 1,
   "id": "7a5670f0-ea08-4672-b8b3-57cfe82197fa",
   "metadata": {},
   "outputs": [],
   "source": [
    "%load_ext autoreload\n",
    "%autoreload 2"
   ]
  },
  {
   "cell_type": "code",
   "execution_count": 2,
   "id": "fd53fc8e-cc94-4b92-89d1-613ae3c03a2d",
   "metadata": {},
   "outputs": [],
   "source": [
    "from ift6758.data.data_acquisition import Season\n",
    "import matplotlib as plt\n",
    "import seaborn as sns\n",
    "import pandas as pd\n",
    "import json "
   ]
  },
  {
   "cell_type": "markdown",
   "id": "bce3380f-e67a-490b-9eb0-adef7f047be6",
   "metadata": {
    "tags": []
   },
   "source": [
    "#### I chose 2019 because I didn't dl it yet and it is noted as the best season of the decade from this [link](https://champsorchumps.us/records/best-nhl-regular-season-records)"
   ]
  },
  {
   "cell_type": "code",
   "execution_count": 3,
   "id": "f51e5314-58d0-4024-b138-8c5ad5d6d681",
   "metadata": {},
   "outputs": [
    {
     "data": {
      "text/plain": [
       "'1.3.3'"
      ]
     },
     "execution_count": 3,
     "metadata": {},
     "output_type": "execute_result"
    }
   ],
   "source": [
    "pd.__version__"
   ]
  },
  {
   "cell_type": "code",
   "execution_count": 4,
   "id": "5da9b2b5-b883-4071-97fa-77f974e5d196",
   "metadata": {},
   "outputs": [
    {
     "name": "stdout",
     "output_type": "stream",
     "text": [
      "File already Exists, loading from ../ift6758/data/PICKLE//2019_clean.pkl\n"
     ]
    },
    {
     "data": {
      "text/html": [
       "<div>\n",
       "<style scoped>\n",
       "    .dataframe tbody tr th:only-of-type {\n",
       "        vertical-align: middle;\n",
       "    }\n",
       "\n",
       "    .dataframe tbody tr th {\n",
       "        vertical-align: top;\n",
       "    }\n",
       "\n",
       "    .dataframe thead th {\n",
       "        text-align: right;\n",
       "    }\n",
       "</style>\n",
       "<table border=\"1\" class=\"dataframe\">\n",
       "  <thead>\n",
       "    <tr style=\"text-align: right;\">\n",
       "      <th></th>\n",
       "      <th>result.event</th>\n",
       "      <th>gamePk</th>\n",
       "      <th>team.name</th>\n",
       "      <th>about.period</th>\n",
       "      <th>about.periodTime</th>\n",
       "      <th>about.periodType</th>\n",
       "      <th>about.periodTimeRemaining</th>\n",
       "      <th>coordinates.x</th>\n",
       "      <th>coordinates.y</th>\n",
       "      <th>result.secondaryType</th>\n",
       "      <th>result.emptyNet</th>\n",
       "      <th>result.strength.name</th>\n",
       "      <th>shooter</th>\n",
       "      <th>goalie</th>\n",
       "    </tr>\n",
       "  </thead>\n",
       "  <tbody>\n",
       "    <tr>\n",
       "      <th>0</th>\n",
       "      <td>Shot</td>\n",
       "      <td>2019010001</td>\n",
       "      <td>Vegas Golden Knights</td>\n",
       "      <td>1</td>\n",
       "      <td>00:52</td>\n",
       "      <td>REGULAR</td>\n",
       "      <td>19:08</td>\n",
       "      <td>-34.0</td>\n",
       "      <td>19.0</td>\n",
       "      <td>Wrist Shot</td>\n",
       "      <td>NaN</td>\n",
       "      <td>NaN</td>\n",
       "      <td>Reilly Smith</td>\n",
       "      <td>Adin Hill</td>\n",
       "    </tr>\n",
       "    <tr>\n",
       "      <th>1</th>\n",
       "      <td>Shot</td>\n",
       "      <td>2019010001</td>\n",
       "      <td>Arizona Coyotes</td>\n",
       "      <td>1</td>\n",
       "      <td>01:12</td>\n",
       "      <td>REGULAR</td>\n",
       "      <td>18:48</td>\n",
       "      <td>67.0</td>\n",
       "      <td>-15.0</td>\n",
       "      <td>Snap Shot</td>\n",
       "      <td>NaN</td>\n",
       "      <td>NaN</td>\n",
       "      <td>Robbie Russo</td>\n",
       "      <td>Malcolm Subban</td>\n",
       "    </tr>\n",
       "    <tr>\n",
       "      <th>2</th>\n",
       "      <td>Shot</td>\n",
       "      <td>2019010001</td>\n",
       "      <td>Vegas Golden Knights</td>\n",
       "      <td>1</td>\n",
       "      <td>01:46</td>\n",
       "      <td>REGULAR</td>\n",
       "      <td>18:14</td>\n",
       "      <td>-36.0</td>\n",
       "      <td>32.0</td>\n",
       "      <td>Snap Shot</td>\n",
       "      <td>NaN</td>\n",
       "      <td>NaN</td>\n",
       "      <td>Zach Whitecloud</td>\n",
       "      <td>Adin Hill</td>\n",
       "    </tr>\n",
       "    <tr>\n",
       "      <th>3</th>\n",
       "      <td>Goal</td>\n",
       "      <td>2019010001</td>\n",
       "      <td>Arizona Coyotes</td>\n",
       "      <td>1</td>\n",
       "      <td>04:00</td>\n",
       "      <td>REGULAR</td>\n",
       "      <td>16:00</td>\n",
       "      <td>42.0</td>\n",
       "      <td>-19.0</td>\n",
       "      <td>Snap Shot</td>\n",
       "      <td>False</td>\n",
       "      <td>Even</td>\n",
       "      <td>Ilya Lyubushkin</td>\n",
       "      <td>Malcolm Subban</td>\n",
       "    </tr>\n",
       "    <tr>\n",
       "      <th>4</th>\n",
       "      <td>Goal</td>\n",
       "      <td>2019010001</td>\n",
       "      <td>Vegas Golden Knights</td>\n",
       "      <td>1</td>\n",
       "      <td>04:39</td>\n",
       "      <td>REGULAR</td>\n",
       "      <td>15:21</td>\n",
       "      <td>-71.0</td>\n",
       "      <td>-3.0</td>\n",
       "      <td>Wrist Shot</td>\n",
       "      <td>False</td>\n",
       "      <td>Even</td>\n",
       "      <td>Max Pacioretty</td>\n",
       "      <td>Adin Hill</td>\n",
       "    </tr>\n",
       "  </tbody>\n",
       "</table>\n",
       "</div>"
      ],
      "text/plain": [
       "  result.event      gamePk             team.name  about.period  \\\n",
       "0         Shot  2019010001  Vegas Golden Knights             1   \n",
       "1         Shot  2019010001       Arizona Coyotes             1   \n",
       "2         Shot  2019010001  Vegas Golden Knights             1   \n",
       "3         Goal  2019010001       Arizona Coyotes             1   \n",
       "4         Goal  2019010001  Vegas Golden Knights             1   \n",
       "\n",
       "  about.periodTime about.periodType about.periodTimeRemaining  coordinates.x  \\\n",
       "0            00:52          REGULAR                     19:08          -34.0   \n",
       "1            01:12          REGULAR                     18:48           67.0   \n",
       "2            01:46          REGULAR                     18:14          -36.0   \n",
       "3            04:00          REGULAR                     16:00           42.0   \n",
       "4            04:39          REGULAR                     15:21          -71.0   \n",
       "\n",
       "   coordinates.y result.secondaryType result.emptyNet result.strength.name  \\\n",
       "0           19.0           Wrist Shot             NaN                  NaN   \n",
       "1          -15.0            Snap Shot             NaN                  NaN   \n",
       "2           32.0            Snap Shot             NaN                  NaN   \n",
       "3          -19.0            Snap Shot           False                 Even   \n",
       "4           -3.0           Wrist Shot           False                 Even   \n",
       "\n",
       "           shooter          goalie  \n",
       "0     Reilly Smith       Adin Hill  \n",
       "1     Robbie Russo  Malcolm Subban  \n",
       "2  Zach Whitecloud       Adin Hill  \n",
       "3  Ilya Lyubushkin  Malcolm Subban  \n",
       "4   Max Pacioretty       Adin Hill  "
      ]
     },
     "execution_count": 4,
     "metadata": {},
     "output_type": "execute_result"
    }
   ],
   "source": [
    "from  ift6758.data.data_acquisition import Season\n",
    "season2019 = Season(2019,\"../ift6758/data\")\n",
    "df = season2019.clean_data()\n",
    "df.head()"
   ]
  },
  {
   "cell_type": "code",
   "execution_count": 5,
   "id": "7928dd2a-7444-461e-9986-2bd8c726154d",
   "metadata": {},
   "outputs": [
    {
     "name": "stdout",
     "output_type": "stream",
     "text": [
      "<class 'pandas.core.frame.DataFrame'>\n",
      "RangeIndex: 83057 entries, 0 to 83056\n",
      "Data columns (total 14 columns):\n",
      " #   Column                     Non-Null Count  Dtype  \n",
      "---  ------                     --------------  -----  \n",
      " 0   result.event               83057 non-null  object \n",
      " 1   gamePk                     83057 non-null  object \n",
      " 2   team.name                  83057 non-null  object \n",
      " 3   about.period               83057 non-null  int64  \n",
      " 4   about.periodTime           83057 non-null  object \n",
      " 5   about.periodType           83057 non-null  object \n",
      " 6   about.periodTimeRemaining  83057 non-null  object \n",
      " 7   coordinates.x              82987 non-null  float64\n",
      " 8   coordinates.y              82987 non-null  float64\n",
      " 9   result.secondaryType       82978 non-null  object \n",
      " 10  result.emptyNet            7815 non-null   object \n",
      " 11  result.strength.name       8037 non-null   object \n",
      " 12  shooter                    83057 non-null  object \n",
      " 13  goalie                     82659 non-null  object \n",
      "dtypes: float64(2), int64(1), object(11)\n",
      "memory usage: 8.9+ MB\n"
     ]
    }
   ],
   "source": [
    "df.info()"
   ]
  },
  {
   "cell_type": "code",
   "execution_count": 7,
   "id": "0c306d9f-b7e1-4f97-b132-e217dbbf5c9c",
   "metadata": {},
   "outputs": [
    {
     "data": {
      "text/html": [
       "<div>\n",
       "<style scoped>\n",
       "    .dataframe tbody tr th:only-of-type {\n",
       "        vertical-align: middle;\n",
       "    }\n",
       "\n",
       "    .dataframe tbody tr th {\n",
       "        vertical-align: top;\n",
       "    }\n",
       "\n",
       "    .dataframe thead th {\n",
       "        text-align: right;\n",
       "    }\n",
       "</style>\n",
       "<table border=\"1\" class=\"dataframe\">\n",
       "  <thead>\n",
       "    <tr style=\"text-align: right;\">\n",
       "      <th></th>\n",
       "      <th>team.name</th>\n",
       "      <th>result.secondaryType</th>\n",
       "      <th>result.event</th>\n",
       "      <th>count</th>\n",
       "    </tr>\n",
       "  </thead>\n",
       "  <tbody>\n",
       "    <tr>\n",
       "      <th>0</th>\n",
       "      <td>Anaheim Ducks</td>\n",
       "      <td>Backhand</td>\n",
       "      <td>Goal</td>\n",
       "      <td>25</td>\n",
       "    </tr>\n",
       "    <tr>\n",
       "      <th>1</th>\n",
       "      <td>Anaheim Ducks</td>\n",
       "      <td>Backhand</td>\n",
       "      <td>Shot</td>\n",
       "      <td>164</td>\n",
       "    </tr>\n",
       "    <tr>\n",
       "      <th>2</th>\n",
       "      <td>Anaheim Ducks</td>\n",
       "      <td>Deflected</td>\n",
       "      <td>Goal</td>\n",
       "      <td>3</td>\n",
       "    </tr>\n",
       "    <tr>\n",
       "      <th>3</th>\n",
       "      <td>Anaheim Ducks</td>\n",
       "      <td>Deflected</td>\n",
       "      <td>Shot</td>\n",
       "      <td>21</td>\n",
       "    </tr>\n",
       "    <tr>\n",
       "      <th>4</th>\n",
       "      <td>Anaheim Ducks</td>\n",
       "      <td>Slap Shot</td>\n",
       "      <td>Goal</td>\n",
       "      <td>16</td>\n",
       "    </tr>\n",
       "    <tr>\n",
       "      <th>...</th>\n",
       "      <td>...</td>\n",
       "      <td>...</td>\n",
       "      <td>...</td>\n",
       "      <td>...</td>\n",
       "    </tr>\n",
       "    <tr>\n",
       "      <th>452</th>\n",
       "      <td>Winnipeg Jets</td>\n",
       "      <td>Tip-In</td>\n",
       "      <td>Shot</td>\n",
       "      <td>59</td>\n",
       "    </tr>\n",
       "    <tr>\n",
       "      <th>453</th>\n",
       "      <td>Winnipeg Jets</td>\n",
       "      <td>Wrap-around</td>\n",
       "      <td>Goal</td>\n",
       "      <td>1</td>\n",
       "    </tr>\n",
       "    <tr>\n",
       "      <th>454</th>\n",
       "      <td>Winnipeg Jets</td>\n",
       "      <td>Wrap-around</td>\n",
       "      <td>Shot</td>\n",
       "      <td>12</td>\n",
       "    </tr>\n",
       "    <tr>\n",
       "      <th>455</th>\n",
       "      <td>Winnipeg Jets</td>\n",
       "      <td>Wrist Shot</td>\n",
       "      <td>Goal</td>\n",
       "      <td>137</td>\n",
       "    </tr>\n",
       "    <tr>\n",
       "      <th>456</th>\n",
       "      <td>Winnipeg Jets</td>\n",
       "      <td>Wrist Shot</td>\n",
       "      <td>Shot</td>\n",
       "      <td>1391</td>\n",
       "    </tr>\n",
       "  </tbody>\n",
       "</table>\n",
       "<p>457 rows × 4 columns</p>\n",
       "</div>"
      ],
      "text/plain": [
       "         team.name result.secondaryType result.event  count\n",
       "0    Anaheim Ducks             Backhand         Goal     25\n",
       "1    Anaheim Ducks             Backhand         Shot    164\n",
       "2    Anaheim Ducks            Deflected         Goal      3\n",
       "3    Anaheim Ducks            Deflected         Shot     21\n",
       "4    Anaheim Ducks            Slap Shot         Goal     16\n",
       "..             ...                  ...          ...    ...\n",
       "452  Winnipeg Jets               Tip-In         Shot     59\n",
       "453  Winnipeg Jets          Wrap-around         Goal      1\n",
       "454  Winnipeg Jets          Wrap-around         Shot     12\n",
       "455  Winnipeg Jets           Wrist Shot         Goal    137\n",
       "456  Winnipeg Jets           Wrist Shot         Shot   1391\n",
       "\n",
       "[457 rows x 4 columns]"
      ]
     },
     "execution_count": 7,
     "metadata": {},
     "output_type": "execute_result"
    }
   ],
   "source": [
    "df['count'] = df['result.event']\n",
    "df_teams = df[['result.event','team.name','result.secondaryType','count']]\n",
    "df_teams= df_teams.groupby(['team.name','result.secondaryType','result.event'], as_index=False ).count()\n",
    "df_teams\n"
   ]
  },
  {
   "cell_type": "code",
   "execution_count": 98,
   "id": "936d6b37-27a2-4d00-94b4-298330c0e3d6",
   "metadata": {},
   "outputs": [
    {
     "name": "stdout",
     "output_type": "stream",
     "text": [
      "Index(['result.event'], dtype='object')\n"
     ]
    }
   ],
   "source": [
    "type(shot_goal_count)\n",
    "shot_goal_count.info\n",
    "#team = shot_goal_count[['team.nawwme']]\n",
    "print(shot_goal_count.columns)"
   ]
  },
  {
   "cell_type": "code",
   "execution_count": 71,
   "id": "f9c4aca7-c664-4930-9f29-47ac7a22d809",
   "metadata": {},
   "outputs": [
    {
     "data": {
      "image/png": "[encoded data removed]",
      "text/plain": [
       "<Figure size 864x576 with 1 Axes>"
      ]
     },
     "metadata": {
      "needs_background": "light"
     },
     "output_type": "display_data"
    }
   ],
   "source": [
    "import numpy as np\n",
    "import matplotlib.pyplot as plt\n",
    " \n",
    "# set width of bar\n",
    "barWidth = 0.25\n",
    "fig = plt.subplots(figsize =(12, 8))\n",
    " \n",
    "# set height of bar\n",
    "IT = [12, 30, 1, 8, 22]  #IT, CSE, ECE will be replaced by Hockey Teams\n",
    "ECE = [28, 6, 16, 5, 10]\n",
    "CSE = [29, 3, 24, 25, 17]\n",
    " \n",
    "# Set position of bar on X axis\n",
    "br1 = np.arange(len(IT))\n",
    "br2 = [x + barWidth for x in br1]\n",
    "br3 = [x + barWidth for x in br2]\n",
    " \n",
    "# Make the plot\n",
    "plt.bar(br1, IT, color ='r', width = barWidth,\n",
    "        edgecolor ='grey', label ='IT') #First plot is for shots\n",
    "plt.bar(br1, [i*0.5 for i in IT], color='green', width= 0.5*barWidth, alpha=0.5) #Second plot is for goals further we repeat this pattern for all teams.\n",
    "plt.bar(br2, ECE, color ='g', width = barWidth,\n",
    "        edgecolor ='grey', label ='ECE')\n",
    "plt.bar(br3, CSE, color ='b', width = barWidth,\n",
    "        edgecolor ='grey', label ='CSE')\n",
    " \n",
    "# Adding Xticks\n",
    "plt.xlabel('Branch', fontweight ='bold', fontsize = 15)\n",
    "plt.ylabel('Students passed', fontweight ='bold', fontsize = 15)\n",
    "plt.xticks([r + barWidth for r in range(len(IT))],\n",
    "        ['2015', '2016', '2017', '2018', '2019']) #years would get replaced by different Shot Types Wrist shot, Slapshot, Snap shot, Backhanders, tip in\n",
    " \n",
    "plt.legend()\n",
    "plt.show()"
   ]
  },
  {
   "cell_type": "code",
   "execution_count": null,
   "id": "08c70765-ae1b-44e8-bdcd-0e944a6cd505",
   "metadata": {},
   "outputs": [],
   "source": []
  },
  {
   "cell_type": "code",
   "execution_count": null,
   "id": "b8e61843-b508-47b9-a8d6-43b31f7d6b15",
   "metadata": {},
   "outputs": [],
   "source": [
    "## Reference on how to use json_normalize: https://pandas.pydata.org/pandas-docs/version/1.2.0/reference/api/pandas.json_normalize.html\n",
    "#df1 = pd.json_normalize(Season2019.data[:10],record_path=['liveData','plays','allPlays'],meta=['gamePk'])\n",
    "## To add game time\n",
    "df1.info()"
   ]
  },
  {
   "cell_type": "code",
   "execution_count": null,
   "id": "5166572b-60e2-40c4-a22b-68f4759b58d3",
   "metadata": {},
   "outputs": [],
   "source": [
    "df1.head()"
   ]
  },
  {
   "cell_type": "code",
   "execution_count": null,
   "id": "a34ee424-3838-44c5-9f00-b9c364168b55",
   "metadata": {},
   "outputs": [],
   "source": [
    "df1['players']\n",
    "df1['about.goals.away']\n",
    "df1[['players','about.goals.away','about.goals.home']]"
   ]
  },
  {
   "cell_type": "code",
   "execution_count": null,
   "id": "880c191a-50d1-49c6-970f-ec61cc605f71",
   "metadata": {},
   "outputs": [],
   "source": [
    "import pandas as pd\n",
    "pd.show_version()"
   ]
  }
 ],
 "metadata": {
  "kernelspec": {
   "display_name": "ift6758-conda-env",
   "language": "python",
   "name": "ift6758-conda-env"
  },
  "language_info": {
   "codemirror_mode": {
    "name": "ipython",
    "version": 3
   },
   "file_extension": ".py",
   "mimetype": "text/x-python",
   "name": "python",
   "nbconvert_exporter": "python",
   "pygments_lexer": "ipython3",
   "version": "3.9.7"
  }
 },
 "nbformat": 4,
 "nbformat_minor": 5
}
