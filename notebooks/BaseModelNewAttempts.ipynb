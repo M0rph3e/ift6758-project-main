{
 "cells": [
  {
   "cell_type": "code",
   "execution_count": 103,
   "id": "8ec8fca5-42cf-4459-a761-3e39b5f8479e",
   "metadata": {},
   "outputs": [
    {
     "name": "stdout",
     "output_type": "stream",
     "text": [
      "The autoreload extension is already loaded. To reload it, use:\n",
      "  %reload_ext autoreload\n"
     ]
    }
   ],
   "source": [
    "%load_ext autoreload\n",
    "%autoreload 2"
   ]
  },
  {
   "cell_type": "markdown",
   "id": "0dc1b642-7bfd-496c-a49c-3e051a191a51",
   "metadata": {},
   "source": [
    "# Imports"
   ]
  },
  {
   "cell_type": "code",
   "execution_count": 161,
   "id": "c2635c3c-0b25-4e86-b6b5-9c3ef9d2de4a",
   "metadata": {},
   "outputs": [],
   "source": [
    "import numpy as np\n",
    "import pandas as pd\n",
    "import matplotlib.pyplot as plt\n",
    "import seaborn as sns\n",
    "import os\n",
    "import random\n",
    "\n",
    "from ift6758.features.feature_engineering1 import SeasonDataSet\n",
    "from sklearn.preprocessing import StandardScaler, MinMaxScaler\n",
    "from sklearn.model_selection import train_test_split\n",
    "from sklearn.pipeline import Pipeline\n",
    "from sklearn.model_selection import GridSearchCV\n",
    "from sklearn.linear_model import LogisticRegression\n",
    "from sklearn.calibration import CalibrationDisplay\n",
    "from sklearn.metrics import (accuracy_score, confusion_matrix, \n",
    "                             classification_report, roc_curve, auc)"
   ]
  },
  {
   "cell_type": "markdown",
   "id": "685668d4-2f27-498d-bc95-40c6f8a2262d",
   "metadata": {},
   "source": [
    "# Get Train and Test Data"
   ]
  },
  {
   "cell_type": "code",
   "execution_count": 105,
   "id": "8db58e48-f4b5-4e61-95eb-c5abc27eb253",
   "metadata": {},
   "outputs": [],
   "source": [
    "train_years = [2015,2016,2017,2018]\n",
    "test_years=[2019]"
   ]
  },
  {
   "cell_type": "code",
   "execution_count": 106,
   "id": "b61c930f-c543-46c6-be8b-26031c687150",
   "metadata": {},
   "outputs": [
    {
     "name": "stdout",
     "output_type": "stream",
     "text": [
      "File already Exists, loading from ../ift6758/data/PICKLE//2015_clean.pkl\n",
      "File already Exists, loading from ../ift6758/data/PICKLE//2015_period_info.pkl\n",
      "File already Exists, loading from ../ift6758/data/PICKLE//2016_clean.pkl\n",
      "File already Exists, loading from ../ift6758/data/PICKLE//2016_period_info.pkl\n",
      "File already Exists, loading from ../ift6758/data/PICKLE//2017_clean.pkl\n",
      "File already Exists, loading from ../ift6758/data/PICKLE//2017_period_info.pkl\n",
      "File already Exists, loading from ../ift6758/data/PICKLE//2018_clean.pkl\n",
      "File already Exists, loading from ../ift6758/data/PICKLE//2018_period_info.pkl\n"
     ]
    }
   ],
   "source": [
    "train_dataset = SeasonDataSet(train_years)\n",
    "train_df = train_dataset.get_tidy_data()"
   ]
  },
  {
   "cell_type": "code",
   "execution_count": 107,
   "id": "62063889-8c05-403d-b06a-28ec22532223",
   "metadata": {},
   "outputs": [
    {
     "name": "stdout",
     "output_type": "stream",
     "text": [
      "File already Exists, loading from ../ift6758/data/PICKLE//2019_clean.pkl\n",
      "File already Exists, loading from ../ift6758/data/PICKLE//2019_period_info.pkl\n"
     ]
    }
   ],
   "source": [
    "test_dataset = SeasonDataSet(test_years)\n",
    "test_df = test_dataset.get_tidy_data()"
   ]
  },
  {
   "cell_type": "code",
   "execution_count": 108,
   "id": "810ab9d7-44f6-4de6-8aa2-6aa3fb88ed5c",
   "metadata": {},
   "outputs": [],
   "source": [
    "features = [\"distanceNet\",\"angleNet\"]\n",
    "label_column = \"isGoal\""
   ]
  },
  {
   "cell_type": "code",
   "execution_count": 109,
   "id": "debf8fc2-5f1b-4648-a8ff-0af8d084e1f3",
   "metadata": {},
   "outputs": [
    {
     "data": {
      "text/html": [
       "<div>\n",
       "<style scoped>\n",
       "    .dataframe tbody tr th:only-of-type {\n",
       "        vertical-align: middle;\n",
       "    }\n",
       "\n",
       "    .dataframe tbody tr th {\n",
       "        vertical-align: top;\n",
       "    }\n",
       "\n",
       "    .dataframe thead th {\n",
       "        text-align: right;\n",
       "    }\n",
       "</style>\n",
       "<table border=\"1\" class=\"dataframe\">\n",
       "  <thead>\n",
       "    <tr style=\"text-align: right;\">\n",
       "      <th></th>\n",
       "      <th>result.event</th>\n",
       "      <th>gamePk</th>\n",
       "      <th>team.name</th>\n",
       "      <th>about.period</th>\n",
       "      <th>about.periodTime</th>\n",
       "      <th>about.periodType</th>\n",
       "      <th>about.periodTimeRemaining</th>\n",
       "      <th>coordinates.x</th>\n",
       "      <th>coordinates.y</th>\n",
       "      <th>result.secondaryType</th>\n",
       "      <th>result.emptyNet</th>\n",
       "      <th>result.strength.name</th>\n",
       "      <th>shooter</th>\n",
       "      <th>goalie</th>\n",
       "      <th>goalCoordinates</th>\n",
       "      <th>isGoal</th>\n",
       "      <th>distanceNet</th>\n",
       "      <th>angleNet</th>\n",
       "    </tr>\n",
       "  </thead>\n",
       "  <tbody>\n",
       "    <tr>\n",
       "      <th>0</th>\n",
       "      <td>Shot</td>\n",
       "      <td>2015020001</td>\n",
       "      <td>Toronto Maple Leafs</td>\n",
       "      <td>1</td>\n",
       "      <td>00:51</td>\n",
       "      <td>REGULAR</td>\n",
       "      <td>19:09</td>\n",
       "      <td>-55.0</td>\n",
       "      <td>6.0</td>\n",
       "      <td>Wrist Shot</td>\n",
       "      <td>0</td>\n",
       "      <td>NaN</td>\n",
       "      <td>Brad Boyes</td>\n",
       "      <td>Carey Price</td>\n",
       "      <td>(-89, 0)</td>\n",
       "      <td>0</td>\n",
       "      <td>34.525353</td>\n",
       "      <td>10.007980</td>\n",
       "    </tr>\n",
       "    <tr>\n",
       "      <th>1</th>\n",
       "      <td>Shot</td>\n",
       "      <td>2015020001</td>\n",
       "      <td>Toronto Maple Leafs</td>\n",
       "      <td>1</td>\n",
       "      <td>01:05</td>\n",
       "      <td>REGULAR</td>\n",
       "      <td>18:55</td>\n",
       "      <td>-79.0</td>\n",
       "      <td>0.0</td>\n",
       "      <td>Snap Shot</td>\n",
       "      <td>0</td>\n",
       "      <td>NaN</td>\n",
       "      <td>Nazem Kadri</td>\n",
       "      <td>Carey Price</td>\n",
       "      <td>(-89, 0)</td>\n",
       "      <td>0</td>\n",
       "      <td>10.000000</td>\n",
       "      <td>0.000000</td>\n",
       "    </tr>\n",
       "    <tr>\n",
       "      <th>2</th>\n",
       "      <td>Shot</td>\n",
       "      <td>2015020001</td>\n",
       "      <td>Toronto Maple Leafs</td>\n",
       "      <td>1</td>\n",
       "      <td>01:06</td>\n",
       "      <td>REGULAR</td>\n",
       "      <td>18:54</td>\n",
       "      <td>-75.0</td>\n",
       "      <td>-1.0</td>\n",
       "      <td>Snap Shot</td>\n",
       "      <td>0</td>\n",
       "      <td>NaN</td>\n",
       "      <td>Nazem Kadri</td>\n",
       "      <td>Carey Price</td>\n",
       "      <td>(-89, 0)</td>\n",
       "      <td>0</td>\n",
       "      <td>14.035669</td>\n",
       "      <td>-4.085617</td>\n",
       "    </tr>\n",
       "    <tr>\n",
       "      <th>3</th>\n",
       "      <td>Shot</td>\n",
       "      <td>2015020001</td>\n",
       "      <td>Toronto Maple Leafs</td>\n",
       "      <td>1</td>\n",
       "      <td>01:53</td>\n",
       "      <td>REGULAR</td>\n",
       "      <td>18:07</td>\n",
       "      <td>-55.0</td>\n",
       "      <td>-36.0</td>\n",
       "      <td>Wrist Shot</td>\n",
       "      <td>0</td>\n",
       "      <td>NaN</td>\n",
       "      <td>Daniel Winnik</td>\n",
       "      <td>Carey Price</td>\n",
       "      <td>(-89, 0)</td>\n",
       "      <td>0</td>\n",
       "      <td>49.517674</td>\n",
       "      <td>-46.636577</td>\n",
       "    </tr>\n",
       "    <tr>\n",
       "      <th>4</th>\n",
       "      <td>Shot</td>\n",
       "      <td>2015020001</td>\n",
       "      <td>Toronto Maple Leafs</td>\n",
       "      <td>1</td>\n",
       "      <td>02:37</td>\n",
       "      <td>REGULAR</td>\n",
       "      <td>17:23</td>\n",
       "      <td>-61.0</td>\n",
       "      <td>-1.0</td>\n",
       "      <td>Tip-In</td>\n",
       "      <td>0</td>\n",
       "      <td>NaN</td>\n",
       "      <td>Joffrey Lupul</td>\n",
       "      <td>Carey Price</td>\n",
       "      <td>(-89, 0)</td>\n",
       "      <td>0</td>\n",
       "      <td>28.017851</td>\n",
       "      <td>-2.045408</td>\n",
       "    </tr>\n",
       "    <tr>\n",
       "      <th>...</th>\n",
       "      <td>...</td>\n",
       "      <td>...</td>\n",
       "      <td>...</td>\n",
       "      <td>...</td>\n",
       "      <td>...</td>\n",
       "      <td>...</td>\n",
       "      <td>...</td>\n",
       "      <td>...</td>\n",
       "      <td>...</td>\n",
       "      <td>...</td>\n",
       "      <td>...</td>\n",
       "      <td>...</td>\n",
       "      <td>...</td>\n",
       "      <td>...</td>\n",
       "      <td>...</td>\n",
       "      <td>...</td>\n",
       "      <td>...</td>\n",
       "      <td>...</td>\n",
       "    </tr>\n",
       "    <tr>\n",
       "      <th>338503</th>\n",
       "      <td>Goal</td>\n",
       "      <td>2018040643</td>\n",
       "      <td>Team Central</td>\n",
       "      <td>2</td>\n",
       "      <td>08:30</td>\n",
       "      <td>REGULAR</td>\n",
       "      <td>01:30</td>\n",
       "      <td>-72.0</td>\n",
       "      <td>4.0</td>\n",
       "      <td>Wrist Shot</td>\n",
       "      <td>False</td>\n",
       "      <td>Even</td>\n",
       "      <td>Mikko Rantanen</td>\n",
       "      <td>Braden Holtby</td>\n",
       "      <td>(89, 0)</td>\n",
       "      <td>1</td>\n",
       "      <td>161.049682</td>\n",
       "      <td>-1.423205</td>\n",
       "    </tr>\n",
       "    <tr>\n",
       "      <th>338504</th>\n",
       "      <td>Goal</td>\n",
       "      <td>2018040643</td>\n",
       "      <td>Team Central</td>\n",
       "      <td>2</td>\n",
       "      <td>08:50</td>\n",
       "      <td>REGULAR</td>\n",
       "      <td>01:10</td>\n",
       "      <td>-66.0</td>\n",
       "      <td>1.0</td>\n",
       "      <td>Wrist Shot</td>\n",
       "      <td>False</td>\n",
       "      <td>Even</td>\n",
       "      <td>Blake Wheeler</td>\n",
       "      <td>Braden Holtby</td>\n",
       "      <td>(89, 0)</td>\n",
       "      <td>1</td>\n",
       "      <td>155.003226</td>\n",
       "      <td>-0.369645</td>\n",
       "    </tr>\n",
       "    <tr>\n",
       "      <th>338505</th>\n",
       "      <td>Goal</td>\n",
       "      <td>2018040643</td>\n",
       "      <td>Team Metropolitan</td>\n",
       "      <td>2</td>\n",
       "      <td>09:08</td>\n",
       "      <td>REGULAR</td>\n",
       "      <td>00:52</td>\n",
       "      <td>76.0</td>\n",
       "      <td>-23.0</td>\n",
       "      <td>Wrist Shot</td>\n",
       "      <td>False</td>\n",
       "      <td>Even</td>\n",
       "      <td>Cam Atkinson</td>\n",
       "      <td>Pekka Rinne</td>\n",
       "      <td>(89, 0)</td>\n",
       "      <td>1</td>\n",
       "      <td>26.419690</td>\n",
       "      <td>60.524111</td>\n",
       "    </tr>\n",
       "    <tr>\n",
       "      <th>338506</th>\n",
       "      <td>Shot</td>\n",
       "      <td>2018040643</td>\n",
       "      <td>Team Central</td>\n",
       "      <td>2</td>\n",
       "      <td>09:21</td>\n",
       "      <td>REGULAR</td>\n",
       "      <td>00:39</td>\n",
       "      <td>-75.0</td>\n",
       "      <td>-3.0</td>\n",
       "      <td>Backhand</td>\n",
       "      <td>0</td>\n",
       "      <td>NaN</td>\n",
       "      <td>Mark Scheifele</td>\n",
       "      <td>Braden Holtby</td>\n",
       "      <td>(89, 0)</td>\n",
       "      <td>0</td>\n",
       "      <td>164.027437</td>\n",
       "      <td>1.047977</td>\n",
       "    </tr>\n",
       "    <tr>\n",
       "      <th>338507</th>\n",
       "      <td>Shot</td>\n",
       "      <td>2018040643</td>\n",
       "      <td>Team Metropolitan</td>\n",
       "      <td>2</td>\n",
       "      <td>09:38</td>\n",
       "      <td>REGULAR</td>\n",
       "      <td>00:22</td>\n",
       "      <td>70.0</td>\n",
       "      <td>-4.0</td>\n",
       "      <td>Wrist Shot</td>\n",
       "      <td>0</td>\n",
       "      <td>NaN</td>\n",
       "      <td>Sidney Crosby</td>\n",
       "      <td>Pekka Rinne</td>\n",
       "      <td>(89, 0)</td>\n",
       "      <td>0</td>\n",
       "      <td>19.416488</td>\n",
       "      <td>11.888658</td>\n",
       "    </tr>\n",
       "  </tbody>\n",
       "</table>\n",
       "<p>338415 rows × 18 columns</p>\n",
       "</div>"
      ],
      "text/plain": [
       "       result.event      gamePk            team.name  about.period  \\\n",
       "0              Shot  2015020001  Toronto Maple Leafs             1   \n",
       "1              Shot  2015020001  Toronto Maple Leafs             1   \n",
       "2              Shot  2015020001  Toronto Maple Leafs             1   \n",
       "3              Shot  2015020001  Toronto Maple Leafs             1   \n",
       "4              Shot  2015020001  Toronto Maple Leafs             1   \n",
       "...             ...         ...                  ...           ...   \n",
       "338503         Goal  2018040643         Team Central             2   \n",
       "338504         Goal  2018040643         Team Central             2   \n",
       "338505         Goal  2018040643    Team Metropolitan             2   \n",
       "338506         Shot  2018040643         Team Central             2   \n",
       "338507         Shot  2018040643    Team Metropolitan             2   \n",
       "\n",
       "       about.periodTime about.periodType about.periodTimeRemaining  \\\n",
       "0                 00:51          REGULAR                     19:09   \n",
       "1                 01:05          REGULAR                     18:55   \n",
       "2                 01:06          REGULAR                     18:54   \n",
       "3                 01:53          REGULAR                     18:07   \n",
       "4                 02:37          REGULAR                     17:23   \n",
       "...                 ...              ...                       ...   \n",
       "338503            08:30          REGULAR                     01:30   \n",
       "338504            08:50          REGULAR                     01:10   \n",
       "338505            09:08          REGULAR                     00:52   \n",
       "338506            09:21          REGULAR                     00:39   \n",
       "338507            09:38          REGULAR                     00:22   \n",
       "\n",
       "        coordinates.x  coordinates.y result.secondaryType result.emptyNet  \\\n",
       "0               -55.0            6.0           Wrist Shot               0   \n",
       "1               -79.0            0.0            Snap Shot               0   \n",
       "2               -75.0           -1.0            Snap Shot               0   \n",
       "3               -55.0          -36.0           Wrist Shot               0   \n",
       "4               -61.0           -1.0               Tip-In               0   \n",
       "...               ...            ...                  ...             ...   \n",
       "338503          -72.0            4.0           Wrist Shot           False   \n",
       "338504          -66.0            1.0           Wrist Shot           False   \n",
       "338505           76.0          -23.0           Wrist Shot           False   \n",
       "338506          -75.0           -3.0             Backhand               0   \n",
       "338507           70.0           -4.0           Wrist Shot               0   \n",
       "\n",
       "       result.strength.name         shooter         goalie goalCoordinates  \\\n",
       "0                       NaN      Brad Boyes    Carey Price        (-89, 0)   \n",
       "1                       NaN     Nazem Kadri    Carey Price        (-89, 0)   \n",
       "2                       NaN     Nazem Kadri    Carey Price        (-89, 0)   \n",
       "3                       NaN   Daniel Winnik    Carey Price        (-89, 0)   \n",
       "4                       NaN   Joffrey Lupul    Carey Price        (-89, 0)   \n",
       "...                     ...             ...            ...             ...   \n",
       "338503                 Even  Mikko Rantanen  Braden Holtby         (89, 0)   \n",
       "338504                 Even   Blake Wheeler  Braden Holtby         (89, 0)   \n",
       "338505                 Even    Cam Atkinson    Pekka Rinne         (89, 0)   \n",
       "338506                  NaN  Mark Scheifele  Braden Holtby         (89, 0)   \n",
       "338507                  NaN   Sidney Crosby    Pekka Rinne         (89, 0)   \n",
       "\n",
       "        isGoal  distanceNet   angleNet  \n",
       "0            0    34.525353  10.007980  \n",
       "1            0    10.000000   0.000000  \n",
       "2            0    14.035669  -4.085617  \n",
       "3            0    49.517674 -46.636577  \n",
       "4            0    28.017851  -2.045408  \n",
       "...        ...          ...        ...  \n",
       "338503       1   161.049682  -1.423205  \n",
       "338504       1   155.003226  -0.369645  \n",
       "338505       1    26.419690  60.524111  \n",
       "338506       0   164.027437   1.047977  \n",
       "338507       0    19.416488  11.888658  \n",
       "\n",
       "[338415 rows x 18 columns]"
      ]
     },
     "execution_count": 109,
     "metadata": {},
     "output_type": "execute_result"
    }
   ],
   "source": [
    "train_df"
   ]
  },
  {
   "cell_type": "code",
   "execution_count": 110,
   "id": "6d2c5174-3942-46ee-9784-247bff5192f2",
   "metadata": {},
   "outputs": [
    {
     "data": {
      "text/plain": [
       "(        distanceNet   angleNet  isGoal\n",
       " 0         34.525353  10.007980       0\n",
       " 1         10.000000   0.000000       0\n",
       " 2         14.035669  -4.085617       0\n",
       " 3         49.517674 -46.636577       0\n",
       " 4         28.017851  -2.045408       0\n",
       " ...             ...        ...     ...\n",
       " 338503   161.049682  -1.423205       1\n",
       " 338504   155.003226  -0.369645       1\n",
       " 338505    26.419690  60.524111       1\n",
       " 338506   164.027437   1.047977       0\n",
       " 338507    19.416488  11.888658       0\n",
       " \n",
       " [338415 rows x 3 columns],\n",
       "        distanceNet   angleNet  isGoal\n",
       " 0       124.458829  -8.781163       0\n",
       " 1        26.627054  34.286877       0\n",
       " 2       129.031004 -14.359337       0\n",
       " 3        50.695167  22.011283       1\n",
       " 4       160.028123   1.074170       1\n",
       " ...            ...        ...     ...\n",
       " 83052   163.370744   3.860733       1\n",
       " 83053   158.050625  -1.450216       0\n",
       " 83054   173.288776   3.308214       0\n",
       " 83055   163.306460   3.510678       1\n",
       " 83056    29.732137 -47.726311       0\n",
       " \n",
       " [82987 rows x 3 columns])"
      ]
     },
     "execution_count": 110,
     "metadata": {},
     "output_type": "execute_result"
    }
   ],
   "source": [
    "train_df = train_df[['distanceNet', 'angleNet', 'isGoal']]\n",
    "test_df = test_df[['distanceNet', 'angleNet', 'isGoal']]\n",
    "train_df, test_df"
   ]
  },
  {
   "cell_type": "markdown",
   "id": "c964bd5d-a065-42a5-9f70-a8ae5f1189c9",
   "metadata": {},
   "source": [
    "# Some EDA"
   ]
  },
  {
   "cell_type": "code",
   "execution_count": 111,
   "id": "4988c1c0-4904-44b1-a15e-fc407d7e649c",
   "metadata": {},
   "outputs": [],
   "source": [
    "# Get weather type counts\n",
    "label_dict = {0: 'Shots',\n",
    "              1: 'Goals'\n",
    "             }\n",
    "\n",
    "label_list = list(label_dict.values())\n",
    "\n",
    "class_counts = [train_df.isGoal.value_counts()[i] for i in range(0,2)]\n",
    "\n",
    "label_counts = sorted(list(zip(label_list, class_counts)), \n",
    "                     key=lambda x:x[1], reverse=True)"
   ]
  },
  {
   "cell_type": "code",
   "execution_count": 112,
   "id": "0d17c87c-5106-40d7-808c-9c514519fb04",
   "metadata": {},
   "outputs": [
    {
     "data": {
      "image/png": "[encoded data removed]",
      "text/plain": [
       "<Figure size 432x576 with 1 Axes>"
      ]
     },
     "metadata": {},
     "output_type": "display_data"
    }
   ],
   "source": [
    "# Plot weather type counts\n",
    "sns.set_context('talk')\n",
    "sns.set_style('white')\n",
    "plt.figure(figsize=(6,8))\n",
    "plt.barh(width=[x[1] for x in label_counts], \n",
    "         y=[x[0] for x in label_counts], \n",
    "         color='darkgreen')\n",
    "plt.yticks(ticks=list(range(0,2)), labels=[x[0] for x in label_counts])\n",
    "plt.xlabel('Samples')\n",
    "plt.title('Number of samples with given label')\n",
    "sns.despine()\n",
    "plt.show();"
   ]
  },
  {
   "cell_type": "code",
   "execution_count": 113,
   "id": "13cbeff7-f73b-4503-b6b4-bb27d41bf67c",
   "metadata": {},
   "outputs": [
    {
     "data": {
      "text/plain": [
       "0    306667\n",
       "1     31748\n",
       "Name: isGoal, dtype: int64"
      ]
     },
     "execution_count": 113,
     "metadata": {},
     "output_type": "execute_result"
    }
   ],
   "source": [
    "train_df.isGoal.value_counts()"
   ]
  },
  {
   "cell_type": "markdown",
   "id": "03e3a936-02bc-462c-b525-d2e0656ec90b",
   "metadata": {},
   "source": [
    "# Generate Train and Validation Splits"
   ]
  },
  {
   "cell_type": "code",
   "execution_count": 114,
   "id": "8f7092c3-2ad4-4fd7-b8dd-404acf862f11",
   "metadata": {},
   "outputs": [
    {
     "data": {
      "text/plain": [
       "(        distanceNet   angleNet\n",
       " 0         34.525353  10.007980\n",
       " 1         10.000000   0.000000\n",
       " 2         14.035669  -4.085617\n",
       " 3         49.517674 -46.636577\n",
       " 4         28.017851  -2.045408\n",
       " ...             ...        ...\n",
       " 338503   161.049682  -1.423205\n",
       " 338504   155.003226  -0.369645\n",
       " 338505    26.419690  60.524111\n",
       " 338506   164.027437   1.047977\n",
       " 338507    19.416488  11.888658\n",
       " \n",
       " [338415 rows x 2 columns],\n",
       " 0         0\n",
       " 1         0\n",
       " 2         0\n",
       " 3         0\n",
       " 4         0\n",
       "          ..\n",
       " 338503    1\n",
       " 338504    1\n",
       " 338505    1\n",
       " 338506    0\n",
       " 338507    0\n",
       " Name: isGoal, Length: 338415, dtype: int64,\n",
       "        distanceNet   angleNet\n",
       " 0       124.458829  -8.781163\n",
       " 1        26.627054  34.286877\n",
       " 2       129.031004 -14.359337\n",
       " 3        50.695167  22.011283\n",
       " 4       160.028123   1.074170\n",
       " ...            ...        ...\n",
       " 83052   163.370744   3.860733\n",
       " 83053   158.050625  -1.450216\n",
       " 83054   173.288776   3.308214\n",
       " 83055   163.306460   3.510678\n",
       " 83056    29.732137 -47.726311\n",
       " \n",
       " [82987 rows x 2 columns],\n",
       " 0        0\n",
       " 1        0\n",
       " 2        0\n",
       " 3        1\n",
       " 4        1\n",
       "         ..\n",
       " 83052    1\n",
       " 83053    0\n",
       " 83054    0\n",
       " 83055    1\n",
       " 83056    0\n",
       " Name: isGoal, Length: 82987, dtype: int64)"
      ]
     },
     "execution_count": 114,
     "metadata": {},
     "output_type": "execute_result"
    }
   ],
   "source": [
    "X = train_df.drop('isGoal', axis=1)\n",
    "Y = train_df['isGoal']\n",
    "testX = test_df.drop('isGoal', axis=1)\n",
    "testY = test_df['isGoal']\n",
    "X, Y, testX, testY"
   ]
  },
  {
   "cell_type": "code",
   "execution_count": 115,
   "id": "795a3588-4391-4c38-9949-9a183ec34d69",
   "metadata": {},
   "outputs": [
    {
     "data": {
      "text/plain": [
       "(        distanceNet   angleNet\n",
       " 260839    47.853944  26.029592\n",
       " 226485    23.345235   9.865807\n",
       " 137844    25.079872 -23.498566\n",
       " 231808    33.541020  26.565051\n",
       " 131341     7.211103 -33.690068\n",
       " ...             ...        ...\n",
       " 310612    28.017851  55.175511\n",
       " 8285      28.017851 -55.175511\n",
       " 102651    13.000000   0.000000\n",
       " 280989    20.615528  39.093859\n",
       " 20832     63.953108 -26.965714\n",
       " \n",
       " [270732 rows x 2 columns],\n",
       "         distanceNet   angleNet\n",
       " 280084    24.041631 -45.000000\n",
       " 81950      7.810250  50.194429\n",
       " 149454    14.560220 -15.945396\n",
       " 256621    16.970563 -45.000000\n",
       " 304081    12.806248  38.659808\n",
       " ...             ...        ...\n",
       " 65717     52.009614 -37.971604\n",
       " 276758     9.848858 -23.962489\n",
       " 142642     5.385165 -21.801409\n",
       " 160964    28.319605 -47.862405\n",
       " 243484    20.396078 -78.690068\n",
       " \n",
       " [67683 rows x 2 columns],\n",
       " 260839    0\n",
       " 226485    0\n",
       " 137844    1\n",
       " 231808    0\n",
       " 131341    0\n",
       "          ..\n",
       " 310612    0\n",
       " 8285      0\n",
       " 102651    0\n",
       " 280989    0\n",
       " 20832     0\n",
       " Name: isGoal, Length: 270732, dtype: int64,\n",
       " 280084    0\n",
       " 81950     0\n",
       " 149454    0\n",
       " 256621    0\n",
       " 304081    0\n",
       "          ..\n",
       " 65717     0\n",
       " 276758    1\n",
       " 142642    1\n",
       " 160964    1\n",
       " 243484    0\n",
       " Name: isGoal, Length: 67683, dtype: int64)"
      ]
     },
     "execution_count": 115,
     "metadata": {},
     "output_type": "execute_result"
    }
   ],
   "source": [
    "trainX, valX, trainY, valY = train_test_split(X, Y, test_size=0.20, stratify=Y) #80-20 Split\n",
    "trainX, valX, trainY, valY"
   ]
  },
  {
   "cell_type": "code",
   "execution_count": 116,
   "id": "f15a4850-5c41-45ab-adbb-51d0b72b19a6",
   "metadata": {},
   "outputs": [],
   "source": [
    "# Save raw copies of train and validation sets before further preprocessing\n",
    "X_train_raw = trainX.copy()\n",
    "y_train_raw = trainY.copy()\n",
    "\n",
    "X_val_raw = valX.copy()\n",
    "y_val_raw = valY.copy()"
   ]
  },
  {
   "cell_type": "code",
   "execution_count": 167,
   "id": "5b5310de-404e-4b14-ae6e-740a4dd02b19",
   "metadata": {},
   "outputs": [
    {
     "data": {
      "text/html": [
       "<div>\n",
       "<style scoped>\n",
       "    .dataframe tbody tr th:only-of-type {\n",
       "        vertical-align: middle;\n",
       "    }\n",
       "\n",
       "    .dataframe tbody tr th {\n",
       "        vertical-align: top;\n",
       "    }\n",
       "\n",
       "    .dataframe thead th {\n",
       "        text-align: right;\n",
       "    }\n",
       "</style>\n",
       "<table border=\"1\" class=\"dataframe\">\n",
       "  <thead>\n",
       "    <tr style=\"text-align: right;\">\n",
       "      <th></th>\n",
       "      <th>0</th>\n",
       "      <th>1</th>\n",
       "    </tr>\n",
       "  </thead>\n",
       "  <tbody>\n",
       "    <tr>\n",
       "      <th>0</th>\n",
       "      <td>0.252142</td>\n",
       "      <td>0.554952</td>\n",
       "    </tr>\n",
       "    <tr>\n",
       "      <th>1</th>\n",
       "      <td>0.123006</td>\n",
       "      <td>0.508231</td>\n",
       "    </tr>\n",
       "    <tr>\n",
       "      <th>2</th>\n",
       "      <td>0.132146</td>\n",
       "      <td>0.411792</td>\n",
       "    </tr>\n",
       "    <tr>\n",
       "      <th>3</th>\n",
       "      <td>0.176728</td>\n",
       "      <td>0.556500</td>\n",
       "    </tr>\n",
       "    <tr>\n",
       "      <th>4</th>\n",
       "      <td>0.037995</td>\n",
       "      <td>0.382334</td>\n",
       "    </tr>\n",
       "    <tr>\n",
       "      <th>...</th>\n",
       "      <td>...</td>\n",
       "      <td>...</td>\n",
       "    </tr>\n",
       "    <tr>\n",
       "      <th>270727</th>\n",
       "      <td>0.147626</td>\n",
       "      <td>0.639198</td>\n",
       "    </tr>\n",
       "    <tr>\n",
       "      <th>270728</th>\n",
       "      <td>0.147626</td>\n",
       "      <td>0.320231</td>\n",
       "    </tr>\n",
       "    <tr>\n",
       "      <th>270729</th>\n",
       "      <td>0.068497</td>\n",
       "      <td>0.479714</td>\n",
       "    </tr>\n",
       "    <tr>\n",
       "      <th>270730</th>\n",
       "      <td>0.108623</td>\n",
       "      <td>0.592714</td>\n",
       "    </tr>\n",
       "    <tr>\n",
       "      <th>270731</th>\n",
       "      <td>0.336969</td>\n",
       "      <td>0.401771</td>\n",
       "    </tr>\n",
       "  </tbody>\n",
       "</table>\n",
       "<p>270732 rows × 2 columns</p>\n",
       "</div>"
      ],
      "text/plain": [
       "               0         1\n",
       "0       0.252142  0.554952\n",
       "1       0.123006  0.508231\n",
       "2       0.132146  0.411792\n",
       "3       0.176728  0.556500\n",
       "4       0.037995  0.382334\n",
       "...          ...       ...\n",
       "270727  0.147626  0.639198\n",
       "270728  0.147626  0.320231\n",
       "270729  0.068497  0.479714\n",
       "270730  0.108623  0.592714\n",
       "270731  0.336969  0.401771\n",
       "\n",
       "[270732 rows x 2 columns]"
      ]
     },
     "execution_count": 167,
     "metadata": {},
     "output_type": "execute_result"
    }
   ],
   "source": [
    "# Scale the features\n",
    "scaler = MinMaxScaler()\n",
    "X_scaled = scaler.fit_transform(trainX)\n",
    "X_scaled = pd.DataFrame(X_scaled)\n",
    "X_scaled"
   ]
  },
  {
   "cell_type": "code",
   "execution_count": 168,
   "id": "95461f47-945b-4330-89de-50981c3ee057",
   "metadata": {},
   "outputs": [
    {
     "data": {
      "text/html": [
       "<div>\n",
       "<style scoped>\n",
       "    .dataframe tbody tr th:only-of-type {\n",
       "        vertical-align: middle;\n",
       "    }\n",
       "\n",
       "    .dataframe tbody tr th {\n",
       "        vertical-align: top;\n",
       "    }\n",
       "\n",
       "    .dataframe thead th {\n",
       "        text-align: right;\n",
       "    }\n",
       "</style>\n",
       "<table border=\"1\" class=\"dataframe\">\n",
       "  <thead>\n",
       "    <tr style=\"text-align: right;\">\n",
       "      <th></th>\n",
       "      <th>0</th>\n",
       "      <th>1</th>\n",
       "    </tr>\n",
       "  </thead>\n",
       "  <tbody>\n",
       "    <tr>\n",
       "      <th>count</th>\n",
       "      <td>270732.000000</td>\n",
       "      <td>270732.000000</td>\n",
       "    </tr>\n",
       "    <tr>\n",
       "      <th>mean</th>\n",
       "      <td>0.208984</td>\n",
       "      <td>0.482006</td>\n",
       "    </tr>\n",
       "    <tr>\n",
       "      <th>std</th>\n",
       "      <td>0.167499</td>\n",
       "      <td>0.104708</td>\n",
       "    </tr>\n",
       "    <tr>\n",
       "      <th>min</th>\n",
       "      <td>0.000000</td>\n",
       "      <td>0.000000</td>\n",
       "    </tr>\n",
       "    <tr>\n",
       "      <th>25%</th>\n",
       "      <td>0.092170</td>\n",
       "      <td>0.402929</td>\n",
       "    </tr>\n",
       "    <tr>\n",
       "      <th>50%</th>\n",
       "      <td>0.180073</td>\n",
       "      <td>0.479714</td>\n",
       "    </tr>\n",
       "    <tr>\n",
       "      <th>75%</th>\n",
       "      <td>0.268719</td>\n",
       "      <td>0.560857</td>\n",
       "    </tr>\n",
       "    <tr>\n",
       "      <th>max</th>\n",
       "      <td>1.000000</td>\n",
       "      <td>1.000000</td>\n",
       "    </tr>\n",
       "  </tbody>\n",
       "</table>\n",
       "</div>"
      ],
      "text/plain": [
       "                   0              1\n",
       "count  270732.000000  270732.000000\n",
       "mean        0.208984       0.482006\n",
       "std         0.167499       0.104708\n",
       "min         0.000000       0.000000\n",
       "25%         0.092170       0.402929\n",
       "50%         0.180073       0.479714\n",
       "75%         0.268719       0.560857\n",
       "max         1.000000       1.000000"
      ]
     },
     "execution_count": 168,
     "metadata": {},
     "output_type": "execute_result"
    }
   ],
   "source": [
    "# Check the results\n",
    "X_scaled.describe()"
   ]
  },
  {
   "cell_type": "code",
   "execution_count": 165,
   "id": "06a47565-674e-4bf7-a18e-8fc2f7e341b2",
   "metadata": {},
   "outputs": [],
   "source": [
    "# Build a pipeline for the preprocessing steps\n",
    "pipe_prepro = Pipeline([('scaler', MinMaxScaler())])\n",
    "# Fit the pipeline and transform the training dataset\n",
    "X_train_trans = pipe_prepro.fit_transform(trainX)\n",
    "# Use the pipeline to transform the validation and test datasets\n",
    "X_val_trans = pipe_prepro.transform(valX)\n",
    "X_test_trans = pipe_prepro.transform(testX)"
   ]
  },
  {
   "cell_type": "markdown",
   "id": "1c7a1a1d-fa1d-4efd-9969-04101c649b4e",
   "metadata": {},
   "source": [
    "# Some Helper Functions"
   ]
  },
  {
   "cell_type": "code",
   "execution_count": 120,
   "id": "05cd22be-e06c-44be-8594-e5ed7fc612b0",
   "metadata": {},
   "outputs": [],
   "source": [
    "# Define a function to print selected model metrics\n",
    "def print_metrics(y_true, y_pred):\n",
    "    '''Print accuracy score, confusion matrix, and classification report.\n",
    "    \n",
    "    Keyword arguments:\n",
    "    y_true: groud-truth labels\n",
    "    y_pred: predicted labels\n",
    "    \n",
    "    Dependencies: \n",
    "    sklearn.metrics.accuracy_score\n",
    "    sklearn.metrics.confusion_matrix\n",
    "    sklearn.metrics.classification_report\n",
    "    '''\n",
    "    acc_score = accuracy_score(y_true, y_pred)\n",
    "    conf_matrix = confusion_matrix(y_true, y_pred)\n",
    "    class_report = classification_report(y_true, y_pred)\n",
    "    print('Accuracy:', acc_score)\n",
    "    print('-------')\n",
    "    print('Confusion matrix:')\n",
    "    print(conf_matrix)\n",
    "    print('-------')\n",
    "    print('Classification report:')\n",
    "    print(class_report)\n",
    "    \n",
    "# Define a function to make the ROC-AUC Curves\n",
    "def roc_it(y_true, y_pred, model_name, figsize=(12,10)):\n",
    "    '''Plot ROC with a separate curve for each class.\n",
    "    \n",
    "        Keyword arguments:\n",
    "    y_true: ground-truth labels\n",
    "    y_pred: predicted labels\n",
    "    model_name: name to print in the plot title\n",
    "    \n",
    "    Dependencies:\n",
    "    pandas aliased as pd\n",
    "    sklearn.metrics.roc_curve\n",
    "    sklearn.metrics.auc\n",
    "    matplotlib.pyplot aliased as plt\n",
    "    '''\n",
    "    y_true_dum = pd.get_dummies(y_true)\n",
    "    y_pred_dum = pd.get_dummies(y_pred)\n",
    "    n_classes = y_true.nunique()\n",
    "    \n",
    "    fprs = []\n",
    "    tprs = []\n",
    "    aucs = []\n",
    "\n",
    "    for i in range(0,n_classes-1):\n",
    "        fpr, tpr, _ = roc_curve(y_true_dum.loc[:,i], y_pred_dum.loc[:,i])\n",
    "        fprs.append(fpr)\n",
    "        tprs.append(tpr)\n",
    "        aucs.append(round(auc(fpr, tpr),2))\n",
    "        \n",
    "    plt.figure(figsize=(12,10))\n",
    "    for i in range(0, n_classes-1):\n",
    "        plt.plot(fprs[i], tprs[i], label='Class: {}, AUC: {}'.format(i, \n",
    "                                                                     aucs[i]))\n",
    "    plt.plot([0.0,1.0], [0.0,1.0], linestyle='--')\n",
    "    plt.title('ROC curves by class for {}'.format(model_name))\n",
    "    plt.xlabel('False Positive Rate')\n",
    "    plt.ylabel('True Positive Rate')\n",
    "    plt.legend();"
   ]
  },
  {
   "cell_type": "markdown",
   "id": "e9a8a25f-51ca-41b5-98de-d3fb60fc180e",
   "metadata": {},
   "source": [
    "# Logitic Regression with features DistanceNet"
   ]
  },
  {
   "cell_type": "code",
   "execution_count": 175,
   "id": "7f626bdb-edee-4a26-a1af-67706861235b",
   "metadata": {},
   "outputs": [
    {
     "name": "stderr",
     "output_type": "stream",
     "text": [
      "C:\\Users\\callr\\Anaconda3\\envs\\ift6758-conda-env\\lib\\site-packages\\sklearn\\metrics\\_classification.py:1308: UndefinedMetricWarning: Precision and F-score are ill-defined and being set to 0.0 in labels with no predicted samples. Use `zero_division` parameter to control this behavior.\n",
      "  _warn_prf(average, modifier, msg_start, len(result))\n",
      "C:\\Users\\callr\\Anaconda3\\envs\\ift6758-conda-env\\lib\\site-packages\\sklearn\\metrics\\_classification.py:1308: UndefinedMetricWarning: Precision and F-score are ill-defined and being set to 0.0 in labels with no predicted samples. Use `zero_division` parameter to control this behavior.\n",
      "  _warn_prf(average, modifier, msg_start, len(result))\n"
     ]
    },
    {
     "name": "stdout",
     "output_type": "stream",
     "text": [
      "Accuracy: 0.9061876689863038\n",
      "-------\n",
      "Confusion matrix:\n",
      "[[245334      0]\n",
      " [ 25398      0]]\n",
      "-------\n",
      "Classification report:\n",
      "              precision    recall  f1-score   support\n",
      "\n",
      "           0       0.91      1.00      0.95    245334\n",
      "           1       0.00      0.00      0.00     25398\n",
      "\n",
      "    accuracy                           0.91    270732\n",
      "   macro avg       0.45      0.50      0.48    270732\n",
      "weighted avg       0.82      0.91      0.86    270732\n",
      "\n"
     ]
    },
    {
     "name": "stderr",
     "output_type": "stream",
     "text": [
      "C:\\Users\\callr\\Anaconda3\\envs\\ift6758-conda-env\\lib\\site-packages\\sklearn\\metrics\\_classification.py:1308: UndefinedMetricWarning: Precision and F-score are ill-defined and being set to 0.0 in labels with no predicted samples. Use `zero_division` parameter to control this behavior.\n",
      "  _warn_prf(average, modifier, msg_start, len(result))\n"
     ]
    }
   ],
   "source": [
    "# Fit and score a Logistic Classifier\n",
    "LR1 = LogisticRegression()\n",
    "LR1.fit(X_train_trans[:,0].reshape(-1,1), trainY)\n",
    "train_pred = LR1.predict(X_train_trans[:,0].reshape(-1,1))\n",
    "print_metrics(trainY, train_pred)"
   ]
  },
  {
   "cell_type": "code",
   "execution_count": 177,
   "id": "91a2030a-949d-45fb-a8e6-504a384d7eff",
   "metadata": {},
   "outputs": [
    {
     "name": "stdout",
     "output_type": "stream",
     "text": [
      "Accuracy: 0.9061802816069028\n",
      "-------\n",
      "Confusion matrix:\n",
      "[[61333     0]\n",
      " [ 6350     0]]\n",
      "-------\n",
      "Classification report:\n",
      "              precision    recall  f1-score   support\n",
      "\n",
      "           0       0.91      1.00      0.95     61333\n",
      "           1       0.00      0.00      0.00      6350\n",
      "\n",
      "    accuracy                           0.91     67683\n",
      "   macro avg       0.45      0.50      0.48     67683\n",
      "weighted avg       0.82      0.91      0.86     67683\n",
      "\n"
     ]
    },
    {
     "name": "stderr",
     "output_type": "stream",
     "text": [
      "C:\\Users\\callr\\Anaconda3\\envs\\ift6758-conda-env\\lib\\site-packages\\sklearn\\metrics\\_classification.py:1308: UndefinedMetricWarning: Precision and F-score are ill-defined and being set to 0.0 in labels with no predicted samples. Use `zero_division` parameter to control this behavior.\n",
      "  _warn_prf(average, modifier, msg_start, len(result))\n",
      "C:\\Users\\callr\\Anaconda3\\envs\\ift6758-conda-env\\lib\\site-packages\\sklearn\\metrics\\_classification.py:1308: UndefinedMetricWarning: Precision and F-score are ill-defined and being set to 0.0 in labels with no predicted samples. Use `zero_division` parameter to control this behavior.\n",
      "  _warn_prf(average, modifier, msg_start, len(result))\n",
      "C:\\Users\\callr\\Anaconda3\\envs\\ift6758-conda-env\\lib\\site-packages\\sklearn\\metrics\\_classification.py:1308: UndefinedMetricWarning: Precision and F-score are ill-defined and being set to 0.0 in labels with no predicted samples. Use `zero_division` parameter to control this behavior.\n",
      "  _warn_prf(average, modifier, msg_start, len(result))\n"
     ]
    }
   ],
   "source": [
    "# Validate\n",
    "val_pred = LR1.predict(X_val_trans[:,0].reshape(-1,1))\n",
    "val_prob = LR1.predict_proba(X_val_trans[:, 0].reshape(-1,1))[:, 1]\n",
    "print_metrics(valY, val_pred)"
   ]
  },
  {
   "cell_type": "code",
   "execution_count": 181,
   "id": "0b687f46-9810-4539-9aef-e370ccc0f2bd",
   "metadata": {},
   "outputs": [
    {
     "data": {
      "text/plain": [
       "<matplotlib.legend.Legend at 0x21e49e78430>"
      ]
     },
     "execution_count": 181,
     "metadata": {},
     "output_type": "execute_result"
    },
    {
     "data": {
      "image/png": "[encoded data removed]",
      "text/plain": [
       "<Figure size 864x720 with 1 Axes>"
      ]
     },
     "metadata": {},
     "output_type": "display_data"
    }
   ],
   "source": [
    "# Plot ROC curve\n",
    "fpr, tpr, _ = roc_curve(valY, val_prob)\n",
    "aucs = round(auc(fpr, tpr),2)\n",
    "plt.figure(figsize=(12,10))\n",
    "plt.plot(fpr, tpr, label='Class: 1, AUC: {}'.format(aucs))\n",
    "plt.plot([0.0,1.0], [0.0,1.0], linestyle='--')\n",
    "plt.title('ROC curves by class for Logistic Regression with Distance feature')\n",
    "plt.xlabel('False Positive Rate')\n",
    "plt.ylabel('True Positive Rate')\n",
    "plt.legend()\n",
    "\n",
    "#roc_it(valY, val_pred, 'Logistic Regression 1')"
   ]
  },
  {
   "cell_type": "code",
   "execution_count": 180,
   "id": "b24b240d-69d8-4367-a735-4192eb8f67f9",
   "metadata": {},
   "outputs": [
    {
     "data": {
      "image/png": "[encoded data removed]",
      "text/plain": [
       "<Figure size 432x288 with 1 Axes>"
      ]
     },
     "metadata": {},
     "output_type": "display_data"
    }
   ],
   "source": [
    "#Plot Calibration Curves\n",
    "disp = CalibrationDisplay.from_estimator(LR1, X_val_trans[:,0].reshape(-1,1), valY, n_bins=100)\n",
    "plt.show()"
   ]
  },
  {
   "cell_type": "markdown",
   "id": "fe23861c-f744-4a4c-8744-807eba787523",
   "metadata": {},
   "source": [
    "# Logitic Regression with features AngleNet "
   ]
  },
  {
   "cell_type": "code",
   "execution_count": 172,
   "id": "2e8ca21e-915f-4708-ab88-55225947decb",
   "metadata": {},
   "outputs": [
    {
     "name": "stderr",
     "output_type": "stream",
     "text": [
      "C:\\Users\\callr\\Anaconda3\\envs\\ift6758-conda-env\\lib\\site-packages\\sklearn\\metrics\\_classification.py:1308: UndefinedMetricWarning: Precision and F-score are ill-defined and being set to 0.0 in labels with no predicted samples. Use `zero_division` parameter to control this behavior.\n",
      "  _warn_prf(average, modifier, msg_start, len(result))\n"
     ]
    },
    {
     "name": "stdout",
     "output_type": "stream",
     "text": [
      "Accuracy: 0.9061876689863038\n",
      "-------\n",
      "Confusion matrix:\n",
      "[[245334      0]\n",
      " [ 25398      0]]\n",
      "-------\n",
      "Classification report:\n",
      "              precision    recall  f1-score   support\n",
      "\n",
      "           0       0.91      1.00      0.95    245334\n",
      "           1       0.00      0.00      0.00     25398\n",
      "\n",
      "    accuracy                           0.91    270732\n",
      "   macro avg       0.45      0.50      0.48    270732\n",
      "weighted avg       0.82      0.91      0.86    270732\n",
      "\n"
     ]
    },
    {
     "name": "stderr",
     "output_type": "stream",
     "text": [
      "C:\\Users\\callr\\Anaconda3\\envs\\ift6758-conda-env\\lib\\site-packages\\sklearn\\metrics\\_classification.py:1308: UndefinedMetricWarning: Precision and F-score are ill-defined and being set to 0.0 in labels with no predicted samples. Use `zero_division` parameter to control this behavior.\n",
      "  _warn_prf(average, modifier, msg_start, len(result))\n",
      "C:\\Users\\callr\\Anaconda3\\envs\\ift6758-conda-env\\lib\\site-packages\\sklearn\\metrics\\_classification.py:1308: UndefinedMetricWarning: Precision and F-score are ill-defined and being set to 0.0 in labels with no predicted samples. Use `zero_division` parameter to control this behavior.\n",
      "  _warn_prf(average, modifier, msg_start, len(result))\n"
     ]
    }
   ],
   "source": [
    "# Fit and score a Logistic Classifier\n",
    "LR2 = LogisticRegression()\n",
    "LR2.fit(X_train_trans[:,1].reshape(-1,1), trainY)\n",
    "train_pred = LR2.predict(X_train_trans[:,1].reshape(-1,1))\n",
    "print_metrics(trainY, train_pred)"
   ]
  },
  {
   "cell_type": "code",
   "execution_count": 173,
   "id": "11bff55a-98bf-4781-a0f0-7925644c6f3d",
   "metadata": {},
   "outputs": [
    {
     "name": "stdout",
     "output_type": "stream",
     "text": [
      "Accuracy: 0.9061802816069028\n",
      "-------\n",
      "Confusion matrix:\n",
      "[[61333     0]\n",
      " [ 6350     0]]\n",
      "-------\n",
      "Classification report:\n",
      "              precision    recall  f1-score   support\n",
      "\n",
      "           0       0.91      1.00      0.95     61333\n",
      "           1       0.00      0.00      0.00      6350\n",
      "\n",
      "    accuracy                           0.91     67683\n",
      "   macro avg       0.45      0.50      0.48     67683\n",
      "weighted avg       0.82      0.91      0.86     67683\n",
      "\n"
     ]
    },
    {
     "name": "stderr",
     "output_type": "stream",
     "text": [
      "C:\\Users\\callr\\Anaconda3\\envs\\ift6758-conda-env\\lib\\site-packages\\sklearn\\metrics\\_classification.py:1308: UndefinedMetricWarning: Precision and F-score are ill-defined and being set to 0.0 in labels with no predicted samples. Use `zero_division` parameter to control this behavior.\n",
      "  _warn_prf(average, modifier, msg_start, len(result))\n",
      "C:\\Users\\callr\\Anaconda3\\envs\\ift6758-conda-env\\lib\\site-packages\\sklearn\\metrics\\_classification.py:1308: UndefinedMetricWarning: Precision and F-score are ill-defined and being set to 0.0 in labels with no predicted samples. Use `zero_division` parameter to control this behavior.\n",
      "  _warn_prf(average, modifier, msg_start, len(result))\n",
      "C:\\Users\\callr\\Anaconda3\\envs\\ift6758-conda-env\\lib\\site-packages\\sklearn\\metrics\\_classification.py:1308: UndefinedMetricWarning: Precision and F-score are ill-defined and being set to 0.0 in labels with no predicted samples. Use `zero_division` parameter to control this behavior.\n",
      "  _warn_prf(average, modifier, msg_start, len(result))\n"
     ]
    }
   ],
   "source": [
    "# Validate\n",
    "val_pred = LR2.predict(X_val_trans[:,1].reshape(-1,1))\n",
    "print_metrics(valY, val_pred)"
   ]
  },
  {
   "cell_type": "code",
   "execution_count": 174,
   "id": "4dbe3972-fad4-491c-b17f-7b814b390e4d",
   "metadata": {},
   "outputs": [
    {
     "data": {
      "image/png": "[encoded data removed]",
      "text/plain": [
       "<Figure size 864x720 with 1 Axes>"
      ]
     },
     "metadata": {},
     "output_type": "display_data"
    }
   ],
   "source": [
    "# Plot ROC curve for each class\n",
    "roc_it(valY, val_pred, 'Logistic Regression 2')"
   ]
  },
  {
   "cell_type": "markdown",
   "id": "f8582f1e-d57c-4077-9111-c4a53092dc55",
   "metadata": {},
   "source": [
    "# Logitic Regression with features AngleNet and DistanceNet"
   ]
  },
  {
   "cell_type": "code",
   "execution_count": 87,
   "id": "c7640d24-cd33-4295-bd55-e385ec2362dc",
   "metadata": {},
   "outputs": [
    {
     "name": "stderr",
     "output_type": "stream",
     "text": [
      "C:\\Users\\callr\\Anaconda3\\envs\\ift6758-conda-env\\lib\\site-packages\\sklearn\\metrics\\_classification.py:1308: UndefinedMetricWarning: Precision and F-score are ill-defined and being set to 0.0 in labels with no predicted samples. Use `zero_division` parameter to control this behavior.\n",
      "  _warn_prf(average, modifier, msg_start, len(result))\n",
      "C:\\Users\\callr\\Anaconda3\\envs\\ift6758-conda-env\\lib\\site-packages\\sklearn\\metrics\\_classification.py:1308: UndefinedMetricWarning: Precision and F-score are ill-defined and being set to 0.0 in labels with no predicted samples. Use `zero_division` parameter to control this behavior.\n",
      "  _warn_prf(average, modifier, msg_start, len(result))\n",
      "C:\\Users\\callr\\Anaconda3\\envs\\ift6758-conda-env\\lib\\site-packages\\sklearn\\metrics\\_classification.py:1308: UndefinedMetricWarning: Precision and F-score are ill-defined and being set to 0.0 in labels with no predicted samples. Use `zero_division` parameter to control this behavior.\n",
      "  _warn_prf(average, modifier, msg_start, len(result))\n"
     ]
    },
    {
     "name": "stdout",
     "output_type": "stream",
     "text": [
      "Accuracy: 0.9061876689863038\n",
      "-------\n",
      "Confusion matrix:\n",
      "[[245334      0]\n",
      " [ 25398      0]]\n",
      "-------\n",
      "Classification report:\n",
      "              precision    recall  f1-score   support\n",
      "\n",
      "           0       0.91      1.00      0.95    245334\n",
      "           1       0.00      0.00      0.00     25398\n",
      "\n",
      "    accuracy                           0.91    270732\n",
      "   macro avg       0.45      0.50      0.48    270732\n",
      "weighted avg       0.82      0.91      0.86    270732\n",
      "\n"
     ]
    }
   ],
   "source": [
    "# Fit and score a Logistic Classifier\n",
    "LR3 = LogisticRegression()\n",
    "LR3.fit(X_train_trans, trainY)\n",
    "train_pred = LR3.predict(X_train_trans)\n",
    "print_metrics(trainY, train_pred)"
   ]
  },
  {
   "cell_type": "code",
   "execution_count": 88,
   "id": "9a6b566d-d096-4e0c-b755-0472d41e3a66",
   "metadata": {},
   "outputs": [
    {
     "name": "stdout",
     "output_type": "stream",
     "text": [
      "Accuracy: 0.9061802816069028\n",
      "-------\n",
      "Confusion matrix:\n",
      "[[61333     0]\n",
      " [ 6350     0]]\n",
      "-------\n",
      "Classification report:\n",
      "              precision    recall  f1-score   support\n",
      "\n",
      "           0       0.91      1.00      0.95     61333\n",
      "           1       0.00      0.00      0.00      6350\n",
      "\n",
      "    accuracy                           0.91     67683\n",
      "   macro avg       0.45      0.50      0.48     67683\n",
      "weighted avg       0.82      0.91      0.86     67683\n",
      "\n"
     ]
    },
    {
     "name": "stderr",
     "output_type": "stream",
     "text": [
      "C:\\Users\\callr\\Anaconda3\\envs\\ift6758-conda-env\\lib\\site-packages\\sklearn\\metrics\\_classification.py:1308: UndefinedMetricWarning: Precision and F-score are ill-defined and being set to 0.0 in labels with no predicted samples. Use `zero_division` parameter to control this behavior.\n",
      "  _warn_prf(average, modifier, msg_start, len(result))\n",
      "C:\\Users\\callr\\Anaconda3\\envs\\ift6758-conda-env\\lib\\site-packages\\sklearn\\metrics\\_classification.py:1308: UndefinedMetricWarning: Precision and F-score are ill-defined and being set to 0.0 in labels with no predicted samples. Use `zero_division` parameter to control this behavior.\n",
      "  _warn_prf(average, modifier, msg_start, len(result))\n",
      "C:\\Users\\callr\\Anaconda3\\envs\\ift6758-conda-env\\lib\\site-packages\\sklearn\\metrics\\_classification.py:1308: UndefinedMetricWarning: Precision and F-score are ill-defined and being set to 0.0 in labels with no predicted samples. Use `zero_division` parameter to control this behavior.\n",
      "  _warn_prf(average, modifier, msg_start, len(result))\n"
     ]
    }
   ],
   "source": [
    "# Validate\n",
    "val_pred = LR3.predict(X_val_trans)\n",
    "print_metrics(valY, val_pred)"
   ]
  },
  {
   "cell_type": "code",
   "execution_count": null,
   "id": "3cf2bc8f-eea4-46fd-b8a1-de503ef02406",
   "metadata": {},
   "outputs": [
    {
     "data": {
      "image/png": "[encoded data removed]",
      "text/plain": [
       "<Figure size 864x720 with 1 Axes>"
      ]
     },
     "metadata": {},
     "output_type": "display_data"
    }
   ],
   "source": [
    "# Plot ROC curve for each class\n",
    "roc_it(valY, val_pred, 'Logistic Regression 3')"
   ]
  },
  {
   "cell_type": "code",
   "execution_count": null,
   "id": "a58440e9-7fb6-4865-bec3-3285a14d4f62",
   "metadata": {},
   "outputs": [],
   "source": []
  }
 ],
 "metadata": {
  "kernelspec": {
   "display_name": "ift6758-conda-env",
   "language": "python",
   "name": "ift6758-conda-env"
  },
  "language_info": {
   "codemirror_mode": {
    "name": "ipython",
    "version": 3
   },
   "file_extension": ".py",
   "mimetype": "text/x-python",
   "name": "python",
   "nbconvert_exporter": "python",
   "pygments_lexer": "ipython3",
   "version": "3.9.7"
  }
 },
 "nbformat": 4,
 "nbformat_minor": 5
}
