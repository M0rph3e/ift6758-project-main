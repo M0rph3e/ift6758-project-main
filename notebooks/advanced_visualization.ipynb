{
 "cells": [
  {
   "cell_type": "code",
   "execution_count": null,
   "metadata": {},
   "outputs": [],
   "source": [
    "%load_ext autoreload\n",
    "%autoreload 2"
   ]
  },
  {
   "cell_type": "code",
   "execution_count": 2,
   "metadata": {},
   "outputs": [],
   "source": [
    "from  ift6758.data.data_acquisition import Season\n"
   ]
  },
  {
   "cell_type": "code",
   "execution_count": 89,
   "metadata": {},
   "outputs": [],
   "source": [
    "import pandas as pd\n",
    "import numpy as np\n",
    "def time_played(row):\n",
    "    \"\"\"\n",
    "    return time in mins\n",
    "    \"\"\"\n",
    "    # print(type(row['about.periodTime']))\n",
    "    if row['result.event'] == 'GOAL' and row['about.period']>3:\n",
    "        # return row['about.periodTime'] + row['about.periodTime']\n",
    "        # .date.min()\n",
    "        min_sec1 = row['about.periodTime'].split(':')\n",
    "        return float(min_sec1[0]) + float(min_sec1[1])/60\n",
    "    else:\n",
    "        # return row['about.periodTime']\n",
    "        # .date.min()\n",
    "        min_sec1 = row['about.periodTime'].split(':')\n",
    "        min_sec2 = row['about.periodTimeRemaining'].split(':')\n",
    "        return float(min_sec1[0]) + float(min_sec2[0]) + (float(min_sec1[1]) +  float(min_sec2[1]))/60\n",
    "\n",
    "\n",
    "\n",
    "\n"
   ]
  },
  {
   "cell_type": "code",
   "execution_count": 87,
   "metadata": {},
   "outputs": [
    {
     "name": "stdout",
     "output_type": "stream",
     "text": [
      "File already Exists, loading from ../ift6758/data/PICKLE//2016_clean.pkl\n",
      "File already Exists, loading from ../ift6758/data/PICKLE//2017_clean.pkl\n",
      "File already Exists, loading from ../ift6758/data/PICKLE//2018_clean.pkl\n",
      "File already Exists, loading from ../ift6758/data/PICKLE//2019_clean.pkl\n",
      "File already Exists, loading from ../ift6758/data/PICKLE//2020_clean.pkl\n"
     ]
    }
   ],
   "source": [
    "# select_columns = [\"result.event\",\"gamePk\",\"team.name\",\"players\",\"about.period\",\"about.periodTime\",\"about.periodType\",\"about.periodTimeRemaining\",\"coordinates.x\",\"coordinates.y\"]\n",
    "\n",
    "def get_team_time(df_clean):\n",
    "    sel_columns = ['gamePk','result.event','team.name','about.period','about.periodTime','about.periodTimeRemaining']\n",
    "    df1 = df_clean[sel_columns].drop_duplicates() \n",
    "    df2 = df1.sort_values('about.periodTime', ascending=False).drop_duplicates(['gamePk','about.period'])\n",
    "    df2['periodTimePlayed'] = df2.apply (lambda row: time_played(row), axis=1)\n",
    "    df3 = df2.groupby('gamePk')['periodTimePlayed'].sum()\n",
    "    df4 = df1[['gamePk','team.name']].drop_duplicates()\n",
    "    df4['gameTime'] = df4.apply(lambda x: df3.get(key = x['gamePk']),axis=1)\n",
    "    df5 = df4.groupby(['team.name'])['gameTime'].sum()\n",
    "    total_time = df5.sum()\n",
    "    return df5.to_dict(),total_time\n",
    "\n",
    "\n",
    "    \n",
    "\n",
    "time_game_dict = {}\n",
    "for year in [2016,2017,2018,2019,2020]:\n",
    "    season = Season(year,\"../ift6758/data\")\n",
    "    df_clean = season.clean_data()\n",
    "    time_game_dict[year] = {}\n",
    "    time_game_dict[year]['team'],time_game_dict[year]['total_time'] = get_team_time(df_clean)\n",
    "    time_game_dict[year]['teams_played'] = len(time_game_dict[year]['team'])\n",
    "\n",
    "\n",
    "\n"
   ]
  },
  {
   "cell_type": "code",
   "execution_count": 88,
   "metadata": {},
   "outputs": [
    {
     "data": {
      "text/plain": [
       "{2016: {'team': {'Anaheim Ducks': 6591.1,\n",
       "   'Arizona Coyotes': 5531.55,\n",
       "   'Boston Bruins': 5834.033333333334,\n",
       "   'Buffalo Sabres': 5230.733333333334,\n",
       "   'Calgary Flames': 5692.283333333334,\n",
       "   'Carolina Hurricanes': 5373.183333333333,\n",
       "   'Chicago Blackhawks': 5659.216666666666,\n",
       "   'Colorado Avalanche': 5268.216666666666,\n",
       "   'Columbus Blue Jackets': 5827.866666666667,\n",
       "   'Dallas Stars': 5309.55,\n",
       "   'Detroit Red Wings': 5513.583333333333,\n",
       "   'Edmonton Oilers': 6335.166666666667,\n",
       "   'Florida Panthers': 5267.766666666666,\n",
       "   'Los Angeles Kings': 5338.7,\n",
       "   'Minnesota Wild': 5638.55,\n",
       "   'Montréal Canadiens': 5815.25,\n",
       "   'Nashville Predators': 6768.366666666667,\n",
       "   'New Jersey Devils': 5418.366666666667,\n",
       "   'New York Islanders': 5399.083333333333,\n",
       "   'New York Rangers': 6193.533333333334,\n",
       "   'Ottawa Senators': 6718.733333333334,\n",
       "   'Philadelphia Flyers': 5450.4,\n",
       "   'Pittsburgh Penguins': 7020.45,\n",
       "   'San Jose Sharks': 5761.266666666666,\n",
       "   'St. Louis Blues': 6114.35,\n",
       "   'Tampa Bay Lightning': 5292.2,\n",
       "   'Team Atlantic': 20.0,\n",
       "   'Team Central': 20.0,\n",
       "   'Team Metropolitan': 40.0,\n",
       "   'Team Pacific': 40.0,\n",
       "   'Toronto Maple Leafs': 5794.733333333334,\n",
       "   'Vancouver Canucks': 5450.933333333333,\n",
       "   'Washington Capitals': 6262.333333333333,\n",
       "   'Winnipeg Jets': 5408.066666666667},\n",
       "  'total_time': 173399.5666666667,\n",
       "  'teams_played': 34},\n",
       " 2017: {'team': {'Anaheim Ducks': 5690.0,\n",
       "   'Arizona Coyotes': 5370.0,\n",
       "   'Boston Bruins': 6160.0,\n",
       "   'Buffalo Sabres': 5270.0,\n",
       "   'Calgary Flames': 5480.0,\n",
       "   'Carolina Hurricanes': 5400.0,\n",
       "   'Chicago Blackhawks': 5380.0,\n",
       "   'Colorado Avalanche': 5740.0,\n",
       "   'Columbus Blue Jackets': 6035.0,\n",
       "   'Dallas Stars': 5400.0,\n",
       "   'Detroit Red Wings': 5480.0,\n",
       "   'Edmonton Oilers': 5460.0,\n",
       "   'Florida Panthers': 5385.0,\n",
       "   'Los Angeles Kings': 5625.0,\n",
       "   'Minnesota Wild': 5710.0,\n",
       "   'Montréal Canadiens': 5350.0,\n",
       "   'Nashville Predators': 6295.0,\n",
       "   'New Jersey Devils': 5730.0,\n",
       "   'New York Islanders': 5355.0,\n",
       "   'New York Rangers': 5375.0,\n",
       "   'Ottawa Senators': 5370.0,\n",
       "   'Philadelphia Flyers': 5825.0,\n",
       "   'Pittsburgh Penguins': 6085.0,\n",
       "   'San Jose Sharks': 6090.0,\n",
       "   'St. Louis Blues': 5385.0,\n",
       "   'Tampa Bay Lightning': 6510.0,\n",
       "   'Team Atlantic': 40.0,\n",
       "   'Team Central': 20.0,\n",
       "   'Team Metropolitan': 20.0,\n",
       "   'Team Pacific': 40.0,\n",
       "   'Toronto Maple Leafs': 5720.0,\n",
       "   'Vancouver Canucks': 5395.0,\n",
       "   'Vegas Golden Knights': 6775.0,\n",
       "   'Washington Capitals': 7010.0,\n",
       "   'Winnipeg Jets': 6545.0},\n",
       "  'total_time': 178520.0,\n",
       "  'teams_played': 35},\n",
       " 2018: {'team': {'Anaheim Ducks': 5370.0,\n",
       "   'Arizona Coyotes': 5430.0,\n",
       "   'Boston Bruins': 6980.0,\n",
       "   'Buffalo Sabres': 5430.0,\n",
       "   'Calgary Flames': 5870.0,\n",
       "   'Carolina Hurricanes': 6340.0,\n",
       "   'Chicago Blackhawks': 5400.0,\n",
       "   'Colorado Avalanche': 6160.0,\n",
       "   'Columbus Blue Jackets': 6110.0,\n",
       "   'Dallas Stars': 6270.0,\n",
       "   'Detroit Red Wings': 5525.0,\n",
       "   'Edmonton Oilers': 5445.0,\n",
       "   'Florida Panthers': 5460.0,\n",
       "   'Los Angeles Kings': 5500.0,\n",
       "   'Minnesota Wild': 5390.0,\n",
       "   'Montréal Canadiens': 5415.0,\n",
       "   'Nashville Predators': 5760.0,\n",
       "   'New Jersey Devils': 5315.0,\n",
       "   'New York Islanders': 6035.0,\n",
       "   'New York Rangers': 5410.0,\n",
       "   'Ottawa Senators': 5320.0,\n",
       "   'Philadelphia Flyers': 5505.0,\n",
       "   'Pittsburgh Penguins': 5640.0,\n",
       "   'San Jose Sharks': 6675.0,\n",
       "   'St. Louis Blues': 7070.0,\n",
       "   'Tampa Bay Lightning': 5665.0,\n",
       "   'Team Atlantic': 20.0,\n",
       "   'Team Central': 40.0,\n",
       "   'Team Metropolitan': 40.0,\n",
       "   'Team Pacific': 20.0,\n",
       "   'Toronto Maple Leafs': 5870.0,\n",
       "   'Vancouver Canucks': 5470.0,\n",
       "   'Vegas Golden Knights': 5900.0,\n",
       "   'Washington Capitals': 5920.0,\n",
       "   'Winnipeg Jets': 5800.0},\n",
       "  'total_time': 179570.0,\n",
       "  'teams_played': 35},\n",
       " 2019: {'team': {'Anaheim Ducks': 4715.0,\n",
       "   'Arizona Coyotes': 5320.0,\n",
       "   'Boston Bruins': 5605.0,\n",
       "   'Buffalo Sabres': 4610.0,\n",
       "   'Calgary Flames': 5455.0,\n",
       "   'Carolina Hurricanes': 5105.0,\n",
       "   'Chicago Blackhawks': 5275.0,\n",
       "   'Colorado Avalanche': 5620.0,\n",
       "   'Columbus Blue Jackets': 5500.0,\n",
       "   'Dallas Stars': 6430.0,\n",
       "   'Detroit Red Wings': 4845.0,\n",
       "   'Edmonton Oilers': 5055.0,\n",
       "   'Florida Panthers': 4995.0,\n",
       "   'Los Angeles Kings': 4695.0,\n",
       "   'Minnesota Wild': 4895.0,\n",
       "   'Montréal Canadiens': 5475.0,\n",
       "   'Nashville Predators': 4905.0,\n",
       "   'New Jersey Devils': 4655.0,\n",
       "   'New York Islanders': 6140.0,\n",
       "   'New York Rangers': 4840.0,\n",
       "   'Ottawa Senators': 4700.0,\n",
       "   'Philadelphia Flyers': 5705.0,\n",
       "   'Pittsburgh Penguins': 4940.0,\n",
       "   'San Jose Sharks': 4620.0,\n",
       "   'St. Louis Blues': 5405.0,\n",
       "   'Tampa Bay Lightning': 6565.0,\n",
       "   'Team Atlantic': 40.0,\n",
       "   'Team Central': 20.0,\n",
       "   'Team Metropolitan': 20.0,\n",
       "   'Team Pacific': 40.0,\n",
       "   'Toronto Maple Leafs': 5150.0,\n",
       "   'Vancouver Canucks': 5840.0,\n",
       "   'Vegas Golden Knights': 6095.0,\n",
       "   'Washington Capitals': 5160.0,\n",
       "   'Winnipeg Jets': 5055.0},\n",
       "  'total_time': 163490.0,\n",
       "  'teams_played': 35},\n",
       " 2020: {'team': {'Anaheim Ducks': 3435.0,\n",
       "   'Arizona Coyotes': 3415.0,\n",
       "   'Boston Bruins': 4215.0,\n",
       "   'Buffalo Sabres': 3415.0,\n",
       "   'Calgary Flames': 3395.0,\n",
       "   'Carolina Hurricanes': 4245.0,\n",
       "   'Chicago Blackhawks': 3440.0,\n",
       "   'Colorado Avalanche': 4040.0,\n",
       "   'Columbus Blue Jackets': 3450.0,\n",
       "   'Dallas Stars': 3460.0,\n",
       "   'Detroit Red Wings': 3425.0,\n",
       "   'Edmonton Oilers': 3730.0,\n",
       "   'Florida Panthers': 3820.0,\n",
       "   'Los Angeles Kings': 3405.0,\n",
       "   'Minnesota Wild': 3865.0,\n",
       "   'Montréal Canadiens': 4895.0,\n",
       "   'Nashville Predators': 3900.0,\n",
       "   'New Jersey Devils': 3415.0,\n",
       "   'New York Islanders': 4695.0,\n",
       "   'New York Rangers': 3405.0,\n",
       "   'Ottawa Senators': 3410.0,\n",
       "   'Philadelphia Flyers': 3440.0,\n",
       "   'Pittsburgh Penguins': 3835.0,\n",
       "   'San Jose Sharks': 3425.0,\n",
       "   'St. Louis Blues': 3685.0,\n",
       "   'Tampa Bay Lightning': 4870.0,\n",
       "   'Toronto Maple Leafs': 3885.0,\n",
       "   'Vancouver Canucks': 3410.0,\n",
       "   'Vegas Golden Knights': 4680.0,\n",
       "   'Washington Capitals': 3800.0,\n",
       "   'Winnipeg Jets': 4005.0},\n",
       "  'total_time': 117510.0,\n",
       "  'teams_played': 31}}"
      ]
     },
     "execution_count": 88,
     "metadata": {},
     "output_type": "execute_result"
    }
   ],
   "source": [
    "time_game_dict"
   ]
  },
  {
   "cell_type": "code",
   "execution_count": 21,
   "metadata": {},
   "outputs": [
    {
     "name": "stdout",
     "output_type": "stream",
     "text": [
      "File already Exists, loading from ../ift6758/data/PICKLE//2018_clean.pkl\n"
     ]
    }
   ],
   "source": [
    "import numpy as np\n",
    "# def advanced_visualization(year=2018,team_name=\"Montréal Canadiens\",im_size=(400,600)):\n",
    "year=2018\n",
    "team_name=\"Montréal Canadiens\"\n",
    "season = Season(year,\"../ift6758/data\")\n",
    "df_clean = season.clean_data()\n",
    "rink_size = (85,100)\n",
    "num_teams = df_clean['team.name'].unique().shape[0]\n",
    "total_matches = df_clean['gamePk'].unique().shape[0]\n"
   ]
  },
  {
   "cell_type": "code",
   "execution_count": 27,
   "metadata": {},
   "outputs": [],
   "source": [
    "out = np.zeros(rink_size)\n",
    "df_clean.head()\n",
    "df_clean['x_bin']= np.floor(np.abs(df_clean['coordinates.x']))\n",
    "df_clean['y_bin']= np.floor(42.5+df_clean['coordinates.y'])\n",
    "num_games_by_team = df_clean[df_clean['team.name']==team_name]['gamePk'].unique().shape[0]\n",
    "df_group1 = df_clean.groupby(['team.name','x_bin','y_bin'])['result.event'].count().reset_index()\n",
    "# df_group2 = df_clean.groupby(['x_bin','y_bin'])['result.event'].count()\n",
    "# df_group2 = df_group2/(time_game_dict[year]['total_time']*time_game_dict[year]['teams_played'])\n",
    "# avg_shots_coordinate_dict = df_group2.to_dict()\n",
    "df_group1['shots_average'] = df_group1['result.event']/num_games_by_team\n",
    "df2 = df_group1.drop('result.event',axis=1).drop_duplicates()\n",
    "df_group2 = df2.groupby(['x_bin','y_bin'])['shots_average'].sum()/num_teams\n",
    "avg_shots_coordinate_dict = df_group2.to_dict()\n",
    "df2['excess_shots'] = df2.apply(lambda row: row['shots_average'] - avg_shots_coordinate_dict[(row['x_bin'],row['y_bin'])],axis=1)\n",
    "df3 = df2[df2['team.name']==team_name]\n",
    "\n",
    "\n"
   ]
  },
  {
   "cell_type": "code",
   "execution_count": 28,
   "metadata": {},
   "outputs": [
    {
     "data": {
      "text/html": [
       "<div>\n",
       "<style scoped>\n",
       "    .dataframe tbody tr th:only-of-type {\n",
       "        vertical-align: middle;\n",
       "    }\n",
       "\n",
       "    .dataframe tbody tr th {\n",
       "        vertical-align: top;\n",
       "    }\n",
       "\n",
       "    .dataframe thead th {\n",
       "        text-align: right;\n",
       "    }\n",
       "</style>\n",
       "<table border=\"1\" class=\"dataframe\">\n",
       "  <thead>\n",
       "    <tr style=\"text-align: right;\">\n",
       "      <th></th>\n",
       "      <th>team.name</th>\n",
       "      <th>x_bin</th>\n",
       "      <th>y_bin</th>\n",
       "      <th>shots_average</th>\n",
       "      <th>excess_shots</th>\n",
       "    </tr>\n",
       "  </thead>\n",
       "  <tbody>\n",
       "    <tr>\n",
       "      <th>31267</th>\n",
       "      <td>Montréal Canadiens</td>\n",
       "      <td>75.0</td>\n",
       "      <td>36.0</td>\n",
       "      <td>0.044944</td>\n",
       "      <td>0.027929</td>\n",
       "    </tr>\n",
       "  </tbody>\n",
       "</table>\n",
       "</div>"
      ],
      "text/plain": [
       "                team.name  x_bin  y_bin  shots_average  excess_shots\n",
       "31267  Montréal Canadiens   75.0   36.0       0.044944      0.027929"
      ]
     },
     "execution_count": 28,
     "metadata": {},
     "output_type": "execute_result"
    }
   ],
   "source": [
    "df3[(df3['x_bin']==75.0)&(df3['y_bin']==36.0)]"
   ]
  },
  {
   "cell_type": "code",
   "execution_count": 30,
   "metadata": {},
   "outputs": [
    {
     "data": {
      "text/plain": [
       "29665    copiedToOutput\n",
       "29666    copiedToOutput\n",
       "29667    copiedToOutput\n",
       "29668    copiedToOutput\n",
       "29669    copiedToOutput\n",
       "              ...      \n",
       "31703    copiedToOutput\n",
       "31704    copiedToOutput\n",
       "31705    copiedToOutput\n",
       "31706    copiedToOutput\n",
       "31707    copiedToOutput\n",
       "Length: 2043, dtype: object"
      ]
     },
     "execution_count": 30,
     "metadata": {},
     "output_type": "execute_result"
    }
   ],
   "source": [
    "def copyToOutput(row):\n",
    "    global out\n",
    "    out[int(row['y_bin']),int(row['x_bin'])]=row['excess_shots']\n",
    "    return \"copiedToOutput\"\n",
    "df3.apply(lambda row: copyToOutput(row),axis=1)"
   ]
  },
  {
   "cell_type": "code",
   "execution_count": 31,
   "metadata": {},
   "outputs": [
    {
     "data": {
      "text/plain": [
       "0.027929373996789724"
      ]
     },
     "execution_count": 31,
     "metadata": {},
     "output_type": "execute_result"
    }
   ],
   "source": [
    "out[36][75]"
   ]
  },
  {
   "cell_type": "code",
   "execution_count": null,
   "metadata": {},
   "outputs": [],
   "source": []
  }
 ],
 "metadata": {
  "interpreter": {
   "hash": "fe0e4489f2919cda2ef5940e6c22f887a5b71570af9d1a74ba05de65e7f388ec"
  },
  "kernelspec": {
   "display_name": "Python 3.9.7 64-bit ('ift6758-conda-env': conda)",
   "name": "python3"
  },
  "language_info": {
   "codemirror_mode": {
    "name": "ipython",
    "version": 3
   },
   "file_extension": ".py",
   "mimetype": "text/x-python",
   "name": "python",
   "nbconvert_exporter": "python",
   "pygments_lexer": "ipython3",
   "version": "3.9.7"
  },
  "orig_nbformat": 4
 },
 "nbformat": 4,
 "nbformat_minor": 2
}
