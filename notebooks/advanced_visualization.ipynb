{
 "cells": [
  {
   "cell_type": "code",
   "execution_count": 1,
   "metadata": {},
   "outputs": [],
   "source": [
    "%load_ext autoreload\n",
    "%autoreload 2"
   ]
  },
  {
   "cell_type": "code",
   "execution_count": 4,
   "metadata": {},
   "outputs": [
    {
     "name": "stdout",
     "output_type": "stream",
     "text": [
      "File already Exists, loading from ../ift6758/data/PICKLE//2018_clean.pkl\n"
     ]
    }
   ],
   "source": [
    "from  ift6758.data.data_acquisition import Season\n",
    "season2018 = Season(2018,\"../ift6758/data\")\n",
    "df_season2018_clean = season2018.clean_data()\n",
    "# df[[\"gamePk\",\"liveData.plays.allPlays\"]]\n",
    "\n"
   ]
  },
  {
   "cell_type": "code",
   "execution_count": 5,
   "metadata": {},
   "outputs": [
    {
     "data": {
      "text/html": [
       "<div>\n",
       "<style scoped>\n",
       "    .dataframe tbody tr th:only-of-type {\n",
       "        vertical-align: middle;\n",
       "    }\n",
       "\n",
       "    .dataframe tbody tr th {\n",
       "        vertical-align: top;\n",
       "    }\n",
       "\n",
       "    .dataframe thead th {\n",
       "        text-align: right;\n",
       "    }\n",
       "</style>\n",
       "<table border=\"1\" class=\"dataframe\">\n",
       "  <thead>\n",
       "    <tr style=\"text-align: right;\">\n",
       "      <th></th>\n",
       "      <th>result.event</th>\n",
       "      <th>gamePk</th>\n",
       "      <th>team.name</th>\n",
       "      <th>about.period</th>\n",
       "      <th>about.periodTime</th>\n",
       "      <th>about.periodType</th>\n",
       "      <th>about.periodTimeRemaining</th>\n",
       "      <th>coordinates.x</th>\n",
       "      <th>coordinates.y</th>\n",
       "      <th>result.secondaryType</th>\n",
       "      <th>result.emptyNet</th>\n",
       "      <th>result.strength.name</th>\n",
       "      <th>shooter</th>\n",
       "      <th>goalie</th>\n",
       "    </tr>\n",
       "  </thead>\n",
       "  <tbody>\n",
       "    <tr>\n",
       "      <th>0</th>\n",
       "      <td>Shot</td>\n",
       "      <td>2018010002</td>\n",
       "      <td>Washington Capitals</td>\n",
       "      <td>1</td>\n",
       "      <td>00:25</td>\n",
       "      <td>REGULAR</td>\n",
       "      <td>19:35</td>\n",
       "      <td>-48.0</td>\n",
       "      <td>6.0</td>\n",
       "      <td>Snap Shot</td>\n",
       "      <td>NaN</td>\n",
       "      <td>NaN</td>\n",
       "      <td>Andre Burakovsky</td>\n",
       "      <td>Zane McIntyre</td>\n",
       "    </tr>\n",
       "    <tr>\n",
       "      <th>1</th>\n",
       "      <td>Shot</td>\n",
       "      <td>2018010002</td>\n",
       "      <td>Boston Bruins</td>\n",
       "      <td>1</td>\n",
       "      <td>03:37</td>\n",
       "      <td>REGULAR</td>\n",
       "      <td>16:23</td>\n",
       "      <td>61.0</td>\n",
       "      <td>9.0</td>\n",
       "      <td>Wrist Shot</td>\n",
       "      <td>NaN</td>\n",
       "      <td>NaN</td>\n",
       "      <td>Danton Heinen</td>\n",
       "      <td>Pheonix Copley</td>\n",
       "    </tr>\n",
       "    <tr>\n",
       "      <th>2</th>\n",
       "      <td>Shot</td>\n",
       "      <td>2018010002</td>\n",
       "      <td>Boston Bruins</td>\n",
       "      <td>1</td>\n",
       "      <td>04:05</td>\n",
       "      <td>REGULAR</td>\n",
       "      <td>15:55</td>\n",
       "      <td>72.0</td>\n",
       "      <td>5.0</td>\n",
       "      <td>Backhand</td>\n",
       "      <td>NaN</td>\n",
       "      <td>NaN</td>\n",
       "      <td>David Krejci</td>\n",
       "      <td>Pheonix Copley</td>\n",
       "    </tr>\n",
       "    <tr>\n",
       "      <th>3</th>\n",
       "      <td>Shot</td>\n",
       "      <td>2018010002</td>\n",
       "      <td>Boston Bruins</td>\n",
       "      <td>1</td>\n",
       "      <td>04:23</td>\n",
       "      <td>REGULAR</td>\n",
       "      <td>15:37</td>\n",
       "      <td>33.0</td>\n",
       "      <td>-12.0</td>\n",
       "      <td>Wrist Shot</td>\n",
       "      <td>NaN</td>\n",
       "      <td>NaN</td>\n",
       "      <td>Mark Fayne</td>\n",
       "      <td>Pheonix Copley</td>\n",
       "    </tr>\n",
       "    <tr>\n",
       "      <th>4</th>\n",
       "      <td>Shot</td>\n",
       "      <td>2018010002</td>\n",
       "      <td>Boston Bruins</td>\n",
       "      <td>1</td>\n",
       "      <td>04:32</td>\n",
       "      <td>REGULAR</td>\n",
       "      <td>15:28</td>\n",
       "      <td>35.0</td>\n",
       "      <td>-6.0</td>\n",
       "      <td>Snap Shot</td>\n",
       "      <td>NaN</td>\n",
       "      <td>NaN</td>\n",
       "      <td>Anton Blidh</td>\n",
       "      <td>Pheonix Copley</td>\n",
       "    </tr>\n",
       "  </tbody>\n",
       "</table>\n",
       "</div>"
      ],
      "text/plain": [
       "  result.event      gamePk            team.name  about.period  \\\n",
       "0         Shot  2018010002  Washington Capitals             1   \n",
       "1         Shot  2018010002        Boston Bruins             1   \n",
       "2         Shot  2018010002        Boston Bruins             1   \n",
       "3         Shot  2018010002        Boston Bruins             1   \n",
       "4         Shot  2018010002        Boston Bruins             1   \n",
       "\n",
       "  about.periodTime about.periodType about.periodTimeRemaining  coordinates.x  \\\n",
       "0            00:25          REGULAR                     19:35          -48.0   \n",
       "1            03:37          REGULAR                     16:23           61.0   \n",
       "2            04:05          REGULAR                     15:55           72.0   \n",
       "3            04:23          REGULAR                     15:37           33.0   \n",
       "4            04:32          REGULAR                     15:28           35.0   \n",
       "\n",
       "   coordinates.y result.secondaryType result.emptyNet result.strength.name  \\\n",
       "0            6.0            Snap Shot             NaN                  NaN   \n",
       "1            9.0           Wrist Shot             NaN                  NaN   \n",
       "2            5.0             Backhand             NaN                  NaN   \n",
       "3          -12.0           Wrist Shot             NaN                  NaN   \n",
       "4           -6.0            Snap Shot             NaN                  NaN   \n",
       "\n",
       "            shooter          goalie  \n",
       "0  Andre Burakovsky   Zane McIntyre  \n",
       "1     Danton Heinen  Pheonix Copley  \n",
       "2      David Krejci  Pheonix Copley  \n",
       "3        Mark Fayne  Pheonix Copley  \n",
       "4       Anton Blidh  Pheonix Copley  "
      ]
     },
     "execution_count": 5,
     "metadata": {},
     "output_type": "execute_result"
    }
   ],
   "source": [
    "df_season2018_clean.head()\n"
   ]
  },
  {
   "cell_type": "code",
   "execution_count": null,
   "metadata": {},
   "outputs": [],
   "source": [
    "df_season2018_clean"
   ]
  }
 ],
 "metadata": {
  "interpreter": {
   "hash": "fe0e4489f2919cda2ef5940e6c22f887a5b71570af9d1a74ba05de65e7f388ec"
  },
  "kernelspec": {
   "display_name": "Python 3.9.7 64-bit ('ift6758-conda-env': conda)",
   "name": "python3"
  },
  "language_info": {
   "codemirror_mode": {
    "name": "ipython",
    "version": 3
   },
   "file_extension": ".py",
   "mimetype": "text/x-python",
   "name": "python",
   "nbconvert_exporter": "python",
   "pygments_lexer": "ipython3",
   "version": "3.9.7"
  },
  "orig_nbformat": 4
 },
 "nbformat": 4,
 "nbformat_minor": 2
}
