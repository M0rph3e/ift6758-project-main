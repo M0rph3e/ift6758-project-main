{
 "cells": [
  {
   "cell_type": "code",
   "execution_count": 41,
   "metadata": {},
   "outputs": [],
   "source": [
    "# import sys\n",
    "# from  ift6758.data.data_acquisition import Season\n",
    "# season2018 = Season(2018,\"../ift6758/data\")\n",
    "# df_season2018_clean = season2018.clean_data()\n",
    "# df[[\"gamePk\",\"liveData.plays.allPlays\"]]"
   ]
  },
  {
   "cell_type": "code",
   "execution_count": 8,
   "metadata": {},
   "outputs": [],
   "source": [
    "from  ift6758.data.data_acquisition import Season\n",
    "\n",
    "from ipywidgets import widgets, interact, RadioButtons, IntSlider, Output, Layout, Dropdown\n",
    "from ipywidgets.embed import embed_minimal_html\n",
    "\n",
    "from scipy.ndimage import gaussian_filter\n",
    "\n",
    "import plotly.graph_objects as go\n",
    "\n",
    "import json\n",
    "import pandas as pd\n",
    "import numpy as np\n",
    "from tabulate import tabulate\n",
    "import matplotlib.pyplot as plt\n",
    "from matplotlib import cm\n",
    "import seaborn as sns\n",
    "\n",
    "import requests\n",
    "import json"
   ]
  },
  {
   "cell_type": "code",
   "execution_count": 9,
   "metadata": {},
   "outputs": [],
   "source": [
    "def time_played(row):\n",
    "    \"\"\"\n",
    "    return time in mins\n",
    "    \"\"\"\n",
    "    # print(type(row['about.periodTime']))\n",
    "    if row['result.event'] == 'GOAL' and row['about.period']>3:\n",
    "        # return row['about.periodTime'] + row['about.periodTime']\n",
    "        # .date.min()\n",
    "        min_sec1 = row['about.periodTime'].split(':')\n",
    "        return float(min_sec1[0]) + float(min_sec1[1])/60\n",
    "    else:\n",
    "        # return row['about.periodTime']\n",
    "        # .date.min()\n",
    "        min_sec1 = row['about.periodTime'].split(':')\n",
    "        min_sec2 = row['about.periodTimeRemaining'].split(':')\n",
    "        return float(min_sec1[0]) + float(min_sec2[0]) + (float(min_sec1[1]) +  float(min_sec2[1]))/60\n"
   ]
  },
  {
   "cell_type": "code",
   "execution_count": 11,
   "metadata": {},
   "outputs": [],
   "source": [
    "from ift6758.visualizations.advanced_visualisation import advanced_visualization"
   ]
  },
  {
   "cell_type": "code",
   "execution_count": 12,
   "metadata": {},
   "outputs": [
    {
     "name": "stdout",
     "output_type": "stream",
     "text": [
      "File already Exists, loading from ../ift6758/data/PICKLE//2016_clean.pkl\n",
      "num_teams 30 df_clean shape (80399, 14)\n",
      "df_clean shape after concatenating coordinates (80399, 16)\n",
      "games played by teams {'Anaheim Ducks': 99, 'Arizona Coyotes': 82, 'Boston Bruins': 88, 'Buffalo Sabres': 82, 'Calgary Flames': 86, 'Carolina Hurricanes': 82, 'Chicago Blackhawks': 86, 'Colorado Avalanche': 82, 'Columbus Blue Jackets': 87, 'Dallas Stars': 82, 'Detroit Red Wings': 82, 'Edmonton Oilers': 95, 'Florida Panthers': 82, 'Los Angeles Kings': 82, 'Minnesota Wild': 87, 'Montréal Canadiens': 88, 'Nashville Predators': 104, 'New Jersey Devils': 82, 'New York Islanders': 82, 'New York Rangers': 94, 'Ottawa Senators': 101, 'Philadelphia Flyers': 82, 'Pittsburgh Penguins': 107, 'San Jose Sharks': 88, 'St. Louis Blues': 93, 'Tampa Bay Lightning': 82, 'Toronto Maple Leafs': 88, 'Vancouver Canucks': 82, 'Washington Capitals': 95, 'Winnipeg Jets': 82}\n",
      "Empty DataFrame\n",
      "Columns: [team.name, x_bin, y_bin, shots_average]\n",
      "Index: []\n"
     ]
    }
   ],
   "source": []
  },
  {
   "cell_type": "code",
   "execution_count": 13,
   "metadata": {},
   "outputs": [],
   "source": [
    "IMG_PATH = \"../figures/half_nhl_rink_h.png\""
   ]
  },
  {
   "cell_type": "code",
   "execution_count": 14,
   "metadata": {},
   "outputs": [],
   "source": [
    "url = 'https://statsapi.web.nhl.com/api/v1/teams'\n",
    "\n",
    "r = requests.get(url, headers={'accept': 'application/json'})\n",
    "json_teams = r.json()\n",
    "\n",
    "# print(json_teams[\"teams\"])"
   ]
  },
  {
   "cell_type": "code",
   "execution_count": 15,
   "metadata": {},
   "outputs": [
    {
     "name": "stdout",
     "output_type": "stream",
     "text": [
      "['New Jersey Devils', 'New York Islanders', 'New York Rangers', 'Philadelphia Flyers', 'Pittsburgh Penguins', 'Boston Bruins', 'Buffalo Sabres', 'Montréal Canadiens', 'Ottawa Senators', 'Toronto Maple Leafs', 'Carolina Hurricanes', 'Florida Panthers', 'Tampa Bay Lightning', 'Washington Capitals', 'Chicago Blackhawks', 'Detroit Red Wings', 'Nashville Predators', 'St. Louis Blues', 'Calgary Flames', 'Colorado Avalanche', 'Edmonton Oilers', 'Vancouver Canucks', 'Anaheim Ducks', 'Dallas Stars', 'Los Angeles Kings', 'San Jose Sharks', 'Columbus Blue Jackets', 'Minnesota Wild', 'Winnipeg Jets', 'Arizona Coyotes', 'Vegas Golden Knights', 'Seattle Kraken']\n"
     ]
    }
   ],
   "source": [
    "team_list = list()\n",
    "for team in json_teams[\"teams\"]:\n",
    "    team_list.append(team[\"name\"])\n",
    "print(team_list)"
   ]
  },
  {
   "cell_type": "code",
   "execution_count": 16,
   "metadata": {},
   "outputs": [
    {
     "data": {
      "text/plain": [
       "32"
      ]
     },
     "execution_count": 16,
     "metadata": {},
     "output_type": "execute_result"
    }
   ],
   "source": [
    "len(team_list)"
   ]
  },
  {
   "cell_type": "code",
   "execution_count": 18,
   "metadata": {
    "scrolled": false
   },
   "outputs": [
    {
     "name": "stdout",
     "output_type": "stream",
     "text": [
      "File already Exists, loading from ../ift6758/data/PICKLE//2016_clean.pkl\n",
      "num_teams 30 df_clean shape (80399, 14)\n",
      "df_clean shape after concatenating coordinates (80399, 16)\n",
      "games played by teams {'Anaheim Ducks': 99, 'Arizona Coyotes': 82, 'Boston Bruins': 88, 'Buffalo Sabres': 82, 'Calgary Flames': 86, 'Carolina Hurricanes': 82, 'Chicago Blackhawks': 86, 'Colorado Avalanche': 82, 'Columbus Blue Jackets': 87, 'Dallas Stars': 82, 'Detroit Red Wings': 82, 'Edmonton Oilers': 95, 'Florida Panthers': 82, 'Los Angeles Kings': 82, 'Minnesota Wild': 87, 'Montréal Canadiens': 88, 'Nashville Predators': 104, 'New Jersey Devils': 82, 'New York Islanders': 82, 'New York Rangers': 94, 'Ottawa Senators': 101, 'Philadelphia Flyers': 82, 'Pittsburgh Penguins': 107, 'San Jose Sharks': 88, 'St. Louis Blues': 93, 'Tampa Bay Lightning': 82, 'Toronto Maple Leafs': 88, 'Vancouver Canucks': 82, 'Washington Capitals': 95, 'Winnipeg Jets': 82}\n",
      "Empty DataFrame\n",
      "Columns: [team.name, x_bin, y_bin, shots_average]\n",
      "Index: []\n"
     ]
    },
    {
     "data": {
      "application/vnd.jupyter.widget-view+json": {
       "model_id": "532f7a76957f4f44a29968f29232dc76",
       "version_major": 2,
       "version_minor": 0
      },
      "text/plain": [
       "VBox(children=(HBox(children=(IntSlider(value=2016, continuous_update=False, description='Season: ', layout=La…"
      ]
     },
     "metadata": {},
     "output_type": "display_data"
    }
   ],
   "source": [
    "#CHOOSE GAME ID\n",
    "season_selector = IntSlider(\n",
    "    value=2016,\n",
    "    min=2016,\n",
    "    max=2020,\n",
    "    step=1,\n",
    "    description='Season: ',\n",
    "    continuous_update=False, #only reassign value when the slider stops moving\n",
    "    layout=Layout(width='50%')\n",
    ")\n",
    "\n",
    "#CHOOSE GAME TYPE\n",
    "team_selector = Dropdown(\n",
    "    options=team_list,\n",
    "    value='New Jersey Devils',\n",
    "    description='Number:',\n",
    "    disabled=False,\n",
    "    continuous_update=False,\n",
    "    layout=Layout(width='50%')\n",
    ")\n",
    "\n",
    "container = widgets.HBox(children=[season_selector, team_selector])\n",
    "\n",
    "##\n",
    "\n",
    "from random import randint\n",
    "import plotly.express as px\n",
    "import plotly.graph_objects as go\n",
    "from skimage import io\n",
    "\n",
    "#Z = np.random.uniform(-1,1,(85,100))\n",
    "#trace1 = go.Histogram(x=Z, opacity=0.75, name='Departure Delays')\n",
    "\n",
    "layout = go.Layout(title='Loading')\n",
    "\n",
    "img = io.imread(IMG_PATH)\n",
    "# figure = px.imshow(img,\n",
    "#                    extent=[],\n",
    "#                    #x=np.arange(-42.5,43.5),\n",
    "#                    #y=np.arange(-100,101),\n",
    "#                    aspect='auto',\n",
    "#                   )\n",
    "\n",
    "#     scaleanchor = \"x\",\n",
    "#     scaleratio = 1\n",
    "# )\n",
    "f = advanced_visualization(year=2016,team_name=\"New Jersey Devils\",bin_width=1)\n",
    "\n",
    "figure = go.Figure(layout_xaxis_range=[0,100],\n",
    "                  layout_yaxis_range=[0,85])\n",
    "\n",
    "figure.update_xaxes(showgrid=False)\n",
    "figure.update_yaxes(showgrid=False)\n",
    "\n",
    "figure.update_layout(\n",
    "    title=\"Choose a Team and/or a Season\",\n",
    "    xaxis_title=\"Distance from the Rink's Center Line (feet)\",\n",
    "    yaxis_title=\"Distance from the Rink's Bottom Edge (feet)\",\n",
    "    legend_title=\"Legend Title\",\n",
    "    font=dict(\n",
    "        size=10,\n",
    "        family='Arial, sans-serif'\n",
    "    ),\n",
    "    width=550,\n",
    "    height=467,\n",
    ")\n",
    "#img size: 550 x 467\n",
    "\n",
    "\n",
    "figure.add_trace (\n",
    "    go.Contour(\n",
    "        z=f,\n",
    "        # cmapk= 'magma',\n",
    "        colorscale='RdBu_r',\n",
    "        line_smoothing=1,\n",
    "        opacity=0.6,\n",
    "        connectgaps=True,\n",
    "        contours = dict(start=-1.1,end=1.1,size=0.2),\n",
    "        ncontours=25,\n",
    "\n",
    "        #colorbar setup\n",
    "        colorbar=dict(\n",
    "            title='Excess Shots', # title here\n",
    "            titleside='right',\n",
    "            titlefont=dict(\n",
    "                size=10,\n",
    "                family='Arial, sans-serif'),\n",
    "            #TICKS SETUP OF COLORBAR\n",
    "            nticks=10, ticks='outside',\n",
    "            ticklen=1, tickwidth=1,\n",
    "            showticklabels=True,\n",
    "            tickangle=0, tickfont_size=12\n",
    "        )\n",
    "    ))\n",
    "\n",
    "# Add images\n",
    "figure.add_layout_image(\n",
    "        dict(\n",
    "            source=IMG_PATH,\n",
    "            xref=\"x2 domain\",\n",
    "            yref=\"y2 domain\",\n",
    "            x=0,\n",
    "            y=1,\n",
    "            sizex=1,\n",
    "            sizey=1,\n",
    "            opacity=1,\n",
    "            sizing = \"stretch\",\n",
    "            layer=\"below\")\n",
    ")\n",
    "\n",
    "#figure.update_layout(template=\"plotly_white\")\n",
    "\n",
    "g = go.FigureWidget(figure)\n",
    "\n",
    "\n",
    "#LINK team to widget \n",
    "def update_fig(change):\n",
    "    \n",
    "    season = season_selector.value\n",
    "    team = team_selector.value\n",
    "    \n",
    "    title = team + '\\n' + \"Season: \" + str(season) + \"  Relative to League Average for the Season \"\n",
    "    \n",
    "    f = advanced_visualization(year=season,team_name=team,bin_width=1,sigma=2)\n",
    "\n",
    "    with g.batch_update():\n",
    "            #g.\n",
    "            g.data[0].z = f\n",
    "            #g.data[1].x = x2\n",
    "            g.layout.title = title\n",
    "            #g.layout.xaxis.title = 'Delay in Minutes'\n",
    "            #g.layout.yaxis.title = 'Number of Delays'\n",
    "            \n",
    "season_selector.observe(update_fig, 'value')\n",
    "team_selector.observe(update_fig, 'value')\n",
    "\n",
    "widgets.VBox([container,g])"
   ]
  },
  {
   "cell_type": "code",
   "execution_count": 28,
   "metadata": {},
   "outputs": [
    {
     "name": "stdout",
     "output_type": "stream",
     "text": [
      "File already Exists, loading from ../ift6758/data/PICKLE//2016_clean.pkl\n",
      "num_teams 30 df_clean shape (80399, 14)\n",
      "df_clean shape after concatenating coordinates (80399, 16)\n",
      "games played by teams {'Anaheim Ducks': 99, 'Arizona Coyotes': 82, 'Boston Bruins': 88, 'Buffalo Sabres': 82, 'Calgary Flames': 86, 'Carolina Hurricanes': 82, 'Chicago Blackhawks': 86, 'Colorado Avalanche': 82, 'Columbus Blue Jackets': 87, 'Dallas Stars': 82, 'Detroit Red Wings': 82, 'Edmonton Oilers': 95, 'Florida Panthers': 82, 'Los Angeles Kings': 82, 'Minnesota Wild': 87, 'Montréal Canadiens': 88, 'Nashville Predators': 104, 'New Jersey Devils': 82, 'New York Islanders': 82, 'New York Rangers': 94, 'Ottawa Senators': 101, 'Philadelphia Flyers': 82, 'Pittsburgh Penguins': 107, 'San Jose Sharks': 88, 'St. Louis Blues': 93, 'Tampa Bay Lightning': 82, 'Toronto Maple Leafs': 88, 'Vancouver Canucks': 82, 'Washington Capitals': 95, 'Winnipeg Jets': 82}\n",
      "Empty DataFrame\n",
      "Columns: [team.name, x_bin, y_bin, shots_average]\n",
      "Index: []\n"
     ]
    }
   ],
   "source": [
    "for year in [2016,2017,2018,2019,2020]:\n",
    "    for team in team_list:\n",
    "        f=advanced_visualization(year,team_name=team)\n",
    "        figure = go.Figure(layout_xaxis_range=[0,100],\n",
    "                        layout_yaxis_range=[0,85])\n",
    "        figure.update_xaxes(showgrid=False)\n",
    "        figure.update_yaxes(showgrid=False)\n",
    "\n",
    "        figure.update_layout(\n",
    "            title = f\"{team}  Season: {year} Relative to League Average for the Season\",\n",
    "            xaxis_title=\"Distance from the Rink's Center Line (feet)\",\n",
    "            yaxis_title=\"Distance from the Rink's Bottom Edge (feet)\",\n",
    "            legend_title=\"Legend Title\",\n",
    "            font=dict(\n",
    "                size=10,\n",
    "                family='Arial, sans-serif'\n",
    "            ),\n",
    "            width=550,\n",
    "            height=467,\n",
    "        )\n",
    "        #img size: 550 x 467\n",
    "\n",
    "\n",
    "        figure.add_trace (\n",
    "            go.Contour(\n",
    "                z=f,\n",
    "                # cmapk= 'magma',\n",
    "                colorscale='RdBu_r',\n",
    "                line_smoothing=1,\n",
    "                opacity=0.6,\n",
    "                connectgaps=True,\n",
    "                contours = dict(start=-1.1,end=1.1,size=0.2),\n",
    "                ncontours=25,\n",
    "\n",
    "                #colorbar setup\n",
    "                colorbar=dict(\n",
    "                    title='Excess Shots', # title here\n",
    "                    titleside='right',\n",
    "                    titlefont=dict(\n",
    "                        size=10,\n",
    "                        family='Arial, sans-serif'),\n",
    "                    #TICKS SETUP OF COLORBAR\n",
    "                    nticks=10, ticks='outside',\n",
    "                    ticklen=1, tickwidth=1,\n",
    "                    showticklabels=True,\n",
    "                    tickangle=0, tickfont_size=12\n",
    "                )\n",
    "            ))\n",
    "\n",
    "        figure.add_layout_image(\n",
    "                dict(\n",
    "                    source=IMG_PATH,\n",
    "                    xref=\"x2 domain\",\n",
    "                    yref=\"y2 domain\",\n",
    "                    x=0,\n",
    "                    y=1,\n",
    "                    sizex=1,\n",
    "                    sizey=1,\n",
    "                    opacity=1,\n",
    "                    sizing = \"stretch\",\n",
    "                    layer=\"below\")\n",
    "        )\n",
    "        # figure.show()\n",
    "        figure.write_html(f\"../figures/{year}_{team}.html\")\n",
    "        break\n",
    "\n",
    "    break"
   ]
  },
  {
   "cell_type": "code",
   "execution_count": null,
   "metadata": {},
   "outputs": [],
   "source": []
  }
 ],
 "metadata": {
  "interpreter": {
   "hash": "fe0e4489f2919cda2ef5940e6c22f887a5b71570af9d1a74ba05de65e7f388ec"
  },
  "kernelspec": {
   "display_name": "Python 3.9.7 64-bit ('ift6758-conda-env': conda)",
   "name": "python3"
  },
  "language_info": {
   "codemirror_mode": {
    "name": "ipython",
    "version": 3
   },
   "file_extension": ".py",
   "mimetype": "text/x-python",
   "name": "python",
   "nbconvert_exporter": "python",
   "pygments_lexer": "ipython3",
   "version": "3.9.7"
  },
  "widgets": {
   "application/vnd.jupyter.widget-state+json": {
    "state": {
     "004d4ecc76c049c98b550aecf776b806": {
      "model_module": "@jupyter-widgets/base",
      "model_module_version": "1.2.0",
      "model_name": "LayoutModel",
      "state": {}
     },
     "013604df40644bc39d905119c336a0ca": {
      "model_module": "@jupyter-widgets/output",
      "model_module_version": "1.0.0",
      "model_name": "OutputModel",
      "state": {
       "layout": "IPY_MODEL_704e005bf7f14b7195f77d63114f0cb8"
      }
     },
     "03fa744c57594dbfae3c2ab1bb516c17": {
      "model_module": "@jupyter-widgets/base",
      "model_module_version": "1.2.0",
      "model_name": "LayoutModel",
      "state": {}
     },
     "065fbc6bebcb49fbb87deaff31c53ff6": {
      "model_module": "@jupyter-widgets/base",
      "model_module_version": "1.2.0",
      "model_name": "LayoutModel",
      "state": {
       "width": "50%"
      }
     },
     "092b8b27abb14cf6aa80c91872ef95d6": {
      "model_module": "@jupyter-widgets/output",
      "model_module_version": "1.0.0",
      "model_name": "OutputModel",
      "state": {
       "layout": "IPY_MODEL_bbc2dbc8474c461d8a6e85b87f092c2d"
      }
     },
     "0ec41edd9609489eb371f39464134557": {
      "model_module": "@jupyter-widgets/output",
      "model_module_version": "1.0.0",
      "model_name": "OutputModel",
      "state": {
       "layout": "IPY_MODEL_faa02d8824a6447394b7a0b58aa3ab30"
      }
     },
     "1061a071837c43a88b74a65767c1f3b9": {
      "model_module": "@jupyter-widgets/controls",
      "model_module_version": "1.5.0",
      "model_name": "DescriptionStyleModel",
      "state": {
       "description_width": ""
      }
     },
     "1e7a04f688ba436d8d68c1d819f3989f": {
      "model_module": "@jupyter-widgets/controls",
      "model_module_version": "1.5.0",
      "model_name": "SliderStyleModel",
      "state": {
       "description_width": ""
      }
     },
     "22cf208dbfce4863b72d3d9a62e18650": {
      "model_module": "@jupyter-widgets/output",
      "model_module_version": "1.0.0",
      "model_name": "OutputModel",
      "state": {
       "layout": "IPY_MODEL_9ed3ff22f2cb4a98826fe9043fd67afe"
      }
     },
     "28e766823e8741928f4ffbb1725244b4": {
      "model_module": "@jupyter-widgets/controls",
      "model_module_version": "1.5.0",
      "model_name": "DropdownModel",
      "state": {
       "_options_labels": [
        "New Jersey Devils",
        "New York Islanders",
        "New York Rangers",
        "Philadelphia Flyers",
        "Pittsburgh Penguins",
        "Boston Bruins",
        "Buffalo Sabres",
        "Montréal Canadiens",
        "Ottawa Senators",
        "Toronto Maple Leafs",
        "Carolina Hurricanes",
        "Florida Panthers",
        "Tampa Bay Lightning",
        "Washington Capitals",
        "Chicago Blackhawks",
        "Detroit Red Wings",
        "Nashville Predators",
        "St. Louis Blues",
        "Calgary Flames",
        "Colorado Avalanche",
        "Edmonton Oilers",
        "Vancouver Canucks",
        "Anaheim Ducks",
        "Dallas Stars",
        "Los Angeles Kings",
        "San Jose Sharks",
        "Columbus Blue Jackets",
        "Minnesota Wild",
        "Winnipeg Jets",
        "Arizona Coyotes",
        "Vegas Golden Knights",
        "Seattle Kraken"
       ],
       "description": "Number:",
       "index": 16,
       "layout": "IPY_MODEL_875eb4fb63fb4ee8965d9d9d2b249cd3",
       "style": "IPY_MODEL_627cd524009c4a738d706a5dba7be057"
      }
     },
     "29f4d09c0f99492d8ff458eb51dda436": {
      "model_module": "@jupyter-widgets/output",
      "model_module_version": "1.0.0",
      "model_name": "OutputModel",
      "state": {
       "layout": "IPY_MODEL_830c40391d724217b5c745d71fab0208"
      }
     },
     "2af01153ad5541498be728ca5623d7fb": {
      "model_module": "@jupyter-widgets/base",
      "model_module_version": "1.2.0",
      "model_name": "LayoutModel",
      "state": {}
     },
     "30b98b79a93a49a8957f9e1665a435ba": {
      "model_module": "@jupyter-widgets/base",
      "model_module_version": "1.2.0",
      "model_name": "LayoutModel",
      "state": {}
     },
     "32efef19f52d43659f8513ee503f24a4": {
      "model_module": "@jupyter-widgets/controls",
      "model_module_version": "1.5.0",
      "model_name": "SliderStyleModel",
      "state": {
       "description_width": ""
      }
     },
     "3aade3ac39c446ed9aa2a20fa5ac9740": {
      "model_module": "@jupyter-widgets/controls",
      "model_module_version": "1.5.0",
      "model_name": "SliderStyleModel",
      "state": {
       "description_width": ""
      }
     },
     "3e62975dd274444cb85d0770cb6107ce": {
      "model_module": "@jupyter-widgets/output",
      "model_module_version": "1.0.0",
      "model_name": "OutputModel",
      "state": {
       "layout": "IPY_MODEL_f93e6904d55d45aeba2ff43c3724b989"
      }
     },
     "406e412b7cdc46a18d039b52e2b8b9ef": {
      "model_module": "@jupyter-widgets/controls",
      "model_module_version": "1.5.0",
      "model_name": "DropdownModel",
      "state": {
       "_options_labels": [
        "New Jersey Devils",
        "New York Islanders",
        "New York Rangers",
        "Philadelphia Flyers",
        "Pittsburgh Penguins",
        "Boston Bruins",
        "Buffalo Sabres",
        "Montréal Canadiens",
        "Ottawa Senators",
        "Toronto Maple Leafs",
        "Carolina Hurricanes",
        "Florida Panthers",
        "Tampa Bay Lightning",
        "Washington Capitals",
        "Chicago Blackhawks",
        "Detroit Red Wings",
        "Nashville Predators",
        "St. Louis Blues",
        "Calgary Flames",
        "Colorado Avalanche",
        "Edmonton Oilers",
        "Vancouver Canucks",
        "Anaheim Ducks",
        "Dallas Stars",
        "Los Angeles Kings",
        "San Jose Sharks",
        "Columbus Blue Jackets",
        "Minnesota Wild",
        "Winnipeg Jets",
        "Arizona Coyotes",
        "Vegas Golden Knights",
        "Seattle Kraken"
       ],
       "description": "Number:",
       "index": 15,
       "layout": "IPY_MODEL_7d1b5c00bb624a40a5630a45b142fa9f",
       "style": "IPY_MODEL_1061a071837c43a88b74a65767c1f3b9"
      }
     },
     "415b101603344f4289e77b820676e764": {
      "model_module": "@jupyter-widgets/output",
      "model_module_version": "1.0.0",
      "model_name": "OutputModel",
      "state": {
       "layout": "IPY_MODEL_57799b64f0a644b9b37175c37fc27600"
      }
     },
     "433ecefa930743b1b82da902406ab7ab": {
      "model_module": "@jupyter-widgets/controls",
      "model_module_version": "1.5.0",
      "model_name": "IntSliderModel",
      "state": {
       "continuous_update": false,
       "description": "Season: ",
       "layout": "IPY_MODEL_065fbc6bebcb49fbb87deaff31c53ff6",
       "max": 2020,
       "min": 2016,
       "style": "IPY_MODEL_32efef19f52d43659f8513ee503f24a4",
       "value": 2016
      }
     },
     "452440ae86124690aea682b0f6460c16": {
      "model_module": "@jupyter-widgets/base",
      "model_module_version": "1.2.0",
      "model_name": "LayoutModel",
      "state": {
       "width": "35%"
      }
     },
     "48d30d7902e64d099568ce393083807c": {
      "model_module": "@jupyter-widgets/output",
      "model_module_version": "1.0.0",
      "model_name": "OutputModel",
      "state": {
       "layout": "IPY_MODEL_ec896e29ccca481196d606c7a6fd0dad"
      }
     },
     "4d90dffbb2e548edbc1e4ac2e3b9222b": {
      "model_module": "@jupyter-widgets/controls",
      "model_module_version": "1.5.0",
      "model_name": "DropdownModel",
      "state": {
       "_options_labels": [
        "New Jersey Devils",
        "New York Islanders",
        "New York Rangers",
        "Philadelphia Flyers",
        "Pittsburgh Penguins",
        "Boston Bruins",
        "Buffalo Sabres",
        "Montréal Canadiens",
        "Ottawa Senators",
        "Toronto Maple Leafs",
        "Carolina Hurricanes",
        "Florida Panthers",
        "Tampa Bay Lightning",
        "Washington Capitals",
        "Chicago Blackhawks",
        "Detroit Red Wings",
        "Nashville Predators",
        "St. Louis Blues",
        "Calgary Flames",
        "Colorado Avalanche",
        "Edmonton Oilers",
        "Vancouver Canucks",
        "Anaheim Ducks",
        "Dallas Stars",
        "Los Angeles Kings",
        "San Jose Sharks",
        "Columbus Blue Jackets",
        "Minnesota Wild",
        "Winnipeg Jets",
        "Arizona Coyotes",
        "Vegas Golden Knights",
        "Seattle Kraken"
       ],
       "description": "Number:",
       "index": 15,
       "layout": "IPY_MODEL_6e9026af12ea4746a2fd47b11ec0c9f6",
       "style": "IPY_MODEL_d92c59d7510945c49a9c6ec66d3326d5"
      }
     },
     "508f0ef7fe144c898169fd22e4608c62": {
      "model_module": "@jupyter-widgets/base",
      "model_module_version": "1.2.0",
      "model_name": "LayoutModel",
      "state": {
       "width": "50%"
      }
     },
     "55978844b9b244039ed4f3a1eb91ad6c": {
      "model_module": "@jupyter-widgets/base",
      "model_module_version": "1.2.0",
      "model_name": "LayoutModel",
      "state": {}
     },
     "56037f5ca44d4409847489036bc50855": {
      "model_module": "@jupyter-widgets/controls",
      "model_module_version": "1.5.0",
      "model_name": "SliderStyleModel",
      "state": {
       "description_width": ""
      }
     },
     "57799b64f0a644b9b37175c37fc27600": {
      "model_module": "@jupyter-widgets/base",
      "model_module_version": "1.2.0",
      "model_name": "LayoutModel",
      "state": {}
     },
     "59a98ab3b95b46c897369941cbb43b8a": {
      "model_module": "@jupyter-widgets/controls",
      "model_module_version": "1.5.0",
      "model_name": "HBoxModel",
      "state": {
       "children": [
        "IPY_MODEL_77932f882e5146cf906639b1628a176e",
        "IPY_MODEL_aff78e40cd9e42e3ba1137669ad5f037"
       ],
       "layout": "IPY_MODEL_2af01153ad5541498be728ca5623d7fb"
      }
     },
     "627cd524009c4a738d706a5dba7be057": {
      "model_module": "@jupyter-widgets/controls",
      "model_module_version": "1.5.0",
      "model_name": "DescriptionStyleModel",
      "state": {
       "description_width": ""
      }
     },
     "6b238712946541bb93c469db05fa81d1": {
      "model_module": "@jupyter-widgets/base",
      "model_module_version": "1.2.0",
      "model_name": "LayoutModel",
      "state": {
       "width": "50%"
      }
     },
     "6d0d6afe3ac64e2ba54561938cc9b3f7": {
      "model_module": "@jupyter-widgets/output",
      "model_module_version": "1.0.0",
      "model_name": "OutputModel",
      "state": {
       "layout": "IPY_MODEL_55978844b9b244039ed4f3a1eb91ad6c"
      }
     },
     "6e9026af12ea4746a2fd47b11ec0c9f6": {
      "model_module": "@jupyter-widgets/base",
      "model_module_version": "1.2.0",
      "model_name": "LayoutModel",
      "state": {
       "width": "50%"
      }
     },
     "704e005bf7f14b7195f77d63114f0cb8": {
      "model_module": "@jupyter-widgets/base",
      "model_module_version": "1.2.0",
      "model_name": "LayoutModel",
      "state": {}
     },
     "708a197c319c4fe2884a1a1d7f04954b": {
      "model_module": "@jupyter-widgets/controls",
      "model_module_version": "1.5.0",
      "model_name": "HBoxModel",
      "state": {
       "children": [
        "IPY_MODEL_d391012a63d7492e998422ea8cf71cde",
        "IPY_MODEL_28e766823e8741928f4ffbb1725244b4"
       ],
       "layout": "IPY_MODEL_d783646e80184b82be802dd2109dc74e"
      }
     },
     "70c3950fcc29497cadcb10f075b7f3ed": {
      "model_module": "@jupyter-widgets/output",
      "model_module_version": "1.0.0",
      "model_name": "OutputModel",
      "state": {
       "layout": "IPY_MODEL_9a93feb79f52471181b50c3c814dbb22"
      }
     },
     "77932f882e5146cf906639b1628a176e": {
      "model_module": "@jupyter-widgets/controls",
      "model_module_version": "1.5.0",
      "model_name": "IntSliderModel",
      "state": {
       "continuous_update": false,
       "description": "Season: ",
       "layout": "IPY_MODEL_c3ef032ac6b347e796127b8c42314042",
       "max": 2020,
       "min": 2016,
       "style": "IPY_MODEL_3aade3ac39c446ed9aa2a20fa5ac9740",
       "value": 2018
      }
     },
     "7d1b5c00bb624a40a5630a45b142fa9f": {
      "model_module": "@jupyter-widgets/base",
      "model_module_version": "1.2.0",
      "model_name": "LayoutModel",
      "state": {
       "width": "50%"
      }
     },
     "830c40391d724217b5c745d71fab0208": {
      "model_module": "@jupyter-widgets/base",
      "model_module_version": "1.2.0",
      "model_name": "LayoutModel",
      "state": {}
     },
     "847335de082f4634965c09bac91d5ec8": {
      "model_module": "@jupyter-widgets/base",
      "model_module_version": "1.2.0",
      "model_name": "LayoutModel",
      "state": {
       "width": "50%"
      }
     },
     "875eb4fb63fb4ee8965d9d9d2b249cd3": {
      "model_module": "@jupyter-widgets/base",
      "model_module_version": "1.2.0",
      "model_name": "LayoutModel",
      "state": {
       "width": "50%"
      }
     },
     "8a33802bd3314a27936af94c0a21629a": {
      "model_module": "@jupyter-widgets/output",
      "model_module_version": "1.0.0",
      "model_name": "OutputModel",
      "state": {
       "layout": "IPY_MODEL_004d4ecc76c049c98b550aecf776b806"
      }
     },
     "95b56a8b21d144b8b85037229e2ca325": {
      "model_module": "@jupyter-widgets/controls",
      "model_module_version": "1.5.0",
      "model_name": "HBoxModel",
      "state": {
       "children": [
        "IPY_MODEL_ce32b409b1f54845aa81fb476487dfb2",
        "IPY_MODEL_406e412b7cdc46a18d039b52e2b8b9ef"
       ],
       "layout": "IPY_MODEL_db6190f5c5b24efdabe8df3404067043"
      }
     },
     "9682221000ae44dcb348d495166ac1a0": {
      "model_module": "@jupyter-widgets/base",
      "model_module_version": "1.2.0",
      "model_name": "LayoutModel",
      "state": {}
     },
     "9a93feb79f52471181b50c3c814dbb22": {
      "model_module": "@jupyter-widgets/base",
      "model_module_version": "1.2.0",
      "model_name": "LayoutModel",
      "state": {}
     },
     "9ed3ff22f2cb4a98826fe9043fd67afe": {
      "model_module": "@jupyter-widgets/base",
      "model_module_version": "1.2.0",
      "model_name": "LayoutModel",
      "state": {}
     },
     "a45ba845a3b44c7c9c5b163ab0e666dd": {
      "model_module": "@jupyter-widgets/base",
      "model_module_version": "1.2.0",
      "model_name": "LayoutModel",
      "state": {}
     },
     "aff78e40cd9e42e3ba1137669ad5f037": {
      "model_module": "@jupyter-widgets/controls",
      "model_module_version": "1.5.0",
      "model_name": "DropdownModel",
      "state": {
       "_options_labels": [
        "New Jersey Devils",
        "New York Islanders",
        "New York Rangers",
        "Philadelphia Flyers",
        "Pittsburgh Penguins",
        "Boston Bruins",
        "Buffalo Sabres",
        "Montréal Canadiens",
        "Ottawa Senators",
        "Toronto Maple Leafs",
        "Carolina Hurricanes",
        "Florida Panthers",
        "Tampa Bay Lightning",
        "Washington Capitals",
        "Chicago Blackhawks",
        "Detroit Red Wings",
        "Nashville Predators",
        "St. Louis Blues",
        "Calgary Flames",
        "Colorado Avalanche",
        "Edmonton Oilers",
        "Vancouver Canucks",
        "Anaheim Ducks",
        "Dallas Stars",
        "Los Angeles Kings",
        "San Jose Sharks",
        "Columbus Blue Jackets",
        "Minnesota Wild",
        "Winnipeg Jets",
        "Arizona Coyotes",
        "Vegas Golden Knights",
        "Seattle Kraken"
       ],
       "description": "Number:",
       "index": 15,
       "layout": "IPY_MODEL_452440ae86124690aea682b0f6460c16",
       "style": "IPY_MODEL_b53f2a06e9fe422bb4445a74e69e7e51"
      }
     },
     "b53f2a06e9fe422bb4445a74e69e7e51": {
      "model_module": "@jupyter-widgets/controls",
      "model_module_version": "1.5.0",
      "model_name": "DescriptionStyleModel",
      "state": {
       "description_width": ""
      }
     },
     "b6150f6adff040a986db6fda3eeebab7": {
      "model_module": "@jupyter-widgets/output",
      "model_module_version": "1.0.0",
      "model_name": "OutputModel",
      "state": {
       "layout": "IPY_MODEL_30b98b79a93a49a8957f9e1665a435ba"
      }
     },
     "bbc2dbc8474c461d8a6e85b87f092c2d": {
      "model_module": "@jupyter-widgets/base",
      "model_module_version": "1.2.0",
      "model_name": "LayoutModel",
      "state": {}
     },
     "bbf5c2d7361945fba76cb705b21f11c3": {
      "model_module": "@jupyter-widgets/output",
      "model_module_version": "1.0.0",
      "model_name": "OutputModel",
      "state": {
       "layout": "IPY_MODEL_9682221000ae44dcb348d495166ac1a0"
      }
     },
     "bcd0771662f644ab8f25e57255327736": {
      "model_module": "@jupyter-widgets/output",
      "model_module_version": "1.0.0",
      "model_name": "OutputModel",
      "state": {
       "layout": "IPY_MODEL_03fa744c57594dbfae3c2ab1bb516c17"
      }
     },
     "be862b32a36743f2b56f42bdfc63bc2f": {
      "model_module": "@jupyter-widgets/output",
      "model_module_version": "1.0.0",
      "model_name": "OutputModel",
      "state": {
       "layout": "IPY_MODEL_a45ba845a3b44c7c9c5b163ab0e666dd"
      }
     },
     "c1a036f38fd34fe0886efe0ff077339e": {
      "model_module": "@jupyter-widgets/output",
      "model_module_version": "1.0.0",
      "model_name": "OutputModel",
      "state": {
       "layout": "IPY_MODEL_e62f5f2d762549c68bef85387c3e5f31"
      }
     },
     "c3ef032ac6b347e796127b8c42314042": {
      "model_module": "@jupyter-widgets/base",
      "model_module_version": "1.2.0",
      "model_name": "LayoutModel",
      "state": {
       "width": "35%"
      }
     },
     "c4dfea149b7847e0b51de4d8a3b94f55": {
      "model_module": "@jupyter-widgets/controls",
      "model_module_version": "1.5.0",
      "model_name": "DropdownModel",
      "state": {
       "_options_labels": [
        "New Jersey Devils",
        "New York Islanders",
        "New York Rangers",
        "Philadelphia Flyers",
        "Pittsburgh Penguins",
        "Boston Bruins",
        "Buffalo Sabres",
        "Montréal Canadiens",
        "Ottawa Senators",
        "Toronto Maple Leafs",
        "Carolina Hurricanes",
        "Florida Panthers",
        "Tampa Bay Lightning",
        "Washington Capitals",
        "Chicago Blackhawks",
        "Detroit Red Wings",
        "Nashville Predators",
        "St. Louis Blues",
        "Calgary Flames",
        "Colorado Avalanche",
        "Edmonton Oilers",
        "Vancouver Canucks",
        "Anaheim Ducks",
        "Dallas Stars",
        "Los Angeles Kings",
        "San Jose Sharks",
        "Columbus Blue Jackets",
        "Minnesota Wild",
        "Winnipeg Jets",
        "Arizona Coyotes",
        "Vegas Golden Knights",
        "Seattle Kraken"
       ],
       "description": "Number:",
       "index": 0,
       "layout": "IPY_MODEL_c68fda58ee1149c6b1b87e068254366b",
       "style": "IPY_MODEL_da59787e8b3f400fb000189ab133f22f"
      }
     },
     "c68fda58ee1149c6b1b87e068254366b": {
      "model_module": "@jupyter-widgets/base",
      "model_module_version": "1.2.0",
      "model_name": "LayoutModel",
      "state": {
       "width": "50%"
      }
     },
     "ce32b409b1f54845aa81fb476487dfb2": {
      "model_module": "@jupyter-widgets/controls",
      "model_module_version": "1.5.0",
      "model_name": "IntSliderModel",
      "state": {
       "continuous_update": false,
       "description": "Season: ",
       "layout": "IPY_MODEL_6b238712946541bb93c469db05fa81d1",
       "max": 2020,
       "min": 2016,
       "style": "IPY_MODEL_1e7a04f688ba436d8d68c1d819f3989f",
       "value": 2016
      }
     },
     "d1bc4c4ab74d456ab145d7ac20050252": {
      "model_module": "@jupyter-widgets/base",
      "model_module_version": "1.2.0",
      "model_name": "LayoutModel",
      "state": {}
     },
     "d391012a63d7492e998422ea8cf71cde": {
      "model_module": "@jupyter-widgets/controls",
      "model_module_version": "1.5.0",
      "model_name": "IntSliderModel",
      "state": {
       "continuous_update": false,
       "description": "Season: ",
       "layout": "IPY_MODEL_508f0ef7fe144c898169fd22e4608c62",
       "max": 2020,
       "min": 2016,
       "style": "IPY_MODEL_56037f5ca44d4409847489036bc50855",
       "value": 2016
      }
     },
     "d76dcad50c88419491b9233cdfcc1dd1": {
      "model_module": "@jupyter-widgets/controls",
      "model_module_version": "1.5.0",
      "model_name": "IntSliderModel",
      "state": {
       "continuous_update": false,
       "description": "Season: ",
       "layout": "IPY_MODEL_847335de082f4634965c09bac91d5ec8",
       "max": 2020,
       "min": 2016,
       "style": "IPY_MODEL_f936f0ca49034540b021505e58d183cf",
       "value": 2016
      }
     },
     "d783646e80184b82be802dd2109dc74e": {
      "model_module": "@jupyter-widgets/base",
      "model_module_version": "1.2.0",
      "model_name": "LayoutModel",
      "state": {}
     },
     "d92c59d7510945c49a9c6ec66d3326d5": {
      "model_module": "@jupyter-widgets/controls",
      "model_module_version": "1.5.0",
      "model_name": "DescriptionStyleModel",
      "state": {
       "description_width": ""
      }
     },
     "da59787e8b3f400fb000189ab133f22f": {
      "model_module": "@jupyter-widgets/controls",
      "model_module_version": "1.5.0",
      "model_name": "DescriptionStyleModel",
      "state": {
       "description_width": ""
      }
     },
     "db6190f5c5b24efdabe8df3404067043": {
      "model_module": "@jupyter-widgets/base",
      "model_module_version": "1.2.0",
      "model_name": "LayoutModel",
      "state": {}
     },
     "e62f5f2d762549c68bef85387c3e5f31": {
      "model_module": "@jupyter-widgets/base",
      "model_module_version": "1.2.0",
      "model_name": "LayoutModel",
      "state": {}
     },
     "e91759c5292e4b7f892a1ac260a01f5a": {
      "model_module": "@jupyter-widgets/base",
      "model_module_version": "1.2.0",
      "model_name": "LayoutModel",
      "state": {}
     },
     "ec896e29ccca481196d606c7a6fd0dad": {
      "model_module": "@jupyter-widgets/base",
      "model_module_version": "1.2.0",
      "model_name": "LayoutModel",
      "state": {}
     },
     "f2a925d310de4de888498d57d8aac2a2": {
      "model_module": "@jupyter-widgets/output",
      "model_module_version": "1.0.0",
      "model_name": "OutputModel",
      "state": {
       "layout": "IPY_MODEL_e91759c5292e4b7f892a1ac260a01f5a"
      }
     },
     "f730ed31aa2c464a9313478581bd92f9": {
      "model_module": "@jupyter-widgets/output",
      "model_module_version": "1.0.0",
      "model_name": "OutputModel",
      "state": {
       "layout": "IPY_MODEL_d1bc4c4ab74d456ab145d7ac20050252"
      }
     },
     "f936f0ca49034540b021505e58d183cf": {
      "model_module": "@jupyter-widgets/controls",
      "model_module_version": "1.5.0",
      "model_name": "SliderStyleModel",
      "state": {
       "description_width": ""
      }
     },
     "f93e6904d55d45aeba2ff43c3724b989": {
      "model_module": "@jupyter-widgets/base",
      "model_module_version": "1.2.0",
      "model_name": "LayoutModel",
      "state": {}
     },
     "faa02d8824a6447394b7a0b58aa3ab30": {
      "model_module": "@jupyter-widgets/base",
      "model_module_version": "1.2.0",
      "model_name": "LayoutModel",
      "state": {}
     }
    },
    "version_major": 2,
    "version_minor": 0
   }
  }
 },
 "nbformat": 4,
 "nbformat_minor": 4
}
