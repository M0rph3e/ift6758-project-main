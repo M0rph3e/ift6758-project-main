{
 "cells": [
  {
   "cell_type": "code",
   "execution_count": 1,
   "metadata": {},
   "outputs": [],
   "source": [
    "# import sys\n",
    "# from  ift6758.data.data_acquisition import Season\n",
    "# season2018 = Season(2018,\"../ift6758/data\")\n",
    "# df_season2018_clean = season2018.clean_data()\n",
    "# df[[\"gamePk\",\"liveData.plays.allPlays\"]]"
   ]
  },
  {
   "cell_type": "code",
   "execution_count": 92,
   "metadata": {},
   "outputs": [],
   "source": [
    "from  ift6758.data.data_acquisition import Season\n",
    "\n",
    "from ipywidgets import widgets, interact, RadioButtons, IntSlider, Output, Layout, Dropdown\n",
    "from ipywidgets.embed import embed_minimal_html\n",
    "\n",
    "from scipy.ndimage import gaussian_filter\n",
    "\n",
    "import plotly.graph_objects as go\n",
    "\n",
    "import json\n",
    "import pandas as pd\n",
    "import numpy as np\n",
    "from tabulate import tabulate\n",
    "import matplotlib.pyplot as plt\n",
    "from matplotlib import cm\n",
    "import seaborn as sns\n",
    "\n",
    "import requests\n",
    "import json"
   ]
  },
  {
   "cell_type": "code",
   "execution_count": 93,
   "metadata": {},
   "outputs": [],
   "source": [
    "def time_played(row):\n",
    "    \"\"\"\n",
    "    return time in mins\n",
    "    \"\"\"\n",
    "    # print(type(row['about.periodTime']))\n",
    "    if row['result.event'] == 'GOAL' and row['about.period']>3:\n",
    "        # return row['about.periodTime'] + row['about.periodTime']\n",
    "        # .date.min()\n",
    "        min_sec1 = row['about.periodTime'].split(':')\n",
    "        return float(min_sec1[0]) + float(min_sec1[1])/60\n",
    "    else:\n",
    "        # return row['about.periodTime']\n",
    "        # .date.min()\n",
    "        min_sec1 = row['about.periodTime'].split(':')\n",
    "        min_sec2 = row['about.periodTimeRemaining'].split(':')\n",
    "        return float(min_sec1[0]) + float(min_sec2[0]) + (float(min_sec1[1]) +  float(min_sec2[1]))/60\n"
   ]
  },
  {
   "cell_type": "code",
   "execution_count": 94,
   "metadata": {},
   "outputs": [],
   "source": [
    "# select_columns = [\"result.event\",\"gamePk\",\"team.name\",\"players\",\"about.period\",\"about.periodTime\",\"about.periodType\",\"about.periodTimeRemaining\",\"coordinates.x\",\"coordinates.y\"]\n",
    "\n",
    "def get_team_time(df_clean):\n",
    "    sel_columns = ['gamePk','result.event','team.name','about.period','about.periodTime','about.periodTimeRemaining']\n",
    "    df1 = df_clean[sel_columns].drop_duplicates() \n",
    "    df2 = df1.sort_values('about.periodTime', ascending=False).drop_duplicates(['gamePk','about.period'])\n",
    "    df2['periodTimePlayed'] = df2.apply (lambda row: time_played(row), axis=1)\n",
    "    df3 = df2.groupby('gamePk')['periodTimePlayed'].sum()\n",
    "    df4 = df1[['gamePk','team.name']].drop_duplicates()\n",
    "    df4['gameTime'] = df4.apply(lambda x: df3.get(key = x['gamePk']),axis=1)\n",
    "    df5 = df4.groupby(['team.name'])['gameTime'].sum()\n",
    "    total_time = df5.sum()\n",
    "    return df5.to_dict(),total_time\n",
    "\n",
    "\n",
    "    \n",
    "\n",
    "# time_game_dict = {}\n",
    "# for year in [2016,2017,2018,2019,2020]:\n",
    "#     season = Season(year,\"../ift6758/data\")\n",
    "#     df_clean = season.clean_data()\n",
    "#     time_game_dict[year] = {}\n",
    "#     time_game_dict[year]['team'],time_game_dict[year]['total_time'] = get_team_time(df_clean)\n",
    "#     time_game_dict[year]['teams_played'] = len(time_game_dict[year]['team'])\n",
    "\n",
    "\n",
    "\n"
   ]
  },
  {
   "cell_type": "code",
   "execution_count": 95,
   "metadata": {},
   "outputs": [],
   "source": [
    "def sum_bin(out,bin_width):\n",
    "    for j in range(0,out.shape[0],bin_width):\n",
    "        for i in range(0,out.shape[1],bin_width):\n",
    "            bin_sum=0\n",
    "            for j1 in range(bin_width):\n",
    "                for i1 in range(bin_width):\n",
    "                    if j+j1<out.shape[0] and i+i1<out.shape[1]:\n",
    "                        bin_sum += out[j+j1][i+i1] \n",
    "            for j1 in range(bin_width):\n",
    "                for i1 in range(bin_width):\n",
    "                    if j+j1<out.shape[0] and i+i1<out.shape[1]:\n",
    "                        out[j+j1][i+i1] = bin_sum\n",
    "\n"
   ]
  },
  {
   "cell_type": "code",
   "execution_count": 102,
   "metadata": {},
   "outputs": [],
   "source": [
    "import numpy as np\n",
    "def advanced_visualization(year=2018,team_name=\"Montréal Canadiens\",bin_width=1):\n",
    "# year=2018\n",
    "# team_name=\"Montréal Canadiens\"\n",
    "    def bin_coordinates(row):\n",
    "        \"\"\"\n",
    "        To explain the procedure of inverting the co-ordinates.\n",
    "        \"\"\"\n",
    "        if row['coordinates.x'] <0:\n",
    "            x_bin = -row['coordinates.x']\n",
    "            y_bin= 42.5-row['coordinates.y']\n",
    "        else:\n",
    "            x_bin = row['coordinates.x']\n",
    "            y_bin= 42.5+row['coordinates.y']\n",
    "        \n",
    "        \n",
    "        return  np.floor(x_bin), np.floor(y_bin)\n",
    "    def copyToOutput(row,out):\n",
    "        \"\"\"\n",
    "        Setting out array\n",
    "        \"\"\"\n",
    "        out[int(row['y_bin']),int(row['x_bin'])]=row['excess_shots']\n",
    "        return \"copiedToOutput\"\n",
    "    def sum_bin(out,bin_width):\n",
    "        for j in range(0,out.shape[0],bin_width):\n",
    "            for i in range(0,out.shape[1],bin_width):\n",
    "                bin_sum=0\n",
    "                for j1 in range(bin_width):\n",
    "                    for i1 in range(bin_width):\n",
    "                        if j+j1<out.shape[0] and i+i1<out.shape[1]:\n",
    "                            bin_sum += out[j+j1][i+i1] \n",
    "                for j1 in range(bin_width):\n",
    "                    for i1 in range(bin_width):\n",
    "                        if j+j1<out.shape[0] and i+i1<out.shape[1]:\n",
    "                            out[j+j1][i+i1] = bin_sum                \n",
    "\n",
    "    season = Season(year,\"../ift6758/data\")\n",
    "    df_clean = season.clean_data()\n",
    "    rink_size = (85,100)\n",
    "    out = np.zeros(rink_size)\n",
    "\n",
    "    num_teams = df_clean['team.name'].unique().shape[0]\n",
    "    print(f\"num_teams {num_teams}\")\n",
    "        \n",
    "    ## Reference: https://stackoverflow.com/a/52363890\n",
    "    coordinates_df = df_clean.apply(lambda row: bin_coordinates(row),axis='columns', result_type='expand').rename({0: 'x_bin', 1: 'y_bin'}, axis=1)\n",
    "    df_clean = pd.concat([df_clean, coordinates_df], axis='columns')\n",
    "    num_games_by_team = df_clean.groupby('team.name')['gamePk'].count().to_dict()\n",
    "    df_group1 = df_clean.groupby(['team.name','x_bin','y_bin'])['result.event'].count().reset_index()\n",
    "    # df_group1['shots_average'] = df_group1['result.event']\n",
    "    df_group1['shots_average'] = df_group1.apply(lambda r: r['result.event'] /num_games_by_team[r['team.name']],axis=1)\n",
    "    df2 = df_group1.drop('result.event',axis=1).drop_duplicates()\n",
    "    df_group2 = df2.groupby(['x_bin','y_bin'])['shots_average'].sum()/num_teams\n",
    "    avg_shots_coordinate_dict = df_group2.to_dict()\n",
    "    df2['excess_shots'] = df2.apply(lambda row: row['shots_average'] - avg_shots_coordinate_dict[(row['x_bin'],row['y_bin'])],axis=1)\n",
    "    df3 = df2[df2['team.name']==team_name]\n",
    "\n",
    "    df3.apply(lambda row: copyToOutput(row,out),axis=1)\n",
    "    sum_bin(out,bin_width)\n",
    "    print(df3[(df3['x_bin']==75.0)&(df3['y_bin']==36.0)])\n",
    "    return out\n",
    "\n"
   ]
  },
  {
   "cell_type": "code",
   "execution_count": 101,
   "metadata": {},
   "outputs": [
    {
     "name": "stdout",
     "output_type": "stream",
     "text": [
      "File already Exists, loading from ../ift6758/data/PICKLE//2016_clean.pkl\n",
      "num_teams 34\n",
      "               team.name  x_bin  y_bin  shots_average  excess_shots\n",
      "33777  New Jersey Devils   75.0   36.0       0.000406     -0.000051\n"
     ]
    }
   ],
   "source": [
    "out1 = advanced_visualization(year=2016,team_name=\"New Jersey Devils\",bin_width=1)\n",
    "f = gaussian_filter(out1, sigma=2)"
   ]
  },
  {
   "cell_type": "code",
   "execution_count": 103,
   "metadata": {},
   "outputs": [],
   "source": [
    "IMG_PATH = \"../figures/half_nhl_rink_h.png\""
   ]
  },
  {
   "cell_type": "code",
   "execution_count": 104,
   "metadata": {},
   "outputs": [
    {
     "name": "stdout",
     "output_type": "stream",
     "text": [
      "[{'id': 1, 'name': 'New Jersey Devils', 'link': '/api/v1/teams/1', 'venue': {'name': 'Prudential Center', 'link': '/api/v1/venues/null', 'city': 'Newark', 'timeZone': {'id': 'America/New_York', 'offset': -4, 'tz': 'EDT'}}, 'abbreviation': 'NJD', 'teamName': 'Devils', 'locationName': 'New Jersey', 'firstYearOfPlay': '1982', 'division': {'id': 18, 'name': 'Metropolitan', 'nameShort': 'Metro', 'link': '/api/v1/divisions/18', 'abbreviation': 'M'}, 'conference': {'id': 6, 'name': 'Eastern', 'link': '/api/v1/conferences/6'}, 'franchise': {'franchiseId': 23, 'teamName': 'Devils', 'link': '/api/v1/franchises/23'}, 'shortName': 'New Jersey', 'officialSiteUrl': 'http://www.newjerseydevils.com/', 'franchiseId': 23, 'active': True}, {'id': 2, 'name': 'New York Islanders', 'link': '/api/v1/teams/2', 'venue': {'name': 'UBS Arena', 'link': '/api/v1/venues/null', 'city': 'Elmont', 'timeZone': {'id': 'America/New_York', 'offset': -4, 'tz': 'EDT'}}, 'abbreviation': 'NYI', 'teamName': 'Islanders', 'locationName': 'New York', 'firstYearOfPlay': '1972', 'division': {'id': 18, 'name': 'Metropolitan', 'nameShort': 'Metro', 'link': '/api/v1/divisions/18', 'abbreviation': 'M'}, 'conference': {'id': 6, 'name': 'Eastern', 'link': '/api/v1/conferences/6'}, 'franchise': {'franchiseId': 22, 'teamName': 'Islanders', 'link': '/api/v1/franchises/22'}, 'shortName': 'NY Islanders', 'officialSiteUrl': 'http://www.newyorkislanders.com/', 'franchiseId': 22, 'active': True}, {'id': 3, 'name': 'New York Rangers', 'link': '/api/v1/teams/3', 'venue': {'id': 5054, 'name': 'Madison Square Garden', 'link': '/api/v1/venues/5054', 'city': 'New York', 'timeZone': {'id': 'America/New_York', 'offset': -4, 'tz': 'EDT'}}, 'abbreviation': 'NYR', 'teamName': 'Rangers', 'locationName': 'New York', 'firstYearOfPlay': '1926', 'division': {'id': 18, 'name': 'Metropolitan', 'nameShort': 'Metro', 'link': '/api/v1/divisions/18', 'abbreviation': 'M'}, 'conference': {'id': 6, 'name': 'Eastern', 'link': '/api/v1/conferences/6'}, 'franchise': {'franchiseId': 10, 'teamName': 'Rangers', 'link': '/api/v1/franchises/10'}, 'shortName': 'NY Rangers', 'officialSiteUrl': 'http://www.newyorkrangers.com/', 'franchiseId': 10, 'active': True}, {'id': 4, 'name': 'Philadelphia Flyers', 'link': '/api/v1/teams/4', 'venue': {'id': 5096, 'name': 'Wells Fargo Center', 'link': '/api/v1/venues/5096', 'city': 'Philadelphia', 'timeZone': {'id': 'America/New_York', 'offset': -4, 'tz': 'EDT'}}, 'abbreviation': 'PHI', 'teamName': 'Flyers', 'locationName': 'Philadelphia', 'firstYearOfPlay': '1967', 'division': {'id': 18, 'name': 'Metropolitan', 'nameShort': 'Metro', 'link': '/api/v1/divisions/18', 'abbreviation': 'M'}, 'conference': {'id': 6, 'name': 'Eastern', 'link': '/api/v1/conferences/6'}, 'franchise': {'franchiseId': 16, 'teamName': 'Flyers', 'link': '/api/v1/franchises/16'}, 'shortName': 'Philadelphia', 'officialSiteUrl': 'http://www.philadelphiaflyers.com/', 'franchiseId': 16, 'active': True}, {'id': 5, 'name': 'Pittsburgh Penguins', 'link': '/api/v1/teams/5', 'venue': {'id': 5034, 'name': 'PPG Paints Arena', 'link': '/api/v1/venues/5034', 'city': 'Pittsburgh', 'timeZone': {'id': 'America/New_York', 'offset': -4, 'tz': 'EDT'}}, 'abbreviation': 'PIT', 'teamName': 'Penguins', 'locationName': 'Pittsburgh', 'firstYearOfPlay': '1967', 'division': {'id': 18, 'name': 'Metropolitan', 'nameShort': 'Metro', 'link': '/api/v1/divisions/18', 'abbreviation': 'M'}, 'conference': {'id': 6, 'name': 'Eastern', 'link': '/api/v1/conferences/6'}, 'franchise': {'franchiseId': 17, 'teamName': 'Penguins', 'link': '/api/v1/franchises/17'}, 'shortName': 'Pittsburgh', 'officialSiteUrl': 'http://pittsburghpenguins.com/', 'franchiseId': 17, 'active': True}, {'id': 6, 'name': 'Boston Bruins', 'link': '/api/v1/teams/6', 'venue': {'id': 5085, 'name': 'TD Garden', 'link': '/api/v1/venues/5085', 'city': 'Boston', 'timeZone': {'id': 'America/New_York', 'offset': -4, 'tz': 'EDT'}}, 'abbreviation': 'BOS', 'teamName': 'Bruins', 'locationName': 'Boston', 'firstYearOfPlay': '1924', 'division': {'id': 17, 'name': 'Atlantic', 'nameShort': 'ATL', 'link': '/api/v1/divisions/17', 'abbreviation': 'A'}, 'conference': {'id': 6, 'name': 'Eastern', 'link': '/api/v1/conferences/6'}, 'franchise': {'franchiseId': 6, 'teamName': 'Bruins', 'link': '/api/v1/franchises/6'}, 'shortName': 'Boston', 'officialSiteUrl': 'http://www.bostonbruins.com/', 'franchiseId': 6, 'active': True}, {'id': 7, 'name': 'Buffalo Sabres', 'link': '/api/v1/teams/7', 'venue': {'id': 5039, 'name': 'KeyBank Center', 'link': '/api/v1/venues/5039', 'city': 'Buffalo', 'timeZone': {'id': 'America/New_York', 'offset': -4, 'tz': 'EDT'}}, 'abbreviation': 'BUF', 'teamName': 'Sabres', 'locationName': 'Buffalo', 'firstYearOfPlay': '1970', 'division': {'id': 17, 'name': 'Atlantic', 'nameShort': 'ATL', 'link': '/api/v1/divisions/17', 'abbreviation': 'A'}, 'conference': {'id': 6, 'name': 'Eastern', 'link': '/api/v1/conferences/6'}, 'franchise': {'franchiseId': 19, 'teamName': 'Sabres', 'link': '/api/v1/franchises/19'}, 'shortName': 'Buffalo', 'officialSiteUrl': 'http://www.sabres.com/', 'franchiseId': 19, 'active': True}, {'id': 8, 'name': 'Montréal Canadiens', 'link': '/api/v1/teams/8', 'venue': {'id': 5028, 'name': 'Bell Centre', 'link': '/api/v1/venues/5028', 'city': 'Montréal', 'timeZone': {'id': 'America/Montreal', 'offset': -4, 'tz': 'EDT'}}, 'abbreviation': 'MTL', 'teamName': 'Canadiens', 'locationName': 'Montréal', 'firstYearOfPlay': '1909', 'division': {'id': 17, 'name': 'Atlantic', 'nameShort': 'ATL', 'link': '/api/v1/divisions/17', 'abbreviation': 'A'}, 'conference': {'id': 6, 'name': 'Eastern', 'link': '/api/v1/conferences/6'}, 'franchise': {'franchiseId': 1, 'teamName': 'Canadiens', 'link': '/api/v1/franchises/1'}, 'shortName': 'Montréal', 'officialSiteUrl': 'http://www.canadiens.com/', 'franchiseId': 1, 'active': True}, {'id': 9, 'name': 'Ottawa Senators', 'link': '/api/v1/teams/9', 'venue': {'id': 5031, 'name': 'Canadian Tire Centre', 'link': '/api/v1/venues/5031', 'city': 'Ottawa', 'timeZone': {'id': 'America/New_York', 'offset': -4, 'tz': 'EDT'}}, 'abbreviation': 'OTT', 'teamName': 'Senators', 'locationName': 'Ottawa', 'firstYearOfPlay': '1990', 'division': {'id': 17, 'name': 'Atlantic', 'nameShort': 'ATL', 'link': '/api/v1/divisions/17', 'abbreviation': 'A'}, 'conference': {'id': 6, 'name': 'Eastern', 'link': '/api/v1/conferences/6'}, 'franchise': {'franchiseId': 30, 'teamName': 'Senators', 'link': '/api/v1/franchises/30'}, 'shortName': 'Ottawa', 'officialSiteUrl': 'http://www.ottawasenators.com/', 'franchiseId': 30, 'active': True}, {'id': 10, 'name': 'Toronto Maple Leafs', 'link': '/api/v1/teams/10', 'venue': {'name': 'Scotiabank Arena', 'link': '/api/v1/venues/null', 'city': 'Toronto', 'timeZone': {'id': 'America/Toronto', 'offset': -4, 'tz': 'EDT'}}, 'abbreviation': 'TOR', 'teamName': 'Maple Leafs', 'locationName': 'Toronto', 'firstYearOfPlay': '1917', 'division': {'id': 17, 'name': 'Atlantic', 'nameShort': 'ATL', 'link': '/api/v1/divisions/17', 'abbreviation': 'A'}, 'conference': {'id': 6, 'name': 'Eastern', 'link': '/api/v1/conferences/6'}, 'franchise': {'franchiseId': 5, 'teamName': 'Maple Leafs', 'link': '/api/v1/franchises/5'}, 'shortName': 'Toronto', 'officialSiteUrl': 'http://www.mapleleafs.com/', 'franchiseId': 5, 'active': True}, {'id': 12, 'name': 'Carolina Hurricanes', 'link': '/api/v1/teams/12', 'venue': {'id': 5066, 'name': 'PNC Arena', 'link': '/api/v1/venues/5066', 'city': 'Raleigh', 'timeZone': {'id': 'America/New_York', 'offset': -4, 'tz': 'EDT'}}, 'abbreviation': 'CAR', 'teamName': 'Hurricanes', 'locationName': 'Carolina', 'firstYearOfPlay': '1979', 'division': {'id': 18, 'name': 'Metropolitan', 'nameShort': 'Metro', 'link': '/api/v1/divisions/18', 'abbreviation': 'M'}, 'conference': {'id': 6, 'name': 'Eastern', 'link': '/api/v1/conferences/6'}, 'franchise': {'franchiseId': 26, 'teamName': 'Hurricanes', 'link': '/api/v1/franchises/26'}, 'shortName': 'Carolina', 'officialSiteUrl': 'http://www.carolinahurricanes.com/', 'franchiseId': 26, 'active': True}, {'id': 13, 'name': 'Florida Panthers', 'link': '/api/v1/teams/13', 'venue': {'id': 5027, 'name': 'FLA Live Arena', 'link': '/api/v1/venues/5027', 'city': 'Sunrise', 'timeZone': {'id': 'America/New_York', 'offset': -4, 'tz': 'EDT'}}, 'abbreviation': 'FLA', 'teamName': 'Panthers', 'locationName': 'Florida', 'firstYearOfPlay': '1993', 'division': {'id': 17, 'name': 'Atlantic', 'nameShort': 'ATL', 'link': '/api/v1/divisions/17', 'abbreviation': 'A'}, 'conference': {'id': 6, 'name': 'Eastern', 'link': '/api/v1/conferences/6'}, 'franchise': {'franchiseId': 33, 'teamName': 'Panthers', 'link': '/api/v1/franchises/33'}, 'shortName': 'Florida', 'officialSiteUrl': 'http://www.floridapanthers.com/', 'franchiseId': 33, 'active': True}, {'id': 14, 'name': 'Tampa Bay Lightning', 'link': '/api/v1/teams/14', 'venue': {'name': 'AMALIE Arena', 'link': '/api/v1/venues/null', 'city': 'Tampa', 'timeZone': {'id': 'America/New_York', 'offset': -4, 'tz': 'EDT'}}, 'abbreviation': 'TBL', 'teamName': 'Lightning', 'locationName': 'Tampa Bay', 'firstYearOfPlay': '1991', 'division': {'id': 17, 'name': 'Atlantic', 'nameShort': 'ATL', 'link': '/api/v1/divisions/17', 'abbreviation': 'A'}, 'conference': {'id': 6, 'name': 'Eastern', 'link': '/api/v1/conferences/6'}, 'franchise': {'franchiseId': 31, 'teamName': 'Lightning', 'link': '/api/v1/franchises/31'}, 'shortName': 'Tampa Bay', 'officialSiteUrl': 'http://www.tampabaylightning.com/', 'franchiseId': 31, 'active': True}, {'id': 15, 'name': 'Washington Capitals', 'link': '/api/v1/teams/15', 'venue': {'id': 5094, 'name': 'Capital One Arena', 'link': '/api/v1/venues/5094', 'city': 'Washington', 'timeZone': {'id': 'America/New_York', 'offset': -4, 'tz': 'EDT'}}, 'abbreviation': 'WSH', 'teamName': 'Capitals', 'locationName': 'Washington', 'firstYearOfPlay': '1974', 'division': {'id': 18, 'name': 'Metropolitan', 'nameShort': 'Metro', 'link': '/api/v1/divisions/18', 'abbreviation': 'M'}, 'conference': {'id': 6, 'name': 'Eastern', 'link': '/api/v1/conferences/6'}, 'franchise': {'franchiseId': 24, 'teamName': 'Capitals', 'link': '/api/v1/franchises/24'}, 'shortName': 'Washington', 'officialSiteUrl': 'http://www.washingtoncapitals.com/', 'franchiseId': 24, 'active': True}, {'id': 16, 'name': 'Chicago Blackhawks', 'link': '/api/v1/teams/16', 'venue': {'id': 5092, 'name': 'United Center', 'link': '/api/v1/venues/5092', 'city': 'Chicago', 'timeZone': {'id': 'America/Chicago', 'offset': -5, 'tz': 'CDT'}}, 'abbreviation': 'CHI', 'teamName': 'Blackhawks', 'locationName': 'Chicago', 'firstYearOfPlay': '1926', 'division': {'id': 16, 'name': 'Central', 'nameShort': 'CEN', 'link': '/api/v1/divisions/16', 'abbreviation': 'C'}, 'conference': {'id': 5, 'name': 'Western', 'link': '/api/v1/conferences/5'}, 'franchise': {'franchiseId': 11, 'teamName': 'Blackhawks', 'link': '/api/v1/franchises/11'}, 'shortName': 'Chicago', 'officialSiteUrl': 'http://www.chicagoblackhawks.com/', 'franchiseId': 11, 'active': True}, {'id': 17, 'name': 'Detroit Red Wings', 'link': '/api/v1/teams/17', 'venue': {'id': 5145, 'name': 'Little Caesars Arena', 'link': '/api/v1/venues/5145', 'city': 'Detroit', 'timeZone': {'id': 'America/Detroit', 'offset': -4, 'tz': 'EDT'}}, 'abbreviation': 'DET', 'teamName': 'Red Wings', 'locationName': 'Detroit', 'firstYearOfPlay': '1926', 'division': {'id': 17, 'name': 'Atlantic', 'nameShort': 'ATL', 'link': '/api/v1/divisions/17', 'abbreviation': 'A'}, 'conference': {'id': 6, 'name': 'Eastern', 'link': '/api/v1/conferences/6'}, 'franchise': {'franchiseId': 12, 'teamName': 'Red Wings', 'link': '/api/v1/franchises/12'}, 'shortName': 'Detroit', 'officialSiteUrl': 'http://www.detroitredwings.com/', 'franchiseId': 12, 'active': True}, {'id': 18, 'name': 'Nashville Predators', 'link': '/api/v1/teams/18', 'venue': {'id': 5030, 'name': 'Bridgestone Arena', 'link': '/api/v1/venues/5030', 'city': 'Nashville', 'timeZone': {'id': 'America/Chicago', 'offset': -5, 'tz': 'CDT'}}, 'abbreviation': 'NSH', 'teamName': 'Predators', 'locationName': 'Nashville', 'firstYearOfPlay': '1997', 'division': {'id': 16, 'name': 'Central', 'nameShort': 'CEN', 'link': '/api/v1/divisions/16', 'abbreviation': 'C'}, 'conference': {'id': 5, 'name': 'Western', 'link': '/api/v1/conferences/5'}, 'franchise': {'franchiseId': 34, 'teamName': 'Predators', 'link': '/api/v1/franchises/34'}, 'shortName': 'Nashville', 'officialSiteUrl': 'http://www.nashvillepredators.com/', 'franchiseId': 34, 'active': True}, {'id': 19, 'name': 'St. Louis Blues', 'link': '/api/v1/teams/19', 'venue': {'id': 5076, 'name': 'Enterprise Center', 'link': '/api/v1/venues/5076', 'city': 'St. Louis', 'timeZone': {'id': 'America/Chicago', 'offset': -5, 'tz': 'CDT'}}, 'abbreviation': 'STL', 'teamName': 'Blues', 'locationName': 'St. Louis', 'firstYearOfPlay': '1967', 'division': {'id': 16, 'name': 'Central', 'nameShort': 'CEN', 'link': '/api/v1/divisions/16', 'abbreviation': 'C'}, 'conference': {'id': 5, 'name': 'Western', 'link': '/api/v1/conferences/5'}, 'franchise': {'franchiseId': 18, 'teamName': 'Blues', 'link': '/api/v1/franchises/18'}, 'shortName': 'St Louis', 'officialSiteUrl': 'http://www.stlouisblues.com/', 'franchiseId': 18, 'active': True}, {'id': 20, 'name': 'Calgary Flames', 'link': '/api/v1/teams/20', 'venue': {'id': 5075, 'name': 'Scotiabank Saddledome', 'link': '/api/v1/venues/5075', 'city': 'Calgary', 'timeZone': {'id': 'America/Denver', 'offset': -6, 'tz': 'MDT'}}, 'abbreviation': 'CGY', 'teamName': 'Flames', 'locationName': 'Calgary', 'firstYearOfPlay': '1980', 'division': {'id': 15, 'name': 'Pacific', 'nameShort': 'PAC', 'link': '/api/v1/divisions/15', 'abbreviation': 'P'}, 'conference': {'id': 5, 'name': 'Western', 'link': '/api/v1/conferences/5'}, 'franchise': {'franchiseId': 21, 'teamName': 'Flames', 'link': '/api/v1/franchises/21'}, 'shortName': 'Calgary', 'officialSiteUrl': 'http://www.calgaryflames.com/', 'franchiseId': 21, 'active': True}, {'id': 21, 'name': 'Colorado Avalanche', 'link': '/api/v1/teams/21', 'venue': {'id': 5064, 'name': 'Ball Arena', 'link': '/api/v1/venues/5064', 'city': 'Denver', 'timeZone': {'id': 'America/Denver', 'offset': -6, 'tz': 'MDT'}}, 'abbreviation': 'COL', 'teamName': 'Avalanche', 'locationName': 'Colorado', 'firstYearOfPlay': '1979', 'division': {'id': 16, 'name': 'Central', 'nameShort': 'CEN', 'link': '/api/v1/divisions/16', 'abbreviation': 'C'}, 'conference': {'id': 5, 'name': 'Western', 'link': '/api/v1/conferences/5'}, 'franchise': {'franchiseId': 27, 'teamName': 'Avalanche', 'link': '/api/v1/franchises/27'}, 'shortName': 'Colorado', 'officialSiteUrl': 'http://www.coloradoavalanche.com/', 'franchiseId': 27, 'active': True}, {'id': 22, 'name': 'Edmonton Oilers', 'link': '/api/v1/teams/22', 'venue': {'id': 5100, 'name': 'Rogers Place', 'link': '/api/v1/venues/5100', 'city': 'Edmonton', 'timeZone': {'id': 'America/Edmonton', 'offset': -6, 'tz': 'MDT'}}, 'abbreviation': 'EDM', 'teamName': 'Oilers', 'locationName': 'Edmonton', 'firstYearOfPlay': '1979', 'division': {'id': 15, 'name': 'Pacific', 'nameShort': 'PAC', 'link': '/api/v1/divisions/15', 'abbreviation': 'P'}, 'conference': {'id': 5, 'name': 'Western', 'link': '/api/v1/conferences/5'}, 'franchise': {'franchiseId': 25, 'teamName': 'Oilers', 'link': '/api/v1/franchises/25'}, 'shortName': 'Edmonton', 'officialSiteUrl': 'http://www.edmontonoilers.com/', 'franchiseId': 25, 'active': True}, {'id': 23, 'name': 'Vancouver Canucks', 'link': '/api/v1/teams/23', 'venue': {'id': 5073, 'name': 'Rogers Arena', 'link': '/api/v1/venues/5073', 'city': 'Vancouver', 'timeZone': {'id': 'America/Vancouver', 'offset': -7, 'tz': 'PDT'}}, 'abbreviation': 'VAN', 'teamName': 'Canucks', 'locationName': 'Vancouver', 'firstYearOfPlay': '1970', 'division': {'id': 15, 'name': 'Pacific', 'nameShort': 'PAC', 'link': '/api/v1/divisions/15', 'abbreviation': 'P'}, 'conference': {'id': 5, 'name': 'Western', 'link': '/api/v1/conferences/5'}, 'franchise': {'franchiseId': 20, 'teamName': 'Canucks', 'link': '/api/v1/franchises/20'}, 'shortName': 'Vancouver', 'officialSiteUrl': 'http://www.canucks.com/', 'franchiseId': 20, 'active': True}, {'id': 24, 'name': 'Anaheim Ducks', 'link': '/api/v1/teams/24', 'venue': {'id': 5046, 'name': 'Honda Center', 'link': '/api/v1/venues/5046', 'city': 'Anaheim', 'timeZone': {'id': 'America/Los_Angeles', 'offset': -7, 'tz': 'PDT'}}, 'abbreviation': 'ANA', 'teamName': 'Ducks', 'locationName': 'Anaheim', 'firstYearOfPlay': '1993', 'division': {'id': 15, 'name': 'Pacific', 'nameShort': 'PAC', 'link': '/api/v1/divisions/15', 'abbreviation': 'P'}, 'conference': {'id': 5, 'name': 'Western', 'link': '/api/v1/conferences/5'}, 'franchise': {'franchiseId': 32, 'teamName': 'Ducks', 'link': '/api/v1/franchises/32'}, 'shortName': 'Anaheim', 'officialSiteUrl': 'http://www.anaheimducks.com/', 'franchiseId': 32, 'active': True}, {'id': 25, 'name': 'Dallas Stars', 'link': '/api/v1/teams/25', 'venue': {'id': 5019, 'name': 'American Airlines Center', 'link': '/api/v1/venues/5019', 'city': 'Dallas', 'timeZone': {'id': 'America/Chicago', 'offset': -5, 'tz': 'CDT'}}, 'abbreviation': 'DAL', 'teamName': 'Stars', 'locationName': 'Dallas', 'firstYearOfPlay': '1967', 'division': {'id': 16, 'name': 'Central', 'nameShort': 'CEN', 'link': '/api/v1/divisions/16', 'abbreviation': 'C'}, 'conference': {'id': 5, 'name': 'Western', 'link': '/api/v1/conferences/5'}, 'franchise': {'franchiseId': 15, 'teamName': 'Stars', 'link': '/api/v1/franchises/15'}, 'shortName': 'Dallas', 'officialSiteUrl': 'http://www.dallasstars.com/', 'franchiseId': 15, 'active': True}, {'id': 26, 'name': 'Los Angeles Kings', 'link': '/api/v1/teams/26', 'venue': {'id': 5081, 'name': 'STAPLES Center', 'link': '/api/v1/venues/5081', 'city': 'Los Angeles', 'timeZone': {'id': 'America/Los_Angeles', 'offset': -7, 'tz': 'PDT'}}, 'abbreviation': 'LAK', 'teamName': 'Kings', 'locationName': 'Los Angeles', 'firstYearOfPlay': '1967', 'division': {'id': 15, 'name': 'Pacific', 'nameShort': 'PAC', 'link': '/api/v1/divisions/15', 'abbreviation': 'P'}, 'conference': {'id': 5, 'name': 'Western', 'link': '/api/v1/conferences/5'}, 'franchise': {'franchiseId': 14, 'teamName': 'Kings', 'link': '/api/v1/franchises/14'}, 'shortName': 'Los Angeles', 'officialSiteUrl': 'http://www.lakings.com/', 'franchiseId': 14, 'active': True}, {'id': 28, 'name': 'San Jose Sharks', 'link': '/api/v1/teams/28', 'venue': {'name': 'SAP Center at San Jose', 'link': '/api/v1/venues/null', 'city': 'San Jose', 'timeZone': {'id': 'America/Los_Angeles', 'offset': -7, 'tz': 'PDT'}}, 'abbreviation': 'SJS', 'teamName': 'Sharks', 'locationName': 'San Jose', 'firstYearOfPlay': '1990', 'division': {'id': 15, 'name': 'Pacific', 'nameShort': 'PAC', 'link': '/api/v1/divisions/15', 'abbreviation': 'P'}, 'conference': {'id': 5, 'name': 'Western', 'link': '/api/v1/conferences/5'}, 'franchise': {'franchiseId': 29, 'teamName': 'Sharks', 'link': '/api/v1/franchises/29'}, 'shortName': 'San Jose', 'officialSiteUrl': 'http://www.sjsharks.com/', 'franchiseId': 29, 'active': True}, {'id': 29, 'name': 'Columbus Blue Jackets', 'link': '/api/v1/teams/29', 'venue': {'id': 5059, 'name': 'Nationwide Arena', 'link': '/api/v1/venues/5059', 'city': 'Columbus', 'timeZone': {'id': 'America/New_York', 'offset': -4, 'tz': 'EDT'}}, 'abbreviation': 'CBJ', 'teamName': 'Blue Jackets', 'locationName': 'Columbus', 'firstYearOfPlay': '1997', 'division': {'id': 18, 'name': 'Metropolitan', 'nameShort': 'Metro', 'link': '/api/v1/divisions/18', 'abbreviation': 'M'}, 'conference': {'id': 6, 'name': 'Eastern', 'link': '/api/v1/conferences/6'}, 'franchise': {'franchiseId': 36, 'teamName': 'Blue Jackets', 'link': '/api/v1/franchises/36'}, 'shortName': 'Columbus', 'officialSiteUrl': 'http://www.bluejackets.com/', 'franchiseId': 36, 'active': True}, {'id': 30, 'name': 'Minnesota Wild', 'link': '/api/v1/teams/30', 'venue': {'id': 5098, 'name': 'Xcel Energy Center', 'link': '/api/v1/venues/5098', 'city': 'St. Paul', 'timeZone': {'id': 'America/Chicago', 'offset': -5, 'tz': 'CDT'}}, 'abbreviation': 'MIN', 'teamName': 'Wild', 'locationName': 'Minnesota', 'firstYearOfPlay': '1997', 'division': {'id': 16, 'name': 'Central', 'nameShort': 'CEN', 'link': '/api/v1/divisions/16', 'abbreviation': 'C'}, 'conference': {'id': 5, 'name': 'Western', 'link': '/api/v1/conferences/5'}, 'franchise': {'franchiseId': 37, 'teamName': 'Wild', 'link': '/api/v1/franchises/37'}, 'shortName': 'Minnesota', 'officialSiteUrl': 'http://www.wild.com/', 'franchiseId': 37, 'active': True}, {'id': 52, 'name': 'Winnipeg Jets', 'link': '/api/v1/teams/52', 'venue': {'id': 5058, 'name': 'Canada Life Centre', 'link': '/api/v1/venues/5058', 'city': 'Winnipeg', 'timeZone': {'id': 'America/Winnipeg', 'offset': -5, 'tz': 'CDT'}}, 'abbreviation': 'WPG', 'teamName': 'Jets', 'locationName': 'Winnipeg', 'firstYearOfPlay': '2011', 'division': {'id': 16, 'name': 'Central', 'nameShort': 'CEN', 'link': '/api/v1/divisions/16', 'abbreviation': 'C'}, 'conference': {'id': 5, 'name': 'Western', 'link': '/api/v1/conferences/5'}, 'franchise': {'franchiseId': 35, 'teamName': 'Jets', 'link': '/api/v1/franchises/35'}, 'shortName': 'Winnipeg', 'officialSiteUrl': 'http://winnipegjets.com/', 'franchiseId': 35, 'active': True}, {'id': 53, 'name': 'Arizona Coyotes', 'link': '/api/v1/teams/53', 'venue': {'id': 5043, 'name': 'Gila River Arena', 'link': '/api/v1/venues/5043', 'city': 'Glendale', 'timeZone': {'id': 'America/Phoenix', 'offset': -7, 'tz': 'MST'}}, 'abbreviation': 'ARI', 'teamName': 'Coyotes', 'locationName': 'Arizona', 'firstYearOfPlay': '1979', 'division': {'id': 16, 'name': 'Central', 'nameShort': 'CEN', 'link': '/api/v1/divisions/16', 'abbreviation': 'C'}, 'conference': {'id': 5, 'name': 'Western', 'link': '/api/v1/conferences/5'}, 'franchise': {'franchiseId': 28, 'teamName': 'Coyotes', 'link': '/api/v1/franchises/28'}, 'shortName': 'Arizona', 'officialSiteUrl': 'http://www.arizonacoyotes.com/', 'franchiseId': 28, 'active': True}, {'id': 54, 'name': 'Vegas Golden Knights', 'link': '/api/v1/teams/54', 'venue': {'id': 5178, 'name': 'T-Mobile Arena', 'link': '/api/v1/venues/5178', 'city': 'Las Vegas', 'timeZone': {'id': 'America/Los_Angeles', 'offset': -7, 'tz': 'PDT'}}, 'abbreviation': 'VGK', 'teamName': 'Golden Knights', 'locationName': 'Vegas', 'firstYearOfPlay': '2016', 'division': {'id': 15, 'name': 'Pacific', 'nameShort': 'PAC', 'link': '/api/v1/divisions/15', 'abbreviation': 'P'}, 'conference': {'id': 5, 'name': 'Western', 'link': '/api/v1/conferences/5'}, 'franchise': {'franchiseId': 38, 'teamName': 'Golden Knights', 'link': '/api/v1/franchises/38'}, 'shortName': 'Vegas', 'officialSiteUrl': 'http://www.vegasgoldenknights.com/', 'franchiseId': 38, 'active': True}, {'id': 55, 'name': 'Seattle Kraken', 'link': '/api/v1/teams/55', 'venue': {'name': 'Climate Pledge Arena', 'link': '/api/v1/venues/null', 'city': 'Seattle', 'timeZone': {'id': 'America/Los_Angeles', 'offset': -7, 'tz': 'PDT'}}, 'abbreviation': 'SEA', 'teamName': 'Kraken', 'locationName': 'Seattle', 'firstYearOfPlay': '2021', 'division': {'id': 15, 'name': 'Pacific', 'nameShort': 'PAC', 'link': '/api/v1/divisions/15', 'abbreviation': 'P'}, 'conference': {'id': 5, 'name': 'Western', 'link': '/api/v1/conferences/5'}, 'franchise': {'franchiseId': 39, 'teamName': 'Kraken', 'link': '/api/v1/franchises/39'}, 'shortName': 'Seattle', 'officialSiteUrl': 'https://www.nhl.com/seattle', 'franchiseId': 39, 'active': True}]\n"
     ]
    }
   ],
   "source": [
    "url = 'https://statsapi.web.nhl.com/api/v1/teams'\n",
    "\n",
    "r = requests.get(url, headers={'accept': 'application/json'})\n",
    "json_teams = r.json()\n",
    "\n",
    "print(json_teams[\"teams\"])"
   ]
  },
  {
   "cell_type": "code",
   "execution_count": 105,
   "metadata": {},
   "outputs": [
    {
     "name": "stdout",
     "output_type": "stream",
     "text": [
      "['New Jersey Devils', 'New York Islanders', 'New York Rangers', 'Philadelphia Flyers', 'Pittsburgh Penguins', 'Boston Bruins', 'Buffalo Sabres', 'Montréal Canadiens', 'Ottawa Senators', 'Toronto Maple Leafs', 'Carolina Hurricanes', 'Florida Panthers', 'Tampa Bay Lightning', 'Washington Capitals', 'Chicago Blackhawks', 'Detroit Red Wings', 'Nashville Predators', 'St. Louis Blues', 'Calgary Flames', 'Colorado Avalanche', 'Edmonton Oilers', 'Vancouver Canucks', 'Anaheim Ducks', 'Dallas Stars', 'Los Angeles Kings', 'San Jose Sharks', 'Columbus Blue Jackets', 'Minnesota Wild', 'Winnipeg Jets', 'Arizona Coyotes', 'Vegas Golden Knights', 'Seattle Kraken']\n"
     ]
    }
   ],
   "source": [
    "team_list = list()\n",
    "for team in json_teams[\"teams\"]:\n",
    "    team_list.append(team[\"name\"])\n",
    "print(team_list)"
   ]
  },
  {
   "cell_type": "code",
   "execution_count": 106,
   "metadata": {
    "scrolled": false
   },
   "outputs": [
    {
     "data": {
      "application/vnd.jupyter.widget-view+json": {
       "model_id": "a0cc9ae5e870408c841ec19375943800",
       "version_major": 2,
       "version_minor": 0
      },
      "text/plain": [
       "VBox(children=(HBox(children=(IntSlider(value=2016, continuous_update=False, description='Season: ', layout=La…"
      ]
     },
     "metadata": {},
     "output_type": "display_data"
    },
    {
     "name": "stdout",
     "output_type": "stream",
     "text": [
      "File already Exists, loading from ../ift6758/data/PICKLE//2016_clean.pkl\n",
      "num_teams 34\n",
      "                team.name  x_bin  y_bin  shots_average  excess_shots\n",
      "35597  New York Islanders   75.0   36.0       0.000745      0.000288\n",
      "File already Exists, loading from ../ift6758/data/PICKLE//2017_clean.pkl\n",
      "num_teams 35\n",
      "                team.name  x_bin  y_bin  shots_average  excess_shots\n",
      "36876  New York Islanders   75.0   36.0       0.000734     -0.001509\n",
      "File already Exists, loading from ../ift6758/data/PICKLE//2017_clean.pkl\n",
      "num_teams 35\n",
      "                 team.name  x_bin  y_bin  shots_average  excess_shots\n",
      "52729  Toronto Maple Leafs   75.0   36.0       0.000999     -0.001244\n"
     ]
    }
   ],
   "source": [
    "#CHOOSE GAME ID\n",
    "season_selector = IntSlider(\n",
    "    value=2016,\n",
    "    min=2016,\n",
    "    max=2020,\n",
    "    step=1,\n",
    "    description='Season: ',\n",
    "    continuous_update=False, #only reassign value when the slider stops moving\n",
    "    layout=Layout(width='50%')\n",
    ")\n",
    "\n",
    "#CHOOSE GAME TYPE\n",
    "team_selector = Dropdown(\n",
    "    options=team_list,\n",
    "    value='New Jersey Devils',\n",
    "    description='Number:',\n",
    "    disabled=False,\n",
    "    continuous_update=False,\n",
    "    layout=Layout(width='50%')\n",
    ")\n",
    "\n",
    "container = widgets.HBox(children=[season_selector, team_selector])\n",
    "\n",
    "##\n",
    "\n",
    "from random import randint\n",
    "import plotly.express as px\n",
    "import plotly.graph_objects as go\n",
    "from skimage import io\n",
    "\n",
    "#Z = np.random.uniform(-1,1,(85,100))\n",
    "#trace1 = go.Histogram(x=Z, opacity=0.75, name='Departure Delays')\n",
    "\n",
    "layout = go.Layout(title='Loading')\n",
    "\n",
    "img = io.imread(IMG_PATH)\n",
    "# figure = px.imshow(img,\n",
    "#                    extent=[],\n",
    "#                    #x=np.arange(-42.5,43.5),\n",
    "#                    #y=np.arange(-100,101),\n",
    "#                    aspect='auto',\n",
    "#                   )\n",
    "\n",
    "#     scaleanchor = \"x\",\n",
    "#     scaleratio = 1\n",
    "# )\n",
    "\n",
    "figure = go.Figure(layout_xaxis_range=[0,100],\n",
    "                  layout_yaxis_range=[0,85])\n",
    "\n",
    "figure.update_xaxes(showgrid=False)\n",
    "figure.update_yaxes(showgrid=False)\n",
    "\n",
    "figure.update_layout(\n",
    "    title=\"Choose a Team and/or a Season\",\n",
    "    xaxis_title=\"Distance from the Rink's Center Line (feet)\",\n",
    "    yaxis_title=\"Distance from the Rink's Bottom Edge (feet)\",\n",
    "    legend_title=\"Legend Title\",\n",
    "    font=dict(\n",
    "        size=10,\n",
    "        family='Arial, sans-serif'\n",
    "    ),\n",
    "    width=550,\n",
    "    height=467,\n",
    ")\n",
    "#img size: 550 x 467\n",
    "\n",
    "colorscale = [[0, 'darkblue'],[0.5,\"rgba(255, 255, 255, 1)\"], [1, 'maroon']]\n",
    "\n",
    "figure.add_trace (\n",
    "    go.Contour(\n",
    "        z=f,\n",
    "        # cmapk= 'magma',\n",
    "        colorscale=colorscale,\n",
    "        line_smoothing=1,\n",
    "        opacity=0.6,\n",
    "        connectgaps=True,\n",
    "        #colorbar setup\n",
    "        colorbar=dict(\n",
    "            title='Excess Shots per Hour', # title here\n",
    "            titleside='right',\n",
    "            titlefont=dict(\n",
    "                size=10,\n",
    "                family='Arial, sans-serif'),\n",
    "            #TICKS SETUP OF COLORBAR\n",
    "            nticks=10, ticks='outside',\n",
    "            ticklen=1, tickwidth=1,\n",
    "            showticklabels=True,\n",
    "            tickangle=0, tickfont_size=12\n",
    "        )\n",
    "    ))\n",
    "\n",
    "# Add images\n",
    "figure.add_layout_image(\n",
    "        dict(\n",
    "            source=IMG_PATH,\n",
    "            xref=\"x2 domain\",\n",
    "            yref=\"y2 domain\",\n",
    "            x=0,\n",
    "            y=1,\n",
    "            sizex=1,\n",
    "            sizey=1,\n",
    "            opacity=1,\n",
    "            sizing = \"stretch\",\n",
    "            layer=\"below\")\n",
    ")\n",
    "\n",
    "#figure.update_layout(template=\"plotly_white\")\n",
    "\n",
    "g = go.FigureWidget(figure)\n",
    "\n",
    "\n",
    "#LINK team to widget \n",
    "def update_fig(change):\n",
    "    \n",
    "    season = season_selector.value\n",
    "    team = team_selector.value\n",
    "    \n",
    "    title = team + '\\n' + \"Season: \" + str(season) + \"  Relative to League Average for the Season \"\n",
    "    \n",
    "    out1 = advanced_visualization(year=season,team_name=team,bin_width=1)\n",
    "    f = gaussian_filter(out1, sigma=2)\n",
    "\n",
    "    with g.batch_update():\n",
    "            #g.\n",
    "            g.data[0].z = f\n",
    "            #g.data[1].x = x2\n",
    "            g.layout.title = title\n",
    "            #g.layout.xaxis.title = 'Delay in Minutes'\n",
    "            #g.layout.yaxis.title = 'Number of Delays'\n",
    "            \n",
    "season_selector.observe(update_fig, 'value')\n",
    "team_selector.observe(update_fig, 'value')\n",
    "\n",
    "widgets.VBox([container,\n",
    "              g])"
   ]
  },
  {
   "cell_type": "code",
   "execution_count": null,
   "metadata": {},
   "outputs": [],
   "source": []
  }
 ],
 "metadata": {
  "interpreter": {
   "hash": "fe0e4489f2919cda2ef5940e6c22f887a5b71570af9d1a74ba05de65e7f388ec"
  },
  "kernelspec": {
   "display_name": "Python 3 (ipykernel)",
   "language": "python",
   "name": "python3"
  },
  "language_info": {
   "codemirror_mode": {
    "name": "ipython",
    "version": 3
   },
   "file_extension": ".py",
   "mimetype": "text/x-python",
   "name": "python",
   "nbconvert_exporter": "python",
   "pygments_lexer": "ipython3",
   "version": "3.9.7"
  },
  "widgets": {
   "application/vnd.jupyter.widget-state+json": {
    "state": {
     "004d4ecc76c049c98b550aecf776b806": {
      "model_module": "@jupyter-widgets/base",
      "model_module_version": "1.2.0",
      "model_name": "LayoutModel",
      "state": {}
     },
     "013604df40644bc39d905119c336a0ca": {
      "model_module": "@jupyter-widgets/output",
      "model_module_version": "1.0.0",
      "model_name": "OutputModel",
      "state": {
       "layout": "IPY_MODEL_704e005bf7f14b7195f77d63114f0cb8"
      }
     },
     "03fa744c57594dbfae3c2ab1bb516c17": {
      "model_module": "@jupyter-widgets/base",
      "model_module_version": "1.2.0",
      "model_name": "LayoutModel",
      "state": {}
     },
     "065fbc6bebcb49fbb87deaff31c53ff6": {
      "model_module": "@jupyter-widgets/base",
      "model_module_version": "1.2.0",
      "model_name": "LayoutModel",
      "state": {
       "width": "50%"
      }
     },
     "092b8b27abb14cf6aa80c91872ef95d6": {
      "model_module": "@jupyter-widgets/output",
      "model_module_version": "1.0.0",
      "model_name": "OutputModel",
      "state": {
       "layout": "IPY_MODEL_bbc2dbc8474c461d8a6e85b87f092c2d"
      }
     },
     "0ec41edd9609489eb371f39464134557": {
      "model_module": "@jupyter-widgets/output",
      "model_module_version": "1.0.0",
      "model_name": "OutputModel",
      "state": {
       "layout": "IPY_MODEL_faa02d8824a6447394b7a0b58aa3ab30"
      }
     },
     "1061a071837c43a88b74a65767c1f3b9": {
      "model_module": "@jupyter-widgets/controls",
      "model_module_version": "1.5.0",
      "model_name": "DescriptionStyleModel",
      "state": {
       "description_width": ""
      }
     },
     "1e7a04f688ba436d8d68c1d819f3989f": {
      "model_module": "@jupyter-widgets/controls",
      "model_module_version": "1.5.0",
      "model_name": "SliderStyleModel",
      "state": {
       "description_width": ""
      }
     },
     "22cf208dbfce4863b72d3d9a62e18650": {
      "model_module": "@jupyter-widgets/output",
      "model_module_version": "1.0.0",
      "model_name": "OutputModel",
      "state": {
       "layout": "IPY_MODEL_9ed3ff22f2cb4a98826fe9043fd67afe"
      }
     },
     "28e766823e8741928f4ffbb1725244b4": {
      "model_module": "@jupyter-widgets/controls",
      "model_module_version": "1.5.0",
      "model_name": "DropdownModel",
      "state": {
       "_options_labels": [
        "New Jersey Devils",
        "New York Islanders",
        "New York Rangers",
        "Philadelphia Flyers",
        "Pittsburgh Penguins",
        "Boston Bruins",
        "Buffalo Sabres",
        "Montréal Canadiens",
        "Ottawa Senators",
        "Toronto Maple Leafs",
        "Carolina Hurricanes",
        "Florida Panthers",
        "Tampa Bay Lightning",
        "Washington Capitals",
        "Chicago Blackhawks",
        "Detroit Red Wings",
        "Nashville Predators",
        "St. Louis Blues",
        "Calgary Flames",
        "Colorado Avalanche",
        "Edmonton Oilers",
        "Vancouver Canucks",
        "Anaheim Ducks",
        "Dallas Stars",
        "Los Angeles Kings",
        "San Jose Sharks",
        "Columbus Blue Jackets",
        "Minnesota Wild",
        "Winnipeg Jets",
        "Arizona Coyotes",
        "Vegas Golden Knights",
        "Seattle Kraken"
       ],
       "description": "Number:",
       "index": 16,
       "layout": "IPY_MODEL_875eb4fb63fb4ee8965d9d9d2b249cd3",
       "style": "IPY_MODEL_627cd524009c4a738d706a5dba7be057"
      }
     },
     "29f4d09c0f99492d8ff458eb51dda436": {
      "model_module": "@jupyter-widgets/output",
      "model_module_version": "1.0.0",
      "model_name": "OutputModel",
      "state": {
       "layout": "IPY_MODEL_830c40391d724217b5c745d71fab0208"
      }
     },
     "2af01153ad5541498be728ca5623d7fb": {
      "model_module": "@jupyter-widgets/base",
      "model_module_version": "1.2.0",
      "model_name": "LayoutModel",
      "state": {}
     },
     "30b98b79a93a49a8957f9e1665a435ba": {
      "model_module": "@jupyter-widgets/base",
      "model_module_version": "1.2.0",
      "model_name": "LayoutModel",
      "state": {}
     },
     "32efef19f52d43659f8513ee503f24a4": {
      "model_module": "@jupyter-widgets/controls",
      "model_module_version": "1.5.0",
      "model_name": "SliderStyleModel",
      "state": {
       "description_width": ""
      }
     },
     "3aade3ac39c446ed9aa2a20fa5ac9740": {
      "model_module": "@jupyter-widgets/controls",
      "model_module_version": "1.5.0",
      "model_name": "SliderStyleModel",
      "state": {
       "description_width": ""
      }
     },
     "3e62975dd274444cb85d0770cb6107ce": {
      "model_module": "@jupyter-widgets/output",
      "model_module_version": "1.0.0",
      "model_name": "OutputModel",
      "state": {
       "layout": "IPY_MODEL_f93e6904d55d45aeba2ff43c3724b989"
      }
     },
     "406e412b7cdc46a18d039b52e2b8b9ef": {
      "model_module": "@jupyter-widgets/controls",
      "model_module_version": "1.5.0",
      "model_name": "DropdownModel",
      "state": {
       "_options_labels": [
        "New Jersey Devils",
        "New York Islanders",
        "New York Rangers",
        "Philadelphia Flyers",
        "Pittsburgh Penguins",
        "Boston Bruins",
        "Buffalo Sabres",
        "Montréal Canadiens",
        "Ottawa Senators",
        "Toronto Maple Leafs",
        "Carolina Hurricanes",
        "Florida Panthers",
        "Tampa Bay Lightning",
        "Washington Capitals",
        "Chicago Blackhawks",
        "Detroit Red Wings",
        "Nashville Predators",
        "St. Louis Blues",
        "Calgary Flames",
        "Colorado Avalanche",
        "Edmonton Oilers",
        "Vancouver Canucks",
        "Anaheim Ducks",
        "Dallas Stars",
        "Los Angeles Kings",
        "San Jose Sharks",
        "Columbus Blue Jackets",
        "Minnesota Wild",
        "Winnipeg Jets",
        "Arizona Coyotes",
        "Vegas Golden Knights",
        "Seattle Kraken"
       ],
       "description": "Number:",
       "index": 15,
       "layout": "IPY_MODEL_7d1b5c00bb624a40a5630a45b142fa9f",
       "style": "IPY_MODEL_1061a071837c43a88b74a65767c1f3b9"
      }
     },
     "415b101603344f4289e77b820676e764": {
      "model_module": "@jupyter-widgets/output",
      "model_module_version": "1.0.0",
      "model_name": "OutputModel",
      "state": {
       "layout": "IPY_MODEL_57799b64f0a644b9b37175c37fc27600"
      }
     },
     "433ecefa930743b1b82da902406ab7ab": {
      "model_module": "@jupyter-widgets/controls",
      "model_module_version": "1.5.0",
      "model_name": "IntSliderModel",
      "state": {
       "continuous_update": false,
       "description": "Season: ",
       "layout": "IPY_MODEL_065fbc6bebcb49fbb87deaff31c53ff6",
       "max": 2020,
       "min": 2016,
       "style": "IPY_MODEL_32efef19f52d43659f8513ee503f24a4",
       "value": 2016
      }
     },
     "452440ae86124690aea682b0f6460c16": {
      "model_module": "@jupyter-widgets/base",
      "model_module_version": "1.2.0",
      "model_name": "LayoutModel",
      "state": {
       "width": "35%"
      }
     },
     "48d30d7902e64d099568ce393083807c": {
      "model_module": "@jupyter-widgets/output",
      "model_module_version": "1.0.0",
      "model_name": "OutputModel",
      "state": {
       "layout": "IPY_MODEL_ec896e29ccca481196d606c7a6fd0dad"
      }
     },
     "4d90dffbb2e548edbc1e4ac2e3b9222b": {
      "model_module": "@jupyter-widgets/controls",
      "model_module_version": "1.5.0",
      "model_name": "DropdownModel",
      "state": {
       "_options_labels": [
        "New Jersey Devils",
        "New York Islanders",
        "New York Rangers",
        "Philadelphia Flyers",
        "Pittsburgh Penguins",
        "Boston Bruins",
        "Buffalo Sabres",
        "Montréal Canadiens",
        "Ottawa Senators",
        "Toronto Maple Leafs",
        "Carolina Hurricanes",
        "Florida Panthers",
        "Tampa Bay Lightning",
        "Washington Capitals",
        "Chicago Blackhawks",
        "Detroit Red Wings",
        "Nashville Predators",
        "St. Louis Blues",
        "Calgary Flames",
        "Colorado Avalanche",
        "Edmonton Oilers",
        "Vancouver Canucks",
        "Anaheim Ducks",
        "Dallas Stars",
        "Los Angeles Kings",
        "San Jose Sharks",
        "Columbus Blue Jackets",
        "Minnesota Wild",
        "Winnipeg Jets",
        "Arizona Coyotes",
        "Vegas Golden Knights",
        "Seattle Kraken"
       ],
       "description": "Number:",
       "index": 15,
       "layout": "IPY_MODEL_6e9026af12ea4746a2fd47b11ec0c9f6",
       "style": "IPY_MODEL_d92c59d7510945c49a9c6ec66d3326d5"
      }
     },
     "508f0ef7fe144c898169fd22e4608c62": {
      "model_module": "@jupyter-widgets/base",
      "model_module_version": "1.2.0",
      "model_name": "LayoutModel",
      "state": {
       "width": "50%"
      }
     },
     "55978844b9b244039ed4f3a1eb91ad6c": {
      "model_module": "@jupyter-widgets/base",
      "model_module_version": "1.2.0",
      "model_name": "LayoutModel",
      "state": {}
     },
     "56037f5ca44d4409847489036bc50855": {
      "model_module": "@jupyter-widgets/controls",
      "model_module_version": "1.5.0",
      "model_name": "SliderStyleModel",
      "state": {
       "description_width": ""
      }
     },
     "57799b64f0a644b9b37175c37fc27600": {
      "model_module": "@jupyter-widgets/base",
      "model_module_version": "1.2.0",
      "model_name": "LayoutModel",
      "state": {}
     },
     "59a98ab3b95b46c897369941cbb43b8a": {
      "model_module": "@jupyter-widgets/controls",
      "model_module_version": "1.5.0",
      "model_name": "HBoxModel",
      "state": {
       "children": [
        "IPY_MODEL_77932f882e5146cf906639b1628a176e",
        "IPY_MODEL_aff78e40cd9e42e3ba1137669ad5f037"
       ],
       "layout": "IPY_MODEL_2af01153ad5541498be728ca5623d7fb"
      }
     },
     "627cd524009c4a738d706a5dba7be057": {
      "model_module": "@jupyter-widgets/controls",
      "model_module_version": "1.5.0",
      "model_name": "DescriptionStyleModel",
      "state": {
       "description_width": ""
      }
     },
     "6b238712946541bb93c469db05fa81d1": {
      "model_module": "@jupyter-widgets/base",
      "model_module_version": "1.2.0",
      "model_name": "LayoutModel",
      "state": {
       "width": "50%"
      }
     },
     "6d0d6afe3ac64e2ba54561938cc9b3f7": {
      "model_module": "@jupyter-widgets/output",
      "model_module_version": "1.0.0",
      "model_name": "OutputModel",
      "state": {
       "layout": "IPY_MODEL_55978844b9b244039ed4f3a1eb91ad6c"
      }
     },
     "6e9026af12ea4746a2fd47b11ec0c9f6": {
      "model_module": "@jupyter-widgets/base",
      "model_module_version": "1.2.0",
      "model_name": "LayoutModel",
      "state": {
       "width": "50%"
      }
     },
     "704e005bf7f14b7195f77d63114f0cb8": {
      "model_module": "@jupyter-widgets/base",
      "model_module_version": "1.2.0",
      "model_name": "LayoutModel",
      "state": {}
     },
     "708a197c319c4fe2884a1a1d7f04954b": {
      "model_module": "@jupyter-widgets/controls",
      "model_module_version": "1.5.0",
      "model_name": "HBoxModel",
      "state": {
       "children": [
        "IPY_MODEL_d391012a63d7492e998422ea8cf71cde",
        "IPY_MODEL_28e766823e8741928f4ffbb1725244b4"
       ],
       "layout": "IPY_MODEL_d783646e80184b82be802dd2109dc74e"
      }
     },
     "70c3950fcc29497cadcb10f075b7f3ed": {
      "model_module": "@jupyter-widgets/output",
      "model_module_version": "1.0.0",
      "model_name": "OutputModel",
      "state": {
       "layout": "IPY_MODEL_9a93feb79f52471181b50c3c814dbb22"
      }
     },
     "77932f882e5146cf906639b1628a176e": {
      "model_module": "@jupyter-widgets/controls",
      "model_module_version": "1.5.0",
      "model_name": "IntSliderModel",
      "state": {
       "continuous_update": false,
       "description": "Season: ",
       "layout": "IPY_MODEL_c3ef032ac6b347e796127b8c42314042",
       "max": 2020,
       "min": 2016,
       "style": "IPY_MODEL_3aade3ac39c446ed9aa2a20fa5ac9740",
       "value": 2018
      }
     },
     "7d1b5c00bb624a40a5630a45b142fa9f": {
      "model_module": "@jupyter-widgets/base",
      "model_module_version": "1.2.0",
      "model_name": "LayoutModel",
      "state": {
       "width": "50%"
      }
     },
     "830c40391d724217b5c745d71fab0208": {
      "model_module": "@jupyter-widgets/base",
      "model_module_version": "1.2.0",
      "model_name": "LayoutModel",
      "state": {}
     },
     "847335de082f4634965c09bac91d5ec8": {
      "model_module": "@jupyter-widgets/base",
      "model_module_version": "1.2.0",
      "model_name": "LayoutModel",
      "state": {
       "width": "50%"
      }
     },
     "875eb4fb63fb4ee8965d9d9d2b249cd3": {
      "model_module": "@jupyter-widgets/base",
      "model_module_version": "1.2.0",
      "model_name": "LayoutModel",
      "state": {
       "width": "50%"
      }
     },
     "8a33802bd3314a27936af94c0a21629a": {
      "model_module": "@jupyter-widgets/output",
      "model_module_version": "1.0.0",
      "model_name": "OutputModel",
      "state": {
       "layout": "IPY_MODEL_004d4ecc76c049c98b550aecf776b806"
      }
     },
     "95b56a8b21d144b8b85037229e2ca325": {
      "model_module": "@jupyter-widgets/controls",
      "model_module_version": "1.5.0",
      "model_name": "HBoxModel",
      "state": {
       "children": [
        "IPY_MODEL_ce32b409b1f54845aa81fb476487dfb2",
        "IPY_MODEL_406e412b7cdc46a18d039b52e2b8b9ef"
       ],
       "layout": "IPY_MODEL_db6190f5c5b24efdabe8df3404067043"
      }
     },
     "9682221000ae44dcb348d495166ac1a0": {
      "model_module": "@jupyter-widgets/base",
      "model_module_version": "1.2.0",
      "model_name": "LayoutModel",
      "state": {}
     },
     "9a93feb79f52471181b50c3c814dbb22": {
      "model_module": "@jupyter-widgets/base",
      "model_module_version": "1.2.0",
      "model_name": "LayoutModel",
      "state": {}
     },
     "9ed3ff22f2cb4a98826fe9043fd67afe": {
      "model_module": "@jupyter-widgets/base",
      "model_module_version": "1.2.0",
      "model_name": "LayoutModel",
      "state": {}
     },
     "a45ba845a3b44c7c9c5b163ab0e666dd": {
      "model_module": "@jupyter-widgets/base",
      "model_module_version": "1.2.0",
      "model_name": "LayoutModel",
      "state": {}
     },
     "aff78e40cd9e42e3ba1137669ad5f037": {
      "model_module": "@jupyter-widgets/controls",
      "model_module_version": "1.5.0",
      "model_name": "DropdownModel",
      "state": {
       "_options_labels": [
        "New Jersey Devils",
        "New York Islanders",
        "New York Rangers",
        "Philadelphia Flyers",
        "Pittsburgh Penguins",
        "Boston Bruins",
        "Buffalo Sabres",
        "Montréal Canadiens",
        "Ottawa Senators",
        "Toronto Maple Leafs",
        "Carolina Hurricanes",
        "Florida Panthers",
        "Tampa Bay Lightning",
        "Washington Capitals",
        "Chicago Blackhawks",
        "Detroit Red Wings",
        "Nashville Predators",
        "St. Louis Blues",
        "Calgary Flames",
        "Colorado Avalanche",
        "Edmonton Oilers",
        "Vancouver Canucks",
        "Anaheim Ducks",
        "Dallas Stars",
        "Los Angeles Kings",
        "San Jose Sharks",
        "Columbus Blue Jackets",
        "Minnesota Wild",
        "Winnipeg Jets",
        "Arizona Coyotes",
        "Vegas Golden Knights",
        "Seattle Kraken"
       ],
       "description": "Number:",
       "index": 15,
       "layout": "IPY_MODEL_452440ae86124690aea682b0f6460c16",
       "style": "IPY_MODEL_b53f2a06e9fe422bb4445a74e69e7e51"
      }
     },
     "b53f2a06e9fe422bb4445a74e69e7e51": {
      "model_module": "@jupyter-widgets/controls",
      "model_module_version": "1.5.0",
      "model_name": "DescriptionStyleModel",
      "state": {
       "description_width": ""
      }
     },
     "b6150f6adff040a986db6fda3eeebab7": {
      "model_module": "@jupyter-widgets/output",
      "model_module_version": "1.0.0",
      "model_name": "OutputModel",
      "state": {
       "layout": "IPY_MODEL_30b98b79a93a49a8957f9e1665a435ba"
      }
     },
     "bbc2dbc8474c461d8a6e85b87f092c2d": {
      "model_module": "@jupyter-widgets/base",
      "model_module_version": "1.2.0",
      "model_name": "LayoutModel",
      "state": {}
     },
     "bbf5c2d7361945fba76cb705b21f11c3": {
      "model_module": "@jupyter-widgets/output",
      "model_module_version": "1.0.0",
      "model_name": "OutputModel",
      "state": {
       "layout": "IPY_MODEL_9682221000ae44dcb348d495166ac1a0"
      }
     },
     "bcd0771662f644ab8f25e57255327736": {
      "model_module": "@jupyter-widgets/output",
      "model_module_version": "1.0.0",
      "model_name": "OutputModel",
      "state": {
       "layout": "IPY_MODEL_03fa744c57594dbfae3c2ab1bb516c17"
      }
     },
     "be862b32a36743f2b56f42bdfc63bc2f": {
      "model_module": "@jupyter-widgets/output",
      "model_module_version": "1.0.0",
      "model_name": "OutputModel",
      "state": {
       "layout": "IPY_MODEL_a45ba845a3b44c7c9c5b163ab0e666dd"
      }
     },
     "c1a036f38fd34fe0886efe0ff077339e": {
      "model_module": "@jupyter-widgets/output",
      "model_module_version": "1.0.0",
      "model_name": "OutputModel",
      "state": {
       "layout": "IPY_MODEL_e62f5f2d762549c68bef85387c3e5f31"
      }
     },
     "c3ef032ac6b347e796127b8c42314042": {
      "model_module": "@jupyter-widgets/base",
      "model_module_version": "1.2.0",
      "model_name": "LayoutModel",
      "state": {
       "width": "35%"
      }
     },
     "c4dfea149b7847e0b51de4d8a3b94f55": {
      "model_module": "@jupyter-widgets/controls",
      "model_module_version": "1.5.0",
      "model_name": "DropdownModel",
      "state": {
       "_options_labels": [
        "New Jersey Devils",
        "New York Islanders",
        "New York Rangers",
        "Philadelphia Flyers",
        "Pittsburgh Penguins",
        "Boston Bruins",
        "Buffalo Sabres",
        "Montréal Canadiens",
        "Ottawa Senators",
        "Toronto Maple Leafs",
        "Carolina Hurricanes",
        "Florida Panthers",
        "Tampa Bay Lightning",
        "Washington Capitals",
        "Chicago Blackhawks",
        "Detroit Red Wings",
        "Nashville Predators",
        "St. Louis Blues",
        "Calgary Flames",
        "Colorado Avalanche",
        "Edmonton Oilers",
        "Vancouver Canucks",
        "Anaheim Ducks",
        "Dallas Stars",
        "Los Angeles Kings",
        "San Jose Sharks",
        "Columbus Blue Jackets",
        "Minnesota Wild",
        "Winnipeg Jets",
        "Arizona Coyotes",
        "Vegas Golden Knights",
        "Seattle Kraken"
       ],
       "description": "Number:",
       "index": 0,
       "layout": "IPY_MODEL_c68fda58ee1149c6b1b87e068254366b",
       "style": "IPY_MODEL_da59787e8b3f400fb000189ab133f22f"
      }
     },
     "c68fda58ee1149c6b1b87e068254366b": {
      "model_module": "@jupyter-widgets/base",
      "model_module_version": "1.2.0",
      "model_name": "LayoutModel",
      "state": {
       "width": "50%"
      }
     },
     "ce32b409b1f54845aa81fb476487dfb2": {
      "model_module": "@jupyter-widgets/controls",
      "model_module_version": "1.5.0",
      "model_name": "IntSliderModel",
      "state": {
       "continuous_update": false,
       "description": "Season: ",
       "layout": "IPY_MODEL_6b238712946541bb93c469db05fa81d1",
       "max": 2020,
       "min": 2016,
       "style": "IPY_MODEL_1e7a04f688ba436d8d68c1d819f3989f",
       "value": 2016
      }
     },
     "d1bc4c4ab74d456ab145d7ac20050252": {
      "model_module": "@jupyter-widgets/base",
      "model_module_version": "1.2.0",
      "model_name": "LayoutModel",
      "state": {}
     },
     "d391012a63d7492e998422ea8cf71cde": {
      "model_module": "@jupyter-widgets/controls",
      "model_module_version": "1.5.0",
      "model_name": "IntSliderModel",
      "state": {
       "continuous_update": false,
       "description": "Season: ",
       "layout": "IPY_MODEL_508f0ef7fe144c898169fd22e4608c62",
       "max": 2020,
       "min": 2016,
       "style": "IPY_MODEL_56037f5ca44d4409847489036bc50855",
       "value": 2016
      }
     },
     "d76dcad50c88419491b9233cdfcc1dd1": {
      "model_module": "@jupyter-widgets/controls",
      "model_module_version": "1.5.0",
      "model_name": "IntSliderModel",
      "state": {
       "continuous_update": false,
       "description": "Season: ",
       "layout": "IPY_MODEL_847335de082f4634965c09bac91d5ec8",
       "max": 2020,
       "min": 2016,
       "style": "IPY_MODEL_f936f0ca49034540b021505e58d183cf",
       "value": 2016
      }
     },
     "d783646e80184b82be802dd2109dc74e": {
      "model_module": "@jupyter-widgets/base",
      "model_module_version": "1.2.0",
      "model_name": "LayoutModel",
      "state": {}
     },
     "d92c59d7510945c49a9c6ec66d3326d5": {
      "model_module": "@jupyter-widgets/controls",
      "model_module_version": "1.5.0",
      "model_name": "DescriptionStyleModel",
      "state": {
       "description_width": ""
      }
     },
     "da59787e8b3f400fb000189ab133f22f": {
      "model_module": "@jupyter-widgets/controls",
      "model_module_version": "1.5.0",
      "model_name": "DescriptionStyleModel",
      "state": {
       "description_width": ""
      }
     },
     "db6190f5c5b24efdabe8df3404067043": {
      "model_module": "@jupyter-widgets/base",
      "model_module_version": "1.2.0",
      "model_name": "LayoutModel",
      "state": {}
     },
     "e62f5f2d762549c68bef85387c3e5f31": {
      "model_module": "@jupyter-widgets/base",
      "model_module_version": "1.2.0",
      "model_name": "LayoutModel",
      "state": {}
     },
     "e91759c5292e4b7f892a1ac260a01f5a": {
      "model_module": "@jupyter-widgets/base",
      "model_module_version": "1.2.0",
      "model_name": "LayoutModel",
      "state": {}
     },
     "ec896e29ccca481196d606c7a6fd0dad": {
      "model_module": "@jupyter-widgets/base",
      "model_module_version": "1.2.0",
      "model_name": "LayoutModel",
      "state": {}
     },
     "f2a925d310de4de888498d57d8aac2a2": {
      "model_module": "@jupyter-widgets/output",
      "model_module_version": "1.0.0",
      "model_name": "OutputModel",
      "state": {
       "layout": "IPY_MODEL_e91759c5292e4b7f892a1ac260a01f5a"
      }
     },
     "f730ed31aa2c464a9313478581bd92f9": {
      "model_module": "@jupyter-widgets/output",
      "model_module_version": "1.0.0",
      "model_name": "OutputModel",
      "state": {
       "layout": "IPY_MODEL_d1bc4c4ab74d456ab145d7ac20050252"
      }
     },
     "f936f0ca49034540b021505e58d183cf": {
      "model_module": "@jupyter-widgets/controls",
      "model_module_version": "1.5.0",
      "model_name": "SliderStyleModel",
      "state": {
       "description_width": ""
      }
     },
     "f93e6904d55d45aeba2ff43c3724b989": {
      "model_module": "@jupyter-widgets/base",
      "model_module_version": "1.2.0",
      "model_name": "LayoutModel",
      "state": {}
     },
     "faa02d8824a6447394b7a0b58aa3ab30": {
      "model_module": "@jupyter-widgets/base",
      "model_module_version": "1.2.0",
      "model_name": "LayoutModel",
      "state": {}
     }
    },
    "version_major": 2,
    "version_minor": 0
   }
  }
 },
 "nbformat": 4,
 "nbformat_minor": 4
}
