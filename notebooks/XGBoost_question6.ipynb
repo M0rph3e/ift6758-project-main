{
 "cells": [
  {
   "cell_type": "code",
   "execution_count": 1,
   "metadata": {},
   "outputs": [],
   "source": [
    "%load_ext autoreload\n",
    "%autoreload 2"
   ]
  },
  {
   "cell_type": "code",
   "execution_count": 2,
   "metadata": {},
   "outputs": [],
   "source": [
    "#import comet_ml in the top of your file\n",
    "from comet_ml import Experiment\n",
    "import os\n",
    "import matplotlib.pyplot as plt\n",
    "import joblib\n",
    "from copy import deepcopy\n",
    "import numpy as np\n",
    "from sklearn.feature_selection import RFECV\n",
    "\n",
    "from sklearn.model_selection import train_test_split, GridSearchCV\n",
    "from sklearn.preprocessing import StandardScaler\n",
    "from skopt import BayesSearchCV\n",
    "from sklearn import feature_selection\n",
    "from sklearn.metrics import f1_score, precision_score, recall_score, confusion_matrix\n",
    "import xgboost as xgb\n",
    "import pandas as pd\n",
    "from ift6758.features.feature_engineering2 import SeasonDataSetTwo\n",
    "from ift6758.metrics import plot_metrics\n",
    "import random\n",
    "random_state = 42\n",
    "import tempfile\n"
   ]
  },
  {
   "cell_type": "code",
   "execution_count": 3,
   "metadata": {},
   "outputs": [
    {
     "name": "stderr",
     "output_type": "stream",
     "text": [
      "COMET WARNING: As you are running in a Jupyter environment, you will need to call `experiment.end()` when finished to ensure all metrics and code are logged before exiting.\n",
      "COMET INFO: Experiment is live on comet.ml https://www.comet.ml/morph-e/milestone-2/c8ebe3904da1468ea9e239c6b86569c8\n",
      "\n"
     ]
    }
   ],
   "source": [
    "# Import comet_ml at the top of your file, before sklearn!\n",
    "from comet_ml import Experiment\n",
    "import os \n",
    "COMET=1\n",
    "# Create an experiment with your api key\n",
    "if COMET:\n",
    "    comet_exp = Experiment(\n",
    "        api_key=os.environ.get('COMET_API_KEY'),  # don’t hardcode!!\n",
    "        project_name=\"milestone_2\",\n",
    "        workspace=\"morph-e\",\n",
    "        log_code=True,\n",
    "    )"
   ]
  },
  {
   "cell_type": "code",
   "execution_count": 4,
   "metadata": {},
   "outputs": [
    {
     "name": "stdout",
     "output_type": "stream",
     "text": [
      "File already Exists, loading from ../ift6758/data/PICKLE//2015_2016_2017_2018_features2.pkl\n"
     ]
    }
   ],
   "source": [
    "### Script to get the DataFrame and Split the data into train and test set for FE1\n",
    "years = [2015,2016,2017,2018]\n",
    "dataset = SeasonDataSetTwo(years)\n",
    "df_total = dataset.get_features_2()\n",
    "df = df_total[df_total['gamePk'].astype(str).str[5]=='2'].reset_index(drop=True)##Filtering only for regular dataframe"
   ]
  },
  {
   "cell_type": "code",
   "execution_count": 5,
   "metadata": {},
   "outputs": [
    {
     "data": {
      "text/html": [
       "<div>\n",
       "<style scoped>\n",
       "    .dataframe tbody tr th:only-of-type {\n",
       "        vertical-align: middle;\n",
       "    }\n",
       "\n",
       "    .dataframe tbody tr th {\n",
       "        vertical-align: top;\n",
       "    }\n",
       "\n",
       "    .dataframe thead th {\n",
       "        text-align: right;\n",
       "    }\n",
       "</style>\n",
       "<table border=\"1\" class=\"dataframe\">\n",
       "  <thead>\n",
       "    <tr style=\"text-align: right;\">\n",
       "      <th></th>\n",
       "      <th>gamePk</th>\n",
       "      <th>team.name</th>\n",
       "      <th>gamePeriod</th>\n",
       "      <th>coordinatesX</th>\n",
       "      <th>coordinatesY</th>\n",
       "      <th>shotType</th>\n",
       "      <th>emptyNet</th>\n",
       "      <th>isHome</th>\n",
       "      <th>gameSeconds</th>\n",
       "      <th>totalGameSeconds</th>\n",
       "      <th>...</th>\n",
       "      <th>lastEventType</th>\n",
       "      <th>lastEventCoordinatesX</th>\n",
       "      <th>lastEventCoordinatesY</th>\n",
       "      <th>timeFromLastEvent</th>\n",
       "      <th>distanceFromLastEvent</th>\n",
       "      <th>rebound</th>\n",
       "      <th>speed</th>\n",
       "      <th>changeInShotAngle</th>\n",
       "      <th>angleSpeed</th>\n",
       "      <th>Year</th>\n",
       "    </tr>\n",
       "  </thead>\n",
       "  <tbody>\n",
       "    <tr>\n",
       "      <th>0</th>\n",
       "      <td>2015020001</td>\n",
       "      <td>Toronto Maple Leafs</td>\n",
       "      <td>1</td>\n",
       "      <td>-55.0</td>\n",
       "      <td>6.0</td>\n",
       "      <td>Wrist Shot</td>\n",
       "      <td>0</td>\n",
       "      <td>True</td>\n",
       "      <td>51.0</td>\n",
       "      <td>51.0</td>\n",
       "      <td>...</td>\n",
       "      <td>Hit</td>\n",
       "      <td>94.0</td>\n",
       "      <td>-34.0</td>\n",
       "      <td>11.0</td>\n",
       "      <td>154.275727</td>\n",
       "      <td>False</td>\n",
       "      <td>14.025066</td>\n",
       "      <td>0.000000</td>\n",
       "      <td>0.000000</td>\n",
       "      <td>2015</td>\n",
       "    </tr>\n",
       "    <tr>\n",
       "      <th>1</th>\n",
       "      <td>2015020001</td>\n",
       "      <td>Toronto Maple Leafs</td>\n",
       "      <td>1</td>\n",
       "      <td>-79.0</td>\n",
       "      <td>0.0</td>\n",
       "      <td>Snap Shot</td>\n",
       "      <td>0</td>\n",
       "      <td>True</td>\n",
       "      <td>65.0</td>\n",
       "      <td>65.0</td>\n",
       "      <td>...</td>\n",
       "      <td>Giveaway</td>\n",
       "      <td>-37.0</td>\n",
       "      <td>-28.0</td>\n",
       "      <td>7.0</td>\n",
       "      <td>50.477718</td>\n",
       "      <td>False</td>\n",
       "      <td>7.211103</td>\n",
       "      <td>0.000000</td>\n",
       "      <td>0.000000</td>\n",
       "      <td>2015</td>\n",
       "    </tr>\n",
       "    <tr>\n",
       "      <th>2</th>\n",
       "      <td>2015020001</td>\n",
       "      <td>Toronto Maple Leafs</td>\n",
       "      <td>1</td>\n",
       "      <td>-75.0</td>\n",
       "      <td>-1.0</td>\n",
       "      <td>Snap Shot</td>\n",
       "      <td>0</td>\n",
       "      <td>True</td>\n",
       "      <td>66.0</td>\n",
       "      <td>66.0</td>\n",
       "      <td>...</td>\n",
       "      <td>Shot</td>\n",
       "      <td>-79.0</td>\n",
       "      <td>0.0</td>\n",
       "      <td>1.0</td>\n",
       "      <td>4.123106</td>\n",
       "      <td>True</td>\n",
       "      <td>4.123106</td>\n",
       "      <td>4.085617</td>\n",
       "      <td>4.085617</td>\n",
       "      <td>2015</td>\n",
       "    </tr>\n",
       "    <tr>\n",
       "      <th>3</th>\n",
       "      <td>2015020001</td>\n",
       "      <td>Toronto Maple Leafs</td>\n",
       "      <td>1</td>\n",
       "      <td>-55.0</td>\n",
       "      <td>-36.0</td>\n",
       "      <td>Wrist Shot</td>\n",
       "      <td>0</td>\n",
       "      <td>True</td>\n",
       "      <td>113.0</td>\n",
       "      <td>113.0</td>\n",
       "      <td>...</td>\n",
       "      <td>Hit</td>\n",
       "      <td>-91.0</td>\n",
       "      <td>35.0</td>\n",
       "      <td>18.0</td>\n",
       "      <td>79.605276</td>\n",
       "      <td>False</td>\n",
       "      <td>4.422515</td>\n",
       "      <td>0.000000</td>\n",
       "      <td>0.000000</td>\n",
       "      <td>2015</td>\n",
       "    </tr>\n",
       "    <tr>\n",
       "      <th>4</th>\n",
       "      <td>2015020001</td>\n",
       "      <td>Toronto Maple Leafs</td>\n",
       "      <td>1</td>\n",
       "      <td>-61.0</td>\n",
       "      <td>-1.0</td>\n",
       "      <td>Tip-In</td>\n",
       "      <td>0</td>\n",
       "      <td>True</td>\n",
       "      <td>157.0</td>\n",
       "      <td>157.0</td>\n",
       "      <td>...</td>\n",
       "      <td>Faceoff</td>\n",
       "      <td>-69.0</td>\n",
       "      <td>-22.0</td>\n",
       "      <td>5.0</td>\n",
       "      <td>22.472205</td>\n",
       "      <td>False</td>\n",
       "      <td>4.494441</td>\n",
       "      <td>0.000000</td>\n",
       "      <td>0.000000</td>\n",
       "      <td>2015</td>\n",
       "    </tr>\n",
       "    <tr>\n",
       "      <th>...</th>\n",
       "      <td>...</td>\n",
       "      <td>...</td>\n",
       "      <td>...</td>\n",
       "      <td>...</td>\n",
       "      <td>...</td>\n",
       "      <td>...</td>\n",
       "      <td>...</td>\n",
       "      <td>...</td>\n",
       "      <td>...</td>\n",
       "      <td>...</td>\n",
       "      <td>...</td>\n",
       "      <td>...</td>\n",
       "      <td>...</td>\n",
       "      <td>...</td>\n",
       "      <td>...</td>\n",
       "      <td>...</td>\n",
       "      <td>...</td>\n",
       "      <td>...</td>\n",
       "      <td>...</td>\n",
       "      <td>...</td>\n",
       "      <td>...</td>\n",
       "    </tr>\n",
       "    <tr>\n",
       "      <th>311101</th>\n",
       "      <td>2018021271</td>\n",
       "      <td>San Jose Sharks</td>\n",
       "      <td>3</td>\n",
       "      <td>67.0</td>\n",
       "      <td>-19.0</td>\n",
       "      <td>Slap Shot</td>\n",
       "      <td>0</td>\n",
       "      <td>True</td>\n",
       "      <td>937.0</td>\n",
       "      <td>3337.0</td>\n",
       "      <td>...</td>\n",
       "      <td>Giveaway</td>\n",
       "      <td>29.0</td>\n",
       "      <td>35.0</td>\n",
       "      <td>33.0</td>\n",
       "      <td>66.030296</td>\n",
       "      <td>False</td>\n",
       "      <td>2.000918</td>\n",
       "      <td>0.000000</td>\n",
       "      <td>0.000000</td>\n",
       "      <td>2018</td>\n",
       "    </tr>\n",
       "    <tr>\n",
       "      <th>311102</th>\n",
       "      <td>2018021271</td>\n",
       "      <td>Colorado Avalanche</td>\n",
       "      <td>3</td>\n",
       "      <td>-78.0</td>\n",
       "      <td>1.0</td>\n",
       "      <td>Wrist Shot</td>\n",
       "      <td>0</td>\n",
       "      <td>False</td>\n",
       "      <td>993.0</td>\n",
       "      <td>3393.0</td>\n",
       "      <td>...</td>\n",
       "      <td>Faceoff</td>\n",
       "      <td>-69.0</td>\n",
       "      <td>-22.0</td>\n",
       "      <td>29.0</td>\n",
       "      <td>24.698178</td>\n",
       "      <td>False</td>\n",
       "      <td>0.851661</td>\n",
       "      <td>0.000000</td>\n",
       "      <td>0.000000</td>\n",
       "      <td>2018</td>\n",
       "    </tr>\n",
       "    <tr>\n",
       "      <th>311103</th>\n",
       "      <td>2018021271</td>\n",
       "      <td>Colorado Avalanche</td>\n",
       "      <td>3</td>\n",
       "      <td>-82.0</td>\n",
       "      <td>10.0</td>\n",
       "      <td>Wrist Shot</td>\n",
       "      <td>0</td>\n",
       "      <td>False</td>\n",
       "      <td>1119.0</td>\n",
       "      <td>3519.0</td>\n",
       "      <td>...</td>\n",
       "      <td>Missed Shot</td>\n",
       "      <td>-71.0</td>\n",
       "      <td>4.0</td>\n",
       "      <td>19.0</td>\n",
       "      <td>12.529964</td>\n",
       "      <td>False</td>\n",
       "      <td>0.659472</td>\n",
       "      <td>0.000000</td>\n",
       "      <td>0.000000</td>\n",
       "      <td>2018</td>\n",
       "    </tr>\n",
       "    <tr>\n",
       "      <th>311104</th>\n",
       "      <td>2018021271</td>\n",
       "      <td>Colorado Avalanche</td>\n",
       "      <td>3</td>\n",
       "      <td>-81.0</td>\n",
       "      <td>1.0</td>\n",
       "      <td>Wrist Shot</td>\n",
       "      <td>0</td>\n",
       "      <td>False</td>\n",
       "      <td>1120.0</td>\n",
       "      <td>3520.0</td>\n",
       "      <td>...</td>\n",
       "      <td>Shot</td>\n",
       "      <td>-82.0</td>\n",
       "      <td>10.0</td>\n",
       "      <td>1.0</td>\n",
       "      <td>9.055385</td>\n",
       "      <td>True</td>\n",
       "      <td>9.055385</td>\n",
       "      <td>47.882963</td>\n",
       "      <td>47.882963</td>\n",
       "      <td>2018</td>\n",
       "    </tr>\n",
       "    <tr>\n",
       "      <th>311105</th>\n",
       "      <td>2018021271</td>\n",
       "      <td>San Jose Sharks</td>\n",
       "      <td>3</td>\n",
       "      <td>74.0</td>\n",
       "      <td>4.0</td>\n",
       "      <td>Wrist Shot</td>\n",
       "      <td>True</td>\n",
       "      <td>True</td>\n",
       "      <td>1155.0</td>\n",
       "      <td>3555.0</td>\n",
       "      <td>...</td>\n",
       "      <td>Takeaway</td>\n",
       "      <td>-65.0</td>\n",
       "      <td>-34.0</td>\n",
       "      <td>3.0</td>\n",
       "      <td>144.100659</td>\n",
       "      <td>False</td>\n",
       "      <td>48.033553</td>\n",
       "      <td>0.000000</td>\n",
       "      <td>0.000000</td>\n",
       "      <td>2018</td>\n",
       "    </tr>\n",
       "  </tbody>\n",
       "</table>\n",
       "<p>311106 rows × 23 columns</p>\n",
       "</div>"
      ],
      "text/plain": [
       "            gamePk            team.name  gamePeriod  coordinatesX  \\\n",
       "0       2015020001  Toronto Maple Leafs           1         -55.0   \n",
       "1       2015020001  Toronto Maple Leafs           1         -79.0   \n",
       "2       2015020001  Toronto Maple Leafs           1         -75.0   \n",
       "3       2015020001  Toronto Maple Leafs           1         -55.0   \n",
       "4       2015020001  Toronto Maple Leafs           1         -61.0   \n",
       "...            ...                  ...         ...           ...   \n",
       "311101  2018021271      San Jose Sharks           3          67.0   \n",
       "311102  2018021271   Colorado Avalanche           3         -78.0   \n",
       "311103  2018021271   Colorado Avalanche           3         -82.0   \n",
       "311104  2018021271   Colorado Avalanche           3         -81.0   \n",
       "311105  2018021271      San Jose Sharks           3          74.0   \n",
       "\n",
       "        coordinatesY    shotType emptyNet isHome  gameSeconds  \\\n",
       "0                6.0  Wrist Shot        0   True         51.0   \n",
       "1                0.0   Snap Shot        0   True         65.0   \n",
       "2               -1.0   Snap Shot        0   True         66.0   \n",
       "3              -36.0  Wrist Shot        0   True        113.0   \n",
       "4               -1.0      Tip-In        0   True        157.0   \n",
       "...              ...         ...      ...    ...          ...   \n",
       "311101         -19.0   Slap Shot        0   True        937.0   \n",
       "311102           1.0  Wrist Shot        0  False        993.0   \n",
       "311103          10.0  Wrist Shot        0  False       1119.0   \n",
       "311104           1.0  Wrist Shot        0  False       1120.0   \n",
       "311105           4.0  Wrist Shot     True   True       1155.0   \n",
       "\n",
       "        totalGameSeconds  ...  lastEventType  lastEventCoordinatesX  \\\n",
       "0                   51.0  ...            Hit                   94.0   \n",
       "1                   65.0  ...       Giveaway                  -37.0   \n",
       "2                   66.0  ...           Shot                  -79.0   \n",
       "3                  113.0  ...            Hit                  -91.0   \n",
       "4                  157.0  ...        Faceoff                  -69.0   \n",
       "...                  ...  ...            ...                    ...   \n",
       "311101            3337.0  ...       Giveaway                   29.0   \n",
       "311102            3393.0  ...        Faceoff                  -69.0   \n",
       "311103            3519.0  ...    Missed Shot                  -71.0   \n",
       "311104            3520.0  ...           Shot                  -82.0   \n",
       "311105            3555.0  ...       Takeaway                  -65.0   \n",
       "\n",
       "        lastEventCoordinatesY timeFromLastEvent  distanceFromLastEvent  \\\n",
       "0                       -34.0              11.0             154.275727   \n",
       "1                       -28.0               7.0              50.477718   \n",
       "2                         0.0               1.0               4.123106   \n",
       "3                        35.0              18.0              79.605276   \n",
       "4                       -22.0               5.0              22.472205   \n",
       "...                       ...               ...                    ...   \n",
       "311101                   35.0              33.0              66.030296   \n",
       "311102                  -22.0              29.0              24.698178   \n",
       "311103                    4.0              19.0              12.529964   \n",
       "311104                   10.0               1.0               9.055385   \n",
       "311105                  -34.0               3.0             144.100659   \n",
       "\n",
       "        rebound      speed  changeInShotAngle  angleSpeed  Year  \n",
       "0         False  14.025066           0.000000    0.000000  2015  \n",
       "1         False   7.211103           0.000000    0.000000  2015  \n",
       "2          True   4.123106           4.085617    4.085617  2015  \n",
       "3         False   4.422515           0.000000    0.000000  2015  \n",
       "4         False   4.494441           0.000000    0.000000  2015  \n",
       "...         ...        ...                ...         ...   ...  \n",
       "311101    False   2.000918           0.000000    0.000000  2018  \n",
       "311102    False   0.851661           0.000000    0.000000  2018  \n",
       "311103    False   0.659472           0.000000    0.000000  2018  \n",
       "311104     True   9.055385          47.882963   47.882963  2018  \n",
       "311105    False  48.033553           0.000000    0.000000  2018  \n",
       "\n",
       "[311106 rows x 23 columns]"
      ]
     },
     "execution_count": 5,
     "metadata": {},
     "output_type": "execute_result"
    }
   ],
   "source": [
    "df[\"Year\"]=[str(x)[:4] for x in df['gamePk']]\n",
    "df[\"Year\"] =df[\"Year\"].astype('int')\n",
    "df.head()\n",
    "df"
   ]
  },
  {
   "cell_type": "code",
   "execution_count": 6,
   "metadata": {},
   "outputs": [],
   "source": [
    "df[\"emptyNet\"] = df[\"emptyNet\"].astype(\"int\")"
   ]
  },
  {
   "cell_type": "markdown",
   "metadata": {},
   "source": [
    "* Random Forests\n",
    "* XGBoost with Yearwise Validation\n",
    "* Kfold CV\n",
    "* EarlyStopping\n",
    "* XGBoost Over Sampling\n",
    "* Removing where emptynet is True events\n",
    "* Strength in OverTime\n",
    "* L1,L2 reguraliser"
   ]
  },
  {
   "cell_type": "code",
   "execution_count": 7,
   "metadata": {},
   "outputs": [
    {
     "data": {
      "text/html": [
       "<div>\n",
       "<style scoped>\n",
       "    .dataframe tbody tr th:only-of-type {\n",
       "        vertical-align: middle;\n",
       "    }\n",
       "\n",
       "    .dataframe tbody tr th {\n",
       "        vertical-align: top;\n",
       "    }\n",
       "\n",
       "    .dataframe thead th {\n",
       "        text-align: right;\n",
       "    }\n",
       "</style>\n",
       "<table border=\"1\" class=\"dataframe\">\n",
       "  <thead>\n",
       "    <tr style=\"text-align: right;\">\n",
       "      <th></th>\n",
       "      <th>gamePk</th>\n",
       "      <th>team.name</th>\n",
       "      <th>gamePeriod</th>\n",
       "      <th>coordinatesX</th>\n",
       "      <th>coordinatesY</th>\n",
       "      <th>shotType</th>\n",
       "      <th>emptyNet</th>\n",
       "      <th>isHome</th>\n",
       "      <th>gameSeconds</th>\n",
       "      <th>totalGameSeconds</th>\n",
       "      <th>...</th>\n",
       "      <th>lastEventType</th>\n",
       "      <th>lastEventCoordinatesX</th>\n",
       "      <th>lastEventCoordinatesY</th>\n",
       "      <th>timeFromLastEvent</th>\n",
       "      <th>distanceFromLastEvent</th>\n",
       "      <th>rebound</th>\n",
       "      <th>speed</th>\n",
       "      <th>changeInShotAngle</th>\n",
       "      <th>angleSpeed</th>\n",
       "      <th>Year</th>\n",
       "    </tr>\n",
       "  </thead>\n",
       "  <tbody>\n",
       "    <tr>\n",
       "      <th>0</th>\n",
       "      <td>2015020001</td>\n",
       "      <td>Toronto Maple Leafs</td>\n",
       "      <td>1</td>\n",
       "      <td>-55.0</td>\n",
       "      <td>6.0</td>\n",
       "      <td>Wrist Shot</td>\n",
       "      <td>0</td>\n",
       "      <td>True</td>\n",
       "      <td>51.0</td>\n",
       "      <td>51.0</td>\n",
       "      <td>...</td>\n",
       "      <td>Hit</td>\n",
       "      <td>94.0</td>\n",
       "      <td>-34.0</td>\n",
       "      <td>11.0</td>\n",
       "      <td>154.275727</td>\n",
       "      <td>False</td>\n",
       "      <td>14.025066</td>\n",
       "      <td>0.000000</td>\n",
       "      <td>0.000000</td>\n",
       "      <td>2015</td>\n",
       "    </tr>\n",
       "    <tr>\n",
       "      <th>1</th>\n",
       "      <td>2015020001</td>\n",
       "      <td>Toronto Maple Leafs</td>\n",
       "      <td>1</td>\n",
       "      <td>-79.0</td>\n",
       "      <td>0.0</td>\n",
       "      <td>Snap Shot</td>\n",
       "      <td>0</td>\n",
       "      <td>True</td>\n",
       "      <td>65.0</td>\n",
       "      <td>65.0</td>\n",
       "      <td>...</td>\n",
       "      <td>Giveaway</td>\n",
       "      <td>-37.0</td>\n",
       "      <td>-28.0</td>\n",
       "      <td>7.0</td>\n",
       "      <td>50.477718</td>\n",
       "      <td>False</td>\n",
       "      <td>7.211103</td>\n",
       "      <td>0.000000</td>\n",
       "      <td>0.000000</td>\n",
       "      <td>2015</td>\n",
       "    </tr>\n",
       "    <tr>\n",
       "      <th>2</th>\n",
       "      <td>2015020001</td>\n",
       "      <td>Toronto Maple Leafs</td>\n",
       "      <td>1</td>\n",
       "      <td>-75.0</td>\n",
       "      <td>-1.0</td>\n",
       "      <td>Snap Shot</td>\n",
       "      <td>0</td>\n",
       "      <td>True</td>\n",
       "      <td>66.0</td>\n",
       "      <td>66.0</td>\n",
       "      <td>...</td>\n",
       "      <td>Shot</td>\n",
       "      <td>-79.0</td>\n",
       "      <td>0.0</td>\n",
       "      <td>1.0</td>\n",
       "      <td>4.123106</td>\n",
       "      <td>True</td>\n",
       "      <td>4.123106</td>\n",
       "      <td>4.085617</td>\n",
       "      <td>4.085617</td>\n",
       "      <td>2015</td>\n",
       "    </tr>\n",
       "    <tr>\n",
       "      <th>3</th>\n",
       "      <td>2015020001</td>\n",
       "      <td>Toronto Maple Leafs</td>\n",
       "      <td>1</td>\n",
       "      <td>-55.0</td>\n",
       "      <td>-36.0</td>\n",
       "      <td>Wrist Shot</td>\n",
       "      <td>0</td>\n",
       "      <td>True</td>\n",
       "      <td>113.0</td>\n",
       "      <td>113.0</td>\n",
       "      <td>...</td>\n",
       "      <td>Hit</td>\n",
       "      <td>-91.0</td>\n",
       "      <td>35.0</td>\n",
       "      <td>18.0</td>\n",
       "      <td>79.605276</td>\n",
       "      <td>False</td>\n",
       "      <td>4.422515</td>\n",
       "      <td>0.000000</td>\n",
       "      <td>0.000000</td>\n",
       "      <td>2015</td>\n",
       "    </tr>\n",
       "    <tr>\n",
       "      <th>4</th>\n",
       "      <td>2015020001</td>\n",
       "      <td>Toronto Maple Leafs</td>\n",
       "      <td>1</td>\n",
       "      <td>-61.0</td>\n",
       "      <td>-1.0</td>\n",
       "      <td>Tip-In</td>\n",
       "      <td>0</td>\n",
       "      <td>True</td>\n",
       "      <td>157.0</td>\n",
       "      <td>157.0</td>\n",
       "      <td>...</td>\n",
       "      <td>Faceoff</td>\n",
       "      <td>-69.0</td>\n",
       "      <td>-22.0</td>\n",
       "      <td>5.0</td>\n",
       "      <td>22.472205</td>\n",
       "      <td>False</td>\n",
       "      <td>4.494441</td>\n",
       "      <td>0.000000</td>\n",
       "      <td>0.000000</td>\n",
       "      <td>2015</td>\n",
       "    </tr>\n",
       "    <tr>\n",
       "      <th>...</th>\n",
       "      <td>...</td>\n",
       "      <td>...</td>\n",
       "      <td>...</td>\n",
       "      <td>...</td>\n",
       "      <td>...</td>\n",
       "      <td>...</td>\n",
       "      <td>...</td>\n",
       "      <td>...</td>\n",
       "      <td>...</td>\n",
       "      <td>...</td>\n",
       "      <td>...</td>\n",
       "      <td>...</td>\n",
       "      <td>...</td>\n",
       "      <td>...</td>\n",
       "      <td>...</td>\n",
       "      <td>...</td>\n",
       "      <td>...</td>\n",
       "      <td>...</td>\n",
       "      <td>...</td>\n",
       "      <td>...</td>\n",
       "      <td>...</td>\n",
       "    </tr>\n",
       "    <tr>\n",
       "      <th>311101</th>\n",
       "      <td>2018021271</td>\n",
       "      <td>San Jose Sharks</td>\n",
       "      <td>3</td>\n",
       "      <td>67.0</td>\n",
       "      <td>-19.0</td>\n",
       "      <td>Slap Shot</td>\n",
       "      <td>0</td>\n",
       "      <td>True</td>\n",
       "      <td>937.0</td>\n",
       "      <td>3337.0</td>\n",
       "      <td>...</td>\n",
       "      <td>Giveaway</td>\n",
       "      <td>29.0</td>\n",
       "      <td>35.0</td>\n",
       "      <td>33.0</td>\n",
       "      <td>66.030296</td>\n",
       "      <td>False</td>\n",
       "      <td>2.000918</td>\n",
       "      <td>0.000000</td>\n",
       "      <td>0.000000</td>\n",
       "      <td>2018</td>\n",
       "    </tr>\n",
       "    <tr>\n",
       "      <th>311102</th>\n",
       "      <td>2018021271</td>\n",
       "      <td>Colorado Avalanche</td>\n",
       "      <td>3</td>\n",
       "      <td>-78.0</td>\n",
       "      <td>1.0</td>\n",
       "      <td>Wrist Shot</td>\n",
       "      <td>0</td>\n",
       "      <td>False</td>\n",
       "      <td>993.0</td>\n",
       "      <td>3393.0</td>\n",
       "      <td>...</td>\n",
       "      <td>Faceoff</td>\n",
       "      <td>-69.0</td>\n",
       "      <td>-22.0</td>\n",
       "      <td>29.0</td>\n",
       "      <td>24.698178</td>\n",
       "      <td>False</td>\n",
       "      <td>0.851661</td>\n",
       "      <td>0.000000</td>\n",
       "      <td>0.000000</td>\n",
       "      <td>2018</td>\n",
       "    </tr>\n",
       "    <tr>\n",
       "      <th>311103</th>\n",
       "      <td>2018021271</td>\n",
       "      <td>Colorado Avalanche</td>\n",
       "      <td>3</td>\n",
       "      <td>-82.0</td>\n",
       "      <td>10.0</td>\n",
       "      <td>Wrist Shot</td>\n",
       "      <td>0</td>\n",
       "      <td>False</td>\n",
       "      <td>1119.0</td>\n",
       "      <td>3519.0</td>\n",
       "      <td>...</td>\n",
       "      <td>Missed Shot</td>\n",
       "      <td>-71.0</td>\n",
       "      <td>4.0</td>\n",
       "      <td>19.0</td>\n",
       "      <td>12.529964</td>\n",
       "      <td>False</td>\n",
       "      <td>0.659472</td>\n",
       "      <td>0.000000</td>\n",
       "      <td>0.000000</td>\n",
       "      <td>2018</td>\n",
       "    </tr>\n",
       "    <tr>\n",
       "      <th>311104</th>\n",
       "      <td>2018021271</td>\n",
       "      <td>Colorado Avalanche</td>\n",
       "      <td>3</td>\n",
       "      <td>-81.0</td>\n",
       "      <td>1.0</td>\n",
       "      <td>Wrist Shot</td>\n",
       "      <td>0</td>\n",
       "      <td>False</td>\n",
       "      <td>1120.0</td>\n",
       "      <td>3520.0</td>\n",
       "      <td>...</td>\n",
       "      <td>Shot</td>\n",
       "      <td>-82.0</td>\n",
       "      <td>10.0</td>\n",
       "      <td>1.0</td>\n",
       "      <td>9.055385</td>\n",
       "      <td>True</td>\n",
       "      <td>9.055385</td>\n",
       "      <td>47.882963</td>\n",
       "      <td>47.882963</td>\n",
       "      <td>2018</td>\n",
       "    </tr>\n",
       "    <tr>\n",
       "      <th>311105</th>\n",
       "      <td>2018021271</td>\n",
       "      <td>San Jose Sharks</td>\n",
       "      <td>3</td>\n",
       "      <td>74.0</td>\n",
       "      <td>4.0</td>\n",
       "      <td>Wrist Shot</td>\n",
       "      <td>1</td>\n",
       "      <td>True</td>\n",
       "      <td>1155.0</td>\n",
       "      <td>3555.0</td>\n",
       "      <td>...</td>\n",
       "      <td>Takeaway</td>\n",
       "      <td>-65.0</td>\n",
       "      <td>-34.0</td>\n",
       "      <td>3.0</td>\n",
       "      <td>144.100659</td>\n",
       "      <td>False</td>\n",
       "      <td>48.033553</td>\n",
       "      <td>0.000000</td>\n",
       "      <td>0.000000</td>\n",
       "      <td>2018</td>\n",
       "    </tr>\n",
       "  </tbody>\n",
       "</table>\n",
       "<p>311106 rows × 23 columns</p>\n",
       "</div>"
      ],
      "text/plain": [
       "            gamePk            team.name  gamePeriod  coordinatesX  \\\n",
       "0       2015020001  Toronto Maple Leafs           1         -55.0   \n",
       "1       2015020001  Toronto Maple Leafs           1         -79.0   \n",
       "2       2015020001  Toronto Maple Leafs           1         -75.0   \n",
       "3       2015020001  Toronto Maple Leafs           1         -55.0   \n",
       "4       2015020001  Toronto Maple Leafs           1         -61.0   \n",
       "...            ...                  ...         ...           ...   \n",
       "311101  2018021271      San Jose Sharks           3          67.0   \n",
       "311102  2018021271   Colorado Avalanche           3         -78.0   \n",
       "311103  2018021271   Colorado Avalanche           3         -82.0   \n",
       "311104  2018021271   Colorado Avalanche           3         -81.0   \n",
       "311105  2018021271      San Jose Sharks           3          74.0   \n",
       "\n",
       "        coordinatesY    shotType  emptyNet isHome  gameSeconds  \\\n",
       "0                6.0  Wrist Shot         0   True         51.0   \n",
       "1                0.0   Snap Shot         0   True         65.0   \n",
       "2               -1.0   Snap Shot         0   True         66.0   \n",
       "3              -36.0  Wrist Shot         0   True        113.0   \n",
       "4               -1.0      Tip-In         0   True        157.0   \n",
       "...              ...         ...       ...    ...          ...   \n",
       "311101         -19.0   Slap Shot         0   True        937.0   \n",
       "311102           1.0  Wrist Shot         0  False        993.0   \n",
       "311103          10.0  Wrist Shot         0  False       1119.0   \n",
       "311104           1.0  Wrist Shot         0  False       1120.0   \n",
       "311105           4.0  Wrist Shot         1   True       1155.0   \n",
       "\n",
       "        totalGameSeconds  ...  lastEventType  lastEventCoordinatesX  \\\n",
       "0                   51.0  ...            Hit                   94.0   \n",
       "1                   65.0  ...       Giveaway                  -37.0   \n",
       "2                   66.0  ...           Shot                  -79.0   \n",
       "3                  113.0  ...            Hit                  -91.0   \n",
       "4                  157.0  ...        Faceoff                  -69.0   \n",
       "...                  ...  ...            ...                    ...   \n",
       "311101            3337.0  ...       Giveaway                   29.0   \n",
       "311102            3393.0  ...        Faceoff                  -69.0   \n",
       "311103            3519.0  ...    Missed Shot                  -71.0   \n",
       "311104            3520.0  ...           Shot                  -82.0   \n",
       "311105            3555.0  ...       Takeaway                  -65.0   \n",
       "\n",
       "        lastEventCoordinatesY timeFromLastEvent  distanceFromLastEvent  \\\n",
       "0                       -34.0              11.0             154.275727   \n",
       "1                       -28.0               7.0              50.477718   \n",
       "2                         0.0               1.0               4.123106   \n",
       "3                        35.0              18.0              79.605276   \n",
       "4                       -22.0               5.0              22.472205   \n",
       "...                       ...               ...                    ...   \n",
       "311101                   35.0              33.0              66.030296   \n",
       "311102                  -22.0              29.0              24.698178   \n",
       "311103                    4.0              19.0              12.529964   \n",
       "311104                   10.0               1.0               9.055385   \n",
       "311105                  -34.0               3.0             144.100659   \n",
       "\n",
       "        rebound      speed  changeInShotAngle  angleSpeed  Year  \n",
       "0         False  14.025066           0.000000    0.000000  2015  \n",
       "1         False   7.211103           0.000000    0.000000  2015  \n",
       "2          True   4.123106           4.085617    4.085617  2015  \n",
       "3         False   4.422515           0.000000    0.000000  2015  \n",
       "4         False   4.494441           0.000000    0.000000  2015  \n",
       "...         ...        ...                ...         ...   ...  \n",
       "311101    False   2.000918           0.000000    0.000000  2018  \n",
       "311102    False   0.851661           0.000000    0.000000  2018  \n",
       "311103    False   0.659472           0.000000    0.000000  2018  \n",
       "311104     True   9.055385          47.882963   47.882963  2018  \n",
       "311105    False  48.033553           0.000000    0.000000  2018  \n",
       "\n",
       "[311106 rows x 23 columns]"
      ]
     },
     "execution_count": 7,
     "metadata": {},
     "output_type": "execute_result"
    }
   ],
   "source": [
    "df"
   ]
  },
  {
   "cell_type": "code",
   "execution_count": 8,
   "metadata": {},
   "outputs": [
    {
     "data": {
      "text/plain": [
       "gamePk                    object\n",
       "team.name                 object\n",
       "gamePeriod                 int64\n",
       "coordinatesX             float64\n",
       "coordinatesY             float64\n",
       "shotType                  object\n",
       "emptyNet                   int32\n",
       "isHome                    object\n",
       "gameSeconds              float64\n",
       "totalGameSeconds         float64\n",
       "shotDistance             float64\n",
       "shotAngle                float64\n",
       "isGoal                     int64\n",
       "lastEventType             object\n",
       "lastEventCoordinatesX    float64\n",
       "lastEventCoordinatesY    float64\n",
       "timeFromLastEvent        float64\n",
       "distanceFromLastEvent    float64\n",
       "rebound                     bool\n",
       "speed                    float64\n",
       "changeInShotAngle        float64\n",
       "angleSpeed               float64\n",
       "Year                       int32\n",
       "dtype: object"
      ]
     },
     "execution_count": 8,
     "metadata": {},
     "output_type": "execute_result"
    }
   ],
   "source": [
    "df.dtypes"
   ]
  },
  {
   "cell_type": "markdown",
   "metadata": {},
   "source": [
    "## XGBoost Yearwise Validation + EmptyNet: False in Train, No EmptyNet"
   ]
  },
  {
   "cell_type": "code",
   "execution_count": 9,
   "metadata": {},
   "outputs": [],
   "source": [
    "features = ['gameSeconds','totalGameSeconds','timeFromLastEvent','gamePeriod','shotType', 'shotAngle','isHome','coordinatesX','coordinatesY', 'shotDistance','lastEventType','lastEventCoordinatesX','lastEventCoordinatesY','distanceFromLastEvent', 'rebound','speed','changeInShotAngle','emptyNet',\"Year\"]\n",
    "label = ['isGoal']"
   ]
  },
  {
   "cell_type": "code",
   "execution_count": null,
   "metadata": {},
   "outputs": [],
   "source": []
  },
  {
   "cell_type": "code",
   "execution_count": 10,
   "metadata": {},
   "outputs": [
    {
     "name": "stdout",
     "output_type": "stream",
     "text": [
      "gameSeconds              False\n",
      "totalGameSeconds         False\n",
      "timeFromLastEvent        False\n",
      "gamePeriod               False\n",
      "shotType                  True\n",
      "shotAngle                 True\n",
      "isHome                    True\n",
      "coordinatesX              True\n",
      "coordinatesY              True\n",
      "shotDistance              True\n",
      "lastEventType            False\n",
      "lastEventCoordinatesX     True\n",
      "lastEventCoordinatesY     True\n",
      "distanceFromLastEvent     True\n",
      "rebound                  False\n",
      "speed                     True\n",
      "changeInShotAngle         True\n",
      "emptyNet                 False\n",
      "Year                     False\n",
      "isGoal                   False\n",
      "dtype: bool\n"
     ]
    },
    {
     "data": {
      "text/html": [
       "<div>\n",
       "<style scoped>\n",
       "    .dataframe tbody tr th:only-of-type {\n",
       "        vertical-align: middle;\n",
       "    }\n",
       "\n",
       "    .dataframe tbody tr th {\n",
       "        vertical-align: top;\n",
       "    }\n",
       "\n",
       "    .dataframe thead th {\n",
       "        text-align: right;\n",
       "    }\n",
       "</style>\n",
       "<table border=\"1\" class=\"dataframe\">\n",
       "  <thead>\n",
       "    <tr style=\"text-align: right;\">\n",
       "      <th></th>\n",
       "      <th>gameSeconds</th>\n",
       "      <th>totalGameSeconds</th>\n",
       "      <th>timeFromLastEvent</th>\n",
       "      <th>gamePeriod</th>\n",
       "      <th>shotType</th>\n",
       "      <th>shotAngle</th>\n",
       "      <th>isHome</th>\n",
       "      <th>coordinatesX</th>\n",
       "      <th>coordinatesY</th>\n",
       "      <th>shotDistance</th>\n",
       "      <th>lastEventType</th>\n",
       "      <th>lastEventCoordinatesX</th>\n",
       "      <th>lastEventCoordinatesY</th>\n",
       "      <th>distanceFromLastEvent</th>\n",
       "      <th>rebound</th>\n",
       "      <th>speed</th>\n",
       "      <th>changeInShotAngle</th>\n",
       "      <th>emptyNet</th>\n",
       "      <th>Year</th>\n",
       "      <th>isGoal</th>\n",
       "    </tr>\n",
       "  </thead>\n",
       "  <tbody>\n",
       "    <tr>\n",
       "      <th>0</th>\n",
       "      <td>51.0</td>\n",
       "      <td>51.0</td>\n",
       "      <td>11.0</td>\n",
       "      <td>1</td>\n",
       "      <td>Wrist Shot</td>\n",
       "      <td>10.007980</td>\n",
       "      <td>True</td>\n",
       "      <td>-55.0</td>\n",
       "      <td>6.0</td>\n",
       "      <td>34.525353</td>\n",
       "      <td>Hit</td>\n",
       "      <td>94.0</td>\n",
       "      <td>-34.0</td>\n",
       "      <td>154.275727</td>\n",
       "      <td>False</td>\n",
       "      <td>14.025066</td>\n",
       "      <td>0.000000</td>\n",
       "      <td>0</td>\n",
       "      <td>2015</td>\n",
       "      <td>0</td>\n",
       "    </tr>\n",
       "    <tr>\n",
       "      <th>1</th>\n",
       "      <td>65.0</td>\n",
       "      <td>65.0</td>\n",
       "      <td>7.0</td>\n",
       "      <td>1</td>\n",
       "      <td>Snap Shot</td>\n",
       "      <td>0.000000</td>\n",
       "      <td>True</td>\n",
       "      <td>-79.0</td>\n",
       "      <td>0.0</td>\n",
       "      <td>10.000000</td>\n",
       "      <td>Giveaway</td>\n",
       "      <td>-37.0</td>\n",
       "      <td>-28.0</td>\n",
       "      <td>50.477718</td>\n",
       "      <td>False</td>\n",
       "      <td>7.211103</td>\n",
       "      <td>0.000000</td>\n",
       "      <td>0</td>\n",
       "      <td>2015</td>\n",
       "      <td>0</td>\n",
       "    </tr>\n",
       "    <tr>\n",
       "      <th>2</th>\n",
       "      <td>66.0</td>\n",
       "      <td>66.0</td>\n",
       "      <td>1.0</td>\n",
       "      <td>1</td>\n",
       "      <td>Snap Shot</td>\n",
       "      <td>-4.085617</td>\n",
       "      <td>True</td>\n",
       "      <td>-75.0</td>\n",
       "      <td>-1.0</td>\n",
       "      <td>14.035669</td>\n",
       "      <td>Shot</td>\n",
       "      <td>-79.0</td>\n",
       "      <td>0.0</td>\n",
       "      <td>4.123106</td>\n",
       "      <td>True</td>\n",
       "      <td>4.123106</td>\n",
       "      <td>4.085617</td>\n",
       "      <td>0</td>\n",
       "      <td>2015</td>\n",
       "      <td>0</td>\n",
       "    </tr>\n",
       "    <tr>\n",
       "      <th>3</th>\n",
       "      <td>113.0</td>\n",
       "      <td>113.0</td>\n",
       "      <td>18.0</td>\n",
       "      <td>1</td>\n",
       "      <td>Wrist Shot</td>\n",
       "      <td>-46.636577</td>\n",
       "      <td>True</td>\n",
       "      <td>-55.0</td>\n",
       "      <td>-36.0</td>\n",
       "      <td>49.517674</td>\n",
       "      <td>Hit</td>\n",
       "      <td>-91.0</td>\n",
       "      <td>35.0</td>\n",
       "      <td>79.605276</td>\n",
       "      <td>False</td>\n",
       "      <td>4.422515</td>\n",
       "      <td>0.000000</td>\n",
       "      <td>0</td>\n",
       "      <td>2015</td>\n",
       "      <td>0</td>\n",
       "    </tr>\n",
       "    <tr>\n",
       "      <th>4</th>\n",
       "      <td>157.0</td>\n",
       "      <td>157.0</td>\n",
       "      <td>5.0</td>\n",
       "      <td>1</td>\n",
       "      <td>Tip-In</td>\n",
       "      <td>-2.045408</td>\n",
       "      <td>True</td>\n",
       "      <td>-61.0</td>\n",
       "      <td>-1.0</td>\n",
       "      <td>28.017851</td>\n",
       "      <td>Faceoff</td>\n",
       "      <td>-69.0</td>\n",
       "      <td>-22.0</td>\n",
       "      <td>22.472205</td>\n",
       "      <td>False</td>\n",
       "      <td>4.494441</td>\n",
       "      <td>0.000000</td>\n",
       "      <td>0</td>\n",
       "      <td>2015</td>\n",
       "      <td>0</td>\n",
       "    </tr>\n",
       "  </tbody>\n",
       "</table>\n",
       "</div>"
      ],
      "text/plain": [
       "   gameSeconds  totalGameSeconds  timeFromLastEvent  gamePeriod    shotType  \\\n",
       "0         51.0              51.0               11.0           1  Wrist Shot   \n",
       "1         65.0              65.0                7.0           1   Snap Shot   \n",
       "2         66.0              66.0                1.0           1   Snap Shot   \n",
       "3        113.0             113.0               18.0           1  Wrist Shot   \n",
       "4        157.0             157.0                5.0           1      Tip-In   \n",
       "\n",
       "   shotAngle isHome  coordinatesX  coordinatesY  shotDistance lastEventType  \\\n",
       "0  10.007980   True         -55.0           6.0     34.525353           Hit   \n",
       "1   0.000000   True         -79.0           0.0     10.000000      Giveaway   \n",
       "2  -4.085617   True         -75.0          -1.0     14.035669          Shot   \n",
       "3 -46.636577   True         -55.0         -36.0     49.517674           Hit   \n",
       "4  -2.045408   True         -61.0          -1.0     28.017851       Faceoff   \n",
       "\n",
       "   lastEventCoordinatesX  lastEventCoordinatesY  distanceFromLastEvent  \\\n",
       "0                   94.0                  -34.0             154.275727   \n",
       "1                  -37.0                  -28.0              50.477718   \n",
       "2                  -79.0                    0.0               4.123106   \n",
       "3                  -91.0                   35.0              79.605276   \n",
       "4                  -69.0                  -22.0              22.472205   \n",
       "\n",
       "   rebound      speed  changeInShotAngle  emptyNet  Year  isGoal  \n",
       "0    False  14.025066           0.000000         0  2015       0  \n",
       "1    False   7.211103           0.000000         0  2015       0  \n",
       "2     True   4.123106           4.085617         0  2015       0  \n",
       "3    False   4.422515           0.000000         0  2015       0  \n",
       "4    False   4.494441           0.000000         0  2015       0  "
      ]
     },
     "execution_count": 10,
     "metadata": {},
     "output_type": "execute_result"
    }
   ],
   "source": [
    "df_exp = df[features+label]\n",
    "print(df_exp.isna().any())\n",
    "df_exp.head()\n"
   ]
  },
  {
   "cell_type": "code",
   "execution_count": 11,
   "metadata": {},
   "outputs": [
    {
     "name": "stderr",
     "output_type": "stream",
     "text": [
      "C:\\Users\\saiak\\.conda\\envs\\ift6758-conda-env\\lib\\site-packages\\pandas\\core\\frame.py:5238: SettingWithCopyWarning: \n",
      "A value is trying to be set on a copy of a slice from a DataFrame\n",
      "\n",
      "See the caveats in the documentation: https://pandas.pydata.org/pandas-docs/stable/user_guide/indexing.html#returning-a-view-versus-a-copy\n",
      "  return super().replace(\n",
      "C:\\Users\\saiak\\.conda\\envs\\ift6758-conda-env\\lib\\site-packages\\pandas\\core\\generic.py:6619: SettingWithCopyWarning: \n",
      "A value is trying to be set on a copy of a slice from a DataFrame\n",
      "\n",
      "See the caveats in the documentation: https://pandas.pydata.org/pandas-docs/stable/user_guide/indexing.html#returning-a-view-versus-a-copy\n",
      "  return self._update_inplace(result)\n",
      "C:\\Users\\saiak\\.conda\\envs\\ift6758-conda-env\\lib\\site-packages\\pandas\\core\\frame.py:3641: SettingWithCopyWarning: \n",
      "A value is trying to be set on a copy of a slice from a DataFrame.\n",
      "Try using .loc[row_indexer,col_indexer] = value instead\n",
      "\n",
      "See the caveats in the documentation: https://pandas.pydata.org/pandas-docs/stable/user_guide/indexing.html#returning-a-view-versus-a-copy\n",
      "  self[k1] = value[k2]\n"
     ]
    }
   ],
   "source": [
    "## Removing nan and inf data of features \n",
    "\n",
    "remove_nan_inf_features= [\"shotAngle\",\"coordinatesX\",\"coordinatesY\",\"shotDistance\",\"lastEventCoordinatesX\",\"lastEventCoordinatesY\",\"distanceFromLastEvent\",\"speed\",\"changeInShotAngle\"]\n",
    "df_exp.replace([np.inf, -np.inf], np.nan, inplace=True)\n",
    "df_exp.replace([np.inf, -np.inf], np.nan, inplace=True)\n",
    "df_exp[\"changeInShotAngle\"].replace(0,np.nan,inplace=True)\n",
    "\n",
    "\n",
    "## Converting category features to Category Types\n",
    "categories = ['shotType','gamePeriod','lastEventType','rebound','isHome']\n",
    "df_exp[categories]=df_exp[categories].astype(\"category\")\n"
   ]
  },
  {
   "cell_type": "code",
   "execution_count": 12,
   "metadata": {},
   "outputs": [],
   "source": [
    "features = ['gameSeconds','totalGameSeconds','timeFromLastEvent','gamePeriod','shotType', 'shotAngle','isHome','coordinatesX','coordinatesY', 'shotDistance','lastEventType','lastEventCoordinatesX','lastEventCoordinatesY','distanceFromLastEvent', 'rebound','speed','changeInShotAngle']\n",
    "label = ['isGoal']"
   ]
  },
  {
   "cell_type": "code",
   "execution_count": 13,
   "metadata": {},
   "outputs": [],
   "source": [
    "dfTrain = df_exp[df_exp[\"Year\"].isin([2015,2016,2017])]\n",
    "dfVal = df_exp[df_exp[\"Year\"].isin([2018])]\n",
    "Xtrain = dfTrain[features]\n",
    "Ytrain = dfTrain[label]\n",
    "Xval = dfVal[features]\n",
    "Yval = dfVal[label]\n"
   ]
  },
  {
   "cell_type": "code",
   "execution_count": 14,
   "metadata": {},
   "outputs": [],
   "source": [
    "predscore_val_dict={}\n",
    "\n",
    "weights_dir = \"../ift6758/models/weights/\""
   ]
  },
  {
   "cell_type": "code",
   "execution_count": null,
   "metadata": {},
   "outputs": [],
   "source": []
  },
  {
   "cell_type": "code",
   "execution_count": 15,
   "metadata": {},
   "outputs": [
    {
     "name": "stderr",
     "output_type": "stream",
     "text": [
      "C:\\Users\\saiak\\.conda\\envs\\ift6758-conda-env\\lib\\site-packages\\xgboost\\training.py:17: UserWarning: Old style callback is deprecated.  See: https://xgboost.readthedocs.io/en/latest/python/callbacks.html\n",
      "  warnings.warn(f'Old style callback is deprecated.  See: {link}', UserWarning)\n",
      "COMET WARNING: You must install graphviz to plot tree\n"
     ]
    },
    {
     "data": {
      "text/plain": [
       "['../ift6758/models/weights//xgb-base-yearvalidation.pkl']"
      ]
     },
     "execution_count": 15,
     "metadata": {},
     "output_type": "execute_result"
    }
   ],
   "source": [
    "experiment = \"xgb-base\"\n",
    "#obtaining default parameters by calling .fit() to XGBoost model instance\n",
    "estimator = xgb.XGBClassifier(objective='binary:logistic',\n",
    "                         enable_categorical=1,\n",
    "                          booster='gbtree',\n",
    "                          eval_metric='auc',\n",
    "                          tree_method='gpu_hist',\n",
    "                          grow_policy='lossguide',\n",
    "                          use_label_encoder=False,\n",
    "                        )\n",
    "estimator.fit(Xtrain, Ytrain.values.flatten())\n",
    "y_pred_val  = estimator.predict(Xval)\n",
    "y_pred_val_scores = estimator.predict_proba(Xval)[:,1]\n",
    "\n",
    "\n",
    "predscore_val_dict[experiment]={}\n",
    "predscore_val_dict[experiment]['val']=Yval\n",
    "predscore_val_dict[experiment]['predscore']=y_pred_val_scores\n",
    "\n",
    "\n",
    "\n",
    "## Dumping model\n",
    "filename=f\"{weights_dir}/{experiment}-yearvalidation.pkl\"\n",
    "joblib.dump(estimator,filename)\n"
   ]
  },
  {
   "cell_type": "code",
   "execution_count": 23,
   "metadata": {},
   "outputs": [
    {
     "name": "stdout",
     "output_type": "stream",
     "text": [
      "              precision    recall  f1-score   support\n",
      "\n",
      "           0       0.92      0.95      0.93     72713\n",
      "           1       0.31      0.23      0.26      7765\n",
      "\n",
      "    accuracy                           0.88     80478\n",
      "   macro avg       0.62      0.59      0.60     80478\n",
      "weighted avg       0.86      0.88      0.87     80478\n",
      "\n"
     ]
    },
    {
     "data": {
      "image/png": "[encoded data removed]",
      "text/plain": [
       "<Figure size 720x360 with 2 Axes>"
      ]
     },
     "metadata": {
      "needs_background": "light"
     },
     "output_type": "display_data"
    }
   ],
   "source": [
    "img_path = os.path.join(tempfile.mkdtemp(), 'imgs')\n",
    "\n",
    "plot_metrics.plotConfusion(Yval,y_pred_val, title=experiment)\n",
    "if COMET:\n",
    "    comet_exp.log_figure(figure=plt)\n",
    "# plot_metrics.plot_roc([Yval],[y_pred_val_scores],[experiment])\n",
    "# if COMET:\n",
    "#     comet_exp.log_figure(figure=plt)\n",
    "# plot_metrics.plot_percentile([Yval],[y_pred_val_scores],bin_width=5,plot_labels=[experiment])\n",
    "# if COMET:\n",
    "#     comet_exp.log_figure(figure=plt)\n",
    "# plot_metrics.plot_calibration([Yval],[y_pred_val_scores],plot_labels=[experiment])\n",
    "# if COMET:\n",
    "#     comet_exp.log_figure(figure=plt)"
   ]
  },
  {
   "cell_type": "code",
   "execution_count": 42,
   "metadata": {},
   "outputs": [],
   "source": [
    "# dfTrain = df_exp[(df_exp[\"Year\"].isin([2015,2016,2017]))&(df_exp[\"emptyNet\"]==0)]\n",
    "# dfVal = df_exp[df_exp[\"Year\"].isin([2018])]\n",
    "# Xtrain = dfTrain[features]\n",
    "# Ytrain = dfTrain[label]\n",
    "# Xval = dfVal[features]\n",
    "# Yval = dfVal[label]\n"
   ]
  },
  {
   "cell_type": "code",
   "execution_count": 44,
   "metadata": {},
   "outputs": [
    {
     "data": {
      "text/plain": [
       "(229615, 17)"
      ]
     },
     "execution_count": 44,
     "metadata": {},
     "output_type": "execute_result"
    }
   ],
   "source": [
    "# Xtrain.shape"
   ]
  },
  {
   "cell_type": "code",
   "execution_count": 17,
   "metadata": {},
   "outputs": [],
   "source": [
    "# experiment = \"xgb-base-train-on-emptynet0\"\n",
    "# #obtaining default parameters by calling .fit() to XGBoost model instance\n",
    "# estimator = xgb.XGBClassifier(objective='binary:logistic',\n",
    "#                          enable_categorical=1,\n",
    "#                           booster='gbtree',\n",
    "#                           eval_metric='auc',\n",
    "#                           tree_method='gpu_hist',\n",
    "#                           grow_policy='lossguide',\n",
    "#                           use_label_encoder=False,\n",
    "#                         )\n",
    "# estimator.fit(Xtrain, Ytrain.values.flatten())\n",
    "# y_pred_val  = estimator.predict(Xval)\n",
    "# y_pred_val_scores = estimator.predict_proba(Xval)[:,1]\n",
    "\n",
    "\n",
    "# predscore_val_dict[experiment]={}\n",
    "# predscore_val_dict[experiment]['val']=Yval\n",
    "# predscore_val_dict[experiment]['predscore']=y_pred_val_scores\n",
    "\n",
    "\n",
    "\n",
    "# ## Dumping model\n",
    "# filename=f\"{weights_dir}/{experiment}-yearvalidation.pkl\"\n",
    "# joblib.dump(estimator,filename)\n"
   ]
  },
  {
   "cell_type": "code",
   "execution_count": 18,
   "metadata": {},
   "outputs": [],
   "source": [
    "# img_path = os.path.join(tempfile.mkdtemp(), 'imgs')\n",
    "\n",
    "# plot_metrics.plotConfusion(Yval,y_pred_val, title=experiment)\n",
    "# if COMET:\n",
    "#     comet_exp.log_figure(figure=plt)\n",
    "# plot_metrics.plot_roc([Yval],[y_pred_val_scores],[experiment])\n",
    "# if COMET:\n",
    "#     comet_exp.log_figure(figure=plt)\n",
    "# plot_metrics.plot_percentile([Yval],[y_pred_val_scores],bin_width=5,plot_labels=[experiment])\n",
    "# if COMET:\n",
    "#     comet_exp.log_figure(figure=plt)\n",
    "# plot_metrics.plot_calibration([Yval],[y_pred_val_scores],plot_labels=[experiment])\n",
    "# if COMET:\n",
    "#     comet_exp.log_figure(figure=plt)"
   ]
  },
  {
   "cell_type": "code",
   "execution_count": 19,
   "metadata": {},
   "outputs": [],
   "source": [
    "experiments = predscore_val_dict.keys()\n",
    "Ytrues=[predscore_val_dict[experiment]['val'] for experiment in experiments]\n",
    "Yscores=[predscore_val_dict[experiment]['predscore'] for experiment in experiments]\n",
    "plot_labels=experiments\n"
   ]
  },
  {
   "cell_type": "code",
   "execution_count": 20,
   "metadata": {},
   "outputs": [
    {
     "data": {
      "text/plain": [
       "3.1250506484552094"
      ]
     },
     "execution_count": 20,
     "metadata": {},
     "output_type": "execute_result"
    }
   ],
   "source": [
    "scale_pos_weight = np.sqrt(Ytrain.loc[Ytrain[\"isGoal\"]==0].shape[0]/Ytrain.loc[Ytrain[\"isGoal\"]==1].shape[0]) \n",
    "scale_pos_weight\n"
   ]
  },
  {
   "cell_type": "code",
   "execution_count": 21,
   "metadata": {},
   "outputs": [
    {
     "name": "stderr",
     "output_type": "stream",
     "text": [
      "C:\\Users\\saiak\\.conda\\envs\\ift6758-conda-env\\lib\\site-packages\\xgboost\\training.py:17: UserWarning: Old style callback is deprecated.  See: https://xgboost.readthedocs.io/en/latest/python/callbacks.html\n",
      "  warnings.warn(f'Old style callback is deprecated.  See: {link}', UserWarning)\n"
     ]
    },
    {
     "data": {
      "text/plain": [
       "['../ift6758/models/weights//xgb-scalepos-yearvalidation.pkl']"
      ]
     },
     "execution_count": 21,
     "metadata": {},
     "output_type": "execute_result"
    }
   ],
   "source": [
    "experiment = \"xgb-scalepos\"\n",
    "#obtaining default parameters by calling .fit() to XGBoost model instance\n",
    "estimator = xgb.XGBClassifier(objective='binary:logistic',\n",
    "                         enable_categorical=1,\n",
    "                          booster='gbtree',\n",
    "                          eval_metric='auc',\n",
    "                          tree_method='gpu_hist',\n",
    "                          grow_policy='lossguide',\n",
    "                          use_label_encoder=False,\n",
    "                          scale_pos_weight=scale_pos_weight,\n",
    "                          max_delta_step=1,\n",
    "                        )\n",
    "estimator.fit(Xtrain, Ytrain.values.flatten())\n",
    "y_pred_val  = estimator.predict(Xval)\n",
    "y_pred_val_scores = estimator.predict_proba(Xval)[:,1]\n",
    "\n",
    "\n",
    "predscore_val_dict[experiment]={}\n",
    "predscore_val_dict[experiment]['val']=Yval\n",
    "predscore_val_dict[experiment]['predscore']=y_pred_val_scores\n",
    "\n",
    "\n",
    "\n",
    "## Dumping model\n",
    "filename=f\"{weights_dir}/{experiment}-yearvalidation.pkl\"\n",
    "joblib.dump(estimator,filename)\n"
   ]
  },
  {
   "cell_type": "code",
   "execution_count": 22,
   "metadata": {},
   "outputs": [
    {
     "name": "stdout",
     "output_type": "stream",
     "text": [
      "              precision    recall  f1-score   support\n",
      "\n",
      "           0       0.92      0.95      0.93     72713\n",
      "           1       0.31      0.23      0.26      7765\n",
      "\n",
      "    accuracy                           0.88     80478\n",
      "   macro avg       0.62      0.59      0.60     80478\n",
      "weighted avg       0.86      0.88      0.87     80478\n",
      "\n"
     ]
    },
    {
     "data": {
      "image/png": "[encoded data removed]",
      "text/plain": [
       "<Figure size 720x360 with 2 Axes>"
      ]
     },
     "metadata": {
      "needs_background": "light"
     },
     "output_type": "display_data"
    }
   ],
   "source": [
    "img_path = os.path.join(tempfile.mkdtemp(), 'imgs')\n",
    "\n",
    "plot_metrics.plotConfusion(Yval,y_pred_val, title=experiment)\n",
    "# if COMET:\n",
    "#     comet_exp.log_figure(figure=plt)\n",
    "# plot_metrics.plot_roc([Yval],[y_pred_val_scores],[experiment])\n",
    "# if COMET:\n",
    "#     comet_exp.log_figure(figure=plt)\n",
    "# plot_metrics.plot_percentile([Yval],[y_pred_val_scores],bin_width=5,plot_labels=[experiment])\n",
    "# if COMET:\n",
    "#     comet_exp.log_figure(figure=plt)\n",
    "# plot_metrics.plot_calibration([Yval],[y_pred_val_scores],plot_labels=[experiment])\n",
    "# if COMET:\n",
    "#     comet_exp.log_figure(figure=plt)"
   ]
  },
  {
   "cell_type": "code",
   "execution_count": 24,
   "metadata": {},
   "outputs": [],
   "source": [
    "experiments = predscore_val_dict.keys()\n",
    "Ytrues=[predscore_val_dict[experiment]['val'] for experiment in experiments]\n",
    "Yscores=[predscore_val_dict[experiment]['predscore'] for experiment in experiments]\n",
    "plot_labels=experiments\n"
   ]
  },
  {
   "cell_type": "code",
   "execution_count": 25,
   "metadata": {},
   "outputs": [
    {
     "data": {
      "text/plain": [
       "2"
      ]
     },
     "execution_count": 25,
     "metadata": {},
     "output_type": "execute_result"
    }
   ],
   "source": [
    "len(Ytrues)"
   ]
  },
  {
   "cell_type": "code",
   "execution_count": 26,
   "metadata": {},
   "outputs": [
    {
     "data": {
      "text/plain": [
       "2"
      ]
     },
     "execution_count": 26,
     "metadata": {},
     "output_type": "execute_result"
    }
   ],
   "source": [
    "len(plot_labels)"
   ]
  },
  {
   "cell_type": "code",
   "execution_count": 27,
   "metadata": {},
   "outputs": [
    {
     "name": "stderr",
     "output_type": "stream",
     "text": [
      "COMET WARNING: Refuse to upload empty figure, please call log_figure before calling show\n",
      "COMET WARNING: Failing to save the matplotlib figure\n"
     ]
    },
    {
     "data": {
      "text/plain": [
       "<Figure size 432x288 with 0 Axes>"
      ]
     },
     "metadata": {},
     "output_type": "display_data"
    },
    {
     "data": {
      "image/png": "[encoded data removed]",
      "text/plain": [
       "<Figure size 432x288 with 1 Axes>"
      ]
     },
     "metadata": {
      "needs_background": "light"
     },
     "output_type": "display_data"
    },
    {
     "data": {
      "image/png": "[encoded data removed]",
      "text/plain": [
       "<Figure size 1080x540 with 2 Axes>"
      ]
     },
     "metadata": {
      "needs_background": "light"
     },
     "output_type": "display_data"
    },
    {
     "data": {
      "image/png": "[encoded data removed]",
      "text/plain": [
       "<Figure size 540x540 with 1 Axes>"
      ]
     },
     "metadata": {
      "needs_background": "light"
     },
     "output_type": "display_data"
    }
   ],
   "source": [
    "img_path = os.path.join(tempfile.mkdtemp(), 'imgs')\n",
    "\n",
    "# plot_metrics.plotConfusion(Yval,y_pred_val, title=experiment)\n",
    "if COMET:\n",
    "    comet_exp.log_figure(figure=plt)\n",
    "plot_metrics.plot_roc(Ytrues,Yscores,plot_labels)\n",
    "if COMET:\n",
    "    comet_exp.log_figure(figure=plt)\n",
    "plot_metrics.plot_percentile(Ytrues,Yscores,bin_width=5,plot_labels=plot_labels)\n",
    "if COMET:\n",
    "    comet_exp.log_figure(figure=plt)\n",
    "plot_metrics.plot_calibration(Ytrues,Yscores,plot_labels,n_bins=50)\n",
    "if COMET:\n",
    "    comet_exp.log_figure(figure=plt)"
   ]
  },
  {
   "cell_type": "code",
   "execution_count": 28,
   "metadata": {},
   "outputs": [
    {
     "name": "stderr",
     "output_type": "stream",
     "text": [
      "C:\\Users\\saiak\\.conda\\envs\\ift6758-conda-env\\lib\\site-packages\\xgboost\\training.py:17: UserWarning: Old style callback is deprecated.  See: https://xgboost.readthedocs.io/en/latest/python/callbacks.html\n",
      "  warnings.warn(f'Old style callback is deprecated.  See: {link}', UserWarning)\n"
     ]
    },
    {
     "name": "stdout",
     "output_type": "stream",
     "text": [
      "Fitting 3 folds for each of 1 candidates, totalling 3 fits\n"
     ]
    },
    {
     "name": "stderr",
     "output_type": "stream",
     "text": [
      "C:\\Users\\saiak\\.conda\\envs\\ift6758-conda-env\\lib\\site-packages\\xgboost\\training.py:17: UserWarning: Old style callback is deprecated.  See: https://xgboost.readthedocs.io/en/latest/python/callbacks.html\n",
      "  warnings.warn(f'Old style callback is deprecated.  See: {link}', UserWarning)\n",
      "C:\\Users\\saiak\\.conda\\envs\\ift6758-conda-env\\lib\\site-packages\\xgboost\\training.py:17: UserWarning: Old style callback is deprecated.  See: https://xgboost.readthedocs.io/en/latest/python/callbacks.html\n",
      "  warnings.warn(f'Old style callback is deprecated.  See: {link}', UserWarning)\n",
      "C:\\Users\\saiak\\.conda\\envs\\ift6758-conda-env\\lib\\site-packages\\xgboost\\training.py:17: UserWarning: Old style callback is deprecated.  See: https://xgboost.readthedocs.io/en/latest/python/callbacks.html\n",
      "  warnings.warn(f'Old style callback is deprecated.  See: {link}', UserWarning)\n",
      "C:\\Users\\saiak\\.conda\\envs\\ift6758-conda-env\\lib\\site-packages\\xgboost\\training.py:17: UserWarning: Old style callback is deprecated.  See: https://xgboost.readthedocs.io/en/latest/python/callbacks.html\n",
      "  warnings.warn(f'Old style callback is deprecated.  See: {link}', UserWarning)\n"
     ]
    }
   ],
   "source": [
    "# To Be Done for Best Shot\n",
    "### Apply XGB on features from FE2\n",
    "#dictionary for collecting results\n",
    "results_dict = {}\n",
    "experiment = \"xgbase-allfeatures\"\n",
    "\n",
    "#obtaining default parameters by calling .fit() to XGBoost model instance\n",
    "xgb2 = xgb.XGBClassifier(objective='binary:logistic',\n",
    "                         enable_categorical=1,\n",
    "                          booster='gbtree',\n",
    "                          eval_metric='auc',\n",
    "                          tree_method='gpu_hist',\n",
    "                          grow_policy='lossguide',\n",
    "                          use_label_encoder=False,\n",
    "                          scale_pos_weight=scale_pos_weight\n",
    "                        )\n",
    "xgb2.fit(Xtrain, Ytrain)\n",
    "\n",
    "#extracting default parameters from benchmark model\n",
    "default_params = {}\n",
    "gparams = xgb2.get_params()\n",
    "\n",
    "#default parameters have to be wrapped in lists - even single values - so GridSearchCV can take them as inputs\n",
    "for key in gparams.keys():\n",
    "    gp = gparams[key]\n",
    "    default_params[key] = [gp]\n",
    "\n",
    "#benchmark model. Grid search is not performed, since only single values are provided as parameter grid.\n",
    "#However, cross-validation is still executed\n",
    "clf0 = GridSearchCV(estimator=xgb2, scoring='roc_auc', param_grid=default_params, return_train_score=True, verbose=1, cv=3)\n",
    "clf0.fit(Xtrain, Ytrain.values.ravel())\n",
    "\n",
    "#results dataframe\n",
    "df = pd.DataFrame(clf0.cv_results_)\n",
    "\n",
    "#best parameters\n",
    "bp = clf0.best_params_\n",
    "\n",
    "#storing computed values in results dictionary\n",
    "results_dict[experiment] = {'iterable_parameter': np.nan,\n",
    "                         'classifier': deepcopy(clf0),\n",
    "                         'cv_results': df.copy(),\n",
    "                         'best_params': bp}\n",
    "\n",
    "\n",
    "y_pred_val  = clf0.predict(Xval)\n",
    "y_pred_val_scores = clf0.predict_proba(Xval)[:,1]\n"
   ]
  },
  {
   "cell_type": "code",
   "execution_count": 29,
   "metadata": {},
   "outputs": [],
   "source": [
    "\n",
    "# plot_metrics.plotConfusion(Yval,y_pred_val,title=experiment)\n",
    "# if COMET:\n",
    "#     comet_exp.log_figure(figure=plt)\n",
    "# plot_metrics.plot_roc([Yval],[y_pred_val_scores],plot_labels=[experiment])\n",
    "# if COMET:\n",
    "#     comet_exp.log_figure(figure=plt)\n",
    "# plot_metrics.plot_percentile([Yval],[y_pred_val_scores],plot_labels=[experiment],bin_width=5)\n",
    "# if COMET:\n",
    "#     comet_exp.log_figure(figure=plt)\n",
    "# plot_metrics.plot_calibration([Yval],[y_pred_val_scores],plot_labels=[experiment],n_bins=50)\n",
    "# if COMET:\n",
    "#     comet_exp.log_figure(figure=plt)\n",
    "\n",
    "\n"
   ]
  },
  {
   "cell_type": "code",
   "execution_count": 30,
   "metadata": {},
   "outputs": [
    {
     "data": {
      "text/plain": [
       "{'objective': ['binary:logistic'],\n",
       " 'use_label_encoder': [False],\n",
       " 'base_score': [0.5],\n",
       " 'booster': ['gbtree'],\n",
       " 'colsample_bylevel': [1],\n",
       " 'colsample_bynode': [1],\n",
       " 'colsample_bytree': [1],\n",
       " 'enable_categorical': [1],\n",
       " 'gamma': [0],\n",
       " 'gpu_id': [0],\n",
       " 'importance_type': [None],\n",
       " 'interaction_constraints': [''],\n",
       " 'learning_rate': [0.300000012],\n",
       " 'max_delta_step': [0],\n",
       " 'max_depth': [6],\n",
       " 'min_child_weight': [1],\n",
       " 'missing': [nan],\n",
       " 'monotone_constraints': ['()'],\n",
       " 'n_estimators': [100],\n",
       " 'n_jobs': [12],\n",
       " 'num_parallel_tree': [1],\n",
       " 'predictor': ['auto'],\n",
       " 'random_state': [0],\n",
       " 'reg_alpha': [0],\n",
       " 'reg_lambda': [1],\n",
       " 'scale_pos_weight': [3.1250506484552094],\n",
       " 'subsample': [1],\n",
       " 'tree_method': ['gpu_hist'],\n",
       " 'validate_parameters': [1],\n",
       " 'verbosity': [None],\n",
       " 'eval_metric': ['auc'],\n",
       " 'grow_policy': ['lossguide']}"
      ]
     },
     "execution_count": 30,
     "metadata": {},
     "output_type": "execute_result"
    }
   ],
   "source": [
    "default_params"
   ]
  },
  {
   "cell_type": "code",
   "execution_count": 31,
   "metadata": {},
   "outputs": [],
   "source": [
    "from sklearn.model_selection import StratifiedKFold\n"
   ]
  },
  {
   "cell_type": "code",
   "execution_count": 32,
   "metadata": {},
   "outputs": [
    {
     "name": "stdout",
     "output_type": "stream",
     "text": [
      "Fitting 3 folds for each of 1 candidates, totalling 3 fits\n"
     ]
    },
    {
     "name": "stderr",
     "output_type": "stream",
     "text": [
      "C:\\Users\\saiak\\.conda\\envs\\ift6758-conda-env\\lib\\site-packages\\xgboost\\training.py:17: UserWarning: Old style callback is deprecated.  See: https://xgboost.readthedocs.io/en/latest/python/callbacks.html\n",
      "  warnings.warn(f'Old style callback is deprecated.  See: {link}', UserWarning)\n"
     ]
    },
    {
     "name": "stdout",
     "output_type": "stream",
     "text": [
      "[CV 1/3] END gamma=51.2, learning_rate=0.6, max_depth=10, n_estimators=80, reg_alpha=1.6, reg_lambda=6.4;, score=(train=0.765, test=0.762) total time=   0.4s\n"
     ]
    },
    {
     "name": "stderr",
     "output_type": "stream",
     "text": [
      "C:\\Users\\saiak\\.conda\\envs\\ift6758-conda-env\\lib\\site-packages\\xgboost\\training.py:17: UserWarning: Old style callback is deprecated.  See: https://xgboost.readthedocs.io/en/latest/python/callbacks.html\n",
      "  warnings.warn(f'Old style callback is deprecated.  See: {link}', UserWarning)\n"
     ]
    },
    {
     "name": "stdout",
     "output_type": "stream",
     "text": [
      "[CV 2/3] END gamma=51.2, learning_rate=0.6, max_depth=10, n_estimators=80, reg_alpha=1.6, reg_lambda=6.4;, score=(train=0.766, test=0.756) total time=   0.4s\n"
     ]
    },
    {
     "name": "stderr",
     "output_type": "stream",
     "text": [
      "C:\\Users\\saiak\\.conda\\envs\\ift6758-conda-env\\lib\\site-packages\\xgboost\\training.py:17: UserWarning: Old style callback is deprecated.  See: https://xgboost.readthedocs.io/en/latest/python/callbacks.html\n",
      "  warnings.warn(f'Old style callback is deprecated.  See: {link}', UserWarning)\n"
     ]
    },
    {
     "name": "stdout",
     "output_type": "stream",
     "text": [
      "[CV 3/3] END gamma=51.2, learning_rate=0.6, max_depth=10, n_estimators=80, reg_alpha=1.6, reg_lambda=6.4;, score=(train=0.763, test=0.755) total time=   0.4s\n",
      "Fitting 3 folds for each of 1 candidates, totalling 3 fits\n"
     ]
    },
    {
     "name": "stderr",
     "output_type": "stream",
     "text": [
      "C:\\Users\\saiak\\.conda\\envs\\ift6758-conda-env\\lib\\site-packages\\xgboost\\training.py:17: UserWarning: Old style callback is deprecated.  See: https://xgboost.readthedocs.io/en/latest/python/callbacks.html\n",
      "  warnings.warn(f'Old style callback is deprecated.  See: {link}', UserWarning)\n"
     ]
    },
    {
     "name": "stdout",
     "output_type": "stream",
     "text": [
      "[CV 1/3] END gamma=3.2, learning_rate=0.25, max_depth=8, n_estimators=50, reg_alpha=12.8, reg_lambda=102.4;, score=(train=0.798, test=0.770) total time=   0.8s\n"
     ]
    },
    {
     "name": "stderr",
     "output_type": "stream",
     "text": [
      "C:\\Users\\saiak\\.conda\\envs\\ift6758-conda-env\\lib\\site-packages\\xgboost\\training.py:17: UserWarning: Old style callback is deprecated.  See: https://xgboost.readthedocs.io/en/latest/python/callbacks.html\n",
      "  warnings.warn(f'Old style callback is deprecated.  See: {link}', UserWarning)\n"
     ]
    },
    {
     "name": "stdout",
     "output_type": "stream",
     "text": [
      "[CV 2/3] END gamma=3.2, learning_rate=0.25, max_depth=8, n_estimators=50, reg_alpha=12.8, reg_lambda=102.4;, score=(train=0.797, test=0.764) total time=   0.7s\n"
     ]
    },
    {
     "name": "stderr",
     "output_type": "stream",
     "text": [
      "C:\\Users\\saiak\\.conda\\envs\\ift6758-conda-env\\lib\\site-packages\\xgboost\\training.py:17: UserWarning: Old style callback is deprecated.  See: https://xgboost.readthedocs.io/en/latest/python/callbacks.html\n",
      "  warnings.warn(f'Old style callback is deprecated.  See: {link}', UserWarning)\n"
     ]
    },
    {
     "name": "stdout",
     "output_type": "stream",
     "text": [
      "[CV 3/3] END gamma=3.2, learning_rate=0.25, max_depth=8, n_estimators=50, reg_alpha=12.8, reg_lambda=102.4;, score=(train=0.799, test=0.763) total time=   0.7s\n",
      "Fitting 3 folds for each of 1 candidates, totalling 3 fits\n"
     ]
    },
    {
     "name": "stderr",
     "output_type": "stream",
     "text": [
      "C:\\Users\\saiak\\.conda\\envs\\ift6758-conda-env\\lib\\site-packages\\xgboost\\training.py:17: UserWarning: Old style callback is deprecated.  See: https://xgboost.readthedocs.io/en/latest/python/callbacks.html\n",
      "  warnings.warn(f'Old style callback is deprecated.  See: {link}', UserWarning)\n"
     ]
    },
    {
     "name": "stdout",
     "output_type": "stream",
     "text": [
      "[CV 1/3] END gamma=0.4, learning_rate=0.7, max_depth=6, n_estimators=115, reg_alpha=6.4, reg_lambda=0.8;, score=(train=0.919, test=0.724) total time=   1.3s\n"
     ]
    },
    {
     "name": "stderr",
     "output_type": "stream",
     "text": [
      "C:\\Users\\saiak\\.conda\\envs\\ift6758-conda-env\\lib\\site-packages\\xgboost\\training.py:17: UserWarning: Old style callback is deprecated.  See: https://xgboost.readthedocs.io/en/latest/python/callbacks.html\n",
      "  warnings.warn(f'Old style callback is deprecated.  See: {link}', UserWarning)\n"
     ]
    },
    {
     "name": "stdout",
     "output_type": "stream",
     "text": [
      "[CV 2/3] END gamma=0.4, learning_rate=0.7, max_depth=6, n_estimators=115, reg_alpha=6.4, reg_lambda=0.8;, score=(train=0.919, test=0.723) total time=   1.5s\n"
     ]
    },
    {
     "name": "stderr",
     "output_type": "stream",
     "text": [
      "C:\\Users\\saiak\\.conda\\envs\\ift6758-conda-env\\lib\\site-packages\\xgboost\\training.py:17: UserWarning: Old style callback is deprecated.  See: https://xgboost.readthedocs.io/en/latest/python/callbacks.html\n",
      "  warnings.warn(f'Old style callback is deprecated.  See: {link}', UserWarning)\n"
     ]
    },
    {
     "name": "stdout",
     "output_type": "stream",
     "text": [
      "[CV 3/3] END gamma=0.4, learning_rate=0.7, max_depth=6, n_estimators=115, reg_alpha=6.4, reg_lambda=0.8;, score=(train=0.919, test=0.727) total time=   1.4s\n",
      "Fitting 3 folds for each of 1 candidates, totalling 3 fits\n"
     ]
    },
    {
     "name": "stderr",
     "output_type": "stream",
     "text": [
      "C:\\Users\\saiak\\.conda\\envs\\ift6758-conda-env\\lib\\site-packages\\xgboost\\training.py:17: UserWarning: Old style callback is deprecated.  See: https://xgboost.readthedocs.io/en/latest/python/callbacks.html\n",
      "  warnings.warn(f'Old style callback is deprecated.  See: {link}', UserWarning)\n"
     ]
    },
    {
     "name": "stdout",
     "output_type": "stream",
     "text": [
      "[CV 1/3] END gamma=0.0, learning_rate=0.03, max_depth=10, n_estimators=65, reg_alpha=51.2, reg_lambda=12.8;, score=(train=0.776, test=0.759) total time=   2.1s\n"
     ]
    },
    {
     "name": "stderr",
     "output_type": "stream",
     "text": [
      "C:\\Users\\saiak\\.conda\\envs\\ift6758-conda-env\\lib\\site-packages\\xgboost\\training.py:17: UserWarning: Old style callback is deprecated.  See: https://xgboost.readthedocs.io/en/latest/python/callbacks.html\n",
      "  warnings.warn(f'Old style callback is deprecated.  See: {link}', UserWarning)\n"
     ]
    },
    {
     "name": "stdout",
     "output_type": "stream",
     "text": [
      "[CV 2/3] END gamma=0.0, learning_rate=0.03, max_depth=10, n_estimators=65, reg_alpha=51.2, reg_lambda=12.8;, score=(train=0.776, test=0.755) total time=   2.4s\n"
     ]
    },
    {
     "name": "stderr",
     "output_type": "stream",
     "text": [
      "C:\\Users\\saiak\\.conda\\envs\\ift6758-conda-env\\lib\\site-packages\\xgboost\\training.py:17: UserWarning: Old style callback is deprecated.  See: https://xgboost.readthedocs.io/en/latest/python/callbacks.html\n",
      "  warnings.warn(f'Old style callback is deprecated.  See: {link}', UserWarning)\n"
     ]
    },
    {
     "name": "stdout",
     "output_type": "stream",
     "text": [
      "[CV 3/3] END gamma=0.0, learning_rate=0.03, max_depth=10, n_estimators=65, reg_alpha=51.2, reg_lambda=12.8;, score=(train=0.773, test=0.762) total time=   2.2s\n",
      "Fitting 3 folds for each of 1 candidates, totalling 3 fits\n"
     ]
    },
    {
     "name": "stderr",
     "output_type": "stream",
     "text": [
      "C:\\Users\\saiak\\.conda\\envs\\ift6758-conda-env\\lib\\site-packages\\xgboost\\training.py:17: UserWarning: Old style callback is deprecated.  See: https://xgboost.readthedocs.io/en/latest/python/callbacks.html\n",
      "  warnings.warn(f'Old style callback is deprecated.  See: {link}', UserWarning)\n"
     ]
    },
    {
     "name": "stdout",
     "output_type": "stream",
     "text": [
      "[CV 1/3] END gamma=0.2, learning_rate=0.3, max_depth=6, n_estimators=100, reg_alpha=0.8, reg_lambda=0.2;, score=(train=0.868, test=0.752) total time=   1.2s\n"
     ]
    },
    {
     "name": "stderr",
     "output_type": "stream",
     "text": [
      "C:\\Users\\saiak\\.conda\\envs\\ift6758-conda-env\\lib\\site-packages\\xgboost\\training.py:17: UserWarning: Old style callback is deprecated.  See: https://xgboost.readthedocs.io/en/latest/python/callbacks.html\n",
      "  warnings.warn(f'Old style callback is deprecated.  See: {link}', UserWarning)\n"
     ]
    },
    {
     "name": "stdout",
     "output_type": "stream",
     "text": [
      "[CV 2/3] END gamma=0.2, learning_rate=0.3, max_depth=6, n_estimators=100, reg_alpha=0.8, reg_lambda=0.2;, score=(train=0.868, test=0.754) total time=   1.2s\n"
     ]
    },
    {
     "name": "stderr",
     "output_type": "stream",
     "text": [
      "C:\\Users\\saiak\\.conda\\envs\\ift6758-conda-env\\lib\\site-packages\\xgboost\\training.py:17: UserWarning: Old style callback is deprecated.  See: https://xgboost.readthedocs.io/en/latest/python/callbacks.html\n",
      "  warnings.warn(f'Old style callback is deprecated.  See: {link}', UserWarning)\n"
     ]
    },
    {
     "name": "stdout",
     "output_type": "stream",
     "text": [
      "[CV 3/3] END gamma=0.2, learning_rate=0.3, max_depth=6, n_estimators=100, reg_alpha=0.8, reg_lambda=0.2;, score=(train=0.866, test=0.756) total time=   1.1s\n",
      "Fitting 3 folds for each of 1 candidates, totalling 3 fits\n"
     ]
    },
    {
     "name": "stderr",
     "output_type": "stream",
     "text": [
      "C:\\Users\\saiak\\.conda\\envs\\ift6758-conda-env\\lib\\site-packages\\xgboost\\training.py:17: UserWarning: Old style callback is deprecated.  See: https://xgboost.readthedocs.io/en/latest/python/callbacks.html\n",
      "  warnings.warn(f'Old style callback is deprecated.  See: {link}', UserWarning)\n"
     ]
    },
    {
     "name": "stdout",
     "output_type": "stream",
     "text": [
      "[CV 1/3] END gamma=25.6, learning_rate=0.1, max_depth=6, n_estimators=100, reg_alpha=51.2, reg_lambda=25.6;, score=(train=0.767, test=0.760) total time=   0.6s\n"
     ]
    },
    {
     "name": "stderr",
     "output_type": "stream",
     "text": [
      "C:\\Users\\saiak\\.conda\\envs\\ift6758-conda-env\\lib\\site-packages\\xgboost\\training.py:17: UserWarning: Old style callback is deprecated.  See: https://xgboost.readthedocs.io/en/latest/python/callbacks.html\n",
      "  warnings.warn(f'Old style callback is deprecated.  See: {link}', UserWarning)\n"
     ]
    },
    {
     "name": "stdout",
     "output_type": "stream",
     "text": [
      "[CV 2/3] END gamma=25.6, learning_rate=0.1, max_depth=6, n_estimators=100, reg_alpha=51.2, reg_lambda=25.6;, score=(train=0.766, test=0.761) total time=   0.7s\n"
     ]
    },
    {
     "name": "stderr",
     "output_type": "stream",
     "text": [
      "C:\\Users\\saiak\\.conda\\envs\\ift6758-conda-env\\lib\\site-packages\\xgboost\\training.py:17: UserWarning: Old style callback is deprecated.  See: https://xgboost.readthedocs.io/en/latest/python/callbacks.html\n",
      "  warnings.warn(f'Old style callback is deprecated.  See: {link}', UserWarning)\n"
     ]
    },
    {
     "name": "stdout",
     "output_type": "stream",
     "text": [
      "[CV 3/3] END gamma=25.6, learning_rate=0.1, max_depth=6, n_estimators=100, reg_alpha=51.2, reg_lambda=25.6;, score=(train=0.766, test=0.759) total time=   0.7s\n",
      "Fitting 3 folds for each of 1 candidates, totalling 3 fits\n"
     ]
    },
    {
     "name": "stderr",
     "output_type": "stream",
     "text": [
      "C:\\Users\\saiak\\.conda\\envs\\ift6758-conda-env\\lib\\site-packages\\xgboost\\training.py:17: UserWarning: Old style callback is deprecated.  See: https://xgboost.readthedocs.io/en/latest/python/callbacks.html\n",
      "  warnings.warn(f'Old style callback is deprecated.  See: {link}', UserWarning)\n"
     ]
    },
    {
     "name": "stdout",
     "output_type": "stream",
     "text": [
      "[CV 1/3] END gamma=0.1, learning_rate=0.3, max_depth=10, n_estimators=115, reg_alpha=6.4, reg_lambda=51.2;, score=(train=0.955, test=0.745) total time=   6.6s\n"
     ]
    },
    {
     "name": "stderr",
     "output_type": "stream",
     "text": [
      "C:\\Users\\saiak\\.conda\\envs\\ift6758-conda-env\\lib\\site-packages\\xgboost\\training.py:17: UserWarning: Old style callback is deprecated.  See: https://xgboost.readthedocs.io/en/latest/python/callbacks.html\n",
      "  warnings.warn(f'Old style callback is deprecated.  See: {link}', UserWarning)\n"
     ]
    },
    {
     "name": "stdout",
     "output_type": "stream",
     "text": [
      "[CV 2/3] END gamma=0.1, learning_rate=0.3, max_depth=10, n_estimators=115, reg_alpha=6.4, reg_lambda=51.2;, score=(train=0.954, test=0.738) total time=   6.5s\n"
     ]
    },
    {
     "name": "stderr",
     "output_type": "stream",
     "text": [
      "C:\\Users\\saiak\\.conda\\envs\\ift6758-conda-env\\lib\\site-packages\\xgboost\\training.py:17: UserWarning: Old style callback is deprecated.  See: https://xgboost.readthedocs.io/en/latest/python/callbacks.html\n",
      "  warnings.warn(f'Old style callback is deprecated.  See: {link}', UserWarning)\n"
     ]
    },
    {
     "name": "stdout",
     "output_type": "stream",
     "text": [
      "[CV 3/3] END gamma=0.1, learning_rate=0.3, max_depth=10, n_estimators=115, reg_alpha=6.4, reg_lambda=51.2;, score=(train=0.956, test=0.745) total time=   6.2s\n",
      "Fitting 3 folds for each of 1 candidates, totalling 3 fits\n"
     ]
    },
    {
     "name": "stderr",
     "output_type": "stream",
     "text": [
      "C:\\Users\\saiak\\.conda\\envs\\ift6758-conda-env\\lib\\site-packages\\xgboost\\training.py:17: UserWarning: Old style callback is deprecated.  See: https://xgboost.readthedocs.io/en/latest/python/callbacks.html\n",
      "  warnings.warn(f'Old style callback is deprecated.  See: {link}', UserWarning)\n"
     ]
    },
    {
     "name": "stdout",
     "output_type": "stream",
     "text": [
      "[CV 1/3] END gamma=200.0, learning_rate=0.1, max_depth=8, n_estimators=100, reg_alpha=12.8, reg_lambda=0.1;, score=(train=0.748, test=0.746) total time=   0.5s\n"
     ]
    },
    {
     "name": "stderr",
     "output_type": "stream",
     "text": [
      "C:\\Users\\saiak\\.conda\\envs\\ift6758-conda-env\\lib\\site-packages\\xgboost\\training.py:17: UserWarning: Old style callback is deprecated.  See: https://xgboost.readthedocs.io/en/latest/python/callbacks.html\n",
      "  warnings.warn(f'Old style callback is deprecated.  See: {link}', UserWarning)\n"
     ]
    },
    {
     "name": "stdout",
     "output_type": "stream",
     "text": [
      "[CV 2/3] END gamma=200.0, learning_rate=0.1, max_depth=8, n_estimators=100, reg_alpha=12.8, reg_lambda=0.1;, score=(train=0.747, test=0.747) total time=   0.5s\n"
     ]
    },
    {
     "name": "stderr",
     "output_type": "stream",
     "text": [
      "C:\\Users\\saiak\\.conda\\envs\\ift6758-conda-env\\lib\\site-packages\\xgboost\\training.py:17: UserWarning: Old style callback is deprecated.  See: https://xgboost.readthedocs.io/en/latest/python/callbacks.html\n",
      "  warnings.warn(f'Old style callback is deprecated.  See: {link}', UserWarning)\n"
     ]
    },
    {
     "name": "stdout",
     "output_type": "stream",
     "text": [
      "[CV 3/3] END gamma=200.0, learning_rate=0.1, max_depth=8, n_estimators=100, reg_alpha=12.8, reg_lambda=0.1;, score=(train=0.751, test=0.744) total time=   0.5s\n",
      "Fitting 3 folds for each of 1 candidates, totalling 3 fits\n"
     ]
    },
    {
     "name": "stderr",
     "output_type": "stream",
     "text": [
      "C:\\Users\\saiak\\.conda\\envs\\ift6758-conda-env\\lib\\site-packages\\xgboost\\training.py:17: UserWarning: Old style callback is deprecated.  See: https://xgboost.readthedocs.io/en/latest/python/callbacks.html\n",
      "  warnings.warn(f'Old style callback is deprecated.  See: {link}', UserWarning)\n"
     ]
    },
    {
     "name": "stdout",
     "output_type": "stream",
     "text": [
      "[CV 1/3] END gamma=6.4, learning_rate=0.03, max_depth=4, n_estimators=100, reg_alpha=0.8, reg_lambda=0.8;, score=(train=0.758, test=0.757) total time=   0.6s\n"
     ]
    },
    {
     "name": "stderr",
     "output_type": "stream",
     "text": [
      "C:\\Users\\saiak\\.conda\\envs\\ift6758-conda-env\\lib\\site-packages\\xgboost\\training.py:17: UserWarning: Old style callback is deprecated.  See: https://xgboost.readthedocs.io/en/latest/python/callbacks.html\n",
      "  warnings.warn(f'Old style callback is deprecated.  See: {link}', UserWarning)\n"
     ]
    },
    {
     "name": "stdout",
     "output_type": "stream",
     "text": [
      "[CV 2/3] END gamma=6.4, learning_rate=0.03, max_depth=4, n_estimators=100, reg_alpha=0.8, reg_lambda=0.8;, score=(train=0.761, test=0.749) total time=   0.6s\n"
     ]
    },
    {
     "name": "stderr",
     "output_type": "stream",
     "text": [
      "C:\\Users\\saiak\\.conda\\envs\\ift6758-conda-env\\lib\\site-packages\\xgboost\\training.py:17: UserWarning: Old style callback is deprecated.  See: https://xgboost.readthedocs.io/en/latest/python/callbacks.html\n",
      "  warnings.warn(f'Old style callback is deprecated.  See: {link}', UserWarning)\n",
      "COMET ERROR: Failed to extract parameters from estimator\n"
     ]
    },
    {
     "name": "stdout",
     "output_type": "stream",
     "text": [
      "[CV 3/3] END gamma=6.4, learning_rate=0.03, max_depth=4, n_estimators=100, reg_alpha=0.8, reg_lambda=0.8;, score=(train=0.759, test=0.755) total time=   0.7s\n",
      "Fitting 3 folds for each of 1 candidates, totalling 3 fits\n"
     ]
    },
    {
     "name": "stderr",
     "output_type": "stream",
     "text": [
      "C:\\Users\\saiak\\.conda\\envs\\ift6758-conda-env\\lib\\site-packages\\xgboost\\training.py:17: UserWarning: Old style callback is deprecated.  See: https://xgboost.readthedocs.io/en/latest/python/callbacks.html\n",
      "  warnings.warn(f'Old style callback is deprecated.  See: {link}', UserWarning)\n"
     ]
    },
    {
     "name": "stdout",
     "output_type": "stream",
     "text": [
      "[CV 1/3] END gamma=0.4, learning_rate=0.2, max_depth=10, n_estimators=80, reg_alpha=3.2, reg_lambda=0.1;, score=(train=0.966, test=0.742) total time=   4.6s\n"
     ]
    },
    {
     "name": "stderr",
     "output_type": "stream",
     "text": [
      "C:\\Users\\saiak\\.conda\\envs\\ift6758-conda-env\\lib\\site-packages\\xgboost\\training.py:17: UserWarning: Old style callback is deprecated.  See: https://xgboost.readthedocs.io/en/latest/python/callbacks.html\n",
      "  warnings.warn(f'Old style callback is deprecated.  See: {link}', UserWarning)\n"
     ]
    },
    {
     "name": "stdout",
     "output_type": "stream",
     "text": [
      "[CV 2/3] END gamma=0.4, learning_rate=0.2, max_depth=10, n_estimators=80, reg_alpha=3.2, reg_lambda=0.1;, score=(train=0.965, test=0.747) total time=   4.6s\n"
     ]
    },
    {
     "name": "stderr",
     "output_type": "stream",
     "text": [
      "C:\\Users\\saiak\\.conda\\envs\\ift6758-conda-env\\lib\\site-packages\\xgboost\\training.py:17: UserWarning: Old style callback is deprecated.  See: https://xgboost.readthedocs.io/en/latest/python/callbacks.html\n",
      "  warnings.warn(f'Old style callback is deprecated.  See: {link}', UserWarning)\n",
      "COMET ERROR: Failed to extract parameters from estimator\n",
      "COMET ERROR: Failed to extract parameters from estimator\n"
     ]
    },
    {
     "name": "stdout",
     "output_type": "stream",
     "text": [
      "[CV 3/3] END gamma=0.4, learning_rate=0.2, max_depth=10, n_estimators=80, reg_alpha=3.2, reg_lambda=0.1;, score=(train=0.967, test=0.746) total time=   4.8s\n"
     ]
    },
    {
     "name": "stderr",
     "output_type": "stream",
     "text": [
      "COMET ERROR: Failed to extract parameters from estimator\n",
      "COMET ERROR: Failed to extract parameters from estimator\n",
      "COMET ERROR: Failed to extract parameters from estimator\n",
      "COMET ERROR: Failed to extract parameters from estimator\n"
     ]
    },
    {
     "name": "stdout",
     "output_type": "stream",
     "text": [
      "Fitting 3 folds for each of 1 candidates, totalling 3 fits\n"
     ]
    },
    {
     "name": "stderr",
     "output_type": "stream",
     "text": [
      "C:\\Users\\saiak\\.conda\\envs\\ift6758-conda-env\\lib\\site-packages\\xgboost\\training.py:17: UserWarning: Old style callback is deprecated.  See: https://xgboost.readthedocs.io/en/latest/python/callbacks.html\n",
      "  warnings.warn(f'Old style callback is deprecated.  See: {link}', UserWarning)\n"
     ]
    },
    {
     "name": "stdout",
     "output_type": "stream",
     "text": [
      "[CV 1/3] END gamma=200.0, learning_rate=0.5, max_depth=6, n_estimators=50, reg_alpha=12.8, reg_lambda=3.2;, score=(train=0.749, test=0.745) total time=   0.3s\n"
     ]
    },
    {
     "name": "stderr",
     "output_type": "stream",
     "text": [
      "C:\\Users\\saiak\\.conda\\envs\\ift6758-conda-env\\lib\\site-packages\\xgboost\\training.py:17: UserWarning: Old style callback is deprecated.  See: https://xgboost.readthedocs.io/en/latest/python/callbacks.html\n",
      "  warnings.warn(f'Old style callback is deprecated.  See: {link}', UserWarning)\n"
     ]
    },
    {
     "name": "stdout",
     "output_type": "stream",
     "text": [
      "[CV 2/3] END gamma=200.0, learning_rate=0.5, max_depth=6, n_estimators=50, reg_alpha=12.8, reg_lambda=3.2;, score=(train=0.749, test=0.745) total time=   0.3s\n"
     ]
    },
    {
     "name": "stderr",
     "output_type": "stream",
     "text": [
      "C:\\Users\\saiak\\.conda\\envs\\ift6758-conda-env\\lib\\site-packages\\xgboost\\training.py:17: UserWarning: Old style callback is deprecated.  See: https://xgboost.readthedocs.io/en/latest/python/callbacks.html\n",
      "  warnings.warn(f'Old style callback is deprecated.  See: {link}', UserWarning)\n",
      "COMET ERROR: Failed to extract parameters from estimator\n",
      "COMET ERROR: Failed to extract parameters from estimator\n"
     ]
    },
    {
     "name": "stdout",
     "output_type": "stream",
     "text": [
      "[CV 3/3] END gamma=200.0, learning_rate=0.5, max_depth=6, n_estimators=50, reg_alpha=12.8, reg_lambda=3.2;, score=(train=0.747, test=0.746) total time=   0.3s\n"
     ]
    },
    {
     "name": "stderr",
     "output_type": "stream",
     "text": [
      "COMET ERROR: Failed to extract parameters from estimator\n",
      "COMET ERROR: Failed to extract parameters from estimator\n",
      "COMET ERROR: Failed to extract parameters from estimator\n",
      "COMET ERROR: Failed to extract parameters from estimator\n"
     ]
    },
    {
     "name": "stdout",
     "output_type": "stream",
     "text": [
      "Fitting 3 folds for each of 1 candidates, totalling 3 fits\n"
     ]
    },
    {
     "name": "stderr",
     "output_type": "stream",
     "text": [
      "C:\\Users\\saiak\\.conda\\envs\\ift6758-conda-env\\lib\\site-packages\\xgboost\\training.py:17: UserWarning: Old style callback is deprecated.  See: https://xgboost.readthedocs.io/en/latest/python/callbacks.html\n",
      "  warnings.warn(f'Old style callback is deprecated.  See: {link}', UserWarning)\n"
     ]
    },
    {
     "name": "stdout",
     "output_type": "stream",
     "text": [
      "[CV 1/3] END gamma=3.2, learning_rate=0.1, max_depth=6, n_estimators=100, reg_alpha=51.2, reg_lambda=102.4;, score=(train=0.777, test=0.769) total time=   0.9s\n"
     ]
    },
    {
     "name": "stderr",
     "output_type": "stream",
     "text": [
      "C:\\Users\\saiak\\.conda\\envs\\ift6758-conda-env\\lib\\site-packages\\xgboost\\training.py:17: UserWarning: Old style callback is deprecated.  See: https://xgboost.readthedocs.io/en/latest/python/callbacks.html\n",
      "  warnings.warn(f'Old style callback is deprecated.  See: {link}', UserWarning)\n"
     ]
    },
    {
     "name": "stdout",
     "output_type": "stream",
     "text": [
      "[CV 2/3] END gamma=3.2, learning_rate=0.1, max_depth=6, n_estimators=100, reg_alpha=51.2, reg_lambda=102.4;, score=(train=0.780, test=0.763) total time=   0.9s\n"
     ]
    },
    {
     "name": "stderr",
     "output_type": "stream",
     "text": [
      "C:\\Users\\saiak\\.conda\\envs\\ift6758-conda-env\\lib\\site-packages\\xgboost\\training.py:17: UserWarning: Old style callback is deprecated.  See: https://xgboost.readthedocs.io/en/latest/python/callbacks.html\n",
      "  warnings.warn(f'Old style callback is deprecated.  See: {link}', UserWarning)\n",
      "COMET ERROR: Failed to extract parameters from estimator\n",
      "COMET ERROR: Failed to extract parameters from estimator\n"
     ]
    },
    {
     "name": "stdout",
     "output_type": "stream",
     "text": [
      "[CV 3/3] END gamma=3.2, learning_rate=0.1, max_depth=6, n_estimators=100, reg_alpha=51.2, reg_lambda=102.4;, score=(train=0.778, test=0.762) total time=   0.8s\n"
     ]
    },
    {
     "name": "stderr",
     "output_type": "stream",
     "text": [
      "COMET ERROR: Failed to extract parameters from estimator\n",
      "COMET ERROR: Failed to extract parameters from estimator\n",
      "COMET ERROR: Failed to extract parameters from estimator\n",
      "COMET ERROR: Failed to extract parameters from estimator\n"
     ]
    },
    {
     "name": "stdout",
     "output_type": "stream",
     "text": [
      "Fitting 3 folds for each of 1 candidates, totalling 3 fits\n"
     ]
    },
    {
     "name": "stderr",
     "output_type": "stream",
     "text": [
      "C:\\Users\\saiak\\.conda\\envs\\ift6758-conda-env\\lib\\site-packages\\xgboost\\training.py:17: UserWarning: Old style callback is deprecated.  See: https://xgboost.readthedocs.io/en/latest/python/callbacks.html\n",
      "  warnings.warn(f'Old style callback is deprecated.  See: {link}', UserWarning)\n"
     ]
    },
    {
     "name": "stdout",
     "output_type": "stream",
     "text": [
      "[CV 1/3] END gamma=3.2, learning_rate=0.6, max_depth=3, n_estimators=50, reg_alpha=51.2, reg_lambda=102.4;, score=(train=0.769, test=0.757) total time=   0.4s\n"
     ]
    },
    {
     "name": "stderr",
     "output_type": "stream",
     "text": [
      "C:\\Users\\saiak\\.conda\\envs\\ift6758-conda-env\\lib\\site-packages\\xgboost\\training.py:17: UserWarning: Old style callback is deprecated.  See: https://xgboost.readthedocs.io/en/latest/python/callbacks.html\n",
      "  warnings.warn(f'Old style callback is deprecated.  See: {link}', UserWarning)\n"
     ]
    },
    {
     "name": "stdout",
     "output_type": "stream",
     "text": [
      "[CV 2/3] END gamma=3.2, learning_rate=0.6, max_depth=3, n_estimators=50, reg_alpha=51.2, reg_lambda=102.4;, score=(train=0.766, test=0.762) total time=   0.3s\n"
     ]
    },
    {
     "name": "stderr",
     "output_type": "stream",
     "text": [
      "C:\\Users\\saiak\\.conda\\envs\\ift6758-conda-env\\lib\\site-packages\\xgboost\\training.py:17: UserWarning: Old style callback is deprecated.  See: https://xgboost.readthedocs.io/en/latest/python/callbacks.html\n",
      "  warnings.warn(f'Old style callback is deprecated.  See: {link}', UserWarning)\n",
      "COMET ERROR: Failed to extract parameters from estimator\n",
      "COMET ERROR: Failed to extract parameters from estimator\n"
     ]
    },
    {
     "name": "stdout",
     "output_type": "stream",
     "text": [
      "[CV 3/3] END gamma=3.2, learning_rate=0.6, max_depth=3, n_estimators=50, reg_alpha=51.2, reg_lambda=102.4;, score=(train=0.767, test=0.759) total time=   0.4s\n"
     ]
    },
    {
     "name": "stderr",
     "output_type": "stream",
     "text": [
      "COMET ERROR: Failed to extract parameters from estimator\n",
      "COMET ERROR: Failed to extract parameters from estimator\n",
      "COMET ERROR: Failed to extract parameters from estimator\n",
      "COMET ERROR: Failed to extract parameters from estimator\n"
     ]
    },
    {
     "name": "stdout",
     "output_type": "stream",
     "text": [
      "Fitting 3 folds for each of 1 candidates, totalling 3 fits\n"
     ]
    },
    {
     "name": "stderr",
     "output_type": "stream",
     "text": [
      "C:\\Users\\saiak\\.conda\\envs\\ift6758-conda-env\\lib\\site-packages\\xgboost\\training.py:17: UserWarning: Old style callback is deprecated.  See: https://xgboost.readthedocs.io/en/latest/python/callbacks.html\n",
      "  warnings.warn(f'Old style callback is deprecated.  See: {link}', UserWarning)\n"
     ]
    },
    {
     "name": "stdout",
     "output_type": "stream",
     "text": [
      "[CV 1/3] END gamma=3.2, learning_rate=0.1, max_depth=6, n_estimators=50, reg_alpha=1.6, reg_lambda=51.2;, score=(train=0.782, test=0.766) total time=   0.8s\n"
     ]
    },
    {
     "name": "stderr",
     "output_type": "stream",
     "text": [
      "C:\\Users\\saiak\\.conda\\envs\\ift6758-conda-env\\lib\\site-packages\\xgboost\\training.py:17: UserWarning: Old style callback is deprecated.  See: https://xgboost.readthedocs.io/en/latest/python/callbacks.html\n",
      "  warnings.warn(f'Old style callback is deprecated.  See: {link}', UserWarning)\n"
     ]
    },
    {
     "name": "stdout",
     "output_type": "stream",
     "text": [
      "[CV 2/3] END gamma=3.2, learning_rate=0.1, max_depth=6, n_estimators=50, reg_alpha=1.6, reg_lambda=51.2;, score=(train=0.780, test=0.767) total time=   0.7s\n"
     ]
    },
    {
     "name": "stderr",
     "output_type": "stream",
     "text": [
      "C:\\Users\\saiak\\.conda\\envs\\ift6758-conda-env\\lib\\site-packages\\xgboost\\training.py:17: UserWarning: Old style callback is deprecated.  See: https://xgboost.readthedocs.io/en/latest/python/callbacks.html\n",
      "  warnings.warn(f'Old style callback is deprecated.  See: {link}', UserWarning)\n",
      "COMET ERROR: Failed to extract parameters from estimator\n",
      "COMET ERROR: Failed to extract parameters from estimator\n"
     ]
    },
    {
     "name": "stdout",
     "output_type": "stream",
     "text": [
      "[CV 3/3] END gamma=3.2, learning_rate=0.1, max_depth=6, n_estimators=50, reg_alpha=1.6, reg_lambda=51.2;, score=(train=0.783, test=0.760) total time=   0.7s\n"
     ]
    },
    {
     "name": "stderr",
     "output_type": "stream",
     "text": [
      "COMET ERROR: Failed to extract parameters from estimator\n",
      "COMET ERROR: Failed to extract parameters from estimator\n",
      "COMET ERROR: Failed to extract parameters from estimator\n",
      "COMET ERROR: Failed to extract parameters from estimator\n"
     ]
    },
    {
     "name": "stdout",
     "output_type": "stream",
     "text": [
      "Fitting 3 folds for each of 1 candidates, totalling 3 fits\n"
     ]
    },
    {
     "name": "stderr",
     "output_type": "stream",
     "text": [
      "C:\\Users\\saiak\\.conda\\envs\\ift6758-conda-env\\lib\\site-packages\\xgboost\\training.py:17: UserWarning: Old style callback is deprecated.  See: https://xgboost.readthedocs.io/en/latest/python/callbacks.html\n",
      "  warnings.warn(f'Old style callback is deprecated.  See: {link}', UserWarning)\n"
     ]
    },
    {
     "name": "stdout",
     "output_type": "stream",
     "text": [
      "[CV 1/3] END gamma=25.6, learning_rate=0.2, max_depth=6, n_estimators=65, reg_alpha=25.6, reg_lambda=25.6;, score=(train=0.770, test=0.761) total time=   0.4s\n"
     ]
    },
    {
     "name": "stderr",
     "output_type": "stream",
     "text": [
      "C:\\Users\\saiak\\.conda\\envs\\ift6758-conda-env\\lib\\site-packages\\xgboost\\training.py:17: UserWarning: Old style callback is deprecated.  See: https://xgboost.readthedocs.io/en/latest/python/callbacks.html\n",
      "  warnings.warn(f'Old style callback is deprecated.  See: {link}', UserWarning)\n"
     ]
    },
    {
     "name": "stdout",
     "output_type": "stream",
     "text": [
      "[CV 2/3] END gamma=25.6, learning_rate=0.2, max_depth=6, n_estimators=65, reg_alpha=25.6, reg_lambda=25.6;, score=(train=0.767, test=0.761) total time=   0.5s\n"
     ]
    },
    {
     "name": "stderr",
     "output_type": "stream",
     "text": [
      "C:\\Users\\saiak\\.conda\\envs\\ift6758-conda-env\\lib\\site-packages\\xgboost\\training.py:17: UserWarning: Old style callback is deprecated.  See: https://xgboost.readthedocs.io/en/latest/python/callbacks.html\n",
      "  warnings.warn(f'Old style callback is deprecated.  See: {link}', UserWarning)\n",
      "COMET ERROR: Failed to extract parameters from estimator\n",
      "COMET ERROR: Failed to extract parameters from estimator\n"
     ]
    },
    {
     "name": "stdout",
     "output_type": "stream",
     "text": [
      "[CV 3/3] END gamma=25.6, learning_rate=0.2, max_depth=6, n_estimators=65, reg_alpha=25.6, reg_lambda=25.6;, score=(train=0.770, test=0.761) total time=   0.5s\n"
     ]
    },
    {
     "name": "stderr",
     "output_type": "stream",
     "text": [
      "COMET ERROR: Failed to extract parameters from estimator\n",
      "COMET ERROR: Failed to extract parameters from estimator\n",
      "COMET ERROR: Failed to extract parameters from estimator\n",
      "COMET ERROR: Failed to extract parameters from estimator\n"
     ]
    },
    {
     "name": "stdout",
     "output_type": "stream",
     "text": [
      "Fitting 3 folds for each of 1 candidates, totalling 3 fits\n"
     ]
    },
    {
     "name": "stderr",
     "output_type": "stream",
     "text": [
      "C:\\Users\\saiak\\.conda\\envs\\ift6758-conda-env\\lib\\site-packages\\xgboost\\training.py:17: UserWarning: Old style callback is deprecated.  See: https://xgboost.readthedocs.io/en/latest/python/callbacks.html\n",
      "  warnings.warn(f'Old style callback is deprecated.  See: {link}', UserWarning)\n"
     ]
    },
    {
     "name": "stdout",
     "output_type": "stream",
     "text": [
      "[CV 1/3] END gamma=3.2, learning_rate=0.25, max_depth=4, n_estimators=100, reg_alpha=51.2, reg_lambda=12.8;, score=(train=0.773, test=0.765) total time=   0.6s\n"
     ]
    },
    {
     "name": "stderr",
     "output_type": "stream",
     "text": [
      "C:\\Users\\saiak\\.conda\\envs\\ift6758-conda-env\\lib\\site-packages\\xgboost\\training.py:17: UserWarning: Old style callback is deprecated.  See: https://xgboost.readthedocs.io/en/latest/python/callbacks.html\n",
      "  warnings.warn(f'Old style callback is deprecated.  See: {link}', UserWarning)\n"
     ]
    },
    {
     "name": "stdout",
     "output_type": "stream",
     "text": [
      "[CV 2/3] END gamma=3.2, learning_rate=0.25, max_depth=4, n_estimators=100, reg_alpha=51.2, reg_lambda=12.8;, score=(train=0.771, test=0.764) total time=   0.6s\n"
     ]
    },
    {
     "name": "stderr",
     "output_type": "stream",
     "text": [
      "C:\\Users\\saiak\\.conda\\envs\\ift6758-conda-env\\lib\\site-packages\\xgboost\\training.py:17: UserWarning: Old style callback is deprecated.  See: https://xgboost.readthedocs.io/en/latest/python/callbacks.html\n",
      "  warnings.warn(f'Old style callback is deprecated.  See: {link}', UserWarning)\n",
      "COMET ERROR: Failed to extract parameters from estimator\n",
      "COMET ERROR: Failed to extract parameters from estimator\n"
     ]
    },
    {
     "name": "stdout",
     "output_type": "stream",
     "text": [
      "[CV 3/3] END gamma=3.2, learning_rate=0.25, max_depth=4, n_estimators=100, reg_alpha=51.2, reg_lambda=12.8;, score=(train=0.773, test=0.760) total time=   0.6s\n"
     ]
    },
    {
     "name": "stderr",
     "output_type": "stream",
     "text": [
      "COMET ERROR: Failed to extract parameters from estimator\n",
      "COMET ERROR: Failed to extract parameters from estimator\n",
      "COMET ERROR: Failed to extract parameters from estimator\n",
      "COMET ERROR: Failed to extract parameters from estimator\n"
     ]
    },
    {
     "name": "stdout",
     "output_type": "stream",
     "text": [
      "Fitting 3 folds for each of 1 candidates, totalling 3 fits\n"
     ]
    },
    {
     "name": "stderr",
     "output_type": "stream",
     "text": [
      "C:\\Users\\saiak\\.conda\\envs\\ift6758-conda-env\\lib\\site-packages\\xgboost\\training.py:17: UserWarning: Old style callback is deprecated.  See: https://xgboost.readthedocs.io/en/latest/python/callbacks.html\n",
      "  warnings.warn(f'Old style callback is deprecated.  See: {link}', UserWarning)\n"
     ]
    },
    {
     "name": "stdout",
     "output_type": "stream",
     "text": [
      "[CV 1/3] END gamma=3.2, learning_rate=0.1, max_depth=6, n_estimators=100, reg_alpha=3.2, reg_lambda=102.4;, score=(train=0.790, test=0.763) total time=   1.2s\n"
     ]
    },
    {
     "name": "stderr",
     "output_type": "stream",
     "text": [
      "C:\\Users\\saiak\\.conda\\envs\\ift6758-conda-env\\lib\\site-packages\\xgboost\\training.py:17: UserWarning: Old style callback is deprecated.  See: https://xgboost.readthedocs.io/en/latest/python/callbacks.html\n",
      "  warnings.warn(f'Old style callback is deprecated.  See: {link}', UserWarning)\n"
     ]
    },
    {
     "name": "stdout",
     "output_type": "stream",
     "text": [
      "[CV 2/3] END gamma=3.2, learning_rate=0.1, max_depth=6, n_estimators=100, reg_alpha=3.2, reg_lambda=102.4;, score=(train=0.789, test=0.765) total time=   1.2s\n"
     ]
    },
    {
     "name": "stderr",
     "output_type": "stream",
     "text": [
      "C:\\Users\\saiak\\.conda\\envs\\ift6758-conda-env\\lib\\site-packages\\xgboost\\training.py:17: UserWarning: Old style callback is deprecated.  See: https://xgboost.readthedocs.io/en/latest/python/callbacks.html\n",
      "  warnings.warn(f'Old style callback is deprecated.  See: {link}', UserWarning)\n",
      "COMET ERROR: Failed to extract parameters from estimator\n",
      "COMET ERROR: Failed to extract parameters from estimator\n"
     ]
    },
    {
     "name": "stdout",
     "output_type": "stream",
     "text": [
      "[CV 3/3] END gamma=3.2, learning_rate=0.1, max_depth=6, n_estimators=100, reg_alpha=3.2, reg_lambda=102.4;, score=(train=0.788, test=0.770) total time=   1.1s\n"
     ]
    },
    {
     "name": "stderr",
     "output_type": "stream",
     "text": [
      "COMET ERROR: Failed to extract parameters from estimator\n",
      "COMET ERROR: Failed to extract parameters from estimator\n",
      "COMET ERROR: Failed to extract parameters from estimator\n",
      "COMET ERROR: Failed to extract parameters from estimator\n"
     ]
    },
    {
     "name": "stdout",
     "output_type": "stream",
     "text": [
      "Fitting 3 folds for each of 1 candidates, totalling 3 fits\n"
     ]
    },
    {
     "name": "stderr",
     "output_type": "stream",
     "text": [
      "C:\\Users\\saiak\\.conda\\envs\\ift6758-conda-env\\lib\\site-packages\\xgboost\\training.py:17: UserWarning: Old style callback is deprecated.  See: https://xgboost.readthedocs.io/en/latest/python/callbacks.html\n",
      "  warnings.warn(f'Old style callback is deprecated.  See: {link}', UserWarning)\n"
     ]
    },
    {
     "name": "stdout",
     "output_type": "stream",
     "text": [
      "[CV 1/3] END gamma=3.2, learning_rate=0.4, max_depth=8, n_estimators=100, reg_alpha=3.2, reg_lambda=6.4;, score=(train=0.838, test=0.756) total time=   0.9s\n"
     ]
    },
    {
     "name": "stderr",
     "output_type": "stream",
     "text": [
      "C:\\Users\\saiak\\.conda\\envs\\ift6758-conda-env\\lib\\site-packages\\xgboost\\training.py:17: UserWarning: Old style callback is deprecated.  See: https://xgboost.readthedocs.io/en/latest/python/callbacks.html\n",
      "  warnings.warn(f'Old style callback is deprecated.  See: {link}', UserWarning)\n"
     ]
    },
    {
     "name": "stdout",
     "output_type": "stream",
     "text": [
      "[CV 2/3] END gamma=3.2, learning_rate=0.4, max_depth=8, n_estimators=100, reg_alpha=3.2, reg_lambda=6.4;, score=(train=0.840, test=0.756) total time=   0.9s\n"
     ]
    },
    {
     "name": "stderr",
     "output_type": "stream",
     "text": [
      "C:\\Users\\saiak\\.conda\\envs\\ift6758-conda-env\\lib\\site-packages\\xgboost\\training.py:17: UserWarning: Old style callback is deprecated.  See: https://xgboost.readthedocs.io/en/latest/python/callbacks.html\n",
      "  warnings.warn(f'Old style callback is deprecated.  See: {link}', UserWarning)\n",
      "COMET ERROR: Failed to extract parameters from estimator\n",
      "COMET ERROR: Failed to extract parameters from estimator\n"
     ]
    },
    {
     "name": "stdout",
     "output_type": "stream",
     "text": [
      "[CV 3/3] END gamma=3.2, learning_rate=0.4, max_depth=8, n_estimators=100, reg_alpha=3.2, reg_lambda=6.4;, score=(train=0.835, test=0.760) total time=   0.9s\n"
     ]
    },
    {
     "name": "stderr",
     "output_type": "stream",
     "text": [
      "COMET ERROR: Failed to extract parameters from estimator\n",
      "COMET ERROR: Failed to extract parameters from estimator\n",
      "COMET ERROR: Failed to extract parameters from estimator\n",
      "COMET ERROR: Failed to extract parameters from estimator\n"
     ]
    },
    {
     "name": "stdout",
     "output_type": "stream",
     "text": [
      "Fitting 3 folds for each of 1 candidates, totalling 3 fits\n"
     ]
    },
    {
     "name": "stderr",
     "output_type": "stream",
     "text": [
      "C:\\Users\\saiak\\.conda\\envs\\ift6758-conda-env\\lib\\site-packages\\xgboost\\training.py:17: UserWarning: Old style callback is deprecated.  See: https://xgboost.readthedocs.io/en/latest/python/callbacks.html\n",
      "  warnings.warn(f'Old style callback is deprecated.  See: {link}', UserWarning)\n"
     ]
    },
    {
     "name": "stdout",
     "output_type": "stream",
     "text": [
      "[CV 1/3] END gamma=1.6, learning_rate=0.3, max_depth=8, n_estimators=130, reg_alpha=0.8, reg_lambda=102.4;, score=(train=0.834, test=0.757) total time=   1.5s\n"
     ]
    },
    {
     "name": "stderr",
     "output_type": "stream",
     "text": [
      "C:\\Users\\saiak\\.conda\\envs\\ift6758-conda-env\\lib\\site-packages\\xgboost\\training.py:17: UserWarning: Old style callback is deprecated.  See: https://xgboost.readthedocs.io/en/latest/python/callbacks.html\n",
      "  warnings.warn(f'Old style callback is deprecated.  See: {link}', UserWarning)\n"
     ]
    },
    {
     "name": "stdout",
     "output_type": "stream",
     "text": [
      "[CV 2/3] END gamma=1.6, learning_rate=0.3, max_depth=8, n_estimators=130, reg_alpha=0.8, reg_lambda=102.4;, score=(train=0.841, test=0.765) total time=   1.4s\n"
     ]
    },
    {
     "name": "stderr",
     "output_type": "stream",
     "text": [
      "C:\\Users\\saiak\\.conda\\envs\\ift6758-conda-env\\lib\\site-packages\\xgboost\\training.py:17: UserWarning: Old style callback is deprecated.  See: https://xgboost.readthedocs.io/en/latest/python/callbacks.html\n",
      "  warnings.warn(f'Old style callback is deprecated.  See: {link}', UserWarning)\n",
      "COMET ERROR: Failed to extract parameters from estimator\n",
      "COMET ERROR: Failed to extract parameters from estimator\n"
     ]
    },
    {
     "name": "stdout",
     "output_type": "stream",
     "text": [
      "[CV 3/3] END gamma=1.6, learning_rate=0.3, max_depth=8, n_estimators=130, reg_alpha=0.8, reg_lambda=102.4;, score=(train=0.836, test=0.763) total time=   1.3s\n"
     ]
    },
    {
     "name": "stderr",
     "output_type": "stream",
     "text": [
      "COMET ERROR: Failed to extract parameters from estimator\n",
      "COMET ERROR: Failed to extract parameters from estimator\n",
      "COMET ERROR: Failed to extract parameters from estimator\n",
      "COMET ERROR: Failed to extract parameters from estimator\n"
     ]
    },
    {
     "name": "stdout",
     "output_type": "stream",
     "text": [
      "Fitting 3 folds for each of 1 candidates, totalling 3 fits\n"
     ]
    },
    {
     "name": "stderr",
     "output_type": "stream",
     "text": [
      "C:\\Users\\saiak\\.conda\\envs\\ift6758-conda-env\\lib\\site-packages\\xgboost\\training.py:17: UserWarning: Old style callback is deprecated.  See: https://xgboost.readthedocs.io/en/latest/python/callbacks.html\n",
      "  warnings.warn(f'Old style callback is deprecated.  See: {link}', UserWarning)\n"
     ]
    },
    {
     "name": "stdout",
     "output_type": "stream",
     "text": [
      "[CV 1/3] END gamma=102.4, learning_rate=0.1, max_depth=3, n_estimators=50, reg_alpha=51.2, reg_lambda=0.1;, score=(train=0.752, test=0.748) total time=   0.4s\n"
     ]
    },
    {
     "name": "stderr",
     "output_type": "stream",
     "text": [
      "C:\\Users\\saiak\\.conda\\envs\\ift6758-conda-env\\lib\\site-packages\\xgboost\\training.py:17: UserWarning: Old style callback is deprecated.  See: https://xgboost.readthedocs.io/en/latest/python/callbacks.html\n",
      "  warnings.warn(f'Old style callback is deprecated.  See: {link}', UserWarning)\n"
     ]
    },
    {
     "name": "stdout",
     "output_type": "stream",
     "text": [
      "[CV 2/3] END gamma=102.4, learning_rate=0.1, max_depth=3, n_estimators=50, reg_alpha=51.2, reg_lambda=0.1;, score=(train=0.752, test=0.748) total time=   0.4s\n"
     ]
    },
    {
     "name": "stderr",
     "output_type": "stream",
     "text": [
      "C:\\Users\\saiak\\.conda\\envs\\ift6758-conda-env\\lib\\site-packages\\xgboost\\training.py:17: UserWarning: Old style callback is deprecated.  See: https://xgboost.readthedocs.io/en/latest/python/callbacks.html\n",
      "  warnings.warn(f'Old style callback is deprecated.  See: {link}', UserWarning)\n",
      "COMET ERROR: Failed to extract parameters from estimator\n",
      "COMET ERROR: Failed to extract parameters from estimator\n"
     ]
    },
    {
     "name": "stdout",
     "output_type": "stream",
     "text": [
      "[CV 3/3] END gamma=102.4, learning_rate=0.1, max_depth=3, n_estimators=50, reg_alpha=51.2, reg_lambda=0.1;, score=(train=0.750, test=0.750) total time=   0.4s\n"
     ]
    },
    {
     "name": "stderr",
     "output_type": "stream",
     "text": [
      "COMET ERROR: Failed to extract parameters from estimator\n",
      "COMET ERROR: Failed to extract parameters from estimator\n",
      "COMET ERROR: Failed to extract parameters from estimator\n",
      "COMET ERROR: Failed to extract parameters from estimator\n"
     ]
    },
    {
     "name": "stdout",
     "output_type": "stream",
     "text": [
      "Fitting 3 folds for each of 1 candidates, totalling 3 fits\n"
     ]
    },
    {
     "name": "stderr",
     "output_type": "stream",
     "text": [
      "C:\\Users\\saiak\\.conda\\envs\\ift6758-conda-env\\lib\\site-packages\\xgboost\\training.py:17: UserWarning: Old style callback is deprecated.  See: https://xgboost.readthedocs.io/en/latest/python/callbacks.html\n",
      "  warnings.warn(f'Old style callback is deprecated.  See: {link}', UserWarning)\n"
     ]
    },
    {
     "name": "stdout",
     "output_type": "stream",
     "text": [
      "[CV 1/3] END gamma=0.8, learning_rate=0.4, max_depth=6, n_estimators=65, reg_alpha=0.2, reg_lambda=200.0;, score=(train=0.814, test=0.760) total time=   0.9s\n"
     ]
    },
    {
     "name": "stderr",
     "output_type": "stream",
     "text": [
      "C:\\Users\\saiak\\.conda\\envs\\ift6758-conda-env\\lib\\site-packages\\xgboost\\training.py:17: UserWarning: Old style callback is deprecated.  See: https://xgboost.readthedocs.io/en/latest/python/callbacks.html\n",
      "  warnings.warn(f'Old style callback is deprecated.  See: {link}', UserWarning)\n"
     ]
    },
    {
     "name": "stdout",
     "output_type": "stream",
     "text": [
      "[CV 2/3] END gamma=0.8, learning_rate=0.4, max_depth=6, n_estimators=65, reg_alpha=0.2, reg_lambda=200.0;, score=(train=0.808, test=0.766) total time=   0.9s\n"
     ]
    },
    {
     "name": "stderr",
     "output_type": "stream",
     "text": [
      "C:\\Users\\saiak\\.conda\\envs\\ift6758-conda-env\\lib\\site-packages\\xgboost\\training.py:17: UserWarning: Old style callback is deprecated.  See: https://xgboost.readthedocs.io/en/latest/python/callbacks.html\n",
      "  warnings.warn(f'Old style callback is deprecated.  See: {link}', UserWarning)\n",
      "COMET ERROR: Failed to extract parameters from estimator\n",
      "COMET ERROR: Failed to extract parameters from estimator\n"
     ]
    },
    {
     "name": "stdout",
     "output_type": "stream",
     "text": [
      "[CV 3/3] END gamma=0.8, learning_rate=0.4, max_depth=6, n_estimators=65, reg_alpha=0.2, reg_lambda=200.0;, score=(train=0.811, test=0.764) total time=   0.8s\n"
     ]
    },
    {
     "name": "stderr",
     "output_type": "stream",
     "text": [
      "COMET ERROR: Failed to extract parameters from estimator\n",
      "COMET ERROR: Failed to extract parameters from estimator\n",
      "COMET ERROR: Failed to extract parameters from estimator\n",
      "COMET ERROR: Failed to extract parameters from estimator\n"
     ]
    },
    {
     "name": "stdout",
     "output_type": "stream",
     "text": [
      "Fitting 3 folds for each of 1 candidates, totalling 3 fits\n"
     ]
    },
    {
     "name": "stderr",
     "output_type": "stream",
     "text": [
      "C:\\Users\\saiak\\.conda\\envs\\ift6758-conda-env\\lib\\site-packages\\xgboost\\training.py:17: UserWarning: Old style callback is deprecated.  See: https://xgboost.readthedocs.io/en/latest/python/callbacks.html\n",
      "  warnings.warn(f'Old style callback is deprecated.  See: {link}', UserWarning)\n"
     ]
    },
    {
     "name": "stdout",
     "output_type": "stream",
     "text": [
      "[CV 1/3] END gamma=12.8, learning_rate=0.1, max_depth=8, n_estimators=100, reg_alpha=12.8, reg_lambda=12.8;, score=(train=0.780, test=0.769) total time=   0.9s\n"
     ]
    },
    {
     "name": "stderr",
     "output_type": "stream",
     "text": [
      "C:\\Users\\saiak\\.conda\\envs\\ift6758-conda-env\\lib\\site-packages\\xgboost\\training.py:17: UserWarning: Old style callback is deprecated.  See: https://xgboost.readthedocs.io/en/latest/python/callbacks.html\n",
      "  warnings.warn(f'Old style callback is deprecated.  See: {link}', UserWarning)\n"
     ]
    },
    {
     "name": "stdout",
     "output_type": "stream",
     "text": [
      "[CV 2/3] END gamma=12.8, learning_rate=0.1, max_depth=8, n_estimators=100, reg_alpha=12.8, reg_lambda=12.8;, score=(train=0.783, test=0.763) total time=   0.8s\n"
     ]
    },
    {
     "name": "stderr",
     "output_type": "stream",
     "text": [
      "C:\\Users\\saiak\\.conda\\envs\\ift6758-conda-env\\lib\\site-packages\\xgboost\\training.py:17: UserWarning: Old style callback is deprecated.  See: https://xgboost.readthedocs.io/en/latest/python/callbacks.html\n",
      "  warnings.warn(f'Old style callback is deprecated.  See: {link}', UserWarning)\n",
      "COMET ERROR: Failed to extract parameters from estimator\n",
      "COMET ERROR: Failed to extract parameters from estimator\n"
     ]
    },
    {
     "name": "stdout",
     "output_type": "stream",
     "text": [
      "[CV 3/3] END gamma=12.8, learning_rate=0.1, max_depth=8, n_estimators=100, reg_alpha=12.8, reg_lambda=12.8;, score=(train=0.783, test=0.765) total time=   0.8s\n"
     ]
    },
    {
     "name": "stderr",
     "output_type": "stream",
     "text": [
      "COMET ERROR: Failed to extract parameters from estimator\n",
      "COMET ERROR: Failed to extract parameters from estimator\n",
      "COMET ERROR: Failed to extract parameters from estimator\n",
      "COMET ERROR: Failed to extract parameters from estimator\n"
     ]
    },
    {
     "name": "stdout",
     "output_type": "stream",
     "text": [
      "Fitting 3 folds for each of 1 candidates, totalling 3 fits\n"
     ]
    },
    {
     "name": "stderr",
     "output_type": "stream",
     "text": [
      "C:\\Users\\saiak\\.conda\\envs\\ift6758-conda-env\\lib\\site-packages\\xgboost\\training.py:17: UserWarning: Old style callback is deprecated.  See: https://xgboost.readthedocs.io/en/latest/python/callbacks.html\n",
      "  warnings.warn(f'Old style callback is deprecated.  See: {link}', UserWarning)\n"
     ]
    },
    {
     "name": "stdout",
     "output_type": "stream",
     "text": [
      "[CV 1/3] END gamma=12.8, learning_rate=0.7, max_depth=5, n_estimators=115, reg_alpha=0.4, reg_lambda=25.6;, score=(train=0.776, test=0.761) total time=   0.5s\n"
     ]
    },
    {
     "name": "stderr",
     "output_type": "stream",
     "text": [
      "C:\\Users\\saiak\\.conda\\envs\\ift6758-conda-env\\lib\\site-packages\\xgboost\\training.py:17: UserWarning: Old style callback is deprecated.  See: https://xgboost.readthedocs.io/en/latest/python/callbacks.html\n",
      "  warnings.warn(f'Old style callback is deprecated.  See: {link}', UserWarning)\n"
     ]
    },
    {
     "name": "stdout",
     "output_type": "stream",
     "text": [
      "[CV 2/3] END gamma=12.8, learning_rate=0.7, max_depth=5, n_estimators=115, reg_alpha=0.4, reg_lambda=25.6;, score=(train=0.777, test=0.760) total time=   0.5s\n"
     ]
    },
    {
     "name": "stderr",
     "output_type": "stream",
     "text": [
      "C:\\Users\\saiak\\.conda\\envs\\ift6758-conda-env\\lib\\site-packages\\xgboost\\training.py:17: UserWarning: Old style callback is deprecated.  See: https://xgboost.readthedocs.io/en/latest/python/callbacks.html\n",
      "  warnings.warn(f'Old style callback is deprecated.  See: {link}', UserWarning)\n",
      "COMET ERROR: Failed to extract parameters from estimator\n",
      "COMET ERROR: Failed to extract parameters from estimator\n"
     ]
    },
    {
     "name": "stdout",
     "output_type": "stream",
     "text": [
      "[CV 3/3] END gamma=12.8, learning_rate=0.7, max_depth=5, n_estimators=115, reg_alpha=0.4, reg_lambda=25.6;, score=(train=0.776, test=0.762) total time=   0.5s\n"
     ]
    },
    {
     "name": "stderr",
     "output_type": "stream",
     "text": [
      "COMET ERROR: Failed to extract parameters from estimator\n",
      "COMET ERROR: Failed to extract parameters from estimator\n",
      "COMET ERROR: Failed to extract parameters from estimator\n",
      "COMET ERROR: Failed to extract parameters from estimator\n"
     ]
    },
    {
     "name": "stdout",
     "output_type": "stream",
     "text": [
      "Fitting 3 folds for each of 1 candidates, totalling 3 fits\n"
     ]
    },
    {
     "name": "stderr",
     "output_type": "stream",
     "text": [
      "C:\\Users\\saiak\\.conda\\envs\\ift6758-conda-env\\lib\\site-packages\\xgboost\\training.py:17: UserWarning: Old style callback is deprecated.  See: https://xgboost.readthedocs.io/en/latest/python/callbacks.html\n",
      "  warnings.warn(f'Old style callback is deprecated.  See: {link}', UserWarning)\n"
     ]
    },
    {
     "name": "stdout",
     "output_type": "stream",
     "text": [
      "[CV 1/3] END gamma=0.8, learning_rate=0.1, max_depth=10, n_estimators=80, reg_alpha=102.4, reg_lambda=0.1;, score=(train=0.785, test=0.765) total time=   1.4s\n"
     ]
    },
    {
     "name": "stderr",
     "output_type": "stream",
     "text": [
      "C:\\Users\\saiak\\.conda\\envs\\ift6758-conda-env\\lib\\site-packages\\xgboost\\training.py:17: UserWarning: Old style callback is deprecated.  See: https://xgboost.readthedocs.io/en/latest/python/callbacks.html\n",
      "  warnings.warn(f'Old style callback is deprecated.  See: {link}', UserWarning)\n"
     ]
    },
    {
     "name": "stdout",
     "output_type": "stream",
     "text": [
      "[CV 2/3] END gamma=0.8, learning_rate=0.1, max_depth=10, n_estimators=80, reg_alpha=102.4, reg_lambda=0.1;, score=(train=0.787, test=0.763) total time=   1.4s\n"
     ]
    },
    {
     "name": "stderr",
     "output_type": "stream",
     "text": [
      "C:\\Users\\saiak\\.conda\\envs\\ift6758-conda-env\\lib\\site-packages\\xgboost\\training.py:17: UserWarning: Old style callback is deprecated.  See: https://xgboost.readthedocs.io/en/latest/python/callbacks.html\n",
      "  warnings.warn(f'Old style callback is deprecated.  See: {link}', UserWarning)\n",
      "COMET ERROR: Failed to extract parameters from estimator\n",
      "COMET ERROR: Failed to extract parameters from estimator\n"
     ]
    },
    {
     "name": "stdout",
     "output_type": "stream",
     "text": [
      "[CV 3/3] END gamma=0.8, learning_rate=0.1, max_depth=10, n_estimators=80, reg_alpha=102.4, reg_lambda=0.1;, score=(train=0.786, test=0.764) total time=   1.5s\n"
     ]
    },
    {
     "name": "stderr",
     "output_type": "stream",
     "text": [
      "COMET ERROR: Failed to extract parameters from estimator\n",
      "COMET ERROR: Failed to extract parameters from estimator\n",
      "COMET ERROR: Failed to extract parameters from estimator\n",
      "COMET ERROR: Failed to extract parameters from estimator\n"
     ]
    },
    {
     "name": "stdout",
     "output_type": "stream",
     "text": [
      "Fitting 3 folds for each of 1 candidates, totalling 3 fits\n"
     ]
    },
    {
     "name": "stderr",
     "output_type": "stream",
     "text": [
      "C:\\Users\\saiak\\.conda\\envs\\ift6758-conda-env\\lib\\site-packages\\xgboost\\training.py:17: UserWarning: Old style callback is deprecated.  See: https://xgboost.readthedocs.io/en/latest/python/callbacks.html\n",
      "  warnings.warn(f'Old style callback is deprecated.  See: {link}', UserWarning)\n"
     ]
    },
    {
     "name": "stdout",
     "output_type": "stream",
     "text": [
      "[CV 1/3] END gamma=0.8, learning_rate=0.2, max_depth=12, n_estimators=130, reg_alpha=0.1, reg_lambda=0.0;, score=(train=0.992, test=0.734) total time=   6.9s\n"
     ]
    },
    {
     "name": "stderr",
     "output_type": "stream",
     "text": [
      "C:\\Users\\saiak\\.conda\\envs\\ift6758-conda-env\\lib\\site-packages\\xgboost\\training.py:17: UserWarning: Old style callback is deprecated.  See: https://xgboost.readthedocs.io/en/latest/python/callbacks.html\n",
      "  warnings.warn(f'Old style callback is deprecated.  See: {link}', UserWarning)\n"
     ]
    },
    {
     "name": "stdout",
     "output_type": "stream",
     "text": [
      "[CV 2/3] END gamma=0.8, learning_rate=0.2, max_depth=12, n_estimators=130, reg_alpha=0.1, reg_lambda=0.0;, score=(train=0.986, test=0.734) total time=   6.3s\n"
     ]
    },
    {
     "name": "stderr",
     "output_type": "stream",
     "text": [
      "C:\\Users\\saiak\\.conda\\envs\\ift6758-conda-env\\lib\\site-packages\\xgboost\\training.py:17: UserWarning: Old style callback is deprecated.  See: https://xgboost.readthedocs.io/en/latest/python/callbacks.html\n",
      "  warnings.warn(f'Old style callback is deprecated.  See: {link}', UserWarning)\n",
      "COMET ERROR: Failed to extract parameters from estimator\n",
      "COMET ERROR: Failed to extract parameters from estimator\n"
     ]
    },
    {
     "name": "stdout",
     "output_type": "stream",
     "text": [
      "[CV 3/3] END gamma=0.8, learning_rate=0.2, max_depth=12, n_estimators=130, reg_alpha=0.1, reg_lambda=0.0;, score=(train=0.985, test=0.737) total time=   6.1s\n"
     ]
    },
    {
     "name": "stderr",
     "output_type": "stream",
     "text": [
      "COMET ERROR: Failed to extract parameters from estimator\n",
      "COMET ERROR: Failed to extract parameters from estimator\n",
      "COMET ERROR: Failed to extract parameters from estimator\n",
      "COMET ERROR: Failed to extract parameters from estimator\n"
     ]
    },
    {
     "name": "stdout",
     "output_type": "stream",
     "text": [
      "Fitting 3 folds for each of 1 candidates, totalling 3 fits\n"
     ]
    },
    {
     "name": "stderr",
     "output_type": "stream",
     "text": [
      "C:\\Users\\saiak\\.conda\\envs\\ift6758-conda-env\\lib\\site-packages\\xgboost\\training.py:17: UserWarning: Old style callback is deprecated.  See: https://xgboost.readthedocs.io/en/latest/python/callbacks.html\n",
      "  warnings.warn(f'Old style callback is deprecated.  See: {link}', UserWarning)\n"
     ]
    },
    {
     "name": "stdout",
     "output_type": "stream",
     "text": [
      "[CV 1/3] END gamma=3.2, learning_rate=0.1, max_depth=6, n_estimators=80, reg_alpha=3.2, reg_lambda=0.1;, score=(train=0.802, test=0.766) total time=   1.1s\n"
     ]
    },
    {
     "name": "stderr",
     "output_type": "stream",
     "text": [
      "C:\\Users\\saiak\\.conda\\envs\\ift6758-conda-env\\lib\\site-packages\\xgboost\\training.py:17: UserWarning: Old style callback is deprecated.  See: https://xgboost.readthedocs.io/en/latest/python/callbacks.html\n",
      "  warnings.warn(f'Old style callback is deprecated.  See: {link}', UserWarning)\n"
     ]
    },
    {
     "name": "stdout",
     "output_type": "stream",
     "text": [
      "[CV 2/3] END gamma=3.2, learning_rate=0.1, max_depth=6, n_estimators=80, reg_alpha=3.2, reg_lambda=0.1;, score=(train=0.801, test=0.766) total time=   1.1s\n"
     ]
    },
    {
     "name": "stderr",
     "output_type": "stream",
     "text": [
      "C:\\Users\\saiak\\.conda\\envs\\ift6758-conda-env\\lib\\site-packages\\xgboost\\training.py:17: UserWarning: Old style callback is deprecated.  See: https://xgboost.readthedocs.io/en/latest/python/callbacks.html\n",
      "  warnings.warn(f'Old style callback is deprecated.  See: {link}', UserWarning)\n",
      "COMET ERROR: Failed to extract parameters from estimator\n",
      "COMET ERROR: Failed to extract parameters from estimator\n"
     ]
    },
    {
     "name": "stdout",
     "output_type": "stream",
     "text": [
      "[CV 3/3] END gamma=3.2, learning_rate=0.1, max_depth=6, n_estimators=80, reg_alpha=3.2, reg_lambda=0.1;, score=(train=0.802, test=0.767) total time=   1.0s\n"
     ]
    },
    {
     "name": "stderr",
     "output_type": "stream",
     "text": [
      "COMET ERROR: Failed to extract parameters from estimator\n",
      "COMET ERROR: Failed to extract parameters from estimator\n",
      "COMET ERROR: Failed to extract parameters from estimator\n",
      "COMET ERROR: Failed to extract parameters from estimator\n"
     ]
    },
    {
     "name": "stdout",
     "output_type": "stream",
     "text": [
      "Fitting 3 folds for each of 1 candidates, totalling 3 fits\n"
     ]
    },
    {
     "name": "stderr",
     "output_type": "stream",
     "text": [
      "C:\\Users\\saiak\\.conda\\envs\\ift6758-conda-env\\lib\\site-packages\\xgboost\\training.py:17: UserWarning: Old style callback is deprecated.  See: https://xgboost.readthedocs.io/en/latest/python/callbacks.html\n",
      "  warnings.warn(f'Old style callback is deprecated.  See: {link}', UserWarning)\n"
     ]
    },
    {
     "name": "stdout",
     "output_type": "stream",
     "text": [
      "[CV 1/3] END gamma=3.2, learning_rate=0.15, max_depth=8, n_estimators=65, reg_alpha=3.2, reg_lambda=6.4;, score=(train=0.834, test=0.764) total time=   1.4s\n"
     ]
    },
    {
     "name": "stderr",
     "output_type": "stream",
     "text": [
      "C:\\Users\\saiak\\.conda\\envs\\ift6758-conda-env\\lib\\site-packages\\xgboost\\training.py:17: UserWarning: Old style callback is deprecated.  See: https://xgboost.readthedocs.io/en/latest/python/callbacks.html\n",
      "  warnings.warn(f'Old style callback is deprecated.  See: {link}', UserWarning)\n"
     ]
    },
    {
     "name": "stdout",
     "output_type": "stream",
     "text": [
      "[CV 2/3] END gamma=3.2, learning_rate=0.15, max_depth=8, n_estimators=65, reg_alpha=3.2, reg_lambda=6.4;, score=(train=0.829, test=0.763) total time=   1.6s\n"
     ]
    },
    {
     "name": "stderr",
     "output_type": "stream",
     "text": [
      "C:\\Users\\saiak\\.conda\\envs\\ift6758-conda-env\\lib\\site-packages\\xgboost\\training.py:17: UserWarning: Old style callback is deprecated.  See: https://xgboost.readthedocs.io/en/latest/python/callbacks.html\n",
      "  warnings.warn(f'Old style callback is deprecated.  See: {link}', UserWarning)\n",
      "COMET ERROR: Failed to extract parameters from estimator\n",
      "COMET ERROR: Failed to extract parameters from estimator\n"
     ]
    },
    {
     "name": "stdout",
     "output_type": "stream",
     "text": [
      "[CV 3/3] END gamma=3.2, learning_rate=0.15, max_depth=8, n_estimators=65, reg_alpha=3.2, reg_lambda=6.4;, score=(train=0.833, test=0.766) total time=   1.7s\n"
     ]
    },
    {
     "name": "stderr",
     "output_type": "stream",
     "text": [
      "COMET ERROR: Failed to extract parameters from estimator\n",
      "COMET ERROR: Failed to extract parameters from estimator\n",
      "COMET ERROR: Failed to extract parameters from estimator\n",
      "COMET ERROR: Failed to extract parameters from estimator\n"
     ]
    },
    {
     "name": "stdout",
     "output_type": "stream",
     "text": [
      "Fitting 3 folds for each of 1 candidates, totalling 3 fits\n"
     ]
    },
    {
     "name": "stderr",
     "output_type": "stream",
     "text": [
      "C:\\Users\\saiak\\.conda\\envs\\ift6758-conda-env\\lib\\site-packages\\xgboost\\training.py:17: UserWarning: Old style callback is deprecated.  See: https://xgboost.readthedocs.io/en/latest/python/callbacks.html\n",
      "  warnings.warn(f'Old style callback is deprecated.  See: {link}', UserWarning)\n"
     ]
    },
    {
     "name": "stdout",
     "output_type": "stream",
     "text": [
      "[CV 1/3] END gamma=3.2, learning_rate=0.03, max_depth=8, n_estimators=80, reg_alpha=3.2, reg_lambda=25.6;, score=(train=0.788, test=0.760) total time=   2.2s\n"
     ]
    },
    {
     "name": "stderr",
     "output_type": "stream",
     "text": [
      "C:\\Users\\saiak\\.conda\\envs\\ift6758-conda-env\\lib\\site-packages\\xgboost\\training.py:17: UserWarning: Old style callback is deprecated.  See: https://xgboost.readthedocs.io/en/latest/python/callbacks.html\n",
      "  warnings.warn(f'Old style callback is deprecated.  See: {link}', UserWarning)\n"
     ]
    },
    {
     "name": "stdout",
     "output_type": "stream",
     "text": [
      "[CV 2/3] END gamma=3.2, learning_rate=0.03, max_depth=8, n_estimators=80, reg_alpha=3.2, reg_lambda=25.6;, score=(train=0.787, test=0.765) total time=   2.4s\n"
     ]
    },
    {
     "name": "stderr",
     "output_type": "stream",
     "text": [
      "C:\\Users\\saiak\\.conda\\envs\\ift6758-conda-env\\lib\\site-packages\\xgboost\\training.py:17: UserWarning: Old style callback is deprecated.  See: https://xgboost.readthedocs.io/en/latest/python/callbacks.html\n",
      "  warnings.warn(f'Old style callback is deprecated.  See: {link}', UserWarning)\n",
      "COMET ERROR: Failed to extract parameters from estimator\n",
      "COMET ERROR: Failed to extract parameters from estimator\n"
     ]
    },
    {
     "name": "stdout",
     "output_type": "stream",
     "text": [
      "[CV 3/3] END gamma=3.2, learning_rate=0.03, max_depth=8, n_estimators=80, reg_alpha=3.2, reg_lambda=25.6;, score=(train=0.787, test=0.765) total time=   2.1s\n"
     ]
    },
    {
     "name": "stderr",
     "output_type": "stream",
     "text": [
      "COMET ERROR: Failed to extract parameters from estimator\n",
      "COMET ERROR: Failed to extract parameters from estimator\n",
      "COMET ERROR: Failed to extract parameters from estimator\n",
      "COMET ERROR: Failed to extract parameters from estimator\n"
     ]
    },
    {
     "name": "stdout",
     "output_type": "stream",
     "text": [
      "Fitting 3 folds for each of 1 candidates, totalling 3 fits\n"
     ]
    },
    {
     "name": "stderr",
     "output_type": "stream",
     "text": [
      "C:\\Users\\saiak\\.conda\\envs\\ift6758-conda-env\\lib\\site-packages\\xgboost\\training.py:17: UserWarning: Old style callback is deprecated.  See: https://xgboost.readthedocs.io/en/latest/python/callbacks.html\n",
      "  warnings.warn(f'Old style callback is deprecated.  See: {link}', UserWarning)\n"
     ]
    },
    {
     "name": "stdout",
     "output_type": "stream",
     "text": [
      "[CV 1/3] END gamma=3.2, learning_rate=0.25, max_depth=10, n_estimators=65, reg_alpha=3.2, reg_lambda=0.0;, score=(train=0.900, test=0.754) total time=   1.8s\n"
     ]
    },
    {
     "name": "stderr",
     "output_type": "stream",
     "text": [
      "C:\\Users\\saiak\\.conda\\envs\\ift6758-conda-env\\lib\\site-packages\\xgboost\\training.py:17: UserWarning: Old style callback is deprecated.  See: https://xgboost.readthedocs.io/en/latest/python/callbacks.html\n",
      "  warnings.warn(f'Old style callback is deprecated.  See: {link}', UserWarning)\n"
     ]
    },
    {
     "name": "stdout",
     "output_type": "stream",
     "text": [
      "[CV 2/3] END gamma=3.2, learning_rate=0.25, max_depth=10, n_estimators=65, reg_alpha=3.2, reg_lambda=0.0;, score=(train=0.891, test=0.754) total time=   1.6s\n"
     ]
    },
    {
     "name": "stderr",
     "output_type": "stream",
     "text": [
      "C:\\Users\\saiak\\.conda\\envs\\ift6758-conda-env\\lib\\site-packages\\xgboost\\training.py:17: UserWarning: Old style callback is deprecated.  See: https://xgboost.readthedocs.io/en/latest/python/callbacks.html\n",
      "  warnings.warn(f'Old style callback is deprecated.  See: {link}', UserWarning)\n",
      "COMET ERROR: Failed to extract parameters from estimator\n",
      "COMET ERROR: Failed to extract parameters from estimator\n"
     ]
    },
    {
     "name": "stdout",
     "output_type": "stream",
     "text": [
      "[CV 3/3] END gamma=3.2, learning_rate=0.25, max_depth=10, n_estimators=65, reg_alpha=3.2, reg_lambda=0.0;, score=(train=0.892, test=0.756) total time=   1.7s\n"
     ]
    },
    {
     "name": "stderr",
     "output_type": "stream",
     "text": [
      "COMET ERROR: Failed to extract parameters from estimator\n",
      "COMET ERROR: Failed to extract parameters from estimator\n",
      "COMET ERROR: Failed to extract parameters from estimator\n",
      "COMET ERROR: Failed to extract parameters from estimator\n"
     ]
    },
    {
     "name": "stdout",
     "output_type": "stream",
     "text": [
      "Fitting 3 folds for each of 1 candidates, totalling 3 fits\n"
     ]
    },
    {
     "name": "stderr",
     "output_type": "stream",
     "text": [
      "C:\\Users\\saiak\\.conda\\envs\\ift6758-conda-env\\lib\\site-packages\\xgboost\\training.py:17: UserWarning: Old style callback is deprecated.  See: https://xgboost.readthedocs.io/en/latest/python/callbacks.html\n",
      "  warnings.warn(f'Old style callback is deprecated.  See: {link}', UserWarning)\n"
     ]
    },
    {
     "name": "stdout",
     "output_type": "stream",
     "text": [
      "[CV 1/3] END gamma=3.2, learning_rate=0.25, max_depth=12, n_estimators=65, reg_alpha=3.2, reg_lambda=200.0;, score=(train=0.814, test=0.762) total time=   1.3s\n"
     ]
    },
    {
     "name": "stderr",
     "output_type": "stream",
     "text": [
      "C:\\Users\\saiak\\.conda\\envs\\ift6758-conda-env\\lib\\site-packages\\xgboost\\training.py:17: UserWarning: Old style callback is deprecated.  See: https://xgboost.readthedocs.io/en/latest/python/callbacks.html\n",
      "  warnings.warn(f'Old style callback is deprecated.  See: {link}', UserWarning)\n"
     ]
    },
    {
     "name": "stdout",
     "output_type": "stream",
     "text": [
      "[CV 2/3] END gamma=3.2, learning_rate=0.25, max_depth=12, n_estimators=65, reg_alpha=3.2, reg_lambda=200.0;, score=(train=0.815, test=0.763) total time=   1.2s\n"
     ]
    },
    {
     "name": "stderr",
     "output_type": "stream",
     "text": [
      "C:\\Users\\saiak\\.conda\\envs\\ift6758-conda-env\\lib\\site-packages\\xgboost\\training.py:17: UserWarning: Old style callback is deprecated.  See: https://xgboost.readthedocs.io/en/latest/python/callbacks.html\n",
      "  warnings.warn(f'Old style callback is deprecated.  See: {link}', UserWarning)\n",
      "COMET ERROR: Failed to extract parameters from estimator\n",
      "COMET ERROR: Failed to extract parameters from estimator\n"
     ]
    },
    {
     "name": "stdout",
     "output_type": "stream",
     "text": [
      "[CV 3/3] END gamma=3.2, learning_rate=0.25, max_depth=12, n_estimators=65, reg_alpha=3.2, reg_lambda=200.0;, score=(train=0.813, test=0.765) total time=   1.2s\n"
     ]
    },
    {
     "name": "stderr",
     "output_type": "stream",
     "text": [
      "COMET ERROR: Failed to extract parameters from estimator\n",
      "COMET ERROR: Failed to extract parameters from estimator\n",
      "COMET ERROR: Failed to extract parameters from estimator\n",
      "COMET ERROR: Failed to extract parameters from estimator\n"
     ]
    },
    {
     "name": "stdout",
     "output_type": "stream",
     "text": [
      "Fitting 3 folds for each of 1 candidates, totalling 3 fits\n"
     ]
    },
    {
     "name": "stderr",
     "output_type": "stream",
     "text": [
      "C:\\Users\\saiak\\.conda\\envs\\ift6758-conda-env\\lib\\site-packages\\xgboost\\training.py:17: UserWarning: Old style callback is deprecated.  See: https://xgboost.readthedocs.io/en/latest/python/callbacks.html\n",
      "  warnings.warn(f'Old style callback is deprecated.  See: {link}', UserWarning)\n"
     ]
    },
    {
     "name": "stdout",
     "output_type": "stream",
     "text": [
      "[CV 1/3] END gamma=3.2, learning_rate=0.25, max_depth=5, n_estimators=80, reg_alpha=3.2, reg_lambda=12.8;, score=(train=0.793, test=0.763) total time=   0.7s\n"
     ]
    },
    {
     "name": "stderr",
     "output_type": "stream",
     "text": [
      "C:\\Users\\saiak\\.conda\\envs\\ift6758-conda-env\\lib\\site-packages\\xgboost\\training.py:17: UserWarning: Old style callback is deprecated.  See: https://xgboost.readthedocs.io/en/latest/python/callbacks.html\n",
      "  warnings.warn(f'Old style callback is deprecated.  See: {link}', UserWarning)\n"
     ]
    },
    {
     "name": "stdout",
     "output_type": "stream",
     "text": [
      "[CV 2/3] END gamma=3.2, learning_rate=0.25, max_depth=5, n_estimators=80, reg_alpha=3.2, reg_lambda=12.8;, score=(train=0.791, test=0.767) total time=   0.6s\n"
     ]
    },
    {
     "name": "stderr",
     "output_type": "stream",
     "text": [
      "C:\\Users\\saiak\\.conda\\envs\\ift6758-conda-env\\lib\\site-packages\\xgboost\\training.py:17: UserWarning: Old style callback is deprecated.  See: https://xgboost.readthedocs.io/en/latest/python/callbacks.html\n",
      "  warnings.warn(f'Old style callback is deprecated.  See: {link}', UserWarning)\n",
      "COMET ERROR: Failed to extract parameters from estimator\n",
      "COMET ERROR: Failed to extract parameters from estimator\n"
     ]
    },
    {
     "name": "stdout",
     "output_type": "stream",
     "text": [
      "[CV 3/3] END gamma=3.2, learning_rate=0.25, max_depth=5, n_estimators=80, reg_alpha=3.2, reg_lambda=12.8;, score=(train=0.794, test=0.766) total time=   0.7s\n"
     ]
    },
    {
     "name": "stderr",
     "output_type": "stream",
     "text": [
      "COMET ERROR: Failed to extract parameters from estimator\n",
      "COMET ERROR: Failed to extract parameters from estimator\n",
      "COMET ERROR: Failed to extract parameters from estimator\n",
      "COMET ERROR: Failed to extract parameters from estimator\n"
     ]
    },
    {
     "name": "stdout",
     "output_type": "stream",
     "text": [
      "Fitting 3 folds for each of 1 candidates, totalling 3 fits\n"
     ]
    },
    {
     "name": "stderr",
     "output_type": "stream",
     "text": [
      "C:\\Users\\saiak\\.conda\\envs\\ift6758-conda-env\\lib\\site-packages\\xgboost\\training.py:17: UserWarning: Old style callback is deprecated.  See: https://xgboost.readthedocs.io/en/latest/python/callbacks.html\n",
      "  warnings.warn(f'Old style callback is deprecated.  See: {link}', UserWarning)\n"
     ]
    },
    {
     "name": "stdout",
     "output_type": "stream",
     "text": [
      "[CV 1/3] END gamma=12.8, learning_rate=0.1, max_depth=10, n_estimators=115, reg_alpha=12.8, reg_lambda=0.1;, score=(train=0.788, test=0.763) total time=   1.0s\n"
     ]
    },
    {
     "name": "stderr",
     "output_type": "stream",
     "text": [
      "C:\\Users\\saiak\\.conda\\envs\\ift6758-conda-env\\lib\\site-packages\\xgboost\\training.py:17: UserWarning: Old style callback is deprecated.  See: https://xgboost.readthedocs.io/en/latest/python/callbacks.html\n",
      "  warnings.warn(f'Old style callback is deprecated.  See: {link}', UserWarning)\n"
     ]
    },
    {
     "name": "stdout",
     "output_type": "stream",
     "text": [
      "[CV 2/3] END gamma=12.8, learning_rate=0.1, max_depth=10, n_estimators=115, reg_alpha=12.8, reg_lambda=0.1;, score=(train=0.788, test=0.766) total time=   1.1s\n"
     ]
    },
    {
     "name": "stderr",
     "output_type": "stream",
     "text": [
      "C:\\Users\\saiak\\.conda\\envs\\ift6758-conda-env\\lib\\site-packages\\xgboost\\training.py:17: UserWarning: Old style callback is deprecated.  See: https://xgboost.readthedocs.io/en/latest/python/callbacks.html\n",
      "  warnings.warn(f'Old style callback is deprecated.  See: {link}', UserWarning)\n",
      "COMET ERROR: Failed to extract parameters from estimator\n",
      "COMET ERROR: Failed to extract parameters from estimator\n"
     ]
    },
    {
     "name": "stdout",
     "output_type": "stream",
     "text": [
      "[CV 3/3] END gamma=12.8, learning_rate=0.1, max_depth=10, n_estimators=115, reg_alpha=12.8, reg_lambda=0.1;, score=(train=0.786, test=0.768) total time=   1.0s\n"
     ]
    },
    {
     "name": "stderr",
     "output_type": "stream",
     "text": [
      "COMET ERROR: Failed to extract parameters from estimator\n",
      "COMET ERROR: Failed to extract parameters from estimator\n",
      "COMET ERROR: Failed to extract parameters from estimator\n",
      "COMET ERROR: Failed to extract parameters from estimator\n"
     ]
    },
    {
     "name": "stdout",
     "output_type": "stream",
     "text": [
      "Fitting 3 folds for each of 1 candidates, totalling 3 fits\n"
     ]
    },
    {
     "name": "stderr",
     "output_type": "stream",
     "text": [
      "C:\\Users\\saiak\\.conda\\envs\\ift6758-conda-env\\lib\\site-packages\\xgboost\\training.py:17: UserWarning: Old style callback is deprecated.  See: https://xgboost.readthedocs.io/en/latest/python/callbacks.html\n",
      "  warnings.warn(f'Old style callback is deprecated.  See: {link}', UserWarning)\n"
     ]
    },
    {
     "name": "stdout",
     "output_type": "stream",
     "text": [
      "[CV 1/3] END gamma=12.8, learning_rate=0.2, max_depth=12, n_estimators=100, reg_alpha=12.8, reg_lambda=0.1;, score=(train=0.787, test=0.766) total time=   0.7s\n"
     ]
    },
    {
     "name": "stderr",
     "output_type": "stream",
     "text": [
      "C:\\Users\\saiak\\.conda\\envs\\ift6758-conda-env\\lib\\site-packages\\xgboost\\training.py:17: UserWarning: Old style callback is deprecated.  See: https://xgboost.readthedocs.io/en/latest/python/callbacks.html\n",
      "  warnings.warn(f'Old style callback is deprecated.  See: {link}', UserWarning)\n"
     ]
    },
    {
     "name": "stdout",
     "output_type": "stream",
     "text": [
      "[CV 2/3] END gamma=12.8, learning_rate=0.2, max_depth=12, n_estimators=100, reg_alpha=12.8, reg_lambda=0.1;, score=(train=0.788, test=0.765) total time=   0.8s\n"
     ]
    },
    {
     "name": "stderr",
     "output_type": "stream",
     "text": [
      "C:\\Users\\saiak\\.conda\\envs\\ift6758-conda-env\\lib\\site-packages\\xgboost\\training.py:17: UserWarning: Old style callback is deprecated.  See: https://xgboost.readthedocs.io/en/latest/python/callbacks.html\n",
      "  warnings.warn(f'Old style callback is deprecated.  See: {link}', UserWarning)\n",
      "COMET ERROR: Failed to extract parameters from estimator\n",
      "COMET ERROR: Failed to extract parameters from estimator\n"
     ]
    },
    {
     "name": "stdout",
     "output_type": "stream",
     "text": [
      "[CV 3/3] END gamma=12.8, learning_rate=0.2, max_depth=12, n_estimators=100, reg_alpha=12.8, reg_lambda=0.1;, score=(train=0.789, test=0.765) total time=   0.8s\n"
     ]
    },
    {
     "name": "stderr",
     "output_type": "stream",
     "text": [
      "COMET ERROR: Failed to extract parameters from estimator\n",
      "COMET ERROR: Failed to extract parameters from estimator\n",
      "COMET ERROR: Failed to extract parameters from estimator\n",
      "COMET ERROR: Failed to extract parameters from estimator\n"
     ]
    },
    {
     "name": "stdout",
     "output_type": "stream",
     "text": [
      "Fitting 3 folds for each of 1 candidates, totalling 3 fits\n"
     ]
    },
    {
     "name": "stderr",
     "output_type": "stream",
     "text": [
      "C:\\Users\\saiak\\.conda\\envs\\ift6758-conda-env\\lib\\site-packages\\xgboost\\training.py:17: UserWarning: Old style callback is deprecated.  See: https://xgboost.readthedocs.io/en/latest/python/callbacks.html\n",
      "  warnings.warn(f'Old style callback is deprecated.  See: {link}', UserWarning)\n"
     ]
    },
    {
     "name": "stdout",
     "output_type": "stream",
     "text": [
      "[CV 1/3] END gamma=12.8, learning_rate=0.3, max_depth=15, n_estimators=130, reg_alpha=12.8, reg_lambda=12.8;, score=(train=0.787, test=0.765) total time=   0.8s\n"
     ]
    },
    {
     "name": "stderr",
     "output_type": "stream",
     "text": [
      "C:\\Users\\saiak\\.conda\\envs\\ift6758-conda-env\\lib\\site-packages\\xgboost\\training.py:17: UserWarning: Old style callback is deprecated.  See: https://xgboost.readthedocs.io/en/latest/python/callbacks.html\n",
      "  warnings.warn(f'Old style callback is deprecated.  See: {link}', UserWarning)\n"
     ]
    },
    {
     "name": "stdout",
     "output_type": "stream",
     "text": [
      "[CV 2/3] END gamma=12.8, learning_rate=0.3, max_depth=15, n_estimators=130, reg_alpha=12.8, reg_lambda=12.8;, score=(train=0.785, test=0.765) total time=   0.8s\n"
     ]
    },
    {
     "name": "stderr",
     "output_type": "stream",
     "text": [
      "C:\\Users\\saiak\\.conda\\envs\\ift6758-conda-env\\lib\\site-packages\\xgboost\\training.py:17: UserWarning: Old style callback is deprecated.  See: https://xgboost.readthedocs.io/en/latest/python/callbacks.html\n",
      "  warnings.warn(f'Old style callback is deprecated.  See: {link}', UserWarning)\n",
      "COMET ERROR: Failed to extract parameters from estimator\n",
      "COMET ERROR: Failed to extract parameters from estimator\n"
     ]
    },
    {
     "name": "stdout",
     "output_type": "stream",
     "text": [
      "[CV 3/3] END gamma=12.8, learning_rate=0.3, max_depth=15, n_estimators=130, reg_alpha=12.8, reg_lambda=12.8;, score=(train=0.786, test=0.763) total time=   0.8s\n"
     ]
    },
    {
     "name": "stderr",
     "output_type": "stream",
     "text": [
      "COMET ERROR: Failed to extract parameters from estimator\n",
      "COMET ERROR: Failed to extract parameters from estimator\n",
      "COMET ERROR: Failed to extract parameters from estimator\n",
      "COMET ERROR: Failed to extract parameters from estimator\n"
     ]
    },
    {
     "name": "stdout",
     "output_type": "stream",
     "text": [
      "Fitting 3 folds for each of 1 candidates, totalling 3 fits\n"
     ]
    },
    {
     "name": "stderr",
     "output_type": "stream",
     "text": [
      "C:\\Users\\saiak\\.conda\\envs\\ift6758-conda-env\\lib\\site-packages\\xgboost\\training.py:17: UserWarning: Old style callback is deprecated.  See: https://xgboost.readthedocs.io/en/latest/python/callbacks.html\n",
      "  warnings.warn(f'Old style callback is deprecated.  See: {link}', UserWarning)\n"
     ]
    },
    {
     "name": "stdout",
     "output_type": "stream",
     "text": [
      "[CV 1/3] END gamma=12.8, learning_rate=0.6, max_depth=4, n_estimators=80, reg_alpha=0.1, reg_lambda=0.1;, score=(train=0.776, test=0.762) total time=   0.4s\n"
     ]
    },
    {
     "name": "stderr",
     "output_type": "stream",
     "text": [
      "C:\\Users\\saiak\\.conda\\envs\\ift6758-conda-env\\lib\\site-packages\\xgboost\\training.py:17: UserWarning: Old style callback is deprecated.  See: https://xgboost.readthedocs.io/en/latest/python/callbacks.html\n",
      "  warnings.warn(f'Old style callback is deprecated.  See: {link}', UserWarning)\n"
     ]
    },
    {
     "name": "stdout",
     "output_type": "stream",
     "text": [
      "[CV 2/3] END gamma=12.8, learning_rate=0.6, max_depth=4, n_estimators=80, reg_alpha=0.1, reg_lambda=0.1;, score=(train=0.772, test=0.759) total time=   0.4s\n"
     ]
    },
    {
     "name": "stderr",
     "output_type": "stream",
     "text": [
      "C:\\Users\\saiak\\.conda\\envs\\ift6758-conda-env\\lib\\site-packages\\xgboost\\training.py:17: UserWarning: Old style callback is deprecated.  See: https://xgboost.readthedocs.io/en/latest/python/callbacks.html\n",
      "  warnings.warn(f'Old style callback is deprecated.  See: {link}', UserWarning)\n",
      "COMET ERROR: Failed to extract parameters from estimator\n"
     ]
    },
    {
     "name": "stdout",
     "output_type": "stream",
     "text": [
      "[CV 3/3] END gamma=12.8, learning_rate=0.6, max_depth=4, n_estimators=80, reg_alpha=0.1, reg_lambda=0.1;, score=(train=0.776, test=0.759) total time=   0.6s\n"
     ]
    },
    {
     "name": "stderr",
     "output_type": "stream",
     "text": [
      "COMET ERROR: Failed to extract parameters from estimator\n",
      "COMET ERROR: Failed to extract parameters from estimator\n",
      "COMET ERROR: Failed to extract parameters from estimator\n",
      "COMET ERROR: Failed to extract parameters from estimator\n",
      "COMET ERROR: Failed to extract parameters from estimator\n"
     ]
    },
    {
     "name": "stdout",
     "output_type": "stream",
     "text": [
      "Fitting 3 folds for each of 1 candidates, totalling 3 fits\n"
     ]
    },
    {
     "name": "stderr",
     "output_type": "stream",
     "text": [
      "C:\\Users\\saiak\\.conda\\envs\\ift6758-conda-env\\lib\\site-packages\\xgboost\\training.py:17: UserWarning: Old style callback is deprecated.  See: https://xgboost.readthedocs.io/en/latest/python/callbacks.html\n",
      "  warnings.warn(f'Old style callback is deprecated.  See: {link}', UserWarning)\n"
     ]
    },
    {
     "name": "stdout",
     "output_type": "stream",
     "text": [
      "[CV 1/3] END gamma=12.8, learning_rate=0.1, max_depth=6, n_estimators=65, reg_alpha=12.8, reg_lambda=0.2;, score=(train=0.778, test=0.767) total time=   0.8s\n"
     ]
    },
    {
     "name": "stderr",
     "output_type": "stream",
     "text": [
      "C:\\Users\\saiak\\.conda\\envs\\ift6758-conda-env\\lib\\site-packages\\xgboost\\training.py:17: UserWarning: Old style callback is deprecated.  See: https://xgboost.readthedocs.io/en/latest/python/callbacks.html\n",
      "  warnings.warn(f'Old style callback is deprecated.  See: {link}', UserWarning)\n"
     ]
    },
    {
     "name": "stdout",
     "output_type": "stream",
     "text": [
      "[CV 2/3] END gamma=12.8, learning_rate=0.1, max_depth=6, n_estimators=65, reg_alpha=12.8, reg_lambda=0.2;, score=(train=0.780, test=0.761) total time=   0.7s\n"
     ]
    },
    {
     "name": "stderr",
     "output_type": "stream",
     "text": [
      "C:\\Users\\saiak\\.conda\\envs\\ift6758-conda-env\\lib\\site-packages\\xgboost\\training.py:17: UserWarning: Old style callback is deprecated.  See: https://xgboost.readthedocs.io/en/latest/python/callbacks.html\n",
      "  warnings.warn(f'Old style callback is deprecated.  See: {link}', UserWarning)\n",
      "COMET ERROR: Failed to extract parameters from estimator\n"
     ]
    },
    {
     "name": "stdout",
     "output_type": "stream",
     "text": [
      "[CV 3/3] END gamma=12.8, learning_rate=0.1, max_depth=6, n_estimators=65, reg_alpha=12.8, reg_lambda=0.2;, score=(train=0.779, test=0.767) total time=   0.7s\n"
     ]
    },
    {
     "name": "stderr",
     "output_type": "stream",
     "text": [
      "COMET ERROR: Failed to extract parameters from estimator\n",
      "COMET ERROR: Failed to extract parameters from estimator\n",
      "COMET ERROR: Failed to extract parameters from estimator\n",
      "COMET ERROR: Failed to extract parameters from estimator\n",
      "COMET ERROR: Failed to extract parameters from estimator\n"
     ]
    },
    {
     "name": "stdout",
     "output_type": "stream",
     "text": [
      "Fitting 3 folds for each of 1 candidates, totalling 3 fits\n"
     ]
    },
    {
     "name": "stderr",
     "output_type": "stream",
     "text": [
      "C:\\Users\\saiak\\.conda\\envs\\ift6758-conda-env\\lib\\site-packages\\xgboost\\training.py:17: UserWarning: Old style callback is deprecated.  See: https://xgboost.readthedocs.io/en/latest/python/callbacks.html\n",
      "  warnings.warn(f'Old style callback is deprecated.  See: {link}', UserWarning)\n"
     ]
    },
    {
     "name": "stdout",
     "output_type": "stream",
     "text": [
      "[CV 1/3] END gamma=12.8, learning_rate=0.1, max_depth=15, n_estimators=150, reg_alpha=0.8, reg_lambda=200.0;, score=(train=0.781, test=0.760) total time=   1.3s\n"
     ]
    },
    {
     "name": "stderr",
     "output_type": "stream",
     "text": [
      "C:\\Users\\saiak\\.conda\\envs\\ift6758-conda-env\\lib\\site-packages\\xgboost\\training.py:17: UserWarning: Old style callback is deprecated.  See: https://xgboost.readthedocs.io/en/latest/python/callbacks.html\n",
      "  warnings.warn(f'Old style callback is deprecated.  See: {link}', UserWarning)\n"
     ]
    },
    {
     "name": "stdout",
     "output_type": "stream",
     "text": [
      "[CV 2/3] END gamma=12.8, learning_rate=0.1, max_depth=15, n_estimators=150, reg_alpha=0.8, reg_lambda=200.0;, score=(train=0.780, test=0.764) total time=   1.2s\n"
     ]
    },
    {
     "name": "stderr",
     "output_type": "stream",
     "text": [
      "C:\\Users\\saiak\\.conda\\envs\\ift6758-conda-env\\lib\\site-packages\\xgboost\\training.py:17: UserWarning: Old style callback is deprecated.  See: https://xgboost.readthedocs.io/en/latest/python/callbacks.html\n",
      "  warnings.warn(f'Old style callback is deprecated.  See: {link}', UserWarning)\n",
      "COMET ERROR: Failed to extract parameters from estimator\n"
     ]
    },
    {
     "name": "stdout",
     "output_type": "stream",
     "text": [
      "[CV 3/3] END gamma=12.8, learning_rate=0.1, max_depth=15, n_estimators=150, reg_alpha=0.8, reg_lambda=200.0;, score=(train=0.778, test=0.769) total time=   1.3s\n"
     ]
    },
    {
     "name": "stderr",
     "output_type": "stream",
     "text": [
      "COMET ERROR: Failed to extract parameters from estimator\n",
      "COMET ERROR: Failed to extract parameters from estimator\n",
      "COMET ERROR: Failed to extract parameters from estimator\n",
      "COMET ERROR: Failed to extract parameters from estimator\n",
      "COMET ERROR: Failed to extract parameters from estimator\n"
     ]
    },
    {
     "name": "stdout",
     "output_type": "stream",
     "text": [
      "Fitting 3 folds for each of 1 candidates, totalling 3 fits\n"
     ]
    },
    {
     "name": "stderr",
     "output_type": "stream",
     "text": [
      "C:\\Users\\saiak\\.conda\\envs\\ift6758-conda-env\\lib\\site-packages\\xgboost\\training.py:17: UserWarning: Old style callback is deprecated.  See: https://xgboost.readthedocs.io/en/latest/python/callbacks.html\n",
      "  warnings.warn(f'Old style callback is deprecated.  See: {link}', UserWarning)\n"
     ]
    },
    {
     "name": "stdout",
     "output_type": "stream",
     "text": [
      "[CV 1/3] END gamma=12.8, learning_rate=0.5, max_depth=3, n_estimators=100, reg_alpha=12.8, reg_lambda=0.4;, score=(train=0.768, test=0.760) total time=   0.5s\n"
     ]
    },
    {
     "name": "stderr",
     "output_type": "stream",
     "text": [
      "C:\\Users\\saiak\\.conda\\envs\\ift6758-conda-env\\lib\\site-packages\\xgboost\\training.py:17: UserWarning: Old style callback is deprecated.  See: https://xgboost.readthedocs.io/en/latest/python/callbacks.html\n",
      "  warnings.warn(f'Old style callback is deprecated.  See: {link}', UserWarning)\n"
     ]
    },
    {
     "name": "stdout",
     "output_type": "stream",
     "text": [
      "[CV 2/3] END gamma=12.8, learning_rate=0.5, max_depth=3, n_estimators=100, reg_alpha=12.8, reg_lambda=0.4;, score=(train=0.765, test=0.759) total time=   0.5s\n"
     ]
    },
    {
     "name": "stderr",
     "output_type": "stream",
     "text": [
      "C:\\Users\\saiak\\.conda\\envs\\ift6758-conda-env\\lib\\site-packages\\xgboost\\training.py:17: UserWarning: Old style callback is deprecated.  See: https://xgboost.readthedocs.io/en/latest/python/callbacks.html\n",
      "  warnings.warn(f'Old style callback is deprecated.  See: {link}', UserWarning)\n",
      "COMET ERROR: Failed to extract parameters from estimator\n",
      "COMET ERROR: Failed to extract parameters from estimator\n"
     ]
    },
    {
     "name": "stdout",
     "output_type": "stream",
     "text": [
      "[CV 3/3] END gamma=12.8, learning_rate=0.5, max_depth=3, n_estimators=100, reg_alpha=12.8, reg_lambda=0.4;, score=(train=0.767, test=0.759) total time=   0.5s\n"
     ]
    },
    {
     "name": "stderr",
     "output_type": "stream",
     "text": [
      "COMET ERROR: Failed to extract parameters from estimator\n",
      "COMET ERROR: Failed to extract parameters from estimator\n",
      "COMET ERROR: Failed to extract parameters from estimator\n",
      "COMET ERROR: Failed to extract parameters from estimator\n"
     ]
    },
    {
     "name": "stdout",
     "output_type": "stream",
     "text": [
      "Fitting 3 folds for each of 1 candidates, totalling 3 fits\n"
     ]
    },
    {
     "name": "stderr",
     "output_type": "stream",
     "text": [
      "C:\\Users\\saiak\\.conda\\envs\\ift6758-conda-env\\lib\\site-packages\\xgboost\\training.py:17: UserWarning: Old style callback is deprecated.  See: https://xgboost.readthedocs.io/en/latest/python/callbacks.html\n",
      "  warnings.warn(f'Old style callback is deprecated.  See: {link}', UserWarning)\n"
     ]
    },
    {
     "name": "stdout",
     "output_type": "stream",
     "text": [
      "[CV 1/3] END gamma=12.8, learning_rate=0.15, max_depth=10, n_estimators=100, reg_alpha=12.8, reg_lambda=6.4;, score=(train=0.786, test=0.763) total time=   1.0s\n"
     ]
    },
    {
     "name": "stderr",
     "output_type": "stream",
     "text": [
      "C:\\Users\\saiak\\.conda\\envs\\ift6758-conda-env\\lib\\site-packages\\xgboost\\training.py:17: UserWarning: Old style callback is deprecated.  See: https://xgboost.readthedocs.io/en/latest/python/callbacks.html\n",
      "  warnings.warn(f'Old style callback is deprecated.  See: {link}', UserWarning)\n"
     ]
    },
    {
     "name": "stdout",
     "output_type": "stream",
     "text": [
      "[CV 2/3] END gamma=12.8, learning_rate=0.15, max_depth=10, n_estimators=100, reg_alpha=12.8, reg_lambda=6.4;, score=(train=0.783, test=0.770) total time=   0.9s\n"
     ]
    },
    {
     "name": "stderr",
     "output_type": "stream",
     "text": [
      "C:\\Users\\saiak\\.conda\\envs\\ift6758-conda-env\\lib\\site-packages\\xgboost\\training.py:17: UserWarning: Old style callback is deprecated.  See: https://xgboost.readthedocs.io/en/latest/python/callbacks.html\n",
      "  warnings.warn(f'Old style callback is deprecated.  See: {link}', UserWarning)\n",
      "COMET ERROR: Failed to extract parameters from estimator\n",
      "COMET ERROR: Failed to extract parameters from estimator\n"
     ]
    },
    {
     "name": "stdout",
     "output_type": "stream",
     "text": [
      "[CV 3/3] END gamma=12.8, learning_rate=0.15, max_depth=10, n_estimators=100, reg_alpha=12.8, reg_lambda=6.4;, score=(train=0.786, test=0.763) total time=   1.0s\n"
     ]
    },
    {
     "name": "stderr",
     "output_type": "stream",
     "text": [
      "COMET ERROR: Failed to extract parameters from estimator\n",
      "COMET ERROR: Failed to extract parameters from estimator\n",
      "COMET ERROR: Failed to extract parameters from estimator\n",
      "COMET ERROR: Failed to extract parameters from estimator\n"
     ]
    },
    {
     "name": "stdout",
     "output_type": "stream",
     "text": [
      "Fitting 3 folds for each of 1 candidates, totalling 3 fits\n"
     ]
    },
    {
     "name": "stderr",
     "output_type": "stream",
     "text": [
      "C:\\Users\\saiak\\.conda\\envs\\ift6758-conda-env\\lib\\site-packages\\xgboost\\training.py:17: UserWarning: Old style callback is deprecated.  See: https://xgboost.readthedocs.io/en/latest/python/callbacks.html\n",
      "  warnings.warn(f'Old style callback is deprecated.  See: {link}', UserWarning)\n"
     ]
    },
    {
     "name": "stdout",
     "output_type": "stream",
     "text": [
      "[CV 1/3] END gamma=3.2, learning_rate=0.15, max_depth=5, n_estimators=80, reg_alpha=0.2, reg_lambda=25.6;, score=(train=0.789, test=0.764) total time=   1.0s\n"
     ]
    },
    {
     "name": "stderr",
     "output_type": "stream",
     "text": [
      "C:\\Users\\saiak\\.conda\\envs\\ift6758-conda-env\\lib\\site-packages\\xgboost\\training.py:17: UserWarning: Old style callback is deprecated.  See: https://xgboost.readthedocs.io/en/latest/python/callbacks.html\n",
      "  warnings.warn(f'Old style callback is deprecated.  See: {link}', UserWarning)\n"
     ]
    },
    {
     "name": "stdout",
     "output_type": "stream",
     "text": [
      "[CV 2/3] END gamma=3.2, learning_rate=0.15, max_depth=5, n_estimators=80, reg_alpha=0.2, reg_lambda=25.6;, score=(train=0.789, test=0.763) total time=   0.8s\n"
     ]
    },
    {
     "name": "stderr",
     "output_type": "stream",
     "text": [
      "C:\\Users\\saiak\\.conda\\envs\\ift6758-conda-env\\lib\\site-packages\\xgboost\\training.py:17: UserWarning: Old style callback is deprecated.  See: https://xgboost.readthedocs.io/en/latest/python/callbacks.html\n",
      "  warnings.warn(f'Old style callback is deprecated.  See: {link}', UserWarning)\n",
      "COMET ERROR: Failed to extract parameters from estimator\n"
     ]
    },
    {
     "name": "stdout",
     "output_type": "stream",
     "text": [
      "[CV 3/3] END gamma=3.2, learning_rate=0.15, max_depth=5, n_estimators=80, reg_alpha=0.2, reg_lambda=25.6;, score=(train=0.786, test=0.769) total time=   0.7s\n"
     ]
    },
    {
     "name": "stderr",
     "output_type": "stream",
     "text": [
      "COMET ERROR: Failed to extract parameters from estimator\n",
      "COMET ERROR: Failed to extract parameters from estimator\n",
      "COMET ERROR: Failed to extract parameters from estimator\n",
      "COMET ERROR: Failed to extract parameters from estimator\n",
      "COMET ERROR: Failed to extract parameters from estimator\n"
     ]
    },
    {
     "name": "stdout",
     "output_type": "stream",
     "text": [
      "Fitting 3 folds for each of 1 candidates, totalling 3 fits\n"
     ]
    },
    {
     "name": "stderr",
     "output_type": "stream",
     "text": [
      "C:\\Users\\saiak\\.conda\\envs\\ift6758-conda-env\\lib\\site-packages\\xgboost\\training.py:17: UserWarning: Old style callback is deprecated.  See: https://xgboost.readthedocs.io/en/latest/python/callbacks.html\n",
      "  warnings.warn(f'Old style callback is deprecated.  See: {link}', UserWarning)\n"
     ]
    },
    {
     "name": "stdout",
     "output_type": "stream",
     "text": [
      "[CV 1/3] END gamma=3.2, learning_rate=0.15, max_depth=5, n_estimators=130, reg_alpha=0.4, reg_lambda=3.2;, score=(train=0.797, test=0.766) total time=   0.9s\n"
     ]
    },
    {
     "name": "stderr",
     "output_type": "stream",
     "text": [
      "C:\\Users\\saiak\\.conda\\envs\\ift6758-conda-env\\lib\\site-packages\\xgboost\\training.py:17: UserWarning: Old style callback is deprecated.  See: https://xgboost.readthedocs.io/en/latest/python/callbacks.html\n",
      "  warnings.warn(f'Old style callback is deprecated.  See: {link}', UserWarning)\n"
     ]
    },
    {
     "name": "stdout",
     "output_type": "stream",
     "text": [
      "[CV 2/3] END gamma=3.2, learning_rate=0.15, max_depth=5, n_estimators=130, reg_alpha=0.4, reg_lambda=3.2;, score=(train=0.797, test=0.766) total time=   0.9s\n"
     ]
    },
    {
     "name": "stderr",
     "output_type": "stream",
     "text": [
      "C:\\Users\\saiak\\.conda\\envs\\ift6758-conda-env\\lib\\site-packages\\xgboost\\training.py:17: UserWarning: Old style callback is deprecated.  See: https://xgboost.readthedocs.io/en/latest/python/callbacks.html\n",
      "  warnings.warn(f'Old style callback is deprecated.  See: {link}', UserWarning)\n",
      "COMET ERROR: Failed to extract parameters from estimator\n"
     ]
    },
    {
     "name": "stdout",
     "output_type": "stream",
     "text": [
      "[CV 3/3] END gamma=3.2, learning_rate=0.15, max_depth=5, n_estimators=130, reg_alpha=0.4, reg_lambda=3.2;, score=(train=0.795, test=0.765) total time=   1.0s\n"
     ]
    },
    {
     "name": "stderr",
     "output_type": "stream",
     "text": [
      "COMET ERROR: Failed to extract parameters from estimator\n",
      "COMET ERROR: Failed to extract parameters from estimator\n",
      "COMET ERROR: Failed to extract parameters from estimator\n",
      "COMET ERROR: Failed to extract parameters from estimator\n",
      "COMET ERROR: Failed to extract parameters from estimator\n"
     ]
    },
    {
     "name": "stdout",
     "output_type": "stream",
     "text": [
      "Fitting 3 folds for each of 1 candidates, totalling 3 fits\n"
     ]
    },
    {
     "name": "stderr",
     "output_type": "stream",
     "text": [
      "C:\\Users\\saiak\\.conda\\envs\\ift6758-conda-env\\lib\\site-packages\\xgboost\\training.py:17: UserWarning: Old style callback is deprecated.  See: https://xgboost.readthedocs.io/en/latest/python/callbacks.html\n",
      "  warnings.warn(f'Old style callback is deprecated.  See: {link}', UserWarning)\n"
     ]
    },
    {
     "name": "stdout",
     "output_type": "stream",
     "text": [
      "[CV 1/3] END gamma=1.6, learning_rate=0.7, max_depth=4, n_estimators=100, reg_alpha=1.6, reg_lambda=0.8;, score=(train=0.820, test=0.755) total time=   0.6s\n"
     ]
    },
    {
     "name": "stderr",
     "output_type": "stream",
     "text": [
      "C:\\Users\\saiak\\.conda\\envs\\ift6758-conda-env\\lib\\site-packages\\xgboost\\training.py:17: UserWarning: Old style callback is deprecated.  See: https://xgboost.readthedocs.io/en/latest/python/callbacks.html\n",
      "  warnings.warn(f'Old style callback is deprecated.  See: {link}', UserWarning)\n"
     ]
    },
    {
     "name": "stdout",
     "output_type": "stream",
     "text": [
      "[CV 2/3] END gamma=1.6, learning_rate=0.7, max_depth=4, n_estimators=100, reg_alpha=1.6, reg_lambda=0.8;, score=(train=0.818, test=0.750) total time=   0.6s\n"
     ]
    },
    {
     "name": "stderr",
     "output_type": "stream",
     "text": [
      "C:\\Users\\saiak\\.conda\\envs\\ift6758-conda-env\\lib\\site-packages\\xgboost\\training.py:17: UserWarning: Old style callback is deprecated.  See: https://xgboost.readthedocs.io/en/latest/python/callbacks.html\n",
      "  warnings.warn(f'Old style callback is deprecated.  See: {link}', UserWarning)\n",
      "COMET ERROR: Failed to extract parameters from estimator\n"
     ]
    },
    {
     "name": "stdout",
     "output_type": "stream",
     "text": [
      "[CV 3/3] END gamma=1.6, learning_rate=0.7, max_depth=4, n_estimators=100, reg_alpha=1.6, reg_lambda=0.8;, score=(train=0.825, test=0.746) total time=   0.7s\n"
     ]
    },
    {
     "name": "stderr",
     "output_type": "stream",
     "text": [
      "COMET ERROR: Failed to extract parameters from estimator\n",
      "COMET ERROR: Failed to extract parameters from estimator\n",
      "COMET ERROR: Failed to extract parameters from estimator\n",
      "COMET ERROR: Failed to extract parameters from estimator\n",
      "COMET ERROR: Failed to extract parameters from estimator\n"
     ]
    },
    {
     "name": "stdout",
     "output_type": "stream",
     "text": [
      "Fitting 3 folds for each of 1 candidates, totalling 3 fits\n"
     ]
    },
    {
     "name": "stderr",
     "output_type": "stream",
     "text": [
      "C:\\Users\\saiak\\.conda\\envs\\ift6758-conda-env\\lib\\site-packages\\xgboost\\training.py:17: UserWarning: Old style callback is deprecated.  See: https://xgboost.readthedocs.io/en/latest/python/callbacks.html\n",
      "  warnings.warn(f'Old style callback is deprecated.  See: {link}', UserWarning)\n"
     ]
    },
    {
     "name": "stdout",
     "output_type": "stream",
     "text": [
      "[CV 1/3] END gamma=25.6, learning_rate=0.2, max_depth=4, n_estimators=130, reg_alpha=0.8, reg_lambda=200.0;, score=(train=0.763, test=0.762) total time=   0.6s\n"
     ]
    },
    {
     "name": "stderr",
     "output_type": "stream",
     "text": [
      "C:\\Users\\saiak\\.conda\\envs\\ift6758-conda-env\\lib\\site-packages\\xgboost\\training.py:17: UserWarning: Old style callback is deprecated.  See: https://xgboost.readthedocs.io/en/latest/python/callbacks.html\n",
      "  warnings.warn(f'Old style callback is deprecated.  See: {link}', UserWarning)\n"
     ]
    },
    {
     "name": "stdout",
     "output_type": "stream",
     "text": [
      "[CV 2/3] END gamma=25.6, learning_rate=0.2, max_depth=4, n_estimators=130, reg_alpha=0.8, reg_lambda=200.0;, score=(train=0.766, test=0.757) total time=   0.7s\n"
     ]
    },
    {
     "name": "stderr",
     "output_type": "stream",
     "text": [
      "C:\\Users\\saiak\\.conda\\envs\\ift6758-conda-env\\lib\\site-packages\\xgboost\\training.py:17: UserWarning: Old style callback is deprecated.  See: https://xgboost.readthedocs.io/en/latest/python/callbacks.html\n",
      "  warnings.warn(f'Old style callback is deprecated.  See: {link}', UserWarning)\n",
      "COMET ERROR: Failed to extract parameters from estimator\n"
     ]
    },
    {
     "name": "stdout",
     "output_type": "stream",
     "text": [
      "[CV 3/3] END gamma=25.6, learning_rate=0.2, max_depth=4, n_estimators=130, reg_alpha=0.8, reg_lambda=200.0;, score=(train=0.766, test=0.757) total time=   0.8s\n"
     ]
    },
    {
     "name": "stderr",
     "output_type": "stream",
     "text": [
      "COMET ERROR: Failed to extract parameters from estimator\n",
      "COMET ERROR: Failed to extract parameters from estimator\n",
      "COMET ERROR: Failed to extract parameters from estimator\n",
      "COMET ERROR: Failed to extract parameters from estimator\n",
      "COMET ERROR: Failed to extract parameters from estimator\n"
     ]
    },
    {
     "name": "stdout",
     "output_type": "stream",
     "text": [
      "Fitting 3 folds for each of 1 candidates, totalling 3 fits\n"
     ]
    },
    {
     "name": "stderr",
     "output_type": "stream",
     "text": [
      "C:\\Users\\saiak\\.conda\\envs\\ift6758-conda-env\\lib\\site-packages\\xgboost\\training.py:17: UserWarning: Old style callback is deprecated.  See: https://xgboost.readthedocs.io/en/latest/python/callbacks.html\n",
      "  warnings.warn(f'Old style callback is deprecated.  See: {link}', UserWarning)\n"
     ]
    },
    {
     "name": "stdout",
     "output_type": "stream",
     "text": [
      "[CV 1/3] END gamma=3.2, learning_rate=0.3, max_depth=5, n_estimators=65, reg_alpha=3.2, reg_lambda=102.4;, score=(train=0.787, test=0.764) total time=   0.6s\n"
     ]
    },
    {
     "name": "stderr",
     "output_type": "stream",
     "text": [
      "C:\\Users\\saiak\\.conda\\envs\\ift6758-conda-env\\lib\\site-packages\\xgboost\\training.py:17: UserWarning: Old style callback is deprecated.  See: https://xgboost.readthedocs.io/en/latest/python/callbacks.html\n",
      "  warnings.warn(f'Old style callback is deprecated.  See: {link}', UserWarning)\n"
     ]
    },
    {
     "name": "stdout",
     "output_type": "stream",
     "text": [
      "[CV 2/3] END gamma=3.2, learning_rate=0.3, max_depth=5, n_estimators=65, reg_alpha=3.2, reg_lambda=102.4;, score=(train=0.787, test=0.762) total time=   0.5s\n"
     ]
    },
    {
     "name": "stderr",
     "output_type": "stream",
     "text": [
      "C:\\Users\\saiak\\.conda\\envs\\ift6758-conda-env\\lib\\site-packages\\xgboost\\training.py:17: UserWarning: Old style callback is deprecated.  See: https://xgboost.readthedocs.io/en/latest/python/callbacks.html\n",
      "  warnings.warn(f'Old style callback is deprecated.  See: {link}', UserWarning)\n",
      "COMET ERROR: Failed to extract parameters from estimator\n"
     ]
    },
    {
     "name": "stdout",
     "output_type": "stream",
     "text": [
      "[CV 3/3] END gamma=3.2, learning_rate=0.3, max_depth=5, n_estimators=65, reg_alpha=3.2, reg_lambda=102.4;, score=(train=0.786, test=0.768) total time=   0.5s\n"
     ]
    },
    {
     "name": "stderr",
     "output_type": "stream",
     "text": [
      "COMET ERROR: Failed to extract parameters from estimator\n",
      "COMET ERROR: Failed to extract parameters from estimator\n",
      "COMET ERROR: Failed to extract parameters from estimator\n",
      "COMET ERROR: Failed to extract parameters from estimator\n",
      "COMET ERROR: Failed to extract parameters from estimator\n"
     ]
    },
    {
     "name": "stdout",
     "output_type": "stream",
     "text": [
      "Fitting 3 folds for each of 1 candidates, totalling 3 fits\n"
     ]
    },
    {
     "name": "stderr",
     "output_type": "stream",
     "text": [
      "C:\\Users\\saiak\\.conda\\envs\\ift6758-conda-env\\lib\\site-packages\\xgboost\\training.py:17: UserWarning: Old style callback is deprecated.  See: https://xgboost.readthedocs.io/en/latest/python/callbacks.html\n",
      "  warnings.warn(f'Old style callback is deprecated.  See: {link}', UserWarning)\n"
     ]
    },
    {
     "name": "stdout",
     "output_type": "stream",
     "text": [
      "[CV 1/3] END gamma=3.2, learning_rate=0.15, max_depth=6, n_estimators=80, reg_alpha=102.4, reg_lambda=1.6;, score=(train=0.775, test=0.761) total time=   0.6s\n"
     ]
    },
    {
     "name": "stderr",
     "output_type": "stream",
     "text": [
      "C:\\Users\\saiak\\.conda\\envs\\ift6758-conda-env\\lib\\site-packages\\xgboost\\training.py:17: UserWarning: Old style callback is deprecated.  See: https://xgboost.readthedocs.io/en/latest/python/callbacks.html\n",
      "  warnings.warn(f'Old style callback is deprecated.  See: {link}', UserWarning)\n"
     ]
    },
    {
     "name": "stdout",
     "output_type": "stream",
     "text": [
      "[CV 2/3] END gamma=3.2, learning_rate=0.15, max_depth=6, n_estimators=80, reg_alpha=102.4, reg_lambda=1.6;, score=(train=0.775, test=0.762) total time=   0.6s\n"
     ]
    },
    {
     "name": "stderr",
     "output_type": "stream",
     "text": [
      "C:\\Users\\saiak\\.conda\\envs\\ift6758-conda-env\\lib\\site-packages\\xgboost\\training.py:17: UserWarning: Old style callback is deprecated.  See: https://xgboost.readthedocs.io/en/latest/python/callbacks.html\n",
      "  warnings.warn(f'Old style callback is deprecated.  See: {link}', UserWarning)\n",
      "COMET ERROR: Failed to extract parameters from estimator\n",
      "COMET ERROR: Failed to extract parameters from estimator\n"
     ]
    },
    {
     "name": "stdout",
     "output_type": "stream",
     "text": [
      "[CV 3/3] END gamma=3.2, learning_rate=0.15, max_depth=6, n_estimators=80, reg_alpha=102.4, reg_lambda=1.6;, score=(train=0.773, test=0.766) total time=   0.6s\n"
     ]
    },
    {
     "name": "stderr",
     "output_type": "stream",
     "text": [
      "COMET ERROR: Failed to extract parameters from estimator\n",
      "COMET ERROR: Failed to extract parameters from estimator\n",
      "COMET ERROR: Failed to extract parameters from estimator\n",
      "COMET ERROR: Failed to extract parameters from estimator\n"
     ]
    },
    {
     "name": "stdout",
     "output_type": "stream",
     "text": [
      "Fitting 3 folds for each of 1 candidates, totalling 3 fits\n"
     ]
    },
    {
     "name": "stderr",
     "output_type": "stream",
     "text": [
      "C:\\Users\\saiak\\.conda\\envs\\ift6758-conda-env\\lib\\site-packages\\xgboost\\training.py:17: UserWarning: Old style callback is deprecated.  See: https://xgboost.readthedocs.io/en/latest/python/callbacks.html\n",
      "  warnings.warn(f'Old style callback is deprecated.  See: {link}', UserWarning)\n"
     ]
    },
    {
     "name": "stdout",
     "output_type": "stream",
     "text": [
      "[CV 1/3] END gamma=3.2, learning_rate=0.2, max_depth=5, n_estimators=80, reg_alpha=3.2, reg_lambda=0.4;, score=(train=0.794, test=0.766) total time=   0.6s\n"
     ]
    },
    {
     "name": "stderr",
     "output_type": "stream",
     "text": [
      "C:\\Users\\saiak\\.conda\\envs\\ift6758-conda-env\\lib\\site-packages\\xgboost\\training.py:17: UserWarning: Old style callback is deprecated.  See: https://xgboost.readthedocs.io/en/latest/python/callbacks.html\n",
      "  warnings.warn(f'Old style callback is deprecated.  See: {link}', UserWarning)\n"
     ]
    },
    {
     "name": "stdout",
     "output_type": "stream",
     "text": [
      "[CV 2/3] END gamma=3.2, learning_rate=0.2, max_depth=5, n_estimators=80, reg_alpha=3.2, reg_lambda=0.4;, score=(train=0.794, test=0.767) total time=   0.6s\n"
     ]
    },
    {
     "name": "stderr",
     "output_type": "stream",
     "text": [
      "C:\\Users\\saiak\\.conda\\envs\\ift6758-conda-env\\lib\\site-packages\\xgboost\\training.py:17: UserWarning: Old style callback is deprecated.  See: https://xgboost.readthedocs.io/en/latest/python/callbacks.html\n",
      "  warnings.warn(f'Old style callback is deprecated.  See: {link}', UserWarning)\n",
      "COMET ERROR: Failed to extract parameters from estimator\n",
      "COMET ERROR: Failed to extract parameters from estimator\n"
     ]
    },
    {
     "name": "stdout",
     "output_type": "stream",
     "text": [
      "[CV 3/3] END gamma=3.2, learning_rate=0.2, max_depth=5, n_estimators=80, reg_alpha=3.2, reg_lambda=0.4;, score=(train=0.795, test=0.763) total time=   0.6s\n"
     ]
    },
    {
     "name": "stderr",
     "output_type": "stream",
     "text": [
      "COMET ERROR: Failed to extract parameters from estimator\n",
      "COMET ERROR: Failed to extract parameters from estimator\n",
      "COMET ERROR: Failed to extract parameters from estimator\n",
      "COMET ERROR: Failed to extract parameters from estimator\n"
     ]
    },
    {
     "name": "stdout",
     "output_type": "stream",
     "text": [
      "Fitting 3 folds for each of 1 candidates, totalling 3 fits\n"
     ]
    },
    {
     "name": "stderr",
     "output_type": "stream",
     "text": [
      "C:\\Users\\saiak\\.conda\\envs\\ift6758-conda-env\\lib\\site-packages\\xgboost\\training.py:17: UserWarning: Old style callback is deprecated.  See: https://xgboost.readthedocs.io/en/latest/python/callbacks.html\n",
      "  warnings.warn(f'Old style callback is deprecated.  See: {link}', UserWarning)\n"
     ]
    },
    {
     "name": "stdout",
     "output_type": "stream",
     "text": [
      "[CV 1/3] END gamma=3.2, learning_rate=0.15, max_depth=5, n_estimators=80, reg_alpha=0.0, reg_lambda=0.2;, score=(train=0.798, test=0.765) total time=   0.7s\n"
     ]
    },
    {
     "name": "stderr",
     "output_type": "stream",
     "text": [
      "C:\\Users\\saiak\\.conda\\envs\\ift6758-conda-env\\lib\\site-packages\\xgboost\\training.py:17: UserWarning: Old style callback is deprecated.  See: https://xgboost.readthedocs.io/en/latest/python/callbacks.html\n",
      "  warnings.warn(f'Old style callback is deprecated.  See: {link}', UserWarning)\n"
     ]
    },
    {
     "name": "stdout",
     "output_type": "stream",
     "text": [
      "[CV 2/3] END gamma=3.2, learning_rate=0.15, max_depth=5, n_estimators=80, reg_alpha=0.0, reg_lambda=0.2;, score=(train=0.794, test=0.768) total time=   0.7s\n"
     ]
    },
    {
     "name": "stderr",
     "output_type": "stream",
     "text": [
      "C:\\Users\\saiak\\.conda\\envs\\ift6758-conda-env\\lib\\site-packages\\xgboost\\training.py:17: UserWarning: Old style callback is deprecated.  See: https://xgboost.readthedocs.io/en/latest/python/callbacks.html\n",
      "  warnings.warn(f'Old style callback is deprecated.  See: {link}', UserWarning)\n",
      "COMET ERROR: Failed to extract parameters from estimator\n"
     ]
    },
    {
     "name": "stdout",
     "output_type": "stream",
     "text": [
      "[CV 3/3] END gamma=3.2, learning_rate=0.15, max_depth=5, n_estimators=80, reg_alpha=0.0, reg_lambda=0.2;, score=(train=0.797, test=0.765) total time=   0.7s\n"
     ]
    },
    {
     "name": "stderr",
     "output_type": "stream",
     "text": [
      "COMET ERROR: Failed to extract parameters from estimator\n",
      "COMET ERROR: Failed to extract parameters from estimator\n",
      "COMET ERROR: Failed to extract parameters from estimator\n",
      "COMET ERROR: Failed to extract parameters from estimator\n",
      "COMET ERROR: Failed to extract parameters from estimator\n"
     ]
    },
    {
     "name": "stdout",
     "output_type": "stream",
     "text": [
      "Fitting 3 folds for each of 1 candidates, totalling 3 fits\n"
     ]
    },
    {
     "name": "stderr",
     "output_type": "stream",
     "text": [
      "C:\\Users\\saiak\\.conda\\envs\\ift6758-conda-env\\lib\\site-packages\\xgboost\\training.py:17: UserWarning: Old style callback is deprecated.  See: https://xgboost.readthedocs.io/en/latest/python/callbacks.html\n",
      "  warnings.warn(f'Old style callback is deprecated.  See: {link}', UserWarning)\n"
     ]
    },
    {
     "name": "stdout",
     "output_type": "stream",
     "text": [
      "[CV 1/3] END gamma=3.2, learning_rate=0.1, max_depth=15, n_estimators=115, reg_alpha=3.2, reg_lambda=0.4;, score=(train=0.964, test=0.758) total time=   8.6s\n"
     ]
    },
    {
     "name": "stderr",
     "output_type": "stream",
     "text": [
      "C:\\Users\\saiak\\.conda\\envs\\ift6758-conda-env\\lib\\site-packages\\xgboost\\training.py:17: UserWarning: Old style callback is deprecated.  See: https://xgboost.readthedocs.io/en/latest/python/callbacks.html\n",
      "  warnings.warn(f'Old style callback is deprecated.  See: {link}', UserWarning)\n"
     ]
    },
    {
     "name": "stdout",
     "output_type": "stream",
     "text": [
      "[CV 2/3] END gamma=3.2, learning_rate=0.1, max_depth=15, n_estimators=115, reg_alpha=3.2, reg_lambda=0.4;, score=(train=0.965, test=0.750) total time=   8.6s\n"
     ]
    },
    {
     "name": "stderr",
     "output_type": "stream",
     "text": [
      "C:\\Users\\saiak\\.conda\\envs\\ift6758-conda-env\\lib\\site-packages\\xgboost\\training.py:17: UserWarning: Old style callback is deprecated.  See: https://xgboost.readthedocs.io/en/latest/python/callbacks.html\n",
      "  warnings.warn(f'Old style callback is deprecated.  See: {link}', UserWarning)\n",
      "COMET ERROR: Failed to extract parameters from estimator\n"
     ]
    },
    {
     "name": "stdout",
     "output_type": "stream",
     "text": [
      "[CV 3/3] END gamma=3.2, learning_rate=0.1, max_depth=15, n_estimators=115, reg_alpha=3.2, reg_lambda=0.4;, score=(train=0.966, test=0.754) total time=   8.6s\n"
     ]
    },
    {
     "name": "stderr",
     "output_type": "stream",
     "text": [
      "COMET ERROR: Failed to extract parameters from estimator\n",
      "COMET ERROR: Failed to extract parameters from estimator\n",
      "COMET ERROR: Failed to extract parameters from estimator\n",
      "COMET ERROR: Failed to extract parameters from estimator\n",
      "COMET ERROR: Failed to extract parameters from estimator\n"
     ]
    },
    {
     "name": "stdout",
     "output_type": "stream",
     "text": [
      "Fitting 3 folds for each of 1 candidates, totalling 3 fits\n"
     ]
    },
    {
     "name": "stderr",
     "output_type": "stream",
     "text": [
      "C:\\Users\\saiak\\.conda\\envs\\ift6758-conda-env\\lib\\site-packages\\xgboost\\training.py:17: UserWarning: Old style callback is deprecated.  See: https://xgboost.readthedocs.io/en/latest/python/callbacks.html\n",
      "  warnings.warn(f'Old style callback is deprecated.  See: {link}', UserWarning)\n"
     ]
    },
    {
     "name": "stdout",
     "output_type": "stream",
     "text": [
      "[CV 1/3] END gamma=0.0, learning_rate=0.25, max_depth=12, n_estimators=130, reg_alpha=0.2, reg_lambda=25.6;, score=(train=0.993, test=0.732) total time=  14.6s\n"
     ]
    },
    {
     "name": "stderr",
     "output_type": "stream",
     "text": [
      "C:\\Users\\saiak\\.conda\\envs\\ift6758-conda-env\\lib\\site-packages\\xgboost\\training.py:17: UserWarning: Old style callback is deprecated.  See: https://xgboost.readthedocs.io/en/latest/python/callbacks.html\n",
      "  warnings.warn(f'Old style callback is deprecated.  See: {link}', UserWarning)\n"
     ]
    },
    {
     "name": "stdout",
     "output_type": "stream",
     "text": [
      "[CV 2/3] END gamma=0.0, learning_rate=0.25, max_depth=12, n_estimators=130, reg_alpha=0.2, reg_lambda=25.6;, score=(train=0.993, test=0.737) total time=  14.3s\n"
     ]
    },
    {
     "name": "stderr",
     "output_type": "stream",
     "text": [
      "C:\\Users\\saiak\\.conda\\envs\\ift6758-conda-env\\lib\\site-packages\\xgboost\\training.py:17: UserWarning: Old style callback is deprecated.  See: https://xgboost.readthedocs.io/en/latest/python/callbacks.html\n",
      "  warnings.warn(f'Old style callback is deprecated.  See: {link}', UserWarning)\n",
      "COMET ERROR: Failed to extract parameters from estimator\n"
     ]
    },
    {
     "name": "stdout",
     "output_type": "stream",
     "text": [
      "[CV 3/3] END gamma=0.0, learning_rate=0.25, max_depth=12, n_estimators=130, reg_alpha=0.2, reg_lambda=25.6;, score=(train=0.991, test=0.737) total time=  15.0s\n"
     ]
    },
    {
     "name": "stderr",
     "output_type": "stream",
     "text": [
      "COMET ERROR: Failed to extract parameters from estimator\n",
      "COMET ERROR: Failed to extract parameters from estimator\n",
      "COMET ERROR: Failed to extract parameters from estimator\n",
      "COMET ERROR: Failed to extract parameters from estimator\n",
      "COMET ERROR: Failed to extract parameters from estimator\n"
     ]
    },
    {
     "name": "stdout",
     "output_type": "stream",
     "text": [
      "Fitting 3 folds for each of 1 candidates, totalling 3 fits\n"
     ]
    },
    {
     "name": "stderr",
     "output_type": "stream",
     "text": [
      "C:\\Users\\saiak\\.conda\\envs\\ift6758-conda-env\\lib\\site-packages\\xgboost\\training.py:17: UserWarning: Old style callback is deprecated.  See: https://xgboost.readthedocs.io/en/latest/python/callbacks.html\n",
      "  warnings.warn(f'Old style callback is deprecated.  See: {link}', UserWarning)\n"
     ]
    },
    {
     "name": "stdout",
     "output_type": "stream",
     "text": [
      "[CV 1/3] END gamma=25.6, learning_rate=0.2, max_depth=12, n_estimators=65, reg_alpha=25.6, reg_lambda=0.4;, score=(train=0.771, test=0.762) total time=   0.5s\n"
     ]
    },
    {
     "name": "stderr",
     "output_type": "stream",
     "text": [
      "C:\\Users\\saiak\\.conda\\envs\\ift6758-conda-env\\lib\\site-packages\\xgboost\\training.py:17: UserWarning: Old style callback is deprecated.  See: https://xgboost.readthedocs.io/en/latest/python/callbacks.html\n",
      "  warnings.warn(f'Old style callback is deprecated.  See: {link}', UserWarning)\n"
     ]
    },
    {
     "name": "stdout",
     "output_type": "stream",
     "text": [
      "[CV 2/3] END gamma=25.6, learning_rate=0.2, max_depth=12, n_estimators=65, reg_alpha=25.6, reg_lambda=0.4;, score=(train=0.770, test=0.765) total time=   0.5s\n"
     ]
    },
    {
     "name": "stderr",
     "output_type": "stream",
     "text": [
      "C:\\Users\\saiak\\.conda\\envs\\ift6758-conda-env\\lib\\site-packages\\xgboost\\training.py:17: UserWarning: Old style callback is deprecated.  See: https://xgboost.readthedocs.io/en/latest/python/callbacks.html\n",
      "  warnings.warn(f'Old style callback is deprecated.  See: {link}', UserWarning)\n",
      "COMET ERROR: Failed to extract parameters from estimator\n"
     ]
    },
    {
     "name": "stdout",
     "output_type": "stream",
     "text": [
      "[CV 3/3] END gamma=25.6, learning_rate=0.2, max_depth=12, n_estimators=65, reg_alpha=25.6, reg_lambda=0.4;, score=(train=0.772, test=0.759) total time=   0.5s\n"
     ]
    },
    {
     "name": "stderr",
     "output_type": "stream",
     "text": [
      "COMET ERROR: Failed to extract parameters from estimator\n",
      "COMET ERROR: Failed to extract parameters from estimator\n",
      "COMET ERROR: Failed to extract parameters from estimator\n",
      "COMET ERROR: Failed to extract parameters from estimator\n",
      "COMET ERROR: Failed to extract parameters from estimator\n"
     ]
    },
    {
     "name": "stdout",
     "output_type": "stream",
     "text": [
      "Fitting 3 folds for each of 1 candidates, totalling 3 fits\n"
     ]
    },
    {
     "name": "stderr",
     "output_type": "stream",
     "text": [
      "C:\\Users\\saiak\\.conda\\envs\\ift6758-conda-env\\lib\\site-packages\\xgboost\\training.py:17: UserWarning: Old style callback is deprecated.  See: https://xgboost.readthedocs.io/en/latest/python/callbacks.html\n",
      "  warnings.warn(f'Old style callback is deprecated.  See: {link}', UserWarning)\n"
     ]
    },
    {
     "name": "stdout",
     "output_type": "stream",
     "text": [
      "[CV 1/3] END gamma=25.6, learning_rate=0.2, max_depth=10, n_estimators=80, reg_alpha=25.6, reg_lambda=0.8;, score=(train=0.771, test=0.762) total time=   0.5s\n"
     ]
    },
    {
     "name": "stderr",
     "output_type": "stream",
     "text": [
      "C:\\Users\\saiak\\.conda\\envs\\ift6758-conda-env\\lib\\site-packages\\xgboost\\training.py:17: UserWarning: Old style callback is deprecated.  See: https://xgboost.readthedocs.io/en/latest/python/callbacks.html\n",
      "  warnings.warn(f'Old style callback is deprecated.  See: {link}', UserWarning)\n"
     ]
    },
    {
     "name": "stdout",
     "output_type": "stream",
     "text": [
      "[CV 2/3] END gamma=25.6, learning_rate=0.2, max_depth=10, n_estimators=80, reg_alpha=25.6, reg_lambda=0.8;, score=(train=0.772, test=0.759) total time=   0.5s\n"
     ]
    },
    {
     "name": "stderr",
     "output_type": "stream",
     "text": [
      "C:\\Users\\saiak\\.conda\\envs\\ift6758-conda-env\\lib\\site-packages\\xgboost\\training.py:17: UserWarning: Old style callback is deprecated.  See: https://xgboost.readthedocs.io/en/latest/python/callbacks.html\n",
      "  warnings.warn(f'Old style callback is deprecated.  See: {link}', UserWarning)\n",
      "COMET ERROR: Failed to extract parameters from estimator\n"
     ]
    },
    {
     "name": "stdout",
     "output_type": "stream",
     "text": [
      "[CV 3/3] END gamma=25.6, learning_rate=0.2, max_depth=10, n_estimators=80, reg_alpha=25.6, reg_lambda=0.8;, score=(train=0.769, test=0.766) total time=   0.6s\n"
     ]
    },
    {
     "name": "stderr",
     "output_type": "stream",
     "text": [
      "COMET ERROR: Failed to extract parameters from estimator\n",
      "COMET ERROR: Failed to extract parameters from estimator\n",
      "COMET ERROR: Failed to extract parameters from estimator\n",
      "COMET ERROR: Failed to extract parameters from estimator\n",
      "COMET ERROR: Failed to extract parameters from estimator\n"
     ]
    },
    {
     "name": "stdout",
     "output_type": "stream",
     "text": [
      "Fitting 3 folds for each of 1 candidates, totalling 3 fits\n"
     ]
    },
    {
     "name": "stderr",
     "output_type": "stream",
     "text": [
      "C:\\Users\\saiak\\.conda\\envs\\ift6758-conda-env\\lib\\site-packages\\xgboost\\training.py:17: UserWarning: Old style callback is deprecated.  See: https://xgboost.readthedocs.io/en/latest/python/callbacks.html\n",
      "  warnings.warn(f'Old style callback is deprecated.  See: {link}', UserWarning)\n"
     ]
    },
    {
     "name": "stdout",
     "output_type": "stream",
     "text": [
      "[CV 1/3] END gamma=25.6, learning_rate=0.5, max_depth=15, n_estimators=65, reg_alpha=25.6, reg_lambda=0.1;, score=(train=0.767, test=0.763) total time=   0.5s\n"
     ]
    },
    {
     "name": "stderr",
     "output_type": "stream",
     "text": [
      "C:\\Users\\saiak\\.conda\\envs\\ift6758-conda-env\\lib\\site-packages\\xgboost\\training.py:17: UserWarning: Old style callback is deprecated.  See: https://xgboost.readthedocs.io/en/latest/python/callbacks.html\n",
      "  warnings.warn(f'Old style callback is deprecated.  See: {link}', UserWarning)\n"
     ]
    },
    {
     "name": "stdout",
     "output_type": "stream",
     "text": [
      "[CV 2/3] END gamma=25.6, learning_rate=0.5, max_depth=15, n_estimators=65, reg_alpha=25.6, reg_lambda=0.1;, score=(train=0.771, test=0.761) total time=   0.5s\n"
     ]
    },
    {
     "name": "stderr",
     "output_type": "stream",
     "text": [
      "C:\\Users\\saiak\\.conda\\envs\\ift6758-conda-env\\lib\\site-packages\\xgboost\\training.py:17: UserWarning: Old style callback is deprecated.  See: https://xgboost.readthedocs.io/en/latest/python/callbacks.html\n",
      "  warnings.warn(f'Old style callback is deprecated.  See: {link}', UserWarning)\n",
      "COMET ERROR: Failed to extract parameters from estimator\n"
     ]
    },
    {
     "name": "stdout",
     "output_type": "stream",
     "text": [
      "[CV 3/3] END gamma=25.6, learning_rate=0.5, max_depth=15, n_estimators=65, reg_alpha=25.6, reg_lambda=0.1;, score=(train=0.772, test=0.758) total time=   0.5s\n"
     ]
    },
    {
     "name": "stderr",
     "output_type": "stream",
     "text": [
      "COMET ERROR: Failed to extract parameters from estimator\n",
      "COMET ERROR: Failed to extract parameters from estimator\n",
      "COMET ERROR: Failed to extract parameters from estimator\n",
      "COMET ERROR: Failed to extract parameters from estimator\n",
      "COMET ERROR: Failed to extract parameters from estimator\n"
     ]
    },
    {
     "name": "stdout",
     "output_type": "stream",
     "text": [
      "Fitting 3 folds for each of 1 candidates, totalling 3 fits\n"
     ]
    },
    {
     "name": "stderr",
     "output_type": "stream",
     "text": [
      "C:\\Users\\saiak\\.conda\\envs\\ift6758-conda-env\\lib\\site-packages\\xgboost\\training.py:17: UserWarning: Old style callback is deprecated.  See: https://xgboost.readthedocs.io/en/latest/python/callbacks.html\n",
      "  warnings.warn(f'Old style callback is deprecated.  See: {link}', UserWarning)\n"
     ]
    },
    {
     "name": "stdout",
     "output_type": "stream",
     "text": [
      "[CV 1/3] END gamma=25.6, learning_rate=0.25, max_depth=8, n_estimators=65, reg_alpha=25.6, reg_lambda=3.2;, score=(train=0.772, test=0.756) total time=   0.5s\n"
     ]
    },
    {
     "name": "stderr",
     "output_type": "stream",
     "text": [
      "C:\\Users\\saiak\\.conda\\envs\\ift6758-conda-env\\lib\\site-packages\\xgboost\\training.py:17: UserWarning: Old style callback is deprecated.  See: https://xgboost.readthedocs.io/en/latest/python/callbacks.html\n",
      "  warnings.warn(f'Old style callback is deprecated.  See: {link}', UserWarning)\n"
     ]
    },
    {
     "name": "stdout",
     "output_type": "stream",
     "text": [
      "[CV 2/3] END gamma=25.6, learning_rate=0.25, max_depth=8, n_estimators=65, reg_alpha=25.6, reg_lambda=3.2;, score=(train=0.768, test=0.767) total time=   0.5s\n"
     ]
    },
    {
     "name": "stderr",
     "output_type": "stream",
     "text": [
      "C:\\Users\\saiak\\.conda\\envs\\ift6758-conda-env\\lib\\site-packages\\xgboost\\training.py:17: UserWarning: Old style callback is deprecated.  See: https://xgboost.readthedocs.io/en/latest/python/callbacks.html\n",
      "  warnings.warn(f'Old style callback is deprecated.  See: {link}', UserWarning)\n",
      "COMET ERROR: Failed to extract parameters from estimator\n"
     ]
    },
    {
     "name": "stdout",
     "output_type": "stream",
     "text": [
      "[CV 3/3] END gamma=25.6, learning_rate=0.25, max_depth=8, n_estimators=65, reg_alpha=25.6, reg_lambda=3.2;, score=(train=0.771, test=0.762) total time=   0.5s\n"
     ]
    },
    {
     "name": "stderr",
     "output_type": "stream",
     "text": [
      "COMET ERROR: Failed to extract parameters from estimator\n",
      "COMET ERROR: Failed to extract parameters from estimator\n",
      "COMET ERROR: Failed to extract parameters from estimator\n",
      "COMET ERROR: Failed to extract parameters from estimator\n",
      "COMET ERROR: Failed to extract parameters from estimator\n"
     ]
    },
    {
     "name": "stdout",
     "output_type": "stream",
     "text": [
      "Fitting 3 folds for each of 1 candidates, totalling 3 fits\n"
     ]
    },
    {
     "name": "stderr",
     "output_type": "stream",
     "text": [
      "C:\\Users\\saiak\\.conda\\envs\\ift6758-conda-env\\lib\\site-packages\\xgboost\\training.py:17: UserWarning: Old style callback is deprecated.  See: https://xgboost.readthedocs.io/en/latest/python/callbacks.html\n",
      "  warnings.warn(f'Old style callback is deprecated.  See: {link}', UserWarning)\n"
     ]
    },
    {
     "name": "stdout",
     "output_type": "stream",
     "text": [
      "[CV 1/3] END gamma=25.6, learning_rate=0.25, max_depth=3, n_estimators=65, reg_alpha=25.6, reg_lambda=6.4;, score=(train=0.760, test=0.760) total time=   0.4s\n"
     ]
    },
    {
     "name": "stderr",
     "output_type": "stream",
     "text": [
      "C:\\Users\\saiak\\.conda\\envs\\ift6758-conda-env\\lib\\site-packages\\xgboost\\training.py:17: UserWarning: Old style callback is deprecated.  See: https://xgboost.readthedocs.io/en/latest/python/callbacks.html\n",
      "  warnings.warn(f'Old style callback is deprecated.  See: {link}', UserWarning)\n"
     ]
    },
    {
     "name": "stdout",
     "output_type": "stream",
     "text": [
      "[CV 2/3] END gamma=25.6, learning_rate=0.25, max_depth=3, n_estimators=65, reg_alpha=25.6, reg_lambda=6.4;, score=(train=0.762, test=0.754) total time=   0.4s\n"
     ]
    },
    {
     "name": "stderr",
     "output_type": "stream",
     "text": [
      "C:\\Users\\saiak\\.conda\\envs\\ift6758-conda-env\\lib\\site-packages\\xgboost\\training.py:17: UserWarning: Old style callback is deprecated.  See: https://xgboost.readthedocs.io/en/latest/python/callbacks.html\n",
      "  warnings.warn(f'Old style callback is deprecated.  See: {link}', UserWarning)\n",
      "COMET ERROR: Failed to extract parameters from estimator\n"
     ]
    },
    {
     "name": "stdout",
     "output_type": "stream",
     "text": [
      "[CV 3/3] END gamma=25.6, learning_rate=0.25, max_depth=3, n_estimators=65, reg_alpha=25.6, reg_lambda=6.4;, score=(train=0.762, test=0.757) total time=   0.4s\n"
     ]
    },
    {
     "name": "stderr",
     "output_type": "stream",
     "text": [
      "COMET ERROR: Failed to extract parameters from estimator\n",
      "COMET ERROR: Failed to extract parameters from estimator\n",
      "COMET ERROR: Failed to extract parameters from estimator\n",
      "COMET ERROR: Failed to extract parameters from estimator\n",
      "COMET ERROR: Failed to extract parameters from estimator\n"
     ]
    },
    {
     "name": "stdout",
     "output_type": "stream",
     "text": [
      "Fitting 3 folds for each of 1 candidates, totalling 3 fits\n"
     ]
    },
    {
     "name": "stderr",
     "output_type": "stream",
     "text": [
      "C:\\Users\\saiak\\.conda\\envs\\ift6758-conda-env\\lib\\site-packages\\xgboost\\training.py:17: UserWarning: Old style callback is deprecated.  See: https://xgboost.readthedocs.io/en/latest/python/callbacks.html\n",
      "  warnings.warn(f'Old style callback is deprecated.  See: {link}', UserWarning)\n"
     ]
    },
    {
     "name": "stdout",
     "output_type": "stream",
     "text": [
      "[CV 1/3] END gamma=51.2, learning_rate=0.4, max_depth=6, n_estimators=100, reg_alpha=0.0, reg_lambda=51.2;, score=(train=0.764, test=0.758) total time=   0.5s\n"
     ]
    },
    {
     "name": "stderr",
     "output_type": "stream",
     "text": [
      "C:\\Users\\saiak\\.conda\\envs\\ift6758-conda-env\\lib\\site-packages\\xgboost\\training.py:17: UserWarning: Old style callback is deprecated.  See: https://xgboost.readthedocs.io/en/latest/python/callbacks.html\n",
      "  warnings.warn(f'Old style callback is deprecated.  See: {link}', UserWarning)\n"
     ]
    },
    {
     "name": "stdout",
     "output_type": "stream",
     "text": [
      "[CV 2/3] END gamma=51.2, learning_rate=0.4, max_depth=6, n_estimators=100, reg_alpha=0.0, reg_lambda=51.2;, score=(train=0.763, test=0.758) total time=   0.5s\n"
     ]
    },
    {
     "name": "stderr",
     "output_type": "stream",
     "text": [
      "C:\\Users\\saiak\\.conda\\envs\\ift6758-conda-env\\lib\\site-packages\\xgboost\\training.py:17: UserWarning: Old style callback is deprecated.  See: https://xgboost.readthedocs.io/en/latest/python/callbacks.html\n",
      "  warnings.warn(f'Old style callback is deprecated.  See: {link}', UserWarning)\n",
      "COMET ERROR: Failed to extract parameters from estimator\n"
     ]
    },
    {
     "name": "stdout",
     "output_type": "stream",
     "text": [
      "[CV 3/3] END gamma=51.2, learning_rate=0.4, max_depth=6, n_estimators=100, reg_alpha=0.0, reg_lambda=51.2;, score=(train=0.764, test=0.757) total time=   0.5s\n"
     ]
    },
    {
     "name": "stderr",
     "output_type": "stream",
     "text": [
      "COMET ERROR: Failed to extract parameters from estimator\n",
      "COMET ERROR: Failed to extract parameters from estimator\n",
      "COMET ERROR: Failed to extract parameters from estimator\n",
      "COMET ERROR: Failed to extract parameters from estimator\n",
      "COMET ERROR: Failed to extract parameters from estimator\n"
     ]
    },
    {
     "name": "stdout",
     "output_type": "stream",
     "text": [
      "Fitting 3 folds for each of 1 candidates, totalling 3 fits\n"
     ]
    },
    {
     "name": "stderr",
     "output_type": "stream",
     "text": [
      "C:\\Users\\saiak\\.conda\\envs\\ift6758-conda-env\\lib\\site-packages\\xgboost\\training.py:17: UserWarning: Old style callback is deprecated.  See: https://xgboost.readthedocs.io/en/latest/python/callbacks.html\n",
      "  warnings.warn(f'Old style callback is deprecated.  See: {link}', UserWarning)\n"
     ]
    },
    {
     "name": "stdout",
     "output_type": "stream",
     "text": [
      "[CV 1/3] END gamma=25.6, learning_rate=0.4, max_depth=5, n_estimators=80, reg_alpha=25.6, reg_lambda=25.6;, score=(train=0.766, test=0.761) total time=   0.5s\n"
     ]
    },
    {
     "name": "stderr",
     "output_type": "stream",
     "text": [
      "C:\\Users\\saiak\\.conda\\envs\\ift6758-conda-env\\lib\\site-packages\\xgboost\\training.py:17: UserWarning: Old style callback is deprecated.  See: https://xgboost.readthedocs.io/en/latest/python/callbacks.html\n",
      "  warnings.warn(f'Old style callback is deprecated.  See: {link}', UserWarning)\n"
     ]
    },
    {
     "name": "stdout",
     "output_type": "stream",
     "text": [
      "[CV 2/3] END gamma=25.6, learning_rate=0.4, max_depth=5, n_estimators=80, reg_alpha=25.6, reg_lambda=25.6;, score=(train=0.767, test=0.760) total time=   0.4s\n"
     ]
    },
    {
     "name": "stderr",
     "output_type": "stream",
     "text": [
      "C:\\Users\\saiak\\.conda\\envs\\ift6758-conda-env\\lib\\site-packages\\xgboost\\training.py:17: UserWarning: Old style callback is deprecated.  See: https://xgboost.readthedocs.io/en/latest/python/callbacks.html\n",
      "  warnings.warn(f'Old style callback is deprecated.  See: {link}', UserWarning)\n",
      "COMET ERROR: Failed to extract parameters from estimator\n"
     ]
    },
    {
     "name": "stdout",
     "output_type": "stream",
     "text": [
      "[CV 3/3] END gamma=25.6, learning_rate=0.4, max_depth=5, n_estimators=80, reg_alpha=25.6, reg_lambda=25.6;, score=(train=0.768, test=0.759) total time=   0.4s\n"
     ]
    },
    {
     "name": "stderr",
     "output_type": "stream",
     "text": [
      "COMET ERROR: Failed to extract parameters from estimator\n",
      "COMET ERROR: Failed to extract parameters from estimator\n",
      "COMET ERROR: Failed to extract parameters from estimator\n",
      "COMET ERROR: Failed to extract parameters from estimator\n",
      "COMET ERROR: Failed to extract parameters from estimator\n"
     ]
    },
    {
     "name": "stdout",
     "output_type": "stream",
     "text": [
      "Fitting 3 folds for each of 1 candidates, totalling 3 fits\n"
     ]
    },
    {
     "name": "stderr",
     "output_type": "stream",
     "text": [
      "C:\\Users\\saiak\\.conda\\envs\\ift6758-conda-env\\lib\\site-packages\\xgboost\\training.py:17: UserWarning: Old style callback is deprecated.  See: https://xgboost.readthedocs.io/en/latest/python/callbacks.html\n",
      "  warnings.warn(f'Old style callback is deprecated.  See: {link}', UserWarning)\n"
     ]
    },
    {
     "name": "stdout",
     "output_type": "stream",
     "text": [
      "[CV 1/3] END gamma=51.2, learning_rate=0.25, max_depth=15, n_estimators=130, reg_alpha=6.4, reg_lambda=12.8;, score=(train=0.769, test=0.755) total time=   0.6s\n"
     ]
    },
    {
     "name": "stderr",
     "output_type": "stream",
     "text": [
      "C:\\Users\\saiak\\.conda\\envs\\ift6758-conda-env\\lib\\site-packages\\xgboost\\training.py:17: UserWarning: Old style callback is deprecated.  See: https://xgboost.readthedocs.io/en/latest/python/callbacks.html\n",
      "  warnings.warn(f'Old style callback is deprecated.  See: {link}', UserWarning)\n"
     ]
    },
    {
     "name": "stdout",
     "output_type": "stream",
     "text": [
      "[CV 2/3] END gamma=51.2, learning_rate=0.25, max_depth=15, n_estimators=130, reg_alpha=6.4, reg_lambda=12.8;, score=(train=0.765, test=0.763) total time=   0.6s\n"
     ]
    },
    {
     "name": "stderr",
     "output_type": "stream",
     "text": [
      "C:\\Users\\saiak\\.conda\\envs\\ift6758-conda-env\\lib\\site-packages\\xgboost\\training.py:17: UserWarning: Old style callback is deprecated.  See: https://xgboost.readthedocs.io/en/latest/python/callbacks.html\n",
      "  warnings.warn(f'Old style callback is deprecated.  See: {link}', UserWarning)\n",
      "COMET ERROR: Failed to extract parameters from estimator\n"
     ]
    },
    {
     "name": "stdout",
     "output_type": "stream",
     "text": [
      "[CV 3/3] END gamma=51.2, learning_rate=0.25, max_depth=15, n_estimators=130, reg_alpha=6.4, reg_lambda=12.8;, score=(train=0.766, test=0.760) total time=   0.6s\n"
     ]
    },
    {
     "name": "stderr",
     "output_type": "stream",
     "text": [
      "COMET ERROR: Failed to extract parameters from estimator\n",
      "COMET ERROR: Failed to extract parameters from estimator\n",
      "COMET ERROR: Failed to extract parameters from estimator\n",
      "COMET ERROR: Failed to extract parameters from estimator\n",
      "COMET ERROR: Failed to extract parameters from estimator\n"
     ]
    },
    {
     "name": "stdout",
     "output_type": "stream",
     "text": [
      "Fitting 3 folds for each of 1 candidates, totalling 3 fits\n"
     ]
    },
    {
     "name": "stderr",
     "output_type": "stream",
     "text": [
      "C:\\Users\\saiak\\.conda\\envs\\ift6758-conda-env\\lib\\site-packages\\xgboost\\training.py:17: UserWarning: Old style callback is deprecated.  See: https://xgboost.readthedocs.io/en/latest/python/callbacks.html\n",
      "  warnings.warn(f'Old style callback is deprecated.  See: {link}', UserWarning)\n"
     ]
    },
    {
     "name": "stdout",
     "output_type": "stream",
     "text": [
      "[CV 1/3] END gamma=51.2, learning_rate=0.7, max_depth=4, n_estimators=65, reg_alpha=51.2, reg_lambda=0.2;, score=(train=0.758, test=0.756) total time=   0.4s\n"
     ]
    },
    {
     "name": "stderr",
     "output_type": "stream",
     "text": [
      "C:\\Users\\saiak\\.conda\\envs\\ift6758-conda-env\\lib\\site-packages\\xgboost\\training.py:17: UserWarning: Old style callback is deprecated.  See: https://xgboost.readthedocs.io/en/latest/python/callbacks.html\n",
      "  warnings.warn(f'Old style callback is deprecated.  See: {link}', UserWarning)\n"
     ]
    },
    {
     "name": "stdout",
     "output_type": "stream",
     "text": [
      "[CV 2/3] END gamma=51.2, learning_rate=0.7, max_depth=4, n_estimators=65, reg_alpha=51.2, reg_lambda=0.2;, score=(train=0.757, test=0.750) total time=   0.4s\n"
     ]
    },
    {
     "name": "stderr",
     "output_type": "stream",
     "text": [
      "C:\\Users\\saiak\\.conda\\envs\\ift6758-conda-env\\lib\\site-packages\\xgboost\\training.py:17: UserWarning: Old style callback is deprecated.  See: https://xgboost.readthedocs.io/en/latest/python/callbacks.html\n",
      "  warnings.warn(f'Old style callback is deprecated.  See: {link}', UserWarning)\n",
      "COMET ERROR: Failed to extract parameters from estimator\n"
     ]
    },
    {
     "name": "stdout",
     "output_type": "stream",
     "text": [
      "[CV 3/3] END gamma=51.2, learning_rate=0.7, max_depth=4, n_estimators=65, reg_alpha=51.2, reg_lambda=0.2;, score=(train=0.756, test=0.750) total time=   0.4s\n"
     ]
    },
    {
     "name": "stderr",
     "output_type": "stream",
     "text": [
      "COMET ERROR: Failed to extract parameters from estimator\n",
      "COMET ERROR: Failed to extract parameters from estimator\n",
      "COMET ERROR: Failed to extract parameters from estimator\n",
      "COMET ERROR: Failed to extract parameters from estimator\n",
      "COMET ERROR: Failed to extract parameters from estimator\n"
     ]
    },
    {
     "name": "stdout",
     "output_type": "stream",
     "text": [
      "Fitting 3 folds for each of 1 candidates, totalling 3 fits\n"
     ]
    },
    {
     "name": "stderr",
     "output_type": "stream",
     "text": [
      "C:\\Users\\saiak\\.conda\\envs\\ift6758-conda-env\\lib\\site-packages\\xgboost\\training.py:17: UserWarning: Old style callback is deprecated.  See: https://xgboost.readthedocs.io/en/latest/python/callbacks.html\n",
      "  warnings.warn(f'Old style callback is deprecated.  See: {link}', UserWarning)\n"
     ]
    },
    {
     "name": "stdout",
     "output_type": "stream",
     "text": [
      "[CV 1/3] END gamma=3.2, learning_rate=0.06, max_depth=6, n_estimators=80, reg_alpha=0.8, reg_lambda=25.6;, score=(train=0.784, test=0.765) total time=   1.0s\n"
     ]
    },
    {
     "name": "stderr",
     "output_type": "stream",
     "text": [
      "C:\\Users\\saiak\\.conda\\envs\\ift6758-conda-env\\lib\\site-packages\\xgboost\\training.py:17: UserWarning: Old style callback is deprecated.  See: https://xgboost.readthedocs.io/en/latest/python/callbacks.html\n",
      "  warnings.warn(f'Old style callback is deprecated.  See: {link}', UserWarning)\n"
     ]
    },
    {
     "name": "stdout",
     "output_type": "stream",
     "text": [
      "[CV 2/3] END gamma=3.2, learning_rate=0.06, max_depth=6, n_estimators=80, reg_alpha=0.8, reg_lambda=25.6;, score=(train=0.783, test=0.767) total time=   0.9s\n"
     ]
    },
    {
     "name": "stderr",
     "output_type": "stream",
     "text": [
      "C:\\Users\\saiak\\.conda\\envs\\ift6758-conda-env\\lib\\site-packages\\xgboost\\training.py:17: UserWarning: Old style callback is deprecated.  See: https://xgboost.readthedocs.io/en/latest/python/callbacks.html\n",
      "  warnings.warn(f'Old style callback is deprecated.  See: {link}', UserWarning)\n",
      "COMET ERROR: Failed to extract parameters from estimator\n"
     ]
    },
    {
     "name": "stdout",
     "output_type": "stream",
     "text": [
      "[CV 3/3] END gamma=3.2, learning_rate=0.06, max_depth=6, n_estimators=80, reg_alpha=0.8, reg_lambda=25.6;, score=(train=0.785, test=0.763) total time=   0.9s\n"
     ]
    },
    {
     "name": "stderr",
     "output_type": "stream",
     "text": [
      "COMET ERROR: Failed to extract parameters from estimator\n",
      "COMET ERROR: Failed to extract parameters from estimator\n",
      "COMET ERROR: Failed to extract parameters from estimator\n",
      "COMET ERROR: Failed to extract parameters from estimator\n",
      "COMET ERROR: Failed to extract parameters from estimator\n"
     ]
    },
    {
     "name": "stdout",
     "output_type": "stream",
     "text": [
      "Fitting 3 folds for each of 1 candidates, totalling 3 fits\n"
     ]
    },
    {
     "name": "stderr",
     "output_type": "stream",
     "text": [
      "C:\\Users\\saiak\\.conda\\envs\\ift6758-conda-env\\lib\\site-packages\\xgboost\\training.py:17: UserWarning: Old style callback is deprecated.  See: https://xgboost.readthedocs.io/en/latest/python/callbacks.html\n",
      "  warnings.warn(f'Old style callback is deprecated.  See: {link}', UserWarning)\n"
     ]
    },
    {
     "name": "stdout",
     "output_type": "stream",
     "text": [
      "[CV 1/3] END gamma=6.4, learning_rate=0.5, max_depth=5, n_estimators=80, reg_alpha=0.1, reg_lambda=102.4;, score=(train=0.781, test=0.762) total time=   0.4s\n"
     ]
    },
    {
     "name": "stderr",
     "output_type": "stream",
     "text": [
      "C:\\Users\\saiak\\.conda\\envs\\ift6758-conda-env\\lib\\site-packages\\xgboost\\training.py:17: UserWarning: Old style callback is deprecated.  See: https://xgboost.readthedocs.io/en/latest/python/callbacks.html\n",
      "  warnings.warn(f'Old style callback is deprecated.  See: {link}', UserWarning)\n"
     ]
    },
    {
     "name": "stdout",
     "output_type": "stream",
     "text": [
      "[CV 2/3] END gamma=6.4, learning_rate=0.5, max_depth=5, n_estimators=80, reg_alpha=0.1, reg_lambda=102.4;, score=(train=0.780, test=0.762) total time=   0.4s\n"
     ]
    },
    {
     "name": "stderr",
     "output_type": "stream",
     "text": [
      "C:\\Users\\saiak\\.conda\\envs\\ift6758-conda-env\\lib\\site-packages\\xgboost\\training.py:17: UserWarning: Old style callback is deprecated.  See: https://xgboost.readthedocs.io/en/latest/python/callbacks.html\n",
      "  warnings.warn(f'Old style callback is deprecated.  See: {link}', UserWarning)\n",
      "COMET ERROR: Failed to extract parameters from estimator\n"
     ]
    },
    {
     "name": "stdout",
     "output_type": "stream",
     "text": [
      "[CV 3/3] END gamma=6.4, learning_rate=0.5, max_depth=5, n_estimators=80, reg_alpha=0.1, reg_lambda=102.4;, score=(train=0.780, test=0.766) total time=   0.4s\n"
     ]
    },
    {
     "name": "stderr",
     "output_type": "stream",
     "text": [
      "COMET ERROR: Failed to extract parameters from estimator\n",
      "COMET ERROR: Failed to extract parameters from estimator\n",
      "COMET ERROR: Failed to extract parameters from estimator\n",
      "COMET ERROR: Failed to extract parameters from estimator\n",
      "COMET ERROR: Failed to extract parameters from estimator\n"
     ]
    },
    {
     "name": "stdout",
     "output_type": "stream",
     "text": [
      "Fitting 3 folds for each of 1 candidates, totalling 3 fits\n"
     ]
    },
    {
     "name": "stderr",
     "output_type": "stream",
     "text": [
      "C:\\Users\\saiak\\.conda\\envs\\ift6758-conda-env\\lib\\site-packages\\xgboost\\training.py:17: UserWarning: Old style callback is deprecated.  See: https://xgboost.readthedocs.io/en/latest/python/callbacks.html\n",
      "  warnings.warn(f'Old style callback is deprecated.  See: {link}', UserWarning)\n"
     ]
    },
    {
     "name": "stdout",
     "output_type": "stream",
     "text": [
      "[CV 1/3] END gamma=6.4, learning_rate=0.5, max_depth=10, n_estimators=80, reg_alpha=0.1, reg_lambda=6.4;, score=(train=0.852, test=0.756) total time=   0.9s\n"
     ]
    },
    {
     "name": "stderr",
     "output_type": "stream",
     "text": [
      "C:\\Users\\saiak\\.conda\\envs\\ift6758-conda-env\\lib\\site-packages\\xgboost\\training.py:17: UserWarning: Old style callback is deprecated.  See: https://xgboost.readthedocs.io/en/latest/python/callbacks.html\n",
      "  warnings.warn(f'Old style callback is deprecated.  See: {link}', UserWarning)\n"
     ]
    },
    {
     "name": "stdout",
     "output_type": "stream",
     "text": [
      "[CV 2/3] END gamma=6.4, learning_rate=0.5, max_depth=10, n_estimators=80, reg_alpha=0.1, reg_lambda=6.4;, score=(train=0.849, test=0.750) total time=   0.8s\n"
     ]
    },
    {
     "name": "stderr",
     "output_type": "stream",
     "text": [
      "C:\\Users\\saiak\\.conda\\envs\\ift6758-conda-env\\lib\\site-packages\\xgboost\\training.py:17: UserWarning: Old style callback is deprecated.  See: https://xgboost.readthedocs.io/en/latest/python/callbacks.html\n",
      "  warnings.warn(f'Old style callback is deprecated.  See: {link}', UserWarning)\n",
      "COMET ERROR: Failed to extract parameters from estimator\n"
     ]
    },
    {
     "name": "stdout",
     "output_type": "stream",
     "text": [
      "[CV 3/3] END gamma=6.4, learning_rate=0.5, max_depth=10, n_estimators=80, reg_alpha=0.1, reg_lambda=6.4;, score=(train=0.860, test=0.747) total time=   1.0s\n"
     ]
    },
    {
     "name": "stderr",
     "output_type": "stream",
     "text": [
      "COMET ERROR: Failed to extract parameters from estimator\n",
      "COMET ERROR: Failed to extract parameters from estimator\n",
      "COMET ERROR: Failed to extract parameters from estimator\n",
      "COMET ERROR: Failed to extract parameters from estimator\n",
      "COMET ERROR: Failed to extract parameters from estimator\n"
     ]
    },
    {
     "name": "stdout",
     "output_type": "stream",
     "text": [
      "Fitting 3 folds for each of 1 candidates, totalling 3 fits\n"
     ]
    },
    {
     "name": "stderr",
     "output_type": "stream",
     "text": [
      "C:\\Users\\saiak\\.conda\\envs\\ift6758-conda-env\\lib\\site-packages\\xgboost\\training.py:17: UserWarning: Old style callback is deprecated.  See: https://xgboost.readthedocs.io/en/latest/python/callbacks.html\n",
      "  warnings.warn(f'Old style callback is deprecated.  See: {link}', UserWarning)\n"
     ]
    },
    {
     "name": "stdout",
     "output_type": "stream",
     "text": [
      "[CV 1/3] END gamma=0.2, learning_rate=0.15, max_depth=10, n_estimators=65, reg_alpha=6.4, reg_lambda=12.8;, score=(train=0.880, test=0.762) total time=   3.8s\n"
     ]
    },
    {
     "name": "stderr",
     "output_type": "stream",
     "text": [
      "C:\\Users\\saiak\\.conda\\envs\\ift6758-conda-env\\lib\\site-packages\\xgboost\\training.py:17: UserWarning: Old style callback is deprecated.  See: https://xgboost.readthedocs.io/en/latest/python/callbacks.html\n",
      "  warnings.warn(f'Old style callback is deprecated.  See: {link}', UserWarning)\n"
     ]
    },
    {
     "name": "stdout",
     "output_type": "stream",
     "text": [
      "[CV 2/3] END gamma=0.2, learning_rate=0.15, max_depth=10, n_estimators=65, reg_alpha=6.4, reg_lambda=12.8;, score=(train=0.880, test=0.763) total time=   3.9s\n"
     ]
    },
    {
     "name": "stderr",
     "output_type": "stream",
     "text": [
      "C:\\Users\\saiak\\.conda\\envs\\ift6758-conda-env\\lib\\site-packages\\xgboost\\training.py:17: UserWarning: Old style callback is deprecated.  See: https://xgboost.readthedocs.io/en/latest/python/callbacks.html\n",
      "  warnings.warn(f'Old style callback is deprecated.  See: {link}', UserWarning)\n",
      "COMET ERROR: Failed to extract parameters from estimator\n"
     ]
    },
    {
     "name": "stdout",
     "output_type": "stream",
     "text": [
      "[CV 3/3] END gamma=0.2, learning_rate=0.15, max_depth=10, n_estimators=65, reg_alpha=6.4, reg_lambda=12.8;, score=(train=0.881, test=0.759) total time=   3.7s\n"
     ]
    },
    {
     "name": "stderr",
     "output_type": "stream",
     "text": [
      "COMET ERROR: Failed to extract parameters from estimator\n",
      "COMET ERROR: Failed to extract parameters from estimator\n",
      "COMET ERROR: Failed to extract parameters from estimator\n",
      "COMET ERROR: Failed to extract parameters from estimator\n",
      "COMET ERROR: Failed to extract parameters from estimator\n"
     ]
    },
    {
     "name": "stdout",
     "output_type": "stream",
     "text": [
      "Fitting 3 folds for each of 1 candidates, totalling 3 fits\n"
     ]
    },
    {
     "name": "stderr",
     "output_type": "stream",
     "text": [
      "C:\\Users\\saiak\\.conda\\envs\\ift6758-conda-env\\lib\\site-packages\\xgboost\\training.py:17: UserWarning: Old style callback is deprecated.  See: https://xgboost.readthedocs.io/en/latest/python/callbacks.html\n",
      "  warnings.warn(f'Old style callback is deprecated.  See: {link}', UserWarning)\n"
     ]
    },
    {
     "name": "stdout",
     "output_type": "stream",
     "text": [
      "[CV 1/3] END gamma=0.2, learning_rate=0.5, max_depth=4, n_estimators=130, reg_alpha=25.6, reg_lambda=51.2;, score=(train=0.805, test=0.762) total time=   1.0s\n"
     ]
    },
    {
     "name": "stderr",
     "output_type": "stream",
     "text": [
      "C:\\Users\\saiak\\.conda\\envs\\ift6758-conda-env\\lib\\site-packages\\xgboost\\training.py:17: UserWarning: Old style callback is deprecated.  See: https://xgboost.readthedocs.io/en/latest/python/callbacks.html\n",
      "  warnings.warn(f'Old style callback is deprecated.  See: {link}', UserWarning)\n"
     ]
    },
    {
     "name": "stdout",
     "output_type": "stream",
     "text": [
      "[CV 2/3] END gamma=0.2, learning_rate=0.5, max_depth=4, n_estimators=130, reg_alpha=25.6, reg_lambda=51.2;, score=(train=0.805, test=0.761) total time=   0.9s\n"
     ]
    },
    {
     "name": "stderr",
     "output_type": "stream",
     "text": [
      "C:\\Users\\saiak\\.conda\\envs\\ift6758-conda-env\\lib\\site-packages\\xgboost\\training.py:17: UserWarning: Old style callback is deprecated.  See: https://xgboost.readthedocs.io/en/latest/python/callbacks.html\n",
      "  warnings.warn(f'Old style callback is deprecated.  See: {link}', UserWarning)\n",
      "COMET ERROR: Failed to extract parameters from estimator\n"
     ]
    },
    {
     "name": "stdout",
     "output_type": "stream",
     "text": [
      "[CV 3/3] END gamma=0.2, learning_rate=0.5, max_depth=4, n_estimators=130, reg_alpha=25.6, reg_lambda=51.2;, score=(train=0.807, test=0.757) total time=   0.9s\n"
     ]
    },
    {
     "name": "stderr",
     "output_type": "stream",
     "text": [
      "COMET ERROR: Failed to extract parameters from estimator\n",
      "COMET ERROR: Failed to extract parameters from estimator\n",
      "COMET ERROR: Failed to extract parameters from estimator\n",
      "COMET ERROR: Failed to extract parameters from estimator\n",
      "COMET ERROR: Failed to extract parameters from estimator\n"
     ]
    },
    {
     "name": "stdout",
     "output_type": "stream",
     "text": [
      "Fitting 3 folds for each of 1 candidates, totalling 3 fits\n"
     ]
    },
    {
     "name": "stderr",
     "output_type": "stream",
     "text": [
      "C:\\Users\\saiak\\.conda\\envs\\ift6758-conda-env\\lib\\site-packages\\xgboost\\training.py:17: UserWarning: Old style callback is deprecated.  See: https://xgboost.readthedocs.io/en/latest/python/callbacks.html\n",
      "  warnings.warn(f'Old style callback is deprecated.  See: {link}', UserWarning)\n"
     ]
    },
    {
     "name": "stdout",
     "output_type": "stream",
     "text": [
      "[CV 1/3] END gamma=0.2, learning_rate=0.2, max_depth=5, n_estimators=115, reg_alpha=12.8, reg_lambda=0.4;, score=(train=0.809, test=0.765) total time=   1.1s\n"
     ]
    },
    {
     "name": "stderr",
     "output_type": "stream",
     "text": [
      "C:\\Users\\saiak\\.conda\\envs\\ift6758-conda-env\\lib\\site-packages\\xgboost\\training.py:17: UserWarning: Old style callback is deprecated.  See: https://xgboost.readthedocs.io/en/latest/python/callbacks.html\n",
      "  warnings.warn(f'Old style callback is deprecated.  See: {link}', UserWarning)\n"
     ]
    },
    {
     "name": "stdout",
     "output_type": "stream",
     "text": [
      "[CV 2/3] END gamma=0.2, learning_rate=0.2, max_depth=5, n_estimators=115, reg_alpha=12.8, reg_lambda=0.4;, score=(train=0.807, test=0.764) total time=   1.0s\n"
     ]
    },
    {
     "name": "stderr",
     "output_type": "stream",
     "text": [
      "C:\\Users\\saiak\\.conda\\envs\\ift6758-conda-env\\lib\\site-packages\\xgboost\\training.py:17: UserWarning: Old style callback is deprecated.  See: https://xgboost.readthedocs.io/en/latest/python/callbacks.html\n",
      "  warnings.warn(f'Old style callback is deprecated.  See: {link}', UserWarning)\n",
      "COMET ERROR: Failed to extract parameters from estimator\n"
     ]
    },
    {
     "name": "stdout",
     "output_type": "stream",
     "text": [
      "[CV 3/3] END gamma=0.2, learning_rate=0.2, max_depth=5, n_estimators=115, reg_alpha=12.8, reg_lambda=0.4;, score=(train=0.809, test=0.765) total time=   1.0s\n"
     ]
    },
    {
     "name": "stderr",
     "output_type": "stream",
     "text": [
      "COMET ERROR: Failed to extract parameters from estimator\n",
      "COMET ERROR: Failed to extract parameters from estimator\n",
      "COMET ERROR: Failed to extract parameters from estimator\n",
      "COMET ERROR: Failed to extract parameters from estimator\n",
      "COMET ERROR: Failed to extract parameters from estimator\n"
     ]
    },
    {
     "name": "stdout",
     "output_type": "stream",
     "text": [
      "Fitting 3 folds for each of 1 candidates, totalling 3 fits\n"
     ]
    },
    {
     "name": "stderr",
     "output_type": "stream",
     "text": [
      "C:\\Users\\saiak\\.conda\\envs\\ift6758-conda-env\\lib\\site-packages\\xgboost\\training.py:17: UserWarning: Old style callback is deprecated.  See: https://xgboost.readthedocs.io/en/latest/python/callbacks.html\n",
      "  warnings.warn(f'Old style callback is deprecated.  See: {link}', UserWarning)\n"
     ]
    },
    {
     "name": "stdout",
     "output_type": "stream",
     "text": [
      "[CV 1/3] END gamma=0.2, learning_rate=0.2, max_depth=8, n_estimators=115, reg_alpha=12.8, reg_lambda=1.6;, score=(train=0.898, test=0.754) total time=   2.7s\n"
     ]
    },
    {
     "name": "stderr",
     "output_type": "stream",
     "text": [
      "C:\\Users\\saiak\\.conda\\envs\\ift6758-conda-env\\lib\\site-packages\\xgboost\\training.py:17: UserWarning: Old style callback is deprecated.  See: https://xgboost.readthedocs.io/en/latest/python/callbacks.html\n",
      "  warnings.warn(f'Old style callback is deprecated.  See: {link}', UserWarning)\n"
     ]
    },
    {
     "name": "stdout",
     "output_type": "stream",
     "text": [
      "[CV 2/3] END gamma=0.2, learning_rate=0.2, max_depth=8, n_estimators=115, reg_alpha=12.8, reg_lambda=1.6;, score=(train=0.898, test=0.753) total time=   2.8s\n"
     ]
    },
    {
     "name": "stderr",
     "output_type": "stream",
     "text": [
      "C:\\Users\\saiak\\.conda\\envs\\ift6758-conda-env\\lib\\site-packages\\xgboost\\training.py:17: UserWarning: Old style callback is deprecated.  See: https://xgboost.readthedocs.io/en/latest/python/callbacks.html\n",
      "  warnings.warn(f'Old style callback is deprecated.  See: {link}', UserWarning)\n",
      "COMET ERROR: Failed to extract parameters from estimator\n"
     ]
    },
    {
     "name": "stdout",
     "output_type": "stream",
     "text": [
      "[CV 3/3] END gamma=0.2, learning_rate=0.2, max_depth=8, n_estimators=115, reg_alpha=12.8, reg_lambda=1.6;, score=(train=0.899, test=0.757) total time=   3.0s\n"
     ]
    },
    {
     "name": "stderr",
     "output_type": "stream",
     "text": [
      "COMET ERROR: Failed to extract parameters from estimator\n",
      "COMET ERROR: Failed to extract parameters from estimator\n",
      "COMET ERROR: Failed to extract parameters from estimator\n",
      "COMET ERROR: Failed to extract parameters from estimator\n",
      "COMET ERROR: Failed to extract parameters from estimator\n"
     ]
    },
    {
     "name": "stdout",
     "output_type": "stream",
     "text": [
      "Fitting 3 folds for each of 1 candidates, totalling 3 fits\n"
     ]
    },
    {
     "name": "stderr",
     "output_type": "stream",
     "text": [
      "C:\\Users\\saiak\\.conda\\envs\\ift6758-conda-env\\lib\\site-packages\\xgboost\\training.py:17: UserWarning: Old style callback is deprecated.  See: https://xgboost.readthedocs.io/en/latest/python/callbacks.html\n",
      "  warnings.warn(f'Old style callback is deprecated.  See: {link}', UserWarning)\n"
     ]
    },
    {
     "name": "stdout",
     "output_type": "stream",
     "text": [
      "[CV 1/3] END gamma=0.2, learning_rate=0.15, max_depth=3, n_estimators=80, reg_alpha=6.4, reg_lambda=6.4;, score=(train=0.770, test=0.756) total time=   0.6s\n"
     ]
    },
    {
     "name": "stderr",
     "output_type": "stream",
     "text": [
      "C:\\Users\\saiak\\.conda\\envs\\ift6758-conda-env\\lib\\site-packages\\xgboost\\training.py:17: UserWarning: Old style callback is deprecated.  See: https://xgboost.readthedocs.io/en/latest/python/callbacks.html\n",
      "  warnings.warn(f'Old style callback is deprecated.  See: {link}', UserWarning)\n"
     ]
    },
    {
     "name": "stdout",
     "output_type": "stream",
     "text": [
      "[CV 2/3] END gamma=0.2, learning_rate=0.15, max_depth=3, n_estimators=80, reg_alpha=6.4, reg_lambda=6.4;, score=(train=0.765, test=0.766) total time=   0.6s\n"
     ]
    },
    {
     "name": "stderr",
     "output_type": "stream",
     "text": [
      "C:\\Users\\saiak\\.conda\\envs\\ift6758-conda-env\\lib\\site-packages\\xgboost\\training.py:17: UserWarning: Old style callback is deprecated.  See: https://xgboost.readthedocs.io/en/latest/python/callbacks.html\n",
      "  warnings.warn(f'Old style callback is deprecated.  See: {link}', UserWarning)\n",
      "COMET ERROR: Failed to extract parameters from estimator\n"
     ]
    },
    {
     "name": "stdout",
     "output_type": "stream",
     "text": [
      "[CV 3/3] END gamma=0.2, learning_rate=0.15, max_depth=3, n_estimators=80, reg_alpha=6.4, reg_lambda=6.4;, score=(train=0.769, test=0.759) total time=   0.5s\n"
     ]
    },
    {
     "name": "stderr",
     "output_type": "stream",
     "text": [
      "COMET ERROR: Failed to extract parameters from estimator\n",
      "C:\\Users\\saiak\\.conda\\envs\\ift6758-conda-env\\lib\\site-packages\\xgboost\\training.py:17: UserWarning: Old style callback is deprecated.  See: https://xgboost.readthedocs.io/en/latest/python/callbacks.html\n",
      "  warnings.warn(f'Old style callback is deprecated.  See: {link}', UserWarning)\n"
     ]
    }
   ],
   "source": [
    "##Hyperparameter Tuning\n",
    "#creating deepcopy of default parameters before manipulations\n",
    "experiment = \"xgb-bayestuning-allfeatures\"\n",
    "params = deepcopy(default_params)\n",
    "\n",
    "#setting grid of selected parameters for iteration\n",
    "param_grid = {'gamma': [0,0.1,0.2,0.4,0.8,1.6,3.2,6.4,12.8,25.6,51.2,102.4, 200],\n",
    "              'learning_rate': [0.01, 0.03, 0.06, 0.1, 0.15, 0.2, 0.25, 0.3, 0.4, 0.5, 0.6, 0.7],\n",
    "              'max_depth': [3, 4, 5, 6, 8, 10, 12, 15],\n",
    "              'n_estimators': [50,65,80,100,115,130,150],\n",
    "              'reg_alpha': [0,0.1,0.2,0.4,0.8,1.6,3.2,6.4,12.8,25.6,51.2,102.4,200],\n",
    "              'reg_lambda': [0,0.1,0.2,0.4,0.8,1.6,3.2,6.4,12.8,25.6,51.2,102.4,200]\n",
    "              }\n",
    "\n",
    "#No. of jobs\n",
    "bcvj = int(np.cumsum([len(x) for x in param_grid.values()])[-1])\n",
    "\n",
    "#unwrapping list values of default parameters\n",
    "default_params_xgb = {}\n",
    "\n",
    "for key in default_params.keys():\n",
    "    default_params_xgb[key] = default_params[key][0]\n",
    "\n",
    "#providing default parameters to xgbc model, before randomized search cross-validation\n",
    "xgb3 = xgb.XGBClassifier(**default_params_xgb)\n",
    "\n",
    "clf = BayesSearchCV(estimator=xgb3, search_spaces=param_grid, n_iter=bcvj, scoring='roc_auc', return_train_score=True, verbose=3,\n",
    "                    cv = StratifiedKFold(\n",
    "                            n_splits=3,\n",
    "                            shuffle=True\n",
    "                        ))\n",
    "clf.fit(Xtrain, Ytrain.values.ravel())\n",
    "\n",
    "#results dataframe\n",
    "dfr = pd.DataFrame(clf.cv_results_)\n",
    "\n",
    "#best parameters\n",
    "bp = clf.best_params_\n",
    "\n",
    "#storing computed values in results dictionary\n",
    "results_dict[experiment] = {'iterable_parameter': np.nan,\n",
    "                        'classifier': deepcopy(clf),\n",
    "                        'cv_results': dfr.copy(),\n",
    "                        'best_params': bp}\n",
    "\n",
    "\n",
    "y_pred_val  = clf.predict(Xval)\n",
    "y_pred_val_scores = clf.predict_proba(Xval)[:,1]"
   ]
  },
  {
   "cell_type": "code",
   "execution_count": 125,
   "metadata": {},
   "outputs": [
    {
     "data": {
      "text/plain": [
       "{'objective': 'binary:logistic',\n",
       " 'base_score': 0.5,\n",
       " 'booster': 'gbtree',\n",
       " 'colsample_bylevel': 1,\n",
       " 'colsample_bynode': 1,\n",
       " 'colsample_bytree': 1,\n",
       " 'gamma': 0.2,\n",
       " 'gpu_id': 0,\n",
       " 'interaction_constraints': '',\n",
       " 'learning_rate': 0.15,\n",
       " 'max_delta_step': 0,\n",
       " 'max_depth': 6,\n",
       " 'min_child_weight': 1,\n",
       " 'monotone_constraints': '()',\n",
       " 'n_jobs': 12,\n",
       " 'num_parallel_tree': 1,\n",
       " 'predictor': 'auto',\n",
       " 'random_state': 0,\n",
       " 'reg_alpha': 0.1,\n",
       " 'reg_lambda': 51.2,\n",
       " 'scale_pos_weight': 3.1250506484552094,\n",
       " 'subsample': 1,\n",
       " 'tree_method': 'gpu_hist',\n",
       " 'validate_parameters': 1,\n",
       " 'verbosity': None,\n",
       " 'eval_metric': 'auc',\n",
       " 'grow_policy': 'lossguide'}"
      ]
     },
     "execution_count": 125,
     "metadata": {},
     "output_type": "execute_result"
    }
   ],
   "source": [
    "# clf.best_estimator_.p"
   ]
  },
  {
   "cell_type": "code",
   "execution_count": 37,
   "metadata": {},
   "outputs": [],
   "source": [
    "experiment = \"xgb-bayestuning-allfeatures\"\n"
   ]
  },
  {
   "cell_type": "code",
   "execution_count": 38,
   "metadata": {},
   "outputs": [],
   "source": [
    "df_plotly = pd.DataFrame(clf.cv_results_[\"params\"])\n",
    "ploty_hover=df_plotly.columns\n",
    "df_plotly[\"ROC_AUC_mean_fold_test_score\"]=clf.cv_results_[\"mean_test_score\"]\n",
    "df_plotly=df_plotly.reset_index().rename(columns={'index':'experiment_number'})\n",
    "df_plotly[\"Value\"]=\"SubOptimal\"\n",
    "# Ref: https://stackoverflow.com/a/34162576\n",
    "df_plotly.loc[(df_plotly[list(bp)]==pd.Series(bp)).all(axis=1),\"Value\"]=\"Best\"\n"
   ]
  },
  {
   "cell_type": "code",
   "execution_count": 39,
   "metadata": {},
   "outputs": [
    {
     "data": {
      "application/vnd.plotly.v1+json": {
       "config": {
        "plotlyServerURL": "https://plot.ly"
       },
       "data": [
        {
         "customdata": [
          [
           51.2,
           0.6,
           10,
           80,
           1.6,
           6.4
          ],
          [
           3.2,
           0.25,
           8,
           50,
           12.8,
           102.4
          ],
          [
           0.4,
           0.7,
           6,
           115,
           6.4,
           0.8
          ],
          [
           0,
           0.03,
           10,
           65,
           51.2,
           12.8
          ],
          [
           0.2,
           0.3,
           6,
           100,
           0.8,
           0.2
          ],
          [
           25.6,
           0.1,
           6,
           100,
           51.2,
           25.6
          ],
          [
           0.1,
           0.3,
           10,
           115,
           6.4,
           51.2
          ],
          [
           200,
           0.1,
           8,
           100,
           12.8,
           0.1
          ],
          [
           6.4,
           0.03,
           4,
           100,
           0.8,
           0.8
          ],
          [
           0.4,
           0.2,
           10,
           80,
           3.2,
           0.1
          ],
          [
           200,
           0.5,
           6,
           50,
           12.8,
           3.2
          ],
          [
           3.2,
           0.1,
           6,
           100,
           51.2,
           102.4
          ],
          [
           3.2,
           0.6,
           3,
           50,
           51.2,
           102.4
          ],
          [
           3.2,
           0.1,
           6,
           50,
           1.6,
           51.2
          ],
          [
           25.6,
           0.2,
           6,
           65,
           25.6,
           25.6
          ],
          [
           3.2,
           0.25,
           4,
           100,
           51.2,
           12.8
          ],
          [
           3.2,
           0.1,
           6,
           100,
           3.2,
           102.4
          ],
          [
           3.2,
           0.4,
           8,
           100,
           3.2,
           6.4
          ],
          [
           1.6,
           0.3,
           8,
           130,
           0.8,
           102.4
          ],
          [
           102.4,
           0.1,
           3,
           50,
           51.2,
           0.1
          ],
          [
           0.8,
           0.4,
           6,
           65,
           0.2,
           200
          ],
          [
           12.8,
           0.1,
           8,
           100,
           12.8,
           12.8
          ],
          [
           12.8,
           0.7,
           5,
           115,
           0.4,
           25.6
          ],
          [
           0.8,
           0.1,
           10,
           80,
           102.4,
           0.1
          ],
          [
           0.8,
           0.2,
           12,
           130,
           0.1,
           0
          ],
          [
           3.2,
           0.15,
           8,
           65,
           3.2,
           6.4
          ],
          [
           3.2,
           0.03,
           8,
           80,
           3.2,
           25.6
          ],
          [
           3.2,
           0.25,
           10,
           65,
           3.2,
           0
          ],
          [
           3.2,
           0.25,
           12,
           65,
           3.2,
           200
          ],
          [
           3.2,
           0.25,
           5,
           80,
           3.2,
           12.8
          ],
          [
           12.8,
           0.1,
           10,
           115,
           12.8,
           0.1
          ],
          [
           12.8,
           0.2,
           12,
           100,
           12.8,
           0.1
          ],
          [
           12.8,
           0.3,
           15,
           130,
           12.8,
           12.8
          ],
          [
           12.8,
           0.6,
           4,
           80,
           0.1,
           0.1
          ],
          [
           12.8,
           0.1,
           6,
           65,
           12.8,
           0.2
          ],
          [
           12.8,
           0.1,
           15,
           150,
           0.8,
           200
          ],
          [
           12.8,
           0.5,
           3,
           100,
           12.8,
           0.4
          ],
          [
           12.8,
           0.15,
           10,
           100,
           12.8,
           6.4
          ],
          [
           3.2,
           0.15,
           5,
           80,
           0.2,
           25.6
          ],
          [
           3.2,
           0.15,
           5,
           130,
           0.4,
           3.2
          ],
          [
           1.6,
           0.7,
           4,
           100,
           1.6,
           0.8
          ],
          [
           25.6,
           0.2,
           4,
           130,
           0.8,
           200
          ],
          [
           3.2,
           0.3,
           5,
           65,
           3.2,
           102.4
          ],
          [
           3.2,
           0.15,
           6,
           80,
           102.4,
           1.6
          ],
          [
           3.2,
           0.2,
           5,
           80,
           3.2,
           0.4
          ],
          [
           3.2,
           0.15,
           5,
           80,
           0,
           0.2
          ],
          [
           3.2,
           0.1,
           15,
           115,
           3.2,
           0.4
          ],
          [
           0,
           0.25,
           12,
           130,
           0.2,
           25.6
          ],
          [
           25.6,
           0.2,
           12,
           65,
           25.6,
           0.4
          ],
          [
           25.6,
           0.2,
           10,
           80,
           25.6,
           0.8
          ],
          [
           25.6,
           0.5,
           15,
           65,
           25.6,
           0.1
          ],
          [
           25.6,
           0.25,
           8,
           65,
           25.6,
           3.2
          ],
          [
           25.6,
           0.25,
           3,
           65,
           25.6,
           6.4
          ],
          [
           51.2,
           0.4,
           6,
           100,
           0,
           51.2
          ],
          [
           25.6,
           0.4,
           5,
           80,
           25.6,
           25.6
          ],
          [
           51.2,
           0.25,
           15,
           130,
           6.4,
           12.8
          ],
          [
           51.2,
           0.7,
           4,
           65,
           51.2,
           0.2
          ],
          [
           3.2,
           0.06,
           6,
           80,
           0.8,
           25.6
          ],
          [
           6.4,
           0.5,
           5,
           80,
           0.1,
           102.4
          ],
          [
           6.4,
           0.5,
           10,
           80,
           0.1,
           6.4
          ],
          [
           0.2,
           0.15,
           10,
           65,
           6.4,
           12.8
          ],
          [
           0.2,
           0.5,
           4,
           130,
           25.6,
           51.2
          ],
          [
           0.2,
           0.2,
           5,
           115,
           12.8,
           0.4
          ],
          [
           0.2,
           0.2,
           8,
           115,
           12.8,
           1.6
          ],
          [
           0.2,
           0.15,
           3,
           80,
           6.4,
           6.4
          ]
         ],
         "hovertemplate": "Value=SubOptimal<br>experiment_number=%{x}<br>ROC_AUC_mean_fold_test_score=%{y}<br>gamma=%{customdata[0]}<br>learning_rate=%{customdata[1]}<br>max_depth=%{customdata[2]}<br>n_estimators=%{customdata[3]}<br>reg_alpha=%{customdata[4]}<br>reg_lambda=%{customdata[5]}<extra></extra>",
         "legendgroup": "SubOptimal",
         "marker": {
          "color": "#636efa",
          "size": 10,
          "symbol": "circle"
         },
         "mode": "markers",
         "name": "SubOptimal",
         "orientation": "v",
         "showlegend": true,
         "type": "scatter",
         "x": [
          0,
          1,
          2,
          3,
          4,
          5,
          6,
          7,
          8,
          9,
          10,
          11,
          12,
          13,
          14,
          15,
          16,
          17,
          18,
          19,
          20,
          21,
          22,
          23,
          24,
          26,
          27,
          28,
          29,
          30,
          31,
          32,
          33,
          34,
          35,
          36,
          37,
          38,
          39,
          40,
          41,
          42,
          43,
          44,
          45,
          46,
          47,
          48,
          49,
          50,
          51,
          52,
          53,
          54,
          55,
          56,
          57,
          58,
          59,
          60,
          61,
          62,
          63,
          64,
          65
         ],
         "xaxis": "x",
         "y": [
          0.7578094847507776,
          0.7656330504042509,
          0.7248335724117317,
          0.75861651538355,
          0.7537825119151892,
          0.7600758316174816,
          0.7430959950347938,
          0.7454099205588349,
          0.7538257934614846,
          0.7447817096110478,
          0.7450187179934481,
          0.7644193054528161,
          0.7592882976231453,
          0.7643409559502278,
          0.7613656615947223,
          0.7629464947057746,
          0.7661931918790338,
          0.7576428515904347,
          0.7613981712287882,
          0.7483670820828449,
          0.7633800721535025,
          0.7656386448772977,
          0.7607302551760836,
          0.7638385518736079,
          0.7350014184944537,
          0.7640869720088022,
          0.763040317439626,
          0.7549063054121761,
          0.763443149610346,
          0.7652528264776836,
          0.7659504071940959,
          0.7650662214434493,
          0.7643154175616149,
          0.7600901511640054,
          0.76492654473468,
          0.7640764608057001,
          0.7593899314620405,
          0.7654970376653982,
          0.7657334804088851,
          0.7653433887880855,
          0.7501473665391255,
          0.7587610312779386,
          0.7645705052334612,
          0.7628530014964179,
          0.7651919138017292,
          0.7660232477071203,
          0.7542489888000095,
          0.735154224317513,
          0.7619366878587664,
          0.7622494612434277,
          0.7607018560468616,
          0.7614923584265897,
          0.756920832051506,
          0.7575388983602213,
          0.7600924317262444,
          0.759497585146613,
          0.7520084581750105,
          0.7649552063713413,
          0.7633412935011731,
          0.7510720117755256,
          0.7610950448468965,
          0.7600179586055686,
          0.7648757366512337,
          0.7545543759312677,
          0.7604054920330984
         ],
         "yaxis": "y"
        },
        {
         "customdata": [
          [
           3.2,
           0.1,
           6,
           80,
           3.2,
           0.1
          ]
         ],
         "hovertemplate": "Value=Best<br>experiment_number=%{x}<br>ROC_AUC_mean_fold_test_score=%{y}<br>gamma=%{customdata[0]}<br>learning_rate=%{customdata[1]}<br>max_depth=%{customdata[2]}<br>n_estimators=%{customdata[3]}<br>reg_alpha=%{customdata[4]}<br>reg_lambda=%{customdata[5]}<extra></extra>",
         "legendgroup": "Best",
         "marker": {
          "color": "#EF553B",
          "size": 10,
          "symbol": "circle"
         },
         "mode": "markers",
         "name": "Best",
         "orientation": "v",
         "showlegend": true,
         "type": "scatter",
         "x": [
          25
         ],
         "xaxis": "x",
         "y": [
          0.7663186212452932
         ],
         "yaxis": "y"
        }
       ],
       "layout": {
        "legend": {
         "title": {
          "text": "Value"
         },
         "tracegroupgap": 0
        },
        "template": {
         "data": {
          "bar": [
           {
            "error_x": {
             "color": "#2a3f5f"
            },
            "error_y": {
             "color": "#2a3f5f"
            },
            "marker": {
             "line": {
              "color": "#E5ECF6",
              "width": 0.5
             },
             "pattern": {
              "fillmode": "overlay",
              "size": 10,
              "solidity": 0.2
             }
            },
            "type": "bar"
           }
          ],
          "barpolar": [
           {
            "marker": {
             "line": {
              "color": "#E5ECF6",
              "width": 0.5
             },
             "pattern": {
              "fillmode": "overlay",
              "size": 10,
              "solidity": 0.2
             }
            },
            "type": "barpolar"
           }
          ],
          "carpet": [
           {
            "aaxis": {
             "endlinecolor": "#2a3f5f",
             "gridcolor": "white",
             "linecolor": "white",
             "minorgridcolor": "white",
             "startlinecolor": "#2a3f5f"
            },
            "baxis": {
             "endlinecolor": "#2a3f5f",
             "gridcolor": "white",
             "linecolor": "white",
             "minorgridcolor": "white",
             "startlinecolor": "#2a3f5f"
            },
            "type": "carpet"
           }
          ],
          "choropleth": [
           {
            "colorbar": {
             "outlinewidth": 0,
             "ticks": ""
            },
            "type": "choropleth"
           }
          ],
          "contour": [
           {
            "colorbar": {
             "outlinewidth": 0,
             "ticks": ""
            },
            "colorscale": [
             [
              0,
              "#0d0887"
             ],
             [
              0.1111111111111111,
              "#46039f"
             ],
             [
              0.2222222222222222,
              "#7201a8"
             ],
             [
              0.3333333333333333,
              "#9c179e"
             ],
             [
              0.4444444444444444,
              "#bd3786"
             ],
             [
              0.5555555555555556,
              "#d8576b"
             ],
             [
              0.6666666666666666,
              "#ed7953"
             ],
             [
              0.7777777777777778,
              "#fb9f3a"
             ],
             [
              0.8888888888888888,
              "#fdca26"
             ],
             [
              1,
              "#f0f921"
             ]
            ],
            "type": "contour"
           }
          ],
          "contourcarpet": [
           {
            "colorbar": {
             "outlinewidth": 0,
             "ticks": ""
            },
            "type": "contourcarpet"
           }
          ],
          "heatmap": [
           {
            "colorbar": {
             "outlinewidth": 0,
             "ticks": ""
            },
            "colorscale": [
             [
              0,
              "#0d0887"
             ],
             [
              0.1111111111111111,
              "#46039f"
             ],
             [
              0.2222222222222222,
              "#7201a8"
             ],
             [
              0.3333333333333333,
              "#9c179e"
             ],
             [
              0.4444444444444444,
              "#bd3786"
             ],
             [
              0.5555555555555556,
              "#d8576b"
             ],
             [
              0.6666666666666666,
              "#ed7953"
             ],
             [
              0.7777777777777778,
              "#fb9f3a"
             ],
             [
              0.8888888888888888,
              "#fdca26"
             ],
             [
              1,
              "#f0f921"
             ]
            ],
            "type": "heatmap"
           }
          ],
          "heatmapgl": [
           {
            "colorbar": {
             "outlinewidth": 0,
             "ticks": ""
            },
            "colorscale": [
             [
              0,
              "#0d0887"
             ],
             [
              0.1111111111111111,
              "#46039f"
             ],
             [
              0.2222222222222222,
              "#7201a8"
             ],
             [
              0.3333333333333333,
              "#9c179e"
             ],
             [
              0.4444444444444444,
              "#bd3786"
             ],
             [
              0.5555555555555556,
              "#d8576b"
             ],
             [
              0.6666666666666666,
              "#ed7953"
             ],
             [
              0.7777777777777778,
              "#fb9f3a"
             ],
             [
              0.8888888888888888,
              "#fdca26"
             ],
             [
              1,
              "#f0f921"
             ]
            ],
            "type": "heatmapgl"
           }
          ],
          "histogram": [
           {
            "marker": {
             "pattern": {
              "fillmode": "overlay",
              "size": 10,
              "solidity": 0.2
             }
            },
            "type": "histogram"
           }
          ],
          "histogram2d": [
           {
            "colorbar": {
             "outlinewidth": 0,
             "ticks": ""
            },
            "colorscale": [
             [
              0,
              "#0d0887"
             ],
             [
              0.1111111111111111,
              "#46039f"
             ],
             [
              0.2222222222222222,
              "#7201a8"
             ],
             [
              0.3333333333333333,
              "#9c179e"
             ],
             [
              0.4444444444444444,
              "#bd3786"
             ],
             [
              0.5555555555555556,
              "#d8576b"
             ],
             [
              0.6666666666666666,
              "#ed7953"
             ],
             [
              0.7777777777777778,
              "#fb9f3a"
             ],
             [
              0.8888888888888888,
              "#fdca26"
             ],
             [
              1,
              "#f0f921"
             ]
            ],
            "type": "histogram2d"
           }
          ],
          "histogram2dcontour": [
           {
            "colorbar": {
             "outlinewidth": 0,
             "ticks": ""
            },
            "colorscale": [
             [
              0,
              "#0d0887"
             ],
             [
              0.1111111111111111,
              "#46039f"
             ],
             [
              0.2222222222222222,
              "#7201a8"
             ],
             [
              0.3333333333333333,
              "#9c179e"
             ],
             [
              0.4444444444444444,
              "#bd3786"
             ],
             [
              0.5555555555555556,
              "#d8576b"
             ],
             [
              0.6666666666666666,
              "#ed7953"
             ],
             [
              0.7777777777777778,
              "#fb9f3a"
             ],
             [
              0.8888888888888888,
              "#fdca26"
             ],
             [
              1,
              "#f0f921"
             ]
            ],
            "type": "histogram2dcontour"
           }
          ],
          "mesh3d": [
           {
            "colorbar": {
             "outlinewidth": 0,
             "ticks": ""
            },
            "type": "mesh3d"
           }
          ],
          "parcoords": [
           {
            "line": {
             "colorbar": {
              "outlinewidth": 0,
              "ticks": ""
             }
            },
            "type": "parcoords"
           }
          ],
          "pie": [
           {
            "automargin": true,
            "type": "pie"
           }
          ],
          "scatter": [
           {
            "marker": {
             "colorbar": {
              "outlinewidth": 0,
              "ticks": ""
             }
            },
            "type": "scatter"
           }
          ],
          "scatter3d": [
           {
            "line": {
             "colorbar": {
              "outlinewidth": 0,
              "ticks": ""
             }
            },
            "marker": {
             "colorbar": {
              "outlinewidth": 0,
              "ticks": ""
             }
            },
            "type": "scatter3d"
           }
          ],
          "scattercarpet": [
           {
            "marker": {
             "colorbar": {
              "outlinewidth": 0,
              "ticks": ""
             }
            },
            "type": "scattercarpet"
           }
          ],
          "scattergeo": [
           {
            "marker": {
             "colorbar": {
              "outlinewidth": 0,
              "ticks": ""
             }
            },
            "type": "scattergeo"
           }
          ],
          "scattergl": [
           {
            "marker": {
             "colorbar": {
              "outlinewidth": 0,
              "ticks": ""
             }
            },
            "type": "scattergl"
           }
          ],
          "scattermapbox": [
           {
            "marker": {
             "colorbar": {
              "outlinewidth": 0,
              "ticks": ""
             }
            },
            "type": "scattermapbox"
           }
          ],
          "scatterpolar": [
           {
            "marker": {
             "colorbar": {
              "outlinewidth": 0,
              "ticks": ""
             }
            },
            "type": "scatterpolar"
           }
          ],
          "scatterpolargl": [
           {
            "marker": {
             "colorbar": {
              "outlinewidth": 0,
              "ticks": ""
             }
            },
            "type": "scatterpolargl"
           }
          ],
          "scatterternary": [
           {
            "marker": {
             "colorbar": {
              "outlinewidth": 0,
              "ticks": ""
             }
            },
            "type": "scatterternary"
           }
          ],
          "surface": [
           {
            "colorbar": {
             "outlinewidth": 0,
             "ticks": ""
            },
            "colorscale": [
             [
              0,
              "#0d0887"
             ],
             [
              0.1111111111111111,
              "#46039f"
             ],
             [
              0.2222222222222222,
              "#7201a8"
             ],
             [
              0.3333333333333333,
              "#9c179e"
             ],
             [
              0.4444444444444444,
              "#bd3786"
             ],
             [
              0.5555555555555556,
              "#d8576b"
             ],
             [
              0.6666666666666666,
              "#ed7953"
             ],
             [
              0.7777777777777778,
              "#fb9f3a"
             ],
             [
              0.8888888888888888,
              "#fdca26"
             ],
             [
              1,
              "#f0f921"
             ]
            ],
            "type": "surface"
           }
          ],
          "table": [
           {
            "cells": {
             "fill": {
              "color": "#EBF0F8"
             },
             "line": {
              "color": "white"
             }
            },
            "header": {
             "fill": {
              "color": "#C8D4E3"
             },
             "line": {
              "color": "white"
             }
            },
            "type": "table"
           }
          ]
         },
         "layout": {
          "annotationdefaults": {
           "arrowcolor": "#2a3f5f",
           "arrowhead": 0,
           "arrowwidth": 1
          },
          "autotypenumbers": "strict",
          "coloraxis": {
           "colorbar": {
            "outlinewidth": 0,
            "ticks": ""
           }
          },
          "colorscale": {
           "diverging": [
            [
             0,
             "#8e0152"
            ],
            [
             0.1,
             "#c51b7d"
            ],
            [
             0.2,
             "#de77ae"
            ],
            [
             0.3,
             "#f1b6da"
            ],
            [
             0.4,
             "#fde0ef"
            ],
            [
             0.5,
             "#f7f7f7"
            ],
            [
             0.6,
             "#e6f5d0"
            ],
            [
             0.7,
             "#b8e186"
            ],
            [
             0.8,
             "#7fbc41"
            ],
            [
             0.9,
             "#4d9221"
            ],
            [
             1,
             "#276419"
            ]
           ],
           "sequential": [
            [
             0,
             "#0d0887"
            ],
            [
             0.1111111111111111,
             "#46039f"
            ],
            [
             0.2222222222222222,
             "#7201a8"
            ],
            [
             0.3333333333333333,
             "#9c179e"
            ],
            [
             0.4444444444444444,
             "#bd3786"
            ],
            [
             0.5555555555555556,
             "#d8576b"
            ],
            [
             0.6666666666666666,
             "#ed7953"
            ],
            [
             0.7777777777777778,
             "#fb9f3a"
            ],
            [
             0.8888888888888888,
             "#fdca26"
            ],
            [
             1,
             "#f0f921"
            ]
           ],
           "sequentialminus": [
            [
             0,
             "#0d0887"
            ],
            [
             0.1111111111111111,
             "#46039f"
            ],
            [
             0.2222222222222222,
             "#7201a8"
            ],
            [
             0.3333333333333333,
             "#9c179e"
            ],
            [
             0.4444444444444444,
             "#bd3786"
            ],
            [
             0.5555555555555556,
             "#d8576b"
            ],
            [
             0.6666666666666666,
             "#ed7953"
            ],
            [
             0.7777777777777778,
             "#fb9f3a"
            ],
            [
             0.8888888888888888,
             "#fdca26"
            ],
            [
             1,
             "#f0f921"
            ]
           ]
          },
          "colorway": [
           "#636efa",
           "#EF553B",
           "#00cc96",
           "#ab63fa",
           "#FFA15A",
           "#19d3f3",
           "#FF6692",
           "#B6E880",
           "#FF97FF",
           "#FECB52"
          ],
          "font": {
           "color": "#2a3f5f"
          },
          "geo": {
           "bgcolor": "white",
           "lakecolor": "white",
           "landcolor": "#E5ECF6",
           "showlakes": true,
           "showland": true,
           "subunitcolor": "white"
          },
          "hoverlabel": {
           "align": "left"
          },
          "hovermode": "closest",
          "mapbox": {
           "style": "light"
          },
          "paper_bgcolor": "white",
          "plot_bgcolor": "#E5ECF6",
          "polar": {
           "angularaxis": {
            "gridcolor": "white",
            "linecolor": "white",
            "ticks": ""
           },
           "bgcolor": "#E5ECF6",
           "radialaxis": {
            "gridcolor": "white",
            "linecolor": "white",
            "ticks": ""
           }
          },
          "scene": {
           "xaxis": {
            "backgroundcolor": "#E5ECF6",
            "gridcolor": "white",
            "gridwidth": 2,
            "linecolor": "white",
            "showbackground": true,
            "ticks": "",
            "zerolinecolor": "white"
           },
           "yaxis": {
            "backgroundcolor": "#E5ECF6",
            "gridcolor": "white",
            "gridwidth": 2,
            "linecolor": "white",
            "showbackground": true,
            "ticks": "",
            "zerolinecolor": "white"
           },
           "zaxis": {
            "backgroundcolor": "#E5ECF6",
            "gridcolor": "white",
            "gridwidth": 2,
            "linecolor": "white",
            "showbackground": true,
            "ticks": "",
            "zerolinecolor": "white"
           }
          },
          "shapedefaults": {
           "line": {
            "color": "#2a3f5f"
           }
          },
          "ternary": {
           "aaxis": {
            "gridcolor": "white",
            "linecolor": "white",
            "ticks": ""
           },
           "baxis": {
            "gridcolor": "white",
            "linecolor": "white",
            "ticks": ""
           },
           "bgcolor": "#E5ECF6",
           "caxis": {
            "gridcolor": "white",
            "linecolor": "white",
            "ticks": ""
           }
          },
          "title": {
           "x": 0.05
          },
          "xaxis": {
           "automargin": true,
           "gridcolor": "white",
           "linecolor": "white",
           "ticks": "",
           "title": {
            "standoff": 15
           },
           "zerolinecolor": "white",
           "zerolinewidth": 2
          },
          "yaxis": {
           "automargin": true,
           "gridcolor": "white",
           "linecolor": "white",
           "ticks": "",
           "title": {
            "standoff": 15
           },
           "zerolinecolor": "white",
           "zerolinewidth": 2
          }
         }
        },
        "title": {
         "text": "Scatter BayesCV Experiments Scores"
        },
        "xaxis": {
         "anchor": "y",
         "domain": [
          0,
          1
         ],
         "title": {
          "text": "experiment_number"
         }
        },
        "yaxis": {
         "anchor": "x",
         "domain": [
          0,
          1
         ],
         "title": {
          "text": "ROC_AUC_mean_fold_test_score"
         }
        }
       }
      }
     },
     "metadata": {},
     "output_type": "display_data"
    }
   ],
   "source": [
    "import plotly.express as px\n",
    "\n",
    "fig = px.scatter(df_plotly, y=\"ROC_AUC_mean_fold_test_score\",color=\"Value\", x=\"experiment_number\",hover_data=ploty_hover,title=\"Scatter BayesCV Experiments Scores\")\n",
    "# px.scatter()\n",
    "fig.update_traces(marker_size=10)\n",
    "fig.show()\n",
    "fig.write_html(f\"../ift6758/models/{experiment}-yearvalidation.html\",include_plotlyjs = 'cdn',include_mathjax ='cdn',)\n"
   ]
  },
  {
   "cell_type": "code",
   "execution_count": null,
   "metadata": {},
   "outputs": [],
   "source": [
    "\n",
    "\n"
   ]
  },
  {
   "cell_type": "markdown",
   "metadata": {},
   "source": [
    "## Doing Kfold CrossValidation"
   ]
  },
  {
   "cell_type": "code",
   "execution_count": 40,
   "metadata": {},
   "outputs": [
    {
     "data": {
      "text/html": [
       "<div>\n",
       "<style scoped>\n",
       "    .dataframe tbody tr th:only-of-type {\n",
       "        vertical-align: middle;\n",
       "    }\n",
       "\n",
       "    .dataframe tbody tr th {\n",
       "        vertical-align: top;\n",
       "    }\n",
       "\n",
       "    .dataframe thead th {\n",
       "        text-align: right;\n",
       "    }\n",
       "</style>\n",
       "<table border=\"1\" class=\"dataframe\">\n",
       "  <thead>\n",
       "    <tr style=\"text-align: right;\">\n",
       "      <th></th>\n",
       "      <th>gameSeconds</th>\n",
       "      <th>totalGameSeconds</th>\n",
       "      <th>timeFromLastEvent</th>\n",
       "      <th>gamePeriod</th>\n",
       "      <th>shotType</th>\n",
       "      <th>shotAngle</th>\n",
       "      <th>isHome</th>\n",
       "      <th>coordinatesX</th>\n",
       "      <th>coordinatesY</th>\n",
       "      <th>shotDistance</th>\n",
       "      <th>lastEventType</th>\n",
       "      <th>lastEventCoordinatesX</th>\n",
       "      <th>lastEventCoordinatesY</th>\n",
       "      <th>distanceFromLastEvent</th>\n",
       "      <th>rebound</th>\n",
       "      <th>speed</th>\n",
       "      <th>changeInShotAngle</th>\n",
       "      <th>emptyNet</th>\n",
       "      <th>Year</th>\n",
       "      <th>isGoal</th>\n",
       "    </tr>\n",
       "  </thead>\n",
       "  <tbody>\n",
       "    <tr>\n",
       "      <th>0</th>\n",
       "      <td>51.0</td>\n",
       "      <td>51.0</td>\n",
       "      <td>11.0</td>\n",
       "      <td>1</td>\n",
       "      <td>Wrist Shot</td>\n",
       "      <td>10.007980</td>\n",
       "      <td>True</td>\n",
       "      <td>-55.0</td>\n",
       "      <td>6.0</td>\n",
       "      <td>34.525353</td>\n",
       "      <td>Hit</td>\n",
       "      <td>94.0</td>\n",
       "      <td>-34.0</td>\n",
       "      <td>154.275727</td>\n",
       "      <td>False</td>\n",
       "      <td>14.025066</td>\n",
       "      <td>NaN</td>\n",
       "      <td>0</td>\n",
       "      <td>2015</td>\n",
       "      <td>0</td>\n",
       "    </tr>\n",
       "    <tr>\n",
       "      <th>1</th>\n",
       "      <td>65.0</td>\n",
       "      <td>65.0</td>\n",
       "      <td>7.0</td>\n",
       "      <td>1</td>\n",
       "      <td>Snap Shot</td>\n",
       "      <td>0.000000</td>\n",
       "      <td>True</td>\n",
       "      <td>-79.0</td>\n",
       "      <td>0.0</td>\n",
       "      <td>10.000000</td>\n",
       "      <td>Giveaway</td>\n",
       "      <td>-37.0</td>\n",
       "      <td>-28.0</td>\n",
       "      <td>50.477718</td>\n",
       "      <td>False</td>\n",
       "      <td>7.211103</td>\n",
       "      <td>NaN</td>\n",
       "      <td>0</td>\n",
       "      <td>2015</td>\n",
       "      <td>0</td>\n",
       "    </tr>\n",
       "    <tr>\n",
       "      <th>2</th>\n",
       "      <td>66.0</td>\n",
       "      <td>66.0</td>\n",
       "      <td>1.0</td>\n",
       "      <td>1</td>\n",
       "      <td>Snap Shot</td>\n",
       "      <td>-4.085617</td>\n",
       "      <td>True</td>\n",
       "      <td>-75.0</td>\n",
       "      <td>-1.0</td>\n",
       "      <td>14.035669</td>\n",
       "      <td>Shot</td>\n",
       "      <td>-79.0</td>\n",
       "      <td>0.0</td>\n",
       "      <td>4.123106</td>\n",
       "      <td>True</td>\n",
       "      <td>4.123106</td>\n",
       "      <td>4.085617</td>\n",
       "      <td>0</td>\n",
       "      <td>2015</td>\n",
       "      <td>0</td>\n",
       "    </tr>\n",
       "    <tr>\n",
       "      <th>3</th>\n",
       "      <td>113.0</td>\n",
       "      <td>113.0</td>\n",
       "      <td>18.0</td>\n",
       "      <td>1</td>\n",
       "      <td>Wrist Shot</td>\n",
       "      <td>-46.636577</td>\n",
       "      <td>True</td>\n",
       "      <td>-55.0</td>\n",
       "      <td>-36.0</td>\n",
       "      <td>49.517674</td>\n",
       "      <td>Hit</td>\n",
       "      <td>-91.0</td>\n",
       "      <td>35.0</td>\n",
       "      <td>79.605276</td>\n",
       "      <td>False</td>\n",
       "      <td>4.422515</td>\n",
       "      <td>NaN</td>\n",
       "      <td>0</td>\n",
       "      <td>2015</td>\n",
       "      <td>0</td>\n",
       "    </tr>\n",
       "    <tr>\n",
       "      <th>4</th>\n",
       "      <td>157.0</td>\n",
       "      <td>157.0</td>\n",
       "      <td>5.0</td>\n",
       "      <td>1</td>\n",
       "      <td>Tip-In</td>\n",
       "      <td>-2.045408</td>\n",
       "      <td>True</td>\n",
       "      <td>-61.0</td>\n",
       "      <td>-1.0</td>\n",
       "      <td>28.017851</td>\n",
       "      <td>Faceoff</td>\n",
       "      <td>-69.0</td>\n",
       "      <td>-22.0</td>\n",
       "      <td>22.472205</td>\n",
       "      <td>False</td>\n",
       "      <td>4.494441</td>\n",
       "      <td>NaN</td>\n",
       "      <td>0</td>\n",
       "      <td>2015</td>\n",
       "      <td>0</td>\n",
       "    </tr>\n",
       "    <tr>\n",
       "      <th>...</th>\n",
       "      <td>...</td>\n",
       "      <td>...</td>\n",
       "      <td>...</td>\n",
       "      <td>...</td>\n",
       "      <td>...</td>\n",
       "      <td>...</td>\n",
       "      <td>...</td>\n",
       "      <td>...</td>\n",
       "      <td>...</td>\n",
       "      <td>...</td>\n",
       "      <td>...</td>\n",
       "      <td>...</td>\n",
       "      <td>...</td>\n",
       "      <td>...</td>\n",
       "      <td>...</td>\n",
       "      <td>...</td>\n",
       "      <td>...</td>\n",
       "      <td>...</td>\n",
       "      <td>...</td>\n",
       "      <td>...</td>\n",
       "    </tr>\n",
       "    <tr>\n",
       "      <th>311101</th>\n",
       "      <td>937.0</td>\n",
       "      <td>3337.0</td>\n",
       "      <td>33.0</td>\n",
       "      <td>3</td>\n",
       "      <td>Slap Shot</td>\n",
       "      <td>40.815084</td>\n",
       "      <td>True</td>\n",
       "      <td>67.0</td>\n",
       "      <td>-19.0</td>\n",
       "      <td>29.068884</td>\n",
       "      <td>Giveaway</td>\n",
       "      <td>29.0</td>\n",
       "      <td>35.0</td>\n",
       "      <td>66.030296</td>\n",
       "      <td>False</td>\n",
       "      <td>2.000918</td>\n",
       "      <td>NaN</td>\n",
       "      <td>0</td>\n",
       "      <td>2018</td>\n",
       "      <td>0</td>\n",
       "    </tr>\n",
       "    <tr>\n",
       "      <th>311102</th>\n",
       "      <td>993.0</td>\n",
       "      <td>3393.0</td>\n",
       "      <td>29.0</td>\n",
       "      <td>3</td>\n",
       "      <td>Wrist Shot</td>\n",
       "      <td>5.194429</td>\n",
       "      <td>False</td>\n",
       "      <td>-78.0</td>\n",
       "      <td>1.0</td>\n",
       "      <td>11.045361</td>\n",
       "      <td>Faceoff</td>\n",
       "      <td>-69.0</td>\n",
       "      <td>-22.0</td>\n",
       "      <td>24.698178</td>\n",
       "      <td>False</td>\n",
       "      <td>0.851661</td>\n",
       "      <td>NaN</td>\n",
       "      <td>0</td>\n",
       "      <td>2018</td>\n",
       "      <td>0</td>\n",
       "    </tr>\n",
       "    <tr>\n",
       "      <th>311103</th>\n",
       "      <td>1119.0</td>\n",
       "      <td>3519.0</td>\n",
       "      <td>19.0</td>\n",
       "      <td>3</td>\n",
       "      <td>Wrist Shot</td>\n",
       "      <td>55.007980</td>\n",
       "      <td>False</td>\n",
       "      <td>-82.0</td>\n",
       "      <td>10.0</td>\n",
       "      <td>12.206556</td>\n",
       "      <td>Missed Shot</td>\n",
       "      <td>-71.0</td>\n",
       "      <td>4.0</td>\n",
       "      <td>12.529964</td>\n",
       "      <td>False</td>\n",
       "      <td>0.659472</td>\n",
       "      <td>NaN</td>\n",
       "      <td>0</td>\n",
       "      <td>2018</td>\n",
       "      <td>0</td>\n",
       "    </tr>\n",
       "    <tr>\n",
       "      <th>311104</th>\n",
       "      <td>1120.0</td>\n",
       "      <td>3520.0</td>\n",
       "      <td>1.0</td>\n",
       "      <td>3</td>\n",
       "      <td>Wrist Shot</td>\n",
       "      <td>7.125016</td>\n",
       "      <td>False</td>\n",
       "      <td>-81.0</td>\n",
       "      <td>1.0</td>\n",
       "      <td>8.062258</td>\n",
       "      <td>Shot</td>\n",
       "      <td>-82.0</td>\n",
       "      <td>10.0</td>\n",
       "      <td>9.055385</td>\n",
       "      <td>True</td>\n",
       "      <td>9.055385</td>\n",
       "      <td>47.882963</td>\n",
       "      <td>0</td>\n",
       "      <td>2018</td>\n",
       "      <td>0</td>\n",
       "    </tr>\n",
       "    <tr>\n",
       "      <th>311105</th>\n",
       "      <td>1155.0</td>\n",
       "      <td>3555.0</td>\n",
       "      <td>3.0</td>\n",
       "      <td>3</td>\n",
       "      <td>Wrist Shot</td>\n",
       "      <td>-14.931417</td>\n",
       "      <td>True</td>\n",
       "      <td>74.0</td>\n",
       "      <td>4.0</td>\n",
       "      <td>15.524175</td>\n",
       "      <td>Takeaway</td>\n",
       "      <td>-65.0</td>\n",
       "      <td>-34.0</td>\n",
       "      <td>144.100659</td>\n",
       "      <td>False</td>\n",
       "      <td>48.033553</td>\n",
       "      <td>NaN</td>\n",
       "      <td>1</td>\n",
       "      <td>2018</td>\n",
       "      <td>1</td>\n",
       "    </tr>\n",
       "  </tbody>\n",
       "</table>\n",
       "<p>311106 rows × 20 columns</p>\n",
       "</div>"
      ],
      "text/plain": [
       "        gameSeconds  totalGameSeconds  timeFromLastEvent gamePeriod  \\\n",
       "0              51.0              51.0               11.0          1   \n",
       "1              65.0              65.0                7.0          1   \n",
       "2              66.0              66.0                1.0          1   \n",
       "3             113.0             113.0               18.0          1   \n",
       "4             157.0             157.0                5.0          1   \n",
       "...             ...               ...                ...        ...   \n",
       "311101        937.0            3337.0               33.0          3   \n",
       "311102        993.0            3393.0               29.0          3   \n",
       "311103       1119.0            3519.0               19.0          3   \n",
       "311104       1120.0            3520.0                1.0          3   \n",
       "311105       1155.0            3555.0                3.0          3   \n",
       "\n",
       "          shotType  shotAngle isHome  coordinatesX  coordinatesY  \\\n",
       "0       Wrist Shot  10.007980   True         -55.0           6.0   \n",
       "1        Snap Shot   0.000000   True         -79.0           0.0   \n",
       "2        Snap Shot  -4.085617   True         -75.0          -1.0   \n",
       "3       Wrist Shot -46.636577   True         -55.0         -36.0   \n",
       "4           Tip-In  -2.045408   True         -61.0          -1.0   \n",
       "...            ...        ...    ...           ...           ...   \n",
       "311101   Slap Shot  40.815084   True          67.0         -19.0   \n",
       "311102  Wrist Shot   5.194429  False         -78.0           1.0   \n",
       "311103  Wrist Shot  55.007980  False         -82.0          10.0   \n",
       "311104  Wrist Shot   7.125016  False         -81.0           1.0   \n",
       "311105  Wrist Shot -14.931417   True          74.0           4.0   \n",
       "\n",
       "        shotDistance lastEventType  lastEventCoordinatesX  \\\n",
       "0          34.525353           Hit                   94.0   \n",
       "1          10.000000      Giveaway                  -37.0   \n",
       "2          14.035669          Shot                  -79.0   \n",
       "3          49.517674           Hit                  -91.0   \n",
       "4          28.017851       Faceoff                  -69.0   \n",
       "...              ...           ...                    ...   \n",
       "311101     29.068884      Giveaway                   29.0   \n",
       "311102     11.045361       Faceoff                  -69.0   \n",
       "311103     12.206556   Missed Shot                  -71.0   \n",
       "311104      8.062258          Shot                  -82.0   \n",
       "311105     15.524175      Takeaway                  -65.0   \n",
       "\n",
       "        lastEventCoordinatesY  distanceFromLastEvent rebound      speed  \\\n",
       "0                       -34.0             154.275727   False  14.025066   \n",
       "1                       -28.0              50.477718   False   7.211103   \n",
       "2                         0.0               4.123106    True   4.123106   \n",
       "3                        35.0              79.605276   False   4.422515   \n",
       "4                       -22.0              22.472205   False   4.494441   \n",
       "...                       ...                    ...     ...        ...   \n",
       "311101                   35.0              66.030296   False   2.000918   \n",
       "311102                  -22.0              24.698178   False   0.851661   \n",
       "311103                    4.0              12.529964   False   0.659472   \n",
       "311104                   10.0               9.055385    True   9.055385   \n",
       "311105                  -34.0             144.100659   False  48.033553   \n",
       "\n",
       "        changeInShotAngle  emptyNet  Year  isGoal  \n",
       "0                     NaN         0  2015       0  \n",
       "1                     NaN         0  2015       0  \n",
       "2                4.085617         0  2015       0  \n",
       "3                     NaN         0  2015       0  \n",
       "4                     NaN         0  2015       0  \n",
       "...                   ...       ...   ...     ...  \n",
       "311101                NaN         0  2018       0  \n",
       "311102                NaN         0  2018       0  \n",
       "311103                NaN         0  2018       0  \n",
       "311104          47.882963         0  2018       0  \n",
       "311105                NaN         1  2018       1  \n",
       "\n",
       "[311106 rows x 20 columns]"
      ]
     },
     "execution_count": 40,
     "metadata": {},
     "output_type": "execute_result"
    }
   ],
   "source": [
    "df_exp"
   ]
  },
  {
   "cell_type": "code",
   "execution_count": 41,
   "metadata": {},
   "outputs": [
    {
     "name": "stdout",
     "output_type": "stream",
     "text": [
      "Fold 0\n",
      "Train Years [2016, 2017, 2018] Data Points 237314\n",
      "Val Years [2015]  Data Points 73792           Val ratio 0.23719246816197695\n"
     ]
    },
    {
     "name": "stderr",
     "output_type": "stream",
     "text": [
      "C:\\Users\\saiak\\.conda\\envs\\ift6758-conda-env\\lib\\site-packages\\xgboost\\training.py:17: UserWarning:\n",
      "\n",
      "Old style callback is deprecated.  See: https://xgboost.readthedocs.io/en/latest/python/callbacks.html\n",
      "\n"
     ]
    },
    {
     "name": "stdout",
     "output_type": "stream",
     "text": [
      "(73792, 1) (73792,)\n",
      "              precision    recall  f1-score   support\n",
      "\n",
      "           0       0.92      0.96      0.94     66989\n",
      "           1       0.35      0.22      0.27      6803\n",
      "\n",
      "    accuracy                           0.89     73792\n",
      "   macro avg       0.64      0.59      0.60     73792\n",
      "weighted avg       0.87      0.89      0.88     73792\n",
      "\n",
      "Fold 1\n",
      "Train Years [2017, 2018, 2015] Data Points 236143\n",
      "Val Years [2016]  Data Points 74963           Val ratio 0.2409564585703908\n"
     ]
    },
    {
     "name": "stderr",
     "output_type": "stream",
     "text": [
      "C:\\Users\\saiak\\.conda\\envs\\ift6758-conda-env\\lib\\site-packages\\xgboost\\training.py:17: UserWarning:\n",
      "\n",
      "Old style callback is deprecated.  See: https://xgboost.readthedocs.io/en/latest/python/callbacks.html\n",
      "\n"
     ]
    },
    {
     "name": "stdout",
     "output_type": "stream",
     "text": [
      "(74963, 1) (74963,)\n",
      "              precision    recall  f1-score   support\n",
      "\n",
      "           0       0.93      0.96      0.94     68035\n",
      "           1       0.36      0.24      0.29      6928\n",
      "\n",
      "    accuracy                           0.89     74963\n",
      "   macro avg       0.64      0.60      0.61     74963\n",
      "weighted avg       0.87      0.89      0.88     74963\n",
      "\n",
      "Fold 2\n",
      "Train Years [2016, 2018, 2015] Data Points 229233\n",
      "Val Years [2017]  Data Points 81873           Val ratio 0.2631675377524059\n"
     ]
    },
    {
     "name": "stderr",
     "output_type": "stream",
     "text": [
      "C:\\Users\\saiak\\.conda\\envs\\ift6758-conda-env\\lib\\site-packages\\xgboost\\training.py:17: UserWarning:\n",
      "\n",
      "Old style callback is deprecated.  See: https://xgboost.readthedocs.io/en/latest/python/callbacks.html\n",
      "\n"
     ]
    },
    {
     "name": "stdout",
     "output_type": "stream",
     "text": [
      "(81873, 1) (81873,)\n",
      "              precision    recall  f1-score   support\n",
      "\n",
      "           0       0.92      0.96      0.94     74182\n",
      "           1       0.36      0.23      0.28      7691\n",
      "\n",
      "    accuracy                           0.89     81873\n",
      "   macro avg       0.64      0.59      0.61     81873\n",
      "weighted avg       0.87      0.89      0.88     81873\n",
      "\n",
      "Fold 3\n",
      "Train Years [2016, 2017, 2015] Data Points 230628\n",
      "Val Years [2018]  Data Points 80478           Val ratio 0.2586835355152263\n"
     ]
    },
    {
     "name": "stderr",
     "output_type": "stream",
     "text": [
      "C:\\Users\\saiak\\.conda\\envs\\ift6758-conda-env\\lib\\site-packages\\xgboost\\training.py:17: UserWarning:\n",
      "\n",
      "Old style callback is deprecated.  See: https://xgboost.readthedocs.io/en/latest/python/callbacks.html\n",
      "\n"
     ]
    },
    {
     "name": "stdout",
     "output_type": "stream",
     "text": [
      "(80478, 1) (80478,)\n",
      "              precision    recall  f1-score   support\n",
      "\n",
      "           0       0.92      0.95      0.94     72713\n",
      "           1       0.33      0.22      0.27      7765\n",
      "\n",
      "    accuracy                           0.88     80478\n",
      "   macro avg       0.62      0.59      0.60     80478\n",
      "weighted avg       0.86      0.88      0.87     80478\n",
      "\n"
     ]
    },
    {
     "data": {
      "image/png": "[encoded data removed]",
      "text/plain": [
       "<Figure size 720x360 with 2 Axes>"
      ]
     },
     "metadata": {
      "needs_background": "light"
     },
     "output_type": "display_data"
    },
    {
     "data": {
      "image/png": "[encoded data removed]",
      "text/plain": [
       "<Figure size 720x360 with 2 Axes>"
      ]
     },
     "metadata": {
      "needs_background": "light"
     },
     "output_type": "display_data"
    },
    {
     "data": {
      "image/png": "[encoded data removed]",
      "text/plain": [
       "<Figure size 720x360 with 2 Axes>"
      ]
     },
     "metadata": {
      "needs_background": "light"
     },
     "output_type": "display_data"
    },
    {
     "data": {
      "image/png": "[encoded data removed]",
      "text/plain": [
       "<Figure size 720x360 with 2 Axes>"
      ]
     },
     "metadata": {
      "needs_background": "light"
     },
     "output_type": "display_data"
    }
   ],
   "source": [
    "year_list = [2015,2016,2017,2018]\n",
    "year_partitions= [[2015],[2016],[2017],[2018]]\n",
    "oof = np.zeros((len(df_exp),2))\n",
    "\n",
    "for fold_, (val_yrs) in enumerate(year_partitions):\n",
    "    # if fold_!=2:\n",
    "    #     continue\n",
    "    trn_yrs = list(set(year_list)-set(val_yrs))\n",
    "    print(\"Fold {}\".format(fold_))\n",
    "\n",
    "    \n",
    "    trn_ids= df_exp.loc[df_exp[\"Year\"].isin(trn_yrs)].index\n",
    "    trn_idx = trn_ids.to_numpy()\n",
    "    val_idx = df_exp.loc[df_exp[\"Year\"].isin(val_yrs)].index\n",
    "    np.random.shuffle(trn_idx) ##Shuffling\n",
    "    print(f\"Train Years {trn_yrs} Data Points {trn_idx.shape[0]}\")\n",
    "    print(f\"Val Years {val_yrs}  Data Points {val_idx.shape[0]} \\\n",
    "          Val ratio {val_idx.shape[0]/(val_idx.shape[0]+trn_idx.shape[0])}\")\n",
    "\n",
    "    Xtrain, Xval = df_exp.iloc[trn_idx][features], df_exp.iloc[val_idx][features]\n",
    "    ytrain, yval = df_exp.iloc[trn_idx][label], df_exp.iloc[val_idx][label],\n",
    "    best_xgb_params=clf.best_estimator_.get_params()\n",
    "    xgbcv = xgb.XGBClassifier(**best_xgb_params)\n",
    "    xgbcv.fit(Xtrain,ytrain)\n",
    "    y_pred_probs = xgbcv.predict_proba(Xval)\n",
    "    y_pred_val = y_pred_probs.argmax(axis=1)\n",
    "    oof[val_idx] = y_pred_probs\n",
    "    print(yval.shape,y_pred_val.shape)\n",
    "    experiment = f\"xgbcv-fold-{fold_}\"\n",
    "    filename=f\"{weights_dir}/{experiment}-yearvalidation.pkl\"\n",
    "    joblib.dump(xgbcv,filename)\n",
    "    if COMET:\n",
    "      comet_exp.log_model(experiment, f\"{weights_dir}/{experiment}-yearvalidation.pkl\")\n",
    "    plot_metrics.plotConfusion(yval,y_pred_val,title=experiment)\n",
    "\n"
   ]
  },
  {
   "cell_type": "code",
   "execution_count": 146,
   "metadata": {},
   "outputs": [],
   "source": [
    "a=[1,2,3]\n",
    "np.random.shuffle(a)"
   ]
  },
  {
   "cell_type": "code",
   "execution_count": 147,
   "metadata": {},
   "outputs": [
    {
     "data": {
      "text/plain": [
       "[2, 1, 3]"
      ]
     },
     "execution_count": 147,
     "metadata": {},
     "output_type": "execute_result"
    }
   ],
   "source": [
    "a"
   ]
  },
  {
   "cell_type": "code",
   "execution_count": 138,
   "metadata": {},
   "outputs": [
    {
     "data": {
      "text/plain": [
       "array([    0,     1,     2, ..., 73789, 73790, 73791], dtype=int64)"
      ]
     },
     "execution_count": 138,
     "metadata": {},
     "output_type": "execute_result"
    }
   ],
   "source": [
    "val_idx.to_numpy()"
   ]
  },
  {
   "cell_type": "code",
   "execution_count": 113,
   "metadata": {},
   "outputs": [
    {
     "data": {
      "text/plain": [
       "OrderedDict([('gamma', 0.2),\n",
       "             ('learning_rate', 0.15),\n",
       "             ('max_depth', 6),\n",
       "             ('n_estimators', 65),\n",
       "             ('reg_alpha', 0.1),\n",
       "             ('reg_lambda', 51.2)])"
      ]
     },
     "execution_count": 113,
     "metadata": {},
     "output_type": "execute_result"
    }
   ],
   "source": [
    "bp"
   ]
  },
  {
   "cell_type": "code",
   "execution_count": 42,
   "metadata": {},
   "outputs": [
    {
     "name": "stdout",
     "output_type": "stream",
     "text": [
      "              precision    recall  f1-score   support\n",
      "\n",
      "           0       0.92      0.96      0.94    281919\n",
      "           1       0.35      0.23      0.27     29187\n",
      "\n",
      "    accuracy                           0.89    311106\n",
      "   macro avg       0.64      0.59      0.61    311106\n",
      "weighted avg       0.87      0.89      0.88    311106\n",
      "\n"
     ]
    },
    {
     "data": {
      "image/png": "[encoded data removed]",
      "text/plain": [
       "<Figure size 720x360 with 2 Axes>"
      ]
     },
     "metadata": {
      "needs_background": "light"
     },
     "output_type": "display_data"
    },
    {
     "data": {
      "image/png": "[encoded data removed]",
      "text/plain": [
       "<Figure size 432x288 with 1 Axes>"
      ]
     },
     "metadata": {
      "needs_background": "light"
     },
     "output_type": "display_data"
    },
    {
     "data": {
      "image/png": "[encoded data removed]",
      "text/plain": [
       "<Figure size 1080x540 with 2 Axes>"
      ]
     },
     "metadata": {
      "needs_background": "light"
     },
     "output_type": "display_data"
    },
    {
     "data": {
      "image/png": "[encoded data removed]",
      "text/plain": [
       "<Figure size 540x540 with 1 Axes>"
      ]
     },
     "metadata": {
      "needs_background": "light"
     },
     "output_type": "display_data"
    }
   ],
   "source": [
    "experiment = \"KFold performance on Valid\"\n",
    "Yval=df_exp[label]\n",
    "y_pred_val_scores = oof[:,1]\n",
    "y_pred_val = oof.argmax(axis=1)\n",
    "plot_metrics.plotConfusion(Yval,y_pred_val,title=experiment)\n",
    "if COMET:\n",
    "    comet_exp.log_figure(figure=plt)\n",
    "plot_metrics.plot_roc([Yval],[y_pred_val_scores],plot_labels=[experiment])\n",
    "if COMET:\n",
    "    comet_exp.log_figure(figure=plt)\n",
    "plot_metrics.plot_percentile([Yval],[y_pred_val_scores],plot_labels=[experiment],bin_width=5)\n",
    "if COMET:\n",
    "    comet_exp.log_figure(figure=plt)\n",
    "plot_metrics.plot_calibration([Yval],[y_pred_val_scores],plot_labels=[experiment],n_bins=50)\n",
    "if COMET:\n",
    "    comet_exp.log_figure(figure=plt)\n",
    "\n",
    "\n"
   ]
  },
  {
   "cell_type": "code",
   "execution_count": 43,
   "metadata": {},
   "outputs": [
    {
     "name": "stderr",
     "output_type": "stream",
     "text": [
      "COMET INFO: ---------------------------\n",
      "COMET INFO: Comet.ml Experiment Summary\n",
      "COMET INFO: ---------------------------\n",
      "COMET INFO:   Data:\n",
      "COMET INFO:     display_summary_level : 1\n",
      "COMET INFO:     url                   : https://www.comet.ml/morph-e/milestone-2/c8ebe3904da1468ea9e239c6b86569c8\n",
      "COMET INFO:   Parameters:\n",
      "COMET INFO:     alpha                                 : 1e-10\n",
      "COMET INFO:     begin_iteration                       : 0\n",
      "COMET INFO:     booster                               : gbtree\n",
      "COMET INFO:     copy_X_train                          : True\n",
      "COMET INFO:     cv                                    : 3\n",
      "COMET INFO:     end_iteration                         : 100\n",
      "COMET INFO:     error_score                           : nan\n",
      "COMET INFO:     estimator                             : XGBClassifier(base_score=0.5, booster='gbtree', colsample_bylevel=1,\n",
      "              colsample_bynode=1, colsample_bytree=1, enable_categorical=1,\n",
      "              eval_metric='auc', gamma=0, gpu_id=0, grow_policy='lossguide',\n",
      "              importance_type=None, interaction_constraints='',\n",
      "              learning_rate=0.300000012, max_delta_step=0, max_depth=6,\n",
      "              min_child_weight=1, missing=nan, monotone_constraints='()',\n",
      "              n_estimators=100, n_jobs=12, num_parallel_tree=1,\n",
      "              predictor='auto', random_state=0, reg_alpha=0, reg_lambda=1,\n",
      "              scale_pos_weight=3.1250506484552094, subsample=1,\n",
      "              tree_method='gpu_hist', use_label_encoder=False,\n",
      "              validate_parameters=1, ...)\n",
      "COMET INFO:     estimator__base_score                 : 0.5\n",
      "COMET INFO:     estimator__booster                    : gbtree\n",
      "COMET INFO:     estimator__colsample_bylevel          : 1\n",
      "COMET INFO:     estimator__colsample_bynode           : 1\n",
      "COMET INFO:     estimator__colsample_bytree           : 1\n",
      "COMET INFO:     estimator__enable_categorical         : 1\n",
      "COMET INFO:     estimator__eval_metric                : auc\n",
      "COMET INFO:     estimator__gamma                      : 0\n",
      "COMET INFO:     estimator__gpu_id                     : 0\n",
      "COMET INFO:     estimator__grow_policy                : lossguide\n",
      "COMET INFO:     estimator__importance_type            : 1\n",
      "COMET INFO:     estimator__interaction_constraints    : \n",
      "COMET INFO:     estimator__learning_rate              : 0.300000012\n",
      "COMET INFO:     estimator__max_delta_step             : 0\n",
      "COMET INFO:     estimator__max_depth                  : 6\n",
      "COMET INFO:     estimator__min_child_weight           : 1\n",
      "COMET INFO:     estimator__missing                    : nan\n",
      "COMET INFO:     estimator__monotone_constraints       : ()\n",
      "COMET INFO:     estimator__n_estimators               : 100\n",
      "COMET INFO:     estimator__n_jobs                     : 12\n",
      "COMET INFO:     estimator__num_parallel_tree          : 1\n",
      "COMET INFO:     estimator__objective                  : binary:logistic\n",
      "COMET INFO:     estimator__predictor                  : auto\n",
      "COMET INFO:     estimator__random_state               : 0\n",
      "COMET INFO:     estimator__reg_alpha                  : 0\n",
      "COMET INFO:     estimator__reg_lambda                 : 1\n",
      "COMET INFO:     estimator__scale_pos_weight           : 3.1250506484552094\n",
      "COMET INFO:     estimator__subsample                  : 1\n",
      "COMET INFO:     estimator__tree_method                : gpu_hist\n",
      "COMET INFO:     estimator__use_label_encoder          : False\n",
      "COMET INFO:     estimator__validate_parameters        : 1\n",
      "COMET INFO:     estimator__verbosity                  : 1\n",
      "COMET INFO:     eval_metric                           : auc\n",
      "COMET INFO:     feature_names                         : ['gameSeconds', 'totalGameSeconds', 'timeFromLastEvent', 'gamePeriod', 'shotType', 'shotAngle', 'isHome', 'coordinatesX', 'coordinatesY', 'shotDistance', 'lastEventType', 'lastEventCoordinatesX', 'lastEventCoordinatesY', 'distanceFromLastEvent', 'rebound', 'speed', 'changeInShotAngle']\n",
      "COMET INFO:     feature_types                         : ['float', 'float', 'float', 'c', 'c', 'float', 'c', 'float', 'float', 'float', 'c', 'float', 'float', 'float', 'c', 'float', 'float']\n",
      "COMET INFO:     grow_policy                           : lossguide\n",
      "COMET INFO:     kernel                                : 1**2 * HammingKernel(0, 0, 0, 0, 0, 0) + WhiteKernel(noise_level=1)\n",
      "COMET INFO:     kernel__k1                            : 1**2 * HammingKernel(0, 0, 0, 0, 0, 0)\n",
      "COMET INFO:     kernel__k1__k1                        : 1**2\n",
      "COMET INFO:     kernel__k1__k1__constant_value        : 1.0\n",
      "COMET INFO:     kernel__k1__k1__constant_value_bounds : (0.01, 1000.0)\n",
      "COMET INFO:     kernel__k1__k2                        : HammingKernel(0, 0, 0, 0, 0, 0)\n",
      "COMET INFO:     kernel__k1__k2__length_scale          : [1. 1. 1. 1. 1. 1.]\n",
      "COMET INFO:     kernel__k1__k2__length_scale_bounds   : (1e-05, 100000.0)\n",
      "COMET INFO:     kernel__k2                            : WhiteKernel(noise_level=1)\n",
      "COMET INFO:     kernel__k2__noise_level               : 1.0\n",
      "COMET INFO:     kernel__k2__noise_level_bounds        : (1e-05, 100000.0)\n",
      "COMET INFO:     n_jobs                                : 1\n",
      "COMET INFO:     n_restarts_optimizer                  : 2\n",
      "COMET INFO:     neg_label                             : 0\n",
      "COMET INFO:     noise                                 : gaussian\n",
      "COMET INFO:     normalize_y                           : True\n",
      "COMET INFO:     objective                             : binary:logistic\n",
      "COMET INFO:     optimizer                             : fmin_l_bfgs_b\n",
      "COMET INFO:     param_grid                            : {\"base_score\": [0.5], \"booster\": [\"gbtree\"], \"colsample_bylevel\": [1], \"colsample_bynode\": [1], \"colsample_bytree\": [1], \"enable_categorical\": [1], \"eval_metric\": [\"auc\"], \"gamma\": [0], \"gpu_id\": [0], \"grow_policy\": [\"lossguide\"], \"importance_type\": [null], \"interaction_constraints\": [\"\"], \"learning_rate\": [0.300000012], \"max_delta_step\": [0], \"max_depth\": [6], \"min_child_weight\": [1], \"missing\": [NaN], \"monotone_constraints\": [\"()\"], \"n_estimators\": [100], \"n_jobs\": [12], \"num_parallel_tree\": [1], \"objective\": [\"binary:logistic\"], \"predictor\": [\"auto\"], \"random_state\": [0], \"reg_alpha\": [0], \"reg_lambda\": [1], \"scale_pos_weight\": [3.1250506484552094], \"subsample\": [1], \"tree_method\": [\"gpu_hist\"], \"use_label_encoder\": [false], \"validate_parameters\": [1], \"verbosity\": [null]}\n",
      "COMET INFO:     pos_label                             : 1\n",
      "COMET INFO:     pre_dispatch                          : 2*n_jobs\n",
      "COMET INFO:     random_state                          : 2080081368\n",
      "COMET INFO:     rank                                  : 0\n",
      "COMET INFO:     refit                                 : True\n",
      "COMET INFO:     return_train_score                    : True\n",
      "COMET INFO:     scoring                               : roc_auc\n",
      "COMET INFO:     sparse_output                         : False\n",
      "COMET INFO:     tree_method                           : gpu_hist\n",
      "COMET INFO:     verbose                               : 1\n",
      "COMET INFO:   Uploads:\n",
      "COMET INFO:     environment details      : 1\n",
      "COMET INFO:     figures                  : 8\n",
      "COMET INFO:     filename                 : 1\n",
      "COMET INFO:     git metadata             : 1\n",
      "COMET INFO:     git-patch (uncompressed) : 1 (1.73 MB)\n",
      "COMET INFO:     installed packages       : 1\n",
      "COMET INFO:     model-element            : 4 (2.21 MB)\n",
      "COMET INFO:     notebook                 : 1\n",
      "COMET INFO:     source_code              : 1\n",
      "COMET INFO: ---------------------------\n",
      "COMET ERROR: Error sending a notification, make sure you have opted-in for notifications\n",
      "COMET INFO: Uploading metrics, params, and assets to Comet before program termination (may take several seconds)\n",
      "COMET INFO: The Python SDK has 3600 seconds to finish before aborting...\n",
      "COMET INFO: Waiting for completion of the file uploads (may take several seconds)\n",
      "COMET INFO: The Python SDK has 10800 seconds to finish before aborting...\n",
      "COMET INFO: All files uploaded, waiting for confirmation they have been all received\n"
     ]
    }
   ],
   "source": [
    "comet_exp.end()"
   ]
  },
  {
   "cell_type": "code",
   "execution_count": null,
   "metadata": {},
   "outputs": [],
   "source": []
  }
 ],
 "metadata": {
  "interpreter": {
   "hash": "fe0e4489f2919cda2ef5940e6c22f887a5b71570af9d1a74ba05de65e7f388ec"
  },
  "kernelspec": {
   "display_name": "Python 3.9.7 64-bit ('ift6758-conda-env': conda)",
   "language": "python",
   "name": "python3"
  },
  "language_info": {
   "codemirror_mode": {
    "name": "ipython",
    "version": 3
   },
   "file_extension": ".py",
   "mimetype": "text/x-python",
   "name": "python",
   "nbconvert_exporter": "python",
   "pygments_lexer": "ipython3",
   "version": "3.9.7"
  },
  "orig_nbformat": 4
 },
 "nbformat": 4,
 "nbformat_minor": 2
}
