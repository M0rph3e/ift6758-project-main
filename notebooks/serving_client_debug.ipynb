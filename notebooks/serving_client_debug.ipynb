{
 "cells": [
  {
   "cell_type": "code",
   "execution_count": 1,
   "metadata": {},
   "outputs": [],
   "source": [
    "%load_ext autoreload\n",
    "%autoreload 2"
   ]
  },
  {
   "cell_type": "code",
   "execution_count": 2,
   "metadata": {},
   "outputs": [
    {
     "data": {
      "text/plain": [
       "'1.0.1'"
      ]
     },
     "execution_count": 2,
     "metadata": {},
     "output_type": "execute_result"
    }
   ],
   "source": [
    "import sklearn\n",
    "sklearn.__version__"
   ]
  },
  {
   "cell_type": "code",
   "execution_count": 3,
   "metadata": {},
   "outputs": [],
   "source": [
    "#import comet_ml in the top of your file\n",
    "from comet_ml import Experiment\n",
    "import os\n",
    "import matplotlib.pyplot as plt\n",
    "import joblib\n",
    "from copy import deepcopy\n",
    "import numpy as np\n",
    "from sklearn.feature_selection import RFECV\n",
    "import json\n",
    "from sklearn.model_selection import train_test_split, GridSearchCV\n",
    "from sklearn.preprocessing import StandardScaler\n",
    "from skopt import BayesSearchCV\n",
    "from sklearn import feature_selection\n",
    "from sklearn.metrics import f1_score, precision_score, recall_score, confusion_matrix\n",
    "import xgboost as xgb\n",
    "import pandas as pd\n",
    "from ift6758.features.feature_engineering2 import SeasonDataSetTwo\n",
    "from ift6758.metrics import plot_metrics\n",
    "import random\n",
    "random_state = 42\n",
    "import tempfile\n"
   ]
  },
  {
   "cell_type": "code",
   "execution_count": 4,
   "metadata": {},
   "outputs": [
    {
     "name": "stdout",
     "output_type": "stream",
     "text": [
      "File already Exists, loading from ../ift6758/data/PICKLE//2019_features2.pkl\n"
     ]
    }
   ],
   "source": [
    "years = [2019]\n",
    "dataset = SeasonDataSetTwo(years)\n",
    "df_total = dataset.get_features_2()\n",
    "df = df_total\n"
   ]
  },
  {
   "cell_type": "code",
   "execution_count": 5,
   "metadata": {},
   "outputs": [
    {
     "data": {
      "text/html": [
       "<div>\n",
       "<style scoped>\n",
       "    .dataframe tbody tr th:only-of-type {\n",
       "        vertical-align: middle;\n",
       "    }\n",
       "\n",
       "    .dataframe tbody tr th {\n",
       "        vertical-align: top;\n",
       "    }\n",
       "\n",
       "    .dataframe thead th {\n",
       "        text-align: right;\n",
       "    }\n",
       "</style>\n",
       "<table border=\"1\" class=\"dataframe\">\n",
       "  <thead>\n",
       "    <tr style=\"text-align: right;\">\n",
       "      <th></th>\n",
       "      <th>shotDistance</th>\n",
       "      <th>shotAngle</th>\n",
       "    </tr>\n",
       "  </thead>\n",
       "  <tbody>\n",
       "    <tr>\n",
       "      <th>0</th>\n",
       "      <td>4.123106</td>\n",
       "      <td>14.036243</td>\n",
       "    </tr>\n",
       "    <tr>\n",
       "      <th>1</th>\n",
       "      <td>57.035077</td>\n",
       "      <td>-2.009554</td>\n",
       "    </tr>\n",
       "    <tr>\n",
       "      <th>2</th>\n",
       "      <td>26.683328</td>\n",
       "      <td>12.994617</td>\n",
       "    </tr>\n",
       "    <tr>\n",
       "      <th>3</th>\n",
       "      <td>36.055513</td>\n",
       "      <td>-33.690068</td>\n",
       "    </tr>\n",
       "    <tr>\n",
       "      <th>4</th>\n",
       "      <td>55.226805</td>\n",
       "      <td>-31.675469</td>\n",
       "    </tr>\n",
       "  </tbody>\n",
       "</table>\n",
       "</div>"
      ],
      "text/plain": [
       "   shotDistance  shotAngle\n",
       "0      4.123106  14.036243\n",
       "1     57.035077  -2.009554\n",
       "2     26.683328  12.994617\n",
       "3     36.055513 -33.690068\n",
       "4     55.226805 -31.675469"
      ]
     },
     "execution_count": 5,
     "metadata": {},
     "output_type": "execute_result"
    }
   ],
   "source": [
    "X = df[[\"shotDistance\",\"shotAngle\"]].iloc[:5]\n",
    "X"
   ]
  },
  {
   "cell_type": "code",
   "execution_count": 7,
   "metadata": {},
   "outputs": [
    {
     "name": "stdout",
     "output_type": "stream",
     "text": [
      "{\"probaIsGoal\":{\"0\":0.1542563787,\"1\":0.0567860263,\"2\":0.1020496683,\"3\":0.0856855542,\"4\":0.0589828114},\"predictionIsGoal\":{\"0\":0,\"1\":0,\"2\":0,\"3\":0,\"4\":0}}\n"
     ]
    }
   ],
   "source": [
    "import requests\n",
    "import json\n",
    "r = requests.post(\n",
    "\t\"http://127.0.0.1:5000/predict\", \n",
    "\tjson=X.to_json(orient=\"table\")\n",
    ")\n",
    "print(r.json())\n",
    "\n"
   ]
  },
  {
   "cell_type": "code",
   "execution_count": 8,
   "metadata": {},
   "outputs": [],
   "source": [
    "import json\n",
    "import requests\n",
    "import pandas as pd\n",
    "from ift6758.ift6758.client.serving_client import ServingClient"
   ]
  },
  {
   "cell_type": "code",
   "execution_count": 9,
   "metadata": {},
   "outputs": [],
   "source": [
    "sc = ServingClient()\n"
   ]
  },
  {
   "cell_type": "code",
   "execution_count": 10,
   "metadata": {},
   "outputs": [
    {
     "data": {
      "text/html": [
       "<div>\n",
       "<style scoped>\n",
       "    .dataframe tbody tr th:only-of-type {\n",
       "        vertical-align: middle;\n",
       "    }\n",
       "\n",
       "    .dataframe tbody tr th {\n",
       "        vertical-align: top;\n",
       "    }\n",
       "\n",
       "    .dataframe thead th {\n",
       "        text-align: right;\n",
       "    }\n",
       "</style>\n",
       "<table border=\"1\" class=\"dataframe\">\n",
       "  <thead>\n",
       "    <tr style=\"text-align: right;\">\n",
       "      <th></th>\n",
       "      <th>probaIsGoal</th>\n",
       "      <th>predictionIsGoal</th>\n",
       "    </tr>\n",
       "  </thead>\n",
       "  <tbody>\n",
       "    <tr>\n",
       "      <th>0</th>\n",
       "      <td>0.154256</td>\n",
       "      <td>0</td>\n",
       "    </tr>\n",
       "    <tr>\n",
       "      <th>1</th>\n",
       "      <td>0.056786</td>\n",
       "      <td>0</td>\n",
       "    </tr>\n",
       "    <tr>\n",
       "      <th>2</th>\n",
       "      <td>0.102050</td>\n",
       "      <td>0</td>\n",
       "    </tr>\n",
       "    <tr>\n",
       "      <th>3</th>\n",
       "      <td>0.085686</td>\n",
       "      <td>0</td>\n",
       "    </tr>\n",
       "    <tr>\n",
       "      <th>4</th>\n",
       "      <td>0.058983</td>\n",
       "      <td>0</td>\n",
       "    </tr>\n",
       "  </tbody>\n",
       "</table>\n",
       "</div>"
      ],
      "text/plain": [
       "   probaIsGoal  predictionIsGoal\n",
       "0     0.154256                 0\n",
       "1     0.056786                 0\n",
       "2     0.102050                 0\n",
       "3     0.085686                 0\n",
       "4     0.058983                 0"
      ]
     },
     "execution_count": 10,
     "metadata": {},
     "output_type": "execute_result"
    }
   ],
   "source": [
    "sc.predict(X)"
   ]
  },
  {
   "cell_type": "code",
   "execution_count": 11,
   "metadata": {},
   "outputs": [
    {
     "name": "stdout",
     "output_type": "stream",
     "text": [
      "\"INFO:app:Welcome to the work of Team 11\\nINFO:app:Initialization\\nINFO:app:Default Classifier Loaded logreg-distance-angle\\nINFO:app:{\\\"schema\\\":{\\\"fields\\\":[{\\\"name\\\":\\\"index\\\",\\\"type\\\":\\\"integer\\\"},{\\\"name\\\":\\\"shotDistance\\\",\\\"type\\\":\\\"number\\\"},{\\\"name\\\":\\\"shotAngle\\\",\\\"type\\\":\\\"number\\\"}],\\\"primaryKey\\\":[\\\"index\\\"],\\\"pandas_version\\\":\\\"0.20.0\\\"},\\\"data\\\":[{\\\"index\\\":0,\\\"shotDistance\\\":4.1231056256,\\\"shotAngle\\\":14.0362434679},{\\\"index\\\":1,\\\"shotDistance\\\":57.0350769264,\\\"shotAngle\\\":-2.009553813},{\\\"index\\\":2,\\\"shotDistance\\\":26.6833281283,\\\"shotAngle\\\":12.9946167919},{\\\"index\\\":3,\\\"shotDistance\\\":36.0555127546,\\\"shotAngle\\\":-33.690067526},{\\\"index\\\":4,\\\"shotDistance\\\":55.2268050859,\\\"shotAngle\\\":-31.6754687381}]}\\nINFO:app:{\\\"probaIsGoal\\\":{\\\"0\\\":0.1542563787,\\\"1\\\":0.0567860263,\\\"2\\\":0.1020496683,\\\"3\\\":0.0856855542,\\\"4\\\":0.0589828114},\\\"predictionIsGoal\\\":{\\\"0\\\":0,\\\"1\\\":0,\\\"2\\\":0,\\\"3\\\":0,\\\"4\\\":0}}\\nINFO:werkzeug:127.0.0.1 - - [18/Dec/2021 15:23:54] \\\"POST /predict HTTP/1.1\\\" 200 -\\nINFO:app:{\\\"schema\\\":{\\\"fields\\\":[{\\\"name\\\":\\\"index\\\",\\\"type\\\":\\\"integer\\\"},{\\\"name\\\":\\\"shotDistance\\\",\\\"type\\\":\\\"number\\\"},{\\\"name\\\":\\\"shotAngle\\\",\\\"type\\\":\\\"number\\\"}],\\\"primaryKey\\\":[\\\"index\\\"],\\\"pandas_version\\\":\\\"0.20.0\\\"},\\\"data\\\":[{\\\"index\\\":0,\\\"shotDistance\\\":4.1231056256,\\\"shotAngle\\\":14.0362434679},{\\\"index\\\":1,\\\"shotDistance\\\":57.0350769264,\\\"shotAngle\\\":-2.009553813},{\\\"index\\\":2,\\\"shotDistance\\\":26.6833281283,\\\"shotAngle\\\":12.9946167919},{\\\"index\\\":3,\\\"shotDistance\\\":36.0555127546,\\\"shotAngle\\\":-33.690067526},{\\\"index\\\":4,\\\"shotDistance\\\":55.2268050859,\\\"shotAngle\\\":-31.6754687381}]}\\nINFO:app:{\\\"probaIsGoal\\\":{\\\"0\\\":0.1542563787,\\\"1\\\":0.0567860263,\\\"2\\\":0.1020496683,\\\"3\\\":0.0856855542,\\\"4\\\":0.0589828114},\\\"predictionIsGoal\\\":{\\\"0\\\":0,\\\"1\\\":0,\\\"2\\\":0,\\\"3\\\":0,\\\"4\\\":0}}\\nINFO:werkzeug:127.0.0.1 - - [18/Dec/2021 15:24:04] \\\"POST /predict HTTP/1.1\\\" 200 -\\n\"\n",
      "\n"
     ]
    },
    {
     "data": {
      "text/plain": [
       "'\"INFO:app:Welcome to the work of Team 11\\\\nINFO:app:Initialization\\\\nINFO:app:Default Classifier Loaded logreg-distance-angle\\\\nINFO:app:{\\\\\"schema\\\\\":{\\\\\"fields\\\\\":[{\\\\\"name\\\\\":\\\\\"index\\\\\",\\\\\"type\\\\\":\\\\\"integer\\\\\"},{\\\\\"name\\\\\":\\\\\"shotDistance\\\\\",\\\\\"type\\\\\":\\\\\"number\\\\\"},{\\\\\"name\\\\\":\\\\\"shotAngle\\\\\",\\\\\"type\\\\\":\\\\\"number\\\\\"}],\\\\\"primaryKey\\\\\":[\\\\\"index\\\\\"],\\\\\"pandas_version\\\\\":\\\\\"0.20.0\\\\\"},\\\\\"data\\\\\":[{\\\\\"index\\\\\":0,\\\\\"shotDistance\\\\\":4.1231056256,\\\\\"shotAngle\\\\\":14.0362434679},{\\\\\"index\\\\\":1,\\\\\"shotDistance\\\\\":57.0350769264,\\\\\"shotAngle\\\\\":-2.009553813},{\\\\\"index\\\\\":2,\\\\\"shotDistance\\\\\":26.6833281283,\\\\\"shotAngle\\\\\":12.9946167919},{\\\\\"index\\\\\":3,\\\\\"shotDistance\\\\\":36.0555127546,\\\\\"shotAngle\\\\\":-33.690067526},{\\\\\"index\\\\\":4,\\\\\"shotDistance\\\\\":55.2268050859,\\\\\"shotAngle\\\\\":-31.6754687381}]}\\\\nINFO:app:{\\\\\"probaIsGoal\\\\\":{\\\\\"0\\\\\":0.1542563787,\\\\\"1\\\\\":0.0567860263,\\\\\"2\\\\\":0.1020496683,\\\\\"3\\\\\":0.0856855542,\\\\\"4\\\\\":0.0589828114},\\\\\"predictionIsGoal\\\\\":{\\\\\"0\\\\\":0,\\\\\"1\\\\\":0,\\\\\"2\\\\\":0,\\\\\"3\\\\\":0,\\\\\"4\\\\\":0}}\\\\nINFO:werkzeug:127.0.0.1 - - [18/Dec/2021 15:23:54] \\\\\"POST /predict HTTP/1.1\\\\\" 200 -\\\\nINFO:app:{\\\\\"schema\\\\\":{\\\\\"fields\\\\\":[{\\\\\"name\\\\\":\\\\\"index\\\\\",\\\\\"type\\\\\":\\\\\"integer\\\\\"},{\\\\\"name\\\\\":\\\\\"shotDistance\\\\\",\\\\\"type\\\\\":\\\\\"number\\\\\"},{\\\\\"name\\\\\":\\\\\"shotAngle\\\\\",\\\\\"type\\\\\":\\\\\"number\\\\\"}],\\\\\"primaryKey\\\\\":[\\\\\"index\\\\\"],\\\\\"pandas_version\\\\\":\\\\\"0.20.0\\\\\"},\\\\\"data\\\\\":[{\\\\\"index\\\\\":0,\\\\\"shotDistance\\\\\":4.1231056256,\\\\\"shotAngle\\\\\":14.0362434679},{\\\\\"index\\\\\":1,\\\\\"shotDistance\\\\\":57.0350769264,\\\\\"shotAngle\\\\\":-2.009553813},{\\\\\"index\\\\\":2,\\\\\"shotDistance\\\\\":26.6833281283,\\\\\"shotAngle\\\\\":12.9946167919},{\\\\\"index\\\\\":3,\\\\\"shotDistance\\\\\":36.0555127546,\\\\\"shotAngle\\\\\":-33.690067526},{\\\\\"index\\\\\":4,\\\\\"shotDistance\\\\\":55.2268050859,\\\\\"shotAngle\\\\\":-31.6754687381}]}\\\\nINFO:app:{\\\\\"probaIsGoal\\\\\":{\\\\\"0\\\\\":0.1542563787,\\\\\"1\\\\\":0.0567860263,\\\\\"2\\\\\":0.1020496683,\\\\\"3\\\\\":0.0856855542,\\\\\"4\\\\\":0.0589828114},\\\\\"predictionIsGoal\\\\\":{\\\\\"0\\\\\":0,\\\\\"1\\\\\":0,\\\\\"2\\\\\":0,\\\\\"3\\\\\":0,\\\\\"4\\\\\":0}}\\\\nINFO:werkzeug:127.0.0.1 - - [18/Dec/2021 15:24:04] \\\\\"POST /predict HTTP/1.1\\\\\" 200 -\\\\n\"\\n'"
      ]
     },
     "execution_count": 11,
     "metadata": {},
     "output_type": "execute_result"
    }
   ],
   "source": [
    "sc.logs()"
   ]
  },
  {
   "cell_type": "code",
   "execution_count": 12,
   "metadata": {},
   "outputs": [],
   "source": [
    "r=sc.download_registry_model(workspace=\"morph-e\",model=\"xgbase-bayestuning\",version=\"1.0.0\")\n"
   ]
  },
  {
   "cell_type": "code",
   "execution_count": 13,
   "metadata": {},
   "outputs": [
    {
     "data": {
      "text/plain": [
       "{'new_classifier': 'xgbase-bayestuning'}"
      ]
     },
     "execution_count": 13,
     "metadata": {},
     "output_type": "execute_result"
    }
   ],
   "source": [
    "r.json()"
   ]
  },
  {
   "cell_type": "code",
   "execution_count": null,
   "metadata": {},
   "outputs": [],
   "source": []
  }
 ],
 "metadata": {
  "interpreter": {
   "hash": "fe0e4489f2919cda2ef5940e6c22f887a5b71570af9d1a74ba05de65e7f388ec"
  },
  "kernelspec": {
   "display_name": "Python 3.9.7 64-bit ('ift6758-conda-env': conda)",
   "language": "python",
   "name": "python3"
  },
  "language_info": {
   "codemirror_mode": {
    "name": "ipython",
    "version": 3
   },
   "file_extension": ".py",
   "mimetype": "text/x-python",
   "name": "python",
   "nbconvert_exporter": "python",
   "pygments_lexer": "ipython3",
   "version": "3.9.7"
  },
  "orig_nbformat": 4
 },
 "nbformat": 4,
 "nbformat_minor": 2
}
