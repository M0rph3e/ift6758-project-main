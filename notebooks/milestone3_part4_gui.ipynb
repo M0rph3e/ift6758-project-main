{
 "cells": [
  {
   "cell_type": "code",
   "execution_count": 1,
   "metadata": {},
   "outputs": [],
   "source": [
    "from ipywidgets import widgets, interact, RadioButtons, IntSlider, Output, Layout, Dropdown\n",
    "\n",
    "import json\n",
    "import pandas as pd\n",
    "import numpy as np\n",
    "from tabulate import tabulate\n",
    "import matplotlib.pyplot as plt\n",
    "import seaborn as sns\n",
    "\n",
    "import requests\n",
    "import json\n"
   ]
  },
  {
   "cell_type": "markdown",
   "metadata": {},
   "source": [
    "* We hardcoded the UI for two xgb models (one from part5 and one from part6), \n",
    "    * This is done because, we had to map feature names for each model. We mapped and verified pipeline for these two models."
   ]
  },
  {
   "cell_type": "markdown",
   "metadata": {},
   "source": [
    "* Make Sure your code is not a cup of soup"
   ]
  },
  {
   "cell_type": "code",
   "execution_count": 5,
   "metadata": {
    "scrolled": true
   },
   "outputs": [],
   "source": []
  },
  {
   "cell_type": "code",
   "execution_count": 6,
   "metadata": {},
   "outputs": [
    {
     "data": {
      "application/vnd.jupyter.widget-view+json": {
       "model_id": "f11cae1c8dcd498a9c891179039e91f5",
       "version_major": 2,
       "version_minor": 0
      },
      "text/plain": [
       "VBox(children=(Dropdown(description='Workspace : ', layout=Layout(width='50%'), options=('morph-e',), value='m…"
      ]
     },
     "metadata": {},
     "output_type": "display_data"
    },
    {
     "data": {
      "application/vnd.jupyter.widget-view+json": {
       "model_id": "b36425a2f46f45eb87543f62fe33b15d",
       "version_major": 2,
       "version_minor": 0
      },
      "text/plain": [
       "VBox(children=(Text(value='2021020329', description='Game ID : ', placeholder='Type a valid Game ID'), Button(…"
      ]
     },
     "metadata": {},
     "output_type": "display_data"
    },
    {
     "data": {
      "application/vnd.jupyter.widget-view+json": {
       "model_id": "877a4a3f1a5243ac89a2130b4335f62b",
       "version_major": 2,
       "version_minor": 0
      },
      "text/plain": [
       "Output()"
      ]
     },
     "metadata": {},
     "output_type": "display_data"
    }
   ],
   "source": [
    "\n",
    "display(container_1,container_2, output)\n",
    "\n",
    "\n",
    "    \n",
    "    #download model here\n",
    "    \n",
    "model_button.on_click(on_model_button_clicked)\n",
    "\n",
    "\n",
    "\n",
    "    \n",
    "game_button.on_click(on_game_button_clicked)"
   ]
  }
 ],
 "metadata": {
  "interpreter": {
   "hash": "fe0e4489f2919cda2ef5940e6c22f887a5b71570af9d1a74ba05de65e7f388ec"
  },
  "kernelspec": {
   "display_name": "Python 3 (ipykernel)",
   "language": "python",
   "name": "python3"
  },
  "language_info": {
   "codemirror_mode": {
    "name": "ipython",
    "version": 3
   },
   "file_extension": ".py",
   "mimetype": "text/x-python",
   "name": "python",
   "nbconvert_exporter": "python",
   "pygments_lexer": "ipython3",
   "version": "3.9.7"
  },
  "widgets": {
   "application/vnd.jupyter.widget-state+json": {
    "state": {
     "004d4ecc76c049c98b550aecf776b806": {
      "model_module": "@jupyter-widgets/base",
      "model_module_version": "1.2.0",
      "model_name": "LayoutModel",
      "state": {}
     },
     "013604df40644bc39d905119c336a0ca": {
      "model_module": "@jupyter-widgets/output",
      "model_module_version": "1.0.0",
      "model_name": "OutputModel",
      "state": {
       "layout": "IPY_MODEL_704e005bf7f14b7195f77d63114f0cb8"
      }
     },
     "03fa744c57594dbfae3c2ab1bb516c17": {
      "model_module": "@jupyter-widgets/base",
      "model_module_version": "1.2.0",
      "model_name": "LayoutModel",
      "state": {}
     },
     "065fbc6bebcb49fbb87deaff31c53ff6": {
      "model_module": "@jupyter-widgets/base",
      "model_module_version": "1.2.0",
      "model_name": "LayoutModel",
      "state": {
       "width": "50%"
      }
     },
     "092b8b27abb14cf6aa80c91872ef95d6": {
      "model_module": "@jupyter-widgets/output",
      "model_module_version": "1.0.0",
      "model_name": "OutputModel",
      "state": {
       "layout": "IPY_MODEL_bbc2dbc8474c461d8a6e85b87f092c2d"
      }
     },
     "0ec41edd9609489eb371f39464134557": {
      "model_module": "@jupyter-widgets/output",
      "model_module_version": "1.0.0",
      "model_name": "OutputModel",
      "state": {
       "layout": "IPY_MODEL_faa02d8824a6447394b7a0b58aa3ab30"
      }
     },
     "1061a071837c43a88b74a65767c1f3b9": {
      "model_module": "@jupyter-widgets/controls",
      "model_module_version": "1.5.0",
      "model_name": "DescriptionStyleModel",
      "state": {
       "description_width": ""
      }
     },
     "1e7a04f688ba436d8d68c1d819f3989f": {
      "model_module": "@jupyter-widgets/controls",
      "model_module_version": "1.5.0",
      "model_name": "SliderStyleModel",
      "state": {
       "description_width": ""
      }
     },
     "22cf208dbfce4863b72d3d9a62e18650": {
      "model_module": "@jupyter-widgets/output",
      "model_module_version": "1.0.0",
      "model_name": "OutputModel",
      "state": {
       "layout": "IPY_MODEL_9ed3ff22f2cb4a98826fe9043fd67afe"
      }
     },
     "28e766823e8741928f4ffbb1725244b4": {
      "model_module": "@jupyter-widgets/controls",
      "model_module_version": "1.5.0",
      "model_name": "DropdownModel",
      "state": {
       "_options_labels": [
        "New Jersey Devils",
        "New York Islanders",
        "New York Rangers",
        "Philadelphia Flyers",
        "Pittsburgh Penguins",
        "Boston Bruins",
        "Buffalo Sabres",
        "Montréal Canadiens",
        "Ottawa Senators",
        "Toronto Maple Leafs",
        "Carolina Hurricanes",
        "Florida Panthers",
        "Tampa Bay Lightning",
        "Washington Capitals",
        "Chicago Blackhawks",
        "Detroit Red Wings",
        "Nashville Predators",
        "St. Louis Blues",
        "Calgary Flames",
        "Colorado Avalanche",
        "Edmonton Oilers",
        "Vancouver Canucks",
        "Anaheim Ducks",
        "Dallas Stars",
        "Los Angeles Kings",
        "San Jose Sharks",
        "Columbus Blue Jackets",
        "Minnesota Wild",
        "Winnipeg Jets",
        "Arizona Coyotes",
        "Vegas Golden Knights",
        "Seattle Kraken"
       ],
       "description": "Number:",
       "index": 16,
       "layout": "IPY_MODEL_875eb4fb63fb4ee8965d9d9d2b249cd3",
       "style": "IPY_MODEL_627cd524009c4a738d706a5dba7be057"
      }
     },
     "29f4d09c0f99492d8ff458eb51dda436": {
      "model_module": "@jupyter-widgets/output",
      "model_module_version": "1.0.0",
      "model_name": "OutputModel",
      "state": {
       "layout": "IPY_MODEL_830c40391d724217b5c745d71fab0208"
      }
     },
     "2af01153ad5541498be728ca5623d7fb": {
      "model_module": "@jupyter-widgets/base",
      "model_module_version": "1.2.0",
      "model_name": "LayoutModel",
      "state": {}
     },
     "30b98b79a93a49a8957f9e1665a435ba": {
      "model_module": "@jupyter-widgets/base",
      "model_module_version": "1.2.0",
      "model_name": "LayoutModel",
      "state": {}
     },
     "32efef19f52d43659f8513ee503f24a4": {
      "model_module": "@jupyter-widgets/controls",
      "model_module_version": "1.5.0",
      "model_name": "SliderStyleModel",
      "state": {
       "description_width": ""
      }
     },
     "3aade3ac39c446ed9aa2a20fa5ac9740": {
      "model_module": "@jupyter-widgets/controls",
      "model_module_version": "1.5.0",
      "model_name": "SliderStyleModel",
      "state": {
       "description_width": ""
      }
     },
     "3e62975dd274444cb85d0770cb6107ce": {
      "model_module": "@jupyter-widgets/output",
      "model_module_version": "1.0.0",
      "model_name": "OutputModel",
      "state": {
       "layout": "IPY_MODEL_f93e6904d55d45aeba2ff43c3724b989"
      }
     },
     "406e412b7cdc46a18d039b52e2b8b9ef": {
      "model_module": "@jupyter-widgets/controls",
      "model_module_version": "1.5.0",
      "model_name": "DropdownModel",
      "state": {
       "_options_labels": [
        "New Jersey Devils",
        "New York Islanders",
        "New York Rangers",
        "Philadelphia Flyers",
        "Pittsburgh Penguins",
        "Boston Bruins",
        "Buffalo Sabres",
        "Montréal Canadiens",
        "Ottawa Senators",
        "Toronto Maple Leafs",
        "Carolina Hurricanes",
        "Florida Panthers",
        "Tampa Bay Lightning",
        "Washington Capitals",
        "Chicago Blackhawks",
        "Detroit Red Wings",
        "Nashville Predators",
        "St. Louis Blues",
        "Calgary Flames",
        "Colorado Avalanche",
        "Edmonton Oilers",
        "Vancouver Canucks",
        "Anaheim Ducks",
        "Dallas Stars",
        "Los Angeles Kings",
        "San Jose Sharks",
        "Columbus Blue Jackets",
        "Minnesota Wild",
        "Winnipeg Jets",
        "Arizona Coyotes",
        "Vegas Golden Knights",
        "Seattle Kraken"
       ],
       "description": "Number:",
       "index": 15,
       "layout": "IPY_MODEL_7d1b5c00bb624a40a5630a45b142fa9f",
       "style": "IPY_MODEL_1061a071837c43a88b74a65767c1f3b9"
      }
     },
     "415b101603344f4289e77b820676e764": {
      "model_module": "@jupyter-widgets/output",
      "model_module_version": "1.0.0",
      "model_name": "OutputModel",
      "state": {
       "layout": "IPY_MODEL_57799b64f0a644b9b37175c37fc27600"
      }
     },
     "433ecefa930743b1b82da902406ab7ab": {
      "model_module": "@jupyter-widgets/controls",
      "model_module_version": "1.5.0",
      "model_name": "IntSliderModel",
      "state": {
       "continuous_update": false,
       "description": "Season: ",
       "layout": "IPY_MODEL_065fbc6bebcb49fbb87deaff31c53ff6",
       "max": 2020,
       "min": 2016,
       "style": "IPY_MODEL_32efef19f52d43659f8513ee503f24a4",
       "value": 2016
      }
     },
     "452440ae86124690aea682b0f6460c16": {
      "model_module": "@jupyter-widgets/base",
      "model_module_version": "1.2.0",
      "model_name": "LayoutModel",
      "state": {
       "width": "35%"
      }
     },
     "48d30d7902e64d099568ce393083807c": {
      "model_module": "@jupyter-widgets/output",
      "model_module_version": "1.0.0",
      "model_name": "OutputModel",
      "state": {
       "layout": "IPY_MODEL_ec896e29ccca481196d606c7a6fd0dad"
      }
     },
     "4d90dffbb2e548edbc1e4ac2e3b9222b": {
      "model_module": "@jupyter-widgets/controls",
      "model_module_version": "1.5.0",
      "model_name": "DropdownModel",
      "state": {
       "_options_labels": [
        "New Jersey Devils",
        "New York Islanders",
        "New York Rangers",
        "Philadelphia Flyers",
        "Pittsburgh Penguins",
        "Boston Bruins",
        "Buffalo Sabres",
        "Montréal Canadiens",
        "Ottawa Senators",
        "Toronto Maple Leafs",
        "Carolina Hurricanes",
        "Florida Panthers",
        "Tampa Bay Lightning",
        "Washington Capitals",
        "Chicago Blackhawks",
        "Detroit Red Wings",
        "Nashville Predators",
        "St. Louis Blues",
        "Calgary Flames",
        "Colorado Avalanche",
        "Edmonton Oilers",
        "Vancouver Canucks",
        "Anaheim Ducks",
        "Dallas Stars",
        "Los Angeles Kings",
        "San Jose Sharks",
        "Columbus Blue Jackets",
        "Minnesota Wild",
        "Winnipeg Jets",
        "Arizona Coyotes",
        "Vegas Golden Knights",
        "Seattle Kraken"
       ],
       "description": "Number:",
       "index": 15,
       "layout": "IPY_MODEL_6e9026af12ea4746a2fd47b11ec0c9f6",
       "style": "IPY_MODEL_d92c59d7510945c49a9c6ec66d3326d5"
      }
     },
     "508f0ef7fe144c898169fd22e4608c62": {
      "model_module": "@jupyter-widgets/base",
      "model_module_version": "1.2.0",
      "model_name": "LayoutModel",
      "state": {
       "width": "50%"
      }
     },
     "55978844b9b244039ed4f3a1eb91ad6c": {
      "model_module": "@jupyter-widgets/base",
      "model_module_version": "1.2.0",
      "model_name": "LayoutModel",
      "state": {}
     },
     "56037f5ca44d4409847489036bc50855": {
      "model_module": "@jupyter-widgets/controls",
      "model_module_version": "1.5.0",
      "model_name": "SliderStyleModel",
      "state": {
       "description_width": ""
      }
     },
     "57799b64f0a644b9b37175c37fc27600": {
      "model_module": "@jupyter-widgets/base",
      "model_module_version": "1.2.0",
      "model_name": "LayoutModel",
      "state": {}
     },
     "59a98ab3b95b46c897369941cbb43b8a": {
      "model_module": "@jupyter-widgets/controls",
      "model_module_version": "1.5.0",
      "model_name": "HBoxModel",
      "state": {
       "children": [
        "IPY_MODEL_77932f882e5146cf906639b1628a176e",
        "IPY_MODEL_aff78e40cd9e42e3ba1137669ad5f037"
       ],
       "layout": "IPY_MODEL_2af01153ad5541498be728ca5623d7fb"
      }
     },
     "627cd524009c4a738d706a5dba7be057": {
      "model_module": "@jupyter-widgets/controls",
      "model_module_version": "1.5.0",
      "model_name": "DescriptionStyleModel",
      "state": {
       "description_width": ""
      }
     },
     "6b238712946541bb93c469db05fa81d1": {
      "model_module": "@jupyter-widgets/base",
      "model_module_version": "1.2.0",
      "model_name": "LayoutModel",
      "state": {
       "width": "50%"
      }
     },
     "6d0d6afe3ac64e2ba54561938cc9b3f7": {
      "model_module": "@jupyter-widgets/output",
      "model_module_version": "1.0.0",
      "model_name": "OutputModel",
      "state": {
       "layout": "IPY_MODEL_55978844b9b244039ed4f3a1eb91ad6c"
      }
     },
     "6e9026af12ea4746a2fd47b11ec0c9f6": {
      "model_module": "@jupyter-widgets/base",
      "model_module_version": "1.2.0",
      "model_name": "LayoutModel",
      "state": {
       "width": "50%"
      }
     },
     "704e005bf7f14b7195f77d63114f0cb8": {
      "model_module": "@jupyter-widgets/base",
      "model_module_version": "1.2.0",
      "model_name": "LayoutModel",
      "state": {}
     },
     "708a197c319c4fe2884a1a1d7f04954b": {
      "model_module": "@jupyter-widgets/controls",
      "model_module_version": "1.5.0",
      "model_name": "HBoxModel",
      "state": {
       "children": [
        "IPY_MODEL_d391012a63d7492e998422ea8cf71cde",
        "IPY_MODEL_28e766823e8741928f4ffbb1725244b4"
       ],
       "layout": "IPY_MODEL_d783646e80184b82be802dd2109dc74e"
      }
     },
     "70c3950fcc29497cadcb10f075b7f3ed": {
      "model_module": "@jupyter-widgets/output",
      "model_module_version": "1.0.0",
      "model_name": "OutputModel",
      "state": {
       "layout": "IPY_MODEL_9a93feb79f52471181b50c3c814dbb22"
      }
     },
     "77932f882e5146cf906639b1628a176e": {
      "model_module": "@jupyter-widgets/controls",
      "model_module_version": "1.5.0",
      "model_name": "IntSliderModel",
      "state": {
       "continuous_update": false,
       "description": "Season: ",
       "layout": "IPY_MODEL_c3ef032ac6b347e796127b8c42314042",
       "max": 2020,
       "min": 2016,
       "style": "IPY_MODEL_3aade3ac39c446ed9aa2a20fa5ac9740",
       "value": 2018
      }
     },
     "7d1b5c00bb624a40a5630a45b142fa9f": {
      "model_module": "@jupyter-widgets/base",
      "model_module_version": "1.2.0",
      "model_name": "LayoutModel",
      "state": {
       "width": "50%"
      }
     },
     "830c40391d724217b5c745d71fab0208": {
      "model_module": "@jupyter-widgets/base",
      "model_module_version": "1.2.0",
      "model_name": "LayoutModel",
      "state": {}
     },
     "847335de082f4634965c09bac91d5ec8": {
      "model_module": "@jupyter-widgets/base",
      "model_module_version": "1.2.0",
      "model_name": "LayoutModel",
      "state": {
       "width": "50%"
      }
     },
     "875eb4fb63fb4ee8965d9d9d2b249cd3": {
      "model_module": "@jupyter-widgets/base",
      "model_module_version": "1.2.0",
      "model_name": "LayoutModel",
      "state": {
       "width": "50%"
      }
     },
     "8a33802bd3314a27936af94c0a21629a": {
      "model_module": "@jupyter-widgets/output",
      "model_module_version": "1.0.0",
      "model_name": "OutputModel",
      "state": {
       "layout": "IPY_MODEL_004d4ecc76c049c98b550aecf776b806"
      }
     },
     "95b56a8b21d144b8b85037229e2ca325": {
      "model_module": "@jupyter-widgets/controls",
      "model_module_version": "1.5.0",
      "model_name": "HBoxModel",
      "state": {
       "children": [
        "IPY_MODEL_ce32b409b1f54845aa81fb476487dfb2",
        "IPY_MODEL_406e412b7cdc46a18d039b52e2b8b9ef"
       ],
       "layout": "IPY_MODEL_db6190f5c5b24efdabe8df3404067043"
      }
     },
     "9682221000ae44dcb348d495166ac1a0": {
      "model_module": "@jupyter-widgets/base",
      "model_module_version": "1.2.0",
      "model_name": "LayoutModel",
      "state": {}
     },
     "9a93feb79f52471181b50c3c814dbb22": {
      "model_module": "@jupyter-widgets/base",
      "model_module_version": "1.2.0",
      "model_name": "LayoutModel",
      "state": {}
     },
     "9ed3ff22f2cb4a98826fe9043fd67afe": {
      "model_module": "@jupyter-widgets/base",
      "model_module_version": "1.2.0",
      "model_name": "LayoutModel",
      "state": {}
     },
     "a45ba845a3b44c7c9c5b163ab0e666dd": {
      "model_module": "@jupyter-widgets/base",
      "model_module_version": "1.2.0",
      "model_name": "LayoutModel",
      "state": {}
     },
     "aff78e40cd9e42e3ba1137669ad5f037": {
      "model_module": "@jupyter-widgets/controls",
      "model_module_version": "1.5.0",
      "model_name": "DropdownModel",
      "state": {
       "_options_labels": [
        "New Jersey Devils",
        "New York Islanders",
        "New York Rangers",
        "Philadelphia Flyers",
        "Pittsburgh Penguins",
        "Boston Bruins",
        "Buffalo Sabres",
        "Montréal Canadiens",
        "Ottawa Senators",
        "Toronto Maple Leafs",
        "Carolina Hurricanes",
        "Florida Panthers",
        "Tampa Bay Lightning",
        "Washington Capitals",
        "Chicago Blackhawks",
        "Detroit Red Wings",
        "Nashville Predators",
        "St. Louis Blues",
        "Calgary Flames",
        "Colorado Avalanche",
        "Edmonton Oilers",
        "Vancouver Canucks",
        "Anaheim Ducks",
        "Dallas Stars",
        "Los Angeles Kings",
        "San Jose Sharks",
        "Columbus Blue Jackets",
        "Minnesota Wild",
        "Winnipeg Jets",
        "Arizona Coyotes",
        "Vegas Golden Knights",
        "Seattle Kraken"
       ],
       "description": "Number:",
       "index": 15,
       "layout": "IPY_MODEL_452440ae86124690aea682b0f6460c16",
       "style": "IPY_MODEL_b53f2a06e9fe422bb4445a74e69e7e51"
      }
     },
     "b53f2a06e9fe422bb4445a74e69e7e51": {
      "model_module": "@jupyter-widgets/controls",
      "model_module_version": "1.5.0",
      "model_name": "DescriptionStyleModel",
      "state": {
       "description_width": ""
      }
     },
     "b6150f6adff040a986db6fda3eeebab7": {
      "model_module": "@jupyter-widgets/output",
      "model_module_version": "1.0.0",
      "model_name": "OutputModel",
      "state": {
       "layout": "IPY_MODEL_30b98b79a93a49a8957f9e1665a435ba"
      }
     },
     "bbc2dbc8474c461d8a6e85b87f092c2d": {
      "model_module": "@jupyter-widgets/base",
      "model_module_version": "1.2.0",
      "model_name": "LayoutModel",
      "state": {}
     },
     "bbf5c2d7361945fba76cb705b21f11c3": {
      "model_module": "@jupyter-widgets/output",
      "model_module_version": "1.0.0",
      "model_name": "OutputModel",
      "state": {
       "layout": "IPY_MODEL_9682221000ae44dcb348d495166ac1a0"
      }
     },
     "bcd0771662f644ab8f25e57255327736": {
      "model_module": "@jupyter-widgets/output",
      "model_module_version": "1.0.0",
      "model_name": "OutputModel",
      "state": {
       "layout": "IPY_MODEL_03fa744c57594dbfae3c2ab1bb516c17"
      }
     },
     "be862b32a36743f2b56f42bdfc63bc2f": {
      "model_module": "@jupyter-widgets/output",
      "model_module_version": "1.0.0",
      "model_name": "OutputModel",
      "state": {
       "layout": "IPY_MODEL_a45ba845a3b44c7c9c5b163ab0e666dd"
      }
     },
     "c1a036f38fd34fe0886efe0ff077339e": {
      "model_module": "@jupyter-widgets/output",
      "model_module_version": "1.0.0",
      "model_name": "OutputModel",
      "state": {
       "layout": "IPY_MODEL_e62f5f2d762549c68bef85387c3e5f31"
      }
     },
     "c3ef032ac6b347e796127b8c42314042": {
      "model_module": "@jupyter-widgets/base",
      "model_module_version": "1.2.0",
      "model_name": "LayoutModel",
      "state": {
       "width": "35%"
      }
     },
     "c4dfea149b7847e0b51de4d8a3b94f55": {
      "model_module": "@jupyter-widgets/controls",
      "model_module_version": "1.5.0",
      "model_name": "DropdownModel",
      "state": {
       "_options_labels": [
        "New Jersey Devils",
        "New York Islanders",
        "New York Rangers",
        "Philadelphia Flyers",
        "Pittsburgh Penguins",
        "Boston Bruins",
        "Buffalo Sabres",
        "Montréal Canadiens",
        "Ottawa Senators",
        "Toronto Maple Leafs",
        "Carolina Hurricanes",
        "Florida Panthers",
        "Tampa Bay Lightning",
        "Washington Capitals",
        "Chicago Blackhawks",
        "Detroit Red Wings",
        "Nashville Predators",
        "St. Louis Blues",
        "Calgary Flames",
        "Colorado Avalanche",
        "Edmonton Oilers",
        "Vancouver Canucks",
        "Anaheim Ducks",
        "Dallas Stars",
        "Los Angeles Kings",
        "San Jose Sharks",
        "Columbus Blue Jackets",
        "Minnesota Wild",
        "Winnipeg Jets",
        "Arizona Coyotes",
        "Vegas Golden Knights",
        "Seattle Kraken"
       ],
       "description": "Number:",
       "index": 0,
       "layout": "IPY_MODEL_c68fda58ee1149c6b1b87e068254366b",
       "style": "IPY_MODEL_da59787e8b3f400fb000189ab133f22f"
      }
     },
     "c68fda58ee1149c6b1b87e068254366b": {
      "model_module": "@jupyter-widgets/base",
      "model_module_version": "1.2.0",
      "model_name": "LayoutModel",
      "state": {
       "width": "50%"
      }
     },
     "ce32b409b1f54845aa81fb476487dfb2": {
      "model_module": "@jupyter-widgets/controls",
      "model_module_version": "1.5.0",
      "model_name": "IntSliderModel",
      "state": {
       "continuous_update": false,
       "description": "Season: ",
       "layout": "IPY_MODEL_6b238712946541bb93c469db05fa81d1",
       "max": 2020,
       "min": 2016,
       "style": "IPY_MODEL_1e7a04f688ba436d8d68c1d819f3989f",
       "value": 2016
      }
     },
     "d1bc4c4ab74d456ab145d7ac20050252": {
      "model_module": "@jupyter-widgets/base",
      "model_module_version": "1.2.0",
      "model_name": "LayoutModel",
      "state": {}
     },
     "d391012a63d7492e998422ea8cf71cde": {
      "model_module": "@jupyter-widgets/controls",
      "model_module_version": "1.5.0",
      "model_name": "IntSliderModel",
      "state": {
       "continuous_update": false,
       "description": "Season: ",
       "layout": "IPY_MODEL_508f0ef7fe144c898169fd22e4608c62",
       "max": 2020,
       "min": 2016,
       "style": "IPY_MODEL_56037f5ca44d4409847489036bc50855",
       "value": 2016
      }
     },
     "d76dcad50c88419491b9233cdfcc1dd1": {
      "model_module": "@jupyter-widgets/controls",
      "model_module_version": "1.5.0",
      "model_name": "IntSliderModel",
      "state": {
       "continuous_update": false,
       "description": "Season: ",
       "layout": "IPY_MODEL_847335de082f4634965c09bac91d5ec8",
       "max": 2020,
       "min": 2016,
       "style": "IPY_MODEL_f936f0ca49034540b021505e58d183cf",
       "value": 2016
      }
     },
     "d783646e80184b82be802dd2109dc74e": {
      "model_module": "@jupyter-widgets/base",
      "model_module_version": "1.2.0",
      "model_name": "LayoutModel",
      "state": {}
     },
     "d92c59d7510945c49a9c6ec66d3326d5": {
      "model_module": "@jupyter-widgets/controls",
      "model_module_version": "1.5.0",
      "model_name": "DescriptionStyleModel",
      "state": {
       "description_width": ""
      }
     },
     "da59787e8b3f400fb000189ab133f22f": {
      "model_module": "@jupyter-widgets/controls",
      "model_module_version": "1.5.0",
      "model_name": "DescriptionStyleModel",
      "state": {
       "description_width": ""
      }
     },
     "db6190f5c5b24efdabe8df3404067043": {
      "model_module": "@jupyter-widgets/base",
      "model_module_version": "1.2.0",
      "model_name": "LayoutModel",
      "state": {}
     },
     "e62f5f2d762549c68bef85387c3e5f31": {
      "model_module": "@jupyter-widgets/base",
      "model_module_version": "1.2.0",
      "model_name": "LayoutModel",
      "state": {}
     },
     "e91759c5292e4b7f892a1ac260a01f5a": {
      "model_module": "@jupyter-widgets/base",
      "model_module_version": "1.2.0",
      "model_name": "LayoutModel",
      "state": {}
     },
     "ec896e29ccca481196d606c7a6fd0dad": {
      "model_module": "@jupyter-widgets/base",
      "model_module_version": "1.2.0",
      "model_name": "LayoutModel",
      "state": {}
     },
     "f2a925d310de4de888498d57d8aac2a2": {
      "model_module": "@jupyter-widgets/output",
      "model_module_version": "1.0.0",
      "model_name": "OutputModel",
      "state": {
       "layout": "IPY_MODEL_e91759c5292e4b7f892a1ac260a01f5a"
      }
     },
     "f730ed31aa2c464a9313478581bd92f9": {
      "model_module": "@jupyter-widgets/output",
      "model_module_version": "1.0.0",
      "model_name": "OutputModel",
      "state": {
       "layout": "IPY_MODEL_d1bc4c4ab74d456ab145d7ac20050252"
      }
     },
     "f936f0ca49034540b021505e58d183cf": {
      "model_module": "@jupyter-widgets/controls",
      "model_module_version": "1.5.0",
      "model_name": "SliderStyleModel",
      "state": {
       "description_width": ""
      }
     },
     "f93e6904d55d45aeba2ff43c3724b989": {
      "model_module": "@jupyter-widgets/base",
      "model_module_version": "1.2.0",
      "model_name": "LayoutModel",
      "state": {}
     },
     "faa02d8824a6447394b7a0b58aa3ab30": {
      "model_module": "@jupyter-widgets/base",
      "model_module_version": "1.2.0",
      "model_name": "LayoutModel",
      "state": {}
     }
    },
    "version_major": 2,
    "version_minor": 0
   }
  }
 },
 "nbformat": 4,
 "nbformat_minor": 4
}
