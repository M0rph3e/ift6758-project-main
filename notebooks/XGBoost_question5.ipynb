{
 "cells": [
  {
   "cell_type": "markdown",
   "metadata": {},
   "source": [
    "## Motivation for the code and explanation [here](https://towardsdatascience.com/binary-classification-xgboost-hyperparameter-tuning-scenarios-by-non-exhaustive-grid-search-and-c261f4ce098d)"
   ]
  },
  {
   "cell_type": "code",
   "execution_count": 1,
   "metadata": {},
   "outputs": [],
   "source": [
    "%load_ext autoreload\n",
    "%autoreload 2"
   ]
  },
  {
   "cell_type": "markdown",
   "metadata": {},
   "source": [
    "### Imports"
   ]
  },
  {
   "cell_type": "code",
   "execution_count": 16,
   "metadata": {},
   "outputs": [],
   "source": [
    "#import comet_ml in the top of your file\n",
    "from comet_ml import Experiment\n",
    "import os\n",
    "import matplotlib.pyplot as plt\n",
    "\n",
    "from copy import deepcopy\n",
    "import numpy as np\n",
    "from sklearn.feature_selection import RFECV\n",
    "\n",
    "from sklearn.model_selection import train_test_split, GridSearchCV\n",
    "from sklearn.preprocessing import StandardScaler\n",
    "from skopt import BayesSearchCV\n",
    "from sklearn import feature_selection\n",
    "from sklearn.metrics import f1_score, precision_score, recall_score, confusion_matrix\n",
    "import xgboost as xgb\n",
    "import pandas as pd\n",
    "from ift6758.features.feature_engineering2 import SeasonDataSetTwo\n",
    "from ift6758.metrics import plot_metrics\n",
    "import random\n",
    "random_state = 42\n",
    "import tempfile\n"
   ]
  },
  {
   "cell_type": "code",
   "execution_count": 3,
   "metadata": {},
   "outputs": [
    {
     "name": "stderr",
     "output_type": "stream",
     "text": [
      "COMET WARNING: As you are running in a Jupyter environment, you will need to call `experiment.end()` when finished to ensure all metrics and code are logged before exiting.\n",
      "COMET INFO: Experiment is live on comet.ml https://www.comet.ml/morph-e/milestone-2/725b92e59b05465c8d33574d77479f34\n",
      "\n"
     ]
    }
   ],
   "source": [
    "# Import comet_ml at the top of your file, before sklearn!\n",
    "from comet_ml import Experiment\n",
    "import os \n",
    "COMET=1\n",
    "# Create an experiment with your api key\n",
    "if COMET:\n",
    "    comet_exp = Experiment(\n",
    "        api_key=os.environ.get('COMET_API_KEY'),  # don’t hardcode!!\n",
    "        project_name=\"milestone_2\",\n",
    "        workspace=\"morph-e\",\n",
    "        log_code=True,\n",
    "    )"
   ]
  },
  {
   "cell_type": "code",
   "execution_count": 4,
   "metadata": {},
   "outputs": [],
   "source": [
    "def seed_everything(seed_value):\n",
    "    random.seed(seed_value)\n",
    "    np.random.seed(seed_value)\n",
    "    os.environ['PYTHONHASHSEED'] = str(seed_value)\n",
    "    \n",
    "seed = 42\n",
    "seed_everything(seed)"
   ]
  },
  {
   "cell_type": "code",
   "execution_count": 5,
   "metadata": {},
   "outputs": [
    {
     "name": "stdout",
     "output_type": "stream",
     "text": [
      "File already Exists, loading from ../ift6758/data/PICKLE//2015_2016_2017_2018_features2.pkl\n"
     ]
    }
   ],
   "source": [
    "### Script to get the DataFrame and Split the data into train and test set for FE1\n",
    "years = [2015,2016,2017,2018]\n",
    "dataset = SeasonDataSetTwo(years)\n",
    "df_total = dataset.get_features_2()\n",
    "df = df_total[df_total['gamePk'].astype(str).str[5]=='2']##Filtering only for regular dataframe"
   ]
  },
  {
   "cell_type": "code",
   "execution_count": 6,
   "metadata": {},
   "outputs": [
    {
     "name": "stdout",
     "output_type": "stream",
     "text": [
      "(311106, 22)\n"
     ]
    },
    {
     "data": {
      "text/html": [
       "<div>\n",
       "<style scoped>\n",
       "    .dataframe tbody tr th:only-of-type {\n",
       "        vertical-align: middle;\n",
       "    }\n",
       "\n",
       "    .dataframe tbody tr th {\n",
       "        vertical-align: top;\n",
       "    }\n",
       "\n",
       "    .dataframe thead th {\n",
       "        text-align: right;\n",
       "    }\n",
       "</style>\n",
       "<table border=\"1\" class=\"dataframe\">\n",
       "  <thead>\n",
       "    <tr style=\"text-align: right;\">\n",
       "      <th></th>\n",
       "      <th>gamePk</th>\n",
       "      <th>team.name</th>\n",
       "      <th>gamePeriod</th>\n",
       "      <th>coordinatesX</th>\n",
       "      <th>coordinatesY</th>\n",
       "      <th>shotType</th>\n",
       "      <th>emptyNet</th>\n",
       "      <th>isHome</th>\n",
       "      <th>gameSeconds</th>\n",
       "      <th>totalGameSeconds</th>\n",
       "      <th>shotDistance</th>\n",
       "      <th>shotAngle</th>\n",
       "      <th>isGoal</th>\n",
       "      <th>lastEventType</th>\n",
       "      <th>lastEventCoordinatesX</th>\n",
       "      <th>lastEventCoordinatesY</th>\n",
       "      <th>timeFromLastEvent</th>\n",
       "      <th>distanceFromLastEvent</th>\n",
       "      <th>rebound</th>\n",
       "      <th>speed</th>\n",
       "      <th>changeInShotAngle</th>\n",
       "      <th>angleSpeed</th>\n",
       "    </tr>\n",
       "  </thead>\n",
       "  <tbody>\n",
       "    <tr>\n",
       "      <th>0</th>\n",
       "      <td>2015020001</td>\n",
       "      <td>Toronto Maple Leafs</td>\n",
       "      <td>1</td>\n",
       "      <td>-55.0</td>\n",
       "      <td>6.0</td>\n",
       "      <td>Wrist Shot</td>\n",
       "      <td>0</td>\n",
       "      <td>True</td>\n",
       "      <td>51.0</td>\n",
       "      <td>51.0</td>\n",
       "      <td>34.525353</td>\n",
       "      <td>10.007980</td>\n",
       "      <td>0</td>\n",
       "      <td>Hit</td>\n",
       "      <td>94.0</td>\n",
       "      <td>-34.0</td>\n",
       "      <td>11.0</td>\n",
       "      <td>154.275727</td>\n",
       "      <td>False</td>\n",
       "      <td>14.025066</td>\n",
       "      <td>0.000000</td>\n",
       "      <td>0.000000</td>\n",
       "    </tr>\n",
       "    <tr>\n",
       "      <th>1</th>\n",
       "      <td>2015020001</td>\n",
       "      <td>Toronto Maple Leafs</td>\n",
       "      <td>1</td>\n",
       "      <td>-79.0</td>\n",
       "      <td>0.0</td>\n",
       "      <td>Snap Shot</td>\n",
       "      <td>0</td>\n",
       "      <td>True</td>\n",
       "      <td>65.0</td>\n",
       "      <td>65.0</td>\n",
       "      <td>10.000000</td>\n",
       "      <td>0.000000</td>\n",
       "      <td>0</td>\n",
       "      <td>Giveaway</td>\n",
       "      <td>-37.0</td>\n",
       "      <td>-28.0</td>\n",
       "      <td>7.0</td>\n",
       "      <td>50.477718</td>\n",
       "      <td>False</td>\n",
       "      <td>7.211103</td>\n",
       "      <td>0.000000</td>\n",
       "      <td>0.000000</td>\n",
       "    </tr>\n",
       "    <tr>\n",
       "      <th>2</th>\n",
       "      <td>2015020001</td>\n",
       "      <td>Toronto Maple Leafs</td>\n",
       "      <td>1</td>\n",
       "      <td>-75.0</td>\n",
       "      <td>-1.0</td>\n",
       "      <td>Snap Shot</td>\n",
       "      <td>0</td>\n",
       "      <td>True</td>\n",
       "      <td>66.0</td>\n",
       "      <td>66.0</td>\n",
       "      <td>14.035669</td>\n",
       "      <td>-4.085617</td>\n",
       "      <td>0</td>\n",
       "      <td>Shot</td>\n",
       "      <td>-79.0</td>\n",
       "      <td>0.0</td>\n",
       "      <td>1.0</td>\n",
       "      <td>4.123106</td>\n",
       "      <td>True</td>\n",
       "      <td>4.123106</td>\n",
       "      <td>4.085617</td>\n",
       "      <td>4.085617</td>\n",
       "    </tr>\n",
       "    <tr>\n",
       "      <th>3</th>\n",
       "      <td>2015020001</td>\n",
       "      <td>Toronto Maple Leafs</td>\n",
       "      <td>1</td>\n",
       "      <td>-55.0</td>\n",
       "      <td>-36.0</td>\n",
       "      <td>Wrist Shot</td>\n",
       "      <td>0</td>\n",
       "      <td>True</td>\n",
       "      <td>113.0</td>\n",
       "      <td>113.0</td>\n",
       "      <td>49.517674</td>\n",
       "      <td>-46.636577</td>\n",
       "      <td>0</td>\n",
       "      <td>Hit</td>\n",
       "      <td>-91.0</td>\n",
       "      <td>35.0</td>\n",
       "      <td>18.0</td>\n",
       "      <td>79.605276</td>\n",
       "      <td>False</td>\n",
       "      <td>4.422515</td>\n",
       "      <td>0.000000</td>\n",
       "      <td>0.000000</td>\n",
       "    </tr>\n",
       "    <tr>\n",
       "      <th>4</th>\n",
       "      <td>2015020001</td>\n",
       "      <td>Toronto Maple Leafs</td>\n",
       "      <td>1</td>\n",
       "      <td>-61.0</td>\n",
       "      <td>-1.0</td>\n",
       "      <td>Tip-In</td>\n",
       "      <td>0</td>\n",
       "      <td>True</td>\n",
       "      <td>157.0</td>\n",
       "      <td>157.0</td>\n",
       "      <td>28.017851</td>\n",
       "      <td>-2.045408</td>\n",
       "      <td>0</td>\n",
       "      <td>Faceoff</td>\n",
       "      <td>-69.0</td>\n",
       "      <td>-22.0</td>\n",
       "      <td>5.0</td>\n",
       "      <td>22.472205</td>\n",
       "      <td>False</td>\n",
       "      <td>4.494441</td>\n",
       "      <td>0.000000</td>\n",
       "      <td>0.000000</td>\n",
       "    </tr>\n",
       "  </tbody>\n",
       "</table>\n",
       "</div>"
      ],
      "text/plain": [
       "       gamePk            team.name  gamePeriod  coordinatesX  coordinatesY  \\\n",
       "0  2015020001  Toronto Maple Leafs           1         -55.0           6.0   \n",
       "1  2015020001  Toronto Maple Leafs           1         -79.0           0.0   \n",
       "2  2015020001  Toronto Maple Leafs           1         -75.0          -1.0   \n",
       "3  2015020001  Toronto Maple Leafs           1         -55.0         -36.0   \n",
       "4  2015020001  Toronto Maple Leafs           1         -61.0          -1.0   \n",
       "\n",
       "     shotType emptyNet isHome  gameSeconds  totalGameSeconds  shotDistance  \\\n",
       "0  Wrist Shot        0   True         51.0              51.0     34.525353   \n",
       "1   Snap Shot        0   True         65.0              65.0     10.000000   \n",
       "2   Snap Shot        0   True         66.0              66.0     14.035669   \n",
       "3  Wrist Shot        0   True        113.0             113.0     49.517674   \n",
       "4      Tip-In        0   True        157.0             157.0     28.017851   \n",
       "\n",
       "   shotAngle  isGoal lastEventType  lastEventCoordinatesX  \\\n",
       "0  10.007980       0           Hit                   94.0   \n",
       "1   0.000000       0      Giveaway                  -37.0   \n",
       "2  -4.085617       0          Shot                  -79.0   \n",
       "3 -46.636577       0           Hit                  -91.0   \n",
       "4  -2.045408       0       Faceoff                  -69.0   \n",
       "\n",
       "   lastEventCoordinatesY  timeFromLastEvent  distanceFromLastEvent  rebound  \\\n",
       "0                  -34.0               11.0             154.275727    False   \n",
       "1                  -28.0                7.0              50.477718    False   \n",
       "2                    0.0                1.0               4.123106     True   \n",
       "3                   35.0               18.0              79.605276    False   \n",
       "4                  -22.0                5.0              22.472205    False   \n",
       "\n",
       "       speed  changeInShotAngle  angleSpeed  \n",
       "0  14.025066           0.000000    0.000000  \n",
       "1   7.211103           0.000000    0.000000  \n",
       "2   4.123106           4.085617    4.085617  \n",
       "3   4.422515           0.000000    0.000000  \n",
       "4   4.494441           0.000000    0.000000  "
      ]
     },
     "execution_count": 6,
     "metadata": {},
     "output_type": "execute_result"
    }
   ],
   "source": [
    "pd.set_option('display.max_columns', None)\n",
    "\n",
    "print(df.shape)\n",
    "df.head()\n"
   ]
  },
  {
   "cell_type": "code",
   "execution_count": 7,
   "metadata": {},
   "outputs": [],
   "source": [
    "features = ['gameSeconds','totalGameSeconds','timeFromLastEvent','gamePeriod','shotType', 'shotAngle','isHome','coordinatesX','coordinatesY', 'shotDistance','lastEventType','lastEventCoordinatesX','lastEventCoordinatesY','distanceFromLastEvent', 'rebound','speed','changeInShotAngle']\n",
    "label = ['isGoal']"
   ]
  },
  {
   "cell_type": "code",
   "execution_count": 8,
   "metadata": {},
   "outputs": [
    {
     "name": "stdout",
     "output_type": "stream",
     "text": [
      "gameSeconds              False\n",
      "totalGameSeconds         False\n",
      "timeFromLastEvent        False\n",
      "gamePeriod               False\n",
      "shotType                  True\n",
      "shotAngle                 True\n",
      "isHome                    True\n",
      "coordinatesX              True\n",
      "coordinatesY              True\n",
      "shotDistance              True\n",
      "lastEventType            False\n",
      "lastEventCoordinatesX     True\n",
      "lastEventCoordinatesY     True\n",
      "distanceFromLastEvent     True\n",
      "rebound                  False\n",
      "speed                     True\n",
      "changeInShotAngle         True\n",
      "isGoal                   False\n",
      "dtype: bool\n"
     ]
    },
    {
     "data": {
      "text/html": [
       "<div>\n",
       "<style scoped>\n",
       "    .dataframe tbody tr th:only-of-type {\n",
       "        vertical-align: middle;\n",
       "    }\n",
       "\n",
       "    .dataframe tbody tr th {\n",
       "        vertical-align: top;\n",
       "    }\n",
       "\n",
       "    .dataframe thead th {\n",
       "        text-align: right;\n",
       "    }\n",
       "</style>\n",
       "<table border=\"1\" class=\"dataframe\">\n",
       "  <thead>\n",
       "    <tr style=\"text-align: right;\">\n",
       "      <th></th>\n",
       "      <th>gameSeconds</th>\n",
       "      <th>totalGameSeconds</th>\n",
       "      <th>timeFromLastEvent</th>\n",
       "      <th>gamePeriod</th>\n",
       "      <th>shotType</th>\n",
       "      <th>shotAngle</th>\n",
       "      <th>isHome</th>\n",
       "      <th>coordinatesX</th>\n",
       "      <th>coordinatesY</th>\n",
       "      <th>shotDistance</th>\n",
       "      <th>lastEventType</th>\n",
       "      <th>lastEventCoordinatesX</th>\n",
       "      <th>lastEventCoordinatesY</th>\n",
       "      <th>distanceFromLastEvent</th>\n",
       "      <th>rebound</th>\n",
       "      <th>speed</th>\n",
       "      <th>changeInShotAngle</th>\n",
       "      <th>isGoal</th>\n",
       "    </tr>\n",
       "  </thead>\n",
       "  <tbody>\n",
       "    <tr>\n",
       "      <th>0</th>\n",
       "      <td>51.0</td>\n",
       "      <td>51.0</td>\n",
       "      <td>11.0</td>\n",
       "      <td>1</td>\n",
       "      <td>Wrist Shot</td>\n",
       "      <td>10.007980</td>\n",
       "      <td>True</td>\n",
       "      <td>-55.0</td>\n",
       "      <td>6.0</td>\n",
       "      <td>34.525353</td>\n",
       "      <td>Hit</td>\n",
       "      <td>94.0</td>\n",
       "      <td>-34.0</td>\n",
       "      <td>154.275727</td>\n",
       "      <td>False</td>\n",
       "      <td>14.025066</td>\n",
       "      <td>0.000000</td>\n",
       "      <td>0</td>\n",
       "    </tr>\n",
       "    <tr>\n",
       "      <th>1</th>\n",
       "      <td>65.0</td>\n",
       "      <td>65.0</td>\n",
       "      <td>7.0</td>\n",
       "      <td>1</td>\n",
       "      <td>Snap Shot</td>\n",
       "      <td>0.000000</td>\n",
       "      <td>True</td>\n",
       "      <td>-79.0</td>\n",
       "      <td>0.0</td>\n",
       "      <td>10.000000</td>\n",
       "      <td>Giveaway</td>\n",
       "      <td>-37.0</td>\n",
       "      <td>-28.0</td>\n",
       "      <td>50.477718</td>\n",
       "      <td>False</td>\n",
       "      <td>7.211103</td>\n",
       "      <td>0.000000</td>\n",
       "      <td>0</td>\n",
       "    </tr>\n",
       "    <tr>\n",
       "      <th>2</th>\n",
       "      <td>66.0</td>\n",
       "      <td>66.0</td>\n",
       "      <td>1.0</td>\n",
       "      <td>1</td>\n",
       "      <td>Snap Shot</td>\n",
       "      <td>-4.085617</td>\n",
       "      <td>True</td>\n",
       "      <td>-75.0</td>\n",
       "      <td>-1.0</td>\n",
       "      <td>14.035669</td>\n",
       "      <td>Shot</td>\n",
       "      <td>-79.0</td>\n",
       "      <td>0.0</td>\n",
       "      <td>4.123106</td>\n",
       "      <td>True</td>\n",
       "      <td>4.123106</td>\n",
       "      <td>4.085617</td>\n",
       "      <td>0</td>\n",
       "    </tr>\n",
       "    <tr>\n",
       "      <th>3</th>\n",
       "      <td>113.0</td>\n",
       "      <td>113.0</td>\n",
       "      <td>18.0</td>\n",
       "      <td>1</td>\n",
       "      <td>Wrist Shot</td>\n",
       "      <td>-46.636577</td>\n",
       "      <td>True</td>\n",
       "      <td>-55.0</td>\n",
       "      <td>-36.0</td>\n",
       "      <td>49.517674</td>\n",
       "      <td>Hit</td>\n",
       "      <td>-91.0</td>\n",
       "      <td>35.0</td>\n",
       "      <td>79.605276</td>\n",
       "      <td>False</td>\n",
       "      <td>4.422515</td>\n",
       "      <td>0.000000</td>\n",
       "      <td>0</td>\n",
       "    </tr>\n",
       "    <tr>\n",
       "      <th>4</th>\n",
       "      <td>157.0</td>\n",
       "      <td>157.0</td>\n",
       "      <td>5.0</td>\n",
       "      <td>1</td>\n",
       "      <td>Tip-In</td>\n",
       "      <td>-2.045408</td>\n",
       "      <td>True</td>\n",
       "      <td>-61.0</td>\n",
       "      <td>-1.0</td>\n",
       "      <td>28.017851</td>\n",
       "      <td>Faceoff</td>\n",
       "      <td>-69.0</td>\n",
       "      <td>-22.0</td>\n",
       "      <td>22.472205</td>\n",
       "      <td>False</td>\n",
       "      <td>4.494441</td>\n",
       "      <td>0.000000</td>\n",
       "      <td>0</td>\n",
       "    </tr>\n",
       "  </tbody>\n",
       "</table>\n",
       "</div>"
      ],
      "text/plain": [
       "   gameSeconds  totalGameSeconds  timeFromLastEvent  gamePeriod    shotType  \\\n",
       "0         51.0              51.0               11.0           1  Wrist Shot   \n",
       "1         65.0              65.0                7.0           1   Snap Shot   \n",
       "2         66.0              66.0                1.0           1   Snap Shot   \n",
       "3        113.0             113.0               18.0           1  Wrist Shot   \n",
       "4        157.0             157.0                5.0           1      Tip-In   \n",
       "\n",
       "   shotAngle isHome  coordinatesX  coordinatesY  shotDistance lastEventType  \\\n",
       "0  10.007980   True         -55.0           6.0     34.525353           Hit   \n",
       "1   0.000000   True         -79.0           0.0     10.000000      Giveaway   \n",
       "2  -4.085617   True         -75.0          -1.0     14.035669          Shot   \n",
       "3 -46.636577   True         -55.0         -36.0     49.517674           Hit   \n",
       "4  -2.045408   True         -61.0          -1.0     28.017851       Faceoff   \n",
       "\n",
       "   lastEventCoordinatesX  lastEventCoordinatesY  distanceFromLastEvent  \\\n",
       "0                   94.0                  -34.0             154.275727   \n",
       "1                  -37.0                  -28.0              50.477718   \n",
       "2                  -79.0                    0.0               4.123106   \n",
       "3                  -91.0                   35.0              79.605276   \n",
       "4                  -69.0                  -22.0              22.472205   \n",
       "\n",
       "   rebound      speed  changeInShotAngle  isGoal  \n",
       "0    False  14.025066           0.000000       0  \n",
       "1    False   7.211103           0.000000       0  \n",
       "2     True   4.123106           4.085617       0  \n",
       "3    False   4.422515           0.000000       0  \n",
       "4    False   4.494441           0.000000       0  "
      ]
     },
     "execution_count": 8,
     "metadata": {},
     "output_type": "execute_result"
    }
   ],
   "source": [
    "df_exp = df[features+label]\n",
    "print(df_exp.isna().any())\n",
    "df_exp.head()\n"
   ]
  },
  {
   "cell_type": "markdown",
   "metadata": {},
   "source": [
    "### Instead of removing nan and inf -> Converting them to Nans. and XGBoost considers them as not existing features internally"
   ]
  },
  {
   "cell_type": "code",
   "execution_count": 9,
   "metadata": {},
   "outputs": [
    {
     "name": "stderr",
     "output_type": "stream",
     "text": [
      "C:\\Users\\saiak\\.conda\\envs\\ift6758-conda-env\\lib\\site-packages\\pandas\\core\\frame.py:5238: SettingWithCopyWarning: \n",
      "A value is trying to be set on a copy of a slice from a DataFrame\n",
      "\n",
      "See the caveats in the documentation: https://pandas.pydata.org/pandas-docs/stable/user_guide/indexing.html#returning-a-view-versus-a-copy\n",
      "  return super().replace(\n",
      "C:\\Users\\saiak\\.conda\\envs\\ift6758-conda-env\\lib\\site-packages\\pandas\\core\\generic.py:6619: SettingWithCopyWarning: \n",
      "A value is trying to be set on a copy of a slice from a DataFrame\n",
      "\n",
      "See the caveats in the documentation: https://pandas.pydata.org/pandas-docs/stable/user_guide/indexing.html#returning-a-view-versus-a-copy\n",
      "  return self._update_inplace(result)\n",
      "C:\\Users\\saiak\\.conda\\envs\\ift6758-conda-env\\lib\\site-packages\\pandas\\core\\frame.py:3641: SettingWithCopyWarning: \n",
      "A value is trying to be set on a copy of a slice from a DataFrame.\n",
      "Try using .loc[row_indexer,col_indexer] = value instead\n",
      "\n",
      "See the caveats in the documentation: https://pandas.pydata.org/pandas-docs/stable/user_guide/indexing.html#returning-a-view-versus-a-copy\n",
      "  self[k1] = value[k2]\n"
     ]
    }
   ],
   "source": [
    "## Removing nan and inf data of features \n",
    "\n",
    "remove_nan_inf_features= [\"shotAngle\",\"coordinatesX\",\"coordinatesY\",\"shotDistance\",\"lastEventCoordinatesX\",\"lastEventCoordinatesY\",\"distanceFromLastEvent\",\"speed\",\"changeInShotAngle\"]\n",
    "df_exp.replace([np.inf, -np.inf], np.nan, inplace=True)\n",
    "df_exp.replace([np.inf, -np.inf], np.nan, inplace=True)\n",
    "df_exp[\"changeInShotAngle\"].replace(0,np.nan,inplace=True)\n",
    "\n",
    "\n",
    "## Converting category features to Category Types\n",
    "categories = ['shotType','gamePeriod','lastEventType','rebound','isHome']\n",
    "df_exp[categories]=df_exp[categories].astype(\"category\")\n"
   ]
  },
  {
   "cell_type": "code",
   "execution_count": 10,
   "metadata": {},
   "outputs": [],
   "source": [
    "def XY(df,label_column,features):\n",
    "    X = df.drop([label_column],axis=1)[features]\n",
    "    Y = df[label_column]\n",
    "    # scaler = preprocessing.MinMaxScaler()\n",
    "    # X=scaler.fit_transform(X)\n",
    "\n",
    "    return X,Y"
   ]
  },
  {
   "cell_type": "code",
   "execution_count": 11,
   "metadata": {},
   "outputs": [],
   "source": [
    "predscore_val_dict={}\n",
    "\n",
    "weights_dir = \"../ift6758/models/weights/\""
   ]
  },
  {
   "cell_type": "markdown",
   "metadata": {},
   "source": [
    "## XGBoost with distance +angle"
   ]
  },
  {
   "cell_type": "code",
   "execution_count": 12,
   "metadata": {},
   "outputs": [],
   "source": [
    "import joblib"
   ]
  },
  {
   "cell_type": "code",
   "execution_count": 13,
   "metadata": {},
   "outputs": [
    {
     "name": "stderr",
     "output_type": "stream",
     "text": [
      "C:\\Users\\saiak\\.conda\\envs\\ift6758-conda-env\\lib\\site-packages\\xgboost\\training.py:17: UserWarning: Old style callback is deprecated.  See: https://xgboost.readthedocs.io/en/latest/python/callbacks.html\n",
      "  warnings.warn(f'Old style callback is deprecated.  See: {link}', UserWarning)\n",
      "COMET WARNING: You must install graphviz to plot tree\n"
     ]
    },
    {
     "data": {
      "text/plain": [
       "['../ift6758/models/weights//xg-dis-angle-yearvalidation.pkl']"
      ]
     },
     "execution_count": 13,
     "metadata": {},
     "output_type": "execute_result"
    }
   ],
   "source": [
    "experiment = \"xg-dis-angle\"\n",
    "features = [\"shotDistance\",\"shotAngle\"]\n",
    "label_column = \"isGoal\"\n",
    "\n",
    "## Splitting X and Y\n",
    "val_ratio = 0.25\n",
    "X,y = XY(df_exp,label_column,features)\n",
    "Xtrain, Xval, Ytrain, Yval = train_test_split(X, y,stratify=y,test_size=val_ratio,random_state=seed)\n",
    "\n",
    "## Training\n",
    "clf = xgb.XGBClassifier(booster='gbtree',use_label_encoder=False)\n",
    "clf.fit(Xtrain, Ytrain)\n",
    "y_pred_val  = clf.predict(Xval)\n",
    "y_pred_val_scores = clf.predict_proba(Xval)[:,1]\n",
    "\n",
    "\n",
    "predscore_val_dict[experiment]={}\n",
    "predscore_val_dict[experiment]['val']=Yval\n",
    "predscore_val_dict[experiment]['predscore']=y_pred_val_scores\n",
    "\n",
    "\n",
    "\n",
    "## Dumping model\n",
    "filename=f\"{weights_dir}/{experiment}-yearvalidation.pkl\"\n",
    "joblib.dump(clf,filename)"
   ]
  },
  {
   "cell_type": "code",
   "execution_count": 41,
   "metadata": {},
   "outputs": [
    {
     "name": "stdout",
     "output_type": "stream",
     "text": [
      "              precision    recall  f1-score   support\n",
      "\n",
      "           0       0.91      1.00      0.95     70480\n",
      "           1       0.43      0.00      0.01      7297\n",
      "\n",
      "    accuracy                           0.91     77777\n",
      "   macro avg       0.67      0.50      0.48     77777\n",
      "weighted avg       0.86      0.91      0.86     77777\n",
      "\n"
     ]
    },
    {
     "data": {
      "text/plain": [
       "{'web': 'https://www.comet.ml/api/image/download?imageId=ad04aa8dbbeb496e8aa2a56daf46e2a9&experimentKey=dbfc187a613741f69734b56522af5518',\n",
       " 'api': 'https://www.comet.ml/api/rest/v1/image/get-image?imageId=ad04aa8dbbeb496e8aa2a56daf46e2a9&experimentKey=dbfc187a613741f69734b56522af5518',\n",
       " 'imageId': 'ad04aa8dbbeb496e8aa2a56daf46e2a9'}"
      ]
     },
     "execution_count": 41,
     "metadata": {},
     "output_type": "execute_result"
    },
    {
     "data": {
      "image/png": "[encoded data removed]",
      "text/plain": [
       "<Figure size 720x360 with 2 Axes>"
      ]
     },
     "metadata": {
      "needs_background": "light"
     },
     "output_type": "display_data"
    }
   ],
   "source": [
    "img_path = os.path.join(tempfile.mkdtemp(), 'imgs')\n",
    "\n",
    "plot_metrics.plotConfusion(Yval,y_pred_val, title=experiment)\n",
    "if COMET:\n",
    "    comet_exp.log_figure(figure=plt)\n",
    "plot_metrics.plot_roc([Yval],[y_pred_val_scores],[experiment])\n",
    "if COMET:\n",
    "    comet_exp.log_figure(figure=plt)\n",
    "plot_metrics.plot_percentile([Yval],[y_pred_val_scores],bin_width=5,plot_labels=[experiment])\n",
    "if COMET:\n",
    "    comet_exp.log_figure(figure=plt)\n",
    "plot_metrics.plot_calibration([Yval],[y_pred_val_scores],plot_labels=[experiment])\n",
    "if COMET:\n",
    "    comet_exp.log_figure(figure=plt)"
   ]
  },
  {
   "cell_type": "code",
   "execution_count": 15,
   "metadata": {},
   "outputs": [
    {
     "data": {
      "text/plain": [
       "{'web': 'https://www.comet.ml/api/asset/download?assetId=ace63a44df4d4a469bc563f66fc5f5a8&experimentKey=725b92e59b05465c8d33574d77479f34',\n",
       " 'api': 'https://www.comet.ml/api/rest/v2/experiment/asset/get-asset?assetId=ace63a44df4d4a469bc563f66fc5f5a8&experimentKey=725b92e59b05465c8d33574d77479f34',\n",
       " 'assetId': 'ace63a44df4d4a469bc563f66fc5f5a8'}"
      ]
     },
     "execution_count": 15,
     "metadata": {},
     "output_type": "execute_result"
    }
   ],
   "source": [
    "if COMET:\n",
    "    comet_exp.log_model(\"XG Boost\", f\"{weights_dir}/{experiment}-yearvalidation.pkl\")"
   ]
  },
  {
   "cell_type": "markdown",
   "metadata": {},
   "source": [
    "## XG Boost with Feature Selection\n"
   ]
  },
  {
   "cell_type": "code",
   "execution_count": 18,
   "metadata": {},
   "outputs": [],
   "source": [
    "val_ratio = 0.25\n",
    "X= df_exp.drop(label,axis=1)\n",
    "y= df_exp[label]\n",
    "\n",
    "\n",
    "Xtrain, Xval, Ytrain, Yval = train_test_split(X, y,stratify=y,test_size=val_ratio,random_state=seed)\n"
   ]
  },
  {
   "cell_type": "code",
   "execution_count": 25,
   "metadata": {},
   "outputs": [
    {
     "name": "stdout",
     "output_type": "stream",
     "text": [
      "Fitting estimator with 12 features.\n"
     ]
    },
    {
     "name": "stderr",
     "output_type": "stream",
     "text": [
      "C:\\Users\\saiak\\.conda\\envs\\ift6758-conda-env\\lib\\site-packages\\xgboost\\training.py:17: UserWarning: Old style callback is deprecated.  See: https://xgboost.readthedocs.io/en/latest/python/callbacks.html\n",
      "  warnings.warn(f'Old style callback is deprecated.  See: {link}', UserWarning)\n"
     ]
    },
    {
     "name": "stdout",
     "output_type": "stream",
     "text": [
      "Fitting estimator with 11 features.\n"
     ]
    },
    {
     "name": "stderr",
     "output_type": "stream",
     "text": [
      "C:\\Users\\saiak\\.conda\\envs\\ift6758-conda-env\\lib\\site-packages\\xgboost\\training.py:17: UserWarning: Old style callback is deprecated.  See: https://xgboost.readthedocs.io/en/latest/python/callbacks.html\n",
      "  warnings.warn(f'Old style callback is deprecated.  See: {link}', UserWarning)\n"
     ]
    },
    {
     "name": "stdout",
     "output_type": "stream",
     "text": [
      "Fitting estimator with 10 features.\n"
     ]
    },
    {
     "name": "stderr",
     "output_type": "stream",
     "text": [
      "C:\\Users\\saiak\\.conda\\envs\\ift6758-conda-env\\lib\\site-packages\\xgboost\\training.py:17: UserWarning: Old style callback is deprecated.  See: https://xgboost.readthedocs.io/en/latest/python/callbacks.html\n",
      "  warnings.warn(f'Old style callback is deprecated.  See: {link}', UserWarning)\n"
     ]
    },
    {
     "name": "stdout",
     "output_type": "stream",
     "text": [
      "Fitting estimator with 9 features.\n"
     ]
    },
    {
     "name": "stderr",
     "output_type": "stream",
     "text": [
      "C:\\Users\\saiak\\.conda\\envs\\ift6758-conda-env\\lib\\site-packages\\xgboost\\training.py:17: UserWarning: Old style callback is deprecated.  See: https://xgboost.readthedocs.io/en/latest/python/callbacks.html\n",
      "  warnings.warn(f'Old style callback is deprecated.  See: {link}', UserWarning)\n",
      "C:\\Users\\saiak\\.conda\\envs\\ift6758-conda-env\\lib\\site-packages\\xgboost\\training.py:17: UserWarning: Old style callback is deprecated.  See: https://xgboost.readthedocs.io/en/latest/python/callbacks.html\n",
      "  warnings.warn(f'Old style callback is deprecated.  See: {link}', UserWarning)\n",
      "C:\\Users\\saiak\\.conda\\envs\\ift6758-conda-env\\lib\\site-packages\\sklearn\\base.py:445: UserWarning: X does not have valid feature names, but RFECV was fitted with feature names\n",
      "  warnings.warn(\n",
      "C:\\Users\\saiak\\.conda\\envs\\ift6758-conda-env\\lib\\site-packages\\xgboost\\training.py:17: UserWarning: Old style callback is deprecated.  See: https://xgboost.readthedocs.io/en/latest/python/callbacks.html\n",
      "  warnings.warn(f'Old style callback is deprecated.  See: {link}', UserWarning)\n",
      "C:\\Users\\saiak\\.conda\\envs\\ift6758-conda-env\\lib\\site-packages\\sklearn\\utils\\deprecation.py:103: FutureWarning: The `grid_scores_` attribute is deprecated in version 1.0 in favor of `cv_results_` and will be removed in version 1.2.\n",
      "  warnings.warn(msg, category=FutureWarning)\n"
     ]
    },
    {
     "data": {
      "image/png": "[encoded data removed]",
      "text/plain": [
       "<Figure size 432x288 with 1 Axes>"
      ]
     },
     "metadata": {
      "needs_background": "light"
     },
     "output_type": "display_data"
    }
   ],
   "source": [
    "# Reference: https://www.kaggle.com/attackgnome/basic-feature-benchmark-rfecv-xgboost\n",
    "# choose estimator/model type for Recursive feature elimination and cross valiation\n",
    "experiment = \"xgbase-allfeatures\"\n",
    "\n",
    "#obtaining default parameters by calling .fit() to XGBoost model instance\n",
    "estimator = xgb.XGBClassifier(objective='binary:logistic',\n",
    "                         enable_categorical=1,\n",
    "                          booster='gbtree',\n",
    "                          eval_metric='auc',\n",
    "                          tree_method='gpu_hist',\n",
    "                          grow_policy='lossguide',\n",
    "                          use_label_encoder=False,\n",
    "                        )\n",
    "selector = RFECV(estimator, step=1, min_features_to_select=1, cv=10, scoring='roc_auc',verbose=1,n_jobs=4)\n",
    "\n",
    "#fit the model, get a rank of the variables, and a matrix of the selected X variables\n",
    "Xtrainfloats = Xtrain.drop(categories,axis=1)\n",
    "selector = selector.fit(Xtrainfloats, Ytrain.values.flatten())\n",
    "\n"
   ]
  },
  {
   "cell_type": "markdown",
   "metadata": {},
   "source": [
    "## Recursive feature Elimination"
   ]
  },
  {
   "cell_type": "code",
   "execution_count": 26,
   "metadata": {},
   "outputs": [
    {
     "name": "stderr",
     "output_type": "stream",
     "text": [
      "C:\\Users\\saiak\\.conda\\envs\\ift6758-conda-env\\lib\\site-packages\\sklearn\\utils\\deprecation.py:103: FutureWarning: The `grid_scores_` attribute is deprecated in version 1.0 in favor of `cv_results_` and will be removed in version 1.2.\n",
      "  warnings.warn(msg, category=FutureWarning)\n"
     ]
    },
    {
     "data": {
      "image/png": "[encoded data removed]",
      "text/plain": [
       "<Figure size 432x288 with 1 Axes>"
      ]
     },
     "metadata": {
      "needs_background": "light"
     },
     "output_type": "display_data"
    }
   ],
   "source": [
    "\n",
    "#PLot # of features selected vs. Model Score\n",
    "import matplotlib.pyplot as plt\n",
    "plt.figure()\n",
    "plt.title('XGB CV score vs No of Features')\n",
    "plt.xlabel(\"Number of features selected\")\n",
    "plt.ylabel(\"Neg Mean Squared Error\")\n",
    "plt.plot(range(1, len(selector.grid_scores_) + 1), selector.grid_scores_)\n",
    "if COMET:\n",
    "    comet_exp.log_figure(figure=plt)\n",
    "plt.show()\n",
    "\n",
    "#get rank of X model features\n",
    "rank = selector.ranking_\n"
   ]
  },
  {
   "cell_type": "code",
   "execution_count": 32,
   "metadata": {},
   "outputs": [
    {
     "data": {
      "text/plain": [
       "Index(['totalGameSeconds', 'timeFromLastEvent', 'shotAngle', 'coordinatesY',\n",
       "       'shotDistance', 'lastEventCoordinatesY', 'speed', 'changeInShotAngle'],\n",
       "      dtype='object')"
      ]
     },
     "execution_count": 32,
     "metadata": {},
     "output_type": "execute_result"
    }
   ],
   "source": [
    "Xtrainfloats.columns[selector.support_]"
   ]
  },
  {
   "cell_type": "code",
   "execution_count": 33,
   "metadata": {},
   "outputs": [
    {
     "name": "stdout",
     "output_type": "stream",
     "text": [
      "Index(['gameSeconds', 'coordinatesX', 'lastEventCoordinatesX',\n",
      "       'distanceFromLastEvent'],\n",
      "      dtype='object')\n"
     ]
    }
   ],
   "source": [
    "dropColumns = Xtrainfloats.columns[np.logical_not(selector.support_)]\n",
    "print(dropColumns)"
   ]
  },
  {
   "cell_type": "code",
   "execution_count": 44,
   "metadata": {},
   "outputs": [
    {
     "name": "stderr",
     "output_type": "stream",
     "text": [
      "C:\\Users\\saiak\\.conda\\envs\\ift6758-conda-env\\lib\\site-packages\\xgboost\\training.py:17: UserWarning: Old style callback is deprecated.  See: https://xgboost.readthedocs.io/en/latest/python/callbacks.html\n",
      "  warnings.warn(f'Old style callback is deprecated.  See: {link}', UserWarning)\n"
     ]
    },
    {
     "data": {
      "text/plain": [
       "XGBClassifier(base_score=0.5, booster='gbtree', colsample_bylevel=1,\n",
       "              colsample_bynode=1, colsample_bytree=1, enable_categorical=1,\n",
       "              eval_metric='auc', gamma=0, gpu_id=0, grow_policy='lossguide',\n",
       "              importance_type=None, interaction_constraints='',\n",
       "              learning_rate=0.300000012, max_delta_step=0, max_depth=6,\n",
       "              min_child_weight=1, missing=nan, monotone_constraints='()',\n",
       "              n_estimators=100, n_jobs=12, num_parallel_tree=1,\n",
       "              predictor='auto', random_state=0, reg_alpha=0, reg_lambda=1,\n",
       "              scale_pos_weight=1, subsample=1, tree_method='gpu_hist',\n",
       "              use_label_encoder=False, validate_parameters=1, ...)"
      ]
     },
     "execution_count": 44,
     "metadata": {},
     "output_type": "execute_result"
    }
   ],
   "source": [
    "#obtaining default parameters by calling .fit() to XGBoost model instance\n",
    "estimator = xgb.XGBClassifier(objective='binary:logistic',\n",
    "                         enable_categorical=1,\n",
    "                          booster='gbtree',\n",
    "                          eval_metric='auc',\n",
    "                          tree_method='gpu_hist',\n",
    "                          grow_policy='lossguide',\n",
    "                          use_label_encoder=False,\n",
    "                        )\n",
    "estimator.fit(Xtrain, Ytrain.values.flatten())\n"
   ]
  },
  {
   "cell_type": "code",
   "execution_count": 46,
   "metadata": {},
   "outputs": [],
   "source": [
    "feature_scores = pd.Series(estimator.feature_importances_, index=Xtrain.columns).sort_values(ascending=False)\n"
   ]
  },
  {
   "cell_type": "code",
   "execution_count": 47,
   "metadata": {},
   "outputs": [
    {
     "data": {
      "image/png": "[encoded data removed]",
      "text/plain": [
       "<Figure size 2160x1728 with 1 Axes>"
      ]
     },
     "metadata": {
      "needs_background": "light"
     },
     "output_type": "display_data"
    }
   ],
   "source": [
    "# Creating a seaborn bar plot\n",
    "import seaborn as sns\n",
    "f, ax = plt.subplots(figsize=(30, 24))\n",
    "ax = sns.barplot(x=feature_scores, y=feature_scores.index, data=df)\n",
    "ax.set_title(\"Visualize feature scores of the features\")\n",
    "ax.set_yticklabels(feature_scores.index)\n",
    "ax.set_xlabel(\"Feature importance score\")\n",
    "ax.set_ylabel(\"Features\")\n",
    "if COMET:\n",
    "    comet_exp.log_figure(figure=plt)\n",
    "plt.show()"
   ]
  },
  {
   "cell_type": "code",
   "execution_count": 48,
   "metadata": {},
   "outputs": [
    {
     "name": "stderr",
     "output_type": "stream",
     "text": [
      "C:\\Users\\saiak\\.conda\\envs\\ift6758-conda-env\\lib\\site-packages\\xgboost\\training.py:17: UserWarning: Old style callback is deprecated.  See: https://xgboost.readthedocs.io/en/latest/python/callbacks.html\n",
      "  warnings.warn(f'Old style callback is deprecated.  See: {link}', UserWarning)\n"
     ]
    },
    {
     "name": "stdout",
     "output_type": "stream",
     "text": [
      "Fitting 3 folds for each of 1 candidates, totalling 3 fits\n"
     ]
    },
    {
     "name": "stderr",
     "output_type": "stream",
     "text": [
      "C:\\Users\\saiak\\.conda\\envs\\ift6758-conda-env\\lib\\site-packages\\xgboost\\training.py:17: UserWarning: Old style callback is deprecated.  See: https://xgboost.readthedocs.io/en/latest/python/callbacks.html\n",
      "  warnings.warn(f'Old style callback is deprecated.  See: {link}', UserWarning)\n",
      "C:\\Users\\saiak\\.conda\\envs\\ift6758-conda-env\\lib\\site-packages\\xgboost\\training.py:17: UserWarning: Old style callback is deprecated.  See: https://xgboost.readthedocs.io/en/latest/python/callbacks.html\n",
      "  warnings.warn(f'Old style callback is deprecated.  See: {link}', UserWarning)\n",
      "C:\\Users\\saiak\\.conda\\envs\\ift6758-conda-env\\lib\\site-packages\\xgboost\\training.py:17: UserWarning: Old style callback is deprecated.  See: https://xgboost.readthedocs.io/en/latest/python/callbacks.html\n",
      "  warnings.warn(f'Old style callback is deprecated.  See: {link}', UserWarning)\n",
      "C:\\Users\\saiak\\.conda\\envs\\ift6758-conda-env\\lib\\site-packages\\xgboost\\training.py:17: UserWarning: Old style callback is deprecated.  See: https://xgboost.readthedocs.io/en/latest/python/callbacks.html\n",
      "  warnings.warn(f'Old style callback is deprecated.  See: {link}', UserWarning)\n"
     ]
    }
   ],
   "source": [
    "# To Be Done for Best Shot\n",
    "### Apply XGB on features from FE2\n",
    "#dictionary for collecting results\n",
    "results_dict = {}\n",
    "experiment = \"xgbase-allfeatures\"\n",
    "\n",
    "#obtaining default parameters by calling .fit() to XGBoost model instance\n",
    "xgb2 = xgb.XGBClassifier(objective='binary:logistic',\n",
    "                         enable_categorical=1,\n",
    "                          booster='gbtree',\n",
    "                          eval_metric='auc',\n",
    "                          tree_method='gpu_hist',\n",
    "                          grow_policy='lossguide',\n",
    "                          use_label_encoder=False,\n",
    "                        )\n",
    "xgb2.fit(Xtrain, Ytrain)\n",
    "\n",
    "#extracting default parameters from benchmark model\n",
    "default_params = {}\n",
    "gparams = xgb2.get_params()\n",
    "\n",
    "#default parameters have to be wrapped in lists - even single values - so GridSearchCV can take them as inputs\n",
    "for key in gparams.keys():\n",
    "    gp = gparams[key]\n",
    "    default_params[key] = [gp]\n",
    "\n",
    "#benchmark model. Grid search is not performed, since only single values are provided as parameter grid.\n",
    "#However, cross-validation is still executed\n",
    "clf0 = GridSearchCV(estimator=xgb2, scoring='roc_auc', param_grid=default_params, return_train_score=True, verbose=1, cv=3)\n",
    "clf0.fit(Xtrain, Ytrain.values.ravel())\n",
    "\n",
    "#results dataframe\n",
    "df = pd.DataFrame(clf0.cv_results_)\n",
    "\n",
    "#best parameters\n",
    "bp = clf0.best_params_\n",
    "\n",
    "#storing computed values in results dictionary\n",
    "results_dict[experiment] = {'iterable_parameter': np.nan,\n",
    "                         'classifier': deepcopy(clf0),\n",
    "                         'cv_results': df.copy(),\n",
    "                         'best_params': bp}\n",
    "\n",
    "\n",
    "y_pred_val  = clf0.predict(Xval)\n",
    "y_pred_val_scores = clf0.predict_proba(Xval)[:,1]\n"
   ]
  },
  {
   "cell_type": "code",
   "execution_count": 49,
   "metadata": {},
   "outputs": [
    {
     "data": {
      "text/plain": [
       "['../ift6758/models/weights//xgbase-allfeatures-yearvalidation.pkl']"
      ]
     },
     "execution_count": 49,
     "metadata": {},
     "output_type": "execute_result"
    }
   ],
   "source": [
    "## Dumping model\n",
    "filename=f\"{weights_dir}/{experiment}-yearvalidation.pkl\"\n",
    "joblib.dump(clf0,filename)\n"
   ]
  },
  {
   "cell_type": "code",
   "execution_count": 55,
   "metadata": {},
   "outputs": [],
   "source": [
    "if COMET:\n",
    "    comet_exp.log_model(experiment, f\"{weights_dir}/{experiment}-yearvalidation.pkl\")"
   ]
  },
  {
   "cell_type": "code",
   "execution_count": 53,
   "metadata": {},
   "outputs": [
    {
     "name": "stdout",
     "output_type": "stream",
     "text": [
      "              precision    recall  f1-score   support\n",
      "\n",
      "           0       0.91      1.00      0.95     70480\n",
      "           1       0.51      0.05      0.08      7297\n",
      "\n",
      "    accuracy                           0.91     77777\n",
      "   macro avg       0.71      0.52      0.52     77777\n",
      "weighted avg       0.87      0.91      0.87     77777\n",
      "\n"
     ]
    },
    {
     "data": {
      "image/png": "[encoded data removed]",
      "text/plain": [
       "<Figure size 720x360 with 2 Axes>"
      ]
     },
     "metadata": {
      "needs_background": "light"
     },
     "output_type": "display_data"
    },
    {
     "data": {
      "image/png": "[encoded data removed]",
      "text/plain": [
       "<Figure size 432x288 with 1 Axes>"
      ]
     },
     "metadata": {
      "needs_background": "light"
     },
     "output_type": "display_data"
    },
    {
     "data": {
      "image/png": "[encoded data removed]",
      "text/plain": [
       "<Figure size 1080x540 with 2 Axes>"
      ]
     },
     "metadata": {
      "needs_background": "light"
     },
     "output_type": "display_data"
    },
    {
     "data": {
      "image/png": "[encoded data removed]",
      "text/plain": [
       "<Figure size 540x540 with 1 Axes>"
      ]
     },
     "metadata": {
      "needs_background": "light"
     },
     "output_type": "display_data"
    }
   ],
   "source": [
    "\n",
    "plot_metrics.plotConfusion(Yval,y_pred_val,title=experiment)\n",
    "if COMET:\n",
    "    comet_exp.log_figure(figure=plt)\n",
    "plot_metrics.plot_roc([Yval],[y_pred_val_scores],plot_labels=[experiment])\n",
    "if COMET:\n",
    "    comet_exp.log_figure(figure=plt)\n",
    "plot_metrics.plot_percentile([Yval],[y_pred_val_scores],plot_labels=[experiment],bin_width=5)\n",
    "if COMET:\n",
    "    comet_exp.log_figure(figure=plt)\n",
    "plot_metrics.plot_calibration([Yval],[y_pred_val_scores],plot_labels=[experiment],n_bins=50)\n",
    "if COMET:\n",
    "    comet_exp.log_figure(figure=plt)\n",
    "\n",
    "\n"
   ]
  },
  {
   "cell_type": "code",
   "execution_count": 54,
   "metadata": {},
   "outputs": [],
   "source": [
    "\n",
    "from sklearn.model_selection import StratifiedKFold\n"
   ]
  },
  {
   "cell_type": "code",
   "execution_count": 113,
   "metadata": {},
   "outputs": [
    {
     "name": "stdout",
     "output_type": "stream",
     "text": [
      "Fitting 3 folds for each of 1 candidates, totalling 3 fits\n"
     ]
    },
    {
     "name": "stderr",
     "output_type": "stream",
     "text": [
      "C:\\Users\\saiak\\.conda\\envs\\ift6758-conda-env\\lib\\site-packages\\xgboost\\training.py:17: UserWarning:\n",
      "\n",
      "Old style callback is deprecated.  See: https://xgboost.readthedocs.io/en/latest/python/callbacks.html\n",
      "\n"
     ]
    },
    {
     "name": "stdout",
     "output_type": "stream",
     "text": [
      "[CV 1/3] END gamma=200.0, learning_rate=0.3, max_depth=14, n_estimators=115;, score=(train=0.732, test=0.727) total time=   0.5s\n"
     ]
    },
    {
     "name": "stderr",
     "output_type": "stream",
     "text": [
      "C:\\Users\\saiak\\.conda\\envs\\ift6758-conda-env\\lib\\site-packages\\xgboost\\training.py:17: UserWarning:\n",
      "\n",
      "Old style callback is deprecated.  See: https://xgboost.readthedocs.io/en/latest/python/callbacks.html\n",
      "\n"
     ]
    },
    {
     "name": "stdout",
     "output_type": "stream",
     "text": [
      "[CV 2/3] END gamma=200.0, learning_rate=0.3, max_depth=14, n_estimators=115;, score=(train=0.732, test=0.733) total time=   0.6s\n"
     ]
    },
    {
     "name": "stderr",
     "output_type": "stream",
     "text": [
      "C:\\Users\\saiak\\.conda\\envs\\ift6758-conda-env\\lib\\site-packages\\xgboost\\training.py:17: UserWarning:\n",
      "\n",
      "Old style callback is deprecated.  See: https://xgboost.readthedocs.io/en/latest/python/callbacks.html\n",
      "\n"
     ]
    },
    {
     "name": "stdout",
     "output_type": "stream",
     "text": [
      "[CV 3/3] END gamma=200.0, learning_rate=0.3, max_depth=14, n_estimators=115;, score=(train=0.730, test=0.729) total time=   0.5s\n",
      "Fitting 3 folds for each of 1 candidates, totalling 3 fits\n"
     ]
    },
    {
     "name": "stderr",
     "output_type": "stream",
     "text": [
      "C:\\Users\\saiak\\.conda\\envs\\ift6758-conda-env\\lib\\site-packages\\xgboost\\training.py:17: UserWarning:\n",
      "\n",
      "Old style callback is deprecated.  See: https://xgboost.readthedocs.io/en/latest/python/callbacks.html\n",
      "\n"
     ]
    },
    {
     "name": "stdout",
     "output_type": "stream",
     "text": [
      "[CV 1/3] END gamma=3.2, learning_rate=0.7, max_depth=7, n_estimators=130;, score=(train=0.798, test=0.756) total time=   0.6s\n"
     ]
    },
    {
     "name": "stderr",
     "output_type": "stream",
     "text": [
      "C:\\Users\\saiak\\.conda\\envs\\ift6758-conda-env\\lib\\site-packages\\xgboost\\training.py:17: UserWarning:\n",
      "\n",
      "Old style callback is deprecated.  See: https://xgboost.readthedocs.io/en/latest/python/callbacks.html\n",
      "\n"
     ]
    },
    {
     "name": "stdout",
     "output_type": "stream",
     "text": [
      "[CV 2/3] END gamma=3.2, learning_rate=0.7, max_depth=7, n_estimators=130;, score=(train=0.805, test=0.751) total time=   0.6s\n"
     ]
    },
    {
     "name": "stderr",
     "output_type": "stream",
     "text": [
      "C:\\Users\\saiak\\.conda\\envs\\ift6758-conda-env\\lib\\site-packages\\xgboost\\training.py:17: UserWarning:\n",
      "\n",
      "Old style callback is deprecated.  See: https://xgboost.readthedocs.io/en/latest/python/callbacks.html\n",
      "\n"
     ]
    },
    {
     "name": "stdout",
     "output_type": "stream",
     "text": [
      "[CV 3/3] END gamma=3.2, learning_rate=0.7, max_depth=7, n_estimators=130;, score=(train=0.806, test=0.746) total time=   0.7s\n",
      "Fitting 3 folds for each of 1 candidates, totalling 3 fits\n"
     ]
    },
    {
     "name": "stderr",
     "output_type": "stream",
     "text": [
      "C:\\Users\\saiak\\.conda\\envs\\ift6758-conda-env\\lib\\site-packages\\xgboost\\training.py:17: UserWarning:\n",
      "\n",
      "Old style callback is deprecated.  See: https://xgboost.readthedocs.io/en/latest/python/callbacks.html\n",
      "\n"
     ]
    },
    {
     "name": "stdout",
     "output_type": "stream",
     "text": [
      "[CV 1/3] END gamma=0.1, learning_rate=0.15, max_depth=11, n_estimators=65;, score=(train=0.935, test=0.751) total time=   4.8s\n"
     ]
    },
    {
     "name": "stderr",
     "output_type": "stream",
     "text": [
      "C:\\Users\\saiak\\.conda\\envs\\ift6758-conda-env\\lib\\site-packages\\xgboost\\training.py:17: UserWarning:\n",
      "\n",
      "Old style callback is deprecated.  See: https://xgboost.readthedocs.io/en/latest/python/callbacks.html\n",
      "\n"
     ]
    },
    {
     "name": "stdout",
     "output_type": "stream",
     "text": [
      "[CV 2/3] END gamma=0.1, learning_rate=0.15, max_depth=11, n_estimators=65;, score=(train=0.934, test=0.751) total time=   4.7s\n"
     ]
    },
    {
     "name": "stderr",
     "output_type": "stream",
     "text": [
      "C:\\Users\\saiak\\.conda\\envs\\ift6758-conda-env\\lib\\site-packages\\xgboost\\training.py:17: UserWarning:\n",
      "\n",
      "Old style callback is deprecated.  See: https://xgboost.readthedocs.io/en/latest/python/callbacks.html\n",
      "\n"
     ]
    },
    {
     "name": "stdout",
     "output_type": "stream",
     "text": [
      "[CV 3/3] END gamma=0.1, learning_rate=0.15, max_depth=11, n_estimators=65;, score=(train=0.934, test=0.754) total time=   4.7s\n",
      "Fitting 3 folds for each of 1 candidates, totalling 3 fits\n"
     ]
    },
    {
     "name": "stderr",
     "output_type": "stream",
     "text": [
      "C:\\Users\\saiak\\.conda\\envs\\ift6758-conda-env\\lib\\site-packages\\xgboost\\training.py:17: UserWarning:\n",
      "\n",
      "Old style callback is deprecated.  See: https://xgboost.readthedocs.io/en/latest/python/callbacks.html\n",
      "\n"
     ]
    },
    {
     "name": "stdout",
     "output_type": "stream",
     "text": [
      "[CV 1/3] END gamma=102.4, learning_rate=0.2, max_depth=9, n_estimators=65;, score=(train=0.742, test=0.741) total time=   0.3s\n"
     ]
    },
    {
     "name": "stderr",
     "output_type": "stream",
     "text": [
      "C:\\Users\\saiak\\.conda\\envs\\ift6758-conda-env\\lib\\site-packages\\xgboost\\training.py:17: UserWarning:\n",
      "\n",
      "Old style callback is deprecated.  See: https://xgboost.readthedocs.io/en/latest/python/callbacks.html\n",
      "\n"
     ]
    },
    {
     "name": "stdout",
     "output_type": "stream",
     "text": [
      "[CV 2/3] END gamma=102.4, learning_rate=0.2, max_depth=9, n_estimators=65;, score=(train=0.739, test=0.738) total time=   0.3s\n"
     ]
    },
    {
     "name": "stderr",
     "output_type": "stream",
     "text": [
      "C:\\Users\\saiak\\.conda\\envs\\ift6758-conda-env\\lib\\site-packages\\xgboost\\training.py:17: UserWarning:\n",
      "\n",
      "Old style callback is deprecated.  See: https://xgboost.readthedocs.io/en/latest/python/callbacks.html\n",
      "\n"
     ]
    },
    {
     "name": "stdout",
     "output_type": "stream",
     "text": [
      "[CV 3/3] END gamma=102.4, learning_rate=0.2, max_depth=9, n_estimators=65;, score=(train=0.742, test=0.736) total time=   0.4s\n",
      "Fitting 3 folds for each of 1 candidates, totalling 3 fits\n"
     ]
    },
    {
     "name": "stderr",
     "output_type": "stream",
     "text": [
      "C:\\Users\\saiak\\.conda\\envs\\ift6758-conda-env\\lib\\site-packages\\xgboost\\training.py:17: UserWarning:\n",
      "\n",
      "Old style callback is deprecated.  See: https://xgboost.readthedocs.io/en/latest/python/callbacks.html\n",
      "\n"
     ]
    },
    {
     "name": "stdout",
     "output_type": "stream",
     "text": [
      "[CV 1/3] END gamma=0.1, learning_rate=0.06, max_depth=10, n_estimators=80;, score=(train=0.865, test=0.758) total time=   5.2s\n"
     ]
    },
    {
     "name": "stderr",
     "output_type": "stream",
     "text": [
      "C:\\Users\\saiak\\.conda\\envs\\ift6758-conda-env\\lib\\site-packages\\xgboost\\training.py:17: UserWarning:\n",
      "\n",
      "Old style callback is deprecated.  See: https://xgboost.readthedocs.io/en/latest/python/callbacks.html\n",
      "\n"
     ]
    },
    {
     "name": "stdout",
     "output_type": "stream",
     "text": [
      "[CV 2/3] END gamma=0.1, learning_rate=0.06, max_depth=10, n_estimators=80;, score=(train=0.867, test=0.755) total time=   5.7s\n"
     ]
    },
    {
     "name": "stderr",
     "output_type": "stream",
     "text": [
      "C:\\Users\\saiak\\.conda\\envs\\ift6758-conda-env\\lib\\site-packages\\xgboost\\training.py:17: UserWarning:\n",
      "\n",
      "Old style callback is deprecated.  See: https://xgboost.readthedocs.io/en/latest/python/callbacks.html\n",
      "\n"
     ]
    },
    {
     "name": "stdout",
     "output_type": "stream",
     "text": [
      "[CV 3/3] END gamma=0.1, learning_rate=0.06, max_depth=10, n_estimators=80;, score=(train=0.866, test=0.764) total time=   5.8s\n",
      "Fitting 3 folds for each of 1 candidates, totalling 3 fits\n"
     ]
    },
    {
     "name": "stderr",
     "output_type": "stream",
     "text": [
      "C:\\Users\\saiak\\.conda\\envs\\ift6758-conda-env\\lib\\site-packages\\xgboost\\training.py:17: UserWarning:\n",
      "\n",
      "Old style callback is deprecated.  See: https://xgboost.readthedocs.io/en/latest/python/callbacks.html\n",
      "\n"
     ]
    },
    {
     "name": "stdout",
     "output_type": "stream",
     "text": [
      "[CV 1/3] END gamma=102.4, learning_rate=0.3, max_depth=9, n_estimators=100;, score=(train=0.742, test=0.739) total time=   0.5s\n"
     ]
    },
    {
     "name": "stderr",
     "output_type": "stream",
     "text": [
      "C:\\Users\\saiak\\.conda\\envs\\ift6758-conda-env\\lib\\site-packages\\xgboost\\training.py:17: UserWarning:\n",
      "\n",
      "Old style callback is deprecated.  See: https://xgboost.readthedocs.io/en/latest/python/callbacks.html\n",
      "\n"
     ]
    },
    {
     "name": "stdout",
     "output_type": "stream",
     "text": [
      "[CV 2/3] END gamma=102.4, learning_rate=0.3, max_depth=9, n_estimators=100;, score=(train=0.738, test=0.742) total time=   0.5s\n"
     ]
    },
    {
     "name": "stderr",
     "output_type": "stream",
     "text": [
      "C:\\Users\\saiak\\.conda\\envs\\ift6758-conda-env\\lib\\site-packages\\xgboost\\training.py:17: UserWarning:\n",
      "\n",
      "Old style callback is deprecated.  See: https://xgboost.readthedocs.io/en/latest/python/callbacks.html\n",
      "\n"
     ]
    },
    {
     "name": "stdout",
     "output_type": "stream",
     "text": [
      "[CV 3/3] END gamma=102.4, learning_rate=0.3, max_depth=9, n_estimators=100;, score=(train=0.743, test=0.737) total time=   0.5s\n",
      "Fitting 3 folds for each of 1 candidates, totalling 3 fits\n"
     ]
    },
    {
     "name": "stderr",
     "output_type": "stream",
     "text": [
      "C:\\Users\\saiak\\.conda\\envs\\ift6758-conda-env\\lib\\site-packages\\xgboost\\training.py:17: UserWarning:\n",
      "\n",
      "Old style callback is deprecated.  See: https://xgboost.readthedocs.io/en/latest/python/callbacks.html\n",
      "\n"
     ]
    },
    {
     "name": "stdout",
     "output_type": "stream",
     "text": [
      "[CV 1/3] END gamma=6.4, learning_rate=0.1, max_depth=7, n_estimators=115;, score=(train=0.786, test=0.761) total time=   1.1s\n"
     ]
    },
    {
     "name": "stderr",
     "output_type": "stream",
     "text": [
      "C:\\Users\\saiak\\.conda\\envs\\ift6758-conda-env\\lib\\site-packages\\xgboost\\training.py:17: UserWarning:\n",
      "\n",
      "Old style callback is deprecated.  See: https://xgboost.readthedocs.io/en/latest/python/callbacks.html\n",
      "\n"
     ]
    },
    {
     "name": "stdout",
     "output_type": "stream",
     "text": [
      "[CV 2/3] END gamma=6.4, learning_rate=0.1, max_depth=7, n_estimators=115;, score=(train=0.784, test=0.762) total time=   1.0s\n"
     ]
    },
    {
     "name": "stderr",
     "output_type": "stream",
     "text": [
      "C:\\Users\\saiak\\.conda\\envs\\ift6758-conda-env\\lib\\site-packages\\xgboost\\training.py:17: UserWarning:\n",
      "\n",
      "Old style callback is deprecated.  See: https://xgboost.readthedocs.io/en/latest/python/callbacks.html\n",
      "\n"
     ]
    },
    {
     "name": "stdout",
     "output_type": "stream",
     "text": [
      "[CV 3/3] END gamma=6.4, learning_rate=0.1, max_depth=7, n_estimators=115;, score=(train=0.784, test=0.761) total time=   0.9s\n",
      "Fitting 3 folds for each of 1 candidates, totalling 3 fits\n"
     ]
    },
    {
     "name": "stderr",
     "output_type": "stream",
     "text": [
      "C:\\Users\\saiak\\.conda\\envs\\ift6758-conda-env\\lib\\site-packages\\xgboost\\training.py:17: UserWarning:\n",
      "\n",
      "Old style callback is deprecated.  See: https://xgboost.readthedocs.io/en/latest/python/callbacks.html\n",
      "\n"
     ]
    },
    {
     "name": "stdout",
     "output_type": "stream",
     "text": [
      "[CV 1/3] END gamma=51.2, learning_rate=0.03, max_depth=11, n_estimators=115;, score=(train=0.748, test=0.744) total time=   0.7s\n"
     ]
    },
    {
     "name": "stderr",
     "output_type": "stream",
     "text": [
      "C:\\Users\\saiak\\.conda\\envs\\ift6758-conda-env\\lib\\site-packages\\xgboost\\training.py:17: UserWarning:\n",
      "\n",
      "Old style callback is deprecated.  See: https://xgboost.readthedocs.io/en/latest/python/callbacks.html\n",
      "\n"
     ]
    },
    {
     "name": "stdout",
     "output_type": "stream",
     "text": [
      "[CV 2/3] END gamma=51.2, learning_rate=0.03, max_depth=11, n_estimators=115;, score=(train=0.748, test=0.742) total time=   0.8s\n"
     ]
    },
    {
     "name": "stderr",
     "output_type": "stream",
     "text": [
      "C:\\Users\\saiak\\.conda\\envs\\ift6758-conda-env\\lib\\site-packages\\xgboost\\training.py:17: UserWarning:\n",
      "\n",
      "Old style callback is deprecated.  See: https://xgboost.readthedocs.io/en/latest/python/callbacks.html\n",
      "\n"
     ]
    },
    {
     "name": "stdout",
     "output_type": "stream",
     "text": [
      "[CV 3/3] END gamma=51.2, learning_rate=0.03, max_depth=11, n_estimators=115;, score=(train=0.747, test=0.745) total time=   0.8s\n",
      "Fitting 3 folds for each of 1 candidates, totalling 3 fits\n"
     ]
    },
    {
     "name": "stderr",
     "output_type": "stream",
     "text": [
      "C:\\Users\\saiak\\.conda\\envs\\ift6758-conda-env\\lib\\site-packages\\xgboost\\training.py:17: UserWarning:\n",
      "\n",
      "Old style callback is deprecated.  See: https://xgboost.readthedocs.io/en/latest/python/callbacks.html\n",
      "\n"
     ]
    },
    {
     "name": "stdout",
     "output_type": "stream",
     "text": [
      "[CV 1/3] END gamma=0.4, learning_rate=0.2, max_depth=9, n_estimators=150;, score=(train=0.931, test=0.746) total time=   3.6s\n"
     ]
    },
    {
     "name": "stderr",
     "output_type": "stream",
     "text": [
      "C:\\Users\\saiak\\.conda\\envs\\ift6758-conda-env\\lib\\site-packages\\xgboost\\training.py:17: UserWarning:\n",
      "\n",
      "Old style callback is deprecated.  See: https://xgboost.readthedocs.io/en/latest/python/callbacks.html\n",
      "\n"
     ]
    },
    {
     "name": "stdout",
     "output_type": "stream",
     "text": [
      "[CV 2/3] END gamma=0.4, learning_rate=0.2, max_depth=9, n_estimators=150;, score=(train=0.927, test=0.750) total time=   3.6s\n"
     ]
    },
    {
     "name": "stderr",
     "output_type": "stream",
     "text": [
      "C:\\Users\\saiak\\.conda\\envs\\ift6758-conda-env\\lib\\site-packages\\xgboost\\training.py:17: UserWarning:\n",
      "\n",
      "Old style callback is deprecated.  See: https://xgboost.readthedocs.io/en/latest/python/callbacks.html\n",
      "\n",
      "COMET ERROR: Failed to extract parameters from estimator\n"
     ]
    },
    {
     "name": "stdout",
     "output_type": "stream",
     "text": [
      "[CV 3/3] END gamma=0.4, learning_rate=0.2, max_depth=9, n_estimators=150;, score=(train=0.931, test=0.747) total time=   3.5s\n",
      "Fitting 3 folds for each of 1 candidates, totalling 3 fits\n"
     ]
    },
    {
     "name": "stderr",
     "output_type": "stream",
     "text": [
      "C:\\Users\\saiak\\.conda\\envs\\ift6758-conda-env\\lib\\site-packages\\xgboost\\training.py:17: UserWarning:\n",
      "\n",
      "Old style callback is deprecated.  See: https://xgboost.readthedocs.io/en/latest/python/callbacks.html\n",
      "\n"
     ]
    },
    {
     "name": "stdout",
     "output_type": "stream",
     "text": [
      "[CV 1/3] END gamma=6.4, learning_rate=0.3, max_depth=14, n_estimators=150;, score=(train=0.803, test=0.757) total time=   0.9s\n"
     ]
    },
    {
     "name": "stderr",
     "output_type": "stream",
     "text": [
      "C:\\Users\\saiak\\.conda\\envs\\ift6758-conda-env\\lib\\site-packages\\xgboost\\training.py:17: UserWarning:\n",
      "\n",
      "Old style callback is deprecated.  See: https://xgboost.readthedocs.io/en/latest/python/callbacks.html\n",
      "\n"
     ]
    },
    {
     "name": "stdout",
     "output_type": "stream",
     "text": [
      "[CV 2/3] END gamma=6.4, learning_rate=0.3, max_depth=14, n_estimators=150;, score=(train=0.797, test=0.761) total time=   0.8s\n"
     ]
    },
    {
     "name": "stderr",
     "output_type": "stream",
     "text": [
      "C:\\Users\\saiak\\.conda\\envs\\ift6758-conda-env\\lib\\site-packages\\xgboost\\training.py:17: UserWarning:\n",
      "\n",
      "Old style callback is deprecated.  See: https://xgboost.readthedocs.io/en/latest/python/callbacks.html\n",
      "\n",
      "COMET ERROR: Failed to extract parameters from estimator\n",
      "COMET ERROR: Failed to extract parameters from estimator\n"
     ]
    },
    {
     "name": "stdout",
     "output_type": "stream",
     "text": [
      "[CV 3/3] END gamma=6.4, learning_rate=0.3, max_depth=14, n_estimators=150;, score=(train=0.802, test=0.759) total time=   0.9s\n"
     ]
    },
    {
     "name": "stderr",
     "output_type": "stream",
     "text": [
      "COMET ERROR: Failed to extract parameters from estimator\n",
      "COMET ERROR: Failed to extract parameters from estimator\n",
      "COMET ERROR: Failed to extract parameters from estimator\n",
      "COMET ERROR: Failed to extract parameters from estimator\n"
     ]
    },
    {
     "name": "stdout",
     "output_type": "stream",
     "text": [
      "Fitting 3 folds for each of 1 candidates, totalling 3 fits\n"
     ]
    },
    {
     "name": "stderr",
     "output_type": "stream",
     "text": [
      "C:\\Users\\saiak\\.conda\\envs\\ift6758-conda-env\\lib\\site-packages\\xgboost\\training.py:17: UserWarning:\n",
      "\n",
      "Old style callback is deprecated.  See: https://xgboost.readthedocs.io/en/latest/python/callbacks.html\n",
      "\n"
     ]
    },
    {
     "name": "stdout",
     "output_type": "stream",
     "text": [
      "[CV 1/3] END gamma=12.8, learning_rate=0.5, max_depth=5, n_estimators=115;, score=(train=0.766, test=0.756) total time=   0.5s\n"
     ]
    },
    {
     "name": "stderr",
     "output_type": "stream",
     "text": [
      "C:\\Users\\saiak\\.conda\\envs\\ift6758-conda-env\\lib\\site-packages\\xgboost\\training.py:17: UserWarning:\n",
      "\n",
      "Old style callback is deprecated.  See: https://xgboost.readthedocs.io/en/latest/python/callbacks.html\n",
      "\n"
     ]
    },
    {
     "name": "stdout",
     "output_type": "stream",
     "text": [
      "[CV 2/3] END gamma=12.8, learning_rate=0.5, max_depth=5, n_estimators=115;, score=(train=0.766, test=0.756) total time=   0.5s\n"
     ]
    },
    {
     "name": "stderr",
     "output_type": "stream",
     "text": [
      "C:\\Users\\saiak\\.conda\\envs\\ift6758-conda-env\\lib\\site-packages\\xgboost\\training.py:17: UserWarning:\n",
      "\n",
      "Old style callback is deprecated.  See: https://xgboost.readthedocs.io/en/latest/python/callbacks.html\n",
      "\n",
      "COMET ERROR: Failed to extract parameters from estimator\n",
      "COMET ERROR: Failed to extract parameters from estimator\n"
     ]
    },
    {
     "name": "stdout",
     "output_type": "stream",
     "text": [
      "[CV 3/3] END gamma=12.8, learning_rate=0.5, max_depth=5, n_estimators=115;, score=(train=0.767, test=0.759) total time=   0.5s\n"
     ]
    },
    {
     "name": "stderr",
     "output_type": "stream",
     "text": [
      "COMET ERROR: Failed to extract parameters from estimator\n",
      "COMET ERROR: Failed to extract parameters from estimator\n",
      "COMET ERROR: Failed to extract parameters from estimator\n",
      "COMET ERROR: Failed to extract parameters from estimator\n"
     ]
    },
    {
     "name": "stdout",
     "output_type": "stream",
     "text": [
      "Fitting 3 folds for each of 1 candidates, totalling 3 fits\n"
     ]
    },
    {
     "name": "stderr",
     "output_type": "stream",
     "text": [
      "C:\\Users\\saiak\\.conda\\envs\\ift6758-conda-env\\lib\\site-packages\\xgboost\\training.py:17: UserWarning:\n",
      "\n",
      "Old style callback is deprecated.  See: https://xgboost.readthedocs.io/en/latest/python/callbacks.html\n",
      "\n"
     ]
    },
    {
     "name": "stdout",
     "output_type": "stream",
     "text": [
      "[CV 1/3] END gamma=6.4, learning_rate=0.5, max_depth=10, n_estimators=65;, score=(train=0.793, test=0.756) total time=   0.5s\n"
     ]
    },
    {
     "name": "stderr",
     "output_type": "stream",
     "text": [
      "C:\\Users\\saiak\\.conda\\envs\\ift6758-conda-env\\lib\\site-packages\\xgboost\\training.py:17: UserWarning:\n",
      "\n",
      "Old style callback is deprecated.  See: https://xgboost.readthedocs.io/en/latest/python/callbacks.html\n",
      "\n"
     ]
    },
    {
     "name": "stdout",
     "output_type": "stream",
     "text": [
      "[CV 2/3] END gamma=6.4, learning_rate=0.5, max_depth=10, n_estimators=65;, score=(train=0.794, test=0.756) total time=   0.5s\n"
     ]
    },
    {
     "name": "stderr",
     "output_type": "stream",
     "text": [
      "C:\\Users\\saiak\\.conda\\envs\\ift6758-conda-env\\lib\\site-packages\\xgboost\\training.py:17: UserWarning:\n",
      "\n",
      "Old style callback is deprecated.  See: https://xgboost.readthedocs.io/en/latest/python/callbacks.html\n",
      "\n",
      "COMET ERROR: Failed to extract parameters from estimator\n",
      "COMET ERROR: Failed to extract parameters from estimator\n"
     ]
    },
    {
     "name": "stdout",
     "output_type": "stream",
     "text": [
      "[CV 3/3] END gamma=6.4, learning_rate=0.5, max_depth=10, n_estimators=65;, score=(train=0.797, test=0.753) total time=   0.5s\n"
     ]
    },
    {
     "name": "stderr",
     "output_type": "stream",
     "text": [
      "COMET ERROR: Failed to extract parameters from estimator\n",
      "COMET ERROR: Failed to extract parameters from estimator\n",
      "COMET ERROR: Failed to extract parameters from estimator\n",
      "COMET ERROR: Failed to extract parameters from estimator\n"
     ]
    },
    {
     "name": "stdout",
     "output_type": "stream",
     "text": [
      "Fitting 3 folds for each of 1 candidates, totalling 3 fits\n"
     ]
    },
    {
     "name": "stderr",
     "output_type": "stream",
     "text": [
      "C:\\Users\\saiak\\.conda\\envs\\ift6758-conda-env\\lib\\site-packages\\xgboost\\training.py:17: UserWarning:\n",
      "\n",
      "Old style callback is deprecated.  See: https://xgboost.readthedocs.io/en/latest/python/callbacks.html\n",
      "\n"
     ]
    },
    {
     "name": "stdout",
     "output_type": "stream",
     "text": [
      "[CV 1/3] END gamma=1.6, learning_rate=0.25, max_depth=12, n_estimators=130;, score=(train=0.922, test=0.751) total time=   2.6s\n"
     ]
    },
    {
     "name": "stderr",
     "output_type": "stream",
     "text": [
      "C:\\Users\\saiak\\.conda\\envs\\ift6758-conda-env\\lib\\site-packages\\xgboost\\training.py:17: UserWarning:\n",
      "\n",
      "Old style callback is deprecated.  See: https://xgboost.readthedocs.io/en/latest/python/callbacks.html\n",
      "\n"
     ]
    },
    {
     "name": "stdout",
     "output_type": "stream",
     "text": [
      "[CV 2/3] END gamma=1.6, learning_rate=0.25, max_depth=12, n_estimators=130;, score=(train=0.919, test=0.747) total time=   2.6s\n"
     ]
    },
    {
     "name": "stderr",
     "output_type": "stream",
     "text": [
      "C:\\Users\\saiak\\.conda\\envs\\ift6758-conda-env\\lib\\site-packages\\xgboost\\training.py:17: UserWarning:\n",
      "\n",
      "Old style callback is deprecated.  See: https://xgboost.readthedocs.io/en/latest/python/callbacks.html\n",
      "\n",
      "COMET ERROR: Failed to extract parameters from estimator\n",
      "COMET ERROR: Failed to extract parameters from estimator\n"
     ]
    },
    {
     "name": "stdout",
     "output_type": "stream",
     "text": [
      "[CV 3/3] END gamma=1.6, learning_rate=0.25, max_depth=12, n_estimators=130;, score=(train=0.922, test=0.745) total time=   2.6s\n"
     ]
    },
    {
     "name": "stderr",
     "output_type": "stream",
     "text": [
      "COMET ERROR: Failed to extract parameters from estimator\n",
      "COMET ERROR: Failed to extract parameters from estimator\n",
      "COMET ERROR: Failed to extract parameters from estimator\n",
      "COMET ERROR: Failed to extract parameters from estimator\n"
     ]
    },
    {
     "name": "stdout",
     "output_type": "stream",
     "text": [
      "Fitting 3 folds for each of 1 candidates, totalling 3 fits\n"
     ]
    },
    {
     "name": "stderr",
     "output_type": "stream",
     "text": [
      "C:\\Users\\saiak\\.conda\\envs\\ift6758-conda-env\\lib\\site-packages\\xgboost\\training.py:17: UserWarning:\n",
      "\n",
      "Old style callback is deprecated.  See: https://xgboost.readthedocs.io/en/latest/python/callbacks.html\n",
      "\n"
     ]
    },
    {
     "name": "stdout",
     "output_type": "stream",
     "text": [
      "[CV 1/3] END gamma=25.6, learning_rate=0.15, max_depth=6, n_estimators=65;, score=(train=0.760, test=0.754) total time=   0.4s\n"
     ]
    },
    {
     "name": "stderr",
     "output_type": "stream",
     "text": [
      "C:\\Users\\saiak\\.conda\\envs\\ift6758-conda-env\\lib\\site-packages\\xgboost\\training.py:17: UserWarning:\n",
      "\n",
      "Old style callback is deprecated.  See: https://xgboost.readthedocs.io/en/latest/python/callbacks.html\n",
      "\n"
     ]
    },
    {
     "name": "stdout",
     "output_type": "stream",
     "text": [
      "[CV 2/3] END gamma=25.6, learning_rate=0.15, max_depth=6, n_estimators=65;, score=(train=0.760, test=0.757) total time=   0.4s\n"
     ]
    },
    {
     "name": "stderr",
     "output_type": "stream",
     "text": [
      "C:\\Users\\saiak\\.conda\\envs\\ift6758-conda-env\\lib\\site-packages\\xgboost\\training.py:17: UserWarning:\n",
      "\n",
      "Old style callback is deprecated.  See: https://xgboost.readthedocs.io/en/latest/python/callbacks.html\n",
      "\n",
      "COMET ERROR: Failed to extract parameters from estimator\n",
      "COMET ERROR: Failed to extract parameters from estimator\n"
     ]
    },
    {
     "name": "stdout",
     "output_type": "stream",
     "text": [
      "[CV 3/3] END gamma=25.6, learning_rate=0.15, max_depth=6, n_estimators=65;, score=(train=0.760, test=0.753) total time=   0.4s\n"
     ]
    },
    {
     "name": "stderr",
     "output_type": "stream",
     "text": [
      "COMET ERROR: Failed to extract parameters from estimator\n",
      "COMET ERROR: Failed to extract parameters from estimator\n",
      "COMET ERROR: Failed to extract parameters from estimator\n",
      "COMET ERROR: Failed to extract parameters from estimator\n"
     ]
    },
    {
     "name": "stdout",
     "output_type": "stream",
     "text": [
      "Fitting 3 folds for each of 1 candidates, totalling 3 fits\n"
     ]
    },
    {
     "name": "stderr",
     "output_type": "stream",
     "text": [
      "C:\\Users\\saiak\\.conda\\envs\\ift6758-conda-env\\lib\\site-packages\\xgboost\\training.py:17: UserWarning:\n",
      "\n",
      "Old style callback is deprecated.  See: https://xgboost.readthedocs.io/en/latest/python/callbacks.html\n",
      "\n"
     ]
    },
    {
     "name": "stdout",
     "output_type": "stream",
     "text": [
      "[CV 1/3] END gamma=0.2, learning_rate=0.1, max_depth=10, n_estimators=100;, score=(train=0.910, test=0.753) total time=   5.1s\n"
     ]
    },
    {
     "name": "stderr",
     "output_type": "stream",
     "text": [
      "C:\\Users\\saiak\\.conda\\envs\\ift6758-conda-env\\lib\\site-packages\\xgboost\\training.py:17: UserWarning:\n",
      "\n",
      "Old style callback is deprecated.  See: https://xgboost.readthedocs.io/en/latest/python/callbacks.html\n",
      "\n"
     ]
    },
    {
     "name": "stdout",
     "output_type": "stream",
     "text": [
      "[CV 2/3] END gamma=0.2, learning_rate=0.1, max_depth=10, n_estimators=100;, score=(train=0.910, test=0.758) total time=   5.1s\n"
     ]
    },
    {
     "name": "stderr",
     "output_type": "stream",
     "text": [
      "C:\\Users\\saiak\\.conda\\envs\\ift6758-conda-env\\lib\\site-packages\\xgboost\\training.py:17: UserWarning:\n",
      "\n",
      "Old style callback is deprecated.  See: https://xgboost.readthedocs.io/en/latest/python/callbacks.html\n",
      "\n",
      "COMET ERROR: Failed to extract parameters from estimator\n",
      "COMET ERROR: Failed to extract parameters from estimator\n"
     ]
    },
    {
     "name": "stdout",
     "output_type": "stream",
     "text": [
      "[CV 3/3] END gamma=0.2, learning_rate=0.1, max_depth=10, n_estimators=100;, score=(train=0.909, test=0.754) total time=   4.9s\n"
     ]
    },
    {
     "name": "stderr",
     "output_type": "stream",
     "text": [
      "COMET ERROR: Failed to extract parameters from estimator\n",
      "COMET ERROR: Failed to extract parameters from estimator\n",
      "COMET ERROR: Failed to extract parameters from estimator\n",
      "COMET ERROR: Failed to extract parameters from estimator\n"
     ]
    },
    {
     "name": "stdout",
     "output_type": "stream",
     "text": [
      "Fitting 3 folds for each of 1 candidates, totalling 3 fits\n"
     ]
    },
    {
     "name": "stderr",
     "output_type": "stream",
     "text": [
      "C:\\Users\\saiak\\.conda\\envs\\ift6758-conda-env\\lib\\site-packages\\xgboost\\training.py:17: UserWarning:\n",
      "\n",
      "Old style callback is deprecated.  See: https://xgboost.readthedocs.io/en/latest/python/callbacks.html\n",
      "\n"
     ]
    },
    {
     "name": "stdout",
     "output_type": "stream",
     "text": [
      "[CV 1/3] END gamma=0.8, learning_rate=0.2, max_depth=6, n_estimators=115;, score=(train=0.825, test=0.758) total time=   1.1s\n"
     ]
    },
    {
     "name": "stderr",
     "output_type": "stream",
     "text": [
      "C:\\Users\\saiak\\.conda\\envs\\ift6758-conda-env\\lib\\site-packages\\xgboost\\training.py:17: UserWarning:\n",
      "\n",
      "Old style callback is deprecated.  See: https://xgboost.readthedocs.io/en/latest/python/callbacks.html\n",
      "\n"
     ]
    },
    {
     "name": "stdout",
     "output_type": "stream",
     "text": [
      "[CV 2/3] END gamma=0.8, learning_rate=0.2, max_depth=6, n_estimators=115;, score=(train=0.816, test=0.762) total time=   1.0s\n"
     ]
    },
    {
     "name": "stderr",
     "output_type": "stream",
     "text": [
      "C:\\Users\\saiak\\.conda\\envs\\ift6758-conda-env\\lib\\site-packages\\xgboost\\training.py:17: UserWarning:\n",
      "\n",
      "Old style callback is deprecated.  See: https://xgboost.readthedocs.io/en/latest/python/callbacks.html\n",
      "\n",
      "COMET ERROR: Failed to extract parameters from estimator\n",
      "COMET ERROR: Failed to extract parameters from estimator\n"
     ]
    },
    {
     "name": "stdout",
     "output_type": "stream",
     "text": [
      "[CV 3/3] END gamma=0.8, learning_rate=0.2, max_depth=6, n_estimators=115;, score=(train=0.823, test=0.764) total time=   1.1s\n"
     ]
    },
    {
     "name": "stderr",
     "output_type": "stream",
     "text": [
      "COMET ERROR: Failed to extract parameters from estimator\n",
      "COMET ERROR: Failed to extract parameters from estimator\n",
      "COMET ERROR: Failed to extract parameters from estimator\n",
      "COMET ERROR: Failed to extract parameters from estimator\n"
     ]
    },
    {
     "name": "stdout",
     "output_type": "stream",
     "text": [
      "Fitting 3 folds for each of 1 candidates, totalling 3 fits\n"
     ]
    },
    {
     "name": "stderr",
     "output_type": "stream",
     "text": [
      "C:\\Users\\saiak\\.conda\\envs\\ift6758-conda-env\\lib\\site-packages\\xgboost\\training.py:17: UserWarning:\n",
      "\n",
      "Old style callback is deprecated.  See: https://xgboost.readthedocs.io/en/latest/python/callbacks.html\n",
      "\n"
     ]
    },
    {
     "name": "stdout",
     "output_type": "stream",
     "text": [
      "[CV 1/3] END gamma=51.2, learning_rate=0.7, max_depth=7, n_estimators=50;, score=(train=0.752, test=0.751) total time=   0.3s\n"
     ]
    },
    {
     "name": "stderr",
     "output_type": "stream",
     "text": [
      "C:\\Users\\saiak\\.conda\\envs\\ift6758-conda-env\\lib\\site-packages\\xgboost\\training.py:17: UserWarning:\n",
      "\n",
      "Old style callback is deprecated.  See: https://xgboost.readthedocs.io/en/latest/python/callbacks.html\n",
      "\n"
     ]
    },
    {
     "name": "stdout",
     "output_type": "stream",
     "text": [
      "[CV 2/3] END gamma=51.2, learning_rate=0.7, max_depth=7, n_estimators=50;, score=(train=0.752, test=0.747) total time=   0.3s\n"
     ]
    },
    {
     "name": "stderr",
     "output_type": "stream",
     "text": [
      "C:\\Users\\saiak\\.conda\\envs\\ift6758-conda-env\\lib\\site-packages\\xgboost\\training.py:17: UserWarning:\n",
      "\n",
      "Old style callback is deprecated.  See: https://xgboost.readthedocs.io/en/latest/python/callbacks.html\n",
      "\n",
      "COMET ERROR: Failed to extract parameters from estimator\n",
      "COMET ERROR: Failed to extract parameters from estimator\n"
     ]
    },
    {
     "name": "stdout",
     "output_type": "stream",
     "text": [
      "[CV 3/3] END gamma=51.2, learning_rate=0.7, max_depth=7, n_estimators=50;, score=(train=0.751, test=0.745) total time=   0.3s\n"
     ]
    },
    {
     "name": "stderr",
     "output_type": "stream",
     "text": [
      "COMET ERROR: Failed to extract parameters from estimator\n",
      "COMET ERROR: Failed to extract parameters from estimator\n",
      "COMET ERROR: Failed to extract parameters from estimator\n",
      "COMET ERROR: Failed to extract parameters from estimator\n"
     ]
    },
    {
     "name": "stdout",
     "output_type": "stream",
     "text": [
      "Fitting 3 folds for each of 1 candidates, totalling 3 fits\n"
     ]
    },
    {
     "name": "stderr",
     "output_type": "stream",
     "text": [
      "C:\\Users\\saiak\\.conda\\envs\\ift6758-conda-env\\lib\\site-packages\\xgboost\\training.py:17: UserWarning:\n",
      "\n",
      "Old style callback is deprecated.  See: https://xgboost.readthedocs.io/en/latest/python/callbacks.html\n",
      "\n"
     ]
    },
    {
     "name": "stdout",
     "output_type": "stream",
     "text": [
      "[CV 1/3] END gamma=0.0, learning_rate=0.7, max_depth=11, n_estimators=80;, score=(train=1.000, test=0.692) total time=   5.6s\n"
     ]
    },
    {
     "name": "stderr",
     "output_type": "stream",
     "text": [
      "C:\\Users\\saiak\\.conda\\envs\\ift6758-conda-env\\lib\\site-packages\\xgboost\\training.py:17: UserWarning:\n",
      "\n",
      "Old style callback is deprecated.  See: https://xgboost.readthedocs.io/en/latest/python/callbacks.html\n",
      "\n"
     ]
    },
    {
     "name": "stdout",
     "output_type": "stream",
     "text": [
      "[CV 2/3] END gamma=0.0, learning_rate=0.7, max_depth=11, n_estimators=80;, score=(train=1.000, test=0.693) total time=   5.2s\n"
     ]
    },
    {
     "name": "stderr",
     "output_type": "stream",
     "text": [
      "C:\\Users\\saiak\\.conda\\envs\\ift6758-conda-env\\lib\\site-packages\\xgboost\\training.py:17: UserWarning:\n",
      "\n",
      "Old style callback is deprecated.  See: https://xgboost.readthedocs.io/en/latest/python/callbacks.html\n",
      "\n",
      "COMET ERROR: Failed to extract parameters from estimator\n",
      "COMET ERROR: Failed to extract parameters from estimator\n"
     ]
    },
    {
     "name": "stdout",
     "output_type": "stream",
     "text": [
      "[CV 3/3] END gamma=0.0, learning_rate=0.7, max_depth=11, n_estimators=80;, score=(train=1.000, test=0.693) total time=   5.4s\n"
     ]
    },
    {
     "name": "stderr",
     "output_type": "stream",
     "text": [
      "COMET ERROR: Failed to extract parameters from estimator\n",
      "COMET ERROR: Failed to extract parameters from estimator\n",
      "COMET ERROR: Failed to extract parameters from estimator\n",
      "COMET ERROR: Failed to extract parameters from estimator\n"
     ]
    },
    {
     "name": "stdout",
     "output_type": "stream",
     "text": [
      "Fitting 3 folds for each of 1 candidates, totalling 3 fits\n"
     ]
    },
    {
     "name": "stderr",
     "output_type": "stream",
     "text": [
      "C:\\Users\\saiak\\.conda\\envs\\ift6758-conda-env\\lib\\site-packages\\xgboost\\training.py:17: UserWarning:\n",
      "\n",
      "Old style callback is deprecated.  See: https://xgboost.readthedocs.io/en/latest/python/callbacks.html\n",
      "\n"
     ]
    },
    {
     "name": "stdout",
     "output_type": "stream",
     "text": [
      "[CV 1/3] END gamma=0.8, learning_rate=0.7, max_depth=10, n_estimators=65;, score=(train=0.975, test=0.709) total time=   2.3s\n"
     ]
    },
    {
     "name": "stderr",
     "output_type": "stream",
     "text": [
      "C:\\Users\\saiak\\.conda\\envs\\ift6758-conda-env\\lib\\site-packages\\xgboost\\training.py:17: UserWarning:\n",
      "\n",
      "Old style callback is deprecated.  See: https://xgboost.readthedocs.io/en/latest/python/callbacks.html\n",
      "\n"
     ]
    },
    {
     "name": "stdout",
     "output_type": "stream",
     "text": [
      "[CV 2/3] END gamma=0.8, learning_rate=0.7, max_depth=10, n_estimators=65;, score=(train=0.965, test=0.701) total time=   2.0s\n"
     ]
    },
    {
     "name": "stderr",
     "output_type": "stream",
     "text": [
      "C:\\Users\\saiak\\.conda\\envs\\ift6758-conda-env\\lib\\site-packages\\xgboost\\training.py:17: UserWarning:\n",
      "\n",
      "Old style callback is deprecated.  See: https://xgboost.readthedocs.io/en/latest/python/callbacks.html\n",
      "\n",
      "COMET ERROR: Failed to extract parameters from estimator\n",
      "COMET ERROR: Failed to extract parameters from estimator\n"
     ]
    },
    {
     "name": "stdout",
     "output_type": "stream",
     "text": [
      "[CV 3/3] END gamma=0.8, learning_rate=0.7, max_depth=10, n_estimators=65;, score=(train=0.975, test=0.704) total time=   2.2s\n"
     ]
    },
    {
     "name": "stderr",
     "output_type": "stream",
     "text": [
      "COMET ERROR: Failed to extract parameters from estimator\n",
      "COMET ERROR: Failed to extract parameters from estimator\n",
      "COMET ERROR: Failed to extract parameters from estimator\n",
      "COMET ERROR: Failed to extract parameters from estimator\n"
     ]
    },
    {
     "name": "stdout",
     "output_type": "stream",
     "text": [
      "Fitting 3 folds for each of 1 candidates, totalling 3 fits\n"
     ]
    },
    {
     "name": "stderr",
     "output_type": "stream",
     "text": [
      "C:\\Users\\saiak\\.conda\\envs\\ift6758-conda-env\\lib\\site-packages\\xgboost\\training.py:17: UserWarning:\n",
      "\n",
      "Old style callback is deprecated.  See: https://xgboost.readthedocs.io/en/latest/python/callbacks.html\n",
      "\n"
     ]
    },
    {
     "name": "stdout",
     "output_type": "stream",
     "text": [
      "[CV 1/3] END gamma=3.2, learning_rate=0.2, max_depth=6, n_estimators=115;, score=(train=0.789, test=0.762) total time=   0.7s\n"
     ]
    },
    {
     "name": "stderr",
     "output_type": "stream",
     "text": [
      "C:\\Users\\saiak\\.conda\\envs\\ift6758-conda-env\\lib\\site-packages\\xgboost\\training.py:17: UserWarning:\n",
      "\n",
      "Old style callback is deprecated.  See: https://xgboost.readthedocs.io/en/latest/python/callbacks.html\n",
      "\n"
     ]
    },
    {
     "name": "stdout",
     "output_type": "stream",
     "text": [
      "[CV 2/3] END gamma=3.2, learning_rate=0.2, max_depth=6, n_estimators=115;, score=(train=0.792, test=0.761) total time=   0.7s\n"
     ]
    },
    {
     "name": "stderr",
     "output_type": "stream",
     "text": [
      "C:\\Users\\saiak\\.conda\\envs\\ift6758-conda-env\\lib\\site-packages\\xgboost\\training.py:17: UserWarning:\n",
      "\n",
      "Old style callback is deprecated.  See: https://xgboost.readthedocs.io/en/latest/python/callbacks.html\n",
      "\n",
      "COMET ERROR: Failed to extract parameters from estimator\n",
      "COMET ERROR: Failed to extract parameters from estimator\n"
     ]
    },
    {
     "name": "stdout",
     "output_type": "stream",
     "text": [
      "[CV 3/3] END gamma=3.2, learning_rate=0.2, max_depth=6, n_estimators=115;, score=(train=0.790, test=0.762) total time=   0.7s\n"
     ]
    },
    {
     "name": "stderr",
     "output_type": "stream",
     "text": [
      "COMET ERROR: Failed to extract parameters from estimator\n",
      "COMET ERROR: Failed to extract parameters from estimator\n",
      "COMET ERROR: Failed to extract parameters from estimator\n",
      "COMET ERROR: Failed to extract parameters from estimator\n"
     ]
    },
    {
     "name": "stdout",
     "output_type": "stream",
     "text": [
      "Fitting 3 folds for each of 1 candidates, totalling 3 fits\n"
     ]
    },
    {
     "name": "stderr",
     "output_type": "stream",
     "text": [
      "C:\\Users\\saiak\\.conda\\envs\\ift6758-conda-env\\lib\\site-packages\\xgboost\\training.py:17: UserWarning:\n",
      "\n",
      "Old style callback is deprecated.  See: https://xgboost.readthedocs.io/en/latest/python/callbacks.html\n",
      "\n"
     ]
    },
    {
     "name": "stdout",
     "output_type": "stream",
     "text": [
      "[CV 1/3] END gamma=6.4, learning_rate=0.1, max_depth=7, n_estimators=130;, score=(train=0.787, test=0.755) total time=   1.0s\n"
     ]
    },
    {
     "name": "stderr",
     "output_type": "stream",
     "text": [
      "C:\\Users\\saiak\\.conda\\envs\\ift6758-conda-env\\lib\\site-packages\\xgboost\\training.py:17: UserWarning:\n",
      "\n",
      "Old style callback is deprecated.  See: https://xgboost.readthedocs.io/en/latest/python/callbacks.html\n",
      "\n"
     ]
    },
    {
     "name": "stdout",
     "output_type": "stream",
     "text": [
      "[CV 2/3] END gamma=6.4, learning_rate=0.1, max_depth=7, n_estimators=130;, score=(train=0.781, test=0.771) total time=   1.0s\n"
     ]
    },
    {
     "name": "stderr",
     "output_type": "stream",
     "text": [
      "C:\\Users\\saiak\\.conda\\envs\\ift6758-conda-env\\lib\\site-packages\\xgboost\\training.py:17: UserWarning:\n",
      "\n",
      "Old style callback is deprecated.  See: https://xgboost.readthedocs.io/en/latest/python/callbacks.html\n",
      "\n",
      "COMET ERROR: Failed to extract parameters from estimator\n",
      "COMET ERROR: Failed to extract parameters from estimator\n"
     ]
    },
    {
     "name": "stdout",
     "output_type": "stream",
     "text": [
      "[CV 3/3] END gamma=6.4, learning_rate=0.1, max_depth=7, n_estimators=130;, score=(train=0.786, test=0.759) total time=   0.9s\n"
     ]
    },
    {
     "name": "stderr",
     "output_type": "stream",
     "text": [
      "COMET ERROR: Failed to extract parameters from estimator\n",
      "COMET ERROR: Failed to extract parameters from estimator\n",
      "COMET ERROR: Failed to extract parameters from estimator\n",
      "COMET ERROR: Failed to extract parameters from estimator\n"
     ]
    },
    {
     "name": "stdout",
     "output_type": "stream",
     "text": [
      "Fitting 3 folds for each of 1 candidates, totalling 3 fits\n"
     ]
    },
    {
     "name": "stderr",
     "output_type": "stream",
     "text": [
      "C:\\Users\\saiak\\.conda\\envs\\ift6758-conda-env\\lib\\site-packages\\xgboost\\training.py:17: UserWarning:\n",
      "\n",
      "Old style callback is deprecated.  See: https://xgboost.readthedocs.io/en/latest/python/callbacks.html\n",
      "\n"
     ]
    },
    {
     "name": "stdout",
     "output_type": "stream",
     "text": [
      "[CV 1/3] END gamma=12.8, learning_rate=0.2, max_depth=6, n_estimators=115;, score=(train=0.768, test=0.756) total time=   0.6s\n"
     ]
    },
    {
     "name": "stderr",
     "output_type": "stream",
     "text": [
      "C:\\Users\\saiak\\.conda\\envs\\ift6758-conda-env\\lib\\site-packages\\xgboost\\training.py:17: UserWarning:\n",
      "\n",
      "Old style callback is deprecated.  See: https://xgboost.readthedocs.io/en/latest/python/callbacks.html\n",
      "\n"
     ]
    },
    {
     "name": "stdout",
     "output_type": "stream",
     "text": [
      "[CV 2/3] END gamma=12.8, learning_rate=0.2, max_depth=6, n_estimators=115;, score=(train=0.767, test=0.761) total time=   0.6s\n"
     ]
    },
    {
     "name": "stderr",
     "output_type": "stream",
     "text": [
      "C:\\Users\\saiak\\.conda\\envs\\ift6758-conda-env\\lib\\site-packages\\xgboost\\training.py:17: UserWarning:\n",
      "\n",
      "Old style callback is deprecated.  See: https://xgboost.readthedocs.io/en/latest/python/callbacks.html\n",
      "\n",
      "COMET ERROR: Failed to extract parameters from estimator\n",
      "COMET ERROR: Failed to extract parameters from estimator\n"
     ]
    },
    {
     "name": "stdout",
     "output_type": "stream",
     "text": [
      "[CV 3/3] END gamma=12.8, learning_rate=0.2, max_depth=6, n_estimators=115;, score=(train=0.769, test=0.758) total time=   0.6s\n"
     ]
    },
    {
     "name": "stderr",
     "output_type": "stream",
     "text": [
      "COMET ERROR: Failed to extract parameters from estimator\n",
      "COMET ERROR: Failed to extract parameters from estimator\n",
      "COMET ERROR: Failed to extract parameters from estimator\n",
      "COMET ERROR: Failed to extract parameters from estimator\n"
     ]
    },
    {
     "name": "stdout",
     "output_type": "stream",
     "text": [
      "Fitting 3 folds for each of 1 candidates, totalling 3 fits\n"
     ]
    },
    {
     "name": "stderr",
     "output_type": "stream",
     "text": [
      "C:\\Users\\saiak\\.conda\\envs\\ift6758-conda-env\\lib\\site-packages\\xgboost\\training.py:17: UserWarning:\n",
      "\n",
      "Old style callback is deprecated.  See: https://xgboost.readthedocs.io/en/latest/python/callbacks.html\n",
      "\n"
     ]
    },
    {
     "name": "stdout",
     "output_type": "stream",
     "text": [
      "[CV 1/3] END gamma=102.4, learning_rate=0.2, max_depth=6, n_estimators=115;, score=(train=0.739, test=0.738) total time=   0.5s\n"
     ]
    },
    {
     "name": "stderr",
     "output_type": "stream",
     "text": [
      "C:\\Users\\saiak\\.conda\\envs\\ift6758-conda-env\\lib\\site-packages\\xgboost\\training.py:17: UserWarning:\n",
      "\n",
      "Old style callback is deprecated.  See: https://xgboost.readthedocs.io/en/latest/python/callbacks.html\n",
      "\n"
     ]
    },
    {
     "name": "stdout",
     "output_type": "stream",
     "text": [
      "[CV 2/3] END gamma=102.4, learning_rate=0.2, max_depth=6, n_estimators=115;, score=(train=0.741, test=0.740) total time=   0.5s\n"
     ]
    },
    {
     "name": "stderr",
     "output_type": "stream",
     "text": [
      "C:\\Users\\saiak\\.conda\\envs\\ift6758-conda-env\\lib\\site-packages\\xgboost\\training.py:17: UserWarning:\n",
      "\n",
      "Old style callback is deprecated.  See: https://xgboost.readthedocs.io/en/latest/python/callbacks.html\n",
      "\n",
      "COMET ERROR: Failed to extract parameters from estimator\n",
      "COMET ERROR: Failed to extract parameters from estimator\n"
     ]
    },
    {
     "name": "stdout",
     "output_type": "stream",
     "text": [
      "[CV 3/3] END gamma=102.4, learning_rate=0.2, max_depth=6, n_estimators=115;, score=(train=0.743, test=0.739) total time=   0.5s\n"
     ]
    },
    {
     "name": "stderr",
     "output_type": "stream",
     "text": [
      "COMET ERROR: Failed to extract parameters from estimator\n",
      "COMET ERROR: Failed to extract parameters from estimator\n",
      "COMET ERROR: Failed to extract parameters from estimator\n",
      "COMET ERROR: Failed to extract parameters from estimator\n"
     ]
    },
    {
     "name": "stdout",
     "output_type": "stream",
     "text": [
      "Fitting 3 folds for each of 1 candidates, totalling 3 fits\n"
     ]
    },
    {
     "name": "stderr",
     "output_type": "stream",
     "text": [
      "C:\\Users\\saiak\\.conda\\envs\\ift6758-conda-env\\lib\\site-packages\\xgboost\\training.py:17: UserWarning:\n",
      "\n",
      "Old style callback is deprecated.  See: https://xgboost.readthedocs.io/en/latest/python/callbacks.html\n",
      "\n"
     ]
    },
    {
     "name": "stdout",
     "output_type": "stream",
     "text": [
      "[CV 1/3] END gamma=200.0, learning_rate=0.2, max_depth=13, n_estimators=65;, score=(train=0.729, test=0.733) total time=   0.3s\n"
     ]
    },
    {
     "name": "stderr",
     "output_type": "stream",
     "text": [
      "C:\\Users\\saiak\\.conda\\envs\\ift6758-conda-env\\lib\\site-packages\\xgboost\\training.py:17: UserWarning:\n",
      "\n",
      "Old style callback is deprecated.  See: https://xgboost.readthedocs.io/en/latest/python/callbacks.html\n",
      "\n"
     ]
    },
    {
     "name": "stdout",
     "output_type": "stream",
     "text": [
      "[CV 2/3] END gamma=200.0, learning_rate=0.2, max_depth=13, n_estimators=65;, score=(train=0.732, test=0.726) total time=   0.3s\n"
     ]
    },
    {
     "name": "stderr",
     "output_type": "stream",
     "text": [
      "C:\\Users\\saiak\\.conda\\envs\\ift6758-conda-env\\lib\\site-packages\\xgboost\\training.py:17: UserWarning:\n",
      "\n",
      "Old style callback is deprecated.  See: https://xgboost.readthedocs.io/en/latest/python/callbacks.html\n",
      "\n",
      "COMET ERROR: Failed to extract parameters from estimator\n",
      "COMET ERROR: Failed to extract parameters from estimator\n"
     ]
    },
    {
     "name": "stdout",
     "output_type": "stream",
     "text": [
      "[CV 3/3] END gamma=200.0, learning_rate=0.2, max_depth=13, n_estimators=65;, score=(train=0.732, test=0.729) total time=   0.3s\n"
     ]
    },
    {
     "name": "stderr",
     "output_type": "stream",
     "text": [
      "COMET ERROR: Failed to extract parameters from estimator\n",
      "COMET ERROR: Failed to extract parameters from estimator\n",
      "COMET ERROR: Failed to extract parameters from estimator\n",
      "COMET ERROR: Failed to extract parameters from estimator\n"
     ]
    },
    {
     "name": "stdout",
     "output_type": "stream",
     "text": [
      "Fitting 3 folds for each of 1 candidates, totalling 3 fits\n"
     ]
    },
    {
     "name": "stderr",
     "output_type": "stream",
     "text": [
      "C:\\Users\\saiak\\.conda\\envs\\ift6758-conda-env\\lib\\site-packages\\xgboost\\training.py:17: UserWarning:\n",
      "\n",
      "Old style callback is deprecated.  See: https://xgboost.readthedocs.io/en/latest/python/callbacks.html\n",
      "\n"
     ]
    },
    {
     "name": "stdout",
     "output_type": "stream",
     "text": [
      "[CV 1/3] END gamma=200.0, learning_rate=0.1, max_depth=9, n_estimators=150;, score=(train=0.730, test=0.728) total time=   0.6s\n"
     ]
    },
    {
     "name": "stderr",
     "output_type": "stream",
     "text": [
      "C:\\Users\\saiak\\.conda\\envs\\ift6758-conda-env\\lib\\site-packages\\xgboost\\training.py:17: UserWarning:\n",
      "\n",
      "Old style callback is deprecated.  See: https://xgboost.readthedocs.io/en/latest/python/callbacks.html\n",
      "\n"
     ]
    },
    {
     "name": "stdout",
     "output_type": "stream",
     "text": [
      "[CV 2/3] END gamma=200.0, learning_rate=0.1, max_depth=9, n_estimators=150;, score=(train=0.732, test=0.730) total time=   0.6s\n"
     ]
    },
    {
     "name": "stderr",
     "output_type": "stream",
     "text": [
      "C:\\Users\\saiak\\.conda\\envs\\ift6758-conda-env\\lib\\site-packages\\xgboost\\training.py:17: UserWarning:\n",
      "\n",
      "Old style callback is deprecated.  See: https://xgboost.readthedocs.io/en/latest/python/callbacks.html\n",
      "\n",
      "COMET ERROR: Failed to extract parameters from estimator\n",
      "COMET ERROR: Failed to extract parameters from estimator\n"
     ]
    },
    {
     "name": "stdout",
     "output_type": "stream",
     "text": [
      "[CV 3/3] END gamma=200.0, learning_rate=0.1, max_depth=9, n_estimators=150;, score=(train=0.731, test=0.730) total time=   0.6s\n"
     ]
    },
    {
     "name": "stderr",
     "output_type": "stream",
     "text": [
      "COMET ERROR: Failed to extract parameters from estimator\n",
      "COMET ERROR: Failed to extract parameters from estimator\n",
      "COMET ERROR: Failed to extract parameters from estimator\n",
      "COMET ERROR: Failed to extract parameters from estimator\n"
     ]
    },
    {
     "name": "stdout",
     "output_type": "stream",
     "text": [
      "Fitting 3 folds for each of 1 candidates, totalling 3 fits\n"
     ]
    },
    {
     "name": "stderr",
     "output_type": "stream",
     "text": [
      "C:\\Users\\saiak\\.conda\\envs\\ift6758-conda-env\\lib\\site-packages\\xgboost\\training.py:17: UserWarning:\n",
      "\n",
      "Old style callback is deprecated.  See: https://xgboost.readthedocs.io/en/latest/python/callbacks.html\n",
      "\n"
     ]
    },
    {
     "name": "stdout",
     "output_type": "stream",
     "text": [
      "[CV 1/3] END gamma=0.1, learning_rate=0.7, max_depth=7, n_estimators=130;, score=(train=0.960, test=0.700) total time=   2.0s\n"
     ]
    },
    {
     "name": "stderr",
     "output_type": "stream",
     "text": [
      "C:\\Users\\saiak\\.conda\\envs\\ift6758-conda-env\\lib\\site-packages\\xgboost\\training.py:17: UserWarning:\n",
      "\n",
      "Old style callback is deprecated.  See: https://xgboost.readthedocs.io/en/latest/python/callbacks.html\n",
      "\n"
     ]
    },
    {
     "name": "stdout",
     "output_type": "stream",
     "text": [
      "[CV 2/3] END gamma=0.1, learning_rate=0.7, max_depth=7, n_estimators=130;, score=(train=0.962, test=0.702) total time=   1.9s\n"
     ]
    },
    {
     "name": "stderr",
     "output_type": "stream",
     "text": [
      "C:\\Users\\saiak\\.conda\\envs\\ift6758-conda-env\\lib\\site-packages\\xgboost\\training.py:17: UserWarning:\n",
      "\n",
      "Old style callback is deprecated.  See: https://xgboost.readthedocs.io/en/latest/python/callbacks.html\n",
      "\n",
      "COMET ERROR: Failed to extract parameters from estimator\n",
      "COMET ERROR: Failed to extract parameters from estimator\n"
     ]
    },
    {
     "name": "stdout",
     "output_type": "stream",
     "text": [
      "[CV 3/3] END gamma=0.1, learning_rate=0.7, max_depth=7, n_estimators=130;, score=(train=0.962, test=0.704) total time=   2.0s\n"
     ]
    },
    {
     "name": "stderr",
     "output_type": "stream",
     "text": [
      "COMET ERROR: Failed to extract parameters from estimator\n",
      "COMET ERROR: Failed to extract parameters from estimator\n",
      "COMET ERROR: Failed to extract parameters from estimator\n",
      "COMET ERROR: Failed to extract parameters from estimator\n"
     ]
    },
    {
     "name": "stdout",
     "output_type": "stream",
     "text": [
      "Fitting 3 folds for each of 1 candidates, totalling 3 fits\n"
     ]
    },
    {
     "name": "stderr",
     "output_type": "stream",
     "text": [
      "C:\\Users\\saiak\\.conda\\envs\\ift6758-conda-env\\lib\\site-packages\\xgboost\\training.py:17: UserWarning:\n",
      "\n",
      "Old style callback is deprecated.  See: https://xgboost.readthedocs.io/en/latest/python/callbacks.html\n",
      "\n"
     ]
    },
    {
     "name": "stdout",
     "output_type": "stream",
     "text": [
      "[CV 1/3] END gamma=102.4, learning_rate=0.5, max_depth=5, n_estimators=115;, score=(train=0.742, test=0.739) total time=   0.5s\n"
     ]
    },
    {
     "name": "stderr",
     "output_type": "stream",
     "text": [
      "C:\\Users\\saiak\\.conda\\envs\\ift6758-conda-env\\lib\\site-packages\\xgboost\\training.py:17: UserWarning:\n",
      "\n",
      "Old style callback is deprecated.  See: https://xgboost.readthedocs.io/en/latest/python/callbacks.html\n",
      "\n"
     ]
    },
    {
     "name": "stdout",
     "output_type": "stream",
     "text": [
      "[CV 2/3] END gamma=102.4, learning_rate=0.5, max_depth=5, n_estimators=115;, score=(train=0.740, test=0.741) total time=   0.5s\n"
     ]
    },
    {
     "name": "stderr",
     "output_type": "stream",
     "text": [
      "C:\\Users\\saiak\\.conda\\envs\\ift6758-conda-env\\lib\\site-packages\\xgboost\\training.py:17: UserWarning:\n",
      "\n",
      "Old style callback is deprecated.  See: https://xgboost.readthedocs.io/en/latest/python/callbacks.html\n",
      "\n",
      "COMET ERROR: Failed to extract parameters from estimator\n",
      "COMET ERROR: Failed to extract parameters from estimator\n"
     ]
    },
    {
     "name": "stdout",
     "output_type": "stream",
     "text": [
      "[CV 3/3] END gamma=102.4, learning_rate=0.5, max_depth=5, n_estimators=115;, score=(train=0.739, test=0.733) total time=   0.5s\n"
     ]
    },
    {
     "name": "stderr",
     "output_type": "stream",
     "text": [
      "COMET ERROR: Failed to extract parameters from estimator\n",
      "COMET ERROR: Failed to extract parameters from estimator\n",
      "COMET ERROR: Failed to extract parameters from estimator\n",
      "COMET ERROR: Failed to extract parameters from estimator\n"
     ]
    },
    {
     "name": "stdout",
     "output_type": "stream",
     "text": [
      "Fitting 3 folds for each of 1 candidates, totalling 3 fits\n"
     ]
    },
    {
     "name": "stderr",
     "output_type": "stream",
     "text": [
      "C:\\Users\\saiak\\.conda\\envs\\ift6758-conda-env\\lib\\site-packages\\xgboost\\training.py:17: UserWarning:\n",
      "\n",
      "Old style callback is deprecated.  See: https://xgboost.readthedocs.io/en/latest/python/callbacks.html\n",
      "\n"
     ]
    },
    {
     "name": "stdout",
     "output_type": "stream",
     "text": [
      "[CV 1/3] END gamma=0.2, learning_rate=0.06, max_depth=10, n_estimators=80;, score=(train=0.868, test=0.754) total time=   5.3s\n"
     ]
    },
    {
     "name": "stderr",
     "output_type": "stream",
     "text": [
      "C:\\Users\\saiak\\.conda\\envs\\ift6758-conda-env\\lib\\site-packages\\xgboost\\training.py:17: UserWarning:\n",
      "\n",
      "Old style callback is deprecated.  See: https://xgboost.readthedocs.io/en/latest/python/callbacks.html\n",
      "\n"
     ]
    },
    {
     "name": "stdout",
     "output_type": "stream",
     "text": [
      "[CV 2/3] END gamma=0.2, learning_rate=0.06, max_depth=10, n_estimators=80;, score=(train=0.862, test=0.761) total time=   5.0s\n"
     ]
    },
    {
     "name": "stderr",
     "output_type": "stream",
     "text": [
      "C:\\Users\\saiak\\.conda\\envs\\ift6758-conda-env\\lib\\site-packages\\xgboost\\training.py:17: UserWarning:\n",
      "\n",
      "Old style callback is deprecated.  See: https://xgboost.readthedocs.io/en/latest/python/callbacks.html\n",
      "\n",
      "COMET ERROR: Failed to extract parameters from estimator\n",
      "COMET ERROR: Failed to extract parameters from estimator\n"
     ]
    },
    {
     "name": "stdout",
     "output_type": "stream",
     "text": [
      "[CV 3/3] END gamma=0.2, learning_rate=0.06, max_depth=10, n_estimators=80;, score=(train=0.869, test=0.760) total time=   5.1s\n"
     ]
    },
    {
     "name": "stderr",
     "output_type": "stream",
     "text": [
      "COMET ERROR: Failed to extract parameters from estimator\n",
      "COMET ERROR: Failed to extract parameters from estimator\n",
      "COMET ERROR: Failed to extract parameters from estimator\n",
      "COMET ERROR: Failed to extract parameters from estimator\n"
     ]
    },
    {
     "name": "stdout",
     "output_type": "stream",
     "text": [
      "Fitting 3 folds for each of 1 candidates, totalling 3 fits\n"
     ]
    },
    {
     "name": "stderr",
     "output_type": "stream",
     "text": [
      "C:\\Users\\saiak\\.conda\\envs\\ift6758-conda-env\\lib\\site-packages\\xgboost\\training.py:17: UserWarning:\n",
      "\n",
      "Old style callback is deprecated.  See: https://xgboost.readthedocs.io/en/latest/python/callbacks.html\n",
      "\n"
     ]
    },
    {
     "name": "stdout",
     "output_type": "stream",
     "text": [
      "[CV 1/3] END gamma=1.6, learning_rate=0.2, max_depth=6, n_estimators=115;, score=(train=0.804, test=0.764) total time=   0.9s\n"
     ]
    },
    {
     "name": "stderr",
     "output_type": "stream",
     "text": [
      "C:\\Users\\saiak\\.conda\\envs\\ift6758-conda-env\\lib\\site-packages\\xgboost\\training.py:17: UserWarning:\n",
      "\n",
      "Old style callback is deprecated.  See: https://xgboost.readthedocs.io/en/latest/python/callbacks.html\n",
      "\n"
     ]
    },
    {
     "name": "stdout",
     "output_type": "stream",
     "text": [
      "[CV 2/3] END gamma=1.6, learning_rate=0.2, max_depth=6, n_estimators=115;, score=(train=0.805, test=0.762) total time=   0.8s\n"
     ]
    },
    {
     "name": "stderr",
     "output_type": "stream",
     "text": [
      "C:\\Users\\saiak\\.conda\\envs\\ift6758-conda-env\\lib\\site-packages\\xgboost\\training.py:17: UserWarning:\n",
      "\n",
      "Old style callback is deprecated.  See: https://xgboost.readthedocs.io/en/latest/python/callbacks.html\n",
      "\n",
      "COMET ERROR: Failed to extract parameters from estimator\n",
      "COMET ERROR: Failed to extract parameters from estimator\n"
     ]
    },
    {
     "name": "stdout",
     "output_type": "stream",
     "text": [
      "[CV 3/3] END gamma=1.6, learning_rate=0.2, max_depth=6, n_estimators=115;, score=(train=0.801, test=0.761) total time=   0.8s\n"
     ]
    },
    {
     "name": "stderr",
     "output_type": "stream",
     "text": [
      "COMET ERROR: Failed to extract parameters from estimator\n",
      "COMET ERROR: Failed to extract parameters from estimator\n",
      "COMET ERROR: Failed to extract parameters from estimator\n",
      "COMET ERROR: Failed to extract parameters from estimator\n"
     ]
    },
    {
     "name": "stdout",
     "output_type": "stream",
     "text": [
      "Fitting 3 folds for each of 1 candidates, totalling 3 fits\n"
     ]
    },
    {
     "name": "stderr",
     "output_type": "stream",
     "text": [
      "C:\\Users\\saiak\\.conda\\envs\\ift6758-conda-env\\lib\\site-packages\\xgboost\\training.py:17: UserWarning:\n",
      "\n",
      "Old style callback is deprecated.  See: https://xgboost.readthedocs.io/en/latest/python/callbacks.html\n",
      "\n"
     ]
    },
    {
     "name": "stdout",
     "output_type": "stream",
     "text": [
      "[CV 1/3] END gamma=6.4, learning_rate=0.06, max_depth=10, n_estimators=80;, score=(train=0.793, test=0.762) total time=   1.5s\n"
     ]
    },
    {
     "name": "stderr",
     "output_type": "stream",
     "text": [
      "C:\\Users\\saiak\\.conda\\envs\\ift6758-conda-env\\lib\\site-packages\\xgboost\\training.py:17: UserWarning:\n",
      "\n",
      "Old style callback is deprecated.  See: https://xgboost.readthedocs.io/en/latest/python/callbacks.html\n",
      "\n"
     ]
    },
    {
     "name": "stdout",
     "output_type": "stream",
     "text": [
      "[CV 2/3] END gamma=6.4, learning_rate=0.06, max_depth=10, n_estimators=80;, score=(train=0.793, test=0.759) total time=   1.5s\n"
     ]
    },
    {
     "name": "stderr",
     "output_type": "stream",
     "text": [
      "C:\\Users\\saiak\\.conda\\envs\\ift6758-conda-env\\lib\\site-packages\\xgboost\\training.py:17: UserWarning:\n",
      "\n",
      "Old style callback is deprecated.  See: https://xgboost.readthedocs.io/en/latest/python/callbacks.html\n",
      "\n",
      "COMET ERROR: Failed to extract parameters from estimator\n",
      "COMET ERROR: Failed to extract parameters from estimator\n"
     ]
    },
    {
     "name": "stdout",
     "output_type": "stream",
     "text": [
      "[CV 3/3] END gamma=6.4, learning_rate=0.06, max_depth=10, n_estimators=80;, score=(train=0.790, test=0.765) total time=   1.5s\n"
     ]
    },
    {
     "name": "stderr",
     "output_type": "stream",
     "text": [
      "COMET ERROR: Failed to extract parameters from estimator\n",
      "COMET ERROR: Failed to extract parameters from estimator\n",
      "COMET ERROR: Failed to extract parameters from estimator\n",
      "COMET ERROR: Failed to extract parameters from estimator\n"
     ]
    },
    {
     "name": "stdout",
     "output_type": "stream",
     "text": [
      "Fitting 3 folds for each of 1 candidates, totalling 3 fits\n"
     ]
    },
    {
     "name": "stderr",
     "output_type": "stream",
     "text": [
      "C:\\Users\\saiak\\.conda\\envs\\ift6758-conda-env\\lib\\site-packages\\xgboost\\training.py:17: UserWarning:\n",
      "\n",
      "Old style callback is deprecated.  See: https://xgboost.readthedocs.io/en/latest/python/callbacks.html\n",
      "\n"
     ]
    },
    {
     "name": "stdout",
     "output_type": "stream",
     "text": [
      "[CV 1/3] END gamma=0.0, learning_rate=0.06, max_depth=10, n_estimators=80;, score=(train=0.867, test=0.758) total time=   5.3s\n"
     ]
    },
    {
     "name": "stderr",
     "output_type": "stream",
     "text": [
      "C:\\Users\\saiak\\.conda\\envs\\ift6758-conda-env\\lib\\site-packages\\xgboost\\training.py:17: UserWarning:\n",
      "\n",
      "Old style callback is deprecated.  See: https://xgboost.readthedocs.io/en/latest/python/callbacks.html\n",
      "\n"
     ]
    },
    {
     "name": "stdout",
     "output_type": "stream",
     "text": [
      "[CV 2/3] END gamma=0.0, learning_rate=0.06, max_depth=10, n_estimators=80;, score=(train=0.868, test=0.761) total time=   5.7s\n"
     ]
    },
    {
     "name": "stderr",
     "output_type": "stream",
     "text": [
      "C:\\Users\\saiak\\.conda\\envs\\ift6758-conda-env\\lib\\site-packages\\xgboost\\training.py:17: UserWarning:\n",
      "\n",
      "Old style callback is deprecated.  See: https://xgboost.readthedocs.io/en/latest/python/callbacks.html\n",
      "\n",
      "COMET ERROR: Failed to extract parameters from estimator\n",
      "COMET ERROR: Failed to extract parameters from estimator\n"
     ]
    },
    {
     "name": "stdout",
     "output_type": "stream",
     "text": [
      "[CV 3/3] END gamma=0.0, learning_rate=0.06, max_depth=10, n_estimators=80;, score=(train=0.867, test=0.757) total time=   5.3s\n"
     ]
    },
    {
     "name": "stderr",
     "output_type": "stream",
     "text": [
      "COMET ERROR: Failed to extract parameters from estimator\n",
      "COMET ERROR: Failed to extract parameters from estimator\n",
      "COMET ERROR: Failed to extract parameters from estimator\n",
      "COMET ERROR: Failed to extract parameters from estimator\n"
     ]
    },
    {
     "name": "stdout",
     "output_type": "stream",
     "text": [
      "Fitting 3 folds for each of 1 candidates, totalling 3 fits\n"
     ]
    },
    {
     "name": "stderr",
     "output_type": "stream",
     "text": [
      "C:\\Users\\saiak\\.conda\\envs\\ift6758-conda-env\\lib\\site-packages\\xgboost\\training.py:17: UserWarning:\n",
      "\n",
      "Old style callback is deprecated.  See: https://xgboost.readthedocs.io/en/latest/python/callbacks.html\n",
      "\n"
     ]
    },
    {
     "name": "stdout",
     "output_type": "stream",
     "text": [
      "[CV 1/3] END gamma=51.2, learning_rate=0.06, max_depth=10, n_estimators=80;, score=(train=0.750, test=0.752) total time=   0.6s\n"
     ]
    },
    {
     "name": "stderr",
     "output_type": "stream",
     "text": [
      "C:\\Users\\saiak\\.conda\\envs\\ift6758-conda-env\\lib\\site-packages\\xgboost\\training.py:17: UserWarning:\n",
      "\n",
      "Old style callback is deprecated.  See: https://xgboost.readthedocs.io/en/latest/python/callbacks.html\n",
      "\n"
     ]
    },
    {
     "name": "stdout",
     "output_type": "stream",
     "text": [
      "[CV 2/3] END gamma=51.2, learning_rate=0.06, max_depth=10, n_estimators=80;, score=(train=0.752, test=0.742) total time=   0.6s\n"
     ]
    },
    {
     "name": "stderr",
     "output_type": "stream",
     "text": [
      "C:\\Users\\saiak\\.conda\\envs\\ift6758-conda-env\\lib\\site-packages\\xgboost\\training.py:17: UserWarning:\n",
      "\n",
      "Old style callback is deprecated.  See: https://xgboost.readthedocs.io/en/latest/python/callbacks.html\n",
      "\n",
      "COMET ERROR: Failed to extract parameters from estimator\n",
      "COMET ERROR: Failed to extract parameters from estimator\n"
     ]
    },
    {
     "name": "stdout",
     "output_type": "stream",
     "text": [
      "[CV 3/3] END gamma=51.2, learning_rate=0.06, max_depth=10, n_estimators=80;, score=(train=0.750, test=0.747) total time=   0.5s\n"
     ]
    },
    {
     "name": "stderr",
     "output_type": "stream",
     "text": [
      "COMET ERROR: Failed to extract parameters from estimator\n",
      "COMET ERROR: Failed to extract parameters from estimator\n",
      "COMET ERROR: Failed to extract parameters from estimator\n",
      "COMET ERROR: Failed to extract parameters from estimator\n"
     ]
    },
    {
     "name": "stdout",
     "output_type": "stream",
     "text": [
      "Fitting 3 folds for each of 1 candidates, totalling 3 fits\n"
     ]
    },
    {
     "name": "stderr",
     "output_type": "stream",
     "text": [
      "C:\\Users\\saiak\\.conda\\envs\\ift6758-conda-env\\lib\\site-packages\\xgboost\\training.py:17: UserWarning:\n",
      "\n",
      "Old style callback is deprecated.  See: https://xgboost.readthedocs.io/en/latest/python/callbacks.html\n",
      "\n"
     ]
    },
    {
     "name": "stdout",
     "output_type": "stream",
     "text": [
      "[CV 1/3] END gamma=12.8, learning_rate=0.06, max_depth=10, n_estimators=80;, score=(train=0.770, test=0.757) total time=   0.9s\n"
     ]
    },
    {
     "name": "stderr",
     "output_type": "stream",
     "text": [
      "C:\\Users\\saiak\\.conda\\envs\\ift6758-conda-env\\lib\\site-packages\\xgboost\\training.py:17: UserWarning:\n",
      "\n",
      "Old style callback is deprecated.  See: https://xgboost.readthedocs.io/en/latest/python/callbacks.html\n",
      "\n"
     ]
    },
    {
     "name": "stdout",
     "output_type": "stream",
     "text": [
      "[CV 2/3] END gamma=12.8, learning_rate=0.06, max_depth=10, n_estimators=80;, score=(train=0.770, test=0.759) total time=   0.9s\n"
     ]
    },
    {
     "name": "stderr",
     "output_type": "stream",
     "text": [
      "C:\\Users\\saiak\\.conda\\envs\\ift6758-conda-env\\lib\\site-packages\\xgboost\\training.py:17: UserWarning:\n",
      "\n",
      "Old style callback is deprecated.  See: https://xgboost.readthedocs.io/en/latest/python/callbacks.html\n",
      "\n",
      "COMET ERROR: Failed to extract parameters from estimator\n",
      "COMET ERROR: Failed to extract parameters from estimator\n"
     ]
    },
    {
     "name": "stdout",
     "output_type": "stream",
     "text": [
      "[CV 3/3] END gamma=12.8, learning_rate=0.06, max_depth=10, n_estimators=80;, score=(train=0.768, test=0.761) total time=   1.0s\n"
     ]
    },
    {
     "name": "stderr",
     "output_type": "stream",
     "text": [
      "COMET ERROR: Failed to extract parameters from estimator\n",
      "COMET ERROR: Failed to extract parameters from estimator\n",
      "COMET ERROR: Failed to extract parameters from estimator\n",
      "COMET ERROR: Failed to extract parameters from estimator\n"
     ]
    },
    {
     "name": "stdout",
     "output_type": "stream",
     "text": [
      "Fitting 3 folds for each of 1 candidates, totalling 3 fits\n"
     ]
    },
    {
     "name": "stderr",
     "output_type": "stream",
     "text": [
      "C:\\Users\\saiak\\.conda\\envs\\ift6758-conda-env\\lib\\site-packages\\xgboost\\training.py:17: UserWarning:\n",
      "\n",
      "Old style callback is deprecated.  See: https://xgboost.readthedocs.io/en/latest/python/callbacks.html\n",
      "\n"
     ]
    },
    {
     "name": "stdout",
     "output_type": "stream",
     "text": [
      "[CV 1/3] END gamma=6.4, learning_rate=0.2, max_depth=6, n_estimators=115;, score=(train=0.778, test=0.764) total time=   0.7s\n"
     ]
    },
    {
     "name": "stderr",
     "output_type": "stream",
     "text": [
      "C:\\Users\\saiak\\.conda\\envs\\ift6758-conda-env\\lib\\site-packages\\xgboost\\training.py:17: UserWarning:\n",
      "\n",
      "Old style callback is deprecated.  See: https://xgboost.readthedocs.io/en/latest/python/callbacks.html\n",
      "\n"
     ]
    },
    {
     "name": "stdout",
     "output_type": "stream",
     "text": [
      "[CV 2/3] END gamma=6.4, learning_rate=0.2, max_depth=6, n_estimators=115;, score=(train=0.779, test=0.762) total time=   0.8s\n"
     ]
    },
    {
     "name": "stderr",
     "output_type": "stream",
     "text": [
      "C:\\Users\\saiak\\.conda\\envs\\ift6758-conda-env\\lib\\site-packages\\xgboost\\training.py:17: UserWarning:\n",
      "\n",
      "Old style callback is deprecated.  See: https://xgboost.readthedocs.io/en/latest/python/callbacks.html\n",
      "\n",
      "COMET ERROR: Failed to extract parameters from estimator\n",
      "COMET ERROR: Failed to extract parameters from estimator\n"
     ]
    },
    {
     "name": "stdout",
     "output_type": "stream",
     "text": [
      "[CV 3/3] END gamma=6.4, learning_rate=0.2, max_depth=6, n_estimators=115;, score=(train=0.781, test=0.758) total time=   0.7s\n"
     ]
    },
    {
     "name": "stderr",
     "output_type": "stream",
     "text": [
      "COMET ERROR: Failed to extract parameters from estimator\n",
      "COMET ERROR: Failed to extract parameters from estimator\n",
      "COMET ERROR: Failed to extract parameters from estimator\n",
      "COMET ERROR: Failed to extract parameters from estimator\n"
     ]
    },
    {
     "name": "stdout",
     "output_type": "stream",
     "text": [
      "Fitting 3 folds for each of 1 candidates, totalling 3 fits\n"
     ]
    },
    {
     "name": "stderr",
     "output_type": "stream",
     "text": [
      "C:\\Users\\saiak\\.conda\\envs\\ift6758-conda-env\\lib\\site-packages\\xgboost\\training.py:17: UserWarning:\n",
      "\n",
      "Old style callback is deprecated.  See: https://xgboost.readthedocs.io/en/latest/python/callbacks.html\n",
      "\n"
     ]
    },
    {
     "name": "stdout",
     "output_type": "stream",
     "text": [
      "[CV 1/3] END gamma=1.6, learning_rate=0.06, max_depth=10, n_estimators=80;, score=(train=0.857, test=0.761) total time=   4.7s\n"
     ]
    },
    {
     "name": "stderr",
     "output_type": "stream",
     "text": [
      "C:\\Users\\saiak\\.conda\\envs\\ift6758-conda-env\\lib\\site-packages\\xgboost\\training.py:17: UserWarning:\n",
      "\n",
      "Old style callback is deprecated.  See: https://xgboost.readthedocs.io/en/latest/python/callbacks.html\n",
      "\n"
     ]
    },
    {
     "name": "stdout",
     "output_type": "stream",
     "text": [
      "[CV 2/3] END gamma=1.6, learning_rate=0.06, max_depth=10, n_estimators=80;, score=(train=0.857, test=0.760) total time=   4.4s\n"
     ]
    },
    {
     "name": "stderr",
     "output_type": "stream",
     "text": [
      "C:\\Users\\saiak\\.conda\\envs\\ift6758-conda-env\\lib\\site-packages\\xgboost\\training.py:17: UserWarning:\n",
      "\n",
      "Old style callback is deprecated.  See: https://xgboost.readthedocs.io/en/latest/python/callbacks.html\n",
      "\n",
      "COMET ERROR: Failed to extract parameters from estimator\n",
      "COMET ERROR: Failed to extract parameters from estimator\n"
     ]
    },
    {
     "name": "stdout",
     "output_type": "stream",
     "text": [
      "[CV 3/3] END gamma=1.6, learning_rate=0.06, max_depth=10, n_estimators=80;, score=(train=0.863, test=0.756) total time=   5.0s\n"
     ]
    },
    {
     "name": "stderr",
     "output_type": "stream",
     "text": [
      "COMET ERROR: Failed to extract parameters from estimator\n",
      "COMET ERROR: Failed to extract parameters from estimator\n",
      "COMET ERROR: Failed to extract parameters from estimator\n",
      "COMET ERROR: Failed to extract parameters from estimator\n"
     ]
    },
    {
     "name": "stdout",
     "output_type": "stream",
     "text": [
      "Fitting 3 folds for each of 1 candidates, totalling 3 fits\n"
     ]
    },
    {
     "name": "stderr",
     "output_type": "stream",
     "text": [
      "C:\\Users\\saiak\\.conda\\envs\\ift6758-conda-env\\lib\\site-packages\\xgboost\\training.py:17: UserWarning:\n",
      "\n",
      "Old style callback is deprecated.  See: https://xgboost.readthedocs.io/en/latest/python/callbacks.html\n",
      "\n"
     ]
    },
    {
     "name": "stdout",
     "output_type": "stream",
     "text": [
      "[CV 1/3] END gamma=0.4, learning_rate=0.2, max_depth=6, n_estimators=115;, score=(train=0.835, test=0.758) total time=   1.4s\n"
     ]
    },
    {
     "name": "stderr",
     "output_type": "stream",
     "text": [
      "C:\\Users\\saiak\\.conda\\envs\\ift6758-conda-env\\lib\\site-packages\\xgboost\\training.py:17: UserWarning:\n",
      "\n",
      "Old style callback is deprecated.  See: https://xgboost.readthedocs.io/en/latest/python/callbacks.html\n",
      "\n"
     ]
    },
    {
     "name": "stdout",
     "output_type": "stream",
     "text": [
      "[CV 2/3] END gamma=0.4, learning_rate=0.2, max_depth=6, n_estimators=115;, score=(train=0.837, test=0.755) total time=   1.4s\n"
     ]
    },
    {
     "name": "stderr",
     "output_type": "stream",
     "text": [
      "C:\\Users\\saiak\\.conda\\envs\\ift6758-conda-env\\lib\\site-packages\\xgboost\\training.py:17: UserWarning:\n",
      "\n",
      "Old style callback is deprecated.  See: https://xgboost.readthedocs.io/en/latest/python/callbacks.html\n",
      "\n",
      "COMET ERROR: Failed to extract parameters from estimator\n",
      "COMET ERROR: Failed to extract parameters from estimator\n"
     ]
    },
    {
     "name": "stdout",
     "output_type": "stream",
     "text": [
      "[CV 3/3] END gamma=0.4, learning_rate=0.2, max_depth=6, n_estimators=115;, score=(train=0.833, test=0.761) total time=   1.3s\n"
     ]
    },
    {
     "name": "stderr",
     "output_type": "stream",
     "text": [
      "COMET ERROR: Failed to extract parameters from estimator\n",
      "COMET ERROR: Failed to extract parameters from estimator\n",
      "COMET ERROR: Failed to extract parameters from estimator\n",
      "COMET ERROR: Failed to extract parameters from estimator\n"
     ]
    },
    {
     "name": "stdout",
     "output_type": "stream",
     "text": [
      "Fitting 3 folds for each of 1 candidates, totalling 3 fits\n"
     ]
    },
    {
     "name": "stderr",
     "output_type": "stream",
     "text": [
      "C:\\Users\\saiak\\.conda\\envs\\ift6758-conda-env\\lib\\site-packages\\xgboost\\training.py:17: UserWarning:\n",
      "\n",
      "Old style callback is deprecated.  See: https://xgboost.readthedocs.io/en/latest/python/callbacks.html\n",
      "\n"
     ]
    },
    {
     "name": "stdout",
     "output_type": "stream",
     "text": [
      "[CV 1/3] END gamma=3.2, learning_rate=0.06, max_depth=7, n_estimators=100;, score=(train=0.801, test=0.758) total time=   1.6s\n"
     ]
    },
    {
     "name": "stderr",
     "output_type": "stream",
     "text": [
      "C:\\Users\\saiak\\.conda\\envs\\ift6758-conda-env\\lib\\site-packages\\xgboost\\training.py:17: UserWarning:\n",
      "\n",
      "Old style callback is deprecated.  See: https://xgboost.readthedocs.io/en/latest/python/callbacks.html\n",
      "\n"
     ]
    },
    {
     "name": "stdout",
     "output_type": "stream",
     "text": [
      "[CV 2/3] END gamma=3.2, learning_rate=0.06, max_depth=7, n_estimators=100;, score=(train=0.797, test=0.767) total time=   1.6s\n"
     ]
    },
    {
     "name": "stderr",
     "output_type": "stream",
     "text": [
      "C:\\Users\\saiak\\.conda\\envs\\ift6758-conda-env\\lib\\site-packages\\xgboost\\training.py:17: UserWarning:\n",
      "\n",
      "Old style callback is deprecated.  See: https://xgboost.readthedocs.io/en/latest/python/callbacks.html\n",
      "\n",
      "COMET ERROR: Failed to extract parameters from estimator\n"
     ]
    },
    {
     "name": "stdout",
     "output_type": "stream",
     "text": [
      "[CV 3/3] END gamma=3.2, learning_rate=0.06, max_depth=7, n_estimators=100;, score=(train=0.799, test=0.761) total time=   1.8s\n"
     ]
    },
    {
     "name": "stderr",
     "output_type": "stream",
     "text": [
      "COMET ERROR: Failed to extract parameters from estimator\n",
      "COMET ERROR: Failed to extract parameters from estimator\n",
      "COMET ERROR: Failed to extract parameters from estimator\n",
      "COMET ERROR: Failed to extract parameters from estimator\n",
      "COMET ERROR: Failed to extract parameters from estimator\n"
     ]
    },
    {
     "name": "stdout",
     "output_type": "stream",
     "text": [
      "Fitting 3 folds for each of 1 candidates, totalling 3 fits\n"
     ]
    },
    {
     "name": "stderr",
     "output_type": "stream",
     "text": [
      "C:\\Users\\saiak\\.conda\\envs\\ift6758-conda-env\\lib\\site-packages\\xgboost\\training.py:17: UserWarning:\n",
      "\n",
      "Old style callback is deprecated.  See: https://xgboost.readthedocs.io/en/latest/python/callbacks.html\n",
      "\n"
     ]
    },
    {
     "name": "stdout",
     "output_type": "stream",
     "text": [
      "[CV 1/3] END gamma=3.2, learning_rate=0.15, max_depth=7, n_estimators=130;, score=(train=0.802, test=0.765) total time=   1.2s\n"
     ]
    },
    {
     "name": "stderr",
     "output_type": "stream",
     "text": [
      "C:\\Users\\saiak\\.conda\\envs\\ift6758-conda-env\\lib\\site-packages\\xgboost\\training.py:17: UserWarning:\n",
      "\n",
      "Old style callback is deprecated.  See: https://xgboost.readthedocs.io/en/latest/python/callbacks.html\n",
      "\n"
     ]
    },
    {
     "name": "stdout",
     "output_type": "stream",
     "text": [
      "[CV 2/3] END gamma=3.2, learning_rate=0.15, max_depth=7, n_estimators=130;, score=(train=0.804, test=0.758) total time=   1.2s\n"
     ]
    },
    {
     "name": "stderr",
     "output_type": "stream",
     "text": [
      "C:\\Users\\saiak\\.conda\\envs\\ift6758-conda-env\\lib\\site-packages\\xgboost\\training.py:17: UserWarning:\n",
      "\n",
      "Old style callback is deprecated.  See: https://xgboost.readthedocs.io/en/latest/python/callbacks.html\n",
      "\n",
      "COMET ERROR: Failed to extract parameters from estimator\n"
     ]
    },
    {
     "name": "stdout",
     "output_type": "stream",
     "text": [
      "[CV 3/3] END gamma=3.2, learning_rate=0.15, max_depth=7, n_estimators=130;, score=(train=0.802, test=0.764) total time=   1.1s\n"
     ]
    },
    {
     "name": "stderr",
     "output_type": "stream",
     "text": [
      "COMET ERROR: Failed to extract parameters from estimator\n",
      "COMET ERROR: Failed to extract parameters from estimator\n",
      "COMET ERROR: Failed to extract parameters from estimator\n",
      "COMET ERROR: Failed to extract parameters from estimator\n",
      "COMET ERROR: Failed to extract parameters from estimator\n"
     ]
    },
    {
     "name": "stdout",
     "output_type": "stream",
     "text": [
      "Fitting 3 folds for each of 1 candidates, totalling 3 fits\n"
     ]
    },
    {
     "name": "stderr",
     "output_type": "stream",
     "text": [
      "C:\\Users\\saiak\\.conda\\envs\\ift6758-conda-env\\lib\\site-packages\\xgboost\\training.py:17: UserWarning:\n",
      "\n",
      "Old style callback is deprecated.  See: https://xgboost.readthedocs.io/en/latest/python/callbacks.html\n",
      "\n"
     ]
    },
    {
     "name": "stdout",
     "output_type": "stream",
     "text": [
      "[CV 1/3] END gamma=3.2, learning_rate=0.6, max_depth=7, n_estimators=130;, score=(train=0.797, test=0.758) total time=   0.7s\n"
     ]
    },
    {
     "name": "stderr",
     "output_type": "stream",
     "text": [
      "C:\\Users\\saiak\\.conda\\envs\\ift6758-conda-env\\lib\\site-packages\\xgboost\\training.py:17: UserWarning:\n",
      "\n",
      "Old style callback is deprecated.  See: https://xgboost.readthedocs.io/en/latest/python/callbacks.html\n",
      "\n"
     ]
    },
    {
     "name": "stdout",
     "output_type": "stream",
     "text": [
      "[CV 2/3] END gamma=3.2, learning_rate=0.6, max_depth=7, n_estimators=130;, score=(train=0.805, test=0.752) total time=   0.7s\n"
     ]
    },
    {
     "name": "stderr",
     "output_type": "stream",
     "text": [
      "C:\\Users\\saiak\\.conda\\envs\\ift6758-conda-env\\lib\\site-packages\\xgboost\\training.py:17: UserWarning:\n",
      "\n",
      "Old style callback is deprecated.  See: https://xgboost.readthedocs.io/en/latest/python/callbacks.html\n",
      "\n",
      "COMET ERROR: Failed to extract parameters from estimator\n"
     ]
    },
    {
     "name": "stdout",
     "output_type": "stream",
     "text": [
      "[CV 3/3] END gamma=3.2, learning_rate=0.6, max_depth=7, n_estimators=130;, score=(train=0.806, test=0.750) total time=   0.8s\n"
     ]
    },
    {
     "name": "stderr",
     "output_type": "stream",
     "text": [
      "COMET ERROR: Failed to extract parameters from estimator\n",
      "COMET ERROR: Failed to extract parameters from estimator\n",
      "COMET ERROR: Failed to extract parameters from estimator\n",
      "COMET ERROR: Failed to extract parameters from estimator\n",
      "COMET ERROR: Failed to extract parameters from estimator\n"
     ]
    },
    {
     "name": "stdout",
     "output_type": "stream",
     "text": [
      "Fitting 3 folds for each of 1 candidates, totalling 3 fits\n"
     ]
    },
    {
     "name": "stderr",
     "output_type": "stream",
     "text": [
      "C:\\Users\\saiak\\.conda\\envs\\ift6758-conda-env\\lib\\site-packages\\xgboost\\training.py:17: UserWarning:\n",
      "\n",
      "Old style callback is deprecated.  See: https://xgboost.readthedocs.io/en/latest/python/callbacks.html\n",
      "\n"
     ]
    },
    {
     "name": "stdout",
     "output_type": "stream",
     "text": [
      "[CV 1/3] END gamma=6.4, learning_rate=0.15, max_depth=6, n_estimators=50;, score=(train=0.779, test=0.762) total time=   0.6s\n"
     ]
    },
    {
     "name": "stderr",
     "output_type": "stream",
     "text": [
      "C:\\Users\\saiak\\.conda\\envs\\ift6758-conda-env\\lib\\site-packages\\xgboost\\training.py:17: UserWarning:\n",
      "\n",
      "Old style callback is deprecated.  See: https://xgboost.readthedocs.io/en/latest/python/callbacks.html\n",
      "\n"
     ]
    },
    {
     "name": "stdout",
     "output_type": "stream",
     "text": [
      "[CV 2/3] END gamma=6.4, learning_rate=0.15, max_depth=6, n_estimators=50;, score=(train=0.781, test=0.761) total time=   0.6s\n"
     ]
    },
    {
     "name": "stderr",
     "output_type": "stream",
     "text": [
      "C:\\Users\\saiak\\.conda\\envs\\ift6758-conda-env\\lib\\site-packages\\xgboost\\training.py:17: UserWarning:\n",
      "\n",
      "Old style callback is deprecated.  See: https://xgboost.readthedocs.io/en/latest/python/callbacks.html\n",
      "\n",
      "COMET ERROR: Failed to extract parameters from estimator\n"
     ]
    },
    {
     "name": "stdout",
     "output_type": "stream",
     "text": [
      "[CV 3/3] END gamma=6.4, learning_rate=0.15, max_depth=6, n_estimators=50;, score=(train=0.778, test=0.760) total time=   0.7s\n"
     ]
    },
    {
     "name": "stderr",
     "output_type": "stream",
     "text": [
      "COMET ERROR: Failed to extract parameters from estimator\n",
      "COMET ERROR: Failed to extract parameters from estimator\n",
      "COMET ERROR: Failed to extract parameters from estimator\n",
      "COMET ERROR: Failed to extract parameters from estimator\n",
      "COMET ERROR: Failed to extract parameters from estimator\n"
     ]
    },
    {
     "name": "stdout",
     "output_type": "stream",
     "text": [
      "Fitting 3 folds for each of 1 candidates, totalling 3 fits\n"
     ]
    },
    {
     "name": "stderr",
     "output_type": "stream",
     "text": [
      "C:\\Users\\saiak\\.conda\\envs\\ift6758-conda-env\\lib\\site-packages\\xgboost\\training.py:17: UserWarning:\n",
      "\n",
      "Old style callback is deprecated.  See: https://xgboost.readthedocs.io/en/latest/python/callbacks.html\n",
      "\n"
     ]
    },
    {
     "name": "stdout",
     "output_type": "stream",
     "text": [
      "[CV 1/3] END gamma=3.2, learning_rate=0.01, max_depth=6, n_estimators=130;, score=(train=0.758, test=0.748) total time=   1.5s\n"
     ]
    },
    {
     "name": "stderr",
     "output_type": "stream",
     "text": [
      "C:\\Users\\saiak\\.conda\\envs\\ift6758-conda-env\\lib\\site-packages\\xgboost\\training.py:17: UserWarning:\n",
      "\n",
      "Old style callback is deprecated.  See: https://xgboost.readthedocs.io/en/latest/python/callbacks.html\n",
      "\n"
     ]
    },
    {
     "name": "stdout",
     "output_type": "stream",
     "text": [
      "[CV 2/3] END gamma=3.2, learning_rate=0.01, max_depth=6, n_estimators=130;, score=(train=0.759, test=0.750) total time=   1.5s\n"
     ]
    },
    {
     "name": "stderr",
     "output_type": "stream",
     "text": [
      "C:\\Users\\saiak\\.conda\\envs\\ift6758-conda-env\\lib\\site-packages\\xgboost\\training.py:17: UserWarning:\n",
      "\n",
      "Old style callback is deprecated.  See: https://xgboost.readthedocs.io/en/latest/python/callbacks.html\n",
      "\n",
      "COMET ERROR: Failed to extract parameters from estimator\n"
     ]
    },
    {
     "name": "stdout",
     "output_type": "stream",
     "text": [
      "[CV 3/3] END gamma=3.2, learning_rate=0.01, max_depth=6, n_estimators=130;, score=(train=0.757, test=0.749) total time=   1.5s\n"
     ]
    },
    {
     "name": "stderr",
     "output_type": "stream",
     "text": [
      "COMET ERROR: Failed to extract parameters from estimator\n",
      "COMET ERROR: Failed to extract parameters from estimator\n",
      "COMET ERROR: Failed to extract parameters from estimator\n",
      "COMET ERROR: Failed to extract parameters from estimator\n",
      "COMET ERROR: Failed to extract parameters from estimator\n"
     ]
    },
    {
     "name": "stdout",
     "output_type": "stream",
     "text": [
      "Fitting 3 folds for each of 1 candidates, totalling 3 fits\n"
     ]
    },
    {
     "name": "stderr",
     "output_type": "stream",
     "text": [
      "C:\\Users\\saiak\\.conda\\envs\\ift6758-conda-env\\lib\\site-packages\\xgboost\\training.py:17: UserWarning:\n",
      "\n",
      "Old style callback is deprecated.  See: https://xgboost.readthedocs.io/en/latest/python/callbacks.html\n",
      "\n"
     ]
    },
    {
     "name": "stdout",
     "output_type": "stream",
     "text": [
      "[CV 1/3] END gamma=3.2, learning_rate=0.4, max_depth=7, n_estimators=130;, score=(train=0.800, test=0.758) total time=   0.8s\n"
     ]
    },
    {
     "name": "stderr",
     "output_type": "stream",
     "text": [
      "C:\\Users\\saiak\\.conda\\envs\\ift6758-conda-env\\lib\\site-packages\\xgboost\\training.py:17: UserWarning:\n",
      "\n",
      "Old style callback is deprecated.  See: https://xgboost.readthedocs.io/en/latest/python/callbacks.html\n",
      "\n"
     ]
    },
    {
     "name": "stdout",
     "output_type": "stream",
     "text": [
      "[CV 2/3] END gamma=3.2, learning_rate=0.4, max_depth=7, n_estimators=130;, score=(train=0.803, test=0.760) total time=   0.8s\n"
     ]
    },
    {
     "name": "stderr",
     "output_type": "stream",
     "text": [
      "C:\\Users\\saiak\\.conda\\envs\\ift6758-conda-env\\lib\\site-packages\\xgboost\\training.py:17: UserWarning:\n",
      "\n",
      "Old style callback is deprecated.  See: https://xgboost.readthedocs.io/en/latest/python/callbacks.html\n",
      "\n",
      "COMET ERROR: Failed to extract parameters from estimator\n",
      "COMET ERROR: Failed to extract parameters from estimator\n"
     ]
    },
    {
     "name": "stdout",
     "output_type": "stream",
     "text": [
      "[CV 3/3] END gamma=3.2, learning_rate=0.4, max_depth=7, n_estimators=130;, score=(train=0.808, test=0.756) total time=   0.8s\n"
     ]
    },
    {
     "name": "stderr",
     "output_type": "stream",
     "text": [
      "C:\\Users\\saiak\\.conda\\envs\\ift6758-conda-env\\lib\\site-packages\\xgboost\\training.py:17: UserWarning:\n",
      "\n",
      "Old style callback is deprecated.  See: https://xgboost.readthedocs.io/en/latest/python/callbacks.html\n",
      "\n"
     ]
    }
   ],
   "source": [
    "##Hyperparameter Tuning\n",
    "#creating deepcopy of default parameters before manipulations\n",
    "experiment = \"xgbase-bayestuning-allfeatures\"\n",
    "params = deepcopy(default_params)\n",
    "\n",
    "#setting grid of selected parameters for iteration\n",
    "param_grid = {'gamma': [0,0.1,0.2,0.4,0.8,1.6,3.2,6.4,12.8,25.6,51.2,102.4, 200],\n",
    "              'learning_rate': [0.01, 0.03, 0.06, 0.1, 0.15, 0.2, 0.25, 0.3, 0.4, 0.5, 0.6, 0.7],\n",
    "              'max_depth': [5,6,7,8,9,10,11,12,13,14],\n",
    "              'n_estimators': [50,65,80,100,115,130,150],\n",
    "            #   'reg_alpha': [0,0.1,0.2,0.4,0.8,1.6,3.2,6.4,12.8,25.6,51.2,102.4,200],\n",
    "            #   'reg_lambda': [0,0.1,0.2,0.4,0.8,1.6,3.2,6.4,12.8,25.6,51.2,102.4,200]\n",
    "              }\n",
    "\n",
    "#No. of jobs\n",
    "bcvj = int(np.cumsum([len(x) for x in param_grid.values()])[-1])\n",
    "\n",
    "#unwrapping list values of default parameters\n",
    "default_params_xgb = {}\n",
    "\n",
    "for key in default_params.keys():\n",
    "    default_params_xgb[key] = default_params[key][0]\n",
    "\n",
    "#providing default parameters to xgbc model, before randomized search cross-validation\n",
    "xgb3 = xgb.XGBClassifier(**default_params_xgb)\n",
    "\n",
    "clf = BayesSearchCV(estimator=xgb3, search_spaces=param_grid, n_iter=bcvj, scoring='roc_auc', return_train_score=True, verbose=3,\n",
    "                    cv = StratifiedKFold(\n",
    "                            n_splits=3,\n",
    "                            shuffle=True\n",
    "                        ))\n",
    "clf.fit(Xtrain, Ytrain.values.ravel())\n",
    "\n",
    "#results dataframe\n",
    "df = pd.DataFrame(clf.cv_results_)\n",
    "\n",
    "#best parameters\n",
    "bp = clf.best_params_\n",
    "\n",
    "#storing computed values in results dictionary\n",
    "results_dict[experiment] = {'iterable_parameter': np.nan,\n",
    "                        'classifier': deepcopy(clf),\n",
    "                        'cv_results': df.copy(),\n",
    "                        'best_params': bp}\n",
    "\n",
    "\n",
    "y_pred_val  = clf.predict(Xval)\n",
    "y_pred_val_scores = clf.predict_proba(Xval)[:,1]"
   ]
  },
  {
   "cell_type": "code",
   "execution_count": 114,
   "metadata": {},
   "outputs": [
    {
     "data": {
      "text/plain": [
       "OrderedDict([('gamma', 1.6),\n",
       "             ('learning_rate', 0.2),\n",
       "             ('max_depth', 6),\n",
       "             ('n_estimators', 115)])"
      ]
     },
     "execution_count": 114,
     "metadata": {},
     "output_type": "execute_result"
    }
   ],
   "source": [
    "bp"
   ]
  },
  {
   "cell_type": "code",
   "execution_count": 115,
   "metadata": {},
   "outputs": [],
   "source": [
    "df_plotly = pd.DataFrame(clf.cv_results_[\"params\"])\n",
    "ploty_hover=df_plotly.columns\n",
    "df_plotly[\"ROC_AUC_mean_fold_test_score\"]=clf.cv_results_[\"mean_test_score\"]\n",
    "df_plotly=df_plotly.reset_index().rename(columns={'index':'experiment_number'})\n",
    "df_plotly[\"Value\"]=\"SubOptimal\"\n",
    "# Ref: https://stackoverflow.com/a/34162576\n",
    "df_plotly.loc[(df_plotly[list(bp)]==pd.Series(bp)).all(axis=1),\"Value\"]=\"Best\"\n"
   ]
  },
  {
   "cell_type": "code",
   "execution_count": 116,
   "metadata": {},
   "outputs": [
    {
     "data": {
      "text/html": [
       "<div>\n",
       "<style scoped>\n",
       "    .dataframe tbody tr th:only-of-type {\n",
       "        vertical-align: middle;\n",
       "    }\n",
       "\n",
       "    .dataframe tbody tr th {\n",
       "        vertical-align: top;\n",
       "    }\n",
       "\n",
       "    .dataframe thead th {\n",
       "        text-align: right;\n",
       "    }\n",
       "</style>\n",
       "<table border=\"1\" class=\"dataframe\">\n",
       "  <thead>\n",
       "    <tr style=\"text-align: right;\">\n",
       "      <th></th>\n",
       "      <th>experiment_number</th>\n",
       "      <th>gamma</th>\n",
       "      <th>learning_rate</th>\n",
       "      <th>max_depth</th>\n",
       "      <th>n_estimators</th>\n",
       "      <th>ROC_AUC_mean_fold_test_score</th>\n",
       "      <th>Value</th>\n",
       "    </tr>\n",
       "  </thead>\n",
       "  <tbody>\n",
       "    <tr>\n",
       "      <th>0</th>\n",
       "      <td>0</td>\n",
       "      <td>200.0</td>\n",
       "      <td>0.30</td>\n",
       "      <td>14</td>\n",
       "      <td>115</td>\n",
       "      <td>0.729404</td>\n",
       "      <td>SubOptimal</td>\n",
       "    </tr>\n",
       "    <tr>\n",
       "      <th>1</th>\n",
       "      <td>1</td>\n",
       "      <td>3.2</td>\n",
       "      <td>0.70</td>\n",
       "      <td>7</td>\n",
       "      <td>130</td>\n",
       "      <td>0.750993</td>\n",
       "      <td>SubOptimal</td>\n",
       "    </tr>\n",
       "    <tr>\n",
       "      <th>2</th>\n",
       "      <td>2</td>\n",
       "      <td>0.1</td>\n",
       "      <td>0.15</td>\n",
       "      <td>11</td>\n",
       "      <td>65</td>\n",
       "      <td>0.751791</td>\n",
       "      <td>SubOptimal</td>\n",
       "    </tr>\n",
       "    <tr>\n",
       "      <th>3</th>\n",
       "      <td>3</td>\n",
       "      <td>102.4</td>\n",
       "      <td>0.20</td>\n",
       "      <td>9</td>\n",
       "      <td>65</td>\n",
       "      <td>0.738364</td>\n",
       "      <td>SubOptimal</td>\n",
       "    </tr>\n",
       "    <tr>\n",
       "      <th>4</th>\n",
       "      <td>4</td>\n",
       "      <td>0.1</td>\n",
       "      <td>0.06</td>\n",
       "      <td>10</td>\n",
       "      <td>80</td>\n",
       "      <td>0.758966</td>\n",
       "      <td>SubOptimal</td>\n",
       "    </tr>\n",
       "    <tr>\n",
       "      <th>5</th>\n",
       "      <td>5</td>\n",
       "      <td>102.4</td>\n",
       "      <td>0.30</td>\n",
       "      <td>9</td>\n",
       "      <td>100</td>\n",
       "      <td>0.738910</td>\n",
       "      <td>SubOptimal</td>\n",
       "    </tr>\n",
       "    <tr>\n",
       "      <th>6</th>\n",
       "      <td>6</td>\n",
       "      <td>6.4</td>\n",
       "      <td>0.10</td>\n",
       "      <td>7</td>\n",
       "      <td>115</td>\n",
       "      <td>0.761301</td>\n",
       "      <td>SubOptimal</td>\n",
       "    </tr>\n",
       "    <tr>\n",
       "      <th>7</th>\n",
       "      <td>7</td>\n",
       "      <td>51.2</td>\n",
       "      <td>0.03</td>\n",
       "      <td>11</td>\n",
       "      <td>115</td>\n",
       "      <td>0.743695</td>\n",
       "      <td>SubOptimal</td>\n",
       "    </tr>\n",
       "    <tr>\n",
       "      <th>8</th>\n",
       "      <td>8</td>\n",
       "      <td>0.4</td>\n",
       "      <td>0.20</td>\n",
       "      <td>9</td>\n",
       "      <td>150</td>\n",
       "      <td>0.747918</td>\n",
       "      <td>SubOptimal</td>\n",
       "    </tr>\n",
       "    <tr>\n",
       "      <th>9</th>\n",
       "      <td>9</td>\n",
       "      <td>6.4</td>\n",
       "      <td>0.30</td>\n",
       "      <td>14</td>\n",
       "      <td>150</td>\n",
       "      <td>0.758774</td>\n",
       "      <td>SubOptimal</td>\n",
       "    </tr>\n",
       "    <tr>\n",
       "      <th>10</th>\n",
       "      <td>10</td>\n",
       "      <td>12.8</td>\n",
       "      <td>0.50</td>\n",
       "      <td>5</td>\n",
       "      <td>115</td>\n",
       "      <td>0.757166</td>\n",
       "      <td>SubOptimal</td>\n",
       "    </tr>\n",
       "    <tr>\n",
       "      <th>11</th>\n",
       "      <td>11</td>\n",
       "      <td>6.4</td>\n",
       "      <td>0.50</td>\n",
       "      <td>10</td>\n",
       "      <td>65</td>\n",
       "      <td>0.755013</td>\n",
       "      <td>SubOptimal</td>\n",
       "    </tr>\n",
       "    <tr>\n",
       "      <th>12</th>\n",
       "      <td>12</td>\n",
       "      <td>1.6</td>\n",
       "      <td>0.25</td>\n",
       "      <td>12</td>\n",
       "      <td>130</td>\n",
       "      <td>0.747475</td>\n",
       "      <td>SubOptimal</td>\n",
       "    </tr>\n",
       "    <tr>\n",
       "      <th>13</th>\n",
       "      <td>13</td>\n",
       "      <td>25.6</td>\n",
       "      <td>0.15</td>\n",
       "      <td>6</td>\n",
       "      <td>65</td>\n",
       "      <td>0.754539</td>\n",
       "      <td>SubOptimal</td>\n",
       "    </tr>\n",
       "    <tr>\n",
       "      <th>14</th>\n",
       "      <td>14</td>\n",
       "      <td>0.2</td>\n",
       "      <td>0.10</td>\n",
       "      <td>10</td>\n",
       "      <td>100</td>\n",
       "      <td>0.754998</td>\n",
       "      <td>SubOptimal</td>\n",
       "    </tr>\n",
       "    <tr>\n",
       "      <th>15</th>\n",
       "      <td>15</td>\n",
       "      <td>0.8</td>\n",
       "      <td>0.20</td>\n",
       "      <td>6</td>\n",
       "      <td>115</td>\n",
       "      <td>0.761049</td>\n",
       "      <td>SubOptimal</td>\n",
       "    </tr>\n",
       "    <tr>\n",
       "      <th>16</th>\n",
       "      <td>16</td>\n",
       "      <td>51.2</td>\n",
       "      <td>0.70</td>\n",
       "      <td>7</td>\n",
       "      <td>50</td>\n",
       "      <td>0.747579</td>\n",
       "      <td>SubOptimal</td>\n",
       "    </tr>\n",
       "    <tr>\n",
       "      <th>17</th>\n",
       "      <td>17</td>\n",
       "      <td>0.0</td>\n",
       "      <td>0.70</td>\n",
       "      <td>11</td>\n",
       "      <td>80</td>\n",
       "      <td>0.692712</td>\n",
       "      <td>SubOptimal</td>\n",
       "    </tr>\n",
       "    <tr>\n",
       "      <th>18</th>\n",
       "      <td>18</td>\n",
       "      <td>0.8</td>\n",
       "      <td>0.70</td>\n",
       "      <td>10</td>\n",
       "      <td>65</td>\n",
       "      <td>0.704393</td>\n",
       "      <td>SubOptimal</td>\n",
       "    </tr>\n",
       "    <tr>\n",
       "      <th>19</th>\n",
       "      <td>19</td>\n",
       "      <td>3.2</td>\n",
       "      <td>0.20</td>\n",
       "      <td>6</td>\n",
       "      <td>115</td>\n",
       "      <td>0.761471</td>\n",
       "      <td>SubOptimal</td>\n",
       "    </tr>\n",
       "    <tr>\n",
       "      <th>20</th>\n",
       "      <td>20</td>\n",
       "      <td>6.4</td>\n",
       "      <td>0.10</td>\n",
       "      <td>7</td>\n",
       "      <td>130</td>\n",
       "      <td>0.761727</td>\n",
       "      <td>SubOptimal</td>\n",
       "    </tr>\n",
       "    <tr>\n",
       "      <th>21</th>\n",
       "      <td>21</td>\n",
       "      <td>12.8</td>\n",
       "      <td>0.20</td>\n",
       "      <td>6</td>\n",
       "      <td>115</td>\n",
       "      <td>0.758607</td>\n",
       "      <td>SubOptimal</td>\n",
       "    </tr>\n",
       "    <tr>\n",
       "      <th>22</th>\n",
       "      <td>22</td>\n",
       "      <td>102.4</td>\n",
       "      <td>0.20</td>\n",
       "      <td>6</td>\n",
       "      <td>115</td>\n",
       "      <td>0.738872</td>\n",
       "      <td>SubOptimal</td>\n",
       "    </tr>\n",
       "    <tr>\n",
       "      <th>23</th>\n",
       "      <td>23</td>\n",
       "      <td>200.0</td>\n",
       "      <td>0.20</td>\n",
       "      <td>13</td>\n",
       "      <td>65</td>\n",
       "      <td>0.729343</td>\n",
       "      <td>SubOptimal</td>\n",
       "    </tr>\n",
       "    <tr>\n",
       "      <th>24</th>\n",
       "      <td>24</td>\n",
       "      <td>200.0</td>\n",
       "      <td>0.10</td>\n",
       "      <td>9</td>\n",
       "      <td>150</td>\n",
       "      <td>0.729325</td>\n",
       "      <td>SubOptimal</td>\n",
       "    </tr>\n",
       "    <tr>\n",
       "      <th>25</th>\n",
       "      <td>25</td>\n",
       "      <td>0.1</td>\n",
       "      <td>0.70</td>\n",
       "      <td>7</td>\n",
       "      <td>130</td>\n",
       "      <td>0.702118</td>\n",
       "      <td>SubOptimal</td>\n",
       "    </tr>\n",
       "    <tr>\n",
       "      <th>26</th>\n",
       "      <td>26</td>\n",
       "      <td>102.4</td>\n",
       "      <td>0.50</td>\n",
       "      <td>5</td>\n",
       "      <td>115</td>\n",
       "      <td>0.737749</td>\n",
       "      <td>SubOptimal</td>\n",
       "    </tr>\n",
       "    <tr>\n",
       "      <th>27</th>\n",
       "      <td>27</td>\n",
       "      <td>0.2</td>\n",
       "      <td>0.06</td>\n",
       "      <td>10</td>\n",
       "      <td>80</td>\n",
       "      <td>0.758324</td>\n",
       "      <td>SubOptimal</td>\n",
       "    </tr>\n",
       "    <tr>\n",
       "      <th>28</th>\n",
       "      <td>28</td>\n",
       "      <td>1.6</td>\n",
       "      <td>0.20</td>\n",
       "      <td>6</td>\n",
       "      <td>115</td>\n",
       "      <td>0.762189</td>\n",
       "      <td>Best</td>\n",
       "    </tr>\n",
       "    <tr>\n",
       "      <th>29</th>\n",
       "      <td>29</td>\n",
       "      <td>6.4</td>\n",
       "      <td>0.06</td>\n",
       "      <td>10</td>\n",
       "      <td>80</td>\n",
       "      <td>0.761921</td>\n",
       "      <td>SubOptimal</td>\n",
       "    </tr>\n",
       "    <tr>\n",
       "      <th>30</th>\n",
       "      <td>30</td>\n",
       "      <td>0.0</td>\n",
       "      <td>0.06</td>\n",
       "      <td>10</td>\n",
       "      <td>80</td>\n",
       "      <td>0.758244</td>\n",
       "      <td>SubOptimal</td>\n",
       "    </tr>\n",
       "    <tr>\n",
       "      <th>31</th>\n",
       "      <td>31</td>\n",
       "      <td>51.2</td>\n",
       "      <td>0.06</td>\n",
       "      <td>10</td>\n",
       "      <td>80</td>\n",
       "      <td>0.746930</td>\n",
       "      <td>SubOptimal</td>\n",
       "    </tr>\n",
       "    <tr>\n",
       "      <th>32</th>\n",
       "      <td>32</td>\n",
       "      <td>12.8</td>\n",
       "      <td>0.06</td>\n",
       "      <td>10</td>\n",
       "      <td>80</td>\n",
       "      <td>0.758890</td>\n",
       "      <td>SubOptimal</td>\n",
       "    </tr>\n",
       "    <tr>\n",
       "      <th>33</th>\n",
       "      <td>33</td>\n",
       "      <td>6.4</td>\n",
       "      <td>0.20</td>\n",
       "      <td>6</td>\n",
       "      <td>115</td>\n",
       "      <td>0.761139</td>\n",
       "      <td>SubOptimal</td>\n",
       "    </tr>\n",
       "    <tr>\n",
       "      <th>34</th>\n",
       "      <td>34</td>\n",
       "      <td>1.6</td>\n",
       "      <td>0.06</td>\n",
       "      <td>10</td>\n",
       "      <td>80</td>\n",
       "      <td>0.759102</td>\n",
       "      <td>SubOptimal</td>\n",
       "    </tr>\n",
       "    <tr>\n",
       "      <th>35</th>\n",
       "      <td>35</td>\n",
       "      <td>0.4</td>\n",
       "      <td>0.20</td>\n",
       "      <td>6</td>\n",
       "      <td>115</td>\n",
       "      <td>0.757931</td>\n",
       "      <td>SubOptimal</td>\n",
       "    </tr>\n",
       "    <tr>\n",
       "      <th>36</th>\n",
       "      <td>36</td>\n",
       "      <td>3.2</td>\n",
       "      <td>0.06</td>\n",
       "      <td>7</td>\n",
       "      <td>100</td>\n",
       "      <td>0.761951</td>\n",
       "      <td>SubOptimal</td>\n",
       "    </tr>\n",
       "    <tr>\n",
       "      <th>37</th>\n",
       "      <td>37</td>\n",
       "      <td>3.2</td>\n",
       "      <td>0.15</td>\n",
       "      <td>7</td>\n",
       "      <td>130</td>\n",
       "      <td>0.762128</td>\n",
       "      <td>SubOptimal</td>\n",
       "    </tr>\n",
       "    <tr>\n",
       "      <th>38</th>\n",
       "      <td>38</td>\n",
       "      <td>3.2</td>\n",
       "      <td>0.60</td>\n",
       "      <td>7</td>\n",
       "      <td>130</td>\n",
       "      <td>0.753173</td>\n",
       "      <td>SubOptimal</td>\n",
       "    </tr>\n",
       "    <tr>\n",
       "      <th>39</th>\n",
       "      <td>39</td>\n",
       "      <td>6.4</td>\n",
       "      <td>0.15</td>\n",
       "      <td>6</td>\n",
       "      <td>50</td>\n",
       "      <td>0.761152</td>\n",
       "      <td>SubOptimal</td>\n",
       "    </tr>\n",
       "    <tr>\n",
       "      <th>40</th>\n",
       "      <td>40</td>\n",
       "      <td>3.2</td>\n",
       "      <td>0.01</td>\n",
       "      <td>6</td>\n",
       "      <td>130</td>\n",
       "      <td>0.749019</td>\n",
       "      <td>SubOptimal</td>\n",
       "    </tr>\n",
       "    <tr>\n",
       "      <th>41</th>\n",
       "      <td>41</td>\n",
       "      <td>3.2</td>\n",
       "      <td>0.40</td>\n",
       "      <td>7</td>\n",
       "      <td>130</td>\n",
       "      <td>0.758222</td>\n",
       "      <td>SubOptimal</td>\n",
       "    </tr>\n",
       "  </tbody>\n",
       "</table>\n",
       "</div>"
      ],
      "text/plain": [
       "    experiment_number  gamma  learning_rate  max_depth  n_estimators  \\\n",
       "0                   0  200.0           0.30         14           115   \n",
       "1                   1    3.2           0.70          7           130   \n",
       "2                   2    0.1           0.15         11            65   \n",
       "3                   3  102.4           0.20          9            65   \n",
       "4                   4    0.1           0.06         10            80   \n",
       "5                   5  102.4           0.30          9           100   \n",
       "6                   6    6.4           0.10          7           115   \n",
       "7                   7   51.2           0.03         11           115   \n",
       "8                   8    0.4           0.20          9           150   \n",
       "9                   9    6.4           0.30         14           150   \n",
       "10                 10   12.8           0.50          5           115   \n",
       "11                 11    6.4           0.50         10            65   \n",
       "12                 12    1.6           0.25         12           130   \n",
       "13                 13   25.6           0.15          6            65   \n",
       "14                 14    0.2           0.10         10           100   \n",
       "15                 15    0.8           0.20          6           115   \n",
       "16                 16   51.2           0.70          7            50   \n",
       "17                 17    0.0           0.70         11            80   \n",
       "18                 18    0.8           0.70         10            65   \n",
       "19                 19    3.2           0.20          6           115   \n",
       "20                 20    6.4           0.10          7           130   \n",
       "21                 21   12.8           0.20          6           115   \n",
       "22                 22  102.4           0.20          6           115   \n",
       "23                 23  200.0           0.20         13            65   \n",
       "24                 24  200.0           0.10          9           150   \n",
       "25                 25    0.1           0.70          7           130   \n",
       "26                 26  102.4           0.50          5           115   \n",
       "27                 27    0.2           0.06         10            80   \n",
       "28                 28    1.6           0.20          6           115   \n",
       "29                 29    6.4           0.06         10            80   \n",
       "30                 30    0.0           0.06         10            80   \n",
       "31                 31   51.2           0.06         10            80   \n",
       "32                 32   12.8           0.06         10            80   \n",
       "33                 33    6.4           0.20          6           115   \n",
       "34                 34    1.6           0.06         10            80   \n",
       "35                 35    0.4           0.20          6           115   \n",
       "36                 36    3.2           0.06          7           100   \n",
       "37                 37    3.2           0.15          7           130   \n",
       "38                 38    3.2           0.60          7           130   \n",
       "39                 39    6.4           0.15          6            50   \n",
       "40                 40    3.2           0.01          6           130   \n",
       "41                 41    3.2           0.40          7           130   \n",
       "\n",
       "    ROC_AUC_mean_fold_test_score       Value  \n",
       "0                       0.729404  SubOptimal  \n",
       "1                       0.750993  SubOptimal  \n",
       "2                       0.751791  SubOptimal  \n",
       "3                       0.738364  SubOptimal  \n",
       "4                       0.758966  SubOptimal  \n",
       "5                       0.738910  SubOptimal  \n",
       "6                       0.761301  SubOptimal  \n",
       "7                       0.743695  SubOptimal  \n",
       "8                       0.747918  SubOptimal  \n",
       "9                       0.758774  SubOptimal  \n",
       "10                      0.757166  SubOptimal  \n",
       "11                      0.755013  SubOptimal  \n",
       "12                      0.747475  SubOptimal  \n",
       "13                      0.754539  SubOptimal  \n",
       "14                      0.754998  SubOptimal  \n",
       "15                      0.761049  SubOptimal  \n",
       "16                      0.747579  SubOptimal  \n",
       "17                      0.692712  SubOptimal  \n",
       "18                      0.704393  SubOptimal  \n",
       "19                      0.761471  SubOptimal  \n",
       "20                      0.761727  SubOptimal  \n",
       "21                      0.758607  SubOptimal  \n",
       "22                      0.738872  SubOptimal  \n",
       "23                      0.729343  SubOptimal  \n",
       "24                      0.729325  SubOptimal  \n",
       "25                      0.702118  SubOptimal  \n",
       "26                      0.737749  SubOptimal  \n",
       "27                      0.758324  SubOptimal  \n",
       "28                      0.762189        Best  \n",
       "29                      0.761921  SubOptimal  \n",
       "30                      0.758244  SubOptimal  \n",
       "31                      0.746930  SubOptimal  \n",
       "32                      0.758890  SubOptimal  \n",
       "33                      0.761139  SubOptimal  \n",
       "34                      0.759102  SubOptimal  \n",
       "35                      0.757931  SubOptimal  \n",
       "36                      0.761951  SubOptimal  \n",
       "37                      0.762128  SubOptimal  \n",
       "38                      0.753173  SubOptimal  \n",
       "39                      0.761152  SubOptimal  \n",
       "40                      0.749019  SubOptimal  \n",
       "41                      0.758222  SubOptimal  "
      ]
     },
     "execution_count": 116,
     "metadata": {},
     "output_type": "execute_result"
    }
   ],
   "source": [
    "df_plotly"
   ]
  },
  {
   "cell_type": "code",
   "execution_count": 108,
   "metadata": {},
   "outputs": [
    {
     "data": {
      "text/plain": [
       "OrderedDict([('gamma', 0.8),\n",
       "             ('learning_rate', 0.15),\n",
       "             ('max_depth', 11),\n",
       "             ('n_estimators', 115),\n",
       "             ('reg_alpha', 1.6),\n",
       "             ('reg_lambda', 102.4)])"
      ]
     },
     "execution_count": 108,
     "metadata": {},
     "output_type": "execute_result"
    }
   ],
   "source": [
    "bp"
   ]
  },
  {
   "cell_type": "code",
   "execution_count": 118,
   "metadata": {},
   "outputs": [
    {
     "data": {
      "application/vnd.plotly.v1+json": {
       "config": {
        "plotlyServerURL": "https://plot.ly"
       },
       "data": [
        {
         "customdata": [
          [
           200,
           0.3,
           14,
           115
          ],
          [
           3.2,
           0.7,
           7,
           130
          ],
          [
           0.1,
           0.15,
           11,
           65
          ],
          [
           102.4,
           0.2,
           9,
           65
          ],
          [
           0.1,
           0.06,
           10,
           80
          ],
          [
           102.4,
           0.3,
           9,
           100
          ],
          [
           6.4,
           0.1,
           7,
           115
          ],
          [
           51.2,
           0.03,
           11,
           115
          ],
          [
           0.4,
           0.2,
           9,
           150
          ],
          [
           6.4,
           0.3,
           14,
           150
          ],
          [
           12.8,
           0.5,
           5,
           115
          ],
          [
           6.4,
           0.5,
           10,
           65
          ],
          [
           1.6,
           0.25,
           12,
           130
          ],
          [
           25.6,
           0.15,
           6,
           65
          ],
          [
           0.2,
           0.1,
           10,
           100
          ],
          [
           0.8,
           0.2,
           6,
           115
          ],
          [
           51.2,
           0.7,
           7,
           50
          ],
          [
           0,
           0.7,
           11,
           80
          ],
          [
           0.8,
           0.7,
           10,
           65
          ],
          [
           3.2,
           0.2,
           6,
           115
          ],
          [
           6.4,
           0.1,
           7,
           130
          ],
          [
           12.8,
           0.2,
           6,
           115
          ],
          [
           102.4,
           0.2,
           6,
           115
          ],
          [
           200,
           0.2,
           13,
           65
          ],
          [
           200,
           0.1,
           9,
           150
          ],
          [
           0.1,
           0.7,
           7,
           130
          ],
          [
           102.4,
           0.5,
           5,
           115
          ],
          [
           0.2,
           0.06,
           10,
           80
          ],
          [
           6.4,
           0.06,
           10,
           80
          ],
          [
           0,
           0.06,
           10,
           80
          ],
          [
           51.2,
           0.06,
           10,
           80
          ],
          [
           12.8,
           0.06,
           10,
           80
          ],
          [
           6.4,
           0.2,
           6,
           115
          ],
          [
           1.6,
           0.06,
           10,
           80
          ],
          [
           0.4,
           0.2,
           6,
           115
          ],
          [
           3.2,
           0.06,
           7,
           100
          ],
          [
           3.2,
           0.15,
           7,
           130
          ],
          [
           3.2,
           0.6,
           7,
           130
          ],
          [
           6.4,
           0.15,
           6,
           50
          ],
          [
           3.2,
           0.01,
           6,
           130
          ],
          [
           3.2,
           0.4,
           7,
           130
          ]
         ],
         "hovertemplate": "Value=SubOptimal<br>experiment_number=%{x}<br>ROC_AUC_mean_fold_test_score=%{y}<br>gamma=%{customdata[0]}<br>learning_rate=%{customdata[1]}<br>max_depth=%{customdata[2]}<br>n_estimators=%{customdata[3]}<extra></extra>",
         "legendgroup": "SubOptimal",
         "marker": {
          "color": "#636efa",
          "size": 10,
          "symbol": "circle"
         },
         "mode": "markers",
         "name": "SubOptimal",
         "orientation": "v",
         "showlegend": true,
         "type": "scatter",
         "x": [
          0,
          1,
          2,
          3,
          4,
          5,
          6,
          7,
          8,
          9,
          10,
          11,
          12,
          13,
          14,
          15,
          16,
          17,
          18,
          19,
          20,
          21,
          22,
          23,
          24,
          25,
          26,
          27,
          29,
          30,
          31,
          32,
          33,
          34,
          35,
          36,
          37,
          38,
          39,
          40,
          41
         ],
         "xaxis": "x",
         "y": [
          0.7294041114688042,
          0.750993483067735,
          0.7517907681292252,
          0.7383636819577092,
          0.7589662392688884,
          0.7389097178816005,
          0.761300591955632,
          0.7436953532986684,
          0.7479177586344198,
          0.7587743389617626,
          0.7571657651921457,
          0.7550130559407954,
          0.7474751221273928,
          0.754538795527982,
          0.7549983522737126,
          0.7610488161417525,
          0.7475788005533445,
          0.6927119535089342,
          0.7043930782212556,
          0.7614709577629033,
          0.7617265934026444,
          0.7586073908082224,
          0.7388719212817952,
          0.7293427398194554,
          0.729325039354224,
          0.7021183672760376,
          0.7377493434420485,
          0.7583243139665682,
          0.7619213012377296,
          0.7582438776153405,
          0.7469295251842479,
          0.7588904725016533,
          0.7611394145202386,
          0.7591018659957683,
          0.7579309606342773,
          0.7619512749639306,
          0.762128370892782,
          0.7531732151672648,
          0.7611517853487989,
          0.7490192769973127,
          0.7582224546845852
         ],
         "yaxis": "y"
        },
        {
         "customdata": [
          [
           1.6,
           0.2,
           6,
           115
          ]
         ],
         "hovertemplate": "Value=Best<br>experiment_number=%{x}<br>ROC_AUC_mean_fold_test_score=%{y}<br>gamma=%{customdata[0]}<br>learning_rate=%{customdata[1]}<br>max_depth=%{customdata[2]}<br>n_estimators=%{customdata[3]}<extra></extra>",
         "legendgroup": "Best",
         "marker": {
          "color": "#EF553B",
          "size": 10,
          "symbol": "circle"
         },
         "mode": "markers",
         "name": "Best",
         "orientation": "v",
         "showlegend": true,
         "type": "scatter",
         "x": [
          28
         ],
         "xaxis": "x",
         "y": [
          0.7621890206437948
         ],
         "yaxis": "y"
        }
       ],
       "layout": {
        "legend": {
         "title": {
          "text": "Value"
         },
         "tracegroupgap": 0
        },
        "template": {
         "data": {
          "bar": [
           {
            "error_x": {
             "color": "#2a3f5f"
            },
            "error_y": {
             "color": "#2a3f5f"
            },
            "marker": {
             "line": {
              "color": "#E5ECF6",
              "width": 0.5
             },
             "pattern": {
              "fillmode": "overlay",
              "size": 10,
              "solidity": 0.2
             }
            },
            "type": "bar"
           }
          ],
          "barpolar": [
           {
            "marker": {
             "line": {
              "color": "#E5ECF6",
              "width": 0.5
             },
             "pattern": {
              "fillmode": "overlay",
              "size": 10,
              "solidity": 0.2
             }
            },
            "type": "barpolar"
           }
          ],
          "carpet": [
           {
            "aaxis": {
             "endlinecolor": "#2a3f5f",
             "gridcolor": "white",
             "linecolor": "white",
             "minorgridcolor": "white",
             "startlinecolor": "#2a3f5f"
            },
            "baxis": {
             "endlinecolor": "#2a3f5f",
             "gridcolor": "white",
             "linecolor": "white",
             "minorgridcolor": "white",
             "startlinecolor": "#2a3f5f"
            },
            "type": "carpet"
           }
          ],
          "choropleth": [
           {
            "colorbar": {
             "outlinewidth": 0,
             "ticks": ""
            },
            "type": "choropleth"
           }
          ],
          "contour": [
           {
            "colorbar": {
             "outlinewidth": 0,
             "ticks": ""
            },
            "colorscale": [
             [
              0,
              "#0d0887"
             ],
             [
              0.1111111111111111,
              "#46039f"
             ],
             [
              0.2222222222222222,
              "#7201a8"
             ],
             [
              0.3333333333333333,
              "#9c179e"
             ],
             [
              0.4444444444444444,
              "#bd3786"
             ],
             [
              0.5555555555555556,
              "#d8576b"
             ],
             [
              0.6666666666666666,
              "#ed7953"
             ],
             [
              0.7777777777777778,
              "#fb9f3a"
             ],
             [
              0.8888888888888888,
              "#fdca26"
             ],
             [
              1,
              "#f0f921"
             ]
            ],
            "type": "contour"
           }
          ],
          "contourcarpet": [
           {
            "colorbar": {
             "outlinewidth": 0,
             "ticks": ""
            },
            "type": "contourcarpet"
           }
          ],
          "heatmap": [
           {
            "colorbar": {
             "outlinewidth": 0,
             "ticks": ""
            },
            "colorscale": [
             [
              0,
              "#0d0887"
             ],
             [
              0.1111111111111111,
              "#46039f"
             ],
             [
              0.2222222222222222,
              "#7201a8"
             ],
             [
              0.3333333333333333,
              "#9c179e"
             ],
             [
              0.4444444444444444,
              "#bd3786"
             ],
             [
              0.5555555555555556,
              "#d8576b"
             ],
             [
              0.6666666666666666,
              "#ed7953"
             ],
             [
              0.7777777777777778,
              "#fb9f3a"
             ],
             [
              0.8888888888888888,
              "#fdca26"
             ],
             [
              1,
              "#f0f921"
             ]
            ],
            "type": "heatmap"
           }
          ],
          "heatmapgl": [
           {
            "colorbar": {
             "outlinewidth": 0,
             "ticks": ""
            },
            "colorscale": [
             [
              0,
              "#0d0887"
             ],
             [
              0.1111111111111111,
              "#46039f"
             ],
             [
              0.2222222222222222,
              "#7201a8"
             ],
             [
              0.3333333333333333,
              "#9c179e"
             ],
             [
              0.4444444444444444,
              "#bd3786"
             ],
             [
              0.5555555555555556,
              "#d8576b"
             ],
             [
              0.6666666666666666,
              "#ed7953"
             ],
             [
              0.7777777777777778,
              "#fb9f3a"
             ],
             [
              0.8888888888888888,
              "#fdca26"
             ],
             [
              1,
              "#f0f921"
             ]
            ],
            "type": "heatmapgl"
           }
          ],
          "histogram": [
           {
            "marker": {
             "pattern": {
              "fillmode": "overlay",
              "size": 10,
              "solidity": 0.2
             }
            },
            "type": "histogram"
           }
          ],
          "histogram2d": [
           {
            "colorbar": {
             "outlinewidth": 0,
             "ticks": ""
            },
            "colorscale": [
             [
              0,
              "#0d0887"
             ],
             [
              0.1111111111111111,
              "#46039f"
             ],
             [
              0.2222222222222222,
              "#7201a8"
             ],
             [
              0.3333333333333333,
              "#9c179e"
             ],
             [
              0.4444444444444444,
              "#bd3786"
             ],
             [
              0.5555555555555556,
              "#d8576b"
             ],
             [
              0.6666666666666666,
              "#ed7953"
             ],
             [
              0.7777777777777778,
              "#fb9f3a"
             ],
             [
              0.8888888888888888,
              "#fdca26"
             ],
             [
              1,
              "#f0f921"
             ]
            ],
            "type": "histogram2d"
           }
          ],
          "histogram2dcontour": [
           {
            "colorbar": {
             "outlinewidth": 0,
             "ticks": ""
            },
            "colorscale": [
             [
              0,
              "#0d0887"
             ],
             [
              0.1111111111111111,
              "#46039f"
             ],
             [
              0.2222222222222222,
              "#7201a8"
             ],
             [
              0.3333333333333333,
              "#9c179e"
             ],
             [
              0.4444444444444444,
              "#bd3786"
             ],
             [
              0.5555555555555556,
              "#d8576b"
             ],
             [
              0.6666666666666666,
              "#ed7953"
             ],
             [
              0.7777777777777778,
              "#fb9f3a"
             ],
             [
              0.8888888888888888,
              "#fdca26"
             ],
             [
              1,
              "#f0f921"
             ]
            ],
            "type": "histogram2dcontour"
           }
          ],
          "mesh3d": [
           {
            "colorbar": {
             "outlinewidth": 0,
             "ticks": ""
            },
            "type": "mesh3d"
           }
          ],
          "parcoords": [
           {
            "line": {
             "colorbar": {
              "outlinewidth": 0,
              "ticks": ""
             }
            },
            "type": "parcoords"
           }
          ],
          "pie": [
           {
            "automargin": true,
            "type": "pie"
           }
          ],
          "scatter": [
           {
            "marker": {
             "colorbar": {
              "outlinewidth": 0,
              "ticks": ""
             }
            },
            "type": "scatter"
           }
          ],
          "scatter3d": [
           {
            "line": {
             "colorbar": {
              "outlinewidth": 0,
              "ticks": ""
             }
            },
            "marker": {
             "colorbar": {
              "outlinewidth": 0,
              "ticks": ""
             }
            },
            "type": "scatter3d"
           }
          ],
          "scattercarpet": [
           {
            "marker": {
             "colorbar": {
              "outlinewidth": 0,
              "ticks": ""
             }
            },
            "type": "scattercarpet"
           }
          ],
          "scattergeo": [
           {
            "marker": {
             "colorbar": {
              "outlinewidth": 0,
              "ticks": ""
             }
            },
            "type": "scattergeo"
           }
          ],
          "scattergl": [
           {
            "marker": {
             "colorbar": {
              "outlinewidth": 0,
              "ticks": ""
             }
            },
            "type": "scattergl"
           }
          ],
          "scattermapbox": [
           {
            "marker": {
             "colorbar": {
              "outlinewidth": 0,
              "ticks": ""
             }
            },
            "type": "scattermapbox"
           }
          ],
          "scatterpolar": [
           {
            "marker": {
             "colorbar": {
              "outlinewidth": 0,
              "ticks": ""
             }
            },
            "type": "scatterpolar"
           }
          ],
          "scatterpolargl": [
           {
            "marker": {
             "colorbar": {
              "outlinewidth": 0,
              "ticks": ""
             }
            },
            "type": "scatterpolargl"
           }
          ],
          "scatterternary": [
           {
            "marker": {
             "colorbar": {
              "outlinewidth": 0,
              "ticks": ""
             }
            },
            "type": "scatterternary"
           }
          ],
          "surface": [
           {
            "colorbar": {
             "outlinewidth": 0,
             "ticks": ""
            },
            "colorscale": [
             [
              0,
              "#0d0887"
             ],
             [
              0.1111111111111111,
              "#46039f"
             ],
             [
              0.2222222222222222,
              "#7201a8"
             ],
             [
              0.3333333333333333,
              "#9c179e"
             ],
             [
              0.4444444444444444,
              "#bd3786"
             ],
             [
              0.5555555555555556,
              "#d8576b"
             ],
             [
              0.6666666666666666,
              "#ed7953"
             ],
             [
              0.7777777777777778,
              "#fb9f3a"
             ],
             [
              0.8888888888888888,
              "#fdca26"
             ],
             [
              1,
              "#f0f921"
             ]
            ],
            "type": "surface"
           }
          ],
          "table": [
           {
            "cells": {
             "fill": {
              "color": "#EBF0F8"
             },
             "line": {
              "color": "white"
             }
            },
            "header": {
             "fill": {
              "color": "#C8D4E3"
             },
             "line": {
              "color": "white"
             }
            },
            "type": "table"
           }
          ]
         },
         "layout": {
          "annotationdefaults": {
           "arrowcolor": "#2a3f5f",
           "arrowhead": 0,
           "arrowwidth": 1
          },
          "autotypenumbers": "strict",
          "coloraxis": {
           "colorbar": {
            "outlinewidth": 0,
            "ticks": ""
           }
          },
          "colorscale": {
           "diverging": [
            [
             0,
             "#8e0152"
            ],
            [
             0.1,
             "#c51b7d"
            ],
            [
             0.2,
             "#de77ae"
            ],
            [
             0.3,
             "#f1b6da"
            ],
            [
             0.4,
             "#fde0ef"
            ],
            [
             0.5,
             "#f7f7f7"
            ],
            [
             0.6,
             "#e6f5d0"
            ],
            [
             0.7,
             "#b8e186"
            ],
            [
             0.8,
             "#7fbc41"
            ],
            [
             0.9,
             "#4d9221"
            ],
            [
             1,
             "#276419"
            ]
           ],
           "sequential": [
            [
             0,
             "#0d0887"
            ],
            [
             0.1111111111111111,
             "#46039f"
            ],
            [
             0.2222222222222222,
             "#7201a8"
            ],
            [
             0.3333333333333333,
             "#9c179e"
            ],
            [
             0.4444444444444444,
             "#bd3786"
            ],
            [
             0.5555555555555556,
             "#d8576b"
            ],
            [
             0.6666666666666666,
             "#ed7953"
            ],
            [
             0.7777777777777778,
             "#fb9f3a"
            ],
            [
             0.8888888888888888,
             "#fdca26"
            ],
            [
             1,
             "#f0f921"
            ]
           ],
           "sequentialminus": [
            [
             0,
             "#0d0887"
            ],
            [
             0.1111111111111111,
             "#46039f"
            ],
            [
             0.2222222222222222,
             "#7201a8"
            ],
            [
             0.3333333333333333,
             "#9c179e"
            ],
            [
             0.4444444444444444,
             "#bd3786"
            ],
            [
             0.5555555555555556,
             "#d8576b"
            ],
            [
             0.6666666666666666,
             "#ed7953"
            ],
            [
             0.7777777777777778,
             "#fb9f3a"
            ],
            [
             0.8888888888888888,
             "#fdca26"
            ],
            [
             1,
             "#f0f921"
            ]
           ]
          },
          "colorway": [
           "#636efa",
           "#EF553B",
           "#00cc96",
           "#ab63fa",
           "#FFA15A",
           "#19d3f3",
           "#FF6692",
           "#B6E880",
           "#FF97FF",
           "#FECB52"
          ],
          "font": {
           "color": "#2a3f5f"
          },
          "geo": {
           "bgcolor": "white",
           "lakecolor": "white",
           "landcolor": "#E5ECF6",
           "showlakes": true,
           "showland": true,
           "subunitcolor": "white"
          },
          "hoverlabel": {
           "align": "left"
          },
          "hovermode": "closest",
          "mapbox": {
           "style": "light"
          },
          "paper_bgcolor": "white",
          "plot_bgcolor": "#E5ECF6",
          "polar": {
           "angularaxis": {
            "gridcolor": "white",
            "linecolor": "white",
            "ticks": ""
           },
           "bgcolor": "#E5ECF6",
           "radialaxis": {
            "gridcolor": "white",
            "linecolor": "white",
            "ticks": ""
           }
          },
          "scene": {
           "xaxis": {
            "backgroundcolor": "#E5ECF6",
            "gridcolor": "white",
            "gridwidth": 2,
            "linecolor": "white",
            "showbackground": true,
            "ticks": "",
            "zerolinecolor": "white"
           },
           "yaxis": {
            "backgroundcolor": "#E5ECF6",
            "gridcolor": "white",
            "gridwidth": 2,
            "linecolor": "white",
            "showbackground": true,
            "ticks": "",
            "zerolinecolor": "white"
           },
           "zaxis": {
            "backgroundcolor": "#E5ECF6",
            "gridcolor": "white",
            "gridwidth": 2,
            "linecolor": "white",
            "showbackground": true,
            "ticks": "",
            "zerolinecolor": "white"
           }
          },
          "shapedefaults": {
           "line": {
            "color": "#2a3f5f"
           }
          },
          "ternary": {
           "aaxis": {
            "gridcolor": "white",
            "linecolor": "white",
            "ticks": ""
           },
           "baxis": {
            "gridcolor": "white",
            "linecolor": "white",
            "ticks": ""
           },
           "bgcolor": "#E5ECF6",
           "caxis": {
            "gridcolor": "white",
            "linecolor": "white",
            "ticks": ""
           }
          },
          "title": {
           "x": 0.05
          },
          "xaxis": {
           "automargin": true,
           "gridcolor": "white",
           "linecolor": "white",
           "ticks": "",
           "title": {
            "standoff": 15
           },
           "zerolinecolor": "white",
           "zerolinewidth": 2
          },
          "yaxis": {
           "automargin": true,
           "gridcolor": "white",
           "linecolor": "white",
           "ticks": "",
           "title": {
            "standoff": 15
           },
           "zerolinecolor": "white",
           "zerolinewidth": 2
          }
         }
        },
        "title": {
         "text": "Scatter BayesCV Experiments Scores"
        },
        "xaxis": {
         "anchor": "y",
         "domain": [
          0,
          1
         ],
         "title": {
          "text": "experiment_number"
         }
        },
        "yaxis": {
         "anchor": "x",
         "domain": [
          0,
          1
         ],
         "title": {
          "text": "ROC_AUC_mean_fold_test_score"
         }
        }
       }
      }
     },
     "metadata": {},
     "output_type": "display_data"
    }
   ],
   "source": [
    "import plotly.express as px\n",
    "\n",
    "fig = px.scatter(df_plotly, y=\"ROC_AUC_mean_fold_test_score\",color=\"Value\", x=\"experiment_number\",hover_data=ploty_hover,title=\"Scatter BayesCV Experiments Scores\")\n",
    "# px.scatter()\n",
    "fig.update_traces(marker_size=10)\n",
    "fig.show()"
   ]
  },
  {
   "cell_type": "code",
   "execution_count": 84,
   "metadata": {},
   "outputs": [
    {
     "data": {
      "text/html": [
       "<div>\n",
       "<style scoped>\n",
       "    .dataframe tbody tr th:only-of-type {\n",
       "        vertical-align: middle;\n",
       "    }\n",
       "\n",
       "    .dataframe tbody tr th {\n",
       "        vertical-align: top;\n",
       "    }\n",
       "\n",
       "    .dataframe thead th {\n",
       "        text-align: right;\n",
       "    }\n",
       "</style>\n",
       "<table border=\"1\" class=\"dataframe\">\n",
       "  <thead>\n",
       "    <tr style=\"text-align: right;\">\n",
       "      <th></th>\n",
       "      <th>gamma</th>\n",
       "      <th>learning_rate</th>\n",
       "      <th>max_depth</th>\n",
       "      <th>n_estimators</th>\n",
       "      <th>reg_alpha</th>\n",
       "      <th>reg_lambda</th>\n",
       "      <th>mean_test_score</th>\n",
       "    </tr>\n",
       "  </thead>\n",
       "  <tbody>\n",
       "    <tr>\n",
       "      <th>0</th>\n",
       "      <td>1.6</td>\n",
       "      <td>0.40</td>\n",
       "      <td>13</td>\n",
       "      <td>80</td>\n",
       "      <td>12.8</td>\n",
       "      <td>1.6</td>\n",
       "      <td>0.756729</td>\n",
       "    </tr>\n",
       "    <tr>\n",
       "      <th>1</th>\n",
       "      <td>0.0</td>\n",
       "      <td>0.06</td>\n",
       "      <td>6</td>\n",
       "      <td>115</td>\n",
       "      <td>51.2</td>\n",
       "      <td>25.6</td>\n",
       "      <td>0.755294</td>\n",
       "    </tr>\n",
       "    <tr>\n",
       "      <th>2</th>\n",
       "      <td>51.2</td>\n",
       "      <td>0.60</td>\n",
       "      <td>5</td>\n",
       "      <td>80</td>\n",
       "      <td>102.4</td>\n",
       "      <td>0.8</td>\n",
       "      <td>0.735224</td>\n",
       "    </tr>\n",
       "    <tr>\n",
       "      <th>3</th>\n",
       "      <td>0.4</td>\n",
       "      <td>0.10</td>\n",
       "      <td>5</td>\n",
       "      <td>80</td>\n",
       "      <td>1.6</td>\n",
       "      <td>200.0</td>\n",
       "      <td>0.756031</td>\n",
       "    </tr>\n",
       "    <tr>\n",
       "      <th>4</th>\n",
       "      <td>51.2</td>\n",
       "      <td>0.03</td>\n",
       "      <td>11</td>\n",
       "      <td>115</td>\n",
       "      <td>6.4</td>\n",
       "      <td>1.6</td>\n",
       "      <td>0.741994</td>\n",
       "    </tr>\n",
       "  </tbody>\n",
       "</table>\n",
       "</div>"
      ],
      "text/plain": [
       "   gamma  learning_rate  max_depth  n_estimators  reg_alpha  reg_lambda  \\\n",
       "0    1.6           0.40         13            80       12.8         1.6   \n",
       "1    0.0           0.06          6           115       51.2        25.6   \n",
       "2   51.2           0.60          5            80      102.4         0.8   \n",
       "3    0.4           0.10          5            80        1.6       200.0   \n",
       "4   51.2           0.03         11           115        6.4         1.6   \n",
       "\n",
       "   mean_test_score  \n",
       "0         0.756729  \n",
       "1         0.755294  \n",
       "2         0.735224  \n",
       "3         0.756031  \n",
       "4         0.741994  "
      ]
     },
     "execution_count": 84,
     "metadata": {},
     "output_type": "execute_result"
    }
   ],
   "source": [
    "df_plotly.head()"
   ]
  },
  {
   "cell_type": "code",
   "execution_count": 119,
   "metadata": {},
   "outputs": [
    {
     "name": "stdout",
     "output_type": "stream",
     "text": [
      "              precision    recall  f1-score   support\n",
      "\n",
      "           0       0.91      1.00      0.95     70480\n",
      "           1       0.54      0.03      0.06      7297\n",
      "\n",
      "    accuracy                           0.91     77777\n",
      "   macro avg       0.72      0.51      0.51     77777\n",
      "weighted avg       0.87      0.91      0.87     77777\n",
      "\n"
     ]
    },
    {
     "data": {
      "image/png": "[encoded data removed]",
      "text/plain": [
       "<Figure size 720x360 with 2 Axes>"
      ]
     },
     "metadata": {
      "needs_background": "light"
     },
     "output_type": "display_data"
    },
    {
     "data": {
      "image/png": "[encoded data removed]",
      "text/plain": [
       "<Figure size 432x288 with 1 Axes>"
      ]
     },
     "metadata": {
      "needs_background": "light"
     },
     "output_type": "display_data"
    },
    {
     "data": {
      "image/png": "[encoded data removed]",
      "text/plain": [
       "<Figure size 1080x540 with 2 Axes>"
      ]
     },
     "metadata": {
      "needs_background": "light"
     },
     "output_type": "display_data"
    },
    {
     "data": {
      "image/png": "[encoded data removed]",
      "text/plain": [
       "<Figure size 540x540 with 1 Axes>"
      ]
     },
     "metadata": {
      "needs_background": "light"
     },
     "output_type": "display_data"
    }
   ],
   "source": [
    "\n",
    "plot_metrics.plotConfusion(Yval,y_pred_val,title=experiment)\n",
    "if COMET:\n",
    "    comet_exp.log_figure(figure=plt)\n",
    "plot_metrics.plot_roc([Yval],[y_pred_val_scores],plot_labels=[experiment])\n",
    "if COMET:\n",
    "    comet_exp.log_figure(figure=plt)\n",
    "plot_metrics.plot_percentile([Yval],[y_pred_val_scores],plot_labels=[experiment],bin_width=5)\n",
    "if COMET:\n",
    "    comet_exp.log_figure(figure=plt)\n",
    "plot_metrics.plot_calibration([Yval],[y_pred_val_scores],plot_labels=[experiment],n_bins=50)\n",
    "if COMET:\n",
    "    comet_exp.log_figure(figure=plt)\n",
    "\n",
    "\n"
   ]
  },
  {
   "cell_type": "code",
   "execution_count": null,
   "metadata": {},
   "outputs": [],
   "source": [
    "## Dumping model\n",
    "filename=f\"{weights_dir}/{experiment}-yearvalidation.pkl\"\n",
    "joblib.dump(clf0,filename)"
   ]
  },
  {
   "cell_type": "code",
   "execution_count": 123,
   "metadata": {},
   "outputs": [],
   "source": [
    "data_dmatrix = xgb.DMatrix(data=Xtrain,label=Ytrain,enable_categorical=1)\n"
   ]
  },
  {
   "cell_type": "code",
   "execution_count": 127,
   "metadata": {},
   "outputs": [],
   "source": [
    "# data_dmatrix.shape()"
   ]
  },
  {
   "cell_type": "code",
   "execution_count": 132,
   "metadata": {},
   "outputs": [],
   "source": [
    "from xgboost import cv\n",
    "\n",
    "params = {\"objective\":\"binary:logistic\",'colsample_bytree': 0.3,'learning_rate': 0.1,\n",
    "                'max_depth': 5, 'alpha': 10}\n",
    "\n",
    "xgb_cv = cv(dtrain=data_dmatrix, params=params, nfold=3,\n",
    "                    num_boost_round=500, early_stopping_rounds=10, metrics=\"auc\",  seed=123)"
   ]
  },
  {
   "cell_type": "code",
   "execution_count": 134,
   "metadata": {},
   "outputs": [
    {
     "data": {
      "text/html": [
       "<div>\n",
       "<style scoped>\n",
       "    .dataframe tbody tr th:only-of-type {\n",
       "        vertical-align: middle;\n",
       "    }\n",
       "\n",
       "    .dataframe tbody tr th {\n",
       "        vertical-align: top;\n",
       "    }\n",
       "\n",
       "    .dataframe thead th {\n",
       "        text-align: right;\n",
       "    }\n",
       "</style>\n",
       "<table border=\"1\" class=\"dataframe\">\n",
       "  <thead>\n",
       "    <tr style=\"text-align: right;\">\n",
       "      <th></th>\n",
       "      <th>train-auc-mean</th>\n",
       "      <th>train-auc-std</th>\n",
       "      <th>test-auc-mean</th>\n",
       "      <th>test-auc-std</th>\n",
       "    </tr>\n",
       "  </thead>\n",
       "  <tbody>\n",
       "    <tr>\n",
       "      <th>0</th>\n",
       "      <td>0.594130</td>\n",
       "      <td>0.002513</td>\n",
       "      <td>0.593315</td>\n",
       "      <td>0.003615</td>\n",
       "    </tr>\n",
       "    <tr>\n",
       "      <th>1</th>\n",
       "      <td>0.682441</td>\n",
       "      <td>0.036819</td>\n",
       "      <td>0.681728</td>\n",
       "      <td>0.034239</td>\n",
       "    </tr>\n",
       "    <tr>\n",
       "      <th>2</th>\n",
       "      <td>0.687649</td>\n",
       "      <td>0.036903</td>\n",
       "      <td>0.685149</td>\n",
       "      <td>0.033970</td>\n",
       "    </tr>\n",
       "    <tr>\n",
       "      <th>3</th>\n",
       "      <td>0.708076</td>\n",
       "      <td>0.011308</td>\n",
       "      <td>0.705515</td>\n",
       "      <td>0.008565</td>\n",
       "    </tr>\n",
       "    <tr>\n",
       "      <th>4</th>\n",
       "      <td>0.721884</td>\n",
       "      <td>0.001493</td>\n",
       "      <td>0.718729</td>\n",
       "      <td>0.002371</td>\n",
       "    </tr>\n",
       "    <tr>\n",
       "      <th>...</th>\n",
       "      <td>...</td>\n",
       "      <td>...</td>\n",
       "      <td>...</td>\n",
       "      <td>...</td>\n",
       "    </tr>\n",
       "    <tr>\n",
       "      <th>214</th>\n",
       "      <td>0.786044</td>\n",
       "      <td>0.000356</td>\n",
       "      <td>0.761381</td>\n",
       "      <td>0.001493</td>\n",
       "    </tr>\n",
       "    <tr>\n",
       "      <th>215</th>\n",
       "      <td>0.786163</td>\n",
       "      <td>0.000346</td>\n",
       "      <td>0.761391</td>\n",
       "      <td>0.001475</td>\n",
       "    </tr>\n",
       "    <tr>\n",
       "      <th>216</th>\n",
       "      <td>0.786275</td>\n",
       "      <td>0.000378</td>\n",
       "      <td>0.761367</td>\n",
       "      <td>0.001474</td>\n",
       "    </tr>\n",
       "    <tr>\n",
       "      <th>217</th>\n",
       "      <td>0.786357</td>\n",
       "      <td>0.000398</td>\n",
       "      <td>0.761377</td>\n",
       "      <td>0.001441</td>\n",
       "    </tr>\n",
       "    <tr>\n",
       "      <th>218</th>\n",
       "      <td>0.786460</td>\n",
       "      <td>0.000385</td>\n",
       "      <td>0.761397</td>\n",
       "      <td>0.001471</td>\n",
       "    </tr>\n",
       "  </tbody>\n",
       "</table>\n",
       "<p>219 rows × 4 columns</p>\n",
       "</div>"
      ],
      "text/plain": [
       "     train-auc-mean  train-auc-std  test-auc-mean  test-auc-std\n",
       "0          0.594130       0.002513       0.593315      0.003615\n",
       "1          0.682441       0.036819       0.681728      0.034239\n",
       "2          0.687649       0.036903       0.685149      0.033970\n",
       "3          0.708076       0.011308       0.705515      0.008565\n",
       "4          0.721884       0.001493       0.718729      0.002371\n",
       "..              ...            ...            ...           ...\n",
       "214        0.786044       0.000356       0.761381      0.001493\n",
       "215        0.786163       0.000346       0.761391      0.001475\n",
       "216        0.786275       0.000378       0.761367      0.001474\n",
       "217        0.786357       0.000398       0.761377      0.001441\n",
       "218        0.786460       0.000385       0.761397      0.001471\n",
       "\n",
       "[219 rows x 4 columns]"
      ]
     },
     "execution_count": 134,
     "metadata": {},
     "output_type": "execute_result"
    }
   ],
   "source": [
    "xgb_cv"
   ]
  },
  {
   "cell_type": "code",
   "execution_count": 131,
   "metadata": {},
   "outputs": [
    {
     "data": {
      "text/html": [
       "<div>\n",
       "<style scoped>\n",
       "    .dataframe tbody tr th:only-of-type {\n",
       "        vertical-align: middle;\n",
       "    }\n",
       "\n",
       "    .dataframe tbody tr th {\n",
       "        vertical-align: top;\n",
       "    }\n",
       "\n",
       "    .dataframe thead th {\n",
       "        text-align: right;\n",
       "    }\n",
       "</style>\n",
       "<table border=\"1\" class=\"dataframe\">\n",
       "  <thead>\n",
       "    <tr style=\"text-align: right;\">\n",
       "      <th></th>\n",
       "      <th>train-auc-mean</th>\n",
       "      <th>train-auc-std</th>\n",
       "      <th>test-auc-mean</th>\n",
       "      <th>test-auc-std</th>\n",
       "    </tr>\n",
       "  </thead>\n",
       "  <tbody>\n",
       "    <tr>\n",
       "      <th>0</th>\n",
       "      <td>0.594130</td>\n",
       "      <td>0.002513</td>\n",
       "      <td>0.593315</td>\n",
       "      <td>0.003615</td>\n",
       "    </tr>\n",
       "    <tr>\n",
       "      <th>1</th>\n",
       "      <td>0.682441</td>\n",
       "      <td>0.036819</td>\n",
       "      <td>0.681728</td>\n",
       "      <td>0.034239</td>\n",
       "    </tr>\n",
       "    <tr>\n",
       "      <th>2</th>\n",
       "      <td>0.687649</td>\n",
       "      <td>0.036903</td>\n",
       "      <td>0.685149</td>\n",
       "      <td>0.033970</td>\n",
       "    </tr>\n",
       "    <tr>\n",
       "      <th>3</th>\n",
       "      <td>0.708076</td>\n",
       "      <td>0.011308</td>\n",
       "      <td>0.705515</td>\n",
       "      <td>0.008565</td>\n",
       "    </tr>\n",
       "    <tr>\n",
       "      <th>4</th>\n",
       "      <td>0.721884</td>\n",
       "      <td>0.001493</td>\n",
       "      <td>0.718729</td>\n",
       "      <td>0.002371</td>\n",
       "    </tr>\n",
       "    <tr>\n",
       "      <th>5</th>\n",
       "      <td>0.723141</td>\n",
       "      <td>0.006654</td>\n",
       "      <td>0.720447</td>\n",
       "      <td>0.003626</td>\n",
       "    </tr>\n",
       "    <tr>\n",
       "      <th>6</th>\n",
       "      <td>0.726981</td>\n",
       "      <td>0.009147</td>\n",
       "      <td>0.723444</td>\n",
       "      <td>0.005950</td>\n",
       "    </tr>\n",
       "    <tr>\n",
       "      <th>7</th>\n",
       "      <td>0.725678</td>\n",
       "      <td>0.011110</td>\n",
       "      <td>0.721966</td>\n",
       "      <td>0.007922</td>\n",
       "    </tr>\n",
       "    <tr>\n",
       "      <th>8</th>\n",
       "      <td>0.727171</td>\n",
       "      <td>0.009227</td>\n",
       "      <td>0.723513</td>\n",
       "      <td>0.006046</td>\n",
       "    </tr>\n",
       "    <tr>\n",
       "      <th>9</th>\n",
       "      <td>0.729249</td>\n",
       "      <td>0.009878</td>\n",
       "      <td>0.725281</td>\n",
       "      <td>0.007161</td>\n",
       "    </tr>\n",
       "    <tr>\n",
       "      <th>10</th>\n",
       "      <td>0.730179</td>\n",
       "      <td>0.009743</td>\n",
       "      <td>0.725218</td>\n",
       "      <td>0.007854</td>\n",
       "    </tr>\n",
       "    <tr>\n",
       "      <th>11</th>\n",
       "      <td>0.733759</td>\n",
       "      <td>0.007463</td>\n",
       "      <td>0.728926</td>\n",
       "      <td>0.005238</td>\n",
       "    </tr>\n",
       "    <tr>\n",
       "      <th>12</th>\n",
       "      <td>0.734519</td>\n",
       "      <td>0.006993</td>\n",
       "      <td>0.729599</td>\n",
       "      <td>0.004741</td>\n",
       "    </tr>\n",
       "    <tr>\n",
       "      <th>13</th>\n",
       "      <td>0.736317</td>\n",
       "      <td>0.006460</td>\n",
       "      <td>0.731245</td>\n",
       "      <td>0.004196</td>\n",
       "    </tr>\n",
       "    <tr>\n",
       "      <th>14</th>\n",
       "      <td>0.739750</td>\n",
       "      <td>0.004646</td>\n",
       "      <td>0.734287</td>\n",
       "      <td>0.002796</td>\n",
       "    </tr>\n",
       "    <tr>\n",
       "      <th>15</th>\n",
       "      <td>0.740480</td>\n",
       "      <td>0.004767</td>\n",
       "      <td>0.735069</td>\n",
       "      <td>0.002589</td>\n",
       "    </tr>\n",
       "    <tr>\n",
       "      <th>16</th>\n",
       "      <td>0.742526</td>\n",
       "      <td>0.003425</td>\n",
       "      <td>0.736905</td>\n",
       "      <td>0.001522</td>\n",
       "    </tr>\n",
       "    <tr>\n",
       "      <th>17</th>\n",
       "      <td>0.742867</td>\n",
       "      <td>0.002790</td>\n",
       "      <td>0.737061</td>\n",
       "      <td>0.001074</td>\n",
       "    </tr>\n",
       "    <tr>\n",
       "      <th>18</th>\n",
       "      <td>0.743707</td>\n",
       "      <td>0.002925</td>\n",
       "      <td>0.738082</td>\n",
       "      <td>0.000757</td>\n",
       "    </tr>\n",
       "    <tr>\n",
       "      <th>19</th>\n",
       "      <td>0.744323</td>\n",
       "      <td>0.003119</td>\n",
       "      <td>0.738531</td>\n",
       "      <td>0.001009</td>\n",
       "    </tr>\n",
       "    <tr>\n",
       "      <th>20</th>\n",
       "      <td>0.744976</td>\n",
       "      <td>0.002315</td>\n",
       "      <td>0.739102</td>\n",
       "      <td>0.000279</td>\n",
       "    </tr>\n",
       "    <tr>\n",
       "      <th>21</th>\n",
       "      <td>0.745741</td>\n",
       "      <td>0.002153</td>\n",
       "      <td>0.739753</td>\n",
       "      <td>0.000708</td>\n",
       "    </tr>\n",
       "    <tr>\n",
       "      <th>22</th>\n",
       "      <td>0.746282</td>\n",
       "      <td>0.002560</td>\n",
       "      <td>0.740190</td>\n",
       "      <td>0.000873</td>\n",
       "    </tr>\n",
       "    <tr>\n",
       "      <th>23</th>\n",
       "      <td>0.746925</td>\n",
       "      <td>0.003014</td>\n",
       "      <td>0.740754</td>\n",
       "      <td>0.001026</td>\n",
       "    </tr>\n",
       "    <tr>\n",
       "      <th>24</th>\n",
       "      <td>0.748292</td>\n",
       "      <td>0.002026</td>\n",
       "      <td>0.741939</td>\n",
       "      <td>0.000431</td>\n",
       "    </tr>\n",
       "    <tr>\n",
       "      <th>25</th>\n",
       "      <td>0.748489</td>\n",
       "      <td>0.002190</td>\n",
       "      <td>0.742277</td>\n",
       "      <td>0.000412</td>\n",
       "    </tr>\n",
       "    <tr>\n",
       "      <th>26</th>\n",
       "      <td>0.749951</td>\n",
       "      <td>0.002214</td>\n",
       "      <td>0.743715</td>\n",
       "      <td>0.000487</td>\n",
       "    </tr>\n",
       "    <tr>\n",
       "      <th>27</th>\n",
       "      <td>0.750713</td>\n",
       "      <td>0.001896</td>\n",
       "      <td>0.744316</td>\n",
       "      <td>0.000475</td>\n",
       "    </tr>\n",
       "    <tr>\n",
       "      <th>28</th>\n",
       "      <td>0.751202</td>\n",
       "      <td>0.001830</td>\n",
       "      <td>0.744718</td>\n",
       "      <td>0.000701</td>\n",
       "    </tr>\n",
       "    <tr>\n",
       "      <th>29</th>\n",
       "      <td>0.752072</td>\n",
       "      <td>0.001575</td>\n",
       "      <td>0.745408</td>\n",
       "      <td>0.001077</td>\n",
       "    </tr>\n",
       "    <tr>\n",
       "      <th>30</th>\n",
       "      <td>0.752761</td>\n",
       "      <td>0.001505</td>\n",
       "      <td>0.746004</td>\n",
       "      <td>0.001232</td>\n",
       "    </tr>\n",
       "    <tr>\n",
       "      <th>31</th>\n",
       "      <td>0.753082</td>\n",
       "      <td>0.001348</td>\n",
       "      <td>0.746078</td>\n",
       "      <td>0.001246</td>\n",
       "    </tr>\n",
       "    <tr>\n",
       "      <th>32</th>\n",
       "      <td>0.753690</td>\n",
       "      <td>0.001061</td>\n",
       "      <td>0.746748</td>\n",
       "      <td>0.001483</td>\n",
       "    </tr>\n",
       "    <tr>\n",
       "      <th>33</th>\n",
       "      <td>0.754072</td>\n",
       "      <td>0.001075</td>\n",
       "      <td>0.746944</td>\n",
       "      <td>0.001385</td>\n",
       "    </tr>\n",
       "    <tr>\n",
       "      <th>34</th>\n",
       "      <td>0.754512</td>\n",
       "      <td>0.000983</td>\n",
       "      <td>0.747276</td>\n",
       "      <td>0.001508</td>\n",
       "    </tr>\n",
       "    <tr>\n",
       "      <th>35</th>\n",
       "      <td>0.755165</td>\n",
       "      <td>0.001181</td>\n",
       "      <td>0.747812</td>\n",
       "      <td>0.001710</td>\n",
       "    </tr>\n",
       "    <tr>\n",
       "      <th>36</th>\n",
       "      <td>0.755480</td>\n",
       "      <td>0.001109</td>\n",
       "      <td>0.748020</td>\n",
       "      <td>0.001726</td>\n",
       "    </tr>\n",
       "    <tr>\n",
       "      <th>37</th>\n",
       "      <td>0.755843</td>\n",
       "      <td>0.001226</td>\n",
       "      <td>0.748344</td>\n",
       "      <td>0.001522</td>\n",
       "    </tr>\n",
       "    <tr>\n",
       "      <th>38</th>\n",
       "      <td>0.756240</td>\n",
       "      <td>0.001219</td>\n",
       "      <td>0.748672</td>\n",
       "      <td>0.001417</td>\n",
       "    </tr>\n",
       "    <tr>\n",
       "      <th>39</th>\n",
       "      <td>0.756596</td>\n",
       "      <td>0.001372</td>\n",
       "      <td>0.748893</td>\n",
       "      <td>0.001356</td>\n",
       "    </tr>\n",
       "    <tr>\n",
       "      <th>40</th>\n",
       "      <td>0.756956</td>\n",
       "      <td>0.001129</td>\n",
       "      <td>0.749181</td>\n",
       "      <td>0.001547</td>\n",
       "    </tr>\n",
       "    <tr>\n",
       "      <th>41</th>\n",
       "      <td>0.757358</td>\n",
       "      <td>0.000899</td>\n",
       "      <td>0.749553</td>\n",
       "      <td>0.001752</td>\n",
       "    </tr>\n",
       "    <tr>\n",
       "      <th>42</th>\n",
       "      <td>0.757752</td>\n",
       "      <td>0.000743</td>\n",
       "      <td>0.749902</td>\n",
       "      <td>0.001943</td>\n",
       "    </tr>\n",
       "    <tr>\n",
       "      <th>43</th>\n",
       "      <td>0.758139</td>\n",
       "      <td>0.000839</td>\n",
       "      <td>0.750194</td>\n",
       "      <td>0.001824</td>\n",
       "    </tr>\n",
       "    <tr>\n",
       "      <th>44</th>\n",
       "      <td>0.758347</td>\n",
       "      <td>0.000602</td>\n",
       "      <td>0.750385</td>\n",
       "      <td>0.002051</td>\n",
       "    </tr>\n",
       "    <tr>\n",
       "      <th>45</th>\n",
       "      <td>0.759141</td>\n",
       "      <td>0.000585</td>\n",
       "      <td>0.751095</td>\n",
       "      <td>0.002100</td>\n",
       "    </tr>\n",
       "    <tr>\n",
       "      <th>46</th>\n",
       "      <td>0.759457</td>\n",
       "      <td>0.000522</td>\n",
       "      <td>0.751374</td>\n",
       "      <td>0.002088</td>\n",
       "    </tr>\n",
       "    <tr>\n",
       "      <th>47</th>\n",
       "      <td>0.759904</td>\n",
       "      <td>0.000516</td>\n",
       "      <td>0.751659</td>\n",
       "      <td>0.002042</td>\n",
       "    </tr>\n",
       "    <tr>\n",
       "      <th>48</th>\n",
       "      <td>0.760276</td>\n",
       "      <td>0.000320</td>\n",
       "      <td>0.751912</td>\n",
       "      <td>0.002254</td>\n",
       "    </tr>\n",
       "    <tr>\n",
       "      <th>49</th>\n",
       "      <td>0.760512</td>\n",
       "      <td>0.000221</td>\n",
       "      <td>0.752092</td>\n",
       "      <td>0.002394</td>\n",
       "    </tr>\n",
       "  </tbody>\n",
       "</table>\n",
       "</div>"
      ],
      "text/plain": [
       "    train-auc-mean  train-auc-std  test-auc-mean  test-auc-std\n",
       "0         0.594130       0.002513       0.593315      0.003615\n",
       "1         0.682441       0.036819       0.681728      0.034239\n",
       "2         0.687649       0.036903       0.685149      0.033970\n",
       "3         0.708076       0.011308       0.705515      0.008565\n",
       "4         0.721884       0.001493       0.718729      0.002371\n",
       "5         0.723141       0.006654       0.720447      0.003626\n",
       "6         0.726981       0.009147       0.723444      0.005950\n",
       "7         0.725678       0.011110       0.721966      0.007922\n",
       "8         0.727171       0.009227       0.723513      0.006046\n",
       "9         0.729249       0.009878       0.725281      0.007161\n",
       "10        0.730179       0.009743       0.725218      0.007854\n",
       "11        0.733759       0.007463       0.728926      0.005238\n",
       "12        0.734519       0.006993       0.729599      0.004741\n",
       "13        0.736317       0.006460       0.731245      0.004196\n",
       "14        0.739750       0.004646       0.734287      0.002796\n",
       "15        0.740480       0.004767       0.735069      0.002589\n",
       "16        0.742526       0.003425       0.736905      0.001522\n",
       "17        0.742867       0.002790       0.737061      0.001074\n",
       "18        0.743707       0.002925       0.738082      0.000757\n",
       "19        0.744323       0.003119       0.738531      0.001009\n",
       "20        0.744976       0.002315       0.739102      0.000279\n",
       "21        0.745741       0.002153       0.739753      0.000708\n",
       "22        0.746282       0.002560       0.740190      0.000873\n",
       "23        0.746925       0.003014       0.740754      0.001026\n",
       "24        0.748292       0.002026       0.741939      0.000431\n",
       "25        0.748489       0.002190       0.742277      0.000412\n",
       "26        0.749951       0.002214       0.743715      0.000487\n",
       "27        0.750713       0.001896       0.744316      0.000475\n",
       "28        0.751202       0.001830       0.744718      0.000701\n",
       "29        0.752072       0.001575       0.745408      0.001077\n",
       "30        0.752761       0.001505       0.746004      0.001232\n",
       "31        0.753082       0.001348       0.746078      0.001246\n",
       "32        0.753690       0.001061       0.746748      0.001483\n",
       "33        0.754072       0.001075       0.746944      0.001385\n",
       "34        0.754512       0.000983       0.747276      0.001508\n",
       "35        0.755165       0.001181       0.747812      0.001710\n",
       "36        0.755480       0.001109       0.748020      0.001726\n",
       "37        0.755843       0.001226       0.748344      0.001522\n",
       "38        0.756240       0.001219       0.748672      0.001417\n",
       "39        0.756596       0.001372       0.748893      0.001356\n",
       "40        0.756956       0.001129       0.749181      0.001547\n",
       "41        0.757358       0.000899       0.749553      0.001752\n",
       "42        0.757752       0.000743       0.749902      0.001943\n",
       "43        0.758139       0.000839       0.750194      0.001824\n",
       "44        0.758347       0.000602       0.750385      0.002051\n",
       "45        0.759141       0.000585       0.751095      0.002100\n",
       "46        0.759457       0.000522       0.751374      0.002088\n",
       "47        0.759904       0.000516       0.751659      0.002042\n",
       "48        0.760276       0.000320       0.751912      0.002254\n",
       "49        0.760512       0.000221       0.752092      0.002394"
      ]
     },
     "execution_count": 131,
     "metadata": {},
     "output_type": "execute_result"
    }
   ],
   "source": [
    "xgb_cv"
   ]
  },
  {
   "cell_type": "code",
   "execution_count": null,
   "metadata": {},
   "outputs": [],
   "source": []
  }
 ],
 "metadata": {
  "interpreter": {
   "hash": "fe0e4489f2919cda2ef5940e6c22f887a5b71570af9d1a74ba05de65e7f388ec"
  },
  "kernelspec": {
   "display_name": "Python 3.9.7 64-bit ('ift6758-conda-env': conda)",
   "language": "python",
   "name": "python3"
  },
  "language_info": {
   "codemirror_mode": {
    "name": "ipython",
    "version": 3
   },
   "file_extension": ".py",
   "mimetype": "text/x-python",
   "name": "python",
   "nbconvert_exporter": "python",
   "pygments_lexer": "ipython3",
   "version": "3.9.7"
  },
  "orig_nbformat": 4
 },
 "nbformat": 4,
 "nbformat_minor": 2
}
