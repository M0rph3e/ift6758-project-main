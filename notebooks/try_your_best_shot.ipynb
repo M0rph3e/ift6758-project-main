{
  "nbformat": 4,
  "nbformat_minor": 5,
  "metadata": {
    "kernelspec": {
      "name": "python3",
      "display_name": "Python 3"
    },
    "colab": {
      "name": "try_your_best_shot.ipynb",
      "provenance": []
    },
    "language_info": {
      "name": "python"
    }
  },
  "cells": [
    {
      "cell_type": "markdown",
      "metadata": {
        "id": "f4aa00a7-1743-4475-8e7b-07f75b386a29"
      },
      "source": [
        "## Here we will try our best shot to predict the goals with our features"
      ],
      "id": "f4aa00a7-1743-4475-8e7b-07f75b386a29"
    },
    {
      "cell_type": "code",
      "metadata": {
        "id": "0e26965d-f064-484c-91f3-aa96de787ab4",
        "colab": {
          "base_uri": "https://localhost:8080/"
        },
        "outputId": "f92b5ca1-cc7d-4c3e-859b-57f0a2256d4c"
      },
      "source": [
        "from google.colab import drive\n",
        "drive.mount('/content/gdrive')"
      ],
      "id": "0e26965d-f064-484c-91f3-aa96de787ab4",
      "execution_count": 14,
      "outputs": [
        {
          "output_type": "stream",
          "name": "stdout",
          "text": [
            "Drive already mounted at /content/gdrive; to attempt to forcibly remount, call drive.mount(\"/content/gdrive\", force_remount=True).\n"
          ]
        }
      ]
    },
    {
      "cell_type": "code",
      "metadata": {
        "id": "MrfE_fXB9r7z",
        "colab": {
          "base_uri": "https://localhost:8080/"
        },
        "outputId": "4fcc12a0-d259-49cc-bb44-78549a8d8461"
      },
      "source": [
        "%cd /content/gdrive/MyDrive/Master_UdeM/IFT-6758/Project/ift6758-project-main"
      ],
      "id": "MrfE_fXB9r7z",
      "execution_count": 15,
      "outputs": [
        {
          "output_type": "stream",
          "name": "stdout",
          "text": [
            "/content/gdrive/MyDrive/Master_UdeM/IFT-6758/Project/ift6758-project-main\n"
          ]
        }
      ]
    },
    {
      "cell_type": "code",
      "metadata": {
        "id": "celXeSWR9zXi",
        "colab": {
          "base_uri": "https://localhost:8080/"
        },
        "outputId": "06e2cf42-b4bc-407e-fce0-a75f8766ebe9"
      },
      "source": [
        "#!git clone https://GIT_TOKEN@github.com/M0rph3e/ift6758-project-main.git #not anymore\n",
        "! git pull"
      ],
      "id": "celXeSWR9zXi",
      "execution_count": 23,
      "outputs": [
        {
          "output_type": "stream",
          "name": "stdout",
          "text": [
            "Already up to date.\n"
          ]
        }
      ]
    },
    {
      "cell_type": "code",
      "metadata": {
        "id": "lGWPuWN7-Rbo",
        "colab": {
          "base_uri": "https://localhost:8080/"
        },
        "outputId": "db656cbc-49a3-4347-f000-2e7b89f720f5"
      },
      "source": [
        "!git status"
      ],
      "id": "lGWPuWN7-Rbo",
      "execution_count": 17,
      "outputs": [
        {
          "output_type": "stream",
          "name": "stdout",
          "text": [
            "On branch main\n",
            "Your branch is up to date with 'origin/main'.\n",
            "\n",
            "Changes not staged for commit:\n",
            "  (use \"git add <file>...\" to update what will be committed)\n",
            "  (use \"git checkout -- <file>...\" to discard changes in working directory)\n",
            "\n",
            "\t\u001b[31mmodified:   ift6758/metrics/plot_metrics.py\u001b[m\n",
            "\n",
            "no changes added to commit (use \"git add\" and/or \"git commit -a\")\n"
          ]
        }
      ]
    },
    {
      "cell_type": "code",
      "metadata": {
        "id": "5wFBMu2YAjam",
        "colab": {
          "base_uri": "https://localhost:8080/"
        },
        "outputId": "61294512-1e90-4c24-a236-a46583537bc1"
      },
      "source": [
        "!pip install comet_ml pandas_profiling"
      ],
      "id": "5wFBMu2YAjam",
      "execution_count": 24,
      "outputs": [
        {
          "output_type": "stream",
          "name": "stdout",
          "text": [
            "Requirement already satisfied: comet_ml in /usr/local/lib/python3.7/dist-packages (3.22.1)\n",
            "Requirement already satisfied: pandas_profiling in /usr/local/lib/python3.7/dist-packages (1.4.1)\n",
            "Requirement already satisfied: dulwich>=0.20.6 in /usr/local/lib/python3.7/dist-packages (from comet_ml) (0.20.26)\n",
            "Requirement already satisfied: semantic-version>=2.8.0 in /usr/local/lib/python3.7/dist-packages (from comet_ml) (2.8.5)\n",
            "Requirement already satisfied: six in /usr/local/lib/python3.7/dist-packages (from comet_ml) (1.15.0)\n",
            "Requirement already satisfied: wurlitzer>=1.0.2 in /usr/local/lib/python3.7/dist-packages (from comet_ml) (3.0.2)\n",
            "Requirement already satisfied: nvidia-ml-py3>=7.352.0 in /usr/local/lib/python3.7/dist-packages (from comet_ml) (7.352.0)\n",
            "Requirement already satisfied: everett[ini]>=1.0.1 in /usr/local/lib/python3.7/dist-packages (from comet_ml) (2.0.1)\n",
            "Requirement already satisfied: wrapt>=1.11.2 in /usr/local/lib/python3.7/dist-packages (from comet_ml) (1.13.3)\n",
            "Requirement already satisfied: jsonschema!=3.1.0,>=2.6.0 in /usr/local/lib/python3.7/dist-packages (from comet_ml) (2.6.0)\n",
            "Requirement already satisfied: websocket-client>=0.55.0 in /usr/local/lib/python3.7/dist-packages (from comet_ml) (1.2.1)\n",
            "Requirement already satisfied: requests-toolbelt>=0.8.0 in /usr/local/lib/python3.7/dist-packages (from comet_ml) (0.9.1)\n",
            "Requirement already satisfied: requests>=2.18.4 in /usr/local/lib/python3.7/dist-packages (from comet_ml) (2.23.0)\n",
            "Requirement already satisfied: certifi in /usr/local/lib/python3.7/dist-packages (from dulwich>=0.20.6->comet_ml) (2021.10.8)\n",
            "Requirement already satisfied: urllib3>=1.24.1 in /usr/local/lib/python3.7/dist-packages (from dulwich>=0.20.6->comet_ml) (1.24.3)\n",
            "Requirement already satisfied: configobj in /usr/local/lib/python3.7/dist-packages (from everett[ini]>=1.0.1->comet_ml) (5.0.6)\n",
            "Requirement already satisfied: idna<3,>=2.5 in /usr/local/lib/python3.7/dist-packages (from requests>=2.18.4->comet_ml) (2.10)\n",
            "Requirement already satisfied: chardet<4,>=3.0.2 in /usr/local/lib/python3.7/dist-packages (from requests>=2.18.4->comet_ml) (3.0.4)\n",
            "Requirement already satisfied: pandas>=0.19 in /usr/local/lib/python3.7/dist-packages (from pandas_profiling) (1.1.5)\n",
            "Requirement already satisfied: jinja2>=2.8 in /usr/local/lib/python3.7/dist-packages (from pandas_profiling) (2.11.3)\n",
            "Requirement already satisfied: matplotlib>=1.4 in /usr/local/lib/python3.7/dist-packages (from pandas_profiling) (3.2.2)\n",
            "Requirement already satisfied: MarkupSafe>=0.23 in /usr/local/lib/python3.7/dist-packages (from jinja2>=2.8->pandas_profiling) (2.0.1)\n",
            "Requirement already satisfied: cycler>=0.10 in /usr/local/lib/python3.7/dist-packages (from matplotlib>=1.4->pandas_profiling) (0.11.0)\n",
            "Requirement already satisfied: kiwisolver>=1.0.1 in /usr/local/lib/python3.7/dist-packages (from matplotlib>=1.4->pandas_profiling) (1.3.2)\n",
            "Requirement already satisfied: python-dateutil>=2.1 in /usr/local/lib/python3.7/dist-packages (from matplotlib>=1.4->pandas_profiling) (2.8.2)\n",
            "Requirement already satisfied: numpy>=1.11 in /usr/local/lib/python3.7/dist-packages (from matplotlib>=1.4->pandas_profiling) (1.19.5)\n",
            "Requirement already satisfied: pyparsing!=2.0.4,!=2.1.2,!=2.1.6,>=2.0.1 in /usr/local/lib/python3.7/dist-packages (from matplotlib>=1.4->pandas_profiling) (3.0.6)\n",
            "Requirement already satisfied: pytz>=2017.2 in /usr/local/lib/python3.7/dist-packages (from pandas>=0.19->pandas_profiling) (2018.9)\n"
          ]
        }
      ]
    },
    {
      "cell_type": "code",
      "metadata": {
        "id": "zqiioowlaDXX",
        "colab": {
          "base_uri": "https://localhost:8080/"
        },
        "outputId": "29a05f9e-4fd9-47c7-ae7a-5ec814b10325"
      },
      "source": [
        "! git branch"
      ],
      "id": "zqiioowlaDXX",
      "execution_count": 19,
      "outputs": [
        {
          "output_type": "stream",
          "name": "stdout",
          "text": [
            "  best_shot_trial\u001b[m\n",
            "  fengineering2\u001b[m\n",
            "* \u001b[32mmain\u001b[m\n"
          ]
        }
      ]
    },
    {
      "cell_type": "markdown",
      "metadata": {
        "id": "TB9EOTRM-330"
      },
      "source": [
        "# Real **** starts from here"
      ],
      "id": "TB9EOTRM-330"
    },
    {
      "cell_type": "code",
      "metadata": {
        "id": "GbIIYHFg-elV"
      },
      "source": [
        "from ift6758.features.feature_engineering2 import SeasonDataSetTwo\n",
        "from ift6758.data.data_acquisition import Season\n",
        "from ift6758.visualizations.simple_visualization import Utilities \n",
        "import matplotlib.pyplot as plt\n",
        "import numpy as np\n",
        "import seaborn as sns\n",
        "import os\n",
        "import random\n",
        "import pandas as pd\n",
        "import pickle\n",
        "import sys\n",
        "import json\n",
        "\n",
        "import warnings\n",
        "warnings.filterwarnings(\"ignore\")"
      ],
      "id": "GbIIYHFg-elV",
      "execution_count": 249,
      "outputs": []
    },
    {
      "cell_type": "code",
      "metadata": {
        "id": "BHb91bE6_ODa",
        "colab": {
          "base_uri": "https://localhost:8080/"
        },
        "outputId": "ca344716-cd98-4b5c-c420-db0741971d63"
      },
      "source": [
        "train_years = [2015,2016,2017]\n",
        "valid_years = [2018]\n",
        "test_years=[2019]\n",
        "\n",
        "\n",
        "train_dataset = SeasonDataSetTwo(train_years)\n",
        "valid_dataset = SeasonDataSetTwo(valid_years)\n",
        "train_df = train_dataset.get_features_2()\n",
        "valid_df = valid_dataset.get_features_2()"
      ],
      "id": "BHb91bE6_ODa",
      "execution_count": 250,
      "outputs": [
        {
          "output_type": "stream",
          "name": "stdout",
          "text": [
            "File with all events already Exists, loading from ../ift6758/data/PICKLE//2015_clean_all_events.pkl\n",
            "File already Exists, loading from ../ift6758/data/PICKLE//2015_period_info.pkl\n",
            "File with all events already Exists, loading from ../ift6758/data/PICKLE//2016_clean_all_events.pkl\n",
            "File already Exists, loading from ../ift6758/data/PICKLE//2016_period_info.pkl\n",
            "File with all events already Exists, loading from ../ift6758/data/PICKLE//2017_clean_all_events.pkl\n",
            "File already Exists, loading from ../ift6758/data/PICKLE//2017_period_info.pkl\n",
            "File with all events already Exists, loading from ../ift6758/data/PICKLE//2018_clean_all_events.pkl\n",
            "File already Exists, loading from ../ift6758/data/PICKLE//2018_period_info.pkl\n"
          ]
        }
      ]
    },
    {
      "cell_type": "code",
      "metadata": {
        "id": "utYXLTyoGCDF",
        "colab": {
          "base_uri": "https://localhost:8080/"
        },
        "outputId": "335cadab-5059-4b63-e949-2829efde9657"
      },
      "source": [
        "test_data = SeasonDataSetTwo(test_years)\n",
        "test_df = test_data.get_features_2()"
      ],
      "id": "utYXLTyoGCDF",
      "execution_count": 251,
      "outputs": [
        {
          "output_type": "stream",
          "name": "stdout",
          "text": [
            "File with all events already Exists, loading from ../ift6758/data/PICKLE//2019_clean_all_events.pkl\n",
            "File already Exists, loading from ../ift6758/data/PICKLE//2019_period_info.pkl\n"
          ]
        }
      ]
    },
    {
      "cell_type": "code",
      "metadata": {
        "id": "zG9tb1EItF9Q",
        "colab": {
          "base_uri": "https://localhost:8080/"
        },
        "outputId": "031b2cf8-5a9c-4ba4-d10f-c919dbfd7d8d"
      },
      "source": [
        "train_df.columns"
      ],
      "id": "zG9tb1EItF9Q",
      "execution_count": 252,
      "outputs": [
        {
          "output_type": "execute_result",
          "data": {
            "text/plain": [
              "Index(['result.penaltySeverity', 'result.penaltyMinutes', 'gamePk',\n",
              "       'team.name', 'gamePeriod', 'coordinatesX', 'coordinatesY', 'shotType',\n",
              "       'emptyNet', 'result.strength.name', 'gameSeconds', 'shotDistance',\n",
              "       'shotAngle', 'isGoal', 'lastEventType', 'lastEventCoordinatesX',\n",
              "       'lastEventCoordinatesY', 'timeFromLastEvent', 'distanceFromLastEvent',\n",
              "       'rebound', 'speed', 'changeInShotAngle', 'angleSpeed'],\n",
              "      dtype='object')"
            ]
          },
          "metadata": {},
          "execution_count": 252
        }
      ]
    },
    {
      "cell_type": "markdown",
      "metadata": {
        "id": "0kj5OTviDnFF"
      },
      "source": [
        "# Export the data csv to comet (do not execute for now)"
      ],
      "id": "0kj5OTviDnFF"
    },
    {
      "cell_type": "code",
      "metadata": {
        "id": "OvTG9lsL_Tb_",
        "colab": {
          "base_uri": "https://localhost:8080/"
        },
        "outputId": "8972702c-ca5a-445d-88db-4ea2eab8245a"
      },
      "source": [
        "from comet_ml import Experiment\n",
        "import os\n",
        "\n",
        "\n",
        "\n",
        "exp = Experiment(\n",
        "    api_key=os.environ.get('COMET_API_KEY'),\n",
        "    project_name='milestone-2',\n",
        "    workspace='morph-e',\n",
        "    log_code=True,\n",
        "    log_graph=True,\n",
        ")"
      ],
      "id": "OvTG9lsL_Tb_",
      "execution_count": 69,
      "outputs": [
        {
          "output_type": "stream",
          "name": "stderr",
          "text": [
            "COMET WARNING: As you are running in a Jupyter environment, you will need to call `experiment.end()` when finished to ensure all metrics and code are logged before exiting.\n",
            "COMET INFO: Experiment is live on comet.ml https://www.comet.ml/morph-e/milestone-2/2de74906d5ad42c0913ded110a44d306\n",
            "\n"
          ]
        }
      ]
    },
    {
      "cell_type": "code",
      "metadata": {
        "colab": {
          "base_uri": "https://localhost:8080/"
        },
        "id": "DzdwfiX2H86Q",
        "outputId": "36b645a2-0bcf-45c7-e8dc-9d46cb3e3564"
      },
      "source": [
        "exp.log_dataframe_profile(\n",
        "train_df, \n",
        "name='train_set_from_FE2',  # keep this name\n",
        "dataframe_format='csv'  # ensure you set this flag!\n",
        ")\n",
        "\n",
        "exp.log_dataframe_profile(\n",
        "valid_df, \n",
        "name='valid_set_from_FE2',  # keep this name\n",
        "dataframe_format='csv'  # ensure you set this flag!\n",
        ")\n",
        "\n",
        "exp.log_dataframe_profile(\n",
        "test_df, \n",
        "name='test_set_from_FE2',  # keep this name\n",
        "dataframe_format='csv'  # ensure you set this flag!\n",
        ")\n"
      ],
      "id": "DzdwfiX2H86Q",
      "execution_count": 70,
      "outputs": [
        {
          "output_type": "stream",
          "name": "stderr",
          "text": [
            "COMET WARNING: unable to profile dataframe; ignoring\n",
            "COMET WARNING: unable to profile dataframe; ignoring\n",
            "COMET WARNING: unable to profile dataframe; ignoring\n"
          ]
        },
        {
          "output_type": "execute_result",
          "data": {
            "text/plain": [
              "{'dataframe': {'api': 'https://www.comet.ml/api/rest/v2/experiment/asset/get-asset?assetId=4a1ec1be94d641b6a9fdf5a03ed78719&experimentKey=2de74906d5ad42c0913ded110a44d306',\n",
              "  'assetId': '4a1ec1be94d641b6a9fdf5a03ed78719',\n",
              "  'web': 'https://www.comet.ml/api/asset/download?assetId=4a1ec1be94d641b6a9fdf5a03ed78719&experimentKey=2de74906d5ad42c0913ded110a44d306'},\n",
              " 'profile': None}"
            ]
          },
          "metadata": {},
          "execution_count": 70
        }
      ]
    },
    {
      "cell_type": "markdown",
      "metadata": {
        "id": "i8bloprl_Lpf"
      },
      "source": [
        "# Split and shuffle Data"
      ],
      "id": "i8bloprl_Lpf"
    },
    {
      "cell_type": "code",
      "metadata": {
        "id": "X3EAx_NuFKSt"
      },
      "source": [
        "random.seed(42)"
      ],
      "id": "X3EAx_NuFKSt",
      "execution_count": 256,
      "outputs": []
    },
    {
      "cell_type": "code",
      "metadata": {
        "id": "VCGefzl2EsWz"
      },
      "source": [
        "train_df = train_df.sample(frac=1)\n",
        "test_df = test_df.sample(frac=1)\n",
        "valid_df = valid_df.sample(frac=1)"
      ],
      "id": "VCGefzl2EsWz",
      "execution_count": 257,
      "outputs": []
    },
    {
      "cell_type": "code",
      "metadata": {
        "id": "IE-Wvb62FC8S",
        "colab": {
          "base_uri": "https://localhost:8080/",
          "height": 330
        },
        "outputId": "017f3644-71b2-4e68-b328-408ac181f6a4"
      },
      "source": [
        "train_df.head()"
      ],
      "id": "IE-Wvb62FC8S",
      "execution_count": 258,
      "outputs": [
        {
          "output_type": "execute_result",
          "data": {
            "text/html": [
              "<div>\n",
              "<style scoped>\n",
              "    .dataframe tbody tr th:only-of-type {\n",
              "        vertical-align: middle;\n",
              "    }\n",
              "\n",
              "    .dataframe tbody tr th {\n",
              "        vertical-align: top;\n",
              "    }\n",
              "\n",
              "    .dataframe thead th {\n",
              "        text-align: right;\n",
              "    }\n",
              "</style>\n",
              "<table border=\"1\" class=\"dataframe\">\n",
              "  <thead>\n",
              "    <tr style=\"text-align: right;\">\n",
              "      <th></th>\n",
              "      <th>result.penaltySeverity</th>\n",
              "      <th>result.penaltyMinutes</th>\n",
              "      <th>gamePk</th>\n",
              "      <th>team.name</th>\n",
              "      <th>gamePeriod</th>\n",
              "      <th>coordinatesX</th>\n",
              "      <th>coordinatesY</th>\n",
              "      <th>shotType</th>\n",
              "      <th>emptyNet</th>\n",
              "      <th>result.strength.name</th>\n",
              "      <th>gameSeconds</th>\n",
              "      <th>shotDistance</th>\n",
              "      <th>shotAngle</th>\n",
              "      <th>isGoal</th>\n",
              "      <th>lastEventType</th>\n",
              "      <th>lastEventCoordinatesX</th>\n",
              "      <th>lastEventCoordinatesY</th>\n",
              "      <th>timeFromLastEvent</th>\n",
              "      <th>distanceFromLastEvent</th>\n",
              "      <th>rebound</th>\n",
              "      <th>speed</th>\n",
              "      <th>changeInShotAngle</th>\n",
              "      <th>angleSpeed</th>\n",
              "    </tr>\n",
              "  </thead>\n",
              "  <tbody>\n",
              "    <tr>\n",
              "      <th>232847</th>\n",
              "      <td>NaN</td>\n",
              "      <td>NaN</td>\n",
              "      <td>2017021135</td>\n",
              "      <td>Anaheim Ducks</td>\n",
              "      <td>2</td>\n",
              "      <td>-79.0</td>\n",
              "      <td>5.0</td>\n",
              "      <td>Backhand</td>\n",
              "      <td>False</td>\n",
              "      <td>Even</td>\n",
              "      <td>538.0</td>\n",
              "      <td>11.180340</td>\n",
              "      <td>26.565051</td>\n",
              "      <td>1</td>\n",
              "      <td>Hit</td>\n",
              "      <td>42.0</td>\n",
              "      <td>-39.0</td>\n",
              "      <td>5.0</td>\n",
              "      <td>128.751699</td>\n",
              "      <td>False</td>\n",
              "      <td>25.750340</td>\n",
              "      <td>0.000000</td>\n",
              "      <td>0.000000</td>\n",
              "    </tr>\n",
              "    <tr>\n",
              "      <th>225210</th>\n",
              "      <td>NaN</td>\n",
              "      <td>NaN</td>\n",
              "      <td>2017021016</td>\n",
              "      <td>Pittsburgh Penguins</td>\n",
              "      <td>3</td>\n",
              "      <td>37.0</td>\n",
              "      <td>31.0</td>\n",
              "      <td>Slap Shot</td>\n",
              "      <td>0</td>\n",
              "      <td>NaN</td>\n",
              "      <td>910.0</td>\n",
              "      <td>60.539243</td>\n",
              "      <td>-30.801446</td>\n",
              "      <td>0</td>\n",
              "      <td>Faceoff</td>\n",
              "      <td>69.0</td>\n",
              "      <td>22.0</td>\n",
              "      <td>5.0</td>\n",
              "      <td>33.241540</td>\n",
              "      <td>False</td>\n",
              "      <td>6.648308</td>\n",
              "      <td>0.000000</td>\n",
              "      <td>0.000000</td>\n",
              "    </tr>\n",
              "    <tr>\n",
              "      <th>237103</th>\n",
              "      <td>NaN</td>\n",
              "      <td>NaN</td>\n",
              "      <td>2017021202</td>\n",
              "      <td>Washington Capitals</td>\n",
              "      <td>1</td>\n",
              "      <td>-33.0</td>\n",
              "      <td>-23.0</td>\n",
              "      <td>Wrist Shot</td>\n",
              "      <td>0</td>\n",
              "      <td>NaN</td>\n",
              "      <td>188.0</td>\n",
              "      <td>60.539243</td>\n",
              "      <td>-22.328656</td>\n",
              "      <td>0</td>\n",
              "      <td>Hit</td>\n",
              "      <td>44.0</td>\n",
              "      <td>-19.0</td>\n",
              "      <td>6.0</td>\n",
              "      <td>77.103826</td>\n",
              "      <td>False</td>\n",
              "      <td>12.850638</td>\n",
              "      <td>0.000000</td>\n",
              "      <td>0.000000</td>\n",
              "    </tr>\n",
              "    <tr>\n",
              "      <th>149306</th>\n",
              "      <td>NaN</td>\n",
              "      <td>NaN</td>\n",
              "      <td>2016021149</td>\n",
              "      <td>Edmonton Oilers</td>\n",
              "      <td>3</td>\n",
              "      <td>78.0</td>\n",
              "      <td>-1.0</td>\n",
              "      <td>Tip-In</td>\n",
              "      <td>False</td>\n",
              "      <td>Even</td>\n",
              "      <td>471.0</td>\n",
              "      <td>11.045361</td>\n",
              "      <td>5.194429</td>\n",
              "      <td>1</td>\n",
              "      <td>Giveaway</td>\n",
              "      <td>78.0</td>\n",
              "      <td>10.0</td>\n",
              "      <td>2.0</td>\n",
              "      <td>11.000000</td>\n",
              "      <td>False</td>\n",
              "      <td>5.500000</td>\n",
              "      <td>0.000000</td>\n",
              "      <td>0.000000</td>\n",
              "    </tr>\n",
              "    <tr>\n",
              "      <th>65413</th>\n",
              "      <td>NaN</td>\n",
              "      <td>NaN</td>\n",
              "      <td>2015021090</td>\n",
              "      <td>Columbus Blue Jackets</td>\n",
              "      <td>1</td>\n",
              "      <td>-47.0</td>\n",
              "      <td>30.0</td>\n",
              "      <td>Wrist Shot</td>\n",
              "      <td>0</td>\n",
              "      <td>NaN</td>\n",
              "      <td>398.0</td>\n",
              "      <td>139.269523</td>\n",
              "      <td>-12.439562</td>\n",
              "      <td>0</td>\n",
              "      <td>Shot</td>\n",
              "      <td>-67.0</td>\n",
              "      <td>-35.0</td>\n",
              "      <td>24.0</td>\n",
              "      <td>68.007353</td>\n",
              "      <td>True</td>\n",
              "      <td>2.833640</td>\n",
              "      <td>25.084982</td>\n",
              "      <td>1.045208</td>\n",
              "    </tr>\n",
              "  </tbody>\n",
              "</table>\n",
              "</div>"
            ],
            "text/plain": [
              "       result.penaltySeverity  ...  angleSpeed\n",
              "232847                    NaN  ...    0.000000\n",
              "225210                    NaN  ...    0.000000\n",
              "237103                    NaN  ...    0.000000\n",
              "149306                    NaN  ...    0.000000\n",
              "65413                     NaN  ...    1.045208\n",
              "\n",
              "[5 rows x 23 columns]"
            ]
          },
          "metadata": {},
          "execution_count": 258
        }
      ]
    },
    {
      "cell_type": "code",
      "metadata": {
        "id": "72IkWlL6JCtE"
      },
      "source": [
        "features = ['gameSeconds','timeFromLastEvent','gamePeriod','shotType', 'shotAngle', 'shotDistance','distanceFromLastEvent', 'rebound','speed','changeInShotAngle']\n",
        "label = ['isGoal']"
      ],
      "id": "72IkWlL6JCtE",
      "execution_count": 260,
      "outputs": []
    },
    {
      "cell_type": "code",
      "metadata": {
        "colab": {
          "base_uri": "https://localhost:8080/"
        },
        "id": "sbtgiVdKQ6tq",
        "outputId": "d205b5b1-1a5e-4c1b-8b06-2871ea11c7e3"
      },
      "source": [
        "train_df[features].isna().any()\n",
        "valid_df[features].isna().any()\n",
        "valid_df[features].isna().any()"
      ],
      "id": "sbtgiVdKQ6tq",
      "execution_count": 261,
      "outputs": [
        {
          "output_type": "execute_result",
          "data": {
            "text/plain": [
              "gameSeconds              False\n",
              "timeFromLastEvent        False\n",
              "gamePeriod               False\n",
              "shotType                  True\n",
              "shotAngle                 True\n",
              "shotDistance              True\n",
              "distanceFromLastEvent     True\n",
              "rebound                  False\n",
              "speed                     True\n",
              "changeInShotAngle        False\n",
              "dtype: bool"
            ]
          },
          "metadata": {},
          "execution_count": 261
        }
      ]
    },
    {
      "cell_type": "markdown",
      "metadata": {
        "id": "LiB5e5M8YFRA"
      },
      "source": [
        "### Replace inf with nan (annoying in normalization)"
      ],
      "id": "LiB5e5M8YFRA"
    },
    {
      "cell_type": "code",
      "metadata": {
        "id": "pRj2nIZCXXLA"
      },
      "source": [
        "train_df.replace([np.inf, -np.inf], np.nan, inplace=True)\n",
        "valid_df.replace([np.inf, -np.inf], np.nan, inplace=True)\n",
        "test_df.replace([np.inf, -np.inf], np.nan, inplace=True)"
      ],
      "id": "pRj2nIZCXXLA",
      "execution_count": 262,
      "outputs": []
    },
    {
      "cell_type": "code",
      "metadata": {
        "id": "kMoH4JD-OP8Z",
        "colab": {
          "base_uri": "https://localhost:8080/",
          "height": 112
        },
        "outputId": "ef609d1e-fabe-4e02-ad77-2bba7c1d5a1a"
      },
      "source": [
        "#drop rows with nan\n",
        "train_df = train_df[train_df['shotType'].notna()]\n",
        "valid_df = valid_df[valid_df['shotType'].notna()]\n",
        "test_df = test_df[test_df['shotType'].notna()]\n",
        "\n",
        "train_df = train_df[train_df['shotAngle'].notna()]\n",
        "valid_df = valid_df[valid_df['shotAngle'].notna()]\n",
        "test_df = test_df[test_df['shotAngle'].notna()]\n",
        "\n",
        "train_df = train_df[train_df['shotDistance'].notna()]\n",
        "valid_df = valid_df[valid_df['shotDistance'].notna()]\n",
        "test_df = test_df[test_df['shotDistance'].notna()]\n",
        "\n",
        "train_df = train_df[train_df['speed'].notna()]\n",
        "valid_df = valid_df[valid_df['speed'].notna()]\n",
        "test_df = test_df[test_df['speed'].notna()]\n",
        "\n",
        "train_df = train_df[train_df['changeInShotAngle'].notna()]\n",
        "valid_df = valid_df[valid_df['changeInShotAngle'].notna()]\n",
        "test_df = test_df[test_df['changeInShotAngle'].notna()]\n",
        "\"\"\"\n",
        "train_df = train_df[train_df['coordinatesX'].notna()]\n",
        "valid_df = valid_df[valid_df['coordinatesX'].notna()]\n",
        "test_df = test_df[test_df['coordinatesX'].notna()]\n",
        "\n",
        "train_df = train_df[train_df['coordinatesY'].notna()]\n",
        "valid_df = valid_df[valid_df['coordinatesY'].notna()]\n",
        "test_df = test_df[test_df['coordinatesY'].notna()]\n",
        "\n",
        "train_df = train_df[train_df['lastEventCoordinatesY'].notna()]\n",
        "valid_df = valid_df[valid_df['lastEventCoordinatesY'].notna()]\n",
        "test_df = test_df[test_df['lastEventCoordinatesY'].notna()]\n",
        "\n",
        "train_df = train_df[train_df['lastEventCoordinatesX'].notna()]\n",
        "valid_df = valid_df[valid_df['lastEventCoordinatesX'].notna()]\n",
        "test_df = test_df[test_df['lastEventCoordinatesX'].notna()]\n",
        "\n",
        "train_df = train_df[train_df['angleSpeed'].notna()]\n",
        "valid_df = valid_df[valid_df['angleSpeed'].notna()]\n",
        "test_df = test_df[test_df['angleSpeed'].notna()]\n",
        "\n",
        "\"\"\""
      ],
      "id": "kMoH4JD-OP8Z",
      "execution_count": 264,
      "outputs": [
        {
          "output_type": "execute_result",
          "data": {
            "application/vnd.google.colaboratory.intrinsic+json": {
              "type": "string"
            },
            "text/plain": [
              "\"\\ntrain_df = train_df[train_df['coordinatesX'].notna()]\\nvalid_df = valid_df[valid_df['coordinatesX'].notna()]\\ntest_df = test_df[test_df['coordinatesX'].notna()]\\n\\ntrain_df = train_df[train_df['coordinatesY'].notna()]\\nvalid_df = valid_df[valid_df['coordinatesY'].notna()]\\ntest_df = test_df[test_df['coordinatesY'].notna()]\\n\\ntrain_df = train_df[train_df['lastEventCoordinatesY'].notna()]\\nvalid_df = valid_df[valid_df['lastEventCoordinatesY'].notna()]\\ntest_df = test_df[test_df['lastEventCoordinatesY'].notna()]\\n\\ntrain_df = train_df[train_df['lastEventCoordinatesX'].notna()]\\nvalid_df = valid_df[valid_df['lastEventCoordinatesX'].notna()]\\ntest_df = test_df[test_df['lastEventCoordinatesX'].notna()]\\n\\ntrain_df = train_df[train_df['angleSpeed'].notna()]\\nvalid_df = valid_df[valid_df['angleSpeed'].notna()]\\ntest_df = test_df[test_df['angleSpeed'].notna()]\\n\\n\""
            ]
          },
          "metadata": {},
          "execution_count": 264
        }
      ]
    },
    {
      "cell_type": "code",
      "metadata": {
        "colab": {
          "base_uri": "https://localhost:8080/"
        },
        "id": "VB2rx98tRfcM",
        "outputId": "03626546-c0b2-4809-c132-7e82c535e111"
      },
      "source": [
        "train_df[features].isna().any()\n",
        "valid_df[features].isna().any()\n",
        "valid_df[features].isna().any()"
      ],
      "id": "VB2rx98tRfcM",
      "execution_count": 265,
      "outputs": [
        {
          "output_type": "execute_result",
          "data": {
            "text/plain": [
              "gameSeconds              False\n",
              "timeFromLastEvent        False\n",
              "gamePeriod               False\n",
              "shotType                 False\n",
              "shotAngle                False\n",
              "shotDistance             False\n",
              "distanceFromLastEvent    False\n",
              "rebound                  False\n",
              "speed                    False\n",
              "changeInShotAngle        False\n",
              "dtype: bool"
            ]
          },
          "metadata": {},
          "execution_count": 265
        }
      ]
    },
    {
      "cell_type": "code",
      "metadata": {
        "id": "GD8YNmGS_9x_",
        "colab": {
          "base_uri": "https://localhost:8080/"
        },
        "outputId": "d1bb7c5c-e996-4f41-dd80-ada5e0670ff1"
      },
      "source": [
        "X_train = train_df[features]\n",
        "y_train = train_df[label]\n",
        "\n",
        "X_valid = valid_df[features]\n",
        "y_valid = valid_df[label]\n",
        "\n",
        "X_test = test_df[features]\n",
        "y_test = test_df[label]\n",
        "\n",
        "X_train, y_train, X_valid, y_valid, X_test, y_test"
      ],
      "id": "GD8YNmGS_9x_",
      "execution_count": 267,
      "outputs": [
        {
          "output_type": "execute_result",
          "data": {
            "text/plain": [
              "(        gameSeconds  timeFromLastEvent  ...      speed changeInShotAngle\n",
              " 232847        538.0                5.0  ...  25.750340          0.000000\n",
              " 225210        910.0                5.0  ...   6.648308          0.000000\n",
              " 237103        188.0                6.0  ...  12.850638          0.000000\n",
              " 149306        471.0                2.0  ...   5.500000          0.000000\n",
              " 65413         398.0               24.0  ...   2.833640         25.084982\n",
              " ...             ...                ...  ...        ...               ...\n",
              " 127807         72.0               52.0  ...   0.461538          0.000000\n",
              " 181160        964.0               28.0  ...   4.803405         59.646269\n",
              " 148          1022.0                9.0  ...   3.446236          0.000000\n",
              " 46159         407.0               43.0  ...   2.821918          0.000000\n",
              " 233626       1141.0               16.0  ...   2.335193        151.357306\n",
              " \n",
              " [238046 rows x 10 columns],         isGoal\n",
              " 232847       1\n",
              " 225210       0\n",
              " 237103       0\n",
              " 149306       1\n",
              " 65413        0\n",
              " ...        ...\n",
              " 127807       0\n",
              " 181160       0\n",
              " 148          0\n",
              " 46159        0\n",
              " 233626       0\n",
              " \n",
              " [238046 rows x 1 columns],        gameSeconds  timeFromLastEvent  ...      speed changeInShotAngle\n",
              " 28082       1037.0               17.0  ...   7.245091           0.00000\n",
              " 26611        881.0               15.0  ...   9.909143           0.00000\n",
              " 68328       1188.0                2.0  ...  24.413111           0.00000\n",
              " 27134        980.0               17.0  ...   8.190001           0.00000\n",
              " 73149        995.0                8.0  ...   9.750801           5.81098\n",
              " ...            ...                ...  ...        ...               ...\n",
              " 18893        943.0               12.0  ...   5.282308           0.00000\n",
              " 28662        399.0                6.0  ...  21.153539           0.00000\n",
              " 69543        896.0               14.0  ...   1.090310           0.00000\n",
              " 21375        255.0               22.0  ...   2.682203           0.00000\n",
              " 58048        114.0               33.0  ...   1.412589           0.00000\n",
              " \n",
              " [83588 rows x 10 columns],        isGoal\n",
              " 28082       0\n",
              " 26611       0\n",
              " 68328       0\n",
              " 27134       0\n",
              " 73149       0\n",
              " ...       ...\n",
              " 18893       0\n",
              " 28662       0\n",
              " 69543       0\n",
              " 21375       0\n",
              " 58048       0\n",
              " \n",
              " [83588 rows x 1 columns],        gameSeconds  timeFromLastEvent  ...      speed changeInShotAngle\n",
              " 43376        934.0               11.0  ...   1.746307         12.704024\n",
              " 74570        364.0               18.0  ...   0.458123          0.000000\n",
              " 41311        621.0                1.0  ...  19.646883         31.694763\n",
              " 30372       1166.0               13.0  ...   4.541068          0.000000\n",
              " 15576         34.0               20.0  ...   2.530316          0.000000\n",
              " ...            ...                ...  ...        ...               ...\n",
              " 30565        490.0                4.0  ...   6.046693          0.000000\n",
              " 59159        160.0                5.0  ...   6.723095          0.000000\n",
              " 19828        148.0               63.0  ...   0.657151          0.000000\n",
              " 36663        447.0               11.0  ...   1.958242          0.000000\n",
              " 12686        323.0               56.0  ...   0.493904         34.249033\n",
              " \n",
              " [74168 rows x 10 columns],        isGoal\n",
              " 43376       0\n",
              " 74570       0\n",
              " 41311       1\n",
              " 30372       0\n",
              " 15576       0\n",
              " ...       ...\n",
              " 30565       0\n",
              " 59159       0\n",
              " 19828       0\n",
              " 36663       0\n",
              " 12686       0\n",
              " \n",
              " [74168 rows x 1 columns])"
            ]
          },
          "metadata": {},
          "execution_count": 267
        }
      ]
    },
    {
      "cell_type": "markdown",
      "metadata": {
        "id": "IPckRPfMBNmS"
      },
      "source": [
        "### One Hot encode the shot type (I want to refer on the fact that the shot type affect the goal)"
      ],
      "id": "IPckRPfMBNmS"
    },
    {
      "cell_type": "code",
      "metadata": {
        "id": "xYi-kcc40ewe",
        "colab": {
          "base_uri": "https://localhost:8080/"
        },
        "outputId": "fda2a03a-7f41-4753-8446-fc9d7d3cb956"
      },
      "source": [
        "X_train['shotType'].unique()"
      ],
      "id": "xYi-kcc40ewe",
      "execution_count": 268,
      "outputs": [
        {
          "output_type": "execute_result",
          "data": {
            "text/plain": [
              "array(['Backhand', 'Slap Shot', 'Wrist Shot', 'Tip-In', 'Snap Shot',\n",
              "       'Deflected', 'Wrap-around'], dtype=object)"
            ]
          },
          "metadata": {},
          "execution_count": 268
        }
      ]
    },
    {
      "cell_type": "code",
      "metadata": {
        "id": "UbKEX4EwBJaR"
      },
      "source": [
        "dum_train = pd.get_dummies(X_train['shotType'], prefix='Shot',dtype=int)\n",
        "dum_valid = pd.get_dummies(X_valid['shotType'], prefix='Shot',dtype=int)\n",
        "dum_test = pd.get_dummies(X_test['shotType'], prefix='Shot',dtype=int)"
      ],
      "id": "UbKEX4EwBJaR",
      "execution_count": 269,
      "outputs": []
    },
    {
      "cell_type": "code",
      "metadata": {
        "id": "wjqJnqntR4oS"
      },
      "source": [
        "X_train = pd.concat([X_train, dum_train], axis=1)\n",
        "X_valid = pd.concat([X_valid, dum_valid], axis=1)\n",
        "X_test = pd.concat([X_test, dum_test], axis=1)"
      ],
      "id": "wjqJnqntR4oS",
      "execution_count": 270,
      "outputs": []
    },
    {
      "cell_type": "code",
      "metadata": {
        "colab": {
          "base_uri": "https://localhost:8080/"
        },
        "id": "ZkzKhocsTR-z",
        "outputId": "68bfe2ae-6bb5-4143-fbeb-a8b7e77fa1f4"
      },
      "source": [
        "#check if no nans\n",
        "X_train.isna().any(), X_valid.isna().any(), X_test.isna().any()"
      ],
      "id": "ZkzKhocsTR-z",
      "execution_count": 271,
      "outputs": [
        {
          "output_type": "execute_result",
          "data": {
            "text/plain": [
              "(gameSeconds              False\n",
              " timeFromLastEvent        False\n",
              " gamePeriod               False\n",
              " shotType                 False\n",
              " shotAngle                False\n",
              " shotDistance             False\n",
              " distanceFromLastEvent    False\n",
              " rebound                  False\n",
              " speed                    False\n",
              " changeInShotAngle        False\n",
              " Shot_Backhand            False\n",
              " Shot_Deflected           False\n",
              " Shot_Slap Shot           False\n",
              " Shot_Snap Shot           False\n",
              " Shot_Tip-In              False\n",
              " Shot_Wrap-around         False\n",
              " Shot_Wrist Shot          False\n",
              " dtype: bool, gameSeconds              False\n",
              " timeFromLastEvent        False\n",
              " gamePeriod               False\n",
              " shotType                 False\n",
              " shotAngle                False\n",
              " shotDistance             False\n",
              " distanceFromLastEvent    False\n",
              " rebound                  False\n",
              " speed                    False\n",
              " changeInShotAngle        False\n",
              " Shot_Backhand            False\n",
              " Shot_Deflected           False\n",
              " Shot_Slap Shot           False\n",
              " Shot_Snap Shot           False\n",
              " Shot_Tip-In              False\n",
              " Shot_Wrap-around         False\n",
              " Shot_Wrist Shot          False\n",
              " dtype: bool, gameSeconds              False\n",
              " timeFromLastEvent        False\n",
              " gamePeriod               False\n",
              " shotType                 False\n",
              " shotAngle                False\n",
              " shotDistance             False\n",
              " distanceFromLastEvent    False\n",
              " rebound                  False\n",
              " speed                    False\n",
              " changeInShotAngle        False\n",
              " Shot_Backhand            False\n",
              " Shot_Deflected           False\n",
              " Shot_Slap Shot           False\n",
              " Shot_Snap Shot           False\n",
              " Shot_Tip-In              False\n",
              " Shot_Wrap-around         False\n",
              " Shot_Wrist Shot          False\n",
              " dtype: bool)"
            ]
          },
          "metadata": {},
          "execution_count": 271
        }
      ]
    },
    {
      "cell_type": "code",
      "metadata": {
        "id": "xEOoJtHCT1OK"
      },
      "source": [
        "X_train = X_train.drop(columns='shotType')\n",
        "X_valid = X_valid.drop(columns='shotType')\n",
        "X_test = X_test.drop(columns='shotType')"
      ],
      "id": "xEOoJtHCT1OK",
      "execution_count": 272,
      "outputs": []
    },
    {
      "cell_type": "markdown",
      "metadata": {
        "id": "md1L-3Wowpi6"
      },
      "source": [
        "## Do the same for gamePeriod (**NOT NOW**)"
      ],
      "id": "md1L-3Wowpi6"
    },
    {
      "cell_type": "code",
      "metadata": {
        "id": "mBZlNVWUCmWo"
      },
      "source": [
        "#try smth because idk\n",
        "X_train['gamePeriod'] -=1\n",
        "X_valid['gamePeriod']-=1\n",
        "X_test['gamePeriod']-=1"
      ],
      "id": "mBZlNVWUCmWo",
      "execution_count": 198,
      "outputs": []
    },
    {
      "cell_type": "code",
      "metadata": {
        "id": "bqkPl4lxwlNK",
        "colab": {
          "base_uri": "https://localhost:8080/"
        },
        "outputId": "6b6d4c77-4bad-45de-e865-0e6d78e99fca"
      },
      "source": [
        "dum_train = pd.get_dummies(X_train['gamePeriod'], prefix='Period',dtype=int)\n",
        "dum_valid = pd.get_dummies(X_valid['gamePeriod'], prefix='Period',dtype=int)\n",
        "dum_test = pd.get_dummies(X_test['gamePeriod'], prefix='Period',dtype=int)\n",
        "\n",
        "X_train = pd.concat([X_train, dum_train], axis=1)\n",
        "X_valid = pd.concat([X_valid, dum_valid], axis=1)\n",
        "X_test = pd.concat([X_test, dum_test], axis=1)\n",
        "\n",
        "#check if no nans\n",
        "X_train.isna().any(), X_valid.isna().any(), X_test.isna().any()"
      ],
      "id": "bqkPl4lxwlNK",
      "execution_count": 199,
      "outputs": [
        {
          "output_type": "execute_result",
          "data": {
            "text/plain": [
              "(gameSeconds              False\n",
              " timeFromLastEvent        False\n",
              " gamePeriod               False\n",
              " shotAngle                False\n",
              " shotDistance             False\n",
              " distanceFromLastEvent    False\n",
              " rebound                  False\n",
              " speed                    False\n",
              " changeInShotAngle        False\n",
              " Shot_Backhand            False\n",
              " Shot_Deflected           False\n",
              " Shot_Slap Shot           False\n",
              " Shot_Snap Shot           False\n",
              " Shot_Tip-In              False\n",
              " Shot_Wrap-around         False\n",
              " Shot_Wrist Shot          False\n",
              " Period_0                 False\n",
              " Period_1                 False\n",
              " Period_2                 False\n",
              " Period_3                 False\n",
              " Period_4                 False\n",
              " Period_5                 False\n",
              " dtype: bool, gameSeconds              False\n",
              " timeFromLastEvent        False\n",
              " gamePeriod               False\n",
              " shotAngle                False\n",
              " shotDistance             False\n",
              " distanceFromLastEvent    False\n",
              " rebound                  False\n",
              " speed                    False\n",
              " changeInShotAngle        False\n",
              " Shot_Backhand            False\n",
              " Shot_Deflected           False\n",
              " Shot_Slap Shot           False\n",
              " Shot_Snap Shot           False\n",
              " Shot_Tip-In              False\n",
              " Shot_Wrap-around         False\n",
              " Shot_Wrist Shot          False\n",
              " Period_0                 False\n",
              " Period_1                 False\n",
              " Period_2                 False\n",
              " Period_3                 False\n",
              " Period_4                 False\n",
              " Period_5                 False\n",
              " dtype: bool, gameSeconds              False\n",
              " timeFromLastEvent        False\n",
              " gamePeriod               False\n",
              " shotAngle                False\n",
              " shotDistance             False\n",
              " distanceFromLastEvent    False\n",
              " rebound                  False\n",
              " speed                    False\n",
              " changeInShotAngle        False\n",
              " Shot_Backhand            False\n",
              " Shot_Deflected           False\n",
              " Shot_Slap Shot           False\n",
              " Shot_Snap Shot           False\n",
              " Shot_Tip-In              False\n",
              " Shot_Wrap-around         False\n",
              " Shot_Wrist Shot          False\n",
              " Period_0                 False\n",
              " Period_1                 False\n",
              " Period_2                 False\n",
              " Period_3                 False\n",
              " Period_4                 False\n",
              " Period_5                 False\n",
              " dtype: bool)"
            ]
          },
          "metadata": {},
          "execution_count": 199
        }
      ]
    },
    {
      "cell_type": "code",
      "metadata": {
        "id": "SAYkWau0xRML"
      },
      "source": [
        "#drop gamePeriod\n",
        "X_train = X_train.drop(columns='gamePeriod')\n",
        "X_valid = X_valid.drop(columns='gamePeriod')\n",
        "X_test = X_test.drop(columns='gamePeriod')"
      ],
      "id": "SAYkWau0xRML",
      "execution_count": 200,
      "outputs": []
    },
    {
      "cell_type": "markdown",
      "metadata": {
        "id": "qkMP6uMUHZjK"
      },
      "source": [
        "# Change rebound feature"
      ],
      "id": "qkMP6uMUHZjK"
    },
    {
      "cell_type": "code",
      "metadata": {
        "id": "qrbQkwBdDSBn"
      },
      "source": [
        "X_train['rebound'] = X_train['rebound'].astype(int)\n",
        "X_valid['rebound'] = X_valid['rebound'].astype(int)\n",
        "X_test['rebound'] = X_test['rebound'].astype(int)"
      ],
      "id": "qrbQkwBdDSBn",
      "execution_count": 273,
      "outputs": []
    },
    {
      "cell_type": "code",
      "metadata": {
        "id": "Br-EHuqUEk65",
        "colab": {
          "base_uri": "https://localhost:8080/",
          "height": 243
        },
        "outputId": "d8df4480-5794-4503-c326-47036b4b4c49"
      },
      "source": [
        "X_test.head()"
      ],
      "id": "Br-EHuqUEk65",
      "execution_count": 274,
      "outputs": [
        {
          "output_type": "execute_result",
          "data": {
            "text/html": [
              "<div>\n",
              "<style scoped>\n",
              "    .dataframe tbody tr th:only-of-type {\n",
              "        vertical-align: middle;\n",
              "    }\n",
              "\n",
              "    .dataframe tbody tr th {\n",
              "        vertical-align: top;\n",
              "    }\n",
              "\n",
              "    .dataframe thead th {\n",
              "        text-align: right;\n",
              "    }\n",
              "</style>\n",
              "<table border=\"1\" class=\"dataframe\">\n",
              "  <thead>\n",
              "    <tr style=\"text-align: right;\">\n",
              "      <th></th>\n",
              "      <th>gameSeconds</th>\n",
              "      <th>timeFromLastEvent</th>\n",
              "      <th>gamePeriod</th>\n",
              "      <th>shotAngle</th>\n",
              "      <th>shotDistance</th>\n",
              "      <th>distanceFromLastEvent</th>\n",
              "      <th>rebound</th>\n",
              "      <th>speed</th>\n",
              "      <th>changeInShotAngle</th>\n",
              "      <th>Shot_Backhand</th>\n",
              "      <th>Shot_Deflected</th>\n",
              "      <th>Shot_Slap Shot</th>\n",
              "      <th>Shot_Snap Shot</th>\n",
              "      <th>Shot_Tip-In</th>\n",
              "      <th>Shot_Wrap-around</th>\n",
              "      <th>Shot_Wrist Shot</th>\n",
              "    </tr>\n",
              "  </thead>\n",
              "  <tbody>\n",
              "    <tr>\n",
              "      <th>43376</th>\n",
              "      <td>934.0</td>\n",
              "      <td>11.0</td>\n",
              "      <td>2</td>\n",
              "      <td>-22.166346</td>\n",
              "      <td>58.309519</td>\n",
              "      <td>19.209373</td>\n",
              "      <td>1</td>\n",
              "      <td>1.746307</td>\n",
              "      <td>12.704024</td>\n",
              "      <td>0</td>\n",
              "      <td>0</td>\n",
              "      <td>1</td>\n",
              "      <td>0</td>\n",
              "      <td>0</td>\n",
              "      <td>0</td>\n",
              "      <td>0</td>\n",
              "    </tr>\n",
              "    <tr>\n",
              "      <th>74570</th>\n",
              "      <td>364.0</td>\n",
              "      <td>18.0</td>\n",
              "      <td>2</td>\n",
              "      <td>-10.885527</td>\n",
              "      <td>158.858428</td>\n",
              "      <td>8.246211</td>\n",
              "      <td>0</td>\n",
              "      <td>0.458123</td>\n",
              "      <td>0.000000</td>\n",
              "      <td>0</td>\n",
              "      <td>0</td>\n",
              "      <td>0</td>\n",
              "      <td>1</td>\n",
              "      <td>0</td>\n",
              "      <td>0</td>\n",
              "      <td>0</td>\n",
              "    </tr>\n",
              "    <tr>\n",
              "      <th>41311</th>\n",
              "      <td>621.0</td>\n",
              "      <td>1.0</td>\n",
              "      <td>1</td>\n",
              "      <td>-39.289407</td>\n",
              "      <td>14.212670</td>\n",
              "      <td>19.646883</td>\n",
              "      <td>1</td>\n",
              "      <td>19.646883</td>\n",
              "      <td>31.694763</td>\n",
              "      <td>0</td>\n",
              "      <td>0</td>\n",
              "      <td>0</td>\n",
              "      <td>0</td>\n",
              "      <td>0</td>\n",
              "      <td>0</td>\n",
              "      <td>1</td>\n",
              "    </tr>\n",
              "    <tr>\n",
              "      <th>30372</th>\n",
              "      <td>1166.0</td>\n",
              "      <td>13.0</td>\n",
              "      <td>2</td>\n",
              "      <td>-25.167870</td>\n",
              "      <td>91.706052</td>\n",
              "      <td>59.033889</td>\n",
              "      <td>0</td>\n",
              "      <td>4.541068</td>\n",
              "      <td>0.000000</td>\n",
              "      <td>0</td>\n",
              "      <td>0</td>\n",
              "      <td>0</td>\n",
              "      <td>1</td>\n",
              "      <td>0</td>\n",
              "      <td>0</td>\n",
              "      <td>0</td>\n",
              "    </tr>\n",
              "    <tr>\n",
              "      <th>15576</th>\n",
              "      <td>34.0</td>\n",
              "      <td>20.0</td>\n",
              "      <td>1</td>\n",
              "      <td>-32.319617</td>\n",
              "      <td>57.982756</td>\n",
              "      <td>50.606324</td>\n",
              "      <td>0</td>\n",
              "      <td>2.530316</td>\n",
              "      <td>0.000000</td>\n",
              "      <td>0</td>\n",
              "      <td>0</td>\n",
              "      <td>0</td>\n",
              "      <td>0</td>\n",
              "      <td>0</td>\n",
              "      <td>0</td>\n",
              "      <td>1</td>\n",
              "    </tr>\n",
              "  </tbody>\n",
              "</table>\n",
              "</div>"
            ],
            "text/plain": [
              "       gameSeconds  timeFromLastEvent  ...  Shot_Wrap-around  Shot_Wrist Shot\n",
              "43376        934.0               11.0  ...                 0                0\n",
              "74570        364.0               18.0  ...                 0                0\n",
              "41311        621.0                1.0  ...                 0                1\n",
              "30372       1166.0               13.0  ...                 0                0\n",
              "15576         34.0               20.0  ...                 0                1\n",
              "\n",
              "[5 rows x 16 columns]"
            ]
          },
          "metadata": {},
          "execution_count": 274
        }
      ]
    },
    {
      "cell_type": "markdown",
      "metadata": {
        "id": "p1fedCBRVXRa"
      },
      "source": [
        "# Normalize numerical data "
      ],
      "id": "p1fedCBRVXRa"
    },
    {
      "cell_type": "markdown",
      "metadata": {
        "id": "dx5_h5ZOGU8V"
      },
      "source": [
        "#### Here I standardize the game period, but I shouldn't, but last time (check on best_shot_trial branch) **IT DID GOOD ON MY CERTAINTITY OF PREDICTION** so I'll keep it as a best shot lol"
      ],
      "id": "dx5_h5ZOGU8V"
    },
    {
      "cell_type": "code",
      "metadata": {
        "id": "eG5RixUBVbxJ"
      },
      "source": [
        "num = ['gameSeconds','timeFromLastEvent','shotAngle', 'shotDistance','distanceFromLastEvent','speed','changeInShotAngle']"
      ],
      "id": "eG5RixUBVbxJ",
      "execution_count": 276,
      "outputs": []
    },
    {
      "cell_type": "code",
      "metadata": {
        "id": "lVyUXeSCWRTE"
      },
      "source": [
        "from sklearn.preprocessing import StandardScaler\n",
        "\n",
        "scaler = StandardScaler()\n",
        "scaler.fit(X_train[num])\n",
        "\n",
        "X_train[num] = scaler.transform(X_train[num])\n",
        "X_valid[num] = scaler.transform(X_valid[num])\n",
        "X_test[num] = scaler.transform(X_test[num])"
      ],
      "id": "lVyUXeSCWRTE",
      "execution_count": 277,
      "outputs": []
    },
    {
      "cell_type": "code",
      "metadata": {
        "colab": {
          "base_uri": "https://localhost:8080/",
          "height": 461
        },
        "id": "9t_C_0JVYcqu",
        "outputId": "a580169d-b4ef-4c3a-84da-dee782755800"
      },
      "source": [
        "X_test"
      ],
      "id": "9t_C_0JVYcqu",
      "execution_count": 278,
      "outputs": [
        {
          "output_type": "execute_result",
          "data": {
            "text/html": [
              "<div>\n",
              "<style scoped>\n",
              "    .dataframe tbody tr th:only-of-type {\n",
              "        vertical-align: middle;\n",
              "    }\n",
              "\n",
              "    .dataframe tbody tr th {\n",
              "        vertical-align: top;\n",
              "    }\n",
              "\n",
              "    .dataframe thead th {\n",
              "        text-align: right;\n",
              "    }\n",
              "</style>\n",
              "<table border=\"1\" class=\"dataframe\">\n",
              "  <thead>\n",
              "    <tr style=\"text-align: right;\">\n",
              "      <th></th>\n",
              "      <th>gameSeconds</th>\n",
              "      <th>timeFromLastEvent</th>\n",
              "      <th>gamePeriod</th>\n",
              "      <th>shotAngle</th>\n",
              "      <th>shotDistance</th>\n",
              "      <th>distanceFromLastEvent</th>\n",
              "      <th>rebound</th>\n",
              "      <th>speed</th>\n",
              "      <th>changeInShotAngle</th>\n",
              "      <th>Shot_Backhand</th>\n",
              "      <th>Shot_Deflected</th>\n",
              "      <th>Shot_Slap Shot</th>\n",
              "      <th>Shot_Snap Shot</th>\n",
              "      <th>Shot_Tip-In</th>\n",
              "      <th>Shot_Wrap-around</th>\n",
              "      <th>Shot_Wrist Shot</th>\n",
              "    </tr>\n",
              "  </thead>\n",
              "  <tbody>\n",
              "    <tr>\n",
              "      <th>43376</th>\n",
              "      <td>0.975593</td>\n",
              "      <td>-0.307472</td>\n",
              "      <td>2</td>\n",
              "      <td>-0.631713</td>\n",
              "      <td>0.574417</td>\n",
              "      <td>-0.928374</td>\n",
              "      <td>1</td>\n",
              "      <td>-0.619437</td>\n",
              "      <td>0.253149</td>\n",
              "      <td>0</td>\n",
              "      <td>0</td>\n",
              "      <td>1</td>\n",
              "      <td>0</td>\n",
              "      <td>0</td>\n",
              "      <td>0</td>\n",
              "      <td>0</td>\n",
              "    </tr>\n",
              "    <tr>\n",
              "      <th>74570</th>\n",
              "      <td>-0.661435</td>\n",
              "      <td>0.166103</td>\n",
              "      <td>2</td>\n",
              "      <td>-0.322478</td>\n",
              "      <td>3.736018</td>\n",
              "      <td>-1.165986</td>\n",
              "      <td>0</td>\n",
              "      <td>-0.747215</td>\n",
              "      <td>-0.363797</td>\n",
              "      <td>0</td>\n",
              "      <td>0</td>\n",
              "      <td>0</td>\n",
              "      <td>1</td>\n",
              "      <td>0</td>\n",
              "      <td>0</td>\n",
              "      <td>0</td>\n",
              "    </tr>\n",
              "    <tr>\n",
              "      <th>41311</th>\n",
              "      <td>0.076664</td>\n",
              "      <td>-0.984007</td>\n",
              "      <td>1</td>\n",
              "      <td>-1.101098</td>\n",
              "      <td>-0.812138</td>\n",
              "      <td>-0.918892</td>\n",
              "      <td>1</td>\n",
              "      <td>1.156169</td>\n",
              "      <td>1.175397</td>\n",
              "      <td>0</td>\n",
              "      <td>0</td>\n",
              "      <td>0</td>\n",
              "      <td>0</td>\n",
              "      <td>0</td>\n",
              "      <td>0</td>\n",
              "      <td>1</td>\n",
              "    </tr>\n",
              "    <tr>\n",
              "      <th>30372</th>\n",
              "      <td>1.641892</td>\n",
              "      <td>-0.172165</td>\n",
              "      <td>2</td>\n",
              "      <td>-0.713992</td>\n",
              "      <td>1.624519</td>\n",
              "      <td>-0.065233</td>\n",
              "      <td>0</td>\n",
              "      <td>-0.342217</td>\n",
              "      <td>-0.363797</td>\n",
              "      <td>0</td>\n",
              "      <td>0</td>\n",
              "      <td>0</td>\n",
              "      <td>1</td>\n",
              "      <td>0</td>\n",
              "      <td>0</td>\n",
              "      <td>0</td>\n",
              "    </tr>\n",
              "    <tr>\n",
              "      <th>15576</th>\n",
              "      <td>-1.609188</td>\n",
              "      <td>0.301410</td>\n",
              "      <td>1</td>\n",
              "      <td>-0.910039</td>\n",
              "      <td>0.564143</td>\n",
              "      <td>-0.247889</td>\n",
              "      <td>0</td>\n",
              "      <td>-0.541669</td>\n",
              "      <td>-0.363797</td>\n",
              "      <td>0</td>\n",
              "      <td>0</td>\n",
              "      <td>0</td>\n",
              "      <td>0</td>\n",
              "      <td>0</td>\n",
              "      <td>0</td>\n",
              "      <td>1</td>\n",
              "    </tr>\n",
              "    <tr>\n",
              "      <th>...</th>\n",
              "      <td>...</td>\n",
              "      <td>...</td>\n",
              "      <td>...</td>\n",
              "      <td>...</td>\n",
              "      <td>...</td>\n",
              "      <td>...</td>\n",
              "      <td>...</td>\n",
              "      <td>...</td>\n",
              "      <td>...</td>\n",
              "      <td>...</td>\n",
              "      <td>...</td>\n",
              "      <td>...</td>\n",
              "      <td>...</td>\n",
              "      <td>...</td>\n",
              "      <td>...</td>\n",
              "      <td>...</td>\n",
              "    </tr>\n",
              "    <tr>\n",
              "      <th>30565</th>\n",
              "      <td>-0.299566</td>\n",
              "      <td>-0.781047</td>\n",
              "      <td>2</td>\n",
              "      <td>-0.044344</td>\n",
              "      <td>3.615102</td>\n",
              "      <td>-0.820496</td>\n",
              "      <td>0</td>\n",
              "      <td>-0.192870</td>\n",
              "      <td>-0.363797</td>\n",
              "      <td>0</td>\n",
              "      <td>0</td>\n",
              "      <td>0</td>\n",
              "      <td>0</td>\n",
              "      <td>1</td>\n",
              "      <td>0</td>\n",
              "      <td>0</td>\n",
              "    </tr>\n",
              "    <tr>\n",
              "      <th>59159</th>\n",
              "      <td>-1.247318</td>\n",
              "      <td>-0.713393</td>\n",
              "      <td>1</td>\n",
              "      <td>-0.298422</td>\n",
              "      <td>0.369360</td>\n",
              "      <td>-0.616142</td>\n",
              "      <td>0</td>\n",
              "      <td>-0.125776</td>\n",
              "      <td>-0.363797</td>\n",
              "      <td>0</td>\n",
              "      <td>0</td>\n",
              "      <td>1</td>\n",
              "      <td>0</td>\n",
              "      <td>0</td>\n",
              "      <td>0</td>\n",
              "      <td>0</td>\n",
              "    </tr>\n",
              "    <tr>\n",
              "      <th>19828</th>\n",
              "      <td>-1.281782</td>\n",
              "      <td>3.210513</td>\n",
              "      <td>1</td>\n",
              "      <td>0.064729</td>\n",
              "      <td>0.410136</td>\n",
              "      <td>-0.447413</td>\n",
              "      <td>0</td>\n",
              "      <td>-0.727473</td>\n",
              "      <td>-0.363797</td>\n",
              "      <td>0</td>\n",
              "      <td>0</td>\n",
              "      <td>1</td>\n",
              "      <td>0</td>\n",
              "      <td>0</td>\n",
              "      <td>0</td>\n",
              "      <td>0</td>\n",
              "    </tr>\n",
              "    <tr>\n",
              "      <th>36663</th>\n",
              "      <td>-0.423061</td>\n",
              "      <td>-0.307472</td>\n",
              "      <td>1</td>\n",
              "      <td>-1.567672</td>\n",
              "      <td>-0.011954</td>\n",
              "      <td>-0.877847</td>\n",
              "      <td>0</td>\n",
              "      <td>-0.598414</td>\n",
              "      <td>-0.363797</td>\n",
              "      <td>0</td>\n",
              "      <td>0</td>\n",
              "      <td>0</td>\n",
              "      <td>0</td>\n",
              "      <td>0</td>\n",
              "      <td>0</td>\n",
              "      <td>1</td>\n",
              "    </tr>\n",
              "    <tr>\n",
              "      <th>12686</th>\n",
              "      <td>-0.779186</td>\n",
              "      <td>2.736938</td>\n",
              "      <td>1</td>\n",
              "      <td>-0.461181</td>\n",
              "      <td>0.114436</td>\n",
              "      <td>-0.745248</td>\n",
              "      <td>1</td>\n",
              "      <td>-0.743666</td>\n",
              "      <td>1.299440</td>\n",
              "      <td>0</td>\n",
              "      <td>0</td>\n",
              "      <td>0</td>\n",
              "      <td>0</td>\n",
              "      <td>0</td>\n",
              "      <td>0</td>\n",
              "      <td>1</td>\n",
              "    </tr>\n",
              "  </tbody>\n",
              "</table>\n",
              "<p>74168 rows × 16 columns</p>\n",
              "</div>"
            ],
            "text/plain": [
              "       gameSeconds  timeFromLastEvent  ...  Shot_Wrap-around  Shot_Wrist Shot\n",
              "43376     0.975593          -0.307472  ...                 0                0\n",
              "74570    -0.661435           0.166103  ...                 0                0\n",
              "41311     0.076664          -0.984007  ...                 0                1\n",
              "30372     1.641892          -0.172165  ...                 0                0\n",
              "15576    -1.609188           0.301410  ...                 0                1\n",
              "...            ...                ...  ...               ...              ...\n",
              "30565    -0.299566          -0.781047  ...                 0                0\n",
              "59159    -1.247318          -0.713393  ...                 0                0\n",
              "19828    -1.281782           3.210513  ...                 0                0\n",
              "36663    -0.423061          -0.307472  ...                 0                1\n",
              "12686    -0.779186           2.736938  ...                 0                1\n",
              "\n",
              "[74168 rows x 16 columns]"
            ]
          },
          "metadata": {},
          "execution_count": 278
        }
      ]
    },
    {
      "cell_type": "markdown",
      "metadata": {
        "id": "UXo55o_N1utI"
      },
      "source": [
        "## Export your normalized set on comet"
      ],
      "id": "UXo55o_N1utI"
    },
    {
      "cell_type": "code",
      "metadata": {
        "id": "4ONL8-5S1xlr"
      },
      "source": [
        "exp.log_dataframe_profile(\n",
        "X_train, \n",
        "name='normalized_train_features',  # keep this name\n",
        "dataframe_format='csv'  # ensure you set this flag!\n",
        ")\n",
        "\n",
        "exp.log_dataframe_profile(\n",
        "X_valid, \n",
        "name='normalized_valid_features',  # keep this name\n",
        "dataframe_format='csv'  # ensure you set this flag!\n",
        ")\n",
        "\n",
        "exp.log_dataframe_profile(\n",
        "X_test, \n",
        "name='normalized_test_features',  # keep this name\n",
        "dataframe_format='csv'  # ensure you set this flag!\n",
        ")\n"
      ],
      "id": "4ONL8-5S1xlr",
      "execution_count": 279,
      "outputs": []
    },
    {
      "cell_type": "markdown",
      "metadata": {
        "id": "UQVVMq0iJmIs"
      },
      "source": [
        "# Try Random Forest"
      ],
      "id": "UQVVMq0iJmIs"
    },
    {
      "cell_type": "code",
      "metadata": {
        "id": "QMS2ZkPeI3do"
      },
      "source": [
        "from sklearn.ensemble import RandomForestClassifier\n",
        "from sklearn.experimental import enable_halving_search_cv\n",
        "from sklearn.model_selection import HalvingGridSearchCV\n",
        "\n",
        "# Create the parameter grid based on the results of random search \n",
        "param_grid = {\n",
        "    'n_estimators':[50,65,80,100,115,130,150],\n",
        "     'max_depth': [5,6,7,8,9,10,11,12,13,14,15,18]\n",
        "}\n",
        "\n",
        "rf = RandomForestClassifier(criterion='entropy')\n",
        "sh = HalvingGridSearchCV(rf,param_grid, cv=4)\n",
        "model = sh.fit(X_train,y_train)"
      ],
      "id": "QMS2ZkPeI3do",
      "execution_count": null,
      "outputs": []
    },
    {
      "cell_type": "code",
      "metadata": {
        "id": "iLSfbahVakWy"
      },
      "source": [
        "model.best_estimator_"
      ],
      "id": "iLSfbahVakWy",
      "execution_count": null,
      "outputs": []
    },
    {
      "cell_type": "code",
      "metadata": {
        "id": "nuPU-E-uhptX"
      },
      "source": [
        "y_pred_valid  = model.predict(X_valid)"
      ],
      "id": "nuPU-E-uhptX",
      "execution_count": null,
      "outputs": []
    },
    {
      "cell_type": "code",
      "metadata": {
        "id": "mPzwKTEhiIPa"
      },
      "source": [
        "y_proba_val = model.predict_proba(X_valid)[:,1] # get the proba of having a goal (pred=1)"
      ],
      "id": "mPzwKTEhiIPa",
      "execution_count": null,
      "outputs": []
    },
    {
      "cell_type": "code",
      "metadata": {
        "id": "--dZClQLiM63"
      },
      "source": [
        "score_ = model.score(X_valid,y_valid)\n",
        "score_"
      ],
      "id": "--dZClQLiM63",
      "execution_count": null,
      "outputs": []
    },
    {
      "cell_type": "code",
      "metadata": {
        "id": "-4NtOh_X-q7g"
      },
      "source": [
        "%matplotlib inline\n",
        "plt.close('all')"
      ],
      "id": "-4NtOh_X-q7g",
      "execution_count": 234,
      "outputs": []
    },
    {
      "cell_type": "markdown",
      "metadata": {
        "id": "sVw66t1QhYSZ"
      },
      "source": [
        "# Export model on comet before plotting"
      ],
      "id": "sVw66t1QhYSZ"
    },
    {
      "cell_type": "code",
      "metadata": {
        "id": "IN7rF_wui8LW"
      },
      "source": [
        "weights_dir = \"../ift6758/models/weights\"\n",
        "experiment = \"Random-forest-with-FE2\"\n",
        "predscore_val_dict={}"
      ],
      "id": "IN7rF_wui8LW",
      "execution_count": 221,
      "outputs": []
    },
    {
      "cell_type": "code",
      "metadata": {
        "id": "LDQS_iZvkPTH",
        "colab": {
          "base_uri": "https://localhost:8080/"
        },
        "outputId": "335c0490-606d-42e0-b9b6-878901ffa3d4"
      },
      "source": [
        "!ls .."
      ],
      "id": "LDQS_iZvkPTH",
      "execution_count": 108,
      "outputs": [
        {
          "output_type": "stream",
          "name": "stdout",
          "text": [
            "ift6758  ift6758-project-main\n"
          ]
        }
      ]
    },
    {
      "cell_type": "code",
      "metadata": {
        "id": "0VV3-XKcgDVq",
        "colab": {
          "base_uri": "https://localhost:8080/"
        },
        "outputId": "45ff64ae-0515-4d78-9b37-37d0b49fe3e3"
      },
      "source": [
        "import joblib\n",
        "\n",
        "predscore_val_dict[experiment]={}\n",
        "predscore_val_dict[experiment]['true_valid_label']=y_valid\n",
        "predscore_val_dict[experiment]['proba']=y_proba_val\n",
        "predscore_val_dict[experiment]['prediction']=y_pred_valid\n",
        "\n",
        "## Dumping model\n",
        "filename=f\"{weights_dir}/{experiment}.pkl\"\n",
        "joblib.dump(model,filename)"
      ],
      "id": "0VV3-XKcgDVq",
      "execution_count": 222,
      "outputs": [
        {
          "output_type": "execute_result",
          "data": {
            "text/plain": [
              "['../ift6758/models/weights/Random-forest-with-FE2.pkl']"
            ]
          },
          "metadata": {},
          "execution_count": 222
        }
      ]
    },
    {
      "cell_type": "code",
      "metadata": {
        "id": "2jcopP6hg6ns",
        "colab": {
          "base_uri": "https://localhost:8080/"
        },
        "outputId": "afdb48dd-1ecf-4ce3-a188-ab7df35a345c"
      },
      "source": [
        "exp.log_model(\"Random Forest\", \"../ift6758/models/weights/Random-forest-with-FE2.pkl\")"
      ],
      "id": "2jcopP6hg6ns",
      "execution_count": 223,
      "outputs": [
        {
          "output_type": "execute_result",
          "data": {
            "text/plain": [
              "{'api': 'https://www.comet.ml/api/rest/v2/experiment/asset/get-asset?assetId=f92d1768268e485aa300d40ae9bcfcab&experimentKey=2de74906d5ad42c0913ded110a44d306',\n",
              " 'assetId': 'f92d1768268e485aa300d40ae9bcfcab',\n",
              " 'web': 'https://www.comet.ml/api/asset/download?assetId=f92d1768268e485aa300d40ae9bcfcab&experimentKey=2de74906d5ad42c0913ded110a44d306'}"
            ]
          },
          "metadata": {},
          "execution_count": 223
        }
      ]
    },
    {
      "cell_type": "markdown",
      "metadata": {
        "id": "QTmWpIfSCrou"
      },
      "source": [
        "# Plotting"
      ],
      "id": "QTmWpIfSCrou"
    },
    {
      "cell_type": "code",
      "metadata": {
        "id": "BKMlJxoel-qB",
        "colab": {
          "base_uri": "https://localhost:8080/"
        },
        "outputId": "4a815bd5-8132-4580-8d2a-f4c3111d8aec"
      },
      "source": [
        "# First we will switch branch, the plotting metrics are on main\n",
        "!git checkout main"
      ],
      "id": "BKMlJxoel-qB",
      "execution_count": 111,
      "outputs": [
        {
          "output_type": "stream",
          "name": "stdout",
          "text": [
            "M\tift6758/metrics/plot_metrics.py\n",
            "Already on 'main'\n",
            "Your branch is up to date with 'origin/main'.\n"
          ]
        }
      ]
    },
    {
      "cell_type": "code",
      "metadata": {
        "id": "cbMBlsX2MTWy",
        "colab": {
          "base_uri": "https://localhost:8080/"
        },
        "outputId": "b88fe94d-eaf1-4e1f-dc7e-4c4003bd1959"
      },
      "source": [
        "!git branch"
      ],
      "id": "cbMBlsX2MTWy",
      "execution_count": 112,
      "outputs": [
        {
          "output_type": "stream",
          "name": "stdout",
          "text": [
            "  best_shot_trial\u001b[m\n",
            "  fengineering2\u001b[m\n",
            "* \u001b[32mmain\u001b[m\n"
          ]
        }
      ]
    },
    {
      "cell_type": "code",
      "metadata": {
        "id": "A8QwOHn-DFME",
        "colab": {
          "base_uri": "https://localhost:8080/"
        },
        "outputId": "897f9841-f0a2-4e22-9aa7-0247850d9d17"
      },
      "source": [
        "!git pull"
      ],
      "id": "A8QwOHn-DFME",
      "execution_count": 113,
      "outputs": [
        {
          "output_type": "stream",
          "name": "stdout",
          "text": [
            "Already up to date.\n"
          ]
        }
      ]
    },
    {
      "cell_type": "code",
      "metadata": {
        "id": "R8HElJkGDHr0",
        "colab": {
          "base_uri": "https://localhost:8080/",
          "height": 554
        },
        "outputId": "24c1c7ed-1da4-4b25-90ce-52d9c08438c8"
      },
      "source": [
        "from ift6758.metrics import plot_metrics\n",
        "\n",
        "plot_metrics.plotConfusion(y_valid,y_pred_valid, title='Confusion matrix for Random Forest validation set prediction')"
      ],
      "id": "R8HElJkGDHr0",
      "execution_count": 224,
      "outputs": [
        {
          "output_type": "stream",
          "name": "stdout",
          "text": [
            "              precision    recall  f1-score   support\n",
            "\n",
            "           0       0.91      1.00      0.95    216808\n",
            "           1       1.00      0.03      0.06     21238\n",
            "\n",
            "    accuracy                           0.91    238046\n",
            "   macro avg       0.96      0.52      0.51    238046\n",
            "weighted avg       0.92      0.91      0.87    238046\n",
            "\n"
          ]
        },
        {
          "output_type": "display_data",
          "data": {
            "image/png": "[encoded data removed]",
            "text/plain": [
              "<Figure size 720x360 with 2 Axes>"
            ]
          },
          "metadata": {
            "needs_background": "light"
          }
        }
      ]
    },
    {
      "cell_type": "code",
      "metadata": {
        "id": "HHTlw5E8EFn-",
        "colab": {
          "base_uri": "https://localhost:8080/",
          "height": 298
        },
        "outputId": "273eb29d-c158-4300-f192-003d323a0457"
      },
      "source": [
        "plot_metrics.plot_roc([y_valid],[y_proba_val],[\"Valid set for Rand Forest\"])"
      ],
      "id": "HHTlw5E8EFn-",
      "execution_count": 225,
      "outputs": [
        {
          "output_type": "display_data",
          "data": {
            "image/png": "[encoded data removed]",
            "text/plain": [
              "<Figure size 432x288 with 1 Axes>"
            ]
          },
          "metadata": {
            "needs_background": "light"
          }
        }
      ]
    },
    {
      "cell_type": "code",
      "metadata": {
        "id": "Xqq78vIoM_Tz",
        "colab": {
          "base_uri": "https://localhost:8080/",
          "height": 488
        },
        "outputId": "42004b60-8590-48c7-94c6-30cdc44fda6f"
      },
      "source": [
        "plot_metrics.plot_percentile([y_valid],[y_proba_val],bin_width=5,plot_labels=[\"Valid set for Rand Forest\"])"
      ],
      "id": "Xqq78vIoM_Tz",
      "execution_count": 226,
      "outputs": [
        {
          "output_type": "display_data",
          "data": {
            "image/png": "[encoded data removed]",
            "text/plain": [
              "<Figure size 1080x540 with 2 Axes>"
            ]
          },
          "metadata": {
            "needs_background": "light"
          }
        }
      ]
    },
    {
      "cell_type": "code",
      "metadata": {
        "id": "nXqLoooItwiz",
        "colab": {
          "base_uri": "https://localhost:8080/",
          "height": 488
        },
        "outputId": "aa83a736-f1c6-449c-8471-500315319536"
      },
      "source": [
        "plot_metrics.plot_calibration([y_valid],[y_proba_val],plot_labels=[\"Valid set for Rand Forest\"])"
      ],
      "id": "nXqLoooItwiz",
      "execution_count": 227,
      "outputs": [
        {
          "output_type": "display_data",
          "data": {
            "image/png": "[encoded data removed]",
            "text/plain": [
              "<Figure size 540x540 with 1 Axes>"
            ]
          },
          "metadata": {
            "needs_background": "light"
          }
        }
      ]
    },
    {
      "cell_type": "code",
      "metadata": {
        "id": "xw4nj7GAuImf"
      },
      "source": [
        ""
      ],
      "id": "xw4nj7GAuImf",
      "execution_count": 117,
      "outputs": []
    },
    {
      "cell_type": "markdown",
      "metadata": {
        "id": "tw6uUAph_dbi"
      },
      "source": [
        "# On test set"
      ],
      "id": "tw6uUAph_dbi"
    },
    {
      "cell_type": "code",
      "metadata": {
        "id": "PYRB0oxk_e8x",
        "colab": {
          "base_uri": "https://localhost:8080/"
        },
        "outputId": "c6caa0d1-5bd6-47a2-b698-f856d2a5c638"
      },
      "source": [
        "y_pred_test  = model.predict(X_test)\n",
        "y_proba_test = model.predict_proba(X_test)[:,1] # get the proba of having a goal (pred=1)\n",
        "score_test = model.score(X_test,y_test)\n",
        "score_test"
      ],
      "id": "PYRB0oxk_e8x",
      "execution_count": 228,
      "outputs": [
        {
          "output_type": "execute_result",
          "data": {
            "text/plain": [
              "0.9135335187316737"
            ]
          },
          "metadata": {},
          "execution_count": 228
        }
      ]
    },
    {
      "cell_type": "markdown",
      "metadata": {
        "id": "Y3A1GNzB_3Bt"
      },
      "source": [
        "## Export model"
      ],
      "id": "Y3A1GNzB_3Bt"
    },
    {
      "cell_type": "code",
      "metadata": {
        "id": "VFBBSmcE_yEv"
      },
      "source": [
        "weights_dir = \"../ift6758/models/weights\"\n",
        "experiment = \"Random-forest-with-FE2\"\n",
        "predscore_val_dict={}"
      ],
      "id": "VFBBSmcE_yEv",
      "execution_count": 229,
      "outputs": []
    },
    {
      "cell_type": "code",
      "metadata": {
        "id": "NehP2P8E_6AF",
        "colab": {
          "base_uri": "https://localhost:8080/"
        },
        "outputId": "6b13b0bf-4171-4b5b-d9fb-759ce3113b25"
      },
      "source": [
        "import joblib\n",
        "\n",
        "predscore_val_dict[experiment]={}\n",
        "predscore_val_dict[experiment]['true_test_label']=y_test\n",
        "predscore_val_dict[experiment]['proba']=y_proba_test\n",
        "predscore_val_dict[experiment]['prediction']=y_pred_test\n",
        "\n",
        "## Dumping model\n",
        "filename=f\"{weights_dir}/{experiment}.pkl\"\n",
        "joblib.dump(model,filename)"
      ],
      "id": "NehP2P8E_6AF",
      "execution_count": 230,
      "outputs": [
        {
          "output_type": "execute_result",
          "data": {
            "text/plain": [
              "['../ift6758/models/weights/Random-forest-with-FE2.pkl']"
            ]
          },
          "metadata": {},
          "execution_count": 230
        }
      ]
    },
    {
      "cell_type": "code",
      "metadata": {
        "id": "YJGJzD5Z__E9",
        "colab": {
          "base_uri": "https://localhost:8080/"
        },
        "outputId": "1b9f8359-3df6-4818-c653-b996a2d3b5b2"
      },
      "source": [
        "exp.log_model(\"Random Forest\", \"../ift6758/models/weights/Random-forest-with-FE2.pkl\")"
      ],
      "id": "YJGJzD5Z__E9",
      "execution_count": 231,
      "outputs": [
        {
          "output_type": "execute_result",
          "data": {
            "text/plain": [
              "{'api': 'https://www.comet.ml/api/rest/v2/experiment/asset/get-asset?assetId=14865ec493a2444aa508c546faf7abec&experimentKey=2de74906d5ad42c0913ded110a44d306',\n",
              " 'assetId': '14865ec493a2444aa508c546faf7abec',\n",
              " 'web': 'https://www.comet.ml/api/asset/download?assetId=14865ec493a2444aa508c546faf7abec&experimentKey=2de74906d5ad42c0913ded110a44d306'}"
            ]
          },
          "metadata": {},
          "execution_count": 231
        }
      ]
    },
    {
      "cell_type": "markdown",
      "metadata": {
        "id": "oT1p1HciALuz"
      },
      "source": [
        "# Plot"
      ],
      "id": "oT1p1HciALuz"
    },
    {
      "cell_type": "code",
      "metadata": {
        "id": "aTtwB14LAI5G",
        "colab": {
          "base_uri": "https://localhost:8080/",
          "height": 554
        },
        "outputId": "eb4c1e5c-f7d8-4f15-9403-fb030eabb30a"
      },
      "source": [
        "from ift6758.metrics import plot_metrics\n",
        "\n",
        "plot_metrics.plotConfusion(y_test,y_pred_test, title='Confusion matrix for Random Forest test set prediction')"
      ],
      "id": "aTtwB14LAI5G",
      "execution_count": 236,
      "outputs": [
        {
          "output_type": "stream",
          "name": "stdout",
          "text": [
            "              precision    recall  f1-score   support\n",
            "\n",
            "           0       0.91      1.00      0.95    216808\n",
            "           1       1.00      0.03      0.06     21238\n",
            "\n",
            "    accuracy                           0.91    238046\n",
            "   macro avg       0.96      0.52      0.51    238046\n",
            "weighted avg       0.92      0.91      0.87    238046\n",
            "\n"
          ]
        },
        {
          "output_type": "display_data",
          "data": {
            "image/png": "[encoded data removed]",
            "text/plain": [
              "<Figure size 720x360 with 2 Axes>"
            ]
          },
          "metadata": {
            "needs_background": "light"
          }
        }
      ]
    },
    {
      "cell_type": "code",
      "metadata": {
        "id": "QJOFKKd8Al1a",
        "colab": {
          "base_uri": "https://localhost:8080/",
          "height": 1000
        },
        "outputId": "389f82e7-5af8-42d3-af71-7d10969d26e2"
      },
      "source": [
        "plot_metrics.plot_roc([y_test],[y_proba_test],[\"Test set for Rand Forest\"])\n",
        "plot_metrics.plot_percentile([y_test],[y_proba_test],bin_width=5,plot_labels=[\"Test set for Rand Forest\"])\n",
        "plot_metrics.plot_calibration([y_test],[y_proba_test],plot_labels=[\"Test set for Rand Forest\"])"
      ],
      "id": "QJOFKKd8Al1a",
      "execution_count": 237,
      "outputs": [
        {
          "output_type": "display_data",
          "data": {
            "image/png": "[encoded data removed]",
            "text/plain": [
              "<Figure size 432x288 with 1 Axes>"
            ]
          },
          "metadata": {
            "needs_background": "light"
          }
        },
        {
          "output_type": "display_data",
          "data": {
            "image/png": "[encoded data removed]",
            "text/plain": [
              "<Figure size 1080x540 with 2 Axes>"
            ]
          },
          "metadata": {
            "needs_background": "light"
          }
        },
        {
          "output_type": "display_data",
          "data": {
            "image/png": "[encoded data removed]",
            "text/plain": [
              "<Figure size 540x540 with 1 Axes>"
            ]
          },
          "metadata": {
            "needs_background": "light"
          }
        }
      ]
    },
    {
      "cell_type": "code",
      "metadata": {
        "id": "hxWcoB_6MRcJ",
        "outputId": "45562ced-ab5c-416e-9786-a12c6840ff46",
        "colab": {
          "base_uri": "https://localhost:8080/",
          "height": 461
        }
      },
      "source": [
        "X_valid"
      ],
      "id": "hxWcoB_6MRcJ",
      "execution_count": 241,
      "outputs": [
        {
          "output_type": "execute_result",
          "data": {
            "text/html": [
              "<div>\n",
              "<style scoped>\n",
              "    .dataframe tbody tr th:only-of-type {\n",
              "        vertical-align: middle;\n",
              "    }\n",
              "\n",
              "    .dataframe tbody tr th {\n",
              "        vertical-align: top;\n",
              "    }\n",
              "\n",
              "    .dataframe thead th {\n",
              "        text-align: right;\n",
              "    }\n",
              "</style>\n",
              "<table border=\"1\" class=\"dataframe\">\n",
              "  <thead>\n",
              "    <tr style=\"text-align: right;\">\n",
              "      <th></th>\n",
              "      <th>gameSeconds</th>\n",
              "      <th>timeFromLastEvent</th>\n",
              "      <th>gamePeriod</th>\n",
              "      <th>shotAngle</th>\n",
              "      <th>shotDistance</th>\n",
              "      <th>distanceFromLastEvent</th>\n",
              "      <th>rebound</th>\n",
              "      <th>speed</th>\n",
              "      <th>changeInShotAngle</th>\n",
              "      <th>Shot_Backhand</th>\n",
              "      <th>Shot_Deflected</th>\n",
              "      <th>Shot_Slap Shot</th>\n",
              "      <th>Shot_Snap Shot</th>\n",
              "      <th>Shot_Tip-In</th>\n",
              "      <th>Shot_Wrap-around</th>\n",
              "      <th>Shot_Wrist Shot</th>\n",
              "    </tr>\n",
              "  </thead>\n",
              "  <tbody>\n",
              "    <tr>\n",
              "      <th>42931</th>\n",
              "      <td>-1.189879</td>\n",
              "      <td>-0.510432</td>\n",
              "      <td>-1.220910</td>\n",
              "      <td>-0.309608</td>\n",
              "      <td>3.088922</td>\n",
              "      <td>1.367956</td>\n",
              "      <td>0</td>\n",
              "      <td>0.759210</td>\n",
              "      <td>-0.363797</td>\n",
              "      <td>0</td>\n",
              "      <td>0</td>\n",
              "      <td>0</td>\n",
              "      <td>0</td>\n",
              "      <td>0</td>\n",
              "      <td>0</td>\n",
              "      <td>1</td>\n",
              "    </tr>\n",
              "    <tr>\n",
              "      <th>226469</th>\n",
              "      <td>-0.110015</td>\n",
              "      <td>-0.375125</td>\n",
              "      <td>-0.037123</td>\n",
              "      <td>2.443040</td>\n",
              "      <td>-1.133259</td>\n",
              "      <td>-0.374226</td>\n",
              "      <td>0</td>\n",
              "      <td>-0.348500</td>\n",
              "      <td>-0.363797</td>\n",
              "      <td>0</td>\n",
              "      <td>0</td>\n",
              "      <td>0</td>\n",
              "      <td>0</td>\n",
              "      <td>0</td>\n",
              "      <td>1</td>\n",
              "      <td>0</td>\n",
              "    </tr>\n",
              "    <tr>\n",
              "      <th>35110</th>\n",
              "      <td>-0.940017</td>\n",
              "      <td>-0.713393</td>\n",
              "      <td>1.146664</td>\n",
              "      <td>0.653075</td>\n",
              "      <td>0.471498</td>\n",
              "      <td>-0.694141</td>\n",
              "      <td>0</td>\n",
              "      <td>-0.197171</td>\n",
              "      <td>-0.363797</td>\n",
              "      <td>0</td>\n",
              "      <td>0</td>\n",
              "      <td>0</td>\n",
              "      <td>0</td>\n",
              "      <td>0</td>\n",
              "      <td>0</td>\n",
              "      <td>1</td>\n",
              "    </tr>\n",
              "    <tr>\n",
              "      <th>130673</th>\n",
              "      <td>0.636699</td>\n",
              "      <td>-0.307472</td>\n",
              "      <td>1.146664</td>\n",
              "      <td>-0.116362</td>\n",
              "      <td>-0.723571</td>\n",
              "      <td>-0.884944</td>\n",
              "      <td>0</td>\n",
              "      <td>-0.601367</td>\n",
              "      <td>-0.363797</td>\n",
              "      <td>0</td>\n",
              "      <td>1</td>\n",
              "      <td>0</td>\n",
              "      <td>0</td>\n",
              "      <td>0</td>\n",
              "      <td>0</td>\n",
              "      <td>0</td>\n",
              "    </tr>\n",
              "    <tr>\n",
              "      <th>201795</th>\n",
              "      <td>1.015801</td>\n",
              "      <td>-0.239818</td>\n",
              "      <td>-1.220910</td>\n",
              "      <td>0.638387</td>\n",
              "      <td>1.429149</td>\n",
              "      <td>-1.029138</td>\n",
              "      <td>0</td>\n",
              "      <td>-0.672302</td>\n",
              "      <td>-0.363797</td>\n",
              "      <td>0</td>\n",
              "      <td>0</td>\n",
              "      <td>0</td>\n",
              "      <td>0</td>\n",
              "      <td>0</td>\n",
              "      <td>0</td>\n",
              "      <td>1</td>\n",
              "    </tr>\n",
              "    <tr>\n",
              "      <th>...</th>\n",
              "      <td>...</td>\n",
              "      <td>...</td>\n",
              "      <td>...</td>\n",
              "      <td>...</td>\n",
              "      <td>...</td>\n",
              "      <td>...</td>\n",
              "      <td>...</td>\n",
              "      <td>...</td>\n",
              "      <td>...</td>\n",
              "      <td>...</td>\n",
              "      <td>...</td>\n",
              "      <td>...</td>\n",
              "      <td>...</td>\n",
              "      <td>...</td>\n",
              "      <td>...</td>\n",
              "      <td>...</td>\n",
              "    </tr>\n",
              "    <tr>\n",
              "      <th>39437</th>\n",
              "      <td>-0.362749</td>\n",
              "      <td>0.707331</td>\n",
              "      <td>-0.037123</td>\n",
              "      <td>1.321477</td>\n",
              "      <td>-0.634899</td>\n",
              "      <td>-1.236343</td>\n",
              "      <td>1</td>\n",
              "      <td>-0.773582</td>\n",
              "      <td>0.275091</td>\n",
              "      <td>0</td>\n",
              "      <td>0</td>\n",
              "      <td>0</td>\n",
              "      <td>0</td>\n",
              "      <td>0</td>\n",
              "      <td>0</td>\n",
              "      <td>1</td>\n",
              "    </tr>\n",
              "    <tr>\n",
              "      <th>173797</th>\n",
              "      <td>-1.603444</td>\n",
              "      <td>-0.713393</td>\n",
              "      <td>-1.220910</td>\n",
              "      <td>-0.106667</td>\n",
              "      <td>-0.660781</td>\n",
              "      <td>0.652204</td>\n",
              "      <td>0</td>\n",
              "      <td>1.035181</td>\n",
              "      <td>-0.363797</td>\n",
              "      <td>0</td>\n",
              "      <td>0</td>\n",
              "      <td>0</td>\n",
              "      <td>0</td>\n",
              "      <td>0</td>\n",
              "      <td>0</td>\n",
              "      <td>1</td>\n",
              "    </tr>\n",
              "    <tr>\n",
              "      <th>240024</th>\n",
              "      <td>-0.718874</td>\n",
              "      <td>-0.848700</td>\n",
              "      <td>1.146664</td>\n",
              "      <td>1.602831</td>\n",
              "      <td>-0.272190</td>\n",
              "      <td>0.034419</td>\n",
              "      <td>0</td>\n",
              "      <td>1.311276</td>\n",
              "      <td>-0.363797</td>\n",
              "      <td>0</td>\n",
              "      <td>0</td>\n",
              "      <td>0</td>\n",
              "      <td>1</td>\n",
              "      <td>0</td>\n",
              "      <td>0</td>\n",
              "      <td>0</td>\n",
              "    </tr>\n",
              "    <tr>\n",
              "      <th>215622</th>\n",
              "      <td>1.067496</td>\n",
              "      <td>-0.916354</td>\n",
              "      <td>1.146664</td>\n",
              "      <td>-0.024079</td>\n",
              "      <td>-0.944599</td>\n",
              "      <td>-0.867891</td>\n",
              "      <td>1</td>\n",
              "      <td>0.298462</td>\n",
              "      <td>2.819803</td>\n",
              "      <td>0</td>\n",
              "      <td>0</td>\n",
              "      <td>0</td>\n",
              "      <td>0</td>\n",
              "      <td>0</td>\n",
              "      <td>0</td>\n",
              "      <td>1</td>\n",
              "    </tr>\n",
              "    <tr>\n",
              "      <th>198024</th>\n",
              "      <td>-0.431677</td>\n",
              "      <td>0.030796</td>\n",
              "      <td>-0.037123</td>\n",
              "      <td>0.899448</td>\n",
              "      <td>-0.125324</td>\n",
              "      <td>-0.417040</td>\n",
              "      <td>0</td>\n",
              "      <td>-0.527306</td>\n",
              "      <td>-0.363797</td>\n",
              "      <td>0</td>\n",
              "      <td>0</td>\n",
              "      <td>0</td>\n",
              "      <td>1</td>\n",
              "      <td>0</td>\n",
              "      <td>0</td>\n",
              "      <td>0</td>\n",
              "    </tr>\n",
              "  </tbody>\n",
              "</table>\n",
              "<p>238046 rows × 16 columns</p>\n",
              "</div>"
            ],
            "text/plain": [
              "        gameSeconds  timeFromLastEvent  ...  Shot_Wrap-around  Shot_Wrist Shot\n",
              "42931     -1.189879          -0.510432  ...                 0                1\n",
              "226469    -0.110015          -0.375125  ...                 1                0\n",
              "35110     -0.940017          -0.713393  ...                 0                1\n",
              "130673     0.636699          -0.307472  ...                 0                0\n",
              "201795     1.015801          -0.239818  ...                 0                1\n",
              "...             ...                ...  ...               ...              ...\n",
              "39437     -0.362749           0.707331  ...                 0                1\n",
              "173797    -1.603444          -0.713393  ...                 0                1\n",
              "240024    -0.718874          -0.848700  ...                 0                0\n",
              "215622     1.067496          -0.916354  ...                 0                1\n",
              "198024    -0.431677           0.030796  ...                 0                0\n",
              "\n",
              "[238046 rows x 16 columns]"
            ]
          },
          "metadata": {},
          "execution_count": 241
        }
      ]
    },
    {
      "cell_type": "code",
      "metadata": {
        "id": "qZuhALH2MeUN",
        "outputId": "e271fd30-4df9-4b97-97dd-13da2a3cbd45",
        "colab": {
          "base_uri": "https://localhost:8080/",
          "height": 461
        }
      },
      "source": [
        "X_test"
      ],
      "id": "qZuhALH2MeUN",
      "execution_count": 243,
      "outputs": [
        {
          "output_type": "execute_result",
          "data": {
            "text/html": [
              "<div>\n",
              "<style scoped>\n",
              "    .dataframe tbody tr th:only-of-type {\n",
              "        vertical-align: middle;\n",
              "    }\n",
              "\n",
              "    .dataframe tbody tr th {\n",
              "        vertical-align: top;\n",
              "    }\n",
              "\n",
              "    .dataframe thead th {\n",
              "        text-align: right;\n",
              "    }\n",
              "</style>\n",
              "<table border=\"1\" class=\"dataframe\">\n",
              "  <thead>\n",
              "    <tr style=\"text-align: right;\">\n",
              "      <th></th>\n",
              "      <th>gameSeconds</th>\n",
              "      <th>timeFromLastEvent</th>\n",
              "      <th>gamePeriod</th>\n",
              "      <th>shotAngle</th>\n",
              "      <th>shotDistance</th>\n",
              "      <th>distanceFromLastEvent</th>\n",
              "      <th>rebound</th>\n",
              "      <th>speed</th>\n",
              "      <th>changeInShotAngle</th>\n",
              "      <th>Shot_Backhand</th>\n",
              "      <th>Shot_Deflected</th>\n",
              "      <th>Shot_Slap Shot</th>\n",
              "      <th>Shot_Snap Shot</th>\n",
              "      <th>Shot_Tip-In</th>\n",
              "      <th>Shot_Wrap-around</th>\n",
              "      <th>Shot_Wrist Shot</th>\n",
              "    </tr>\n",
              "  </thead>\n",
              "  <tbody>\n",
              "    <tr>\n",
              "      <th>42931</th>\n",
              "      <td>-1.189879</td>\n",
              "      <td>-0.510432</td>\n",
              "      <td>-1.220910</td>\n",
              "      <td>-0.309608</td>\n",
              "      <td>3.088922</td>\n",
              "      <td>1.367956</td>\n",
              "      <td>0</td>\n",
              "      <td>0.759210</td>\n",
              "      <td>-0.363797</td>\n",
              "      <td>0</td>\n",
              "      <td>0</td>\n",
              "      <td>0</td>\n",
              "      <td>0</td>\n",
              "      <td>0</td>\n",
              "      <td>0</td>\n",
              "      <td>1</td>\n",
              "    </tr>\n",
              "    <tr>\n",
              "      <th>226469</th>\n",
              "      <td>-0.110015</td>\n",
              "      <td>-0.375125</td>\n",
              "      <td>-0.037123</td>\n",
              "      <td>2.443040</td>\n",
              "      <td>-1.133259</td>\n",
              "      <td>-0.374226</td>\n",
              "      <td>0</td>\n",
              "      <td>-0.348500</td>\n",
              "      <td>-0.363797</td>\n",
              "      <td>0</td>\n",
              "      <td>0</td>\n",
              "      <td>0</td>\n",
              "      <td>0</td>\n",
              "      <td>0</td>\n",
              "      <td>1</td>\n",
              "      <td>0</td>\n",
              "    </tr>\n",
              "    <tr>\n",
              "      <th>35110</th>\n",
              "      <td>-0.940017</td>\n",
              "      <td>-0.713393</td>\n",
              "      <td>1.146664</td>\n",
              "      <td>0.653075</td>\n",
              "      <td>0.471498</td>\n",
              "      <td>-0.694141</td>\n",
              "      <td>0</td>\n",
              "      <td>-0.197171</td>\n",
              "      <td>-0.363797</td>\n",
              "      <td>0</td>\n",
              "      <td>0</td>\n",
              "      <td>0</td>\n",
              "      <td>0</td>\n",
              "      <td>0</td>\n",
              "      <td>0</td>\n",
              "      <td>1</td>\n",
              "    </tr>\n",
              "    <tr>\n",
              "      <th>130673</th>\n",
              "      <td>0.636699</td>\n",
              "      <td>-0.307472</td>\n",
              "      <td>1.146664</td>\n",
              "      <td>-0.116362</td>\n",
              "      <td>-0.723571</td>\n",
              "      <td>-0.884944</td>\n",
              "      <td>0</td>\n",
              "      <td>-0.601367</td>\n",
              "      <td>-0.363797</td>\n",
              "      <td>0</td>\n",
              "      <td>1</td>\n",
              "      <td>0</td>\n",
              "      <td>0</td>\n",
              "      <td>0</td>\n",
              "      <td>0</td>\n",
              "      <td>0</td>\n",
              "    </tr>\n",
              "    <tr>\n",
              "      <th>201795</th>\n",
              "      <td>1.015801</td>\n",
              "      <td>-0.239818</td>\n",
              "      <td>-1.220910</td>\n",
              "      <td>0.638387</td>\n",
              "      <td>1.429149</td>\n",
              "      <td>-1.029138</td>\n",
              "      <td>0</td>\n",
              "      <td>-0.672302</td>\n",
              "      <td>-0.363797</td>\n",
              "      <td>0</td>\n",
              "      <td>0</td>\n",
              "      <td>0</td>\n",
              "      <td>0</td>\n",
              "      <td>0</td>\n",
              "      <td>0</td>\n",
              "      <td>1</td>\n",
              "    </tr>\n",
              "    <tr>\n",
              "      <th>...</th>\n",
              "      <td>...</td>\n",
              "      <td>...</td>\n",
              "      <td>...</td>\n",
              "      <td>...</td>\n",
              "      <td>...</td>\n",
              "      <td>...</td>\n",
              "      <td>...</td>\n",
              "      <td>...</td>\n",
              "      <td>...</td>\n",
              "      <td>...</td>\n",
              "      <td>...</td>\n",
              "      <td>...</td>\n",
              "      <td>...</td>\n",
              "      <td>...</td>\n",
              "      <td>...</td>\n",
              "      <td>...</td>\n",
              "    </tr>\n",
              "    <tr>\n",
              "      <th>39437</th>\n",
              "      <td>-0.362749</td>\n",
              "      <td>0.707331</td>\n",
              "      <td>-0.037123</td>\n",
              "      <td>1.321477</td>\n",
              "      <td>-0.634899</td>\n",
              "      <td>-1.236343</td>\n",
              "      <td>1</td>\n",
              "      <td>-0.773582</td>\n",
              "      <td>0.275091</td>\n",
              "      <td>0</td>\n",
              "      <td>0</td>\n",
              "      <td>0</td>\n",
              "      <td>0</td>\n",
              "      <td>0</td>\n",
              "      <td>0</td>\n",
              "      <td>1</td>\n",
              "    </tr>\n",
              "    <tr>\n",
              "      <th>173797</th>\n",
              "      <td>-1.603444</td>\n",
              "      <td>-0.713393</td>\n",
              "      <td>-1.220910</td>\n",
              "      <td>-0.106667</td>\n",
              "      <td>-0.660781</td>\n",
              "      <td>0.652204</td>\n",
              "      <td>0</td>\n",
              "      <td>1.035181</td>\n",
              "      <td>-0.363797</td>\n",
              "      <td>0</td>\n",
              "      <td>0</td>\n",
              "      <td>0</td>\n",
              "      <td>0</td>\n",
              "      <td>0</td>\n",
              "      <td>0</td>\n",
              "      <td>1</td>\n",
              "    </tr>\n",
              "    <tr>\n",
              "      <th>240024</th>\n",
              "      <td>-0.718874</td>\n",
              "      <td>-0.848700</td>\n",
              "      <td>1.146664</td>\n",
              "      <td>1.602831</td>\n",
              "      <td>-0.272190</td>\n",
              "      <td>0.034419</td>\n",
              "      <td>0</td>\n",
              "      <td>1.311276</td>\n",
              "      <td>-0.363797</td>\n",
              "      <td>0</td>\n",
              "      <td>0</td>\n",
              "      <td>0</td>\n",
              "      <td>1</td>\n",
              "      <td>0</td>\n",
              "      <td>0</td>\n",
              "      <td>0</td>\n",
              "    </tr>\n",
              "    <tr>\n",
              "      <th>215622</th>\n",
              "      <td>1.067496</td>\n",
              "      <td>-0.916354</td>\n",
              "      <td>1.146664</td>\n",
              "      <td>-0.024079</td>\n",
              "      <td>-0.944599</td>\n",
              "      <td>-0.867891</td>\n",
              "      <td>1</td>\n",
              "      <td>0.298462</td>\n",
              "      <td>2.819803</td>\n",
              "      <td>0</td>\n",
              "      <td>0</td>\n",
              "      <td>0</td>\n",
              "      <td>0</td>\n",
              "      <td>0</td>\n",
              "      <td>0</td>\n",
              "      <td>1</td>\n",
              "    </tr>\n",
              "    <tr>\n",
              "      <th>198024</th>\n",
              "      <td>-0.431677</td>\n",
              "      <td>0.030796</td>\n",
              "      <td>-0.037123</td>\n",
              "      <td>0.899448</td>\n",
              "      <td>-0.125324</td>\n",
              "      <td>-0.417040</td>\n",
              "      <td>0</td>\n",
              "      <td>-0.527306</td>\n",
              "      <td>-0.363797</td>\n",
              "      <td>0</td>\n",
              "      <td>0</td>\n",
              "      <td>0</td>\n",
              "      <td>1</td>\n",
              "      <td>0</td>\n",
              "      <td>0</td>\n",
              "      <td>0</td>\n",
              "    </tr>\n",
              "  </tbody>\n",
              "</table>\n",
              "<p>238046 rows × 16 columns</p>\n",
              "</div>"
            ],
            "text/plain": [
              "        gameSeconds  timeFromLastEvent  ...  Shot_Wrap-around  Shot_Wrist Shot\n",
              "42931     -1.189879          -0.510432  ...                 0                1\n",
              "226469    -0.110015          -0.375125  ...                 1                0\n",
              "35110     -0.940017          -0.713393  ...                 0                1\n",
              "130673     0.636699          -0.307472  ...                 0                0\n",
              "201795     1.015801          -0.239818  ...                 0                1\n",
              "...             ...                ...  ...               ...              ...\n",
              "39437     -0.362749           0.707331  ...                 0                1\n",
              "173797    -1.603444          -0.713393  ...                 0                1\n",
              "240024    -0.718874          -0.848700  ...                 0                0\n",
              "215622     1.067496          -0.916354  ...                 0                1\n",
              "198024    -0.431677           0.030796  ...                 0                0\n",
              "\n",
              "[238046 rows x 16 columns]"
            ]
          },
          "metadata": {},
          "execution_count": 243
        }
      ]
    },
    {
      "cell_type": "code",
      "metadata": {
        "id": "mtK0sZnZMnDC",
        "outputId": "44ec2a7e-59d0-4495-ea37-9d9522a87306",
        "colab": {
          "base_uri": "https://localhost:8080/"
        }
      },
      "source": [
        "exp.end()"
      ],
      "id": "mtK0sZnZMnDC",
      "execution_count": 244,
      "outputs": [
        {
          "output_type": "stream",
          "name": "stderr",
          "text": [
            "COMET INFO: ---------------------------\n",
            "COMET INFO: Comet.ml Experiment Summary\n",
            "COMET INFO: ---------------------------\n",
            "COMET INFO:   Data:\n",
            "COMET INFO:     display_summary_level : 1\n",
            "COMET INFO:     url                   : https://www.comet.ml/morph-e/milestone-2/2de74906d5ad42c0913ded110a44d306\n",
            "COMET INFO:   Others:\n",
            "COMET INFO:     notebook_url : https://colab.research.google.com/notebook#fileId=https%3A%2F%2Fgithub.com%2FM0rph3e%2Fift6758-project-main%2Fblob%2Fmain%2Fnotebooks%2Ftry_your_best_shot.ipynb\n",
            "COMET INFO:   Parameters:\n",
            "COMET INFO:     bootstrap                : True\n",
            "COMET INFO:     ccp_alpha                : 0.0\n",
            "COMET INFO:     class_weight             : 1\n",
            "COMET INFO:     copy                     : True\n",
            "COMET INFO:     criterion                : entropy\n",
            "COMET INFO:     max_depth                : 14\n",
            "COMET INFO:     max_features             : auto\n",
            "COMET INFO:     max_leaf_nodes           : 1\n",
            "COMET INFO:     max_samples              : 1\n",
            "COMET INFO:     min_impurity_decrease    : 0.0\n",
            "COMET INFO:     min_samples_leaf         : 1\n",
            "COMET INFO:     min_samples_split        : 2\n",
            "COMET INFO:     min_weight_fraction_leaf : 0.0\n",
            "COMET INFO:     n_estimators             : 150\n",
            "COMET INFO:     n_jobs                   : 1\n",
            "COMET INFO:     oob_score                : False\n",
            "COMET INFO:     random_state             : 1\n",
            "COMET INFO:     verbose                  : 0\n",
            "COMET INFO:     warm_start               : False\n",
            "COMET INFO:     with_mean                : True\n",
            "COMET INFO:     with_std                 : True\n",
            "COMET INFO:   Uploads:\n",
            "COMET INFO:     dataframe                : 15 (583.16 MB)\n",
            "COMET INFO:     environment details      : 1\n",
            "COMET INFO:     filename                 : 1\n",
            "COMET INFO:     git metadata             : 1\n",
            "COMET INFO:     git-patch (uncompressed) : 1 (933 bytes)\n",
            "COMET INFO:     installed packages       : 1\n",
            "COMET INFO:     model-element            : 6 (109.41 MB)\n",
            "COMET INFO:     notebook                 : 1\n",
            "COMET INFO:     os packages              : 1\n",
            "COMET INFO:     source_code              : 1\n",
            "COMET INFO: ---------------------------\n",
            "COMET INFO: Uploading metrics, params, and assets to Comet before program termination (may take several seconds)\n",
            "COMET INFO: The Python SDK has 3600 seconds to finish before aborting...\n"
          ]
        }
      ]
    },
    {
      "cell_type": "code",
      "metadata": {
        "id": "wWspJOODNuyC"
      },
      "source": [
        ""
      ],
      "id": "wWspJOODNuyC",
      "execution_count": null,
      "outputs": []
    }
  ]
}