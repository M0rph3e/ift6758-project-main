{
  "nbformat": 4,
  "nbformat_minor": 5,
  "metadata": {
    "kernelspec": {
      "name": "python3",
      "display_name": "Python 3"
    },
    "colab": {
      "name": "try_your_best_shot.ipynb",
      "provenance": []
    },
    "language_info": {
      "name": "python"
    }
  },
  "cells": [
    {
      "cell_type": "markdown",
      "metadata": {
        "id": "f4aa00a7-1743-4475-8e7b-07f75b386a29"
      },
      "source": [
        "## Here we will try our best shot to predict the goals with our features"
      ],
      "id": "f4aa00a7-1743-4475-8e7b-07f75b386a29"
    },
    {
      "cell_type": "code",
      "metadata": {
        "id": "0e26965d-f064-484c-91f3-aa96de787ab4",
        "colab": {
          "base_uri": "https://localhost:8080/"
        },
        "outputId": "d5f0f87a-4c65-4dcb-f81c-631e4725d420"
      },
      "source": [
        "from google.colab import drive\n",
        "drive.mount('/content/gdrive')"
      ],
      "id": "0e26965d-f064-484c-91f3-aa96de787ab4",
      "execution_count": 1,
      "outputs": [
        {
          "output_type": "stream",
          "name": "stdout",
          "text": [
            "Mounted at /content/gdrive\n"
          ]
        }
      ]
    },
    {
      "cell_type": "code",
      "metadata": {
        "id": "MrfE_fXB9r7z",
        "colab": {
          "base_uri": "https://localhost:8080/"
        },
        "outputId": "4a7ecbcc-84f7-4b3e-d1c1-f408e52b2053"
      },
      "source": [
        "%cd /content/gdrive/MyDrive/Master_UdeM/IFT-6758/Project/ift6758-project-main"
      ],
      "id": "MrfE_fXB9r7z",
      "execution_count": 2,
      "outputs": [
        {
          "output_type": "stream",
          "name": "stdout",
          "text": [
            "/content/gdrive/MyDrive/Master_UdeM/IFT-6758/Project/ift6758-project-main\n"
          ]
        }
      ]
    },
    {
      "cell_type": "code",
      "metadata": {
        "id": "celXeSWR9zXi",
        "colab": {
          "base_uri": "https://localhost:8080/"
        },
        "outputId": "6f773e87-58c0-449d-d5d8-3c544c5ee55f"
      },
      "source": [
        "#!git clone https://GIT_TOKEN@github.com/M0rph3e/ift6758-project-main.git #not anymore\n",
        "! git pull"
      ],
      "id": "celXeSWR9zXi",
      "execution_count": 3,
      "outputs": [
        {
          "output_type": "stream",
          "name": "stdout",
          "text": [
            "remote: Enumerating objects: 19, done.\u001b[K\n",
            "remote: Counting objects:   5% (1/18)\u001b[K\rremote: Counting objects:  11% (2/18)\u001b[K\rremote: Counting objects:  16% (3/18)\u001b[K\rremote: Counting objects:  22% (4/18)\u001b[K\rremote: Counting objects:  27% (5/18)\u001b[K\rremote: Counting objects:  33% (6/18)\u001b[K\rremote: Counting objects:  38% (7/18)\u001b[K\rremote: Counting objects:  44% (8/18)\u001b[K\rremote: Counting objects:  50% (9/18)\u001b[K\rremote: Counting objects:  55% (10/18)\u001b[K\rremote: Counting objects:  61% (11/18)\u001b[K\rremote: Counting objects:  66% (12/18)\u001b[K\rremote: Counting objects:  72% (13/18)\u001b[K\rremote: Counting objects:  77% (14/18)\u001b[K\rremote: Counting objects:  83% (15/18)\u001b[K\rremote: Counting objects:  88% (16/18)\u001b[K\rremote: Counting objects:  94% (17/18)\u001b[K\rremote: Counting objects: 100% (18/18)\u001b[K\rremote: Counting objects: 100% (18/18), done.\u001b[K\n",
            "remote: Compressing objects:  11% (1/9)\u001b[K\rremote: Compressing objects:  22% (2/9)\u001b[K\rremote: Compressing objects:  33% (3/9)\u001b[K\rremote: Compressing objects:  44% (4/9)\u001b[K\rremote: Compressing objects:  55% (5/9)\u001b[K\rremote: Compressing objects:  66% (6/9)\u001b[K\rremote: Compressing objects:  77% (7/9)\u001b[K\rremote: Compressing objects:  88% (8/9)\u001b[K\rremote: Compressing objects: 100% (9/9)\u001b[K\rremote: Compressing objects: 100% (9/9), done.\u001b[K\n",
            "remote: Total 12 (delta 9), reused 4 (delta 3), pack-reused 0\u001b[K\n",
            "Unpacking objects: 100% (12/12), done.\n",
            "From https://github.com/M0rph3e/ift6758-project-main\n",
            "   5ed5e8a..b1aee36  best_shot_trial -> origin/best_shot_trial\n",
            "   5e9c863..7da13ab  fengineering1   -> origin/fengineering1\n",
            "Already up to date.\n"
          ]
        }
      ]
    },
    {
      "cell_type": "code",
      "metadata": {
        "id": "lGWPuWN7-Rbo",
        "colab": {
          "base_uri": "https://localhost:8080/"
        },
        "outputId": "d2ea0ef1-35a2-4100-a026-2b21ffea6e7d"
      },
      "source": [
        "!git status"
      ],
      "id": "lGWPuWN7-Rbo",
      "execution_count": 4,
      "outputs": [
        {
          "output_type": "stream",
          "name": "stdout",
          "text": [
            "On branch fengineering2\n",
            "Your branch is up to date with 'origin/fengineering2'.\n",
            "\n",
            "nothing to commit, working tree clean\n"
          ]
        }
      ]
    },
    {
      "cell_type": "code",
      "metadata": {
        "id": "5wFBMu2YAjam"
      },
      "source": [
        "!pip install comet_ml pandas_profiling"
      ],
      "id": "5wFBMu2YAjam",
      "execution_count": null,
      "outputs": []
    },
    {
      "cell_type": "code",
      "metadata": {
        "id": "zqiioowlaDXX",
        "colab": {
          "base_uri": "https://localhost:8080/"
        },
        "outputId": "763207b5-52fe-4594-af00-b281a72ab099"
      },
      "source": [
        "! git branch"
      ],
      "id": "zqiioowlaDXX",
      "execution_count": 6,
      "outputs": [
        {
          "output_type": "stream",
          "name": "stdout",
          "text": [
            "  best_shot_trial\u001b[m\n",
            "* \u001b[32mfengineering2\u001b[m\n",
            "  main\u001b[m\n"
          ]
        }
      ]
    },
    {
      "cell_type": "markdown",
      "metadata": {
        "id": "TB9EOTRM-330"
      },
      "source": [
        "# Real **** starts from here"
      ],
      "id": "TB9EOTRM-330"
    },
    {
      "cell_type": "code",
      "metadata": {
        "id": "GbIIYHFg-elV"
      },
      "source": [
        "from ift6758.features.feature_engineering2 import SeasonDataSetTwo\n",
        "from ift6758.data.data_acquisition import Season\n",
        "from ift6758.visualizations.simple_visualization import Utilities \n",
        "import matplotlib.pyplot as plt\n",
        "import numpy as np\n",
        "import seaborn as sns\n",
        "import os\n",
        "import random\n",
        "import pandas as pd\n",
        "import pickle\n",
        "import sys\n",
        "import json\n",
        "\n",
        "import warnings\n",
        "warnings.filterwarnings(\"ignore\")"
      ],
      "id": "GbIIYHFg-elV",
      "execution_count": 7,
      "outputs": []
    },
    {
      "cell_type": "code",
      "metadata": {
        "id": "BHb91bE6_ODa",
        "colab": {
          "base_uri": "https://localhost:8080/"
        },
        "outputId": "654bea6b-4ad8-469f-f6d7-2792f03bbbbd"
      },
      "source": [
        "train_years = [2015,2016,2017]\n",
        "valid_years = [2018]\n",
        "test_years=[2019]\n",
        "\n",
        "\n",
        "train_dataset = SeasonDataSetTwo(train_years)\n",
        "valid_dataset = SeasonDataSetTwo(valid_years)\n",
        "train_df = train_dataset.get_features_2()\n",
        "valid_df = valid_dataset.get_features_2()"
      ],
      "id": "BHb91bE6_ODa",
      "execution_count": 8,
      "outputs": [
        {
          "output_type": "stream",
          "name": "stdout",
          "text": [
            "File with all events already Exists, loading from ../ift6758/data/PICKLE//2015_clean_all_events.pkl\n",
            "File already Exists, loading from ../ift6758/data/PICKLE//2015_period_info.pkl\n",
            "File with all events already Exists, loading from ../ift6758/data/PICKLE//2016_clean_all_events.pkl\n",
            "File already Exists, loading from ../ift6758/data/PICKLE//2016_period_info.pkl\n",
            "File with all events already Exists, loading from ../ift6758/data/PICKLE//2017_clean_all_events.pkl\n",
            "File already Exists, loading from ../ift6758/data/PICKLE//2017_period_info.pkl\n",
            "File with all events already Exists, loading from ../ift6758/data/PICKLE//2018_clean_all_events.pkl\n",
            "File already Exists, loading from ../ift6758/data/PICKLE//2018_period_info.pkl\n"
          ]
        }
      ]
    },
    {
      "cell_type": "code",
      "metadata": {
        "id": "utYXLTyoGCDF",
        "colab": {
          "base_uri": "https://localhost:8080/"
        },
        "outputId": "c7907fe0-e652-432e-8ec7-237dd202afd1"
      },
      "source": [
        "test_data = SeasonDataSetTwo(test_years)\n",
        "test_df = test_data.get_features_2()"
      ],
      "id": "utYXLTyoGCDF",
      "execution_count": 9,
      "outputs": [
        {
          "output_type": "stream",
          "name": "stdout",
          "text": [
            "File with all events already Exists, loading from ../ift6758/data/PICKLE//2019_clean_all_events.pkl\n",
            "File already Exists, loading from ../ift6758/data/PICKLE//2019_period_info.pkl\n"
          ]
        }
      ]
    },
    {
      "cell_type": "markdown",
      "metadata": {
        "id": "0kj5OTviDnFF"
      },
      "source": [
        "# Export the data csv to comet (do not execute for now)"
      ],
      "id": "0kj5OTviDnFF"
    },
    {
      "cell_type": "code",
      "metadata": {
        "id": "OvTG9lsL_Tb_",
        "colab": {
          "base_uri": "https://localhost:8080/"
        },
        "outputId": "aa436ac5-1df8-4b2e-940a-01a75cd6f4c0"
      },
      "source": [
        "from comet_ml import Experiment\n",
        "import os\n",
        "\n",
        "\n",
        "\n",
        "exp = Experiment(\n",
        "    api_key=os.environ.get('COMET_API_KEY'),\n",
        "    project_name='milestone-2',\n",
        "    workspace='morph-e',\n",
        ")"
      ],
      "id": "OvTG9lsL_Tb_",
      "execution_count": null,
      "outputs": [
        {
          "output_type": "stream",
          "name": "stderr",
          "text": [
            "COMET INFO: ---------------------------\n",
            "COMET INFO: Comet.ml Experiment Summary\n",
            "COMET INFO: ---------------------------\n",
            "COMET INFO:   Data:\n",
            "COMET INFO:     display_summary_level : 1\n",
            "COMET INFO:     url                   : https://www.comet.ml/morph-e/milestone-2/2689d4e3e26d42a88824134ac2b782bd\n",
            "COMET INFO:   Others:\n",
            "COMET INFO:     notebook_url : https://colab.research.google.com/notebook#fileId=https%3A%2F%2Fgithub.com%2FM0rph3e%2Fift6758-project-main%2Fblob%2Fbest_shot_trial%2Fnotebooks%2Ftry_your_best_shot.ipynb\n",
            "COMET INFO:   Parameters:\n",
            "COMET INFO:     bootstrap                : True\n",
            "COMET INFO:     ccp_alpha                : 0.0\n",
            "COMET INFO:     class_weight             : 1\n",
            "COMET INFO:     copy                     : True\n",
            "COMET INFO:     criterion                : entropy\n",
            "COMET INFO:     max_depth                : 10\n",
            "COMET INFO:     max_features             : auto\n",
            "COMET INFO:     max_leaf_nodes           : 1\n",
            "COMET INFO:     max_samples              : 1\n",
            "COMET INFO:     min_impurity_decrease    : 0.0\n",
            "COMET INFO:     min_samples_leaf         : 1\n",
            "COMET INFO:     min_samples_split        : 2\n",
            "COMET INFO:     min_weight_fraction_leaf : 0.0\n",
            "COMET INFO:     n_estimators             : 115\n",
            "COMET INFO:     n_jobs                   : 1\n",
            "COMET INFO:     oob_score                : False\n",
            "COMET INFO:     random_state             : 1\n",
            "COMET INFO:     verbose                  : 0\n",
            "COMET INFO:     warm_start               : False\n",
            "COMET INFO:     with_mean                : True\n",
            "COMET INFO:     with_std                 : True\n",
            "COMET INFO:   Uploads:\n",
            "COMET INFO:     dataframe           : 3 (70.68 MB)\n",
            "COMET INFO:     environment details : 1\n",
            "COMET INFO:     filename            : 1\n",
            "COMET INFO:     git metadata        : 1\n",
            "COMET INFO:     installed packages  : 1\n",
            "COMET INFO:     notebook            : 1\n",
            "COMET INFO:     os packages         : 1\n",
            "COMET INFO:     source_code         : 1\n",
            "COMET INFO: ---------------------------\n",
            "COMET WARNING: As you are running in a Jupyter environment, you will need to call `experiment.end()` when finished to ensure all metrics and code are logged before exiting.\n",
            "COMET INFO: Experiment is live on comet.ml https://www.comet.ml/morph-e/milestone-2/61ab29d2969f46b3b444cf6aef7b24e6\n",
            "\n"
          ]
        }
      ]
    },
    {
      "cell_type": "code",
      "metadata": {
        "colab": {
          "base_uri": "https://localhost:8080/"
        },
        "id": "DzdwfiX2H86Q",
        "outputId": "65750432-173e-469e-a832-0ec27df3e6d4"
      },
      "source": [
        "experiment.log_dataframe_profile(\n",
        "train_df, \n",
        "name='train_set_from_FE2',  # keep this name\n",
        "dataframe_format='csv'  # ensure you set this flag!\n",
        ")\n",
        "\n",
        "experiment.log_dataframe_profile(\n",
        "valid_df, \n",
        "name='valid_set_from_FE2',  # keep this name\n",
        "dataframe_format='csv'  # ensure you set this flag!\n",
        ")\n",
        "\n",
        "experiment.log_dataframe_profile(\n",
        "test_df, \n",
        "name='test_set_from_FE2',  # keep this name\n",
        "dataframe_format='csv'  # ensure you set this flag!\n",
        ")\n"
      ],
      "id": "DzdwfiX2H86Q",
      "execution_count": null,
      "outputs": [
        {
          "output_type": "stream",
          "name": "stderr",
          "text": [
            "COMET WARNING: unable to profile dataframe; ignoring\n",
            "COMET WARNING: unable to profile dataframe; ignoring\n",
            "COMET WARNING: unable to profile dataframe; ignoring\n"
          ]
        },
        {
          "output_type": "execute_result",
          "data": {
            "text/plain": [
              "{'dataframe': {'api': 'https://www.comet.ml/api/rest/v2/experiment/asset/get-asset?assetId=4e8eecdee4cf45708b03fb750b84e180&experimentKey=2689d4e3e26d42a88824134ac2b782bd',\n",
              "  'assetId': '4e8eecdee4cf45708b03fb750b84e180',\n",
              "  'web': 'https://www.comet.ml/api/asset/download?assetId=4e8eecdee4cf45708b03fb750b84e180&experimentKey=2689d4e3e26d42a88824134ac2b782bd'},\n",
              " 'profile': None}"
            ]
          },
          "metadata": {},
          "execution_count": 22
        }
      ]
    },
    {
      "cell_type": "code",
      "metadata": {
        "colab": {
          "base_uri": "https://localhost:8080/"
        },
        "id": "_bl0qUtfLr8e",
        "outputId": "0a58f5cd-526b-47c4-aa41-2edc6b55056c"
      },
      "source": [
        "experiment.end()"
      ],
      "id": "_bl0qUtfLr8e",
      "execution_count": null,
      "outputs": [
        {
          "output_type": "stream",
          "name": "stderr",
          "text": [
            "COMET INFO: ---------------------------\n",
            "COMET INFO: Comet.ml Experiment Summary\n",
            "COMET INFO: ---------------------------\n",
            "COMET INFO:   Data:\n",
            "COMET INFO:     display_summary_level : 1\n",
            "COMET INFO:     url                   : https://www.comet.ml/morph-e/milestone-2/efb5cd930b034742b57308a8f96d6217\n",
            "COMET INFO:   Others:\n",
            "COMET INFO:     notebook_url : https://colab.research.google.com/notebook#fileId=https%3A%2F%2Fgithub.com%2FM0rph3e%2Fift6758-project-main%2Fblob%2Fbest_shot_trial%2Fnotebooks%2Ftry_your_best_shot.ipynb\n",
            "COMET INFO:   Uploads:\n",
            "COMET INFO:     dataframe           : 6 (169.17 MB)\n",
            "COMET INFO:     environment details : 1\n",
            "COMET INFO:     filename            : 1\n",
            "COMET INFO:     git metadata        : 1\n",
            "COMET INFO:     installed packages  : 1\n",
            "COMET INFO:     notebook            : 1\n",
            "COMET INFO:     os packages         : 1\n",
            "COMET INFO:     source_code         : 1\n",
            "COMET INFO: ---------------------------\n",
            "COMET INFO: Uploading metrics, params, and assets to Comet before program termination (may take several seconds)\n",
            "COMET INFO: The Python SDK has 3600 seconds to finish before aborting...\n"
          ]
        }
      ]
    },
    {
      "cell_type": "markdown",
      "metadata": {
        "id": "i8bloprl_Lpf"
      },
      "source": [
        "# Split and shuffle Data"
      ],
      "id": "i8bloprl_Lpf"
    },
    {
      "cell_type": "code",
      "metadata": {
        "id": "X3EAx_NuFKSt"
      },
      "source": [
        "random.seed(42)"
      ],
      "id": "X3EAx_NuFKSt",
      "execution_count": null,
      "outputs": []
    },
    {
      "cell_type": "code",
      "metadata": {
        "id": "VCGefzl2EsWz"
      },
      "source": [
        "train_df = train_df.sample(frac=1)\n",
        "test_df = test_df.sample(frac=1)\n",
        "valid_df = valid_df.sample(frac=1)"
      ],
      "id": "VCGefzl2EsWz",
      "execution_count": 47,
      "outputs": []
    },
    {
      "cell_type": "code",
      "metadata": {
        "id": "IE-Wvb62FC8S",
        "outputId": "0a3c2287-fe02-4d17-de84-e063df49ff43",
        "colab": {
          "base_uri": "https://localhost:8080/",
          "height": 330
        }
      },
      "source": [
        "train_df.head()"
      ],
      "id": "IE-Wvb62FC8S",
      "execution_count": 48,
      "outputs": [
        {
          "output_type": "execute_result",
          "data": {
            "text/html": [
              "<div>\n",
              "<style scoped>\n",
              "    .dataframe tbody tr th:only-of-type {\n",
              "        vertical-align: middle;\n",
              "    }\n",
              "\n",
              "    .dataframe tbody tr th {\n",
              "        vertical-align: top;\n",
              "    }\n",
              "\n",
              "    .dataframe thead th {\n",
              "        text-align: right;\n",
              "    }\n",
              "</style>\n",
              "<table border=\"1\" class=\"dataframe\">\n",
              "  <thead>\n",
              "    <tr style=\"text-align: right;\">\n",
              "      <th></th>\n",
              "      <th>result.penaltySeverity</th>\n",
              "      <th>result.penaltyMinutes</th>\n",
              "      <th>gamePk</th>\n",
              "      <th>team.name</th>\n",
              "      <th>gamePeriod</th>\n",
              "      <th>coordinatesX</th>\n",
              "      <th>coordinatesY</th>\n",
              "      <th>shotType</th>\n",
              "      <th>emptyNet</th>\n",
              "      <th>result.strength.name</th>\n",
              "      <th>gameSeconds</th>\n",
              "      <th>shotDistance</th>\n",
              "      <th>shotAngle</th>\n",
              "      <th>isGoal</th>\n",
              "      <th>lastEventType</th>\n",
              "      <th>lastEventCoordinatesX</th>\n",
              "      <th>lastEventCoordinatesY</th>\n",
              "      <th>timeFromLastEvent</th>\n",
              "      <th>distanceFromLastEvent</th>\n",
              "      <th>rebound</th>\n",
              "      <th>speed</th>\n",
              "      <th>changeInShotAngle</th>\n",
              "    </tr>\n",
              "  </thead>\n",
              "  <tbody>\n",
              "    <tr>\n",
              "      <th>167247</th>\n",
              "      <td>NaN</td>\n",
              "      <td>NaN</td>\n",
              "      <td>2017020117</td>\n",
              "      <td>Columbus Blue Jackets</td>\n",
              "      <td>2</td>\n",
              "      <td>-48.0</td>\n",
              "      <td>-25.0</td>\n",
              "      <td>Snap Shot</td>\n",
              "      <td>0</td>\n",
              "      <td>NaN</td>\n",
              "      <td>826.0</td>\n",
              "      <td>48.020829</td>\n",
              "      <td>-31.373005</td>\n",
              "      <td>0</td>\n",
              "      <td>Blocked Shot</td>\n",
              "      <td>63.0</td>\n",
              "      <td>14.0</td>\n",
              "      <td>21.0</td>\n",
              "      <td>117.652029</td>\n",
              "      <td>False</td>\n",
              "      <td>5.602478</td>\n",
              "      <td>0.00000</td>\n",
              "    </tr>\n",
              "    <tr>\n",
              "      <th>186488</th>\n",
              "      <td>NaN</td>\n",
              "      <td>NaN</td>\n",
              "      <td>2017020418</td>\n",
              "      <td>Montréal Canadiens</td>\n",
              "      <td>2</td>\n",
              "      <td>75.0</td>\n",
              "      <td>-27.0</td>\n",
              "      <td>Wrist Shot</td>\n",
              "      <td>0</td>\n",
              "      <td>NaN</td>\n",
              "      <td>49.0</td>\n",
              "      <td>30.413813</td>\n",
              "      <td>62.592425</td>\n",
              "      <td>0</td>\n",
              "      <td>Hit</td>\n",
              "      <td>77.0</td>\n",
              "      <td>39.0</td>\n",
              "      <td>11.0</td>\n",
              "      <td>66.030296</td>\n",
              "      <td>False</td>\n",
              "      <td>6.002754</td>\n",
              "      <td>0.00000</td>\n",
              "    </tr>\n",
              "    <tr>\n",
              "      <th>151919</th>\n",
              "      <td>NaN</td>\n",
              "      <td>NaN</td>\n",
              "      <td>2016021192</td>\n",
              "      <td>Buffalo Sabres</td>\n",
              "      <td>1</td>\n",
              "      <td>42.0</td>\n",
              "      <td>-9.0</td>\n",
              "      <td>Wrist Shot</td>\n",
              "      <td>0</td>\n",
              "      <td>NaN</td>\n",
              "      <td>784.0</td>\n",
              "      <td>47.853944</td>\n",
              "      <td>10.840305</td>\n",
              "      <td>0</td>\n",
              "      <td>Shot</td>\n",
              "      <td>58.0</td>\n",
              "      <td>-18.0</td>\n",
              "      <td>6.0</td>\n",
              "      <td>18.357560</td>\n",
              "      <td>True</td>\n",
              "      <td>3.059593</td>\n",
              "      <td>19.30108</td>\n",
              "    </tr>\n",
              "    <tr>\n",
              "      <th>242899</th>\n",
              "      <td>NaN</td>\n",
              "      <td>NaN</td>\n",
              "      <td>2017030143</td>\n",
              "      <td>Philadelphia Flyers</td>\n",
              "      <td>3</td>\n",
              "      <td>19.0</td>\n",
              "      <td>-33.0</td>\n",
              "      <td>Wrist Shot</td>\n",
              "      <td>0</td>\n",
              "      <td>NaN</td>\n",
              "      <td>669.0</td>\n",
              "      <td>112.929181</td>\n",
              "      <td>-16.990823</td>\n",
              "      <td>0</td>\n",
              "      <td>Faceoff</td>\n",
              "      <td>-20.0</td>\n",
              "      <td>22.0</td>\n",
              "      <td>7.0</td>\n",
              "      <td>67.424031</td>\n",
              "      <td>False</td>\n",
              "      <td>9.632004</td>\n",
              "      <td>0.00000</td>\n",
              "    </tr>\n",
              "    <tr>\n",
              "      <th>97360</th>\n",
              "      <td>NaN</td>\n",
              "      <td>NaN</td>\n",
              "      <td>2016020300</td>\n",
              "      <td>Carolina Hurricanes</td>\n",
              "      <td>1</td>\n",
              "      <td>32.0</td>\n",
              "      <td>-33.0</td>\n",
              "      <td>Wrist Shot</td>\n",
              "      <td>0</td>\n",
              "      <td>NaN</td>\n",
              "      <td>684.0</td>\n",
              "      <td>65.863495</td>\n",
              "      <td>30.068583</td>\n",
              "      <td>0</td>\n",
              "      <td>Hit</td>\n",
              "      <td>73.0</td>\n",
              "      <td>-39.0</td>\n",
              "      <td>5.0</td>\n",
              "      <td>41.436699</td>\n",
              "      <td>False</td>\n",
              "      <td>8.287340</td>\n",
              "      <td>0.00000</td>\n",
              "    </tr>\n",
              "  </tbody>\n",
              "</table>\n",
              "</div>"
            ],
            "text/plain": [
              "        result.penaltySeverity  ...  changeInShotAngle\n",
              "167247                     NaN  ...            0.00000\n",
              "186488                     NaN  ...            0.00000\n",
              "151919                     NaN  ...           19.30108\n",
              "242899                     NaN  ...            0.00000\n",
              "97360                      NaN  ...            0.00000\n",
              "\n",
              "[5 rows x 22 columns]"
            ]
          },
          "metadata": {},
          "execution_count": 48
        }
      ]
    },
    {
      "cell_type": "code",
      "metadata": {
        "id": "72IkWlL6JCtE"
      },
      "source": [
        "features = ['gameSeconds','timeFromLastEvent','gamePeriod','shotType', 'shotAngle', 'shotDistance','distanceFromLastEvent', 'rebound','speed','changeInShotAngle']\n",
        "label = ['isGoal']"
      ],
      "id": "72IkWlL6JCtE",
      "execution_count": 49,
      "outputs": []
    },
    {
      "cell_type": "code",
      "metadata": {
        "colab": {
          "base_uri": "https://localhost:8080/"
        },
        "id": "sbtgiVdKQ6tq",
        "outputId": "b00b4b38-825a-413e-bb17-c6c09aa79c4f"
      },
      "source": [
        "train_df[features].isna().any()\n",
        "valid_df[features].isna().any()\n",
        "valid_df[features].isna().any()"
      ],
      "id": "sbtgiVdKQ6tq",
      "execution_count": 50,
      "outputs": [
        {
          "output_type": "execute_result",
          "data": {
            "text/plain": [
              "gameSeconds              False\n",
              "timeFromLastEvent        False\n",
              "gamePeriod               False\n",
              "shotType                 False\n",
              "shotAngle                False\n",
              "shotDistance             False\n",
              "distanceFromLastEvent    False\n",
              "rebound                  False\n",
              "speed                    False\n",
              "changeInShotAngle        False\n",
              "dtype: bool"
            ]
          },
          "metadata": {},
          "execution_count": 50
        }
      ]
    },
    {
      "cell_type": "markdown",
      "metadata": {
        "id": "LiB5e5M8YFRA"
      },
      "source": [
        "### Replace inf with nan (annoying in normalization)"
      ],
      "id": "LiB5e5M8YFRA"
    },
    {
      "cell_type": "code",
      "metadata": {
        "id": "pRj2nIZCXXLA"
      },
      "source": [
        "train_df.replace([np.inf, -np.inf], np.nan, inplace=True)\n",
        "valid_df.replace([np.inf, -np.inf], np.nan, inplace=True)\n",
        "test_df.replace([np.inf, -np.inf], np.nan, inplace=True)"
      ],
      "id": "pRj2nIZCXXLA",
      "execution_count": 51,
      "outputs": []
    },
    {
      "cell_type": "code",
      "metadata": {
        "id": "kMoH4JD-OP8Z"
      },
      "source": [
        "#drop rows with nan\n",
        "train_df = train_df[train_df['shotType'].notna()]\n",
        "valid_df = train_df[train_df['shotType'].notna()]\n",
        "test_df = train_df[train_df['shotType'].notna()]\n",
        "\n",
        "train_df = train_df[train_df['shotAngle'].notna()]\n",
        "valid_df = train_df[train_df['shotAngle'].notna()]\n",
        "test_df = train_df[train_df['shotAngle'].notna()]\n",
        "\n",
        "train_df = train_df[train_df['shotDistance'].notna()]\n",
        "valid_df = train_df[train_df['shotDistance'].notna()]\n",
        "test_df = train_df[train_df['shotDistance'].notna()]\n",
        "\n",
        "train_df = train_df[train_df['speed'].notna()]\n",
        "valid_df = train_df[train_df['speed'].notna()]\n",
        "test_df = train_df[train_df['speed'].notna()]\n",
        "\n",
        "train_df = train_df[train_df['changeInShotAngle'].notna()]\n",
        "valid_df = train_df[train_df['changeInShotAngle'].notna()]\n",
        "test_df = train_df[train_df['changeInShotAngle'].notna()]"
      ],
      "id": "kMoH4JD-OP8Z",
      "execution_count": 52,
      "outputs": []
    },
    {
      "cell_type": "code",
      "metadata": {
        "colab": {
          "base_uri": "https://localhost:8080/"
        },
        "id": "VB2rx98tRfcM",
        "outputId": "31ba7a4a-5eab-4c47-8835-3ae24b5d8d52"
      },
      "source": [
        "train_df[features].isna().any()\n",
        "valid_df[features].isna().any()\n",
        "valid_df[features].isna().any()"
      ],
      "id": "VB2rx98tRfcM",
      "execution_count": 53,
      "outputs": [
        {
          "output_type": "execute_result",
          "data": {
            "text/plain": [
              "gameSeconds              False\n",
              "timeFromLastEvent        False\n",
              "gamePeriod               False\n",
              "shotType                 False\n",
              "shotAngle                False\n",
              "shotDistance             False\n",
              "distanceFromLastEvent    False\n",
              "rebound                  False\n",
              "speed                    False\n",
              "changeInShotAngle        False\n",
              "dtype: bool"
            ]
          },
          "metadata": {},
          "execution_count": 53
        }
      ]
    },
    {
      "cell_type": "code",
      "metadata": {
        "id": "GD8YNmGS_9x_",
        "colab": {
          "base_uri": "https://localhost:8080/"
        },
        "outputId": "0fa3c0b1-5f7c-4db7-e4b2-8ba53c00b600"
      },
      "source": [
        "X_train = train_df[features]\n",
        "y_train = train_df[label]\n",
        "\n",
        "X_valid = valid_df[features]\n",
        "y_valid = valid_df[label]\n",
        "\n",
        "X_test = test_df[features]\n",
        "y_test = test_df[label]\n",
        "\n",
        "X_train, y_train, X_valid, y_valid"
      ],
      "id": "GD8YNmGS_9x_",
      "execution_count": 54,
      "outputs": [
        {
          "output_type": "execute_result",
          "data": {
            "text/plain": [
              "(        gameSeconds  timeFromLastEvent  ...     speed changeInShotAngle\n",
              " 167247        826.0               21.0  ...  5.602478          0.000000\n",
              " 186488         49.0               11.0  ...  6.002754          0.000000\n",
              " 151919        784.0                6.0  ...  3.059593         19.301080\n",
              " 242899        669.0                7.0  ...  9.632004          0.000000\n",
              " 97360         684.0                5.0  ...  8.287340          0.000000\n",
              " ...             ...                ...  ...       ...               ...\n",
              " 86546          98.0                7.0  ...  5.613395         13.337549\n",
              " 35319         662.0                5.0  ...  1.216553          0.000000\n",
              " 233126         59.0               13.0  ...  2.530290         91.494334\n",
              " 137829        931.0                9.0  ...  6.996472          0.000000\n",
              " 102797        270.0               23.0  ...  1.499212          0.000000\n",
              " \n",
              " [238046 rows x 10 columns],         isGoal\n",
              " 167247       0\n",
              " 186488       0\n",
              " 151919       0\n",
              " 242899       0\n",
              " 97360        0\n",
              " ...        ...\n",
              " 86546        0\n",
              " 35319        0\n",
              " 233126       0\n",
              " 137829       0\n",
              " 102797       0\n",
              " \n",
              " [238046 rows x 1 columns],         gameSeconds  timeFromLastEvent  ...     speed changeInShotAngle\n",
              " 167247        826.0               21.0  ...  5.602478          0.000000\n",
              " 186488         49.0               11.0  ...  6.002754          0.000000\n",
              " 151919        784.0                6.0  ...  3.059593         19.301080\n",
              " 242899        669.0                7.0  ...  9.632004          0.000000\n",
              " 97360         684.0                5.0  ...  8.287340          0.000000\n",
              " ...             ...                ...  ...       ...               ...\n",
              " 86546          98.0                7.0  ...  5.613395         13.337549\n",
              " 35319         662.0                5.0  ...  1.216553          0.000000\n",
              " 233126         59.0               13.0  ...  2.530290         91.494334\n",
              " 137829        931.0                9.0  ...  6.996472          0.000000\n",
              " 102797        270.0               23.0  ...  1.499212          0.000000\n",
              " \n",
              " [238046 rows x 10 columns],         isGoal\n",
              " 167247       0\n",
              " 186488       0\n",
              " 151919       0\n",
              " 242899       0\n",
              " 97360        0\n",
              " ...        ...\n",
              " 86546        0\n",
              " 35319        0\n",
              " 233126       0\n",
              " 137829       0\n",
              " 102797       0\n",
              " \n",
              " [238046 rows x 1 columns])"
            ]
          },
          "metadata": {},
          "execution_count": 54
        }
      ]
    },
    {
      "cell_type": "markdown",
      "metadata": {
        "id": "IPckRPfMBNmS"
      },
      "source": [
        "### One Hot encode the shot type (I want to refer on the fact that the shot type affect the goal)"
      ],
      "id": "IPckRPfMBNmS"
    },
    {
      "cell_type": "code",
      "metadata": {
        "id": "d_7mjg3Gi5E5"
      },
      "source": [
        "def one_hot(self, y):\n",
        "        \"\"\"Return a one hot encoded array of the labels\n",
        "        \"\"\"\n",
        "        return np.eye(len(self.classes))[np.vectorize(lambda c: self.class_labels[c])(y).reshape(-1)]\n"
      ],
      "id": "d_7mjg3Gi5E5",
      "execution_count": 55,
      "outputs": []
    },
    {
      "cell_type": "code",
      "metadata": {
        "id": "UbKEX4EwBJaR"
      },
      "source": [
        "dum_train = pd.get_dummies(X_train['shotType'], prefix='Shot',dtype=int)\n",
        "dum_valid = pd.get_dummies(X_valid['shotType'], prefix='Shot',dtype=int)\n",
        "dum_test = pd.get_dummies(X_test['shotType'], prefix='Shot',dtype=int)"
      ],
      "id": "UbKEX4EwBJaR",
      "execution_count": 56,
      "outputs": []
    },
    {
      "cell_type": "code",
      "metadata": {
        "id": "wjqJnqntR4oS"
      },
      "source": [
        "X_train = pd.concat([X_train, dum_train], axis=1)\n",
        "X_valid = pd.concat([X_valid, dum_valid], axis=1)\n",
        "X_test = pd.concat([X_test, dum_test], axis=1)"
      ],
      "id": "wjqJnqntR4oS",
      "execution_count": 57,
      "outputs": []
    },
    {
      "cell_type": "code",
      "metadata": {
        "colab": {
          "base_uri": "https://localhost:8080/"
        },
        "id": "ZkzKhocsTR-z",
        "outputId": "628cd4c1-313a-44f7-f5d3-f5d10856998a"
      },
      "source": [
        "#check if no nans\n",
        "X_train.isna().any(), X_valid.isna().any(), X_test.isna().any()"
      ],
      "id": "ZkzKhocsTR-z",
      "execution_count": 58,
      "outputs": [
        {
          "output_type": "execute_result",
          "data": {
            "text/plain": [
              "(gameSeconds              False\n",
              " timeFromLastEvent        False\n",
              " gamePeriod               False\n",
              " shotType                 False\n",
              " shotAngle                False\n",
              " shotDistance             False\n",
              " distanceFromLastEvent    False\n",
              " rebound                  False\n",
              " speed                    False\n",
              " changeInShotAngle        False\n",
              " Shot_Backhand            False\n",
              " Shot_Deflected           False\n",
              " Shot_Slap Shot           False\n",
              " Shot_Snap Shot           False\n",
              " Shot_Tip-In              False\n",
              " Shot_Wrap-around         False\n",
              " Shot_Wrist Shot          False\n",
              " dtype: bool, gameSeconds              False\n",
              " timeFromLastEvent        False\n",
              " gamePeriod               False\n",
              " shotType                 False\n",
              " shotAngle                False\n",
              " shotDistance             False\n",
              " distanceFromLastEvent    False\n",
              " rebound                  False\n",
              " speed                    False\n",
              " changeInShotAngle        False\n",
              " Shot_Backhand            False\n",
              " Shot_Deflected           False\n",
              " Shot_Slap Shot           False\n",
              " Shot_Snap Shot           False\n",
              " Shot_Tip-In              False\n",
              " Shot_Wrap-around         False\n",
              " Shot_Wrist Shot          False\n",
              " dtype: bool, gameSeconds              False\n",
              " timeFromLastEvent        False\n",
              " gamePeriod               False\n",
              " shotType                 False\n",
              " shotAngle                False\n",
              " shotDistance             False\n",
              " distanceFromLastEvent    False\n",
              " rebound                  False\n",
              " speed                    False\n",
              " changeInShotAngle        False\n",
              " Shot_Backhand            False\n",
              " Shot_Deflected           False\n",
              " Shot_Slap Shot           False\n",
              " Shot_Snap Shot           False\n",
              " Shot_Tip-In              False\n",
              " Shot_Wrap-around         False\n",
              " Shot_Wrist Shot          False\n",
              " dtype: bool)"
            ]
          },
          "metadata": {},
          "execution_count": 58
        }
      ]
    },
    {
      "cell_type": "code",
      "metadata": {
        "id": "xEOoJtHCT1OK"
      },
      "source": [
        "X_train = X_train.drop(columns='shotType')\n",
        "X_valid = X_valid.drop(columns='shotType')\n",
        "X_test = X_test.drop(columns='shotType')"
      ],
      "id": "xEOoJtHCT1OK",
      "execution_count": 59,
      "outputs": []
    },
    {
      "cell_type": "markdown",
      "metadata": {
        "id": "qkMP6uMUHZjK"
      },
      "source": [
        "# Change rebound feature"
      ],
      "id": "qkMP6uMUHZjK"
    },
    {
      "cell_type": "code",
      "metadata": {
        "id": "qrbQkwBdDSBn"
      },
      "source": [
        "X_train['rebound'] = X_train['rebound'].astype(int)\n",
        "X_valid['rebound'] = X_valid['rebound'].astype(int)\n",
        "X_test['rebound'] = X_test['rebound'].astype(int)"
      ],
      "id": "qrbQkwBdDSBn",
      "execution_count": 60,
      "outputs": []
    },
    {
      "cell_type": "code",
      "metadata": {
        "id": "Br-EHuqUEk65",
        "colab": {
          "base_uri": "https://localhost:8080/",
          "height": 243
        },
        "outputId": "09a7f5b1-d18d-43e0-9e72-b671e2d0bf1d"
      },
      "source": [
        "X_test.head()"
      ],
      "id": "Br-EHuqUEk65",
      "execution_count": 61,
      "outputs": [
        {
          "output_type": "execute_result",
          "data": {
            "text/html": [
              "<div>\n",
              "<style scoped>\n",
              "    .dataframe tbody tr th:only-of-type {\n",
              "        vertical-align: middle;\n",
              "    }\n",
              "\n",
              "    .dataframe tbody tr th {\n",
              "        vertical-align: top;\n",
              "    }\n",
              "\n",
              "    .dataframe thead th {\n",
              "        text-align: right;\n",
              "    }\n",
              "</style>\n",
              "<table border=\"1\" class=\"dataframe\">\n",
              "  <thead>\n",
              "    <tr style=\"text-align: right;\">\n",
              "      <th></th>\n",
              "      <th>gameSeconds</th>\n",
              "      <th>timeFromLastEvent</th>\n",
              "      <th>gamePeriod</th>\n",
              "      <th>shotAngle</th>\n",
              "      <th>shotDistance</th>\n",
              "      <th>distanceFromLastEvent</th>\n",
              "      <th>rebound</th>\n",
              "      <th>speed</th>\n",
              "      <th>changeInShotAngle</th>\n",
              "      <th>Shot_Backhand</th>\n",
              "      <th>Shot_Deflected</th>\n",
              "      <th>Shot_Slap Shot</th>\n",
              "      <th>Shot_Snap Shot</th>\n",
              "      <th>Shot_Tip-In</th>\n",
              "      <th>Shot_Wrap-around</th>\n",
              "      <th>Shot_Wrist Shot</th>\n",
              "    </tr>\n",
              "  </thead>\n",
              "  <tbody>\n",
              "    <tr>\n",
              "      <th>167247</th>\n",
              "      <td>826.0</td>\n",
              "      <td>21.0</td>\n",
              "      <td>2</td>\n",
              "      <td>-31.373005</td>\n",
              "      <td>48.020829</td>\n",
              "      <td>117.652029</td>\n",
              "      <td>0</td>\n",
              "      <td>5.602478</td>\n",
              "      <td>0.00000</td>\n",
              "      <td>0</td>\n",
              "      <td>0</td>\n",
              "      <td>0</td>\n",
              "      <td>1</td>\n",
              "      <td>0</td>\n",
              "      <td>0</td>\n",
              "      <td>0</td>\n",
              "    </tr>\n",
              "    <tr>\n",
              "      <th>186488</th>\n",
              "      <td>49.0</td>\n",
              "      <td>11.0</td>\n",
              "      <td>2</td>\n",
              "      <td>62.592425</td>\n",
              "      <td>30.413813</td>\n",
              "      <td>66.030296</td>\n",
              "      <td>0</td>\n",
              "      <td>6.002754</td>\n",
              "      <td>0.00000</td>\n",
              "      <td>0</td>\n",
              "      <td>0</td>\n",
              "      <td>0</td>\n",
              "      <td>0</td>\n",
              "      <td>0</td>\n",
              "      <td>0</td>\n",
              "      <td>1</td>\n",
              "    </tr>\n",
              "    <tr>\n",
              "      <th>151919</th>\n",
              "      <td>784.0</td>\n",
              "      <td>6.0</td>\n",
              "      <td>1</td>\n",
              "      <td>10.840305</td>\n",
              "      <td>47.853944</td>\n",
              "      <td>18.357560</td>\n",
              "      <td>1</td>\n",
              "      <td>3.059593</td>\n",
              "      <td>19.30108</td>\n",
              "      <td>0</td>\n",
              "      <td>0</td>\n",
              "      <td>0</td>\n",
              "      <td>0</td>\n",
              "      <td>0</td>\n",
              "      <td>0</td>\n",
              "      <td>1</td>\n",
              "    </tr>\n",
              "    <tr>\n",
              "      <th>242899</th>\n",
              "      <td>669.0</td>\n",
              "      <td>7.0</td>\n",
              "      <td>3</td>\n",
              "      <td>-16.990823</td>\n",
              "      <td>112.929181</td>\n",
              "      <td>67.424031</td>\n",
              "      <td>0</td>\n",
              "      <td>9.632004</td>\n",
              "      <td>0.00000</td>\n",
              "      <td>0</td>\n",
              "      <td>0</td>\n",
              "      <td>0</td>\n",
              "      <td>0</td>\n",
              "      <td>0</td>\n",
              "      <td>0</td>\n",
              "      <td>1</td>\n",
              "    </tr>\n",
              "    <tr>\n",
              "      <th>97360</th>\n",
              "      <td>684.0</td>\n",
              "      <td>5.0</td>\n",
              "      <td>1</td>\n",
              "      <td>30.068583</td>\n",
              "      <td>65.863495</td>\n",
              "      <td>41.436699</td>\n",
              "      <td>0</td>\n",
              "      <td>8.287340</td>\n",
              "      <td>0.00000</td>\n",
              "      <td>0</td>\n",
              "      <td>0</td>\n",
              "      <td>0</td>\n",
              "      <td>0</td>\n",
              "      <td>0</td>\n",
              "      <td>0</td>\n",
              "      <td>1</td>\n",
              "    </tr>\n",
              "  </tbody>\n",
              "</table>\n",
              "</div>"
            ],
            "text/plain": [
              "        gameSeconds  timeFromLastEvent  ...  Shot_Wrap-around  Shot_Wrist Shot\n",
              "167247        826.0               21.0  ...                 0                0\n",
              "186488         49.0               11.0  ...                 0                1\n",
              "151919        784.0                6.0  ...                 0                1\n",
              "242899        669.0                7.0  ...                 0                1\n",
              "97360         684.0                5.0  ...                 0                1\n",
              "\n",
              "[5 rows x 16 columns]"
            ]
          },
          "metadata": {},
          "execution_count": 61
        }
      ]
    },
    {
      "cell_type": "markdown",
      "metadata": {
        "id": "p1fedCBRVXRa"
      },
      "source": [
        "# Normalize numerical data "
      ],
      "id": "p1fedCBRVXRa"
    },
    {
      "cell_type": "code",
      "metadata": {
        "id": "eG5RixUBVbxJ"
      },
      "source": [
        "num = ['gameSeconds','timeFromLastEvent','gamePeriod', 'shotAngle', 'shotDistance','distanceFromLastEvent','speed','changeInShotAngle']"
      ],
      "id": "eG5RixUBVbxJ",
      "execution_count": 62,
      "outputs": []
    },
    {
      "cell_type": "code",
      "metadata": {
        "id": "lVyUXeSCWRTE"
      },
      "source": [
        "from sklearn.preprocessing import StandardScaler\n",
        "\n",
        "scaler = StandardScaler()\n",
        "scaler.fit(X_train[num])\n",
        "\n",
        "X_train[num] = scaler.transform(X_train[num])\n",
        "X_valid[num] = scaler.transform(X_valid[num])\n",
        "X_test[num] = scaler.transform(X_test[num])"
      ],
      "id": "lVyUXeSCWRTE",
      "execution_count": 63,
      "outputs": []
    },
    {
      "cell_type": "code",
      "metadata": {
        "colab": {
          "base_uri": "https://localhost:8080/",
          "height": 461
        },
        "id": "9t_C_0JVYcqu",
        "outputId": "bd6c7eb1-efa8-4524-a6f0-fcdfda42d544"
      },
      "source": [
        "X_test"
      ],
      "id": "9t_C_0JVYcqu",
      "execution_count": 64,
      "outputs": [
        {
          "output_type": "execute_result",
          "data": {
            "text/html": [
              "<div>\n",
              "<style scoped>\n",
              "    .dataframe tbody tr th:only-of-type {\n",
              "        vertical-align: middle;\n",
              "    }\n",
              "\n",
              "    .dataframe tbody tr th {\n",
              "        vertical-align: top;\n",
              "    }\n",
              "\n",
              "    .dataframe thead th {\n",
              "        text-align: right;\n",
              "    }\n",
              "</style>\n",
              "<table border=\"1\" class=\"dataframe\">\n",
              "  <thead>\n",
              "    <tr style=\"text-align: right;\">\n",
              "      <th></th>\n",
              "      <th>gameSeconds</th>\n",
              "      <th>timeFromLastEvent</th>\n",
              "      <th>gamePeriod</th>\n",
              "      <th>shotAngle</th>\n",
              "      <th>shotDistance</th>\n",
              "      <th>distanceFromLastEvent</th>\n",
              "      <th>rebound</th>\n",
              "      <th>speed</th>\n",
              "      <th>changeInShotAngle</th>\n",
              "      <th>Shot_Backhand</th>\n",
              "      <th>Shot_Deflected</th>\n",
              "      <th>Shot_Slap Shot</th>\n",
              "      <th>Shot_Snap Shot</th>\n",
              "      <th>Shot_Tip-In</th>\n",
              "      <th>Shot_Wrap-around</th>\n",
              "      <th>Shot_Wrist Shot</th>\n",
              "    </tr>\n",
              "  </thead>\n",
              "  <tbody>\n",
              "    <tr>\n",
              "      <th>167247</th>\n",
              "      <td>0.665419</td>\n",
              "      <td>0.369064</td>\n",
              "      <td>-0.037123</td>\n",
              "      <td>-0.884090</td>\n",
              "      <td>0.250906</td>\n",
              "      <td>1.205234</td>\n",
              "      <td>0</td>\n",
              "      <td>-0.236933</td>\n",
              "      <td>-0.363797</td>\n",
              "      <td>0</td>\n",
              "      <td>0</td>\n",
              "      <td>0</td>\n",
              "      <td>1</td>\n",
              "      <td>0</td>\n",
              "      <td>0</td>\n",
              "      <td>0</td>\n",
              "    </tr>\n",
              "    <tr>\n",
              "      <th>186488</th>\n",
              "      <td>-1.566108</td>\n",
              "      <td>-0.307472</td>\n",
              "      <td>-0.037123</td>\n",
              "      <td>1.691732</td>\n",
              "      <td>-0.302719</td>\n",
              "      <td>0.086404</td>\n",
              "      <td>0</td>\n",
              "      <td>-0.197229</td>\n",
              "      <td>-0.363797</td>\n",
              "      <td>0</td>\n",
              "      <td>0</td>\n",
              "      <td>0</td>\n",
              "      <td>0</td>\n",
              "      <td>0</td>\n",
              "      <td>0</td>\n",
              "      <td>1</td>\n",
              "    </tr>\n",
              "    <tr>\n",
              "      <th>151919</th>\n",
              "      <td>0.544796</td>\n",
              "      <td>-0.645739</td>\n",
              "      <td>-1.220910</td>\n",
              "      <td>0.273080</td>\n",
              "      <td>0.245659</td>\n",
              "      <td>-0.946836</td>\n",
              "      <td>1</td>\n",
              "      <td>-0.489168</td>\n",
              "      <td>0.573522</td>\n",
              "      <td>0</td>\n",
              "      <td>0</td>\n",
              "      <td>0</td>\n",
              "      <td>0</td>\n",
              "      <td>0</td>\n",
              "      <td>0</td>\n",
              "      <td>1</td>\n",
              "    </tr>\n",
              "    <tr>\n",
              "      <th>242899</th>\n",
              "      <td>0.214519</td>\n",
              "      <td>-0.578086</td>\n",
              "      <td>1.146664</td>\n",
              "      <td>-0.489839</td>\n",
              "      <td>2.291846</td>\n",
              "      <td>0.116612</td>\n",
              "      <td>0</td>\n",
              "      <td>0.162766</td>\n",
              "      <td>-0.363797</td>\n",
              "      <td>0</td>\n",
              "      <td>0</td>\n",
              "      <td>0</td>\n",
              "      <td>0</td>\n",
              "      <td>0</td>\n",
              "      <td>0</td>\n",
              "      <td>1</td>\n",
              "    </tr>\n",
              "    <tr>\n",
              "      <th>97360</th>\n",
              "      <td>0.257598</td>\n",
              "      <td>-0.713393</td>\n",
              "      <td>-1.220910</td>\n",
              "      <td>0.800174</td>\n",
              "      <td>0.811940</td>\n",
              "      <td>-0.446628</td>\n",
              "      <td>0</td>\n",
              "      <td>0.029386</td>\n",
              "      <td>-0.363797</td>\n",
              "      <td>0</td>\n",
              "      <td>0</td>\n",
              "      <td>0</td>\n",
              "      <td>0</td>\n",
              "      <td>0</td>\n",
              "      <td>0</td>\n",
              "      <td>1</td>\n",
              "    </tr>\n",
              "    <tr>\n",
              "      <th>...</th>\n",
              "      <td>...</td>\n",
              "      <td>...</td>\n",
              "      <td>...</td>\n",
              "      <td>...</td>\n",
              "      <td>...</td>\n",
              "      <td>...</td>\n",
              "      <td>...</td>\n",
              "      <td>...</td>\n",
              "      <td>...</td>\n",
              "      <td>...</td>\n",
              "      <td>...</td>\n",
              "      <td>...</td>\n",
              "      <td>...</td>\n",
              "      <td>...</td>\n",
              "      <td>...</td>\n",
              "      <td>...</td>\n",
              "    </tr>\n",
              "    <tr>\n",
              "      <th>86546</th>\n",
              "      <td>-1.425381</td>\n",
              "      <td>-0.578086</td>\n",
              "      <td>-0.037123</td>\n",
              "      <td>0.866035</td>\n",
              "      <td>-0.849061</td>\n",
              "      <td>-0.493073</td>\n",
              "      <td>1</td>\n",
              "      <td>-0.235850</td>\n",
              "      <td>0.283915</td>\n",
              "      <td>1</td>\n",
              "      <td>0</td>\n",
              "      <td>0</td>\n",
              "      <td>0</td>\n",
              "      <td>0</td>\n",
              "      <td>0</td>\n",
              "      <td>0</td>\n",
              "    </tr>\n",
              "    <tr>\n",
              "      <th>35319</th>\n",
              "      <td>0.194415</td>\n",
              "      <td>-0.713393</td>\n",
              "      <td>-0.037123</td>\n",
              "      <td>0.573551</td>\n",
              "      <td>-0.751049</td>\n",
              "      <td>-1.212875</td>\n",
              "      <td>0</td>\n",
              "      <td>-0.671985</td>\n",
              "      <td>-0.363797</td>\n",
              "      <td>0</td>\n",
              "      <td>0</td>\n",
              "      <td>0</td>\n",
              "      <td>0</td>\n",
              "      <td>0</td>\n",
              "      <td>0</td>\n",
              "      <td>1</td>\n",
              "    </tr>\n",
              "    <tr>\n",
              "      <th>233126</th>\n",
              "      <td>-1.537388</td>\n",
              "      <td>-0.172165</td>\n",
              "      <td>1.146664</td>\n",
              "      <td>0.899448</td>\n",
              "      <td>-1.032291</td>\n",
              "      <td>-0.631784</td>\n",
              "      <td>1</td>\n",
              "      <td>-0.541671</td>\n",
              "      <td>4.079445</td>\n",
              "      <td>0</td>\n",
              "      <td>0</td>\n",
              "      <td>0</td>\n",
              "      <td>0</td>\n",
              "      <td>1</td>\n",
              "      <td>0</td>\n",
              "      <td>0</td>\n",
              "    </tr>\n",
              "    <tr>\n",
              "      <th>137829</th>\n",
              "      <td>0.966977</td>\n",
              "      <td>-0.442779</td>\n",
              "      <td>-1.220910</td>\n",
              "      <td>0.297335</td>\n",
              "      <td>0.442983</td>\n",
              "      <td>0.020039</td>\n",
              "      <td>0</td>\n",
              "      <td>-0.098659</td>\n",
              "      <td>-0.363797</td>\n",
              "      <td>0</td>\n",
              "      <td>0</td>\n",
              "      <td>0</td>\n",
              "      <td>0</td>\n",
              "      <td>0</td>\n",
              "      <td>0</td>\n",
              "      <td>1</td>\n",
              "    </tr>\n",
              "    <tr>\n",
              "      <th>102797</th>\n",
              "      <td>-0.931401</td>\n",
              "      <td>0.504371</td>\n",
              "      <td>-1.220910</td>\n",
              "      <td>-2.491199</td>\n",
              "      <td>-1.133259</td>\n",
              "      <td>-0.597364</td>\n",
              "      <td>0</td>\n",
              "      <td>-0.643947</td>\n",
              "      <td>-0.363797</td>\n",
              "      <td>1</td>\n",
              "      <td>0</td>\n",
              "      <td>0</td>\n",
              "      <td>0</td>\n",
              "      <td>0</td>\n",
              "      <td>0</td>\n",
              "      <td>0</td>\n",
              "    </tr>\n",
              "  </tbody>\n",
              "</table>\n",
              "<p>238046 rows × 16 columns</p>\n",
              "</div>"
            ],
            "text/plain": [
              "        gameSeconds  timeFromLastEvent  ...  Shot_Wrap-around  Shot_Wrist Shot\n",
              "167247     0.665419           0.369064  ...                 0                0\n",
              "186488    -1.566108          -0.307472  ...                 0                1\n",
              "151919     0.544796          -0.645739  ...                 0                1\n",
              "242899     0.214519          -0.578086  ...                 0                1\n",
              "97360      0.257598          -0.713393  ...                 0                1\n",
              "...             ...                ...  ...               ...              ...\n",
              "86546     -1.425381          -0.578086  ...                 0                0\n",
              "35319      0.194415          -0.713393  ...                 0                1\n",
              "233126    -1.537388          -0.172165  ...                 0                0\n",
              "137829     0.966977          -0.442779  ...                 0                1\n",
              "102797    -0.931401           0.504371  ...                 0                0\n",
              "\n",
              "[238046 rows x 16 columns]"
            ]
          },
          "metadata": {},
          "execution_count": 64
        }
      ]
    },
    {
      "cell_type": "markdown",
      "metadata": {
        "id": "UQVVMq0iJmIs"
      },
      "source": [
        "# Try Random Forest"
      ],
      "id": "UQVVMq0iJmIs"
    },
    {
      "cell_type": "code",
      "metadata": {
        "id": "QMS2ZkPeI3do"
      },
      "source": [
        "from sklearn.ensemble import RandomForestClassifier\n",
        "from sklearn.experimental import enable_halving_search_cv\n",
        "from sklearn.model_selection import HalvingGridSearchCV\n",
        "\n",
        "# Create the parameter grid based on the results of random search \n",
        "param_grid = {\n",
        "    'n_estimators':[50,65,80,100,115,130,150],\n",
        "     'max_depth': [5,6,7,8,9,10,11,12,13,14]\n",
        "}\n",
        "\n",
        "rf = RandomForestClassifier(criterion='entropy')\n",
        "sh = HalvingGridSearchCV(rf,param_grid, cv=4)\n",
        "model = sh.fit(X_train,y_train)"
      ],
      "id": "QMS2ZkPeI3do",
      "execution_count": 65,
      "outputs": []
    },
    {
      "cell_type": "code",
      "metadata": {
        "colab": {
          "base_uri": "https://localhost:8080/"
        },
        "id": "iLSfbahVakWy",
        "outputId": "a49d9a62-7a19-4ba6-c94f-afc08752cd9c"
      },
      "source": [
        "model.best_estimator_"
      ],
      "id": "iLSfbahVakWy",
      "execution_count": 66,
      "outputs": [
        {
          "output_type": "execute_result",
          "data": {
            "text/plain": [
              "RandomForestClassifier(criterion='entropy', max_depth=14, n_estimators=65)"
            ]
          },
          "metadata": {},
          "execution_count": 66
        }
      ]
    },
    {
      "cell_type": "code",
      "metadata": {
        "id": "nuPU-E-uhptX"
      },
      "source": [
        "y_pred_valid  = model.predict(X_valid)"
      ],
      "id": "nuPU-E-uhptX",
      "execution_count": 67,
      "outputs": []
    },
    {
      "cell_type": "code",
      "metadata": {
        "id": "mPzwKTEhiIPa"
      },
      "source": [
        "y_proba_val = model.predict_proba(X_valid)[:,1] # get the proba of having a goal (pred=1)"
      ],
      "id": "mPzwKTEhiIPa",
      "execution_count": 68,
      "outputs": []
    },
    {
      "cell_type": "code",
      "metadata": {
        "id": "--dZClQLiM63",
        "colab": {
          "base_uri": "https://localhost:8080/"
        },
        "outputId": "b1263ef7-eed6-4a30-9551-51eaf16abe15"
      },
      "source": [
        "score_ = model.score(X_valid,y_valid)\n",
        "score_"
      ],
      "id": "--dZClQLiM63",
      "execution_count": 73,
      "outputs": [
        {
          "output_type": "execute_result",
          "data": {
            "text/plain": [
              "0.9135965317627686"
            ]
          },
          "metadata": {},
          "execution_count": 73
        }
      ]
    },
    {
      "cell_type": "markdown",
      "metadata": {
        "id": "sVw66t1QhYSZ"
      },
      "source": [
        "# Export model on comet before plotting"
      ],
      "id": "sVw66t1QhYSZ"
    },
    {
      "cell_type": "code",
      "metadata": {
        "id": "IN7rF_wui8LW"
      },
      "source": [
        "weights_dir = \"../ift6758/models/weights\"\n",
        "experiment = \"Random-forest-with-FE2\"\n",
        "predscore_val_dict={}"
      ],
      "id": "IN7rF_wui8LW",
      "execution_count": 70,
      "outputs": []
    },
    {
      "cell_type": "code",
      "metadata": {
        "id": "LDQS_iZvkPTH",
        "colab": {
          "base_uri": "https://localhost:8080/"
        },
        "outputId": "9abee784-3bf5-4cde-d931-ad12d2e9ec7b"
      },
      "source": [
        "!ls .."
      ],
      "id": "LDQS_iZvkPTH",
      "execution_count": null,
      "outputs": [
        {
          "output_type": "stream",
          "name": "stdout",
          "text": [
            "ift6758  ift6758-project-main\n"
          ]
        }
      ]
    },
    {
      "cell_type": "code",
      "metadata": {
        "id": "0VV3-XKcgDVq",
        "colab": {
          "base_uri": "https://localhost:8080/"
        },
        "outputId": "8640354e-6068-46bd-c9bf-449df73caeda"
      },
      "source": [
        "import joblib\n",
        "\n",
        "predscore_val_dict[experiment]={}\n",
        "predscore_val_dict[experiment]['true_valid_label']=y_valid\n",
        "predscore_val_dict[experiment]['proba']=y_proba_val\n",
        "predscore_val_dict[experiment]['prediction']=y_pred_valid\n",
        "\n",
        "## Dumping model\n",
        "filename=f\"{weights_dir}/{experiment}.pkl\"\n",
        "joblib.dump(model,filename)"
      ],
      "id": "0VV3-XKcgDVq",
      "execution_count": 71,
      "outputs": [
        {
          "output_type": "execute_result",
          "data": {
            "text/plain": [
              "['../ift6758/models/weights/Random-forest-with-FE2.pkl']"
            ]
          },
          "metadata": {},
          "execution_count": 71
        }
      ]
    },
    {
      "cell_type": "code",
      "metadata": {
        "id": "2jcopP6hg6ns",
        "colab": {
          "base_uri": "https://localhost:8080/"
        },
        "outputId": "f1a8e9a2-2787-431d-b7ad-4637da5594bf"
      },
      "source": [
        "exp.log_model(\"Random Forest\", \"../ift6758/models/weights/Random-forest-with-FE2.pkl\")"
      ],
      "id": "2jcopP6hg6ns",
      "execution_count": null,
      "outputs": [
        {
          "output_type": "execute_result",
          "data": {
            "text/plain": [
              "{'api': 'https://www.comet.ml/api/rest/v2/experiment/asset/get-asset?assetId=c67d522e79cd4e61a3ead5de12207be8&experimentKey=61ab29d2969f46b3b444cf6aef7b24e6',\n",
              " 'assetId': 'c67d522e79cd4e61a3ead5de12207be8',\n",
              " 'web': 'https://www.comet.ml/api/asset/download?assetId=c67d522e79cd4e61a3ead5de12207be8&experimentKey=61ab29d2969f46b3b444cf6aef7b24e6'}"
            ]
          },
          "metadata": {},
          "execution_count": 150
        }
      ]
    },
    {
      "cell_type": "code",
      "metadata": {
        "id": "bcLokxdtlZuu",
        "colab": {
          "base_uri": "https://localhost:8080/"
        },
        "outputId": "ac3cb1c8-359d-4819-add3-2b3eeefbf9e5"
      },
      "source": [
        "exp.end()"
      ],
      "id": "bcLokxdtlZuu",
      "execution_count": null,
      "outputs": [
        {
          "output_type": "stream",
          "name": "stderr",
          "text": [
            "COMET INFO: ---------------------------\n",
            "COMET INFO: Comet.ml Experiment Summary\n",
            "COMET INFO: ---------------------------\n",
            "COMET INFO:   Data:\n",
            "COMET INFO:     display_summary_level : 1\n",
            "COMET INFO:     url                   : https://www.comet.ml/morph-e/milestone-2/61ab29d2969f46b3b444cf6aef7b24e6\n",
            "COMET INFO:   Others:\n",
            "COMET INFO:     notebook_url : https://colab.research.google.com/notebook#fileId=https%3A%2F%2Fgithub.com%2FM0rph3e%2Fift6758-project-main%2Fblob%2Fbest_shot_trial%2Fnotebooks%2Ftry_your_best_shot.ipynb\n",
            "COMET INFO:   Uploads:\n",
            "COMET INFO:     environment details : 1\n",
            "COMET INFO:     filename            : 1\n",
            "COMET INFO:     git metadata        : 1\n",
            "COMET INFO:     installed packages  : 1\n",
            "COMET INFO:     model-element       : 1 (9.11 MB)\n",
            "COMET INFO:     notebook            : 1\n",
            "COMET INFO:     os packages         : 1\n",
            "COMET INFO:     source_code         : 1\n",
            "COMET INFO: ---------------------------\n",
            "COMET INFO: Uploading 1 metrics, params and output messages\n"
          ]
        }
      ]
    },
    {
      "cell_type": "markdown",
      "metadata": {
        "id": "QTmWpIfSCrou"
      },
      "source": [
        "# Plotting"
      ],
      "id": "QTmWpIfSCrou"
    },
    {
      "cell_type": "code",
      "metadata": {
        "id": "BKMlJxoel-qB",
        "outputId": "64e11cfb-7eba-4f71-ed41-f2b8f54fe8d1",
        "colab": {
          "base_uri": "https://localhost:8080/"
        }
      },
      "source": [
        "# First we will switch branch, the plotting metrics are on main\n",
        "!git checkout main"
      ],
      "id": "BKMlJxoel-qB",
      "execution_count": 38,
      "outputs": [
        {
          "output_type": "stream",
          "name": "stdout",
          "text": [
            "Switched to branch 'main'\n",
            "Your branch is up to date with 'origin/main'.\n"
          ]
        }
      ]
    },
    {
      "cell_type": "code",
      "metadata": {
        "id": "cbMBlsX2MTWy",
        "outputId": "cfe44516-ad67-42bc-e511-1a7bb142cac3",
        "colab": {
          "base_uri": "https://localhost:8080/"
        }
      },
      "source": [
        "!git branch"
      ],
      "id": "cbMBlsX2MTWy",
      "execution_count": 74,
      "outputs": [
        {
          "output_type": "stream",
          "name": "stdout",
          "text": [
            "  best_shot_trial\u001b[m\n",
            "  fengineering2\u001b[m\n",
            "* \u001b[32mmain\u001b[m\n"
          ]
        }
      ]
    },
    {
      "cell_type": "code",
      "metadata": {
        "id": "A8QwOHn-DFME",
        "outputId": "7531c515-1575-4dc8-b9dd-74d6f695af57",
        "colab": {
          "base_uri": "https://localhost:8080/"
        }
      },
      "source": [
        "!git pull"
      ],
      "id": "A8QwOHn-DFME",
      "execution_count": 75,
      "outputs": [
        {
          "output_type": "stream",
          "name": "stdout",
          "text": [
            "Already up to date.\n"
          ]
        }
      ]
    },
    {
      "cell_type": "code",
      "metadata": {
        "id": "R8HElJkGDHr0",
        "outputId": "8e2f263a-5940-4b54-b15e-fe043cce47c1",
        "colab": {
          "base_uri": "https://localhost:8080/",
          "height": 541
        }
      },
      "source": [
        "from ift6758.metrics import plot_metrics\n",
        "\n",
        "plot_metrics.plotConfusion(y_valid,y_pred_valid, title='Confusion matrix for Random Forest validation set prediction')"
      ],
      "id": "R8HElJkGDHr0",
      "execution_count": 77,
      "outputs": [
        {
          "output_type": "stream",
          "name": "stdout",
          "text": [
            "              precision    recall  f1-score   support\n",
            "\n",
            "           0       0.91      1.00      0.95    216808\n",
            "           1       1.00      0.03      0.06     21238\n",
            "\n",
            "    accuracy                           0.91    238046\n",
            "   macro avg       0.96      0.52      0.51    238046\n",
            "weighted avg       0.92      0.91      0.88    238046\n",
            "\n"
          ]
        },
        {
          "output_type": "display_data",
          "data": {
            "image/png": "[encoded data removed]",
            "text/plain": [
              "<Figure size 720x360 with 2 Axes>"
            ]
          },
          "metadata": {
            "needs_background": "light"
          }
        }
      ]
    },
    {
      "cell_type": "code",
      "metadata": {
        "id": "HHTlw5E8EFn-",
        "outputId": "ec61f760-87df-452d-a0d4-60c80226a1a1",
        "colab": {
          "base_uri": "https://localhost:8080/",
          "height": 286
        }
      },
      "source": [
        "plot_metrics.plot_roc(y_valid,score_)"
      ],
      "id": "HHTlw5E8EFn-",
      "execution_count": 79,
      "outputs": [
        {
          "output_type": "error",
          "ename": "AssertionError",
          "evalue": "ignored",
          "traceback": [
            "\u001b[0;31m---------------------------------------------------------------------------\u001b[0m",
            "\u001b[0;31mAssertionError\u001b[0m                            Traceback (most recent call last)",
            "\u001b[0;32m<ipython-input-79-6a039bb06e27>\u001b[0m in \u001b[0;36m<module>\u001b[0;34m()\u001b[0m\n\u001b[0;32m----> 1\u001b[0;31m \u001b[0mplot_metrics\u001b[0m\u001b[0;34m.\u001b[0m\u001b[0mplot_roc\u001b[0m\u001b[0;34m(\u001b[0m\u001b[0my_valid\u001b[0m\u001b[0;34m,\u001b[0m\u001b[0mscore_\u001b[0m\u001b[0;34m)\u001b[0m\u001b[0;34m\u001b[0m\u001b[0;34m\u001b[0m\u001b[0m\n\u001b[0m",
            "\u001b[0;32m/content/gdrive/My Drive/Master_UdeM/IFT-6758/Project/ift6758-project-main/ift6758/metrics/plot_metrics.py\u001b[0m in \u001b[0;36mplot_roc\u001b[0;34m(ytrues, yscores, plot_labels)\u001b[0m\n\u001b[1;32m     28\u001b[0m     \u001b[0;34m:\u001b[0m\u001b[0mparams\u001b[0m \u001b[0mytrues\u001b[0m\u001b[0;34m,\u001b[0m\u001b[0myscores\u001b[0m\u001b[0;34m,\u001b[0m\u001b[0mplot_labels\u001b[0m\u001b[0;34m:\u001b[0m \u001b[0mList\u001b[0m \u001b[0;32mfor\u001b[0m \u001b[0mVarious\u001b[0m \u001b[0mModels\u001b[0m\u001b[0;34m\u001b[0m\u001b[0;34m\u001b[0m\u001b[0m\n\u001b[1;32m     29\u001b[0m     \"\"\"\n\u001b[0;32m---> 30\u001b[0;31m     \u001b[0;32massert\u001b[0m \u001b[0mlen\u001b[0m\u001b[0;34m(\u001b[0m\u001b[0mytrues\u001b[0m\u001b[0;34m)\u001b[0m\u001b[0;34m==\u001b[0m\u001b[0mlen\u001b[0m\u001b[0;34m(\u001b[0m\u001b[0mplot_labels\u001b[0m\u001b[0;34m)\u001b[0m\u001b[0;34m\u001b[0m\u001b[0;34m\u001b[0m\u001b[0m\n\u001b[0m\u001b[1;32m     31\u001b[0m     \u001b[0mfprs\u001b[0m \u001b[0;34m=\u001b[0m\u001b[0;34m[\u001b[0m\u001b[0;34m]\u001b[0m\u001b[0;34m\u001b[0m\u001b[0;34m\u001b[0m\u001b[0m\n\u001b[1;32m     32\u001b[0m     \u001b[0mtprs\u001b[0m\u001b[0;34m=\u001b[0m\u001b[0;34m[\u001b[0m\u001b[0;34m]\u001b[0m\u001b[0;34m\u001b[0m\u001b[0;34m\u001b[0m\u001b[0m\n",
            "\u001b[0;31mAssertionError\u001b[0m: "
          ]
        }
      ]
    },
    {
      "cell_type": "code",
      "metadata": {
        "id": "Xqq78vIoM_Tz"
      },
      "source": [
        ""
      ],
      "id": "Xqq78vIoM_Tz",
      "execution_count": null,
      "outputs": []
    }
  ]
}