{
  "nbformat": 4,
  "nbformat_minor": 5,
  "metadata": {
    "kernelspec": {
      "name": "python3",
      "display_name": "Python 3"
    },
    "colab": {
      "name": "try_your_best_shot.ipynb",
      "provenance": []
    },
    "language_info": {
      "name": "python"
    }
  },
  "cells": [
    {
      "cell_type": "markdown",
      "metadata": {
        "id": "f4aa00a7-1743-4475-8e7b-07f75b386a29"
      },
      "source": [
        "## Here we will try our best shot to predict the goals with our features"
      ],
      "id": "f4aa00a7-1743-4475-8e7b-07f75b386a29"
    },
    {
      "cell_type": "code",
      "metadata": {
        "id": "0e26965d-f064-484c-91f3-aa96de787ab4",
        "colab": {
          "base_uri": "https://localhost:8080/"
        },
        "outputId": "3db26e25-f476-40c6-f615-5db7e646db2e"
      },
      "source": [
        "from google.colab import drive\n",
        "drive.mount('/content/gdrive')"
      ],
      "id": "0e26965d-f064-484c-91f3-aa96de787ab4",
      "execution_count": 1,
      "outputs": [
        {
          "output_type": "stream",
          "name": "stdout",
          "text": [
            "Mounted at /content/gdrive\n"
          ]
        }
      ]
    },
    {
      "cell_type": "code",
      "metadata": {
        "id": "MrfE_fXB9r7z",
        "colab": {
          "base_uri": "https://localhost:8080/"
        },
        "outputId": "1b718dd8-11f2-4cc0-f13a-1e2c3cc55f3c"
      },
      "source": [
        "%cd /content/gdrive/MyDrive/Master_UdeM/IFT-6758/Project/ift6758-project-main"
      ],
      "id": "MrfE_fXB9r7z",
      "execution_count": 2,
      "outputs": [
        {
          "output_type": "stream",
          "name": "stdout",
          "text": [
            "/content/gdrive/MyDrive/Master_UdeM/IFT-6758/Project/ift6758-project-main\n"
          ]
        }
      ]
    },
    {
      "cell_type": "code",
      "metadata": {
        "id": "celXeSWR9zXi",
        "colab": {
          "base_uri": "https://localhost:8080/"
        },
        "outputId": "dbc6a89a-4991-45ba-ac3d-e6df0cfa0bfb"
      },
      "source": [
        "#!git clone https://GIT_TOKEN@github.com/M0rph3e/ift6758-project-main.git #not anymore\n",
        "! git pull"
      ],
      "id": "celXeSWR9zXi",
      "execution_count": 3,
      "outputs": [
        {
          "output_type": "stream",
          "name": "stdout",
          "text": [
            "Already up to date.\n"
          ]
        }
      ]
    },
    {
      "cell_type": "code",
      "metadata": {
        "id": "lGWPuWN7-Rbo",
        "colab": {
          "base_uri": "https://localhost:8080/"
        },
        "outputId": "61f1f164-1a22-473f-cfde-87ee93b23004"
      },
      "source": [
        "!git status"
      ],
      "id": "lGWPuWN7-Rbo",
      "execution_count": 4,
      "outputs": [
        {
          "output_type": "stream",
          "name": "stdout",
          "text": [
            "On branch main\n",
            "Your branch is up to date with 'origin/main'.\n",
            "\n",
            "nothing to commit, working tree clean\n"
          ]
        }
      ]
    },
    {
      "cell_type": "code",
      "metadata": {
        "id": "5wFBMu2YAjam",
        "outputId": "8e9c52f2-1062-489b-adbb-59cdc7b46083",
        "colab": {
          "base_uri": "https://localhost:8080/"
        }
      },
      "source": [
        "!pip install comet_ml pandas_profiling"
      ],
      "id": "5wFBMu2YAjam",
      "execution_count": 5,
      "outputs": [
        {
          "output_type": "stream",
          "name": "stdout",
          "text": [
            "Installing collected packages: everett, configobj, wurlitzer, websocket-client, semantic-version, requests-toolbelt, dulwich, comet-ml\n",
            "Successfully installed comet-ml-3.22.1 configobj-5.0.6 dulwich-0.20.26 everett-2.0.1 requests-toolbelt-0.9.1 semantic-version-2.8.5 websocket-client-1.2.1 wurlitzer-3.0.2\n"
          ]
        }
      ]
    },
    {
      "cell_type": "code",
      "metadata": {
        "id": "zqiioowlaDXX",
        "colab": {
          "base_uri": "https://localhost:8080/"
        },
        "outputId": "b48cec5b-e634-4639-fb07-491e96a29f12"
      },
      "source": [
        "! git branch"
      ],
      "id": "zqiioowlaDXX",
      "execution_count": 6,
      "outputs": [
        {
          "output_type": "stream",
          "name": "stdout",
          "text": [
            "  best_shot_trial\u001b[m\n",
            "  fengineering2\u001b[m\n",
            "* \u001b[32mmain\u001b[m\n"
          ]
        }
      ]
    },
    {
      "cell_type": "markdown",
      "metadata": {
        "id": "TB9EOTRM-330"
      },
      "source": [
        "# Real **** starts from here"
      ],
      "id": "TB9EOTRM-330"
    },
    {
      "cell_type": "code",
      "metadata": {
        "id": "GbIIYHFg-elV"
      },
      "source": [
        "from ift6758.features.feature_engineering2 import SeasonDataSetTwo\n",
        "from ift6758.data.data_acquisition import Season\n",
        "from ift6758.visualizations.simple_visualization import Utilities \n",
        "import matplotlib.pyplot as plt\n",
        "import numpy as np\n",
        "import seaborn as sns\n",
        "import os\n",
        "import random\n",
        "import pandas as pd\n",
        "import pickle\n",
        "import sys\n",
        "import json\n",
        "\n",
        "import warnings\n",
        "warnings.filterwarnings(\"ignore\")"
      ],
      "id": "GbIIYHFg-elV",
      "execution_count": 7,
      "outputs": []
    },
    {
      "cell_type": "code",
      "metadata": {
        "id": "BHb91bE6_ODa",
        "colab": {
          "base_uri": "https://localhost:8080/"
        },
        "outputId": "1dd32834-2c71-4e1a-d1a4-f64d95ecef5b"
      },
      "source": [
        "train_years = [2015,2016,2017]\n",
        "valid_years = [2018]\n",
        "test_years=[2019]\n",
        "\n",
        "\n",
        "train_dataset = SeasonDataSetTwo(train_years)\n",
        "valid_dataset = SeasonDataSetTwo(valid_years)\n",
        "train_df = train_dataset.get_features_2()\n",
        "valid_df = valid_dataset.get_features_2()"
      ],
      "id": "BHb91bE6_ODa",
      "execution_count": 8,
      "outputs": [
        {
          "output_type": "stream",
          "name": "stdout",
          "text": [
            "File with all events already Exists, loading from ../ift6758/data/PICKLE//2015_clean_all_events.pkl\n",
            "File already Exists, loading from ../ift6758/data/PICKLE//2015_period_info.pkl\n",
            "File with all events already Exists, loading from ../ift6758/data/PICKLE//2016_clean_all_events.pkl\n",
            "File already Exists, loading from ../ift6758/data/PICKLE//2016_period_info.pkl\n",
            "File with all events already Exists, loading from ../ift6758/data/PICKLE//2017_clean_all_events.pkl\n",
            "File already Exists, loading from ../ift6758/data/PICKLE//2017_period_info.pkl\n",
            "File with all events already Exists, loading from ../ift6758/data/PICKLE//2018_clean_all_events.pkl\n",
            "File already Exists, loading from ../ift6758/data/PICKLE//2018_period_info.pkl\n"
          ]
        }
      ]
    },
    {
      "cell_type": "code",
      "metadata": {
        "id": "utYXLTyoGCDF",
        "colab": {
          "base_uri": "https://localhost:8080/"
        },
        "outputId": "3e4200c3-6323-47fb-adb7-1dfad246092f"
      },
      "source": [
        "test_data = SeasonDataSetTwo(test_years)\n",
        "test_df = test_data.get_features_2()"
      ],
      "id": "utYXLTyoGCDF",
      "execution_count": 9,
      "outputs": [
        {
          "output_type": "stream",
          "name": "stdout",
          "text": [
            "File with all events already Exists, loading from ../ift6758/data/PICKLE//2019_clean_all_events.pkl\n",
            "File already Exists, loading from ../ift6758/data/PICKLE//2019_period_info.pkl\n"
          ]
        }
      ]
    },
    {
      "cell_type": "code",
      "metadata": {
        "id": "zG9tb1EItF9Q",
        "outputId": "61c4f269-ae5b-4f89-9c7d-fad0d5abcb60",
        "colab": {
          "base_uri": "https://localhost:8080/"
        }
      },
      "source": [
        "train_df.columns"
      ],
      "id": "zG9tb1EItF9Q",
      "execution_count": 12,
      "outputs": [
        {
          "output_type": "execute_result",
          "data": {
            "text/plain": [
              "Index(['result.penaltySeverity', 'result.penaltyMinutes', 'gamePk',\n",
              "       'team.name', 'gamePeriod', 'coordinatesX', 'coordinatesY', 'shotType',\n",
              "       'emptyNet', 'result.strength.name', 'gameSeconds', 'shotDistance',\n",
              "       'shotAngle', 'isGoal', 'lastEventType', 'lastEventCoordinatesX',\n",
              "       'lastEventCoordinatesY', 'timeFromLastEvent', 'distanceFromLastEvent',\n",
              "       'rebound', 'speed', 'changeInShotAngle', 'angleSpeed'],\n",
              "      dtype='object')"
            ]
          },
          "metadata": {},
          "execution_count": 12
        }
      ]
    },
    {
      "cell_type": "markdown",
      "metadata": {
        "id": "0kj5OTviDnFF"
      },
      "source": [
        "# Export the data csv to comet (do not execute for now)"
      ],
      "id": "0kj5OTviDnFF"
    },
    {
      "cell_type": "code",
      "metadata": {
        "id": "OvTG9lsL_Tb_",
        "colab": {
          "base_uri": "https://localhost:8080/"
        },
        "outputId": "c9afdb62-041b-4d14-f70e-001dc144635e"
      },
      "source": [
        "from comet_ml import Experiment\n",
        "import os\n",
        "\n",
        "\n",
        "\n",
        "exp = Experiment(\n",
        "    api_key=os.environ.get('COMET_API_KEY'),\n",
        "    project_name='milestone-2',\n",
        "    workspace='morph-e',\n",
        "    log_code=True,\n",
        "    log_graph=True\n",
        ")"
      ],
      "id": "OvTG9lsL_Tb_",
      "execution_count": 16,
      "outputs": [
        {
          "output_type": "stream",
          "name": "stderr",
          "text": [
            "COMET WARNING: As you are running in a Jupyter environment, you will need to call `experiment.end()` when finished to ensure all metrics and code are logged before exiting.\n",
            "COMET INFO: Experiment is live on comet.ml https://www.comet.ml/morph-e/milestone-2/691408bba0b8465cb99e9066082bf528\n",
            "\n"
          ]
        }
      ]
    },
    {
      "cell_type": "code",
      "metadata": {
        "colab": {
          "base_uri": "https://localhost:8080/"
        },
        "id": "DzdwfiX2H86Q",
        "outputId": "340da314-a130-4460-ba2e-9235c078d4b7"
      },
      "source": [
        "exp.log_dataframe_profile(\n",
        "train_df, \n",
        "name='train_set_from_FE2',  # keep this name\n",
        "dataframe_format='csv'  # ensure you set this flag!\n",
        ")\n",
        "\n",
        "exp.log_dataframe_profile(\n",
        "valid_df, \n",
        "name='valid_set_from_FE2',  # keep this name\n",
        "dataframe_format='csv'  # ensure you set this flag!\n",
        ")\n",
        "\n",
        "exp.log_dataframe_profile(\n",
        "test_df, \n",
        "name='test_set_from_FE2',  # keep this name\n",
        "dataframe_format='csv'  # ensure you set this flag!\n",
        ")\n"
      ],
      "id": "DzdwfiX2H86Q",
      "execution_count": 19,
      "outputs": [
        {
          "output_type": "stream",
          "name": "stderr",
          "text": [
            "COMET WARNING: unable to profile dataframe; ignoring\n",
            "COMET WARNING: unable to profile dataframe; ignoring\n",
            "COMET WARNING: unable to profile dataframe; ignoring\n"
          ]
        },
        {
          "output_type": "execute_result",
          "data": {
            "text/plain": [
              "{'dataframe': {'api': 'https://www.comet.ml/api/rest/v2/experiment/asset/get-asset?assetId=0a61cc7219ed45259b111b186de629c9&experimentKey=691408bba0b8465cb99e9066082bf528',\n",
              "  'assetId': '0a61cc7219ed45259b111b186de629c9',\n",
              "  'web': 'https://www.comet.ml/api/asset/download?assetId=0a61cc7219ed45259b111b186de629c9&experimentKey=691408bba0b8465cb99e9066082bf528'},\n",
              " 'profile': None}"
            ]
          },
          "metadata": {},
          "execution_count": 19
        }
      ]
    },
    {
      "cell_type": "markdown",
      "metadata": {
        "id": "i8bloprl_Lpf"
      },
      "source": [
        "# Split and shuffle Data"
      ],
      "id": "i8bloprl_Lpf"
    },
    {
      "cell_type": "code",
      "metadata": {
        "id": "X3EAx_NuFKSt"
      },
      "source": [
        "random.seed(42)"
      ],
      "id": "X3EAx_NuFKSt",
      "execution_count": 36,
      "outputs": []
    },
    {
      "cell_type": "code",
      "metadata": {
        "id": "VCGefzl2EsWz"
      },
      "source": [
        "train_df = train_df.sample(frac=1)\n",
        "test_df = test_df.sample(frac=1)\n",
        "valid_df = valid_df.sample(frac=1)"
      ],
      "id": "VCGefzl2EsWz",
      "execution_count": 37,
      "outputs": []
    },
    {
      "cell_type": "code",
      "metadata": {
        "id": "IE-Wvb62FC8S",
        "colab": {
          "base_uri": "https://localhost:8080/",
          "height": 330
        },
        "outputId": "9a6f9a88-d3d3-4629-f91b-d4d2e807c6b0"
      },
      "source": [
        "train_df.head()"
      ],
      "id": "IE-Wvb62FC8S",
      "execution_count": 38,
      "outputs": [
        {
          "output_type": "execute_result",
          "data": {
            "text/html": [
              "<div>\n",
              "<style scoped>\n",
              "    .dataframe tbody tr th:only-of-type {\n",
              "        vertical-align: middle;\n",
              "    }\n",
              "\n",
              "    .dataframe tbody tr th {\n",
              "        vertical-align: top;\n",
              "    }\n",
              "\n",
              "    .dataframe thead th {\n",
              "        text-align: right;\n",
              "    }\n",
              "</style>\n",
              "<table border=\"1\" class=\"dataframe\">\n",
              "  <thead>\n",
              "    <tr style=\"text-align: right;\">\n",
              "      <th></th>\n",
              "      <th>result.penaltySeverity</th>\n",
              "      <th>result.penaltyMinutes</th>\n",
              "      <th>gamePk</th>\n",
              "      <th>team.name</th>\n",
              "      <th>gamePeriod</th>\n",
              "      <th>coordinatesX</th>\n",
              "      <th>coordinatesY</th>\n",
              "      <th>shotType</th>\n",
              "      <th>emptyNet</th>\n",
              "      <th>result.strength.name</th>\n",
              "      <th>gameSeconds</th>\n",
              "      <th>shotDistance</th>\n",
              "      <th>shotAngle</th>\n",
              "      <th>isGoal</th>\n",
              "      <th>lastEventType</th>\n",
              "      <th>lastEventCoordinatesX</th>\n",
              "      <th>lastEventCoordinatesY</th>\n",
              "      <th>timeFromLastEvent</th>\n",
              "      <th>distanceFromLastEvent</th>\n",
              "      <th>rebound</th>\n",
              "      <th>speed</th>\n",
              "      <th>changeInShotAngle</th>\n",
              "      <th>angleSpeed</th>\n",
              "    </tr>\n",
              "  </thead>\n",
              "  <tbody>\n",
              "    <tr>\n",
              "      <th>192948</th>\n",
              "      <td>NaN</td>\n",
              "      <td>NaN</td>\n",
              "      <td>2017020520</td>\n",
              "      <td>Minnesota Wild</td>\n",
              "      <td>3</td>\n",
              "      <td>-82.0</td>\n",
              "      <td>2.0</td>\n",
              "      <td>Wrist Shot</td>\n",
              "      <td>0</td>\n",
              "      <td>NaN</td>\n",
              "      <td>391.0</td>\n",
              "      <td>7.280110</td>\n",
              "      <td>15.945396</td>\n",
              "      <td>0</td>\n",
              "      <td>Shot</td>\n",
              "      <td>-65.0</td>\n",
              "      <td>26.0</td>\n",
              "      <td>3.0</td>\n",
              "      <td>29.410882</td>\n",
              "      <td>True</td>\n",
              "      <td>9.803627</td>\n",
              "      <td>31.345214</td>\n",
              "      <td>10.448405</td>\n",
              "    </tr>\n",
              "    <tr>\n",
              "      <th>127034</th>\n",
              "      <td>NaN</td>\n",
              "      <td>NaN</td>\n",
              "      <td>2016020787</td>\n",
              "      <td>Buffalo Sabres</td>\n",
              "      <td>3</td>\n",
              "      <td>-44.0</td>\n",
              "      <td>-27.0</td>\n",
              "      <td>Snap Shot</td>\n",
              "      <td>0</td>\n",
              "      <td>NaN</td>\n",
              "      <td>1077.0</td>\n",
              "      <td>52.478567</td>\n",
              "      <td>-30.963757</td>\n",
              "      <td>0</td>\n",
              "      <td>Faceoff</td>\n",
              "      <td>-69.0</td>\n",
              "      <td>22.0</td>\n",
              "      <td>31.0</td>\n",
              "      <td>55.009090</td>\n",
              "      <td>False</td>\n",
              "      <td>1.774487</td>\n",
              "      <td>0.000000</td>\n",
              "      <td>0.000000</td>\n",
              "    </tr>\n",
              "    <tr>\n",
              "      <th>103702</th>\n",
              "      <td>NaN</td>\n",
              "      <td>NaN</td>\n",
              "      <td>2016020402</td>\n",
              "      <td>Nashville Predators</td>\n",
              "      <td>2</td>\n",
              "      <td>-36.0</td>\n",
              "      <td>2.0</td>\n",
              "      <td>Slap Shot</td>\n",
              "      <td>0</td>\n",
              "      <td>NaN</td>\n",
              "      <td>162.0</td>\n",
              "      <td>53.037722</td>\n",
              "      <td>2.161079</td>\n",
              "      <td>0</td>\n",
              "      <td>Shot</td>\n",
              "      <td>-37.0</td>\n",
              "      <td>-19.0</td>\n",
              "      <td>9.0</td>\n",
              "      <td>21.023796</td>\n",
              "      <td>True</td>\n",
              "      <td>2.335977</td>\n",
              "      <td>22.232605</td>\n",
              "      <td>2.470289</td>\n",
              "    </tr>\n",
              "    <tr>\n",
              "      <th>181640</th>\n",
              "      <td>NaN</td>\n",
              "      <td>NaN</td>\n",
              "      <td>2017020342</td>\n",
              "      <td>Columbus Blue Jackets</td>\n",
              "      <td>2</td>\n",
              "      <td>-39.0</td>\n",
              "      <td>19.0</td>\n",
              "      <td>Slap Shot</td>\n",
              "      <td>0</td>\n",
              "      <td>NaN</td>\n",
              "      <td>636.0</td>\n",
              "      <td>53.488316</td>\n",
              "      <td>20.806791</td>\n",
              "      <td>0</td>\n",
              "      <td>Faceoff</td>\n",
              "      <td>-69.0</td>\n",
              "      <td>22.0</td>\n",
              "      <td>4.0</td>\n",
              "      <td>30.149627</td>\n",
              "      <td>False</td>\n",
              "      <td>7.537407</td>\n",
              "      <td>0.000000</td>\n",
              "      <td>0.000000</td>\n",
              "    </tr>\n",
              "    <tr>\n",
              "      <th>239034</th>\n",
              "      <td>NaN</td>\n",
              "      <td>NaN</td>\n",
              "      <td>2017021232</td>\n",
              "      <td>Montréal Canadiens</td>\n",
              "      <td>2</td>\n",
              "      <td>78.0</td>\n",
              "      <td>-7.0</td>\n",
              "      <td>Backhand</td>\n",
              "      <td>0</td>\n",
              "      <td>NaN</td>\n",
              "      <td>9.0</td>\n",
              "      <td>13.038405</td>\n",
              "      <td>32.471192</td>\n",
              "      <td>0</td>\n",
              "      <td>Faceoff</td>\n",
              "      <td>0.0</td>\n",
              "      <td>0.0</td>\n",
              "      <td>9.0</td>\n",
              "      <td>78.313473</td>\n",
              "      <td>False</td>\n",
              "      <td>8.701497</td>\n",
              "      <td>0.000000</td>\n",
              "      <td>0.000000</td>\n",
              "    </tr>\n",
              "  </tbody>\n",
              "</table>\n",
              "</div>"
            ],
            "text/plain": [
              "       result.penaltySeverity  ...  angleSpeed\n",
              "192948                    NaN  ...   10.448405\n",
              "127034                    NaN  ...    0.000000\n",
              "103702                    NaN  ...    2.470289\n",
              "181640                    NaN  ...    0.000000\n",
              "239034                    NaN  ...    0.000000\n",
              "\n",
              "[5 rows x 23 columns]"
            ]
          },
          "metadata": {},
          "execution_count": 38
        }
      ]
    },
    {
      "cell_type": "code",
      "metadata": {
        "id": "72IkWlL6JCtE"
      },
      "source": [
        "features = ['gameSeconds','timeFromLastEvent','gamePeriod','shotType', 'shotAngle','coordinatesX','coordinatesY', 'shotDistance','lastEventCoordinatesX','lastEventCoordinatesY','distanceFromLastEvent', 'rebound','speed','changeInShotAngle','angleSpeed']\n",
        "label = ['isGoal']"
      ],
      "id": "72IkWlL6JCtE",
      "execution_count": 39,
      "outputs": []
    },
    {
      "cell_type": "code",
      "metadata": {
        "colab": {
          "base_uri": "https://localhost:8080/"
        },
        "id": "sbtgiVdKQ6tq",
        "outputId": "bb929e09-e9b7-4e3d-b402-d3efdea469d5"
      },
      "source": [
        "train_df[features].isna().any()\n",
        "valid_df[features].isna().any()\n",
        "valid_df[features].isna().any()"
      ],
      "id": "sbtgiVdKQ6tq",
      "execution_count": 40,
      "outputs": [
        {
          "output_type": "execute_result",
          "data": {
            "text/plain": [
              "gameSeconds              False\n",
              "timeFromLastEvent        False\n",
              "gamePeriod               False\n",
              "shotType                 False\n",
              "shotAngle                False\n",
              "coordinatesX             False\n",
              "coordinatesY             False\n",
              "shotDistance             False\n",
              "lastEventCoordinatesX    False\n",
              "lastEventCoordinatesY    False\n",
              "distanceFromLastEvent    False\n",
              "rebound                  False\n",
              "speed                    False\n",
              "changeInShotAngle        False\n",
              "angleSpeed               False\n",
              "dtype: bool"
            ]
          },
          "metadata": {},
          "execution_count": 40
        }
      ]
    },
    {
      "cell_type": "markdown",
      "metadata": {
        "id": "LiB5e5M8YFRA"
      },
      "source": [
        "### Replace inf with nan (annoying in normalization)"
      ],
      "id": "LiB5e5M8YFRA"
    },
    {
      "cell_type": "code",
      "metadata": {
        "id": "pRj2nIZCXXLA"
      },
      "source": [
        "train_df.replace([np.inf, -np.inf], np.nan, inplace=True)\n",
        "valid_df.replace([np.inf, -np.inf], np.nan, inplace=True)\n",
        "test_df.replace([np.inf, -np.inf], np.nan, inplace=True)"
      ],
      "id": "pRj2nIZCXXLA",
      "execution_count": 54,
      "outputs": []
    },
    {
      "cell_type": "code",
      "metadata": {
        "id": "kMoH4JD-OP8Z"
      },
      "source": [
        "#drop rows with nan\n",
        "train_df = train_df[train_df['shotType'].notna()]\n",
        "valid_df = train_df[train_df['shotType'].notna()]\n",
        "test_df = train_df[train_df['shotType'].notna()]\n",
        "\n",
        "train_df = train_df[train_df['shotAngle'].notna()]\n",
        "valid_df = train_df[train_df['shotAngle'].notna()]\n",
        "test_df = train_df[train_df['shotAngle'].notna()]\n",
        "\n",
        "train_df = train_df[train_df['shotDistance'].notna()]\n",
        "valid_df = train_df[train_df['shotDistance'].notna()]\n",
        "test_df = train_df[train_df['shotDistance'].notna()]\n",
        "\n",
        "train_df = train_df[train_df['speed'].notna()]\n",
        "valid_df = train_df[train_df['speed'].notna()]\n",
        "test_df = train_df[train_df['speed'].notna()]\n",
        "\n",
        "train_df = train_df[train_df['changeInShotAngle'].notna()]\n",
        "valid_df = train_df[train_df['changeInShotAngle'].notna()]\n",
        "test_df = train_df[train_df['changeInShotAngle'].notna()]\n",
        "\n",
        "train_df = train_df[train_df['coordinatesX'].notna()]\n",
        "valid_df = train_df[train_df['coordinatesX'].notna()]\n",
        "test_df = train_df[train_df['coordinatesX'].notna()]\n",
        "\n",
        "train_df = train_df[train_df['coordinatesY'].notna()]\n",
        "valid_df = train_df[train_df['coordinatesY'].notna()]\n",
        "test_df = train_df[train_df['coordinatesY'].notna()]\n",
        "\n",
        "train_df = train_df[train_df['lastEventCoordinatesY'].notna()]\n",
        "valid_df = train_df[train_df['lastEventCoordinatesY'].notna()]\n",
        "test_df = train_df[train_df['lastEventCoordinatesY'].notna()]\n",
        "\n",
        "train_df = train_df[train_df['lastEventCoordinatesX'].notna()]\n",
        "valid_df = train_df[train_df['lastEventCoordinatesX'].notna()]\n",
        "test_df = train_df[train_df['lastEventCoordinatesX'].notna()]\n",
        "\n",
        "train_df = train_df[train_df['angleSpeed'].notna()]\n",
        "valid_df = train_df[train_df['angleSpeed'].notna()]\n",
        "test_df = train_df[train_df['angleSpeed'].notna()]\n",
        "\n"
      ],
      "id": "kMoH4JD-OP8Z",
      "execution_count": 55,
      "outputs": []
    },
    {
      "cell_type": "code",
      "metadata": {
        "colab": {
          "base_uri": "https://localhost:8080/"
        },
        "id": "VB2rx98tRfcM",
        "outputId": "f61428a3-d263-44f5-883f-5bd4deb35023"
      },
      "source": [
        "train_df[features].isna().any()\n",
        "valid_df[features].isna().any()\n",
        "valid_df[features].isna().any()"
      ],
      "id": "VB2rx98tRfcM",
      "execution_count": 56,
      "outputs": [
        {
          "output_type": "execute_result",
          "data": {
            "text/plain": [
              "gameSeconds              False\n",
              "timeFromLastEvent        False\n",
              "gamePeriod               False\n",
              "shotType                 False\n",
              "shotAngle                False\n",
              "coordinatesX             False\n",
              "coordinatesY             False\n",
              "shotDistance             False\n",
              "lastEventCoordinatesX    False\n",
              "lastEventCoordinatesY    False\n",
              "distanceFromLastEvent    False\n",
              "rebound                  False\n",
              "speed                    False\n",
              "changeInShotAngle        False\n",
              "angleSpeed               False\n",
              "dtype: bool"
            ]
          },
          "metadata": {},
          "execution_count": 56
        }
      ]
    },
    {
      "cell_type": "code",
      "metadata": {
        "id": "GD8YNmGS_9x_",
        "colab": {
          "base_uri": "https://localhost:8080/"
        },
        "outputId": "77aacbe0-cd49-4415-9e52-748c83983017"
      },
      "source": [
        "X_train = train_df[features]\n",
        "y_train = train_df[label]\n",
        "\n",
        "X_valid = valid_df[features]\n",
        "y_valid = valid_df[label]\n",
        "\n",
        "X_test = test_df[features]\n",
        "y_test = test_df[label]\n",
        "\n",
        "X_train, y_train, X_valid, y_valid"
      ],
      "id": "GD8YNmGS_9x_",
      "execution_count": 87,
      "outputs": [
        {
          "output_type": "execute_result",
          "data": {
            "text/plain": [
              "(        gameSeconds  timeFromLastEvent  ...  changeInShotAngle angleSpeed\n",
              " 192948        391.0                3.0  ...          31.345214  10.448405\n",
              " 127034       1077.0               31.0  ...           0.000000   0.000000\n",
              " 103702        162.0                9.0  ...          22.232605   2.470289\n",
              " 181640        636.0                4.0  ...           0.000000   0.000000\n",
              " 239034          9.0                9.0  ...           0.000000   0.000000\n",
              " ...             ...                ...  ...                ...        ...\n",
              " 2031           22.0                5.0  ...           0.000000   0.000000\n",
              " 9307          102.0               11.0  ...           0.000000   0.000000\n",
              " 153896        456.0                5.0  ...           0.000000   0.000000\n",
              " 49353         214.0                5.0  ...           0.000000   0.000000\n",
              " 75161         376.0               38.0  ...           0.000000   0.000000\n",
              " \n",
              " [238046 rows x 15 columns],         isGoal\n",
              " 192948       0\n",
              " 127034       0\n",
              " 103702       0\n",
              " 181640       0\n",
              " 239034       0\n",
              " ...        ...\n",
              " 2031         0\n",
              " 9307         0\n",
              " 153896       0\n",
              " 49353        0\n",
              " 75161        0\n",
              " \n",
              " [238046 rows x 1 columns],         gameSeconds  timeFromLastEvent  ...  changeInShotAngle angleSpeed\n",
              " 192948        391.0                3.0  ...          31.345214  10.448405\n",
              " 127034       1077.0               31.0  ...           0.000000   0.000000\n",
              " 103702        162.0                9.0  ...          22.232605   2.470289\n",
              " 181640        636.0                4.0  ...           0.000000   0.000000\n",
              " 239034          9.0                9.0  ...           0.000000   0.000000\n",
              " ...             ...                ...  ...                ...        ...\n",
              " 2031           22.0                5.0  ...           0.000000   0.000000\n",
              " 9307          102.0               11.0  ...           0.000000   0.000000\n",
              " 153896        456.0                5.0  ...           0.000000   0.000000\n",
              " 49353         214.0                5.0  ...           0.000000   0.000000\n",
              " 75161         376.0               38.0  ...           0.000000   0.000000\n",
              " \n",
              " [238046 rows x 15 columns],         isGoal\n",
              " 192948       0\n",
              " 127034       0\n",
              " 103702       0\n",
              " 181640       0\n",
              " 239034       0\n",
              " ...        ...\n",
              " 2031         0\n",
              " 9307         0\n",
              " 153896       0\n",
              " 49353        0\n",
              " 75161        0\n",
              " \n",
              " [238046 rows x 1 columns])"
            ]
          },
          "metadata": {},
          "execution_count": 87
        }
      ]
    },
    {
      "cell_type": "markdown",
      "metadata": {
        "id": "IPckRPfMBNmS"
      },
      "source": [
        "### One Hot encode the shot type (I want to refer on the fact that the shot type affect the goal)"
      ],
      "id": "IPckRPfMBNmS"
    },
    {
      "cell_type": "code",
      "metadata": {
        "id": "xYi-kcc40ewe",
        "outputId": "39209f77-ae7c-4183-e4ac-fe5ead5de282",
        "colab": {
          "base_uri": "https://localhost:8080/"
        }
      },
      "source": [
        "X_train['shotType'].unique()"
      ],
      "id": "xYi-kcc40ewe",
      "execution_count": 102,
      "outputs": [
        {
          "output_type": "execute_result",
          "data": {
            "text/plain": [
              "array(['Wrist Shot', 'Snap Shot', 'Slap Shot', 'Backhand', 'Tip-In',\n",
              "       'Wrap-around', 'Deflected'], dtype=object)"
            ]
          },
          "metadata": {},
          "execution_count": 102
        }
      ]
    },
    {
      "cell_type": "code",
      "metadata": {
        "id": "UbKEX4EwBJaR"
      },
      "source": [
        "dum_train = pd.get_dummies(X_train['shotType'], prefix='Shot',dtype=int)\n",
        "dum_valid = pd.get_dummies(X_valid['shotType'], prefix='Shot',dtype=int)\n",
        "dum_test = pd.get_dummies(X_test['shotType'], prefix='Shot',dtype=int)"
      ],
      "id": "UbKEX4EwBJaR",
      "execution_count": 103,
      "outputs": []
    },
    {
      "cell_type": "code",
      "metadata": {
        "id": "wjqJnqntR4oS"
      },
      "source": [
        "X_train = pd.concat([X_train, dum_train], axis=1)\n",
        "X_valid = pd.concat([X_valid, dum_valid], axis=1)\n",
        "X_test = pd.concat([X_test, dum_test], axis=1)"
      ],
      "id": "wjqJnqntR4oS",
      "execution_count": 104,
      "outputs": []
    },
    {
      "cell_type": "code",
      "metadata": {
        "colab": {
          "base_uri": "https://localhost:8080/"
        },
        "id": "ZkzKhocsTR-z",
        "outputId": "734c1889-efe8-4cb0-a76f-7649dd0e9e87"
      },
      "source": [
        "#check if no nans\n",
        "X_train.isna().any(), X_valid.isna().any(), X_test.isna().any()"
      ],
      "id": "ZkzKhocsTR-z",
      "execution_count": 105,
      "outputs": [
        {
          "output_type": "execute_result",
          "data": {
            "text/plain": [
              "(gameSeconds              False\n",
              " timeFromLastEvent        False\n",
              " gamePeriod               False\n",
              " shotType                 False\n",
              " shotAngle                False\n",
              " coordinatesX             False\n",
              " coordinatesY             False\n",
              " shotDistance             False\n",
              " lastEventCoordinatesX    False\n",
              " lastEventCoordinatesY    False\n",
              " distanceFromLastEvent    False\n",
              " rebound                  False\n",
              " speed                    False\n",
              " changeInShotAngle        False\n",
              " angleSpeed               False\n",
              " Shot_Backhand            False\n",
              " Shot_Deflected           False\n",
              " Shot_Slap Shot           False\n",
              " Shot_Snap Shot           False\n",
              " Shot_Tip-In              False\n",
              " Shot_Wrap-around         False\n",
              " Shot_Wrist Shot          False\n",
              " dtype: bool, gameSeconds              False\n",
              " timeFromLastEvent        False\n",
              " gamePeriod               False\n",
              " shotType                 False\n",
              " shotAngle                False\n",
              " coordinatesX             False\n",
              " coordinatesY             False\n",
              " shotDistance             False\n",
              " lastEventCoordinatesX    False\n",
              " lastEventCoordinatesY    False\n",
              " distanceFromLastEvent    False\n",
              " rebound                  False\n",
              " speed                    False\n",
              " changeInShotAngle        False\n",
              " angleSpeed               False\n",
              " Shot_Backhand            False\n",
              " Shot_Deflected           False\n",
              " Shot_Slap Shot           False\n",
              " Shot_Snap Shot           False\n",
              " Shot_Tip-In              False\n",
              " Shot_Wrap-around         False\n",
              " Shot_Wrist Shot          False\n",
              " dtype: bool, gameSeconds              False\n",
              " timeFromLastEvent        False\n",
              " gamePeriod               False\n",
              " shotType                 False\n",
              " shotAngle                False\n",
              " coordinatesX             False\n",
              " coordinatesY             False\n",
              " shotDistance             False\n",
              " lastEventCoordinatesX    False\n",
              " lastEventCoordinatesY    False\n",
              " distanceFromLastEvent    False\n",
              " rebound                  False\n",
              " speed                    False\n",
              " changeInShotAngle        False\n",
              " angleSpeed               False\n",
              " Shot_Backhand            False\n",
              " Shot_Deflected           False\n",
              " Shot_Slap Shot           False\n",
              " Shot_Snap Shot           False\n",
              " Shot_Tip-In              False\n",
              " Shot_Wrap-around         False\n",
              " Shot_Wrist Shot          False\n",
              " dtype: bool)"
            ]
          },
          "metadata": {},
          "execution_count": 105
        }
      ]
    },
    {
      "cell_type": "code",
      "metadata": {
        "id": "xEOoJtHCT1OK"
      },
      "source": [
        "X_train = X_train.drop(columns='shotType')\n",
        "X_valid = X_valid.drop(columns='shotType')\n",
        "X_test = X_test.drop(columns='shotType')"
      ],
      "id": "xEOoJtHCT1OK",
      "execution_count": 106,
      "outputs": []
    },
    {
      "cell_type": "markdown",
      "metadata": {
        "id": "md1L-3Wowpi6"
      },
      "source": [
        "## Do the same for gamePeriod"
      ],
      "id": "md1L-3Wowpi6"
    },
    {
      "cell_type": "code",
      "metadata": {
        "id": "bqkPl4lxwlNK",
        "outputId": "76b0dca6-415d-486a-8324-67a6feef0a9e",
        "colab": {
          "base_uri": "https://localhost:8080/"
        }
      },
      "source": [
        "dum_train = pd.get_dummies(X_train['gamePeriod'], prefix='Period',dtype=int)\n",
        "dum_valid = pd.get_dummies(X_valid['gamePeriod'], prefix='Period',dtype=int)\n",
        "dum_test = pd.get_dummies(X_test['gamePeriod'], prefix='Period',dtype=int)\n",
        "\n",
        "X_train = pd.concat([X_train, dum_train], axis=1)\n",
        "X_valid = pd.concat([X_valid, dum_valid], axis=1)\n",
        "X_test = pd.concat([X_test, dum_test], axis=1)\n",
        "\n",
        "#check if no nans\n",
        "X_train.isna().any(), X_valid.isna().any(), X_test.isna().any()"
      ],
      "id": "bqkPl4lxwlNK",
      "execution_count": 107,
      "outputs": [
        {
          "output_type": "execute_result",
          "data": {
            "text/plain": [
              "(gameSeconds              False\n",
              " timeFromLastEvent        False\n",
              " gamePeriod               False\n",
              " shotAngle                False\n",
              " coordinatesX             False\n",
              " coordinatesY             False\n",
              " shotDistance             False\n",
              " lastEventCoordinatesX    False\n",
              " lastEventCoordinatesY    False\n",
              " distanceFromLastEvent    False\n",
              " rebound                  False\n",
              " speed                    False\n",
              " changeInShotAngle        False\n",
              " angleSpeed               False\n",
              " Shot_Backhand            False\n",
              " Shot_Deflected           False\n",
              " Shot_Slap Shot           False\n",
              " Shot_Snap Shot           False\n",
              " Shot_Tip-In              False\n",
              " Shot_Wrap-around         False\n",
              " Shot_Wrist Shot          False\n",
              " Period_1                 False\n",
              " Period_2                 False\n",
              " Period_3                 False\n",
              " Period_4                 False\n",
              " Period_5                 False\n",
              " Period_6                 False\n",
              " dtype: bool, gameSeconds              False\n",
              " timeFromLastEvent        False\n",
              " gamePeriod               False\n",
              " shotAngle                False\n",
              " coordinatesX             False\n",
              " coordinatesY             False\n",
              " shotDistance             False\n",
              " lastEventCoordinatesX    False\n",
              " lastEventCoordinatesY    False\n",
              " distanceFromLastEvent    False\n",
              " rebound                  False\n",
              " speed                    False\n",
              " changeInShotAngle        False\n",
              " angleSpeed               False\n",
              " Shot_Backhand            False\n",
              " Shot_Deflected           False\n",
              " Shot_Slap Shot           False\n",
              " Shot_Snap Shot           False\n",
              " Shot_Tip-In              False\n",
              " Shot_Wrap-around         False\n",
              " Shot_Wrist Shot          False\n",
              " Period_1                 False\n",
              " Period_2                 False\n",
              " Period_3                 False\n",
              " Period_4                 False\n",
              " Period_5                 False\n",
              " Period_6                 False\n",
              " dtype: bool, gameSeconds              False\n",
              " timeFromLastEvent        False\n",
              " gamePeriod               False\n",
              " shotAngle                False\n",
              " coordinatesX             False\n",
              " coordinatesY             False\n",
              " shotDistance             False\n",
              " lastEventCoordinatesX    False\n",
              " lastEventCoordinatesY    False\n",
              " distanceFromLastEvent    False\n",
              " rebound                  False\n",
              " speed                    False\n",
              " changeInShotAngle        False\n",
              " angleSpeed               False\n",
              " Shot_Backhand            False\n",
              " Shot_Deflected           False\n",
              " Shot_Slap Shot           False\n",
              " Shot_Snap Shot           False\n",
              " Shot_Tip-In              False\n",
              " Shot_Wrap-around         False\n",
              " Shot_Wrist Shot          False\n",
              " Period_1                 False\n",
              " Period_2                 False\n",
              " Period_3                 False\n",
              " Period_4                 False\n",
              " Period_5                 False\n",
              " Period_6                 False\n",
              " dtype: bool)"
            ]
          },
          "metadata": {},
          "execution_count": 107
        }
      ]
    },
    {
      "cell_type": "code",
      "metadata": {
        "id": "SAYkWau0xRML"
      },
      "source": [
        "#drop gamePeriod\n",
        "X_train = X_train.drop(columns='gamePeriod')\n",
        "X_valid = X_valid.drop(columns='gamePeriod')\n",
        "X_test = X_test.drop(columns='gamePeriod')"
      ],
      "id": "SAYkWau0xRML",
      "execution_count": 108,
      "outputs": []
    },
    {
      "cell_type": "markdown",
      "metadata": {
        "id": "qkMP6uMUHZjK"
      },
      "source": [
        "# Change rebound feature"
      ],
      "id": "qkMP6uMUHZjK"
    },
    {
      "cell_type": "code",
      "metadata": {
        "id": "qrbQkwBdDSBn"
      },
      "source": [
        "X_train['rebound'] = X_train['rebound'].astype(int)\n",
        "X_valid['rebound'] = X_valid['rebound'].astype(int)\n",
        "X_test['rebound'] = X_test['rebound'].astype(int)"
      ],
      "id": "qrbQkwBdDSBn",
      "execution_count": 109,
      "outputs": []
    },
    {
      "cell_type": "code",
      "metadata": {
        "id": "Br-EHuqUEk65",
        "colab": {
          "base_uri": "https://localhost:8080/",
          "height": 243
        },
        "outputId": "cf482b44-00f6-4c58-ed7b-ea658ea412c8"
      },
      "source": [
        "X_test.head()"
      ],
      "id": "Br-EHuqUEk65",
      "execution_count": 110,
      "outputs": [
        {
          "output_type": "execute_result",
          "data": {
            "text/html": [
              "<div>\n",
              "<style scoped>\n",
              "    .dataframe tbody tr th:only-of-type {\n",
              "        vertical-align: middle;\n",
              "    }\n",
              "\n",
              "    .dataframe tbody tr th {\n",
              "        vertical-align: top;\n",
              "    }\n",
              "\n",
              "    .dataframe thead th {\n",
              "        text-align: right;\n",
              "    }\n",
              "</style>\n",
              "<table border=\"1\" class=\"dataframe\">\n",
              "  <thead>\n",
              "    <tr style=\"text-align: right;\">\n",
              "      <th></th>\n",
              "      <th>gameSeconds</th>\n",
              "      <th>timeFromLastEvent</th>\n",
              "      <th>shotAngle</th>\n",
              "      <th>coordinatesX</th>\n",
              "      <th>coordinatesY</th>\n",
              "      <th>shotDistance</th>\n",
              "      <th>lastEventCoordinatesX</th>\n",
              "      <th>lastEventCoordinatesY</th>\n",
              "      <th>distanceFromLastEvent</th>\n",
              "      <th>rebound</th>\n",
              "      <th>speed</th>\n",
              "      <th>changeInShotAngle</th>\n",
              "      <th>angleSpeed</th>\n",
              "      <th>Shot_Backhand</th>\n",
              "      <th>Shot_Deflected</th>\n",
              "      <th>Shot_Slap Shot</th>\n",
              "      <th>Shot_Snap Shot</th>\n",
              "      <th>Shot_Tip-In</th>\n",
              "      <th>Shot_Wrap-around</th>\n",
              "      <th>Shot_Wrist Shot</th>\n",
              "      <th>Period_1</th>\n",
              "      <th>Period_2</th>\n",
              "      <th>Period_3</th>\n",
              "      <th>Period_4</th>\n",
              "      <th>Period_5</th>\n",
              "      <th>Period_6</th>\n",
              "    </tr>\n",
              "  </thead>\n",
              "  <tbody>\n",
              "    <tr>\n",
              "      <th>192948</th>\n",
              "      <td>391.0</td>\n",
              "      <td>3.0</td>\n",
              "      <td>15.945396</td>\n",
              "      <td>-82.0</td>\n",
              "      <td>2.0</td>\n",
              "      <td>7.280110</td>\n",
              "      <td>-65.0</td>\n",
              "      <td>26.0</td>\n",
              "      <td>29.410882</td>\n",
              "      <td>1</td>\n",
              "      <td>9.803627</td>\n",
              "      <td>31.345214</td>\n",
              "      <td>10.448405</td>\n",
              "      <td>0</td>\n",
              "      <td>0</td>\n",
              "      <td>0</td>\n",
              "      <td>0</td>\n",
              "      <td>0</td>\n",
              "      <td>0</td>\n",
              "      <td>1</td>\n",
              "      <td>0</td>\n",
              "      <td>0</td>\n",
              "      <td>1</td>\n",
              "      <td>0</td>\n",
              "      <td>0</td>\n",
              "      <td>0</td>\n",
              "    </tr>\n",
              "    <tr>\n",
              "      <th>127034</th>\n",
              "      <td>1077.0</td>\n",
              "      <td>31.0</td>\n",
              "      <td>-30.963757</td>\n",
              "      <td>-44.0</td>\n",
              "      <td>-27.0</td>\n",
              "      <td>52.478567</td>\n",
              "      <td>-69.0</td>\n",
              "      <td>22.0</td>\n",
              "      <td>55.009090</td>\n",
              "      <td>0</td>\n",
              "      <td>1.774487</td>\n",
              "      <td>0.000000</td>\n",
              "      <td>0.000000</td>\n",
              "      <td>0</td>\n",
              "      <td>0</td>\n",
              "      <td>0</td>\n",
              "      <td>1</td>\n",
              "      <td>0</td>\n",
              "      <td>0</td>\n",
              "      <td>0</td>\n",
              "      <td>0</td>\n",
              "      <td>0</td>\n",
              "      <td>1</td>\n",
              "      <td>0</td>\n",
              "      <td>0</td>\n",
              "      <td>0</td>\n",
              "    </tr>\n",
              "    <tr>\n",
              "      <th>103702</th>\n",
              "      <td>162.0</td>\n",
              "      <td>9.0</td>\n",
              "      <td>2.161079</td>\n",
              "      <td>-36.0</td>\n",
              "      <td>2.0</td>\n",
              "      <td>53.037722</td>\n",
              "      <td>-37.0</td>\n",
              "      <td>-19.0</td>\n",
              "      <td>21.023796</td>\n",
              "      <td>1</td>\n",
              "      <td>2.335977</td>\n",
              "      <td>22.232605</td>\n",
              "      <td>2.470289</td>\n",
              "      <td>0</td>\n",
              "      <td>0</td>\n",
              "      <td>1</td>\n",
              "      <td>0</td>\n",
              "      <td>0</td>\n",
              "      <td>0</td>\n",
              "      <td>0</td>\n",
              "      <td>0</td>\n",
              "      <td>1</td>\n",
              "      <td>0</td>\n",
              "      <td>0</td>\n",
              "      <td>0</td>\n",
              "      <td>0</td>\n",
              "    </tr>\n",
              "    <tr>\n",
              "      <th>181640</th>\n",
              "      <td>636.0</td>\n",
              "      <td>4.0</td>\n",
              "      <td>20.806791</td>\n",
              "      <td>-39.0</td>\n",
              "      <td>19.0</td>\n",
              "      <td>53.488316</td>\n",
              "      <td>-69.0</td>\n",
              "      <td>22.0</td>\n",
              "      <td>30.149627</td>\n",
              "      <td>0</td>\n",
              "      <td>7.537407</td>\n",
              "      <td>0.000000</td>\n",
              "      <td>0.000000</td>\n",
              "      <td>0</td>\n",
              "      <td>0</td>\n",
              "      <td>1</td>\n",
              "      <td>0</td>\n",
              "      <td>0</td>\n",
              "      <td>0</td>\n",
              "      <td>0</td>\n",
              "      <td>0</td>\n",
              "      <td>1</td>\n",
              "      <td>0</td>\n",
              "      <td>0</td>\n",
              "      <td>0</td>\n",
              "      <td>0</td>\n",
              "    </tr>\n",
              "    <tr>\n",
              "      <th>239034</th>\n",
              "      <td>9.0</td>\n",
              "      <td>9.0</td>\n",
              "      <td>32.471192</td>\n",
              "      <td>78.0</td>\n",
              "      <td>-7.0</td>\n",
              "      <td>13.038405</td>\n",
              "      <td>0.0</td>\n",
              "      <td>0.0</td>\n",
              "      <td>78.313473</td>\n",
              "      <td>0</td>\n",
              "      <td>8.701497</td>\n",
              "      <td>0.000000</td>\n",
              "      <td>0.000000</td>\n",
              "      <td>1</td>\n",
              "      <td>0</td>\n",
              "      <td>0</td>\n",
              "      <td>0</td>\n",
              "      <td>0</td>\n",
              "      <td>0</td>\n",
              "      <td>0</td>\n",
              "      <td>0</td>\n",
              "      <td>1</td>\n",
              "      <td>0</td>\n",
              "      <td>0</td>\n",
              "      <td>0</td>\n",
              "      <td>0</td>\n",
              "    </tr>\n",
              "  </tbody>\n",
              "</table>\n",
              "</div>"
            ],
            "text/plain": [
              "        gameSeconds  timeFromLastEvent  shotAngle  ...  Period_4  Period_5  Period_6\n",
              "192948        391.0                3.0  15.945396  ...         0         0         0\n",
              "127034       1077.0               31.0 -30.963757  ...         0         0         0\n",
              "103702        162.0                9.0   2.161079  ...         0         0         0\n",
              "181640        636.0                4.0  20.806791  ...         0         0         0\n",
              "239034          9.0                9.0  32.471192  ...         0         0         0\n",
              "\n",
              "[5 rows x 26 columns]"
            ]
          },
          "metadata": {},
          "execution_count": 110
        }
      ]
    },
    {
      "cell_type": "markdown",
      "metadata": {
        "id": "p1fedCBRVXRa"
      },
      "source": [
        "# Normalize numerical data "
      ],
      "id": "p1fedCBRVXRa"
    },
    {
      "cell_type": "code",
      "metadata": {
        "id": "eG5RixUBVbxJ"
      },
      "source": [
        "num = ['gameSeconds','timeFromLastEvent', 'shotAngle','coordinatesX','coordinatesY', 'shotDistance','lastEventCoordinatesX','lastEventCoordinatesY','distanceFromLastEvent','speed','changeInShotAngle','angleSpeed']"
      ],
      "id": "eG5RixUBVbxJ",
      "execution_count": 111,
      "outputs": []
    },
    {
      "cell_type": "code",
      "metadata": {
        "id": "lVyUXeSCWRTE"
      },
      "source": [
        "from sklearn.preprocessing import StandardScaler\n",
        "\n",
        "scaler = StandardScaler()\n",
        "scaler.fit(X_train[num])\n",
        "\n",
        "X_train[num] = scaler.transform(X_train[num])\n",
        "X_valid[num] = scaler.transform(X_valid[num])\n",
        "X_test[num] = scaler.transform(X_test[num])"
      ],
      "id": "lVyUXeSCWRTE",
      "execution_count": 112,
      "outputs": []
    },
    {
      "cell_type": "code",
      "metadata": {
        "colab": {
          "base_uri": "https://localhost:8080/",
          "height": 461
        },
        "id": "9t_C_0JVYcqu",
        "outputId": "19e65f4b-0130-4b51-8632-952c18181012"
      },
      "source": [
        "X_test"
      ],
      "id": "9t_C_0JVYcqu",
      "execution_count": 113,
      "outputs": [
        {
          "output_type": "execute_result",
          "data": {
            "text/html": [
              "<div>\n",
              "<style scoped>\n",
              "    .dataframe tbody tr th:only-of-type {\n",
              "        vertical-align: middle;\n",
              "    }\n",
              "\n",
              "    .dataframe tbody tr th {\n",
              "        vertical-align: top;\n",
              "    }\n",
              "\n",
              "    .dataframe thead th {\n",
              "        text-align: right;\n",
              "    }\n",
              "</style>\n",
              "<table border=\"1\" class=\"dataframe\">\n",
              "  <thead>\n",
              "    <tr style=\"text-align: right;\">\n",
              "      <th></th>\n",
              "      <th>gameSeconds</th>\n",
              "      <th>timeFromLastEvent</th>\n",
              "      <th>shotAngle</th>\n",
              "      <th>coordinatesX</th>\n",
              "      <th>coordinatesY</th>\n",
              "      <th>shotDistance</th>\n",
              "      <th>lastEventCoordinatesX</th>\n",
              "      <th>lastEventCoordinatesY</th>\n",
              "      <th>distanceFromLastEvent</th>\n",
              "      <th>rebound</th>\n",
              "      <th>speed</th>\n",
              "      <th>changeInShotAngle</th>\n",
              "      <th>angleSpeed</th>\n",
              "      <th>Shot_Backhand</th>\n",
              "      <th>Shot_Deflected</th>\n",
              "      <th>Shot_Slap Shot</th>\n",
              "      <th>Shot_Snap Shot</th>\n",
              "      <th>Shot_Tip-In</th>\n",
              "      <th>Shot_Wrap-around</th>\n",
              "      <th>Shot_Wrist Shot</th>\n",
              "      <th>Period_1</th>\n",
              "      <th>Period_2</th>\n",
              "      <th>Period_3</th>\n",
              "      <th>Period_4</th>\n",
              "      <th>Period_5</th>\n",
              "      <th>Period_6</th>\n",
              "    </tr>\n",
              "  </thead>\n",
              "  <tbody>\n",
              "    <tr>\n",
              "      <th>192948</th>\n",
              "      <td>-0.583891</td>\n",
              "      <td>-0.848700</td>\n",
              "      <td>0.413023</td>\n",
              "      <td>-1.295313</td>\n",
              "      <td>0.122758</td>\n",
              "      <td>-1.030121</td>\n",
              "      <td>-1.007487</td>\n",
              "      <td>1.128279</td>\n",
              "      <td>-0.707271</td>\n",
              "      <td>1</td>\n",
              "      <td>0.179790</td>\n",
              "      <td>1.158422</td>\n",
              "      <td>1.241567</td>\n",
              "      <td>0</td>\n",
              "      <td>0</td>\n",
              "      <td>0</td>\n",
              "      <td>0</td>\n",
              "      <td>0</td>\n",
              "      <td>0</td>\n",
              "      <td>1</td>\n",
              "      <td>0</td>\n",
              "      <td>0</td>\n",
              "      <td>1</td>\n",
              "      <td>0</td>\n",
              "      <td>0</td>\n",
              "      <td>0</td>\n",
              "    </tr>\n",
              "    <tr>\n",
              "      <th>127034</th>\n",
              "      <td>1.386286</td>\n",
              "      <td>1.045599</td>\n",
              "      <td>-0.872871</td>\n",
              "      <td>-0.696095</td>\n",
              "      <td>-1.391600</td>\n",
              "      <td>0.391072</td>\n",
              "      <td>-1.069321</td>\n",
              "      <td>0.955474</td>\n",
              "      <td>-0.152465</td>\n",
              "      <td>0</td>\n",
              "      <td>-0.616642</td>\n",
              "      <td>-0.363797</td>\n",
              "      <td>-0.232715</td>\n",
              "      <td>0</td>\n",
              "      <td>0</td>\n",
              "      <td>0</td>\n",
              "      <td>1</td>\n",
              "      <td>0</td>\n",
              "      <td>0</td>\n",
              "      <td>0</td>\n",
              "      <td>0</td>\n",
              "      <td>0</td>\n",
              "      <td>1</td>\n",
              "      <td>0</td>\n",
              "      <td>0</td>\n",
              "      <td>0</td>\n",
              "    </tr>\n",
              "    <tr>\n",
              "      <th>103702</th>\n",
              "      <td>-1.241574</td>\n",
              "      <td>-0.442779</td>\n",
              "      <td>0.035161</td>\n",
              "      <td>-0.569944</td>\n",
              "      <td>0.122758</td>\n",
              "      <td>0.408654</td>\n",
              "      <td>-0.574644</td>\n",
              "      <td>-0.815771</td>\n",
              "      <td>-0.889049</td>\n",
              "      <td>1</td>\n",
              "      <td>-0.560946</td>\n",
              "      <td>0.715886</td>\n",
              "      <td>0.115846</td>\n",
              "      <td>0</td>\n",
              "      <td>0</td>\n",
              "      <td>1</td>\n",
              "      <td>0</td>\n",
              "      <td>0</td>\n",
              "      <td>0</td>\n",
              "      <td>0</td>\n",
              "      <td>0</td>\n",
              "      <td>1</td>\n",
              "      <td>0</td>\n",
              "      <td>0</td>\n",
              "      <td>0</td>\n",
              "      <td>0</td>\n",
              "    </tr>\n",
              "    <tr>\n",
              "      <th>181640</th>\n",
              "      <td>0.119743</td>\n",
              "      <td>-0.781047</td>\n",
              "      <td>0.546286</td>\n",
              "      <td>-0.617250</td>\n",
              "      <td>1.010486</td>\n",
              "      <td>0.422822</td>\n",
              "      <td>-1.069321</td>\n",
              "      <td>0.955474</td>\n",
              "      <td>-0.691259</td>\n",
              "      <td>0</td>\n",
              "      <td>-0.045002</td>\n",
              "      <td>-0.363797</td>\n",
              "      <td>-0.232715</td>\n",
              "      <td>0</td>\n",
              "      <td>0</td>\n",
              "      <td>1</td>\n",
              "      <td>0</td>\n",
              "      <td>0</td>\n",
              "      <td>0</td>\n",
              "      <td>0</td>\n",
              "      <td>0</td>\n",
              "      <td>1</td>\n",
              "      <td>0</td>\n",
              "      <td>0</td>\n",
              "      <td>0</td>\n",
              "      <td>0</td>\n",
              "    </tr>\n",
              "    <tr>\n",
              "      <th>239034</th>\n",
              "      <td>-1.680987</td>\n",
              "      <td>-0.442779</td>\n",
              "      <td>0.866035</td>\n",
              "      <td>1.227712</td>\n",
              "      <td>-0.347215</td>\n",
              "      <td>-0.849061</td>\n",
              "      <td>-0.002674</td>\n",
              "      <td>0.005050</td>\n",
              "      <td>0.352625</td>\n",
              "      <td>0</td>\n",
              "      <td>0.070467</td>\n",
              "      <td>-0.363797</td>\n",
              "      <td>-0.232715</td>\n",
              "      <td>1</td>\n",
              "      <td>0</td>\n",
              "      <td>0</td>\n",
              "      <td>0</td>\n",
              "      <td>0</td>\n",
              "      <td>0</td>\n",
              "      <td>0</td>\n",
              "      <td>0</td>\n",
              "      <td>1</td>\n",
              "      <td>0</td>\n",
              "      <td>0</td>\n",
              "      <td>0</td>\n",
              "      <td>0</td>\n",
              "    </tr>\n",
              "    <tr>\n",
              "      <th>...</th>\n",
              "      <td>...</td>\n",
              "      <td>...</td>\n",
              "      <td>...</td>\n",
              "      <td>...</td>\n",
              "      <td>...</td>\n",
              "      <td>...</td>\n",
              "      <td>...</td>\n",
              "      <td>...</td>\n",
              "      <td>...</td>\n",
              "      <td>...</td>\n",
              "      <td>...</td>\n",
              "      <td>...</td>\n",
              "      <td>...</td>\n",
              "      <td>...</td>\n",
              "      <td>...</td>\n",
              "      <td>...</td>\n",
              "      <td>...</td>\n",
              "      <td>...</td>\n",
              "      <td>...</td>\n",
              "      <td>...</td>\n",
              "      <td>...</td>\n",
              "      <td>...</td>\n",
              "      <td>...</td>\n",
              "      <td>...</td>\n",
              "      <td>...</td>\n",
              "      <td>...</td>\n",
              "    </tr>\n",
              "    <tr>\n",
              "      <th>2031</th>\n",
              "      <td>-1.643651</td>\n",
              "      <td>-0.713393</td>\n",
              "      <td>0.704134</td>\n",
              "      <td>0.518111</td>\n",
              "      <td>-1.443819</td>\n",
              "      <td>0.709636</td>\n",
              "      <td>1.063973</td>\n",
              "      <td>0.955474</td>\n",
              "      <td>-0.009363</td>\n",
              "      <td>0</td>\n",
              "      <td>0.429628</td>\n",
              "      <td>-0.363797</td>\n",
              "      <td>-0.232715</td>\n",
              "      <td>0</td>\n",
              "      <td>0</td>\n",
              "      <td>1</td>\n",
              "      <td>0</td>\n",
              "      <td>0</td>\n",
              "      <td>0</td>\n",
              "      <td>0</td>\n",
              "      <td>0</td>\n",
              "      <td>0</td>\n",
              "      <td>1</td>\n",
              "      <td>0</td>\n",
              "      <td>0</td>\n",
              "      <td>0</td>\n",
              "    </tr>\n",
              "    <tr>\n",
              "      <th>9307</th>\n",
              "      <td>-1.413893</td>\n",
              "      <td>-0.307472</td>\n",
              "      <td>0.888067</td>\n",
              "      <td>-0.901091</td>\n",
              "      <td>1.114924</td>\n",
              "      <td>-0.055526</td>\n",
              "      <td>1.404064</td>\n",
              "      <td>-1.506989</td>\n",
              "      <td>2.084929</td>\n",
              "      <td>0</td>\n",
              "      <td>0.634277</td>\n",
              "      <td>-0.363797</td>\n",
              "      <td>-0.232715</td>\n",
              "      <td>0</td>\n",
              "      <td>0</td>\n",
              "      <td>0</td>\n",
              "      <td>0</td>\n",
              "      <td>0</td>\n",
              "      <td>0</td>\n",
              "      <td>1</td>\n",
              "      <td>0</td>\n",
              "      <td>1</td>\n",
              "      <td>0</td>\n",
              "      <td>0</td>\n",
              "      <td>0</td>\n",
              "      <td>0</td>\n",
              "    </tr>\n",
              "    <tr>\n",
              "      <th>153896</th>\n",
              "      <td>-0.397213</td>\n",
              "      <td>-0.713393</td>\n",
              "      <td>1.424759</td>\n",
              "      <td>-1.011473</td>\n",
              "      <td>1.741556</td>\n",
              "      <td>0.042740</td>\n",
              "      <td>-1.069321</td>\n",
              "      <td>0.955474</td>\n",
              "      <td>-1.082827</td>\n",
              "      <td>0</td>\n",
              "      <td>-0.552948</td>\n",
              "      <td>-0.363797</td>\n",
              "      <td>-0.232715</td>\n",
              "      <td>0</td>\n",
              "      <td>0</td>\n",
              "      <td>0</td>\n",
              "      <td>0</td>\n",
              "      <td>0</td>\n",
              "      <td>0</td>\n",
              "      <td>1</td>\n",
              "      <td>0</td>\n",
              "      <td>1</td>\n",
              "      <td>0</td>\n",
              "      <td>0</td>\n",
              "      <td>0</td>\n",
              "      <td>0</td>\n",
              "    </tr>\n",
              "    <tr>\n",
              "      <th>49353</th>\n",
              "      <td>-1.092232</td>\n",
              "      <td>-0.713393</td>\n",
              "      <td>-0.706780</td>\n",
              "      <td>0.518111</td>\n",
              "      <td>1.376021</td>\n",
              "      <td>0.682327</td>\n",
              "      <td>1.063973</td>\n",
              "      <td>0.955474</td>\n",
              "      <td>-0.559659</td>\n",
              "      <td>0</td>\n",
              "      <td>-0.074076</td>\n",
              "      <td>-0.363797</td>\n",
              "      <td>-0.232715</td>\n",
              "      <td>0</td>\n",
              "      <td>0</td>\n",
              "      <td>1</td>\n",
              "      <td>0</td>\n",
              "      <td>0</td>\n",
              "      <td>0</td>\n",
              "      <td>0</td>\n",
              "      <td>0</td>\n",
              "      <td>1</td>\n",
              "      <td>0</td>\n",
              "      <td>0</td>\n",
              "      <td>0</td>\n",
              "      <td>0</td>\n",
              "    </tr>\n",
              "    <tr>\n",
              "      <th>75161</th>\n",
              "      <td>-0.626971</td>\n",
              "      <td>1.519174</td>\n",
              "      <td>0.907301</td>\n",
              "      <td>-0.680326</td>\n",
              "      <td>1.637117</td>\n",
              "      <td>0.485156</td>\n",
              "      <td>1.481357</td>\n",
              "      <td>-1.550190</td>\n",
              "      <td>1.999634</td>\n",
              "      <td>0</td>\n",
              "      <td>-0.389870</td>\n",
              "      <td>-0.363797</td>\n",
              "      <td>-0.232715</td>\n",
              "      <td>0</td>\n",
              "      <td>0</td>\n",
              "      <td>0</td>\n",
              "      <td>0</td>\n",
              "      <td>0</td>\n",
              "      <td>0</td>\n",
              "      <td>1</td>\n",
              "      <td>0</td>\n",
              "      <td>1</td>\n",
              "      <td>0</td>\n",
              "      <td>0</td>\n",
              "      <td>0</td>\n",
              "      <td>0</td>\n",
              "    </tr>\n",
              "  </tbody>\n",
              "</table>\n",
              "<p>238046 rows × 26 columns</p>\n",
              "</div>"
            ],
            "text/plain": [
              "        gameSeconds  timeFromLastEvent  shotAngle  ...  Period_4  Period_5  Period_6\n",
              "192948    -0.583891          -0.848700   0.413023  ...         0         0         0\n",
              "127034     1.386286           1.045599  -0.872871  ...         0         0         0\n",
              "103702    -1.241574          -0.442779   0.035161  ...         0         0         0\n",
              "181640     0.119743          -0.781047   0.546286  ...         0         0         0\n",
              "239034    -1.680987          -0.442779   0.866035  ...         0         0         0\n",
              "...             ...                ...        ...  ...       ...       ...       ...\n",
              "2031      -1.643651          -0.713393   0.704134  ...         0         0         0\n",
              "9307      -1.413893          -0.307472   0.888067  ...         0         0         0\n",
              "153896    -0.397213          -0.713393   1.424759  ...         0         0         0\n",
              "49353     -1.092232          -0.713393  -0.706780  ...         0         0         0\n",
              "75161     -0.626971           1.519174   0.907301  ...         0         0         0\n",
              "\n",
              "[238046 rows x 26 columns]"
            ]
          },
          "metadata": {},
          "execution_count": 113
        }
      ]
    },
    {
      "cell_type": "markdown",
      "metadata": {
        "id": "UQVVMq0iJmIs"
      },
      "source": [
        "# Try Random Forest"
      ],
      "id": "UQVVMq0iJmIs"
    },
    {
      "cell_type": "code",
      "metadata": {
        "id": "QMS2ZkPeI3do"
      },
      "source": [
        "from sklearn.ensemble import RandomForestClassifier\n",
        "from sklearn.experimental import enable_halving_search_cv\n",
        "from sklearn.model_selection import HalvingGridSearchCV\n",
        "\n",
        "# Create the parameter grid based on the results of random search \n",
        "param_grid = {\n",
        "    'n_estimators':[50,65,80,100,115,130,150],\n",
        "     'max_depth': [5,6,7,8,9,10,11,12,13,14]\n",
        "}\n",
        "\n",
        "rf = RandomForestClassifier(criterion='entropy')\n",
        "sh = HalvingGridSearchCV(rf,param_grid, cv=4)\n",
        "model = sh.fit(X_train,y_train)"
      ],
      "id": "QMS2ZkPeI3do",
      "execution_count": null,
      "outputs": []
    },
    {
      "cell_type": "code",
      "metadata": {
        "id": "iLSfbahVakWy"
      },
      "source": [
        "model.best_estimator_"
      ],
      "id": "iLSfbahVakWy",
      "execution_count": null,
      "outputs": []
    },
    {
      "cell_type": "code",
      "metadata": {
        "id": "nuPU-E-uhptX"
      },
      "source": [
        "y_pred_valid  = model.predict(X_valid)"
      ],
      "id": "nuPU-E-uhptX",
      "execution_count": null,
      "outputs": []
    },
    {
      "cell_type": "code",
      "metadata": {
        "id": "mPzwKTEhiIPa"
      },
      "source": [
        "y_proba_val = model.predict_proba(X_valid)[:,1] # get the proba of having a goal (pred=1)"
      ],
      "id": "mPzwKTEhiIPa",
      "execution_count": null,
      "outputs": []
    },
    {
      "cell_type": "code",
      "metadata": {
        "id": "--dZClQLiM63"
      },
      "source": [
        "score_ = model.score(X_valid,y_valid)\n",
        "score_"
      ],
      "id": "--dZClQLiM63",
      "execution_count": null,
      "outputs": []
    },
    {
      "cell_type": "markdown",
      "metadata": {
        "id": "sVw66t1QhYSZ"
      },
      "source": [
        "# Export model on comet before plotting"
      ],
      "id": "sVw66t1QhYSZ"
    },
    {
      "cell_type": "code",
      "metadata": {
        "id": "IN7rF_wui8LW"
      },
      "source": [
        "weights_dir = \"../ift6758/models/weights\"\n",
        "experiment = \"Random-forest-with-FE2\"\n",
        "predscore_val_dict={}"
      ],
      "id": "IN7rF_wui8LW",
      "execution_count": null,
      "outputs": []
    },
    {
      "cell_type": "code",
      "metadata": {
        "id": "LDQS_iZvkPTH"
      },
      "source": [
        "!ls .."
      ],
      "id": "LDQS_iZvkPTH",
      "execution_count": null,
      "outputs": []
    },
    {
      "cell_type": "code",
      "metadata": {
        "id": "0VV3-XKcgDVq"
      },
      "source": [
        "import joblib\n",
        "\n",
        "predscore_val_dict[experiment]={}\n",
        "predscore_val_dict[experiment]['true_valid_label']=y_valid\n",
        "predscore_val_dict[experiment]['proba']=y_proba_val\n",
        "predscore_val_dict[experiment]['prediction']=y_pred_valid\n",
        "\n",
        "## Dumping model\n",
        "filename=f\"{weights_dir}/{experiment}.pkl\"\n",
        "joblib.dump(model,filename)"
      ],
      "id": "0VV3-XKcgDVq",
      "execution_count": null,
      "outputs": []
    },
    {
      "cell_type": "code",
      "metadata": {
        "id": "2jcopP6hg6ns",
        "colab": {
          "base_uri": "https://localhost:8080/"
        },
        "outputId": "f1a8e9a2-2787-431d-b7ad-4637da5594bf"
      },
      "source": [
        "exp.log_model(\"Random Forest\", \"../ift6758/models/weights/Random-forest-with-FE2.pkl\")"
      ],
      "id": "2jcopP6hg6ns",
      "execution_count": null,
      "outputs": [
        {
          "output_type": "execute_result",
          "data": {
            "text/plain": [
              "{'api': 'https://www.comet.ml/api/rest/v2/experiment/asset/get-asset?assetId=c67d522e79cd4e61a3ead5de12207be8&experimentKey=61ab29d2969f46b3b444cf6aef7b24e6',\n",
              " 'assetId': 'c67d522e79cd4e61a3ead5de12207be8',\n",
              " 'web': 'https://www.comet.ml/api/asset/download?assetId=c67d522e79cd4e61a3ead5de12207be8&experimentKey=61ab29d2969f46b3b444cf6aef7b24e6'}"
            ]
          },
          "metadata": {},
          "execution_count": 150
        }
      ]
    },
    {
      "cell_type": "code",
      "metadata": {
        "id": "bcLokxdtlZuu",
        "colab": {
          "base_uri": "https://localhost:8080/"
        },
        "outputId": "ac3cb1c8-359d-4819-add3-2b3eeefbf9e5"
      },
      "source": [
        "exp.end()"
      ],
      "id": "bcLokxdtlZuu",
      "execution_count": null,
      "outputs": [
        {
          "output_type": "stream",
          "name": "stderr",
          "text": [
            "COMET INFO: ---------------------------\n",
            "COMET INFO: Comet.ml Experiment Summary\n",
            "COMET INFO: ---------------------------\n",
            "COMET INFO:   Data:\n",
            "COMET INFO:     display_summary_level : 1\n",
            "COMET INFO:     url                   : https://www.comet.ml/morph-e/milestone-2/61ab29d2969f46b3b444cf6aef7b24e6\n",
            "COMET INFO:   Others:\n",
            "COMET INFO:     notebook_url : https://colab.research.google.com/notebook#fileId=https%3A%2F%2Fgithub.com%2FM0rph3e%2Fift6758-project-main%2Fblob%2Fbest_shot_trial%2Fnotebooks%2Ftry_your_best_shot.ipynb\n",
            "COMET INFO:   Uploads:\n",
            "COMET INFO:     environment details : 1\n",
            "COMET INFO:     filename            : 1\n",
            "COMET INFO:     git metadata        : 1\n",
            "COMET INFO:     installed packages  : 1\n",
            "COMET INFO:     model-element       : 1 (9.11 MB)\n",
            "COMET INFO:     notebook            : 1\n",
            "COMET INFO:     os packages         : 1\n",
            "COMET INFO:     source_code         : 1\n",
            "COMET INFO: ---------------------------\n",
            "COMET INFO: Uploading 1 metrics, params and output messages\n"
          ]
        }
      ]
    },
    {
      "cell_type": "markdown",
      "metadata": {
        "id": "QTmWpIfSCrou"
      },
      "source": [
        "# Plotting"
      ],
      "id": "QTmWpIfSCrou"
    },
    {
      "cell_type": "code",
      "metadata": {
        "id": "BKMlJxoel-qB",
        "colab": {
          "base_uri": "https://localhost:8080/"
        },
        "outputId": "64e11cfb-7eba-4f71-ed41-f2b8f54fe8d1"
      },
      "source": [
        "# First we will switch branch, the plotting metrics are on main\n",
        "!git checkout main"
      ],
      "id": "BKMlJxoel-qB",
      "execution_count": null,
      "outputs": [
        {
          "output_type": "stream",
          "name": "stdout",
          "text": [
            "Switched to branch 'main'\n",
            "Your branch is up to date with 'origin/main'.\n"
          ]
        }
      ]
    },
    {
      "cell_type": "code",
      "metadata": {
        "id": "cbMBlsX2MTWy",
        "colab": {
          "base_uri": "https://localhost:8080/"
        },
        "outputId": "cfe44516-ad67-42bc-e511-1a7bb142cac3"
      },
      "source": [
        "!git branch"
      ],
      "id": "cbMBlsX2MTWy",
      "execution_count": null,
      "outputs": [
        {
          "output_type": "stream",
          "name": "stdout",
          "text": [
            "  best_shot_trial\u001b[m\n",
            "  fengineering2\u001b[m\n",
            "* \u001b[32mmain\u001b[m\n"
          ]
        }
      ]
    },
    {
      "cell_type": "code",
      "metadata": {
        "id": "A8QwOHn-DFME",
        "colab": {
          "base_uri": "https://localhost:8080/"
        },
        "outputId": "7531c515-1575-4dc8-b9dd-74d6f695af57"
      },
      "source": [
        "!git pull"
      ],
      "id": "A8QwOHn-DFME",
      "execution_count": null,
      "outputs": [
        {
          "output_type": "stream",
          "name": "stdout",
          "text": [
            "Already up to date.\n"
          ]
        }
      ]
    },
    {
      "cell_type": "code",
      "metadata": {
        "id": "R8HElJkGDHr0",
        "colab": {
          "base_uri": "https://localhost:8080/",
          "height": 541
        },
        "outputId": "8e2f263a-5940-4b54-b15e-fe043cce47c1"
      },
      "source": [
        "from ift6758.metrics import plot_metrics\n",
        "\n",
        "plot_metrics.plotConfusion(y_valid,y_pred_valid, title='Confusion matrix for Random Forest validation set prediction')"
      ],
      "id": "R8HElJkGDHr0",
      "execution_count": null,
      "outputs": [
        {
          "output_type": "stream",
          "name": "stdout",
          "text": [
            "              precision    recall  f1-score   support\n",
            "\n",
            "           0       0.91      1.00      0.95    216808\n",
            "           1       1.00      0.03      0.06     21238\n",
            "\n",
            "    accuracy                           0.91    238046\n",
            "   macro avg       0.96      0.52      0.51    238046\n",
            "weighted avg       0.92      0.91      0.88    238046\n",
            "\n"
          ]
        },
        {
          "output_type": "display_data",
          "data": {
            "image/png": "[encoded data removed]",
            "text/plain": [
              "<Figure size 720x360 with 2 Axes>"
            ]
          },
          "metadata": {
            "needs_background": "light"
          }
        }
      ]
    },
    {
      "cell_type": "code",
      "metadata": {
        "id": "HHTlw5E8EFn-",
        "colab": {
          "base_uri": "https://localhost:8080/",
          "height": 295
        },
        "outputId": "ebafcd67-7027-4111-e9a6-60624ee626c9"
      },
      "source": [
        "plot_metrics.plot_roc([y_valid],[y_proba_val],[\"Valid set for Rand Forest\"])"
      ],
      "id": "HHTlw5E8EFn-",
      "execution_count": null,
      "outputs": [
        {
          "output_type": "display_data",
          "data": {
            "image/png": "[encoded data removed]",
            "text/plain": [
              "<Figure size 432x288 with 1 Axes>"
            ]
          },
          "metadata": {
            "needs_background": "light"
          }
        }
      ]
    },
    {
      "cell_type": "code",
      "metadata": {
        "id": "Xqq78vIoM_Tz",
        "colab": {
          "base_uri": "https://localhost:8080/",
          "height": 486
        },
        "outputId": "45661c77-84cd-462d-e038-f9a7c6c2ba57"
      },
      "source": [
        "plot_metrics.plot_percentile([y_valid],[y_proba_val],bin_width=5,plot_labels=[\"Valid set for Rand Forest\"])"
      ],
      "id": "Xqq78vIoM_Tz",
      "execution_count": null,
      "outputs": [
        {
          "output_type": "display_data",
          "data": {
            "image/png": "[encoded data removed]",
            "text/plain": [
              "<Figure size 1080x540 with 2 Axes>"
            ]
          },
          "metadata": {
            "needs_background": "light"
          }
        }
      ]
    },
    {
      "cell_type": "code",
      "metadata": {
        "id": "nXqLoooItwiz",
        "colab": {
          "base_uri": "https://localhost:8080/",
          "height": 486
        },
        "outputId": "ecc530af-915c-4191-bdea-f9cbb6bfd1a1"
      },
      "source": [
        "plot_metrics.plot_calibration([y_valid],[y_proba_val],plot_labels=[\"Valid set for Rand Forest\"])"
      ],
      "id": "nXqLoooItwiz",
      "execution_count": null,
      "outputs": [
        {
          "output_type": "display_data",
          "data": {
            "image/png": "[encoded data removed]",
            "text/plain": [
              "<Figure size 540x540 with 1 Axes>"
            ]
          },
          "metadata": {
            "needs_background": "light"
          }
        }
      ]
    },
    {
      "cell_type": "code",
      "metadata": {
        "id": "xw4nj7GAuImf"
      },
      "source": [
        ""
      ],
      "id": "xw4nj7GAuImf",
      "execution_count": null,
      "outputs": []
    }
  ]
}