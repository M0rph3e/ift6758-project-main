{
 "cells": [
  {
   "cell_type": "markdown",
   "id": "f4aa00a7-1743-4475-8e7b-07f75b386a29",
   "metadata": {},
   "source": [
    "## Here we will try our best shot to predict the goals with our features"
   ]
  },
  {
   "cell_type": "code",
   "execution_count": null,
   "id": "0e26965d-f064-484c-91f3-aa96de787ab4",
   "metadata": {},
   "outputs": [],
   "source": []
  }
 ],
 "metadata": {
  "kernelspec": {
   "display_name": "ift6758-conda-env",
   "language": "python",
   "name": "ift6758-conda-env"
  },
  "language_info": {
   "codemirror_mode": {
    "name": "ipython",
    "version": 3
   },
   "file_extension": ".py",
   "mimetype": "text/x-python",
   "name": "python",
   "nbconvert_exporter": "python",
   "pygments_lexer": "ipython3",
   "version": "3.9.7"
  }
 },
 "nbformat": 4,
 "nbformat_minor": 5
}
