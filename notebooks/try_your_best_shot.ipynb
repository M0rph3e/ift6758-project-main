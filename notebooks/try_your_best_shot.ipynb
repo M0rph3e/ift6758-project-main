{
  "nbformat": 4,
  "nbformat_minor": 5,
  "metadata": {
    "kernelspec": {
      "name": "python3",
      "display_name": "Python 3"
    },
    "colab": {
      "name": "try_your_best_shot.ipynb",
      "provenance": []
    },
    "language_info": {
      "name": "python"
    }
  },
  "cells": [
    {
      "cell_type": "markdown",
      "metadata": {
        "id": "f4aa00a7-1743-4475-8e7b-07f75b386a29"
      },
      "source": [
        "## Here we will try our best shot to predict the goals with our features"
      ],
      "id": "f4aa00a7-1743-4475-8e7b-07f75b386a29"
    },
    {
      "cell_type": "code",
      "metadata": {
        "id": "0e26965d-f064-484c-91f3-aa96de787ab4",
        "colab": {
          "base_uri": "https://localhost:8080/"
        },
        "outputId": "ef2fe5b5-bd04-44ff-a264-44903f1bcda3"
      },
      "source": [
        "from google.colab import drive\n",
        "drive.mount('/content/gdrive')"
      ],
      "id": "0e26965d-f064-484c-91f3-aa96de787ab4",
      "execution_count": 1,
      "outputs": [
        {
          "output_type": "stream",
          "name": "stdout",
          "text": [
            "Mounted at /content/gdrive\n"
          ]
        }
      ]
    },
    {
      "cell_type": "code",
      "metadata": {
        "id": "MrfE_fXB9r7z",
        "colab": {
          "base_uri": "https://localhost:8080/"
        },
        "outputId": "25cb9168-840e-4414-b8fb-75928cd7ccc2"
      },
      "source": [
        "%cd /content/gdrive/MyDrive/Master_UdeM/IFT-6758/Project/ift6758-project-main"
      ],
      "id": "MrfE_fXB9r7z",
      "execution_count": 2,
      "outputs": [
        {
          "output_type": "stream",
          "name": "stdout",
          "text": [
            "/content/gdrive/MyDrive/Master_UdeM/IFT-6758/Project/ift6758-project-main\n"
          ]
        }
      ]
    },
    {
      "cell_type": "code",
      "metadata": {
        "id": "celXeSWR9zXi",
        "colab": {
          "base_uri": "https://localhost:8080/"
        },
        "outputId": "204adcfc-6d4b-4f9e-f928-af282287f4b7"
      },
      "source": [
        "#!git clone https://GIT_TOKEN@github.com/M0rph3e/ift6758-project-main.git #not anymore\n",
        "! git pull"
      ],
      "id": "celXeSWR9zXi",
      "execution_count": 3,
      "outputs": [
        {
          "output_type": "stream",
          "name": "stdout",
          "text": [
            "Already up to date.\n"
          ]
        }
      ]
    },
    {
      "cell_type": "code",
      "metadata": {
        "id": "lGWPuWN7-Rbo",
        "colab": {
          "base_uri": "https://localhost:8080/"
        },
        "outputId": "617fd665-e05b-4a12-b3a8-9231044e5b26"
      },
      "source": [
        "!git status"
      ],
      "id": "lGWPuWN7-Rbo",
      "execution_count": 12,
      "outputs": [
        {
          "output_type": "stream",
          "name": "stdout",
          "text": [
            "On branch fengineering2\n",
            "Your branch is up to date with 'origin/fengineering2'.\n",
            "\n",
            "nothing to commit, working tree clean\n"
          ]
        }
      ]
    },
    {
      "cell_type": "code",
      "metadata": {
        "id": "5wFBMu2YAjam",
        "colab": {
          "base_uri": "https://localhost:8080/"
        },
        "outputId": "c6e0a707-93ea-4995-839b-6b93bdd183ef"
      },
      "source": [
        "!pip install comet_ml pandas_profiling"
      ],
      "id": "5wFBMu2YAjam",
      "execution_count": 54,
      "outputs": [
        {
          "output_type": "stream",
          "name": "stdout",
          "text": [
            "Requirement already satisfied: comet_ml in /usr/local/lib/python3.7/dist-packages (3.22.1)\n",
            "Requirement already satisfied: pandas_profiling in /usr/local/lib/python3.7/dist-packages (1.4.1)\n",
            "Requirement already satisfied: nvidia-ml-py3>=7.352.0 in /usr/local/lib/python3.7/dist-packages (from comet_ml) (7.352.0)\n",
            "Requirement already satisfied: everett[ini]>=1.0.1 in /usr/local/lib/python3.7/dist-packages (from comet_ml) (2.0.1)\n",
            "Requirement already satisfied: wrapt>=1.11.2 in /usr/local/lib/python3.7/dist-packages (from comet_ml) (1.13.3)\n",
            "Requirement already satisfied: semantic-version>=2.8.0 in /usr/local/lib/python3.7/dist-packages (from comet_ml) (2.8.5)\n",
            "Requirement already satisfied: requests>=2.18.4 in /usr/local/lib/python3.7/dist-packages (from comet_ml) (2.23.0)\n",
            "Requirement already satisfied: websocket-client>=0.55.0 in /usr/local/lib/python3.7/dist-packages (from comet_ml) (1.2.1)\n",
            "Requirement already satisfied: requests-toolbelt>=0.8.0 in /usr/local/lib/python3.7/dist-packages (from comet_ml) (0.9.1)\n",
            "Requirement already satisfied: wurlitzer>=1.0.2 in /usr/local/lib/python3.7/dist-packages (from comet_ml) (3.0.2)\n",
            "Requirement already satisfied: dulwich>=0.20.6 in /usr/local/lib/python3.7/dist-packages (from comet_ml) (0.20.26)\n",
            "Requirement already satisfied: six in /usr/local/lib/python3.7/dist-packages (from comet_ml) (1.15.0)\n",
            "Requirement already satisfied: jsonschema!=3.1.0,>=2.6.0 in /usr/local/lib/python3.7/dist-packages (from comet_ml) (2.6.0)\n",
            "Requirement already satisfied: certifi in /usr/local/lib/python3.7/dist-packages (from dulwich>=0.20.6->comet_ml) (2021.10.8)\n",
            "Requirement already satisfied: urllib3>=1.24.1 in /usr/local/lib/python3.7/dist-packages (from dulwich>=0.20.6->comet_ml) (1.24.3)\n",
            "Requirement already satisfied: configobj in /usr/local/lib/python3.7/dist-packages (from everett[ini]>=1.0.1->comet_ml) (5.0.6)\n",
            "Requirement already satisfied: chardet<4,>=3.0.2 in /usr/local/lib/python3.7/dist-packages (from requests>=2.18.4->comet_ml) (3.0.4)\n",
            "Requirement already satisfied: idna<3,>=2.5 in /usr/local/lib/python3.7/dist-packages (from requests>=2.18.4->comet_ml) (2.10)\n",
            "Requirement already satisfied: matplotlib>=1.4 in /usr/local/lib/python3.7/dist-packages (from pandas_profiling) (3.2.2)\n",
            "Requirement already satisfied: pandas>=0.19 in /usr/local/lib/python3.7/dist-packages (from pandas_profiling) (1.1.5)\n",
            "Requirement already satisfied: jinja2>=2.8 in /usr/local/lib/python3.7/dist-packages (from pandas_profiling) (2.11.3)\n",
            "Requirement already satisfied: MarkupSafe>=0.23 in /usr/local/lib/python3.7/dist-packages (from jinja2>=2.8->pandas_profiling) (2.0.1)\n",
            "Requirement already satisfied: pyparsing!=2.0.4,!=2.1.2,!=2.1.6,>=2.0.1 in /usr/local/lib/python3.7/dist-packages (from matplotlib>=1.4->pandas_profiling) (3.0.6)\n",
            "Requirement already satisfied: kiwisolver>=1.0.1 in /usr/local/lib/python3.7/dist-packages (from matplotlib>=1.4->pandas_profiling) (1.3.2)\n",
            "Requirement already satisfied: cycler>=0.10 in /usr/local/lib/python3.7/dist-packages (from matplotlib>=1.4->pandas_profiling) (0.11.0)\n",
            "Requirement already satisfied: python-dateutil>=2.1 in /usr/local/lib/python3.7/dist-packages (from matplotlib>=1.4->pandas_profiling) (2.8.2)\n",
            "Requirement already satisfied: numpy>=1.11 in /usr/local/lib/python3.7/dist-packages (from matplotlib>=1.4->pandas_profiling) (1.19.5)\n",
            "Requirement already satisfied: pytz>=2017.2 in /usr/local/lib/python3.7/dist-packages (from pandas>=0.19->pandas_profiling) (2018.9)\n"
          ]
        }
      ]
    },
    {
      "cell_type": "code",
      "metadata": {
        "id": "zqiioowlaDXX",
        "colab": {
          "base_uri": "https://localhost:8080/"
        },
        "outputId": "54189067-c329-4f9b-ad50-9b52bf906a8a"
      },
      "source": [
        "! git branch"
      ],
      "id": "zqiioowlaDXX",
      "execution_count": 13,
      "outputs": [
        {
          "output_type": "stream",
          "name": "stdout",
          "text": [
            "  best_shot_trial\u001b[m\n",
            "* \u001b[32mfengineering2\u001b[m\n",
            "  main\u001b[m\n"
          ]
        }
      ]
    },
    {
      "cell_type": "markdown",
      "metadata": {
        "id": "TB9EOTRM-330"
      },
      "source": [
        "# Real **shµt** starts from here"
      ],
      "id": "TB9EOTRM-330"
    },
    {
      "cell_type": "code",
      "metadata": {
        "id": "GbIIYHFg-elV"
      },
      "source": [
        "from ift6758.features.feature_engineering2 import SeasonDataSetTwo\n",
        "from ift6758.data.data_acquisition import Season\n",
        "from ift6758.visualizations.simple_visualization import Utilities \n",
        "import matplotlib.pyplot as plt\n",
        "import numpy as np\n",
        "import seaborn as sns\n",
        "import os\n",
        "import random\n",
        "import pandas as pd\n",
        "import pickle\n",
        "import sys\n",
        "import json\n",
        "\n",
        "import warnings\n",
        "warnings.filterwarnings(\"ignore\")"
      ],
      "id": "GbIIYHFg-elV",
      "execution_count": 14,
      "outputs": []
    },
    {
      "cell_type": "code",
      "metadata": {
        "id": "BHb91bE6_ODa",
        "colab": {
          "base_uri": "https://localhost:8080/"
        },
        "outputId": "cc64162b-ad76-4554-f300-0745ee7b0205"
      },
      "source": [
        "train_years = [2015,2016,2017]\n",
        "valid_years = [2018]\n",
        "test_years=[2019]\n",
        "\n",
        "\n",
        "train_dataset = SeasonDataSetTwo(train_years)\n",
        "valid_dataset = SeasonDataSetTwo(valid_years)\n",
        "train_df = train_dataset.get_features_2()\n",
        "valid_df = train_dataset.get_features_2()"
      ],
      "id": "BHb91bE6_ODa",
      "execution_count": null,
      "outputs": [
        {
          "output_type": "stream",
          "name": "stderr",
          "text": [
            "100%|██████████| 1299/1299 [09:07<00:00,  2.37it/s]\n",
            "100%|██████████| 1299/1299 [07:51<00:00,  2.75it/s]\n"
          ]
        },
        {
          "output_type": "stream",
          "name": "stdout",
          "text": [
            "Len of games_list in 2015 is 1325\n",
            "Saved new pickle with all events in ../ift6758/data/PICKLE//2015_clean_all_events.pkl\n",
            "File already Exists, loading from ../ift6758/data/PICKLE//2015.pkl\n",
            "Len of games_list in 2015 is 1325\n"
          ]
        },
        {
          "output_type": "stream",
          "name": "stderr",
          "text": [
            "100%|██████████| 1299/1299 [09:13<00:00,  2.35it/s]\n",
            "100%|██████████| 1299/1299 [07:49<00:00,  2.77it/s]\n"
          ]
        },
        {
          "output_type": "stream",
          "name": "stdout",
          "text": [
            "Len of games_list in 2016 is 1332\n"
          ]
        }
      ]
    },
    {
      "cell_type": "code",
      "metadata": {
        "id": "utYXLTyoGCDF",
        "colab": {
          "base_uri": "https://localhost:8080/"
        },
        "outputId": "1f95f1b9-5ada-469b-9003-6967988431cf"
      },
      "source": [
        "test_data = SeasonDataSet(test_years)\n",
        "test_df = test_data.get_tidy_data()"
      ],
      "id": "utYXLTyoGCDF",
      "execution_count": null,
      "outputs": [
        {
          "output_type": "stream",
          "name": "stdout",
          "text": [
            "File already Exists, loading from ../ift6758/data/PICKLE//2019_clean.pkl\n",
            "File already Exists, loading from ../ift6758/data/PICKLE//2019_period_info.pkl\n"
          ]
        }
      ]
    },
    {
      "cell_type": "markdown",
      "metadata": {
        "id": "0kj5OTviDnFF"
      },
      "source": [
        "# Export the data csv to comet (do not execute for now)"
      ],
      "id": "0kj5OTviDnFF"
    },
    {
      "cell_type": "code",
      "metadata": {
        "id": "OvTG9lsL_Tb_",
        "colab": {
          "base_uri": "https://localhost:8080/"
        },
        "outputId": "4bc18f1b-eac6-4e61-e2b1-777d9cda7d7a"
      },
      "source": [
        "from comet_ml import Experiment\n",
        "import os\n",
        "\n",
        "\n",
        "\n",
        "experiment = Experiment(\n",
        "    api_key=os.environ.get('COMET_API_KEY'),\n",
        "    project_name='milestone-2',\n",
        "    workspace='morph-e',\n",
        ")\n",
        "\n",
        "experiment.log_dataframe_profile(\n",
        "train_df, \n",
        "name='train_set_from_FE1',  # keep this name\n",
        "dataframe_format='csv'  # ensure you set this flag!\n",
        ")\n",
        "\n",
        "experiment.log_dataframe_profile(\n",
        "test_df, \n",
        "name='test_set_from_FE1',  # keep this name\n",
        "dataframe_format='csv'  # ensure you set this flag!\n",
        ")\n",
        "\n"
      ],
      "id": "OvTG9lsL_Tb_",
      "execution_count": null,
      "outputs": [
        {
          "output_type": "stream",
          "name": "stderr",
          "text": [
            "COMET INFO: ---------------------------\n",
            "COMET INFO: Comet.ml Experiment Summary\n",
            "COMET INFO: ---------------------------\n",
            "COMET INFO:   Data:\n",
            "COMET INFO:     display_summary_level : 1\n",
            "COMET INFO:     url                   : https://www.comet.ml/morph-e/milestone-2/a119e493bebd462681f1c4eda03a6ad5\n",
            "COMET INFO:   Others:\n",
            "COMET INFO:     notebook_url : https://colab.research.google.com/notebook#fileId=https%3A%2F%2Fgithub.com%2FM0rph3e%2Fift6758-project-main%2Fblob%2Fbest_shot_trial%2Fnotebooks%2Ftry_your_best_shot.ipynb\n",
            "COMET INFO:   Uploads:\n",
            "COMET INFO:     environment details : 1\n",
            "COMET INFO:     filename            : 1\n",
            "COMET INFO:     git metadata        : 1\n",
            "COMET INFO:     installed packages  : 1\n",
            "COMET INFO:     notebook            : 1\n",
            "COMET INFO:     os packages         : 1\n",
            "COMET INFO:     source_code         : 1\n",
            "COMET INFO: ---------------------------\n",
            "COMET WARNING: As you are running in a Jupyter environment, you will need to call `experiment.end()` when finished to ensure all metrics and code are logged before exiting.\n",
            "COMET INFO: Experiment is live on comet.ml https://www.comet.ml/morph-e/milestone-2/3f87ca7e6bda48558e33fe0218c750cd\n",
            "\n",
            "COMET WARNING: unable to profile dataframe; ignoring\n",
            "COMET WARNING: unable to profile dataframe; ignoring\n"
          ]
        },
        {
          "output_type": "execute_result",
          "data": {
            "text/plain": [
              "{'dataframe': {'api': 'https://www.comet.ml/api/rest/v2/experiment/asset/get-asset?assetId=0d5ccaa30315475799de3cfc66f94e40&experimentKey=3f87ca7e6bda48558e33fe0218c750cd',\n",
              "  'assetId': '0d5ccaa30315475799de3cfc66f94e40',\n",
              "  'web': 'https://www.comet.ml/api/asset/download?assetId=0d5ccaa30315475799de3cfc66f94e40&experimentKey=3f87ca7e6bda48558e33fe0218c750cd'},\n",
              " 'profile': None}"
            ]
          },
          "metadata": {},
          "execution_count": 29
        }
      ]
    },
    {
      "cell_type": "markdown",
      "metadata": {
        "id": "i8bloprl_Lpf"
      },
      "source": [
        "# Split Data"
      ],
      "id": "i8bloprl_Lpf"
    },
    {
      "cell_type": "code",
      "metadata": {
        "id": "72IkWlL6JCtE"
      },
      "source": [
        "features = ['result.secondaryType', 'distanceNet', 'angleNet']\n",
        "label = ['isGoal']"
      ],
      "id": "72IkWlL6JCtE",
      "execution_count": null,
      "outputs": []
    },
    {
      "cell_type": "code",
      "metadata": {
        "id": "GD8YNmGS_9x_",
        "colab": {
          "base_uri": "https://localhost:8080/"
        },
        "outputId": "38f9a28b-6d01-4bbe-a5c4-dfc182c5e046"
      },
      "source": [
        "X_train = train_df[features]\n",
        "y_train = train_df[label]\n",
        "\n",
        "X_valid = valid_df[features]\n",
        "y_valid = valid_df[label]\n",
        "X_train, y_train, X_valid, y_valid"
      ],
      "id": "GD8YNmGS_9x_",
      "execution_count": null,
      "outputs": [
        {
          "output_type": "execute_result",
          "data": {
            "text/plain": [
              "(       result.secondaryType  distanceNet   angleNet\n",
              " 0                Wrist Shot    34.525353  10.007980\n",
              " 1                 Snap Shot    10.000000   0.000000\n",
              " 2                 Snap Shot    14.035669  -4.085617\n",
              " 3                Wrist Shot    49.517674 -46.636577\n",
              " 4                    Tip-In    28.017851  -2.045408\n",
              " ...                     ...          ...        ...\n",
              " 246798           Wrist Shot    61.326992 -24.057349\n",
              " 246799            Slap Shot    61.294372 -28.237446\n",
              " 246800           Wrist Shot     7.615773 -23.198591\n",
              " 246801           Wrist Shot     7.211103 -33.690068\n",
              " 246802           Wrist Shot    48.104054  43.315316\n",
              " \n",
              " [246787 rows x 3 columns],         isGoal\n",
              " 0            0\n",
              " 1            0\n",
              " 2            0\n",
              " 3            0\n",
              " 4            0\n",
              " ...        ...\n",
              " 246798       0\n",
              " 246799       0\n",
              " 246800       0\n",
              " 246801       0\n",
              " 246802       0\n",
              " \n",
              " [246787 rows x 1 columns],        result.secondaryType  distanceNet   angleNet\n",
              " 0                Wrist Shot    34.525353  10.007980\n",
              " 1                 Snap Shot    10.000000   0.000000\n",
              " 2                 Snap Shot    14.035669  -4.085617\n",
              " 3                Wrist Shot    49.517674 -46.636577\n",
              " 4                    Tip-In    28.017851  -2.045408\n",
              " ...                     ...          ...        ...\n",
              " 246798           Wrist Shot    61.326992 -24.057349\n",
              " 246799            Slap Shot    61.294372 -28.237446\n",
              " 246800           Wrist Shot     7.615773 -23.198591\n",
              " 246801           Wrist Shot     7.211103 -33.690068\n",
              " 246802           Wrist Shot    48.104054  43.315316\n",
              " \n",
              " [246787 rows x 3 columns],         isGoal\n",
              " 0            0\n",
              " 1            0\n",
              " 2            0\n",
              " 3            0\n",
              " 4            0\n",
              " ...        ...\n",
              " 246798       0\n",
              " 246799       0\n",
              " 246800       0\n",
              " 246801       0\n",
              " 246802       0\n",
              " \n",
              " [246787 rows x 1 columns])"
            ]
          },
          "metadata": {},
          "execution_count": 34
        }
      ]
    },
    {
      "cell_type": "markdown",
      "metadata": {
        "id": "IPckRPfMBNmS"
      },
      "source": [
        "### One Hot encode the shot type (I want to refer on the fact that the shot type affect the goal)"
      ],
      "id": "IPckRPfMBNmS"
    },
    {
      "cell_type": "code",
      "metadata": {
        "id": "d_7mjg3Gi5E5"
      },
      "source": [
        "def one_hot(self, y):\n",
        "        \"\"\"Return a one hot encoded array of the labels\n",
        "        \"\"\"\n",
        "        return np.eye(len(self.classes))[np.vectorize(lambda c: self.class_labels[c])(y).reshape(-1)]\n"
      ],
      "id": "d_7mjg3Gi5E5",
      "execution_count": null,
      "outputs": []
    },
    {
      "cell_type": "code",
      "metadata": {
        "id": "UbKEX4EwBJaR"
      },
      "source": [
        "X_train = X_train.rename(columns={'result.secondaryType' : 'shotType'})\n",
        "X_valid = X_valid.rename(columns={'result.secondaryType' : 'shotType'})"
      ],
      "id": "UbKEX4EwBJaR",
      "execution_count": null,
      "outputs": []
    },
    {
      "cell_type": "markdown",
      "metadata": {
        "id": "qkMP6uMUHZjK"
      },
      "source": [
        "# Replace the NaN for ShotType by a dummy value 'Unknown'"
      ],
      "id": "qkMP6uMUHZjK"
    },
    {
      "cell_type": "code",
      "metadata": {
        "id": "qrbQkwBdDSBn",
        "colab": {
          "base_uri": "https://localhost:8080/"
        },
        "outputId": "4882ace7-1834-4d4d-b6f4-5a5267b9445e"
      },
      "source": [
        "print(X_train[X_train['shotType'].isna()].count(), X_valid[X_valid['shotType'].isna()].count())\n",
        "X_train['shotType'] = X_train['shotType'].fillna(\"Unknown\")\n",
        "X_valid['shotType'] = X_valid['shotType'].fillna(\"Unknown\")"
      ],
      "id": "qrbQkwBdDSBn",
      "execution_count": null,
      "outputs": [
        {
          "output_type": "stream",
          "name": "stdout",
          "text": [
            "shotType        0\n",
            "distanceNet    27\n",
            "angleNet       27\n",
            "dtype: int64 shotType        0\n",
            "distanceNet    27\n",
            "angleNet       27\n",
            "dtype: int64\n"
          ]
        }
      ]
    },
    {
      "cell_type": "code",
      "metadata": {
        "id": "Br-EHuqUEk65",
        "colab": {
          "base_uri": "https://localhost:8080/"
        },
        "outputId": "e7c65bd9-3b8e-4061-a93b-073594736834"
      },
      "source": [
        "X_train['shotType'].unique()"
      ],
      "id": "Br-EHuqUEk65",
      "execution_count": null,
      "outputs": [
        {
          "output_type": "execute_result",
          "data": {
            "text/plain": [
              "array(['Wrist Shot', 'Snap Shot', 'Tip-In', 'Backhand', 'Slap Shot',\n",
              "       'Deflected', 'Wrap-around', 'Unknown'], dtype=object)"
            ]
          },
          "metadata": {},
          "execution_count": 46
        }
      ]
    },
    {
      "cell_type": "code",
      "metadata": {
        "id": "15GUmRgSBzW8"
      },
      "source": [
        "from sklearn import feature_extraction \n",
        "vect = feature_extraction.DictVectorizer()\n",
        "\n",
        "\n",
        "onehots_neighbors_train = vect.fit_transform(X_train[['shotType']].to_dict('records'))\n",
        "onehots_neighbors_train = pd.DataFrame(onehots_neighbors_train.toarray()).astype('int').add_prefix('Shot_')\n",
        "\n",
        "onehots_neighbors_valid = vect.fit_transform(X_valid[['shotType']].to_dict('records'))\n",
        "onehots_neighbors_valid = pd.DataFrame(onehots_neighbors_valid.toarray()).astype('int').add_prefix('Shot_')"
      ],
      "id": "15GUmRgSBzW8",
      "execution_count": null,
      "outputs": []
    },
    {
      "cell_type": "code",
      "metadata": {
        "id": "ZaMkXmBXC_q8",
        "colab": {
          "base_uri": "https://localhost:8080/",
          "height": 206
        },
        "outputId": "f6dbf8dd-aa79-484e-c5d4-a52bbd9c4903"
      },
      "source": [
        "onehots_neighbors_valid.head()"
      ],
      "id": "ZaMkXmBXC_q8",
      "execution_count": null,
      "outputs": [
        {
          "output_type": "execute_result",
          "data": {
            "text/html": [
              "<div>\n",
              "<style scoped>\n",
              "    .dataframe tbody tr th:only-of-type {\n",
              "        vertical-align: middle;\n",
              "    }\n",
              "\n",
              "    .dataframe tbody tr th {\n",
              "        vertical-align: top;\n",
              "    }\n",
              "\n",
              "    .dataframe thead th {\n",
              "        text-align: right;\n",
              "    }\n",
              "</style>\n",
              "<table border=\"1\" class=\"dataframe\">\n",
              "  <thead>\n",
              "    <tr style=\"text-align: right;\">\n",
              "      <th></th>\n",
              "      <th>Shot_0</th>\n",
              "      <th>Shot_1</th>\n",
              "      <th>Shot_2</th>\n",
              "      <th>Shot_3</th>\n",
              "      <th>Shot_4</th>\n",
              "      <th>Shot_5</th>\n",
              "      <th>Shot_6</th>\n",
              "      <th>Shot_7</th>\n",
              "    </tr>\n",
              "  </thead>\n",
              "  <tbody>\n",
              "    <tr>\n",
              "      <th>0</th>\n",
              "      <td>0</td>\n",
              "      <td>0</td>\n",
              "      <td>0</td>\n",
              "      <td>0</td>\n",
              "      <td>0</td>\n",
              "      <td>0</td>\n",
              "      <td>0</td>\n",
              "      <td>1</td>\n",
              "    </tr>\n",
              "    <tr>\n",
              "      <th>1</th>\n",
              "      <td>0</td>\n",
              "      <td>0</td>\n",
              "      <td>0</td>\n",
              "      <td>1</td>\n",
              "      <td>0</td>\n",
              "      <td>0</td>\n",
              "      <td>0</td>\n",
              "      <td>0</td>\n",
              "    </tr>\n",
              "    <tr>\n",
              "      <th>2</th>\n",
              "      <td>0</td>\n",
              "      <td>0</td>\n",
              "      <td>0</td>\n",
              "      <td>1</td>\n",
              "      <td>0</td>\n",
              "      <td>0</td>\n",
              "      <td>0</td>\n",
              "      <td>0</td>\n",
              "    </tr>\n",
              "    <tr>\n",
              "      <th>3</th>\n",
              "      <td>0</td>\n",
              "      <td>0</td>\n",
              "      <td>0</td>\n",
              "      <td>0</td>\n",
              "      <td>0</td>\n",
              "      <td>0</td>\n",
              "      <td>0</td>\n",
              "      <td>1</td>\n",
              "    </tr>\n",
              "    <tr>\n",
              "      <th>4</th>\n",
              "      <td>0</td>\n",
              "      <td>0</td>\n",
              "      <td>0</td>\n",
              "      <td>0</td>\n",
              "      <td>1</td>\n",
              "      <td>0</td>\n",
              "      <td>0</td>\n",
              "      <td>0</td>\n",
              "    </tr>\n",
              "  </tbody>\n",
              "</table>\n",
              "</div>"
            ],
            "text/plain": [
              "   Shot_0  Shot_1  Shot_2  Shot_3  Shot_4  Shot_5  Shot_6  Shot_7\n",
              "0       0       0       0       0       0       0       0       1\n",
              "1       0       0       0       1       0       0       0       0\n",
              "2       0       0       0       1       0       0       0       0\n",
              "3       0       0       0       0       0       0       0       1\n",
              "4       0       0       0       0       1       0       0       0"
            ]
          },
          "metadata": {},
          "execution_count": 53
        }
      ]
    },
    {
      "cell_type": "code",
      "metadata": {
        "id": "Blrkifl4DBFQ"
      },
      "source": [
        "#concat to X_train and X_valid\n",
        "X_train = pd.concat([X_train, onehots_neighbors_train], axis=1)\n",
        "X_valid = pd.concat([X_valid, onehots_neighbors_valid], axis=1)"
      ],
      "id": "Blrkifl4DBFQ",
      "execution_count": null,
      "outputs": []
    },
    {
      "cell_type": "code",
      "metadata": {
        "id": "VVJOKnVtI2Ys",
        "colab": {
          "base_uri": "https://localhost:8080/",
          "height": 423
        },
        "outputId": "4a7c0486-6395-41a2-cdb5-acfe4a6c08ca"
      },
      "source": [
        "#drop shot type\n",
        "X_train = X_train.drop(columns='shotType')\n",
        "X_valid = X_valid.drop(columns='shotType')\n",
        "X_valid"
      ],
      "id": "VVJOKnVtI2Ys",
      "execution_count": null,
      "outputs": [
        {
          "output_type": "execute_result",
          "data": {
            "text/html": [
              "<div>\n",
              "<style scoped>\n",
              "    .dataframe tbody tr th:only-of-type {\n",
              "        vertical-align: middle;\n",
              "    }\n",
              "\n",
              "    .dataframe tbody tr th {\n",
              "        vertical-align: top;\n",
              "    }\n",
              "\n",
              "    .dataframe thead th {\n",
              "        text-align: right;\n",
              "    }\n",
              "</style>\n",
              "<table border=\"1\" class=\"dataframe\">\n",
              "  <thead>\n",
              "    <tr style=\"text-align: right;\">\n",
              "      <th></th>\n",
              "      <th>distanceNet</th>\n",
              "      <th>angleNet</th>\n",
              "      <th>Shot_0</th>\n",
              "      <th>Shot_1</th>\n",
              "      <th>Shot_2</th>\n",
              "      <th>Shot_3</th>\n",
              "      <th>Shot_4</th>\n",
              "      <th>Shot_5</th>\n",
              "      <th>Shot_6</th>\n",
              "      <th>Shot_7</th>\n",
              "    </tr>\n",
              "  </thead>\n",
              "  <tbody>\n",
              "    <tr>\n",
              "      <th>0</th>\n",
              "      <td>34.525353</td>\n",
              "      <td>10.007980</td>\n",
              "      <td>0.0</td>\n",
              "      <td>0.0</td>\n",
              "      <td>0.0</td>\n",
              "      <td>0.0</td>\n",
              "      <td>0.0</td>\n",
              "      <td>0.0</td>\n",
              "      <td>0.0</td>\n",
              "      <td>1.0</td>\n",
              "    </tr>\n",
              "    <tr>\n",
              "      <th>1</th>\n",
              "      <td>10.000000</td>\n",
              "      <td>0.000000</td>\n",
              "      <td>0.0</td>\n",
              "      <td>0.0</td>\n",
              "      <td>0.0</td>\n",
              "      <td>1.0</td>\n",
              "      <td>0.0</td>\n",
              "      <td>0.0</td>\n",
              "      <td>0.0</td>\n",
              "      <td>0.0</td>\n",
              "    </tr>\n",
              "    <tr>\n",
              "      <th>2</th>\n",
              "      <td>14.035669</td>\n",
              "      <td>-4.085617</td>\n",
              "      <td>0.0</td>\n",
              "      <td>0.0</td>\n",
              "      <td>0.0</td>\n",
              "      <td>1.0</td>\n",
              "      <td>0.0</td>\n",
              "      <td>0.0</td>\n",
              "      <td>0.0</td>\n",
              "      <td>0.0</td>\n",
              "    </tr>\n",
              "    <tr>\n",
              "      <th>3</th>\n",
              "      <td>49.517674</td>\n",
              "      <td>-46.636577</td>\n",
              "      <td>0.0</td>\n",
              "      <td>0.0</td>\n",
              "      <td>0.0</td>\n",
              "      <td>0.0</td>\n",
              "      <td>0.0</td>\n",
              "      <td>0.0</td>\n",
              "      <td>0.0</td>\n",
              "      <td>1.0</td>\n",
              "    </tr>\n",
              "    <tr>\n",
              "      <th>4</th>\n",
              "      <td>28.017851</td>\n",
              "      <td>-2.045408</td>\n",
              "      <td>0.0</td>\n",
              "      <td>0.0</td>\n",
              "      <td>0.0</td>\n",
              "      <td>0.0</td>\n",
              "      <td>1.0</td>\n",
              "      <td>0.0</td>\n",
              "      <td>0.0</td>\n",
              "      <td>0.0</td>\n",
              "    </tr>\n",
              "    <tr>\n",
              "      <th>...</th>\n",
              "      <td>...</td>\n",
              "      <td>...</td>\n",
              "      <td>...</td>\n",
              "      <td>...</td>\n",
              "      <td>...</td>\n",
              "      <td>...</td>\n",
              "      <td>...</td>\n",
              "      <td>...</td>\n",
              "      <td>...</td>\n",
              "      <td>...</td>\n",
              "    </tr>\n",
              "    <tr>\n",
              "      <th>246798</th>\n",
              "      <td>61.326992</td>\n",
              "      <td>-24.057349</td>\n",
              "      <td>NaN</td>\n",
              "      <td>NaN</td>\n",
              "      <td>NaN</td>\n",
              "      <td>NaN</td>\n",
              "      <td>NaN</td>\n",
              "      <td>NaN</td>\n",
              "      <td>NaN</td>\n",
              "      <td>NaN</td>\n",
              "    </tr>\n",
              "    <tr>\n",
              "      <th>246799</th>\n",
              "      <td>61.294372</td>\n",
              "      <td>-28.237446</td>\n",
              "      <td>NaN</td>\n",
              "      <td>NaN</td>\n",
              "      <td>NaN</td>\n",
              "      <td>NaN</td>\n",
              "      <td>NaN</td>\n",
              "      <td>NaN</td>\n",
              "      <td>NaN</td>\n",
              "      <td>NaN</td>\n",
              "    </tr>\n",
              "    <tr>\n",
              "      <th>246800</th>\n",
              "      <td>7.615773</td>\n",
              "      <td>-23.198591</td>\n",
              "      <td>NaN</td>\n",
              "      <td>NaN</td>\n",
              "      <td>NaN</td>\n",
              "      <td>NaN</td>\n",
              "      <td>NaN</td>\n",
              "      <td>NaN</td>\n",
              "      <td>NaN</td>\n",
              "      <td>NaN</td>\n",
              "    </tr>\n",
              "    <tr>\n",
              "      <th>246801</th>\n",
              "      <td>7.211103</td>\n",
              "      <td>-33.690068</td>\n",
              "      <td>NaN</td>\n",
              "      <td>NaN</td>\n",
              "      <td>NaN</td>\n",
              "      <td>NaN</td>\n",
              "      <td>NaN</td>\n",
              "      <td>NaN</td>\n",
              "      <td>NaN</td>\n",
              "      <td>NaN</td>\n",
              "    </tr>\n",
              "    <tr>\n",
              "      <th>246802</th>\n",
              "      <td>48.104054</td>\n",
              "      <td>43.315316</td>\n",
              "      <td>NaN</td>\n",
              "      <td>NaN</td>\n",
              "      <td>NaN</td>\n",
              "      <td>NaN</td>\n",
              "      <td>NaN</td>\n",
              "      <td>NaN</td>\n",
              "      <td>NaN</td>\n",
              "      <td>NaN</td>\n",
              "    </tr>\n",
              "  </tbody>\n",
              "</table>\n",
              "<p>246803 rows × 10 columns</p>\n",
              "</div>"
            ],
            "text/plain": [
              "        distanceNet   angleNet  Shot_0  Shot_1  ...  Shot_4  Shot_5  Shot_6  Shot_7\n",
              "0         34.525353  10.007980     0.0     0.0  ...     0.0     0.0     0.0     1.0\n",
              "1         10.000000   0.000000     0.0     0.0  ...     0.0     0.0     0.0     0.0\n",
              "2         14.035669  -4.085617     0.0     0.0  ...     0.0     0.0     0.0     0.0\n",
              "3         49.517674 -46.636577     0.0     0.0  ...     0.0     0.0     0.0     1.0\n",
              "4         28.017851  -2.045408     0.0     0.0  ...     1.0     0.0     0.0     0.0\n",
              "...             ...        ...     ...     ...  ...     ...     ...     ...     ...\n",
              "246798    61.326992 -24.057349     NaN     NaN  ...     NaN     NaN     NaN     NaN\n",
              "246799    61.294372 -28.237446     NaN     NaN  ...     NaN     NaN     NaN     NaN\n",
              "246800     7.615773 -23.198591     NaN     NaN  ...     NaN     NaN     NaN     NaN\n",
              "246801     7.211103 -33.690068     NaN     NaN  ...     NaN     NaN     NaN     NaN\n",
              "246802    48.104054  43.315316     NaN     NaN  ...     NaN     NaN     NaN     NaN\n",
              "\n",
              "[246803 rows x 10 columns]"
            ]
          },
          "metadata": {},
          "execution_count": 56
        }
      ]
    },
    {
      "cell_type": "markdown",
      "metadata": {
        "id": "UQVVMq0iJmIs"
      },
      "source": [
        "## Try Random Forest"
      ],
      "id": "UQVVMq0iJmIs"
    },
    {
      "cell_type": "code",
      "metadata": {
        "id": "QMS2ZkPeI3do"
      },
      "source": [
        "from sklearn.ensemble import RandomForestClassifier\n",
        "from sklearn.model_selection import GridSearchCV\n",
        "\n",
        "# Create the parameter grid based on the results of random search \n",
        "param_grid = {\n",
        "    'n_estimators': [10 ,30, 50, 75, 100],\n",
        "     'max_depth': [2, 3, 5, 8, 10, 12]\n",
        "}\n",
        "\n",
        "rf = RandomForestClassifier(criterion='entropy')\n",
        "sh = GridSearchCV(rf,param_grid, cv=4)\n",
        "model = sh.fit(X_train,y_train)"
      ],
      "id": "QMS2ZkPeI3do",
      "execution_count": null,
      "outputs": []
    }
  ]
}