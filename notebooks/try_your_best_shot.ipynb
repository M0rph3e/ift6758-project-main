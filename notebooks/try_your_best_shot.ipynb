{
  "nbformat": 4,
  "nbformat_minor": 5,
  "metadata": {
    "kernelspec": {
      "name": "python3",
      "display_name": "Python 3"
    },
    "colab": {
      "name": "try_your_best_shot.ipynb",
      "provenance": []
    },
    "language_info": {
      "name": "python"
    }
  },
  "cells": [
    {
      "cell_type": "markdown",
      "metadata": {
        "id": "f4aa00a7-1743-4475-8e7b-07f75b386a29"
      },
      "source": [
        "## Here we will try our best shot to predict the goals with our features"
      ],
      "id": "f4aa00a7-1743-4475-8e7b-07f75b386a29"
    },
    {
      "cell_type": "code",
      "metadata": {
        "id": "0e26965d-f064-484c-91f3-aa96de787ab4",
        "colab": {
          "base_uri": "https://localhost:8080/"
        },
        "outputId": "9e299568-7ded-4302-b992-6471dbc30b88"
      },
      "source": [
        "from google.colab import drive\n",
        "drive.mount('/content/gdrive')"
      ],
      "id": "0e26965d-f064-484c-91f3-aa96de787ab4",
      "execution_count": 1,
      "outputs": [
        {
          "output_type": "stream",
          "name": "stdout",
          "text": [
            "Mounted at /content/gdrive\n"
          ]
        }
      ]
    },
    {
      "cell_type": "code",
      "metadata": {
        "id": "MrfE_fXB9r7z",
        "colab": {
          "base_uri": "https://localhost:8080/"
        },
        "outputId": "7c04f844-0974-498f-be73-498246f75b64"
      },
      "source": [
        "%cd /content/gdrive/MyDrive/Master_UdeM/IFT-6758/Project/ift6758-project-main"
      ],
      "id": "MrfE_fXB9r7z",
      "execution_count": 2,
      "outputs": [
        {
          "output_type": "stream",
          "name": "stdout",
          "text": [
            "/content/gdrive/MyDrive/Master_UdeM/IFT-6758/Project/ift6758-project-main\n"
          ]
        }
      ]
    },
    {
      "cell_type": "code",
      "metadata": {
        "id": "celXeSWR9zXi",
        "colab": {
          "base_uri": "https://localhost:8080/"
        },
        "outputId": "67ac0020-5227-4683-ac13-b759af3dc7be"
      },
      "source": [
        "#!git clone https://GIT_TOKEN@github.com/M0rph3e/ift6758-project-main.git #not anymore\n",
        "! git pull"
      ],
      "id": "celXeSWR9zXi",
      "execution_count": 3,
      "outputs": [
        {
          "output_type": "stream",
          "name": "stdout",
          "text": [
            "remote: Enumerating objects: 16, done.\u001b[K\n",
            "remote: Counting objects:   7% (1/14)\u001b[K\rremote: Counting objects:  14% (2/14)\u001b[K\rremote: Counting objects:  21% (3/14)\u001b[K\rremote: Counting objects:  28% (4/14)\u001b[K\rremote: Counting objects:  35% (5/14)\u001b[K\rremote: Counting objects:  42% (6/14)\u001b[K\rremote: Counting objects:  50% (7/14)\u001b[K\rremote: Counting objects:  57% (8/14)\u001b[K\rremote: Counting objects:  64% (9/14)\u001b[K\rremote: Counting objects:  71% (10/14)\u001b[K\rremote: Counting objects:  78% (11/14)\u001b[K\rremote: Counting objects:  85% (12/14)\u001b[K\rremote: Counting objects:  92% (13/14)\u001b[K\rremote: Counting objects: 100% (14/14)\u001b[K\rremote: Counting objects: 100% (14/14), done.\u001b[K\n",
            "remote: Compressing objects: 100% (5/5), done.\u001b[K\n",
            "remote: Total 8 (delta 5), reused 5 (delta 3), pack-reused 0\u001b[K\n",
            "Unpacking objects: 100% (8/8), done.\n",
            "From https://github.com/M0rph3e/ift6758-project-main\n",
            "   067cda8..15b7caf  main       -> origin/main\n",
            "Updating 067cda8..15b7caf\n",
            "Fast-forward\n",
            " notebooks/baseModel.ipynb     |   7 \u001b[32m+\u001b[m\u001b[31m-\u001b[m\n",
            " notebooks/fengineering1.ipynb | 218 \u001b[32m+++++++++++++++++++++\u001b[m\u001b[31m---------------------\u001b[m\n",
            " 2 files changed, 111 insertions(+), 114 deletions(-)\n"
          ]
        }
      ]
    },
    {
      "cell_type": "code",
      "metadata": {
        "id": "lGWPuWN7-Rbo",
        "colab": {
          "base_uri": "https://localhost:8080/"
        },
        "outputId": "1cd03710-797f-4385-bbf2-eb9ccf9a27c2"
      },
      "source": [
        "!git status"
      ],
      "id": "lGWPuWN7-Rbo",
      "execution_count": 4,
      "outputs": [
        {
          "output_type": "stream",
          "name": "stdout",
          "text": [
            "On branch main\n",
            "Your branch is up to date with 'origin/main'.\n",
            "\n",
            "Changes not staged for commit:\n",
            "  (use \"git add <file>...\" to update what will be committed)\n",
            "  (use \"git checkout -- <file>...\" to discard changes in working directory)\n",
            "\n",
            "\t\u001b[31mmodified:   ift6758/metrics/plot_metrics.py\u001b[m\n",
            "\n",
            "no changes added to commit (use \"git add\" and/or \"git commit -a\")\n"
          ]
        }
      ]
    },
    {
      "cell_type": "code",
      "metadata": {
        "id": "5wFBMu2YAjam",
        "colab": {
          "base_uri": "https://localhost:8080/"
        },
        "outputId": "35e2712f-3ae0-4dd7-b605-ecbdc3589b72"
      },
      "source": [
        "!pip install comet_ml pandas_profiling"
      ],
      "id": "5wFBMu2YAjam",
      "execution_count": 5,
      "outputs": [
        {
          "output_type": "stream",
          "name": "stdout",
          "text": [
            "Collecting comet_ml\n",
            "  Downloading comet_ml-3.22.1-py2.py3-none-any.whl (305 kB)\n",
            "\u001b[?25l\r\u001b[K     |█                               | 10 kB 24.5 MB/s eta 0:00:01\r\u001b[K     |██▏                             | 20 kB 30.2 MB/s eta 0:00:01\r\u001b[K     |███▏                            | 30 kB 31.3 MB/s eta 0:00:01\r\u001b[K     |████▎                           | 40 kB 33.1 MB/s eta 0:00:01\r\u001b[K     |█████▍                          | 51 kB 33.5 MB/s eta 0:00:01\r\u001b[K     |██████▍                         | 61 kB 33.4 MB/s eta 0:00:01\r\u001b[K     |███████▌                        | 71 kB 25.6 MB/s eta 0:00:01\r\u001b[K     |████████▋                       | 81 kB 24.8 MB/s eta 0:00:01\r\u001b[K     |█████████▋                      | 92 kB 25.7 MB/s eta 0:00:01\r\u001b[K     |██████████▊                     | 102 kB 27.2 MB/s eta 0:00:01\r\u001b[K     |███████████▉                    | 112 kB 27.2 MB/s eta 0:00:01\r\u001b[K     |████████████▉                   | 122 kB 27.2 MB/s eta 0:00:01\r\u001b[K     |██████████████                  | 133 kB 27.2 MB/s eta 0:00:01\r\u001b[K     |███████████████                 | 143 kB 27.2 MB/s eta 0:00:01\r\u001b[K     |████████████████                | 153 kB 27.2 MB/s eta 0:00:01\r\u001b[K     |█████████████████▏              | 163 kB 27.2 MB/s eta 0:00:01\r\u001b[K     |██████████████████▏             | 174 kB 27.2 MB/s eta 0:00:01\r\u001b[K     |███████████████████▎            | 184 kB 27.2 MB/s eta 0:00:01\r\u001b[K     |████████████████████▍           | 194 kB 27.2 MB/s eta 0:00:01\r\u001b[K     |█████████████████████▍          | 204 kB 27.2 MB/s eta 0:00:01\r\u001b[K     |██████████████████████▌         | 215 kB 27.2 MB/s eta 0:00:01\r\u001b[K     |███████████████████████▋        | 225 kB 27.2 MB/s eta 0:00:01\r\u001b[K     |████████████████████████▋       | 235 kB 27.2 MB/s eta 0:00:01\r\u001b[K     |█████████████████████████▊      | 245 kB 27.2 MB/s eta 0:00:01\r\u001b[K     |██████████████████████████▉     | 256 kB 27.2 MB/s eta 0:00:01\r\u001b[K     |███████████████████████████▉    | 266 kB 27.2 MB/s eta 0:00:01\r\u001b[K     |█████████████████████████████   | 276 kB 27.2 MB/s eta 0:00:01\r\u001b[K     |██████████████████████████████  | 286 kB 27.2 MB/s eta 0:00:01\r\u001b[K     |███████████████████████████████ | 296 kB 27.2 MB/s eta 0:00:01\r\u001b[K     |████████████████████████████████| 305 kB 27.2 MB/s \n",
            "\u001b[?25hRequirement already satisfied: pandas_profiling in /usr/local/lib/python3.7/dist-packages (1.4.1)\n",
            "Collecting websocket-client>=0.55.0\n",
            "  Downloading websocket_client-1.2.1-py2.py3-none-any.whl (52 kB)\n",
            "\u001b[K     |████████████████████████████████| 52 kB 1.4 MB/s \n",
            "\u001b[?25hCollecting wurlitzer>=1.0.2\n",
            "  Downloading wurlitzer-3.0.2-py3-none-any.whl (7.3 kB)\n",
            "Collecting everett[ini]>=1.0.1\n",
            "  Downloading everett-2.0.1-py2.py3-none-any.whl (33 kB)\n",
            "Requirement already satisfied: wrapt>=1.11.2 in /usr/local/lib/python3.7/dist-packages (from comet_ml) (1.13.3)\n",
            "Requirement already satisfied: requests>=2.18.4 in /usr/local/lib/python3.7/dist-packages (from comet_ml) (2.23.0)\n",
            "Collecting semantic-version>=2.8.0\n",
            "  Downloading semantic_version-2.8.5-py2.py3-none-any.whl (15 kB)\n",
            "Collecting requests-toolbelt>=0.8.0\n",
            "  Downloading requests_toolbelt-0.9.1-py2.py3-none-any.whl (54 kB)\n",
            "\u001b[K     |████████████████████████████████| 54 kB 2.8 MB/s \n",
            "\u001b[?25hRequirement already satisfied: nvidia-ml-py3>=7.352.0 in /usr/local/lib/python3.7/dist-packages (from comet_ml) (7.352.0)\n",
            "Requirement already satisfied: jsonschema!=3.1.0,>=2.6.0 in /usr/local/lib/python3.7/dist-packages (from comet_ml) (2.6.0)\n",
            "Collecting dulwich>=0.20.6\n",
            "  Downloading dulwich-0.20.26-cp37-cp37m-manylinux_2_5_x86_64.manylinux1_x86_64.manylinux_2_12_x86_64.manylinux2010_x86_64.whl (546 kB)\n",
            "\u001b[K     |████████████████████████████████| 546 kB 35.8 MB/s \n",
            "\u001b[?25hRequirement already satisfied: six in /usr/local/lib/python3.7/dist-packages (from comet_ml) (1.15.0)\n",
            "Requirement already satisfied: certifi in /usr/local/lib/python3.7/dist-packages (from dulwich>=0.20.6->comet_ml) (2021.10.8)\n",
            "Requirement already satisfied: urllib3>=1.24.1 in /usr/local/lib/python3.7/dist-packages (from dulwich>=0.20.6->comet_ml) (1.24.3)\n",
            "Collecting configobj\n",
            "  Downloading configobj-5.0.6.tar.gz (33 kB)\n",
            "Requirement already satisfied: idna<3,>=2.5 in /usr/local/lib/python3.7/dist-packages (from requests>=2.18.4->comet_ml) (2.10)\n",
            "Requirement already satisfied: chardet<4,>=3.0.2 in /usr/local/lib/python3.7/dist-packages (from requests>=2.18.4->comet_ml) (3.0.4)\n",
            "Requirement already satisfied: pandas>=0.19 in /usr/local/lib/python3.7/dist-packages (from pandas_profiling) (1.1.5)\n",
            "Requirement already satisfied: jinja2>=2.8 in /usr/local/lib/python3.7/dist-packages (from pandas_profiling) (2.11.3)\n",
            "Requirement already satisfied: matplotlib>=1.4 in /usr/local/lib/python3.7/dist-packages (from pandas_profiling) (3.2.2)\n",
            "Requirement already satisfied: MarkupSafe>=0.23 in /usr/local/lib/python3.7/dist-packages (from jinja2>=2.8->pandas_profiling) (2.0.1)\n",
            "Requirement already satisfied: cycler>=0.10 in /usr/local/lib/python3.7/dist-packages (from matplotlib>=1.4->pandas_profiling) (0.11.0)\n",
            "Requirement already satisfied: pyparsing!=2.0.4,!=2.1.2,!=2.1.6,>=2.0.1 in /usr/local/lib/python3.7/dist-packages (from matplotlib>=1.4->pandas_profiling) (3.0.6)\n",
            "Requirement already satisfied: kiwisolver>=1.0.1 in /usr/local/lib/python3.7/dist-packages (from matplotlib>=1.4->pandas_profiling) (1.3.2)\n",
            "Requirement already satisfied: python-dateutil>=2.1 in /usr/local/lib/python3.7/dist-packages (from matplotlib>=1.4->pandas_profiling) (2.8.2)\n",
            "Requirement already satisfied: numpy>=1.11 in /usr/local/lib/python3.7/dist-packages (from matplotlib>=1.4->pandas_profiling) (1.19.5)\n",
            "Requirement already satisfied: pytz>=2017.2 in /usr/local/lib/python3.7/dist-packages (from pandas>=0.19->pandas_profiling) (2018.9)\n",
            "Building wheels for collected packages: configobj\n",
            "  Building wheel for configobj (setup.py) ... \u001b[?25l\u001b[?25hdone\n",
            "  Created wheel for configobj: filename=configobj-5.0.6-py3-none-any.whl size=34546 sha256=2afbc7f480fe3f1242f482143391afb9169a5c1ff4c014508402f10b7741d5ef\n",
            "  Stored in directory: /root/.cache/pip/wheels/0d/c4/19/13d74440f2a571841db6b6e0a273694327498884dafb9cf978\n",
            "Successfully built configobj\n",
            "Installing collected packages: everett, configobj, wurlitzer, websocket-client, semantic-version, requests-toolbelt, dulwich, comet-ml\n",
            "Successfully installed comet-ml-3.22.1 configobj-5.0.6 dulwich-0.20.26 everett-2.0.1 requests-toolbelt-0.9.1 semantic-version-2.8.5 websocket-client-1.2.1 wurlitzer-3.0.2\n"
          ]
        }
      ]
    },
    {
      "cell_type": "code",
      "metadata": {
        "id": "zqiioowlaDXX",
        "colab": {
          "base_uri": "https://localhost:8080/"
        },
        "outputId": "271aa513-511e-451d-d41a-338c430fe9f9"
      },
      "source": [
        "! git branch"
      ],
      "id": "zqiioowlaDXX",
      "execution_count": 6,
      "outputs": [
        {
          "output_type": "stream",
          "name": "stdout",
          "text": [
            "  best_shot_trial\u001b[m\n",
            "  fengineering2\u001b[m\n",
            "* \u001b[32mmain\u001b[m\n"
          ]
        }
      ]
    },
    {
      "cell_type": "markdown",
      "metadata": {
        "id": "TB9EOTRM-330"
      },
      "source": [
        "# Real **** starts from here"
      ],
      "id": "TB9EOTRM-330"
    },
    {
      "cell_type": "code",
      "metadata": {
        "id": "GbIIYHFg-elV"
      },
      "source": [
        "from ift6758.features.feature_engineering2 import SeasonDataSetTwo\n",
        "from ift6758.data.data_acquisition import Season\n",
        "from ift6758.visualizations.simple_visualization import Utilities \n",
        "import matplotlib.pyplot as plt\n",
        "import numpy as np\n",
        "import seaborn as sns\n",
        "import os\n",
        "import random\n",
        "import pandas as pd\n",
        "import pickle\n",
        "import sys\n",
        "import json\n",
        "\n",
        "import warnings\n",
        "warnings.filterwarnings(\"ignore\")"
      ],
      "id": "GbIIYHFg-elV",
      "execution_count": 7,
      "outputs": []
    },
    {
      "cell_type": "code",
      "metadata": {
        "id": "BHb91bE6_ODa",
        "colab": {
          "base_uri": "https://localhost:8080/"
        },
        "outputId": "303d8937-4525-4ae3-b9f8-d06fdf22faae"
      },
      "source": [
        "train_years = [2015,2016,2017]\n",
        "valid_years = [2018]\n",
        "test_years=[2019]\n",
        "\n",
        "\n",
        "train_dataset = SeasonDataSetTwo(train_years)\n",
        "valid_dataset = SeasonDataSetTwo(valid_years)\n",
        "train_df = train_dataset.get_features_2()\n",
        "valid_df = valid_dataset.get_features_2()"
      ],
      "id": "BHb91bE6_ODa",
      "execution_count": 8,
      "outputs": [
        {
          "output_type": "stream",
          "name": "stdout",
          "text": [
            "File with all events already Exists, loading from ../ift6758/data/PICKLE//2015_clean_all_events.pkl\n",
            "File already Exists, loading from ../ift6758/data/PICKLE//2015_period_info.pkl\n",
            "File with all events already Exists, loading from ../ift6758/data/PICKLE//2016_clean_all_events.pkl\n",
            "File already Exists, loading from ../ift6758/data/PICKLE//2016_period_info.pkl\n",
            "File with all events already Exists, loading from ../ift6758/data/PICKLE//2017_clean_all_events.pkl\n",
            "File already Exists, loading from ../ift6758/data/PICKLE//2017_period_info.pkl\n",
            "File with all events already Exists, loading from ../ift6758/data/PICKLE//2018_clean_all_events.pkl\n",
            "File already Exists, loading from ../ift6758/data/PICKLE//2018_period_info.pkl\n"
          ]
        }
      ]
    },
    {
      "cell_type": "code",
      "metadata": {
        "id": "utYXLTyoGCDF",
        "colab": {
          "base_uri": "https://localhost:8080/"
        },
        "outputId": "668866a7-3758-4d2e-a38a-3b474151effd"
      },
      "source": [
        "test_data = SeasonDataSetTwo(test_years)\n",
        "test_df = test_data.get_features_2()"
      ],
      "id": "utYXLTyoGCDF",
      "execution_count": 9,
      "outputs": [
        {
          "output_type": "stream",
          "name": "stdout",
          "text": [
            "File with all events already Exists, loading from ../ift6758/data/PICKLE//2019_clean_all_events.pkl\n",
            "File already Exists, loading from ../ift6758/data/PICKLE//2019_period_info.pkl\n"
          ]
        }
      ]
    },
    {
      "cell_type": "code",
      "metadata": {
        "id": "zG9tb1EItF9Q",
        "colab": {
          "base_uri": "https://localhost:8080/"
        },
        "outputId": "d9bf1aaf-a051-4211-f287-a925d23c41ca"
      },
      "source": [
        "train_df.columns"
      ],
      "id": "zG9tb1EItF9Q",
      "execution_count": 10,
      "outputs": [
        {
          "output_type": "execute_result",
          "data": {
            "text/plain": [
              "Index(['result.penaltySeverity', 'result.penaltyMinutes', 'gamePk',\n",
              "       'team.name', 'gamePeriod', 'coordinatesX', 'coordinatesY', 'shotType',\n",
              "       'emptyNet', 'result.strength.name', 'gameSeconds', 'shotDistance',\n",
              "       'shotAngle', 'isGoal', 'lastEventType', 'lastEventCoordinatesX',\n",
              "       'lastEventCoordinatesY', 'timeFromLastEvent', 'distanceFromLastEvent',\n",
              "       'rebound', 'speed', 'changeInShotAngle', 'angleSpeed'],\n",
              "      dtype='object')"
            ]
          },
          "metadata": {},
          "execution_count": 10
        }
      ]
    },
    {
      "cell_type": "markdown",
      "metadata": {
        "id": "0kj5OTviDnFF"
      },
      "source": [
        "# Export the data csv to comet (do not execute for now)"
      ],
      "id": "0kj5OTviDnFF"
    },
    {
      "cell_type": "code",
      "metadata": {
        "id": "OvTG9lsL_Tb_",
        "colab": {
          "base_uri": "https://localhost:8080/"
        },
        "outputId": "f0098452-a3e2-4eec-e8a8-91097958efb6"
      },
      "source": [
        "from comet_ml import Experiment\n",
        "import os\n",
        "\n",
        "\n",
        "\n",
        "exp = Experiment(\n",
        "    api_key=os.environ.get('COMET_API_KEY'),\n",
        "    project_name='milestone-2',\n",
        "    workspace='morph-e',\n",
        "    log_code=True,\n",
        "    log_graph=True\n",
        ")"
      ],
      "id": "OvTG9lsL_Tb_",
      "execution_count": 13,
      "outputs": [
        {
          "output_type": "stream",
          "name": "stderr",
          "text": [
            "COMET WARNING: As you are running in a Jupyter environment, you will need to call `experiment.end()` when finished to ensure all metrics and code are logged before exiting.\n",
            "COMET INFO: Experiment is live on comet.ml https://www.comet.ml/morph-e/milestone-2/665ca425eaff43a1a18891828eff7246\n",
            "\n"
          ]
        }
      ]
    },
    {
      "cell_type": "code",
      "metadata": {
        "colab": {
          "base_uri": "https://localhost:8080/"
        },
        "id": "DzdwfiX2H86Q",
        "outputId": "0fee8bfe-a787-488b-c295-76c179bbad81"
      },
      "source": [
        "exp.log_dataframe_profile(\n",
        "train_df, \n",
        "name='train_set_from_FE2',  # keep this name\n",
        "dataframe_format='csv'  # ensure you set this flag!\n",
        ")\n",
        "\n",
        "exp.log_dataframe_profile(\n",
        "valid_df, \n",
        "name='valid_set_from_FE2',  # keep this name\n",
        "dataframe_format='csv'  # ensure you set this flag!\n",
        ")\n",
        "\n",
        "exp.log_dataframe_profile(\n",
        "test_df, \n",
        "name='test_set_from_FE2',  # keep this name\n",
        "dataframe_format='csv'  # ensure you set this flag!\n",
        ")\n"
      ],
      "id": "DzdwfiX2H86Q",
      "execution_count": 14,
      "outputs": [
        {
          "output_type": "stream",
          "name": "stderr",
          "text": [
            "COMET WARNING: unable to profile dataframe; ignoring\n",
            "COMET WARNING: unable to profile dataframe; ignoring\n",
            "COMET WARNING: unable to profile dataframe; ignoring\n"
          ]
        },
        {
          "output_type": "execute_result",
          "data": {
            "text/plain": [
              "{'dataframe': {'api': 'https://www.comet.ml/api/rest/v2/experiment/asset/get-asset?assetId=310a1e380410476ca7ef293ae349a2fb&experimentKey=665ca425eaff43a1a18891828eff7246',\n",
              "  'assetId': '310a1e380410476ca7ef293ae349a2fb',\n",
              "  'web': 'https://www.comet.ml/api/asset/download?assetId=310a1e380410476ca7ef293ae349a2fb&experimentKey=665ca425eaff43a1a18891828eff7246'},\n",
              " 'profile': None}"
            ]
          },
          "metadata": {},
          "execution_count": 14
        }
      ]
    },
    {
      "cell_type": "markdown",
      "metadata": {
        "id": "i8bloprl_Lpf"
      },
      "source": [
        "# Split and shuffle Data"
      ],
      "id": "i8bloprl_Lpf"
    },
    {
      "cell_type": "code",
      "metadata": {
        "id": "X3EAx_NuFKSt"
      },
      "source": [
        "random.seed(42)"
      ],
      "id": "X3EAx_NuFKSt",
      "execution_count": 15,
      "outputs": []
    },
    {
      "cell_type": "code",
      "metadata": {
        "id": "VCGefzl2EsWz"
      },
      "source": [
        "train_df = train_df.sample(frac=1)\n",
        "test_df = test_df.sample(frac=1)\n",
        "valid_df = valid_df.sample(frac=1)"
      ],
      "id": "VCGefzl2EsWz",
      "execution_count": 16,
      "outputs": []
    },
    {
      "cell_type": "code",
      "metadata": {
        "id": "IE-Wvb62FC8S",
        "colab": {
          "base_uri": "https://localhost:8080/",
          "height": 313
        },
        "outputId": "1a41f5ba-0cd5-4213-b41f-cf3017e5c448"
      },
      "source": [
        "train_df.head()"
      ],
      "id": "IE-Wvb62FC8S",
      "execution_count": 17,
      "outputs": [
        {
          "output_type": "execute_result",
          "data": {
            "text/html": [
              "<div>\n",
              "<style scoped>\n",
              "    .dataframe tbody tr th:only-of-type {\n",
              "        vertical-align: middle;\n",
              "    }\n",
              "\n",
              "    .dataframe tbody tr th {\n",
              "        vertical-align: top;\n",
              "    }\n",
              "\n",
              "    .dataframe thead th {\n",
              "        text-align: right;\n",
              "    }\n",
              "</style>\n",
              "<table border=\"1\" class=\"dataframe\">\n",
              "  <thead>\n",
              "    <tr style=\"text-align: right;\">\n",
              "      <th></th>\n",
              "      <th>result.penaltySeverity</th>\n",
              "      <th>result.penaltyMinutes</th>\n",
              "      <th>gamePk</th>\n",
              "      <th>team.name</th>\n",
              "      <th>gamePeriod</th>\n",
              "      <th>coordinatesX</th>\n",
              "      <th>coordinatesY</th>\n",
              "      <th>shotType</th>\n",
              "      <th>emptyNet</th>\n",
              "      <th>result.strength.name</th>\n",
              "      <th>gameSeconds</th>\n",
              "      <th>shotDistance</th>\n",
              "      <th>shotAngle</th>\n",
              "      <th>isGoal</th>\n",
              "      <th>lastEventType</th>\n",
              "      <th>lastEventCoordinatesX</th>\n",
              "      <th>lastEventCoordinatesY</th>\n",
              "      <th>timeFromLastEvent</th>\n",
              "      <th>distanceFromLastEvent</th>\n",
              "      <th>rebound</th>\n",
              "      <th>speed</th>\n",
              "      <th>changeInShotAngle</th>\n",
              "      <th>angleSpeed</th>\n",
              "    </tr>\n",
              "  </thead>\n",
              "  <tbody>\n",
              "    <tr>\n",
              "      <th>66325</th>\n",
              "      <td>NaN</td>\n",
              "      <td>NaN</td>\n",
              "      <td>2015021104</td>\n",
              "      <td>Anaheim Ducks</td>\n",
              "      <td>2</td>\n",
              "      <td>51.0</td>\n",
              "      <td>26.0</td>\n",
              "      <td>Wrist Shot</td>\n",
              "      <td>0</td>\n",
              "      <td>NaN</td>\n",
              "      <td>387.0</td>\n",
              "      <td>142.393820</td>\n",
              "      <td>10.520784</td>\n",
              "      <td>0</td>\n",
              "      <td>Stoppage</td>\n",
              "      <td>NaN</td>\n",
              "      <td>NaN</td>\n",
              "      <td>16.0</td>\n",
              "      <td>NaN</td>\n",
              "      <td>False</td>\n",
              "      <td>NaN</td>\n",
              "      <td>0.000000</td>\n",
              "      <td>0.000000</td>\n",
              "    </tr>\n",
              "    <tr>\n",
              "      <th>209246</th>\n",
              "      <td>NaN</td>\n",
              "      <td>NaN</td>\n",
              "      <td>2017020771</td>\n",
              "      <td>Calgary Flames</td>\n",
              "      <td>3</td>\n",
              "      <td>-45.0</td>\n",
              "      <td>2.0</td>\n",
              "      <td>Wrist Shot</td>\n",
              "      <td>0</td>\n",
              "      <td>NaN</td>\n",
              "      <td>313.0</td>\n",
              "      <td>44.045431</td>\n",
              "      <td>2.602562</td>\n",
              "      <td>0</td>\n",
              "      <td>Blocked Shot</td>\n",
              "      <td>-49.0</td>\n",
              "      <td>24.0</td>\n",
              "      <td>13.0</td>\n",
              "      <td>22.360680</td>\n",
              "      <td>False</td>\n",
              "      <td>1.720052</td>\n",
              "      <td>0.000000</td>\n",
              "      <td>0.000000</td>\n",
              "    </tr>\n",
              "    <tr>\n",
              "      <th>39879</th>\n",
              "      <td>NaN</td>\n",
              "      <td>NaN</td>\n",
              "      <td>2015020668</td>\n",
              "      <td>Edmonton Oilers</td>\n",
              "      <td>3</td>\n",
              "      <td>-81.0</td>\n",
              "      <td>6.0</td>\n",
              "      <td>Wrist Shot</td>\n",
              "      <td>0</td>\n",
              "      <td>NaN</td>\n",
              "      <td>199.0</td>\n",
              "      <td>170.105849</td>\n",
              "      <td>-2.021365</td>\n",
              "      <td>0</td>\n",
              "      <td>Shot</td>\n",
              "      <td>-66.0</td>\n",
              "      <td>8.0</td>\n",
              "      <td>1.0</td>\n",
              "      <td>15.132746</td>\n",
              "      <td>True</td>\n",
              "      <td>15.132746</td>\n",
              "      <td>0.933215</td>\n",
              "      <td>0.933215</td>\n",
              "    </tr>\n",
              "    <tr>\n",
              "      <th>204374</th>\n",
              "      <td>NaN</td>\n",
              "      <td>NaN</td>\n",
              "      <td>2017020696</td>\n",
              "      <td>Boston Bruins</td>\n",
              "      <td>2</td>\n",
              "      <td>46.0</td>\n",
              "      <td>-20.0</td>\n",
              "      <td>Wrist Shot</td>\n",
              "      <td>0</td>\n",
              "      <td>NaN</td>\n",
              "      <td>322.0</td>\n",
              "      <td>47.423623</td>\n",
              "      <td>24.943905</td>\n",
              "      <td>0</td>\n",
              "      <td>Hit</td>\n",
              "      <td>83.0</td>\n",
              "      <td>-38.0</td>\n",
              "      <td>3.0</td>\n",
              "      <td>41.146081</td>\n",
              "      <td>False</td>\n",
              "      <td>13.715360</td>\n",
              "      <td>0.000000</td>\n",
              "      <td>0.000000</td>\n",
              "    </tr>\n",
              "    <tr>\n",
              "      <th>216153</th>\n",
              "      <td>NaN</td>\n",
              "      <td>NaN</td>\n",
              "      <td>2017020878</td>\n",
              "      <td>Florida Panthers</td>\n",
              "      <td>2</td>\n",
              "      <td>-81.0</td>\n",
              "      <td>-6.0</td>\n",
              "      <td>Backhand</td>\n",
              "      <td>0</td>\n",
              "      <td>NaN</td>\n",
              "      <td>926.0</td>\n",
              "      <td>10.000000</td>\n",
              "      <td>-36.869898</td>\n",
              "      <td>0</td>\n",
              "      <td>Faceoff</td>\n",
              "      <td>0.0</td>\n",
              "      <td>0.0</td>\n",
              "      <td>11.0</td>\n",
              "      <td>81.221918</td>\n",
              "      <td>False</td>\n",
              "      <td>7.383811</td>\n",
              "      <td>0.000000</td>\n",
              "      <td>0.000000</td>\n",
              "    </tr>\n",
              "  </tbody>\n",
              "</table>\n",
              "</div>"
            ],
            "text/plain": [
              "       result.penaltySeverity  ...  angleSpeed\n",
              "66325                     NaN  ...    0.000000\n",
              "209246                    NaN  ...    0.000000\n",
              "39879                     NaN  ...    0.933215\n",
              "204374                    NaN  ...    0.000000\n",
              "216153                    NaN  ...    0.000000\n",
              "\n",
              "[5 rows x 23 columns]"
            ]
          },
          "metadata": {},
          "execution_count": 17
        }
      ]
    },
    {
      "cell_type": "code",
      "metadata": {
        "id": "72IkWlL6JCtE"
      },
      "source": [
        "features = ['gameSeconds','timeFromLastEvent','gamePeriod','shotType', 'shotAngle','coordinatesX','coordinatesY', 'shotDistance','lastEventCoordinatesX','lastEventCoordinatesY','distanceFromLastEvent', 'rebound','speed','changeInShotAngle']\n",
        "label = ['isGoal']"
      ],
      "id": "72IkWlL6JCtE",
      "execution_count": 18,
      "outputs": []
    },
    {
      "cell_type": "code",
      "metadata": {
        "colab": {
          "base_uri": "https://localhost:8080/"
        },
        "id": "sbtgiVdKQ6tq",
        "outputId": "3ee5ce4c-85fb-4b2b-f677-6da40728ff6f"
      },
      "source": [
        "train_df[features].isna().any()\n",
        "valid_df[features].isna().any()\n",
        "valid_df[features].isna().any()"
      ],
      "id": "sbtgiVdKQ6tq",
      "execution_count": 19,
      "outputs": [
        {
          "output_type": "execute_result",
          "data": {
            "text/plain": [
              "gameSeconds              False\n",
              "timeFromLastEvent        False\n",
              "gamePeriod               False\n",
              "shotType                  True\n",
              "shotAngle                 True\n",
              "coordinatesX              True\n",
              "coordinatesY              True\n",
              "shotDistance              True\n",
              "lastEventCoordinatesX     True\n",
              "lastEventCoordinatesY     True\n",
              "distanceFromLastEvent     True\n",
              "rebound                  False\n",
              "speed                     True\n",
              "changeInShotAngle        False\n",
              "dtype: bool"
            ]
          },
          "metadata": {},
          "execution_count": 19
        }
      ]
    },
    {
      "cell_type": "markdown",
      "metadata": {
        "id": "LiB5e5M8YFRA"
      },
      "source": [
        "### Replace inf with nan (annoying in normalization)"
      ],
      "id": "LiB5e5M8YFRA"
    },
    {
      "cell_type": "code",
      "metadata": {
        "id": "pRj2nIZCXXLA"
      },
      "source": [
        "train_df.replace([np.inf, -np.inf], np.nan, inplace=True)\n",
        "valid_df.replace([np.inf, -np.inf], np.nan, inplace=True)\n",
        "test_df.replace([np.inf, -np.inf], np.nan, inplace=True)"
      ],
      "id": "pRj2nIZCXXLA",
      "execution_count": 20,
      "outputs": []
    },
    {
      "cell_type": "code",
      "metadata": {
        "id": "kMoH4JD-OP8Z"
      },
      "source": [
        "#drop rows with nan\n",
        "train_df = train_df[train_df['shotType'].notna()]\n",
        "valid_df = train_df[train_df['shotType'].notna()]\n",
        "test_df = train_df[train_df['shotType'].notna()]\n",
        "\n",
        "train_df = train_df[train_df['shotAngle'].notna()]\n",
        "valid_df = train_df[train_df['shotAngle'].notna()]\n",
        "test_df = train_df[train_df['shotAngle'].notna()]\n",
        "\n",
        "train_df = train_df[train_df['shotDistance'].notna()]\n",
        "valid_df = train_df[train_df['shotDistance'].notna()]\n",
        "test_df = train_df[train_df['shotDistance'].notna()]\n",
        "\n",
        "train_df = train_df[train_df['speed'].notna()]\n",
        "valid_df = train_df[train_df['speed'].notna()]\n",
        "test_df = train_df[train_df['speed'].notna()]\n",
        "\n",
        "train_df = train_df[train_df['changeInShotAngle'].notna()]\n",
        "valid_df = train_df[train_df['changeInShotAngle'].notna()]\n",
        "test_df = train_df[train_df['changeInShotAngle'].notna()]\n",
        "\n",
        "train_df = train_df[train_df['coordinatesX'].notna()]\n",
        "valid_df = train_df[train_df['coordinatesX'].notna()]\n",
        "test_df = train_df[train_df['coordinatesX'].notna()]\n",
        "\n",
        "train_df = train_df[train_df['coordinatesY'].notna()]\n",
        "valid_df = train_df[train_df['coordinatesY'].notna()]\n",
        "test_df = train_df[train_df['coordinatesY'].notna()]\n",
        "\n",
        "train_df = train_df[train_df['lastEventCoordinatesY'].notna()]\n",
        "valid_df = train_df[train_df['lastEventCoordinatesY'].notna()]\n",
        "test_df = train_df[train_df['lastEventCoordinatesY'].notna()]\n",
        "\n",
        "train_df = train_df[train_df['lastEventCoordinatesX'].notna()]\n",
        "valid_df = train_df[train_df['lastEventCoordinatesX'].notna()]\n",
        "test_df = train_df[train_df['lastEventCoordinatesX'].notna()]\n",
        "\n",
        "train_df = train_df[train_df['angleSpeed'].notna()]\n",
        "valid_df = train_df[train_df['angleSpeed'].notna()]\n",
        "test_df = train_df[train_df['angleSpeed'].notna()]\n",
        "\n"
      ],
      "id": "kMoH4JD-OP8Z",
      "execution_count": 21,
      "outputs": []
    },
    {
      "cell_type": "code",
      "metadata": {
        "colab": {
          "base_uri": "https://localhost:8080/"
        },
        "id": "VB2rx98tRfcM",
        "outputId": "18ec0ff7-ad62-4aa2-d5bf-a31c42e579ca"
      },
      "source": [
        "train_df[features].isna().any()\n",
        "valid_df[features].isna().any()\n",
        "valid_df[features].isna().any()"
      ],
      "id": "VB2rx98tRfcM",
      "execution_count": 22,
      "outputs": [
        {
          "output_type": "execute_result",
          "data": {
            "text/plain": [
              "gameSeconds              False\n",
              "timeFromLastEvent        False\n",
              "gamePeriod               False\n",
              "shotType                 False\n",
              "shotAngle                False\n",
              "coordinatesX             False\n",
              "coordinatesY             False\n",
              "shotDistance             False\n",
              "lastEventCoordinatesX    False\n",
              "lastEventCoordinatesY    False\n",
              "distanceFromLastEvent    False\n",
              "rebound                  False\n",
              "speed                    False\n",
              "changeInShotAngle        False\n",
              "dtype: bool"
            ]
          },
          "metadata": {},
          "execution_count": 22
        }
      ]
    },
    {
      "cell_type": "code",
      "metadata": {
        "id": "GD8YNmGS_9x_",
        "colab": {
          "base_uri": "https://localhost:8080/"
        },
        "outputId": "91d5453f-9859-4f8e-84e0-0ba81454e29b"
      },
      "source": [
        "X_train = train_df[features]\n",
        "y_train = train_df[label]\n",
        "\n",
        "X_valid = valid_df[features]\n",
        "y_valid = valid_df[label]\n",
        "\n",
        "X_test = test_df[features]\n",
        "y_test = test_df[label]\n",
        "\n",
        "X_train, y_train, X_valid, y_valid"
      ],
      "id": "GD8YNmGS_9x_",
      "execution_count": 23,
      "outputs": [
        {
          "output_type": "execute_result",
          "data": {
            "text/plain": [
              "(        gameSeconds  timeFromLastEvent  ...      speed changeInShotAngle\n",
              " 209246        313.0               13.0  ...   1.720052          0.000000\n",
              " 39879         199.0                1.0  ...  15.132746          0.933215\n",
              " 204374        322.0                3.0  ...  13.715360          0.000000\n",
              " 216153        926.0               11.0  ...   7.383811          0.000000\n",
              " 215070       1143.0               12.0  ...   1.169639          0.000000\n",
              " ...             ...                ...  ...        ...               ...\n",
              " 36565         931.0                2.0  ...  12.971122          8.537718\n",
              " 196617        914.0               14.0  ...   5.651440          0.000000\n",
              " 57478         427.0               22.0  ...   2.712841          0.000000\n",
              " 175285        801.0               19.0  ...   2.557916          0.000000\n",
              " 87516         833.0               19.0  ...   4.499615          0.000000\n",
              " \n",
              " [238046 rows x 14 columns],         isGoal\n",
              " 209246       0\n",
              " 39879        0\n",
              " 204374       0\n",
              " 216153       0\n",
              " 215070       0\n",
              " ...        ...\n",
              " 36565        0\n",
              " 196617       0\n",
              " 57478        0\n",
              " 175285       0\n",
              " 87516        0\n",
              " \n",
              " [238046 rows x 1 columns],         gameSeconds  timeFromLastEvent  ...      speed changeInShotAngle\n",
              " 209246        313.0               13.0  ...   1.720052          0.000000\n",
              " 39879         199.0                1.0  ...  15.132746          0.933215\n",
              " 204374        322.0                3.0  ...  13.715360          0.000000\n",
              " 216153        926.0               11.0  ...   7.383811          0.000000\n",
              " 215070       1143.0               12.0  ...   1.169639          0.000000\n",
              " ...             ...                ...  ...        ...               ...\n",
              " 36565         931.0                2.0  ...  12.971122          8.537718\n",
              " 196617        914.0               14.0  ...   5.651440          0.000000\n",
              " 57478         427.0               22.0  ...   2.712841          0.000000\n",
              " 175285        801.0               19.0  ...   2.557916          0.000000\n",
              " 87516         833.0               19.0  ...   4.499615          0.000000\n",
              " \n",
              " [238046 rows x 14 columns],         isGoal\n",
              " 209246       0\n",
              " 39879        0\n",
              " 204374       0\n",
              " 216153       0\n",
              " 215070       0\n",
              " ...        ...\n",
              " 36565        0\n",
              " 196617       0\n",
              " 57478        0\n",
              " 175285       0\n",
              " 87516        0\n",
              " \n",
              " [238046 rows x 1 columns])"
            ]
          },
          "metadata": {},
          "execution_count": 23
        }
      ]
    },
    {
      "cell_type": "markdown",
      "metadata": {
        "id": "IPckRPfMBNmS"
      },
      "source": [
        "### One Hot encode the shot type (I want to refer on the fact that the shot type affect the goal)"
      ],
      "id": "IPckRPfMBNmS"
    },
    {
      "cell_type": "code",
      "metadata": {
        "id": "xYi-kcc40ewe",
        "colab": {
          "base_uri": "https://localhost:8080/"
        },
        "outputId": "d47cecd3-1382-4949-c737-cfe0bcc9a9e4"
      },
      "source": [
        "X_train['shotType'].unique()"
      ],
      "id": "xYi-kcc40ewe",
      "execution_count": 24,
      "outputs": [
        {
          "output_type": "execute_result",
          "data": {
            "text/plain": [
              "array(['Wrist Shot', 'Backhand', 'Tip-In', 'Snap Shot', 'Wrap-around',\n",
              "       'Slap Shot', 'Deflected'], dtype=object)"
            ]
          },
          "metadata": {},
          "execution_count": 24
        }
      ]
    },
    {
      "cell_type": "code",
      "metadata": {
        "id": "UbKEX4EwBJaR"
      },
      "source": [
        "dum_train = pd.get_dummies(X_train['shotType'], prefix='Shot',dtype=int)\n",
        "dum_valid = pd.get_dummies(X_valid['shotType'], prefix='Shot',dtype=int)\n",
        "dum_test = pd.get_dummies(X_test['shotType'], prefix='Shot',dtype=int)"
      ],
      "id": "UbKEX4EwBJaR",
      "execution_count": 25,
      "outputs": []
    },
    {
      "cell_type": "code",
      "metadata": {
        "id": "wjqJnqntR4oS"
      },
      "source": [
        "X_train = pd.concat([X_train, dum_train], axis=1)\n",
        "X_valid = pd.concat([X_valid, dum_valid], axis=1)\n",
        "X_test = pd.concat([X_test, dum_test], axis=1)"
      ],
      "id": "wjqJnqntR4oS",
      "execution_count": 26,
      "outputs": []
    },
    {
      "cell_type": "code",
      "metadata": {
        "colab": {
          "base_uri": "https://localhost:8080/"
        },
        "id": "ZkzKhocsTR-z",
        "outputId": "ca1a6998-8ac2-4c31-80c7-dde8e05647ef"
      },
      "source": [
        "#check if no nans\n",
        "X_train.isna().any(), X_valid.isna().any(), X_test.isna().any()"
      ],
      "id": "ZkzKhocsTR-z",
      "execution_count": 27,
      "outputs": [
        {
          "output_type": "execute_result",
          "data": {
            "text/plain": [
              "(gameSeconds              False\n",
              " timeFromLastEvent        False\n",
              " gamePeriod               False\n",
              " shotType                 False\n",
              " shotAngle                False\n",
              " coordinatesX             False\n",
              " coordinatesY             False\n",
              " shotDistance             False\n",
              " lastEventCoordinatesX    False\n",
              " lastEventCoordinatesY    False\n",
              " distanceFromLastEvent    False\n",
              " rebound                  False\n",
              " speed                    False\n",
              " changeInShotAngle        False\n",
              " Shot_Backhand            False\n",
              " Shot_Deflected           False\n",
              " Shot_Slap Shot           False\n",
              " Shot_Snap Shot           False\n",
              " Shot_Tip-In              False\n",
              " Shot_Wrap-around         False\n",
              " Shot_Wrist Shot          False\n",
              " dtype: bool, gameSeconds              False\n",
              " timeFromLastEvent        False\n",
              " gamePeriod               False\n",
              " shotType                 False\n",
              " shotAngle                False\n",
              " coordinatesX             False\n",
              " coordinatesY             False\n",
              " shotDistance             False\n",
              " lastEventCoordinatesX    False\n",
              " lastEventCoordinatesY    False\n",
              " distanceFromLastEvent    False\n",
              " rebound                  False\n",
              " speed                    False\n",
              " changeInShotAngle        False\n",
              " Shot_Backhand            False\n",
              " Shot_Deflected           False\n",
              " Shot_Slap Shot           False\n",
              " Shot_Snap Shot           False\n",
              " Shot_Tip-In              False\n",
              " Shot_Wrap-around         False\n",
              " Shot_Wrist Shot          False\n",
              " dtype: bool, gameSeconds              False\n",
              " timeFromLastEvent        False\n",
              " gamePeriod               False\n",
              " shotType                 False\n",
              " shotAngle                False\n",
              " coordinatesX             False\n",
              " coordinatesY             False\n",
              " shotDistance             False\n",
              " lastEventCoordinatesX    False\n",
              " lastEventCoordinatesY    False\n",
              " distanceFromLastEvent    False\n",
              " rebound                  False\n",
              " speed                    False\n",
              " changeInShotAngle        False\n",
              " Shot_Backhand            False\n",
              " Shot_Deflected           False\n",
              " Shot_Slap Shot           False\n",
              " Shot_Snap Shot           False\n",
              " Shot_Tip-In              False\n",
              " Shot_Wrap-around         False\n",
              " Shot_Wrist Shot          False\n",
              " dtype: bool)"
            ]
          },
          "metadata": {},
          "execution_count": 27
        }
      ]
    },
    {
      "cell_type": "code",
      "metadata": {
        "id": "xEOoJtHCT1OK"
      },
      "source": [
        "X_train = X_train.drop(columns='shotType')\n",
        "X_valid = X_valid.drop(columns='shotType')\n",
        "X_test = X_test.drop(columns='shotType')"
      ],
      "id": "xEOoJtHCT1OK",
      "execution_count": 28,
      "outputs": []
    },
    {
      "cell_type": "markdown",
      "metadata": {
        "id": "md1L-3Wowpi6"
      },
      "source": [
        "## Do the same for gamePeriod"
      ],
      "id": "md1L-3Wowpi6"
    },
    {
      "cell_type": "code",
      "metadata": {
        "id": "bqkPl4lxwlNK",
        "colab": {
          "base_uri": "https://localhost:8080/"
        },
        "outputId": "993c923f-3148-477d-9c34-56ac72bca89f"
      },
      "source": [
        "dum_train = pd.get_dummies(X_train['gamePeriod'], prefix='Period',dtype=int)\n",
        "dum_valid = pd.get_dummies(X_valid['gamePeriod'], prefix='Period',dtype=int)\n",
        "dum_test = pd.get_dummies(X_test['gamePeriod'], prefix='Period',dtype=int)\n",
        "\n",
        "X_train = pd.concat([X_train, dum_train], axis=1)\n",
        "X_valid = pd.concat([X_valid, dum_valid], axis=1)\n",
        "X_test = pd.concat([X_test, dum_test], axis=1)\n",
        "\n",
        "#check if no nans\n",
        "X_train.isna().any(), X_valid.isna().any(), X_test.isna().any()"
      ],
      "id": "bqkPl4lxwlNK",
      "execution_count": 29,
      "outputs": [
        {
          "output_type": "execute_result",
          "data": {
            "text/plain": [
              "(gameSeconds              False\n",
              " timeFromLastEvent        False\n",
              " gamePeriod               False\n",
              " shotAngle                False\n",
              " coordinatesX             False\n",
              " coordinatesY             False\n",
              " shotDistance             False\n",
              " lastEventCoordinatesX    False\n",
              " lastEventCoordinatesY    False\n",
              " distanceFromLastEvent    False\n",
              " rebound                  False\n",
              " speed                    False\n",
              " changeInShotAngle        False\n",
              " Shot_Backhand            False\n",
              " Shot_Deflected           False\n",
              " Shot_Slap Shot           False\n",
              " Shot_Snap Shot           False\n",
              " Shot_Tip-In              False\n",
              " Shot_Wrap-around         False\n",
              " Shot_Wrist Shot          False\n",
              " Period_1                 False\n",
              " Period_2                 False\n",
              " Period_3                 False\n",
              " Period_4                 False\n",
              " Period_5                 False\n",
              " Period_6                 False\n",
              " dtype: bool, gameSeconds              False\n",
              " timeFromLastEvent        False\n",
              " gamePeriod               False\n",
              " shotAngle                False\n",
              " coordinatesX             False\n",
              " coordinatesY             False\n",
              " shotDistance             False\n",
              " lastEventCoordinatesX    False\n",
              " lastEventCoordinatesY    False\n",
              " distanceFromLastEvent    False\n",
              " rebound                  False\n",
              " speed                    False\n",
              " changeInShotAngle        False\n",
              " Shot_Backhand            False\n",
              " Shot_Deflected           False\n",
              " Shot_Slap Shot           False\n",
              " Shot_Snap Shot           False\n",
              " Shot_Tip-In              False\n",
              " Shot_Wrap-around         False\n",
              " Shot_Wrist Shot          False\n",
              " Period_1                 False\n",
              " Period_2                 False\n",
              " Period_3                 False\n",
              " Period_4                 False\n",
              " Period_5                 False\n",
              " Period_6                 False\n",
              " dtype: bool, gameSeconds              False\n",
              " timeFromLastEvent        False\n",
              " gamePeriod               False\n",
              " shotAngle                False\n",
              " coordinatesX             False\n",
              " coordinatesY             False\n",
              " shotDistance             False\n",
              " lastEventCoordinatesX    False\n",
              " lastEventCoordinatesY    False\n",
              " distanceFromLastEvent    False\n",
              " rebound                  False\n",
              " speed                    False\n",
              " changeInShotAngle        False\n",
              " Shot_Backhand            False\n",
              " Shot_Deflected           False\n",
              " Shot_Slap Shot           False\n",
              " Shot_Snap Shot           False\n",
              " Shot_Tip-In              False\n",
              " Shot_Wrap-around         False\n",
              " Shot_Wrist Shot          False\n",
              " Period_1                 False\n",
              " Period_2                 False\n",
              " Period_3                 False\n",
              " Period_4                 False\n",
              " Period_5                 False\n",
              " Period_6                 False\n",
              " dtype: bool)"
            ]
          },
          "metadata": {},
          "execution_count": 29
        }
      ]
    },
    {
      "cell_type": "code",
      "metadata": {
        "id": "SAYkWau0xRML"
      },
      "source": [
        "#drop gamePeriod\n",
        "X_train = X_train.drop(columns='gamePeriod')\n",
        "X_valid = X_valid.drop(columns='gamePeriod')\n",
        "X_test = X_test.drop(columns='gamePeriod')"
      ],
      "id": "SAYkWau0xRML",
      "execution_count": 30,
      "outputs": []
    },
    {
      "cell_type": "markdown",
      "metadata": {
        "id": "qkMP6uMUHZjK"
      },
      "source": [
        "# Change rebound feature"
      ],
      "id": "qkMP6uMUHZjK"
    },
    {
      "cell_type": "code",
      "metadata": {
        "id": "qrbQkwBdDSBn"
      },
      "source": [
        "X_train['rebound'] = X_train['rebound'].astype(int)\n",
        "X_valid['rebound'] = X_valid['rebound'].astype(int)\n",
        "X_test['rebound'] = X_test['rebound'].astype(int)"
      ],
      "id": "qrbQkwBdDSBn",
      "execution_count": 31,
      "outputs": []
    },
    {
      "cell_type": "code",
      "metadata": {
        "id": "Br-EHuqUEk65",
        "colab": {
          "base_uri": "https://localhost:8080/",
          "height": 243
        },
        "outputId": "57de4aa4-5b63-49e7-ce82-f9493b80ca2f"
      },
      "source": [
        "X_test.head()"
      ],
      "id": "Br-EHuqUEk65",
      "execution_count": 32,
      "outputs": [
        {
          "output_type": "execute_result",
          "data": {
            "text/html": [
              "<div>\n",
              "<style scoped>\n",
              "    .dataframe tbody tr th:only-of-type {\n",
              "        vertical-align: middle;\n",
              "    }\n",
              "\n",
              "    .dataframe tbody tr th {\n",
              "        vertical-align: top;\n",
              "    }\n",
              "\n",
              "    .dataframe thead th {\n",
              "        text-align: right;\n",
              "    }\n",
              "</style>\n",
              "<table border=\"1\" class=\"dataframe\">\n",
              "  <thead>\n",
              "    <tr style=\"text-align: right;\">\n",
              "      <th></th>\n",
              "      <th>gameSeconds</th>\n",
              "      <th>timeFromLastEvent</th>\n",
              "      <th>shotAngle</th>\n",
              "      <th>coordinatesX</th>\n",
              "      <th>coordinatesY</th>\n",
              "      <th>shotDistance</th>\n",
              "      <th>lastEventCoordinatesX</th>\n",
              "      <th>lastEventCoordinatesY</th>\n",
              "      <th>distanceFromLastEvent</th>\n",
              "      <th>rebound</th>\n",
              "      <th>speed</th>\n",
              "      <th>changeInShotAngle</th>\n",
              "      <th>Shot_Backhand</th>\n",
              "      <th>Shot_Deflected</th>\n",
              "      <th>Shot_Slap Shot</th>\n",
              "      <th>Shot_Snap Shot</th>\n",
              "      <th>Shot_Tip-In</th>\n",
              "      <th>Shot_Wrap-around</th>\n",
              "      <th>Shot_Wrist Shot</th>\n",
              "      <th>Period_1</th>\n",
              "      <th>Period_2</th>\n",
              "      <th>Period_3</th>\n",
              "      <th>Period_4</th>\n",
              "      <th>Period_5</th>\n",
              "      <th>Period_6</th>\n",
              "    </tr>\n",
              "  </thead>\n",
              "  <tbody>\n",
              "    <tr>\n",
              "      <th>209246</th>\n",
              "      <td>313.0</td>\n",
              "      <td>13.0</td>\n",
              "      <td>2.602562</td>\n",
              "      <td>-45.0</td>\n",
              "      <td>2.0</td>\n",
              "      <td>44.045431</td>\n",
              "      <td>-49.0</td>\n",
              "      <td>24.0</td>\n",
              "      <td>22.360680</td>\n",
              "      <td>0</td>\n",
              "      <td>1.720052</td>\n",
              "      <td>0.000000</td>\n",
              "      <td>0</td>\n",
              "      <td>0</td>\n",
              "      <td>0</td>\n",
              "      <td>0</td>\n",
              "      <td>0</td>\n",
              "      <td>0</td>\n",
              "      <td>1</td>\n",
              "      <td>0</td>\n",
              "      <td>0</td>\n",
              "      <td>1</td>\n",
              "      <td>0</td>\n",
              "      <td>0</td>\n",
              "      <td>0</td>\n",
              "    </tr>\n",
              "    <tr>\n",
              "      <th>39879</th>\n",
              "      <td>199.0</td>\n",
              "      <td>1.0</td>\n",
              "      <td>-2.021365</td>\n",
              "      <td>-81.0</td>\n",
              "      <td>6.0</td>\n",
              "      <td>170.105849</td>\n",
              "      <td>-66.0</td>\n",
              "      <td>8.0</td>\n",
              "      <td>15.132746</td>\n",
              "      <td>1</td>\n",
              "      <td>15.132746</td>\n",
              "      <td>0.933215</td>\n",
              "      <td>0</td>\n",
              "      <td>0</td>\n",
              "      <td>0</td>\n",
              "      <td>0</td>\n",
              "      <td>0</td>\n",
              "      <td>0</td>\n",
              "      <td>1</td>\n",
              "      <td>0</td>\n",
              "      <td>0</td>\n",
              "      <td>1</td>\n",
              "      <td>0</td>\n",
              "      <td>0</td>\n",
              "      <td>0</td>\n",
              "    </tr>\n",
              "    <tr>\n",
              "      <th>204374</th>\n",
              "      <td>322.0</td>\n",
              "      <td>3.0</td>\n",
              "      <td>24.943905</td>\n",
              "      <td>46.0</td>\n",
              "      <td>-20.0</td>\n",
              "      <td>47.423623</td>\n",
              "      <td>83.0</td>\n",
              "      <td>-38.0</td>\n",
              "      <td>41.146081</td>\n",
              "      <td>0</td>\n",
              "      <td>13.715360</td>\n",
              "      <td>0.000000</td>\n",
              "      <td>0</td>\n",
              "      <td>0</td>\n",
              "      <td>0</td>\n",
              "      <td>0</td>\n",
              "      <td>0</td>\n",
              "      <td>0</td>\n",
              "      <td>1</td>\n",
              "      <td>0</td>\n",
              "      <td>1</td>\n",
              "      <td>0</td>\n",
              "      <td>0</td>\n",
              "      <td>0</td>\n",
              "      <td>0</td>\n",
              "    </tr>\n",
              "    <tr>\n",
              "      <th>216153</th>\n",
              "      <td>926.0</td>\n",
              "      <td>11.0</td>\n",
              "      <td>-36.869898</td>\n",
              "      <td>-81.0</td>\n",
              "      <td>-6.0</td>\n",
              "      <td>10.000000</td>\n",
              "      <td>0.0</td>\n",
              "      <td>0.0</td>\n",
              "      <td>81.221918</td>\n",
              "      <td>0</td>\n",
              "      <td>7.383811</td>\n",
              "      <td>0.000000</td>\n",
              "      <td>1</td>\n",
              "      <td>0</td>\n",
              "      <td>0</td>\n",
              "      <td>0</td>\n",
              "      <td>0</td>\n",
              "      <td>0</td>\n",
              "      <td>0</td>\n",
              "      <td>0</td>\n",
              "      <td>1</td>\n",
              "      <td>0</td>\n",
              "      <td>0</td>\n",
              "      <td>0</td>\n",
              "      <td>0</td>\n",
              "    </tr>\n",
              "    <tr>\n",
              "      <th>215070</th>\n",
              "      <td>1143.0</td>\n",
              "      <td>12.0</td>\n",
              "      <td>74.054604</td>\n",
              "      <td>79.0</td>\n",
              "      <td>-35.0</td>\n",
              "      <td>36.400549</td>\n",
              "      <td>93.0</td>\n",
              "      <td>-36.0</td>\n",
              "      <td>14.035669</td>\n",
              "      <td>0</td>\n",
              "      <td>1.169639</td>\n",
              "      <td>0.000000</td>\n",
              "      <td>0</td>\n",
              "      <td>0</td>\n",
              "      <td>0</td>\n",
              "      <td>0</td>\n",
              "      <td>0</td>\n",
              "      <td>0</td>\n",
              "      <td>1</td>\n",
              "      <td>0</td>\n",
              "      <td>1</td>\n",
              "      <td>0</td>\n",
              "      <td>0</td>\n",
              "      <td>0</td>\n",
              "      <td>0</td>\n",
              "    </tr>\n",
              "  </tbody>\n",
              "</table>\n",
              "</div>"
            ],
            "text/plain": [
              "        gameSeconds  timeFromLastEvent  shotAngle  ...  Period_4  Period_5  Period_6\n",
              "209246        313.0               13.0   2.602562  ...         0         0         0\n",
              "39879         199.0                1.0  -2.021365  ...         0         0         0\n",
              "204374        322.0                3.0  24.943905  ...         0         0         0\n",
              "216153        926.0               11.0 -36.869898  ...         0         0         0\n",
              "215070       1143.0               12.0  74.054604  ...         0         0         0\n",
              "\n",
              "[5 rows x 25 columns]"
            ]
          },
          "metadata": {},
          "execution_count": 32
        }
      ]
    },
    {
      "cell_type": "markdown",
      "metadata": {
        "id": "p1fedCBRVXRa"
      },
      "source": [
        "# Normalize numerical data "
      ],
      "id": "p1fedCBRVXRa"
    },
    {
      "cell_type": "code",
      "metadata": {
        "id": "eG5RixUBVbxJ"
      },
      "source": [
        "num = ['gameSeconds','timeFromLastEvent', 'shotAngle','coordinatesX','coordinatesY', 'shotDistance','lastEventCoordinatesX','lastEventCoordinatesY','distanceFromLastEvent','speed','changeInShotAngle']"
      ],
      "id": "eG5RixUBVbxJ",
      "execution_count": 33,
      "outputs": []
    },
    {
      "cell_type": "code",
      "metadata": {
        "id": "lVyUXeSCWRTE"
      },
      "source": [
        "from sklearn.preprocessing import StandardScaler\n",
        "\n",
        "scaler = StandardScaler()\n",
        "scaler.fit(X_train[num])\n",
        "\n",
        "X_train[num] = scaler.transform(X_train[num])\n",
        "X_valid[num] = scaler.transform(X_valid[num])\n",
        "X_test[num] = scaler.transform(X_test[num])"
      ],
      "id": "lVyUXeSCWRTE",
      "execution_count": 34,
      "outputs": []
    },
    {
      "cell_type": "code",
      "metadata": {
        "colab": {
          "base_uri": "https://localhost:8080/",
          "height": 461
        },
        "id": "9t_C_0JVYcqu",
        "outputId": "2f773a7e-950d-49cc-b034-630b2d8bf9a8"
      },
      "source": [
        "X_test"
      ],
      "id": "9t_C_0JVYcqu",
      "execution_count": 35,
      "outputs": [
        {
          "output_type": "execute_result",
          "data": {
            "text/html": [
              "<div>\n",
              "<style scoped>\n",
              "    .dataframe tbody tr th:only-of-type {\n",
              "        vertical-align: middle;\n",
              "    }\n",
              "\n",
              "    .dataframe tbody tr th {\n",
              "        vertical-align: top;\n",
              "    }\n",
              "\n",
              "    .dataframe thead th {\n",
              "        text-align: right;\n",
              "    }\n",
              "</style>\n",
              "<table border=\"1\" class=\"dataframe\">\n",
              "  <thead>\n",
              "    <tr style=\"text-align: right;\">\n",
              "      <th></th>\n",
              "      <th>gameSeconds</th>\n",
              "      <th>timeFromLastEvent</th>\n",
              "      <th>shotAngle</th>\n",
              "      <th>coordinatesX</th>\n",
              "      <th>coordinatesY</th>\n",
              "      <th>shotDistance</th>\n",
              "      <th>lastEventCoordinatesX</th>\n",
              "      <th>lastEventCoordinatesY</th>\n",
              "      <th>distanceFromLastEvent</th>\n",
              "      <th>rebound</th>\n",
              "      <th>speed</th>\n",
              "      <th>changeInShotAngle</th>\n",
              "      <th>Shot_Backhand</th>\n",
              "      <th>Shot_Deflected</th>\n",
              "      <th>Shot_Slap Shot</th>\n",
              "      <th>Shot_Snap Shot</th>\n",
              "      <th>Shot_Tip-In</th>\n",
              "      <th>Shot_Wrap-around</th>\n",
              "      <th>Shot_Wrist Shot</th>\n",
              "      <th>Period_1</th>\n",
              "      <th>Period_2</th>\n",
              "      <th>Period_3</th>\n",
              "      <th>Period_4</th>\n",
              "      <th>Period_5</th>\n",
              "      <th>Period_6</th>\n",
              "    </tr>\n",
              "  </thead>\n",
              "  <tbody>\n",
              "    <tr>\n",
              "      <th>209246</th>\n",
              "      <td>-0.807906</td>\n",
              "      <td>-0.172165</td>\n",
              "      <td>0.047263</td>\n",
              "      <td>-0.711864</td>\n",
              "      <td>0.122758</td>\n",
              "      <td>0.125906</td>\n",
              "      <td>-0.760148</td>\n",
              "      <td>1.041877</td>\n",
              "      <td>-0.860074</td>\n",
              "      <td>0</td>\n",
              "      <td>-0.622041</td>\n",
              "      <td>-0.363797</td>\n",
              "      <td>0</td>\n",
              "      <td>0</td>\n",
              "      <td>0</td>\n",
              "      <td>0</td>\n",
              "      <td>0</td>\n",
              "      <td>0</td>\n",
              "      <td>1</td>\n",
              "      <td>0</td>\n",
              "      <td>0</td>\n",
              "      <td>1</td>\n",
              "      <td>0</td>\n",
              "      <td>0</td>\n",
              "      <td>0</td>\n",
              "    </tr>\n",
              "    <tr>\n",
              "      <th>39879</th>\n",
              "      <td>-1.135311</td>\n",
              "      <td>-0.984007</td>\n",
              "      <td>-0.079490</td>\n",
              "      <td>-1.279544</td>\n",
              "      <td>0.331636</td>\n",
              "      <td>4.089676</td>\n",
              "      <td>-1.022945</td>\n",
              "      <td>0.350659</td>\n",
              "      <td>-1.016729</td>\n",
              "      <td>1</td>\n",
              "      <td>0.708400</td>\n",
              "      <td>-0.318477</td>\n",
              "      <td>0</td>\n",
              "      <td>0</td>\n",
              "      <td>0</td>\n",
              "      <td>0</td>\n",
              "      <td>0</td>\n",
              "      <td>0</td>\n",
              "      <td>1</td>\n",
              "      <td>0</td>\n",
              "      <td>0</td>\n",
              "      <td>1</td>\n",
              "      <td>0</td>\n",
              "      <td>0</td>\n",
              "      <td>0</td>\n",
              "    </tr>\n",
              "    <tr>\n",
              "      <th>204374</th>\n",
              "      <td>-0.782058</td>\n",
              "      <td>-0.848700</td>\n",
              "      <td>0.659694</td>\n",
              "      <td>0.723107</td>\n",
              "      <td>-1.026065</td>\n",
              "      <td>0.232128</td>\n",
              "      <td>1.280395</td>\n",
              "      <td>-1.636592</td>\n",
              "      <td>-0.452926</td>\n",
              "      <td>0</td>\n",
              "      <td>0.567805</td>\n",
              "      <td>-0.363797</td>\n",
              "      <td>0</td>\n",
              "      <td>0</td>\n",
              "      <td>0</td>\n",
              "      <td>0</td>\n",
              "      <td>0</td>\n",
              "      <td>0</td>\n",
              "      <td>1</td>\n",
              "      <td>0</td>\n",
              "      <td>1</td>\n",
              "      <td>0</td>\n",
              "      <td>0</td>\n",
              "      <td>0</td>\n",
              "      <td>0</td>\n",
              "    </tr>\n",
              "    <tr>\n",
              "      <th>216153</th>\n",
              "      <td>0.952617</td>\n",
              "      <td>-0.307472</td>\n",
              "      <td>-1.034773</td>\n",
              "      <td>-1.279544</td>\n",
              "      <td>-0.294996</td>\n",
              "      <td>-0.944599</td>\n",
              "      <td>-0.002674</td>\n",
              "      <td>0.005050</td>\n",
              "      <td>0.415662</td>\n",
              "      <td>0</td>\n",
              "      <td>-0.060238</td>\n",
              "      <td>-0.363797</td>\n",
              "      <td>1</td>\n",
              "      <td>0</td>\n",
              "      <td>0</td>\n",
              "      <td>0</td>\n",
              "      <td>0</td>\n",
              "      <td>0</td>\n",
              "      <td>0</td>\n",
              "      <td>0</td>\n",
              "      <td>1</td>\n",
              "      <td>0</td>\n",
              "      <td>0</td>\n",
              "      <td>0</td>\n",
              "      <td>0</td>\n",
              "    </tr>\n",
              "    <tr>\n",
              "      <th>215070</th>\n",
              "      <td>1.575836</td>\n",
              "      <td>-0.239818</td>\n",
              "      <td>2.005938</td>\n",
              "      <td>1.243480</td>\n",
              "      <td>-1.809354</td>\n",
              "      <td>-0.114475</td>\n",
              "      <td>1.434981</td>\n",
              "      <td>-1.550190</td>\n",
              "      <td>-1.040507</td>\n",
              "      <td>0</td>\n",
              "      <td>-0.676638</td>\n",
              "      <td>-0.363797</td>\n",
              "      <td>0</td>\n",
              "      <td>0</td>\n",
              "      <td>0</td>\n",
              "      <td>0</td>\n",
              "      <td>0</td>\n",
              "      <td>0</td>\n",
              "      <td>1</td>\n",
              "      <td>0</td>\n",
              "      <td>1</td>\n",
              "      <td>0</td>\n",
              "      <td>0</td>\n",
              "      <td>0</td>\n",
              "      <td>0</td>\n",
              "    </tr>\n",
              "    <tr>\n",
              "      <th>...</th>\n",
              "      <td>...</td>\n",
              "      <td>...</td>\n",
              "      <td>...</td>\n",
              "      <td>...</td>\n",
              "      <td>...</td>\n",
              "      <td>...</td>\n",
              "      <td>...</td>\n",
              "      <td>...</td>\n",
              "      <td>...</td>\n",
              "      <td>...</td>\n",
              "      <td>...</td>\n",
              "      <td>...</td>\n",
              "      <td>...</td>\n",
              "      <td>...</td>\n",
              "      <td>...</td>\n",
              "      <td>...</td>\n",
              "      <td>...</td>\n",
              "      <td>...</td>\n",
              "      <td>...</td>\n",
              "      <td>...</td>\n",
              "      <td>...</td>\n",
              "      <td>...</td>\n",
              "      <td>...</td>\n",
              "      <td>...</td>\n",
              "      <td>...</td>\n",
              "    </tr>\n",
              "    <tr>\n",
              "      <th>36565</th>\n",
              "      <td>0.966977</td>\n",
              "      <td>-0.916354</td>\n",
              "      <td>0.053419</td>\n",
              "      <td>1.148867</td>\n",
              "      <td>0.436074</td>\n",
              "      <td>3.841007</td>\n",
              "      <td>0.940304</td>\n",
              "      <td>-0.642967</td>\n",
              "      <td>-0.782449</td>\n",
              "      <td>1</td>\n",
              "      <td>0.493982</td>\n",
              "      <td>0.050821</td>\n",
              "      <td>1</td>\n",
              "      <td>0</td>\n",
              "      <td>0</td>\n",
              "      <td>0</td>\n",
              "      <td>0</td>\n",
              "      <td>0</td>\n",
              "      <td>0</td>\n",
              "      <td>0</td>\n",
              "      <td>0</td>\n",
              "      <td>1</td>\n",
              "      <td>0</td>\n",
              "      <td>0</td>\n",
              "      <td>0</td>\n",
              "    </tr>\n",
              "    <tr>\n",
              "      <th>196617</th>\n",
              "      <td>0.918153</td>\n",
              "      <td>-0.104511</td>\n",
              "      <td>-0.524408</td>\n",
              "      <td>-0.081108</td>\n",
              "      <td>1.637117</td>\n",
              "      <td>1.853230</td>\n",
              "      <td>-1.254825</td>\n",
              "      <td>0.393860</td>\n",
              "      <td>0.370109</td>\n",
              "      <td>0</td>\n",
              "      <td>-0.232076</td>\n",
              "      <td>-0.363797</td>\n",
              "      <td>0</td>\n",
              "      <td>0</td>\n",
              "      <td>0</td>\n",
              "      <td>0</td>\n",
              "      <td>0</td>\n",
              "      <td>0</td>\n",
              "      <td>1</td>\n",
              "      <td>0</td>\n",
              "      <td>0</td>\n",
              "      <td>1</td>\n",
              "      <td>0</td>\n",
              "      <td>0</td>\n",
              "      <td>0</td>\n",
              "    </tr>\n",
              "    <tr>\n",
              "      <th>57478</th>\n",
              "      <td>-0.480500</td>\n",
              "      <td>0.436717</td>\n",
              "      <td>-1.049451</td>\n",
              "      <td>-1.137624</td>\n",
              "      <td>-0.660530</td>\n",
              "      <td>-0.586114</td>\n",
              "      <td>-0.636479</td>\n",
              "      <td>1.646692</td>\n",
              "      <td>-0.051175</td>\n",
              "      <td>0</td>\n",
              "      <td>-0.523564</td>\n",
              "      <td>-0.363797</td>\n",
              "      <td>0</td>\n",
              "      <td>0</td>\n",
              "      <td>0</td>\n",
              "      <td>1</td>\n",
              "      <td>0</td>\n",
              "      <td>0</td>\n",
              "      <td>0</td>\n",
              "      <td>0</td>\n",
              "      <td>1</td>\n",
              "      <td>0</td>\n",
              "      <td>0</td>\n",
              "      <td>0</td>\n",
              "      <td>0</td>\n",
              "    </tr>\n",
              "    <tr>\n",
              "      <th>175285</th>\n",
              "      <td>0.593620</td>\n",
              "      <td>0.233757</td>\n",
              "      <td>0.801412</td>\n",
              "      <td>0.612724</td>\n",
              "      <td>-1.496039</td>\n",
              "      <td>0.558440</td>\n",
              "      <td>-0.002674</td>\n",
              "      <td>0.005050</td>\n",
              "      <td>-0.291364</td>\n",
              "      <td>0</td>\n",
              "      <td>-0.538931</td>\n",
              "      <td>-0.363797</td>\n",
              "      <td>0</td>\n",
              "      <td>0</td>\n",
              "      <td>1</td>\n",
              "      <td>0</td>\n",
              "      <td>0</td>\n",
              "      <td>0</td>\n",
              "      <td>0</td>\n",
              "      <td>1</td>\n",
              "      <td>0</td>\n",
              "      <td>0</td>\n",
              "      <td>0</td>\n",
              "      <td>0</td>\n",
              "      <td>0</td>\n",
              "    </tr>\n",
              "    <tr>\n",
              "      <th>87516</th>\n",
              "      <td>0.685523</td>\n",
              "      <td>0.233757</td>\n",
              "      <td>1.964770</td>\n",
              "      <td>-1.232238</td>\n",
              "      <td>1.845994</td>\n",
              "      <td>-0.105441</td>\n",
              "      <td>-0.002674</td>\n",
              "      <td>0.005050</td>\n",
              "      <td>0.508225</td>\n",
              "      <td>0</td>\n",
              "      <td>-0.346329</td>\n",
              "      <td>-0.363797</td>\n",
              "      <td>0</td>\n",
              "      <td>0</td>\n",
              "      <td>0</td>\n",
              "      <td>0</td>\n",
              "      <td>0</td>\n",
              "      <td>0</td>\n",
              "      <td>1</td>\n",
              "      <td>0</td>\n",
              "      <td>0</td>\n",
              "      <td>1</td>\n",
              "      <td>0</td>\n",
              "      <td>0</td>\n",
              "      <td>0</td>\n",
              "    </tr>\n",
              "  </tbody>\n",
              "</table>\n",
              "<p>238046 rows × 25 columns</p>\n",
              "</div>"
            ],
            "text/plain": [
              "        gameSeconds  timeFromLastEvent  shotAngle  ...  Period_4  Period_5  Period_6\n",
              "209246    -0.807906          -0.172165   0.047263  ...         0         0         0\n",
              "39879     -1.135311          -0.984007  -0.079490  ...         0         0         0\n",
              "204374    -0.782058          -0.848700   0.659694  ...         0         0         0\n",
              "216153     0.952617          -0.307472  -1.034773  ...         0         0         0\n",
              "215070     1.575836          -0.239818   2.005938  ...         0         0         0\n",
              "...             ...                ...        ...  ...       ...       ...       ...\n",
              "36565      0.966977          -0.916354   0.053419  ...         0         0         0\n",
              "196617     0.918153          -0.104511  -0.524408  ...         0         0         0\n",
              "57478     -0.480500           0.436717  -1.049451  ...         0         0         0\n",
              "175285     0.593620           0.233757   0.801412  ...         0         0         0\n",
              "87516      0.685523           0.233757   1.964770  ...         0         0         0\n",
              "\n",
              "[238046 rows x 25 columns]"
            ]
          },
          "metadata": {},
          "execution_count": 35
        }
      ]
    },
    {
      "cell_type": "markdown",
      "metadata": {
        "id": "UQVVMq0iJmIs"
      },
      "source": [
        "# Try Random Forest"
      ],
      "id": "UQVVMq0iJmIs"
    },
    {
      "cell_type": "code",
      "metadata": {
        "id": "QMS2ZkPeI3do"
      },
      "source": [
        "from sklearn.ensemble import RandomForestClassifier\n",
        "from sklearn.experimental import enable_halving_search_cv\n",
        "from sklearn.model_selection import HalvingGridSearchCV\n",
        "\n",
        "# Create the parameter grid based on the results of random search \n",
        "param_grid = {\n",
        "    'n_estimators':[50,65,80,100,115,130,150],\n",
        "     'max_depth': [5,6,7,8,9,10,11,12,13,14]\n",
        "}\n",
        "\n",
        "rf = RandomForestClassifier(criterion='entropy')\n",
        "sh = HalvingGridSearchCV(rf,param_grid, cv=4)\n",
        "model = sh.fit(X_train,y_train)"
      ],
      "id": "QMS2ZkPeI3do",
      "execution_count": 36,
      "outputs": []
    },
    {
      "cell_type": "code",
      "metadata": {
        "id": "iLSfbahVakWy",
        "outputId": "467453c4-e297-4ac1-dfd2-d2828fe1d8df",
        "colab": {
          "base_uri": "https://localhost:8080/"
        }
      },
      "source": [
        "model.best_estimator_"
      ],
      "id": "iLSfbahVakWy",
      "execution_count": 37,
      "outputs": [
        {
          "output_type": "execute_result",
          "data": {
            "text/plain": [
              "RandomForestClassifier(criterion='entropy', max_depth=11, n_estimators=80)"
            ]
          },
          "metadata": {},
          "execution_count": 37
        }
      ]
    },
    {
      "cell_type": "code",
      "metadata": {
        "id": "nuPU-E-uhptX"
      },
      "source": [
        "y_pred_valid  = model.predict(X_valid)"
      ],
      "id": "nuPU-E-uhptX",
      "execution_count": 38,
      "outputs": []
    },
    {
      "cell_type": "code",
      "metadata": {
        "id": "mPzwKTEhiIPa"
      },
      "source": [
        "y_proba_val = model.predict_proba(X_valid)[:,1] # get the proba of having a goal (pred=1)"
      ],
      "id": "mPzwKTEhiIPa",
      "execution_count": 39,
      "outputs": []
    },
    {
      "cell_type": "code",
      "metadata": {
        "id": "--dZClQLiM63",
        "outputId": "0416adb6-0eaf-4fbe-a1fa-0dedb127725c",
        "colab": {
          "base_uri": "https://localhost:8080/"
        }
      },
      "source": [
        "score_ = model.score(X_valid,y_valid)\n",
        "score_"
      ],
      "id": "--dZClQLiM63",
      "execution_count": 40,
      "outputs": [
        {
          "output_type": "execute_result",
          "data": {
            "text/plain": [
              "0.9109541853255253"
            ]
          },
          "metadata": {},
          "execution_count": 40
        }
      ]
    },
    {
      "cell_type": "code",
      "metadata": {
        "id": "-4NtOh_X-q7g"
      },
      "source": [
        "%matplotlib inline\n",
        "plt.close('all')"
      ],
      "id": "-4NtOh_X-q7g",
      "execution_count": 52,
      "outputs": []
    },
    {
      "cell_type": "markdown",
      "metadata": {
        "id": "sVw66t1QhYSZ"
      },
      "source": [
        "# Export model on comet before plotting"
      ],
      "id": "sVw66t1QhYSZ"
    },
    {
      "cell_type": "code",
      "metadata": {
        "id": "IN7rF_wui8LW"
      },
      "source": [
        "weights_dir = \"../ift6758/models/weights\"\n",
        "experiment = \"Random-forest-with-FE2\"\n",
        "predscore_val_dict={}"
      ],
      "id": "IN7rF_wui8LW",
      "execution_count": 41,
      "outputs": []
    },
    {
      "cell_type": "code",
      "metadata": {
        "id": "LDQS_iZvkPTH",
        "outputId": "1837c9fc-cd40-454e-fca5-515052f9116b",
        "colab": {
          "base_uri": "https://localhost:8080/"
        }
      },
      "source": [
        "!ls .."
      ],
      "id": "LDQS_iZvkPTH",
      "execution_count": 42,
      "outputs": [
        {
          "output_type": "stream",
          "name": "stdout",
          "text": [
            "ift6758  ift6758-project-main\n"
          ]
        }
      ]
    },
    {
      "cell_type": "code",
      "metadata": {
        "id": "0VV3-XKcgDVq",
        "outputId": "a6763998-bdde-4447-a7f5-9c0793187c0b",
        "colab": {
          "base_uri": "https://localhost:8080/"
        }
      },
      "source": [
        "import joblib\n",
        "\n",
        "predscore_val_dict[experiment]={}\n",
        "predscore_val_dict[experiment]['true_valid_label']=y_valid\n",
        "predscore_val_dict[experiment]['proba']=y_proba_val\n",
        "predscore_val_dict[experiment]['prediction']=y_pred_valid\n",
        "\n",
        "## Dumping model\n",
        "filename=f\"{weights_dir}/{experiment}.pkl\"\n",
        "joblib.dump(model,filename)"
      ],
      "id": "0VV3-XKcgDVq",
      "execution_count": 43,
      "outputs": [
        {
          "output_type": "execute_result",
          "data": {
            "text/plain": [
              "['../ift6758/models/weights/Random-forest-with-FE2.pkl']"
            ]
          },
          "metadata": {},
          "execution_count": 43
        }
      ]
    },
    {
      "cell_type": "code",
      "metadata": {
        "id": "2jcopP6hg6ns",
        "colab": {
          "base_uri": "https://localhost:8080/"
        },
        "outputId": "0451a930-f184-448a-c5c3-546dcad9014a"
      },
      "source": [
        "exp.log_model(\"Random Forest\", \"../ift6758/models/weights/Random-forest-with-FE2.pkl\")"
      ],
      "id": "2jcopP6hg6ns",
      "execution_count": 44,
      "outputs": [
        {
          "output_type": "execute_result",
          "data": {
            "text/plain": [
              "{'api': 'https://www.comet.ml/api/rest/v2/experiment/asset/get-asset?assetId=84b49071ade24448b9b2fe32ba24aec4&experimentKey=665ca425eaff43a1a18891828eff7246',\n",
              " 'assetId': '84b49071ade24448b9b2fe32ba24aec4',\n",
              " 'web': 'https://www.comet.ml/api/asset/download?assetId=84b49071ade24448b9b2fe32ba24aec4&experimentKey=665ca425eaff43a1a18891828eff7246'}"
            ]
          },
          "metadata": {},
          "execution_count": 44
        }
      ]
    },
    {
      "cell_type": "code",
      "metadata": {
        "id": "bcLokxdtlZuu"
      },
      "source": [
        "exp.end()"
      ],
      "id": "bcLokxdtlZuu",
      "execution_count": 47,
      "outputs": []
    },
    {
      "cell_type": "markdown",
      "metadata": {
        "id": "QTmWpIfSCrou"
      },
      "source": [
        "# Plotting"
      ],
      "id": "QTmWpIfSCrou"
    },
    {
      "cell_type": "code",
      "metadata": {
        "id": "BKMlJxoel-qB",
        "colab": {
          "base_uri": "https://localhost:8080/"
        },
        "outputId": "fc0dd5f4-e963-4b32-ade2-7f209c529220"
      },
      "source": [
        "# First we will switch branch, the plotting metrics are on main\n",
        "!git checkout main"
      ],
      "id": "BKMlJxoel-qB",
      "execution_count": 48,
      "outputs": [
        {
          "output_type": "stream",
          "name": "stdout",
          "text": [
            "M\tift6758/metrics/plot_metrics.py\n",
            "Already on 'main'\n",
            "Your branch is up to date with 'origin/main'.\n"
          ]
        }
      ]
    },
    {
      "cell_type": "code",
      "metadata": {
        "id": "cbMBlsX2MTWy",
        "colab": {
          "base_uri": "https://localhost:8080/"
        },
        "outputId": "3db0df3f-399c-489a-ec5b-967788a0a88e"
      },
      "source": [
        "!git branch"
      ],
      "id": "cbMBlsX2MTWy",
      "execution_count": 49,
      "outputs": [
        {
          "output_type": "stream",
          "name": "stdout",
          "text": [
            "  best_shot_trial\u001b[m\n",
            "  fengineering2\u001b[m\n",
            "* \u001b[32mmain\u001b[m\n"
          ]
        }
      ]
    },
    {
      "cell_type": "code",
      "metadata": {
        "id": "A8QwOHn-DFME",
        "colab": {
          "base_uri": "https://localhost:8080/"
        },
        "outputId": "87cd685c-7614-4def-889c-712db88f6c9a"
      },
      "source": [
        "!git pull"
      ],
      "id": "A8QwOHn-DFME",
      "execution_count": 50,
      "outputs": [
        {
          "output_type": "stream",
          "name": "stdout",
          "text": [
            "Already up to date.\n"
          ]
        }
      ]
    },
    {
      "cell_type": "code",
      "metadata": {
        "id": "R8HElJkGDHr0",
        "colab": {
          "base_uri": "https://localhost:8080/",
          "height": 540
        },
        "outputId": "b4dc9ba0-d27b-4b8c-d471-287593291ff9"
      },
      "source": [
        "from ift6758.metrics import plot_metrics\n",
        "\n",
        "plot_metrics.plotConfusion(y_valid,y_pred_valid, title='Confusion matrix for Random Forest validation set prediction')"
      ],
      "id": "R8HElJkGDHr0",
      "execution_count": 53,
      "outputs": [
        {
          "output_type": "stream",
          "name": "stdout",
          "text": [
            "              precision    recall  f1-score   support\n",
            "\n",
            "           0       0.91      1.00      0.95    216808\n",
            "           1       1.00      0.00      0.00     21238\n",
            "\n",
            "    accuracy                           0.91    238046\n",
            "   macro avg       0.96      0.50      0.48    238046\n",
            "weighted avg       0.92      0.91      0.87    238046\n",
            "\n"
          ]
        },
        {
          "output_type": "display_data",
          "data": {
            "image/png": "[encoded data removed]",
            "text/plain": [
              "<Figure size 720x360 with 2 Axes>"
            ]
          },
          "metadata": {
            "needs_background": "light"
          }
        }
      ]
    },
    {
      "cell_type": "code",
      "metadata": {
        "id": "HHTlw5E8EFn-",
        "colab": {
          "base_uri": "https://localhost:8080/",
          "height": 298
        },
        "outputId": "6198a794-43c2-4473-ae42-402fe67694b4"
      },
      "source": [
        "plot_metrics.plot_roc([y_valid],[y_proba_val],[\"Valid set for Rand Forest\"])"
      ],
      "id": "HHTlw5E8EFn-",
      "execution_count": 55,
      "outputs": [
        {
          "output_type": "display_data",
          "data": {
            "image/png": "[encoded data removed]",
            "text/plain": [
              "<Figure size 432x288 with 1 Axes>"
            ]
          },
          "metadata": {
            "needs_background": "light"
          }
        }
      ]
    },
    {
      "cell_type": "code",
      "metadata": {
        "id": "Xqq78vIoM_Tz",
        "colab": {
          "base_uri": "https://localhost:8080/",
          "height": 488
        },
        "outputId": "56d74149-ea70-4fba-8793-59a354cfca50"
      },
      "source": [
        "plot_metrics.plot_percentile([y_valid],[y_proba_val],bin_width=5,plot_labels=[\"Valid set for Rand Forest\"])"
      ],
      "id": "Xqq78vIoM_Tz",
      "execution_count": 56,
      "outputs": [
        {
          "output_type": "display_data",
          "data": {
            "image/png": "[encoded data removed]",
            "text/plain": [
              "<Figure size 1080x540 with 2 Axes>"
            ]
          },
          "metadata": {
            "needs_background": "light"
          }
        }
      ]
    },
    {
      "cell_type": "code",
      "metadata": {
        "id": "nXqLoooItwiz",
        "colab": {
          "base_uri": "https://localhost:8080/",
          "height": 488
        },
        "outputId": "35a558b8-7cfe-4481-db4b-981d1ad395c2"
      },
      "source": [
        "plot_metrics.plot_calibration([y_valid],[y_proba_val],plot_labels=[\"Valid set for Rand Forest\"])"
      ],
      "id": "nXqLoooItwiz",
      "execution_count": 57,
      "outputs": [
        {
          "output_type": "display_data",
          "data": {
            "image/png": "[encoded data removed]",
            "text/plain": [
              "<Figure size 540x540 with 1 Axes>"
            ]
          },
          "metadata": {
            "needs_background": "light"
          }
        }
      ]
    },
    {
      "cell_type": "code",
      "metadata": {
        "id": "xw4nj7GAuImf"
      },
      "source": [
        ""
      ],
      "id": "xw4nj7GAuImf",
      "execution_count": null,
      "outputs": []
    },
    {
      "cell_type": "markdown",
      "metadata": {
        "id": "tw6uUAph_dbi"
      },
      "source": [
        "# On test set"
      ],
      "id": "tw6uUAph_dbi"
    },
    {
      "cell_type": "code",
      "metadata": {
        "id": "PYRB0oxk_e8x",
        "outputId": "6671c45c-1a7c-4f04-8fef-8086a25de216",
        "colab": {
          "base_uri": "https://localhost:8080/"
        }
      },
      "source": [
        "y_pred_test  = model.predict(X_test)\n",
        "y_proba_test = model.predict_proba(X_test)[:,1] # get the proba of having a goal (pred=1)\n",
        "score_test = model.score(X_test,y_test)\n",
        "score_test"
      ],
      "id": "PYRB0oxk_e8x",
      "execution_count": 58,
      "outputs": [
        {
          "output_type": "execute_result",
          "data": {
            "text/plain": [
              "0.9109541853255253"
            ]
          },
          "metadata": {},
          "execution_count": 58
        }
      ]
    },
    {
      "cell_type": "markdown",
      "metadata": {
        "id": "Y3A1GNzB_3Bt"
      },
      "source": [
        "## Export model"
      ],
      "id": "Y3A1GNzB_3Bt"
    },
    {
      "cell_type": "code",
      "metadata": {
        "id": "VFBBSmcE_yEv"
      },
      "source": [
        "weights_dir = \"../ift6758/models/weights\"\n",
        "experiment = \"Random-forest-with-FE2\"\n",
        "predscore_val_dict={}"
      ],
      "id": "VFBBSmcE_yEv",
      "execution_count": 59,
      "outputs": []
    },
    {
      "cell_type": "code",
      "metadata": {
        "id": "NehP2P8E_6AF",
        "outputId": "2cc9c832-2cbe-47e4-9db2-084487f570d5",
        "colab": {
          "base_uri": "https://localhost:8080/"
        }
      },
      "source": [
        "import joblib\n",
        "\n",
        "predscore_val_dict[experiment]={}\n",
        "predscore_val_dict[experiment]['true_test_label']=y_test\n",
        "predscore_val_dict[experiment]['proba']=y_proba_test\n",
        "predscore_val_dict[experiment]['prediction']=y_pred_test\n",
        "\n",
        "## Dumping model\n",
        "filename=f\"{weights_dir}/{experiment}.pkl\"\n",
        "joblib.dump(model,filename)"
      ],
      "id": "NehP2P8E_6AF",
      "execution_count": 61,
      "outputs": [
        {
          "output_type": "execute_result",
          "data": {
            "text/plain": [
              "['../ift6758/models/weights/Random-forest-with-FE2.pkl']"
            ]
          },
          "metadata": {},
          "execution_count": 61
        }
      ]
    },
    {
      "cell_type": "code",
      "metadata": {
        "id": "YJGJzD5Z__E9"
      },
      "source": [
        "exp.log_model(\"Random Forest\", \"../ift6758/models/weights/Random-forest-with-FE2.pkl\")"
      ],
      "id": "YJGJzD5Z__E9",
      "execution_count": 62,
      "outputs": []
    },
    {
      "cell_type": "markdown",
      "metadata": {
        "id": "oT1p1HciALuz"
      },
      "source": [
        "# Plot"
      ],
      "id": "oT1p1HciALuz"
    },
    {
      "cell_type": "code",
      "metadata": {
        "id": "aTtwB14LAI5G",
        "outputId": "9da04e84-a6e6-4a3d-8e6f-035cb94bddee",
        "colab": {
          "base_uri": "https://localhost:8080/",
          "height": 1000
        }
      },
      "source": [
        "from ift6758.metrics import plot_metrics\n",
        "\n",
        "plot_metrics.plotConfusion(y_test,y_pred_test, title='Confusion matrix for Random Forest test set prediction')\n",
        "plot_metrics.plot_roc([y_test],[y_proba_test],[\"Test set for Rand Forest\"])\n",
        "plot_metrics.plot_percentile([y_test],[y_proba_test],bin_width=5,plot_labels=[\"Test set for Rand Forest\"])\n",
        "plot_metrics.plot_calibration([y_test],[y_proba_test],plot_labels=[\"Test set for Rand Forest\"])"
      ],
      "id": "aTtwB14LAI5G",
      "execution_count": 63,
      "outputs": [
        {
          "output_type": "stream",
          "name": "stdout",
          "text": [
            "              precision    recall  f1-score   support\n",
            "\n",
            "           0       0.91      1.00      0.95    216808\n",
            "           1       1.00      0.00      0.00     21238\n",
            "\n",
            "    accuracy                           0.91    238046\n",
            "   macro avg       0.96      0.50      0.48    238046\n",
            "weighted avg       0.92      0.91      0.87    238046\n",
            "\n"
          ]
        },
        {
          "output_type": "display_data",
          "data": {
            "image/png": "[encoded data removed]",
            "text/plain": [
              "<Figure size 720x360 with 2 Axes>"
            ]
          },
          "metadata": {
            "needs_background": "light"
          }
        },
        {
          "output_type": "display_data",
          "data": {
            "image/png": "[encoded data removed]",
            "text/plain": [
              "<Figure size 432x288 with 1 Axes>"
            ]
          },
          "metadata": {
            "needs_background": "light"
          }
        },
        {
          "output_type": "display_data",
          "data": {
            "image/png": "[encoded data removed]",
            "text/plain": [
              "<Figure size 1080x540 with 2 Axes>"
            ]
          },
          "metadata": {
            "needs_background": "light"
          }
        },
        {
          "output_type": "display_data",
          "data": {
            "image/png": "[encoded data removed]",
            "text/plain": [
              "<Figure size 540x540 with 1 Axes>"
            ]
          },
          "metadata": {
            "needs_background": "light"
          }
        }
      ]
    },
    {
      "cell_type": "code",
      "metadata": {
        "id": "QJOFKKd8Al1a"
      },
      "source": [
        ""
      ],
      "id": "QJOFKKd8Al1a",
      "execution_count": null,
      "outputs": []
    }
  ]
}