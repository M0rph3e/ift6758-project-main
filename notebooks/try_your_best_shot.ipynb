{
  "nbformat": 4,
  "nbformat_minor": 5,
  "metadata": {
    "kernelspec": {
      "name": "python3",
      "display_name": "Python 3"
    },
    "colab": {
      "name": "try_your_best_shot.ipynb",
      "provenance": []
    },
    "language_info": {
      "name": "python"
    }
  },
  "cells": [
    {
      "cell_type": "markdown",
      "metadata": {
        "id": "f4aa00a7-1743-4475-8e7b-07f75b386a29"
      },
      "source": [
        "## Here we will try our best shot to predict the goals with our features"
      ],
      "id": "f4aa00a7-1743-4475-8e7b-07f75b386a29"
    },
    {
      "cell_type": "code",
      "metadata": {
        "id": "0e26965d-f064-484c-91f3-aa96de787ab4",
        "colab": {
          "base_uri": "https://localhost:8080/"
        },
        "outputId": "144e2c0e-00d2-45a1-8ac0-d931d13be34e"
      },
      "source": [
        "from google.colab import drive\n",
        "drive.mount('/content/gdrive')"
      ],
      "id": "0e26965d-f064-484c-91f3-aa96de787ab4",
      "execution_count": 1,
      "outputs": [
        {
          "output_type": "stream",
          "name": "stdout",
          "text": [
            "Drive already mounted at /content/gdrive; to attempt to forcibly remount, call drive.mount(\"/content/gdrive\", force_remount=True).\n"
          ]
        }
      ]
    },
    {
      "cell_type": "code",
      "metadata": {
        "id": "MrfE_fXB9r7z",
        "colab": {
          "base_uri": "https://localhost:8080/"
        },
        "outputId": "92611b0a-b92b-4e2e-ca5c-2185c2c87aef"
      },
      "source": [
        "%cd /content/gdrive/MyDrive/Master_UdeM/IFT-6758/Project/ift6758-project-main"
      ],
      "id": "MrfE_fXB9r7z",
      "execution_count": 2,
      "outputs": [
        {
          "output_type": "stream",
          "name": "stdout",
          "text": [
            "/content/gdrive/MyDrive/Master_UdeM/IFT-6758/Project/ift6758-project-main\n"
          ]
        }
      ]
    },
    {
      "cell_type": "code",
      "metadata": {
        "id": "celXeSWR9zXi",
        "colab": {
          "base_uri": "https://localhost:8080/"
        },
        "outputId": "e5eb7ad6-a58b-4631-bf29-b8bfc5f8f2fb"
      },
      "source": [
        "#!git clone https://GIT_TOKEN@github.com/M0rph3e/ift6758-project-main.git #not anymore\n",
        "! git pull"
      ],
      "id": "celXeSWR9zXi",
      "execution_count": 3,
      "outputs": [
        {
          "output_type": "stream",
          "name": "stdout",
          "text": [
            "Already up to date.\n"
          ]
        }
      ]
    },
    {
      "cell_type": "code",
      "metadata": {
        "id": "lGWPuWN7-Rbo",
        "colab": {
          "base_uri": "https://localhost:8080/"
        },
        "outputId": "e2b3cf05-68ab-4d6d-821a-2e1f193f8936"
      },
      "source": [
        "!git status"
      ],
      "id": "lGWPuWN7-Rbo",
      "execution_count": 4,
      "outputs": [
        {
          "output_type": "stream",
          "name": "stdout",
          "text": [
            "On branch main\n",
            "Your branch is up to date with 'origin/main'.\n",
            "\n",
            "nothing to commit, working tree clean\n"
          ]
        }
      ]
    },
    {
      "cell_type": "code",
      "metadata": {
        "id": "5wFBMu2YAjam",
        "outputId": "ab655250-b624-4110-e4c5-bac70d7a61a2",
        "colab": {
          "base_uri": "https://localhost:8080/"
        }
      },
      "source": [
        "!pip install comet_ml pandas-profiling==2.7.1"
      ],
      "id": "5wFBMu2YAjam",
      "execution_count": 6,
      "outputs": [
        {
          "output_type": "stream",
          "name": "stdout",
          "text": [
            "Requirement already satisfied: comet_ml in /usr/local/lib/python3.7/dist-packages (3.23.0)\n",
            "Requirement already satisfied: pandas-profiling==2.7.1 in /usr/local/lib/python3.7/dist-packages (2.7.1)\n",
            "Requirement already satisfied: requests>=2.23.0 in /usr/local/lib/python3.7/dist-packages (from pandas-profiling==2.7.1) (2.23.0)\n",
            "Requirement already satisfied: tqdm>=4.43.0 in /usr/local/lib/python3.7/dist-packages (from pandas-profiling==2.7.1) (4.62.3)\n",
            "Requirement already satisfied: joblib in /usr/local/lib/python3.7/dist-packages (from pandas-profiling==2.7.1) (1.1.0)\n",
            "Requirement already satisfied: phik>=0.9.10 in /usr/local/lib/python3.7/dist-packages (from pandas-profiling==2.7.1) (0.12.0)\n",
            "Requirement already satisfied: visions[type_image_path]==0.4.1 in /usr/local/lib/python3.7/dist-packages (from pandas-profiling==2.7.1) (0.4.1)\n",
            "Requirement already satisfied: astropy>=4.0 in /usr/local/lib/python3.7/dist-packages (from pandas-profiling==2.7.1) (4.3.1)\n",
            "Requirement already satisfied: matplotlib>=3.2.0 in /usr/local/lib/python3.7/dist-packages (from pandas-profiling==2.7.1) (3.2.2)\n",
            "Requirement already satisfied: pandas!=1.0.0,!=1.0.1,!=1.0.2,>=0.25.3 in /usr/local/lib/python3.7/dist-packages (from pandas-profiling==2.7.1) (1.1.5)\n",
            "Requirement already satisfied: missingno>=0.4.2 in /usr/local/lib/python3.7/dist-packages (from pandas-profiling==2.7.1) (0.5.0)\n",
            "Requirement already satisfied: scipy>=1.4.1 in /usr/local/lib/python3.7/dist-packages (from pandas-profiling==2.7.1) (1.7.3)\n",
            "Requirement already satisfied: numpy>=1.16.0 in /usr/local/lib/python3.7/dist-packages (from pandas-profiling==2.7.1) (1.19.5)\n",
            "Requirement already satisfied: confuse>=1.0.0 in /usr/local/lib/python3.7/dist-packages (from pandas-profiling==2.7.1) (1.6.0)\n",
            "Requirement already satisfied: tangled-up-in-unicode>=0.0.4 in /usr/local/lib/python3.7/dist-packages (from pandas-profiling==2.7.1) (0.2.0)\n",
            "Requirement already satisfied: jinja2>=2.11.1 in /usr/local/lib/python3.7/dist-packages (from pandas-profiling==2.7.1) (2.11.3)\n",
            "Requirement already satisfied: htmlmin>=0.1.12 in /usr/local/lib/python3.7/dist-packages (from pandas-profiling==2.7.1) (0.1.12)\n",
            "Requirement already satisfied: ipywidgets>=7.5.1 in /usr/local/lib/python3.7/dist-packages (from pandas-profiling==2.7.1) (7.6.5)\n",
            "Requirement already satisfied: attrs>=19.3.0 in /usr/local/lib/python3.7/dist-packages (from visions[type_image_path]==0.4.1->pandas-profiling==2.7.1) (21.2.0)\n",
            "Requirement already satisfied: networkx>=2.4 in /usr/local/lib/python3.7/dist-packages (from visions[type_image_path]==0.4.1->pandas-profiling==2.7.1) (2.6.3)\n",
            "Requirement already satisfied: Pillow in /usr/local/lib/python3.7/dist-packages (from visions[type_image_path]==0.4.1->pandas-profiling==2.7.1) (7.1.2)\n",
            "Requirement already satisfied: imagehash in /usr/local/lib/python3.7/dist-packages (from visions[type_image_path]==0.4.1->pandas-profiling==2.7.1) (4.2.1)\n",
            "Requirement already satisfied: importlib-metadata in /usr/local/lib/python3.7/dist-packages (from astropy>=4.0->pandas-profiling==2.7.1) (4.8.2)\n",
            "Requirement already satisfied: pyerfa>=1.7.3 in /usr/local/lib/python3.7/dist-packages (from astropy>=4.0->pandas-profiling==2.7.1) (2.0.0.1)\n",
            "Requirement already satisfied: pyyaml in /usr/local/lib/python3.7/dist-packages (from confuse>=1.0.0->pandas-profiling==2.7.1) (3.13)\n",
            "Requirement already satisfied: ipykernel>=4.5.1 in /usr/local/lib/python3.7/dist-packages (from ipywidgets>=7.5.1->pandas-profiling==2.7.1) (4.10.1)\n",
            "Requirement already satisfied: traitlets>=4.3.1 in /usr/local/lib/python3.7/dist-packages (from ipywidgets>=7.5.1->pandas-profiling==2.7.1) (5.1.1)\n",
            "Requirement already satisfied: ipython-genutils~=0.2.0 in /usr/local/lib/python3.7/dist-packages (from ipywidgets>=7.5.1->pandas-profiling==2.7.1) (0.2.0)\n",
            "Requirement already satisfied: widgetsnbextension~=3.5.0 in /usr/local/lib/python3.7/dist-packages (from ipywidgets>=7.5.1->pandas-profiling==2.7.1) (3.5.2)\n",
            "Requirement already satisfied: jupyterlab-widgets>=1.0.0 in /usr/local/lib/python3.7/dist-packages (from ipywidgets>=7.5.1->pandas-profiling==2.7.1) (1.0.2)\n",
            "Requirement already satisfied: ipython>=4.0.0 in /usr/local/lib/python3.7/dist-packages (from ipywidgets>=7.5.1->pandas-profiling==2.7.1) (5.5.0)\n",
            "Requirement already satisfied: nbformat>=4.2.0 in /usr/local/lib/python3.7/dist-packages (from ipywidgets>=7.5.1->pandas-profiling==2.7.1) (5.1.3)\n",
            "Requirement already satisfied: jupyter-client in /usr/local/lib/python3.7/dist-packages (from ipykernel>=4.5.1->ipywidgets>=7.5.1->pandas-profiling==2.7.1) (5.3.5)\n",
            "Requirement already satisfied: tornado>=4.0 in /usr/local/lib/python3.7/dist-packages (from ipykernel>=4.5.1->ipywidgets>=7.5.1->pandas-profiling==2.7.1) (5.1.1)\n",
            "Requirement already satisfied: pygments in /usr/local/lib/python3.7/dist-packages (from ipython>=4.0.0->ipywidgets>=7.5.1->pandas-profiling==2.7.1) (2.6.1)\n",
            "Requirement already satisfied: decorator in /usr/local/lib/python3.7/dist-packages (from ipython>=4.0.0->ipywidgets>=7.5.1->pandas-profiling==2.7.1) (4.4.2)\n",
            "Requirement already satisfied: pexpect in /usr/local/lib/python3.7/dist-packages (from ipython>=4.0.0->ipywidgets>=7.5.1->pandas-profiling==2.7.1) (4.8.0)\n",
            "Requirement already satisfied: pickleshare in /usr/local/lib/python3.7/dist-packages (from ipython>=4.0.0->ipywidgets>=7.5.1->pandas-profiling==2.7.1) (0.7.5)\n",
            "Requirement already satisfied: prompt-toolkit<2.0.0,>=1.0.4 in /usr/local/lib/python3.7/dist-packages (from ipython>=4.0.0->ipywidgets>=7.5.1->pandas-profiling==2.7.1) (1.0.18)\n",
            "Requirement already satisfied: setuptools>=18.5 in /usr/local/lib/python3.7/dist-packages (from ipython>=4.0.0->ipywidgets>=7.5.1->pandas-profiling==2.7.1) (57.4.0)\n",
            "Requirement already satisfied: simplegeneric>0.8 in /usr/local/lib/python3.7/dist-packages (from ipython>=4.0.0->ipywidgets>=7.5.1->pandas-profiling==2.7.1) (0.8.1)\n",
            "Requirement already satisfied: MarkupSafe>=0.23 in /usr/local/lib/python3.7/dist-packages (from jinja2>=2.11.1->pandas-profiling==2.7.1) (2.0.1)\n",
            "Requirement already satisfied: cycler>=0.10 in /usr/local/lib/python3.7/dist-packages (from matplotlib>=3.2.0->pandas-profiling==2.7.1) (0.11.0)\n",
            "Requirement already satisfied: kiwisolver>=1.0.1 in /usr/local/lib/python3.7/dist-packages (from matplotlib>=3.2.0->pandas-profiling==2.7.1) (1.3.2)\n",
            "Requirement already satisfied: python-dateutil>=2.1 in /usr/local/lib/python3.7/dist-packages (from matplotlib>=3.2.0->pandas-profiling==2.7.1) (2.8.2)\n",
            "Requirement already satisfied: pyparsing!=2.0.4,!=2.1.2,!=2.1.6,>=2.0.1 in /usr/local/lib/python3.7/dist-packages (from matplotlib>=3.2.0->pandas-profiling==2.7.1) (3.0.6)\n",
            "Requirement already satisfied: seaborn in /usr/local/lib/python3.7/dist-packages (from missingno>=0.4.2->pandas-profiling==2.7.1) (0.11.2)\n",
            "Requirement already satisfied: jsonschema!=2.5.0,>=2.4 in /usr/local/lib/python3.7/dist-packages (from nbformat>=4.2.0->ipywidgets>=7.5.1->pandas-profiling==2.7.1) (2.6.0)\n",
            "Requirement already satisfied: jupyter-core in /usr/local/lib/python3.7/dist-packages (from nbformat>=4.2.0->ipywidgets>=7.5.1->pandas-profiling==2.7.1) (4.9.1)\n",
            "Requirement already satisfied: pytz>=2017.2 in /usr/local/lib/python3.7/dist-packages (from pandas!=1.0.0,!=1.0.1,!=1.0.2,>=0.25.3->pandas-profiling==2.7.1) (2018.9)\n",
            "Requirement already satisfied: six>=1.9.0 in /usr/local/lib/python3.7/dist-packages (from prompt-toolkit<2.0.0,>=1.0.4->ipython>=4.0.0->ipywidgets>=7.5.1->pandas-profiling==2.7.1) (1.15.0)\n",
            "Requirement already satisfied: wcwidth in /usr/local/lib/python3.7/dist-packages (from prompt-toolkit<2.0.0,>=1.0.4->ipython>=4.0.0->ipywidgets>=7.5.1->pandas-profiling==2.7.1) (0.2.5)\n",
            "Requirement already satisfied: idna<3,>=2.5 in /usr/local/lib/python3.7/dist-packages (from requests>=2.23.0->pandas-profiling==2.7.1) (2.10)\n",
            "Requirement already satisfied: urllib3!=1.25.0,!=1.25.1,<1.26,>=1.21.1 in /usr/local/lib/python3.7/dist-packages (from requests>=2.23.0->pandas-profiling==2.7.1) (1.24.3)\n",
            "Requirement already satisfied: chardet<4,>=3.0.2 in /usr/local/lib/python3.7/dist-packages (from requests>=2.23.0->pandas-profiling==2.7.1) (3.0.4)\n",
            "Requirement already satisfied: certifi>=2017.4.17 in /usr/local/lib/python3.7/dist-packages (from requests>=2.23.0->pandas-profiling==2.7.1) (2021.10.8)\n",
            "Requirement already satisfied: notebook>=4.4.1 in /usr/local/lib/python3.7/dist-packages (from widgetsnbextension~=3.5.0->ipywidgets>=7.5.1->pandas-profiling==2.7.1) (5.3.1)\n",
            "Requirement already satisfied: Send2Trash in /usr/local/lib/python3.7/dist-packages (from notebook>=4.4.1->widgetsnbextension~=3.5.0->ipywidgets>=7.5.1->pandas-profiling==2.7.1) (1.8.0)\n",
            "Requirement already satisfied: nbconvert in /usr/local/lib/python3.7/dist-packages (from notebook>=4.4.1->widgetsnbextension~=3.5.0->ipywidgets>=7.5.1->pandas-profiling==2.7.1) (5.6.1)\n",
            "Requirement already satisfied: terminado>=0.8.1 in /usr/local/lib/python3.7/dist-packages (from notebook>=4.4.1->widgetsnbextension~=3.5.0->ipywidgets>=7.5.1->pandas-profiling==2.7.1) (0.12.1)\n",
            "Requirement already satisfied: pyzmq>=13 in /usr/local/lib/python3.7/dist-packages (from jupyter-client->ipykernel>=4.5.1->ipywidgets>=7.5.1->pandas-profiling==2.7.1) (22.3.0)\n",
            "Requirement already satisfied: ptyprocess in /usr/local/lib/python3.7/dist-packages (from terminado>=0.8.1->notebook>=4.4.1->widgetsnbextension~=3.5.0->ipywidgets>=7.5.1->pandas-profiling==2.7.1) (0.7.0)\n",
            "Requirement already satisfied: wurlitzer>=1.0.2 in /usr/local/lib/python3.7/dist-packages (from comet_ml) (3.0.2)\n",
            "Requirement already satisfied: requests-toolbelt>=0.8.0 in /usr/local/lib/python3.7/dist-packages (from comet_ml) (0.9.1)\n",
            "Requirement already satisfied: semantic-version>=2.8.0 in /usr/local/lib/python3.7/dist-packages (from comet_ml) (2.8.5)\n",
            "Requirement already satisfied: websocket-client>=0.55.0 in /usr/local/lib/python3.7/dist-packages (from comet_ml) (1.2.1)\n",
            "Requirement already satisfied: nvidia-ml-py3>=7.352.0 in /usr/local/lib/python3.7/dist-packages (from comet_ml) (7.352.0)\n",
            "Requirement already satisfied: dulwich>=0.20.6 in /usr/local/lib/python3.7/dist-packages (from comet_ml) (0.20.26)\n",
            "Requirement already satisfied: wrapt>=1.11.2 in /usr/local/lib/python3.7/dist-packages (from comet_ml) (1.13.3)\n",
            "Requirement already satisfied: everett[ini]>=1.0.1 in /usr/local/lib/python3.7/dist-packages (from comet_ml) (2.0.1)\n",
            "Requirement already satisfied: configobj in /usr/local/lib/python3.7/dist-packages (from everett[ini]>=1.0.1->comet_ml) (5.0.6)\n",
            "Requirement already satisfied: PyWavelets in /usr/local/lib/python3.7/dist-packages (from imagehash->visions[type_image_path]==0.4.1->pandas-profiling==2.7.1) (1.2.0)\n",
            "Requirement already satisfied: typing-extensions>=3.6.4 in /usr/local/lib/python3.7/dist-packages (from importlib-metadata->astropy>=4.0->pandas-profiling==2.7.1) (3.10.0.2)\n",
            "Requirement already satisfied: zipp>=0.5 in /usr/local/lib/python3.7/dist-packages (from importlib-metadata->astropy>=4.0->pandas-profiling==2.7.1) (3.6.0)\n",
            "Requirement already satisfied: mistune<2,>=0.8.1 in /usr/local/lib/python3.7/dist-packages (from nbconvert->notebook>=4.4.1->widgetsnbextension~=3.5.0->ipywidgets>=7.5.1->pandas-profiling==2.7.1) (0.8.4)\n",
            "Requirement already satisfied: entrypoints>=0.2.2 in /usr/local/lib/python3.7/dist-packages (from nbconvert->notebook>=4.4.1->widgetsnbextension~=3.5.0->ipywidgets>=7.5.1->pandas-profiling==2.7.1) (0.3)\n",
            "Requirement already satisfied: testpath in /usr/local/lib/python3.7/dist-packages (from nbconvert->notebook>=4.4.1->widgetsnbextension~=3.5.0->ipywidgets>=7.5.1->pandas-profiling==2.7.1) (0.5.0)\n",
            "Requirement already satisfied: defusedxml in /usr/local/lib/python3.7/dist-packages (from nbconvert->notebook>=4.4.1->widgetsnbextension~=3.5.0->ipywidgets>=7.5.1->pandas-profiling==2.7.1) (0.7.1)\n",
            "Requirement already satisfied: bleach in /usr/local/lib/python3.7/dist-packages (from nbconvert->notebook>=4.4.1->widgetsnbextension~=3.5.0->ipywidgets>=7.5.1->pandas-profiling==2.7.1) (4.1.0)\n",
            "Requirement already satisfied: pandocfilters>=1.4.1 in /usr/local/lib/python3.7/dist-packages (from nbconvert->notebook>=4.4.1->widgetsnbextension~=3.5.0->ipywidgets>=7.5.1->pandas-profiling==2.7.1) (1.5.0)\n",
            "Requirement already satisfied: packaging in /usr/local/lib/python3.7/dist-packages (from bleach->nbconvert->notebook>=4.4.1->widgetsnbextension~=3.5.0->ipywidgets>=7.5.1->pandas-profiling==2.7.1) (21.3)\n",
            "Requirement already satisfied: webencodings in /usr/local/lib/python3.7/dist-packages (from bleach->nbconvert->notebook>=4.4.1->widgetsnbextension~=3.5.0->ipywidgets>=7.5.1->pandas-profiling==2.7.1) (0.5.1)\n"
          ]
        }
      ]
    },
    {
      "cell_type": "code",
      "metadata": {
        "id": "zqiioowlaDXX",
        "colab": {
          "base_uri": "https://localhost:8080/"
        },
        "outputId": "414cd282-7ae7-4196-8baa-c8b3089f3d88"
      },
      "source": [
        "! git branch"
      ],
      "id": "zqiioowlaDXX",
      "execution_count": 43,
      "outputs": [
        {
          "output_type": "stream",
          "name": "stdout",
          "text": [
            "  best_shot_trial\u001b[m\n",
            "  fengineering2\u001b[m\n",
            "* \u001b[32mmain\u001b[m\n"
          ]
        }
      ]
    },
    {
      "cell_type": "markdown",
      "metadata": {
        "id": "TB9EOTRM-330"
      },
      "source": [
        "# Real **** starts from here"
      ],
      "id": "TB9EOTRM-330"
    },
    {
      "cell_type": "code",
      "metadata": {
        "id": "GbIIYHFg-elV"
      },
      "source": [
        "from ift6758.features.feature_engineering2 import SeasonDataSetTwo\n",
        "from ift6758.data.data_acquisition import Season\n",
        "from ift6758.visualizations.simple_visualization import Utilities \n",
        "import matplotlib.pyplot as plt\n",
        "import numpy as np\n",
        "import seaborn as sns\n",
        "import os\n",
        "import random\n",
        "import pandas as pd\n",
        "import pickle\n",
        "import sys\n",
        "import json\n",
        "\n",
        "import warnings\n",
        "warnings.filterwarnings(\"ignore\")"
      ],
      "id": "GbIIYHFg-elV",
      "execution_count": 7,
      "outputs": []
    },
    {
      "cell_type": "code",
      "metadata": {
        "id": "BHb91bE6_ODa",
        "colab": {
          "base_uri": "https://localhost:8080/"
        },
        "outputId": "f60e97f3-5245-45fd-c87a-edfa0f1d0c44"
      },
      "source": [
        "train_years = [2015,2016,2017,2018]\n",
        "test_years=[2019]\n",
        "\n",
        "\n",
        "train_dataset = SeasonDataSetTwo(train_years)\n",
        "train_df = train_dataset.get_features_2()"
      ],
      "id": "BHb91bE6_ODa",
      "execution_count": 8,
      "outputs": [
        {
          "output_type": "stream",
          "name": "stdout",
          "text": [
            "File with all events already Exists, loading from ../ift6758/data/PICKLE//2015_clean_all_events.pkl\n",
            "File already Exists, loading from ../ift6758/data/PICKLE//2015_period_info.pkl\n",
            "File with all events already Exists, loading from ../ift6758/data/PICKLE//2016_clean_all_events.pkl\n",
            "File already Exists, loading from ../ift6758/data/PICKLE//2016_period_info.pkl\n",
            "File with all events already Exists, loading from ../ift6758/data/PICKLE//2017_clean_all_events.pkl\n",
            "File already Exists, loading from ../ift6758/data/PICKLE//2017_period_info.pkl\n",
            "File with all events already Exists, loading from ../ift6758/data/PICKLE//2018_clean_all_events.pkl\n",
            "File already Exists, loading from ../ift6758/data/PICKLE//2018_period_info.pkl\n"
          ]
        }
      ]
    },
    {
      "cell_type": "code",
      "metadata": {
        "id": "utYXLTyoGCDF",
        "colab": {
          "base_uri": "https://localhost:8080/"
        },
        "outputId": "901dba9e-ba76-4dc7-bcf3-6099d7136db7"
      },
      "source": [
        "test_data = SeasonDataSetTwo(test_years)\n",
        "test_df = test_data.get_features_2()"
      ],
      "id": "utYXLTyoGCDF",
      "execution_count": 9,
      "outputs": [
        {
          "output_type": "stream",
          "name": "stdout",
          "text": [
            "File with all events already Exists, loading from ../ift6758/data/PICKLE//2019_clean_all_events.pkl\n",
            "File already Exists, loading from ../ift6758/data/PICKLE//2019_period_info.pkl\n"
          ]
        }
      ]
    },
    {
      "cell_type": "markdown",
      "metadata": {
        "id": "WgXuoxlAvqcW"
      },
      "source": [
        "#### rename strength name"
      ],
      "id": "WgXuoxlAvqcW"
    },
    {
      "cell_type": "code",
      "metadata": {
        "id": "PIT5dKs-urX4"
      },
      "source": [
        "train_df = train_df.rename({'result.strength.name':'strength'}, axis='columns', errors='raise')\n",
        "test_df = test_df.rename({'result.strength.name':'strength'}, axis='columns', errors='raise')"
      ],
      "id": "PIT5dKs-urX4",
      "execution_count": 10,
      "outputs": []
    },
    {
      "cell_type": "code",
      "metadata": {
        "id": "Le1gkJwSupIv",
        "colab": {
          "base_uri": "https://localhost:8080/",
          "height": 400
        },
        "outputId": "9ef6f4cc-4041-4f80-cc93-cf189309aeb8"
      },
      "source": [
        "train_df.head()"
      ],
      "id": "Le1gkJwSupIv",
      "execution_count": 11,
      "outputs": [
        {
          "output_type": "execute_result",
          "data": {
            "text/html": [
              "<div>\n",
              "<style scoped>\n",
              "    .dataframe tbody tr th:only-of-type {\n",
              "        vertical-align: middle;\n",
              "    }\n",
              "\n",
              "    .dataframe tbody tr th {\n",
              "        vertical-align: top;\n",
              "    }\n",
              "\n",
              "    .dataframe thead th {\n",
              "        text-align: right;\n",
              "    }\n",
              "</style>\n",
              "<table border=\"1\" class=\"dataframe\">\n",
              "  <thead>\n",
              "    <tr style=\"text-align: right;\">\n",
              "      <th></th>\n",
              "      <th>result.penaltySeverity</th>\n",
              "      <th>result.penaltyMinutes</th>\n",
              "      <th>gamePk</th>\n",
              "      <th>team.name</th>\n",
              "      <th>gamePeriod</th>\n",
              "      <th>coordinatesX</th>\n",
              "      <th>coordinatesY</th>\n",
              "      <th>shotType</th>\n",
              "      <th>emptyNet</th>\n",
              "      <th>strength</th>\n",
              "      <th>gameSeconds</th>\n",
              "      <th>shotDistance</th>\n",
              "      <th>shotAngle</th>\n",
              "      <th>isGoal</th>\n",
              "      <th>lastEventType</th>\n",
              "      <th>lastEventCoordinatesX</th>\n",
              "      <th>lastEventCoordinatesY</th>\n",
              "      <th>timeFromLastEvent</th>\n",
              "      <th>distanceFromLastEvent</th>\n",
              "      <th>rebound</th>\n",
              "      <th>speed</th>\n",
              "      <th>changeInShotAngle</th>\n",
              "      <th>angleSpeed</th>\n",
              "    </tr>\n",
              "  </thead>\n",
              "  <tbody>\n",
              "    <tr>\n",
              "      <th>0</th>\n",
              "      <td>NaN</td>\n",
              "      <td>NaN</td>\n",
              "      <td>2015020001</td>\n",
              "      <td>Toronto Maple Leafs</td>\n",
              "      <td>1</td>\n",
              "      <td>-55.0</td>\n",
              "      <td>6.0</td>\n",
              "      <td>Wrist Shot</td>\n",
              "      <td>0</td>\n",
              "      <td>NaN</td>\n",
              "      <td>51.0</td>\n",
              "      <td>34.525353</td>\n",
              "      <td>10.007980</td>\n",
              "      <td>0</td>\n",
              "      <td>Hit</td>\n",
              "      <td>94.0</td>\n",
              "      <td>-34.0</td>\n",
              "      <td>11.0</td>\n",
              "      <td>154.275727</td>\n",
              "      <td>0</td>\n",
              "      <td>14.025066</td>\n",
              "      <td>0.000000</td>\n",
              "      <td>0.000000</td>\n",
              "    </tr>\n",
              "    <tr>\n",
              "      <th>1</th>\n",
              "      <td>NaN</td>\n",
              "      <td>NaN</td>\n",
              "      <td>2015020001</td>\n",
              "      <td>Toronto Maple Leafs</td>\n",
              "      <td>1</td>\n",
              "      <td>-79.0</td>\n",
              "      <td>0.0</td>\n",
              "      <td>Snap Shot</td>\n",
              "      <td>0</td>\n",
              "      <td>NaN</td>\n",
              "      <td>65.0</td>\n",
              "      <td>10.000000</td>\n",
              "      <td>0.000000</td>\n",
              "      <td>0</td>\n",
              "      <td>Giveaway</td>\n",
              "      <td>-37.0</td>\n",
              "      <td>-28.0</td>\n",
              "      <td>7.0</td>\n",
              "      <td>50.477718</td>\n",
              "      <td>0</td>\n",
              "      <td>7.211103</td>\n",
              "      <td>0.000000</td>\n",
              "      <td>0.000000</td>\n",
              "    </tr>\n",
              "    <tr>\n",
              "      <th>2</th>\n",
              "      <td>NaN</td>\n",
              "      <td>NaN</td>\n",
              "      <td>2015020001</td>\n",
              "      <td>Toronto Maple Leafs</td>\n",
              "      <td>1</td>\n",
              "      <td>-75.0</td>\n",
              "      <td>-1.0</td>\n",
              "      <td>Snap Shot</td>\n",
              "      <td>0</td>\n",
              "      <td>NaN</td>\n",
              "      <td>66.0</td>\n",
              "      <td>14.035669</td>\n",
              "      <td>-4.085617</td>\n",
              "      <td>0</td>\n",
              "      <td>Shot</td>\n",
              "      <td>-79.0</td>\n",
              "      <td>0.0</td>\n",
              "      <td>1.0</td>\n",
              "      <td>4.123106</td>\n",
              "      <td>1</td>\n",
              "      <td>4.123106</td>\n",
              "      <td>4.085617</td>\n",
              "      <td>4.085617</td>\n",
              "    </tr>\n",
              "    <tr>\n",
              "      <th>3</th>\n",
              "      <td>NaN</td>\n",
              "      <td>NaN</td>\n",
              "      <td>2015020001</td>\n",
              "      <td>Toronto Maple Leafs</td>\n",
              "      <td>1</td>\n",
              "      <td>-55.0</td>\n",
              "      <td>-36.0</td>\n",
              "      <td>Wrist Shot</td>\n",
              "      <td>0</td>\n",
              "      <td>NaN</td>\n",
              "      <td>113.0</td>\n",
              "      <td>49.517674</td>\n",
              "      <td>-46.636577</td>\n",
              "      <td>0</td>\n",
              "      <td>Hit</td>\n",
              "      <td>-91.0</td>\n",
              "      <td>35.0</td>\n",
              "      <td>18.0</td>\n",
              "      <td>79.605276</td>\n",
              "      <td>0</td>\n",
              "      <td>4.422515</td>\n",
              "      <td>0.000000</td>\n",
              "      <td>0.000000</td>\n",
              "    </tr>\n",
              "    <tr>\n",
              "      <th>4</th>\n",
              "      <td>NaN</td>\n",
              "      <td>NaN</td>\n",
              "      <td>2015020001</td>\n",
              "      <td>Toronto Maple Leafs</td>\n",
              "      <td>1</td>\n",
              "      <td>-61.0</td>\n",
              "      <td>-1.0</td>\n",
              "      <td>Tip-In</td>\n",
              "      <td>0</td>\n",
              "      <td>NaN</td>\n",
              "      <td>157.0</td>\n",
              "      <td>28.017851</td>\n",
              "      <td>-2.045408</td>\n",
              "      <td>0</td>\n",
              "      <td>Faceoff</td>\n",
              "      <td>-69.0</td>\n",
              "      <td>-22.0</td>\n",
              "      <td>5.0</td>\n",
              "      <td>22.472205</td>\n",
              "      <td>0</td>\n",
              "      <td>4.494441</td>\n",
              "      <td>0.000000</td>\n",
              "      <td>0.000000</td>\n",
              "    </tr>\n",
              "  </tbody>\n",
              "</table>\n",
              "</div>"
            ],
            "text/plain": [
              "  result.penaltySeverity  result.penaltyMinutes  ... changeInShotAngle angleSpeed\n",
              "0                    NaN                    NaN  ...          0.000000   0.000000\n",
              "1                    NaN                    NaN  ...          0.000000   0.000000\n",
              "2                    NaN                    NaN  ...          4.085617   4.085617\n",
              "3                    NaN                    NaN  ...          0.000000   0.000000\n",
              "4                    NaN                    NaN  ...          0.000000   0.000000\n",
              "\n",
              "[5 rows x 23 columns]"
            ]
          },
          "metadata": {},
          "execution_count": 11
        }
      ]
    },
    {
      "cell_type": "markdown",
      "metadata": {
        "id": "NwZgrgjBrHL-"
      },
      "source": [
        "# for Part 7"
      ],
      "id": "NwZgrgjBrHL-"
    },
    {
      "cell_type": "code",
      "metadata": {
        "id": "zG9tb1EItF9Q"
      },
      "source": [
        "#test_df['gamePk'].astype(str).str[5].unique()\n",
        "test_df_regular = test_df[test_df['gamePk'].astype(str).str[5]=='2']\n",
        "test_df_playoff = test_df[test_df['gamePk'].astype(str).str[5]=='3']"
      ],
      "id": "zG9tb1EItF9Q",
      "execution_count": 12,
      "outputs": []
    },
    {
      "cell_type": "markdown",
      "metadata": {
        "id": "0kj5OTviDnFF"
      },
      "source": [
        "# Export the data csv to comet"
      ],
      "id": "0kj5OTviDnFF"
    },
    {
      "cell_type": "code",
      "metadata": {
        "id": "OvTG9lsL_Tb_",
        "colab": {
          "base_uri": "https://localhost:8080/",
          "height": 390
        },
        "outputId": "299bd357-a11e-4344-b04d-d67e6dfca4b6"
      },
      "source": [
        "from comet_ml import Experiment\n",
        "import os\n",
        "\n",
        "\n",
        "\n",
        "exp = Experiment(\n",
        "    api_key=os.environ.get('COMET_API_KEY'),\n",
        "    project_name='milestone-2',\n",
        "    workspace='morph-e',\n",
        "    log_code=True,\n",
        "    log_graph=True\n",
        ")"
      ],
      "id": "OvTG9lsL_Tb_",
      "execution_count": null,
      "outputs": [
        {
          "output_type": "error",
          "ename": "ValueError",
          "evalue": "ignored",
          "traceback": [
            "\u001b[0;31m---------------------------------------------------------------------------\u001b[0m",
            "\u001b[0;31mValueError\u001b[0m                                Traceback (most recent call last)",
            "\u001b[0;32m<ipython-input-16-031ffd496b1b>\u001b[0m in \u001b[0;36m<module>\u001b[0;34m()\u001b[0m\n\u001b[1;32m      9\u001b[0m     \u001b[0mworkspace\u001b[0m\u001b[0;34m=\u001b[0m\u001b[0;34m'morph-e'\u001b[0m\u001b[0;34m,\u001b[0m\u001b[0;34m\u001b[0m\u001b[0;34m\u001b[0m\u001b[0m\n\u001b[1;32m     10\u001b[0m     \u001b[0mlog_code\u001b[0m\u001b[0;34m=\u001b[0m\u001b[0;32mTrue\u001b[0m\u001b[0;34m,\u001b[0m\u001b[0;34m\u001b[0m\u001b[0;34m\u001b[0m\u001b[0m\n\u001b[0;32m---> 11\u001b[0;31m     \u001b[0mlog_graph\u001b[0m\u001b[0;34m=\u001b[0m\u001b[0;32mTrue\u001b[0m\u001b[0;34m\u001b[0m\u001b[0;34m\u001b[0m\u001b[0m\n\u001b[0m\u001b[1;32m     12\u001b[0m )\n",
            "\u001b[0;32m/usr/local/lib/python3.7/dist-packages/comet_ml/__init__.py\u001b[0m in \u001b[0;36m__init__\u001b[0;34m(self, api_key, project_name, workspace, log_code, log_graph, auto_param_logging, auto_metric_logging, parse_args, auto_output_logging, log_env_details, log_git_metadata, log_git_patch, disabled, log_env_gpu, log_env_host, display_summary, log_env_cpu, display_summary_level, optimizer_data, auto_weight_logging, auto_log_co2, auto_metric_step_rate, auto_histogram_tensorboard_logging, auto_histogram_epoch_rate, auto_histogram_weight_logging, auto_histogram_gradient_logging, auto_histogram_activation_logging)\u001b[0m\n\u001b[1;32m    260\u001b[0m         \u001b[0;32mif\u001b[0m \u001b[0mself\u001b[0m\u001b[0;34m.\u001b[0m\u001b[0mapi_key\u001b[0m \u001b[0;32mis\u001b[0m \u001b[0;32mNone\u001b[0m\u001b[0;34m:\u001b[0m\u001b[0;34m\u001b[0m\u001b[0;34m\u001b[0m\u001b[0m\n\u001b[1;32m    261\u001b[0m             raise ValueError(\n\u001b[0;32m--> 262\u001b[0;31m                 \u001b[0;34m\"Comet.ml requires an API key. Please provide as the \"\u001b[0m\u001b[0;34m\u001b[0m\u001b[0;34m\u001b[0m\u001b[0m\n\u001b[0m\u001b[1;32m    263\u001b[0m                 \u001b[0;34m\"first argument to Experiment(api_key) or as an environment\"\u001b[0m\u001b[0;34m\u001b[0m\u001b[0;34m\u001b[0m\u001b[0m\n\u001b[1;32m    264\u001b[0m                 \u001b[0;34m\" variable named COMET_API_KEY \"\u001b[0m\u001b[0;34m\u001b[0m\u001b[0;34m\u001b[0m\u001b[0m\n",
            "\u001b[0;31mValueError\u001b[0m: Comet.ml requires an API key. Please provide as the first argument to Experiment(api_key) or as an environment variable named COMET_API_KEY "
          ]
        }
      ]
    },
    {
      "cell_type": "code",
      "metadata": {
        "colab": {
          "base_uri": "https://localhost:8080/"
        },
        "id": "DzdwfiX2H86Q",
        "outputId": "36b645a2-0bcf-45c7-e8dc-9d46cb3e3564"
      },
      "source": [
        "exp.log_dataframe_profile(\n",
        "train_df, \n",
        "name='train_set_from_FE2',  # keep this name\n",
        "dataframe_format='csv'  # ensure you set this flag!\n",
        ")\n",
        "\n",
        "exp.log_dataframe_profile(\n",
        "test_df, \n",
        "name='test_set_from_FE2',  # keep this name\n",
        "dataframe_format='csv'  # ensure you set this flag!\n",
        ")\n"
      ],
      "id": "DzdwfiX2H86Q",
      "execution_count": null,
      "outputs": [
        {
          "output_type": "stream",
          "name": "stderr",
          "text": [
            "COMET WARNING: unable to profile dataframe; ignoring\n",
            "COMET WARNING: unable to profile dataframe; ignoring\n",
            "COMET WARNING: unable to profile dataframe; ignoring\n"
          ]
        },
        {
          "output_type": "execute_result",
          "data": {
            "text/plain": [
              "{'dataframe': {'api': 'https://www.comet.ml/api/rest/v2/experiment/asset/get-asset?assetId=4a1ec1be94d641b6a9fdf5a03ed78719&experimentKey=2de74906d5ad42c0913ded110a44d306',\n",
              "  'assetId': '4a1ec1be94d641b6a9fdf5a03ed78719',\n",
              "  'web': 'https://www.comet.ml/api/asset/download?assetId=4a1ec1be94d641b6a9fdf5a03ed78719&experimentKey=2de74906d5ad42c0913ded110a44d306'},\n",
              " 'profile': None}"
            ]
          },
          "metadata": {},
          "execution_count": 70
        }
      ]
    },
    {
      "cell_type": "markdown",
      "metadata": {
        "id": "i8bloprl_Lpf"
      },
      "source": [
        "# Split and shuffle Data"
      ],
      "id": "i8bloprl_Lpf"
    },
    {
      "cell_type": "code",
      "metadata": {
        "id": "X3EAx_NuFKSt"
      },
      "source": [
        "random.seed(42)"
      ],
      "id": "X3EAx_NuFKSt",
      "execution_count": 13,
      "outputs": []
    },
    {
      "cell_type": "code",
      "metadata": {
        "id": "VCGefzl2EsWz"
      },
      "source": [
        "train_df = train_df.sample(frac=1)\n",
        "test_df = test_df.sample(frac=1)\n",
        "#for part 7\n",
        "test_df_regular = test_df_regular.sample(frac=1)\n",
        "test_df_playoff = test_df_playoff.sample(frac=1)"
      ],
      "id": "VCGefzl2EsWz",
      "execution_count": 14,
      "outputs": []
    },
    {
      "cell_type": "code",
      "metadata": {
        "id": "IE-Wvb62FC8S",
        "colab": {
          "base_uri": "https://localhost:8080/",
          "height": 313
        },
        "outputId": "82ff0600-7961-482e-8888-ebc4638e30b0"
      },
      "source": [
        "train_df.head()"
      ],
      "id": "IE-Wvb62FC8S",
      "execution_count": 15,
      "outputs": [
        {
          "output_type": "execute_result",
          "data": {
            "text/html": [
              "<div>\n",
              "<style scoped>\n",
              "    .dataframe tbody tr th:only-of-type {\n",
              "        vertical-align: middle;\n",
              "    }\n",
              "\n",
              "    .dataframe tbody tr th {\n",
              "        vertical-align: top;\n",
              "    }\n",
              "\n",
              "    .dataframe thead th {\n",
              "        text-align: right;\n",
              "    }\n",
              "</style>\n",
              "<table border=\"1\" class=\"dataframe\">\n",
              "  <thead>\n",
              "    <tr style=\"text-align: right;\">\n",
              "      <th></th>\n",
              "      <th>result.penaltySeverity</th>\n",
              "      <th>result.penaltyMinutes</th>\n",
              "      <th>gamePk</th>\n",
              "      <th>team.name</th>\n",
              "      <th>gamePeriod</th>\n",
              "      <th>coordinatesX</th>\n",
              "      <th>coordinatesY</th>\n",
              "      <th>shotType</th>\n",
              "      <th>emptyNet</th>\n",
              "      <th>strength</th>\n",
              "      <th>gameSeconds</th>\n",
              "      <th>shotDistance</th>\n",
              "      <th>shotAngle</th>\n",
              "      <th>isGoal</th>\n",
              "      <th>lastEventType</th>\n",
              "      <th>lastEventCoordinatesX</th>\n",
              "      <th>lastEventCoordinatesY</th>\n",
              "      <th>timeFromLastEvent</th>\n",
              "      <th>distanceFromLastEvent</th>\n",
              "      <th>rebound</th>\n",
              "      <th>speed</th>\n",
              "      <th>changeInShotAngle</th>\n",
              "      <th>angleSpeed</th>\n",
              "    </tr>\n",
              "  </thead>\n",
              "  <tbody>\n",
              "    <tr>\n",
              "      <th>206411</th>\n",
              "      <td>NaN</td>\n",
              "      <td>NaN</td>\n",
              "      <td>2017020728</td>\n",
              "      <td>Ottawa Senators</td>\n",
              "      <td>3</td>\n",
              "      <td>35.0</td>\n",
              "      <td>-24.0</td>\n",
              "      <td>Slap Shot</td>\n",
              "      <td>0</td>\n",
              "      <td>NaN</td>\n",
              "      <td>504.0</td>\n",
              "      <td>59.093147</td>\n",
              "      <td>23.962489</td>\n",
              "      <td>0</td>\n",
              "      <td>Missed Shot</td>\n",
              "      <td>77.0</td>\n",
              "      <td>8.0</td>\n",
              "      <td>20.0</td>\n",
              "      <td>52.801515</td>\n",
              "      <td>0</td>\n",
              "      <td>2.640076</td>\n",
              "      <td>0.000000</td>\n",
              "      <td>0.000000</td>\n",
              "    </tr>\n",
              "    <tr>\n",
              "      <th>17539</th>\n",
              "      <td>NaN</td>\n",
              "      <td>NaN</td>\n",
              "      <td>2015020295</td>\n",
              "      <td>Anaheim Ducks</td>\n",
              "      <td>3</td>\n",
              "      <td>-75.0</td>\n",
              "      <td>0.0</td>\n",
              "      <td>Wrist Shot</td>\n",
              "      <td>0</td>\n",
              "      <td>NaN</td>\n",
              "      <td>855.0</td>\n",
              "      <td>14.000000</td>\n",
              "      <td>0.000000</td>\n",
              "      <td>0</td>\n",
              "      <td>Hit</td>\n",
              "      <td>-69.0</td>\n",
              "      <td>-31.0</td>\n",
              "      <td>11.0</td>\n",
              "      <td>31.575307</td>\n",
              "      <td>0</td>\n",
              "      <td>2.870482</td>\n",
              "      <td>0.000000</td>\n",
              "      <td>0.000000</td>\n",
              "    </tr>\n",
              "    <tr>\n",
              "      <th>321406</th>\n",
              "      <td>NaN</td>\n",
              "      <td>NaN</td>\n",
              "      <td>2018021181</td>\n",
              "      <td>Ottawa Senators</td>\n",
              "      <td>2</td>\n",
              "      <td>-77.0</td>\n",
              "      <td>-1.0</td>\n",
              "      <td>Deflected</td>\n",
              "      <td>0</td>\n",
              "      <td>NaN</td>\n",
              "      <td>301.0</td>\n",
              "      <td>12.041595</td>\n",
              "      <td>-4.763642</td>\n",
              "      <td>0</td>\n",
              "      <td>Blocked Shot</td>\n",
              "      <td>-57.0</td>\n",
              "      <td>3.0</td>\n",
              "      <td>5.0</td>\n",
              "      <td>20.396078</td>\n",
              "      <td>0</td>\n",
              "      <td>4.079216</td>\n",
              "      <td>0.000000</td>\n",
              "      <td>0.000000</td>\n",
              "    </tr>\n",
              "    <tr>\n",
              "      <th>237114</th>\n",
              "      <td>NaN</td>\n",
              "      <td>NaN</td>\n",
              "      <td>2017021202</td>\n",
              "      <td>Carolina Hurricanes</td>\n",
              "      <td>1</td>\n",
              "      <td>76.0</td>\n",
              "      <td>13.0</td>\n",
              "      <td>Wrist Shot</td>\n",
              "      <td>0</td>\n",
              "      <td>NaN</td>\n",
              "      <td>1017.0</td>\n",
              "      <td>18.384776</td>\n",
              "      <td>-45.000000</td>\n",
              "      <td>0</td>\n",
              "      <td>Shot</td>\n",
              "      <td>54.0</td>\n",
              "      <td>11.0</td>\n",
              "      <td>22.0</td>\n",
              "      <td>22.090722</td>\n",
              "      <td>1</td>\n",
              "      <td>1.004124</td>\n",
              "      <td>27.552812</td>\n",
              "      <td>1.252401</td>\n",
              "    </tr>\n",
              "    <tr>\n",
              "      <th>166753</th>\n",
              "      <td>NaN</td>\n",
              "      <td>NaN</td>\n",
              "      <td>2017020109</td>\n",
              "      <td>Anaheim Ducks</td>\n",
              "      <td>2</td>\n",
              "      <td>-92.0</td>\n",
              "      <td>-6.0</td>\n",
              "      <td>Backhand</td>\n",
              "      <td>0</td>\n",
              "      <td>NaN</td>\n",
              "      <td>619.0</td>\n",
              "      <td>6.708204</td>\n",
              "      <td>-116.565051</td>\n",
              "      <td>0</td>\n",
              "      <td>Hit</td>\n",
              "      <td>-10.0</td>\n",
              "      <td>28.0</td>\n",
              "      <td>5.0</td>\n",
              "      <td>88.769364</td>\n",
              "      <td>0</td>\n",
              "      <td>17.753873</td>\n",
              "      <td>0.000000</td>\n",
              "      <td>0.000000</td>\n",
              "    </tr>\n",
              "  </tbody>\n",
              "</table>\n",
              "</div>"
            ],
            "text/plain": [
              "       result.penaltySeverity  ...  angleSpeed\n",
              "206411                    NaN  ...    0.000000\n",
              "17539                     NaN  ...    0.000000\n",
              "321406                    NaN  ...    0.000000\n",
              "237114                    NaN  ...    1.252401\n",
              "166753                    NaN  ...    0.000000\n",
              "\n",
              "[5 rows x 23 columns]"
            ]
          },
          "metadata": {},
          "execution_count": 15
        }
      ]
    },
    {
      "cell_type": "markdown",
      "metadata": {
        "id": "xjaddTP_dSH1"
      },
      "source": [
        "## Here I am going to do more features selection and change the preprocessing (no need to one hot with random forest),\n",
        "## I will also try to find the best feature with $Χ^2$\n",
        "## (Need to remove negative values features that I don't find interesting by intuition such as coordinates)"
      ],
      "id": "xjaddTP_dSH1"
    },
    {
      "cell_type": "code",
      "metadata": {
        "id": "72IkWlL6JCtE"
      },
      "source": [
        "features = ['gameSeconds','timeFromLastEvent','gamePeriod','shotType','lastEventType','shotAngle', 'shotDistance','distanceFromLastEvent', 'rebound','speed','changeInShotAngle','angleSpeed']\n",
        "label = ['isGoal']"
      ],
      "id": "72IkWlL6JCtE",
      "execution_count": 16,
      "outputs": []
    },
    {
      "cell_type": "code",
      "metadata": {
        "colab": {
          "base_uri": "https://localhost:8080/"
        },
        "id": "sbtgiVdKQ6tq",
        "outputId": "1f687589-862b-4477-8bfb-7a9ca54f7767"
      },
      "source": [
        "train_df[features].isna().any()\n",
        "test_df[features].isna().any()\n",
        "\n",
        "test_df_regular[features].isna().any()\n",
        "test_df_playoff[features].isna().any()"
      ],
      "id": "sbtgiVdKQ6tq",
      "execution_count": 17,
      "outputs": [
        {
          "output_type": "execute_result",
          "data": {
            "text/plain": [
              "gameSeconds              False\n",
              "timeFromLastEvent        False\n",
              "gamePeriod               False\n",
              "shotType                  True\n",
              "lastEventType            False\n",
              "shotAngle                False\n",
              "shotDistance             False\n",
              "distanceFromLastEvent     True\n",
              "rebound                  False\n",
              "speed                     True\n",
              "changeInShotAngle        False\n",
              "angleSpeed                True\n",
              "dtype: bool"
            ]
          },
          "metadata": {},
          "execution_count": 17
        }
      ]
    },
    {
      "cell_type": "markdown",
      "metadata": {
        "id": "L-vx_OBBSa5M"
      },
      "source": [
        "### Ordinal encode `lastEventType`"
      ],
      "id": "L-vx_OBBSa5M"
    },
    {
      "cell_type": "code",
      "metadata": {
        "id": "AoHbQWYwgf9k",
        "colab": {
          "base_uri": "https://localhost:8080/"
        },
        "outputId": "b002fbb1-15f4-45a0-fa85-34c7013ab22f"
      },
      "source": [
        "from sklearn.preprocessing import OrdinalEncoder\n",
        "enc = OrdinalEncoder()\n",
        "enc.fit(train_df[['lastEventType']])"
      ],
      "id": "AoHbQWYwgf9k",
      "execution_count": 18,
      "outputs": [
        {
          "output_type": "execute_result",
          "data": {
            "text/plain": [
              "OrdinalEncoder()"
            ]
          },
          "metadata": {},
          "execution_count": 18
        }
      ]
    },
    {
      "cell_type": "code",
      "metadata": {
        "id": "q0H6T2Eqg7PW"
      },
      "source": [
        "train_df[['lastEventType']] = enc.transform(train_df[['lastEventType']]).astype(int)\n",
        "test_df[['lastEventType']] = enc.transform(test_df[['lastEventType']]).astype(int)\n",
        "\n",
        "test_df_regular[['lastEventType']] = enc.transform(test_df_regular[['lastEventType']]).astype(int)\n",
        "test_df_playoff[['lastEventType']] = enc.transform(test_df_playoff[['lastEventType']]).astype(int)"
      ],
      "id": "q0H6T2Eqg7PW",
      "execution_count": 19,
      "outputs": []
    },
    {
      "cell_type": "code",
      "metadata": {
        "id": "-WQr8FVb2Zax",
        "colab": {
          "base_uri": "https://localhost:8080/"
        },
        "outputId": "962fc395-c6bf-4309-f6db-0b1fd18389dd"
      },
      "source": [
        "train_df['lastEventType'].unique(),test_df['lastEventType'].unique()"
      ],
      "id": "-WQr8FVb2Zax",
      "execution_count": 20,
      "outputs": [
        {
          "output_type": "execute_result",
          "data": {
            "text/plain": [
              "(array([ 6,  5,  0, 14,  1,  3, 15, 16,  8,  4, 12,  9,  7, 11, 10,  2, 13]),\n",
              " array([ 3,  0,  1, 14,  5, 16,  6,  4, 15, 12,  9, 10,  8,  7, 13,  2, 11]))"
            ]
          },
          "metadata": {},
          "execution_count": 20
        }
      ]
    },
    {
      "cell_type": "markdown",
      "metadata": {
        "id": "LiB5e5M8YFRA"
      },
      "source": [
        "### Replace inf with nan (annoying in normalization)"
      ],
      "id": "LiB5e5M8YFRA"
    },
    {
      "cell_type": "code",
      "metadata": {
        "id": "pRj2nIZCXXLA"
      },
      "source": [
        "train_df.replace([np.inf, -np.inf], np.nan, inplace=True)\n",
        "test_df.replace([np.inf, -np.inf], np.nan, inplace=True)\n",
        "\n",
        "test_df_regular.replace([np.inf, -np.inf], np.nan, inplace=True)\n",
        "test_df_playoff.replace([np.inf, -np.inf], np.nan, inplace=True)"
      ],
      "id": "pRj2nIZCXXLA",
      "execution_count": 21,
      "outputs": []
    },
    {
      "cell_type": "code",
      "metadata": {
        "id": "kMoH4JD-OP8Z"
      },
      "source": [
        "#drop rows with nan\n",
        "train_df = train_df[train_df['shotType'].notna()]\n",
        "test_df = test_df[test_df['shotType'].notna()]\n",
        "test_df_regular = test_df_regular[test_df_regular['shotType'].notna()]\n",
        "test_df_playoff = test_df_playoff[test_df_playoff['shotType'].notna()]\n",
        "\n",
        "train_df = train_df[train_df['shotAngle'].notna()]\n",
        "test_df = test_df[test_df['shotAngle'].notna()]\n",
        "test_df_regular = test_df_regular[test_df_regular['shotAngle'].notna()]\n",
        "test_df_playoff = test_df_playoff[test_df_playoff['shotAngle'].notna()]\n",
        "\n",
        "train_df = train_df[train_df['shotDistance'].notna()]\n",
        "test_df = test_df[test_df['shotDistance'].notna()]\n",
        "test_df_regular = test_df_regular[test_df_regular['shotDistance'].notna()]\n",
        "test_df_playoff = test_df_playoff[test_df_playoff['shotDistance'].notna()]\n",
        "\n",
        "train_df = train_df[train_df['speed'].notna()]\n",
        "test_df = test_df[test_df['speed'].notna()]\n",
        "test_df_regular = test_df_regular[test_df_regular['speed'].notna()]\n",
        "test_df_playoff = test_df_playoff[test_df_playoff['speed'].notna()]\n",
        "\n",
        "train_df = train_df[train_df['changeInShotAngle'].notna()]\n",
        "test_df = test_df[test_df['changeInShotAngle'].notna()]\n",
        "test_df_regular = test_df_regular[test_df_regular['changeInShotAngle'].notna()]\n",
        "test_df_playoff = test_df_playoff[test_df_playoff['changeInShotAngle'].notna()]\n",
        "\n",
        "\"\"\"\n",
        "train_df = train_df[train_df['coordinatesX'].notna()]\n",
        "test_df = test_df[test_df['coordinatesX'].notna()]\n",
        "test_df_regular = test_df_regular[test_df_regular['coordinatesX'].notna()]\n",
        "test_df_playoff = test_df_playoff[test_df_playoff['coordinatesX'].notna()]\n",
        "\n",
        "train_df = train_df[train_df['coordinatesY'].notna()]\n",
        "test_df = test_df[test_df['coordinatesY'].notna()]\n",
        "test_df_regular = test_df_regular[test_df_regular['coordinatesY'].notna()]\n",
        "test_df_playoff = test_df_playoff[test_df_playoff['coordinatesY'].notna()]\n",
        "\n",
        "train_df = train_df[train_df['lastEventCoordinatesY'].notna()]\n",
        "test_df = test_df[test_df['lastEventCoordinatesY'].notna()]\n",
        "test_df_regular = test_df_regular[test_df_regular['lastEventCoordinatesY'].notna()]\n",
        "test_df_playoff = test_df_playoff[test_df_playoff['lastEventCoordinatesY'].notna()]\n",
        "\n",
        "train_df = train_df[train_df['lastEventCoordinatesX'].notna()]\n",
        "test_df = test_df[test_df['lastEventCoordinatesX'].notna()]\n",
        "test_df_regular = test_df_regular[test_df_regular['lastEventCoordinatesX'].notna()]\n",
        "test_df_playoff = test_df_playoff[test_df_playoff['lastEventCoordinatesX'].notna()]\n",
        "\"\"\"\n",
        "\n",
        "train_df = train_df[train_df['angleSpeed'].notna()]\n",
        "test_df = test_df[test_df['angleSpeed'].notna()]\n",
        "test_df_regular = test_df_regular[test_df_regular['angleSpeed'].notna()]\n",
        "test_df_playoff = test_df_playoff[test_df_playoff['angleSpeed'].notna()]\n",
        "\n"
      ],
      "id": "kMoH4JD-OP8Z",
      "execution_count": 22,
      "outputs": []
    },
    {
      "cell_type": "code",
      "metadata": {
        "colab": {
          "base_uri": "https://localhost:8080/"
        },
        "id": "VB2rx98tRfcM",
        "outputId": "681ac357-12d7-40f3-efdc-6dd6f65eef88"
      },
      "source": [
        "train_df[features].isna().any()\n",
        "test_df[features].isna().any()\n",
        "test_df_regular[features].isna().any()\n",
        "test_df_playoff[features].isna().any()"
      ],
      "id": "VB2rx98tRfcM",
      "execution_count": 23,
      "outputs": [
        {
          "output_type": "execute_result",
          "data": {
            "text/plain": [
              "gameSeconds              False\n",
              "timeFromLastEvent        False\n",
              "gamePeriod               False\n",
              "shotType                 False\n",
              "lastEventType            False\n",
              "shotAngle                False\n",
              "shotDistance             False\n",
              "distanceFromLastEvent    False\n",
              "rebound                  False\n",
              "speed                    False\n",
              "changeInShotAngle        False\n",
              "angleSpeed               False\n",
              "dtype: bool"
            ]
          },
          "metadata": {},
          "execution_count": 23
        }
      ]
    },
    {
      "cell_type": "markdown",
      "metadata": {
        "id": "yMKexCTzjAK0"
      },
      "source": [
        "### Ordinal encore shot type"
      ],
      "id": "yMKexCTzjAK0"
    },
    {
      "cell_type": "code",
      "metadata": {
        "id": "dv5j5Uvni2DA"
      },
      "source": [
        "from sklearn.preprocessing import OrdinalEncoder\n",
        "enc = OrdinalEncoder()\n",
        "enc.fit(train_df[['shotType']])\n",
        "\n",
        "train_df[['shotType']] = enc.transform(train_df[['shotType']]).astype(int)\n",
        "test_df[['shotType']] = enc.transform(test_df[['shotType']]).astype(int)\n",
        "\n",
        "test_df_regular[['shotType']] = enc.transform(test_df_regular[['shotType']]).astype(int)\n",
        "test_df_playoff[['shotType']] = enc.transform(test_df_playoff[['shotType']]).astype(int)"
      ],
      "id": "dv5j5Uvni2DA",
      "execution_count": 24,
      "outputs": []
    },
    {
      "cell_type": "code",
      "metadata": {
        "id": "zJDnMC3Fje2n",
        "colab": {
          "base_uri": "https://localhost:8080/"
        },
        "outputId": "c496acc0-b470-42bd-e07c-81e353887bd7"
      },
      "source": [
        "#Sanity check\n",
        "test_df['shotType'].unique(), train_df['lastEventType'].unique()"
      ],
      "id": "zJDnMC3Fje2n",
      "execution_count": 25,
      "outputs": [
        {
          "output_type": "execute_result",
          "data": {
            "text/plain": [
              "(array([3, 6, 4, 0, 2, 1, 5]), array([ 6,  5,  0, 14,  1,  3, 16,  8,  4]))"
            ]
          },
          "metadata": {},
          "execution_count": 25
        }
      ]
    },
    {
      "cell_type": "code",
      "metadata": {
        "id": "EBotVr8-spsw",
        "colab": {
          "base_uri": "https://localhost:8080/"
        },
        "outputId": "5e790a67-d3f3-4b33-aaaa-8c358460c463"
      },
      "source": [
        "train_df[features].isna().any()\n",
        "test_df[features].isna().any()\n",
        "test_df_regular[features].isna().any()\n",
        "test_df_playoff[features].isna().any()"
      ],
      "id": "EBotVr8-spsw",
      "execution_count": 26,
      "outputs": [
        {
          "output_type": "execute_result",
          "data": {
            "text/plain": [
              "gameSeconds              False\n",
              "timeFromLastEvent        False\n",
              "gamePeriod               False\n",
              "shotType                 False\n",
              "lastEventType            False\n",
              "shotAngle                False\n",
              "shotDistance             False\n",
              "distanceFromLastEvent    False\n",
              "rebound                  False\n",
              "speed                    False\n",
              "changeInShotAngle        False\n",
              "angleSpeed               False\n",
              "dtype: bool"
            ]
          },
          "metadata": {},
          "execution_count": 26
        }
      ]
    },
    {
      "cell_type": "markdown",
      "metadata": {
        "id": "z_1OQNVSkMPk"
      },
      "source": [
        "## Use feature selection with chi²\n",
        "* first, want to try `pandas_profiling`"
      ],
      "id": "z_1OQNVSkMPk"
    },
    {
      "cell_type": "code",
      "metadata": {
        "id": "LXvZlAeNp3US"
      },
      "source": [
        "from pandas_profiling import ProfileReport\n",
        "\"\"\"\n",
        "profile = ProfileReport(train_df, title=\"Pandas Profiling Report\")\n",
        "profile.to_widgets()\n",
        "profile\n",
        "\"\"\"\n",
        "ProfileReport(train_df)"
      ],
      "id": "LXvZlAeNp3US",
      "execution_count": null,
      "outputs": []
    },
    {
      "cell_type": "markdown",
      "metadata": {
        "id": "JZnOVxMbtymo"
      },
      "source": [
        "#### After seeing the warnings about the big amount of zeros in `changeInShotAngle` and `angleSpeed` I might consider to remove them, but first chi², I will try to select best categorical data"
      ],
      "id": "JZnOVxMbtymo"
    },
    {
      "cell_type": "code",
      "metadata": {
        "id": "G1iNrd3t_M-u",
        "outputId": "56c9d0ac-3bf5-42b3-9c0f-5b0e71fd59df",
        "colab": {
          "base_uri": "https://localhost:8080/",
          "height": 112
        }
      },
      "source": [
        "train_df[features].head(2)"
      ],
      "id": "G1iNrd3t_M-u",
      "execution_count": 28,
      "outputs": [
        {
          "output_type": "execute_result",
          "data": {
            "text/html": [
              "<div>\n",
              "<style scoped>\n",
              "    .dataframe tbody tr th:only-of-type {\n",
              "        vertical-align: middle;\n",
              "    }\n",
              "\n",
              "    .dataframe tbody tr th {\n",
              "        vertical-align: top;\n",
              "    }\n",
              "\n",
              "    .dataframe thead th {\n",
              "        text-align: right;\n",
              "    }\n",
              "</style>\n",
              "<table border=\"1\" class=\"dataframe\">\n",
              "  <thead>\n",
              "    <tr style=\"text-align: right;\">\n",
              "      <th></th>\n",
              "      <th>gameSeconds</th>\n",
              "      <th>timeFromLastEvent</th>\n",
              "      <th>gamePeriod</th>\n",
              "      <th>shotType</th>\n",
              "      <th>lastEventType</th>\n",
              "      <th>shotAngle</th>\n",
              "      <th>shotDistance</th>\n",
              "      <th>distanceFromLastEvent</th>\n",
              "      <th>rebound</th>\n",
              "      <th>speed</th>\n",
              "      <th>changeInShotAngle</th>\n",
              "      <th>angleSpeed</th>\n",
              "    </tr>\n",
              "  </thead>\n",
              "  <tbody>\n",
              "    <tr>\n",
              "      <th>206411</th>\n",
              "      <td>504.0</td>\n",
              "      <td>20.0</td>\n",
              "      <td>3</td>\n",
              "      <td>2</td>\n",
              "      <td>6</td>\n",
              "      <td>23.962489</td>\n",
              "      <td>59.093147</td>\n",
              "      <td>52.801515</td>\n",
              "      <td>0</td>\n",
              "      <td>2.640076</td>\n",
              "      <td>0.0</td>\n",
              "      <td>0.0</td>\n",
              "    </tr>\n",
              "    <tr>\n",
              "      <th>17539</th>\n",
              "      <td>855.0</td>\n",
              "      <td>11.0</td>\n",
              "      <td>3</td>\n",
              "      <td>6</td>\n",
              "      <td>5</td>\n",
              "      <td>0.000000</td>\n",
              "      <td>14.000000</td>\n",
              "      <td>31.575307</td>\n",
              "      <td>0</td>\n",
              "      <td>2.870482</td>\n",
              "      <td>0.0</td>\n",
              "      <td>0.0</td>\n",
              "    </tr>\n",
              "  </tbody>\n",
              "</table>\n",
              "</div>"
            ],
            "text/plain": [
              "        gameSeconds  timeFromLastEvent  ...  changeInShotAngle  angleSpeed\n",
              "206411        504.0               20.0  ...                0.0         0.0\n",
              "17539         855.0               11.0  ...                0.0         0.0\n",
              "\n",
              "[2 rows x 12 columns]"
            ]
          },
          "metadata": {},
          "execution_count": 28
        }
      ]
    },
    {
      "cell_type": "code",
      "metadata": {
        "id": "nbTQLdU4mwfq"
      },
      "source": [
        "#take categorical features\n",
        "non_categorical = ['gameSeconds','timeFromLastEvent','shotAngle','shotDistance','distanceFromLastEvent','speed','changeInShotAngle','angleSpeed']\n",
        "features_cat = [x for x in features.copy() if x not in non_categorical.copy()]"
      ],
      "id": "nbTQLdU4mwfq",
      "execution_count": 37,
      "outputs": []
    },
    {
      "cell_type": "code",
      "metadata": {
        "id": "HAmMSPfwwnjk",
        "colab": {
          "base_uri": "https://localhost:8080/"
        },
        "outputId": "5d7bebc7-545a-4f96-aa94-749695e3b3eb"
      },
      "source": [
        "features_cat"
      ],
      "id": "HAmMSPfwwnjk",
      "execution_count": 38,
      "outputs": [
        {
          "output_type": "execute_result",
          "data": {
            "text/plain": [
              "['gamePeriod', 'shotType', 'lastEventType', 'rebound']"
            ]
          },
          "metadata": {},
          "execution_count": 38
        }
      ]
    },
    {
      "cell_type": "code",
      "metadata": {
        "id": "GxgdARrgkYMT",
        "colab": {
          "base_uri": "https://localhost:8080/"
        },
        "outputId": "1106aa96-cea8-4510-d6bb-972bb2f3a6fb"
      },
      "source": [
        "#taken from https://medium.com/analytics-vidhya/feature-selection-using-scikit-learn-5b4362e0c19b\n",
        "from sklearn.feature_selection import SelectKBest, chi2\n",
        "\n",
        "X_3_best= SelectKBest(chi2, k=3).fit(train_df[features_cat], train_df[label])\n",
        "mask = X_3_best.get_support() #list of booleans for selected features\n",
        "new_feat = [] \n",
        "for bool, feature in zip(mask, train_df[features_cat].columns):\n",
        "  if bool:\n",
        "    new_feat.append(feature)\n",
        "print(\"The best features are:{}\".format(new_feat)) # The list of your 4 best features"
      ],
      "id": "GxgdARrgkYMT",
      "execution_count": 40,
      "outputs": [
        {
          "output_type": "stream",
          "name": "stdout",
          "text": [
            "The best features are:['gamePeriod', 'lastEventType', 'rebound']\n"
          ]
        }
      ]
    },
    {
      "cell_type": "markdown",
      "metadata": {
        "id": "3bV1DhLtwynt"
      },
      "source": [
        "###Keep those features and do th same as before : rand forest with grid search"
      ],
      "id": "3bV1DhLtwynt"
    },
    {
      "cell_type": "code",
      "metadata": {
        "id": "jCWDUWOawx6V"
      },
      "source": [
        "features_sel = new_feat + non_categorical"
      ],
      "id": "jCWDUWOawx6V",
      "execution_count": 41,
      "outputs": []
    },
    {
      "cell_type": "code",
      "metadata": {
        "id": "-hf1lrCqx4Z6",
        "colab": {
          "base_uri": "https://localhost:8080/"
        },
        "outputId": "da7a10c8-ab99-4361-da8a-e05933a66023"
      },
      "source": [
        "features_sel"
      ],
      "id": "-hf1lrCqx4Z6",
      "execution_count": 42,
      "outputs": [
        {
          "output_type": "execute_result",
          "data": {
            "text/plain": [
              "['gamePeriod',\n",
              " 'lastEventType',\n",
              " 'rebound',\n",
              " 'gameSeconds',\n",
              " 'timeFromLastEvent',\n",
              " 'shotAngle',\n",
              " 'shotDistance',\n",
              " 'distanceFromLastEvent',\n",
              " 'speed',\n",
              " 'changeInShotAngle',\n",
              " 'angleSpeed']"
            ]
          },
          "metadata": {},
          "execution_count": 42
        }
      ]
    },
    {
      "cell_type": "markdown",
      "metadata": {
        "id": "iOBcT44B7KVI"
      },
      "source": [
        "## Split features"
      ],
      "id": "iOBcT44B7KVI"
    },
    {
      "cell_type": "code",
      "metadata": {
        "id": "6_vAlttj0xwV",
        "colab": {
          "base_uri": "https://localhost:8080/"
        },
        "outputId": "03e9bc12-e2e1-4b6c-f58d-471e454f89ed"
      },
      "source": [
        "from sklearn.model_selection import train_test_split\n",
        "X_train, X_valid, y_train, y_valid = train_test_split(train_df[features].copy(), train_df[label].copy(), test_size=0.25, random_state=42)\n",
        "\n",
        "\n",
        "\n",
        "#for part 7\n",
        "X_test_playoff = test_df_playoff[features].copy()\n",
        "y_test_playoff = test_df_playoff[label].copy()\n",
        "\n",
        "X_test_regular = test_df_regular[features].copy()\n",
        "y_test_regular = test_df_regular[label].copy()\n",
        "\n",
        "X_train.shape, y_train.shape, X_valid.shape, y_valid.shape,X_test_regular.shape, y_test_regular.shape, X_test_playoff.shape, y_test_playoff.shape"
      ],
      "id": "6_vAlttj0xwV",
      "execution_count": 58,
      "outputs": [
        {
          "output_type": "execute_result",
          "data": {
            "text/plain": [
              "((241225, 12),\n",
              " (241225, 1),\n",
              " (80409, 12),\n",
              " (80409, 1),\n",
              " (66366, 12),\n",
              " (66366, 1),\n",
              " (7802, 12),\n",
              " (7802, 1))"
            ]
          },
          "metadata": {},
          "execution_count": 58
        }
      ]
    },
    {
      "cell_type": "markdown",
      "metadata": {
        "id": "-rmV692K3tN-"
      },
      "source": [
        "# Preprocess ends here"
      ],
      "id": "-rmV692K3tN-"
    },
    {
      "cell_type": "code",
      "metadata": {
        "id": "Br-EHuqUEk65",
        "colab": {
          "base_uri": "https://localhost:8080/",
          "height": 206
        },
        "outputId": "01992857-09c5-4817-d3f5-60a615069d1e"
      },
      "source": [
        "X_test_playoff.head()"
      ],
      "id": "Br-EHuqUEk65",
      "execution_count": 59,
      "outputs": [
        {
          "output_type": "execute_result",
          "data": {
            "text/html": [
              "<div>\n",
              "<style scoped>\n",
              "    .dataframe tbody tr th:only-of-type {\n",
              "        vertical-align: middle;\n",
              "    }\n",
              "\n",
              "    .dataframe tbody tr th {\n",
              "        vertical-align: top;\n",
              "    }\n",
              "\n",
              "    .dataframe thead th {\n",
              "        text-align: right;\n",
              "    }\n",
              "</style>\n",
              "<table border=\"1\" class=\"dataframe\">\n",
              "  <thead>\n",
              "    <tr style=\"text-align: right;\">\n",
              "      <th></th>\n",
              "      <th>gameSeconds</th>\n",
              "      <th>timeFromLastEvent</th>\n",
              "      <th>gamePeriod</th>\n",
              "      <th>shotType</th>\n",
              "      <th>lastEventType</th>\n",
              "      <th>shotAngle</th>\n",
              "      <th>shotDistance</th>\n",
              "      <th>distanceFromLastEvent</th>\n",
              "      <th>rebound</th>\n",
              "      <th>speed</th>\n",
              "      <th>changeInShotAngle</th>\n",
              "      <th>angleSpeed</th>\n",
              "    </tr>\n",
              "  </thead>\n",
              "  <tbody>\n",
              "    <tr>\n",
              "      <th>71027</th>\n",
              "      <td>1026.0</td>\n",
              "      <td>28.0</td>\n",
              "      <td>1</td>\n",
              "      <td>6</td>\n",
              "      <td>1</td>\n",
              "      <td>-32.005383</td>\n",
              "      <td>9.433981</td>\n",
              "      <td>104.546640</td>\n",
              "      <td>0</td>\n",
              "      <td>3.733809</td>\n",
              "      <td>0.0</td>\n",
              "      <td>0.0</td>\n",
              "    </tr>\n",
              "    <tr>\n",
              "      <th>70408</th>\n",
              "      <td>779.0</td>\n",
              "      <td>42.0</td>\n",
              "      <td>3</td>\n",
              "      <td>6</td>\n",
              "      <td>5</td>\n",
              "      <td>-79.992020</td>\n",
              "      <td>17.262677</td>\n",
              "      <td>133.540256</td>\n",
              "      <td>0</td>\n",
              "      <td>3.179530</td>\n",
              "      <td>0.0</td>\n",
              "      <td>0.0</td>\n",
              "    </tr>\n",
              "    <tr>\n",
              "      <th>72572</th>\n",
              "      <td>1093.0</td>\n",
              "      <td>9.0</td>\n",
              "      <td>3</td>\n",
              "      <td>6</td>\n",
              "      <td>1</td>\n",
              "      <td>-12.278765</td>\n",
              "      <td>173.979884</td>\n",
              "      <td>19.209373</td>\n",
              "      <td>0</td>\n",
              "      <td>2.134375</td>\n",
              "      <td>0.0</td>\n",
              "      <td>0.0</td>\n",
              "    </tr>\n",
              "    <tr>\n",
              "      <th>71071</th>\n",
              "      <td>410.0</td>\n",
              "      <td>8.0</td>\n",
              "      <td>1</td>\n",
              "      <td>6</td>\n",
              "      <td>16</td>\n",
              "      <td>-1.847610</td>\n",
              "      <td>31.016125</td>\n",
              "      <td>134.123078</td>\n",
              "      <td>0</td>\n",
              "      <td>16.765385</td>\n",
              "      <td>0.0</td>\n",
              "      <td>0.0</td>\n",
              "    </tr>\n",
              "    <tr>\n",
              "      <th>72143</th>\n",
              "      <td>1004.0</td>\n",
              "      <td>18.0</td>\n",
              "      <td>1</td>\n",
              "      <td>6</td>\n",
              "      <td>1</td>\n",
              "      <td>-12.042575</td>\n",
              "      <td>153.375357</td>\n",
              "      <td>12.806248</td>\n",
              "      <td>0</td>\n",
              "      <td>0.711458</td>\n",
              "      <td>0.0</td>\n",
              "      <td>0.0</td>\n",
              "    </tr>\n",
              "  </tbody>\n",
              "</table>\n",
              "</div>"
            ],
            "text/plain": [
              "       gameSeconds  timeFromLastEvent  ...  changeInShotAngle  angleSpeed\n",
              "71027       1026.0               28.0  ...                0.0         0.0\n",
              "70408        779.0               42.0  ...                0.0         0.0\n",
              "72572       1093.0                9.0  ...                0.0         0.0\n",
              "71071        410.0                8.0  ...                0.0         0.0\n",
              "72143       1004.0               18.0  ...                0.0         0.0\n",
              "\n",
              "[5 rows x 12 columns]"
            ]
          },
          "metadata": {},
          "execution_count": 59
        }
      ]
    },
    {
      "cell_type": "markdown",
      "metadata": {
        "id": "p1fedCBRVXRa"
      },
      "source": [
        "# Normalize numerical data "
      ],
      "id": "p1fedCBRVXRa"
    },
    {
      "cell_type": "markdown",
      "metadata": {
        "id": "UXo55o_N1utI"
      },
      "source": [
        "### Export your preprocessed set on comet"
      ],
      "id": "UXo55o_N1utI"
    },
    {
      "cell_type": "code",
      "metadata": {
        "id": "4ONL8-5S1xlr",
        "colab": {
          "base_uri": "https://localhost:8080/"
        },
        "outputId": "0e955945-e00a-4b55-ab43-398dc6d87fd3"
      },
      "source": [
        "exp.log_dataframe_profile(\n",
        "X_train, \n",
        "name='preprocesseded_train_features',  # keep this name\n",
        "dataframe_format='csv'  # ensure you set this flag!\n",
        ")\n",
        "\n",
        "exp.log_dataframe_profile(\n",
        "X_valid, \n",
        "name='preprocessed_valid_features',  # keep this name\n",
        "dataframe_format='csv'  # ensure you set this flag!\n",
        ")\n",
        "\n",
        "exp.log_dataframe_profile(\n",
        "X_test, \n",
        "name='preprocessed_test_features',  # keep this name\n",
        "dataframe_format='csv'  # ensure you set this flag!\n",
        ")\n"
      ],
      "id": "4ONL8-5S1xlr",
      "execution_count": null,
      "outputs": [
        {
          "output_type": "stream",
          "name": "stderr",
          "text": [
            "COMET WARNING: unable to profile dataframe; ignoring\n",
            "COMET WARNING: unable to profile dataframe; ignoring\n",
            "COMET WARNING: unable to profile dataframe; ignoring\n"
          ]
        },
        {
          "output_type": "execute_result",
          "data": {
            "text/plain": [
              "{'dataframe': {'api': 'https://www.comet.ml/api/rest/v2/experiment/asset/get-asset?assetId=ab84a834ec5e4d70aec8cab237859355&experimentKey=e63f825c8ea044f5becbd0755d4bee36',\n",
              "  'assetId': 'ab84a834ec5e4d70aec8cab237859355',\n",
              "  'web': 'https://www.comet.ml/api/asset/download?assetId=ab84a834ec5e4d70aec8cab237859355&experimentKey=e63f825c8ea044f5becbd0755d4bee36'},\n",
              " 'profile': None}"
            ]
          },
          "metadata": {},
          "execution_count": 392
        }
      ]
    },
    {
      "cell_type": "markdown",
      "metadata": {
        "id": "bUkk21dyz-_W"
      },
      "source": [
        "### Normalize"
      ],
      "id": "bUkk21dyz-_W"
    },
    {
      "cell_type": "code",
      "metadata": {
        "id": "jFvbcgNeCKSf",
        "outputId": "2bf9b748-6eab-4006-e4fc-e24796666129",
        "colab": {
          "base_uri": "https://localhost:8080/",
          "height": 424
        }
      },
      "source": [
        "X_valid"
      ],
      "id": "jFvbcgNeCKSf",
      "execution_count": 60,
      "outputs": [
        {
          "output_type": "execute_result",
          "data": {
            "text/html": [
              "<div>\n",
              "<style scoped>\n",
              "    .dataframe tbody tr th:only-of-type {\n",
              "        vertical-align: middle;\n",
              "    }\n",
              "\n",
              "    .dataframe tbody tr th {\n",
              "        vertical-align: top;\n",
              "    }\n",
              "\n",
              "    .dataframe thead th {\n",
              "        text-align: right;\n",
              "    }\n",
              "</style>\n",
              "<table border=\"1\" class=\"dataframe\">\n",
              "  <thead>\n",
              "    <tr style=\"text-align: right;\">\n",
              "      <th></th>\n",
              "      <th>gameSeconds</th>\n",
              "      <th>timeFromLastEvent</th>\n",
              "      <th>gamePeriod</th>\n",
              "      <th>shotType</th>\n",
              "      <th>lastEventType</th>\n",
              "      <th>shotAngle</th>\n",
              "      <th>shotDistance</th>\n",
              "      <th>distanceFromLastEvent</th>\n",
              "      <th>rebound</th>\n",
              "      <th>speed</th>\n",
              "      <th>changeInShotAngle</th>\n",
              "      <th>angleSpeed</th>\n",
              "    </tr>\n",
              "  </thead>\n",
              "  <tbody>\n",
              "    <tr>\n",
              "      <th>63444</th>\n",
              "      <td>146.0</td>\n",
              "      <td>10.0</td>\n",
              "      <td>1</td>\n",
              "      <td>6</td>\n",
              "      <td>5</td>\n",
              "      <td>-18.060472</td>\n",
              "      <td>48.383882</td>\n",
              "      <td>47.885280</td>\n",
              "      <td>0</td>\n",
              "      <td>4.788528</td>\n",
              "      <td>0.00000</td>\n",
              "      <td>0.00000</td>\n",
              "    </tr>\n",
              "    <tr>\n",
              "      <th>164888</th>\n",
              "      <td>842.0</td>\n",
              "      <td>45.0</td>\n",
              "      <td>2</td>\n",
              "      <td>2</td>\n",
              "      <td>16</td>\n",
              "      <td>-30.735488</td>\n",
              "      <td>43.046487</td>\n",
              "      <td>53.150729</td>\n",
              "      <td>0</td>\n",
              "      <td>1.181127</td>\n",
              "      <td>0.00000</td>\n",
              "      <td>0.00000</td>\n",
              "    </tr>\n",
              "    <tr>\n",
              "      <th>161873</th>\n",
              "      <td>207.0</td>\n",
              "      <td>1.0</td>\n",
              "      <td>3</td>\n",
              "      <td>6</td>\n",
              "      <td>14</td>\n",
              "      <td>-52.125016</td>\n",
              "      <td>11.401754</td>\n",
              "      <td>17.691806</td>\n",
              "      <td>1</td>\n",
              "      <td>17.691806</td>\n",
              "      <td>53.82038</td>\n",
              "      <td>53.82038</td>\n",
              "    </tr>\n",
              "    <tr>\n",
              "      <th>287400</th>\n",
              "      <td>340.0</td>\n",
              "      <td>8.0</td>\n",
              "      <td>2</td>\n",
              "      <td>3</td>\n",
              "      <td>1</td>\n",
              "      <td>26.565051</td>\n",
              "      <td>26.832816</td>\n",
              "      <td>34.234486</td>\n",
              "      <td>0</td>\n",
              "      <td>4.279311</td>\n",
              "      <td>0.00000</td>\n",
              "      <td>0.00000</td>\n",
              "    </tr>\n",
              "    <tr>\n",
              "      <th>212803</th>\n",
              "      <td>357.0</td>\n",
              "      <td>1.0</td>\n",
              "      <td>1</td>\n",
              "      <td>6</td>\n",
              "      <td>14</td>\n",
              "      <td>-15.255119</td>\n",
              "      <td>11.401754</td>\n",
              "      <td>4.472136</td>\n",
              "      <td>1</td>\n",
              "      <td>4.472136</td>\n",
              "      <td>3.17983</td>\n",
              "      <td>3.17983</td>\n",
              "    </tr>\n",
              "    <tr>\n",
              "      <th>...</th>\n",
              "      <td>...</td>\n",
              "      <td>...</td>\n",
              "      <td>...</td>\n",
              "      <td>...</td>\n",
              "      <td>...</td>\n",
              "      <td>...</td>\n",
              "      <td>...</td>\n",
              "      <td>...</td>\n",
              "      <td>...</td>\n",
              "      <td>...</td>\n",
              "      <td>...</td>\n",
              "      <td>...</td>\n",
              "    </tr>\n",
              "    <tr>\n",
              "      <th>128039</th>\n",
              "      <td>47.0</td>\n",
              "      <td>5.0</td>\n",
              "      <td>2</td>\n",
              "      <td>0</td>\n",
              "      <td>5</td>\n",
              "      <td>68.198591</td>\n",
              "      <td>26.925824</td>\n",
              "      <td>64.621978</td>\n",
              "      <td>0</td>\n",
              "      <td>12.924396</td>\n",
              "      <td>0.00000</td>\n",
              "      <td>0.00000</td>\n",
              "    </tr>\n",
              "    <tr>\n",
              "      <th>259978</th>\n",
              "      <td>552.0</td>\n",
              "      <td>19.0</td>\n",
              "      <td>2</td>\n",
              "      <td>6</td>\n",
              "      <td>1</td>\n",
              "      <td>27.407575</td>\n",
              "      <td>30.413813</td>\n",
              "      <td>36.674242</td>\n",
              "      <td>0</td>\n",
              "      <td>1.930223</td>\n",
              "      <td>0.00000</td>\n",
              "      <td>0.00000</td>\n",
              "    </tr>\n",
              "    <tr>\n",
              "      <th>138732</th>\n",
              "      <td>462.0</td>\n",
              "      <td>27.0</td>\n",
              "      <td>3</td>\n",
              "      <td>2</td>\n",
              "      <td>1</td>\n",
              "      <td>23.962489</td>\n",
              "      <td>59.093147</td>\n",
              "      <td>34.058773</td>\n",
              "      <td>0</td>\n",
              "      <td>1.261436</td>\n",
              "      <td>0.00000</td>\n",
              "      <td>0.00000</td>\n",
              "    </tr>\n",
              "    <tr>\n",
              "      <th>246878</th>\n",
              "      <td>736.0</td>\n",
              "      <td>25.0</td>\n",
              "      <td>1</td>\n",
              "      <td>3</td>\n",
              "      <td>5</td>\n",
              "      <td>-50.440332</td>\n",
              "      <td>29.832868</td>\n",
              "      <td>174.897113</td>\n",
              "      <td>0</td>\n",
              "      <td>6.995885</td>\n",
              "      <td>0.00000</td>\n",
              "      <td>0.00000</td>\n",
              "    </tr>\n",
              "    <tr>\n",
              "      <th>226631</th>\n",
              "      <td>407.0</td>\n",
              "      <td>22.0</td>\n",
              "      <td>3</td>\n",
              "      <td>4</td>\n",
              "      <td>1</td>\n",
              "      <td>-4.398705</td>\n",
              "      <td>13.038405</td>\n",
              "      <td>146.812806</td>\n",
              "      <td>0</td>\n",
              "      <td>6.673309</td>\n",
              "      <td>0.00000</td>\n",
              "      <td>0.00000</td>\n",
              "    </tr>\n",
              "  </tbody>\n",
              "</table>\n",
              "<p>80409 rows × 12 columns</p>\n",
              "</div>"
            ],
            "text/plain": [
              "        gameSeconds  timeFromLastEvent  ...  changeInShotAngle  angleSpeed\n",
              "63444         146.0               10.0  ...            0.00000     0.00000\n",
              "164888        842.0               45.0  ...            0.00000     0.00000\n",
              "161873        207.0                1.0  ...           53.82038    53.82038\n",
              "287400        340.0                8.0  ...            0.00000     0.00000\n",
              "212803        357.0                1.0  ...            3.17983     3.17983\n",
              "...             ...                ...  ...                ...         ...\n",
              "128039         47.0                5.0  ...            0.00000     0.00000\n",
              "259978        552.0               19.0  ...            0.00000     0.00000\n",
              "138732        462.0               27.0  ...            0.00000     0.00000\n",
              "246878        736.0               25.0  ...            0.00000     0.00000\n",
              "226631        407.0               22.0  ...            0.00000     0.00000\n",
              "\n",
              "[80409 rows x 12 columns]"
            ]
          },
          "metadata": {},
          "execution_count": 60
        }
      ]
    },
    {
      "cell_type": "code",
      "metadata": {
        "id": "N1aOEo2aCNLc",
        "outputId": "842977c2-b00a-42fd-a0e1-60d197bddd36",
        "colab": {
          "base_uri": "https://localhost:8080/"
        }
      },
      "source": [
        "print(non_categorical)"
      ],
      "id": "N1aOEo2aCNLc",
      "execution_count": 61,
      "outputs": [
        {
          "output_type": "stream",
          "name": "stdout",
          "text": [
            "['gameSeconds', 'timeFromLastEvent', 'shotAngle', 'shotDistance', 'distanceFromLastEvent', 'speed', 'changeInShotAngle', 'angleSpeed']\n"
          ]
        }
      ]
    },
    {
      "cell_type": "code",
      "metadata": {
        "id": "BelGr2c90Dw3",
        "outputId": "c1e86d83-aa5a-4cd5-c61a-3145815a328e",
        "colab": {
          "base_uri": "https://localhost:8080/"
        }
      },
      "source": [
        "num = non_categorical.copy()\n",
        "print(num)"
      ],
      "id": "BelGr2c90Dw3",
      "execution_count": 63,
      "outputs": [
        {
          "output_type": "stream",
          "name": "stdout",
          "text": [
            "['gameSeconds', 'timeFromLastEvent', 'shotAngle', 'shotDistance', 'distanceFromLastEvent', 'speed', 'changeInShotAngle', 'angleSpeed']\n"
          ]
        }
      ]
    },
    {
      "cell_type": "code",
      "metadata": {
        "id": "vRlDZ8ji0Bai"
      },
      "source": [
        "from sklearn.preprocessing import StandardScaler\n",
        "\n",
        "scaler = StandardScaler()\n",
        "scaler.fit(X_train[num])\n",
        "\n",
        "X_train[num] = scaler.transform(X_train[num])\n",
        "X_valid[num] = scaler.transform(X_valid[num])\n",
        "X_test_playoff[num]= scaler.transform(X_test_playoff[num])\n",
        "X_test_regular[num]=scaler.transform(X_test_regular[num])"
      ],
      "id": "vRlDZ8ji0Bai",
      "execution_count": 64,
      "outputs": []
    },
    {
      "cell_type": "code",
      "metadata": {
        "id": "ctBUHSke1aoj",
        "colab": {
          "base_uri": "https://localhost:8080/",
          "height": 424
        },
        "outputId": "35544fcb-7de8-424e-c518-a89ada77845a"
      },
      "source": [
        "X_test_playoff"
      ],
      "id": "ctBUHSke1aoj",
      "execution_count": 65,
      "outputs": [
        {
          "output_type": "execute_result",
          "data": {
            "text/html": [
              "<div>\n",
              "<style scoped>\n",
              "    .dataframe tbody tr th:only-of-type {\n",
              "        vertical-align: middle;\n",
              "    }\n",
              "\n",
              "    .dataframe tbody tr th {\n",
              "        vertical-align: top;\n",
              "    }\n",
              "\n",
              "    .dataframe thead th {\n",
              "        text-align: right;\n",
              "    }\n",
              "</style>\n",
              "<table border=\"1\" class=\"dataframe\">\n",
              "  <thead>\n",
              "    <tr style=\"text-align: right;\">\n",
              "      <th></th>\n",
              "      <th>gameSeconds</th>\n",
              "      <th>timeFromLastEvent</th>\n",
              "      <th>gamePeriod</th>\n",
              "      <th>shotType</th>\n",
              "      <th>lastEventType</th>\n",
              "      <th>shotAngle</th>\n",
              "      <th>shotDistance</th>\n",
              "      <th>distanceFromLastEvent</th>\n",
              "      <th>rebound</th>\n",
              "      <th>speed</th>\n",
              "      <th>changeInShotAngle</th>\n",
              "      <th>angleSpeed</th>\n",
              "    </tr>\n",
              "  </thead>\n",
              "  <tbody>\n",
              "    <tr>\n",
              "      <th>71027</th>\n",
              "      <td>1.240571</td>\n",
              "      <td>0.850845</td>\n",
              "      <td>1</td>\n",
              "      <td>6</td>\n",
              "      <td>1</td>\n",
              "      <td>-0.903092</td>\n",
              "      <td>-0.963893</td>\n",
              "      <td>0.925594</td>\n",
              "      <td>0</td>\n",
              "      <td>-0.423976</td>\n",
              "      <td>-0.366094</td>\n",
              "      <td>-0.235209</td>\n",
              "    </tr>\n",
              "    <tr>\n",
              "      <th>70408</th>\n",
              "      <td>0.530603</td>\n",
              "      <td>1.800741</td>\n",
              "      <td>3</td>\n",
              "      <td>6</td>\n",
              "      <td>5</td>\n",
              "      <td>-2.221587</td>\n",
              "      <td>-0.714573</td>\n",
              "      <td>1.555190</td>\n",
              "      <td>0</td>\n",
              "      <td>-0.478641</td>\n",
              "      <td>-0.366094</td>\n",
              "      <td>-0.235209</td>\n",
              "    </tr>\n",
              "    <tr>\n",
              "      <th>72572</th>\n",
              "      <td>1.433154</td>\n",
              "      <td>-0.438300</td>\n",
              "      <td>3</td>\n",
              "      <td>6</td>\n",
              "      <td>1</td>\n",
              "      <td>-0.361077</td>\n",
              "      <td>4.276389</td>\n",
              "      <td>-0.927504</td>\n",
              "      <td>0</td>\n",
              "      <td>-0.581718</td>\n",
              "      <td>-0.366094</td>\n",
              "      <td>-0.235209</td>\n",
              "    </tr>\n",
              "    <tr>\n",
              "      <th>71071</th>\n",
              "      <td>-0.530039</td>\n",
              "      <td>-0.506150</td>\n",
              "      <td>1</td>\n",
              "      <td>6</td>\n",
              "      <td>16</td>\n",
              "      <td>-0.074467</td>\n",
              "      <td>-0.276568</td>\n",
              "      <td>1.567846</td>\n",
              "      <td>0</td>\n",
              "      <td>0.861249</td>\n",
              "      <td>-0.366094</td>\n",
              "      <td>-0.235209</td>\n",
              "    </tr>\n",
              "    <tr>\n",
              "      <th>72143</th>\n",
              "      <td>1.177335</td>\n",
              "      <td>0.172348</td>\n",
              "      <td>1</td>\n",
              "      <td>6</td>\n",
              "      <td>1</td>\n",
              "      <td>-0.354587</td>\n",
              "      <td>3.620198</td>\n",
              "      <td>-1.066548</td>\n",
              "      <td>0</td>\n",
              "      <td>-0.722052</td>\n",
              "      <td>-0.366094</td>\n",
              "      <td>-0.235209</td>\n",
              "    </tr>\n",
              "    <tr>\n",
              "      <th>...</th>\n",
              "      <td>...</td>\n",
              "      <td>...</td>\n",
              "      <td>...</td>\n",
              "      <td>...</td>\n",
              "      <td>...</td>\n",
              "      <td>...</td>\n",
              "      <td>...</td>\n",
              "      <td>...</td>\n",
              "      <td>...</td>\n",
              "      <td>...</td>\n",
              "      <td>...</td>\n",
              "      <td>...</td>\n",
              "    </tr>\n",
              "    <tr>\n",
              "      <th>73437</th>\n",
              "      <td>-1.648167</td>\n",
              "      <td>-0.573999</td>\n",
              "      <td>3</td>\n",
              "      <td>6</td>\n",
              "      <td>5</td>\n",
              "      <td>-1.541003</td>\n",
              "      <td>0.131490</td>\n",
              "      <td>1.956329</td>\n",
              "      <td>0</td>\n",
              "      <td>1.349514</td>\n",
              "      <td>-0.366094</td>\n",
              "      <td>-0.235209</td>\n",
              "    </tr>\n",
              "    <tr>\n",
              "      <th>74528</th>\n",
              "      <td>1.619988</td>\n",
              "      <td>1.325793</td>\n",
              "      <td>2</td>\n",
              "      <td>0</td>\n",
              "      <td>6</td>\n",
              "      <td>-0.169726</td>\n",
              "      <td>4.236985</td>\n",
              "      <td>2.268154</td>\n",
              "      <td>0</td>\n",
              "      <td>-0.323408</td>\n",
              "      <td>-0.366094</td>\n",
              "      <td>-0.235209</td>\n",
              "    </tr>\n",
              "    <tr>\n",
              "      <th>73183</th>\n",
              "      <td>-1.179645</td>\n",
              "      <td>0.443747</td>\n",
              "      <td>1</td>\n",
              "      <td>6</td>\n",
              "      <td>1</td>\n",
              "      <td>-0.059475</td>\n",
              "      <td>4.342171</td>\n",
              "      <td>0.546564</td>\n",
              "      <td>0</td>\n",
              "      <td>-0.401794</td>\n",
              "      <td>-0.366094</td>\n",
              "      <td>-0.235209</td>\n",
              "    </tr>\n",
              "    <tr>\n",
              "      <th>68511</th>\n",
              "      <td>0.271910</td>\n",
              "      <td>2.139990</td>\n",
              "      <td>1</td>\n",
              "      <td>5</td>\n",
              "      <td>0</td>\n",
              "      <td>-0.095211</td>\n",
              "      <td>4.346511</td>\n",
              "      <td>2.173260</td>\n",
              "      <td>0</td>\n",
              "      <td>-0.452275</td>\n",
              "      <td>-0.366094</td>\n",
              "      <td>-0.235209</td>\n",
              "    </tr>\n",
              "    <tr>\n",
              "      <th>75431</th>\n",
              "      <td>0.139689</td>\n",
              "      <td>-0.573999</td>\n",
              "      <td>2</td>\n",
              "      <td>3</td>\n",
              "      <td>14</td>\n",
              "      <td>0.078021</td>\n",
              "      <td>4.160964</td>\n",
              "      <td>2.164671</td>\n",
              "      <td>1</td>\n",
              "      <td>1.484691</td>\n",
              "      <td>-0.235847</td>\n",
              "      <td>-0.181353</td>\n",
              "    </tr>\n",
              "  </tbody>\n",
              "</table>\n",
              "<p>7802 rows × 12 columns</p>\n",
              "</div>"
            ],
            "text/plain": [
              "       gameSeconds  timeFromLastEvent  ...  changeInShotAngle  angleSpeed\n",
              "71027     1.240571           0.850845  ...          -0.366094   -0.235209\n",
              "70408     0.530603           1.800741  ...          -0.366094   -0.235209\n",
              "72572     1.433154          -0.438300  ...          -0.366094   -0.235209\n",
              "71071    -0.530039          -0.506150  ...          -0.366094   -0.235209\n",
              "72143     1.177335           0.172348  ...          -0.366094   -0.235209\n",
              "...            ...                ...  ...                ...         ...\n",
              "73437    -1.648167          -0.573999  ...          -0.366094   -0.235209\n",
              "74528     1.619988           1.325793  ...          -0.366094   -0.235209\n",
              "73183    -1.179645           0.443747  ...          -0.366094   -0.235209\n",
              "68511     0.271910           2.139990  ...          -0.366094   -0.235209\n",
              "75431     0.139689          -0.573999  ...          -0.235847   -0.181353\n",
              "\n",
              "[7802 rows x 12 columns]"
            ]
          },
          "metadata": {},
          "execution_count": 65
        }
      ]
    },
    {
      "cell_type": "markdown",
      "metadata": {
        "id": "UQVVMq0iJmIs"
      },
      "source": [
        "# Try Random Forest"
      ],
      "id": "UQVVMq0iJmIs"
    },
    {
      "cell_type": "code",
      "metadata": {
        "id": "QMS2ZkPeI3do"
      },
      "source": [
        "from sklearn.ensemble import RandomForestClassifier\n",
        "from sklearn.experimental import enable_halving_search_cv\n",
        "from sklearn.model_selection import HalvingGridSearchCV\n",
        "\n",
        "# Create the parameter grid based on the results of random search \n",
        "param_grid = {\n",
        "    'n_estimators':[50,65,80,100,115,130,150],\n",
        "     'max_depth': [5,6,7,8,9,10,11,12,13,14,15,18]\n",
        "}\n",
        "\n",
        "rf = RandomForestClassifier(criterion='entropy')\n",
        "sh = HalvingGridSearchCV(rf,param_grid)\n",
        "model = sh.fit(X_train,y_train)"
      ],
      "id": "QMS2ZkPeI3do",
      "execution_count": 66,
      "outputs": []
    },
    {
      "cell_type": "code",
      "metadata": {
        "id": "iLSfbahVakWy",
        "colab": {
          "base_uri": "https://localhost:8080/"
        },
        "outputId": "0912726d-02c7-40f0-cf5b-ecca2064581c"
      },
      "source": [
        "model.best_estimator_"
      ],
      "id": "iLSfbahVakWy",
      "execution_count": 67,
      "outputs": [
        {
          "output_type": "execute_result",
          "data": {
            "text/plain": [
              "RandomForestClassifier(criterion='entropy', max_depth=15, n_estimators=130)"
            ]
          },
          "metadata": {},
          "execution_count": 67
        }
      ]
    },
    {
      "cell_type": "markdown",
      "metadata": {
        "id": "8KY1qTS_49OG"
      },
      "source": [
        "### Measurements on valid Set"
      ],
      "id": "8KY1qTS_49OG"
    },
    {
      "cell_type": "code",
      "metadata": {
        "id": "nuPU-E-uhptX"
      },
      "source": [
        "y_pred_valid  = model.predict(X_valid)"
      ],
      "id": "nuPU-E-uhptX",
      "execution_count": 68,
      "outputs": []
    },
    {
      "cell_type": "code",
      "metadata": {
        "id": "mPzwKTEhiIPa"
      },
      "source": [
        "y_proba_val = model.predict_proba(X_valid)[:,1] # get the proba of having a goal (pred=1)"
      ],
      "id": "mPzwKTEhiIPa",
      "execution_count": 69,
      "outputs": []
    },
    {
      "cell_type": "code",
      "metadata": {
        "id": "--dZClQLiM63",
        "colab": {
          "base_uri": "https://localhost:8080/"
        },
        "outputId": "615e662f-6007-4143-d87d-e7bd247afacc"
      },
      "source": [
        "score_valid = model.score(X_valid,y_valid)\n",
        "score_valid"
      ],
      "id": "--dZClQLiM63",
      "execution_count": 70,
      "outputs": [
        {
          "output_type": "execute_result",
          "data": {
            "text/plain": [
              "0.9101468741061324"
            ]
          },
          "metadata": {},
          "execution_count": 70
        }
      ]
    },
    {
      "cell_type": "code",
      "metadata": {
        "id": "gFf2UneE-oGA"
      },
      "source": [
        "#log metric\n",
        "exp.log_metric(\"Accuracy on valid (2018) set\", score_valid)"
      ],
      "id": "gFf2UneE-oGA",
      "execution_count": null,
      "outputs": []
    },
    {
      "cell_type": "code",
      "metadata": {
        "id": "-4NtOh_X-q7g"
      },
      "source": [
        "%matplotlib inline\n",
        "plt.close('all')"
      ],
      "id": "-4NtOh_X-q7g",
      "execution_count": 71,
      "outputs": []
    },
    {
      "cell_type": "markdown",
      "metadata": {
        "id": "sVw66t1QhYSZ"
      },
      "source": [
        "# Export model on comet before plotting"
      ],
      "id": "sVw66t1QhYSZ"
    },
    {
      "cell_type": "code",
      "metadata": {
        "id": "IN7rF_wui8LW"
      },
      "source": [
        "weights_dir = \"../ift6758/models/weights\"\n",
        "experiment = \"Random-forest-on-valid-with-FE2\"\n",
        "predscore_val_dict={}"
      ],
      "id": "IN7rF_wui8LW",
      "execution_count": null,
      "outputs": []
    },
    {
      "cell_type": "code",
      "metadata": {
        "id": "LDQS_iZvkPTH",
        "colab": {
          "base_uri": "https://localhost:8080/"
        },
        "outputId": "2dbfaf4a-9ff4-4622-88e9-ee75996a8e02"
      },
      "source": [
        "!ls .."
      ],
      "id": "LDQS_iZvkPTH",
      "execution_count": null,
      "outputs": [
        {
          "output_type": "stream",
          "name": "stdout",
          "text": [
            "ift6758  ift6758-project-main\n"
          ]
        }
      ]
    },
    {
      "cell_type": "code",
      "metadata": {
        "id": "0VV3-XKcgDVq",
        "colab": {
          "base_uri": "https://localhost:8080/"
        },
        "outputId": "e7fa83b3-1185-4644-93c2-cacb0e08d13e"
      },
      "source": [
        "import joblib\n",
        "\n",
        "predscore_val_dict[experiment]={}\n",
        "predscore_val_dict[experiment]['true_valid_label']=y_valid\n",
        "predscore_val_dict[experiment]['proba']=y_proba_val\n",
        "predscore_val_dict[experiment]['prediction']=y_pred_valid\n",
        "\n",
        "## Dumping model\n",
        "filename=f\"{weights_dir}/{experiment}.pkl\"\n",
        "joblib.dump(model,filename)"
      ],
      "id": "0VV3-XKcgDVq",
      "execution_count": null,
      "outputs": [
        {
          "output_type": "execute_result",
          "data": {
            "text/plain": [
              "['../ift6758/models/weights/Random-forest-on-valid-with-FE2.pkl']"
            ]
          },
          "metadata": {},
          "execution_count": 131
        }
      ]
    },
    {
      "cell_type": "code",
      "metadata": {
        "id": "2jcopP6hg6ns",
        "colab": {
          "base_uri": "https://localhost:8080/",
          "height": 165
        },
        "outputId": "25eebe3c-6fd4-427c-ac44-c9808202adb5"
      },
      "source": [
        "exp.log_model(\"Random Forest\", \"../ift6758/models/weights/Random-forest-with-FE2.pkl\")"
      ],
      "id": "2jcopP6hg6ns",
      "execution_count": null,
      "outputs": [
        {
          "output_type": "error",
          "ename": "NameError",
          "evalue": "ignored",
          "traceback": [
            "\u001b[0;31m---------------------------------------------------------------------------\u001b[0m",
            "\u001b[0;31mNameError\u001b[0m                                 Traceback (most recent call last)",
            "\u001b[0;32m<ipython-input-132-5137b951aea8>\u001b[0m in \u001b[0;36m<module>\u001b[0;34m()\u001b[0m\n\u001b[0;32m----> 1\u001b[0;31m \u001b[0mexp\u001b[0m\u001b[0;34m.\u001b[0m\u001b[0mlog_model\u001b[0m\u001b[0;34m(\u001b[0m\u001b[0;34m\"Random Forest\"\u001b[0m\u001b[0;34m,\u001b[0m \u001b[0;34m\"../ift6758/models/weights/Random-forest-with-FE2.pkl\"\u001b[0m\u001b[0;34m)\u001b[0m\u001b[0;34m\u001b[0m\u001b[0;34m\u001b[0m\u001b[0m\n\u001b[0m",
            "\u001b[0;31mNameError\u001b[0m: name 'exp' is not defined"
          ]
        }
      ]
    },
    {
      "cell_type": "markdown",
      "metadata": {
        "id": "QTmWpIfSCrou"
      },
      "source": [
        "# Plotting"
      ],
      "id": "QTmWpIfSCrou"
    },
    {
      "cell_type": "code",
      "metadata": {
        "id": "A8QwOHn-DFME",
        "colab": {
          "base_uri": "https://localhost:8080/"
        },
        "outputId": "897f9841-f0a2-4e22-9aa7-0247850d9d17"
      },
      "source": [
        "!git pull"
      ],
      "id": "A8QwOHn-DFME",
      "execution_count": null,
      "outputs": [
        {
          "output_type": "stream",
          "name": "stdout",
          "text": [
            "Already up to date.\n"
          ]
        }
      ]
    },
    {
      "cell_type": "code",
      "metadata": {
        "id": "R8HElJkGDHr0",
        "colab": {
          "base_uri": "https://localhost:8080/",
          "height": 559
        },
        "outputId": "1a2d0beb-1086-429b-da6a-30cbcbcaf3b0"
      },
      "source": [
        "from ift6758.metrics import plot_metrics\n",
        "\n",
        "#exp.log_figure(\n",
        "\"Confusion Matrix\",plot_metrics.plotConfusion(y_valid,y_pred_valid, title='Confusion matrix for Random Forest validation set prediction')#)"
      ],
      "id": "R8HElJkGDHr0",
      "execution_count": 72,
      "outputs": [
        {
          "output_type": "stream",
          "name": "stdout",
          "text": [
            "              precision    recall  f1-score   support\n",
            "\n",
            "           0       0.91      1.00      0.95     73165\n",
            "           1       0.61      0.01      0.01      7244\n",
            "\n",
            "    accuracy                           0.91     80409\n",
            "   macro avg       0.76      0.50      0.48     80409\n",
            "weighted avg       0.88      0.91      0.87     80409\n",
            "\n"
          ]
        },
        {
          "output_type": "execute_result",
          "data": {
            "text/plain": [
              "('Confusion Matrix', None)"
            ]
          },
          "metadata": {},
          "execution_count": 72
        },
        {
          "output_type": "display_data",
          "data": {
            "image/png": "[encoded data removed]",
            "text/plain": [
              "<Figure size 720x360 with 2 Axes>"
            ]
          },
          "metadata": {
            "needs_background": "light"
          }
        }
      ]
    },
    {
      "cell_type": "code",
      "metadata": {
        "id": "HHTlw5E8EFn-",
        "colab": {
          "base_uri": "https://localhost:8080/",
          "height": 295
        },
        "outputId": "0d8accd2-547b-4d61-beb4-34b2bb477643"
      },
      "source": [
        "plot_metrics.plot_roc([y_valid],[y_proba_val],[\"Valid set for Rand Forest\"])"
      ],
      "id": "HHTlw5E8EFn-",
      "execution_count": 73,
      "outputs": [
        {
          "output_type": "display_data",
          "data": {
            "image/png": "[encoded data removed]",
            "text/plain": [
              "<Figure size 432x288 with 1 Axes>"
            ]
          },
          "metadata": {
            "needs_background": "light"
          }
        }
      ]
    },
    {
      "cell_type": "code",
      "metadata": {
        "id": "Xqq78vIoM_Tz",
        "colab": {
          "base_uri": "https://localhost:8080/",
          "height": 486
        },
        "outputId": "0a69587a-f203-422b-a2d4-ddb617fb08ef"
      },
      "source": [
        "plot_metrics.plot_percentile([y_valid],[y_proba_val],bin_width=5,plot_labels=[\"Valid set for Rand Forest\"])"
      ],
      "id": "Xqq78vIoM_Tz",
      "execution_count": 74,
      "outputs": [
        {
          "output_type": "display_data",
          "data": {
            "image/png": "[encoded data removed]",
            "text/plain": [
              "<Figure size 1080x540 with 2 Axes>"
            ]
          },
          "metadata": {
            "needs_background": "light"
          }
        }
      ]
    },
    {
      "cell_type": "code",
      "metadata": {
        "id": "nXqLoooItwiz",
        "colab": {
          "base_uri": "https://localhost:8080/",
          "height": 486
        },
        "outputId": "c4368551-5996-44f1-a183-43a5684b2545"
      },
      "source": [
        "plot_metrics.plot_calibration([y_valid],[y_proba_val],plot_labels=[\"Valid set for Rand Forest\"])"
      ],
      "id": "nXqLoooItwiz",
      "execution_count": 75,
      "outputs": [
        {
          "output_type": "display_data",
          "data": {
            "image/png": "[encoded data removed]",
            "text/plain": [
              "<Figure size 540x540 with 1 Axes>"
            ]
          },
          "metadata": {
            "needs_background": "light"
          }
        }
      ]
    },
    {
      "cell_type": "markdown",
      "metadata": {
        "id": "VcMYtC9BASM3"
      },
      "source": [
        "### after I dl the img, export them on Comet"
      ],
      "id": "VcMYtC9BASM3"
    },
    {
      "cell_type": "code",
      "metadata": {
        "id": "xw4nj7GAuImf",
        "colab": {
          "base_uri": "https://localhost:8080/"
        },
        "outputId": "45dcaef8-7b2a-46e6-a1c9-567332e98de0"
      },
      "source": [
        "exp.log_image(\"figures/roc.png\",name=\"ROC with validation set\")"
      ],
      "id": "xw4nj7GAuImf",
      "execution_count": null,
      "outputs": [
        {
          "output_type": "execute_result",
          "data": {
            "text/plain": [
              "{'api': 'https://www.comet.ml/api/rest/v1/image/get-image?imageId=40416214fcc94006b0ab97bf72e15a30&experimentKey=e63f825c8ea044f5becbd0755d4bee36',\n",
              " 'imageId': '40416214fcc94006b0ab97bf72e15a30',\n",
              " 'web': 'https://www.comet.ml/api/image/download?imageId=40416214fcc94006b0ab97bf72e15a30&experimentKey=e63f825c8ea044f5becbd0755d4bee36'}"
            ]
          },
          "metadata": {},
          "execution_count": 417
        }
      ]
    },
    {
      "cell_type": "code",
      "metadata": {
        "colab": {
          "base_uri": "https://localhost:8080/"
        },
        "id": "qb588_3VAsz1",
        "outputId": "8748714b-a1dc-438a-bd40-691eb00ab483"
      },
      "source": [
        "exp.log_image(\"figures/percentile.png\",name=\"Percentile with validation set\")\n",
        "exp.log_image(\"figures/calibration.png\",name=\"Calibrationn figure with validation set\")"
      ],
      "id": "qb588_3VAsz1",
      "execution_count": null,
      "outputs": [
        {
          "output_type": "execute_result",
          "data": {
            "text/plain": [
              "{'api': 'https://www.comet.ml/api/rest/v1/image/get-image?imageId=b42f7c346b204ca5be7f6a361d82f7a0&experimentKey=e63f825c8ea044f5becbd0755d4bee36',\n",
              " 'imageId': 'b42f7c346b204ca5be7f6a361d82f7a0',\n",
              " 'web': 'https://www.comet.ml/api/image/download?imageId=b42f7c346b204ca5be7f6a361d82f7a0&experimentKey=e63f825c8ea044f5becbd0755d4bee36'}"
            ]
          },
          "metadata": {},
          "execution_count": 418
        }
      ]
    },
    {
      "cell_type": "markdown",
      "metadata": {
        "id": "tw6uUAph_dbi"
      },
      "source": [
        "# On test sets (regular and playoff)"
      ],
      "id": "tw6uUAph_dbi"
    },
    {
      "cell_type": "code",
      "metadata": {
        "id": "PYRB0oxk_e8x",
        "colab": {
          "base_uri": "https://localhost:8080/"
        },
        "outputId": "358c3d32-79e0-428e-e7fc-86022473f0a8"
      },
      "source": [
        "pred_regular  = model.predict(X_test_regular)\n",
        "proba_regular = model.predict_proba(X_test_regular)[:,1] # get the proba of having a goal (pred=1)\n",
        "score_regular = model.score(X_test_regular,y_test_regular)\n",
        "score_regular"
      ],
      "id": "PYRB0oxk_e8x",
      "execution_count": 76,
      "outputs": [
        {
          "output_type": "execute_result",
          "data": {
            "text/plain": [
              "0.9076484947111473"
            ]
          },
          "metadata": {},
          "execution_count": 76
        }
      ]
    },
    {
      "cell_type": "code",
      "metadata": {
        "id": "ZwIv0ojOBfua",
        "colab": {
          "base_uri": "https://localhost:8080/",
          "height": 165
        },
        "outputId": "43f9f8dd-febb-4f54-afbf-b3207f9ac22d"
      },
      "source": [
        "exp.log_metric(\"Test score on Regular Season\", score_regular)"
      ],
      "id": "ZwIv0ojOBfua",
      "execution_count": null,
      "outputs": [
        {
          "output_type": "error",
          "ename": "NameError",
          "evalue": "ignored",
          "traceback": [
            "\u001b[0;31m---------------------------------------------------------------------------\u001b[0m",
            "\u001b[0;31mNameError\u001b[0m                                 Traceback (most recent call last)",
            "\u001b[0;32m<ipython-input-139-1aa041ec6607>\u001b[0m in \u001b[0;36m<module>\u001b[0;34m()\u001b[0m\n\u001b[0;32m----> 1\u001b[0;31m \u001b[0mexp\u001b[0m\u001b[0;34m.\u001b[0m\u001b[0mlog_metric\u001b[0m\u001b[0;34m(\u001b[0m\u001b[0;34m\"Test score on Regular Season\"\u001b[0m\u001b[0;34m,\u001b[0m \u001b[0mscore_regular\u001b[0m\u001b[0;34m)\u001b[0m\u001b[0;34m\u001b[0m\u001b[0;34m\u001b[0m\u001b[0m\n\u001b[0m",
            "\u001b[0;31mNameError\u001b[0m: name 'exp' is not defined"
          ]
        }
      ]
    },
    {
      "cell_type": "code",
      "metadata": {
        "colab": {
          "base_uri": "https://localhost:8080/"
        },
        "id": "WhtBEPAKBnBU",
        "outputId": "c356e036-7b22-484c-9a6d-a9686492285e"
      },
      "source": [
        "pred_playoff  = model.predict(X_test_playoff)\n",
        "proba_playoff = model.predict_proba(X_test_playoff)[:,1] # get the proba of having a goal (pred=1)\n",
        "score_playoff = model.score(X_test_playoff,y_test_playoff)\n",
        "score_playoff"
      ],
      "id": "WhtBEPAKBnBU",
      "execution_count": 77,
      "outputs": [
        {
          "output_type": "execute_result",
          "data": {
            "text/plain": [
              "0.9141245834401436"
            ]
          },
          "metadata": {},
          "execution_count": 77
        }
      ]
    },
    {
      "cell_type": "code",
      "metadata": {
        "id": "Rkep7pbEB1vs",
        "colab": {
          "base_uri": "https://localhost:8080/",
          "height": 165
        },
        "outputId": "452a10ee-db32-497d-cf2d-743328454cad"
      },
      "source": [
        "exp.log_metric(\"Test score on Playoffs (2019)\", score_playoff)"
      ],
      "id": "Rkep7pbEB1vs",
      "execution_count": null,
      "outputs": [
        {
          "output_type": "error",
          "ename": "NameError",
          "evalue": "ignored",
          "traceback": [
            "\u001b[0;31m---------------------------------------------------------------------------\u001b[0m",
            "\u001b[0;31mNameError\u001b[0m                                 Traceback (most recent call last)",
            "\u001b[0;32m<ipython-input-141-0fbe25c03627>\u001b[0m in \u001b[0;36m<module>\u001b[0;34m()\u001b[0m\n\u001b[0;32m----> 1\u001b[0;31m \u001b[0mexp\u001b[0m\u001b[0;34m.\u001b[0m\u001b[0mlog_metric\u001b[0m\u001b[0;34m(\u001b[0m\u001b[0;34m\"Test score on Playoffs (2019)\"\u001b[0m\u001b[0;34m,\u001b[0m \u001b[0mscore_playoff\u001b[0m\u001b[0;34m)\u001b[0m\u001b[0;34m\u001b[0m\u001b[0;34m\u001b[0m\u001b[0m\n\u001b[0m",
            "\u001b[0;31mNameError\u001b[0m: name 'exp' is not defined"
          ]
        }
      ]
    },
    {
      "cell_type": "markdown",
      "metadata": {
        "id": "Y3A1GNzB_3Bt"
      },
      "source": [
        "## Export model"
      ],
      "id": "Y3A1GNzB_3Bt"
    },
    {
      "cell_type": "code",
      "metadata": {
        "id": "VFBBSmcE_yEv"
      },
      "source": [
        "weights_dir = \"../ift6758/models/weights\"\n",
        "experiment = \"Random-forest-test-regular-with-FE2\"\n",
        "predscore_val_dict={}"
      ],
      "id": "VFBBSmcE_yEv",
      "execution_count": null,
      "outputs": []
    },
    {
      "cell_type": "code",
      "metadata": {
        "id": "NehP2P8E_6AF",
        "colab": {
          "base_uri": "https://localhost:8080/"
        },
        "outputId": "8efdfc91-6e37-4684-f03e-e53617ac3571"
      },
      "source": [
        "import joblib\n",
        "\n",
        "predscore_val_dict[experiment]={}\n",
        "predscore_val_dict[experiment]['true_test_reg_label']=y_test_regular\n",
        "predscore_val_dict[experiment]['proba']=proba_regular\n",
        "predscore_val_dict[experiment]['prediction']=pred_regular\n",
        "\n",
        "## Dumping model\n",
        "filename=f\"{weights_dir}/{experiment}.pkl\"\n",
        "joblib.dump(model,filename)"
      ],
      "id": "NehP2P8E_6AF",
      "execution_count": null,
      "outputs": [
        {
          "output_type": "execute_result",
          "data": {
            "text/plain": [
              "['../ift6758/models/weights/Random-forest-test-regular-with-FE2.pkl']"
            ]
          },
          "metadata": {},
          "execution_count": 144
        }
      ]
    },
    {
      "cell_type": "code",
      "metadata": {
        "colab": {
          "base_uri": "https://localhost:8080/"
        },
        "id": "2mqGgk0VCV-1",
        "outputId": "b9bfe404-adb6-4bc5-ee03-15484ccbcaa2"
      },
      "source": [
        "weights_dir = \"../ift6758/models/weights\"\n",
        "experiment = \"Random-forest-test-playoff-with-FE2\"\n",
        "predscore_val_dict={}\n",
        "\n",
        "import joblib\n",
        "\n",
        "predscore_val_dict[experiment]={}\n",
        "predscore_val_dict[experiment]['true_test_reg_label']=y_test_playoff\n",
        "predscore_val_dict[experiment]['proba']=proba_playoff\n",
        "predscore_val_dict[experiment]['prediction']=pred_playoff\n",
        "\n",
        "## Dumping model\n",
        "filename=f\"{weights_dir}/{experiment}.pkl\"\n",
        "joblib.dump(model,filename)"
      ],
      "id": "2mqGgk0VCV-1",
      "execution_count": null,
      "outputs": [
        {
          "output_type": "execute_result",
          "data": {
            "text/plain": [
              "['../ift6758/models/weights/Random-forest-test-playoff-with-FE2.pkl']"
            ]
          },
          "metadata": {},
          "execution_count": 145
        }
      ]
    },
    {
      "cell_type": "code",
      "metadata": {
        "id": "YJGJzD5Z__E9",
        "colab": {
          "base_uri": "https://localhost:8080/"
        },
        "outputId": "f0f211e6-9133-4f14-821e-b8b1a12ad048"
      },
      "source": [
        "exp.log_model(\"Random Forest\", \"../ift6758/models/weights/Random-forest-with-FE2.pkl\")"
      ],
      "id": "YJGJzD5Z__E9",
      "execution_count": null,
      "outputs": [
        {
          "output_type": "execute_result",
          "data": {
            "text/plain": [
              "{'api': 'https://www.comet.ml/api/rest/v2/experiment/asset/get-asset?assetId=1467cfb3eeea4364a6f6ad97d4c06463&experimentKey=e63f825c8ea044f5becbd0755d4bee36',\n",
              " 'assetId': '1467cfb3eeea4364a6f6ad97d4c06463',\n",
              " 'web': 'https://www.comet.ml/api/asset/download?assetId=1467cfb3eeea4364a6f6ad97d4c06463&experimentKey=e63f825c8ea044f5becbd0755d4bee36'}"
            ]
          },
          "metadata": {},
          "execution_count": 427
        }
      ]
    },
    {
      "cell_type": "markdown",
      "metadata": {
        "id": "oT1p1HciALuz"
      },
      "source": [
        "# Plot"
      ],
      "id": "oT1p1HciALuz"
    },
    {
      "cell_type": "code",
      "metadata": {
        "id": "aTtwB14LAI5G",
        "colab": {
          "base_uri": "https://localhost:8080/",
          "height": 1000
        },
        "outputId": "f9e08aba-684e-4502-c9ba-bd66c47773d9"
      },
      "source": [
        "from ift6758.metrics import plot_metrics\n",
        "\n",
        "#exp.log_figure(\"Confusion Matrix for regular season test set\",\n",
        "plot_metrics.plotConfusion(y_test_regular,pred_regular, title='Confusion matrix for Random Forest test reg set prediction')#)\n",
        "#exp.log_figure(\"Confusion Matrix for playoff season test set\", \n",
        "plot_metrics.plotConfusion(y_test_playoff,pred_playoff, title='Confusion matrix for Random Forest test playoff set prediction')#)"
      ],
      "id": "aTtwB14LAI5G",
      "execution_count": 78,
      "outputs": [
        {
          "output_type": "stream",
          "name": "stdout",
          "text": [
            "              precision    recall  f1-score   support\n",
            "\n",
            "           0       0.91      1.00      0.95     60194\n",
            "           1       0.77      0.01      0.02      6172\n",
            "\n",
            "    accuracy                           0.91     66366\n",
            "   macro avg       0.84      0.50      0.49     66366\n",
            "weighted avg       0.90      0.91      0.86     66366\n",
            "\n",
            "              precision    recall  f1-score   support\n",
            "\n",
            "           0       0.92      1.00      0.96      7139\n",
            "           1       0.35      0.01      0.02       663\n",
            "\n",
            "    accuracy                           0.91      7802\n",
            "   macro avg       0.63      0.50      0.49      7802\n",
            "weighted avg       0.87      0.91      0.88      7802\n",
            "\n"
          ]
        },
        {
          "output_type": "display_data",
          "data": {
            "image/png": "[encoded data removed]",
            "text/plain": [
              "<Figure size 720x360 with 2 Axes>"
            ]
          },
          "metadata": {
            "needs_background": "light"
          }
        },
        {
          "output_type": "display_data",
          "data": {
            "image/png": "[encoded data removed]",
            "text/plain": [
              "<Figure size 720x360 with 2 Axes>"
            ]
          },
          "metadata": {
            "needs_background": "light"
          }
        }
      ]
    },
    {
      "cell_type": "code",
      "metadata": {
        "id": "pWaJQl5XDQFy"
      },
      "source": [
        "label_list = [y_test_regular, y_test_playoff]\n",
        "proba_list = [proba_regular,proba_playoff]\n",
        "pred_list = [pred_regular,pred_playoff]\n",
        "title_list = [\"Regular Season\", \"Playoff\"]"
      ],
      "id": "pWaJQl5XDQFy",
      "execution_count": 79,
      "outputs": []
    },
    {
      "cell_type": "code",
      "metadata": {
        "id": "QJOFKKd8Al1a",
        "colab": {
          "base_uri": "https://localhost:8080/",
          "height": 1000
        },
        "outputId": "d623f8b3-1051-4168-9cb1-0c866d7b4f6a"
      },
      "source": [
        "plot_metrics.plot_roc(label_list,proba_list,title_list)\n",
        "plot_metrics.plot_percentile(label_list,proba_list,bin_width=5,plot_labels=title_list)\n",
        "plot_metrics.plot_calibration(label_list,proba_list,plot_labels=title_list)"
      ],
      "id": "QJOFKKd8Al1a",
      "execution_count": 80,
      "outputs": [
        {
          "output_type": "display_data",
          "data": {
            "image/png": "[encoded data removed]",
            "text/plain": [
              "<Figure size 432x288 with 1 Axes>"
            ]
          },
          "metadata": {
            "needs_background": "light"
          }
        },
        {
          "output_type": "display_data",
          "data": {
            "image/png": "[encoded data removed]",
            "text/plain": [
              "<Figure size 1080x540 with 2 Axes>"
            ]
          },
          "metadata": {
            "needs_background": "light"
          }
        },
        {
          "output_type": "display_data",
          "data": {
            "image/png": "[encoded data removed]",
            "text/plain": [
              "<Figure size 540x540 with 1 Axes>"
            ]
          },
          "metadata": {
            "needs_background": "light"
          }
        }
      ]
    },
    {
      "cell_type": "code",
      "metadata": {
        "id": "hxWcoB_6MRcJ",
        "colab": {
          "base_uri": "https://localhost:8080/"
        },
        "outputId": "d8ce32df-c2c7-4e8c-a7d4-4a15bf83f9e9"
      },
      "source": [
        "exp.log_image(\"figures/roc_test.png\",name=\"Percentile with test set\")\n",
        "exp.log_image(\"figures/percentile_test.png\",name=\"Percentile with test set\")\n",
        "exp.log_image(\"figures/calibration_test.png\",name=\"Calibrationn figure with test set\")"
      ],
      "id": "hxWcoB_6MRcJ",
      "execution_count": null,
      "outputs": [
        {
          "output_type": "execute_result",
          "data": {
            "text/plain": [
              "{'api': 'https://www.comet.ml/api/rest/v1/image/get-image?imageId=004e84d8139c406785ffe8ddbe25643b&experimentKey=e63f825c8ea044f5becbd0755d4bee36',\n",
              " 'imageId': '004e84d8139c406785ffe8ddbe25643b',\n",
              " 'web': 'https://www.comet.ml/api/image/download?imageId=004e84d8139c406785ffe8ddbe25643b&experimentKey=e63f825c8ea044f5becbd0755d4bee36'}"
            ]
          },
          "metadata": {},
          "execution_count": 437
        }
      ]
    },
    {
      "cell_type": "code",
      "metadata": {
        "id": "qZuhALH2MeUN",
        "colab": {
          "base_uri": "https://localhost:8080/"
        },
        "outputId": "c3d039dd-d25d-4ffb-e20c-2c543cbafc03"
      },
      "source": [
        "exp.end()"
      ],
      "id": "qZuhALH2MeUN",
      "execution_count": null,
      "outputs": [
        {
          "output_type": "stream",
          "name": "stderr",
          "text": [
            "COMET INFO: ---------------------------\n",
            "COMET INFO: Comet.ml Experiment Summary\n",
            "COMET INFO: ---------------------------\n",
            "COMET INFO:   Data:\n",
            "COMET INFO:     display_summary_level : 1\n",
            "COMET INFO:     url                   : https://www.comet.ml/morph-e/milestone-2/e63f825c8ea044f5becbd0755d4bee36\n",
            "COMET INFO:   Metrics:\n",
            "COMET INFO:     Accuracy on valid (2018) set  : 0.907068000191415\n",
            "COMET INFO:     Test score on Playoffs (2019) : 0.9148936170212766\n",
            "COMET INFO:     Test score on Regular Season  : 0.9070457764517976\n",
            "COMET INFO:   Others:\n",
            "COMET INFO:     notebook_url : https://colab.research.google.com/notebook#fileId=https%3A%2F%2Fgithub.com%2FM0rph3e%2Fift6758-project-main%2Fblob%2Fmain%2Fnotebooks%2Ftry_your_best_shot.ipynb\n",
            "COMET INFO:   Parameters:\n",
            "COMET INFO:     bootstrap                : True\n",
            "COMET INFO:     ccp_alpha                : 0.0\n",
            "COMET INFO:     class_weight             : 1\n",
            "COMET INFO:     criterion                : entropy\n",
            "COMET INFO:     max_depth                : 12\n",
            "COMET INFO:     max_features             : auto\n",
            "COMET INFO:     max_leaf_nodes           : 1\n",
            "COMET INFO:     max_samples              : 1\n",
            "COMET INFO:     min_impurity_decrease    : 0.0\n",
            "COMET INFO:     min_samples_leaf         : 1\n",
            "COMET INFO:     min_samples_split        : 2\n",
            "COMET INFO:     min_weight_fraction_leaf : 0.0\n",
            "COMET INFO:     n_estimators             : 115\n",
            "COMET INFO:     n_jobs                   : 1\n",
            "COMET INFO:     oob_score                : False\n",
            "COMET INFO:     random_state             : 1\n",
            "COMET INFO:     verbose                  : 0\n",
            "COMET INFO:     warm_start               : False\n",
            "COMET INFO:   Uploads:\n",
            "COMET INFO:     dataframe                : 6 (127.77 MB)\n",
            "COMET INFO:     environment details      : 1\n",
            "COMET INFO:     figures                  : 3\n",
            "COMET INFO:     filename                 : 1\n",
            "COMET INFO:     git metadata             : 1\n",
            "COMET INFO:     git-patch (uncompressed) : 1 (933 bytes)\n",
            "COMET INFO:     images                   : 6\n",
            "COMET INFO:     installed packages       : 1\n",
            "COMET INFO:     model-element            : 2 (523.61 KB)\n",
            "COMET INFO:     notebook                 : 1\n",
            "COMET INFO:     os packages              : 1\n",
            "COMET INFO:     source_code              : 1\n",
            "COMET INFO: ---------------------------\n",
            "COMET INFO: Uploading 1 metrics, params and output messages\n",
            "COMET INFO: Waiting for completion of the file uploads (may take several seconds)\n",
            "COMET INFO: The Python SDK has 10800 seconds to finish before aborting...\n",
            "COMET INFO: All files uploaded, waiting for confirmation they have been all received\n"
          ]
        }
      ]
    },
    {
      "cell_type": "code",
      "metadata": {
        "id": "wWspJOODNuyC"
      },
      "source": [
        ""
      ],
      "id": "wWspJOODNuyC",
      "execution_count": null,
      "outputs": []
    }
  ]
}