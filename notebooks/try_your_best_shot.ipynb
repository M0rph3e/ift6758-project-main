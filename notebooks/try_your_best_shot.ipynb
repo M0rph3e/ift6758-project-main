{
  "nbformat": 4,
  "nbformat_minor": 5,
  "metadata": {
    "kernelspec": {
      "name": "python3",
      "display_name": "Python 3"
    },
    "colab": {
      "name": "try_your_best_shot.ipynb",
      "provenance": []
    },
    "language_info": {
      "name": "python"
    }
  },
  "cells": [
    {
      "cell_type": "markdown",
      "metadata": {
        "id": "f4aa00a7-1743-4475-8e7b-07f75b386a29"
      },
      "source": [
        "## Here we will try our best shot to predict the goals with our features"
      ],
      "id": "f4aa00a7-1743-4475-8e7b-07f75b386a29"
    },
    {
      "cell_type": "code",
      "metadata": {
        "id": "0e26965d-f064-484c-91f3-aa96de787ab4",
        "colab": {
          "base_uri": "https://localhost:8080/"
        },
        "outputId": "89bb9d94-65d1-47ab-d65c-73c5ff495556"
      },
      "source": [
        "from google.colab import drive\n",
        "drive.mount('/content/gdrive')"
      ],
      "id": "0e26965d-f064-484c-91f3-aa96de787ab4",
      "execution_count": 439,
      "outputs": [
        {
          "output_type": "stream",
          "name": "stdout",
          "text": [
            "Drive already mounted at /content/gdrive; to attempt to forcibly remount, call drive.mount(\"/content/gdrive\", force_remount=True).\n"
          ]
        }
      ]
    },
    {
      "cell_type": "code",
      "metadata": {
        "id": "MrfE_fXB9r7z",
        "colab": {
          "base_uri": "https://localhost:8080/"
        },
        "outputId": "6af1a336-50b8-4e69-d453-94de790f9772"
      },
      "source": [
        "%cd /content/gdrive/MyDrive/Master_UdeM/IFT-6758/Project/ift6758-project-main"
      ],
      "id": "MrfE_fXB9r7z",
      "execution_count": 440,
      "outputs": [
        {
          "output_type": "stream",
          "name": "stdout",
          "text": [
            "/content/gdrive/MyDrive/Master_UdeM/IFT-6758/Project/ift6758-project-main\n"
          ]
        }
      ]
    },
    {
      "cell_type": "code",
      "metadata": {
        "id": "celXeSWR9zXi",
        "colab": {
          "base_uri": "https://localhost:8080/"
        },
        "outputId": "bbc93212-e723-4d68-e593-f7f75b410366"
      },
      "source": [
        "#!git clone https://GIT_TOKEN@github.com/M0rph3e/ift6758-project-main.git #not anymore\n",
        "! git pull"
      ],
      "id": "celXeSWR9zXi",
      "execution_count": 441,
      "outputs": [
        {
          "output_type": "stream",
          "name": "stdout",
          "text": [
            "remote: Enumerating objects: 24, done.\u001b[K\n",
            "remote: Counting objects:   4% (1/24)\u001b[K\rremote: Counting objects:   8% (2/24)\u001b[K\rremote: Counting objects:  12% (3/24)\u001b[K\rremote: Counting objects:  16% (4/24)\u001b[K\rremote: Counting objects:  20% (5/24)\u001b[K\rremote: Counting objects:  25% (6/24)\u001b[K\rremote: Counting objects:  29% (7/24)\u001b[K\rremote: Counting objects:  33% (8/24)\u001b[K\rremote: Counting objects:  37% (9/24)\u001b[K\rremote: Counting objects:  41% (10/24)\u001b[K\rremote: Counting objects:  45% (11/24)\u001b[K\rremote: Counting objects:  50% (12/24)\u001b[K\rremote: Counting objects:  54% (13/24)\u001b[K\rremote: Counting objects:  58% (14/24)\u001b[K\rremote: Counting objects:  62% (15/24)\u001b[K\rremote: Counting objects:  66% (16/24)\u001b[K\rremote: Counting objects:  70% (17/24)\u001b[K\rremote: Counting objects:  75% (18/24)\u001b[K\rremote: Counting objects:  79% (19/24)\u001b[K\rremote: Counting objects:  83% (20/24)\u001b[K\rremote: Counting objects:  87% (21/24)\u001b[K\rremote: Counting objects:  91% (22/24)\u001b[K\rremote: Counting objects:  95% (23/24)\u001b[K\rremote: Counting objects: 100% (24/24)\u001b[K\rremote: Counting objects: 100% (24/24), done.\u001b[K\n",
            "remote: Compressing objects: 100% (18/18), done.\u001b[K\n",
            "remote: Total 20 (delta 11), reused 4 (delta 2), pack-reused 0\u001b[K\n",
            "Unpacking objects: 100% (20/20), done.\n",
            "From https://github.com/M0rph3e/ift6758-project-main\n",
            "   ab53ff0..04f14dd  main       -> origin/main\n",
            "Updating ab53ff0..04f14dd\n",
            "Fast-forward\n",
            " notebooks/try_your_best_shot.ipynb       | 2032 \u001b[32m+++++++++++++++\u001b[m\u001b[31m--------------\u001b[m\n",
            " notebooks/try_your_best_shot_keras.ipynb | 2041 \u001b[32m+++++++++++++\u001b[m\u001b[31m-----------------\u001b[m\n",
            " 2 files changed, 1896 insertions(+), 2177 deletions(-)\n"
          ]
        }
      ]
    },
    {
      "cell_type": "code",
      "metadata": {
        "id": "lGWPuWN7-Rbo",
        "colab": {
          "base_uri": "https://localhost:8080/"
        },
        "outputId": "718f4835-dada-4fa8-b8b6-421fadbdc199"
      },
      "source": [
        "!git status"
      ],
      "id": "lGWPuWN7-Rbo",
      "execution_count": 442,
      "outputs": [
        {
          "output_type": "stream",
          "name": "stdout",
          "text": [
            "On branch main\n",
            "Your branch is up to date with 'origin/main'.\n",
            "\n",
            "Changes not staged for commit:\n",
            "  (use \"git add <file>...\" to update what will be committed)\n",
            "  (use \"git checkout -- <file>...\" to discard changes in working directory)\n",
            "\n",
            "\t\u001b[31mmodified:   ift6758/features/feature_engineering2.py\u001b[m\n",
            "\t\u001b[31mmodified:   ift6758/metrics/plot_metrics.py\u001b[m\n",
            "\n",
            "no changes added to commit (use \"git add\" and/or \"git commit -a\")\n"
          ]
        }
      ]
    },
    {
      "cell_type": "code",
      "metadata": {
        "id": "5wFBMu2YAjam",
        "colab": {
          "base_uri": "https://localhost:8080/",
          "height": 311
        },
        "outputId": "69d189cb-7696-4164-a28d-33deea33ba52"
      },
      "source": [
        "!pip install comet_ml pandas-profiling==2.7.1"
      ],
      "id": "5wFBMu2YAjam",
      "execution_count": 541,
      "outputs": [
        {
          "output_type": "stream",
          "name": "stdout",
          "text": [
            "Installing collected packages: tangled-up-in-unicode, scipy, visions, imagehash, phik, htmlmin, confuse, pandas-profiling\n",
            "  Attempting uninstall: scipy\n",
            "    Found existing installation: scipy 1.4.1\n",
            "    Uninstalling scipy-1.4.1:\n",
            "      Successfully uninstalled scipy-1.4.1\n",
            "  Attempting uninstall: pandas-profiling\n",
            "    Found existing installation: pandas-profiling 1.4.1\n",
            "    Uninstalling pandas-profiling-1.4.1:\n",
            "      Successfully uninstalled pandas-profiling-1.4.1\n",
            "\u001b[31mERROR: pip's dependency resolver does not currently take into account all the packages that are installed. This behaviour is the source of the following dependency conflicts.\n",
            "albumentations 0.1.12 requires imgaug<0.2.7,>=0.2.5, but you have imgaug 0.2.9 which is incompatible.\u001b[0m\n",
            "Successfully installed confuse-1.6.0 htmlmin-0.1.12 imagehash-4.2.1 pandas-profiling-2.7.1 phik-0.12.0 scipy-1.7.3 tangled-up-in-unicode-0.2.0 visions-0.4.1\n"
          ]
        },
        {
          "output_type": "display_data",
          "data": {
            "application/vnd.colab-display-data+json": {
              "pip_warning": {
                "packages": [
                  "pandas_profiling",
                  "scipy"
                ]
              }
            }
          },
          "metadata": {}
        }
      ]
    },
    {
      "cell_type": "code",
      "metadata": {
        "id": "zqiioowlaDXX",
        "colab": {
          "base_uri": "https://localhost:8080/"
        },
        "outputId": "48be59bc-2bda-4958-be73-37805de071e2"
      },
      "source": [
        "! git branch"
      ],
      "id": "zqiioowlaDXX",
      "execution_count": 444,
      "outputs": [
        {
          "output_type": "stream",
          "name": "stdout",
          "text": [
            "  best_shot_trial\u001b[m\n",
            "  fengineering2\u001b[m\n",
            "* \u001b[32mmain\u001b[m\n"
          ]
        }
      ]
    },
    {
      "cell_type": "markdown",
      "metadata": {
        "id": "TB9EOTRM-330"
      },
      "source": [
        "# Real **** starts from here"
      ],
      "id": "TB9EOTRM-330"
    },
    {
      "cell_type": "code",
      "metadata": {
        "id": "GbIIYHFg-elV"
      },
      "source": [
        "from ift6758.features.feature_engineering2 import SeasonDataSetTwo\n",
        "from ift6758.data.data_acquisition import Season\n",
        "from ift6758.visualizations.simple_visualization import Utilities \n",
        "import matplotlib.pyplot as plt\n",
        "import numpy as np\n",
        "import seaborn as sns\n",
        "import os\n",
        "import random\n",
        "import pandas as pd\n",
        "import pickle\n",
        "import sys\n",
        "import json\n",
        "\n",
        "import warnings\n",
        "warnings.filterwarnings(\"ignore\")"
      ],
      "id": "GbIIYHFg-elV",
      "execution_count": 445,
      "outputs": []
    },
    {
      "cell_type": "code",
      "metadata": {
        "id": "BHb91bE6_ODa",
        "colab": {
          "base_uri": "https://localhost:8080/"
        },
        "outputId": "c575a05e-1ddb-49f2-ba27-4cf14e0fad78"
      },
      "source": [
        "train_years = [2015,2016,2017]\n",
        "valid_years = [2018]\n",
        "test_years=[2019]\n",
        "\n",
        "\n",
        "train_dataset = SeasonDataSetTwo(train_years)\n",
        "valid_dataset = SeasonDataSetTwo(valid_years)\n",
        "train_df = train_dataset.get_features_2()\n",
        "valid_df = valid_dataset.get_features_2()"
      ],
      "id": "BHb91bE6_ODa",
      "execution_count": 501,
      "outputs": [
        {
          "output_type": "stream",
          "name": "stdout",
          "text": [
            "File with all events already Exists, loading from ../ift6758/data/PICKLE//2015_clean_all_events.pkl\n",
            "File already Exists, loading from ../ift6758/data/PICKLE//2015_period_info.pkl\n",
            "File with all events already Exists, loading from ../ift6758/data/PICKLE//2016_clean_all_events.pkl\n",
            "File already Exists, loading from ../ift6758/data/PICKLE//2016_period_info.pkl\n",
            "File with all events already Exists, loading from ../ift6758/data/PICKLE//2017_clean_all_events.pkl\n",
            "File already Exists, loading from ../ift6758/data/PICKLE//2017_period_info.pkl\n",
            "File with all events already Exists, loading from ../ift6758/data/PICKLE//2018_clean_all_events.pkl\n",
            "File already Exists, loading from ../ift6758/data/PICKLE//2018_period_info.pkl\n"
          ]
        }
      ]
    },
    {
      "cell_type": "code",
      "metadata": {
        "id": "utYXLTyoGCDF",
        "colab": {
          "base_uri": "https://localhost:8080/"
        },
        "outputId": "b4e26184-e55f-4c4f-e9d0-2634908ebf11"
      },
      "source": [
        "test_data = SeasonDataSetTwo(test_years)\n",
        "test_df = test_data.get_features_2()"
      ],
      "id": "utYXLTyoGCDF",
      "execution_count": 502,
      "outputs": [
        {
          "output_type": "stream",
          "name": "stdout",
          "text": [
            "File with all events already Exists, loading from ../ift6758/data/PICKLE//2019_clean_all_events.pkl\n",
            "File already Exists, loading from ../ift6758/data/PICKLE//2019_period_info.pkl\n"
          ]
        }
      ]
    },
    {
      "cell_type": "markdown",
      "metadata": {
        "id": "NwZgrgjBrHL-"
      },
      "source": [
        "# for Part 7"
      ],
      "id": "NwZgrgjBrHL-"
    },
    {
      "cell_type": "code",
      "metadata": {
        "id": "zG9tb1EItF9Q"
      },
      "source": [
        "#test_df['gamePk'].astype(str).str[5].unique()\n",
        "test_df_regular = test_df[test_df['gamePk'].astype(str).str[5]=='2']\n",
        "test_df_playoff = test_df[test_df['gamePk'].astype(str).str[5]=='3']"
      ],
      "id": "zG9tb1EItF9Q",
      "execution_count": 503,
      "outputs": []
    },
    {
      "cell_type": "markdown",
      "metadata": {
        "id": "0kj5OTviDnFF"
      },
      "source": [
        "# Export the data csv to comet"
      ],
      "id": "0kj5OTviDnFF"
    },
    {
      "cell_type": "code",
      "metadata": {
        "id": "OvTG9lsL_Tb_",
        "colab": {
          "base_uri": "https://localhost:8080/"
        },
        "outputId": "8972702c-ca5a-445d-88db-4ea2eab8245a"
      },
      "source": [
        "from comet_ml import Experiment\n",
        "import os\n",
        "\n",
        "\n",
        "\n",
        "exp = Experiment(\n",
        "    api_key=os.environ.get('COMET_API_KEY'),\n",
        "    project_name='milestone-2',\n",
        "    workspace='morph-e',\n",
        "    log_code=True,\n",
        "    log_graph=True,\n",
        ")"
      ],
      "id": "OvTG9lsL_Tb_",
      "execution_count": null,
      "outputs": [
        {
          "output_type": "stream",
          "name": "stderr",
          "text": [
            "COMET WARNING: As you are running in a Jupyter environment, you will need to call `experiment.end()` when finished to ensure all metrics and code are logged before exiting.\n",
            "COMET INFO: Experiment is live on comet.ml https://www.comet.ml/morph-e/milestone-2/2de74906d5ad42c0913ded110a44d306\n",
            "\n"
          ]
        }
      ]
    },
    {
      "cell_type": "code",
      "metadata": {
        "colab": {
          "base_uri": "https://localhost:8080/"
        },
        "id": "DzdwfiX2H86Q",
        "outputId": "36b645a2-0bcf-45c7-e8dc-9d46cb3e3564"
      },
      "source": [
        "exp.log_dataframe_profile(\n",
        "train_df, \n",
        "name='train_set_from_FE2',  # keep this name\n",
        "dataframe_format='csv'  # ensure you set this flag!\n",
        ")\n",
        "\n",
        "exp.log_dataframe_profile(\n",
        "valid_df, \n",
        "name='valid_set_from_FE2',  # keep this name\n",
        "dataframe_format='csv'  # ensure you set this flag!\n",
        ")\n",
        "\n",
        "exp.log_dataframe_profile(\n",
        "test_df, \n",
        "name='test_set_from_FE2',  # keep this name\n",
        "dataframe_format='csv'  # ensure you set this flag!\n",
        ")\n"
      ],
      "id": "DzdwfiX2H86Q",
      "execution_count": null,
      "outputs": [
        {
          "output_type": "stream",
          "name": "stderr",
          "text": [
            "COMET WARNING: unable to profile dataframe; ignoring\n",
            "COMET WARNING: unable to profile dataframe; ignoring\n",
            "COMET WARNING: unable to profile dataframe; ignoring\n"
          ]
        },
        {
          "output_type": "execute_result",
          "data": {
            "text/plain": [
              "{'dataframe': {'api': 'https://www.comet.ml/api/rest/v2/experiment/asset/get-asset?assetId=4a1ec1be94d641b6a9fdf5a03ed78719&experimentKey=2de74906d5ad42c0913ded110a44d306',\n",
              "  'assetId': '4a1ec1be94d641b6a9fdf5a03ed78719',\n",
              "  'web': 'https://www.comet.ml/api/asset/download?assetId=4a1ec1be94d641b6a9fdf5a03ed78719&experimentKey=2de74906d5ad42c0913ded110a44d306'},\n",
              " 'profile': None}"
            ]
          },
          "metadata": {},
          "execution_count": 70
        }
      ]
    },
    {
      "cell_type": "markdown",
      "metadata": {
        "id": "i8bloprl_Lpf"
      },
      "source": [
        "# Split and shuffle Data"
      ],
      "id": "i8bloprl_Lpf"
    },
    {
      "cell_type": "code",
      "metadata": {
        "id": "X3EAx_NuFKSt"
      },
      "source": [
        "random.seed(42)"
      ],
      "id": "X3EAx_NuFKSt",
      "execution_count": 504,
      "outputs": []
    },
    {
      "cell_type": "code",
      "metadata": {
        "id": "VCGefzl2EsWz"
      },
      "source": [
        "train_df = train_df.sample(frac=1)\n",
        "test_df = test_df.sample(frac=1)\n",
        "valid_df = valid_df.sample(frac=1)\n",
        "#for part 7\n",
        "test_df_regular = test_df_regular.sample(frac=1)\n",
        "test_df_playoff = test_df_playoff.sample(frac=1)"
      ],
      "id": "VCGefzl2EsWz",
      "execution_count": 505,
      "outputs": []
    },
    {
      "cell_type": "code",
      "metadata": {
        "id": "IE-Wvb62FC8S",
        "colab": {
          "base_uri": "https://localhost:8080/",
          "height": 330
        },
        "outputId": "a1b7e4df-fd36-4627-c191-13fc3bb4b146"
      },
      "source": [
        "train_df.head()"
      ],
      "id": "IE-Wvb62FC8S",
      "execution_count": 506,
      "outputs": [
        {
          "output_type": "execute_result",
          "data": {
            "text/html": [
              "<div>\n",
              "<style scoped>\n",
              "    .dataframe tbody tr th:only-of-type {\n",
              "        vertical-align: middle;\n",
              "    }\n",
              "\n",
              "    .dataframe tbody tr th {\n",
              "        vertical-align: top;\n",
              "    }\n",
              "\n",
              "    .dataframe thead th {\n",
              "        text-align: right;\n",
              "    }\n",
              "</style>\n",
              "<table border=\"1\" class=\"dataframe\">\n",
              "  <thead>\n",
              "    <tr style=\"text-align: right;\">\n",
              "      <th></th>\n",
              "      <th>result.penaltySeverity</th>\n",
              "      <th>result.penaltyMinutes</th>\n",
              "      <th>gamePk</th>\n",
              "      <th>team.name</th>\n",
              "      <th>gamePeriod</th>\n",
              "      <th>coordinatesX</th>\n",
              "      <th>coordinatesY</th>\n",
              "      <th>shotType</th>\n",
              "      <th>emptyNet</th>\n",
              "      <th>result.strength.name</th>\n",
              "      <th>gameSeconds</th>\n",
              "      <th>shotDistance</th>\n",
              "      <th>shotAngle</th>\n",
              "      <th>isGoal</th>\n",
              "      <th>lastEventType</th>\n",
              "      <th>lastEventCoordinatesX</th>\n",
              "      <th>lastEventCoordinatesY</th>\n",
              "      <th>timeFromLastEvent</th>\n",
              "      <th>distanceFromLastEvent</th>\n",
              "      <th>rebound</th>\n",
              "      <th>speed</th>\n",
              "      <th>changeInShotAngle</th>\n",
              "      <th>angleSpeed</th>\n",
              "    </tr>\n",
              "  </thead>\n",
              "  <tbody>\n",
              "    <tr>\n",
              "      <th>218351</th>\n",
              "      <td>NaN</td>\n",
              "      <td>NaN</td>\n",
              "      <td>2017020911</td>\n",
              "      <td>Dallas Stars</td>\n",
              "      <td>3</td>\n",
              "      <td>-75.0</td>\n",
              "      <td>0.0</td>\n",
              "      <td>Wrist Shot</td>\n",
              "      <td>False</td>\n",
              "      <td>Even</td>\n",
              "      <td>335.0</td>\n",
              "      <td>14.000000</td>\n",
              "      <td>0.000000</td>\n",
              "      <td>1</td>\n",
              "      <td>Faceoff</td>\n",
              "      <td>69.0</td>\n",
              "      <td>-22.0</td>\n",
              "      <td>30.0</td>\n",
              "      <td>145.670862</td>\n",
              "      <td>False</td>\n",
              "      <td>4.855695</td>\n",
              "      <td>0.0</td>\n",
              "      <td>0.0</td>\n",
              "    </tr>\n",
              "    <tr>\n",
              "      <th>14001</th>\n",
              "      <td>NaN</td>\n",
              "      <td>NaN</td>\n",
              "      <td>2015020235</td>\n",
              "      <td>Tampa Bay Lightning</td>\n",
              "      <td>2</td>\n",
              "      <td>-57.0</td>\n",
              "      <td>-20.0</td>\n",
              "      <td>Wrist Shot</td>\n",
              "      <td>0</td>\n",
              "      <td>NaN</td>\n",
              "      <td>220.0</td>\n",
              "      <td>37.735925</td>\n",
              "      <td>-32.005383</td>\n",
              "      <td>0</td>\n",
              "      <td>Blocked Shot</td>\n",
              "      <td>72.0</td>\n",
              "      <td>-11.0</td>\n",
              "      <td>29.0</td>\n",
              "      <td>129.313572</td>\n",
              "      <td>False</td>\n",
              "      <td>4.459089</td>\n",
              "      <td>0.0</td>\n",
              "      <td>0.0</td>\n",
              "    </tr>\n",
              "    <tr>\n",
              "      <th>77497</th>\n",
              "      <td>NaN</td>\n",
              "      <td>NaN</td>\n",
              "      <td>2015030233</td>\n",
              "      <td>Dallas Stars</td>\n",
              "      <td>2</td>\n",
              "      <td>78.0</td>\n",
              "      <td>-22.0</td>\n",
              "      <td>Wrist Shot</td>\n",
              "      <td>0</td>\n",
              "      <td>NaN</td>\n",
              "      <td>487.0</td>\n",
              "      <td>24.596748</td>\n",
              "      <td>63.434949</td>\n",
              "      <td>0</td>\n",
              "      <td>Takeaway</td>\n",
              "      <td>97.0</td>\n",
              "      <td>-7.0</td>\n",
              "      <td>15.0</td>\n",
              "      <td>24.207437</td>\n",
              "      <td>False</td>\n",
              "      <td>1.613829</td>\n",
              "      <td>0.0</td>\n",
              "      <td>0.0</td>\n",
              "    </tr>\n",
              "    <tr>\n",
              "      <th>83095</th>\n",
              "      <td>NaN</td>\n",
              "      <td>NaN</td>\n",
              "      <td>2016020065</td>\n",
              "      <td>Boston Bruins</td>\n",
              "      <td>1</td>\n",
              "      <td>74.0</td>\n",
              "      <td>-6.0</td>\n",
              "      <td>Snap Shot</td>\n",
              "      <td>0</td>\n",
              "      <td>NaN</td>\n",
              "      <td>428.0</td>\n",
              "      <td>16.155494</td>\n",
              "      <td>21.801409</td>\n",
              "      <td>0</td>\n",
              "      <td>Missed Shot</td>\n",
              "      <td>69.0</td>\n",
              "      <td>2.0</td>\n",
              "      <td>9.0</td>\n",
              "      <td>9.433981</td>\n",
              "      <td>False</td>\n",
              "      <td>1.048220</td>\n",
              "      <td>0.0</td>\n",
              "      <td>0.0</td>\n",
              "    </tr>\n",
              "    <tr>\n",
              "      <th>209118</th>\n",
              "      <td>NaN</td>\n",
              "      <td>NaN</td>\n",
              "      <td>2017020769</td>\n",
              "      <td>Winnipeg Jets</td>\n",
              "      <td>3</td>\n",
              "      <td>-73.0</td>\n",
              "      <td>2.0</td>\n",
              "      <td>Wrist Shot</td>\n",
              "      <td>0</td>\n",
              "      <td>NaN</td>\n",
              "      <td>729.0</td>\n",
              "      <td>16.124515</td>\n",
              "      <td>7.125016</td>\n",
              "      <td>0</td>\n",
              "      <td>Blocked Shot</td>\n",
              "      <td>-77.0</td>\n",
              "      <td>10.0</td>\n",
              "      <td>6.0</td>\n",
              "      <td>8.944272</td>\n",
              "      <td>False</td>\n",
              "      <td>1.490712</td>\n",
              "      <td>0.0</td>\n",
              "      <td>0.0</td>\n",
              "    </tr>\n",
              "  </tbody>\n",
              "</table>\n",
              "</div>"
            ],
            "text/plain": [
              "       result.penaltySeverity  ...  angleSpeed\n",
              "218351                    NaN  ...         0.0\n",
              "14001                     NaN  ...         0.0\n",
              "77497                     NaN  ...         0.0\n",
              "83095                     NaN  ...         0.0\n",
              "209118                    NaN  ...         0.0\n",
              "\n",
              "[5 rows x 23 columns]"
            ]
          },
          "metadata": {},
          "execution_count": 506
        }
      ]
    },
    {
      "cell_type": "markdown",
      "metadata": {
        "id": "xjaddTP_dSH1"
      },
      "source": [
        "## Here I am going to do more features selection (add strength) and change the preprocessing (no need to one hot with random forest),\n",
        "## I will also try to find the best feature with $Χ^2$\n",
        "## (Need to remove negative values features that I don't find interesting by intuition such as coordinates)"
      ],
      "id": "xjaddTP_dSH1"
    },
    {
      "cell_type": "code",
      "metadata": {
        "id": "72IkWlL6JCtE"
      },
      "source": [
        "features = ['gameSeconds','timeFromLastEvent','gamePeriod','shotType','result.strength.name', 'shotAngle', 'shotDistance','distanceFromLastEvent', 'rebound','speed','changeInShotAngle','angleSpeed']\n",
        "label = ['isGoal']"
      ],
      "id": "72IkWlL6JCtE",
      "execution_count": 532,
      "outputs": []
    },
    {
      "cell_type": "code",
      "metadata": {
        "colab": {
          "base_uri": "https://localhost:8080/"
        },
        "id": "sbtgiVdKQ6tq",
        "outputId": "c5c41a6a-77fc-4f2a-e7ea-2e78f46ea1e9"
      },
      "source": [
        "train_df[features].isna().any()\n",
        "valid_df[features].isna().any()\n",
        "test_df[features].isna().any()\n",
        "\n",
        "test_df_regular[features].isna().any()\n",
        "test_df_playoff[features].isna().any()"
      ],
      "id": "sbtgiVdKQ6tq",
      "execution_count": 508,
      "outputs": [
        {
          "output_type": "execute_result",
          "data": {
            "text/plain": [
              "gameSeconds              False\n",
              "timeFromLastEvent        False\n",
              "gamePeriod               False\n",
              "shotType                  True\n",
              "result.strength.name      True\n",
              "shotAngle                False\n",
              "shotDistance             False\n",
              "distanceFromLastEvent     True\n",
              "rebound                  False\n",
              "speed                     True\n",
              "changeInShotAngle        False\n",
              "angleSpeed                True\n",
              "dtype: bool"
            ]
          },
          "metadata": {},
          "execution_count": 508
        }
      ]
    },
    {
      "cell_type": "markdown",
      "metadata": {
        "id": "1_GS2HoAej2m"
      },
      "source": [
        "## Treat the 'strength name case now (want to put it into categorical data (nan are 0)"
      ],
      "id": "1_GS2HoAej2m"
    },
    {
      "cell_type": "code",
      "metadata": {
        "id": "4LsCkaC6ewFa"
      },
      "source": [
        "train_df['result.strength.name'] = train_df['result.strength.name'].fillna('Unknown')\n",
        "valid_df['result.strength.name'] = valid_df['result.strength.name'].fillna('Unknown')\n",
        "test_df['result.strength.name'] = test_df['result.strength.name'].fillna('Unknown')\n",
        "\n",
        "test_df_regular['result.strength.name'] = test_df_regular['result.strength.name'].fillna('Unknown')\n",
        "test_df_playoff['result.strength.name'] = test_df_playoff['result.strength.name'].fillna('Unknown')"
      ],
      "id": "4LsCkaC6ewFa",
      "execution_count": 509,
      "outputs": []
    },
    {
      "cell_type": "code",
      "metadata": {
        "id": "AoHbQWYwgf9k",
        "outputId": "17f457e5-eb2a-47d8-a7cd-6d52a1619742",
        "colab": {
          "base_uri": "https://localhost:8080/"
        }
      },
      "source": [
        "from sklearn.preprocessing import OrdinalEncoder\n",
        "enc = OrdinalEncoder()\n",
        "enc.fit(train_df[['result.strength.name']])"
      ],
      "id": "AoHbQWYwgf9k",
      "execution_count": 510,
      "outputs": [
        {
          "output_type": "execute_result",
          "data": {
            "text/plain": [
              "OrdinalEncoder()"
            ]
          },
          "metadata": {},
          "execution_count": 510
        }
      ]
    },
    {
      "cell_type": "code",
      "metadata": {
        "id": "q0H6T2Eqg7PW"
      },
      "source": [
        "train_df[['result.strength.name']] = enc.transform(train_df[['result.strength.name']]).astype(int)\n",
        "valid_df[['result.strength.name']] = enc.transform(valid_df[['result.strength.name']]).astype(int)\n",
        "test_df[['result.strength.name']] = enc.transform(test_df[['result.strength.name']]).astype(int)\n",
        "\n",
        "test_df_regular[['result.strength.name']] = enc.transform(test_df_regular[['result.strength.name']]).astype(int)\n",
        "test_df_playoff[['result.strength.name']] = enc.transform(test_df_playoff[['result.strength.name']]).astype(int)"
      ],
      "id": "q0H6T2Eqg7PW",
      "execution_count": 511,
      "outputs": []
    },
    {
      "cell_type": "markdown",
      "metadata": {
        "id": "LiB5e5M8YFRA"
      },
      "source": [
        "### Replace inf with nan (annoying in normalization)"
      ],
      "id": "LiB5e5M8YFRA"
    },
    {
      "cell_type": "code",
      "metadata": {
        "id": "pRj2nIZCXXLA"
      },
      "source": [
        "train_df.replace([np.inf, -np.inf], np.nan, inplace=True)\n",
        "valid_df.replace([np.inf, -np.inf], np.nan, inplace=True)\n",
        "test_df.replace([np.inf, -np.inf], np.nan, inplace=True)\n",
        "\n",
        "test_df_regular.replace([np.inf, -np.inf], np.nan, inplace=True)\n",
        "test_df_playoff.replace([np.inf, -np.inf], np.nan, inplace=True)"
      ],
      "id": "pRj2nIZCXXLA",
      "execution_count": 512,
      "outputs": []
    },
    {
      "cell_type": "code",
      "metadata": {
        "id": "kMoH4JD-OP8Z"
      },
      "source": [
        "#drop rows with nan\n",
        "train_df = train_df[train_df['shotType'].notna()]\n",
        "valid_df = valid_df[valid_df['shotType'].notna()]\n",
        "test_df = test_df[test_df['shotType'].notna()]\n",
        "test_df_regular = test_df_regular[test_df_regular['shotType'].notna()]\n",
        "test_df_playoff = test_df_playoff[test_df_playoff['shotType'].notna()]\n",
        "\n",
        "train_df = train_df[train_df['shotAngle'].notna()]\n",
        "valid_df = valid_df[valid_df['shotAngle'].notna()]\n",
        "test_df = test_df[test_df['shotAngle'].notna()]\n",
        "test_df_regular = test_df_regular[test_df_regular['shotAngle'].notna()]\n",
        "test_df_playoff = test_df_playoff[test_df_playoff['shotAngle'].notna()]\n",
        "\n",
        "train_df = train_df[train_df['shotDistance'].notna()]\n",
        "valid_df = valid_df[valid_df['shotDistance'].notna()]\n",
        "test_df = test_df[test_df['shotDistance'].notna()]\n",
        "test_df_regular = test_df_regular[test_df_regular['shotDistance'].notna()]\n",
        "test_df_playoff = test_df_playoff[test_df_playoff['shotDistance'].notna()]\n",
        "\n",
        "train_df = train_df[train_df['speed'].notna()]\n",
        "valid_df = valid_df[valid_df['speed'].notna()]\n",
        "test_df = test_df[test_df['speed'].notna()]\n",
        "test_df_regular = test_df_regular[test_df_regular['speed'].notna()]\n",
        "test_df_playoff = test_df_playoff[test_df_playoff['speed'].notna()]\n",
        "\n",
        "train_df = train_df[train_df['changeInShotAngle'].notna()]\n",
        "valid_df = valid_df[valid_df['changeInShotAngle'].notna()]\n",
        "test_df = test_df[test_df['changeInShotAngle'].notna()]\n",
        "test_df_regular = test_df_regular[test_df_regular['changeInShotAngle'].notna()]\n",
        "test_df_playoff = test_df_playoff[test_df_playoff['changeInShotAngle'].notna()]\n",
        "\n",
        "\"\"\"\n",
        "train_df = train_df[train_df['coordinatesX'].notna()]\n",
        "valid_df = valid_df[valid_df['coordinatesX'].notna()]\n",
        "test_df = test_df[test_df['coordinatesX'].notna()]\n",
        "test_df_regular = test_df_regular[test_df_regular['coordinatesX'].notna()]\n",
        "test_df_playoff = test_df_playoff[test_df_playoff['coordinatesX'].notna()]\n",
        "\n",
        "train_df = train_df[train_df['coordinatesY'].notna()]\n",
        "valid_df = valid_df[valid_df['coordinatesY'].notna()]\n",
        "test_df = test_df[test_df['coordinatesY'].notna()]\n",
        "test_df_regular = test_df_regular[test_df_regular['coordinatesY'].notna()]\n",
        "test_df_playoff = test_df_playoff[test_df_playoff['coordinatesY'].notna()]\n",
        "\n",
        "train_df = train_df[train_df['lastEventCoordinatesY'].notna()]\n",
        "valid_df = valid_df[valid_df['lastEventCoordinatesY'].notna()]\n",
        "test_df = test_df[test_df['lastEventCoordinatesY'].notna()]\n",
        "test_df_regular = test_df_regular[test_df_regular['lastEventCoordinatesY'].notna()]\n",
        "test_df_playoff = test_df_playoff[test_df_playoff['lastEventCoordinatesY'].notna()]\n",
        "\n",
        "train_df = train_df[train_df['lastEventCoordinatesX'].notna()]\n",
        "valid_df = valid_df[valid_df['lastEventCoordinatesX'].notna()]\n",
        "test_df = test_df[test_df['lastEventCoordinatesX'].notna()]\n",
        "test_df_regular = test_df_regular[test_df_regular['lastEventCoordinatesX'].notna()]\n",
        "test_df_playoff = test_df_playoff[test_df_playoff['lastEventCoordinatesX'].notna()]\n",
        "\"\"\"\n",
        "\n",
        "train_df = train_df[train_df['angleSpeed'].notna()]\n",
        "valid_df = valid_df[valid_df['angleSpeed'].notna()]\n",
        "test_df = test_df[test_df['angleSpeed'].notna()]\n",
        "test_df_regular = test_df_regular[test_df_regular['angleSpeed'].notna()]\n",
        "test_df_playoff = test_df_playoff[test_df_playoff['angleSpeed'].notna()]\n",
        "\n"
      ],
      "id": "kMoH4JD-OP8Z",
      "execution_count": 513,
      "outputs": []
    },
    {
      "cell_type": "code",
      "metadata": {
        "colab": {
          "base_uri": "https://localhost:8080/"
        },
        "id": "VB2rx98tRfcM",
        "outputId": "9e9fe6ea-34e2-4098-cc2f-34a54740591a"
      },
      "source": [
        "train_df[features].isna().any()\n",
        "valid_df[features].isna().any()\n",
        "test_df[features].isna().any()\n",
        "test_df_regular[features].isna().any()\n",
        "test_df_playoff[features].isna().any()"
      ],
      "id": "VB2rx98tRfcM",
      "execution_count": 514,
      "outputs": [
        {
          "output_type": "execute_result",
          "data": {
            "text/plain": [
              "gameSeconds              False\n",
              "timeFromLastEvent        False\n",
              "gamePeriod               False\n",
              "shotType                 False\n",
              "result.strength.name     False\n",
              "shotAngle                False\n",
              "shotDistance             False\n",
              "distanceFromLastEvent    False\n",
              "rebound                  False\n",
              "speed                    False\n",
              "changeInShotAngle        False\n",
              "angleSpeed               False\n",
              "dtype: bool"
            ]
          },
          "metadata": {},
          "execution_count": 514
        }
      ]
    },
    {
      "cell_type": "markdown",
      "metadata": {
        "id": "yMKexCTzjAK0"
      },
      "source": [
        "### Ordinal encore shot type"
      ],
      "id": "yMKexCTzjAK0"
    },
    {
      "cell_type": "code",
      "metadata": {
        "id": "dv5j5Uvni2DA"
      },
      "source": [
        "from sklearn.preprocessing import OrdinalEncoder\n",
        "enc = OrdinalEncoder()\n",
        "enc.fit(train_df[['shotType']])\n",
        "\n",
        "train_df[['shotType']] = enc.transform(train_df[['shotType']]).astype(int)\n",
        "valid_df[['shotType']] = enc.transform(valid_df[['shotType']]).astype(int)\n",
        "test_df[['shotType']] = enc.transform(test_df[['shotType']]).astype(int)\n",
        "\n",
        "test_df_regular[['shotType']] = enc.transform(test_df_regular[['shotType']]).astype(int)\n",
        "test_df_playoff[['shotType']] = enc.transform(test_df_playoff[['shotType']]).astype(int)"
      ],
      "id": "dv5j5Uvni2DA",
      "execution_count": 515,
      "outputs": []
    },
    {
      "cell_type": "code",
      "metadata": {
        "id": "zJDnMC3Fje2n",
        "outputId": "2f408b03-acb9-4f12-96a5-4b52d8227809",
        "colab": {
          "base_uri": "https://localhost:8080/"
        }
      },
      "source": [
        "#Sanity check\n",
        "test_df['shotType'].unique()\n",
        "#test_df['result.strength.name'].unique()"
      ],
      "id": "zJDnMC3Fje2n",
      "execution_count": 516,
      "outputs": [
        {
          "output_type": "execute_result",
          "data": {
            "text/plain": [
              "array([6, 2, 5, 3, 4, 0, 1])"
            ]
          },
          "metadata": {},
          "execution_count": 516
        }
      ]
    },
    {
      "cell_type": "markdown",
      "metadata": {
        "id": "cM1nrYLWkHHU"
      },
      "source": [
        "### Split Features label"
      ],
      "id": "cM1nrYLWkHHU"
    },
    {
      "cell_type": "code",
      "metadata": {
        "id": "GD8YNmGS_9x_",
        "colab": {
          "base_uri": "https://localhost:8080/"
        },
        "outputId": "bf889471-51a4-4546-fbf3-c3fefe318729"
      },
      "source": [
        "X_train = train_df[features]\n",
        "y_train = train_df[label]\n",
        "\n",
        "X_valid = valid_df[features]\n",
        "y_valid = valid_df[label]\n",
        "\n",
        "X_test = test_df[features]\n",
        "y_test = test_df[label]\n",
        "\n",
        "X_test_playoff = test_df_playoff[features]\n",
        "y_test_playoff = test_df_playoff[label]\n",
        "\n",
        "X_test_regular = test_df_regular[features]\n",
        "y_test_regular = test_df_regular[label]\n",
        "\n",
        "X_train.shape, y_train.shape, X_valid.shape, y_valid.shape, X_test.shape, y_test.shape,X_test_regular.shape, y_test_regular.shape, X_test_playoff.shape, y_test_playoff.shape"
      ],
      "id": "GD8YNmGS_9x_",
      "execution_count": 517,
      "outputs": [
        {
          "output_type": "execute_result",
          "data": {
            "text/plain": [
              "((238046, 12),\n",
              " (238046, 1),\n",
              " (83588, 12),\n",
              " (83588, 1),\n",
              " (74168, 12),\n",
              " (74168, 1),\n",
              " (66366, 12),\n",
              " (66366, 1),\n",
              " (7802, 12),\n",
              " (7802, 1))"
            ]
          },
          "metadata": {},
          "execution_count": 517
        }
      ]
    },
    {
      "cell_type": "markdown",
      "metadata": {
        "id": "z_1OQNVSkMPk"
      },
      "source": [
        "## Use feature selection with chi²\n",
        "* first, want to try `pandas_profiling`"
      ],
      "id": "z_1OQNVSkMPk"
    },
    {
      "cell_type": "code",
      "metadata": {
        "id": "LXvZlAeNp3US",
        "outputId": "f08069ec-77e5-4c54-cde3-ebafd43b9889",
        "colab": {
          "base_uri": "https://localhost:8080/",
          "height": 362
        }
      },
      "source": [
        "from pandas_profiling import ProfileReport\n",
        "\n",
        "ProfileReport(X_train)"
      ],
      "id": "LXvZlAeNp3US",
      "execution_count": 539,
      "outputs": [
        {
          "output_type": "error",
          "ename": "TypeError",
          "evalue": "ignored",
          "traceback": [
            "\u001b[0;31m---------------------------------------------------------------------------\u001b[0m",
            "\u001b[0;31mTypeError\u001b[0m                                 Traceback (most recent call last)",
            "\u001b[0;32m<ipython-input-539-b345008e31a9>\u001b[0m in \u001b[0;36m<module>\u001b[0;34m()\u001b[0m\n\u001b[1;32m      1\u001b[0m \u001b[0;32mfrom\u001b[0m \u001b[0mpandas_profiling\u001b[0m \u001b[0;32mimport\u001b[0m \u001b[0mProfileReport\u001b[0m\u001b[0;34m\u001b[0m\u001b[0;34m\u001b[0m\u001b[0m\n\u001b[1;32m      2\u001b[0m \u001b[0;34m\u001b[0m\u001b[0m\n\u001b[0;32m----> 3\u001b[0;31m \u001b[0mProfileReport\u001b[0m\u001b[0;34m(\u001b[0m\u001b[0mX_train\u001b[0m\u001b[0;34m)\u001b[0m\u001b[0;34m\u001b[0m\u001b[0;34m\u001b[0m\u001b[0m\n\u001b[0m",
            "\u001b[0;32m/usr/local/lib/python3.7/dist-packages/pandas_profiling/__init__.py\u001b[0m in \u001b[0;36m__init__\u001b[0;34m(self, df, **kwargs)\u001b[0m\n\u001b[1;32m     64\u001b[0m         \u001b[0msample\u001b[0m \u001b[0;34m=\u001b[0m \u001b[0mkwargs\u001b[0m\u001b[0;34m.\u001b[0m\u001b[0mget\u001b[0m\u001b[0;34m(\u001b[0m\u001b[0;34m'sample'\u001b[0m\u001b[0;34m,\u001b[0m \u001b[0mdf\u001b[0m\u001b[0;34m.\u001b[0m\u001b[0mhead\u001b[0m\u001b[0;34m(\u001b[0m\u001b[0;34m)\u001b[0m\u001b[0;34m)\u001b[0m\u001b[0;34m\u001b[0m\u001b[0;34m\u001b[0m\u001b[0m\n\u001b[1;32m     65\u001b[0m \u001b[0;34m\u001b[0m\u001b[0m\n\u001b[0;32m---> 66\u001b[0;31m         \u001b[0mdescription_set\u001b[0m \u001b[0;34m=\u001b[0m \u001b[0mdescribe\u001b[0m\u001b[0;34m(\u001b[0m\u001b[0mdf\u001b[0m\u001b[0;34m,\u001b[0m \u001b[0;34m**\u001b[0m\u001b[0mkwargs\u001b[0m\u001b[0;34m)\u001b[0m\u001b[0;34m\u001b[0m\u001b[0;34m\u001b[0m\u001b[0m\n\u001b[0m\u001b[1;32m     67\u001b[0m \u001b[0;34m\u001b[0m\u001b[0m\n\u001b[1;32m     68\u001b[0m         self.html = to_html(sample,\n",
            "\u001b[0;32m/usr/local/lib/python3.7/dist-packages/pandas_profiling/describe.py\u001b[0m in \u001b[0;36mdescribe\u001b[0;34m(df, bins, check_correlation, correlation_threshold, correlation_overrides, check_recoded, pool_size, **kwargs)\u001b[0m\n\u001b[1;32m    390\u001b[0m             \u001b[0;32mif\u001b[0m \u001b[0mname\u001b[0m \u001b[0;32mnot\u001b[0m \u001b[0;32min\u001b[0m \u001b[0mnames\u001b[0m\u001b[0;34m:\u001b[0m\u001b[0;34m\u001b[0m\u001b[0;34m\u001b[0m\u001b[0m\n\u001b[1;32m    391\u001b[0m                 \u001b[0mnames\u001b[0m\u001b[0;34m.\u001b[0m\u001b[0mappend\u001b[0m\u001b[0;34m(\u001b[0m\u001b[0mname\u001b[0m\u001b[0;34m)\u001b[0m\u001b[0;34m\u001b[0m\u001b[0;34m\u001b[0m\u001b[0m\n\u001b[0;32m--> 392\u001b[0;31m     \u001b[0mvariable_stats\u001b[0m \u001b[0;34m=\u001b[0m \u001b[0mpd\u001b[0m\u001b[0;34m.\u001b[0m\u001b[0mconcat\u001b[0m\u001b[0;34m(\u001b[0m\u001b[0mldesc\u001b[0m\u001b[0;34m,\u001b[0m \u001b[0mjoin_axes\u001b[0m\u001b[0;34m=\u001b[0m\u001b[0mpd\u001b[0m\u001b[0;34m.\u001b[0m\u001b[0mIndex\u001b[0m\u001b[0;34m(\u001b[0m\u001b[0;34m[\u001b[0m\u001b[0mnames\u001b[0m\u001b[0;34m]\u001b[0m\u001b[0;34m)\u001b[0m\u001b[0;34m,\u001b[0m \u001b[0maxis\u001b[0m\u001b[0;34m=\u001b[0m\u001b[0;36m1\u001b[0m\u001b[0;34m)\u001b[0m\u001b[0;34m\u001b[0m\u001b[0;34m\u001b[0m\u001b[0m\n\u001b[0m\u001b[1;32m    393\u001b[0m     \u001b[0mvariable_stats\u001b[0m\u001b[0;34m.\u001b[0m\u001b[0mcolumns\u001b[0m\u001b[0;34m.\u001b[0m\u001b[0mnames\u001b[0m \u001b[0;34m=\u001b[0m \u001b[0mdf\u001b[0m\u001b[0;34m.\u001b[0m\u001b[0mcolumns\u001b[0m\u001b[0;34m.\u001b[0m\u001b[0mnames\u001b[0m\u001b[0;34m\u001b[0m\u001b[0;34m\u001b[0m\u001b[0m\n\u001b[1;32m    394\u001b[0m \u001b[0;34m\u001b[0m\u001b[0m\n",
            "\u001b[0;31mTypeError\u001b[0m: concat() got an unexpected keyword argument 'join_axes'"
          ]
        }
      ]
    },
    {
      "cell_type": "code",
      "metadata": {
        "id": "nbTQLdU4mwfq"
      },
      "source": [
        "features_new = features\n",
        "features_new.remove('shotAngle') #negative and I judge it important so no in chi²"
      ],
      "id": "nbTQLdU4mwfq",
      "execution_count": 533,
      "outputs": []
    },
    {
      "cell_type": "code",
      "metadata": {
        "id": "hCWk59x_naBv",
        "outputId": "a8191707-a885-4972-9159-64a8fa9bd4b3",
        "colab": {
          "base_uri": "https://localhost:8080/"
        }
      },
      "source": [
        "print(features_new)"
      ],
      "id": "hCWk59x_naBv",
      "execution_count": 534,
      "outputs": [
        {
          "output_type": "stream",
          "name": "stdout",
          "text": [
            "['gameSeconds', 'timeFromLastEvent', 'gamePeriod', 'shotType', 'result.strength.name', 'shotDistance', 'distanceFromLastEvent', 'rebound', 'speed', 'changeInShotAngle', 'angleSpeed']\n"
          ]
        }
      ]
    },
    {
      "cell_type": "code",
      "metadata": {
        "id": "GxgdARrgkYMT",
        "outputId": "39654e99-3ae7-4379-fbb8-9d6c62f4af61",
        "colab": {
          "base_uri": "https://localhost:8080/"
        }
      },
      "source": [
        "from sklearn.feature_selection import SelectKBest, chi2\n",
        "X_5_best= SelectKBest(chi2, k=5).fit(x_train, y_train)\n",
        "mask = X_5_best.get_support() #list of booleans for selected features\n",
        "new_feat = [] \n",
        "for bool, feature in zip(mask, x_train.columns):\n",
        " if bool:\n",
        " new_feat.append(feature)\n",
        "print(‘The best features are:{}’.format(new_feat)) # The list of your 5 best features"
      ],
      "id": "GxgdARrgkYMT",
      "execution_count": 535,
      "outputs": [
        {
          "output_type": "execute_result",
          "data": {
            "text/plain": [
              "array([[14.0, 0.0],\n",
              "       [37.73592452822641, 0.0],\n",
              "       [24.596747752497688, 0.0],\n",
              "       ...,\n",
              "       [169.0, 0.0],\n",
              "       [38.07886552931954, 0.0],\n",
              "       [7.810249675906654, 0.0]], dtype=object)"
            ]
          },
          "metadata": {},
          "execution_count": 535
        }
      ]
    },
    {
      "cell_type": "markdown",
      "metadata": {
        "id": "IPckRPfMBNmS"
      },
      "source": [
        "### One Hot encode the shot type (I want to refer on the fact that the shot type affect the goal) (**NOT ANYMORE**)"
      ],
      "id": "IPckRPfMBNmS"
    },
    {
      "cell_type": "code",
      "metadata": {
        "id": "xYi-kcc40ewe",
        "colab": {
          "base_uri": "https://localhost:8080/"
        },
        "outputId": "724c2226-13d7-42fd-c677-1770e880e37b"
      },
      "source": [
        "X_train['shotType'].unique()"
      ],
      "id": "xYi-kcc40ewe",
      "execution_count": null,
      "outputs": [
        {
          "output_type": "execute_result",
          "data": {
            "text/plain": [
              "array(['Slap Shot', 'Wrist Shot', 'Snap Shot', 'Backhand', 'Wrap-around',\n",
              "       'Tip-In', 'Deflected'], dtype=object)"
            ]
          },
          "metadata": {},
          "execution_count": 379
        }
      ]
    },
    {
      "cell_type": "code",
      "metadata": {
        "id": "UbKEX4EwBJaR"
      },
      "source": [
        "dum_train = pd.get_dummies(X_train['shotType'], prefix='Shot',dtype=int)\n",
        "dum_valid = pd.get_dummies(X_valid['shotType'], prefix='Shot',dtype=int)\n",
        "dum_test = pd.get_dummies(X_test['shotType'], prefix='Shot',dtype=int)\n",
        "\n",
        "dum_regular =  pd.get_dummies(X_test_regular['shotType'], prefix='Shot',dtype=int)\n",
        "dum_playoff = pd.get_dummies(X_test_playoff['shotType'], prefix='Shot',dtype=int)"
      ],
      "id": "UbKEX4EwBJaR",
      "execution_count": null,
      "outputs": []
    },
    {
      "cell_type": "code",
      "metadata": {
        "id": "wjqJnqntR4oS"
      },
      "source": [
        "X_train = pd.concat([X_train, dum_train], axis=1)\n",
        "X_valid = pd.concat([X_valid, dum_valid], axis=1)\n",
        "X_test = pd.concat([X_test, dum_test], axis=1)\n",
        "X_test_regular = pd.concat([X_test_regular, dum_regular], axis=1)\n",
        "X_test_playoff = pd.concat([X_test_playoff, dum_playoff], axis=1)\n"
      ],
      "id": "wjqJnqntR4oS",
      "execution_count": null,
      "outputs": []
    },
    {
      "cell_type": "code",
      "metadata": {
        "colab": {
          "base_uri": "https://localhost:8080/"
        },
        "id": "ZkzKhocsTR-z",
        "outputId": "6a34452b-6df2-4d00-8ae1-a5afa67190ef"
      },
      "source": [
        "#check if no nans\n",
        "X_train.isna().any(), X_valid.isna().any(), X_test.isna().any(), X_test_playoff.isna().any(), X_test_regular.isna().any()"
      ],
      "id": "ZkzKhocsTR-z",
      "execution_count": null,
      "outputs": [
        {
          "output_type": "execute_result",
          "data": {
            "text/plain": [
              "(gameSeconds              False\n",
              " timeFromLastEvent        False\n",
              " gamePeriod               False\n",
              " shotType                 False\n",
              " shotAngle                False\n",
              " coordinatesX             False\n",
              " coordinatesY             False\n",
              " shotDistance             False\n",
              " lastEventCoordinatesX    False\n",
              " lastEventCoordinatesY    False\n",
              " distanceFromLastEvent    False\n",
              " rebound                  False\n",
              " speed                    False\n",
              " changeInShotAngle        False\n",
              " angleSpeed               False\n",
              " Shot_Backhand            False\n",
              " Shot_Deflected           False\n",
              " Shot_Slap Shot           False\n",
              " Shot_Snap Shot           False\n",
              " Shot_Tip-In              False\n",
              " Shot_Wrap-around         False\n",
              " Shot_Wrist Shot          False\n",
              " dtype: bool, gameSeconds              False\n",
              " timeFromLastEvent        False\n",
              " gamePeriod               False\n",
              " shotType                 False\n",
              " shotAngle                False\n",
              " coordinatesX             False\n",
              " coordinatesY             False\n",
              " shotDistance             False\n",
              " lastEventCoordinatesX    False\n",
              " lastEventCoordinatesY    False\n",
              " distanceFromLastEvent    False\n",
              " rebound                  False\n",
              " speed                    False\n",
              " changeInShotAngle        False\n",
              " angleSpeed               False\n",
              " Shot_Backhand            False\n",
              " Shot_Deflected           False\n",
              " Shot_Slap Shot           False\n",
              " Shot_Snap Shot           False\n",
              " Shot_Tip-In              False\n",
              " Shot_Wrap-around         False\n",
              " Shot_Wrist Shot          False\n",
              " dtype: bool, gameSeconds              False\n",
              " timeFromLastEvent        False\n",
              " gamePeriod               False\n",
              " shotType                 False\n",
              " shotAngle                False\n",
              " coordinatesX             False\n",
              " coordinatesY             False\n",
              " shotDistance             False\n",
              " lastEventCoordinatesX    False\n",
              " lastEventCoordinatesY    False\n",
              " distanceFromLastEvent    False\n",
              " rebound                  False\n",
              " speed                    False\n",
              " changeInShotAngle        False\n",
              " angleSpeed               False\n",
              " Shot_Backhand            False\n",
              " Shot_Deflected           False\n",
              " Shot_Slap Shot           False\n",
              " Shot_Snap Shot           False\n",
              " Shot_Tip-In              False\n",
              " Shot_Wrap-around         False\n",
              " Shot_Wrist Shot          False\n",
              " dtype: bool, gameSeconds              False\n",
              " timeFromLastEvent        False\n",
              " gamePeriod               False\n",
              " shotType                 False\n",
              " shotAngle                False\n",
              " coordinatesX             False\n",
              " coordinatesY             False\n",
              " shotDistance             False\n",
              " lastEventCoordinatesX    False\n",
              " lastEventCoordinatesY    False\n",
              " distanceFromLastEvent    False\n",
              " rebound                  False\n",
              " speed                    False\n",
              " changeInShotAngle        False\n",
              " angleSpeed               False\n",
              " Shot_Backhand            False\n",
              " Shot_Deflected           False\n",
              " Shot_Slap Shot           False\n",
              " Shot_Snap Shot           False\n",
              " Shot_Tip-In              False\n",
              " Shot_Wrap-around         False\n",
              " Shot_Wrist Shot          False\n",
              " dtype: bool, gameSeconds              False\n",
              " timeFromLastEvent        False\n",
              " gamePeriod               False\n",
              " shotType                 False\n",
              " shotAngle                False\n",
              " coordinatesX             False\n",
              " coordinatesY             False\n",
              " shotDistance             False\n",
              " lastEventCoordinatesX    False\n",
              " lastEventCoordinatesY    False\n",
              " distanceFromLastEvent    False\n",
              " rebound                  False\n",
              " speed                    False\n",
              " changeInShotAngle        False\n",
              " angleSpeed               False\n",
              " Shot_Backhand            False\n",
              " Shot_Deflected           False\n",
              " Shot_Slap Shot           False\n",
              " Shot_Snap Shot           False\n",
              " Shot_Tip-In              False\n",
              " Shot_Wrap-around         False\n",
              " Shot_Wrist Shot          False\n",
              " dtype: bool)"
            ]
          },
          "metadata": {},
          "execution_count": 382
        }
      ]
    },
    {
      "cell_type": "code",
      "metadata": {
        "id": "xEOoJtHCT1OK"
      },
      "source": [
        "X_train = X_train.drop(columns='shotType')\n",
        "X_valid = X_valid.drop(columns='shotType')\n",
        "X_test = X_test.drop(columns='shotType')\n",
        "X_test_regular = X_test_regular.drop(columns='shotType')\n",
        "X_test_playoff = X_test_playoff.drop(columns='shotType')"
      ],
      "id": "xEOoJtHCT1OK",
      "execution_count": null,
      "outputs": []
    },
    {
      "cell_type": "markdown",
      "metadata": {
        "id": "md1L-3Wowpi6"
      },
      "source": [
        "## Do the same for gamePeriod (**NOT NOW**)"
      ],
      "id": "md1L-3Wowpi6"
    },
    {
      "cell_type": "code",
      "metadata": {
        "id": "mBZlNVWUCmWo"
      },
      "source": [
        "#try smth because idk\n",
        "X_train['gamePeriod'] -=1\n",
        "X_valid['gamePeriod']-=1\n",
        "X_test['gamePeriod']-=1"
      ],
      "id": "mBZlNVWUCmWo",
      "execution_count": null,
      "outputs": []
    },
    {
      "cell_type": "code",
      "metadata": {
        "id": "bqkPl4lxwlNK",
        "colab": {
          "base_uri": "https://localhost:8080/"
        },
        "outputId": "6b6d4c77-4bad-45de-e865-0e6d78e99fca"
      },
      "source": [
        "dum_train = pd.get_dummies(X_train['gamePeriod'], prefix='Period',dtype=int)\n",
        "dum_valid = pd.get_dummies(X_valid['gamePeriod'], prefix='Period',dtype=int)\n",
        "dum_test = pd.get_dummies(X_test['gamePeriod'], prefix='Period',dtype=int)\n",
        "\n",
        "X_train = pd.concat([X_train, dum_train], axis=1)\n",
        "X_valid = pd.concat([X_valid, dum_valid], axis=1)\n",
        "X_test = pd.concat([X_test, dum_test], axis=1)\n",
        "\n",
        "#check if no nans\n",
        "X_train.isna().any(), X_valid.isna().any(), X_test.isna().any()"
      ],
      "id": "bqkPl4lxwlNK",
      "execution_count": null,
      "outputs": [
        {
          "output_type": "execute_result",
          "data": {
            "text/plain": [
              "(gameSeconds              False\n",
              " timeFromLastEvent        False\n",
              " gamePeriod               False\n",
              " shotAngle                False\n",
              " shotDistance             False\n",
              " distanceFromLastEvent    False\n",
              " rebound                  False\n",
              " speed                    False\n",
              " changeInShotAngle        False\n",
              " Shot_Backhand            False\n",
              " Shot_Deflected           False\n",
              " Shot_Slap Shot           False\n",
              " Shot_Snap Shot           False\n",
              " Shot_Tip-In              False\n",
              " Shot_Wrap-around         False\n",
              " Shot_Wrist Shot          False\n",
              " Period_0                 False\n",
              " Period_1                 False\n",
              " Period_2                 False\n",
              " Period_3                 False\n",
              " Period_4                 False\n",
              " Period_5                 False\n",
              " dtype: bool, gameSeconds              False\n",
              " timeFromLastEvent        False\n",
              " gamePeriod               False\n",
              " shotAngle                False\n",
              " shotDistance             False\n",
              " distanceFromLastEvent    False\n",
              " rebound                  False\n",
              " speed                    False\n",
              " changeInShotAngle        False\n",
              " Shot_Backhand            False\n",
              " Shot_Deflected           False\n",
              " Shot_Slap Shot           False\n",
              " Shot_Snap Shot           False\n",
              " Shot_Tip-In              False\n",
              " Shot_Wrap-around         False\n",
              " Shot_Wrist Shot          False\n",
              " Period_0                 False\n",
              " Period_1                 False\n",
              " Period_2                 False\n",
              " Period_3                 False\n",
              " Period_4                 False\n",
              " Period_5                 False\n",
              " dtype: bool, gameSeconds              False\n",
              " timeFromLastEvent        False\n",
              " gamePeriod               False\n",
              " shotAngle                False\n",
              " shotDistance             False\n",
              " distanceFromLastEvent    False\n",
              " rebound                  False\n",
              " speed                    False\n",
              " changeInShotAngle        False\n",
              " Shot_Backhand            False\n",
              " Shot_Deflected           False\n",
              " Shot_Slap Shot           False\n",
              " Shot_Snap Shot           False\n",
              " Shot_Tip-In              False\n",
              " Shot_Wrap-around         False\n",
              " Shot_Wrist Shot          False\n",
              " Period_0                 False\n",
              " Period_1                 False\n",
              " Period_2                 False\n",
              " Period_3                 False\n",
              " Period_4                 False\n",
              " Period_5                 False\n",
              " dtype: bool)"
            ]
          },
          "metadata": {},
          "execution_count": 199
        }
      ]
    },
    {
      "cell_type": "code",
      "metadata": {
        "id": "SAYkWau0xRML"
      },
      "source": [
        "#drop gamePeriod\n",
        "X_train = X_train.drop(columns='gamePeriod')\n",
        "X_valid = X_valid.drop(columns='gamePeriod')\n",
        "X_test = X_test.drop(columns='gamePeriod')"
      ],
      "id": "SAYkWau0xRML",
      "execution_count": null,
      "outputs": []
    },
    {
      "cell_type": "markdown",
      "metadata": {
        "id": "qkMP6uMUHZjK"
      },
      "source": [
        "# Change rebound feature"
      ],
      "id": "qkMP6uMUHZjK"
    },
    {
      "cell_type": "code",
      "metadata": {
        "id": "qrbQkwBdDSBn"
      },
      "source": [
        "X_train['rebound'] = X_train['rebound'].astype(int)\n",
        "X_valid['rebound'] = X_valid['rebound'].astype(int)\n",
        "X_test['rebound'] = X_test['rebound'].astype(int)\n",
        "X_test_playoff['rebound'] = X_test['rebound'].astype(int)\n",
        "X_test_regular['rebound'] = X_test['rebound'].astype(int)"
      ],
      "id": "qrbQkwBdDSBn",
      "execution_count": null,
      "outputs": []
    },
    {
      "cell_type": "markdown",
      "metadata": {
        "id": "-rmV692K3tN-"
      },
      "source": [
        "# Preprocess ends here"
      ],
      "id": "-rmV692K3tN-"
    },
    {
      "cell_type": "code",
      "metadata": {
        "id": "Br-EHuqUEk65",
        "colab": {
          "base_uri": "https://localhost:8080/",
          "height": 243
        },
        "outputId": "849e44bb-61a1-41b9-b5f2-98f1aed95eaf"
      },
      "source": [
        "X_test_playoff.head()"
      ],
      "id": "Br-EHuqUEk65",
      "execution_count": null,
      "outputs": [
        {
          "output_type": "execute_result",
          "data": {
            "text/html": [
              "<div>\n",
              "<style scoped>\n",
              "    .dataframe tbody tr th:only-of-type {\n",
              "        vertical-align: middle;\n",
              "    }\n",
              "\n",
              "    .dataframe tbody tr th {\n",
              "        vertical-align: top;\n",
              "    }\n",
              "\n",
              "    .dataframe thead th {\n",
              "        text-align: right;\n",
              "    }\n",
              "</style>\n",
              "<table border=\"1\" class=\"dataframe\">\n",
              "  <thead>\n",
              "    <tr style=\"text-align: right;\">\n",
              "      <th></th>\n",
              "      <th>gameSeconds</th>\n",
              "      <th>timeFromLastEvent</th>\n",
              "      <th>gamePeriod</th>\n",
              "      <th>shotAngle</th>\n",
              "      <th>coordinatesX</th>\n",
              "      <th>coordinatesY</th>\n",
              "      <th>shotDistance</th>\n",
              "      <th>lastEventCoordinatesX</th>\n",
              "      <th>lastEventCoordinatesY</th>\n",
              "      <th>distanceFromLastEvent</th>\n",
              "      <th>rebound</th>\n",
              "      <th>speed</th>\n",
              "      <th>changeInShotAngle</th>\n",
              "      <th>angleSpeed</th>\n",
              "      <th>Shot_Backhand</th>\n",
              "      <th>Shot_Deflected</th>\n",
              "      <th>Shot_Slap Shot</th>\n",
              "      <th>Shot_Snap Shot</th>\n",
              "      <th>Shot_Tip-In</th>\n",
              "      <th>Shot_Wrap-around</th>\n",
              "      <th>Shot_Wrist Shot</th>\n",
              "    </tr>\n",
              "  </thead>\n",
              "  <tbody>\n",
              "    <tr>\n",
              "      <th>75723</th>\n",
              "      <td>767.0</td>\n",
              "      <td>3.0</td>\n",
              "      <td>1</td>\n",
              "      <td>63.434949</td>\n",
              "      <td>85.0</td>\n",
              "      <td>-8.0</td>\n",
              "      <td>8.944272</td>\n",
              "      <td>75.0</td>\n",
              "      <td>10.0</td>\n",
              "      <td>20.591260</td>\n",
              "      <td>0</td>\n",
              "      <td>6.863753</td>\n",
              "      <td>0.0</td>\n",
              "      <td>0.0</td>\n",
              "      <td>0</td>\n",
              "      <td>0</td>\n",
              "      <td>1</td>\n",
              "      <td>0</td>\n",
              "      <td>0</td>\n",
              "      <td>0</td>\n",
              "      <td>0</td>\n",
              "    </tr>\n",
              "    <tr>\n",
              "      <th>69194</th>\n",
              "      <td>610.0</td>\n",
              "      <td>2.0</td>\n",
              "      <td>3</td>\n",
              "      <td>-73.610460</td>\n",
              "      <td>-84.0</td>\n",
              "      <td>-17.0</td>\n",
              "      <td>17.720045</td>\n",
              "      <td>-38.0</td>\n",
              "      <td>-38.0</td>\n",
              "      <td>50.566788</td>\n",
              "      <td>0</td>\n",
              "      <td>25.283394</td>\n",
              "      <td>0.0</td>\n",
              "      <td>0.0</td>\n",
              "      <td>0</td>\n",
              "      <td>0</td>\n",
              "      <td>0</td>\n",
              "      <td>1</td>\n",
              "      <td>0</td>\n",
              "      <td>0</td>\n",
              "      <td>0</td>\n",
              "    </tr>\n",
              "    <tr>\n",
              "      <th>72695</th>\n",
              "      <td>238.0</td>\n",
              "      <td>13.0</td>\n",
              "      <td>1</td>\n",
              "      <td>10.186630</td>\n",
              "      <td>-39.0</td>\n",
              "      <td>-23.0</td>\n",
              "      <td>130.049990</td>\n",
              "      <td>69.0</td>\n",
              "      <td>22.0</td>\n",
              "      <td>117.000000</td>\n",
              "      <td>0</td>\n",
              "      <td>9.000000</td>\n",
              "      <td>0.0</td>\n",
              "      <td>0.0</td>\n",
              "      <td>0</td>\n",
              "      <td>0</td>\n",
              "      <td>0</td>\n",
              "      <td>1</td>\n",
              "      <td>0</td>\n",
              "      <td>0</td>\n",
              "      <td>0</td>\n",
              "    </tr>\n",
              "    <tr>\n",
              "      <th>72549</th>\n",
              "      <td>870.0</td>\n",
              "      <td>25.0</td>\n",
              "      <td>2</td>\n",
              "      <td>-5.063617</td>\n",
              "      <td>-69.0</td>\n",
              "      <td>14.0</td>\n",
              "      <td>158.619040</td>\n",
              "      <td>94.0</td>\n",
              "      <td>-20.0</td>\n",
              "      <td>166.508258</td>\n",
              "      <td>0</td>\n",
              "      <td>6.660330</td>\n",
              "      <td>0.0</td>\n",
              "      <td>0.0</td>\n",
              "      <td>0</td>\n",
              "      <td>0</td>\n",
              "      <td>0</td>\n",
              "      <td>0</td>\n",
              "      <td>0</td>\n",
              "      <td>0</td>\n",
              "      <td>1</td>\n",
              "    </tr>\n",
              "    <tr>\n",
              "      <th>70234</th>\n",
              "      <td>351.0</td>\n",
              "      <td>3.0</td>\n",
              "      <td>1</td>\n",
              "      <td>0.339024</td>\n",
              "      <td>80.0</td>\n",
              "      <td>1.0</td>\n",
              "      <td>169.002959</td>\n",
              "      <td>97.0</td>\n",
              "      <td>6.0</td>\n",
              "      <td>17.720045</td>\n",
              "      <td>0</td>\n",
              "      <td>5.906682</td>\n",
              "      <td>0.0</td>\n",
              "      <td>0.0</td>\n",
              "      <td>0</td>\n",
              "      <td>0</td>\n",
              "      <td>0</td>\n",
              "      <td>1</td>\n",
              "      <td>0</td>\n",
              "      <td>0</td>\n",
              "      <td>0</td>\n",
              "    </tr>\n",
              "  </tbody>\n",
              "</table>\n",
              "</div>"
            ],
            "text/plain": [
              "       gameSeconds  timeFromLastEvent  ...  Shot_Wrap-around  Shot_Wrist Shot\n",
              "75723        767.0                3.0  ...                 0                0\n",
              "69194        610.0                2.0  ...                 0                0\n",
              "72695        238.0               13.0  ...                 0                0\n",
              "72549        870.0               25.0  ...                 0                1\n",
              "70234        351.0                3.0  ...                 0                0\n",
              "\n",
              "[5 rows x 21 columns]"
            ]
          },
          "metadata": {},
          "execution_count": 390
        }
      ]
    },
    {
      "cell_type": "markdown",
      "metadata": {
        "id": "p1fedCBRVXRa"
      },
      "source": [
        "# Normalize numerical data "
      ],
      "id": "p1fedCBRVXRa"
    },
    {
      "cell_type": "markdown",
      "metadata": {
        "id": "UXo55o_N1utI"
      },
      "source": [
        "## Export your preprocessed set on comet"
      ],
      "id": "UXo55o_N1utI"
    },
    {
      "cell_type": "code",
      "metadata": {
        "id": "4ONL8-5S1xlr",
        "colab": {
          "base_uri": "https://localhost:8080/"
        },
        "outputId": "0e955945-e00a-4b55-ab43-398dc6d87fd3"
      },
      "source": [
        "exp.log_dataframe_profile(\n",
        "X_train, \n",
        "name='preprocesseded_train_features',  # keep this name\n",
        "dataframe_format='csv'  # ensure you set this flag!\n",
        ")\n",
        "\n",
        "exp.log_dataframe_profile(\n",
        "X_valid, \n",
        "name='preprocessed_valid_features',  # keep this name\n",
        "dataframe_format='csv'  # ensure you set this flag!\n",
        ")\n",
        "\n",
        "exp.log_dataframe_profile(\n",
        "X_test, \n",
        "name='preprocessed_test_features',  # keep this name\n",
        "dataframe_format='csv'  # ensure you set this flag!\n",
        ")\n"
      ],
      "id": "4ONL8-5S1xlr",
      "execution_count": null,
      "outputs": [
        {
          "output_type": "stream",
          "name": "stderr",
          "text": [
            "COMET WARNING: unable to profile dataframe; ignoring\n",
            "COMET WARNING: unable to profile dataframe; ignoring\n",
            "COMET WARNING: unable to profile dataframe; ignoring\n"
          ]
        },
        {
          "output_type": "execute_result",
          "data": {
            "text/plain": [
              "{'dataframe': {'api': 'https://www.comet.ml/api/rest/v2/experiment/asset/get-asset?assetId=ab84a834ec5e4d70aec8cab237859355&experimentKey=e63f825c8ea044f5becbd0755d4bee36',\n",
              "  'assetId': 'ab84a834ec5e4d70aec8cab237859355',\n",
              "  'web': 'https://www.comet.ml/api/asset/download?assetId=ab84a834ec5e4d70aec8cab237859355&experimentKey=e63f825c8ea044f5becbd0755d4bee36'},\n",
              " 'profile': None}"
            ]
          },
          "metadata": {},
          "execution_count": 392
        }
      ]
    },
    {
      "cell_type": "markdown",
      "metadata": {
        "id": "UQVVMq0iJmIs"
      },
      "source": [
        "# Try Random Forest"
      ],
      "id": "UQVVMq0iJmIs"
    },
    {
      "cell_type": "code",
      "metadata": {
        "id": "QMS2ZkPeI3do"
      },
      "source": [
        "from sklearn.ensemble import RandomForestClassifier\n",
        "from sklearn.experimental import enable_halving_search_cv\n",
        "from sklearn.model_selection import HalvingGridSearchCV\n",
        "\n",
        "# Create the parameter grid based on the results of random search \n",
        "param_grid = {\n",
        "    'n_estimators':[50,65,80,100,115,130,150],\n",
        "     'max_depth': [5,6,7,8,9,10,11,12,13,14,15,18]\n",
        "}\n",
        "\n",
        "rf = RandomForestClassifier(criterion='entropy')\n",
        "sh = HalvingGridSearchCV(rf,param_grid)\n",
        "model = sh.fit(X_train,y_train)"
      ],
      "id": "QMS2ZkPeI3do",
      "execution_count": null,
      "outputs": []
    },
    {
      "cell_type": "code",
      "metadata": {
        "id": "iLSfbahVakWy",
        "colab": {
          "base_uri": "https://localhost:8080/"
        },
        "outputId": "1705451d-6619-48e3-8453-e0f88c7008ff"
      },
      "source": [
        "model.best_estimator_"
      ],
      "id": "iLSfbahVakWy",
      "execution_count": null,
      "outputs": [
        {
          "output_type": "execute_result",
          "data": {
            "text/plain": [
              "RandomForestClassifier(criterion='entropy', max_depth=12, n_estimators=115)"
            ]
          },
          "metadata": {},
          "execution_count": 394
        }
      ]
    },
    {
      "cell_type": "markdown",
      "metadata": {
        "id": "8KY1qTS_49OG"
      },
      "source": [
        "### Measurements on valid Set"
      ],
      "id": "8KY1qTS_49OG"
    },
    {
      "cell_type": "code",
      "metadata": {
        "id": "nuPU-E-uhptX"
      },
      "source": [
        "y_pred_valid  = model.predict(X_valid)"
      ],
      "id": "nuPU-E-uhptX",
      "execution_count": null,
      "outputs": []
    },
    {
      "cell_type": "code",
      "metadata": {
        "id": "mPzwKTEhiIPa"
      },
      "source": [
        "y_proba_val = model.predict_proba(X_valid)[:,1] # get the proba of having a goal (pred=1)"
      ],
      "id": "mPzwKTEhiIPa",
      "execution_count": null,
      "outputs": []
    },
    {
      "cell_type": "code",
      "metadata": {
        "id": "--dZClQLiM63",
        "colab": {
          "base_uri": "https://localhost:8080/"
        },
        "outputId": "8c69dbab-1461-45dd-ada5-d2fb5eb213c6"
      },
      "source": [
        "score_valid = model.score(X_valid,y_valid)\n",
        "score_valid"
      ],
      "id": "--dZClQLiM63",
      "execution_count": null,
      "outputs": [
        {
          "output_type": "execute_result",
          "data": {
            "text/plain": [
              "0.907068000191415"
            ]
          },
          "metadata": {},
          "execution_count": 401
        }
      ]
    },
    {
      "cell_type": "code",
      "metadata": {
        "id": "gFf2UneE-oGA"
      },
      "source": [
        "#log metric\n",
        "exp.log_metric(\"Accuracy on valid (2018) set\", score_valid)"
      ],
      "id": "gFf2UneE-oGA",
      "execution_count": null,
      "outputs": []
    },
    {
      "cell_type": "code",
      "metadata": {
        "id": "-4NtOh_X-q7g"
      },
      "source": [
        "%matplotlib inline\n",
        "plt.close('all')"
      ],
      "id": "-4NtOh_X-q7g",
      "execution_count": null,
      "outputs": []
    },
    {
      "cell_type": "markdown",
      "metadata": {
        "id": "sVw66t1QhYSZ"
      },
      "source": [
        "# Export model on comet before plotting"
      ],
      "id": "sVw66t1QhYSZ"
    },
    {
      "cell_type": "code",
      "metadata": {
        "id": "IN7rF_wui8LW"
      },
      "source": [
        "weights_dir = \"../ift6758/models/weights\"\n",
        "experiment = \"Random-forest-on-valid-with-FE2\"\n",
        "predscore_val_dict={}"
      ],
      "id": "IN7rF_wui8LW",
      "execution_count": null,
      "outputs": []
    },
    {
      "cell_type": "code",
      "metadata": {
        "id": "LDQS_iZvkPTH",
        "colab": {
          "base_uri": "https://localhost:8080/"
        },
        "outputId": "2dbfaf4a-9ff4-4622-88e9-ee75996a8e02"
      },
      "source": [
        "!ls .."
      ],
      "id": "LDQS_iZvkPTH",
      "execution_count": null,
      "outputs": [
        {
          "output_type": "stream",
          "name": "stdout",
          "text": [
            "ift6758  ift6758-project-main\n"
          ]
        }
      ]
    },
    {
      "cell_type": "code",
      "metadata": {
        "id": "0VV3-XKcgDVq",
        "colab": {
          "base_uri": "https://localhost:8080/"
        },
        "outputId": "4fdeedf7-9d0b-46c1-9341-67d0f584771c"
      },
      "source": [
        "import joblib\n",
        "\n",
        "predscore_val_dict[experiment]={}\n",
        "predscore_val_dict[experiment]['true_valid_label']=y_valid\n",
        "predscore_val_dict[experiment]['proba']=y_proba_val\n",
        "predscore_val_dict[experiment]['prediction']=y_pred_valid\n",
        "\n",
        "## Dumping model\n",
        "filename=f\"{weights_dir}/{experiment}.pkl\"\n",
        "joblib.dump(model,filename)"
      ],
      "id": "0VV3-XKcgDVq",
      "execution_count": null,
      "outputs": [
        {
          "output_type": "execute_result",
          "data": {
            "text/plain": [
              "['../ift6758/models/weights/Random-forest-on-valid-with-FE2.pkl']"
            ]
          },
          "metadata": {},
          "execution_count": 406
        }
      ]
    },
    {
      "cell_type": "code",
      "metadata": {
        "id": "2jcopP6hg6ns",
        "colab": {
          "base_uri": "https://localhost:8080/"
        },
        "outputId": "2c1f79bc-b7c6-498c-dc7b-e6651043348a"
      },
      "source": [
        "exp.log_model(\"Random Forest\", \"../ift6758/models/weights/Random-forest-with-FE2.pkl\")"
      ],
      "id": "2jcopP6hg6ns",
      "execution_count": null,
      "outputs": [
        {
          "output_type": "execute_result",
          "data": {
            "text/plain": [
              "{'api': 'https://www.comet.ml/api/rest/v2/experiment/asset/get-asset?assetId=1aefd8dea99349b295a64b2f90d30e67&experimentKey=e63f825c8ea044f5becbd0755d4bee36',\n",
              " 'assetId': '1aefd8dea99349b295a64b2f90d30e67',\n",
              " 'web': 'https://www.comet.ml/api/asset/download?assetId=1aefd8dea99349b295a64b2f90d30e67&experimentKey=e63f825c8ea044f5becbd0755d4bee36'}"
            ]
          },
          "metadata": {},
          "execution_count": 407
        }
      ]
    },
    {
      "cell_type": "markdown",
      "metadata": {
        "id": "QTmWpIfSCrou"
      },
      "source": [
        "# Plotting"
      ],
      "id": "QTmWpIfSCrou"
    },
    {
      "cell_type": "code",
      "metadata": {
        "id": "A8QwOHn-DFME",
        "colab": {
          "base_uri": "https://localhost:8080/"
        },
        "outputId": "897f9841-f0a2-4e22-9aa7-0247850d9d17"
      },
      "source": [
        "!git pull"
      ],
      "id": "A8QwOHn-DFME",
      "execution_count": null,
      "outputs": [
        {
          "output_type": "stream",
          "name": "stdout",
          "text": [
            "Already up to date.\n"
          ]
        }
      ]
    },
    {
      "cell_type": "code",
      "metadata": {
        "id": "R8HElJkGDHr0",
        "colab": {
          "base_uri": "https://localhost:8080/",
          "height": 592
        },
        "outputId": "fdd6b547-b14f-46d2-c828-2d65836c027e"
      },
      "source": [
        "from ift6758.metrics import plot_metrics\n",
        "\n",
        "exp.log_figure(\"Confusion Matrix\",plot_metrics.plotConfusion(y_valid,y_pred_valid, title='Confusion matrix for Random Forest validation set prediction'))"
      ],
      "id": "R8HElJkGDHr0",
      "execution_count": null,
      "outputs": [
        {
          "output_type": "stream",
          "name": "stdout",
          "text": [
            "              precision    recall  f1-score   support\n",
            "\n",
            "           0       0.91      1.00      0.95     75817\n",
            "           1       0.80      0.00      0.00      7771\n",
            "\n",
            "    accuracy                           0.91     83588\n",
            "   macro avg       0.85      0.50      0.48     83588\n",
            "weighted avg       0.90      0.91      0.86     83588\n",
            "\n"
          ]
        },
        {
          "output_type": "execute_result",
          "data": {
            "text/plain": [
              "{'api': 'https://www.comet.ml/api/rest/v1/image/get-image?imageId=a39de478fdf840f3bae27d166fa411bb&experimentKey=e63f825c8ea044f5becbd0755d4bee36',\n",
              " 'imageId': 'a39de478fdf840f3bae27d166fa411bb',\n",
              " 'web': 'https://www.comet.ml/api/image/download?imageId=a39de478fdf840f3bae27d166fa411bb&experimentKey=e63f825c8ea044f5becbd0755d4bee36'}"
            ]
          },
          "metadata": {},
          "execution_count": 410
        },
        {
          "output_type": "display_data",
          "data": {
            "image/png": "[encoded data removed]",
            "text/plain": [
              "<Figure size 720x360 with 2 Axes>"
            ]
          },
          "metadata": {
            "needs_background": "light"
          }
        }
      ]
    },
    {
      "cell_type": "code",
      "metadata": {
        "id": "HHTlw5E8EFn-",
        "colab": {
          "base_uri": "https://localhost:8080/",
          "height": 315
        },
        "outputId": "b992f51c-954b-402b-ed76-7b0b615d56b2"
      },
      "source": [
        "\"ROC curve on validation set\",plot_metrics.plot_roc([y_valid],[y_proba_val],[\"Valid set for Rand Forest\"])"
      ],
      "id": "HHTlw5E8EFn-",
      "execution_count": null,
      "outputs": [
        {
          "output_type": "display_data",
          "data": {
            "image/png": "[encoded data removed]",
            "text/plain": [
              "<Figure size 432x288 with 1 Axes>"
            ]
          },
          "metadata": {
            "needs_background": "light"
          }
        },
        {
          "output_type": "execute_result",
          "data": {
            "text/plain": [
              "('ROC curve on validation set', None)"
            ]
          },
          "metadata": {},
          "execution_count": 412
        }
      ]
    },
    {
      "cell_type": "code",
      "metadata": {
        "id": "Xqq78vIoM_Tz",
        "colab": {
          "base_uri": "https://localhost:8080/",
          "height": 488
        },
        "outputId": "7091e5c7-9477-4376-d229-26400c731981"
      },
      "source": [
        "plot_metrics.plot_percentile([y_valid],[y_proba_val],bin_width=5,plot_labels=[\"Valid set for Rand Forest\"])"
      ],
      "id": "Xqq78vIoM_Tz",
      "execution_count": null,
      "outputs": [
        {
          "output_type": "display_data",
          "data": {
            "image/png": "[encoded data removed]",
            "text/plain": [
              "<Figure size 1080x540 with 2 Axes>"
            ]
          },
          "metadata": {
            "needs_background": "light"
          }
        }
      ]
    },
    {
      "cell_type": "code",
      "metadata": {
        "id": "nXqLoooItwiz",
        "colab": {
          "base_uri": "https://localhost:8080/",
          "height": 488
        },
        "outputId": "49b21e71-6783-493c-d851-28e1ebb69d9e"
      },
      "source": [
        "plot_metrics.plot_calibration([y_valid],[y_proba_val],plot_labels=[\"Valid set for Rand Forest\"])"
      ],
      "id": "nXqLoooItwiz",
      "execution_count": null,
      "outputs": [
        {
          "output_type": "display_data",
          "data": {
            "image/png": "[encoded data removed]",
            "text/plain": [
              "<Figure size 540x540 with 1 Axes>"
            ]
          },
          "metadata": {
            "needs_background": "light"
          }
        }
      ]
    },
    {
      "cell_type": "markdown",
      "metadata": {
        "id": "VcMYtC9BASM3"
      },
      "source": [
        "### after I dl the img, export them on Comet"
      ],
      "id": "VcMYtC9BASM3"
    },
    {
      "cell_type": "code",
      "metadata": {
        "id": "xw4nj7GAuImf",
        "colab": {
          "base_uri": "https://localhost:8080/"
        },
        "outputId": "45dcaef8-7b2a-46e6-a1c9-567332e98de0"
      },
      "source": [
        "exp.log_image(\"figures/roc.png\",name=\"ROC with validation set\")"
      ],
      "id": "xw4nj7GAuImf",
      "execution_count": null,
      "outputs": [
        {
          "output_type": "execute_result",
          "data": {
            "text/plain": [
              "{'api': 'https://www.comet.ml/api/rest/v1/image/get-image?imageId=40416214fcc94006b0ab97bf72e15a30&experimentKey=e63f825c8ea044f5becbd0755d4bee36',\n",
              " 'imageId': '40416214fcc94006b0ab97bf72e15a30',\n",
              " 'web': 'https://www.comet.ml/api/image/download?imageId=40416214fcc94006b0ab97bf72e15a30&experimentKey=e63f825c8ea044f5becbd0755d4bee36'}"
            ]
          },
          "metadata": {},
          "execution_count": 417
        }
      ]
    },
    {
      "cell_type": "code",
      "metadata": {
        "colab": {
          "base_uri": "https://localhost:8080/"
        },
        "id": "qb588_3VAsz1",
        "outputId": "8748714b-a1dc-438a-bd40-691eb00ab483"
      },
      "source": [
        "exp.log_image(\"figures/percentile.png\",name=\"Percentile with validation set\")\n",
        "exp.log_image(\"figures/calibration.png\",name=\"Calibrationn figure with validation set\")"
      ],
      "id": "qb588_3VAsz1",
      "execution_count": null,
      "outputs": [
        {
          "output_type": "execute_result",
          "data": {
            "text/plain": [
              "{'api': 'https://www.comet.ml/api/rest/v1/image/get-image?imageId=b42f7c346b204ca5be7f6a361d82f7a0&experimentKey=e63f825c8ea044f5becbd0755d4bee36',\n",
              " 'imageId': 'b42f7c346b204ca5be7f6a361d82f7a0',\n",
              " 'web': 'https://www.comet.ml/api/image/download?imageId=b42f7c346b204ca5be7f6a361d82f7a0&experimentKey=e63f825c8ea044f5becbd0755d4bee36'}"
            ]
          },
          "metadata": {},
          "execution_count": 418
        }
      ]
    },
    {
      "cell_type": "markdown",
      "metadata": {
        "id": "tw6uUAph_dbi"
      },
      "source": [
        "# On test sets (regular and playoff)"
      ],
      "id": "tw6uUAph_dbi"
    },
    {
      "cell_type": "code",
      "metadata": {
        "id": "PYRB0oxk_e8x",
        "colab": {
          "base_uri": "https://localhost:8080/"
        },
        "outputId": "024107a5-0514-4bfa-9a38-6b3325a73f81"
      },
      "source": [
        "pred_regular  = model.predict(X_test_regular)\n",
        "proba_regular = model.predict_proba(X_test_regular)[:,1] # get the proba of having a goal (pred=1)\n",
        "score_regular = model.score(X_test_regular,y_label_regular)\n",
        "score_regular"
      ],
      "id": "PYRB0oxk_e8x",
      "execution_count": null,
      "outputs": [
        {
          "output_type": "execute_result",
          "data": {
            "text/plain": [
              "0.9070457764517976"
            ]
          },
          "metadata": {},
          "execution_count": 420
        }
      ]
    },
    {
      "cell_type": "code",
      "metadata": {
        "id": "ZwIv0ojOBfua"
      },
      "source": [
        "exp.log_metric(\"Test score on Regular Season\", score_regular)"
      ],
      "id": "ZwIv0ojOBfua",
      "execution_count": null,
      "outputs": []
    },
    {
      "cell_type": "code",
      "metadata": {
        "colab": {
          "base_uri": "https://localhost:8080/"
        },
        "id": "WhtBEPAKBnBU",
        "outputId": "7070c5db-d251-4548-aa78-911674fd6613"
      },
      "source": [
        "pred_playoff  = model.predict(X_test_playoff)\n",
        "proba_playoff = model.predict_proba(X_test_playoff)[:,1] # get the proba of having a goal (pred=1)\n",
        "score_playoff = model.score(X_test_playoff,y_test_playoff)\n",
        "score_playoff"
      ],
      "id": "WhtBEPAKBnBU",
      "execution_count": null,
      "outputs": [
        {
          "output_type": "execute_result",
          "data": {
            "text/plain": [
              "0.9148936170212766"
            ]
          },
          "metadata": {},
          "execution_count": 422
        }
      ]
    },
    {
      "cell_type": "code",
      "metadata": {
        "id": "Rkep7pbEB1vs"
      },
      "source": [
        "exp.log_metric(\"Test score on Playoffs (2019)\", score_playoff)"
      ],
      "id": "Rkep7pbEB1vs",
      "execution_count": null,
      "outputs": []
    },
    {
      "cell_type": "markdown",
      "metadata": {
        "id": "Y3A1GNzB_3Bt"
      },
      "source": [
        "## Export model"
      ],
      "id": "Y3A1GNzB_3Bt"
    },
    {
      "cell_type": "code",
      "metadata": {
        "id": "VFBBSmcE_yEv"
      },
      "source": [
        "weights_dir = \"../ift6758/models/weights\"\n",
        "experiment = \"Random-forest-test-regular-with-FE2\"\n",
        "predscore_val_dict={}"
      ],
      "id": "VFBBSmcE_yEv",
      "execution_count": null,
      "outputs": []
    },
    {
      "cell_type": "code",
      "metadata": {
        "id": "NehP2P8E_6AF",
        "colab": {
          "base_uri": "https://localhost:8080/"
        },
        "outputId": "39ed1eef-5759-4417-f9db-bf1a2c29af4e"
      },
      "source": [
        "import joblib\n",
        "\n",
        "predscore_val_dict[experiment]={}\n",
        "predscore_val_dict[experiment]['true_test_reg_label']=y_label_regular\n",
        "predscore_val_dict[experiment]['proba']=proba_regular\n",
        "predscore_val_dict[experiment]['prediction']=pred_regular\n",
        "\n",
        "## Dumping model\n",
        "filename=f\"{weights_dir}/{experiment}.pkl\"\n",
        "joblib.dump(model,filename)"
      ],
      "id": "NehP2P8E_6AF",
      "execution_count": null,
      "outputs": [
        {
          "output_type": "execute_result",
          "data": {
            "text/plain": [
              "['../ift6758/models/weights/Random-forest-test-regular-with-FE2.pkl']"
            ]
          },
          "metadata": {},
          "execution_count": 425
        }
      ]
    },
    {
      "cell_type": "code",
      "metadata": {
        "colab": {
          "base_uri": "https://localhost:8080/"
        },
        "id": "2mqGgk0VCV-1",
        "outputId": "4e08778e-2e97-48ae-cae0-f19f3365dbb4"
      },
      "source": [
        "weights_dir = \"../ift6758/models/weights\"\n",
        "experiment = \"Random-forest-test-playoff-with-FE2\"\n",
        "predscore_val_dict={}\n",
        "\n",
        "import joblib\n",
        "\n",
        "predscore_val_dict[experiment]={}\n",
        "predscore_val_dict[experiment]['true_test_reg_label']=y_test_playoff\n",
        "predscore_val_dict[experiment]['proba']=proba_playoff\n",
        "predscore_val_dict[experiment]['prediction']=pred_playoff\n",
        "\n",
        "## Dumping model\n",
        "filename=f\"{weights_dir}/{experiment}.pkl\"\n",
        "joblib.dump(model,filename)"
      ],
      "id": "2mqGgk0VCV-1",
      "execution_count": null,
      "outputs": [
        {
          "output_type": "execute_result",
          "data": {
            "text/plain": [
              "['../ift6758/models/weights/Random-forest-test-playoff-with-FE2.pkl']"
            ]
          },
          "metadata": {},
          "execution_count": 426
        }
      ]
    },
    {
      "cell_type": "code",
      "metadata": {
        "id": "YJGJzD5Z__E9",
        "colab": {
          "base_uri": "https://localhost:8080/"
        },
        "outputId": "f0f211e6-9133-4f14-821e-b8b1a12ad048"
      },
      "source": [
        "exp.log_model(\"Random Forest\", \"../ift6758/models/weights/Random-forest-with-FE2.pkl\")"
      ],
      "id": "YJGJzD5Z__E9",
      "execution_count": null,
      "outputs": [
        {
          "output_type": "execute_result",
          "data": {
            "text/plain": [
              "{'api': 'https://www.comet.ml/api/rest/v2/experiment/asset/get-asset?assetId=1467cfb3eeea4364a6f6ad97d4c06463&experimentKey=e63f825c8ea044f5becbd0755d4bee36',\n",
              " 'assetId': '1467cfb3eeea4364a6f6ad97d4c06463',\n",
              " 'web': 'https://www.comet.ml/api/asset/download?assetId=1467cfb3eeea4364a6f6ad97d4c06463&experimentKey=e63f825c8ea044f5becbd0755d4bee36'}"
            ]
          },
          "metadata": {},
          "execution_count": 427
        }
      ]
    },
    {
      "cell_type": "markdown",
      "metadata": {
        "id": "oT1p1HciALuz"
      },
      "source": [
        "# Plot"
      ],
      "id": "oT1p1HciALuz"
    },
    {
      "cell_type": "code",
      "metadata": {
        "id": "aTtwB14LAI5G",
        "colab": {
          "base_uri": "https://localhost:8080/",
          "height": 1000
        },
        "outputId": "75ba4772-dca7-4517-871a-95fec0883dfd"
      },
      "source": [
        "from ift6758.metrics import plot_metrics\n",
        "\n",
        "exp.log_figure(\"Confusion Matrix for regular season test set\",plot_metrics.plotConfusion(y_label_regular,pred_regular, title='Confusion matrix for Random Forest test reg set prediction'))\n",
        "exp.log_figure(\"Confusion Matrix for playoff season test set\", plot_metrics.plotConfusion(y_test_playoff,pred_playoff, title='Confusion matrix for Random Forest test playoff set prediction'))"
      ],
      "id": "aTtwB14LAI5G",
      "execution_count": null,
      "outputs": [
        {
          "output_type": "stream",
          "name": "stdout",
          "text": [
            "              precision    recall  f1-score   support\n",
            "\n",
            "           0       0.91      1.00      0.95     60194\n",
            "           1       0.80      0.00      0.00      6172\n",
            "\n",
            "    accuracy                           0.91     66366\n",
            "   macro avg       0.85      0.50      0.48     66366\n",
            "weighted avg       0.90      0.91      0.86     66366\n",
            "\n",
            "              precision    recall  f1-score   support\n",
            "\n",
            "           0       0.92      1.00      0.96      7139\n",
            "           1       0.00      0.00      0.00       663\n",
            "\n",
            "    accuracy                           0.91      7802\n",
            "   macro avg       0.46      0.50      0.48      7802\n",
            "weighted avg       0.84      0.91      0.87      7802\n",
            "\n"
          ]
        },
        {
          "output_type": "execute_result",
          "data": {
            "text/plain": [
              "{'api': 'https://www.comet.ml/api/rest/v1/image/get-image?imageId=95a03cb82bf74dbab74e1de03d888920&experimentKey=e63f825c8ea044f5becbd0755d4bee36',\n",
              " 'imageId': '95a03cb82bf74dbab74e1de03d888920',\n",
              " 'web': 'https://www.comet.ml/api/image/download?imageId=95a03cb82bf74dbab74e1de03d888920&experimentKey=e63f825c8ea044f5becbd0755d4bee36'}"
            ]
          },
          "metadata": {},
          "execution_count": 428
        },
        {
          "output_type": "display_data",
          "data": {
            "image/png": "[encoded data removed]",
            "text/plain": [
              "<Figure size 720x360 with 2 Axes>"
            ]
          },
          "metadata": {
            "needs_background": "light"
          }
        },
        {
          "output_type": "display_data",
          "data": {
            "image/png": "[encoded data removed]",
            "text/plain": [
              "<Figure size 720x360 with 2 Axes>"
            ]
          },
          "metadata": {
            "needs_background": "light"
          }
        }
      ]
    },
    {
      "cell_type": "code",
      "metadata": {
        "id": "pWaJQl5XDQFy"
      },
      "source": [
        "label_list = [y_label_regular, y_test_playoff]\n",
        "proba_list = [proba_regular,proba_playoff]\n",
        "pred_list = [pred_regular,pred_playoff]\n",
        "title_list = [\"Regular Season\", \"Playoff\"]"
      ],
      "id": "pWaJQl5XDQFy",
      "execution_count": null,
      "outputs": []
    },
    {
      "cell_type": "code",
      "metadata": {
        "id": "QJOFKKd8Al1a",
        "colab": {
          "base_uri": "https://localhost:8080/",
          "height": 1000
        },
        "outputId": "5f855d9f-b562-4d60-e5fb-71efcc6f7ca5"
      },
      "source": [
        "plot_metrics.plot_roc(label_list,proba_list,title_list)\n",
        "plot_metrics.plot_percentile(label_list,proba_list,bin_width=5,plot_labels=title_list)\n",
        "plot_metrics.plot_calibration(label_list,proba_list,plot_labels=title_list)"
      ],
      "id": "QJOFKKd8Al1a",
      "execution_count": null,
      "outputs": [
        {
          "output_type": "display_data",
          "data": {
            "image/png": "[encoded data removed]",
            "text/plain": [
              "<Figure size 432x288 with 1 Axes>"
            ]
          },
          "metadata": {
            "needs_background": "light"
          }
        },
        {
          "output_type": "display_data",
          "data": {
            "image/png": "[encoded data removed]",
            "text/plain": [
              "<Figure size 1080x540 with 2 Axes>"
            ]
          },
          "metadata": {
            "needs_background": "light"
          }
        },
        {
          "output_type": "display_data",
          "data": {
            "image/png": "[encoded data removed]",
            "text/plain": [
              "<Figure size 540x540 with 1 Axes>"
            ]
          },
          "metadata": {
            "needs_background": "light"
          }
        }
      ]
    },
    {
      "cell_type": "code",
      "metadata": {
        "id": "hxWcoB_6MRcJ",
        "colab": {
          "base_uri": "https://localhost:8080/"
        },
        "outputId": "d8ce32df-c2c7-4e8c-a7d4-4a15bf83f9e9"
      },
      "source": [
        "exp.log_image(\"figures/roc_test.png\",name=\"Percentile with test set\")\n",
        "exp.log_image(\"figures/percentile_test.png\",name=\"Percentile with test set\")\n",
        "exp.log_image(\"figures/calibration_test.png\",name=\"Calibrationn figure with test set\")"
      ],
      "id": "hxWcoB_6MRcJ",
      "execution_count": null,
      "outputs": [
        {
          "output_type": "execute_result",
          "data": {
            "text/plain": [
              "{'api': 'https://www.comet.ml/api/rest/v1/image/get-image?imageId=004e84d8139c406785ffe8ddbe25643b&experimentKey=e63f825c8ea044f5becbd0755d4bee36',\n",
              " 'imageId': '004e84d8139c406785ffe8ddbe25643b',\n",
              " 'web': 'https://www.comet.ml/api/image/download?imageId=004e84d8139c406785ffe8ddbe25643b&experimentKey=e63f825c8ea044f5becbd0755d4bee36'}"
            ]
          },
          "metadata": {},
          "execution_count": 437
        }
      ]
    },
    {
      "cell_type": "code",
      "metadata": {
        "id": "qZuhALH2MeUN",
        "colab": {
          "base_uri": "https://localhost:8080/"
        },
        "outputId": "c3d039dd-d25d-4ffb-e20c-2c543cbafc03"
      },
      "source": [
        "exp.end()"
      ],
      "id": "qZuhALH2MeUN",
      "execution_count": null,
      "outputs": [
        {
          "output_type": "stream",
          "name": "stderr",
          "text": [
            "COMET INFO: ---------------------------\n",
            "COMET INFO: Comet.ml Experiment Summary\n",
            "COMET INFO: ---------------------------\n",
            "COMET INFO:   Data:\n",
            "COMET INFO:     display_summary_level : 1\n",
            "COMET INFO:     url                   : https://www.comet.ml/morph-e/milestone-2/e63f825c8ea044f5becbd0755d4bee36\n",
            "COMET INFO:   Metrics:\n",
            "COMET INFO:     Accuracy on valid (2018) set  : 0.907068000191415\n",
            "COMET INFO:     Test score on Playoffs (2019) : 0.9148936170212766\n",
            "COMET INFO:     Test score on Regular Season  : 0.9070457764517976\n",
            "COMET INFO:   Others:\n",
            "COMET INFO:     notebook_url : https://colab.research.google.com/notebook#fileId=https%3A%2F%2Fgithub.com%2FM0rph3e%2Fift6758-project-main%2Fblob%2Fmain%2Fnotebooks%2Ftry_your_best_shot.ipynb\n",
            "COMET INFO:   Parameters:\n",
            "COMET INFO:     bootstrap                : True\n",
            "COMET INFO:     ccp_alpha                : 0.0\n",
            "COMET INFO:     class_weight             : 1\n",
            "COMET INFO:     criterion                : entropy\n",
            "COMET INFO:     max_depth                : 12\n",
            "COMET INFO:     max_features             : auto\n",
            "COMET INFO:     max_leaf_nodes           : 1\n",
            "COMET INFO:     max_samples              : 1\n",
            "COMET INFO:     min_impurity_decrease    : 0.0\n",
            "COMET INFO:     min_samples_leaf         : 1\n",
            "COMET INFO:     min_samples_split        : 2\n",
            "COMET INFO:     min_weight_fraction_leaf : 0.0\n",
            "COMET INFO:     n_estimators             : 115\n",
            "COMET INFO:     n_jobs                   : 1\n",
            "COMET INFO:     oob_score                : False\n",
            "COMET INFO:     random_state             : 1\n",
            "COMET INFO:     verbose                  : 0\n",
            "COMET INFO:     warm_start               : False\n",
            "COMET INFO:   Uploads:\n",
            "COMET INFO:     dataframe                : 6 (127.77 MB)\n",
            "COMET INFO:     environment details      : 1\n",
            "COMET INFO:     figures                  : 3\n",
            "COMET INFO:     filename                 : 1\n",
            "COMET INFO:     git metadata             : 1\n",
            "COMET INFO:     git-patch (uncompressed) : 1 (933 bytes)\n",
            "COMET INFO:     images                   : 6\n",
            "COMET INFO:     installed packages       : 1\n",
            "COMET INFO:     model-element            : 2 (523.61 KB)\n",
            "COMET INFO:     notebook                 : 1\n",
            "COMET INFO:     os packages              : 1\n",
            "COMET INFO:     source_code              : 1\n",
            "COMET INFO: ---------------------------\n",
            "COMET INFO: Uploading 1 metrics, params and output messages\n",
            "COMET INFO: Waiting for completion of the file uploads (may take several seconds)\n",
            "COMET INFO: The Python SDK has 10800 seconds to finish before aborting...\n",
            "COMET INFO: All files uploaded, waiting for confirmation they have been all received\n"
          ]
        }
      ]
    },
    {
      "cell_type": "code",
      "metadata": {
        "id": "wWspJOODNuyC"
      },
      "source": [
        ""
      ],
      "id": "wWspJOODNuyC",
      "execution_count": null,
      "outputs": []
    }
  ]
}