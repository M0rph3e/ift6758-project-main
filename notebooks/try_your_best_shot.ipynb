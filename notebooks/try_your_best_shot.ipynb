{
  "nbformat": 4,
  "nbformat_minor": 5,
  "metadata": {
    "kernelspec": {
      "name": "python3",
      "display_name": "Python 3"
    },
    "colab": {
      "name": "try_your_best_shot.ipynb",
      "provenance": []
    },
    "language_info": {
      "name": "python"
    }
  },
  "cells": [
    {
      "cell_type": "markdown",
      "metadata": {
        "id": "f4aa00a7-1743-4475-8e7b-07f75b386a29"
      },
      "source": [
        "## Here we will try our best shot to predict the goals with our features"
      ],
      "id": "f4aa00a7-1743-4475-8e7b-07f75b386a29"
    },
    {
      "cell_type": "code",
      "metadata": {
        "id": "0e26965d-f064-484c-91f3-aa96de787ab4",
        "colab": {
          "base_uri": "https://localhost:8080/"
        },
        "outputId": "f92b5ca1-cc7d-4c3e-859b-57f0a2256d4c"
      },
      "source": [
        "from google.colab import drive\n",
        "drive.mount('/content/gdrive')"
      ],
      "id": "0e26965d-f064-484c-91f3-aa96de787ab4",
      "execution_count": 14,
      "outputs": [
        {
          "output_type": "stream",
          "name": "stdout",
          "text": [
            "Drive already mounted at /content/gdrive; to attempt to forcibly remount, call drive.mount(\"/content/gdrive\", force_remount=True).\n"
          ]
        }
      ]
    },
    {
      "cell_type": "code",
      "metadata": {
        "id": "MrfE_fXB9r7z",
        "colab": {
          "base_uri": "https://localhost:8080/"
        },
        "outputId": "4fcc12a0-d259-49cc-bb44-78549a8d8461"
      },
      "source": [
        "%cd /content/gdrive/MyDrive/Master_UdeM/IFT-6758/Project/ift6758-project-main"
      ],
      "id": "MrfE_fXB9r7z",
      "execution_count": 15,
      "outputs": [
        {
          "output_type": "stream",
          "name": "stdout",
          "text": [
            "/content/gdrive/MyDrive/Master_UdeM/IFT-6758/Project/ift6758-project-main\n"
          ]
        }
      ]
    },
    {
      "cell_type": "code",
      "metadata": {
        "id": "celXeSWR9zXi",
        "colab": {
          "base_uri": "https://localhost:8080/"
        },
        "outputId": "06e2cf42-b4bc-407e-fce0-a75f8766ebe9"
      },
      "source": [
        "#!git clone https://GIT_TOKEN@github.com/M0rph3e/ift6758-project-main.git #not anymore\n",
        "! git pull"
      ],
      "id": "celXeSWR9zXi",
      "execution_count": 23,
      "outputs": [
        {
          "output_type": "stream",
          "name": "stdout",
          "text": [
            "Already up to date.\n"
          ]
        }
      ]
    },
    {
      "cell_type": "code",
      "metadata": {
        "id": "lGWPuWN7-Rbo",
        "colab": {
          "base_uri": "https://localhost:8080/"
        },
        "outputId": "db656cbc-49a3-4347-f000-2e7b89f720f5"
      },
      "source": [
        "!git status"
      ],
      "id": "lGWPuWN7-Rbo",
      "execution_count": 17,
      "outputs": [
        {
          "output_type": "stream",
          "name": "stdout",
          "text": [
            "On branch main\n",
            "Your branch is up to date with 'origin/main'.\n",
            "\n",
            "Changes not staged for commit:\n",
            "  (use \"git add <file>...\" to update what will be committed)\n",
            "  (use \"git checkout -- <file>...\" to discard changes in working directory)\n",
            "\n",
            "\t\u001b[31mmodified:   ift6758/metrics/plot_metrics.py\u001b[m\n",
            "\n",
            "no changes added to commit (use \"git add\" and/or \"git commit -a\")\n"
          ]
        }
      ]
    },
    {
      "cell_type": "code",
      "metadata": {
        "id": "5wFBMu2YAjam",
        "colab": {
          "base_uri": "https://localhost:8080/"
        },
        "outputId": "61294512-1e90-4c24-a236-a46583537bc1"
      },
      "source": [
        "!pip install comet_ml pandas_profiling"
      ],
      "id": "5wFBMu2YAjam",
      "execution_count": 24,
      "outputs": [
        {
          "output_type": "stream",
          "name": "stdout",
          "text": [
            "Requirement already satisfied: comet_ml in /usr/local/lib/python3.7/dist-packages (3.22.1)\n",
            "Requirement already satisfied: pandas_profiling in /usr/local/lib/python3.7/dist-packages (1.4.1)\n",
            "Requirement already satisfied: dulwich>=0.20.6 in /usr/local/lib/python3.7/dist-packages (from comet_ml) (0.20.26)\n",
            "Requirement already satisfied: semantic-version>=2.8.0 in /usr/local/lib/python3.7/dist-packages (from comet_ml) (2.8.5)\n",
            "Requirement already satisfied: six in /usr/local/lib/python3.7/dist-packages (from comet_ml) (1.15.0)\n",
            "Requirement already satisfied: wurlitzer>=1.0.2 in /usr/local/lib/python3.7/dist-packages (from comet_ml) (3.0.2)\n",
            "Requirement already satisfied: nvidia-ml-py3>=7.352.0 in /usr/local/lib/python3.7/dist-packages (from comet_ml) (7.352.0)\n",
            "Requirement already satisfied: everett[ini]>=1.0.1 in /usr/local/lib/python3.7/dist-packages (from comet_ml) (2.0.1)\n",
            "Requirement already satisfied: wrapt>=1.11.2 in /usr/local/lib/python3.7/dist-packages (from comet_ml) (1.13.3)\n",
            "Requirement already satisfied: jsonschema!=3.1.0,>=2.6.0 in /usr/local/lib/python3.7/dist-packages (from comet_ml) (2.6.0)\n",
            "Requirement already satisfied: websocket-client>=0.55.0 in /usr/local/lib/python3.7/dist-packages (from comet_ml) (1.2.1)\n",
            "Requirement already satisfied: requests-toolbelt>=0.8.0 in /usr/local/lib/python3.7/dist-packages (from comet_ml) (0.9.1)\n",
            "Requirement already satisfied: requests>=2.18.4 in /usr/local/lib/python3.7/dist-packages (from comet_ml) (2.23.0)\n",
            "Requirement already satisfied: certifi in /usr/local/lib/python3.7/dist-packages (from dulwich>=0.20.6->comet_ml) (2021.10.8)\n",
            "Requirement already satisfied: urllib3>=1.24.1 in /usr/local/lib/python3.7/dist-packages (from dulwich>=0.20.6->comet_ml) (1.24.3)\n",
            "Requirement already satisfied: configobj in /usr/local/lib/python3.7/dist-packages (from everett[ini]>=1.0.1->comet_ml) (5.0.6)\n",
            "Requirement already satisfied: idna<3,>=2.5 in /usr/local/lib/python3.7/dist-packages (from requests>=2.18.4->comet_ml) (2.10)\n",
            "Requirement already satisfied: chardet<4,>=3.0.2 in /usr/local/lib/python3.7/dist-packages (from requests>=2.18.4->comet_ml) (3.0.4)\n",
            "Requirement already satisfied: pandas>=0.19 in /usr/local/lib/python3.7/dist-packages (from pandas_profiling) (1.1.5)\n",
            "Requirement already satisfied: jinja2>=2.8 in /usr/local/lib/python3.7/dist-packages (from pandas_profiling) (2.11.3)\n",
            "Requirement already satisfied: matplotlib>=1.4 in /usr/local/lib/python3.7/dist-packages (from pandas_profiling) (3.2.2)\n",
            "Requirement already satisfied: MarkupSafe>=0.23 in /usr/local/lib/python3.7/dist-packages (from jinja2>=2.8->pandas_profiling) (2.0.1)\n",
            "Requirement already satisfied: cycler>=0.10 in /usr/local/lib/python3.7/dist-packages (from matplotlib>=1.4->pandas_profiling) (0.11.0)\n",
            "Requirement already satisfied: kiwisolver>=1.0.1 in /usr/local/lib/python3.7/dist-packages (from matplotlib>=1.4->pandas_profiling) (1.3.2)\n",
            "Requirement already satisfied: python-dateutil>=2.1 in /usr/local/lib/python3.7/dist-packages (from matplotlib>=1.4->pandas_profiling) (2.8.2)\n",
            "Requirement already satisfied: numpy>=1.11 in /usr/local/lib/python3.7/dist-packages (from matplotlib>=1.4->pandas_profiling) (1.19.5)\n",
            "Requirement already satisfied: pyparsing!=2.0.4,!=2.1.2,!=2.1.6,>=2.0.1 in /usr/local/lib/python3.7/dist-packages (from matplotlib>=1.4->pandas_profiling) (3.0.6)\n",
            "Requirement already satisfied: pytz>=2017.2 in /usr/local/lib/python3.7/dist-packages (from pandas>=0.19->pandas_profiling) (2018.9)\n"
          ]
        }
      ]
    },
    {
      "cell_type": "code",
      "metadata": {
        "id": "zqiioowlaDXX",
        "colab": {
          "base_uri": "https://localhost:8080/"
        },
        "outputId": "29a05f9e-4fd9-47c7-ae7a-5ec814b10325"
      },
      "source": [
        "! git branch"
      ],
      "id": "zqiioowlaDXX",
      "execution_count": 19,
      "outputs": [
        {
          "output_type": "stream",
          "name": "stdout",
          "text": [
            "  best_shot_trial\u001b[m\n",
            "  fengineering2\u001b[m\n",
            "* \u001b[32mmain\u001b[m\n"
          ]
        }
      ]
    },
    {
      "cell_type": "markdown",
      "metadata": {
        "id": "TB9EOTRM-330"
      },
      "source": [
        "# Real **** starts from here"
      ],
      "id": "TB9EOTRM-330"
    },
    {
      "cell_type": "code",
      "metadata": {
        "id": "GbIIYHFg-elV"
      },
      "source": [
        "from ift6758.features.feature_engineering2 import SeasonDataSetTwo\n",
        "from ift6758.data.data_acquisition import Season\n",
        "from ift6758.visualizations.simple_visualization import Utilities \n",
        "import matplotlib.pyplot as plt\n",
        "import numpy as np\n",
        "import seaborn as sns\n",
        "import os\n",
        "import random\n",
        "import pandas as pd\n",
        "import pickle\n",
        "import sys\n",
        "import json\n",
        "\n",
        "import warnings\n",
        "warnings.filterwarnings(\"ignore\")"
      ],
      "id": "GbIIYHFg-elV",
      "execution_count": 25,
      "outputs": []
    },
    {
      "cell_type": "code",
      "metadata": {
        "id": "BHb91bE6_ODa",
        "colab": {
          "base_uri": "https://localhost:8080/"
        },
        "outputId": "cee969e9-216a-4e27-8fa9-acee525692ab"
      },
      "source": [
        "train_years = [2015,2016,2017]\n",
        "valid_years = [2018]\n",
        "test_years=[2019]\n",
        "\n",
        "\n",
        "train_dataset = SeasonDataSetTwo(train_years)\n",
        "valid_dataset = SeasonDataSetTwo(valid_years)\n",
        "train_df = train_dataset.get_features_2()\n",
        "valid_df = valid_dataset.get_features_2()"
      ],
      "id": "BHb91bE6_ODa",
      "execution_count": 26,
      "outputs": [
        {
          "output_type": "stream",
          "name": "stdout",
          "text": [
            "File with all events already Exists, loading from ../ift6758/data/PICKLE//2015_clean_all_events.pkl\n",
            "File already Exists, loading from ../ift6758/data/PICKLE//2015_period_info.pkl\n",
            "File with all events already Exists, loading from ../ift6758/data/PICKLE//2016_clean_all_events.pkl\n",
            "File already Exists, loading from ../ift6758/data/PICKLE//2016_period_info.pkl\n",
            "File with all events already Exists, loading from ../ift6758/data/PICKLE//2017_clean_all_events.pkl\n",
            "File already Exists, loading from ../ift6758/data/PICKLE//2017_period_info.pkl\n",
            "File with all events already Exists, loading from ../ift6758/data/PICKLE//2018_clean_all_events.pkl\n",
            "File already Exists, loading from ../ift6758/data/PICKLE//2018_period_info.pkl\n"
          ]
        }
      ]
    },
    {
      "cell_type": "code",
      "metadata": {
        "id": "utYXLTyoGCDF",
        "colab": {
          "base_uri": "https://localhost:8080/"
        },
        "outputId": "b2a37069-bfd3-4f77-a8ce-dc0aa516c746"
      },
      "source": [
        "test_data = SeasonDataSetTwo(test_years)\n",
        "test_df = test_data.get_features_2()"
      ],
      "id": "utYXLTyoGCDF",
      "execution_count": 27,
      "outputs": [
        {
          "output_type": "stream",
          "name": "stdout",
          "text": [
            "File with all events already Exists, loading from ../ift6758/data/PICKLE//2019_clean_all_events.pkl\n",
            "File already Exists, loading from ../ift6758/data/PICKLE//2019_period_info.pkl\n"
          ]
        }
      ]
    },
    {
      "cell_type": "code",
      "metadata": {
        "id": "zG9tb1EItF9Q",
        "colab": {
          "base_uri": "https://localhost:8080/"
        },
        "outputId": "24be39a4-619e-4091-e066-294a15da2559"
      },
      "source": [
        "train_df.columns"
      ],
      "id": "zG9tb1EItF9Q",
      "execution_count": 28,
      "outputs": [
        {
          "output_type": "execute_result",
          "data": {
            "text/plain": [
              "Index(['result.penaltySeverity', 'result.penaltyMinutes', 'gamePk',\n",
              "       'team.name', 'gamePeriod', 'coordinatesX', 'coordinatesY', 'shotType',\n",
              "       'emptyNet', 'result.strength.name', 'gameSeconds', 'shotDistance',\n",
              "       'shotAngle', 'isGoal', 'lastEventType', 'lastEventCoordinatesX',\n",
              "       'lastEventCoordinatesY', 'timeFromLastEvent', 'distanceFromLastEvent',\n",
              "       'rebound', 'speed', 'changeInShotAngle', 'angleSpeed'],\n",
              "      dtype='object')"
            ]
          },
          "metadata": {},
          "execution_count": 28
        }
      ]
    },
    {
      "cell_type": "markdown",
      "metadata": {
        "id": "0kj5OTviDnFF"
      },
      "source": [
        "# Export the data csv to comet (do not execute for now)"
      ],
      "id": "0kj5OTviDnFF"
    },
    {
      "cell_type": "code",
      "metadata": {
        "id": "OvTG9lsL_Tb_",
        "colab": {
          "base_uri": "https://localhost:8080/"
        },
        "outputId": "8972702c-ca5a-445d-88db-4ea2eab8245a"
      },
      "source": [
        "from comet_ml import Experiment\n",
        "import os\n",
        "\n",
        "\n",
        "\n",
        "exp = Experiment(\n",
        "    api_key=os.environ.get('COMET_API_KEY'),\n",
        "    project_name='milestone-2',\n",
        "    workspace='morph-e',\n",
        "    log_code=True,\n",
        "    log_graph=True,\n",
        ")"
      ],
      "id": "OvTG9lsL_Tb_",
      "execution_count": 69,
      "outputs": [
        {
          "output_type": "stream",
          "name": "stderr",
          "text": [
            "COMET WARNING: As you are running in a Jupyter environment, you will need to call `experiment.end()` when finished to ensure all metrics and code are logged before exiting.\n",
            "COMET INFO: Experiment is live on comet.ml https://www.comet.ml/morph-e/milestone-2/2de74906d5ad42c0913ded110a44d306\n",
            "\n"
          ]
        }
      ]
    },
    {
      "cell_type": "code",
      "metadata": {
        "colab": {
          "base_uri": "https://localhost:8080/"
        },
        "id": "DzdwfiX2H86Q",
        "outputId": "36b645a2-0bcf-45c7-e8dc-9d46cb3e3564"
      },
      "source": [
        "exp.log_dataframe_profile(\n",
        "train_df, \n",
        "name='train_set_from_FE2',  # keep this name\n",
        "dataframe_format='csv'  # ensure you set this flag!\n",
        ")\n",
        "\n",
        "exp.log_dataframe_profile(\n",
        "valid_df, \n",
        "name='valid_set_from_FE2',  # keep this name\n",
        "dataframe_format='csv'  # ensure you set this flag!\n",
        ")\n",
        "\n",
        "exp.log_dataframe_profile(\n",
        "test_df, \n",
        "name='test_set_from_FE2',  # keep this name\n",
        "dataframe_format='csv'  # ensure you set this flag!\n",
        ")\n"
      ],
      "id": "DzdwfiX2H86Q",
      "execution_count": 70,
      "outputs": [
        {
          "output_type": "stream",
          "name": "stderr",
          "text": [
            "COMET WARNING: unable to profile dataframe; ignoring\n",
            "COMET WARNING: unable to profile dataframe; ignoring\n",
            "COMET WARNING: unable to profile dataframe; ignoring\n"
          ]
        },
        {
          "output_type": "execute_result",
          "data": {
            "text/plain": [
              "{'dataframe': {'api': 'https://www.comet.ml/api/rest/v2/experiment/asset/get-asset?assetId=4a1ec1be94d641b6a9fdf5a03ed78719&experimentKey=2de74906d5ad42c0913ded110a44d306',\n",
              "  'assetId': '4a1ec1be94d641b6a9fdf5a03ed78719',\n",
              "  'web': 'https://www.comet.ml/api/asset/download?assetId=4a1ec1be94d641b6a9fdf5a03ed78719&experimentKey=2de74906d5ad42c0913ded110a44d306'},\n",
              " 'profile': None}"
            ]
          },
          "metadata": {},
          "execution_count": 70
        }
      ]
    },
    {
      "cell_type": "markdown",
      "metadata": {
        "id": "i8bloprl_Lpf"
      },
      "source": [
        "# Split and shuffle Data"
      ],
      "id": "i8bloprl_Lpf"
    },
    {
      "cell_type": "code",
      "metadata": {
        "id": "X3EAx_NuFKSt"
      },
      "source": [
        "random.seed(42)"
      ],
      "id": "X3EAx_NuFKSt",
      "execution_count": 36,
      "outputs": []
    },
    {
      "cell_type": "code",
      "metadata": {
        "id": "VCGefzl2EsWz"
      },
      "source": [
        "train_df = train_df.sample(frac=1)\n",
        "test_df = test_df.sample(frac=1)\n",
        "valid_df = valid_df.sample(frac=1)"
      ],
      "id": "VCGefzl2EsWz",
      "execution_count": 37,
      "outputs": []
    },
    {
      "cell_type": "code",
      "metadata": {
        "id": "IE-Wvb62FC8S",
        "colab": {
          "base_uri": "https://localhost:8080/",
          "height": 348
        },
        "outputId": "6795ff1a-42f0-4364-a15c-65a310dc60c1"
      },
      "source": [
        "train_df.head()"
      ],
      "id": "IE-Wvb62FC8S",
      "execution_count": 38,
      "outputs": [
        {
          "output_type": "execute_result",
          "data": {
            "text/html": [
              "<div>\n",
              "<style scoped>\n",
              "    .dataframe tbody tr th:only-of-type {\n",
              "        vertical-align: middle;\n",
              "    }\n",
              "\n",
              "    .dataframe tbody tr th {\n",
              "        vertical-align: top;\n",
              "    }\n",
              "\n",
              "    .dataframe thead th {\n",
              "        text-align: right;\n",
              "    }\n",
              "</style>\n",
              "<table border=\"1\" class=\"dataframe\">\n",
              "  <thead>\n",
              "    <tr style=\"text-align: right;\">\n",
              "      <th></th>\n",
              "      <th>result.penaltySeverity</th>\n",
              "      <th>result.penaltyMinutes</th>\n",
              "      <th>gamePk</th>\n",
              "      <th>team.name</th>\n",
              "      <th>gamePeriod</th>\n",
              "      <th>coordinatesX</th>\n",
              "      <th>coordinatesY</th>\n",
              "      <th>shotType</th>\n",
              "      <th>emptyNet</th>\n",
              "      <th>result.strength.name</th>\n",
              "      <th>gameSeconds</th>\n",
              "      <th>shotDistance</th>\n",
              "      <th>shotAngle</th>\n",
              "      <th>isGoal</th>\n",
              "      <th>lastEventType</th>\n",
              "      <th>lastEventCoordinatesX</th>\n",
              "      <th>lastEventCoordinatesY</th>\n",
              "      <th>timeFromLastEvent</th>\n",
              "      <th>distanceFromLastEvent</th>\n",
              "      <th>rebound</th>\n",
              "      <th>speed</th>\n",
              "      <th>changeInShotAngle</th>\n",
              "      <th>angleSpeed</th>\n",
              "    </tr>\n",
              "  </thead>\n",
              "  <tbody>\n",
              "    <tr>\n",
              "      <th>161039</th>\n",
              "      <td>NaN</td>\n",
              "      <td>NaN</td>\n",
              "      <td>2017020020</td>\n",
              "      <td>New York Islanders</td>\n",
              "      <td>2</td>\n",
              "      <td>-39.0</td>\n",
              "      <td>26.0</td>\n",
              "      <td>Slap Shot</td>\n",
              "      <td>0</td>\n",
              "      <td>NaN</td>\n",
              "      <td>753.0</td>\n",
              "      <td>56.356011</td>\n",
              "      <td>27.474432</td>\n",
              "      <td>0</td>\n",
              "      <td>Stoppage</td>\n",
              "      <td>NaN</td>\n",
              "      <td>NaN</td>\n",
              "      <td>56.0</td>\n",
              "      <td>NaN</td>\n",
              "      <td>False</td>\n",
              "      <td>NaN</td>\n",
              "      <td>0.000000</td>\n",
              "      <td>0.000000</td>\n",
              "    </tr>\n",
              "    <tr>\n",
              "      <th>202671</th>\n",
              "      <td>NaN</td>\n",
              "      <td>NaN</td>\n",
              "      <td>2017020668</td>\n",
              "      <td>Winnipeg Jets</td>\n",
              "      <td>3</td>\n",
              "      <td>78.0</td>\n",
              "      <td>-2.0</td>\n",
              "      <td>Backhand</td>\n",
              "      <td>0</td>\n",
              "      <td>NaN</td>\n",
              "      <td>868.0</td>\n",
              "      <td>11.180340</td>\n",
              "      <td>10.304846</td>\n",
              "      <td>0</td>\n",
              "      <td>Shot</td>\n",
              "      <td>40.0</td>\n",
              "      <td>0.0</td>\n",
              "      <td>48.0</td>\n",
              "      <td>38.052595</td>\n",
              "      <td>True</td>\n",
              "      <td>0.792762</td>\n",
              "      <td>10.304846</td>\n",
              "      <td>0.214684</td>\n",
              "    </tr>\n",
              "    <tr>\n",
              "      <th>245435</th>\n",
              "      <td>NaN</td>\n",
              "      <td>NaN</td>\n",
              "      <td>2017030241</td>\n",
              "      <td>Vegas Golden Knights</td>\n",
              "      <td>2</td>\n",
              "      <td>87.0</td>\n",
              "      <td>6.0</td>\n",
              "      <td>Deflected</td>\n",
              "      <td>0</td>\n",
              "      <td>NaN</td>\n",
              "      <td>1193.0</td>\n",
              "      <td>6.324555</td>\n",
              "      <td>-71.565051</td>\n",
              "      <td>0</td>\n",
              "      <td>Shot</td>\n",
              "      <td>41.0</td>\n",
              "      <td>3.0</td>\n",
              "      <td>2.0</td>\n",
              "      <td>46.097722</td>\n",
              "      <td>True</td>\n",
              "      <td>23.048861</td>\n",
              "      <td>67.988717</td>\n",
              "      <td>33.994358</td>\n",
              "    </tr>\n",
              "    <tr>\n",
              "      <th>135616</th>\n",
              "      <td>NaN</td>\n",
              "      <td>NaN</td>\n",
              "      <td>2016020926</td>\n",
              "      <td>Columbus Blue Jackets</td>\n",
              "      <td>2</td>\n",
              "      <td>-66.0</td>\n",
              "      <td>38.0</td>\n",
              "      <td>Wrist Shot</td>\n",
              "      <td>0</td>\n",
              "      <td>NaN</td>\n",
              "      <td>641.0</td>\n",
              "      <td>44.418465</td>\n",
              "      <td>58.815025</td>\n",
              "      <td>0</td>\n",
              "      <td>Faceoff</td>\n",
              "      <td>-69.0</td>\n",
              "      <td>22.0</td>\n",
              "      <td>22.0</td>\n",
              "      <td>16.278821</td>\n",
              "      <td>False</td>\n",
              "      <td>0.739946</td>\n",
              "      <td>0.000000</td>\n",
              "      <td>0.000000</td>\n",
              "    </tr>\n",
              "    <tr>\n",
              "      <th>148413</th>\n",
              "      <td>NaN</td>\n",
              "      <td>NaN</td>\n",
              "      <td>2016021135</td>\n",
              "      <td>Anaheim Ducks</td>\n",
              "      <td>2</td>\n",
              "      <td>-32.0</td>\n",
              "      <td>21.0</td>\n",
              "      <td>Slap Shot</td>\n",
              "      <td>False</td>\n",
              "      <td>Even</td>\n",
              "      <td>224.0</td>\n",
              "      <td>60.745370</td>\n",
              "      <td>20.224859</td>\n",
              "      <td>1</td>\n",
              "      <td>Faceoff</td>\n",
              "      <td>-69.0</td>\n",
              "      <td>22.0</td>\n",
              "      <td>5.0</td>\n",
              "      <td>37.013511</td>\n",
              "      <td>False</td>\n",
              "      <td>7.402702</td>\n",
              "      <td>0.000000</td>\n",
              "      <td>0.000000</td>\n",
              "    </tr>\n",
              "  </tbody>\n",
              "</table>\n",
              "</div>"
            ],
            "text/plain": [
              "       result.penaltySeverity  ...  angleSpeed\n",
              "161039                    NaN  ...    0.000000\n",
              "202671                    NaN  ...    0.214684\n",
              "245435                    NaN  ...   33.994358\n",
              "135616                    NaN  ...    0.000000\n",
              "148413                    NaN  ...    0.000000\n",
              "\n",
              "[5 rows x 23 columns]"
            ]
          },
          "metadata": {},
          "execution_count": 38
        }
      ]
    },
    {
      "cell_type": "code",
      "metadata": {
        "id": "72IkWlL6JCtE"
      },
      "source": [
        "features = ['gameSeconds','timeFromLastEvent','shotType', 'shotAngle', 'shotDistance','distanceFromLastEvent', 'rebound','speed','changeInShotAngle']\n",
        "label = ['isGoal']"
      ],
      "id": "72IkWlL6JCtE",
      "execution_count": 84,
      "outputs": []
    },
    {
      "cell_type": "code",
      "metadata": {
        "colab": {
          "base_uri": "https://localhost:8080/"
        },
        "id": "sbtgiVdKQ6tq",
        "outputId": "758a0a71-2af2-4b71-bc8e-41aed9f2edb8"
      },
      "source": [
        "train_df[features].isna().any()\n",
        "valid_df[features].isna().any()\n",
        "valid_df[features].isna().any()"
      ],
      "id": "sbtgiVdKQ6tq",
      "execution_count": 85,
      "outputs": [
        {
          "output_type": "execute_result",
          "data": {
            "text/plain": [
              "gameSeconds              False\n",
              "timeFromLastEvent        False\n",
              "shotType                 False\n",
              "shotAngle                False\n",
              "shotDistance             False\n",
              "distanceFromLastEvent    False\n",
              "rebound                  False\n",
              "speed                    False\n",
              "changeInShotAngle        False\n",
              "dtype: bool"
            ]
          },
          "metadata": {},
          "execution_count": 85
        }
      ]
    },
    {
      "cell_type": "markdown",
      "metadata": {
        "id": "LiB5e5M8YFRA"
      },
      "source": [
        "### Replace inf with nan (annoying in normalization)"
      ],
      "id": "LiB5e5M8YFRA"
    },
    {
      "cell_type": "code",
      "metadata": {
        "id": "pRj2nIZCXXLA"
      },
      "source": [
        "train_df.replace([np.inf, -np.inf], np.nan, inplace=True)\n",
        "valid_df.replace([np.inf, -np.inf], np.nan, inplace=True)\n",
        "test_df.replace([np.inf, -np.inf], np.nan, inplace=True)"
      ],
      "id": "pRj2nIZCXXLA",
      "execution_count": 86,
      "outputs": []
    },
    {
      "cell_type": "code",
      "metadata": {
        "id": "kMoH4JD-OP8Z",
        "outputId": "6d42549d-ff0e-4e6d-e8e4-c4afa2a8ba89",
        "colab": {
          "base_uri": "https://localhost:8080/",
          "height": 112
        }
      },
      "source": [
        "#drop rows with nan\n",
        "train_df = train_df[train_df['shotType'].notna()]\n",
        "valid_df = train_df[train_df['shotType'].notna()]\n",
        "test_df = train_df[train_df['shotType'].notna()]\n",
        "\n",
        "train_df = train_df[train_df['shotAngle'].notna()]\n",
        "valid_df = train_df[train_df['shotAngle'].notna()]\n",
        "test_df = train_df[train_df['shotAngle'].notna()]\n",
        "\n",
        "train_df = train_df[train_df['shotDistance'].notna()]\n",
        "valid_df = train_df[train_df['shotDistance'].notna()]\n",
        "test_df = train_df[train_df['shotDistance'].notna()]\n",
        "\n",
        "train_df = train_df[train_df['speed'].notna()]\n",
        "valid_df = train_df[train_df['speed'].notna()]\n",
        "test_df = train_df[train_df['speed'].notna()]\n",
        "\n",
        "train_df = train_df[train_df['changeInShotAngle'].notna()]\n",
        "valid_df = train_df[train_df['changeInShotAngle'].notna()]\n",
        "test_df = train_df[train_df['changeInShotAngle'].notna()]\n",
        "\"\"\"\n",
        "train_df = train_df[train_df['coordinatesX'].notna()]\n",
        "valid_df = train_df[train_df['coordinatesX'].notna()]\n",
        "test_df = train_df[train_df['coordinatesX'].notna()]\n",
        "\n",
        "train_df = train_df[train_df['coordinatesY'].notna()]\n",
        "valid_df = train_df[train_df['coordinatesY'].notna()]\n",
        "test_df = train_df[train_df['coordinatesY'].notna()]\n",
        "\n",
        "train_df = train_df[train_df['lastEventCoordinatesY'].notna()]\n",
        "valid_df = train_df[train_df['lastEventCoordinatesY'].notna()]\n",
        "test_df = train_df[train_df['lastEventCoordinatesY'].notna()]\n",
        "\n",
        "train_df = train_df[train_df['lastEventCoordinatesX'].notna()]\n",
        "valid_df = train_df[train_df['lastEventCoordinatesX'].notna()]\n",
        "test_df = train_df[train_df['lastEventCoordinatesX'].notna()]\n",
        "\n",
        "train_df = train_df[train_df['angleSpeed'].notna()]\n",
        "valid_df = train_df[train_df['angleSpeed'].notna()]\n",
        "test_df = train_df[train_df['angleSpeed'].notna()]\n",
        "\n",
        "\"\"\""
      ],
      "id": "kMoH4JD-OP8Z",
      "execution_count": 87,
      "outputs": [
        {
          "output_type": "execute_result",
          "data": {
            "application/vnd.google.colaboratory.intrinsic+json": {
              "type": "string"
            },
            "text/plain": [
              "\"\\ntrain_df = train_df[train_df['coordinatesX'].notna()]\\nvalid_df = train_df[train_df['coordinatesX'].notna()]\\ntest_df = train_df[train_df['coordinatesX'].notna()]\\n\\ntrain_df = train_df[train_df['coordinatesY'].notna()]\\nvalid_df = train_df[train_df['coordinatesY'].notna()]\\ntest_df = train_df[train_df['coordinatesY'].notna()]\\n\\ntrain_df = train_df[train_df['lastEventCoordinatesY'].notna()]\\nvalid_df = train_df[train_df['lastEventCoordinatesY'].notna()]\\ntest_df = train_df[train_df['lastEventCoordinatesY'].notna()]\\n\\ntrain_df = train_df[train_df['lastEventCoordinatesX'].notna()]\\nvalid_df = train_df[train_df['lastEventCoordinatesX'].notna()]\\ntest_df = train_df[train_df['lastEventCoordinatesX'].notna()]\\n\\ntrain_df = train_df[train_df['angleSpeed'].notna()]\\nvalid_df = train_df[train_df['angleSpeed'].notna()]\\ntest_df = train_df[train_df['angleSpeed'].notna()]\\n\\n\""
            ]
          },
          "metadata": {},
          "execution_count": 87
        }
      ]
    },
    {
      "cell_type": "code",
      "metadata": {
        "colab": {
          "base_uri": "https://localhost:8080/"
        },
        "id": "VB2rx98tRfcM",
        "outputId": "7e738aa9-3ffa-4cf9-90dc-510b2ad98633"
      },
      "source": [
        "train_df[features].isna().any()\n",
        "valid_df[features].isna().any()\n",
        "valid_df[features].isna().any()"
      ],
      "id": "VB2rx98tRfcM",
      "execution_count": 88,
      "outputs": [
        {
          "output_type": "execute_result",
          "data": {
            "text/plain": [
              "gameSeconds              False\n",
              "timeFromLastEvent        False\n",
              "shotType                 False\n",
              "shotAngle                False\n",
              "shotDistance             False\n",
              "distanceFromLastEvent    False\n",
              "rebound                  False\n",
              "speed                    False\n",
              "changeInShotAngle        False\n",
              "dtype: bool"
            ]
          },
          "metadata": {},
          "execution_count": 88
        }
      ]
    },
    {
      "cell_type": "code",
      "metadata": {
        "id": "GD8YNmGS_9x_",
        "colab": {
          "base_uri": "https://localhost:8080/"
        },
        "outputId": "8c63b530-2c35-478b-a542-2645b7d305f2"
      },
      "source": [
        "X_train = train_df[features]\n",
        "y_train = train_df[label]\n",
        "\n",
        "X_valid = valid_df[features]\n",
        "y_valid = valid_df[label]\n",
        "\n",
        "X_test = test_df[features]\n",
        "y_test = test_df[label]\n",
        "\n",
        "X_train, y_train, X_valid, y_valid"
      ],
      "id": "GD8YNmGS_9x_",
      "execution_count": 89,
      "outputs": [
        {
          "output_type": "execute_result",
          "data": {
            "text/plain": [
              "(        gameSeconds  timeFromLastEvent  ...      speed  changeInShotAngle\n",
              " 202671        868.0               48.0  ...   0.792762          10.304846\n",
              " 245435       1193.0                2.0  ...  23.048861          67.988717\n",
              " 135616        641.0               22.0  ...   0.739946           0.000000\n",
              " 148413        224.0                5.0  ...   7.402702           0.000000\n",
              " 204253        645.0                7.0  ...  14.766896           0.000000\n",
              " ...             ...                ...  ...        ...                ...\n",
              " 127872        221.0               48.0  ...   0.968470           0.000000\n",
              " 110986        149.0               18.0  ...   8.947205          93.860733\n",
              " 236986        421.0               21.0  ...   7.382335          58.799485\n",
              " 226028        816.0               11.0  ...   6.961524           5.906141\n",
              " 8566          365.0                2.0  ...   1.500000           0.000000\n",
              " \n",
              " [238046 rows x 9 columns],         isGoal\n",
              " 202671       0\n",
              " 245435       0\n",
              " 135616       0\n",
              " 148413       1\n",
              " 204253       0\n",
              " ...        ...\n",
              " 127872       0\n",
              " 110986       0\n",
              " 236986       0\n",
              " 226028       0\n",
              " 8566         0\n",
              " \n",
              " [238046 rows x 1 columns],         gameSeconds  timeFromLastEvent  ...      speed  changeInShotAngle\n",
              " 202671        868.0               48.0  ...   0.792762          10.304846\n",
              " 245435       1193.0                2.0  ...  23.048861          67.988717\n",
              " 135616        641.0               22.0  ...   0.739946           0.000000\n",
              " 148413        224.0                5.0  ...   7.402702           0.000000\n",
              " 204253        645.0                7.0  ...  14.766896           0.000000\n",
              " ...             ...                ...  ...        ...                ...\n",
              " 127872        221.0               48.0  ...   0.968470           0.000000\n",
              " 110986        149.0               18.0  ...   8.947205          93.860733\n",
              " 236986        421.0               21.0  ...   7.382335          58.799485\n",
              " 226028        816.0               11.0  ...   6.961524           5.906141\n",
              " 8566          365.0                2.0  ...   1.500000           0.000000\n",
              " \n",
              " [238046 rows x 9 columns],         isGoal\n",
              " 202671       0\n",
              " 245435       0\n",
              " 135616       0\n",
              " 148413       1\n",
              " 204253       0\n",
              " ...        ...\n",
              " 127872       0\n",
              " 110986       0\n",
              " 236986       0\n",
              " 226028       0\n",
              " 8566         0\n",
              " \n",
              " [238046 rows x 1 columns])"
            ]
          },
          "metadata": {},
          "execution_count": 89
        }
      ]
    },
    {
      "cell_type": "markdown",
      "metadata": {
        "id": "IPckRPfMBNmS"
      },
      "source": [
        "### One Hot encode the shot type (I want to refer on the fact that the shot type affect the goal)"
      ],
      "id": "IPckRPfMBNmS"
    },
    {
      "cell_type": "code",
      "metadata": {
        "id": "xYi-kcc40ewe",
        "colab": {
          "base_uri": "https://localhost:8080/"
        },
        "outputId": "564905fb-65da-4c15-dba9-121a01f9e140"
      },
      "source": [
        "X_train['shotType'].unique()"
      ],
      "id": "xYi-kcc40ewe",
      "execution_count": 90,
      "outputs": [
        {
          "output_type": "execute_result",
          "data": {
            "text/plain": [
              "array(['Backhand', 'Deflected', 'Wrist Shot', 'Slap Shot', 'Snap Shot',\n",
              "       'Tip-In', 'Wrap-around'], dtype=object)"
            ]
          },
          "metadata": {},
          "execution_count": 90
        }
      ]
    },
    {
      "cell_type": "code",
      "metadata": {
        "id": "UbKEX4EwBJaR"
      },
      "source": [
        "dum_train = pd.get_dummies(X_train['shotType'], prefix='Shot',dtype=int)\n",
        "dum_valid = pd.get_dummies(X_valid['shotType'], prefix='Shot',dtype=int)\n",
        "dum_test = pd.get_dummies(X_test['shotType'], prefix='Shot',dtype=int)"
      ],
      "id": "UbKEX4EwBJaR",
      "execution_count": 91,
      "outputs": []
    },
    {
      "cell_type": "code",
      "metadata": {
        "id": "wjqJnqntR4oS"
      },
      "source": [
        "X_train = pd.concat([X_train, dum_train], axis=1)\n",
        "X_valid = pd.concat([X_valid, dum_valid], axis=1)\n",
        "X_test = pd.concat([X_test, dum_test], axis=1)"
      ],
      "id": "wjqJnqntR4oS",
      "execution_count": 92,
      "outputs": []
    },
    {
      "cell_type": "code",
      "metadata": {
        "colab": {
          "base_uri": "https://localhost:8080/"
        },
        "id": "ZkzKhocsTR-z",
        "outputId": "66c61d24-11fd-451b-e9a0-77997e24bc60"
      },
      "source": [
        "#check if no nans\n",
        "X_train.isna().any(), X_valid.isna().any(), X_test.isna().any()"
      ],
      "id": "ZkzKhocsTR-z",
      "execution_count": 93,
      "outputs": [
        {
          "output_type": "execute_result",
          "data": {
            "text/plain": [
              "(gameSeconds              False\n",
              " timeFromLastEvent        False\n",
              " shotType                 False\n",
              " shotAngle                False\n",
              " shotDistance             False\n",
              " distanceFromLastEvent    False\n",
              " rebound                  False\n",
              " speed                    False\n",
              " changeInShotAngle        False\n",
              " Shot_Backhand            False\n",
              " Shot_Deflected           False\n",
              " Shot_Slap Shot           False\n",
              " Shot_Snap Shot           False\n",
              " Shot_Tip-In              False\n",
              " Shot_Wrap-around         False\n",
              " Shot_Wrist Shot          False\n",
              " dtype: bool, gameSeconds              False\n",
              " timeFromLastEvent        False\n",
              " shotType                 False\n",
              " shotAngle                False\n",
              " shotDistance             False\n",
              " distanceFromLastEvent    False\n",
              " rebound                  False\n",
              " speed                    False\n",
              " changeInShotAngle        False\n",
              " Shot_Backhand            False\n",
              " Shot_Deflected           False\n",
              " Shot_Slap Shot           False\n",
              " Shot_Snap Shot           False\n",
              " Shot_Tip-In              False\n",
              " Shot_Wrap-around         False\n",
              " Shot_Wrist Shot          False\n",
              " dtype: bool, gameSeconds              False\n",
              " timeFromLastEvent        False\n",
              " shotType                 False\n",
              " shotAngle                False\n",
              " shotDistance             False\n",
              " distanceFromLastEvent    False\n",
              " rebound                  False\n",
              " speed                    False\n",
              " changeInShotAngle        False\n",
              " Shot_Backhand            False\n",
              " Shot_Deflected           False\n",
              " Shot_Slap Shot           False\n",
              " Shot_Snap Shot           False\n",
              " Shot_Tip-In              False\n",
              " Shot_Wrap-around         False\n",
              " Shot_Wrist Shot          False\n",
              " dtype: bool)"
            ]
          },
          "metadata": {},
          "execution_count": 93
        }
      ]
    },
    {
      "cell_type": "code",
      "metadata": {
        "id": "xEOoJtHCT1OK"
      },
      "source": [
        "X_train = X_train.drop(columns='shotType')\n",
        "X_valid = X_valid.drop(columns='shotType')\n",
        "X_test = X_test.drop(columns='shotType')"
      ],
      "id": "xEOoJtHCT1OK",
      "execution_count": 94,
      "outputs": []
    },
    {
      "cell_type": "markdown",
      "metadata": {
        "id": "md1L-3Wowpi6"
      },
      "source": [
        "## Do the same for gamePeriod (**NOT NOW**)"
      ],
      "id": "md1L-3Wowpi6"
    },
    {
      "cell_type": "code",
      "metadata": {
        "id": "bqkPl4lxwlNK",
        "colab": {
          "base_uri": "https://localhost:8080/"
        },
        "outputId": "993c923f-3148-477d-9c34-56ac72bca89f"
      },
      "source": [
        "dum_train = pd.get_dummies(X_train['gamePeriod'], prefix='Period',dtype=int)\n",
        "dum_valid = pd.get_dummies(X_valid['gamePeriod'], prefix='Period',dtype=int)\n",
        "dum_test = pd.get_dummies(X_test['gamePeriod'], prefix='Period',dtype=int)\n",
        "\n",
        "X_train = pd.concat([X_train, dum_train], axis=1)\n",
        "X_valid = pd.concat([X_valid, dum_valid], axis=1)\n",
        "X_test = pd.concat([X_test, dum_test], axis=1)\n",
        "\n",
        "#check if no nans\n",
        "X_train.isna().any(), X_valid.isna().any(), X_test.isna().any()"
      ],
      "id": "bqkPl4lxwlNK",
      "execution_count": null,
      "outputs": [
        {
          "output_type": "execute_result",
          "data": {
            "text/plain": [
              "(gameSeconds              False\n",
              " timeFromLastEvent        False\n",
              " gamePeriod               False\n",
              " shotAngle                False\n",
              " coordinatesX             False\n",
              " coordinatesY             False\n",
              " shotDistance             False\n",
              " lastEventCoordinatesX    False\n",
              " lastEventCoordinatesY    False\n",
              " distanceFromLastEvent    False\n",
              " rebound                  False\n",
              " speed                    False\n",
              " changeInShotAngle        False\n",
              " Shot_Backhand            False\n",
              " Shot_Deflected           False\n",
              " Shot_Slap Shot           False\n",
              " Shot_Snap Shot           False\n",
              " Shot_Tip-In              False\n",
              " Shot_Wrap-around         False\n",
              " Shot_Wrist Shot          False\n",
              " Period_1                 False\n",
              " Period_2                 False\n",
              " Period_3                 False\n",
              " Period_4                 False\n",
              " Period_5                 False\n",
              " Period_6                 False\n",
              " dtype: bool, gameSeconds              False\n",
              " timeFromLastEvent        False\n",
              " gamePeriod               False\n",
              " shotAngle                False\n",
              " coordinatesX             False\n",
              " coordinatesY             False\n",
              " shotDistance             False\n",
              " lastEventCoordinatesX    False\n",
              " lastEventCoordinatesY    False\n",
              " distanceFromLastEvent    False\n",
              " rebound                  False\n",
              " speed                    False\n",
              " changeInShotAngle        False\n",
              " Shot_Backhand            False\n",
              " Shot_Deflected           False\n",
              " Shot_Slap Shot           False\n",
              " Shot_Snap Shot           False\n",
              " Shot_Tip-In              False\n",
              " Shot_Wrap-around         False\n",
              " Shot_Wrist Shot          False\n",
              " Period_1                 False\n",
              " Period_2                 False\n",
              " Period_3                 False\n",
              " Period_4                 False\n",
              " Period_5                 False\n",
              " Period_6                 False\n",
              " dtype: bool, gameSeconds              False\n",
              " timeFromLastEvent        False\n",
              " gamePeriod               False\n",
              " shotAngle                False\n",
              " coordinatesX             False\n",
              " coordinatesY             False\n",
              " shotDistance             False\n",
              " lastEventCoordinatesX    False\n",
              " lastEventCoordinatesY    False\n",
              " distanceFromLastEvent    False\n",
              " rebound                  False\n",
              " speed                    False\n",
              " changeInShotAngle        False\n",
              " Shot_Backhand            False\n",
              " Shot_Deflected           False\n",
              " Shot_Slap Shot           False\n",
              " Shot_Snap Shot           False\n",
              " Shot_Tip-In              False\n",
              " Shot_Wrap-around         False\n",
              " Shot_Wrist Shot          False\n",
              " Period_1                 False\n",
              " Period_2                 False\n",
              " Period_3                 False\n",
              " Period_4                 False\n",
              " Period_5                 False\n",
              " Period_6                 False\n",
              " dtype: bool)"
            ]
          },
          "metadata": {},
          "execution_count": 29
        }
      ]
    },
    {
      "cell_type": "code",
      "metadata": {
        "id": "SAYkWau0xRML"
      },
      "source": [
        "#drop gamePeriod\n",
        "X_train = X_train.drop(columns='gamePeriod')\n",
        "X_valid = X_valid.drop(columns='gamePeriod')\n",
        "X_test = X_test.drop(columns='gamePeriod')"
      ],
      "id": "SAYkWau0xRML",
      "execution_count": null,
      "outputs": []
    },
    {
      "cell_type": "markdown",
      "metadata": {
        "id": "qkMP6uMUHZjK"
      },
      "source": [
        "# Change rebound feature"
      ],
      "id": "qkMP6uMUHZjK"
    },
    {
      "cell_type": "code",
      "metadata": {
        "id": "qrbQkwBdDSBn"
      },
      "source": [
        "X_train['rebound'] = X_train['rebound'].astype(int)\n",
        "X_valid['rebound'] = X_valid['rebound'].astype(int)\n",
        "X_test['rebound'] = X_test['rebound'].astype(int)"
      ],
      "id": "qrbQkwBdDSBn",
      "execution_count": 95,
      "outputs": []
    },
    {
      "cell_type": "code",
      "metadata": {
        "id": "Br-EHuqUEk65",
        "colab": {
          "base_uri": "https://localhost:8080/",
          "height": 243
        },
        "outputId": "a87b9218-2305-4e9a-841f-c42268a01194"
      },
      "source": [
        "X_test.head()"
      ],
      "id": "Br-EHuqUEk65",
      "execution_count": 96,
      "outputs": [
        {
          "output_type": "execute_result",
          "data": {
            "text/html": [
              "<div>\n",
              "<style scoped>\n",
              "    .dataframe tbody tr th:only-of-type {\n",
              "        vertical-align: middle;\n",
              "    }\n",
              "\n",
              "    .dataframe tbody tr th {\n",
              "        vertical-align: top;\n",
              "    }\n",
              "\n",
              "    .dataframe thead th {\n",
              "        text-align: right;\n",
              "    }\n",
              "</style>\n",
              "<table border=\"1\" class=\"dataframe\">\n",
              "  <thead>\n",
              "    <tr style=\"text-align: right;\">\n",
              "      <th></th>\n",
              "      <th>gameSeconds</th>\n",
              "      <th>timeFromLastEvent</th>\n",
              "      <th>shotAngle</th>\n",
              "      <th>shotDistance</th>\n",
              "      <th>distanceFromLastEvent</th>\n",
              "      <th>rebound</th>\n",
              "      <th>speed</th>\n",
              "      <th>changeInShotAngle</th>\n",
              "      <th>Shot_Backhand</th>\n",
              "      <th>Shot_Deflected</th>\n",
              "      <th>Shot_Slap Shot</th>\n",
              "      <th>Shot_Snap Shot</th>\n",
              "      <th>Shot_Tip-In</th>\n",
              "      <th>Shot_Wrap-around</th>\n",
              "      <th>Shot_Wrist Shot</th>\n",
              "    </tr>\n",
              "  </thead>\n",
              "  <tbody>\n",
              "    <tr>\n",
              "      <th>202671</th>\n",
              "      <td>868.0</td>\n",
              "      <td>48.0</td>\n",
              "      <td>10.304846</td>\n",
              "      <td>11.180340</td>\n",
              "      <td>38.052595</td>\n",
              "      <td>1</td>\n",
              "      <td>0.792762</td>\n",
              "      <td>10.304846</td>\n",
              "      <td>1</td>\n",
              "      <td>0</td>\n",
              "      <td>0</td>\n",
              "      <td>0</td>\n",
              "      <td>0</td>\n",
              "      <td>0</td>\n",
              "      <td>0</td>\n",
              "    </tr>\n",
              "    <tr>\n",
              "      <th>245435</th>\n",
              "      <td>1193.0</td>\n",
              "      <td>2.0</td>\n",
              "      <td>-71.565051</td>\n",
              "      <td>6.324555</td>\n",
              "      <td>46.097722</td>\n",
              "      <td>1</td>\n",
              "      <td>23.048861</td>\n",
              "      <td>67.988717</td>\n",
              "      <td>0</td>\n",
              "      <td>1</td>\n",
              "      <td>0</td>\n",
              "      <td>0</td>\n",
              "      <td>0</td>\n",
              "      <td>0</td>\n",
              "      <td>0</td>\n",
              "    </tr>\n",
              "    <tr>\n",
              "      <th>135616</th>\n",
              "      <td>641.0</td>\n",
              "      <td>22.0</td>\n",
              "      <td>58.815025</td>\n",
              "      <td>44.418465</td>\n",
              "      <td>16.278821</td>\n",
              "      <td>0</td>\n",
              "      <td>0.739946</td>\n",
              "      <td>0.000000</td>\n",
              "      <td>0</td>\n",
              "      <td>0</td>\n",
              "      <td>0</td>\n",
              "      <td>0</td>\n",
              "      <td>0</td>\n",
              "      <td>0</td>\n",
              "      <td>1</td>\n",
              "    </tr>\n",
              "    <tr>\n",
              "      <th>148413</th>\n",
              "      <td>224.0</td>\n",
              "      <td>5.0</td>\n",
              "      <td>20.224859</td>\n",
              "      <td>60.745370</td>\n",
              "      <td>37.013511</td>\n",
              "      <td>0</td>\n",
              "      <td>7.402702</td>\n",
              "      <td>0.000000</td>\n",
              "      <td>0</td>\n",
              "      <td>0</td>\n",
              "      <td>1</td>\n",
              "      <td>0</td>\n",
              "      <td>0</td>\n",
              "      <td>0</td>\n",
              "      <td>0</td>\n",
              "    </tr>\n",
              "    <tr>\n",
              "      <th>204253</th>\n",
              "      <td>645.0</td>\n",
              "      <td>7.0</td>\n",
              "      <td>-9.272602</td>\n",
              "      <td>49.648766</td>\n",
              "      <td>103.368274</td>\n",
              "      <td>0</td>\n",
              "      <td>14.766896</td>\n",
              "      <td>0.000000</td>\n",
              "      <td>0</td>\n",
              "      <td>0</td>\n",
              "      <td>1</td>\n",
              "      <td>0</td>\n",
              "      <td>0</td>\n",
              "      <td>0</td>\n",
              "      <td>0</td>\n",
              "    </tr>\n",
              "  </tbody>\n",
              "</table>\n",
              "</div>"
            ],
            "text/plain": [
              "        gameSeconds  timeFromLastEvent  ...  Shot_Wrap-around  Shot_Wrist Shot\n",
              "202671        868.0               48.0  ...                 0                0\n",
              "245435       1193.0                2.0  ...                 0                0\n",
              "135616        641.0               22.0  ...                 0                1\n",
              "148413        224.0                5.0  ...                 0                0\n",
              "204253        645.0                7.0  ...                 0                0\n",
              "\n",
              "[5 rows x 15 columns]"
            ]
          },
          "metadata": {},
          "execution_count": 96
        }
      ]
    },
    {
      "cell_type": "markdown",
      "metadata": {
        "id": "p1fedCBRVXRa"
      },
      "source": [
        "# Normalize numerical data "
      ],
      "id": "p1fedCBRVXRa"
    },
    {
      "cell_type": "code",
      "metadata": {
        "id": "eG5RixUBVbxJ"
      },
      "source": [
        "num = ['gameSeconds','timeFromLastEvent', 'shotAngle', 'shotDistance','distanceFromLastEvent','speed','changeInShotAngle']"
      ],
      "id": "eG5RixUBVbxJ",
      "execution_count": 97,
      "outputs": []
    },
    {
      "cell_type": "code",
      "metadata": {
        "id": "lVyUXeSCWRTE"
      },
      "source": [
        "from sklearn.preprocessing import StandardScaler\n",
        "\n",
        "scaler = StandardScaler()\n",
        "scaler.fit(X_train[num])\n",
        "\n",
        "X_train[num] = scaler.transform(X_train[num])\n",
        "X_valid[num] = scaler.transform(X_valid[num])\n",
        "X_test[num] = scaler.transform(X_test[num])"
      ],
      "id": "lVyUXeSCWRTE",
      "execution_count": 98,
      "outputs": []
    },
    {
      "cell_type": "code",
      "metadata": {
        "colab": {
          "base_uri": "https://localhost:8080/",
          "height": 461
        },
        "id": "9t_C_0JVYcqu",
        "outputId": "cd25c902-6962-46be-9b4e-6c818e012a73"
      },
      "source": [
        "X_test"
      ],
      "id": "9t_C_0JVYcqu",
      "execution_count": 99,
      "outputs": [
        {
          "output_type": "execute_result",
          "data": {
            "text/html": [
              "<div>\n",
              "<style scoped>\n",
              "    .dataframe tbody tr th:only-of-type {\n",
              "        vertical-align: middle;\n",
              "    }\n",
              "\n",
              "    .dataframe tbody tr th {\n",
              "        vertical-align: top;\n",
              "    }\n",
              "\n",
              "    .dataframe thead th {\n",
              "        text-align: right;\n",
              "    }\n",
              "</style>\n",
              "<table border=\"1\" class=\"dataframe\">\n",
              "  <thead>\n",
              "    <tr style=\"text-align: right;\">\n",
              "      <th></th>\n",
              "      <th>gameSeconds</th>\n",
              "      <th>timeFromLastEvent</th>\n",
              "      <th>shotAngle</th>\n",
              "      <th>shotDistance</th>\n",
              "      <th>distanceFromLastEvent</th>\n",
              "      <th>rebound</th>\n",
              "      <th>speed</th>\n",
              "      <th>changeInShotAngle</th>\n",
              "      <th>Shot_Backhand</th>\n",
              "      <th>Shot_Deflected</th>\n",
              "      <th>Shot_Slap Shot</th>\n",
              "      <th>Shot_Snap Shot</th>\n",
              "      <th>Shot_Tip-In</th>\n",
              "      <th>Shot_Wrap-around</th>\n",
              "      <th>Shot_Wrist Shot</th>\n",
              "    </tr>\n",
              "  </thead>\n",
              "  <tbody>\n",
              "    <tr>\n",
              "      <th>202671</th>\n",
              "      <td>0.786042</td>\n",
              "      <td>2.195710</td>\n",
              "      <td>0.258402</td>\n",
              "      <td>-0.907485</td>\n",
              "      <td>-0.519973</td>\n",
              "      <td>1</td>\n",
              "      <td>-0.714021</td>\n",
              "      <td>0.136638</td>\n",
              "      <td>1</td>\n",
              "      <td>0</td>\n",
              "      <td>0</td>\n",
              "      <td>0</td>\n",
              "      <td>0</td>\n",
              "      <td>0</td>\n",
              "      <td>0</td>\n",
              "    </tr>\n",
              "    <tr>\n",
              "      <th>245435</th>\n",
              "      <td>1.719435</td>\n",
              "      <td>-0.916354</td>\n",
              "      <td>-1.985852</td>\n",
              "      <td>-1.060167</td>\n",
              "      <td>-0.345607</td>\n",
              "      <td>1</td>\n",
              "      <td>1.493620</td>\n",
              "      <td>2.937941</td>\n",
              "      <td>0</td>\n",
              "      <td>1</td>\n",
              "      <td>0</td>\n",
              "      <td>0</td>\n",
              "      <td>0</td>\n",
              "      <td>0</td>\n",
              "      <td>0</td>\n",
              "    </tr>\n",
              "    <tr>\n",
              "      <th>135616</th>\n",
              "      <td>0.134103</td>\n",
              "      <td>0.436717</td>\n",
              "      <td>1.588184</td>\n",
              "      <td>0.137635</td>\n",
              "      <td>-0.991890</td>\n",
              "      <td>0</td>\n",
              "      <td>-0.719260</td>\n",
              "      <td>-0.363797</td>\n",
              "      <td>0</td>\n",
              "      <td>0</td>\n",
              "      <td>0</td>\n",
              "      <td>0</td>\n",
              "      <td>0</td>\n",
              "      <td>0</td>\n",
              "      <td>1</td>\n",
              "    </tr>\n",
              "    <tr>\n",
              "      <th>148413</th>\n",
              "      <td>-1.063512</td>\n",
              "      <td>-0.713393</td>\n",
              "      <td>0.530334</td>\n",
              "      <td>0.651009</td>\n",
              "      <td>-0.542494</td>\n",
              "      <td>0</td>\n",
              "      <td>-0.058364</td>\n",
              "      <td>-0.363797</td>\n",
              "      <td>0</td>\n",
              "      <td>0</td>\n",
              "      <td>1</td>\n",
              "      <td>0</td>\n",
              "      <td>0</td>\n",
              "      <td>0</td>\n",
              "      <td>0</td>\n",
              "    </tr>\n",
              "    <tr>\n",
              "      <th>204253</th>\n",
              "      <td>0.145591</td>\n",
              "      <td>-0.578086</td>\n",
              "      <td>-0.278264</td>\n",
              "      <td>0.302094</td>\n",
              "      <td>0.895653</td>\n",
              "      <td>0</td>\n",
              "      <td>0.672110</td>\n",
              "      <td>-0.363797</td>\n",
              "      <td>0</td>\n",
              "      <td>0</td>\n",
              "      <td>1</td>\n",
              "      <td>0</td>\n",
              "      <td>0</td>\n",
              "      <td>0</td>\n",
              "      <td>0</td>\n",
              "    </tr>\n",
              "    <tr>\n",
              "      <th>...</th>\n",
              "      <td>...</td>\n",
              "      <td>...</td>\n",
              "      <td>...</td>\n",
              "      <td>...</td>\n",
              "      <td>...</td>\n",
              "      <td>...</td>\n",
              "      <td>...</td>\n",
              "      <td>...</td>\n",
              "      <td>...</td>\n",
              "      <td>...</td>\n",
              "      <td>...</td>\n",
              "      <td>...</td>\n",
              "      <td>...</td>\n",
              "      <td>...</td>\n",
              "      <td>...</td>\n",
              "    </tr>\n",
              "    <tr>\n",
              "      <th>127872</th>\n",
              "      <td>-1.072128</td>\n",
              "      <td>2.195710</td>\n",
              "      <td>-0.983296</td>\n",
              "      <td>-0.875217</td>\n",
              "      <td>-0.337179</td>\n",
              "      <td>0</td>\n",
              "      <td>-0.696593</td>\n",
              "      <td>-0.363797</td>\n",
              "      <td>0</td>\n",
              "      <td>0</td>\n",
              "      <td>0</td>\n",
              "      <td>0</td>\n",
              "      <td>0</td>\n",
              "      <td>0</td>\n",
              "      <td>1</td>\n",
              "    </tr>\n",
              "    <tr>\n",
              "      <th>110986</th>\n",
              "      <td>-1.278910</td>\n",
              "      <td>0.166103</td>\n",
              "      <td>0.866035</td>\n",
              "      <td>-0.849061</td>\n",
              "      <td>2.145818</td>\n",
              "      <td>1</td>\n",
              "      <td>0.094839</td>\n",
              "      <td>4.194365</td>\n",
              "      <td>1</td>\n",
              "      <td>0</td>\n",
              "      <td>0</td>\n",
              "      <td>0</td>\n",
              "      <td>0</td>\n",
              "      <td>0</td>\n",
              "      <td>0</td>\n",
              "    </tr>\n",
              "    <tr>\n",
              "      <th>236986</th>\n",
              "      <td>-0.497732</td>\n",
              "      <td>0.369064</td>\n",
              "      <td>-0.839459</td>\n",
              "      <td>-0.752023</td>\n",
              "      <td>2.015328</td>\n",
              "      <td>1</td>\n",
              "      <td>-0.060384</td>\n",
              "      <td>2.491684</td>\n",
              "      <td>0</td>\n",
              "      <td>0</td>\n",
              "      <td>0</td>\n",
              "      <td>0</td>\n",
              "      <td>0</td>\n",
              "      <td>0</td>\n",
              "      <td>1</td>\n",
              "    </tr>\n",
              "    <tr>\n",
              "      <th>226028</th>\n",
              "      <td>0.636699</td>\n",
              "      <td>-0.307472</td>\n",
              "      <td>-0.529426</td>\n",
              "      <td>-0.065839</td>\n",
              "      <td>0.314984</td>\n",
              "      <td>1</td>\n",
              "      <td>-0.102126</td>\n",
              "      <td>-0.076977</td>\n",
              "      <td>0</td>\n",
              "      <td>0</td>\n",
              "      <td>0</td>\n",
              "      <td>0</td>\n",
              "      <td>0</td>\n",
              "      <td>0</td>\n",
              "      <td>1</td>\n",
              "    </tr>\n",
              "    <tr>\n",
              "      <th>8566</th>\n",
              "      <td>-0.658563</td>\n",
              "      <td>-0.916354</td>\n",
              "      <td>0.051167</td>\n",
              "      <td>3.336979</td>\n",
              "      <td>-1.279690</td>\n",
              "      <td>0</td>\n",
              "      <td>-0.643869</td>\n",
              "      <td>-0.363797</td>\n",
              "      <td>0</td>\n",
              "      <td>0</td>\n",
              "      <td>0</td>\n",
              "      <td>1</td>\n",
              "      <td>0</td>\n",
              "      <td>0</td>\n",
              "      <td>0</td>\n",
              "    </tr>\n",
              "  </tbody>\n",
              "</table>\n",
              "<p>238046 rows × 15 columns</p>\n",
              "</div>"
            ],
            "text/plain": [
              "        gameSeconds  timeFromLastEvent  ...  Shot_Wrap-around  Shot_Wrist Shot\n",
              "202671     0.786042           2.195710  ...                 0                0\n",
              "245435     1.719435          -0.916354  ...                 0                0\n",
              "135616     0.134103           0.436717  ...                 0                1\n",
              "148413    -1.063512          -0.713393  ...                 0                0\n",
              "204253     0.145591          -0.578086  ...                 0                0\n",
              "...             ...                ...  ...               ...              ...\n",
              "127872    -1.072128           2.195710  ...                 0                1\n",
              "110986    -1.278910           0.166103  ...                 0                0\n",
              "236986    -0.497732           0.369064  ...                 0                1\n",
              "226028     0.636699          -0.307472  ...                 0                1\n",
              "8566      -0.658563          -0.916354  ...                 0                0\n",
              "\n",
              "[238046 rows x 15 columns]"
            ]
          },
          "metadata": {},
          "execution_count": 99
        }
      ]
    },
    {
      "cell_type": "markdown",
      "metadata": {
        "id": "UXo55o_N1utI"
      },
      "source": [
        "## Export your normalized set on comet"
      ],
      "id": "UXo55o_N1utI"
    },
    {
      "cell_type": "code",
      "metadata": {
        "id": "4ONL8-5S1xlr",
        "outputId": "2a43e59e-8776-47a1-9aba-69c5fbd133ce",
        "colab": {
          "base_uri": "https://localhost:8080/"
        }
      },
      "source": [
        "exp.log_dataframe_profile(\n",
        "X_train, \n",
        "name='normalized_train_features',  # keep this name\n",
        "dataframe_format='csv'  # ensure you set this flag!\n",
        ")\n",
        "\n",
        "exp.log_dataframe_profile(\n",
        "X_valid, \n",
        "name='normalized_valid_features',  # keep this name\n",
        "dataframe_format='csv'  # ensure you set this flag!\n",
        ")\n",
        "\n",
        "exp.log_dataframe_profile(\n",
        "X_test, \n",
        "name='normalized_test_features',  # keep this name\n",
        "dataframe_format='csv'  # ensure you set this flag!\n",
        ")\n"
      ],
      "id": "4ONL8-5S1xlr",
      "execution_count": 100,
      "outputs": [
        {
          "output_type": "stream",
          "name": "stderr",
          "text": [
            "COMET WARNING: unable to profile dataframe; ignoring\n",
            "COMET WARNING: unable to profile dataframe; ignoring\n",
            "COMET WARNING: unable to profile dataframe; ignoring\n"
          ]
        },
        {
          "output_type": "execute_result",
          "data": {
            "text/plain": [
              "{'dataframe': {'api': 'https://www.comet.ml/api/rest/v2/experiment/asset/get-asset?assetId=8007b9fa188245bfa9bd9a6566043160&experimentKey=2de74906d5ad42c0913ded110a44d306',\n",
              "  'assetId': '8007b9fa188245bfa9bd9a6566043160',\n",
              "  'web': 'https://www.comet.ml/api/asset/download?assetId=8007b9fa188245bfa9bd9a6566043160&experimentKey=2de74906d5ad42c0913ded110a44d306'},\n",
              " 'profile': None}"
            ]
          },
          "metadata": {},
          "execution_count": 100
        }
      ]
    },
    {
      "cell_type": "markdown",
      "metadata": {
        "id": "UQVVMq0iJmIs"
      },
      "source": [
        "# Try Random Forest"
      ],
      "id": "UQVVMq0iJmIs"
    },
    {
      "cell_type": "code",
      "metadata": {
        "id": "QMS2ZkPeI3do"
      },
      "source": [
        "from sklearn.ensemble import RandomForestClassifier\n",
        "from sklearn.experimental import enable_halving_search_cv\n",
        "from sklearn.model_selection import HalvingGridSearchCV\n",
        "\n",
        "# Create the parameter grid based on the results of random search \n",
        "param_grid = {\n",
        "    'n_estimators':[50,65,80,100,115,130,150],\n",
        "     'max_depth': [5,6,7,8,9,10,11,12,13,14,15,18]\n",
        "}\n",
        "\n",
        "rf = RandomForestClassifier(criterion='entropy')\n",
        "sh = HalvingGridSearchCV(rf,param_grid, cv=4)\n",
        "model = sh.fit(X_train,y_train)"
      ],
      "id": "QMS2ZkPeI3do",
      "execution_count": 101,
      "outputs": []
    },
    {
      "cell_type": "code",
      "metadata": {
        "id": "iLSfbahVakWy",
        "colab": {
          "base_uri": "https://localhost:8080/"
        },
        "outputId": "1b20207e-2c55-4381-f741-1f3d98a535dc"
      },
      "source": [
        "model.best_estimator_"
      ],
      "id": "iLSfbahVakWy",
      "execution_count": 123,
      "outputs": [
        {
          "output_type": "execute_result",
          "data": {
            "text/plain": [
              "RandomForestClassifier(criterion='entropy', max_depth=5, n_estimators=65)"
            ]
          },
          "metadata": {},
          "execution_count": 123
        }
      ]
    },
    {
      "cell_type": "code",
      "metadata": {
        "id": "nuPU-E-uhptX"
      },
      "source": [
        "y_pred_valid  = model.predict(X_valid)"
      ],
      "id": "nuPU-E-uhptX",
      "execution_count": 103,
      "outputs": []
    },
    {
      "cell_type": "code",
      "metadata": {
        "id": "mPzwKTEhiIPa"
      },
      "source": [
        "y_proba_val = model.predict_proba(X_valid)[:,1] # get the proba of having a goal (pred=1)"
      ],
      "id": "mPzwKTEhiIPa",
      "execution_count": 104,
      "outputs": []
    },
    {
      "cell_type": "code",
      "metadata": {
        "id": "--dZClQLiM63",
        "colab": {
          "base_uri": "https://localhost:8080/"
        },
        "outputId": "39f58a0a-4dd5-4592-c90b-c6c6490efafb"
      },
      "source": [
        "score_ = model.score(X_valid,y_valid)\n",
        "score_"
      ],
      "id": "--dZClQLiM63",
      "execution_count": 105,
      "outputs": [
        {
          "output_type": "execute_result",
          "data": {
            "text/plain": [
              "0.9107819497071995"
            ]
          },
          "metadata": {},
          "execution_count": 105
        }
      ]
    },
    {
      "cell_type": "code",
      "metadata": {
        "id": "-4NtOh_X-q7g"
      },
      "source": [
        "%matplotlib inline\n",
        "plt.close('all')"
      ],
      "id": "-4NtOh_X-q7g",
      "execution_count": 106,
      "outputs": []
    },
    {
      "cell_type": "markdown",
      "metadata": {
        "id": "sVw66t1QhYSZ"
      },
      "source": [
        "# Export model on comet before plotting"
      ],
      "id": "sVw66t1QhYSZ"
    },
    {
      "cell_type": "code",
      "metadata": {
        "id": "IN7rF_wui8LW"
      },
      "source": [
        "weights_dir = \"../ift6758/models/weights\"\n",
        "experiment = \"Random-forest-with-FE2\"\n",
        "predscore_val_dict={}"
      ],
      "id": "IN7rF_wui8LW",
      "execution_count": 107,
      "outputs": []
    },
    {
      "cell_type": "code",
      "metadata": {
        "id": "LDQS_iZvkPTH",
        "colab": {
          "base_uri": "https://localhost:8080/"
        },
        "outputId": "335c0490-606d-42e0-b9b6-878901ffa3d4"
      },
      "source": [
        "!ls .."
      ],
      "id": "LDQS_iZvkPTH",
      "execution_count": 108,
      "outputs": [
        {
          "output_type": "stream",
          "name": "stdout",
          "text": [
            "ift6758  ift6758-project-main\n"
          ]
        }
      ]
    },
    {
      "cell_type": "code",
      "metadata": {
        "id": "0VV3-XKcgDVq",
        "colab": {
          "base_uri": "https://localhost:8080/"
        },
        "outputId": "67075860-3108-435d-8cd1-8e785a362fd0"
      },
      "source": [
        "import joblib\n",
        "\n",
        "predscore_val_dict[experiment]={}\n",
        "predscore_val_dict[experiment]['true_valid_label']=y_valid\n",
        "predscore_val_dict[experiment]['proba']=y_proba_val\n",
        "predscore_val_dict[experiment]['prediction']=y_pred_valid\n",
        "\n",
        "## Dumping model\n",
        "filename=f\"{weights_dir}/{experiment}.pkl\"\n",
        "joblib.dump(model,filename)"
      ],
      "id": "0VV3-XKcgDVq",
      "execution_count": 109,
      "outputs": [
        {
          "output_type": "execute_result",
          "data": {
            "text/plain": [
              "['../ift6758/models/weights/Random-forest-with-FE2.pkl']"
            ]
          },
          "metadata": {},
          "execution_count": 109
        }
      ]
    },
    {
      "cell_type": "code",
      "metadata": {
        "id": "2jcopP6hg6ns",
        "colab": {
          "base_uri": "https://localhost:8080/"
        },
        "outputId": "0ababc5d-e9fb-4432-87e3-a6ab645656b6"
      },
      "source": [
        "exp.log_model(\"Random Forest\", \"../ift6758/models/weights/Random-forest-with-FE2.pkl\")"
      ],
      "id": "2jcopP6hg6ns",
      "execution_count": 110,
      "outputs": [
        {
          "output_type": "execute_result",
          "data": {
            "text/plain": [
              "{'api': 'https://www.comet.ml/api/rest/v2/experiment/asset/get-asset?assetId=ef848f88e1e8484b9400896ac6aead61&experimentKey=2de74906d5ad42c0913ded110a44d306',\n",
              " 'assetId': 'ef848f88e1e8484b9400896ac6aead61',\n",
              " 'web': 'https://www.comet.ml/api/asset/download?assetId=ef848f88e1e8484b9400896ac6aead61&experimentKey=2de74906d5ad42c0913ded110a44d306'}"
            ]
          },
          "metadata": {},
          "execution_count": 110
        }
      ]
    },
    {
      "cell_type": "markdown",
      "metadata": {
        "id": "QTmWpIfSCrou"
      },
      "source": [
        "# Plotting"
      ],
      "id": "QTmWpIfSCrou"
    },
    {
      "cell_type": "code",
      "metadata": {
        "id": "BKMlJxoel-qB",
        "colab": {
          "base_uri": "https://localhost:8080/"
        },
        "outputId": "4a815bd5-8132-4580-8d2a-f4c3111d8aec"
      },
      "source": [
        "# First we will switch branch, the plotting metrics are on main\n",
        "!git checkout main"
      ],
      "id": "BKMlJxoel-qB",
      "execution_count": 111,
      "outputs": [
        {
          "output_type": "stream",
          "name": "stdout",
          "text": [
            "M\tift6758/metrics/plot_metrics.py\n",
            "Already on 'main'\n",
            "Your branch is up to date with 'origin/main'.\n"
          ]
        }
      ]
    },
    {
      "cell_type": "code",
      "metadata": {
        "id": "cbMBlsX2MTWy",
        "colab": {
          "base_uri": "https://localhost:8080/"
        },
        "outputId": "b88fe94d-eaf1-4e1f-dc7e-4c4003bd1959"
      },
      "source": [
        "!git branch"
      ],
      "id": "cbMBlsX2MTWy",
      "execution_count": 112,
      "outputs": [
        {
          "output_type": "stream",
          "name": "stdout",
          "text": [
            "  best_shot_trial\u001b[m\n",
            "  fengineering2\u001b[m\n",
            "* \u001b[32mmain\u001b[m\n"
          ]
        }
      ]
    },
    {
      "cell_type": "code",
      "metadata": {
        "id": "A8QwOHn-DFME",
        "colab": {
          "base_uri": "https://localhost:8080/"
        },
        "outputId": "897f9841-f0a2-4e22-9aa7-0247850d9d17"
      },
      "source": [
        "!git pull"
      ],
      "id": "A8QwOHn-DFME",
      "execution_count": 113,
      "outputs": [
        {
          "output_type": "stream",
          "name": "stdout",
          "text": [
            "Already up to date.\n"
          ]
        }
      ]
    },
    {
      "cell_type": "code",
      "metadata": {
        "id": "R8HElJkGDHr0",
        "colab": {
          "base_uri": "https://localhost:8080/",
          "height": 554
        },
        "outputId": "52ec8cc0-ed25-4246-8edc-244e279c916f"
      },
      "source": [
        "from ift6758.metrics import plot_metrics\n",
        "\n",
        "plot_metrics.plotConfusion(y_valid,y_pred_valid, title='Confusion matrix for Random Forest validation set prediction')"
      ],
      "id": "R8HElJkGDHr0",
      "execution_count": 114,
      "outputs": [
        {
          "output_type": "stream",
          "name": "stdout",
          "text": [
            "              precision    recall  f1-score   support\n",
            "\n",
            "           0       0.91      1.00      0.95    216808\n",
            "           1       0.00      0.00      0.00     21238\n",
            "\n",
            "    accuracy                           0.91    238046\n",
            "   macro avg       0.46      0.50      0.48    238046\n",
            "weighted avg       0.83      0.91      0.87    238046\n",
            "\n"
          ]
        },
        {
          "output_type": "display_data",
          "data": {
            "image/png": "[encoded data removed]",
            "text/plain": [
              "<Figure size 720x360 with 2 Axes>"
            ]
          },
          "metadata": {
            "needs_background": "light"
          }
        }
      ]
    },
    {
      "cell_type": "code",
      "metadata": {
        "id": "HHTlw5E8EFn-",
        "colab": {
          "base_uri": "https://localhost:8080/",
          "height": 298
        },
        "outputId": "e969577f-0f79-47ce-e5a2-e6198de72743"
      },
      "source": [
        "plot_metrics.plot_roc([y_valid],[y_proba_val],[\"Valid set for Rand Forest\"])"
      ],
      "id": "HHTlw5E8EFn-",
      "execution_count": 115,
      "outputs": [
        {
          "output_type": "display_data",
          "data": {
            "image/png": "[encoded data removed]",
            "text/plain": [
              "<Figure size 432x288 with 1 Axes>"
            ]
          },
          "metadata": {
            "needs_background": "light"
          }
        }
      ]
    },
    {
      "cell_type": "code",
      "metadata": {
        "id": "Xqq78vIoM_Tz",
        "colab": {
          "base_uri": "https://localhost:8080/",
          "height": 488
        },
        "outputId": "360f9563-eb49-4e85-ee2d-ebfe921ad39f"
      },
      "source": [
        "plot_metrics.plot_percentile([y_valid],[y_proba_val],bin_width=5,plot_labels=[\"Valid set for Rand Forest\"])"
      ],
      "id": "Xqq78vIoM_Tz",
      "execution_count": 116,
      "outputs": [
        {
          "output_type": "display_data",
          "data": {
            "image/png": "[encoded data removed]",
            "text/plain": [
              "<Figure size 1080x540 with 2 Axes>"
            ]
          },
          "metadata": {
            "needs_background": "light"
          }
        }
      ]
    },
    {
      "cell_type": "code",
      "metadata": {
        "id": "nXqLoooItwiz",
        "colab": {
          "base_uri": "https://localhost:8080/",
          "height": 488
        },
        "outputId": "5821eaab-556b-4340-fa70-5e8867553062"
      },
      "source": [
        "plot_metrics.plot_calibration([y_valid],[y_proba_val],plot_labels=[\"Valid set for Rand Forest\"])"
      ],
      "id": "nXqLoooItwiz",
      "execution_count": 117,
      "outputs": [
        {
          "output_type": "display_data",
          "data": {
            "image/png": "[encoded data removed]",
            "text/plain": [
              "<Figure size 540x540 with 1 Axes>"
            ]
          },
          "metadata": {
            "needs_background": "light"
          }
        }
      ]
    },
    {
      "cell_type": "code",
      "metadata": {
        "id": "xw4nj7GAuImf"
      },
      "source": [
        ""
      ],
      "id": "xw4nj7GAuImf",
      "execution_count": 117,
      "outputs": []
    },
    {
      "cell_type": "markdown",
      "metadata": {
        "id": "tw6uUAph_dbi"
      },
      "source": [
        "# On test set"
      ],
      "id": "tw6uUAph_dbi"
    },
    {
      "cell_type": "code",
      "metadata": {
        "id": "PYRB0oxk_e8x",
        "colab": {
          "base_uri": "https://localhost:8080/"
        },
        "outputId": "1d93cd95-e2eb-4d5e-b6ae-0abef0174dfb"
      },
      "source": [
        "y_pred_test  = model.predict(X_test)\n",
        "y_proba_test = model.predict_proba(X_test)[:,1] # get the proba of having a goal (pred=1)\n",
        "score_test = model.score(X_test,y_test)\n",
        "score_test"
      ],
      "id": "PYRB0oxk_e8x",
      "execution_count": 118,
      "outputs": [
        {
          "data": {
            "text/plain": [
              "0.9107819497071995"
            ]
          },
          "execution_count": null,
          "metadata": {},
          "output_type": "execute_result"
        }
      ]
    },
    {
      "cell_type": "markdown",
      "metadata": {
        "id": "Y3A1GNzB_3Bt"
      },
      "source": [
        "## Export model"
      ],
      "id": "Y3A1GNzB_3Bt"
    },
    {
      "cell_type": "code",
      "metadata": {
        "id": "VFBBSmcE_yEv"
      },
      "source": [
        "weights_dir = \"../ift6758/models/weights\"\n",
        "experiment = \"Random-forest-with-FE2\"\n",
        "predscore_val_dict={}"
      ],
      "id": "VFBBSmcE_yEv",
      "execution_count": 119,
      "outputs": []
    },
    {
      "cell_type": "code",
      "metadata": {
        "id": "NehP2P8E_6AF",
        "colab": {
          "base_uri": "https://localhost:8080/"
        },
        "outputId": "21b461d2-8406-4609-f951-7c4ce89a6d45"
      },
      "source": [
        "import joblib\n",
        "\n",
        "predscore_val_dict[experiment]={}\n",
        "predscore_val_dict[experiment]['true_test_label']=y_test\n",
        "predscore_val_dict[experiment]['proba']=y_proba_test\n",
        "predscore_val_dict[experiment]['prediction']=y_pred_test\n",
        "\n",
        "## Dumping model\n",
        "filename=f\"{weights_dir}/{experiment}.pkl\"\n",
        "joblib.dump(model,filename)"
      ],
      "id": "NehP2P8E_6AF",
      "execution_count": 120,
      "outputs": [
        {
          "data": {
            "text/plain": [
              "['../ift6758/models/weights/Random-forest-with-FE2.pkl']"
            ]
          },
          "execution_count": null,
          "metadata": {},
          "output_type": "execute_result"
        }
      ]
    },
    {
      "cell_type": "code",
      "metadata": {
        "id": "YJGJzD5Z__E9",
        "outputId": "2fa61d05-87f7-4a1e-e72b-3cc6047d94a1",
        "colab": {
          "base_uri": "https://localhost:8080/"
        }
      },
      "source": [
        "exp.log_model(\"Random Forest\", \"../ift6758/models/weights/Random-forest-with-FE2.pkl\")"
      ],
      "id": "YJGJzD5Z__E9",
      "execution_count": 121,
      "outputs": [
        {
          "data": {
            "text/plain": [
              "{'api': 'https://www.comet.ml/api/rest/v2/experiment/asset/get-asset?assetId=ba56a6d0f1fd4a508f1a11eafe7e6c74&experimentKey=2de74906d5ad42c0913ded110a44d306',\n",
              " 'assetId': 'ba56a6d0f1fd4a508f1a11eafe7e6c74',\n",
              " 'web': 'https://www.comet.ml/api/asset/download?assetId=ba56a6d0f1fd4a508f1a11eafe7e6c74&experimentKey=2de74906d5ad42c0913ded110a44d306'}"
            ]
          },
          "execution_count": null,
          "metadata": {},
          "output_type": "execute_result"
        }
      ]
    },
    {
      "cell_type": "markdown",
      "metadata": {
        "id": "oT1p1HciALuz"
      },
      "source": [
        "# Plot"
      ],
      "id": "oT1p1HciALuz"
    },
    {
      "cell_type": "code",
      "metadata": {
        "id": "aTtwB14LAI5G",
        "colab": {
          "base_uri": "https://localhost:8080/",
          "height": 1000
        },
        "outputId": "4c451aa5-9bf4-45aa-db5e-1b77c700bfe3"
      },
      "source": [
        "from ift6758.metrics import plot_metrics\n",
        "\n",
        "plot_metrics.plotConfusion(y_test,y_pred_test, title='Confusion matrix for Random Forest test set prediction')\n",
        "plot_metrics.plot_roc([y_test],[y_proba_test],[\"Test set for Rand Forest\"])\n",
        "plot_metrics.plot_percentile([y_test],[y_proba_test],bin_width=5,plot_labels=[\"Test set for Rand Forest\"])\n",
        "plot_metrics.plot_calibration([y_test],[y_proba_test],plot_labels=[\"Test set for Rand Forest\"])"
      ],
      "id": "aTtwB14LAI5G",
      "execution_count": 122,
      "outputs": [
        {
          "metadata": {
            "tags": null
          },
          "name": "stdout",
          "output_type": "stream",
          "text": [
            "              precision    recall  f1-score   support\n",
            "\n",
            "           0       0.91      1.00      0.95    216808\n",
            "           1       0.00      0.00      0.00     21238\n",
            "\n",
            "    accuracy                           0.91    238046\n",
            "   macro avg       0.46      0.50      0.48    238046\n",
            "weighted avg       0.83      0.91      0.87    238046\n",
            "\n"
          ]
        },
        {
          "data": {
            "image/png": "[encoded data removed]",
            "text/plain": [
              "<Figure size 720x360 with 2 Axes>"
            ]
          },
          "metadata": {},
          "output_type": "display_data"
        },
        {
          "data": {
            "image/png": "[encoded data removed]",
            "text/plain": [
              "<Figure size 432x288 with 1 Axes>"
            ]
          },
          "metadata": {},
          "output_type": "display_data"
        },
        {
          "data": {
            "image/png": "[encoded data removed]",
            "text/plain": [
              "<Figure size 1080x540 with 2 Axes>"
            ]
          },
          "metadata": {},
          "output_type": "display_data"
        },
        {
          "data": {
            "image/png": "[encoded data removed]",
            "text/plain": [
              "<Figure size 540x540 with 1 Axes>"
            ]
          },
          "metadata": {},
          "output_type": "display_data"
        }
      ]
    },
    {
      "cell_type": "code",
      "metadata": {
        "id": "QJOFKKd8Al1a"
      },
      "source": [
        ""
      ],
      "id": "QJOFKKd8Al1a",
      "execution_count": null,
      "outputs": []
    }
  ]
}