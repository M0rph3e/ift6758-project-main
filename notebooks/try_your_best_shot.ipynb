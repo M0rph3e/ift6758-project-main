{
  "nbformat": 4,
  "nbformat_minor": 5,
  "metadata": {
    "kernelspec": {
      "name": "python3",
      "display_name": "Python 3"
    },
    "colab": {
      "name": "try_your_best_shot.ipynb",
      "provenance": []
    },
    "language_info": {
      "name": "python"
    }
  },
  "cells": [
    {
      "cell_type": "markdown",
      "metadata": {
        "id": "f4aa00a7-1743-4475-8e7b-07f75b386a29"
      },
      "source": [
        "## Here we will try our best shot to predict the goals with our features"
      ],
      "id": "f4aa00a7-1743-4475-8e7b-07f75b386a29"
    },
    {
      "cell_type": "code",
      "metadata": {
        "id": "0e26965d-f064-484c-91f3-aa96de787ab4",
        "colab": {
          "base_uri": "https://localhost:8080/"
        },
        "outputId": "05fe5c4d-bd73-4aea-90cc-0a255ae1917e"
      },
      "source": [
        "from google.colab import drive\n",
        "drive.mount('/content/gdrive')"
      ],
      "id": "0e26965d-f064-484c-91f3-aa96de787ab4",
      "execution_count": 1,
      "outputs": [
        {
          "output_type": "stream",
          "name": "stdout",
          "text": [
            "Mounted at /content/gdrive\n"
          ]
        }
      ]
    },
    {
      "cell_type": "code",
      "metadata": {
        "id": "MrfE_fXB9r7z",
        "colab": {
          "base_uri": "https://localhost:8080/"
        },
        "outputId": "4ce47b64-6a36-44ba-c796-5a61bb2e16b7"
      },
      "source": [
        "%cd /content/gdrive/MyDrive/Master_UdeM/IFT-6758/Project/ift6758-project-main"
      ],
      "id": "MrfE_fXB9r7z",
      "execution_count": 2,
      "outputs": [
        {
          "output_type": "stream",
          "name": "stdout",
          "text": [
            "/content/gdrive/MyDrive/Master_UdeM/IFT-6758/Project/ift6758-project-main\n"
          ]
        }
      ]
    },
    {
      "cell_type": "code",
      "metadata": {
        "id": "celXeSWR9zXi",
        "colab": {
          "base_uri": "https://localhost:8080/"
        },
        "outputId": "963bbb58-a7af-4c21-a12d-0d81847cad0b"
      },
      "source": [
        "#!git clone https://GIT_TOKEN@github.com/M0rph3e/ift6758-project-main.git #not anymore\n",
        "! git pull"
      ],
      "id": "celXeSWR9zXi",
      "execution_count": 3,
      "outputs": [
        {
          "output_type": "stream",
          "name": "stdout",
          "text": [
            "remote: Enumerating objects: 7, done.\u001b[K\n",
            "remote: Counting objects:  14% (1/7)\u001b[K\rremote: Counting objects:  28% (2/7)\u001b[K\rremote: Counting objects:  42% (3/7)\u001b[K\rremote: Counting objects:  57% (4/7)\u001b[K\rremote: Counting objects:  71% (5/7)\u001b[K\rremote: Counting objects:  85% (6/7)\u001b[K\rremote: Counting objects: 100% (7/7)\u001b[K\rremote: Counting objects: 100% (7/7), done.\u001b[K\n",
            "remote: Compressing objects:  25% (1/4)\u001b[K\rremote: Compressing objects:  50% (2/4)\u001b[K\rremote: Compressing objects:  75% (3/4)\u001b[K\rremote: Compressing objects: 100% (4/4)\u001b[K\rremote: Compressing objects: 100% (4/4), done.\u001b[K\n",
            "remote: Total 4 (delta 3), reused 0 (delta 0), pack-reused 0\u001b[K\n",
            "Unpacking objects: 100% (4/4), done.\n",
            "From https://github.com/M0rph3e/ift6758-project-main\n",
            "   8e853b8..5ed5e8a  best_shot_trial -> origin/best_shot_trial\n",
            "Already up to date.\n"
          ]
        }
      ]
    },
    {
      "cell_type": "code",
      "metadata": {
        "id": "lGWPuWN7-Rbo",
        "colab": {
          "base_uri": "https://localhost:8080/"
        },
        "outputId": "fef0481f-689d-4143-ba48-08bf28d00651"
      },
      "source": [
        "!git status"
      ],
      "id": "lGWPuWN7-Rbo",
      "execution_count": 4,
      "outputs": [
        {
          "output_type": "stream",
          "name": "stdout",
          "text": [
            "On branch fengineering2\n",
            "Your branch is up to date with 'origin/fengineering2'.\n",
            "\n",
            "nothing to commit, working tree clean\n"
          ]
        }
      ]
    },
    {
      "cell_type": "code",
      "metadata": {
        "id": "5wFBMu2YAjam",
        "colab": {
          "base_uri": "https://localhost:8080/"
        },
        "outputId": "18e5c711-fd03-4f96-a27b-0ed44728e7e5"
      },
      "source": [
        "!pip install comet_ml pandas_profiling"
      ],
      "id": "5wFBMu2YAjam",
      "execution_count": 13,
      "outputs": [
        {
          "output_type": "stream",
          "name": "stdout",
          "text": [
            "Successfully installed comet-ml-3.22.1 configobj-5.0.6 dulwich-0.20.26 everett-2.0.1 requests-toolbelt-0.9.1 semantic-version-2.8.5 websocket-client-1.2.1 wurlitzer-3.0.2\n"
          ]
        }
      ]
    },
    {
      "cell_type": "code",
      "metadata": {
        "id": "zqiioowlaDXX",
        "colab": {
          "base_uri": "https://localhost:8080/"
        },
        "outputId": "54189067-c329-4f9b-ad50-9b52bf906a8a"
      },
      "source": [
        "! git branch"
      ],
      "id": "zqiioowlaDXX",
      "execution_count": null,
      "outputs": [
        {
          "output_type": "stream",
          "name": "stdout",
          "text": [
            "  best_shot_trial\u001b[m\n",
            "* \u001b[32mfengineering2\u001b[m\n",
            "  main\u001b[m\n"
          ]
        }
      ]
    },
    {
      "cell_type": "markdown",
      "metadata": {
        "id": "TB9EOTRM-330"
      },
      "source": [
        "# Real **shµt** starts from here"
      ],
      "id": "TB9EOTRM-330"
    },
    {
      "cell_type": "code",
      "metadata": {
        "id": "GbIIYHFg-elV"
      },
      "source": [
        "from ift6758.features.feature_engineering2 import SeasonDataSetTwo\n",
        "from ift6758.data.data_acquisition import Season\n",
        "from ift6758.visualizations.simple_visualization import Utilities \n",
        "import matplotlib.pyplot as plt\n",
        "import numpy as np\n",
        "import seaborn as sns\n",
        "import os\n",
        "import random\n",
        "import pandas as pd\n",
        "import pickle\n",
        "import sys\n",
        "import json\n",
        "\n",
        "import warnings\n",
        "warnings.filterwarnings(\"ignore\")"
      ],
      "id": "GbIIYHFg-elV",
      "execution_count": 5,
      "outputs": []
    },
    {
      "cell_type": "code",
      "metadata": {
        "id": "BHb91bE6_ODa",
        "colab": {
          "base_uri": "https://localhost:8080/"
        },
        "outputId": "664e61d1-db01-43cc-c959-99a5be5bf30c"
      },
      "source": [
        "train_years = [2015,2016,2017]\n",
        "valid_years = [2018]\n",
        "test_years=[2019]\n",
        "\n",
        "\n",
        "train_dataset = SeasonDataSetTwo(train_years)\n",
        "valid_dataset = SeasonDataSetTwo(valid_years)\n",
        "train_df = train_dataset.get_features_2()\n",
        "valid_df = valid_dataset.get_features_2()"
      ],
      "id": "BHb91bE6_ODa",
      "execution_count": 18,
      "outputs": [
        {
          "output_type": "stream",
          "name": "stdout",
          "text": [
            "File with all events already Exists, loading from ../ift6758/data/PICKLE//2015_clean_all_events.pkl\n",
            "File already Exists, loading from ../ift6758/data/PICKLE//2015_period_info.pkl\n",
            "File with all events already Exists, loading from ../ift6758/data/PICKLE//2016_clean_all_events.pkl\n",
            "File already Exists, loading from ../ift6758/data/PICKLE//2016_period_info.pkl\n",
            "File with all events already Exists, loading from ../ift6758/data/PICKLE//2017_clean_all_events.pkl\n",
            "File already Exists, loading from ../ift6758/data/PICKLE//2017_period_info.pkl\n"
          ]
        },
        {
          "output_type": "stream",
          "name": "stderr",
          "text": [
            "100%|██████████| 1299/1299 [03:30<00:00,  6.16it/s]\n",
            "100%|██████████| 1299/1299 [02:46<00:00,  7.81it/s]\n"
          ]
        },
        {
          "output_type": "stream",
          "name": "stdout",
          "text": [
            "Len of games_list in 2018 is 1375\n",
            "Saved new pickle with all events in ../ift6758/data/PICKLE//2018_clean_all_events.pkl\n",
            "File already Exists, loading from ../ift6758/data/PICKLE//2018.pkl\n",
            "Len of games_list in 2018 is 1375\n"
          ]
        }
      ]
    },
    {
      "cell_type": "code",
      "metadata": {
        "id": "utYXLTyoGCDF",
        "colab": {
          "base_uri": "https://localhost:8080/"
        },
        "outputId": "ec1008cd-52e8-4020-c349-df93833c8479"
      },
      "source": [
        "test_data = SeasonDataSetTwo(test_years)\n",
        "test_df = test_data.get_features_2()"
      ],
      "id": "utYXLTyoGCDF",
      "execution_count": 8,
      "outputs": [
        {
          "output_type": "stream",
          "name": "stderr",
          "text": [
            "100%|██████████| 1299/1299 [03:19<00:00,  6.50it/s]\n",
            "100%|██████████| 1299/1299 [02:46<00:00,  7.78it/s]\n"
          ]
        },
        {
          "output_type": "stream",
          "name": "stdout",
          "text": [
            "Len of games_list in 2019 is 1426\n",
            "Saved new pickle with all events in ../ift6758/data/PICKLE//2019_clean_all_events.pkl\n",
            "File already Exists, loading from ../ift6758/data/PICKLE//2019.pkl\n",
            "Len of games_list in 2019 is 1426\n"
          ]
        }
      ]
    },
    {
      "cell_type": "markdown",
      "metadata": {
        "id": "0kj5OTviDnFF"
      },
      "source": [
        "# Export the data csv to comet (do not execute for now)"
      ],
      "id": "0kj5OTviDnFF"
    },
    {
      "cell_type": "code",
      "metadata": {
        "id": "OvTG9lsL_Tb_",
        "colab": {
          "base_uri": "https://localhost:8080/"
        },
        "outputId": "aa436ac5-1df8-4b2e-940a-01a75cd6f4c0"
      },
      "source": [
        "from comet_ml import Experiment\n",
        "import os\n",
        "\n",
        "\n",
        "\n",
        "exp = Experiment(\n",
        "    api_key=os.environ.get('COMET_API_KEY'),\n",
        "    project_name='milestone-2',\n",
        "    workspace='morph-e',\n",
        ")"
      ],
      "id": "OvTG9lsL_Tb_",
      "execution_count": 149,
      "outputs": [
        {
          "output_type": "stream",
          "name": "stderr",
          "text": [
            "COMET INFO: ---------------------------\n",
            "COMET INFO: Comet.ml Experiment Summary\n",
            "COMET INFO: ---------------------------\n",
            "COMET INFO:   Data:\n",
            "COMET INFO:     display_summary_level : 1\n",
            "COMET INFO:     url                   : https://www.comet.ml/morph-e/milestone-2/2689d4e3e26d42a88824134ac2b782bd\n",
            "COMET INFO:   Others:\n",
            "COMET INFO:     notebook_url : https://colab.research.google.com/notebook#fileId=https%3A%2F%2Fgithub.com%2FM0rph3e%2Fift6758-project-main%2Fblob%2Fbest_shot_trial%2Fnotebooks%2Ftry_your_best_shot.ipynb\n",
            "COMET INFO:   Parameters:\n",
            "COMET INFO:     bootstrap                : True\n",
            "COMET INFO:     ccp_alpha                : 0.0\n",
            "COMET INFO:     class_weight             : 1\n",
            "COMET INFO:     copy                     : True\n",
            "COMET INFO:     criterion                : entropy\n",
            "COMET INFO:     max_depth                : 10\n",
            "COMET INFO:     max_features             : auto\n",
            "COMET INFO:     max_leaf_nodes           : 1\n",
            "COMET INFO:     max_samples              : 1\n",
            "COMET INFO:     min_impurity_decrease    : 0.0\n",
            "COMET INFO:     min_samples_leaf         : 1\n",
            "COMET INFO:     min_samples_split        : 2\n",
            "COMET INFO:     min_weight_fraction_leaf : 0.0\n",
            "COMET INFO:     n_estimators             : 115\n",
            "COMET INFO:     n_jobs                   : 1\n",
            "COMET INFO:     oob_score                : False\n",
            "COMET INFO:     random_state             : 1\n",
            "COMET INFO:     verbose                  : 0\n",
            "COMET INFO:     warm_start               : False\n",
            "COMET INFO:     with_mean                : True\n",
            "COMET INFO:     with_std                 : True\n",
            "COMET INFO:   Uploads:\n",
            "COMET INFO:     dataframe           : 3 (70.68 MB)\n",
            "COMET INFO:     environment details : 1\n",
            "COMET INFO:     filename            : 1\n",
            "COMET INFO:     git metadata        : 1\n",
            "COMET INFO:     installed packages  : 1\n",
            "COMET INFO:     notebook            : 1\n",
            "COMET INFO:     os packages         : 1\n",
            "COMET INFO:     source_code         : 1\n",
            "COMET INFO: ---------------------------\n",
            "COMET WARNING: As you are running in a Jupyter environment, you will need to call `experiment.end()` when finished to ensure all metrics and code are logged before exiting.\n",
            "COMET INFO: Experiment is live on comet.ml https://www.comet.ml/morph-e/milestone-2/61ab29d2969f46b3b444cf6aef7b24e6\n",
            "\n"
          ]
        }
      ]
    },
    {
      "cell_type": "code",
      "metadata": {
        "colab": {
          "base_uri": "https://localhost:8080/"
        },
        "id": "DzdwfiX2H86Q",
        "outputId": "65750432-173e-469e-a832-0ec27df3e6d4"
      },
      "source": [
        "experiment.log_dataframe_profile(\n",
        "train_df, \n",
        "name='train_set_from_FE2',  # keep this name\n",
        "dataframe_format='csv'  # ensure you set this flag!\n",
        ")\n",
        "\n",
        "experiment.log_dataframe_profile(\n",
        "valid_df, \n",
        "name='valid_set_from_FE2',  # keep this name\n",
        "dataframe_format='csv'  # ensure you set this flag!\n",
        ")\n",
        "\n",
        "experiment.log_dataframe_profile(\n",
        "test_df, \n",
        "name='test_set_from_FE2',  # keep this name\n",
        "dataframe_format='csv'  # ensure you set this flag!\n",
        ")\n"
      ],
      "id": "DzdwfiX2H86Q",
      "execution_count": 22,
      "outputs": [
        {
          "output_type": "stream",
          "name": "stderr",
          "text": [
            "COMET WARNING: unable to profile dataframe; ignoring\n",
            "COMET WARNING: unable to profile dataframe; ignoring\n",
            "COMET WARNING: unable to profile dataframe; ignoring\n"
          ]
        },
        {
          "output_type": "execute_result",
          "data": {
            "text/plain": [
              "{'dataframe': {'api': 'https://www.comet.ml/api/rest/v2/experiment/asset/get-asset?assetId=4e8eecdee4cf45708b03fb750b84e180&experimentKey=2689d4e3e26d42a88824134ac2b782bd',\n",
              "  'assetId': '4e8eecdee4cf45708b03fb750b84e180',\n",
              "  'web': 'https://www.comet.ml/api/asset/download?assetId=4e8eecdee4cf45708b03fb750b84e180&experimentKey=2689d4e3e26d42a88824134ac2b782bd'},\n",
              " 'profile': None}"
            ]
          },
          "metadata": {},
          "execution_count": 22
        }
      ]
    },
    {
      "cell_type": "code",
      "metadata": {
        "colab": {
          "base_uri": "https://localhost:8080/"
        },
        "id": "_bl0qUtfLr8e",
        "outputId": "0a58f5cd-526b-47c4-aa41-2edc6b55056c"
      },
      "source": [
        "experiment.end()"
      ],
      "id": "_bl0qUtfLr8e",
      "execution_count": 20,
      "outputs": [
        {
          "output_type": "stream",
          "name": "stderr",
          "text": [
            "COMET INFO: ---------------------------\n",
            "COMET INFO: Comet.ml Experiment Summary\n",
            "COMET INFO: ---------------------------\n",
            "COMET INFO:   Data:\n",
            "COMET INFO:     display_summary_level : 1\n",
            "COMET INFO:     url                   : https://www.comet.ml/morph-e/milestone-2/efb5cd930b034742b57308a8f96d6217\n",
            "COMET INFO:   Others:\n",
            "COMET INFO:     notebook_url : https://colab.research.google.com/notebook#fileId=https%3A%2F%2Fgithub.com%2FM0rph3e%2Fift6758-project-main%2Fblob%2Fbest_shot_trial%2Fnotebooks%2Ftry_your_best_shot.ipynb\n",
            "COMET INFO:   Uploads:\n",
            "COMET INFO:     dataframe           : 6 (169.17 MB)\n",
            "COMET INFO:     environment details : 1\n",
            "COMET INFO:     filename            : 1\n",
            "COMET INFO:     git metadata        : 1\n",
            "COMET INFO:     installed packages  : 1\n",
            "COMET INFO:     notebook            : 1\n",
            "COMET INFO:     os packages         : 1\n",
            "COMET INFO:     source_code         : 1\n",
            "COMET INFO: ---------------------------\n",
            "COMET INFO: Uploading metrics, params, and assets to Comet before program termination (may take several seconds)\n",
            "COMET INFO: The Python SDK has 3600 seconds to finish before aborting...\n"
          ]
        }
      ]
    },
    {
      "cell_type": "markdown",
      "metadata": {
        "id": "i8bloprl_Lpf"
      },
      "source": [
        "# Split Data"
      ],
      "id": "i8bloprl_Lpf"
    },
    {
      "cell_type": "code",
      "metadata": {
        "colab": {
          "base_uri": "https://localhost:8080/",
          "height": 400
        },
        "id": "VCGefzl2EsWz",
        "outputId": "a2dcc546-dda9-4b5a-c355-889df9accfc7"
      },
      "source": [
        "train_df.head()"
      ],
      "id": "VCGefzl2EsWz",
      "execution_count": 46,
      "outputs": [
        {
          "output_type": "execute_result",
          "data": {
            "text/html": [
              "<div>\n",
              "<style scoped>\n",
              "    .dataframe tbody tr th:only-of-type {\n",
              "        vertical-align: middle;\n",
              "    }\n",
              "\n",
              "    .dataframe tbody tr th {\n",
              "        vertical-align: top;\n",
              "    }\n",
              "\n",
              "    .dataframe thead th {\n",
              "        text-align: right;\n",
              "    }\n",
              "</style>\n",
              "<table border=\"1\" class=\"dataframe\">\n",
              "  <thead>\n",
              "    <tr style=\"text-align: right;\">\n",
              "      <th></th>\n",
              "      <th>result.penaltySeverity</th>\n",
              "      <th>result.penaltyMinutes</th>\n",
              "      <th>gamePk</th>\n",
              "      <th>team.name</th>\n",
              "      <th>gamePeriod</th>\n",
              "      <th>coordinatesX</th>\n",
              "      <th>coordinatesY</th>\n",
              "      <th>shotType</th>\n",
              "      <th>emptyNet</th>\n",
              "      <th>result.strength.name</th>\n",
              "      <th>gameSeconds</th>\n",
              "      <th>shotDistance</th>\n",
              "      <th>shotAngle</th>\n",
              "      <th>isGoal</th>\n",
              "      <th>lastEventType</th>\n",
              "      <th>lastEventCoordinatesX</th>\n",
              "      <th>lastEventCoordinatesY</th>\n",
              "      <th>timeFromLastEvent</th>\n",
              "      <th>distanceFromLastEvent</th>\n",
              "      <th>rebound</th>\n",
              "      <th>speed</th>\n",
              "      <th>changeInShotAngle</th>\n",
              "    </tr>\n",
              "  </thead>\n",
              "  <tbody>\n",
              "    <tr>\n",
              "      <th>0</th>\n",
              "      <td>NaN</td>\n",
              "      <td>NaN</td>\n",
              "      <td>2015020001</td>\n",
              "      <td>Toronto Maple Leafs</td>\n",
              "      <td>1</td>\n",
              "      <td>-55.0</td>\n",
              "      <td>6.0</td>\n",
              "      <td>Wrist Shot</td>\n",
              "      <td>0</td>\n",
              "      <td>NaN</td>\n",
              "      <td>51.0</td>\n",
              "      <td>34.525353</td>\n",
              "      <td>10.007980</td>\n",
              "      <td>0</td>\n",
              "      <td>Hit</td>\n",
              "      <td>94.0</td>\n",
              "      <td>-34.0</td>\n",
              "      <td>11.0</td>\n",
              "      <td>154.275727</td>\n",
              "      <td>False</td>\n",
              "      <td>14.025066</td>\n",
              "      <td>0.000000</td>\n",
              "    </tr>\n",
              "    <tr>\n",
              "      <th>1</th>\n",
              "      <td>NaN</td>\n",
              "      <td>NaN</td>\n",
              "      <td>2015020001</td>\n",
              "      <td>Toronto Maple Leafs</td>\n",
              "      <td>1</td>\n",
              "      <td>-79.0</td>\n",
              "      <td>0.0</td>\n",
              "      <td>Snap Shot</td>\n",
              "      <td>0</td>\n",
              "      <td>NaN</td>\n",
              "      <td>65.0</td>\n",
              "      <td>10.000000</td>\n",
              "      <td>0.000000</td>\n",
              "      <td>0</td>\n",
              "      <td>Giveaway</td>\n",
              "      <td>-37.0</td>\n",
              "      <td>-28.0</td>\n",
              "      <td>7.0</td>\n",
              "      <td>50.477718</td>\n",
              "      <td>False</td>\n",
              "      <td>7.211103</td>\n",
              "      <td>0.000000</td>\n",
              "    </tr>\n",
              "    <tr>\n",
              "      <th>2</th>\n",
              "      <td>NaN</td>\n",
              "      <td>NaN</td>\n",
              "      <td>2015020001</td>\n",
              "      <td>Toronto Maple Leafs</td>\n",
              "      <td>1</td>\n",
              "      <td>-75.0</td>\n",
              "      <td>-1.0</td>\n",
              "      <td>Snap Shot</td>\n",
              "      <td>0</td>\n",
              "      <td>NaN</td>\n",
              "      <td>66.0</td>\n",
              "      <td>14.035669</td>\n",
              "      <td>-4.085617</td>\n",
              "      <td>0</td>\n",
              "      <td>Shot</td>\n",
              "      <td>-79.0</td>\n",
              "      <td>0.0</td>\n",
              "      <td>1.0</td>\n",
              "      <td>4.123106</td>\n",
              "      <td>True</td>\n",
              "      <td>4.123106</td>\n",
              "      <td>4.085617</td>\n",
              "    </tr>\n",
              "    <tr>\n",
              "      <th>3</th>\n",
              "      <td>NaN</td>\n",
              "      <td>NaN</td>\n",
              "      <td>2015020001</td>\n",
              "      <td>Toronto Maple Leafs</td>\n",
              "      <td>1</td>\n",
              "      <td>-55.0</td>\n",
              "      <td>-36.0</td>\n",
              "      <td>Wrist Shot</td>\n",
              "      <td>0</td>\n",
              "      <td>NaN</td>\n",
              "      <td>113.0</td>\n",
              "      <td>49.517674</td>\n",
              "      <td>-46.636577</td>\n",
              "      <td>0</td>\n",
              "      <td>Hit</td>\n",
              "      <td>-91.0</td>\n",
              "      <td>35.0</td>\n",
              "      <td>18.0</td>\n",
              "      <td>79.605276</td>\n",
              "      <td>False</td>\n",
              "      <td>4.422515</td>\n",
              "      <td>0.000000</td>\n",
              "    </tr>\n",
              "    <tr>\n",
              "      <th>4</th>\n",
              "      <td>NaN</td>\n",
              "      <td>NaN</td>\n",
              "      <td>2015020001</td>\n",
              "      <td>Toronto Maple Leafs</td>\n",
              "      <td>1</td>\n",
              "      <td>-61.0</td>\n",
              "      <td>-1.0</td>\n",
              "      <td>Tip-In</td>\n",
              "      <td>0</td>\n",
              "      <td>NaN</td>\n",
              "      <td>157.0</td>\n",
              "      <td>28.017851</td>\n",
              "      <td>-2.045408</td>\n",
              "      <td>0</td>\n",
              "      <td>Faceoff</td>\n",
              "      <td>-69.0</td>\n",
              "      <td>-22.0</td>\n",
              "      <td>5.0</td>\n",
              "      <td>22.472205</td>\n",
              "      <td>False</td>\n",
              "      <td>4.494441</td>\n",
              "      <td>0.000000</td>\n",
              "    </tr>\n",
              "  </tbody>\n",
              "</table>\n",
              "</div>"
            ],
            "text/plain": [
              "  result.penaltySeverity  result.penaltyMinutes  ...      speed changeInShotAngle\n",
              "0                    NaN                    NaN  ...  14.025066          0.000000\n",
              "1                    NaN                    NaN  ...   7.211103          0.000000\n",
              "2                    NaN                    NaN  ...   4.123106          4.085617\n",
              "3                    NaN                    NaN  ...   4.422515          0.000000\n",
              "4                    NaN                    NaN  ...   4.494441          0.000000\n",
              "\n",
              "[5 rows x 22 columns]"
            ]
          },
          "metadata": {},
          "execution_count": 46
        }
      ]
    },
    {
      "cell_type": "code",
      "metadata": {
        "id": "72IkWlL6JCtE"
      },
      "source": [
        "features = ['gameSeconds','timeFromLastEvent','gamePeriod','shotType', 'shotAngle', 'shotDistance','distanceFromLastEvent', 'rebound','speed','changeInShotAngle']\n",
        "label = ['isGoal']"
      ],
      "id": "72IkWlL6JCtE",
      "execution_count": 11,
      "outputs": []
    },
    {
      "cell_type": "code",
      "metadata": {
        "colab": {
          "base_uri": "https://localhost:8080/"
        },
        "id": "sbtgiVdKQ6tq",
        "outputId": "de9e33ba-8188-4e3b-fdd7-4c6911f352f6"
      },
      "source": [
        "train_df[features].isna().any()\n",
        "valid_df[features].isna().any()\n",
        "valid_df[features].isna().any()"
      ],
      "id": "sbtgiVdKQ6tq",
      "execution_count": 82,
      "outputs": [
        {
          "output_type": "execute_result",
          "data": {
            "text/plain": [
              "gameSeconds              False\n",
              "timeFromLastEvent        False\n",
              "gamePeriod               False\n",
              "shotType                 False\n",
              "shotAngle                False\n",
              "shotDistance             False\n",
              "distanceFromLastEvent    False\n",
              "rebound                  False\n",
              "speed                     True\n",
              "changeInShotAngle        False\n",
              "dtype: bool"
            ]
          },
          "metadata": {},
          "execution_count": 82
        }
      ]
    },
    {
      "cell_type": "markdown",
      "metadata": {
        "id": "LiB5e5M8YFRA"
      },
      "source": [
        "### Replace inf with nan (annoying in normalization)"
      ],
      "id": "LiB5e5M8YFRA"
    },
    {
      "cell_type": "code",
      "metadata": {
        "id": "pRj2nIZCXXLA"
      },
      "source": [
        "train_df.replace([np.inf, -np.inf], np.nan, inplace=True)\n",
        "valid_df.replace([np.inf, -np.inf], np.nan, inplace=True)\n",
        "test_df.replace([np.inf, -np.inf], np.nan, inplace=True)"
      ],
      "id": "pRj2nIZCXXLA",
      "execution_count": 81,
      "outputs": []
    },
    {
      "cell_type": "code",
      "metadata": {
        "id": "kMoH4JD-OP8Z"
      },
      "source": [
        "#drop rows with nan\n",
        "train_df = train_df[train_df['shotType'].notna()]\n",
        "valid_df = train_df[train_df['shotType'].notna()]\n",
        "test_df = train_df[train_df['shotType'].notna()]\n",
        "\n",
        "train_df = train_df[train_df['shotAngle'].notna()]\n",
        "valid_df = train_df[train_df['shotAngle'].notna()]\n",
        "test_df = train_df[train_df['shotAngle'].notna()]\n",
        "\n",
        "train_df = train_df[train_df['shotDistance'].notna()]\n",
        "valid_df = train_df[train_df['shotDistance'].notna()]\n",
        "test_df = train_df[train_df['shotDistance'].notna()]\n",
        "\n",
        "train_df = train_df[train_df['speed'].notna()]\n",
        "valid_df = train_df[train_df['speed'].notna()]\n",
        "test_df = train_df[train_df['speed'].notna()]\n",
        "\n",
        "train_df = train_df[train_df['changeInShotAngle'].notna()]\n",
        "valid_df = train_df[train_df['changeInShotAngle'].notna()]\n",
        "test_df = train_df[train_df['changeInShotAngle'].notna()]"
      ],
      "id": "kMoH4JD-OP8Z",
      "execution_count": 83,
      "outputs": []
    },
    {
      "cell_type": "code",
      "metadata": {
        "colab": {
          "base_uri": "https://localhost:8080/"
        },
        "id": "VB2rx98tRfcM",
        "outputId": "049d610d-5222-4513-9473-d014cd1c0de5"
      },
      "source": [
        "train_df[features].isna().any()\n",
        "valid_df[features].isna().any()\n",
        "valid_df[features].isna().any()"
      ],
      "id": "VB2rx98tRfcM",
      "execution_count": 84,
      "outputs": [
        {
          "output_type": "execute_result",
          "data": {
            "text/plain": [
              "gameSeconds              False\n",
              "timeFromLastEvent        False\n",
              "gamePeriod               False\n",
              "shotType                 False\n",
              "shotAngle                False\n",
              "shotDistance             False\n",
              "distanceFromLastEvent    False\n",
              "rebound                  False\n",
              "speed                    False\n",
              "changeInShotAngle        False\n",
              "dtype: bool"
            ]
          },
          "metadata": {},
          "execution_count": 84
        }
      ]
    },
    {
      "cell_type": "code",
      "metadata": {
        "id": "GD8YNmGS_9x_",
        "colab": {
          "base_uri": "https://localhost:8080/"
        },
        "outputId": "5ace77b1-d607-4c51-d8c7-8301a749046f"
      },
      "source": [
        "X_train = train_df[features]\n",
        "y_train = train_df[label]\n",
        "\n",
        "X_valid = valid_df[features]\n",
        "y_valid = valid_df[label]\n",
        "\n",
        "X_test = test_df[features]\n",
        "y_test = test_df[label]\n",
        "\n",
        "X_train, y_train, X_valid, y_valid"
      ],
      "id": "GD8YNmGS_9x_",
      "execution_count": 95,
      "outputs": [
        {
          "output_type": "execute_result",
          "data": {
            "text/plain": [
              "(        gameSeconds  timeFromLastEvent  ...      speed changeInShotAngle\n",
              " 0              51.0               11.0  ...  14.025066          0.000000\n",
              " 1              65.0                7.0  ...   7.211103          0.000000\n",
              " 2              66.0                1.0  ...   4.123106          4.085617\n",
              " 3             113.0               18.0  ...   4.422515          0.000000\n",
              " 4             157.0                5.0  ...   4.494441          0.000000\n",
              " ...             ...                ...  ...        ...               ...\n",
              " 246798        961.0               20.0  ...   2.960152          0.000000\n",
              " 246799        966.0                5.0  ...   0.894427          1.582613\n",
              " 246800        968.0                2.0  ...  26.856098         12.158146\n",
              " 246801        969.0                1.0  ...   1.414214          0.327134\n",
              " 246802       1076.0               10.0  ...  15.895911          0.000000\n",
              " \n",
              " [238046 rows x 10 columns],         isGoal\n",
              " 0            0\n",
              " 1            0\n",
              " 2            0\n",
              " 3            0\n",
              " 4            0\n",
              " ...        ...\n",
              " 246798       0\n",
              " 246799       0\n",
              " 246800       0\n",
              " 246801       0\n",
              " 246802       0\n",
              " \n",
              " [238046 rows x 1 columns],         gameSeconds  timeFromLastEvent  ...      speed changeInShotAngle\n",
              " 0              51.0               11.0  ...  14.025066          0.000000\n",
              " 1              65.0                7.0  ...   7.211103          0.000000\n",
              " 2              66.0                1.0  ...   4.123106          4.085617\n",
              " 3             113.0               18.0  ...   4.422515          0.000000\n",
              " 4             157.0                5.0  ...   4.494441          0.000000\n",
              " ...             ...                ...  ...        ...               ...\n",
              " 246798        961.0               20.0  ...   2.960152          0.000000\n",
              " 246799        966.0                5.0  ...   0.894427          1.582613\n",
              " 246800        968.0                2.0  ...  26.856098         12.158146\n",
              " 246801        969.0                1.0  ...   1.414214          0.327134\n",
              " 246802       1076.0               10.0  ...  15.895911          0.000000\n",
              " \n",
              " [238046 rows x 10 columns],         isGoal\n",
              " 0            0\n",
              " 1            0\n",
              " 2            0\n",
              " 3            0\n",
              " 4            0\n",
              " ...        ...\n",
              " 246798       0\n",
              " 246799       0\n",
              " 246800       0\n",
              " 246801       0\n",
              " 246802       0\n",
              " \n",
              " [238046 rows x 1 columns])"
            ]
          },
          "metadata": {},
          "execution_count": 95
        }
      ]
    },
    {
      "cell_type": "markdown",
      "metadata": {
        "id": "IPckRPfMBNmS"
      },
      "source": [
        "### One Hot encode the shot type (I want to refer on the fact that the shot type affect the goal)"
      ],
      "id": "IPckRPfMBNmS"
    },
    {
      "cell_type": "code",
      "metadata": {
        "id": "d_7mjg3Gi5E5"
      },
      "source": [
        "def one_hot(self, y):\n",
        "        \"\"\"Return a one hot encoded array of the labels\n",
        "        \"\"\"\n",
        "        return np.eye(len(self.classes))[np.vectorize(lambda c: self.class_labels[c])(y).reshape(-1)]\n"
      ],
      "id": "d_7mjg3Gi5E5",
      "execution_count": 96,
      "outputs": []
    },
    {
      "cell_type": "code",
      "metadata": {
        "id": "UbKEX4EwBJaR"
      },
      "source": [
        "dum_train = pd.get_dummies(X_train['shotType'], prefix='Shot',dtype=int)\n",
        "dum_valid = pd.get_dummies(X_valid['shotType'], prefix='Shot',dtype=int)\n",
        "dum_test = pd.get_dummies(X_test['shotType'], prefix='Shot',dtype=int)"
      ],
      "id": "UbKEX4EwBJaR",
      "execution_count": 97,
      "outputs": []
    },
    {
      "cell_type": "code",
      "metadata": {
        "id": "wjqJnqntR4oS"
      },
      "source": [
        "X_train = pd.concat([X_train, dum_train], axis=1)\n",
        "X_valid = pd.concat([X_valid, dum_valid], axis=1)\n",
        "X_test = pd.concat([X_test, dum_test], axis=1)"
      ],
      "id": "wjqJnqntR4oS",
      "execution_count": 98,
      "outputs": []
    },
    {
      "cell_type": "code",
      "metadata": {
        "colab": {
          "base_uri": "https://localhost:8080/"
        },
        "id": "ZkzKhocsTR-z",
        "outputId": "2f0363d2-8732-4760-b98a-9f4fc5ee2db3"
      },
      "source": [
        "#check if no nans\n",
        "X_train.isna().any(), X_valid.isna().any(), X_test.isna().any()"
      ],
      "id": "ZkzKhocsTR-z",
      "execution_count": 99,
      "outputs": [
        {
          "output_type": "execute_result",
          "data": {
            "text/plain": [
              "(gameSeconds              False\n",
              " timeFromLastEvent        False\n",
              " gamePeriod               False\n",
              " shotType                 False\n",
              " shotAngle                False\n",
              " shotDistance             False\n",
              " distanceFromLastEvent    False\n",
              " rebound                  False\n",
              " speed                    False\n",
              " changeInShotAngle        False\n",
              " Shot_Backhand            False\n",
              " Shot_Deflected           False\n",
              " Shot_Slap Shot           False\n",
              " Shot_Snap Shot           False\n",
              " Shot_Tip-In              False\n",
              " Shot_Wrap-around         False\n",
              " Shot_Wrist Shot          False\n",
              " dtype: bool, gameSeconds              False\n",
              " timeFromLastEvent        False\n",
              " gamePeriod               False\n",
              " shotType                 False\n",
              " shotAngle                False\n",
              " shotDistance             False\n",
              " distanceFromLastEvent    False\n",
              " rebound                  False\n",
              " speed                    False\n",
              " changeInShotAngle        False\n",
              " Shot_Backhand            False\n",
              " Shot_Deflected           False\n",
              " Shot_Slap Shot           False\n",
              " Shot_Snap Shot           False\n",
              " Shot_Tip-In              False\n",
              " Shot_Wrap-around         False\n",
              " Shot_Wrist Shot          False\n",
              " dtype: bool, gameSeconds              False\n",
              " timeFromLastEvent        False\n",
              " gamePeriod               False\n",
              " shotType                 False\n",
              " shotAngle                False\n",
              " shotDistance             False\n",
              " distanceFromLastEvent    False\n",
              " rebound                  False\n",
              " speed                    False\n",
              " changeInShotAngle        False\n",
              " Shot_Backhand            False\n",
              " Shot_Deflected           False\n",
              " Shot_Slap Shot           False\n",
              " Shot_Snap Shot           False\n",
              " Shot_Tip-In              False\n",
              " Shot_Wrap-around         False\n",
              " Shot_Wrist Shot          False\n",
              " dtype: bool)"
            ]
          },
          "metadata": {},
          "execution_count": 99
        }
      ]
    },
    {
      "cell_type": "code",
      "metadata": {
        "id": "xEOoJtHCT1OK"
      },
      "source": [
        "X_train = X_train.drop(columns='shotType')\n",
        "X_valid = X_valid.drop(columns='shotType')\n",
        "X_test = X_test.drop(columns='shotType')"
      ],
      "id": "xEOoJtHCT1OK",
      "execution_count": 100,
      "outputs": []
    },
    {
      "cell_type": "markdown",
      "metadata": {
        "id": "qkMP6uMUHZjK"
      },
      "source": [
        "# Change rebound feature"
      ],
      "id": "qkMP6uMUHZjK"
    },
    {
      "cell_type": "code",
      "metadata": {
        "id": "qrbQkwBdDSBn"
      },
      "source": [
        "X_train['rebound'] = X_train['rebound'].astype(int)\n",
        "X_valid['rebound'] = X_valid['rebound'].astype(int)\n",
        "X_test['rebound'] = X_test['rebound'].astype(int)"
      ],
      "id": "qrbQkwBdDSBn",
      "execution_count": 101,
      "outputs": []
    },
    {
      "cell_type": "code",
      "metadata": {
        "id": "Br-EHuqUEk65",
        "colab": {
          "base_uri": "https://localhost:8080/",
          "height": 243
        },
        "outputId": "b9010431-f9d7-48a8-e531-40cbf9ec579b"
      },
      "source": [
        "X_test.head()"
      ],
      "id": "Br-EHuqUEk65",
      "execution_count": 102,
      "outputs": [
        {
          "output_type": "execute_result",
          "data": {
            "text/html": [
              "<div>\n",
              "<style scoped>\n",
              "    .dataframe tbody tr th:only-of-type {\n",
              "        vertical-align: middle;\n",
              "    }\n",
              "\n",
              "    .dataframe tbody tr th {\n",
              "        vertical-align: top;\n",
              "    }\n",
              "\n",
              "    .dataframe thead th {\n",
              "        text-align: right;\n",
              "    }\n",
              "</style>\n",
              "<table border=\"1\" class=\"dataframe\">\n",
              "  <thead>\n",
              "    <tr style=\"text-align: right;\">\n",
              "      <th></th>\n",
              "      <th>gameSeconds</th>\n",
              "      <th>timeFromLastEvent</th>\n",
              "      <th>gamePeriod</th>\n",
              "      <th>shotAngle</th>\n",
              "      <th>shotDistance</th>\n",
              "      <th>distanceFromLastEvent</th>\n",
              "      <th>rebound</th>\n",
              "      <th>speed</th>\n",
              "      <th>changeInShotAngle</th>\n",
              "      <th>Shot_Backhand</th>\n",
              "      <th>Shot_Deflected</th>\n",
              "      <th>Shot_Slap Shot</th>\n",
              "      <th>Shot_Snap Shot</th>\n",
              "      <th>Shot_Tip-In</th>\n",
              "      <th>Shot_Wrap-around</th>\n",
              "      <th>Shot_Wrist Shot</th>\n",
              "    </tr>\n",
              "  </thead>\n",
              "  <tbody>\n",
              "    <tr>\n",
              "      <th>0</th>\n",
              "      <td>51.0</td>\n",
              "      <td>11.0</td>\n",
              "      <td>1</td>\n",
              "      <td>10.007980</td>\n",
              "      <td>34.525353</td>\n",
              "      <td>154.275727</td>\n",
              "      <td>0</td>\n",
              "      <td>14.025066</td>\n",
              "      <td>0.000000</td>\n",
              "      <td>0</td>\n",
              "      <td>0</td>\n",
              "      <td>0</td>\n",
              "      <td>0</td>\n",
              "      <td>0</td>\n",
              "      <td>0</td>\n",
              "      <td>1</td>\n",
              "    </tr>\n",
              "    <tr>\n",
              "      <th>1</th>\n",
              "      <td>65.0</td>\n",
              "      <td>7.0</td>\n",
              "      <td>1</td>\n",
              "      <td>0.000000</td>\n",
              "      <td>10.000000</td>\n",
              "      <td>50.477718</td>\n",
              "      <td>0</td>\n",
              "      <td>7.211103</td>\n",
              "      <td>0.000000</td>\n",
              "      <td>0</td>\n",
              "      <td>0</td>\n",
              "      <td>0</td>\n",
              "      <td>1</td>\n",
              "      <td>0</td>\n",
              "      <td>0</td>\n",
              "      <td>0</td>\n",
              "    </tr>\n",
              "    <tr>\n",
              "      <th>2</th>\n",
              "      <td>66.0</td>\n",
              "      <td>1.0</td>\n",
              "      <td>1</td>\n",
              "      <td>-4.085617</td>\n",
              "      <td>14.035669</td>\n",
              "      <td>4.123106</td>\n",
              "      <td>1</td>\n",
              "      <td>4.123106</td>\n",
              "      <td>4.085617</td>\n",
              "      <td>0</td>\n",
              "      <td>0</td>\n",
              "      <td>0</td>\n",
              "      <td>1</td>\n",
              "      <td>0</td>\n",
              "      <td>0</td>\n",
              "      <td>0</td>\n",
              "    </tr>\n",
              "    <tr>\n",
              "      <th>3</th>\n",
              "      <td>113.0</td>\n",
              "      <td>18.0</td>\n",
              "      <td>1</td>\n",
              "      <td>-46.636577</td>\n",
              "      <td>49.517674</td>\n",
              "      <td>79.605276</td>\n",
              "      <td>0</td>\n",
              "      <td>4.422515</td>\n",
              "      <td>0.000000</td>\n",
              "      <td>0</td>\n",
              "      <td>0</td>\n",
              "      <td>0</td>\n",
              "      <td>0</td>\n",
              "      <td>0</td>\n",
              "      <td>0</td>\n",
              "      <td>1</td>\n",
              "    </tr>\n",
              "    <tr>\n",
              "      <th>4</th>\n",
              "      <td>157.0</td>\n",
              "      <td>5.0</td>\n",
              "      <td>1</td>\n",
              "      <td>-2.045408</td>\n",
              "      <td>28.017851</td>\n",
              "      <td>22.472205</td>\n",
              "      <td>0</td>\n",
              "      <td>4.494441</td>\n",
              "      <td>0.000000</td>\n",
              "      <td>0</td>\n",
              "      <td>0</td>\n",
              "      <td>0</td>\n",
              "      <td>0</td>\n",
              "      <td>1</td>\n",
              "      <td>0</td>\n",
              "      <td>0</td>\n",
              "    </tr>\n",
              "  </tbody>\n",
              "</table>\n",
              "</div>"
            ],
            "text/plain": [
              "   gameSeconds  timeFromLastEvent  ...  Shot_Wrap-around  Shot_Wrist Shot\n",
              "0         51.0               11.0  ...                 0                1\n",
              "1         65.0                7.0  ...                 0                0\n",
              "2         66.0                1.0  ...                 0                0\n",
              "3        113.0               18.0  ...                 0                1\n",
              "4        157.0                5.0  ...                 0                0\n",
              "\n",
              "[5 rows x 16 columns]"
            ]
          },
          "metadata": {},
          "execution_count": 102
        }
      ]
    },
    {
      "cell_type": "markdown",
      "metadata": {
        "id": "p1fedCBRVXRa"
      },
      "source": [
        "# Normalize numerical data "
      ],
      "id": "p1fedCBRVXRa"
    },
    {
      "cell_type": "code",
      "metadata": {
        "id": "eG5RixUBVbxJ"
      },
      "source": [
        "num = ['gameSeconds','timeFromLastEvent','gamePeriod', 'shotAngle', 'shotDistance','distanceFromLastEvent','speed','changeInShotAngle']"
      ],
      "id": "eG5RixUBVbxJ",
      "execution_count": 103,
      "outputs": []
    },
    {
      "cell_type": "code",
      "metadata": {
        "id": "lVyUXeSCWRTE"
      },
      "source": [
        "from sklearn.preprocessing import StandardScaler\n",
        "\n",
        "scaler = StandardScaler()\n",
        "scaler.fit(X_train[num])\n",
        "\n",
        "X_train[num] = scaler.transform(X_train[num])\n",
        "X_valid[num] = scaler.transform(X_valid[num])\n",
        "X_test[num] = scaler.transform(X_test[num])"
      ],
      "id": "lVyUXeSCWRTE",
      "execution_count": 104,
      "outputs": []
    },
    {
      "cell_type": "code",
      "metadata": {
        "colab": {
          "base_uri": "https://localhost:8080/",
          "height": 461
        },
        "id": "9t_C_0JVYcqu",
        "outputId": "07177f91-8b47-4d62-ffad-60118d258a7d"
      },
      "source": [
        "X_test"
      ],
      "id": "9t_C_0JVYcqu",
      "execution_count": 107,
      "outputs": [
        {
          "output_type": "execute_result",
          "data": {
            "text/html": [
              "<div>\n",
              "<style scoped>\n",
              "    .dataframe tbody tr th:only-of-type {\n",
              "        vertical-align: middle;\n",
              "    }\n",
              "\n",
              "    .dataframe tbody tr th {\n",
              "        vertical-align: top;\n",
              "    }\n",
              "\n",
              "    .dataframe thead th {\n",
              "        text-align: right;\n",
              "    }\n",
              "</style>\n",
              "<table border=\"1\" class=\"dataframe\">\n",
              "  <thead>\n",
              "    <tr style=\"text-align: right;\">\n",
              "      <th></th>\n",
              "      <th>gameSeconds</th>\n",
              "      <th>timeFromLastEvent</th>\n",
              "      <th>gamePeriod</th>\n",
              "      <th>shotAngle</th>\n",
              "      <th>shotDistance</th>\n",
              "      <th>distanceFromLastEvent</th>\n",
              "      <th>rebound</th>\n",
              "      <th>speed</th>\n",
              "      <th>changeInShotAngle</th>\n",
              "      <th>Shot_Backhand</th>\n",
              "      <th>Shot_Deflected</th>\n",
              "      <th>Shot_Slap Shot</th>\n",
              "      <th>Shot_Snap Shot</th>\n",
              "      <th>Shot_Tip-In</th>\n",
              "      <th>Shot_Wrap-around</th>\n",
              "      <th>Shot_Wrist Shot</th>\n",
              "    </tr>\n",
              "  </thead>\n",
              "  <tbody>\n",
              "    <tr>\n",
              "      <th>0</th>\n",
              "      <td>-1.560364</td>\n",
              "      <td>-0.307472</td>\n",
              "      <td>-1.220910</td>\n",
              "      <td>0.250264</td>\n",
              "      <td>-0.173438</td>\n",
              "      <td>1.999002</td>\n",
              "      <td>0</td>\n",
              "      <td>0.598526</td>\n",
              "      <td>-0.363797</td>\n",
              "      <td>0</td>\n",
              "      <td>0</td>\n",
              "      <td>0</td>\n",
              "      <td>0</td>\n",
              "      <td>0</td>\n",
              "      <td>0</td>\n",
              "      <td>1</td>\n",
              "    </tr>\n",
              "    <tr>\n",
              "      <th>1</th>\n",
              "      <td>-1.520156</td>\n",
              "      <td>-0.578086</td>\n",
              "      <td>-1.220910</td>\n",
              "      <td>-0.024079</td>\n",
              "      <td>-0.944599</td>\n",
              "      <td>-0.250676</td>\n",
              "      <td>0</td>\n",
              "      <td>-0.077369</td>\n",
              "      <td>-0.363797</td>\n",
              "      <td>0</td>\n",
              "      <td>0</td>\n",
              "      <td>0</td>\n",
              "      <td>1</td>\n",
              "      <td>0</td>\n",
              "      <td>0</td>\n",
              "      <td>0</td>\n",
              "    </tr>\n",
              "    <tr>\n",
              "      <th>2</th>\n",
              "      <td>-1.517284</td>\n",
              "      <td>-0.984007</td>\n",
              "      <td>-1.220910</td>\n",
              "      <td>-0.136076</td>\n",
              "      <td>-0.817704</td>\n",
              "      <td>-1.255348</td>\n",
              "      <td>1</td>\n",
              "      <td>-0.383676</td>\n",
              "      <td>-0.165387</td>\n",
              "      <td>0</td>\n",
              "      <td>0</td>\n",
              "      <td>0</td>\n",
              "      <td>1</td>\n",
              "      <td>0</td>\n",
              "      <td>0</td>\n",
              "      <td>0</td>\n",
              "    </tr>\n",
              "    <tr>\n",
              "      <th>3</th>\n",
              "      <td>-1.382301</td>\n",
              "      <td>0.166103</td>\n",
              "      <td>-1.220910</td>\n",
              "      <td>-1.302502</td>\n",
              "      <td>0.297972</td>\n",
              "      <td>0.380623</td>\n",
              "      <td>0</td>\n",
              "      <td>-0.353977</td>\n",
              "      <td>-0.363797</td>\n",
              "      <td>0</td>\n",
              "      <td>0</td>\n",
              "      <td>0</td>\n",
              "      <td>0</td>\n",
              "      <td>0</td>\n",
              "      <td>0</td>\n",
              "      <td>1</td>\n",
              "    </tr>\n",
              "    <tr>\n",
              "      <th>4</th>\n",
              "      <td>-1.255934</td>\n",
              "      <td>-0.713393</td>\n",
              "      <td>-1.220910</td>\n",
              "      <td>-0.080149</td>\n",
              "      <td>-0.378056</td>\n",
              "      <td>-0.857657</td>\n",
              "      <td>0</td>\n",
              "      <td>-0.346842</td>\n",
              "      <td>-0.363797</td>\n",
              "      <td>0</td>\n",
              "      <td>0</td>\n",
              "      <td>0</td>\n",
              "      <td>0</td>\n",
              "      <td>1</td>\n",
              "      <td>0</td>\n",
              "      <td>0</td>\n",
              "    </tr>\n",
              "    <tr>\n",
              "      <th>...</th>\n",
              "      <td>...</td>\n",
              "      <td>...</td>\n",
              "      <td>...</td>\n",
              "      <td>...</td>\n",
              "      <td>...</td>\n",
              "      <td>...</td>\n",
              "      <td>...</td>\n",
              "      <td>...</td>\n",
              "      <td>...</td>\n",
              "      <td>...</td>\n",
              "      <td>...</td>\n",
              "      <td>...</td>\n",
              "      <td>...</td>\n",
              "      <td>...</td>\n",
              "      <td>...</td>\n",
              "      <td>...</td>\n",
              "    </tr>\n",
              "    <tr>\n",
              "      <th>246798</th>\n",
              "      <td>1.053136</td>\n",
              "      <td>0.301410</td>\n",
              "      <td>1.146664</td>\n",
              "      <td>0.293374</td>\n",
              "      <td>2.656777</td>\n",
              "      <td>-0.061567</td>\n",
              "      <td>0</td>\n",
              "      <td>-0.499032</td>\n",
              "      <td>-0.363797</td>\n",
              "      <td>0</td>\n",
              "      <td>0</td>\n",
              "      <td>0</td>\n",
              "      <td>0</td>\n",
              "      <td>0</td>\n",
              "      <td>0</td>\n",
              "      <td>1</td>\n",
              "    </tr>\n",
              "    <tr>\n",
              "      <th>246799</th>\n",
              "      <td>1.067496</td>\n",
              "      <td>-0.713393</td>\n",
              "      <td>1.146664</td>\n",
              "      <td>0.336757</td>\n",
              "      <td>2.745160</td>\n",
              "      <td>-1.247783</td>\n",
              "      <td>1</td>\n",
              "      <td>-0.703937</td>\n",
              "      <td>-0.286940</td>\n",
              "      <td>0</td>\n",
              "      <td>0</td>\n",
              "      <td>1</td>\n",
              "      <td>0</td>\n",
              "      <td>0</td>\n",
              "      <td>0</td>\n",
              "      <td>0</td>\n",
              "    </tr>\n",
              "    <tr>\n",
              "      <th>246800</th>\n",
              "      <td>1.073240</td>\n",
              "      <td>-0.916354</td>\n",
              "      <td>1.146664</td>\n",
              "      <td>0.003473</td>\n",
              "      <td>4.118618</td>\n",
              "      <td>-0.180573</td>\n",
              "      <td>1</td>\n",
              "      <td>1.871270</td>\n",
              "      <td>0.226640</td>\n",
              "      <td>0</td>\n",
              "      <td>0</td>\n",
              "      <td>0</td>\n",
              "      <td>0</td>\n",
              "      <td>0</td>\n",
              "      <td>0</td>\n",
              "      <td>1</td>\n",
              "    </tr>\n",
              "    <tr>\n",
              "      <th>246801</th>\n",
              "      <td>1.076112</td>\n",
              "      <td>-0.984007</td>\n",
              "      <td>1.146664</td>\n",
              "      <td>0.012440</td>\n",
              "      <td>4.150697</td>\n",
              "      <td>-1.314060</td>\n",
              "      <td>1</td>\n",
              "      <td>-0.652378</td>\n",
              "      <td>-0.347910</td>\n",
              "      <td>0</td>\n",
              "      <td>0</td>\n",
              "      <td>0</td>\n",
              "      <td>0</td>\n",
              "      <td>0</td>\n",
              "      <td>0</td>\n",
              "      <td>1</td>\n",
              "    </tr>\n",
              "    <tr>\n",
              "      <th>246802</th>\n",
              "      <td>1.383414</td>\n",
              "      <td>-0.375125</td>\n",
              "      <td>1.146664</td>\n",
              "      <td>-0.380293</td>\n",
              "      <td>3.355549</td>\n",
              "      <td>2.100508</td>\n",
              "      <td>0</td>\n",
              "      <td>0.784100</td>\n",
              "      <td>-0.363797</td>\n",
              "      <td>0</td>\n",
              "      <td>0</td>\n",
              "      <td>0</td>\n",
              "      <td>0</td>\n",
              "      <td>0</td>\n",
              "      <td>0</td>\n",
              "      <td>1</td>\n",
              "    </tr>\n",
              "  </tbody>\n",
              "</table>\n",
              "<p>238046 rows × 16 columns</p>\n",
              "</div>"
            ],
            "text/plain": [
              "        gameSeconds  timeFromLastEvent  ...  Shot_Wrap-around  Shot_Wrist Shot\n",
              "0         -1.560364          -0.307472  ...                 0                1\n",
              "1         -1.520156          -0.578086  ...                 0                0\n",
              "2         -1.517284          -0.984007  ...                 0                0\n",
              "3         -1.382301           0.166103  ...                 0                1\n",
              "4         -1.255934          -0.713393  ...                 0                0\n",
              "...             ...                ...  ...               ...              ...\n",
              "246798     1.053136           0.301410  ...                 0                1\n",
              "246799     1.067496          -0.713393  ...                 0                0\n",
              "246800     1.073240          -0.916354  ...                 0                1\n",
              "246801     1.076112          -0.984007  ...                 0                1\n",
              "246802     1.383414          -0.375125  ...                 0                1\n",
              "\n",
              "[238046 rows x 16 columns]"
            ]
          },
          "metadata": {},
          "execution_count": 107
        }
      ]
    },
    {
      "cell_type": "markdown",
      "metadata": {
        "id": "UQVVMq0iJmIs"
      },
      "source": [
        "## Try Random Forest"
      ],
      "id": "UQVVMq0iJmIs"
    },
    {
      "cell_type": "code",
      "metadata": {
        "id": "QMS2ZkPeI3do"
      },
      "source": [
        "from sklearn.ensemble import RandomForestClassifier\n",
        "from sklearn.experimental import enable_halving_search_cv\n",
        "from sklearn.model_selection import HalvingGridSearchCV\n",
        "\n",
        "# Create the parameter grid based on the results of random search \n",
        "param_grid = {\n",
        "    'n_estimators':[50,65,80,100,115,130,150],\n",
        "     'max_depth': [5,6,7,8,9,10,11,12,13,14]\n",
        "}\n",
        "\n",
        "rf = RandomForestClassifier(criterion='entropy')\n",
        "sh = HalvingGridSearchCV(rf,param_grid, cv=4)\n",
        "model = sh.fit(X_train,y_train)"
      ],
      "id": "QMS2ZkPeI3do",
      "execution_count": 110,
      "outputs": []
    },
    {
      "cell_type": "code",
      "metadata": {
        "colab": {
          "base_uri": "https://localhost:8080/"
        },
        "id": "iLSfbahVakWy",
        "outputId": "4ecf7579-2906-4e3c-f38f-e670fe2a56f6"
      },
      "source": [
        "model.best_estimator_"
      ],
      "id": "iLSfbahVakWy",
      "execution_count": 112,
      "outputs": [
        {
          "output_type": "execute_result",
          "data": {
            "text/plain": [
              "RandomForestClassifier(criterion='entropy', max_depth=10, n_estimators=115)"
            ]
          },
          "metadata": {},
          "execution_count": 112
        }
      ]
    },
    {
      "cell_type": "code",
      "metadata": {
        "id": "nuPU-E-uhptX"
      },
      "source": [
        "y_pred_valid  = model.predict(X_valid)"
      ],
      "id": "nuPU-E-uhptX",
      "execution_count": 119,
      "outputs": []
    },
    {
      "cell_type": "code",
      "metadata": {
        "id": "mPzwKTEhiIPa"
      },
      "source": [
        "y_proba_val = model.predict_proba(X_valid)[:,1] # get the proba of having a goal (pred=1)"
      ],
      "id": "mPzwKTEhiIPa",
      "execution_count": 125,
      "outputs": []
    },
    {
      "cell_type": "code",
      "metadata": {
        "id": "--dZClQLiM63",
        "outputId": "dec8ed54-959e-4a1b-ca42-1a3f67c19fb5",
        "colab": {
          "base_uri": "https://localhost:8080/"
        }
      },
      "source": [
        "model.score(X_valid,y_valid)"
      ],
      "id": "--dZClQLiM63",
      "execution_count": 130,
      "outputs": [
        {
          "output_type": "execute_result",
          "data": {
            "text/plain": [
              "0.9109415827193064"
            ]
          },
          "metadata": {},
          "execution_count": 130
        }
      ]
    },
    {
      "cell_type": "markdown",
      "metadata": {
        "id": "sVw66t1QhYSZ"
      },
      "source": [
        "# Export model on comet before plotting"
      ],
      "id": "sVw66t1QhYSZ"
    },
    {
      "cell_type": "code",
      "metadata": {
        "id": "IN7rF_wui8LW"
      },
      "source": [
        "weights_dir = \"../ift6758/models/weights\"\n",
        "experiment = \"Random-forest-with-FE2\"\n",
        "predscore_val_dict={}"
      ],
      "id": "IN7rF_wui8LW",
      "execution_count": 144,
      "outputs": []
    },
    {
      "cell_type": "code",
      "metadata": {
        "id": "LDQS_iZvkPTH",
        "outputId": "9abee784-3bf5-4cde-d931-ad12d2e9ec7b",
        "colab": {
          "base_uri": "https://localhost:8080/"
        }
      },
      "source": [
        "!ls .."
      ],
      "id": "LDQS_iZvkPTH",
      "execution_count": 140,
      "outputs": [
        {
          "output_type": "stream",
          "name": "stdout",
          "text": [
            "ift6758  ift6758-project-main\n"
          ]
        }
      ]
    },
    {
      "cell_type": "code",
      "metadata": {
        "id": "0VV3-XKcgDVq",
        "outputId": "061bbdc3-f6c4-435c-93cb-caafd87b1f65",
        "colab": {
          "base_uri": "https://localhost:8080/"
        }
      },
      "source": [
        "import joblib\n",
        "\n",
        "predscore_val_dict[experiment]={}\n",
        "predscore_val_dict[experiment]['true_valid_label']=y_valid\n",
        "predscore_val_dict[experiment]['proba']=y_proba_val\n",
        "predscore_val_dict[experiment]['prediction']=y_pred_valid\n",
        "\n",
        "## Dumping model\n",
        "filename=f\"{weights_dir}/{experiment}.pkl\"\n",
        "joblib.dump(model,filename)"
      ],
      "id": "0VV3-XKcgDVq",
      "execution_count": 145,
      "outputs": [
        {
          "output_type": "execute_result",
          "data": {
            "text/plain": [
              "['../ift6758/models/weights/Random-forest-with-FE2.pkl']"
            ]
          },
          "metadata": {},
          "execution_count": 145
        }
      ]
    },
    {
      "cell_type": "code",
      "metadata": {
        "id": "2jcopP6hg6ns",
        "outputId": "f1a8e9a2-2787-431d-b7ad-4637da5594bf",
        "colab": {
          "base_uri": "https://localhost:8080/"
        }
      },
      "source": [
        "exp.log_model(\"Random Forest\", \"../ift6758/models/weights/Random-forest-with-FE2.pkl\")"
      ],
      "id": "2jcopP6hg6ns",
      "execution_count": 150,
      "outputs": [
        {
          "output_type": "execute_result",
          "data": {
            "text/plain": [
              "{'api': 'https://www.comet.ml/api/rest/v2/experiment/asset/get-asset?assetId=c67d522e79cd4e61a3ead5de12207be8&experimentKey=61ab29d2969f46b3b444cf6aef7b24e6',\n",
              " 'assetId': 'c67d522e79cd4e61a3ead5de12207be8',\n",
              " 'web': 'https://www.comet.ml/api/asset/download?assetId=c67d522e79cd4e61a3ead5de12207be8&experimentKey=61ab29d2969f46b3b444cf6aef7b24e6'}"
            ]
          },
          "metadata": {},
          "execution_count": 150
        }
      ]
    },
    {
      "cell_type": "code",
      "metadata": {
        "id": "bcLokxdtlZuu",
        "outputId": "ac3cb1c8-359d-4819-add3-2b3eeefbf9e5",
        "colab": {
          "base_uri": "https://localhost:8080/"
        }
      },
      "source": [
        "exp.end()"
      ],
      "id": "bcLokxdtlZuu",
      "execution_count": 151,
      "outputs": [
        {
          "output_type": "stream",
          "name": "stderr",
          "text": [
            "COMET INFO: ---------------------------\n",
            "COMET INFO: Comet.ml Experiment Summary\n",
            "COMET INFO: ---------------------------\n",
            "COMET INFO:   Data:\n",
            "COMET INFO:     display_summary_level : 1\n",
            "COMET INFO:     url                   : https://www.comet.ml/morph-e/milestone-2/61ab29d2969f46b3b444cf6aef7b24e6\n",
            "COMET INFO:   Others:\n",
            "COMET INFO:     notebook_url : https://colab.research.google.com/notebook#fileId=https%3A%2F%2Fgithub.com%2FM0rph3e%2Fift6758-project-main%2Fblob%2Fbest_shot_trial%2Fnotebooks%2Ftry_your_best_shot.ipynb\n",
            "COMET INFO:   Uploads:\n",
            "COMET INFO:     environment details : 1\n",
            "COMET INFO:     filename            : 1\n",
            "COMET INFO:     git metadata        : 1\n",
            "COMET INFO:     installed packages  : 1\n",
            "COMET INFO:     model-element       : 1 (9.11 MB)\n",
            "COMET INFO:     notebook            : 1\n",
            "COMET INFO:     os packages         : 1\n",
            "COMET INFO:     source_code         : 1\n",
            "COMET INFO: ---------------------------\n",
            "COMET INFO: Uploading 1 metrics, params and output messages\n"
          ]
        }
      ]
    },
    {
      "cell_type": "code",
      "metadata": {
        "id": "BKMlJxoel-qB"
      },
      "source": [
        ""
      ],
      "id": "BKMlJxoel-qB",
      "execution_count": null,
      "outputs": []
    }
  ]
}