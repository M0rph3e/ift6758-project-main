{
 "cells": [
  {
   "cell_type": "markdown",
   "id": "ebf4668e-cf18-4e09-8240-4da3897207bd",
   "metadata": {},
   "source": [
    "# Notebook for feature engineering II"
   ]
  },
  {
   "cell_type": "code",
   "execution_count": 16,
   "id": "58c123d3-5b14-4efa-821d-bc6657fb8d15",
   "metadata": {},
   "outputs": [
    {
     "name": "stdout",
     "output_type": "stream",
     "text": [
      "The autoreload extension is already loaded. To reload it, use:\n",
      "  %reload_ext autoreload\n"
     ]
    }
   ],
   "source": [
    "%load_ext autoreload\n",
    "%autoreload 2\n",
    "\n",
    "#Imports\n",
    "import pandas as pd\n",
    "import requests\n",
    "import os\n",
    "from tqdm.notebook import tqdm\n",
    "import pickle\n",
    "import sys\n",
    "import json\n",
    "import numpy as np\n",
    "import matplotlib.pyplot as plt\n",
    "import seaborn as sns\n",
    "\n",
    "from  ift6758.data.data_acquisition import Season\n",
    "from ift6758.visualizations.simple_visualization import Utilities "
   ]
  },
  {
   "cell_type": "code",
   "execution_count": 17,
   "id": "823160dd-de8e-4126-8ad9-1c6955d3af14",
   "metadata": {},
   "outputs": [],
   "source": [
    "season2015 = Season(2015,\"../ift6758/data\")\n",
    "season2016 = Season(2016,\"../ift6758/data\")\n",
    "season2017 = Season(2017,\"../ift6758/data\")\n",
    "season2018 = Season(2018,\"../ift6758/data\")\n",
    "season2019 = Season(2019,\"../ift6758/data\")"
   ]
  },
  {
   "cell_type": "code",
   "execution_count": 18,
   "id": "a84abcf8-ee8d-45e6-86f9-962f3277c2b8",
   "metadata": {},
   "outputs": [
    {
     "name": "stdout",
     "output_type": "stream",
     "text": [
      "File already Exists, loading from ../ift6758/data/PICKLE//2015_clean.pkl\n",
      "File already Exists, loading from ../ift6758/data/PICKLE//2016_clean.pkl\n",
      "File already Exists, loading from ../ift6758/data/PICKLE//2017_clean.pkl\n",
      "File already Exists, loading from ../ift6758/data/PICKLE//2018_clean.pkl\n",
      "File already Exists, loading from ../ift6758/data/PICKLE//2019_clean.pkl\n"
     ]
    }
   ],
   "source": [
    "df_2015 = season2015.clean_data()\n",
    "df_2016 = season2016.clean_data()\n",
    "df_2017 = season2017.clean_data()\n",
    "df_2018 = season2018.clean_data()\n",
    "df_2019 = season2019.clean_data()"
   ]
  },
  {
   "cell_type": "code",
   "execution_count": 19,
   "id": "0972f8d1-11a3-4b5d-a318-6ed58db72357",
   "metadata": {},
   "outputs": [
    {
     "name": "stdout",
     "output_type": "stream",
     "text": [
      "<class 'pandas.core.frame.DataFrame'>\n",
      "RangeIndex: 76620 entries, 0 to 76619\n",
      "Data columns (total 14 columns):\n",
      " #   Column                     Non-Null Count  Dtype  \n",
      "---  ------                     --------------  -----  \n",
      " 0   result.event               76620 non-null  object \n",
      " 1   gamePk                     76620 non-null  object \n",
      " 2   team.name                  76620 non-null  object \n",
      " 3   about.period               76620 non-null  int64  \n",
      " 4   about.periodTime           76620 non-null  object \n",
      " 5   about.periodType           76620 non-null  object \n",
      " 6   about.periodTimeRemaining  76620 non-null  object \n",
      " 7   coordinates.x              76619 non-null  float64\n",
      " 8   coordinates.y              76619 non-null  float64\n",
      " 9   result.secondaryType       76608 non-null  object \n",
      " 10  result.emptyNet            7157 non-null   object \n",
      " 11  result.strength.name       7361 non-null   object \n",
      " 12  shooter                    76620 non-null  object \n",
      " 13  goalie                     76251 non-null  object \n",
      "dtypes: float64(2), int64(1), object(11)\n",
      "memory usage: 8.2+ MB\n"
     ]
    }
   ],
   "source": [
    "df_2019.info()"
   ]
  },
  {
   "cell_type": "code",
   "execution_count": 15,
   "id": "f9967840-396e-4839-866c-4bdaba47841a",
   "metadata": {},
   "outputs": [
    {
     "data": {
      "text/plain": [
       "<bound method NDFrame._add_numeric_operations.<locals>.sum of 0            Tip-In\n",
       "1         Snap Shot\n",
       "2         Snap Shot\n",
       "3        Wrist Shot\n",
       "4         Slap Shot\n",
       "            ...    \n",
       "76615     Snap Shot\n",
       "76616    Wrist Shot\n",
       "76617     Snap Shot\n",
       "76618    Wrist Shot\n",
       "76619    Wrist Shot\n",
       "Name: result.secondaryType, Length: 76620, dtype: object>"
      ]
     },
     "execution_count": 15,
     "metadata": {},
     "output_type": "execute_result"
    }
   ],
   "source": [
    " df_2019['result.secondaryType'].sum"
   ]
  },
  {
   "cell_type": "markdown",
   "id": "5073e52f-0c74-4016-abf3-b90791355962",
   "metadata": {},
   "source": [
    "## From the already tidied data, include the following features:\n",
    "* Game seconds\n",
    "* Game period\n",
    "* Coordinates (x,y, separate columns)\n",
    "* Shot distance\n",
    "* Shot angle\n",
    "* Shot type\n",
    "* Empty net\n"
   ]
  },
  {
   "cell_type": "markdown",
   "id": "02e2d891-3309-4efb-b251-2da94e615dc7",
   "metadata": {},
   "source": [
    "### Here the *Game seconds* feature preprocessing"
   ]
  },
  {
   "cell_type": "code",
   "execution_count": 20,
   "id": "9a95d23a-f4e4-4cce-8301-6f6d11675dfb",
   "metadata": {},
   "outputs": [
    {
     "data": {
      "text/plain": [
       "0        00:25\n",
       "1        01:31\n",
       "2        03:23\n",
       "3        03:56\n",
       "4        04:47\n",
       "         ...  \n",
       "76615    16:01\n",
       "76616    17:20\n",
       "76617    18:50\n",
       "76618    19:27\n",
       "76619    19:45\n",
       "Name: about.periodTime, Length: 76620, dtype: object"
      ]
     },
     "execution_count": 20,
     "metadata": {},
     "output_type": "execute_result"
    }
   ],
   "source": [
    "df_2019['about.periodTime']"
   ]
  },
  {
   "cell_type": "code",
   "execution_count": 21,
   "id": "8331fdde-a468-4247-b6f4-2d0beea56253",
   "metadata": {},
   "outputs": [],
   "source": [
    "df_test = pd.DataFrame()\n",
    "df_test['GameSeconds'] = pd.to_timedelta('00:' + df_2019['about.periodTime'].astype(str)) #concat '00:' to have the format 'hh:mm:ss'"
   ]
  },
  {
   "cell_type": "code",
   "execution_count": 22,
   "id": "7f0ab769-1873-42cf-8c9c-e01b225d0b0e",
   "metadata": {},
   "outputs": [],
   "source": [
    "df_test['GameSeconds'] = df_test['GameSeconds'].dt.total_seconds()"
   ]
  },
  {
   "cell_type": "code",
   "execution_count": 23,
   "id": "29ced47e-bf87-49bd-abee-d7262a7cb8ef",
   "metadata": {},
   "outputs": [
    {
     "data": {
      "text/html": [
       "<div>\n",
       "<style scoped>\n",
       "    .dataframe tbody tr th:only-of-type {\n",
       "        vertical-align: middle;\n",
       "    }\n",
       "\n",
       "    .dataframe tbody tr th {\n",
       "        vertical-align: top;\n",
       "    }\n",
       "\n",
       "    .dataframe thead th {\n",
       "        text-align: right;\n",
       "    }\n",
       "</style>\n",
       "<table border=\"1\" class=\"dataframe\">\n",
       "  <thead>\n",
       "    <tr style=\"text-align: right;\">\n",
       "      <th></th>\n",
       "      <th>GameSeconds</th>\n",
       "    </tr>\n",
       "  </thead>\n",
       "  <tbody>\n",
       "    <tr>\n",
       "      <th>0</th>\n",
       "      <td>25.0</td>\n",
       "    </tr>\n",
       "    <tr>\n",
       "      <th>1</th>\n",
       "      <td>91.0</td>\n",
       "    </tr>\n",
       "    <tr>\n",
       "      <th>2</th>\n",
       "      <td>203.0</td>\n",
       "    </tr>\n",
       "    <tr>\n",
       "      <th>3</th>\n",
       "      <td>236.0</td>\n",
       "    </tr>\n",
       "    <tr>\n",
       "      <th>4</th>\n",
       "      <td>287.0</td>\n",
       "    </tr>\n",
       "    <tr>\n",
       "      <th>...</th>\n",
       "      <td>...</td>\n",
       "    </tr>\n",
       "    <tr>\n",
       "      <th>76615</th>\n",
       "      <td>961.0</td>\n",
       "    </tr>\n",
       "    <tr>\n",
       "      <th>76616</th>\n",
       "      <td>1040.0</td>\n",
       "    </tr>\n",
       "    <tr>\n",
       "      <th>76617</th>\n",
       "      <td>1130.0</td>\n",
       "    </tr>\n",
       "    <tr>\n",
       "      <th>76618</th>\n",
       "      <td>1167.0</td>\n",
       "    </tr>\n",
       "    <tr>\n",
       "      <th>76619</th>\n",
       "      <td>1185.0</td>\n",
       "    </tr>\n",
       "  </tbody>\n",
       "</table>\n",
       "<p>76620 rows × 1 columns</p>\n",
       "</div>"
      ],
      "text/plain": [
       "       GameSeconds\n",
       "0             25.0\n",
       "1             91.0\n",
       "2            203.0\n",
       "3            236.0\n",
       "4            287.0\n",
       "...            ...\n",
       "76615        961.0\n",
       "76616       1040.0\n",
       "76617       1130.0\n",
       "76618       1167.0\n",
       "76619       1185.0\n",
       "\n",
       "[76620 rows x 1 columns]"
      ]
     },
     "execution_count": 23,
     "metadata": {},
     "output_type": "execute_result"
    }
   ],
   "source": [
    "df_test"
   ]
  },
  {
   "cell_type": "code",
   "execution_count": 10,
   "id": "bee08400-39cb-4a89-8f10-b775f64b1f9e",
   "metadata": {},
   "outputs": [
    {
     "name": "stdout",
     "output_type": "stream",
     "text": [
      "<class 'pandas.core.frame.DataFrame'>\n",
      "RangeIndex: 76620 entries, 0 to 76619\n",
      "Data columns (total 14 columns):\n",
      " #   Column                     Non-Null Count  Dtype  \n",
      "---  ------                     --------------  -----  \n",
      " 0   result.event               76620 non-null  object \n",
      " 1   gamePk                     76620 non-null  object \n",
      " 2   team.name                  76620 non-null  object \n",
      " 3   about.period               76620 non-null  int64  \n",
      " 4   about.periodTime           76620 non-null  object \n",
      " 5   about.periodType           76620 non-null  object \n",
      " 6   about.periodTimeRemaining  76620 non-null  object \n",
      " 7   coordinates.x              76619 non-null  float64\n",
      " 8   coordinates.y              76619 non-null  float64\n",
      " 9   result.secondaryType       76608 non-null  object \n",
      " 10  result.emptyNet            7157 non-null   object \n",
      " 11  result.strength.name       7361 non-null   object \n",
      " 12  shooter                    76620 non-null  object \n",
      " 13  goalie                     76251 non-null  object \n",
      "dtypes: float64(2), int64(1), object(11)\n",
      "memory usage: 8.2+ MB\n"
     ]
    }
   ],
   "source": [
    "df_2019.info()"
   ]
  },
  {
   "cell_type": "code",
   "execution_count": 15,
   "id": "8b1c1d3d-8942-45a6-88dc-8389595feb80",
   "metadata": {},
   "outputs": [
    {
     "data": {
      "text/html": [
       "<div>\n",
       "<style scoped>\n",
       "    .dataframe tbody tr th:only-of-type {\n",
       "        vertical-align: middle;\n",
       "    }\n",
       "\n",
       "    .dataframe tbody tr th {\n",
       "        vertical-align: top;\n",
       "    }\n",
       "\n",
       "    .dataframe thead th {\n",
       "        text-align: right;\n",
       "    }\n",
       "</style>\n",
       "<table border=\"1\" class=\"dataframe\">\n",
       "  <thead>\n",
       "    <tr style=\"text-align: right;\">\n",
       "      <th></th>\n",
       "      <th>result.event</th>\n",
       "      <th>gamePk</th>\n",
       "      <th>team.name</th>\n",
       "      <th>about.period</th>\n",
       "      <th>about.periodTime</th>\n",
       "      <th>about.periodType</th>\n",
       "      <th>about.periodTimeRemaining</th>\n",
       "      <th>coordinates.x</th>\n",
       "      <th>coordinates.y</th>\n",
       "      <th>result.secondaryType</th>\n",
       "      <th>result.emptyNet</th>\n",
       "      <th>result.strength.name</th>\n",
       "      <th>shooter</th>\n",
       "      <th>goalie</th>\n",
       "    </tr>\n",
       "  </thead>\n",
       "  <tbody>\n",
       "    <tr>\n",
       "      <th>0</th>\n",
       "      <td>Goal</td>\n",
       "      <td>2019020001</td>\n",
       "      <td>Ottawa Senators</td>\n",
       "      <td>1</td>\n",
       "      <td>00:25</td>\n",
       "      <td>REGULAR</td>\n",
       "      <td>19:35</td>\n",
       "      <td>85.0</td>\n",
       "      <td>-1.0</td>\n",
       "      <td>Tip-In</td>\n",
       "      <td>False</td>\n",
       "      <td>Even</td>\n",
       "      <td>Brady Tkachuk</td>\n",
       "      <td>Frederik Andersen</td>\n",
       "    </tr>\n",
       "    <tr>\n",
       "      <th>1</th>\n",
       "      <td>Shot</td>\n",
       "      <td>2019020001</td>\n",
       "      <td>Toronto Maple Leafs</td>\n",
       "      <td>1</td>\n",
       "      <td>01:31</td>\n",
       "      <td>REGULAR</td>\n",
       "      <td>18:29</td>\n",
       "      <td>-32.0</td>\n",
       "      <td>-2.0</td>\n",
       "      <td>Snap Shot</td>\n",
       "      <td>NaN</td>\n",
       "      <td>NaN</td>\n",
       "      <td>Morgan Rielly</td>\n",
       "      <td>Craig Anderson</td>\n",
       "    </tr>\n",
       "    <tr>\n",
       "      <th>2</th>\n",
       "      <td>Shot</td>\n",
       "      <td>2019020001</td>\n",
       "      <td>Ottawa Senators</td>\n",
       "      <td>1</td>\n",
       "      <td>03:23</td>\n",
       "      <td>REGULAR</td>\n",
       "      <td>16:37</td>\n",
       "      <td>63.0</td>\n",
       "      <td>-6.0</td>\n",
       "      <td>Snap Shot</td>\n",
       "      <td>NaN</td>\n",
       "      <td>NaN</td>\n",
       "      <td>Dylan DeMelo</td>\n",
       "      <td>Frederik Andersen</td>\n",
       "    </tr>\n",
       "    <tr>\n",
       "      <th>3</th>\n",
       "      <td>Shot</td>\n",
       "      <td>2019020001</td>\n",
       "      <td>Toronto Maple Leafs</td>\n",
       "      <td>1</td>\n",
       "      <td>03:56</td>\n",
       "      <td>REGULAR</td>\n",
       "      <td>16:04</td>\n",
       "      <td>-59.0</td>\n",
       "      <td>-20.0</td>\n",
       "      <td>Wrist Shot</td>\n",
       "      <td>NaN</td>\n",
       "      <td>NaN</td>\n",
       "      <td>Morgan Rielly</td>\n",
       "      <td>Craig Anderson</td>\n",
       "    </tr>\n",
       "    <tr>\n",
       "      <th>4</th>\n",
       "      <td>Shot</td>\n",
       "      <td>2019020001</td>\n",
       "      <td>Toronto Maple Leafs</td>\n",
       "      <td>1</td>\n",
       "      <td>04:47</td>\n",
       "      <td>REGULAR</td>\n",
       "      <td>15:13</td>\n",
       "      <td>-42.0</td>\n",
       "      <td>-29.0</td>\n",
       "      <td>Slap Shot</td>\n",
       "      <td>NaN</td>\n",
       "      <td>NaN</td>\n",
       "      <td>Tyson Barrie</td>\n",
       "      <td>Craig Anderson</td>\n",
       "    </tr>\n",
       "    <tr>\n",
       "      <th>...</th>\n",
       "      <td>...</td>\n",
       "      <td>...</td>\n",
       "      <td>...</td>\n",
       "      <td>...</td>\n",
       "      <td>...</td>\n",
       "      <td>...</td>\n",
       "      <td>...</td>\n",
       "      <td>...</td>\n",
       "      <td>...</td>\n",
       "      <td>...</td>\n",
       "      <td>...</td>\n",
       "      <td>...</td>\n",
       "      <td>...</td>\n",
       "      <td>...</td>\n",
       "    </tr>\n",
       "    <tr>\n",
       "      <th>76615</th>\n",
       "      <td>Shot</td>\n",
       "      <td>2019030416</td>\n",
       "      <td>Tampa Bay Lightning</td>\n",
       "      <td>3</td>\n",
       "      <td>16:01</td>\n",
       "      <td>REGULAR</td>\n",
       "      <td>03:59</td>\n",
       "      <td>-59.0</td>\n",
       "      <td>-24.0</td>\n",
       "      <td>Snap Shot</td>\n",
       "      <td>NaN</td>\n",
       "      <td>NaN</td>\n",
       "      <td>Anthony Cirelli</td>\n",
       "      <td>Anton Khudobin</td>\n",
       "    </tr>\n",
       "    <tr>\n",
       "      <th>76616</th>\n",
       "      <td>Shot</td>\n",
       "      <td>2019030416</td>\n",
       "      <td>Tampa Bay Lightning</td>\n",
       "      <td>3</td>\n",
       "      <td>17:20</td>\n",
       "      <td>REGULAR</td>\n",
       "      <td>02:40</td>\n",
       "      <td>-81.0</td>\n",
       "      <td>3.0</td>\n",
       "      <td>Wrist Shot</td>\n",
       "      <td>NaN</td>\n",
       "      <td>NaN</td>\n",
       "      <td>Blake Coleman</td>\n",
       "      <td>Anton Khudobin</td>\n",
       "    </tr>\n",
       "    <tr>\n",
       "      <th>76617</th>\n",
       "      <td>Shot</td>\n",
       "      <td>2019030416</td>\n",
       "      <td>Dallas Stars</td>\n",
       "      <td>3</td>\n",
       "      <td>18:50</td>\n",
       "      <td>REGULAR</td>\n",
       "      <td>01:10</td>\n",
       "      <td>34.0</td>\n",
       "      <td>-6.0</td>\n",
       "      <td>Snap Shot</td>\n",
       "      <td>NaN</td>\n",
       "      <td>NaN</td>\n",
       "      <td>John Klingberg</td>\n",
       "      <td>Andrei Vasilevskiy</td>\n",
       "    </tr>\n",
       "    <tr>\n",
       "      <th>76618</th>\n",
       "      <td>Shot</td>\n",
       "      <td>2019030416</td>\n",
       "      <td>Dallas Stars</td>\n",
       "      <td>3</td>\n",
       "      <td>19:27</td>\n",
       "      <td>REGULAR</td>\n",
       "      <td>00:33</td>\n",
       "      <td>31.0</td>\n",
       "      <td>10.0</td>\n",
       "      <td>Wrist Shot</td>\n",
       "      <td>NaN</td>\n",
       "      <td>NaN</td>\n",
       "      <td>John Klingberg</td>\n",
       "      <td>Andrei Vasilevskiy</td>\n",
       "    </tr>\n",
       "    <tr>\n",
       "      <th>76619</th>\n",
       "      <td>Shot</td>\n",
       "      <td>2019030416</td>\n",
       "      <td>Dallas Stars</td>\n",
       "      <td>3</td>\n",
       "      <td>19:45</td>\n",
       "      <td>REGULAR</td>\n",
       "      <td>00:15</td>\n",
       "      <td>77.0</td>\n",
       "      <td>0.0</td>\n",
       "      <td>Wrist Shot</td>\n",
       "      <td>NaN</td>\n",
       "      <td>NaN</td>\n",
       "      <td>Joe Pavelski</td>\n",
       "      <td>Andrei Vasilevskiy</td>\n",
       "    </tr>\n",
       "  </tbody>\n",
       "</table>\n",
       "<p>76620 rows × 14 columns</p>\n",
       "</div>"
      ],
      "text/plain": [
       "      result.event      gamePk            team.name  about.period  \\\n",
       "0             Goal  2019020001      Ottawa Senators             1   \n",
       "1             Shot  2019020001  Toronto Maple Leafs             1   \n",
       "2             Shot  2019020001      Ottawa Senators             1   \n",
       "3             Shot  2019020001  Toronto Maple Leafs             1   \n",
       "4             Shot  2019020001  Toronto Maple Leafs             1   \n",
       "...            ...         ...                  ...           ...   \n",
       "76615         Shot  2019030416  Tampa Bay Lightning             3   \n",
       "76616         Shot  2019030416  Tampa Bay Lightning             3   \n",
       "76617         Shot  2019030416         Dallas Stars             3   \n",
       "76618         Shot  2019030416         Dallas Stars             3   \n",
       "76619         Shot  2019030416         Dallas Stars             3   \n",
       "\n",
       "      about.periodTime about.periodType about.periodTimeRemaining  \\\n",
       "0                00:25          REGULAR                     19:35   \n",
       "1                01:31          REGULAR                     18:29   \n",
       "2                03:23          REGULAR                     16:37   \n",
       "3                03:56          REGULAR                     16:04   \n",
       "4                04:47          REGULAR                     15:13   \n",
       "...                ...              ...                       ...   \n",
       "76615            16:01          REGULAR                     03:59   \n",
       "76616            17:20          REGULAR                     02:40   \n",
       "76617            18:50          REGULAR                     01:10   \n",
       "76618            19:27          REGULAR                     00:33   \n",
       "76619            19:45          REGULAR                     00:15   \n",
       "\n",
       "       coordinates.x  coordinates.y result.secondaryType result.emptyNet  \\\n",
       "0               85.0           -1.0               Tip-In           False   \n",
       "1              -32.0           -2.0            Snap Shot             NaN   \n",
       "2               63.0           -6.0            Snap Shot             NaN   \n",
       "3              -59.0          -20.0           Wrist Shot             NaN   \n",
       "4              -42.0          -29.0            Slap Shot             NaN   \n",
       "...              ...            ...                  ...             ...   \n",
       "76615          -59.0          -24.0            Snap Shot             NaN   \n",
       "76616          -81.0            3.0           Wrist Shot             NaN   \n",
       "76617           34.0           -6.0            Snap Shot             NaN   \n",
       "76618           31.0           10.0           Wrist Shot             NaN   \n",
       "76619           77.0            0.0           Wrist Shot             NaN   \n",
       "\n",
       "      result.strength.name          shooter              goalie  \n",
       "0                     Even    Brady Tkachuk   Frederik Andersen  \n",
       "1                      NaN    Morgan Rielly      Craig Anderson  \n",
       "2                      NaN     Dylan DeMelo   Frederik Andersen  \n",
       "3                      NaN    Morgan Rielly      Craig Anderson  \n",
       "4                      NaN     Tyson Barrie      Craig Anderson  \n",
       "...                    ...              ...                 ...  \n",
       "76615                  NaN  Anthony Cirelli      Anton Khudobin  \n",
       "76616                  NaN    Blake Coleman      Anton Khudobin  \n",
       "76617                  NaN   John Klingberg  Andrei Vasilevskiy  \n",
       "76618                  NaN   John Klingberg  Andrei Vasilevskiy  \n",
       "76619                  NaN     Joe Pavelski  Andrei Vasilevskiy  \n",
       "\n",
       "[76620 rows x 14 columns]"
      ]
     },
     "execution_count": 15,
     "metadata": {},
     "output_type": "execute_result"
    }
   ],
   "source": [
    "df_2019"
   ]
  },
  {
   "cell_type": "code",
   "execution_count": 40,
   "id": "28babde0-7801-4885-89eb-a3ee867aff74",
   "metadata": {},
   "outputs": [],
   "source": [
    "from ift6758.features.feature_engineering2 import SeasonDataSetTwo\n",
    "years = [2015,2016,2017,2018]\n",
    "new_2018 = SeasonDataSetTwo(2018)"
   ]
  },
  {
   "cell_type": "code",
   "execution_count": 41,
   "id": "f69d87f7-a080-4447-929f-f8131d439c1b",
   "metadata": {},
   "outputs": [
    {
     "ename": "TypeError",
     "evalue": "'int' object is not iterable",
     "output_type": "error",
     "traceback": [
      "\u001b[0;31m---------------------------------------------------------------------------\u001b[0m",
      "\u001b[0;31mTypeError\u001b[0m                                 Traceback (most recent call last)",
      "\u001b[0;32m/tmp/ipykernel_2184/3395792458.py\u001b[0m in \u001b[0;36m<module>\u001b[0;34m\u001b[0m\n\u001b[0;32m----> 1\u001b[0;31m \u001b[0mdf_new_2018\u001b[0m \u001b[0;34m=\u001b[0m \u001b[0mnew_2018\u001b[0m\u001b[0;34m.\u001b[0m\u001b[0mcombine_season_periods\u001b[0m\u001b[0;34m(\u001b[0m\u001b[0;34m)\u001b[0m\u001b[0;34m\u001b[0m\u001b[0;34m\u001b[0m\u001b[0m\n\u001b[0m",
      "\u001b[0;32m~/Maitrise UdeM/IFT-6758/Projet/ift6758-project-template-main/ift6758/features/feature_engineering2.py\u001b[0m in \u001b[0;36mcombine_season_periods\u001b[0;34m(self)\u001b[0m\n\u001b[1;32m     30\u001b[0m         \u001b[0mseasons\u001b[0m\u001b[0;34m=\u001b[0m \u001b[0;34m[\u001b[0m\u001b[0;34m]\u001b[0m\u001b[0;34m\u001b[0m\u001b[0;34m\u001b[0m\u001b[0m\n\u001b[1;32m     31\u001b[0m         \u001b[0mperiods\u001b[0m\u001b[0;34m=\u001b[0m\u001b[0;34m[\u001b[0m\u001b[0;34m]\u001b[0m\u001b[0;34m\u001b[0m\u001b[0;34m\u001b[0m\u001b[0m\n\u001b[0;32m---> 32\u001b[0;31m         \u001b[0;32mfor\u001b[0m \u001b[0myr\u001b[0m \u001b[0;32min\u001b[0m \u001b[0mself\u001b[0m\u001b[0;34m.\u001b[0m\u001b[0myears\u001b[0m\u001b[0;34m:\u001b[0m\u001b[0;34m\u001b[0m\u001b[0;34m\u001b[0m\u001b[0m\n\u001b[0m\u001b[1;32m     33\u001b[0m             \u001b[0mseason\u001b[0m \u001b[0;34m=\u001b[0m \u001b[0mSeason\u001b[0m\u001b[0;34m(\u001b[0m\u001b[0myr\u001b[0m\u001b[0;34m,\u001b[0m\u001b[0;34m\"../ift6758/data\"\u001b[0m\u001b[0;34m)\u001b[0m\u001b[0;34m\u001b[0m\u001b[0;34m\u001b[0m\u001b[0m\n\u001b[1;32m     34\u001b[0m             \u001b[0mdf_season\u001b[0m \u001b[0;34m=\u001b[0m \u001b[0mseason\u001b[0m\u001b[0;34m.\u001b[0m\u001b[0mclean_data\u001b[0m\u001b[0;34m(\u001b[0m\u001b[0;34m)\u001b[0m\u001b[0;34m\u001b[0m\u001b[0;34m\u001b[0m\u001b[0m\n",
      "\u001b[0;31mTypeError\u001b[0m: 'int' object is not iterable"
     ]
    }
   ],
   "source": [
    "df_new_2018 = new_2018.combine_season_periods()"
   ]
  },
  {
   "cell_type": "code",
   "execution_count": null,
   "id": "ec86a241-19c9-4758-88f4-8c88b7681cf7",
   "metadata": {},
   "outputs": [],
   "source": [
    "df_new_2018 = new_2018.get_tidy_data()"
   ]
  },
  {
   "cell_type": "code",
   "execution_count": null,
   "id": "b906d8b5-2f46-47fc-b6a5-8e4e2b72ab3c",
   "metadata": {},
   "outputs": [],
   "source": [
    "df_new_2018.head()"
   ]
  },
  {
   "cell_type": "code",
   "execution_count": null,
   "id": "ba0c2d6b-3660-4d7c-919f-67f1fb22e331",
   "metadata": {},
   "outputs": [],
   "source": []
  }
 ],
 "metadata": {
  "kernelspec": {
   "display_name": "ift6758-conda-env",
   "language": "python",
   "name": "ift6758-conda-env"
  },
  "language_info": {
   "codemirror_mode": {
    "name": "ipython",
    "version": 3
   },
   "file_extension": ".py",
   "mimetype": "text/x-python",
   "name": "python",
   "nbconvert_exporter": "python",
   "pygments_lexer": "ipython3",
   "version": "3.9.7"
  }
 },
 "nbformat": 4,
 "nbformat_minor": 5
}
