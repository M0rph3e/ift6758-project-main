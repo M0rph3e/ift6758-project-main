{
 "cells": [
  {
   "cell_type": "markdown",
   "id": "ebf4668e-cf18-4e09-8240-4da3897207bd",
   "metadata": {},
   "source": [
    "# Notebook for feature engineering II"
   ]
  },
  {
   "cell_type": "code",
   "execution_count": 1,
   "id": "58c123d3-5b14-4efa-821d-bc6657fb8d15",
   "metadata": {},
   "outputs": [],
   "source": [
    "%load_ext autoreload\n",
    "%autoreload 2\n",
    "\n",
    "#Imports\n",
    "import pandas as pd\n",
    "import requests\n",
    "import os\n",
    "from tqdm.notebook import tqdm\n",
    "import pickle\n",
    "import sys\n",
    "import json\n",
    "import numpy as np\n",
    "import matplotlib.pyplot as plt\n",
    "import seaborn as sns\n",
    "\n",
    "from  ift6758.data.data_acquisition import Season\n",
    "from ift6758.visualizations.simple_visualization import Utilities "
   ]
  },
  {
   "cell_type": "code",
   "execution_count": 2,
   "id": "823160dd-de8e-4126-8ad9-1c6955d3af14",
   "metadata": {},
   "outputs": [],
   "source": [
    "season2015 = Season(2015,\"../ift6758/data\")\n",
    "season2016 = Season(2016,\"../ift6758/data\")\n",
    "season2017 = Season(2017,\"../ift6758/data\")\n",
    "season2018 = Season(2018,\"../ift6758/data\")\n",
    "season2019 = Season(2019,\"../ift6758/data\")"
   ]
  },
  {
   "cell_type": "code",
   "execution_count": 3,
   "id": "a84abcf8-ee8d-45e6-86f9-962f3277c2b8",
   "metadata": {},
   "outputs": [
    {
     "name": "stdout",
     "output_type": "stream",
     "text": [
      "File already Exists, loading from ../ift6758/data/PICKLE//2015_clean.pkl\n",
      "File already Exists, loading from ../ift6758/data/PICKLE//2016_clean.pkl\n",
      "File already Exists, loading from ../ift6758/data/PICKLE//2017_clean.pkl\n",
      "File already Exists, loading from ../ift6758/data/PICKLE//2018_clean.pkl\n",
      "File already Exists, loading from ../ift6758/data/PICKLE//2019_clean.pkl\n"
     ]
    }
   ],
   "source": [
    "df_2015 = season2015.clean_data()\n",
    "df_2016 = season2016.clean_data()\n",
    "df_2017 = season2017.clean_data()\n",
    "df_2018 = season2018.clean_data()\n",
    "df_2019 = season2019.clean_data()"
   ]
  },
  {
   "cell_type": "code",
   "execution_count": 31,
   "id": "0972f8d1-11a3-4b5d-a318-6ed58db72357",
   "metadata": {},
   "outputs": [
    {
     "name": "stdout",
     "output_type": "stream",
     "text": [
      "<class 'pandas.core.frame.DataFrame'>\n",
      "RangeIndex: 83057 entries, 0 to 83056\n",
      "Data columns (total 14 columns):\n",
      " #   Column                     Non-Null Count  Dtype  \n",
      "---  ------                     --------------  -----  \n",
      " 0   result.event               83057 non-null  object \n",
      " 1   gamePk                     83057 non-null  object \n",
      " 2   team.name                  83057 non-null  object \n",
      " 3   about.period               83057 non-null  int64  \n",
      " 4   about.periodTime           83057 non-null  object \n",
      " 5   about.periodType           83057 non-null  object \n",
      " 6   about.periodTimeRemaining  83057 non-null  object \n",
      " 7   coordinates.x              82987 non-null  float64\n",
      " 8   coordinates.y              82987 non-null  float64\n",
      " 9   result.secondaryType       82978 non-null  object \n",
      " 10  result.emptyNet            7815 non-null   object \n",
      " 11  result.strength.name       8037 non-null   object \n",
      " 12  shooter                    83057 non-null  object \n",
      " 13  goalie                     82659 non-null  object \n",
      "dtypes: float64(2), int64(1), object(11)\n",
      "memory usage: 8.9+ MB\n"
     ]
    },
    {
     "data": {
      "text/plain": [
       "(None,\n",
       "   result.event      gamePk             team.name  about.period  \\\n",
       " 0         Shot  2019010001  Vegas Golden Knights             1   \n",
       " 1         Shot  2019010001       Arizona Coyotes             1   \n",
       " 2         Shot  2019010001  Vegas Golden Knights             1   \n",
       " \n",
       "   about.periodTime about.periodType about.periodTimeRemaining  coordinates.x  \\\n",
       " 0            00:52          REGULAR                     19:08          -34.0   \n",
       " 1            01:12          REGULAR                     18:48           67.0   \n",
       " 2            01:46          REGULAR                     18:14          -36.0   \n",
       " \n",
       "    coordinates.y result.secondaryType result.emptyNet result.strength.name  \\\n",
       " 0           19.0           Wrist Shot             NaN                  NaN   \n",
       " 1          -15.0            Snap Shot             NaN                  NaN   \n",
       " 2           32.0            Snap Shot             NaN                  NaN   \n",
       " \n",
       "            shooter          goalie  \n",
       " 0     Reilly Smith       Adin Hill  \n",
       " 1     Robbie Russo  Malcolm Subban  \n",
       " 2  Zach Whitecloud       Adin Hill  )"
      ]
     },
     "execution_count": 31,
     "metadata": {},
     "output_type": "execute_result"
    }
   ],
   "source": [
    "df_2019.info()"
   ]
  },
  {
   "cell_type": "code",
   "execution_count": 123,
   "id": "f9967840-396e-4839-866c-4bdaba47841a",
   "metadata": {},
   "outputs": [
    {
     "data": {
      "text/plain": [
       "<bound method NDFrame._add_numeric_operations.<locals>.sum of 0        Wrist Shot\n",
       "1         Snap Shot\n",
       "2         Snap Shot\n",
       "3         Snap Shot\n",
       "4        Wrist Shot\n",
       "            ...    \n",
       "83052    Wrist Shot\n",
       "83053      Backhand\n",
       "83054    Wrist Shot\n",
       "83055    Wrist Shot\n",
       "83056    Wrist Shot\n",
       "Name: result.secondaryType, Length: 83057, dtype: object>"
      ]
     },
     "execution_count": 123,
     "metadata": {},
     "output_type": "execute_result"
    }
   ],
   "source": [
    " df_2019['result.secondaryType'].sum"
   ]
  },
  {
   "cell_type": "markdown",
   "id": "5073e52f-0c74-4016-abf3-b90791355962",
   "metadata": {},
   "source": [
    "## From the already tidied data, include the following features:\n",
    "* Game seconds\n",
    "* Game period\n",
    "* Coordinates (x,y, separate columns)\n",
    "* Shot distance\n",
    "* Shot angle\n",
    "* Shot type\n",
    "* Empty net\n"
   ]
  },
  {
   "cell_type": "markdown",
   "id": "02e2d891-3309-4efb-b251-2da94e615dc7",
   "metadata": {},
   "source": [
    "### Here the *Game seconds* feature preprocessing"
   ]
  },
  {
   "cell_type": "code",
   "execution_count": 72,
   "id": "9a95d23a-f4e4-4cce-8301-6f6d11675dfb",
   "metadata": {},
   "outputs": [
    {
     "data": {
      "text/plain": [
       "0        00:52\n",
       "1        01:12\n",
       "2        01:46\n",
       "3        04:00\n",
       "4        04:39\n",
       "         ...  \n",
       "83052    05:04\n",
       "83053    05:22\n",
       "83054    06:33\n",
       "83055    07:24\n",
       "83056    08:02\n",
       "Name: about.periodTime, Length: 83057, dtype: object"
      ]
     },
     "execution_count": 72,
     "metadata": {},
     "output_type": "execute_result"
    }
   ],
   "source": [
    "df_2019['about.periodTime']"
   ]
  },
  {
   "cell_type": "code",
   "execution_count": 86,
   "id": "8331fdde-a468-4247-b6f4-2d0beea56253",
   "metadata": {},
   "outputs": [],
   "source": [
    "df_test = pd.DataFrame()\n",
    "df_test['about.periodTime'] = pd.to_timedelta('00:' + df_2019['about.periodTime'].astype(str)) #concat '00:' to have the format 'hh:mm:ss'"
   ]
  },
  {
   "cell_type": "code",
   "execution_count": 104,
   "id": "7f0ab769-1873-42cf-8c9c-e01b225d0b0e",
   "metadata": {},
   "outputs": [],
   "source": [
    "df_test['GameSeconds'] = df_test['about.periodTime'].dt.total_seconds()"
   ]
  },
  {
   "cell_type": "code",
   "execution_count": 105,
   "id": "29ced47e-bf87-49bd-abee-d7262a7cb8ef",
   "metadata": {},
   "outputs": [
    {
     "data": {
      "text/html": [
       "<div>\n",
       "<style scoped>\n",
       "    .dataframe tbody tr th:only-of-type {\n",
       "        vertical-align: middle;\n",
       "    }\n",
       "\n",
       "    .dataframe tbody tr th {\n",
       "        vertical-align: top;\n",
       "    }\n",
       "\n",
       "    .dataframe thead th {\n",
       "        text-align: right;\n",
       "    }\n",
       "</style>\n",
       "<table border=\"1\" class=\"dataframe\">\n",
       "  <thead>\n",
       "    <tr style=\"text-align: right;\">\n",
       "      <th></th>\n",
       "      <th>about.periodTime</th>\n",
       "      <th>GameSeconds</th>\n",
       "    </tr>\n",
       "  </thead>\n",
       "  <tbody>\n",
       "    <tr>\n",
       "      <th>0</th>\n",
       "      <td>0 days 00:00:52</td>\n",
       "      <td>52.0</td>\n",
       "    </tr>\n",
       "    <tr>\n",
       "      <th>1</th>\n",
       "      <td>0 days 00:01:12</td>\n",
       "      <td>72.0</td>\n",
       "    </tr>\n",
       "    <tr>\n",
       "      <th>2</th>\n",
       "      <td>0 days 00:01:46</td>\n",
       "      <td>106.0</td>\n",
       "    </tr>\n",
       "    <tr>\n",
       "      <th>3</th>\n",
       "      <td>0 days 00:04:00</td>\n",
       "      <td>240.0</td>\n",
       "    </tr>\n",
       "    <tr>\n",
       "      <th>4</th>\n",
       "      <td>0 days 00:04:39</td>\n",
       "      <td>279.0</td>\n",
       "    </tr>\n",
       "    <tr>\n",
       "      <th>...</th>\n",
       "      <td>...</td>\n",
       "      <td>...</td>\n",
       "    </tr>\n",
       "    <tr>\n",
       "      <th>83052</th>\n",
       "      <td>0 days 00:05:04</td>\n",
       "      <td>304.0</td>\n",
       "    </tr>\n",
       "    <tr>\n",
       "      <th>83053</th>\n",
       "      <td>0 days 00:05:22</td>\n",
       "      <td>322.0</td>\n",
       "    </tr>\n",
       "    <tr>\n",
       "      <th>83054</th>\n",
       "      <td>0 days 00:06:33</td>\n",
       "      <td>393.0</td>\n",
       "    </tr>\n",
       "    <tr>\n",
       "      <th>83055</th>\n",
       "      <td>0 days 00:07:24</td>\n",
       "      <td>444.0</td>\n",
       "    </tr>\n",
       "    <tr>\n",
       "      <th>83056</th>\n",
       "      <td>0 days 00:08:02</td>\n",
       "      <td>482.0</td>\n",
       "    </tr>\n",
       "  </tbody>\n",
       "</table>\n",
       "<p>83057 rows × 2 columns</p>\n",
       "</div>"
      ],
      "text/plain": [
       "      about.periodTime  GameSeconds\n",
       "0      0 days 00:00:52         52.0\n",
       "1      0 days 00:01:12         72.0\n",
       "2      0 days 00:01:46        106.0\n",
       "3      0 days 00:04:00        240.0\n",
       "4      0 days 00:04:39        279.0\n",
       "...                ...          ...\n",
       "83052  0 days 00:05:04        304.0\n",
       "83053  0 days 00:05:22        322.0\n",
       "83054  0 days 00:06:33        393.0\n",
       "83055  0 days 00:07:24        444.0\n",
       "83056  0 days 00:08:02        482.0\n",
       "\n",
       "[83057 rows x 2 columns]"
      ]
     },
     "execution_count": 105,
     "metadata": {},
     "output_type": "execute_result"
    }
   ],
   "source": [
    "df_test['GamePeriod'] = df_2019['about.period']\n",
    "df_test"
   ]
  },
  {
   "cell_type": "code",
   "execution_count": null,
   "id": "bee08400-39cb-4a89-8f10-b775f64b1f9e",
   "metadata": {},
   "outputs": [],
   "source": []
  }
 ],
 "metadata": {
  "kernelspec": {
   "display_name": "ift6758-conda-env",
   "language": "python",
   "name": "ift6758-conda-env"
  },
  "language_info": {
   "codemirror_mode": {
    "name": "ipython",
    "version": 3
   },
   "file_extension": ".py",
   "mimetype": "text/x-python",
   "name": "python",
   "nbconvert_exporter": "python",
   "pygments_lexer": "ipython3",
   "version": "3.9.7"
  }
 },
 "nbformat": 4,
 "nbformat_minor": 5
}
