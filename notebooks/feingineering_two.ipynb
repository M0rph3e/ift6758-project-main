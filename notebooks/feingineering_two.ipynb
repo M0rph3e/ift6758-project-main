{
 "cells": [
  {
   "cell_type": "markdown",
   "id": "ebf4668e-cf18-4e09-8240-4da3897207bd",
   "metadata": {},
   "source": [
    "# Notebook for feature engineering II"
   ]
  },
  {
   "cell_type": "code",
   "execution_count": 1,
   "id": "58c123d3-5b14-4efa-821d-bc6657fb8d15",
   "metadata": {},
   "outputs": [],
   "source": [
    "%load_ext autoreload\n",
    "%autoreload 2\n",
    "\n",
    "#Imports\n",
    "import pandas as pd\n",
    "import requests\n",
    "import os\n",
    "from tqdm.notebook import tqdm\n",
    "import pickle\n",
    "import sys\n",
    "import json\n",
    "import numpy as np\n",
    "import matplotlib.pyplot as plt\n",
    "import seaborn as sns\n",
    "\n",
    "from  ift6758.data.data_acquisition import Season\n",
    "from ift6758.visualizations.simple_visualization import Utilities "
   ]
  },
  {
   "cell_type": "code",
   "execution_count": null,
   "id": "823160dd-de8e-4126-8ad9-1c6955d3af14",
   "metadata": {},
   "outputs": [],
   "source": [
    "season2015 = Season(2015,\"../ift6758/data\")\n",
    "season2019 = Season(2016,\"../ift6758/data\")\n",
    "season2019 = Season(2017,\"../ift6758/data\")\n",
    "season2019 = Season(2018,\"../ift6758/data\")\n",
    "season2019 = Season(2019,\"../ift6758/data\")"
   ]
  }
 ],
 "metadata": {
  "kernelspec": {
   "display_name": "ift6758-conda-env",
   "language": "python",
   "name": "ift6758-conda-env"
  },
  "language_info": {
   "codemirror_mode": {
    "name": "ipython",
    "version": 3
   },
   "file_extension": ".py",
   "mimetype": "text/x-python",
   "name": "python",
   "nbconvert_exporter": "python",
   "pygments_lexer": "ipython3",
   "version": "3.9.7"
  }
 },
 "nbformat": 4,
 "nbformat_minor": 5
}
