{
  "cells": [
    {
      "cell_type": "markdown",
      "metadata": {
        "colab_type": "text",
        "id": "view-in-github"
      },
      "source": [
        "<a href=\"https://colab.research.google.com/github/M0rph3e/ift6758-project-main/blob/fengineering2/XGBoost.ipynb\" target=\"_parent\"><img src=\"https://colab.research.google.com/assets/colab-badge.svg\" alt=\"Open In Colab\"/></a>"
      ]
    },
    {
      "cell_type": "markdown",
      "metadata": {
        "id": "CBGc5ERyZQ9_"
      },
      "source": [
        "## Motivation for the code and explanation [here](https://towardsdatascience.com/binary-classification-xgboost-hyperparameter-tuning-scenarios-by-non-exhaustive-grid-search-and-c261f4ce098d)"
      ]
    },
    {
      "cell_type": "code",
      "execution_count": 2,
      "metadata": {},
      "outputs": [],
      "source": [
        "%load_ext autoreload\n",
        "%autoreload 2"
      ]
    },
    {
      "cell_type": "code",
      "execution_count": 104,
      "metadata": {},
      "outputs": [],
      "source": [
        "df = px.data.medals_long()\n",
        "\n",
        "df[\"kk\"]=99\n",
        "df[\"klk\"]=99"
      ]
    },
    {
      "cell_type": "code",
      "execution_count": 105,
      "metadata": {},
      "outputs": [
        {
          "data": {
            "text/html": [
              "<div>\n",
              "<style scoped>\n",
              "    .dataframe tbody tr th:only-of-type {\n",
              "        vertical-align: middle;\n",
              "    }\n",
              "\n",
              "    .dataframe tbody tr th {\n",
              "        vertical-align: top;\n",
              "    }\n",
              "\n",
              "    .dataframe thead th {\n",
              "        text-align: right;\n",
              "    }\n",
              "</style>\n",
              "<table border=\"1\" class=\"dataframe\">\n",
              "  <thead>\n",
              "    <tr style=\"text-align: right;\">\n",
              "      <th></th>\n",
              "      <th>nation</th>\n",
              "      <th>medal</th>\n",
              "      <th>count</th>\n",
              "      <th>kk</th>\n",
              "      <th>klk</th>\n",
              "    </tr>\n",
              "  </thead>\n",
              "  <tbody>\n",
              "    <tr>\n",
              "      <th>0</th>\n",
              "      <td>South Korea</td>\n",
              "      <td>gold</td>\n",
              "      <td>24</td>\n",
              "      <td>99</td>\n",
              "      <td>99</td>\n",
              "    </tr>\n",
              "    <tr>\n",
              "      <th>1</th>\n",
              "      <td>China</td>\n",
              "      <td>gold</td>\n",
              "      <td>10</td>\n",
              "      <td>99</td>\n",
              "      <td>99</td>\n",
              "    </tr>\n",
              "    <tr>\n",
              "      <th>2</th>\n",
              "      <td>Canada</td>\n",
              "      <td>gold</td>\n",
              "      <td>9</td>\n",
              "      <td>99</td>\n",
              "      <td>99</td>\n",
              "    </tr>\n",
              "    <tr>\n",
              "      <th>3</th>\n",
              "      <td>South Korea</td>\n",
              "      <td>silver</td>\n",
              "      <td>13</td>\n",
              "      <td>99</td>\n",
              "      <td>99</td>\n",
              "    </tr>\n",
              "    <tr>\n",
              "      <th>4</th>\n",
              "      <td>China</td>\n",
              "      <td>silver</td>\n",
              "      <td>15</td>\n",
              "      <td>99</td>\n",
              "      <td>99</td>\n",
              "    </tr>\n",
              "    <tr>\n",
              "      <th>5</th>\n",
              "      <td>Canada</td>\n",
              "      <td>silver</td>\n",
              "      <td>12</td>\n",
              "      <td>99</td>\n",
              "      <td>99</td>\n",
              "    </tr>\n",
              "    <tr>\n",
              "      <th>6</th>\n",
              "      <td>South Korea</td>\n",
              "      <td>bronze</td>\n",
              "      <td>11</td>\n",
              "      <td>99</td>\n",
              "      <td>99</td>\n",
              "    </tr>\n",
              "    <tr>\n",
              "      <th>7</th>\n",
              "      <td>China</td>\n",
              "      <td>bronze</td>\n",
              "      <td>8</td>\n",
              "      <td>99</td>\n",
              "      <td>99</td>\n",
              "    </tr>\n",
              "    <tr>\n",
              "      <th>8</th>\n",
              "      <td>Canada</td>\n",
              "      <td>bronze</td>\n",
              "      <td>12</td>\n",
              "      <td>99</td>\n",
              "      <td>99</td>\n",
              "    </tr>\n",
              "  </tbody>\n",
              "</table>\n",
              "</div>"
            ],
            "text/plain": [
              "        nation   medal  count  kk  klk\n",
              "0  South Korea    gold     24  99   99\n",
              "1        China    gold     10  99   99\n",
              "2       Canada    gold      9  99   99\n",
              "3  South Korea  silver     13  99   99\n",
              "4        China  silver     15  99   99\n",
              "5       Canada  silver     12  99   99\n",
              "6  South Korea  bronze     11  99   99\n",
              "7        China  bronze      8  99   99\n",
              "8       Canada  bronze     12  99   99"
            ]
          },
          "execution_count": 105,
          "metadata": {},
          "output_type": "execute_result"
        }
      ],
      "source": [
        "df"
      ]
    },
    {
      "cell_type": "code",
      "execution_count": 106,
      "metadata": {},
      "outputs": [
        {
          "data": {
            "application/vnd.plotly.v1+json": {
              "config": {
                "plotlyServerURL": "https://plot.ly"
              },
              "data": [
                {
                  "customdata": [
                    [
                      99,
                      99
                    ],
                    [
                      99,
                      99
                    ],
                    [
                      99,
                      99
                    ]
                  ],
                  "hovertemplate": "medal=gold<br>count=%{x}<br>nation=%{y}<br>kk=%{customdata[0]}<br>klk=%{customdata[1]}<extra></extra>",
                  "legendgroup": "gold",
                  "marker": {
                    "color": "#636efa",
                    "size": 10,
                    "symbol": "circle"
                  },
                  "mode": "markers",
                  "name": "gold",
                  "orientation": "h",
                  "showlegend": true,
                  "type": "scatter",
                  "x": [
                    24,
                    10,
                    9
                  ],
                  "xaxis": "x",
                  "y": [
                    "South Korea",
                    "China",
                    "Canada"
                  ],
                  "yaxis": "y"
                },
                {
                  "customdata": [
                    [
                      99,
                      99
                    ],
                    [
                      99,
                      99
                    ],
                    [
                      99,
                      99
                    ]
                  ],
                  "hovertemplate": "medal=silver<br>count=%{x}<br>nation=%{y}<br>kk=%{customdata[0]}<br>klk=%{customdata[1]}<extra></extra>",
                  "legendgroup": "silver",
                  "marker": {
                    "color": "#EF553B",
                    "size": 10,
                    "symbol": "diamond"
                  },
                  "mode": "markers",
                  "name": "silver",
                  "orientation": "h",
                  "showlegend": true,
                  "type": "scatter",
                  "x": [
                    13,
                    15,
                    12
                  ],
                  "xaxis": "x",
                  "y": [
                    "South Korea",
                    "China",
                    "Canada"
                  ],
                  "yaxis": "y"
                },
                {
                  "customdata": [
                    [
                      99,
                      99
                    ],
                    [
                      99,
                      99
                    ],
                    [
                      99,
                      99
                    ]
                  ],
                  "hovertemplate": "medal=bronze<br>count=%{x}<br>nation=%{y}<br>kk=%{customdata[0]}<br>klk=%{customdata[1]}<extra></extra>",
                  "legendgroup": "bronze",
                  "marker": {
                    "color": "#00cc96",
                    "size": 10,
                    "symbol": "square"
                  },
                  "mode": "markers",
                  "name": "bronze",
                  "orientation": "h",
                  "showlegend": true,
                  "type": "scatter",
                  "x": [
                    11,
                    8,
                    12
                  ],
                  "xaxis": "x",
                  "y": [
                    "South Korea",
                    "China",
                    "Canada"
                  ],
                  "yaxis": "y"
                }
              ],
              "layout": {
                "legend": {
                  "title": {
                    "text": "medal"
                  },
                  "tracegroupgap": 0
                },
                "margin": {
                  "t": 60
                },
                "template": {
                  "data": {
                    "bar": [
                      {
                        "error_x": {
                          "color": "#2a3f5f"
                        },
                        "error_y": {
                          "color": "#2a3f5f"
                        },
                        "marker": {
                          "line": {
                            "color": "#E5ECF6",
                            "width": 0.5
                          },
                          "pattern": {
                            "fillmode": "overlay",
                            "size": 10,
                            "solidity": 0.2
                          }
                        },
                        "type": "bar"
                      }
                    ],
                    "barpolar": [
                      {
                        "marker": {
                          "line": {
                            "color": "#E5ECF6",
                            "width": 0.5
                          },
                          "pattern": {
                            "fillmode": "overlay",
                            "size": 10,
                            "solidity": 0.2
                          }
                        },
                        "type": "barpolar"
                      }
                    ],
                    "carpet": [
                      {
                        "aaxis": {
                          "endlinecolor": "#2a3f5f",
                          "gridcolor": "white",
                          "linecolor": "white",
                          "minorgridcolor": "white",
                          "startlinecolor": "#2a3f5f"
                        },
                        "baxis": {
                          "endlinecolor": "#2a3f5f",
                          "gridcolor": "white",
                          "linecolor": "white",
                          "minorgridcolor": "white",
                          "startlinecolor": "#2a3f5f"
                        },
                        "type": "carpet"
                      }
                    ],
                    "choropleth": [
                      {
                        "colorbar": {
                          "outlinewidth": 0,
                          "ticks": ""
                        },
                        "type": "choropleth"
                      }
                    ],
                    "contour": [
                      {
                        "colorbar": {
                          "outlinewidth": 0,
                          "ticks": ""
                        },
                        "colorscale": [
                          [
                            0,
                            "#0d0887"
                          ],
                          [
                            0.1111111111111111,
                            "#46039f"
                          ],
                          [
                            0.2222222222222222,
                            "#7201a8"
                          ],
                          [
                            0.3333333333333333,
                            "#9c179e"
                          ],
                          [
                            0.4444444444444444,
                            "#bd3786"
                          ],
                          [
                            0.5555555555555556,
                            "#d8576b"
                          ],
                          [
                            0.6666666666666666,
                            "#ed7953"
                          ],
                          [
                            0.7777777777777778,
                            "#fb9f3a"
                          ],
                          [
                            0.8888888888888888,
                            "#fdca26"
                          ],
                          [
                            1,
                            "#f0f921"
                          ]
                        ],
                        "type": "contour"
                      }
                    ],
                    "contourcarpet": [
                      {
                        "colorbar": {
                          "outlinewidth": 0,
                          "ticks": ""
                        },
                        "type": "contourcarpet"
                      }
                    ],
                    "heatmap": [
                      {
                        "colorbar": {
                          "outlinewidth": 0,
                          "ticks": ""
                        },
                        "colorscale": [
                          [
                            0,
                            "#0d0887"
                          ],
                          [
                            0.1111111111111111,
                            "#46039f"
                          ],
                          [
                            0.2222222222222222,
                            "#7201a8"
                          ],
                          [
                            0.3333333333333333,
                            "#9c179e"
                          ],
                          [
                            0.4444444444444444,
                            "#bd3786"
                          ],
                          [
                            0.5555555555555556,
                            "#d8576b"
                          ],
                          [
                            0.6666666666666666,
                            "#ed7953"
                          ],
                          [
                            0.7777777777777778,
                            "#fb9f3a"
                          ],
                          [
                            0.8888888888888888,
                            "#fdca26"
                          ],
                          [
                            1,
                            "#f0f921"
                          ]
                        ],
                        "type": "heatmap"
                      }
                    ],
                    "heatmapgl": [
                      {
                        "colorbar": {
                          "outlinewidth": 0,
                          "ticks": ""
                        },
                        "colorscale": [
                          [
                            0,
                            "#0d0887"
                          ],
                          [
                            0.1111111111111111,
                            "#46039f"
                          ],
                          [
                            0.2222222222222222,
                            "#7201a8"
                          ],
                          [
                            0.3333333333333333,
                            "#9c179e"
                          ],
                          [
                            0.4444444444444444,
                            "#bd3786"
                          ],
                          [
                            0.5555555555555556,
                            "#d8576b"
                          ],
                          [
                            0.6666666666666666,
                            "#ed7953"
                          ],
                          [
                            0.7777777777777778,
                            "#fb9f3a"
                          ],
                          [
                            0.8888888888888888,
                            "#fdca26"
                          ],
                          [
                            1,
                            "#f0f921"
                          ]
                        ],
                        "type": "heatmapgl"
                      }
                    ],
                    "histogram": [
                      {
                        "marker": {
                          "pattern": {
                            "fillmode": "overlay",
                            "size": 10,
                            "solidity": 0.2
                          }
                        },
                        "type": "histogram"
                      }
                    ],
                    "histogram2d": [
                      {
                        "colorbar": {
                          "outlinewidth": 0,
                          "ticks": ""
                        },
                        "colorscale": [
                          [
                            0,
                            "#0d0887"
                          ],
                          [
                            0.1111111111111111,
                            "#46039f"
                          ],
                          [
                            0.2222222222222222,
                            "#7201a8"
                          ],
                          [
                            0.3333333333333333,
                            "#9c179e"
                          ],
                          [
                            0.4444444444444444,
                            "#bd3786"
                          ],
                          [
                            0.5555555555555556,
                            "#d8576b"
                          ],
                          [
                            0.6666666666666666,
                            "#ed7953"
                          ],
                          [
                            0.7777777777777778,
                            "#fb9f3a"
                          ],
                          [
                            0.8888888888888888,
                            "#fdca26"
                          ],
                          [
                            1,
                            "#f0f921"
                          ]
                        ],
                        "type": "histogram2d"
                      }
                    ],
                    "histogram2dcontour": [
                      {
                        "colorbar": {
                          "outlinewidth": 0,
                          "ticks": ""
                        },
                        "colorscale": [
                          [
                            0,
                            "#0d0887"
                          ],
                          [
                            0.1111111111111111,
                            "#46039f"
                          ],
                          [
                            0.2222222222222222,
                            "#7201a8"
                          ],
                          [
                            0.3333333333333333,
                            "#9c179e"
                          ],
                          [
                            0.4444444444444444,
                            "#bd3786"
                          ],
                          [
                            0.5555555555555556,
                            "#d8576b"
                          ],
                          [
                            0.6666666666666666,
                            "#ed7953"
                          ],
                          [
                            0.7777777777777778,
                            "#fb9f3a"
                          ],
                          [
                            0.8888888888888888,
                            "#fdca26"
                          ],
                          [
                            1,
                            "#f0f921"
                          ]
                        ],
                        "type": "histogram2dcontour"
                      }
                    ],
                    "mesh3d": [
                      {
                        "colorbar": {
                          "outlinewidth": 0,
                          "ticks": ""
                        },
                        "type": "mesh3d"
                      }
                    ],
                    "parcoords": [
                      {
                        "line": {
                          "colorbar": {
                            "outlinewidth": 0,
                            "ticks": ""
                          }
                        },
                        "type": "parcoords"
                      }
                    ],
                    "pie": [
                      {
                        "automargin": true,
                        "type": "pie"
                      }
                    ],
                    "scatter": [
                      {
                        "marker": {
                          "colorbar": {
                            "outlinewidth": 0,
                            "ticks": ""
                          }
                        },
                        "type": "scatter"
                      }
                    ],
                    "scatter3d": [
                      {
                        "line": {
                          "colorbar": {
                            "outlinewidth": 0,
                            "ticks": ""
                          }
                        },
                        "marker": {
                          "colorbar": {
                            "outlinewidth": 0,
                            "ticks": ""
                          }
                        },
                        "type": "scatter3d"
                      }
                    ],
                    "scattercarpet": [
                      {
                        "marker": {
                          "colorbar": {
                            "outlinewidth": 0,
                            "ticks": ""
                          }
                        },
                        "type": "scattercarpet"
                      }
                    ],
                    "scattergeo": [
                      {
                        "marker": {
                          "colorbar": {
                            "outlinewidth": 0,
                            "ticks": ""
                          }
                        },
                        "type": "scattergeo"
                      }
                    ],
                    "scattergl": [
                      {
                        "marker": {
                          "colorbar": {
                            "outlinewidth": 0,
                            "ticks": ""
                          }
                        },
                        "type": "scattergl"
                      }
                    ],
                    "scattermapbox": [
                      {
                        "marker": {
                          "colorbar": {
                            "outlinewidth": 0,
                            "ticks": ""
                          }
                        },
                        "type": "scattermapbox"
                      }
                    ],
                    "scatterpolar": [
                      {
                        "marker": {
                          "colorbar": {
                            "outlinewidth": 0,
                            "ticks": ""
                          }
                        },
                        "type": "scatterpolar"
                      }
                    ],
                    "scatterpolargl": [
                      {
                        "marker": {
                          "colorbar": {
                            "outlinewidth": 0,
                            "ticks": ""
                          }
                        },
                        "type": "scatterpolargl"
                      }
                    ],
                    "scatterternary": [
                      {
                        "marker": {
                          "colorbar": {
                            "outlinewidth": 0,
                            "ticks": ""
                          }
                        },
                        "type": "scatterternary"
                      }
                    ],
                    "surface": [
                      {
                        "colorbar": {
                          "outlinewidth": 0,
                          "ticks": ""
                        },
                        "colorscale": [
                          [
                            0,
                            "#0d0887"
                          ],
                          [
                            0.1111111111111111,
                            "#46039f"
                          ],
                          [
                            0.2222222222222222,
                            "#7201a8"
                          ],
                          [
                            0.3333333333333333,
                            "#9c179e"
                          ],
                          [
                            0.4444444444444444,
                            "#bd3786"
                          ],
                          [
                            0.5555555555555556,
                            "#d8576b"
                          ],
                          [
                            0.6666666666666666,
                            "#ed7953"
                          ],
                          [
                            0.7777777777777778,
                            "#fb9f3a"
                          ],
                          [
                            0.8888888888888888,
                            "#fdca26"
                          ],
                          [
                            1,
                            "#f0f921"
                          ]
                        ],
                        "type": "surface"
                      }
                    ],
                    "table": [
                      {
                        "cells": {
                          "fill": {
                            "color": "#EBF0F8"
                          },
                          "line": {
                            "color": "white"
                          }
                        },
                        "header": {
                          "fill": {
                            "color": "#C8D4E3"
                          },
                          "line": {
                            "color": "white"
                          }
                        },
                        "type": "table"
                      }
                    ]
                  },
                  "layout": {
                    "annotationdefaults": {
                      "arrowcolor": "#2a3f5f",
                      "arrowhead": 0,
                      "arrowwidth": 1
                    },
                    "autotypenumbers": "strict",
                    "coloraxis": {
                      "colorbar": {
                        "outlinewidth": 0,
                        "ticks": ""
                      }
                    },
                    "colorscale": {
                      "diverging": [
                        [
                          0,
                          "#8e0152"
                        ],
                        [
                          0.1,
                          "#c51b7d"
                        ],
                        [
                          0.2,
                          "#de77ae"
                        ],
                        [
                          0.3,
                          "#f1b6da"
                        ],
                        [
                          0.4,
                          "#fde0ef"
                        ],
                        [
                          0.5,
                          "#f7f7f7"
                        ],
                        [
                          0.6,
                          "#e6f5d0"
                        ],
                        [
                          0.7,
                          "#b8e186"
                        ],
                        [
                          0.8,
                          "#7fbc41"
                        ],
                        [
                          0.9,
                          "#4d9221"
                        ],
                        [
                          1,
                          "#276419"
                        ]
                      ],
                      "sequential": [
                        [
                          0,
                          "#0d0887"
                        ],
                        [
                          0.1111111111111111,
                          "#46039f"
                        ],
                        [
                          0.2222222222222222,
                          "#7201a8"
                        ],
                        [
                          0.3333333333333333,
                          "#9c179e"
                        ],
                        [
                          0.4444444444444444,
                          "#bd3786"
                        ],
                        [
                          0.5555555555555556,
                          "#d8576b"
                        ],
                        [
                          0.6666666666666666,
                          "#ed7953"
                        ],
                        [
                          0.7777777777777778,
                          "#fb9f3a"
                        ],
                        [
                          0.8888888888888888,
                          "#fdca26"
                        ],
                        [
                          1,
                          "#f0f921"
                        ]
                      ],
                      "sequentialminus": [
                        [
                          0,
                          "#0d0887"
                        ],
                        [
                          0.1111111111111111,
                          "#46039f"
                        ],
                        [
                          0.2222222222222222,
                          "#7201a8"
                        ],
                        [
                          0.3333333333333333,
                          "#9c179e"
                        ],
                        [
                          0.4444444444444444,
                          "#bd3786"
                        ],
                        [
                          0.5555555555555556,
                          "#d8576b"
                        ],
                        [
                          0.6666666666666666,
                          "#ed7953"
                        ],
                        [
                          0.7777777777777778,
                          "#fb9f3a"
                        ],
                        [
                          0.8888888888888888,
                          "#fdca26"
                        ],
                        [
                          1,
                          "#f0f921"
                        ]
                      ]
                    },
                    "colorway": [
                      "#636efa",
                      "#EF553B",
                      "#00cc96",
                      "#ab63fa",
                      "#FFA15A",
                      "#19d3f3",
                      "#FF6692",
                      "#B6E880",
                      "#FF97FF",
                      "#FECB52"
                    ],
                    "font": {
                      "color": "#2a3f5f"
                    },
                    "geo": {
                      "bgcolor": "white",
                      "lakecolor": "white",
                      "landcolor": "#E5ECF6",
                      "showlakes": true,
                      "showland": true,
                      "subunitcolor": "white"
                    },
                    "hoverlabel": {
                      "align": "left"
                    },
                    "hovermode": "closest",
                    "mapbox": {
                      "style": "light"
                    },
                    "paper_bgcolor": "white",
                    "plot_bgcolor": "#E5ECF6",
                    "polar": {
                      "angularaxis": {
                        "gridcolor": "white",
                        "linecolor": "white",
                        "ticks": ""
                      },
                      "bgcolor": "#E5ECF6",
                      "radialaxis": {
                        "gridcolor": "white",
                        "linecolor": "white",
                        "ticks": ""
                      }
                    },
                    "scene": {
                      "xaxis": {
                        "backgroundcolor": "#E5ECF6",
                        "gridcolor": "white",
                        "gridwidth": 2,
                        "linecolor": "white",
                        "showbackground": true,
                        "ticks": "",
                        "zerolinecolor": "white"
                      },
                      "yaxis": {
                        "backgroundcolor": "#E5ECF6",
                        "gridcolor": "white",
                        "gridwidth": 2,
                        "linecolor": "white",
                        "showbackground": true,
                        "ticks": "",
                        "zerolinecolor": "white"
                      },
                      "zaxis": {
                        "backgroundcolor": "#E5ECF6",
                        "gridcolor": "white",
                        "gridwidth": 2,
                        "linecolor": "white",
                        "showbackground": true,
                        "ticks": "",
                        "zerolinecolor": "white"
                      }
                    },
                    "shapedefaults": {
                      "line": {
                        "color": "#2a3f5f"
                      }
                    },
                    "ternary": {
                      "aaxis": {
                        "gridcolor": "white",
                        "linecolor": "white",
                        "ticks": ""
                      },
                      "baxis": {
                        "gridcolor": "white",
                        "linecolor": "white",
                        "ticks": ""
                      },
                      "bgcolor": "#E5ECF6",
                      "caxis": {
                        "gridcolor": "white",
                        "linecolor": "white",
                        "ticks": ""
                      }
                    },
                    "title": {
                      "x": 0.05
                    },
                    "xaxis": {
                      "automargin": true,
                      "gridcolor": "white",
                      "linecolor": "white",
                      "ticks": "",
                      "title": {
                        "standoff": 15
                      },
                      "zerolinecolor": "white",
                      "zerolinewidth": 2
                    },
                    "yaxis": {
                      "automargin": true,
                      "gridcolor": "white",
                      "linecolor": "white",
                      "ticks": "",
                      "title": {
                        "standoff": 15
                      },
                      "zerolinecolor": "white",
                      "zerolinewidth": 2
                    }
                  }
                },
                "xaxis": {
                  "anchor": "y",
                  "domain": [
                    0,
                    1
                  ],
                  "title": {
                    "text": "count"
                  }
                },
                "yaxis": {
                  "anchor": "x",
                  "domain": [
                    0,
                    1
                  ],
                  "title": {
                    "text": "nation"
                  }
                }
              }
            }
          },
          "metadata": {},
          "output_type": "display_data"
        }
      ],
      "source": [
        "import plotly.express as px\n",
        "\n",
        "fig = px.scatter(df, y=\"nation\", x=\"count\", color=\"medal\", symbol=\"medal\",hover_data=['kk','klk'])\n",
        "fig.update_traces(marker_size=10)\n",
        "fig.show()"
      ]
    },
    {
      "cell_type": "code",
      "execution_count": 107,
      "metadata": {
        "id": "uvSwjChccUbn"
      },
      "outputs": [],
      "source": [
        "#import comet_ml in the top of your file\n",
        "from comet_ml import Experiment\n",
        "import os\n",
        "from copy import deepcopy\n",
        "import numpy as np\n",
        "from sklearn.model_selection import train_test_split, GridSearchCV\n",
        "from sklearn.preprocessing import StandardScaler\n",
        "from skopt import BayesSearchCV\n",
        "from sklearn import feature_selection\n",
        "from sklearn.metrics import f1_score, precision_score, recall_score, confusion_matrix\n",
        "import xgboost as xgb\n",
        "import pandas as pd\n",
        "from ift6758.features.feature_engineering2 import SeasonDataSetTwo\n",
        "from ift6758.metrics import plot_metrics\n",
        "import random\n",
        "random_state = 42"
      ]
    },
    {
      "cell_type": "code",
      "execution_count": 4,
      "metadata": {
        "colab": {
          "base_uri": "https://localhost:8080/",
          "height": 374
        },
        "id": "-fDgkwzTh1iH",
        "outputId": "a847d57f-2705-4f7c-e5fa-24e616da30cd"
      },
      "outputs": [
        {
          "name": "stderr",
          "output_type": "stream",
          "text": [
            "COMET WARNING: As you are running in a Jupyter environment, you will need to call `experiment.end()` when finished to ensure all metrics and code are logged before exiting.\n",
            "COMET INFO: Experiment is live on comet.ml https://www.comet.ml/morph-e/milestone-2/a0c1f515f7a747038dde50dbacc6a204\n",
            "\n"
          ]
        }
      ],
      "source": [
        "# COMET_API_KEY = \n",
        "\n",
        "#create an experiment with your api key\n",
        "comet_exp = Experiment(api_key=os.environ.get('COMET_API_KEY'),\n",
        "                project_name='milestone_2',\n",
        "                workspace=\"morph-e\",\n",
        "                auto_param_logging=False\n",
        "                )"
      ]
    },
    {
      "cell_type": "code",
      "execution_count": 5,
      "metadata": {},
      "outputs": [],
      "source": [
        "def seed_everything(seed_value):\n",
        "    random.seed(seed_value)\n",
        "    np.random.seed(seed_value)\n",
        "    os.environ['PYTHONHASHSEED'] = str(seed_value)\n",
        "    \n",
        "seed = 42\n",
        "seed_everything(seed)"
      ]
    },
    {
      "cell_type": "code",
      "execution_count": 6,
      "metadata": {
        "id": "QQphAKJWoE0V"
      },
      "outputs": [
        {
          "name": "stdout",
          "output_type": "stream",
          "text": [
            "File already Exists, loading from ../ift6758/data/PICKLE//2015_2016_2017_2018_features2.pkl\n"
          ]
        }
      ],
      "source": [
        "### Script to get the DataFrame and Split the data into train and test set for FE1\n",
        "years = [2015,2016,2017,2018]\n",
        "dataset = SeasonDataSetTwo(years)\n",
        "df_total = dataset.get_features_2()\n",
        "df = df_total[df_total['gamePk'].astype(str).str[5]=='2']##Filtering only for regular dataframe"
      ]
    },
    {
      "cell_type": "code",
      "execution_count": 7,
      "metadata": {},
      "outputs": [
        {
          "name": "stdout",
          "output_type": "stream",
          "text": [
            "(311106, 22)\n"
          ]
        },
        {
          "data": {
            "text/html": [
              "<div>\n",
              "<style scoped>\n",
              "    .dataframe tbody tr th:only-of-type {\n",
              "        vertical-align: middle;\n",
              "    }\n",
              "\n",
              "    .dataframe tbody tr th {\n",
              "        vertical-align: top;\n",
              "    }\n",
              "\n",
              "    .dataframe thead th {\n",
              "        text-align: right;\n",
              "    }\n",
              "</style>\n",
              "<table border=\"1\" class=\"dataframe\">\n",
              "  <thead>\n",
              "    <tr style=\"text-align: right;\">\n",
              "      <th></th>\n",
              "      <th>gamePk</th>\n",
              "      <th>team.name</th>\n",
              "      <th>gamePeriod</th>\n",
              "      <th>coordinatesX</th>\n",
              "      <th>coordinatesY</th>\n",
              "      <th>shotType</th>\n",
              "      <th>emptyNet</th>\n",
              "      <th>isHome</th>\n",
              "      <th>gameSeconds</th>\n",
              "      <th>totalGameSeconds</th>\n",
              "      <th>...</th>\n",
              "      <th>isGoal</th>\n",
              "      <th>lastEventType</th>\n",
              "      <th>lastEventCoordinatesX</th>\n",
              "      <th>lastEventCoordinatesY</th>\n",
              "      <th>timeFromLastEvent</th>\n",
              "      <th>distanceFromLastEvent</th>\n",
              "      <th>rebound</th>\n",
              "      <th>speed</th>\n",
              "      <th>changeInShotAngle</th>\n",
              "      <th>angleSpeed</th>\n",
              "    </tr>\n",
              "  </thead>\n",
              "  <tbody>\n",
              "    <tr>\n",
              "      <th>0</th>\n",
              "      <td>2015020001</td>\n",
              "      <td>Toronto Maple Leafs</td>\n",
              "      <td>1</td>\n",
              "      <td>-55.0</td>\n",
              "      <td>6.0</td>\n",
              "      <td>Wrist Shot</td>\n",
              "      <td>0</td>\n",
              "      <td>True</td>\n",
              "      <td>51.0</td>\n",
              "      <td>51.0</td>\n",
              "      <td>...</td>\n",
              "      <td>0</td>\n",
              "      <td>Hit</td>\n",
              "      <td>94.0</td>\n",
              "      <td>-34.0</td>\n",
              "      <td>11.0</td>\n",
              "      <td>154.275727</td>\n",
              "      <td>False</td>\n",
              "      <td>14.025066</td>\n",
              "      <td>0.000000</td>\n",
              "      <td>0.000000</td>\n",
              "    </tr>\n",
              "    <tr>\n",
              "      <th>1</th>\n",
              "      <td>2015020001</td>\n",
              "      <td>Toronto Maple Leafs</td>\n",
              "      <td>1</td>\n",
              "      <td>-79.0</td>\n",
              "      <td>0.0</td>\n",
              "      <td>Snap Shot</td>\n",
              "      <td>0</td>\n",
              "      <td>True</td>\n",
              "      <td>65.0</td>\n",
              "      <td>65.0</td>\n",
              "      <td>...</td>\n",
              "      <td>0</td>\n",
              "      <td>Giveaway</td>\n",
              "      <td>-37.0</td>\n",
              "      <td>-28.0</td>\n",
              "      <td>7.0</td>\n",
              "      <td>50.477718</td>\n",
              "      <td>False</td>\n",
              "      <td>7.211103</td>\n",
              "      <td>0.000000</td>\n",
              "      <td>0.000000</td>\n",
              "    </tr>\n",
              "    <tr>\n",
              "      <th>2</th>\n",
              "      <td>2015020001</td>\n",
              "      <td>Toronto Maple Leafs</td>\n",
              "      <td>1</td>\n",
              "      <td>-75.0</td>\n",
              "      <td>-1.0</td>\n",
              "      <td>Snap Shot</td>\n",
              "      <td>0</td>\n",
              "      <td>True</td>\n",
              "      <td>66.0</td>\n",
              "      <td>66.0</td>\n",
              "      <td>...</td>\n",
              "      <td>0</td>\n",
              "      <td>Shot</td>\n",
              "      <td>-79.0</td>\n",
              "      <td>0.0</td>\n",
              "      <td>1.0</td>\n",
              "      <td>4.123106</td>\n",
              "      <td>True</td>\n",
              "      <td>4.123106</td>\n",
              "      <td>4.085617</td>\n",
              "      <td>4.085617</td>\n",
              "    </tr>\n",
              "    <tr>\n",
              "      <th>3</th>\n",
              "      <td>2015020001</td>\n",
              "      <td>Toronto Maple Leafs</td>\n",
              "      <td>1</td>\n",
              "      <td>-55.0</td>\n",
              "      <td>-36.0</td>\n",
              "      <td>Wrist Shot</td>\n",
              "      <td>0</td>\n",
              "      <td>True</td>\n",
              "      <td>113.0</td>\n",
              "      <td>113.0</td>\n",
              "      <td>...</td>\n",
              "      <td>0</td>\n",
              "      <td>Hit</td>\n",
              "      <td>-91.0</td>\n",
              "      <td>35.0</td>\n",
              "      <td>18.0</td>\n",
              "      <td>79.605276</td>\n",
              "      <td>False</td>\n",
              "      <td>4.422515</td>\n",
              "      <td>0.000000</td>\n",
              "      <td>0.000000</td>\n",
              "    </tr>\n",
              "    <tr>\n",
              "      <th>4</th>\n",
              "      <td>2015020001</td>\n",
              "      <td>Toronto Maple Leafs</td>\n",
              "      <td>1</td>\n",
              "      <td>-61.0</td>\n",
              "      <td>-1.0</td>\n",
              "      <td>Tip-In</td>\n",
              "      <td>0</td>\n",
              "      <td>True</td>\n",
              "      <td>157.0</td>\n",
              "      <td>157.0</td>\n",
              "      <td>...</td>\n",
              "      <td>0</td>\n",
              "      <td>Faceoff</td>\n",
              "      <td>-69.0</td>\n",
              "      <td>-22.0</td>\n",
              "      <td>5.0</td>\n",
              "      <td>22.472205</td>\n",
              "      <td>False</td>\n",
              "      <td>4.494441</td>\n",
              "      <td>0.000000</td>\n",
              "      <td>0.000000</td>\n",
              "    </tr>\n",
              "  </tbody>\n",
              "</table>\n",
              "<p>5 rows × 22 columns</p>\n",
              "</div>"
            ],
            "text/plain": [
              "       gamePk            team.name  gamePeriod  coordinatesX  coordinatesY  \\\n",
              "0  2015020001  Toronto Maple Leafs           1         -55.0           6.0   \n",
              "1  2015020001  Toronto Maple Leafs           1         -79.0           0.0   \n",
              "2  2015020001  Toronto Maple Leafs           1         -75.0          -1.0   \n",
              "3  2015020001  Toronto Maple Leafs           1         -55.0         -36.0   \n",
              "4  2015020001  Toronto Maple Leafs           1         -61.0          -1.0   \n",
              "\n",
              "     shotType emptyNet isHome  gameSeconds  totalGameSeconds  ...  isGoal  \\\n",
              "0  Wrist Shot        0   True         51.0              51.0  ...       0   \n",
              "1   Snap Shot        0   True         65.0              65.0  ...       0   \n",
              "2   Snap Shot        0   True         66.0              66.0  ...       0   \n",
              "3  Wrist Shot        0   True        113.0             113.0  ...       0   \n",
              "4      Tip-In        0   True        157.0             157.0  ...       0   \n",
              "\n",
              "   lastEventType  lastEventCoordinatesX lastEventCoordinatesY  \\\n",
              "0            Hit                   94.0                 -34.0   \n",
              "1       Giveaway                  -37.0                 -28.0   \n",
              "2           Shot                  -79.0                   0.0   \n",
              "3            Hit                  -91.0                  35.0   \n",
              "4        Faceoff                  -69.0                 -22.0   \n",
              "\n",
              "   timeFromLastEvent  distanceFromLastEvent  rebound      speed  \\\n",
              "0               11.0             154.275727    False  14.025066   \n",
              "1                7.0              50.477718    False   7.211103   \n",
              "2                1.0               4.123106     True   4.123106   \n",
              "3               18.0              79.605276    False   4.422515   \n",
              "4                5.0              22.472205    False   4.494441   \n",
              "\n",
              "   changeInShotAngle  angleSpeed  \n",
              "0           0.000000    0.000000  \n",
              "1           0.000000    0.000000  \n",
              "2           4.085617    4.085617  \n",
              "3           0.000000    0.000000  \n",
              "4           0.000000    0.000000  \n",
              "\n",
              "[5 rows x 22 columns]"
            ]
          },
          "execution_count": 7,
          "metadata": {},
          "output_type": "execute_result"
        }
      ],
      "source": [
        "print(df.shape)\n",
        "df.head()"
      ]
    },
    {
      "cell_type": "code",
      "execution_count": 8,
      "metadata": {},
      "outputs": [],
      "source": [
        "pd.set_option('display.max_columns', None)\n",
        "\n"
      ]
    },
    {
      "cell_type": "code",
      "execution_count": 9,
      "metadata": {},
      "outputs": [
        {
          "data": {
            "text/html": [
              "<div>\n",
              "<style scoped>\n",
              "    .dataframe tbody tr th:only-of-type {\n",
              "        vertical-align: middle;\n",
              "    }\n",
              "\n",
              "    .dataframe tbody tr th {\n",
              "        vertical-align: top;\n",
              "    }\n",
              "\n",
              "    .dataframe thead th {\n",
              "        text-align: right;\n",
              "    }\n",
              "</style>\n",
              "<table border=\"1\" class=\"dataframe\">\n",
              "  <thead>\n",
              "    <tr style=\"text-align: right;\">\n",
              "      <th></th>\n",
              "      <th>gamePk</th>\n",
              "      <th>team.name</th>\n",
              "      <th>gamePeriod</th>\n",
              "      <th>coordinatesX</th>\n",
              "      <th>coordinatesY</th>\n",
              "      <th>shotType</th>\n",
              "      <th>emptyNet</th>\n",
              "      <th>isHome</th>\n",
              "      <th>gameSeconds</th>\n",
              "      <th>totalGameSeconds</th>\n",
              "      <th>shotDistance</th>\n",
              "      <th>shotAngle</th>\n",
              "      <th>isGoal</th>\n",
              "      <th>lastEventType</th>\n",
              "      <th>lastEventCoordinatesX</th>\n",
              "      <th>lastEventCoordinatesY</th>\n",
              "      <th>timeFromLastEvent</th>\n",
              "      <th>distanceFromLastEvent</th>\n",
              "      <th>rebound</th>\n",
              "      <th>speed</th>\n",
              "      <th>changeInShotAngle</th>\n",
              "      <th>angleSpeed</th>\n",
              "    </tr>\n",
              "  </thead>\n",
              "  <tbody>\n",
              "    <tr>\n",
              "      <th>36982</th>\n",
              "      <td>2015020619</td>\n",
              "      <td>San Jose Sharks</td>\n",
              "      <td>2</td>\n",
              "      <td>-83.0</td>\n",
              "      <td>3.0</td>\n",
              "      <td>Backhand</td>\n",
              "      <td>0</td>\n",
              "      <td>True</td>\n",
              "      <td>1049.0</td>\n",
              "      <td>2249.0</td>\n",
              "      <td>6.708204</td>\n",
              "      <td>26.565051</td>\n",
              "      <td>0</td>\n",
              "      <td>Goal</td>\n",
              "      <td>-85.0</td>\n",
              "      <td>8.0</td>\n",
              "      <td>0.0</td>\n",
              "      <td>5.385165</td>\n",
              "      <td>False</td>\n",
              "      <td>inf</td>\n",
              "      <td>0.0</td>\n",
              "      <td>NaN</td>\n",
              "    </tr>\n",
              "    <tr>\n",
              "      <th>66339</th>\n",
              "      <td>2015021104</td>\n",
              "      <td>Anaheim Ducks</td>\n",
              "      <td>2</td>\n",
              "      <td>-80.0</td>\n",
              "      <td>-5.0</td>\n",
              "      <td>Backhand</td>\n",
              "      <td>0</td>\n",
              "      <td>False</td>\n",
              "      <td>1143.0</td>\n",
              "      <td>2343.0</td>\n",
              "      <td>10.295630</td>\n",
              "      <td>-29.054604</td>\n",
              "      <td>0</td>\n",
              "      <td>Goal</td>\n",
              "      <td>-79.0</td>\n",
              "      <td>3.0</td>\n",
              "      <td>0.0</td>\n",
              "      <td>8.062258</td>\n",
              "      <td>False</td>\n",
              "      <td>inf</td>\n",
              "      <td>0.0</td>\n",
              "      <td>NaN</td>\n",
              "    </tr>\n",
              "    <tr>\n",
              "      <th>142832</th>\n",
              "      <td>2016021043</td>\n",
              "      <td>Toronto Maple Leafs</td>\n",
              "      <td>2</td>\n",
              "      <td>0.0</td>\n",
              "      <td>1.0</td>\n",
              "      <td>Wrist Shot</td>\n",
              "      <td>0</td>\n",
              "      <td>False</td>\n",
              "      <td>159.0</td>\n",
              "      <td>1359.0</td>\n",
              "      <td>89.005618</td>\n",
              "      <td>-0.643746</td>\n",
              "      <td>0</td>\n",
              "      <td>Goal</td>\n",
              "      <td>81.0</td>\n",
              "      <td>10.0</td>\n",
              "      <td>0.0</td>\n",
              "      <td>81.498466</td>\n",
              "      <td>False</td>\n",
              "      <td>inf</td>\n",
              "      <td>0.0</td>\n",
              "      <td>NaN</td>\n",
              "    </tr>\n",
              "    <tr>\n",
              "      <th>143424</th>\n",
              "      <td>2016021052</td>\n",
              "      <td>Buffalo Sabres</td>\n",
              "      <td>2</td>\n",
              "      <td>39.0</td>\n",
              "      <td>2.0</td>\n",
              "      <td>Slap Shot</td>\n",
              "      <td>0</td>\n",
              "      <td>False</td>\n",
              "      <td>935.0</td>\n",
              "      <td>2135.0</td>\n",
              "      <td>50.039984</td>\n",
              "      <td>-2.290610</td>\n",
              "      <td>0</td>\n",
              "      <td>Goal</td>\n",
              "      <td>37.0</td>\n",
              "      <td>12.0</td>\n",
              "      <td>0.0</td>\n",
              "      <td>10.198039</td>\n",
              "      <td>False</td>\n",
              "      <td>inf</td>\n",
              "      <td>0.0</td>\n",
              "      <td>NaN</td>\n",
              "    </tr>\n",
              "    <tr>\n",
              "      <th>183360</th>\n",
              "      <td>2017020369</td>\n",
              "      <td>Florida Panthers</td>\n",
              "      <td>2</td>\n",
              "      <td>-81.0</td>\n",
              "      <td>5.0</td>\n",
              "      <td>Wrist Shot</td>\n",
              "      <td>0</td>\n",
              "      <td>False</td>\n",
              "      <td>516.0</td>\n",
              "      <td>1716.0</td>\n",
              "      <td>9.433981</td>\n",
              "      <td>32.005383</td>\n",
              "      <td>0</td>\n",
              "      <td>Goal</td>\n",
              "      <td>-87.0</td>\n",
              "      <td>5.0</td>\n",
              "      <td>0.0</td>\n",
              "      <td>6.000000</td>\n",
              "      <td>False</td>\n",
              "      <td>inf</td>\n",
              "      <td>0.0</td>\n",
              "      <td>NaN</td>\n",
              "    </tr>\n",
              "    <tr>\n",
              "      <th>290046</th>\n",
              "      <td>2018020686</td>\n",
              "      <td>Pittsburgh Penguins</td>\n",
              "      <td>2</td>\n",
              "      <td>85.0</td>\n",
              "      <td>18.0</td>\n",
              "      <td>Wrist Shot</td>\n",
              "      <td>0</td>\n",
              "      <td>False</td>\n",
              "      <td>684.0</td>\n",
              "      <td>1884.0</td>\n",
              "      <td>18.439089</td>\n",
              "      <td>-77.471192</td>\n",
              "      <td>0</td>\n",
              "      <td>Goal</td>\n",
              "      <td>81.0</td>\n",
              "      <td>1.0</td>\n",
              "      <td>0.0</td>\n",
              "      <td>17.464249</td>\n",
              "      <td>False</td>\n",
              "      <td>inf</td>\n",
              "      <td>0.0</td>\n",
              "      <td>NaN</td>\n",
              "    </tr>\n",
              "  </tbody>\n",
              "</table>\n",
              "</div>"
            ],
            "text/plain": [
              "            gamePk            team.name  gamePeriod  coordinatesX  \\\n",
              "36982   2015020619      San Jose Sharks           2         -83.0   \n",
              "66339   2015021104        Anaheim Ducks           2         -80.0   \n",
              "142832  2016021043  Toronto Maple Leafs           2           0.0   \n",
              "143424  2016021052       Buffalo Sabres           2          39.0   \n",
              "183360  2017020369     Florida Panthers           2         -81.0   \n",
              "290046  2018020686  Pittsburgh Penguins           2          85.0   \n",
              "\n",
              "        coordinatesY    shotType emptyNet isHome  gameSeconds  \\\n",
              "36982            3.0    Backhand        0   True       1049.0   \n",
              "66339           -5.0    Backhand        0  False       1143.0   \n",
              "142832           1.0  Wrist Shot        0  False        159.0   \n",
              "143424           2.0   Slap Shot        0  False        935.0   \n",
              "183360           5.0  Wrist Shot        0  False        516.0   \n",
              "290046          18.0  Wrist Shot        0  False        684.0   \n",
              "\n",
              "        totalGameSeconds  shotDistance  shotAngle  isGoal lastEventType  \\\n",
              "36982             2249.0      6.708204  26.565051       0          Goal   \n",
              "66339             2343.0     10.295630 -29.054604       0          Goal   \n",
              "142832            1359.0     89.005618  -0.643746       0          Goal   \n",
              "143424            2135.0     50.039984  -2.290610       0          Goal   \n",
              "183360            1716.0      9.433981  32.005383       0          Goal   \n",
              "290046            1884.0     18.439089 -77.471192       0          Goal   \n",
              "\n",
              "        lastEventCoordinatesX  lastEventCoordinatesY  timeFromLastEvent  \\\n",
              "36982                   -85.0                    8.0                0.0   \n",
              "66339                   -79.0                    3.0                0.0   \n",
              "142832                   81.0                   10.0                0.0   \n",
              "143424                   37.0                   12.0                0.0   \n",
              "183360                  -87.0                    5.0                0.0   \n",
              "290046                   81.0                    1.0                0.0   \n",
              "\n",
              "        distanceFromLastEvent  rebound  speed  changeInShotAngle  angleSpeed  \n",
              "36982                5.385165    False    inf                0.0         NaN  \n",
              "66339                8.062258    False    inf                0.0         NaN  \n",
              "142832              81.498466    False    inf                0.0         NaN  \n",
              "143424              10.198039    False    inf                0.0         NaN  \n",
              "183360               6.000000    False    inf                0.0         NaN  \n",
              "290046              17.464249    False    inf                0.0         NaN  "
            ]
          },
          "execution_count": 9,
          "metadata": {},
          "output_type": "execute_result"
        }
      ],
      "source": [
        "df[(df[[\"speed\"]].isin([np.nan,np.inf,-np.inf]).any(1))&(df[\"lastEventType\"]==\"Goal\")&(df[\"gamePeriod\"]==2)]"
      ]
    },
    {
      "cell_type": "code",
      "execution_count": 10,
      "metadata": {},
      "outputs": [],
      "source": [
        "# df[(df[\"isGoal\"]==1)&(df[\"result.strength.name\"]==\"Power Play\")&(df[\"gameSeconds\"]<30)]"
      ]
    },
    {
      "cell_type": "code",
      "execution_count": 11,
      "metadata": {},
      "outputs": [],
      "source": [
        "features = ['gameSeconds','totalGameSeconds','timeFromLastEvent','gamePeriod','shotType', 'shotAngle','isHome','coordinatesX','coordinatesY', 'shotDistance','lastEventType','lastEventCoordinatesX','lastEventCoordinatesY','distanceFromLastEvent', 'rebound','speed','changeInShotAngle','angleSpeed']\n",
        "label = ['isGoal']"
      ]
    },
    {
      "cell_type": "code",
      "execution_count": 12,
      "metadata": {},
      "outputs": [
        {
          "name": "stdout",
          "output_type": "stream",
          "text": [
            "gameSeconds              False\n",
            "totalGameSeconds         False\n",
            "timeFromLastEvent        False\n",
            "gamePeriod               False\n",
            "shotType                  True\n",
            "shotAngle                 True\n",
            "isHome                    True\n",
            "coordinatesX              True\n",
            "coordinatesY              True\n",
            "shotDistance              True\n",
            "lastEventType            False\n",
            "lastEventCoordinatesX     True\n",
            "lastEventCoordinatesY     True\n",
            "distanceFromLastEvent     True\n",
            "rebound                  False\n",
            "speed                     True\n",
            "changeInShotAngle         True\n",
            "angleSpeed                True\n",
            "isGoal                   False\n",
            "dtype: bool\n"
          ]
        },
        {
          "data": {
            "text/html": [
              "<div>\n",
              "<style scoped>\n",
              "    .dataframe tbody tr th:only-of-type {\n",
              "        vertical-align: middle;\n",
              "    }\n",
              "\n",
              "    .dataframe tbody tr th {\n",
              "        vertical-align: top;\n",
              "    }\n",
              "\n",
              "    .dataframe thead th {\n",
              "        text-align: right;\n",
              "    }\n",
              "</style>\n",
              "<table border=\"1\" class=\"dataframe\">\n",
              "  <thead>\n",
              "    <tr style=\"text-align: right;\">\n",
              "      <th></th>\n",
              "      <th>gameSeconds</th>\n",
              "      <th>totalGameSeconds</th>\n",
              "      <th>timeFromLastEvent</th>\n",
              "      <th>gamePeriod</th>\n",
              "      <th>shotType</th>\n",
              "      <th>shotAngle</th>\n",
              "      <th>isHome</th>\n",
              "      <th>coordinatesX</th>\n",
              "      <th>coordinatesY</th>\n",
              "      <th>shotDistance</th>\n",
              "      <th>lastEventType</th>\n",
              "      <th>lastEventCoordinatesX</th>\n",
              "      <th>lastEventCoordinatesY</th>\n",
              "      <th>distanceFromLastEvent</th>\n",
              "      <th>rebound</th>\n",
              "      <th>speed</th>\n",
              "      <th>changeInShotAngle</th>\n",
              "      <th>angleSpeed</th>\n",
              "      <th>isGoal</th>\n",
              "    </tr>\n",
              "  </thead>\n",
              "  <tbody>\n",
              "    <tr>\n",
              "      <th>0</th>\n",
              "      <td>51.0</td>\n",
              "      <td>51.0</td>\n",
              "      <td>11.0</td>\n",
              "      <td>1</td>\n",
              "      <td>Wrist Shot</td>\n",
              "      <td>10.007980</td>\n",
              "      <td>True</td>\n",
              "      <td>-55.0</td>\n",
              "      <td>6.0</td>\n",
              "      <td>34.525353</td>\n",
              "      <td>Hit</td>\n",
              "      <td>94.0</td>\n",
              "      <td>-34.0</td>\n",
              "      <td>154.275727</td>\n",
              "      <td>False</td>\n",
              "      <td>14.025066</td>\n",
              "      <td>0.000000</td>\n",
              "      <td>0.000000</td>\n",
              "      <td>0</td>\n",
              "    </tr>\n",
              "    <tr>\n",
              "      <th>1</th>\n",
              "      <td>65.0</td>\n",
              "      <td>65.0</td>\n",
              "      <td>7.0</td>\n",
              "      <td>1</td>\n",
              "      <td>Snap Shot</td>\n",
              "      <td>0.000000</td>\n",
              "      <td>True</td>\n",
              "      <td>-79.0</td>\n",
              "      <td>0.0</td>\n",
              "      <td>10.000000</td>\n",
              "      <td>Giveaway</td>\n",
              "      <td>-37.0</td>\n",
              "      <td>-28.0</td>\n",
              "      <td>50.477718</td>\n",
              "      <td>False</td>\n",
              "      <td>7.211103</td>\n",
              "      <td>0.000000</td>\n",
              "      <td>0.000000</td>\n",
              "      <td>0</td>\n",
              "    </tr>\n",
              "    <tr>\n",
              "      <th>2</th>\n",
              "      <td>66.0</td>\n",
              "      <td>66.0</td>\n",
              "      <td>1.0</td>\n",
              "      <td>1</td>\n",
              "      <td>Snap Shot</td>\n",
              "      <td>-4.085617</td>\n",
              "      <td>True</td>\n",
              "      <td>-75.0</td>\n",
              "      <td>-1.0</td>\n",
              "      <td>14.035669</td>\n",
              "      <td>Shot</td>\n",
              "      <td>-79.0</td>\n",
              "      <td>0.0</td>\n",
              "      <td>4.123106</td>\n",
              "      <td>True</td>\n",
              "      <td>4.123106</td>\n",
              "      <td>4.085617</td>\n",
              "      <td>4.085617</td>\n",
              "      <td>0</td>\n",
              "    </tr>\n",
              "    <tr>\n",
              "      <th>3</th>\n",
              "      <td>113.0</td>\n",
              "      <td>113.0</td>\n",
              "      <td>18.0</td>\n",
              "      <td>1</td>\n",
              "      <td>Wrist Shot</td>\n",
              "      <td>-46.636577</td>\n",
              "      <td>True</td>\n",
              "      <td>-55.0</td>\n",
              "      <td>-36.0</td>\n",
              "      <td>49.517674</td>\n",
              "      <td>Hit</td>\n",
              "      <td>-91.0</td>\n",
              "      <td>35.0</td>\n",
              "      <td>79.605276</td>\n",
              "      <td>False</td>\n",
              "      <td>4.422515</td>\n",
              "      <td>0.000000</td>\n",
              "      <td>0.000000</td>\n",
              "      <td>0</td>\n",
              "    </tr>\n",
              "    <tr>\n",
              "      <th>4</th>\n",
              "      <td>157.0</td>\n",
              "      <td>157.0</td>\n",
              "      <td>5.0</td>\n",
              "      <td>1</td>\n",
              "      <td>Tip-In</td>\n",
              "      <td>-2.045408</td>\n",
              "      <td>True</td>\n",
              "      <td>-61.0</td>\n",
              "      <td>-1.0</td>\n",
              "      <td>28.017851</td>\n",
              "      <td>Faceoff</td>\n",
              "      <td>-69.0</td>\n",
              "      <td>-22.0</td>\n",
              "      <td>22.472205</td>\n",
              "      <td>False</td>\n",
              "      <td>4.494441</td>\n",
              "      <td>0.000000</td>\n",
              "      <td>0.000000</td>\n",
              "      <td>0</td>\n",
              "    </tr>\n",
              "  </tbody>\n",
              "</table>\n",
              "</div>"
            ],
            "text/plain": [
              "   gameSeconds  totalGameSeconds  timeFromLastEvent  gamePeriod    shotType  \\\n",
              "0         51.0              51.0               11.0           1  Wrist Shot   \n",
              "1         65.0              65.0                7.0           1   Snap Shot   \n",
              "2         66.0              66.0                1.0           1   Snap Shot   \n",
              "3        113.0             113.0               18.0           1  Wrist Shot   \n",
              "4        157.0             157.0                5.0           1      Tip-In   \n",
              "\n",
              "   shotAngle isHome  coordinatesX  coordinatesY  shotDistance lastEventType  \\\n",
              "0  10.007980   True         -55.0           6.0     34.525353           Hit   \n",
              "1   0.000000   True         -79.0           0.0     10.000000      Giveaway   \n",
              "2  -4.085617   True         -75.0          -1.0     14.035669          Shot   \n",
              "3 -46.636577   True         -55.0         -36.0     49.517674           Hit   \n",
              "4  -2.045408   True         -61.0          -1.0     28.017851       Faceoff   \n",
              "\n",
              "   lastEventCoordinatesX  lastEventCoordinatesY  distanceFromLastEvent  \\\n",
              "0                   94.0                  -34.0             154.275727   \n",
              "1                  -37.0                  -28.0              50.477718   \n",
              "2                  -79.0                    0.0               4.123106   \n",
              "3                  -91.0                   35.0              79.605276   \n",
              "4                  -69.0                  -22.0              22.472205   \n",
              "\n",
              "   rebound      speed  changeInShotAngle  angleSpeed  isGoal  \n",
              "0    False  14.025066           0.000000    0.000000       0  \n",
              "1    False   7.211103           0.000000    0.000000       0  \n",
              "2     True   4.123106           4.085617    4.085617       0  \n",
              "3    False   4.422515           0.000000    0.000000       0  \n",
              "4    False   4.494441           0.000000    0.000000       0  "
            ]
          },
          "execution_count": 12,
          "metadata": {},
          "output_type": "execute_result"
        }
      ],
      "source": [
        "df_exp = df[features+label]\n",
        "print(df_exp.isna().any())\n",
        "df_exp.head()\n"
      ]
    },
    {
      "cell_type": "code",
      "execution_count": 13,
      "metadata": {},
      "outputs": [
        {
          "name": "stderr",
          "output_type": "stream",
          "text": [
            "C:\\Users\\saiak\\.conda\\envs\\ift6758-conda-env\\lib\\site-packages\\pandas\\core\\frame.py:5238: SettingWithCopyWarning: \n",
            "A value is trying to be set on a copy of a slice from a DataFrame\n",
            "\n",
            "See the caveats in the documentation: https://pandas.pydata.org/pandas-docs/stable/user_guide/indexing.html#returning-a-view-versus-a-copy\n",
            "  return super().replace(\n",
            "C:\\Users\\saiak\\.conda\\envs\\ift6758-conda-env\\lib\\site-packages\\pandas\\core\\frame.py:3641: SettingWithCopyWarning: \n",
            "A value is trying to be set on a copy of a slice from a DataFrame.\n",
            "Try using .loc[row_indexer,col_indexer] = value instead\n",
            "\n",
            "See the caveats in the documentation: https://pandas.pydata.org/pandas-docs/stable/user_guide/indexing.html#returning-a-view-versus-a-copy\n",
            "  self[k1] = value[k2]\n"
          ]
        }
      ],
      "source": [
        "## Removing nan and inf data of features \n",
        "\n",
        "remove_nan_inf_features= [\"shotAngle\",\"coordinatesX\",\"coordinatesY\",\"shotDistance\",\"lastEventCoordinatesX\",\"lastEventCoordinatesY\",\"distanceFromLastEvent\",\"speed\",\"changeInShotAngle\"]\n",
        "# df_exp = df_exp[~df_exp[remove_nan_inf_features].isin([np.nan,np.inf,-np.inf]).any(1)]\n",
        "# df_exp[df_exp[remove_nan_inf_features].isin([np.nan,np.inf,-np.inf]).any(1),re]\n",
        "df_exp.replace([np.inf, -np.inf], np.nan, inplace=True)\n",
        "df_exp.replace([np.inf, -np.inf], np.nan, inplace=True)\n",
        "\n",
        "## Filled with unknown: To be done in advanced??\n",
        "# add_unknown_features = [\"shotType\"]\n",
        "# df_exp.loc[:,add_unknown_features] = df_exp.loc[:,add_unknown_features].fillna('Unknown')\n",
        "\n",
        "## Add One Hot to Categories\n",
        "categories = ['shotType','gamePeriod','lastEventType','rebound','isHome']\n",
        "# df_exp = pd.get_dummies(df_exp,columns=categories,dtype=int)\n",
        "df_exp[categories]=df_exp[categories].astype(\"category\")\n",
        "## Rebound fro True/False to 1/0\n",
        "# if 'rebound' in features:\n",
        "#     df_exp['rebound'] = df_exp['rebound'].astype(int)\n",
        "# if 'isHome' in features:\n",
        "#     df_exp['isHome'] = df_exp['isHome'].astype(int)\n",
        "# df\n"
      ]
    },
    {
      "cell_type": "code",
      "execution_count": 14,
      "metadata": {},
      "outputs": [
        {
          "data": {
            "text/plain": [
              "True     157834\n",
              "False    150886\n",
              "Name: isHome, dtype: int64"
            ]
          },
          "execution_count": 14,
          "metadata": {},
          "output_type": "execute_result"
        }
      ],
      "source": [
        "df_exp['isHome'].value_counts()"
      ]
    },
    {
      "cell_type": "code",
      "execution_count": 15,
      "metadata": {},
      "outputs": [
        {
          "name": "stdout",
          "output_type": "stream",
          "text": [
            "<class 'pandas.core.frame.DataFrame'>\n",
            "Int64Index: 311106 entries, 0 to 327280\n",
            "Data columns (total 19 columns):\n",
            " #   Column                 Non-Null Count   Dtype   \n",
            "---  ------                 --------------   -----   \n",
            " 0   gameSeconds            311106 non-null  float64 \n",
            " 1   totalGameSeconds       311106 non-null  float64 \n",
            " 2   timeFromLastEvent      311106 non-null  float64 \n",
            " 3   gamePeriod             311106 non-null  category\n",
            " 4   shotType               311068 non-null  category\n",
            " 5   shotAngle              311086 non-null  float64 \n",
            " 6   isHome                 308720 non-null  category\n",
            " 7   coordinatesX           311088 non-null  float64 \n",
            " 8   coordinatesY           311088 non-null  float64 \n",
            " 9   shotDistance           311086 non-null  float64 \n",
            " 10  lastEventType          311106 non-null  category\n",
            " 11  lastEventCoordinatesX  306148 non-null  float64 \n",
            " 12  lastEventCoordinatesY  306149 non-null  float64 \n",
            " 13  distanceFromLastEvent  306133 non-null  float64 \n",
            " 14  rebound                311106 non-null  category\n",
            " 15  speed                  300518 non-null  float64 \n",
            " 16  changeInShotAngle      311093 non-null  float64 \n",
            " 17  angleSpeed             301346 non-null  float64 \n",
            " 18  isGoal                 311106 non-null  int64   \n",
            "dtypes: category(5), float64(13), int64(1)\n",
            "memory usage: 37.1 MB\n"
          ]
        }
      ],
      "source": [
        "df_exp.info()"
      ]
    },
    {
      "cell_type": "code",
      "execution_count": 16,
      "metadata": {},
      "outputs": [
        {
          "data": {
            "text/plain": [
              "gameSeconds              False\n",
              "totalGameSeconds         False\n",
              "timeFromLastEvent        False\n",
              "gamePeriod               False\n",
              "shotType                  True\n",
              "shotAngle                 True\n",
              "isHome                    True\n",
              "coordinatesX              True\n",
              "coordinatesY              True\n",
              "shotDistance              True\n",
              "lastEventType            False\n",
              "lastEventCoordinatesX     True\n",
              "lastEventCoordinatesY     True\n",
              "distanceFromLastEvent     True\n",
              "rebound                  False\n",
              "speed                     True\n",
              "changeInShotAngle         True\n",
              "angleSpeed                True\n",
              "isGoal                   False\n",
              "dtype: bool"
            ]
          },
          "execution_count": 16,
          "metadata": {},
          "output_type": "execute_result"
        }
      ],
      "source": [
        "df_exp.isna().any()\n"
      ]
    },
    {
      "cell_type": "code",
      "execution_count": 17,
      "metadata": {},
      "outputs": [],
      "source": [
        "def XY(df,label_column,features):\n",
        "    X = df.drop([label_column],axis=1)[features]\n",
        "    Y = df[label_column]\n",
        "    # scaler = preprocessing.MinMaxScaler()\n",
        "    # X=scaler.fit_transform(X)\n",
        "\n",
        "    return X,Y"
      ]
    },
    {
      "cell_type": "code",
      "execution_count": 18,
      "metadata": {},
      "outputs": [],
      "source": [
        "predscore_val_dict={}\n",
        "\n",
        "weights_dir = \"../ift6758/models/weights/\""
      ]
    },
    {
      "cell_type": "markdown",
      "metadata": {},
      "source": [
        "## XGBoost with distance +angle"
      ]
    },
    {
      "cell_type": "code",
      "execution_count": 19,
      "metadata": {},
      "outputs": [],
      "source": [
        "import joblib"
      ]
    },
    {
      "cell_type": "code",
      "execution_count": 58,
      "metadata": {},
      "outputs": [
        {
          "name": "stderr",
          "output_type": "stream",
          "text": [
            "Old style callback is deprecated.  See: https://xgboost.readthedocs.io/en/latest/python/callbacks.html\n"
          ]
        },
        {
          "name": "stdout",
          "output_type": "stream",
          "text": [
            "              precision    recall  f1-score   support\n",
            "\n",
            "           0       0.91      1.00      0.95     70480\n",
            "           1       0.43      0.00      0.01      7297\n",
            "\n",
            "    accuracy                           0.91     77777\n",
            "   macro avg       0.67      0.50      0.48     77777\n",
            "weighted avg       0.86      0.91      0.86     77777\n",
            "\n"
          ]
        },
        {
          "data": {
            "text/plain": [
              "['../ift6758/models/weights//xg-dis-angle-yearvalidation.pkl']"
            ]
          },
          "execution_count": 58,
          "metadata": {},
          "output_type": "execute_result"
        },
        {
          "data": {
            "image/png": "[encoded data removed]",
            "text/plain": [
              "<Figure size 720x360 with 2 Axes>"
            ]
          },
          "metadata": {
            "needs_background": "light"
          },
          "output_type": "display_data"
        }
      ],
      "source": [
        "experiment = \"xg-dis-angle\"\n",
        "features = [\"shotDistance\",\"shotAngle\"]\n",
        "label_column = \"isGoal\"\n",
        "\n",
        "## Splitting X and Y\n",
        "val_ratio = 0.25\n",
        "X,y = XY(df_exp,label_column,features)\n",
        "Xtrain, Xval, Ytrain, Yval = train_test_split(X, y,stratify=y,test_size=val_ratio,random_state=seed)\n",
        "\n",
        "## Training\n",
        "clf = xgb.XGBClassifier(booster='gbtree',use_label_encoder=False)\n",
        "clf.fit(Xtrain, Ytrain)\n",
        "y_pred_val  = clf.predict(Xval)\n",
        "y_pred_val_scores = clf.predict_proba(Xval)[:,1]\n",
        "\n",
        "plot_metrics.plotConfusion(Yval,y_pred_val,title=experiment)\n",
        "\n",
        "predscore_val_dict[experiment]={}\n",
        "predscore_val_dict[experiment]['val']=Yval\n",
        "predscore_val_dict[experiment]['predscore']=y_pred_val_scores\n",
        "\n",
        "\n",
        "\n",
        "## Dumping model\n",
        "filename=f\"{weights_dir}/{experiment}-yearvalidation.pkl\"\n",
        "joblib.dump(clf,filename)"
      ]
    },
    {
      "cell_type": "code",
      "execution_count": 59,
      "metadata": {},
      "outputs": [
        {
          "data": {
            "image/png": "[encoded data removed]",
            "text/plain": [
              "<Figure size 432x288 with 1 Axes>"
            ]
          },
          "metadata": {
            "needs_background": "light"
          },
          "output_type": "display_data"
        },
        {
          "data": {
            "image/png": "[encoded data removed]",
            "text/plain": [
              "<Figure size 1080x540 with 2 Axes>"
            ]
          },
          "metadata": {
            "needs_background": "light"
          },
          "output_type": "display_data"
        },
        {
          "data": {
            "image/png": "[encoded data removed]",
            "text/plain": [
              "<Figure size 540x540 with 1 Axes>"
            ]
          },
          "metadata": {
            "needs_background": "light"
          },
          "output_type": "display_data"
        }
      ],
      "source": [
        "plot_metrics.plot_roc([Yval],[y_pred_val_scores],plot_labels=[experiment])\n",
        "plot_metrics.plot_percentile([Yval],[y_pred_val_scores],plot_labels=[experiment],bin_width=5)\n",
        "plot_metrics.plot_calibration([Yval],[y_pred_val_scores],plot_labels=[experiment],n_bins=50)\n",
        "\n"
      ]
    },
    {
      "cell_type": "markdown",
      "metadata": {},
      "source": [
        "## XG Boost with all Features\n"
      ]
    },
    {
      "cell_type": "code",
      "execution_count": 69,
      "metadata": {},
      "outputs": [
        {
          "name": "stdout",
          "output_type": "stream",
          "text": [
            "<class 'pandas.core.frame.DataFrame'>\n",
            "Int64Index: 311106 entries, 0 to 327280\n",
            "Data columns (total 19 columns):\n",
            " #   Column                 Non-Null Count   Dtype   \n",
            "---  ------                 --------------   -----   \n",
            " 0   gameSeconds            311106 non-null  float64 \n",
            " 1   totalGameSeconds       311106 non-null  float64 \n",
            " 2   timeFromLastEvent      311106 non-null  float64 \n",
            " 3   gamePeriod             311106 non-null  category\n",
            " 4   shotType               311068 non-null  category\n",
            " 5   shotAngle              311086 non-null  float64 \n",
            " 6   isHome                 308720 non-null  category\n",
            " 7   coordinatesX           311088 non-null  float64 \n",
            " 8   coordinatesY           311088 non-null  float64 \n",
            " 9   shotDistance           311086 non-null  float64 \n",
            " 10  lastEventType          311106 non-null  category\n",
            " 11  lastEventCoordinatesX  306148 non-null  float64 \n",
            " 12  lastEventCoordinatesY  306149 non-null  float64 \n",
            " 13  distanceFromLastEvent  306133 non-null  float64 \n",
            " 14  rebound                311106 non-null  category\n",
            " 15  speed                  300518 non-null  float64 \n",
            " 16  changeInShotAngle      311093 non-null  float64 \n",
            " 17  angleSpeed             301346 non-null  float64 \n",
            " 18  isGoal                 311106 non-null  int64   \n",
            "dtypes: category(5), float64(13), int64(1)\n",
            "memory usage: 37.1 MB\n"
          ]
        }
      ],
      "source": [
        "df_exp.info()"
      ]
    },
    {
      "cell_type": "code",
      "execution_count": 70,
      "metadata": {},
      "outputs": [],
      "source": [
        "val_ratio = 0.25\n",
        "X= df_exp.drop(label,axis=1)\n",
        "y= df_exp[label]\n",
        "\n",
        "\n",
        "Xtrain, Xval, Ytrain, Yval = train_test_split(X, y,stratify=y,test_size=val_ratio,random_state=seed)\n"
      ]
    },
    {
      "cell_type": "markdown",
      "metadata": {},
      "source": [
        "## Repeat for Best Shot\n"
      ]
    },
    {
      "cell_type": "code",
      "execution_count": 71,
      "metadata": {},
      "outputs": [
        {
          "name": "stderr",
          "output_type": "stream",
          "text": [
            "Old style callback is deprecated.  See: https://xgboost.readthedocs.io/en/latest/python/callbacks.html\n"
          ]
        },
        {
          "name": "stdout",
          "output_type": "stream",
          "text": [
            "Fitting 3 folds for each of 1 candidates, totalling 3 fits\n"
          ]
        },
        {
          "name": "stderr",
          "output_type": "stream",
          "text": [
            "Old style callback is deprecated.  See: https://xgboost.readthedocs.io/en/latest/python/callbacks.html\n",
            "Old style callback is deprecated.  See: https://xgboost.readthedocs.io/en/latest/python/callbacks.html\n",
            "Old style callback is deprecated.  See: https://xgboost.readthedocs.io/en/latest/python/callbacks.html\n",
            "Old style callback is deprecated.  See: https://xgboost.readthedocs.io/en/latest/python/callbacks.html\n"
          ]
        }
      ],
      "source": [
        "# To Be Done for Best Shot\n",
        "### Apply XGB on features from FE2\n",
        "#dictionary for collecting results\n",
        "results_dict = {}\n",
        "experiment = \"xgbase-allfeatures\"\n",
        "\n",
        "#obtaining default parameters by calling .fit() to XGBoost model instance\n",
        "xgb2 = xgb.XGBClassifier(objective='binary:logistic',\n",
        "                         enable_categorical=1,\n",
        "                          booster='gbtree',\n",
        "                          eval_metric='auc',\n",
        "                          tree_method='gpu_hist',\n",
        "                          grow_policy='lossguide',\n",
        "                          use_label_encoder=False,\n",
        "                        )\n",
        "xgb2.fit(X, y)\n",
        "\n",
        "#extracting default parameters from benchmark model\n",
        "default_params = {}\n",
        "gparams = xgb2.get_params()\n",
        "\n",
        "#default parameters have to be wrapped in lists - even single values - so GridSearchCV can take them as inputs\n",
        "for key in gparams.keys():\n",
        "    gp = gparams[key]\n",
        "    default_params[key] = [gp]\n",
        "\n",
        "#benchmark model. Grid search is not performed, since only single values are provided as parameter grid.\n",
        "#However, cross-validation is still executed\n",
        "clf0 = GridSearchCV(estimator=xgb2, scoring='roc_auc', param_grid=default_params, return_train_score=True, verbose=1, cv=3)\n",
        "clf0.fit(Xtrain, Ytrain.values.ravel())\n",
        "\n",
        "#results dataframe\n",
        "df = pd.DataFrame(clf0.cv_results_)\n",
        "\n",
        "#best parameters\n",
        "bp = clf0.best_params_\n",
        "\n",
        "#storing computed values in results dictionary\n",
        "results_dict[experiment] = {'iterable_parameter': np.nan,\n",
        "                         'classifier': deepcopy(clf0),\n",
        "                         'cv_results': df.copy(),\n",
        "                         'best_params': bp}\n",
        "\n",
        "\n",
        "y_pred_val  = clf0.predict(Xval)\n",
        "y_pred_val_scores = clf0.predict_proba(Xval)[:,1]\n"
      ]
    },
    {
      "cell_type": "code",
      "execution_count": 72,
      "metadata": {},
      "outputs": [
        {
          "data": {
            "text/plain": [
              "['../ift6758/models/weights//xgbase-allfeatures-yearvalidation.pkl']"
            ]
          },
          "execution_count": 72,
          "metadata": {},
          "output_type": "execute_result"
        }
      ],
      "source": [
        "## Dumping model\n",
        "filename=f\"{weights_dir}/{experiment}-yearvalidation.pkl\"\n",
        "joblib.dump(clf0,filename)"
      ]
    },
    {
      "cell_type": "code",
      "execution_count": 74,
      "metadata": {
        "id": "pjFbDBdqiC28"
      },
      "outputs": [
        {
          "name": "stdout",
          "output_type": "stream",
          "text": [
            "              precision    recall  f1-score   support\n",
            "\n",
            "           0       0.91      1.00      0.95     70480\n",
            "           1       0.49      0.05      0.08      7297\n",
            "\n",
            "    accuracy                           0.91     77777\n",
            "   macro avg       0.70      0.52      0.52     77777\n",
            "weighted avg       0.87      0.91      0.87     77777\n",
            "\n"
          ]
        },
        {
          "data": {
            "image/png": "[encoded data removed]",
            "text/plain": [
              "<Figure size 720x360 with 2 Axes>"
            ]
          },
          "metadata": {
            "needs_background": "light"
          },
          "output_type": "display_data"
        },
        {
          "data": {
            "image/png": "[encoded data removed]",
            "text/plain": [
              "<Figure size 432x288 with 1 Axes>"
            ]
          },
          "metadata": {
            "needs_background": "light"
          },
          "output_type": "display_data"
        },
        {
          "data": {
            "image/png": "[encoded data removed]",
            "text/plain": [
              "<Figure size 1080x540 with 2 Axes>"
            ]
          },
          "metadata": {
            "needs_background": "light"
          },
          "output_type": "display_data"
        },
        {
          "data": {
            "image/png": "[encoded data removed]",
            "text/plain": [
              "<Figure size 540x540 with 1 Axes>"
            ]
          },
          "metadata": {
            "needs_background": "light"
          },
          "output_type": "display_data"
        }
      ],
      "source": [
        "\n",
        "plot_metrics.plotConfusion(Yval,y_pred_val,title=experiment)\n",
        "plot_metrics.plot_roc([Yval],[y_pred_val_scores],plot_labels=[experiment])\n",
        "plot_metrics.plot_percentile([Yval],[y_pred_val_scores],plot_labels=[experiment],bin_width=5)\n",
        "plot_metrics.plot_calibration([Yval],[y_pred_val_scores],plot_labels=[experiment],n_bins=50)\n",
        "\n",
        "\n"
      ]
    },
    {
      "cell_type": "code",
      "execution_count": 75,
      "metadata": {
        "id": "rDKOtCcnoDOK"
      },
      "outputs": [],
      "source": [
        "###Script to perfrom generation of Graphs\n"
      ]
    },
    {
      "cell_type": "code",
      "execution_count": 76,
      "metadata": {
        "id": "DbtA26whq5PJ"
      },
      "outputs": [],
      "source": [
        "### Script to get the DataFrame and Split the data into train and test set for FE2"
      ]
    },
    {
      "cell_type": "markdown",
      "metadata": {},
      "source": [
        "## Hyperparameter Tuning\n"
      ]
    },
    {
      "cell_type": "code",
      "execution_count": 31,
      "metadata": {},
      "outputs": [],
      "source": [
        "## cv = StratifiedKFold(\n",
        "    #     n_splits=3,\n",
        "    #     shuffle=True,\n",
        "    #     random_state=42\n",
        "    # ),\n",
        "from sklearn.model_selection import StratifiedKFold\n"
      ]
    },
    {
      "cell_type": "code",
      "execution_count": 32,
      "metadata": {
        "id": "wBMiqR0qrI6z"
      },
      "outputs": [
        {
          "name": "stdout",
          "output_type": "stream",
          "text": [
            "Fitting 3 folds for each of 1 candidates, totalling 3 fits\n"
          ]
        },
        {
          "name": "stderr",
          "output_type": "stream",
          "text": [
            "C:\\Users\\saiak\\.conda\\envs\\ift6758-conda-env\\lib\\site-packages\\xgboost\\training.py:17: UserWarning: Old style callback is deprecated.  See: https://xgboost.readthedocs.io/en/latest/python/callbacks.html\n",
            "  warnings.warn(f'Old style callback is deprecated.  See: {link}', UserWarning)\n"
          ]
        },
        {
          "name": "stdout",
          "output_type": "stream",
          "text": [
            "[CV 1/3] END gamma=25.6, learning_rate=0.7, max_depth=10, n_estimators=50, reg_alpha=51.2, reg_lambda=12.8;, score=(train=0.752, test=0.742) total time=   0.3s\n"
          ]
        },
        {
          "name": "stderr",
          "output_type": "stream",
          "text": [
            "C:\\Users\\saiak\\.conda\\envs\\ift6758-conda-env\\lib\\site-packages\\xgboost\\training.py:17: UserWarning: Old style callback is deprecated.  See: https://xgboost.readthedocs.io/en/latest/python/callbacks.html\n",
            "  warnings.warn(f'Old style callback is deprecated.  See: {link}', UserWarning)\n"
          ]
        },
        {
          "name": "stdout",
          "output_type": "stream",
          "text": [
            "[CV 2/3] END gamma=25.6, learning_rate=0.7, max_depth=10, n_estimators=50, reg_alpha=51.2, reg_lambda=12.8;, score=(train=0.751, test=0.748) total time=   0.3s\n"
          ]
        },
        {
          "name": "stderr",
          "output_type": "stream",
          "text": [
            "C:\\Users\\saiak\\.conda\\envs\\ift6758-conda-env\\lib\\site-packages\\xgboost\\training.py:17: UserWarning: Old style callback is deprecated.  See: https://xgboost.readthedocs.io/en/latest/python/callbacks.html\n",
            "  warnings.warn(f'Old style callback is deprecated.  See: {link}', UserWarning)\n"
          ]
        },
        {
          "name": "stdout",
          "output_type": "stream",
          "text": [
            "[CV 3/3] END gamma=25.6, learning_rate=0.7, max_depth=10, n_estimators=50, reg_alpha=51.2, reg_lambda=12.8;, score=(train=0.749, test=0.750) total time=   0.3s\n",
            "Fitting 3 folds for each of 1 candidates, totalling 3 fits\n"
          ]
        },
        {
          "name": "stderr",
          "output_type": "stream",
          "text": [
            "C:\\Users\\saiak\\.conda\\envs\\ift6758-conda-env\\lib\\site-packages\\xgboost\\training.py:17: UserWarning: Old style callback is deprecated.  See: https://xgboost.readthedocs.io/en/latest/python/callbacks.html\n",
            "  warnings.warn(f'Old style callback is deprecated.  See: {link}', UserWarning)\n"
          ]
        },
        {
          "name": "stdout",
          "output_type": "stream",
          "text": [
            "[CV 1/3] END gamma=51.2, learning_rate=0.06, max_depth=6, n_estimators=65, reg_alpha=0.4, reg_lambda=6.4;, score=(train=0.750, test=0.745) total time=   0.5s\n"
          ]
        },
        {
          "name": "stderr",
          "output_type": "stream",
          "text": [
            "C:\\Users\\saiak\\.conda\\envs\\ift6758-conda-env\\lib\\site-packages\\xgboost\\training.py:17: UserWarning: Old style callback is deprecated.  See: https://xgboost.readthedocs.io/en/latest/python/callbacks.html\n",
            "  warnings.warn(f'Old style callback is deprecated.  See: {link}', UserWarning)\n"
          ]
        },
        {
          "name": "stdout",
          "output_type": "stream",
          "text": [
            "[CV 2/3] END gamma=51.2, learning_rate=0.06, max_depth=6, n_estimators=65, reg_alpha=0.4, reg_lambda=6.4;, score=(train=0.749, test=0.748) total time=   0.6s\n"
          ]
        },
        {
          "name": "stderr",
          "output_type": "stream",
          "text": [
            "C:\\Users\\saiak\\.conda\\envs\\ift6758-conda-env\\lib\\site-packages\\xgboost\\training.py:17: UserWarning: Old style callback is deprecated.  See: https://xgboost.readthedocs.io/en/latest/python/callbacks.html\n",
            "  warnings.warn(f'Old style callback is deprecated.  See: {link}', UserWarning)\n"
          ]
        },
        {
          "name": "stdout",
          "output_type": "stream",
          "text": [
            "[CV 3/3] END gamma=51.2, learning_rate=0.06, max_depth=6, n_estimators=65, reg_alpha=0.4, reg_lambda=6.4;, score=(train=0.751, test=0.746) total time=   0.5s\n",
            "Fitting 3 folds for each of 1 candidates, totalling 3 fits\n"
          ]
        },
        {
          "name": "stderr",
          "output_type": "stream",
          "text": [
            "C:\\Users\\saiak\\.conda\\envs\\ift6758-conda-env\\lib\\site-packages\\xgboost\\training.py:17: UserWarning: Old style callback is deprecated.  See: https://xgboost.readthedocs.io/en/latest/python/callbacks.html\n",
            "  warnings.warn(f'Old style callback is deprecated.  See: {link}', UserWarning)\n"
          ]
        },
        {
          "name": "stdout",
          "output_type": "stream",
          "text": [
            "[CV 1/3] END gamma=1.6, learning_rate=0.1, max_depth=10, n_estimators=130, reg_alpha=51.2, reg_lambda=0.0;, score=(train=0.772, test=0.761) total time=   1.1s\n"
          ]
        },
        {
          "name": "stderr",
          "output_type": "stream",
          "text": [
            "C:\\Users\\saiak\\.conda\\envs\\ift6758-conda-env\\lib\\site-packages\\xgboost\\training.py:17: UserWarning: Old style callback is deprecated.  See: https://xgboost.readthedocs.io/en/latest/python/callbacks.html\n",
            "  warnings.warn(f'Old style callback is deprecated.  See: {link}', UserWarning)\n"
          ]
        },
        {
          "name": "stdout",
          "output_type": "stream",
          "text": [
            "[CV 2/3] END gamma=1.6, learning_rate=0.1, max_depth=10, n_estimators=130, reg_alpha=51.2, reg_lambda=0.0;, score=(train=0.772, test=0.760) total time=   1.2s\n"
          ]
        },
        {
          "name": "stderr",
          "output_type": "stream",
          "text": [
            "C:\\Users\\saiak\\.conda\\envs\\ift6758-conda-env\\lib\\site-packages\\xgboost\\training.py:17: UserWarning: Old style callback is deprecated.  See: https://xgboost.readthedocs.io/en/latest/python/callbacks.html\n",
            "  warnings.warn(f'Old style callback is deprecated.  See: {link}', UserWarning)\n"
          ]
        },
        {
          "name": "stdout",
          "output_type": "stream",
          "text": [
            "[CV 3/3] END gamma=1.6, learning_rate=0.1, max_depth=10, n_estimators=130, reg_alpha=51.2, reg_lambda=0.0;, score=(train=0.773, test=0.760) total time=   1.4s\n",
            "Fitting 3 folds for each of 1 candidates, totalling 3 fits\n"
          ]
        },
        {
          "name": "stderr",
          "output_type": "stream",
          "text": [
            "C:\\Users\\saiak\\.conda\\envs\\ift6758-conda-env\\lib\\site-packages\\xgboost\\training.py:17: UserWarning: Old style callback is deprecated.  See: https://xgboost.readthedocs.io/en/latest/python/callbacks.html\n",
            "  warnings.warn(f'Old style callback is deprecated.  See: {link}', UserWarning)\n"
          ]
        },
        {
          "name": "stdout",
          "output_type": "stream",
          "text": [
            "[CV 1/3] END gamma=6.4, learning_rate=0.6, max_depth=7, n_estimators=65, reg_alpha=1.6, reg_lambda=102.4;, score=(train=0.768, test=0.763) total time=   0.5s\n"
          ]
        },
        {
          "name": "stderr",
          "output_type": "stream",
          "text": [
            "C:\\Users\\saiak\\.conda\\envs\\ift6758-conda-env\\lib\\site-packages\\xgboost\\training.py:17: UserWarning: Old style callback is deprecated.  See: https://xgboost.readthedocs.io/en/latest/python/callbacks.html\n",
            "  warnings.warn(f'Old style callback is deprecated.  See: {link}', UserWarning)\n"
          ]
        },
        {
          "name": "stdout",
          "output_type": "stream",
          "text": [
            "[CV 2/3] END gamma=6.4, learning_rate=0.6, max_depth=7, n_estimators=65, reg_alpha=1.6, reg_lambda=102.4;, score=(train=0.769, test=0.757) total time=   0.5s\n"
          ]
        },
        {
          "name": "stderr",
          "output_type": "stream",
          "text": [
            "C:\\Users\\saiak\\.conda\\envs\\ift6758-conda-env\\lib\\site-packages\\xgboost\\training.py:17: UserWarning: Old style callback is deprecated.  See: https://xgboost.readthedocs.io/en/latest/python/callbacks.html\n",
            "  warnings.warn(f'Old style callback is deprecated.  See: {link}', UserWarning)\n"
          ]
        },
        {
          "name": "stdout",
          "output_type": "stream",
          "text": [
            "[CV 3/3] END gamma=6.4, learning_rate=0.6, max_depth=7, n_estimators=65, reg_alpha=1.6, reg_lambda=102.4;, score=(train=0.770, test=0.759) total time=   0.5s\n",
            "Fitting 3 folds for each of 1 candidates, totalling 3 fits\n"
          ]
        },
        {
          "name": "stderr",
          "output_type": "stream",
          "text": [
            "C:\\Users\\saiak\\.conda\\envs\\ift6758-conda-env\\lib\\site-packages\\xgboost\\training.py:17: UserWarning: Old style callback is deprecated.  See: https://xgboost.readthedocs.io/en/latest/python/callbacks.html\n",
            "  warnings.warn(f'Old style callback is deprecated.  See: {link}', UserWarning)\n"
          ]
        },
        {
          "name": "stdout",
          "output_type": "stream",
          "text": [
            "[CV 1/3] END gamma=102.4, learning_rate=0.15, max_depth=13, n_estimators=150, reg_alpha=102.4, reg_lambda=6.4;, score=(train=0.732, test=0.732) total time=   0.8s\n"
          ]
        },
        {
          "name": "stderr",
          "output_type": "stream",
          "text": [
            "C:\\Users\\saiak\\.conda\\envs\\ift6758-conda-env\\lib\\site-packages\\xgboost\\training.py:17: UserWarning: Old style callback is deprecated.  See: https://xgboost.readthedocs.io/en/latest/python/callbacks.html\n",
            "  warnings.warn(f'Old style callback is deprecated.  See: {link}', UserWarning)\n"
          ]
        },
        {
          "name": "stdout",
          "output_type": "stream",
          "text": [
            "[CV 2/3] END gamma=102.4, learning_rate=0.15, max_depth=13, n_estimators=150, reg_alpha=102.4, reg_lambda=6.4;, score=(train=0.732, test=0.734) total time=   0.8s\n"
          ]
        },
        {
          "name": "stderr",
          "output_type": "stream",
          "text": [
            "C:\\Users\\saiak\\.conda\\envs\\ift6758-conda-env\\lib\\site-packages\\xgboost\\training.py:17: UserWarning: Old style callback is deprecated.  See: https://xgboost.readthedocs.io/en/latest/python/callbacks.html\n",
            "  warnings.warn(f'Old style callback is deprecated.  See: {link}', UserWarning)\n"
          ]
        },
        {
          "name": "stdout",
          "output_type": "stream",
          "text": [
            "[CV 3/3] END gamma=102.4, learning_rate=0.15, max_depth=13, n_estimators=150, reg_alpha=102.4, reg_lambda=6.4;, score=(train=0.736, test=0.729) total time=   0.8s\n",
            "Fitting 3 folds for each of 1 candidates, totalling 3 fits\n"
          ]
        },
        {
          "name": "stderr",
          "output_type": "stream",
          "text": [
            "C:\\Users\\saiak\\.conda\\envs\\ift6758-conda-env\\lib\\site-packages\\xgboost\\training.py:17: UserWarning: Old style callback is deprecated.  See: https://xgboost.readthedocs.io/en/latest/python/callbacks.html\n",
            "  warnings.warn(f'Old style callback is deprecated.  See: {link}', UserWarning)\n"
          ]
        },
        {
          "name": "stdout",
          "output_type": "stream",
          "text": [
            "[CV 1/3] END gamma=3.2, learning_rate=0.01, max_depth=6, n_estimators=50, reg_alpha=0.8, reg_lambda=0.8;, score=(train=0.757, test=0.743) total time=   0.8s\n"
          ]
        },
        {
          "name": "stderr",
          "output_type": "stream",
          "text": [
            "C:\\Users\\saiak\\.conda\\envs\\ift6758-conda-env\\lib\\site-packages\\xgboost\\training.py:17: UserWarning: Old style callback is deprecated.  See: https://xgboost.readthedocs.io/en/latest/python/callbacks.html\n",
            "  warnings.warn(f'Old style callback is deprecated.  See: {link}', UserWarning)\n"
          ]
        },
        {
          "name": "stdout",
          "output_type": "stream",
          "text": [
            "[CV 2/3] END gamma=3.2, learning_rate=0.01, max_depth=6, n_estimators=50, reg_alpha=0.8, reg_lambda=0.8;, score=(train=0.753, test=0.746) total time=   0.7s\n"
          ]
        },
        {
          "name": "stderr",
          "output_type": "stream",
          "text": [
            "C:\\Users\\saiak\\.conda\\envs\\ift6758-conda-env\\lib\\site-packages\\xgboost\\training.py:17: UserWarning: Old style callback is deprecated.  See: https://xgboost.readthedocs.io/en/latest/python/callbacks.html\n",
            "  warnings.warn(f'Old style callback is deprecated.  See: {link}', UserWarning)\n"
          ]
        },
        {
          "name": "stdout",
          "output_type": "stream",
          "text": [
            "[CV 3/3] END gamma=3.2, learning_rate=0.01, max_depth=6, n_estimators=50, reg_alpha=0.8, reg_lambda=0.8;, score=(train=0.749, test=0.746) total time=   0.8s\n",
            "Fitting 3 folds for each of 1 candidates, totalling 3 fits\n"
          ]
        },
        {
          "name": "stderr",
          "output_type": "stream",
          "text": [
            "C:\\Users\\saiak\\.conda\\envs\\ift6758-conda-env\\lib\\site-packages\\xgboost\\training.py:17: UserWarning: Old style callback is deprecated.  See: https://xgboost.readthedocs.io/en/latest/python/callbacks.html\n",
            "  warnings.warn(f'Old style callback is deprecated.  See: {link}', UserWarning)\n"
          ]
        },
        {
          "name": "stdout",
          "output_type": "stream",
          "text": [
            "[CV 1/3] END gamma=0.1, learning_rate=0.4, max_depth=13, n_estimators=100, reg_alpha=1.6, reg_lambda=3.2;, score=(train=1.000, test=0.712) total time=  12.3s\n"
          ]
        },
        {
          "name": "stderr",
          "output_type": "stream",
          "text": [
            "C:\\Users\\saiak\\.conda\\envs\\ift6758-conda-env\\lib\\site-packages\\xgboost\\training.py:17: UserWarning: Old style callback is deprecated.  See: https://xgboost.readthedocs.io/en/latest/python/callbacks.html\n",
            "  warnings.warn(f'Old style callback is deprecated.  See: {link}', UserWarning)\n"
          ]
        },
        {
          "name": "stdout",
          "output_type": "stream",
          "text": [
            "[CV 2/3] END gamma=0.1, learning_rate=0.4, max_depth=13, n_estimators=100, reg_alpha=1.6, reg_lambda=3.2;, score=(train=1.000, test=0.714) total time=  12.1s\n"
          ]
        },
        {
          "name": "stderr",
          "output_type": "stream",
          "text": [
            "C:\\Users\\saiak\\.conda\\envs\\ift6758-conda-env\\lib\\site-packages\\xgboost\\training.py:17: UserWarning: Old style callback is deprecated.  See: https://xgboost.readthedocs.io/en/latest/python/callbacks.html\n",
            "  warnings.warn(f'Old style callback is deprecated.  See: {link}', UserWarning)\n"
          ]
        },
        {
          "name": "stdout",
          "output_type": "stream",
          "text": [
            "[CV 3/3] END gamma=0.1, learning_rate=0.4, max_depth=13, n_estimators=100, reg_alpha=1.6, reg_lambda=3.2;, score=(train=1.000, test=0.719) total time=  12.2s\n",
            "Fitting 3 folds for each of 1 candidates, totalling 3 fits\n"
          ]
        },
        {
          "name": "stderr",
          "output_type": "stream",
          "text": [
            "C:\\Users\\saiak\\.conda\\envs\\ift6758-conda-env\\lib\\site-packages\\xgboost\\training.py:17: UserWarning: Old style callback is deprecated.  See: https://xgboost.readthedocs.io/en/latest/python/callbacks.html\n",
            "  warnings.warn(f'Old style callback is deprecated.  See: {link}', UserWarning)\n"
          ]
        },
        {
          "name": "stdout",
          "output_type": "stream",
          "text": [
            "[CV 1/3] END gamma=1.6, learning_rate=0.15, max_depth=8, n_estimators=130, reg_alpha=12.8, reg_lambda=3.2;, score=(train=0.789, test=0.766) total time=   1.1s\n"
          ]
        },
        {
          "name": "stderr",
          "output_type": "stream",
          "text": [
            "C:\\Users\\saiak\\.conda\\envs\\ift6758-conda-env\\lib\\site-packages\\xgboost\\training.py:17: UserWarning: Old style callback is deprecated.  See: https://xgboost.readthedocs.io/en/latest/python/callbacks.html\n",
            "  warnings.warn(f'Old style callback is deprecated.  See: {link}', UserWarning)\n"
          ]
        },
        {
          "name": "stdout",
          "output_type": "stream",
          "text": [
            "[CV 2/3] END gamma=1.6, learning_rate=0.15, max_depth=8, n_estimators=130, reg_alpha=12.8, reg_lambda=3.2;, score=(train=0.790, test=0.763) total time=   1.2s\n"
          ]
        },
        {
          "name": "stderr",
          "output_type": "stream",
          "text": [
            "C:\\Users\\saiak\\.conda\\envs\\ift6758-conda-env\\lib\\site-packages\\xgboost\\training.py:17: UserWarning: Old style callback is deprecated.  See: https://xgboost.readthedocs.io/en/latest/python/callbacks.html\n",
            "  warnings.warn(f'Old style callback is deprecated.  See: {link}', UserWarning)\n"
          ]
        },
        {
          "name": "stdout",
          "output_type": "stream",
          "text": [
            "[CV 3/3] END gamma=1.6, learning_rate=0.15, max_depth=8, n_estimators=130, reg_alpha=12.8, reg_lambda=3.2;, score=(train=0.789, test=0.763) total time=   1.2s\n",
            "Fitting 3 folds for each of 1 candidates, totalling 3 fits\n"
          ]
        },
        {
          "name": "stderr",
          "output_type": "stream",
          "text": [
            "C:\\Users\\saiak\\.conda\\envs\\ift6758-conda-env\\lib\\site-packages\\xgboost\\training.py:17: UserWarning: Old style callback is deprecated.  See: https://xgboost.readthedocs.io/en/latest/python/callbacks.html\n",
            "  warnings.warn(f'Old style callback is deprecated.  See: {link}', UserWarning)\n"
          ]
        },
        {
          "name": "stdout",
          "output_type": "stream",
          "text": [
            "[CV 1/3] END gamma=0.2, learning_rate=0.2, max_depth=7, n_estimators=65, reg_alpha=0.1, reg_lambda=25.6;, score=(train=0.806, test=0.764) total time=   1.2s\n"
          ]
        },
        {
          "name": "stderr",
          "output_type": "stream",
          "text": [
            "C:\\Users\\saiak\\.conda\\envs\\ift6758-conda-env\\lib\\site-packages\\xgboost\\training.py:17: UserWarning: Old style callback is deprecated.  See: https://xgboost.readthedocs.io/en/latest/python/callbacks.html\n",
            "  warnings.warn(f'Old style callback is deprecated.  See: {link}', UserWarning)\n"
          ]
        },
        {
          "name": "stdout",
          "output_type": "stream",
          "text": [
            "[CV 2/3] END gamma=0.2, learning_rate=0.2, max_depth=7, n_estimators=65, reg_alpha=0.1, reg_lambda=25.6;, score=(train=0.808, test=0.765) total time=   1.2s\n"
          ]
        },
        {
          "name": "stderr",
          "output_type": "stream",
          "text": [
            "C:\\Users\\saiak\\.conda\\envs\\ift6758-conda-env\\lib\\site-packages\\xgboost\\training.py:17: UserWarning: Old style callback is deprecated.  See: https://xgboost.readthedocs.io/en/latest/python/callbacks.html\n",
            "  warnings.warn(f'Old style callback is deprecated.  See: {link}', UserWarning)\n"
          ]
        },
        {
          "name": "stdout",
          "output_type": "stream",
          "text": [
            "[CV 3/3] END gamma=0.2, learning_rate=0.2, max_depth=7, n_estimators=65, reg_alpha=0.1, reg_lambda=25.6;, score=(train=0.808, test=0.764) total time=   1.1s\n",
            "Fitting 3 folds for each of 1 candidates, totalling 3 fits\n"
          ]
        },
        {
          "name": "stderr",
          "output_type": "stream",
          "text": [
            "C:\\Users\\saiak\\.conda\\envs\\ift6758-conda-env\\lib\\site-packages\\xgboost\\training.py:17: UserWarning: Old style callback is deprecated.  See: https://xgboost.readthedocs.io/en/latest/python/callbacks.html\n",
            "  warnings.warn(f'Old style callback is deprecated.  See: {link}', UserWarning)\n"
          ]
        },
        {
          "name": "stdout",
          "output_type": "stream",
          "text": [
            "[CV 1/3] END gamma=0.8, learning_rate=0.03, max_depth=10, n_estimators=65, reg_alpha=0.1, reg_lambda=0.8;, score=(train=0.817, test=0.758) total time=   4.3s\n"
          ]
        },
        {
          "name": "stderr",
          "output_type": "stream",
          "text": [
            "C:\\Users\\saiak\\.conda\\envs\\ift6758-conda-env\\lib\\site-packages\\xgboost\\training.py:17: UserWarning: Old style callback is deprecated.  See: https://xgboost.readthedocs.io/en/latest/python/callbacks.html\n",
            "  warnings.warn(f'Old style callback is deprecated.  See: {link}', UserWarning)\n"
          ]
        },
        {
          "name": "stdout",
          "output_type": "stream",
          "text": [
            "[CV 2/3] END gamma=0.8, learning_rate=0.03, max_depth=10, n_estimators=65, reg_alpha=0.1, reg_lambda=0.8;, score=(train=0.818, test=0.757) total time=   4.5s\n"
          ]
        },
        {
          "name": "stderr",
          "output_type": "stream",
          "text": [
            "C:\\Users\\saiak\\.conda\\envs\\ift6758-conda-env\\lib\\site-packages\\xgboost\\training.py:17: UserWarning: Old style callback is deprecated.  See: https://xgboost.readthedocs.io/en/latest/python/callbacks.html\n",
            "  warnings.warn(f'Old style callback is deprecated.  See: {link}', UserWarning)\n"
          ]
        },
        {
          "name": "stdout",
          "output_type": "stream",
          "text": [
            "[CV 3/3] END gamma=0.8, learning_rate=0.03, max_depth=10, n_estimators=65, reg_alpha=0.1, reg_lambda=0.8;, score=(train=0.817, test=0.759) total time=   5.0s\n",
            "Fitting 3 folds for each of 1 candidates, totalling 3 fits\n"
          ]
        },
        {
          "name": "stderr",
          "output_type": "stream",
          "text": [
            "C:\\Users\\saiak\\.conda\\envs\\ift6758-conda-env\\lib\\site-packages\\xgboost\\training.py:17: UserWarning: Old style callback is deprecated.  See: https://xgboost.readthedocs.io/en/latest/python/callbacks.html\n",
            "  warnings.warn(f'Old style callback is deprecated.  See: {link}', UserWarning)\n"
          ]
        },
        {
          "name": "stdout",
          "output_type": "stream",
          "text": [
            "[CV 1/3] END gamma=1.6, learning_rate=0.15, max_depth=9, n_estimators=65, reg_alpha=102.4, reg_lambda=6.4;, score=(train=0.761, test=0.758) total time=   0.9s\n"
          ]
        },
        {
          "name": "stderr",
          "output_type": "stream",
          "text": [
            "C:\\Users\\saiak\\.conda\\envs\\ift6758-conda-env\\lib\\site-packages\\xgboost\\training.py:17: UserWarning: Old style callback is deprecated.  See: https://xgboost.readthedocs.io/en/latest/python/callbacks.html\n",
            "  warnings.warn(f'Old style callback is deprecated.  See: {link}', UserWarning)\n"
          ]
        },
        {
          "name": "stdout",
          "output_type": "stream",
          "text": [
            "[CV 2/3] END gamma=1.6, learning_rate=0.15, max_depth=9, n_estimators=65, reg_alpha=102.4, reg_lambda=6.4;, score=(train=0.763, test=0.758) total time=   0.7s\n"
          ]
        },
        {
          "name": "stderr",
          "output_type": "stream",
          "text": [
            "C:\\Users\\saiak\\.conda\\envs\\ift6758-conda-env\\lib\\site-packages\\xgboost\\training.py:17: UserWarning: Old style callback is deprecated.  See: https://xgboost.readthedocs.io/en/latest/python/callbacks.html\n",
            "  warnings.warn(f'Old style callback is deprecated.  See: {link}', UserWarning)\n"
          ]
        },
        {
          "name": "stdout",
          "output_type": "stream",
          "text": [
            "[CV 3/3] END gamma=1.6, learning_rate=0.15, max_depth=9, n_estimators=65, reg_alpha=102.4, reg_lambda=6.4;, score=(train=0.766, test=0.750) total time=   0.6s\n",
            "Fitting 3 folds for each of 1 candidates, totalling 3 fits\n"
          ]
        },
        {
          "name": "stderr",
          "output_type": "stream",
          "text": [
            "C:\\Users\\saiak\\.conda\\envs\\ift6758-conda-env\\lib\\site-packages\\xgboost\\training.py:17: UserWarning: Old style callback is deprecated.  See: https://xgboost.readthedocs.io/en/latest/python/callbacks.html\n",
            "  warnings.warn(f'Old style callback is deprecated.  See: {link}', UserWarning)\n"
          ]
        },
        {
          "ename": "KeyboardInterrupt",
          "evalue": "",
          "output_type": "error",
          "traceback": [
            "\u001b[1;31m---------------------------------------------------------------------------\u001b[0m",
            "\u001b[1;31mKeyboardInterrupt\u001b[0m                         Traceback (most recent call last)",
            "\u001b[1;32m~\\AppData\\Local\\Temp/ipykernel_15248/3456622813.py\u001b[0m in \u001b[0;36m<module>\u001b[1;34m\u001b[0m\n\u001b[0;32m     30\u001b[0m                             \u001b[0mshuffle\u001b[0m\u001b[1;33m=\u001b[0m\u001b[1;32mTrue\u001b[0m\u001b[1;33m\u001b[0m\u001b[1;33m\u001b[0m\u001b[0m\n\u001b[0;32m     31\u001b[0m                         ))\n\u001b[1;32m---> 32\u001b[1;33m \u001b[0mclf\u001b[0m\u001b[1;33m.\u001b[0m\u001b[0mfit\u001b[0m\u001b[1;33m(\u001b[0m\u001b[0mXtrain\u001b[0m\u001b[1;33m,\u001b[0m \u001b[0mYtrain\u001b[0m\u001b[1;33m.\u001b[0m\u001b[0mvalues\u001b[0m\u001b[1;33m.\u001b[0m\u001b[0mravel\u001b[0m\u001b[1;33m(\u001b[0m\u001b[1;33m)\u001b[0m\u001b[1;33m)\u001b[0m\u001b[1;33m\u001b[0m\u001b[1;33m\u001b[0m\u001b[0m\n\u001b[0m\u001b[0;32m     33\u001b[0m \u001b[1;33m\u001b[0m\u001b[0m\n\u001b[0;32m     34\u001b[0m \u001b[1;31m#results dataframe\u001b[0m\u001b[1;33m\u001b[0m\u001b[1;33m\u001b[0m\u001b[0m\n",
            "\u001b[1;32m~\\.conda\\envs\\ift6758-conda-env\\lib\\site-packages\\skopt\\searchcv.py\u001b[0m in \u001b[0;36mfit\u001b[1;34m(self, X, y, groups, callback, **fit_params)\u001b[0m\n\u001b[0;32m    464\u001b[0m             \u001b[0mself\u001b[0m\u001b[1;33m.\u001b[0m\u001b[0moptimizer_kwargs_\u001b[0m \u001b[1;33m=\u001b[0m \u001b[0mdict\u001b[0m\u001b[1;33m(\u001b[0m\u001b[0mself\u001b[0m\u001b[1;33m.\u001b[0m\u001b[0moptimizer_kwargs\u001b[0m\u001b[1;33m)\u001b[0m\u001b[1;33m\u001b[0m\u001b[1;33m\u001b[0m\u001b[0m\n\u001b[0;32m    465\u001b[0m \u001b[1;33m\u001b[0m\u001b[0m\n\u001b[1;32m--> 466\u001b[1;33m         \u001b[0msuper\u001b[0m\u001b[1;33m(\u001b[0m\u001b[1;33m)\u001b[0m\u001b[1;33m.\u001b[0m\u001b[0mfit\u001b[0m\u001b[1;33m(\u001b[0m\u001b[0mX\u001b[0m\u001b[1;33m=\u001b[0m\u001b[0mX\u001b[0m\u001b[1;33m,\u001b[0m \u001b[0my\u001b[0m\u001b[1;33m=\u001b[0m\u001b[0my\u001b[0m\u001b[1;33m,\u001b[0m \u001b[0mgroups\u001b[0m\u001b[1;33m=\u001b[0m\u001b[0mgroups\u001b[0m\u001b[1;33m,\u001b[0m \u001b[1;33m**\u001b[0m\u001b[0mfit_params\u001b[0m\u001b[1;33m)\u001b[0m\u001b[1;33m\u001b[0m\u001b[1;33m\u001b[0m\u001b[0m\n\u001b[0m\u001b[0;32m    467\u001b[0m \u001b[1;33m\u001b[0m\u001b[0m\n\u001b[0;32m    468\u001b[0m         \u001b[1;31m# BaseSearchCV never ranked train scores,\u001b[0m\u001b[1;33m\u001b[0m\u001b[1;33m\u001b[0m\u001b[0m\n",
            "\u001b[1;32m~\\.conda\\envs\\ift6758-conda-env\\lib\\site-packages\\sklearn\\model_selection\\_search.py\u001b[0m in \u001b[0;36mfit\u001b[1;34m(self, X, y, groups, **fit_params)\u001b[0m\n\u001b[0;32m    889\u001b[0m                 \u001b[1;32mreturn\u001b[0m \u001b[0mresults\u001b[0m\u001b[1;33m\u001b[0m\u001b[1;33m\u001b[0m\u001b[0m\n\u001b[0;32m    890\u001b[0m \u001b[1;33m\u001b[0m\u001b[0m\n\u001b[1;32m--> 891\u001b[1;33m             \u001b[0mself\u001b[0m\u001b[1;33m.\u001b[0m\u001b[0m_run_search\u001b[0m\u001b[1;33m(\u001b[0m\u001b[0mevaluate_candidates\u001b[0m\u001b[1;33m)\u001b[0m\u001b[1;33m\u001b[0m\u001b[1;33m\u001b[0m\u001b[0m\n\u001b[0m\u001b[0;32m    892\u001b[0m \u001b[1;33m\u001b[0m\u001b[0m\n\u001b[0;32m    893\u001b[0m             \u001b[1;31m# multimetric is determined here because in the case of a callable\u001b[0m\u001b[1;33m\u001b[0m\u001b[1;33m\u001b[0m\u001b[0m\n",
            "\u001b[1;32m~\\.conda\\envs\\ift6758-conda-env\\lib\\site-packages\\skopt\\searchcv.py\u001b[0m in \u001b[0;36m_run_search\u001b[1;34m(self, evaluate_candidates)\u001b[0m\n\u001b[0;32m    510\u001b[0m                 \u001b[0mn_points_adjusted\u001b[0m \u001b[1;33m=\u001b[0m \u001b[0mmin\u001b[0m\u001b[1;33m(\u001b[0m\u001b[0mn_iter\u001b[0m\u001b[1;33m,\u001b[0m \u001b[0mn_points\u001b[0m\u001b[1;33m)\u001b[0m\u001b[1;33m\u001b[0m\u001b[1;33m\u001b[0m\u001b[0m\n\u001b[0;32m    511\u001b[0m \u001b[1;33m\u001b[0m\u001b[0m\n\u001b[1;32m--> 512\u001b[1;33m                 optim_result = self._step(\n\u001b[0m\u001b[0;32m    513\u001b[0m                     \u001b[0msearch_space\u001b[0m\u001b[1;33m,\u001b[0m \u001b[0moptimizer\u001b[0m\u001b[1;33m,\u001b[0m\u001b[1;33m\u001b[0m\u001b[1;33m\u001b[0m\u001b[0m\n\u001b[0;32m    514\u001b[0m                     \u001b[0mevaluate_candidates\u001b[0m\u001b[1;33m,\u001b[0m \u001b[0mn_points\u001b[0m\u001b[1;33m=\u001b[0m\u001b[0mn_points_adjusted\u001b[0m\u001b[1;33m\u001b[0m\u001b[1;33m\u001b[0m\u001b[0m\n",
            "\u001b[1;32m~\\.conda\\envs\\ift6758-conda-env\\lib\\site-packages\\skopt\\searchcv.py\u001b[0m in \u001b[0;36m_step\u001b[1;34m(self, search_space, optimizer, evaluate_candidates, n_points)\u001b[0m\n\u001b[0;32m    406\u001b[0m         \u001b[0mparams_dict\u001b[0m \u001b[1;33m=\u001b[0m \u001b[1;33m[\u001b[0m\u001b[0mpoint_asdict\u001b[0m\u001b[1;33m(\u001b[0m\u001b[0msearch_space\u001b[0m\u001b[1;33m,\u001b[0m \u001b[0mp\u001b[0m\u001b[1;33m)\u001b[0m \u001b[1;32mfor\u001b[0m \u001b[0mp\u001b[0m \u001b[1;32min\u001b[0m \u001b[0mparams\u001b[0m\u001b[1;33m]\u001b[0m\u001b[1;33m\u001b[0m\u001b[1;33m\u001b[0m\u001b[0m\n\u001b[0;32m    407\u001b[0m \u001b[1;33m\u001b[0m\u001b[0m\n\u001b[1;32m--> 408\u001b[1;33m         \u001b[0mall_results\u001b[0m \u001b[1;33m=\u001b[0m \u001b[0mevaluate_candidates\u001b[0m\u001b[1;33m(\u001b[0m\u001b[0mparams_dict\u001b[0m\u001b[1;33m)\u001b[0m\u001b[1;33m\u001b[0m\u001b[1;33m\u001b[0m\u001b[0m\n\u001b[0m\u001b[0;32m    409\u001b[0m         \u001b[1;31m# Feed the point and objective value back into optimizer\u001b[0m\u001b[1;33m\u001b[0m\u001b[1;33m\u001b[0m\u001b[0m\n\u001b[0;32m    410\u001b[0m         \u001b[1;31m# Optimizer minimizes objective, hence provide negative score\u001b[0m\u001b[1;33m\u001b[0m\u001b[1;33m\u001b[0m\u001b[0m\n",
            "\u001b[1;32m~\\.conda\\envs\\ift6758-conda-env\\lib\\site-packages\\sklearn\\model_selection\\_search.py\u001b[0m in \u001b[0;36mevaluate_candidates\u001b[1;34m(candidate_params, cv, more_results)\u001b[0m\n\u001b[0;32m    836\u001b[0m                     )\n\u001b[0;32m    837\u001b[0m \u001b[1;33m\u001b[0m\u001b[0m\n\u001b[1;32m--> 838\u001b[1;33m                 out = parallel(\n\u001b[0m\u001b[0;32m    839\u001b[0m                     delayed(_fit_and_score)(\n\u001b[0;32m    840\u001b[0m                         \u001b[0mclone\u001b[0m\u001b[1;33m(\u001b[0m\u001b[0mbase_estimator\u001b[0m\u001b[1;33m)\u001b[0m\u001b[1;33m,\u001b[0m\u001b[1;33m\u001b[0m\u001b[1;33m\u001b[0m\u001b[0m\n",
            "\u001b[1;32m~\\.conda\\envs\\ift6758-conda-env\\lib\\site-packages\\joblib\\parallel.py\u001b[0m in \u001b[0;36m__call__\u001b[1;34m(self, iterable)\u001b[0m\n\u001b[0;32m   1041\u001b[0m             \u001b[1;31m# remaining jobs.\u001b[0m\u001b[1;33m\u001b[0m\u001b[1;33m\u001b[0m\u001b[0m\n\u001b[0;32m   1042\u001b[0m             \u001b[0mself\u001b[0m\u001b[1;33m.\u001b[0m\u001b[0m_iterating\u001b[0m \u001b[1;33m=\u001b[0m \u001b[1;32mFalse\u001b[0m\u001b[1;33m\u001b[0m\u001b[1;33m\u001b[0m\u001b[0m\n\u001b[1;32m-> 1043\u001b[1;33m             \u001b[1;32mif\u001b[0m \u001b[0mself\u001b[0m\u001b[1;33m.\u001b[0m\u001b[0mdispatch_one_batch\u001b[0m\u001b[1;33m(\u001b[0m\u001b[0miterator\u001b[0m\u001b[1;33m)\u001b[0m\u001b[1;33m:\u001b[0m\u001b[1;33m\u001b[0m\u001b[1;33m\u001b[0m\u001b[0m\n\u001b[0m\u001b[0;32m   1044\u001b[0m                 \u001b[0mself\u001b[0m\u001b[1;33m.\u001b[0m\u001b[0m_iterating\u001b[0m \u001b[1;33m=\u001b[0m \u001b[0mself\u001b[0m\u001b[1;33m.\u001b[0m\u001b[0m_original_iterator\u001b[0m \u001b[1;32mis\u001b[0m \u001b[1;32mnot\u001b[0m \u001b[1;32mNone\u001b[0m\u001b[1;33m\u001b[0m\u001b[1;33m\u001b[0m\u001b[0m\n\u001b[0;32m   1045\u001b[0m \u001b[1;33m\u001b[0m\u001b[0m\n",
            "\u001b[1;32m~\\.conda\\envs\\ift6758-conda-env\\lib\\site-packages\\joblib\\parallel.py\u001b[0m in \u001b[0;36mdispatch_one_batch\u001b[1;34m(self, iterator)\u001b[0m\n\u001b[0;32m    859\u001b[0m                 \u001b[1;32mreturn\u001b[0m \u001b[1;32mFalse\u001b[0m\u001b[1;33m\u001b[0m\u001b[1;33m\u001b[0m\u001b[0m\n\u001b[0;32m    860\u001b[0m             \u001b[1;32melse\u001b[0m\u001b[1;33m:\u001b[0m\u001b[1;33m\u001b[0m\u001b[1;33m\u001b[0m\u001b[0m\n\u001b[1;32m--> 861\u001b[1;33m                 \u001b[0mself\u001b[0m\u001b[1;33m.\u001b[0m\u001b[0m_dispatch\u001b[0m\u001b[1;33m(\u001b[0m\u001b[0mtasks\u001b[0m\u001b[1;33m)\u001b[0m\u001b[1;33m\u001b[0m\u001b[1;33m\u001b[0m\u001b[0m\n\u001b[0m\u001b[0;32m    862\u001b[0m                 \u001b[1;32mreturn\u001b[0m \u001b[1;32mTrue\u001b[0m\u001b[1;33m\u001b[0m\u001b[1;33m\u001b[0m\u001b[0m\n\u001b[0;32m    863\u001b[0m \u001b[1;33m\u001b[0m\u001b[0m\n",
            "\u001b[1;32m~\\.conda\\envs\\ift6758-conda-env\\lib\\site-packages\\joblib\\parallel.py\u001b[0m in \u001b[0;36m_dispatch\u001b[1;34m(self, batch)\u001b[0m\n\u001b[0;32m    777\u001b[0m         \u001b[1;32mwith\u001b[0m \u001b[0mself\u001b[0m\u001b[1;33m.\u001b[0m\u001b[0m_lock\u001b[0m\u001b[1;33m:\u001b[0m\u001b[1;33m\u001b[0m\u001b[1;33m\u001b[0m\u001b[0m\n\u001b[0;32m    778\u001b[0m             \u001b[0mjob_idx\u001b[0m \u001b[1;33m=\u001b[0m \u001b[0mlen\u001b[0m\u001b[1;33m(\u001b[0m\u001b[0mself\u001b[0m\u001b[1;33m.\u001b[0m\u001b[0m_jobs\u001b[0m\u001b[1;33m)\u001b[0m\u001b[1;33m\u001b[0m\u001b[1;33m\u001b[0m\u001b[0m\n\u001b[1;32m--> 779\u001b[1;33m             \u001b[0mjob\u001b[0m \u001b[1;33m=\u001b[0m \u001b[0mself\u001b[0m\u001b[1;33m.\u001b[0m\u001b[0m_backend\u001b[0m\u001b[1;33m.\u001b[0m\u001b[0mapply_async\u001b[0m\u001b[1;33m(\u001b[0m\u001b[0mbatch\u001b[0m\u001b[1;33m,\u001b[0m \u001b[0mcallback\u001b[0m\u001b[1;33m=\u001b[0m\u001b[0mcb\u001b[0m\u001b[1;33m)\u001b[0m\u001b[1;33m\u001b[0m\u001b[1;33m\u001b[0m\u001b[0m\n\u001b[0m\u001b[0;32m    780\u001b[0m             \u001b[1;31m# A job can complete so quickly than its callback is\u001b[0m\u001b[1;33m\u001b[0m\u001b[1;33m\u001b[0m\u001b[0m\n\u001b[0;32m    781\u001b[0m             \u001b[1;31m# called before we get here, causing self._jobs to\u001b[0m\u001b[1;33m\u001b[0m\u001b[1;33m\u001b[0m\u001b[0m\n",
            "\u001b[1;32m~\\.conda\\envs\\ift6758-conda-env\\lib\\site-packages\\joblib\\_parallel_backends.py\u001b[0m in \u001b[0;36mapply_async\u001b[1;34m(self, func, callback)\u001b[0m\n\u001b[0;32m    206\u001b[0m     \u001b[1;32mdef\u001b[0m \u001b[0mapply_async\u001b[0m\u001b[1;33m(\u001b[0m\u001b[0mself\u001b[0m\u001b[1;33m,\u001b[0m \u001b[0mfunc\u001b[0m\u001b[1;33m,\u001b[0m \u001b[0mcallback\u001b[0m\u001b[1;33m=\u001b[0m\u001b[1;32mNone\u001b[0m\u001b[1;33m)\u001b[0m\u001b[1;33m:\u001b[0m\u001b[1;33m\u001b[0m\u001b[1;33m\u001b[0m\u001b[0m\n\u001b[0;32m    207\u001b[0m         \u001b[1;34m\"\"\"Schedule a func to be run\"\"\"\u001b[0m\u001b[1;33m\u001b[0m\u001b[1;33m\u001b[0m\u001b[0m\n\u001b[1;32m--> 208\u001b[1;33m         \u001b[0mresult\u001b[0m \u001b[1;33m=\u001b[0m \u001b[0mImmediateResult\u001b[0m\u001b[1;33m(\u001b[0m\u001b[0mfunc\u001b[0m\u001b[1;33m)\u001b[0m\u001b[1;33m\u001b[0m\u001b[1;33m\u001b[0m\u001b[0m\n\u001b[0m\u001b[0;32m    209\u001b[0m         \u001b[1;32mif\u001b[0m \u001b[0mcallback\u001b[0m\u001b[1;33m:\u001b[0m\u001b[1;33m\u001b[0m\u001b[1;33m\u001b[0m\u001b[0m\n\u001b[0;32m    210\u001b[0m             \u001b[0mcallback\u001b[0m\u001b[1;33m(\u001b[0m\u001b[0mresult\u001b[0m\u001b[1;33m)\u001b[0m\u001b[1;33m\u001b[0m\u001b[1;33m\u001b[0m\u001b[0m\n",
            "\u001b[1;32m~\\.conda\\envs\\ift6758-conda-env\\lib\\site-packages\\joblib\\_parallel_backends.py\u001b[0m in \u001b[0;36m__init__\u001b[1;34m(self, batch)\u001b[0m\n\u001b[0;32m    570\u001b[0m         \u001b[1;31m# Don't delay the application, to avoid keeping the input\u001b[0m\u001b[1;33m\u001b[0m\u001b[1;33m\u001b[0m\u001b[0m\n\u001b[0;32m    571\u001b[0m         \u001b[1;31m# arguments in memory\u001b[0m\u001b[1;33m\u001b[0m\u001b[1;33m\u001b[0m\u001b[0m\n\u001b[1;32m--> 572\u001b[1;33m         \u001b[0mself\u001b[0m\u001b[1;33m.\u001b[0m\u001b[0mresults\u001b[0m \u001b[1;33m=\u001b[0m \u001b[0mbatch\u001b[0m\u001b[1;33m(\u001b[0m\u001b[1;33m)\u001b[0m\u001b[1;33m\u001b[0m\u001b[1;33m\u001b[0m\u001b[0m\n\u001b[0m\u001b[0;32m    573\u001b[0m \u001b[1;33m\u001b[0m\u001b[0m\n\u001b[0;32m    574\u001b[0m     \u001b[1;32mdef\u001b[0m \u001b[0mget\u001b[0m\u001b[1;33m(\u001b[0m\u001b[0mself\u001b[0m\u001b[1;33m)\u001b[0m\u001b[1;33m:\u001b[0m\u001b[1;33m\u001b[0m\u001b[1;33m\u001b[0m\u001b[0m\n",
            "\u001b[1;32m~\\.conda\\envs\\ift6758-conda-env\\lib\\site-packages\\joblib\\parallel.py\u001b[0m in \u001b[0;36m__call__\u001b[1;34m(self)\u001b[0m\n\u001b[0;32m    260\u001b[0m         \u001b[1;31m# change the default number of processes to -1\u001b[0m\u001b[1;33m\u001b[0m\u001b[1;33m\u001b[0m\u001b[0m\n\u001b[0;32m    261\u001b[0m         \u001b[1;32mwith\u001b[0m \u001b[0mparallel_backend\u001b[0m\u001b[1;33m(\u001b[0m\u001b[0mself\u001b[0m\u001b[1;33m.\u001b[0m\u001b[0m_backend\u001b[0m\u001b[1;33m,\u001b[0m \u001b[0mn_jobs\u001b[0m\u001b[1;33m=\u001b[0m\u001b[0mself\u001b[0m\u001b[1;33m.\u001b[0m\u001b[0m_n_jobs\u001b[0m\u001b[1;33m)\u001b[0m\u001b[1;33m:\u001b[0m\u001b[1;33m\u001b[0m\u001b[1;33m\u001b[0m\u001b[0m\n\u001b[1;32m--> 262\u001b[1;33m             return [func(*args, **kwargs)\n\u001b[0m\u001b[0;32m    263\u001b[0m                     for func, args, kwargs in self.items]\n\u001b[0;32m    264\u001b[0m \u001b[1;33m\u001b[0m\u001b[0m\n",
            "\u001b[1;32m~\\.conda\\envs\\ift6758-conda-env\\lib\\site-packages\\joblib\\parallel.py\u001b[0m in \u001b[0;36m<listcomp>\u001b[1;34m(.0)\u001b[0m\n\u001b[0;32m    260\u001b[0m         \u001b[1;31m# change the default number of processes to -1\u001b[0m\u001b[1;33m\u001b[0m\u001b[1;33m\u001b[0m\u001b[0m\n\u001b[0;32m    261\u001b[0m         \u001b[1;32mwith\u001b[0m \u001b[0mparallel_backend\u001b[0m\u001b[1;33m(\u001b[0m\u001b[0mself\u001b[0m\u001b[1;33m.\u001b[0m\u001b[0m_backend\u001b[0m\u001b[1;33m,\u001b[0m \u001b[0mn_jobs\u001b[0m\u001b[1;33m=\u001b[0m\u001b[0mself\u001b[0m\u001b[1;33m.\u001b[0m\u001b[0m_n_jobs\u001b[0m\u001b[1;33m)\u001b[0m\u001b[1;33m:\u001b[0m\u001b[1;33m\u001b[0m\u001b[1;33m\u001b[0m\u001b[0m\n\u001b[1;32m--> 262\u001b[1;33m             return [func(*args, **kwargs)\n\u001b[0m\u001b[0;32m    263\u001b[0m                     for func, args, kwargs in self.items]\n\u001b[0;32m    264\u001b[0m \u001b[1;33m\u001b[0m\u001b[0m\n",
            "\u001b[1;32m~\\.conda\\envs\\ift6758-conda-env\\lib\\site-packages\\sklearn\\utils\\fixes.py\u001b[0m in \u001b[0;36m__call__\u001b[1;34m(self, *args, **kwargs)\u001b[0m\n\u001b[0;32m    209\u001b[0m     \u001b[1;32mdef\u001b[0m \u001b[0m__call__\u001b[0m\u001b[1;33m(\u001b[0m\u001b[0mself\u001b[0m\u001b[1;33m,\u001b[0m \u001b[1;33m*\u001b[0m\u001b[0margs\u001b[0m\u001b[1;33m,\u001b[0m \u001b[1;33m**\u001b[0m\u001b[0mkwargs\u001b[0m\u001b[1;33m)\u001b[0m\u001b[1;33m:\u001b[0m\u001b[1;33m\u001b[0m\u001b[1;33m\u001b[0m\u001b[0m\n\u001b[0;32m    210\u001b[0m         \u001b[1;32mwith\u001b[0m \u001b[0mconfig_context\u001b[0m\u001b[1;33m(\u001b[0m\u001b[1;33m**\u001b[0m\u001b[0mself\u001b[0m\u001b[1;33m.\u001b[0m\u001b[0mconfig\u001b[0m\u001b[1;33m)\u001b[0m\u001b[1;33m:\u001b[0m\u001b[1;33m\u001b[0m\u001b[1;33m\u001b[0m\u001b[0m\n\u001b[1;32m--> 211\u001b[1;33m             \u001b[1;32mreturn\u001b[0m \u001b[0mself\u001b[0m\u001b[1;33m.\u001b[0m\u001b[0mfunction\u001b[0m\u001b[1;33m(\u001b[0m\u001b[1;33m*\u001b[0m\u001b[0margs\u001b[0m\u001b[1;33m,\u001b[0m \u001b[1;33m**\u001b[0m\u001b[0mkwargs\u001b[0m\u001b[1;33m)\u001b[0m\u001b[1;33m\u001b[0m\u001b[1;33m\u001b[0m\u001b[0m\n\u001b[0m\u001b[0;32m    212\u001b[0m \u001b[1;33m\u001b[0m\u001b[0m\n\u001b[0;32m    213\u001b[0m \u001b[1;33m\u001b[0m\u001b[0m\n",
            "\u001b[1;32m~\\.conda\\envs\\ift6758-conda-env\\lib\\site-packages\\sklearn\\model_selection\\_validation.py\u001b[0m in \u001b[0;36m_fit_and_score\u001b[1;34m(estimator, X, y, scorer, train, test, verbose, parameters, fit_params, return_train_score, return_parameters, return_n_test_samples, return_times, return_estimator, split_progress, candidate_progress, error_score)\u001b[0m\n\u001b[0;32m    679\u001b[0m             \u001b[0mestimator\u001b[0m\u001b[1;33m.\u001b[0m\u001b[0mfit\u001b[0m\u001b[1;33m(\u001b[0m\u001b[0mX_train\u001b[0m\u001b[1;33m,\u001b[0m \u001b[1;33m**\u001b[0m\u001b[0mfit_params\u001b[0m\u001b[1;33m)\u001b[0m\u001b[1;33m\u001b[0m\u001b[1;33m\u001b[0m\u001b[0m\n\u001b[0;32m    680\u001b[0m         \u001b[1;32melse\u001b[0m\u001b[1;33m:\u001b[0m\u001b[1;33m\u001b[0m\u001b[1;33m\u001b[0m\u001b[0m\n\u001b[1;32m--> 681\u001b[1;33m             \u001b[0mestimator\u001b[0m\u001b[1;33m.\u001b[0m\u001b[0mfit\u001b[0m\u001b[1;33m(\u001b[0m\u001b[0mX_train\u001b[0m\u001b[1;33m,\u001b[0m \u001b[0my_train\u001b[0m\u001b[1;33m,\u001b[0m \u001b[1;33m**\u001b[0m\u001b[0mfit_params\u001b[0m\u001b[1;33m)\u001b[0m\u001b[1;33m\u001b[0m\u001b[1;33m\u001b[0m\u001b[0m\n\u001b[0m\u001b[0;32m    682\u001b[0m \u001b[1;33m\u001b[0m\u001b[0m\n\u001b[0;32m    683\u001b[0m     \u001b[1;32mexcept\u001b[0m \u001b[0mException\u001b[0m\u001b[1;33m:\u001b[0m\u001b[1;33m\u001b[0m\u001b[1;33m\u001b[0m\u001b[0m\n",
            "\u001b[1;32m~\\.conda\\envs\\ift6758-conda-env\\lib\\site-packages\\xgboost\\core.py\u001b[0m in \u001b[0;36minner_f\u001b[1;34m(*args, **kwargs)\u001b[0m\n\u001b[0;32m    504\u001b[0m         \u001b[1;32mfor\u001b[0m \u001b[0mk\u001b[0m\u001b[1;33m,\u001b[0m \u001b[0marg\u001b[0m \u001b[1;32min\u001b[0m \u001b[0mzip\u001b[0m\u001b[1;33m(\u001b[0m\u001b[0msig\u001b[0m\u001b[1;33m.\u001b[0m\u001b[0mparameters\u001b[0m\u001b[1;33m,\u001b[0m \u001b[0margs\u001b[0m\u001b[1;33m)\u001b[0m\u001b[1;33m:\u001b[0m\u001b[1;33m\u001b[0m\u001b[1;33m\u001b[0m\u001b[0m\n\u001b[0;32m    505\u001b[0m             \u001b[0mkwargs\u001b[0m\u001b[1;33m[\u001b[0m\u001b[0mk\u001b[0m\u001b[1;33m]\u001b[0m \u001b[1;33m=\u001b[0m \u001b[0marg\u001b[0m\u001b[1;33m\u001b[0m\u001b[1;33m\u001b[0m\u001b[0m\n\u001b[1;32m--> 506\u001b[1;33m         \u001b[1;32mreturn\u001b[0m \u001b[0mf\u001b[0m\u001b[1;33m(\u001b[0m\u001b[1;33m**\u001b[0m\u001b[0mkwargs\u001b[0m\u001b[1;33m)\u001b[0m\u001b[1;33m\u001b[0m\u001b[1;33m\u001b[0m\u001b[0m\n\u001b[0m\u001b[0;32m    507\u001b[0m \u001b[1;33m\u001b[0m\u001b[0m\n\u001b[0;32m    508\u001b[0m     \u001b[1;32mreturn\u001b[0m \u001b[0minner_f\u001b[0m\u001b[1;33m\u001b[0m\u001b[1;33m\u001b[0m\u001b[0m\n",
            "\u001b[1;32m~\\.conda\\envs\\ift6758-conda-env\\lib\\site-packages\\xgboost\\sklearn.py\u001b[0m in \u001b[0;36mfit\u001b[1;34m(self, X, y, sample_weight, base_margin, eval_set, eval_metric, early_stopping_rounds, verbose, xgb_model, sample_weight_eval_set, base_margin_eval_set, feature_weights, callbacks)\u001b[0m\n\u001b[0;32m   1248\u001b[0m         )\n\u001b[0;32m   1249\u001b[0m \u001b[1;33m\u001b[0m\u001b[0m\n\u001b[1;32m-> 1250\u001b[1;33m         self._Booster = train(\n\u001b[0m\u001b[0;32m   1251\u001b[0m             \u001b[0mparams\u001b[0m\u001b[1;33m,\u001b[0m\u001b[1;33m\u001b[0m\u001b[1;33m\u001b[0m\u001b[0m\n\u001b[0;32m   1252\u001b[0m             \u001b[0mtrain_dmatrix\u001b[0m\u001b[1;33m,\u001b[0m\u001b[1;33m\u001b[0m\u001b[1;33m\u001b[0m\u001b[0m\n",
            "\u001b[1;32m~\\.conda\\envs\\ift6758-conda-env\\lib\\site-packages\\comet_ml\\monkey_patching.py\u001b[0m in \u001b[0;36mwrapper\u001b[1;34m(*args, **kwargs)\u001b[0m\n\u001b[0;32m    310\u001b[0m                     )\n\u001b[0;32m    311\u001b[0m \u001b[1;33m\u001b[0m\u001b[0m\n\u001b[1;32m--> 312\u001b[1;33m         \u001b[0mreturn_value\u001b[0m \u001b[1;33m=\u001b[0m \u001b[0moriginal\u001b[0m\u001b[1;33m(\u001b[0m\u001b[1;33m*\u001b[0m\u001b[0margs\u001b[0m\u001b[1;33m,\u001b[0m \u001b[1;33m**\u001b[0m\u001b[0mkwargs\u001b[0m\u001b[1;33m)\u001b[0m\u001b[1;33m\u001b[0m\u001b[1;33m\u001b[0m\u001b[0m\n\u001b[0m\u001b[0;32m    313\u001b[0m \u001b[1;33m\u001b[0m\u001b[0m\n\u001b[0;32m    314\u001b[0m         \u001b[1;31m# Call after callbacks once we have the return value\u001b[0m\u001b[1;33m\u001b[0m\u001b[1;33m\u001b[0m\u001b[0m\n",
            "\u001b[1;32m~\\.conda\\envs\\ift6758-conda-env\\lib\\site-packages\\xgboost\\training.py\u001b[0m in \u001b[0;36mtrain\u001b[1;34m(params, dtrain, num_boost_round, evals, obj, feval, maximize, early_stopping_rounds, evals_result, verbose_eval, xgb_model, callbacks)\u001b[0m\n\u001b[0;32m    186\u001b[0m     \u001b[0mBooster\u001b[0m \u001b[1;33m:\u001b[0m \u001b[0ma\u001b[0m \u001b[0mtrained\u001b[0m \u001b[0mbooster\u001b[0m \u001b[0mmodel\u001b[0m\u001b[1;33m\u001b[0m\u001b[1;33m\u001b[0m\u001b[0m\n\u001b[0;32m    187\u001b[0m     \"\"\"\n\u001b[1;32m--> 188\u001b[1;33m     bst = _train_internal(params, dtrain,\n\u001b[0m\u001b[0;32m    189\u001b[0m                           \u001b[0mnum_boost_round\u001b[0m\u001b[1;33m=\u001b[0m\u001b[0mnum_boost_round\u001b[0m\u001b[1;33m,\u001b[0m\u001b[1;33m\u001b[0m\u001b[1;33m\u001b[0m\u001b[0m\n\u001b[0;32m    190\u001b[0m                           \u001b[0mevals\u001b[0m\u001b[1;33m=\u001b[0m\u001b[0mevals\u001b[0m\u001b[1;33m,\u001b[0m\u001b[1;33m\u001b[0m\u001b[1;33m\u001b[0m\u001b[0m\n",
            "\u001b[1;32m~\\.conda\\envs\\ift6758-conda-env\\lib\\site-packages\\xgboost\\training.py\u001b[0m in \u001b[0;36m_train_internal\u001b[1;34m(params, dtrain, num_boost_round, evals, obj, feval, xgb_model, callbacks, evals_result, maximize, verbose_eval, early_stopping_rounds)\u001b[0m\n\u001b[0;32m     79\u001b[0m         \u001b[1;32mif\u001b[0m \u001b[0mcallbacks\u001b[0m\u001b[1;33m.\u001b[0m\u001b[0mbefore_iteration\u001b[0m\u001b[1;33m(\u001b[0m\u001b[0mbst\u001b[0m\u001b[1;33m,\u001b[0m \u001b[0mi\u001b[0m\u001b[1;33m,\u001b[0m \u001b[0mdtrain\u001b[0m\u001b[1;33m,\u001b[0m \u001b[0mevals\u001b[0m\u001b[1;33m)\u001b[0m\u001b[1;33m:\u001b[0m\u001b[1;33m\u001b[0m\u001b[1;33m\u001b[0m\u001b[0m\n\u001b[0;32m     80\u001b[0m             \u001b[1;32mbreak\u001b[0m\u001b[1;33m\u001b[0m\u001b[1;33m\u001b[0m\u001b[0m\n\u001b[1;32m---> 81\u001b[1;33m         \u001b[0mbst\u001b[0m\u001b[1;33m.\u001b[0m\u001b[0mupdate\u001b[0m\u001b[1;33m(\u001b[0m\u001b[0mdtrain\u001b[0m\u001b[1;33m,\u001b[0m \u001b[0mi\u001b[0m\u001b[1;33m,\u001b[0m \u001b[0mobj\u001b[0m\u001b[1;33m)\u001b[0m\u001b[1;33m\u001b[0m\u001b[1;33m\u001b[0m\u001b[0m\n\u001b[0m\u001b[0;32m     82\u001b[0m         \u001b[1;32mif\u001b[0m \u001b[0mcallbacks\u001b[0m\u001b[1;33m.\u001b[0m\u001b[0mafter_iteration\u001b[0m\u001b[1;33m(\u001b[0m\u001b[0mbst\u001b[0m\u001b[1;33m,\u001b[0m \u001b[0mi\u001b[0m\u001b[1;33m,\u001b[0m \u001b[0mdtrain\u001b[0m\u001b[1;33m,\u001b[0m \u001b[0mevals\u001b[0m\u001b[1;33m)\u001b[0m\u001b[1;33m:\u001b[0m\u001b[1;33m\u001b[0m\u001b[1;33m\u001b[0m\u001b[0m\n\u001b[0;32m     83\u001b[0m             \u001b[1;32mbreak\u001b[0m\u001b[1;33m\u001b[0m\u001b[1;33m\u001b[0m\u001b[0m\n",
            "\u001b[1;32m~\\.conda\\envs\\ift6758-conda-env\\lib\\site-packages\\xgboost\\core.py\u001b[0m in \u001b[0;36mupdate\u001b[1;34m(self, dtrain, iteration, fobj)\u001b[0m\n\u001b[0;32m   1678\u001b[0m \u001b[1;33m\u001b[0m\u001b[0m\n\u001b[0;32m   1679\u001b[0m         \u001b[1;32mif\u001b[0m \u001b[0mfobj\u001b[0m \u001b[1;32mis\u001b[0m \u001b[1;32mNone\u001b[0m\u001b[1;33m:\u001b[0m\u001b[1;33m\u001b[0m\u001b[1;33m\u001b[0m\u001b[0m\n\u001b[1;32m-> 1680\u001b[1;33m             _check_call(_LIB.XGBoosterUpdateOneIter(self.handle,\n\u001b[0m\u001b[0;32m   1681\u001b[0m                                                     \u001b[0mctypes\u001b[0m\u001b[1;33m.\u001b[0m\u001b[0mc_int\u001b[0m\u001b[1;33m(\u001b[0m\u001b[0miteration\u001b[0m\u001b[1;33m)\u001b[0m\u001b[1;33m,\u001b[0m\u001b[1;33m\u001b[0m\u001b[1;33m\u001b[0m\u001b[0m\n\u001b[0;32m   1682\u001b[0m                                                     dtrain.handle))\n",
            "\u001b[1;31mKeyboardInterrupt\u001b[0m: "
          ]
        }
      ],
      "source": [
        "##Hyperparameter Tuning\n",
        "#creating deepcopy of default parameters before manipulations\n",
        "experiment = \"xgbase-bayestuning-allfeatures\"\n",
        "params = deepcopy(default_params)\n",
        "\n",
        "#setting grid of selected parameters for iteration\n",
        "param_grid = {'gamma': [0,0.1,0.2,0.4,0.8,1.6,3.2,6.4,12.8,25.6,51.2,102.4, 200],\n",
        "              'learning_rate': [0.01, 0.03, 0.06, 0.1, 0.15, 0.2, 0.25, 0.3, 0.4, 0.5, 0.6, 0.7],\n",
        "              'max_depth': [5,6,7,8,9,10,11,12,13,14],\n",
        "              'n_estimators': [50,65,80,100,115,130,150],\n",
        "              'reg_alpha': [0,0.1,0.2,0.4,0.8,1.6,3.2,6.4,12.8,25.6,51.2,102.4,200],\n",
        "              'reg_lambda': [0,0.1,0.2,0.4,0.8,1.6,3.2,6.4,12.8,25.6,51.2,102.4,200]\n",
        "              }\n",
        "\n",
        "#No. of jobs\n",
        "bcvj = int(np.cumsum([len(x) for x in param_grid.values()])[-1])\n",
        "\n",
        "#unwrapping list values of default parameters\n",
        "default_params_xgb = {}\n",
        "\n",
        "for key in default_params.keys():\n",
        "    default_params_xgb[key] = default_params[key][0]\n",
        "\n",
        "#providing default parameters to xgbc model, before randomized search cross-validation\n",
        "xgb3 = xgb.XGBClassifier(**default_params_xgb)\n",
        "\n",
        "clf = BayesSearchCV(estimator=xgb3, search_spaces=param_grid, n_iter=bcvj, scoring='roc_auc', return_train_score=True, verbose=3,\n",
        "                    cv = StratifiedKFold(\n",
        "                            n_splits=3,\n",
        "                            shuffle=True\n",
        "                        ))\n",
        "clf.fit(Xtrain, Ytrain.values.ravel())\n",
        "\n",
        "#results dataframe\n",
        "df = pd.DataFrame(clf.cv_results_)\n",
        "\n",
        "#best parameters\n",
        "bp = clf.best_params_\n",
        "\n",
        "#storing computed values in results dictionary\n",
        "results_dict[experiment] = {'iterable_parameter': np.nan,\n",
        "                        'classifier': deepcopy(clf),\n",
        "                        'cv_results': df.copy(),\n",
        "                        'best_params': bp}\n",
        "\n",
        "\n",
        "y_pred_val  = clf.predict(Xval)\n",
        "y_pred_val_scores = clf.predict_proba(Xval)[:,1]"
      ]
    },
    {
      "cell_type": "code",
      "execution_count": null,
      "metadata": {},
      "outputs": [
        {
          "data": {
            "text/plain": [
              "['../ift6758/models/weights//xgbase-bayestuning-allfeatures-yearvalidation.pkl']"
            ]
          },
          "execution_count": 53,
          "metadata": {},
          "output_type": "execute_result"
        }
      ],
      "source": [
        "## Dumping model\n",
        "filename=f\"{weights_dir}/{experiment}-yearvalidation.pkl\"\n",
        "joblib.dump(clf,filename)"
      ]
    },
    {
      "cell_type": "code",
      "execution_count": null,
      "metadata": {
        "id": "Nw_ZO7O3rBoT"
      },
      "outputs": [
        {
          "ename": "NameError",
          "evalue": "name 'plot_metrics' is not defined",
          "output_type": "error",
          "traceback": [
            "\u001b[1;31m---------------------------------------------------------------------------\u001b[0m",
            "\u001b[1;31mNameError\u001b[0m                                 Traceback (most recent call last)",
            "\u001b[1;32m~\\AppData\\Local\\Temp/ipykernel_15248/3639570316.py\u001b[0m in \u001b[0;36m<module>\u001b[1;34m\u001b[0m\n\u001b[1;32m----> 1\u001b[1;33m \u001b[0mplot_metrics\u001b[0m\u001b[1;33m.\u001b[0m\u001b[0mplotConfusion\u001b[0m\u001b[1;33m(\u001b[0m\u001b[0mYval\u001b[0m\u001b[1;33m,\u001b[0m\u001b[0my_pred_val\u001b[0m\u001b[1;33m,\u001b[0m\u001b[0mtitle\u001b[0m\u001b[1;33m=\u001b[0m\u001b[0mexperiment\u001b[0m\u001b[1;33m)\u001b[0m\u001b[1;33m\u001b[0m\u001b[1;33m\u001b[0m\u001b[0m\n\u001b[0m\u001b[0;32m      2\u001b[0m \u001b[0mplot_metrics\u001b[0m\u001b[1;33m.\u001b[0m\u001b[0mplot_roc\u001b[0m\u001b[1;33m(\u001b[0m\u001b[1;33m[\u001b[0m\u001b[0mYval\u001b[0m\u001b[1;33m]\u001b[0m\u001b[1;33m,\u001b[0m\u001b[1;33m[\u001b[0m\u001b[0my_pred_val_scores\u001b[0m\u001b[1;33m]\u001b[0m\u001b[1;33m,\u001b[0m\u001b[0mplot_labels\u001b[0m\u001b[1;33m=\u001b[0m\u001b[1;33m[\u001b[0m\u001b[0mexperiment\u001b[0m\u001b[1;33m]\u001b[0m\u001b[1;33m)\u001b[0m\u001b[1;33m\u001b[0m\u001b[1;33m\u001b[0m\u001b[0m\n\u001b[0;32m      3\u001b[0m \u001b[0mplot_metrics\u001b[0m\u001b[1;33m.\u001b[0m\u001b[0mplot_percentile\u001b[0m\u001b[1;33m(\u001b[0m\u001b[1;33m[\u001b[0m\u001b[0mYval\u001b[0m\u001b[1;33m]\u001b[0m\u001b[1;33m,\u001b[0m\u001b[1;33m[\u001b[0m\u001b[0my_pred_val_scores\u001b[0m\u001b[1;33m]\u001b[0m\u001b[1;33m,\u001b[0m\u001b[0mplot_labels\u001b[0m\u001b[1;33m=\u001b[0m\u001b[1;33m[\u001b[0m\u001b[0mexperiment\u001b[0m\u001b[1;33m]\u001b[0m\u001b[1;33m,\u001b[0m\u001b[0mbin_width\u001b[0m\u001b[1;33m=\u001b[0m\u001b[1;36m5\u001b[0m\u001b[1;33m)\u001b[0m\u001b[1;33m\u001b[0m\u001b[1;33m\u001b[0m\u001b[0m\n\u001b[0;32m      4\u001b[0m \u001b[0mplot_metrics\u001b[0m\u001b[1;33m.\u001b[0m\u001b[0mplot_calibration\u001b[0m\u001b[1;33m(\u001b[0m\u001b[1;33m[\u001b[0m\u001b[0mYval\u001b[0m\u001b[1;33m]\u001b[0m\u001b[1;33m,\u001b[0m\u001b[1;33m[\u001b[0m\u001b[0my_pred_val_scores\u001b[0m\u001b[1;33m]\u001b[0m\u001b[1;33m,\u001b[0m\u001b[0mplot_labels\u001b[0m\u001b[1;33m=\u001b[0m\u001b[1;33m[\u001b[0m\u001b[0mexperiment\u001b[0m\u001b[1;33m]\u001b[0m\u001b[1;33m,\u001b[0m\u001b[0mn_bins\u001b[0m\u001b[1;33m=\u001b[0m\u001b[1;36m50\u001b[0m\u001b[1;33m)\u001b[0m\u001b[1;33m\u001b[0m\u001b[1;33m\u001b[0m\u001b[0m\n\u001b[0;32m      5\u001b[0m \u001b[1;33m\u001b[0m\u001b[0m\n",
            "\u001b[1;31mNameError\u001b[0m: name 'plot_metrics' is not defined"
          ]
        }
      ],
      "source": [
        "\n",
        "plot_metrics.plotConfusion(Yval,y_pred_val,title=experiment)\n",
        "plot_metrics.plot_roc([Yval],[y_pred_val_scores],plot_labels=[experiment])\n",
        "plot_metrics.plot_percentile([Yval],[y_pred_val_scores],plot_labels=[experiment],bin_width=5)\n",
        "plot_metrics.plot_calibration([Yval],[y_pred_val_scores],plot_labels=[experiment],n_bins=50)\n",
        "\n",
        "\n"
      ]
    },
    {
      "cell_type": "code",
      "execution_count": 55,
      "metadata": {},
      "outputs": [],
      "source": [
        "from sklearn import feature_selection as fs"
      ]
    },
    {
      "cell_type": "markdown",
      "metadata": {},
      "source": [
        "* Feature Selection on only train to not overfit on validation\n",
        "* Used Kaggle kernel: https://www.kaggle.com/prashant111/comprehensive-guide-on-feature-selection"
      ]
    },
    {
      "cell_type": "code",
      "execution_count": 56,
      "metadata": {},
      "outputs": [
        {
          "ename": "ValueError",
          "evalue": "could not convert string to float: 'Backhand'",
          "output_type": "error",
          "traceback": [
            "\u001b[1;31m---------------------------------------------------------------------------\u001b[0m",
            "\u001b[1;31mValueError\u001b[0m                                Traceback (most recent call last)",
            "\u001b[1;32m~\\AppData\\Local\\Temp/ipykernel_23112/3583569024.py\u001b[0m in \u001b[0;36m<module>\u001b[1;34m\u001b[0m\n\u001b[0;32m      1\u001b[0m \u001b[0msel\u001b[0m \u001b[1;33m=\u001b[0m \u001b[0mfs\u001b[0m\u001b[1;33m.\u001b[0m\u001b[0mVarianceThreshold\u001b[0m\u001b[1;33m(\u001b[0m\u001b[0mthreshold\u001b[0m\u001b[1;33m=\u001b[0m\u001b[1;36m0.001\u001b[0m\u001b[1;33m)\u001b[0m  \u001b[1;31m# 0.1 indicates 99% of observations approximately\u001b[0m\u001b[1;33m\u001b[0m\u001b[1;33m\u001b[0m\u001b[0m\n\u001b[0;32m      2\u001b[0m \u001b[1;33m\u001b[0m\u001b[0m\n\u001b[1;32m----> 3\u001b[1;33m \u001b[0msel\u001b[0m\u001b[1;33m.\u001b[0m\u001b[0mfit\u001b[0m\u001b[1;33m(\u001b[0m\u001b[0mXtrain\u001b[0m\u001b[1;33m)\u001b[0m  \u001b[1;31m# fit finds the features with low variance\u001b[0m\u001b[1;33m\u001b[0m\u001b[1;33m\u001b[0m\u001b[0m\n\u001b[0m",
            "\u001b[1;32m~\\.conda\\envs\\ift6758-conda-env\\lib\\site-packages\\comet_ml\\monkey_patching.py\u001b[0m in \u001b[0;36mwrapper\u001b[1;34m(*args, **kwargs)\u001b[0m\n\u001b[0;32m    310\u001b[0m                     )\n\u001b[0;32m    311\u001b[0m \u001b[1;33m\u001b[0m\u001b[0m\n\u001b[1;32m--> 312\u001b[1;33m         \u001b[0mreturn_value\u001b[0m \u001b[1;33m=\u001b[0m \u001b[0moriginal\u001b[0m\u001b[1;33m(\u001b[0m\u001b[1;33m*\u001b[0m\u001b[0margs\u001b[0m\u001b[1;33m,\u001b[0m \u001b[1;33m**\u001b[0m\u001b[0mkwargs\u001b[0m\u001b[1;33m)\u001b[0m\u001b[1;33m\u001b[0m\u001b[1;33m\u001b[0m\u001b[0m\n\u001b[0m\u001b[0;32m    313\u001b[0m \u001b[1;33m\u001b[0m\u001b[0m\n\u001b[0;32m    314\u001b[0m         \u001b[1;31m# Call after callbacks once we have the return value\u001b[0m\u001b[1;33m\u001b[0m\u001b[1;33m\u001b[0m\u001b[0m\n",
            "\u001b[1;32m~\\.conda\\envs\\ift6758-conda-env\\lib\\site-packages\\sklearn\\feature_selection\\_variance_threshold.py\u001b[0m in \u001b[0;36mfit\u001b[1;34m(self, X, y)\u001b[0m\n\u001b[0;32m     89\u001b[0m             \u001b[0mReturns\u001b[0m \u001b[0mthe\u001b[0m \u001b[0minstance\u001b[0m \u001b[0mitself\u001b[0m\u001b[1;33m.\u001b[0m\u001b[1;33m\u001b[0m\u001b[1;33m\u001b[0m\u001b[0m\n\u001b[0;32m     90\u001b[0m         \"\"\"\n\u001b[1;32m---> 91\u001b[1;33m         X = self._validate_data(\n\u001b[0m\u001b[0;32m     92\u001b[0m             \u001b[0mX\u001b[0m\u001b[1;33m,\u001b[0m\u001b[1;33m\u001b[0m\u001b[1;33m\u001b[0m\u001b[0m\n\u001b[0;32m     93\u001b[0m             \u001b[0maccept_sparse\u001b[0m\u001b[1;33m=\u001b[0m\u001b[1;33m(\u001b[0m\u001b[1;34m\"csr\"\u001b[0m\u001b[1;33m,\u001b[0m \u001b[1;34m\"csc\"\u001b[0m\u001b[1;33m)\u001b[0m\u001b[1;33m,\u001b[0m\u001b[1;33m\u001b[0m\u001b[1;33m\u001b[0m\u001b[0m\n",
            "\u001b[1;32m~\\.conda\\envs\\ift6758-conda-env\\lib\\site-packages\\sklearn\\base.py\u001b[0m in \u001b[0;36m_validate_data\u001b[1;34m(self, X, y, reset, validate_separately, **check_params)\u001b[0m\n\u001b[0;32m    559\u001b[0m             \u001b[1;32mraise\u001b[0m \u001b[0mValueError\u001b[0m\u001b[1;33m(\u001b[0m\u001b[1;34m\"Validation should be done on X, y or both.\"\u001b[0m\u001b[1;33m)\u001b[0m\u001b[1;33m\u001b[0m\u001b[1;33m\u001b[0m\u001b[0m\n\u001b[0;32m    560\u001b[0m         \u001b[1;32melif\u001b[0m \u001b[1;32mnot\u001b[0m \u001b[0mno_val_X\u001b[0m \u001b[1;32mand\u001b[0m \u001b[0mno_val_y\u001b[0m\u001b[1;33m:\u001b[0m\u001b[1;33m\u001b[0m\u001b[1;33m\u001b[0m\u001b[0m\n\u001b[1;32m--> 561\u001b[1;33m             \u001b[0mX\u001b[0m \u001b[1;33m=\u001b[0m \u001b[0mcheck_array\u001b[0m\u001b[1;33m(\u001b[0m\u001b[0mX\u001b[0m\u001b[1;33m,\u001b[0m \u001b[1;33m**\u001b[0m\u001b[0mcheck_params\u001b[0m\u001b[1;33m)\u001b[0m\u001b[1;33m\u001b[0m\u001b[1;33m\u001b[0m\u001b[0m\n\u001b[0m\u001b[0;32m    562\u001b[0m             \u001b[0mout\u001b[0m \u001b[1;33m=\u001b[0m \u001b[0mX\u001b[0m\u001b[1;33m\u001b[0m\u001b[1;33m\u001b[0m\u001b[0m\n\u001b[0;32m    563\u001b[0m         \u001b[1;32melif\u001b[0m \u001b[0mno_val_X\u001b[0m \u001b[1;32mand\u001b[0m \u001b[1;32mnot\u001b[0m \u001b[0mno_val_y\u001b[0m\u001b[1;33m:\u001b[0m\u001b[1;33m\u001b[0m\u001b[1;33m\u001b[0m\u001b[0m\n",
            "\u001b[1;32m~\\.conda\\envs\\ift6758-conda-env\\lib\\site-packages\\sklearn\\utils\\validation.py\u001b[0m in \u001b[0;36mcheck_array\u001b[1;34m(array, accept_sparse, accept_large_sparse, dtype, order, copy, force_all_finite, ensure_2d, allow_nd, ensure_min_samples, ensure_min_features, estimator)\u001b[0m\n\u001b[0;32m    736\u001b[0m                     \u001b[0marray\u001b[0m \u001b[1;33m=\u001b[0m \u001b[0marray\u001b[0m\u001b[1;33m.\u001b[0m\u001b[0mastype\u001b[0m\u001b[1;33m(\u001b[0m\u001b[0mdtype\u001b[0m\u001b[1;33m,\u001b[0m \u001b[0mcasting\u001b[0m\u001b[1;33m=\u001b[0m\u001b[1;34m\"unsafe\"\u001b[0m\u001b[1;33m,\u001b[0m \u001b[0mcopy\u001b[0m\u001b[1;33m=\u001b[0m\u001b[1;32mFalse\u001b[0m\u001b[1;33m)\u001b[0m\u001b[1;33m\u001b[0m\u001b[1;33m\u001b[0m\u001b[0m\n\u001b[0;32m    737\u001b[0m                 \u001b[1;32melse\u001b[0m\u001b[1;33m:\u001b[0m\u001b[1;33m\u001b[0m\u001b[1;33m\u001b[0m\u001b[0m\n\u001b[1;32m--> 738\u001b[1;33m                     \u001b[0marray\u001b[0m \u001b[1;33m=\u001b[0m \u001b[0mnp\u001b[0m\u001b[1;33m.\u001b[0m\u001b[0masarray\u001b[0m\u001b[1;33m(\u001b[0m\u001b[0marray\u001b[0m\u001b[1;33m,\u001b[0m \u001b[0morder\u001b[0m\u001b[1;33m=\u001b[0m\u001b[0morder\u001b[0m\u001b[1;33m,\u001b[0m \u001b[0mdtype\u001b[0m\u001b[1;33m=\u001b[0m\u001b[0mdtype\u001b[0m\u001b[1;33m)\u001b[0m\u001b[1;33m\u001b[0m\u001b[1;33m\u001b[0m\u001b[0m\n\u001b[0m\u001b[0;32m    739\u001b[0m             \u001b[1;32mexcept\u001b[0m \u001b[0mComplexWarning\u001b[0m \u001b[1;32mas\u001b[0m \u001b[0mcomplex_warning\u001b[0m\u001b[1;33m:\u001b[0m\u001b[1;33m\u001b[0m\u001b[1;33m\u001b[0m\u001b[0m\n\u001b[0;32m    740\u001b[0m                 raise ValueError(\n",
            "\u001b[1;32m~\\.conda\\envs\\ift6758-conda-env\\lib\\site-packages\\numpy\\core\\_asarray.py\u001b[0m in \u001b[0;36masarray\u001b[1;34m(a, dtype, order, like)\u001b[0m\n\u001b[0;32m    100\u001b[0m         \u001b[1;32mreturn\u001b[0m \u001b[0m_asarray_with_like\u001b[0m\u001b[1;33m(\u001b[0m\u001b[0ma\u001b[0m\u001b[1;33m,\u001b[0m \u001b[0mdtype\u001b[0m\u001b[1;33m=\u001b[0m\u001b[0mdtype\u001b[0m\u001b[1;33m,\u001b[0m \u001b[0morder\u001b[0m\u001b[1;33m=\u001b[0m\u001b[0morder\u001b[0m\u001b[1;33m,\u001b[0m \u001b[0mlike\u001b[0m\u001b[1;33m=\u001b[0m\u001b[0mlike\u001b[0m\u001b[1;33m)\u001b[0m\u001b[1;33m\u001b[0m\u001b[1;33m\u001b[0m\u001b[0m\n\u001b[0;32m    101\u001b[0m \u001b[1;33m\u001b[0m\u001b[0m\n\u001b[1;32m--> 102\u001b[1;33m     \u001b[1;32mreturn\u001b[0m \u001b[0marray\u001b[0m\u001b[1;33m(\u001b[0m\u001b[0ma\u001b[0m\u001b[1;33m,\u001b[0m \u001b[0mdtype\u001b[0m\u001b[1;33m,\u001b[0m \u001b[0mcopy\u001b[0m\u001b[1;33m=\u001b[0m\u001b[1;32mFalse\u001b[0m\u001b[1;33m,\u001b[0m \u001b[0morder\u001b[0m\u001b[1;33m=\u001b[0m\u001b[0morder\u001b[0m\u001b[1;33m)\u001b[0m\u001b[1;33m\u001b[0m\u001b[1;33m\u001b[0m\u001b[0m\n\u001b[0m\u001b[0;32m    103\u001b[0m \u001b[1;33m\u001b[0m\u001b[0m\n\u001b[0;32m    104\u001b[0m \u001b[1;33m\u001b[0m\u001b[0m\n",
            "\u001b[1;32m~\\.conda\\envs\\ift6758-conda-env\\lib\\site-packages\\pandas\\core\\generic.py\u001b[0m in \u001b[0;36m__array__\u001b[1;34m(self, dtype)\u001b[0m\n\u001b[0;32m   1991\u001b[0m \u001b[1;33m\u001b[0m\u001b[0m\n\u001b[0;32m   1992\u001b[0m     \u001b[1;32mdef\u001b[0m \u001b[0m__array__\u001b[0m\u001b[1;33m(\u001b[0m\u001b[0mself\u001b[0m\u001b[1;33m,\u001b[0m \u001b[0mdtype\u001b[0m\u001b[1;33m:\u001b[0m \u001b[0mNpDtype\u001b[0m \u001b[1;33m|\u001b[0m \u001b[1;32mNone\u001b[0m \u001b[1;33m=\u001b[0m \u001b[1;32mNone\u001b[0m\u001b[1;33m)\u001b[0m \u001b[1;33m->\u001b[0m \u001b[0mnp\u001b[0m\u001b[1;33m.\u001b[0m\u001b[0mndarray\u001b[0m\u001b[1;33m:\u001b[0m\u001b[1;33m\u001b[0m\u001b[1;33m\u001b[0m\u001b[0m\n\u001b[1;32m-> 1993\u001b[1;33m         \u001b[1;32mreturn\u001b[0m \u001b[0mnp\u001b[0m\u001b[1;33m.\u001b[0m\u001b[0masarray\u001b[0m\u001b[1;33m(\u001b[0m\u001b[0mself\u001b[0m\u001b[1;33m.\u001b[0m\u001b[0m_values\u001b[0m\u001b[1;33m,\u001b[0m \u001b[0mdtype\u001b[0m\u001b[1;33m=\u001b[0m\u001b[0mdtype\u001b[0m\u001b[1;33m)\u001b[0m\u001b[1;33m\u001b[0m\u001b[1;33m\u001b[0m\u001b[0m\n\u001b[0m\u001b[0;32m   1994\u001b[0m \u001b[1;33m\u001b[0m\u001b[0m\n\u001b[0;32m   1995\u001b[0m     def __array_wrap__(\n",
            "\u001b[1;32m~\\.conda\\envs\\ift6758-conda-env\\lib\\site-packages\\numpy\\core\\_asarray.py\u001b[0m in \u001b[0;36masarray\u001b[1;34m(a, dtype, order, like)\u001b[0m\n\u001b[0;32m    100\u001b[0m         \u001b[1;32mreturn\u001b[0m \u001b[0m_asarray_with_like\u001b[0m\u001b[1;33m(\u001b[0m\u001b[0ma\u001b[0m\u001b[1;33m,\u001b[0m \u001b[0mdtype\u001b[0m\u001b[1;33m=\u001b[0m\u001b[0mdtype\u001b[0m\u001b[1;33m,\u001b[0m \u001b[0morder\u001b[0m\u001b[1;33m=\u001b[0m\u001b[0morder\u001b[0m\u001b[1;33m,\u001b[0m \u001b[0mlike\u001b[0m\u001b[1;33m=\u001b[0m\u001b[0mlike\u001b[0m\u001b[1;33m)\u001b[0m\u001b[1;33m\u001b[0m\u001b[1;33m\u001b[0m\u001b[0m\n\u001b[0;32m    101\u001b[0m \u001b[1;33m\u001b[0m\u001b[0m\n\u001b[1;32m--> 102\u001b[1;33m     \u001b[1;32mreturn\u001b[0m \u001b[0marray\u001b[0m\u001b[1;33m(\u001b[0m\u001b[0ma\u001b[0m\u001b[1;33m,\u001b[0m \u001b[0mdtype\u001b[0m\u001b[1;33m,\u001b[0m \u001b[0mcopy\u001b[0m\u001b[1;33m=\u001b[0m\u001b[1;32mFalse\u001b[0m\u001b[1;33m,\u001b[0m \u001b[0morder\u001b[0m\u001b[1;33m=\u001b[0m\u001b[0morder\u001b[0m\u001b[1;33m)\u001b[0m\u001b[1;33m\u001b[0m\u001b[1;33m\u001b[0m\u001b[0m\n\u001b[0m\u001b[0;32m    103\u001b[0m \u001b[1;33m\u001b[0m\u001b[0m\n\u001b[0;32m    104\u001b[0m \u001b[1;33m\u001b[0m\u001b[0m\n",
            "\u001b[1;31mValueError\u001b[0m: could not convert string to float: 'Backhand'"
          ]
        }
      ],
      "source": [
        "sel = fs.VarianceThreshold(threshold=0.001)  # 0.1 indicates 99% of observations approximately\n",
        "\n",
        "sel.fit(Xtrain)  # fit finds the features with low variance"
      ]
    },
    {
      "cell_type": "code",
      "execution_count": 33,
      "metadata": {},
      "outputs": [
        {
          "data": {
            "text/plain": [
              "(225388, 36)"
            ]
          },
          "execution_count": 33,
          "metadata": {},
          "output_type": "execute_result"
        }
      ],
      "source": [
        "Xtrain.shape"
      ]
    },
    {
      "cell_type": "code",
      "execution_count": 34,
      "metadata": {},
      "outputs": [
        {
          "data": {
            "text/plain": [
              "33"
            ]
          },
          "execution_count": 34,
          "metadata": {},
          "output_type": "execute_result"
        }
      ],
      "source": [
        "sum(sel.get_support())\n"
      ]
    },
    {
      "cell_type": "code",
      "execution_count": 35,
      "metadata": {},
      "outputs": [
        {
          "name": "stdout",
          "output_type": "stream",
          "text": [
            "3\n"
          ]
        },
        {
          "data": {
            "text/plain": [
              "['shotType_Unknown', 'lastEventType_Goal', 'lastEventType_Penalty']"
            ]
          },
          "execution_count": 35,
          "metadata": {},
          "output_type": "execute_result"
        }
      ],
      "source": [
        "print(\n",
        "    len([\n",
        "        x for x in Xtrain.columns\n",
        "        if x not in Xtrain.columns[sel.get_support()]\n",
        "    ]))\n",
        "\n",
        "[x for x in Xtrain.columns if x not in Xtrain.columns[sel.get_support()]]"
      ]
    },
    {
      "cell_type": "code",
      "execution_count": 36,
      "metadata": {},
      "outputs": [
        {
          "data": {
            "text/plain": [
              "0    225371\n",
              "1        17\n",
              "Name: shotType_Unknown, dtype: int64"
            ]
          },
          "execution_count": 36,
          "metadata": {},
          "output_type": "execute_result"
        }
      ],
      "source": [
        "Xtrain['shotType_Unknown'].value_counts()\n",
        "#  / np.float(len(X_train))\n"
      ]
    },
    {
      "cell_type": "code",
      "execution_count": 60,
      "metadata": {},
      "outputs": [
        {
          "data": {
            "image/png": "[encoded data removed]",
            "text/plain": [
              "<Figure size 288x288 with 1 Axes>"
            ]
          },
          "metadata": {
            "needs_background": "light"
          },
          "output_type": "display_data"
        }
      ],
      "source": [
        "# import matplotlib.pyplot as plt\n",
        "import matplotlib.pyplot as plt\n",
        "corr_matrix = Xtrain.corr().abs()\n",
        "plt.matshow(corr_matrix)\n",
        "plt.show()"
      ]
    },
    {
      "cell_type": "code",
      "execution_count": 61,
      "metadata": {},
      "outputs": [
        {
          "data": {
            "text/html": [
              "<div>\n",
              "<style scoped>\n",
              "    .dataframe tbody tr th:only-of-type {\n",
              "        vertical-align: middle;\n",
              "    }\n",
              "\n",
              "    .dataframe tbody tr th {\n",
              "        vertical-align: top;\n",
              "    }\n",
              "\n",
              "    .dataframe thead th {\n",
              "        text-align: right;\n",
              "    }\n",
              "</style>\n",
              "<table border=\"1\" class=\"dataframe\">\n",
              "  <thead>\n",
              "    <tr style=\"text-align: right;\">\n",
              "      <th></th>\n",
              "      <th>gameSeconds</th>\n",
              "      <th>totalGameSeconds</th>\n",
              "      <th>timeFromLastEvent</th>\n",
              "      <th>shotAngle</th>\n",
              "      <th>coordinatesX</th>\n",
              "      <th>coordinatesY</th>\n",
              "      <th>shotDistance</th>\n",
              "      <th>lastEventCoordinatesX</th>\n",
              "      <th>lastEventCoordinatesY</th>\n",
              "      <th>distanceFromLastEvent</th>\n",
              "      <th>speed</th>\n",
              "      <th>changeInShotAngle</th>\n",
              "      <th>angleSpeed</th>\n",
              "    </tr>\n",
              "  </thead>\n",
              "  <tbody>\n",
              "    <tr>\n",
              "      <th>gameSeconds</th>\n",
              "      <td>NaN</td>\n",
              "      <td>0.256834</td>\n",
              "      <td>0.034447</td>\n",
              "      <td>0.000558</td>\n",
              "      <td>0.004326</td>\n",
              "      <td>0.002471</td>\n",
              "      <td>0.017294</td>\n",
              "      <td>0.004668</td>\n",
              "      <td>0.002945</td>\n",
              "      <td>0.042476</td>\n",
              "      <td>0.017347</td>\n",
              "      <td>0.003772</td>\n",
              "      <td>0.000528</td>\n",
              "    </tr>\n",
              "    <tr>\n",
              "      <th>totalGameSeconds</th>\n",
              "      <td>NaN</td>\n",
              "      <td>NaN</td>\n",
              "      <td>0.040451</td>\n",
              "      <td>0.003763</td>\n",
              "      <td>0.001305</td>\n",
              "      <td>0.001047</td>\n",
              "      <td>0.015716</td>\n",
              "      <td>0.004757</td>\n",
              "      <td>0.000067</td>\n",
              "      <td>0.023742</td>\n",
              "      <td>0.039418</td>\n",
              "      <td>0.008413</td>\n",
              "      <td>0.003530</td>\n",
              "    </tr>\n",
              "    <tr>\n",
              "      <th>timeFromLastEvent</th>\n",
              "      <td>NaN</td>\n",
              "      <td>NaN</td>\n",
              "      <td>NaN</td>\n",
              "      <td>0.000593</td>\n",
              "      <td>0.000870</td>\n",
              "      <td>0.009549</td>\n",
              "      <td>0.043945</td>\n",
              "      <td>0.000405</td>\n",
              "      <td>0.003614</td>\n",
              "      <td>0.166149</td>\n",
              "      <td>0.417809</td>\n",
              "      <td>0.037540</td>\n",
              "      <td>0.175513</td>\n",
              "    </tr>\n",
              "    <tr>\n",
              "      <th>shotAngle</th>\n",
              "      <td>NaN</td>\n",
              "      <td>NaN</td>\n",
              "      <td>NaN</td>\n",
              "      <td>NaN</td>\n",
              "      <td>0.024254</td>\n",
              "      <td>0.001732</td>\n",
              "      <td>0.022459</td>\n",
              "      <td>0.003493</td>\n",
              "      <td>0.000398</td>\n",
              "      <td>0.002245</td>\n",
              "      <td>0.000063</td>\n",
              "      <td>0.007443</td>\n",
              "      <td>0.005966</td>\n",
              "    </tr>\n",
              "    <tr>\n",
              "      <th>coordinatesX</th>\n",
              "      <td>NaN</td>\n",
              "      <td>NaN</td>\n",
              "      <td>NaN</td>\n",
              "      <td>NaN</td>\n",
              "      <td>NaN</td>\n",
              "      <td>0.009450</td>\n",
              "      <td>0.003693</td>\n",
              "      <td>0.373236</td>\n",
              "      <td>0.003064</td>\n",
              "      <td>0.001416</td>\n",
              "      <td>0.001094</td>\n",
              "      <td>0.002665</td>\n",
              "      <td>0.001718</td>\n",
              "    </tr>\n",
              "  </tbody>\n",
              "</table>\n",
              "</div>"
            ],
            "text/plain": [
              "                   gameSeconds  totalGameSeconds  timeFromLastEvent  \\\n",
              "gameSeconds                NaN          0.256834           0.034447   \n",
              "totalGameSeconds           NaN               NaN           0.040451   \n",
              "timeFromLastEvent          NaN               NaN                NaN   \n",
              "shotAngle                  NaN               NaN                NaN   \n",
              "coordinatesX               NaN               NaN                NaN   \n",
              "\n",
              "                   shotAngle  coordinatesX  coordinatesY  shotDistance  \\\n",
              "gameSeconds         0.000558      0.004326      0.002471      0.017294   \n",
              "totalGameSeconds    0.003763      0.001305      0.001047      0.015716   \n",
              "timeFromLastEvent   0.000593      0.000870      0.009549      0.043945   \n",
              "shotAngle                NaN      0.024254      0.001732      0.022459   \n",
              "coordinatesX             NaN           NaN      0.009450      0.003693   \n",
              "\n",
              "                   lastEventCoordinatesX  lastEventCoordinatesY  \\\n",
              "gameSeconds                     0.004668               0.002945   \n",
              "totalGameSeconds                0.004757               0.000067   \n",
              "timeFromLastEvent               0.000405               0.003614   \n",
              "shotAngle                       0.003493               0.000398   \n",
              "coordinatesX                    0.373236               0.003064   \n",
              "\n",
              "                   distanceFromLastEvent     speed  changeInShotAngle  \\\n",
              "gameSeconds                     0.042476  0.017347           0.003772   \n",
              "totalGameSeconds                0.023742  0.039418           0.008413   \n",
              "timeFromLastEvent               0.166149  0.417809           0.037540   \n",
              "shotAngle                       0.002245  0.000063           0.007443   \n",
              "coordinatesX                    0.001416  0.001094           0.002665   \n",
              "\n",
              "                   angleSpeed  \n",
              "gameSeconds          0.000528  \n",
              "totalGameSeconds     0.003530  \n",
              "timeFromLastEvent    0.175513  \n",
              "shotAngle            0.005966  \n",
              "coordinatesX         0.001718  "
            ]
          },
          "execution_count": 61,
          "metadata": {},
          "output_type": "execute_result"
        }
      ],
      "source": [
        "upper = corr_matrix.where(np.triu(np.ones(corr_matrix.shape), k=1).astype(bool))\n",
        "upper.head()\n"
      ]
    },
    {
      "cell_type": "code",
      "execution_count": 71,
      "metadata": {},
      "outputs": [
        {
          "data": {
            "text/html": [
              "<div>\n",
              "<style scoped>\n",
              "    .dataframe tbody tr th:only-of-type {\n",
              "        vertical-align: middle;\n",
              "    }\n",
              "\n",
              "    .dataframe tbody tr th {\n",
              "        vertical-align: top;\n",
              "    }\n",
              "\n",
              "    .dataframe thead th {\n",
              "        text-align: right;\n",
              "    }\n",
              "</style>\n",
              "<table border=\"1\" class=\"dataframe\">\n",
              "  <thead>\n",
              "    <tr style=\"text-align: right;\">\n",
              "      <th></th>\n",
              "      <th>gameSeconds</th>\n",
              "      <th>totalGameSeconds</th>\n",
              "      <th>timeFromLastEvent</th>\n",
              "      <th>shotAngle</th>\n",
              "      <th>coordinatesX</th>\n",
              "      <th>coordinatesY</th>\n",
              "      <th>shotDistance</th>\n",
              "      <th>lastEventCoordinatesX</th>\n",
              "      <th>lastEventCoordinatesY</th>\n",
              "      <th>distanceFromLastEvent</th>\n",
              "      <th>speed</th>\n",
              "      <th>changeInShotAngle</th>\n",
              "      <th>angleSpeed</th>\n",
              "    </tr>\n",
              "  </thead>\n",
              "  <tbody>\n",
              "    <tr>\n",
              "      <th>changeInShotAngle</th>\n",
              "      <td>NaN</td>\n",
              "      <td>NaN</td>\n",
              "      <td>NaN</td>\n",
              "      <td>NaN</td>\n",
              "      <td>NaN</td>\n",
              "      <td>NaN</td>\n",
              "      <td>NaN</td>\n",
              "      <td>NaN</td>\n",
              "      <td>NaN</td>\n",
              "      <td>NaN</td>\n",
              "      <td>NaN</td>\n",
              "      <td>NaN</td>\n",
              "      <td>0.598445</td>\n",
              "    </tr>\n",
              "  </tbody>\n",
              "</table>\n",
              "</div>"
            ],
            "text/plain": [
              "                   gameSeconds  totalGameSeconds  timeFromLastEvent  \\\n",
              "changeInShotAngle          NaN               NaN                NaN   \n",
              "\n",
              "                   shotAngle  coordinatesX  coordinatesY  shotDistance  \\\n",
              "changeInShotAngle        NaN           NaN           NaN           NaN   \n",
              "\n",
              "                   lastEventCoordinatesX  lastEventCoordinatesY  \\\n",
              "changeInShotAngle                    NaN                    NaN   \n",
              "\n",
              "                   distanceFromLastEvent  speed  changeInShotAngle  angleSpeed  \n",
              "changeInShotAngle                    NaN    NaN                NaN    0.598445  "
            ]
          },
          "execution_count": 71,
          "metadata": {},
          "output_type": "execute_result"
        }
      ],
      "source": [
        "upper[upper['angleSpeed']>0.5]"
      ]
    },
    {
      "cell_type": "code",
      "execution_count": 69,
      "metadata": {},
      "outputs": [
        {
          "name": "stdout",
          "output_type": "stream",
          "text": [
            "['angleSpeed']\n"
          ]
        }
      ],
      "source": [
        "to_drop = [column for column in upper.columns if any(upper[column] > 0.5)]\n",
        "print(to_drop)"
      ]
    },
    {
      "cell_type": "code",
      "execution_count": 63,
      "metadata": {},
      "outputs": [
        {
          "data": {
            "text/plain": [
              "array([0.02671321, 0.05891316, 0.1037575 , 0.04404623, 0.0421422 ,\n",
              "       0.04155611, 0.02243151, 0.01936454, 0.09643009, 0.2761009 ,\n",
              "       0.03374998, 0.02278364, 0.02864612, 0.02796253, 0.04837033,\n",
              "       0.0311576 , 0.04347844, 0.03239591], dtype=float32)"
            ]
          },
          "execution_count": 63,
          "metadata": {},
          "output_type": "execute_result"
        }
      ],
      "source": [
        "clf.best_estimator_.feature_importances_\n"
      ]
    },
    {
      "cell_type": "code",
      "execution_count": 64,
      "metadata": {},
      "outputs": [
        {
          "data": {
            "text/plain": [
              "shotDistance             0.276101\n",
              "timeFromLastEvent        0.103758\n",
              "coordinatesY             0.096430\n",
              "totalGameSeconds         0.058913\n",
              "rebound                  0.048370\n",
              "gamePeriod               0.044046\n",
              "changeInShotAngle        0.043478\n",
              "shotType                 0.042142\n",
              "shotAngle                0.041556\n",
              "lastEventType            0.033750\n",
              "angleSpeed               0.032396\n",
              "speed                    0.031158\n",
              "lastEventCoordinatesY    0.028646\n",
              "distanceFromLastEvent    0.027963\n",
              "gameSeconds              0.026713\n",
              "lastEventCoordinatesX    0.022784\n",
              "isHome                   0.022432\n",
              "coordinatesX             0.019365\n",
              "dtype: float32"
            ]
          },
          "execution_count": 64,
          "metadata": {},
          "output_type": "execute_result"
        }
      ],
      "source": [
        "\n",
        "feature_scores = pd.Series(clf.best_estimator_.feature_importances_, index=Xtrain.columns).sort_values(ascending=False)\n",
        "\n",
        "feature_scores"
      ]
    },
    {
      "cell_type": "code",
      "execution_count": 65,
      "metadata": {},
      "outputs": [
        {
          "data": {
            "image/png": "[encoded data removed]",
            "text/plain": [
              "<Figure size 2160x1728 with 1 Axes>"
            ]
          },
          "metadata": {
            "needs_background": "light"
          },
          "output_type": "display_data"
        }
      ],
      "source": [
        "# Creating a seaborn bar plot\n",
        "import seaborn as sns\n",
        "f, ax = plt.subplots(figsize=(30, 24))\n",
        "ax = sns.barplot(x=feature_scores, y=feature_scores.index, data=df)\n",
        "ax.set_title(\"Visualize feature scores of the features\")\n",
        "ax.set_yticklabels(feature_scores.index)\n",
        "ax.set_xlabel(\"Feature importance score\")\n",
        "ax.set_ylabel(\"Features\")\n",
        "plt.show()"
      ]
    },
    {
      "cell_type": "code",
      "execution_count": 33,
      "metadata": {},
      "outputs": [],
      "source": [
        "import shap\n",
        "import numpy as np"
      ]
    },
    {
      "cell_type": "code",
      "execution_count": 37,
      "metadata": {},
      "outputs": [],
      "source": [
        "gparams[\"categorical_feature\"]=categories\n"
      ]
    },
    {
      "cell_type": "code",
      "execution_count": 38,
      "metadata": {},
      "outputs": [
        {
          "data": {
            "text/plain": [
              "{'objective': 'binary:logistic',\n",
              " 'use_label_encoder': False,\n",
              " 'base_score': 0.5,\n",
              " 'booster': 'gbtree',\n",
              " 'colsample_bylevel': 1,\n",
              " 'colsample_bynode': 1,\n",
              " 'colsample_bytree': 1,\n",
              " 'enable_categorical': 1,\n",
              " 'gamma': 0,\n",
              " 'gpu_id': 0,\n",
              " 'importance_type': None,\n",
              " 'interaction_constraints': '',\n",
              " 'learning_rate': 0.300000012,\n",
              " 'max_delta_step': 0,\n",
              " 'max_depth': 6,\n",
              " 'min_child_weight': 1,\n",
              " 'missing': nan,\n",
              " 'monotone_constraints': '()',\n",
              " 'n_estimators': 100,\n",
              " 'n_jobs': 12,\n",
              " 'num_parallel_tree': 1,\n",
              " 'predictor': 'auto',\n",
              " 'random_state': 0,\n",
              " 'reg_alpha': 0,\n",
              " 'reg_lambda': 1,\n",
              " 'scale_pos_weight': 1,\n",
              " 'subsample': 1,\n",
              " 'tree_method': 'gpu_hist',\n",
              " 'validate_parameters': 1,\n",
              " 'verbosity': None,\n",
              " 'eval_metric': 'auc',\n",
              " 'grow_policy': 'lossguide',\n",
              " 'categorical_feature': ['shotType',\n",
              "  'gamePeriod',\n",
              "  'lastEventType',\n",
              "  'rebound',\n",
              "  'isHome']}"
            ]
          },
          "execution_count": 38,
          "metadata": {},
          "output_type": "execute_result"
        }
      ],
      "source": [
        "gparams"
      ]
    },
    {
      "cell_type": "code",
      "execution_count": 66,
      "metadata": {},
      "outputs": [],
      "source": [
        "# Xtrain_shap = Xtrain.copy()\n",
        "# for category in categories:\n",
        "#     Xtrain_shap[category] = Xtrain[category].cat.codes"
      ]
    },
    {
      "cell_type": "code",
      "execution_count": 48,
      "metadata": {},
      "outputs": [
        {
          "data": {
            "text/plain": [
              "(233329, 18)"
            ]
          },
          "execution_count": 48,
          "metadata": {},
          "output_type": "execute_result"
        }
      ],
      "source": [
        "Xtrain.shape"
      ]
    },
    {
      "cell_type": "code",
      "execution_count": 47,
      "metadata": {},
      "outputs": [
        {
          "data": {
            "text/plain": [
              "(233329, 18)"
            ]
          },
          "execution_count": 47,
          "metadata": {},
          "output_type": "execute_result"
        }
      ],
      "source": [
        "Xtrain_shap.shape"
      ]
    },
    {
      "cell_type": "code",
      "execution_count": 51,
      "metadata": {},
      "outputs": [
        {
          "data": {
            "text/html": [
              "<div>\n",
              "<style scoped>\n",
              "    .dataframe tbody tr th:only-of-type {\n",
              "        vertical-align: middle;\n",
              "    }\n",
              "\n",
              "    .dataframe tbody tr th {\n",
              "        vertical-align: top;\n",
              "    }\n",
              "\n",
              "    .dataframe thead th {\n",
              "        text-align: right;\n",
              "    }\n",
              "</style>\n",
              "<table border=\"1\" class=\"dataframe\">\n",
              "  <thead>\n",
              "    <tr style=\"text-align: right;\">\n",
              "      <th></th>\n",
              "      <th>gameSeconds</th>\n",
              "      <th>totalGameSeconds</th>\n",
              "      <th>timeFromLastEvent</th>\n",
              "      <th>gamePeriod</th>\n",
              "      <th>shotType</th>\n",
              "      <th>shotAngle</th>\n",
              "      <th>isHome</th>\n",
              "      <th>coordinatesX</th>\n",
              "      <th>coordinatesY</th>\n",
              "      <th>shotDistance</th>\n",
              "      <th>lastEventType</th>\n",
              "      <th>lastEventCoordinatesX</th>\n",
              "      <th>lastEventCoordinatesY</th>\n",
              "      <th>distanceFromLastEvent</th>\n",
              "      <th>rebound</th>\n",
              "      <th>speed</th>\n",
              "      <th>changeInShotAngle</th>\n",
              "      <th>angleSpeed</th>\n",
              "    </tr>\n",
              "  </thead>\n",
              "  <tbody>\n",
              "    <tr>\n",
              "      <th>161542</th>\n",
              "      <td>1069.0</td>\n",
              "      <td>1069.0</td>\n",
              "      <td>25.0</td>\n",
              "      <td>0</td>\n",
              "      <td>6</td>\n",
              "      <td>-25.016893</td>\n",
              "      <td>1</td>\n",
              "      <td>-74.0</td>\n",
              "      <td>-7.0</td>\n",
              "      <td>16.552945</td>\n",
              "      <td>14</td>\n",
              "      <td>-79.0</td>\n",
              "      <td>-1.0</td>\n",
              "      <td>7.810250</td>\n",
              "      <td>1</td>\n",
              "      <td>0.312410</td>\n",
              "      <td>19.306300</td>\n",
              "      <td>0.772252</td>\n",
              "    </tr>\n",
              "    <tr>\n",
              "      <th>182381</th>\n",
              "      <td>481.0</td>\n",
              "      <td>481.0</td>\n",
              "      <td>28.0</td>\n",
              "      <td>0</td>\n",
              "      <td>2</td>\n",
              "      <td>26.113913</td>\n",
              "      <td>0</td>\n",
              "      <td>-38.0</td>\n",
              "      <td>25.0</td>\n",
              "      <td>56.797887</td>\n",
              "      <td>0</td>\n",
              "      <td>76.0</td>\n",
              "      <td>-3.0</td>\n",
              "      <td>117.388245</td>\n",
              "      <td>0</td>\n",
              "      <td>4.192437</td>\n",
              "      <td>0.000000</td>\n",
              "      <td>0.000000</td>\n",
              "    </tr>\n",
              "    <tr>\n",
              "      <th>173944</th>\n",
              "      <td>240.0</td>\n",
              "      <td>1440.0</td>\n",
              "      <td>10.0</td>\n",
              "      <td>1</td>\n",
              "      <td>2</td>\n",
              "      <td>-28.810794</td>\n",
              "      <td>1</td>\n",
              "      <td>49.0</td>\n",
              "      <td>22.0</td>\n",
              "      <td>45.650849</td>\n",
              "      <td>1</td>\n",
              "      <td>69.0</td>\n",
              "      <td>-22.0</td>\n",
              "      <td>48.332184</td>\n",
              "      <td>0</td>\n",
              "      <td>4.833218</td>\n",
              "      <td>0.000000</td>\n",
              "      <td>0.000000</td>\n",
              "    </tr>\n",
              "    <tr>\n",
              "      <th>101259</th>\n",
              "      <td>173.0</td>\n",
              "      <td>3773.0</td>\n",
              "      <td>32.0</td>\n",
              "      <td>3</td>\n",
              "      <td>3</td>\n",
              "      <td>12.339087</td>\n",
              "      <td>1</td>\n",
              "      <td>-57.0</td>\n",
              "      <td>7.0</td>\n",
              "      <td>32.756679</td>\n",
              "      <td>1</td>\n",
              "      <td>-69.0</td>\n",
              "      <td>-22.0</td>\n",
              "      <td>31.384710</td>\n",
              "      <td>0</td>\n",
              "      <td>0.980772</td>\n",
              "      <td>0.000000</td>\n",
              "      <td>0.000000</td>\n",
              "    </tr>\n",
              "    <tr>\n",
              "      <th>167548</th>\n",
              "      <td>336.0</td>\n",
              "      <td>336.0</td>\n",
              "      <td>18.0</td>\n",
              "      <td>0</td>\n",
              "      <td>0</td>\n",
              "      <td>82.303948</td>\n",
              "      <td>0</td>\n",
              "      <td>84.0</td>\n",
              "      <td>-37.0</td>\n",
              "      <td>37.336309</td>\n",
              "      <td>1</td>\n",
              "      <td>69.0</td>\n",
              "      <td>-22.0</td>\n",
              "      <td>21.213203</td>\n",
              "      <td>0</td>\n",
              "      <td>1.178511</td>\n",
              "      <td>0.000000</td>\n",
              "      <td>0.000000</td>\n",
              "    </tr>\n",
              "    <tr>\n",
              "      <th>...</th>\n",
              "      <td>...</td>\n",
              "      <td>...</td>\n",
              "      <td>...</td>\n",
              "      <td>...</td>\n",
              "      <td>...</td>\n",
              "      <td>...</td>\n",
              "      <td>...</td>\n",
              "      <td>...</td>\n",
              "      <td>...</td>\n",
              "      <td>...</td>\n",
              "      <td>...</td>\n",
              "      <td>...</td>\n",
              "      <td>...</td>\n",
              "      <td>...</td>\n",
              "      <td>...</td>\n",
              "      <td>...</td>\n",
              "      <td>...</td>\n",
              "      <td>...</td>\n",
              "    </tr>\n",
              "    <tr>\n",
              "      <th>79634</th>\n",
              "      <td>53.0</td>\n",
              "      <td>53.0</td>\n",
              "      <td>1.0</td>\n",
              "      <td>0</td>\n",
              "      <td>6</td>\n",
              "      <td>5.710593</td>\n",
              "      <td>1</td>\n",
              "      <td>79.0</td>\n",
              "      <td>-1.0</td>\n",
              "      <td>10.049876</td>\n",
              "      <td>14</td>\n",
              "      <td>78.0</td>\n",
              "      <td>-1.0</td>\n",
              "      <td>1.000000</td>\n",
              "      <td>1</td>\n",
              "      <td>1.000000</td>\n",
              "      <td>0.516164</td>\n",
              "      <td>0.516164</td>\n",
              "    </tr>\n",
              "    <tr>\n",
              "      <th>179146</th>\n",
              "      <td>231.0</td>\n",
              "      <td>1431.0</td>\n",
              "      <td>10.0</td>\n",
              "      <td>1</td>\n",
              "      <td>2</td>\n",
              "      <td>53.530766</td>\n",
              "      <td>1</td>\n",
              "      <td>-72.0</td>\n",
              "      <td>23.0</td>\n",
              "      <td>28.600699</td>\n",
              "      <td>14</td>\n",
              "      <td>54.0</td>\n",
              "      <td>1.0</td>\n",
              "      <td>127.906216</td>\n",
              "      <td>1</td>\n",
              "      <td>12.790622</td>\n",
              "      <td>55.167343</td>\n",
              "      <td>5.516734</td>\n",
              "    </tr>\n",
              "    <tr>\n",
              "      <th>109695</th>\n",
              "      <td>1121.0</td>\n",
              "      <td>2321.0</td>\n",
              "      <td>6.0</td>\n",
              "      <td>1</td>\n",
              "      <td>5</td>\n",
              "      <td>-81.869898</td>\n",
              "      <td>0</td>\n",
              "      <td>-88.0</td>\n",
              "      <td>-7.0</td>\n",
              "      <td>7.071068</td>\n",
              "      <td>3</td>\n",
              "      <td>-76.0</td>\n",
              "      <td>38.0</td>\n",
              "      <td>46.572524</td>\n",
              "      <td>0</td>\n",
              "      <td>7.762087</td>\n",
              "      <td>0.000000</td>\n",
              "      <td>0.000000</td>\n",
              "    </tr>\n",
              "    <tr>\n",
              "      <th>278530</th>\n",
              "      <td>622.0</td>\n",
              "      <td>3022.0</td>\n",
              "      <td>17.0</td>\n",
              "      <td>2</td>\n",
              "      <td>4</td>\n",
              "      <td>-6.009006</td>\n",
              "      <td>1</td>\n",
              "      <td>70.0</td>\n",
              "      <td>2.0</td>\n",
              "      <td>19.104973</td>\n",
              "      <td>1</td>\n",
              "      <td>69.0</td>\n",
              "      <td>-22.0</td>\n",
              "      <td>24.020824</td>\n",
              "      <td>0</td>\n",
              "      <td>1.412990</td>\n",
              "      <td>0.000000</td>\n",
              "      <td>0.000000</td>\n",
              "    </tr>\n",
              "    <tr>\n",
              "      <th>192317</th>\n",
              "      <td>1070.0</td>\n",
              "      <td>3470.0</td>\n",
              "      <td>5.0</td>\n",
              "      <td>2</td>\n",
              "      <td>3</td>\n",
              "      <td>17.049031</td>\n",
              "      <td>1</td>\n",
              "      <td>-14.0</td>\n",
              "      <td>23.0</td>\n",
              "      <td>78.447435</td>\n",
              "      <td>0</td>\n",
              "      <td>49.0</td>\n",
              "      <td>-28.0</td>\n",
              "      <td>81.055537</td>\n",
              "      <td>0</td>\n",
              "      <td>16.211107</td>\n",
              "      <td>0.000000</td>\n",
              "      <td>0.000000</td>\n",
              "    </tr>\n",
              "  </tbody>\n",
              "</table>\n",
              "<p>233329 rows × 18 columns</p>\n",
              "</div>"
            ],
            "text/plain": [
              "        gameSeconds  totalGameSeconds  timeFromLastEvent  gamePeriod  \\\n",
              "161542       1069.0            1069.0               25.0           0   \n",
              "182381        481.0             481.0               28.0           0   \n",
              "173944        240.0            1440.0               10.0           1   \n",
              "101259        173.0            3773.0               32.0           3   \n",
              "167548        336.0             336.0               18.0           0   \n",
              "...             ...               ...                ...         ...   \n",
              "79634          53.0              53.0                1.0           0   \n",
              "179146        231.0            1431.0               10.0           1   \n",
              "109695       1121.0            2321.0                6.0           1   \n",
              "278530        622.0            3022.0               17.0           2   \n",
              "192317       1070.0            3470.0                5.0           2   \n",
              "\n",
              "        shotType  shotAngle  isHome  coordinatesX  coordinatesY  shotDistance  \\\n",
              "161542         6 -25.016893       1         -74.0          -7.0     16.552945   \n",
              "182381         2  26.113913       0         -38.0          25.0     56.797887   \n",
              "173944         2 -28.810794       1          49.0          22.0     45.650849   \n",
              "101259         3  12.339087       1         -57.0           7.0     32.756679   \n",
              "167548         0  82.303948       0          84.0         -37.0     37.336309   \n",
              "...          ...        ...     ...           ...           ...           ...   \n",
              "79634          6   5.710593       1          79.0          -1.0     10.049876   \n",
              "179146         2  53.530766       1         -72.0          23.0     28.600699   \n",
              "109695         5 -81.869898       0         -88.0          -7.0      7.071068   \n",
              "278530         4  -6.009006       1          70.0           2.0     19.104973   \n",
              "192317         3  17.049031       1         -14.0          23.0     78.447435   \n",
              "\n",
              "        lastEventType  lastEventCoordinatesX  lastEventCoordinatesY  \\\n",
              "161542             14                  -79.0                   -1.0   \n",
              "182381              0                   76.0                   -3.0   \n",
              "173944              1                   69.0                  -22.0   \n",
              "101259              1                  -69.0                  -22.0   \n",
              "167548              1                   69.0                  -22.0   \n",
              "...               ...                    ...                    ...   \n",
              "79634              14                   78.0                   -1.0   \n",
              "179146             14                   54.0                    1.0   \n",
              "109695              3                  -76.0                   38.0   \n",
              "278530              1                   69.0                  -22.0   \n",
              "192317              0                   49.0                  -28.0   \n",
              "\n",
              "        distanceFromLastEvent  rebound      speed  changeInShotAngle  \\\n",
              "161542               7.810250        1   0.312410          19.306300   \n",
              "182381             117.388245        0   4.192437           0.000000   \n",
              "173944              48.332184        0   4.833218           0.000000   \n",
              "101259              31.384710        0   0.980772           0.000000   \n",
              "167548              21.213203        0   1.178511           0.000000   \n",
              "...                       ...      ...        ...                ...   \n",
              "79634                1.000000        1   1.000000           0.516164   \n",
              "179146             127.906216        1  12.790622          55.167343   \n",
              "109695              46.572524        0   7.762087           0.000000   \n",
              "278530              24.020824        0   1.412990           0.000000   \n",
              "192317              81.055537        0  16.211107           0.000000   \n",
              "\n",
              "        angleSpeed  \n",
              "161542    0.772252  \n",
              "182381    0.000000  \n",
              "173944    0.000000  \n",
              "101259    0.000000  \n",
              "167548    0.000000  \n",
              "...            ...  \n",
              "79634     0.516164  \n",
              "179146    5.516734  \n",
              "109695    0.000000  \n",
              "278530    0.000000  \n",
              "192317    0.000000  \n",
              "\n",
              "[233329 rows x 18 columns]"
            ]
          },
          "execution_count": 51,
          "metadata": {},
          "output_type": "execute_result"
        }
      ],
      "source": [
        "Xtrain"
      ]
    },
    {
      "cell_type": "markdown",
      "metadata": {},
      "source": [
        "## Shap fails for Categorical Variables with XGBoost ( Tried this fix (https://stackoverflow.com/questions/57285499/how-to-tell-the-shap-tree-explainer-and-shap-values-calculator-which-variables-a) for LGBM but didn't work for XGBM)"
      ]
    },
    {
      "cell_type": "code",
      "execution_count": 65,
      "metadata": {},
      "outputs": [],
      "source": [
        "# # model = clf.best_estimator_\n",
        "# model = xgb2\n",
        "\n",
        "\n",
        "# # explain the model's predictions using SHAP\n",
        "# # (same syntax works for LightGBM, CatBoost, scikit-learn, transformers, Spark, etc.)\n",
        "# explainer = shap.TreeExplainer(model)\n",
        "# explainer.model.original_model.params = gparams\n",
        "# shap_values = explainer.shap_values(Xtrain,y=Ytrain)\n",
        "# # shap_values = explainer(Xtrain)\n",
        "\n",
        "# # visualize the first prediction's explanation\n",
        "# # shap.plots.waterfall(shap_values[0])"
      ]
    },
    {
      "cell_type": "code",
      "execution_count": 64,
      "metadata": {},
      "outputs": [],
      "source": [
        "# shap_values.shape"
      ]
    },
    {
      "cell_type": "code",
      "execution_count": 63,
      "metadata": {},
      "outputs": [],
      "source": [
        "# shap.summary_plot(shap_values, Xtrain.values, plot_type=\"bar\", class_names= ['Shot','Goal'], feature_names = Xtrain.columns)\n"
      ]
    },
    {
      "cell_type": "code",
      "execution_count": 62,
      "metadata": {},
      "outputs": [],
      "source": [
        "# shap.summary_plot(shap_values, Xtrain.values, feature_names = Xtrain.columns)\n"
      ]
    },
    {
      "cell_type": "code",
      "execution_count": 61,
      "metadata": {},
      "outputs": [],
      "source": [
        "# summarize the effects of all the features\n",
        "# shap.plots.beeswarm(shap_values)"
      ]
    },
    {
      "cell_type": "code",
      "execution_count": 60,
      "metadata": {},
      "outputs": [],
      "source": [
        "# shap.plots.bar(shap_values)\n"
      ]
    },
    {
      "cell_type": "code",
      "execution_count": 67,
      "metadata": {},
      "outputs": [],
      "source": [
        "from sklearn.feature_selection import RFECV\n"
      ]
    },
    {
      "cell_type": "code",
      "execution_count": 78,
      "metadata": {},
      "outputs": [
        {
          "data": {
            "text/plain": [
              "dict_keys(['gamma', 'learning_rate', 'max_depth', 'n_estimators', 'reg_alpha', 'reg_lambda'])"
            ]
          },
          "execution_count": 78,
          "metadata": {},
          "output_type": "execute_result"
        }
      ],
      "source": [
        "param_grid.keys() = [\"estima\"]"
      ]
    },
    {
      "cell_type": "code",
      "execution_count": 80,
      "metadata": {},
      "outputs": [
        {
          "data": {
            "text/plain": [
              "{'objective': 'binary:logistic',\n",
              " 'use_label_encoder': False,\n",
              " 'base_score': 0.5,\n",
              " 'booster': 'gbtree',\n",
              " 'colsample_bylevel': 1,\n",
              " 'colsample_bynode': 1,\n",
              " 'colsample_bytree': 1,\n",
              " 'enable_categorical': 1,\n",
              " 'gamma': 0,\n",
              " 'gpu_id': 0,\n",
              " 'importance_type': None,\n",
              " 'interaction_constraints': '',\n",
              " 'learning_rate': 0.300000012,\n",
              " 'max_delta_step': 0,\n",
              " 'max_depth': 6,\n",
              " 'min_child_weight': 1,\n",
              " 'missing': nan,\n",
              " 'monotone_constraints': '()',\n",
              " 'n_estimators': 100,\n",
              " 'n_jobs': 12,\n",
              " 'num_parallel_tree': 1,\n",
              " 'predictor': 'auto',\n",
              " 'random_state': 0,\n",
              " 'reg_alpha': 0,\n",
              " 'reg_lambda': 1,\n",
              " 'scale_pos_weight': 1,\n",
              " 'subsample': 1,\n",
              " 'tree_method': 'gpu_hist',\n",
              " 'validate_parameters': 1,\n",
              " 'verbosity': None,\n",
              " 'eval_metric': 'auc',\n",
              " 'grow_policy': 'lossguide'}"
            ]
          },
          "execution_count": 80,
          "metadata": {},
          "output_type": "execute_result"
        }
      ],
      "source": [
        "default_params_xgb"
      ]
    },
    {
      "cell_type": "code",
      "execution_count": 79,
      "metadata": {},
      "outputs": [
        {
          "name": "stdout",
          "output_type": "stream",
          "text": [
            "Fitting 3 folds for each of 1 candidates, totalling 3 fits\n"
          ]
        },
        {
          "name": "stderr",
          "output_type": "stream",
          "text": [
            "Arrays of bytes/strings is being converted to decimal numbers if dtype='numeric'. This behavior is deprecated in 0.24 and will be removed in 1.1 (renaming of 0.26). Please convert your data to numeric values explicitly instead.\n"
          ]
        },
        {
          "ename": "ValueError",
          "evalue": "Unable to convert array of bytes/strings into decimal numbers with dtype='numeric'",
          "output_type": "error",
          "traceback": [
            "\u001b[1;31m---------------------------------------------------------------------------\u001b[0m",
            "\u001b[1;31mValueError\u001b[0m                                Traceback (most recent call last)",
            "\u001b[1;32m~\\.conda\\envs\\ift6758-conda-env\\lib\\site-packages\\sklearn\\utils\\validation.py\u001b[0m in \u001b[0;36mcheck_array\u001b[1;34m(array, accept_sparse, accept_large_sparse, dtype, order, copy, force_all_finite, ensure_2d, allow_nd, ensure_min_samples, ensure_min_features, estimator)\u001b[0m\n\u001b[0;32m    778\u001b[0m             \u001b[1;32mtry\u001b[0m\u001b[1;33m:\u001b[0m\u001b[1;33m\u001b[0m\u001b[1;33m\u001b[0m\u001b[0m\n\u001b[1;32m--> 779\u001b[1;33m                 \u001b[0marray\u001b[0m \u001b[1;33m=\u001b[0m \u001b[0marray\u001b[0m\u001b[1;33m.\u001b[0m\u001b[0mastype\u001b[0m\u001b[1;33m(\u001b[0m\u001b[0mnp\u001b[0m\u001b[1;33m.\u001b[0m\u001b[0mfloat64\u001b[0m\u001b[1;33m)\u001b[0m\u001b[1;33m\u001b[0m\u001b[1;33m\u001b[0m\u001b[0m\n\u001b[0m\u001b[0;32m    780\u001b[0m             \u001b[1;32mexcept\u001b[0m \u001b[0mValueError\u001b[0m \u001b[1;32mas\u001b[0m \u001b[0me\u001b[0m\u001b[1;33m:\u001b[0m\u001b[1;33m\u001b[0m\u001b[1;33m\u001b[0m\u001b[0m\n",
            "\u001b[1;31mValueError\u001b[0m: could not convert string to float: 'Wrist Shot'",
            "\nThe above exception was the direct cause of the following exception:\n",
            "\u001b[1;31mValueError\u001b[0m                                Traceback (most recent call last)",
            "\u001b[1;32m~\\AppData\\Local\\Temp/ipykernel_15248/3597545804.py\u001b[0m in \u001b[0;36m<module>\u001b[1;34m\u001b[0m\n\u001b[0;32m     35\u001b[0m                             \u001b[0mshuffle\u001b[0m\u001b[1;33m=\u001b[0m\u001b[1;32mTrue\u001b[0m\u001b[1;33m\u001b[0m\u001b[1;33m\u001b[0m\u001b[0m\n\u001b[0;32m     36\u001b[0m                         ))\n\u001b[1;32m---> 37\u001b[1;33m \u001b[0mclf\u001b[0m\u001b[1;33m.\u001b[0m\u001b[0mfit\u001b[0m\u001b[1;33m(\u001b[0m\u001b[0mXtrain\u001b[0m\u001b[1;33m,\u001b[0m \u001b[0mYtrain\u001b[0m\u001b[1;33m.\u001b[0m\u001b[0mvalues\u001b[0m\u001b[1;33m.\u001b[0m\u001b[0mravel\u001b[0m\u001b[1;33m(\u001b[0m\u001b[1;33m)\u001b[0m\u001b[1;33m)\u001b[0m\u001b[1;33m\u001b[0m\u001b[1;33m\u001b[0m\u001b[0m\n\u001b[0m\u001b[0;32m     38\u001b[0m \u001b[1;33m\u001b[0m\u001b[0m\n\u001b[0;32m     39\u001b[0m \u001b[1;31m#results dataframe\u001b[0m\u001b[1;33m\u001b[0m\u001b[1;33m\u001b[0m\u001b[0m\n",
            "\u001b[1;32m~\\.conda\\envs\\ift6758-conda-env\\lib\\site-packages\\skopt\\searchcv.py\u001b[0m in \u001b[0;36mfit\u001b[1;34m(self, X, y, groups, callback, **fit_params)\u001b[0m\n\u001b[0;32m    464\u001b[0m             \u001b[0mself\u001b[0m\u001b[1;33m.\u001b[0m\u001b[0moptimizer_kwargs_\u001b[0m \u001b[1;33m=\u001b[0m \u001b[0mdict\u001b[0m\u001b[1;33m(\u001b[0m\u001b[0mself\u001b[0m\u001b[1;33m.\u001b[0m\u001b[0moptimizer_kwargs\u001b[0m\u001b[1;33m)\u001b[0m\u001b[1;33m\u001b[0m\u001b[1;33m\u001b[0m\u001b[0m\n\u001b[0;32m    465\u001b[0m \u001b[1;33m\u001b[0m\u001b[0m\n\u001b[1;32m--> 466\u001b[1;33m         \u001b[0msuper\u001b[0m\u001b[1;33m(\u001b[0m\u001b[1;33m)\u001b[0m\u001b[1;33m.\u001b[0m\u001b[0mfit\u001b[0m\u001b[1;33m(\u001b[0m\u001b[0mX\u001b[0m\u001b[1;33m=\u001b[0m\u001b[0mX\u001b[0m\u001b[1;33m,\u001b[0m \u001b[0my\u001b[0m\u001b[1;33m=\u001b[0m\u001b[0my\u001b[0m\u001b[1;33m,\u001b[0m \u001b[0mgroups\u001b[0m\u001b[1;33m=\u001b[0m\u001b[0mgroups\u001b[0m\u001b[1;33m,\u001b[0m \u001b[1;33m**\u001b[0m\u001b[0mfit_params\u001b[0m\u001b[1;33m)\u001b[0m\u001b[1;33m\u001b[0m\u001b[1;33m\u001b[0m\u001b[0m\n\u001b[0m\u001b[0;32m    467\u001b[0m \u001b[1;33m\u001b[0m\u001b[0m\n\u001b[0;32m    468\u001b[0m         \u001b[1;31m# BaseSearchCV never ranked train scores,\u001b[0m\u001b[1;33m\u001b[0m\u001b[1;33m\u001b[0m\u001b[0m\n",
            "\u001b[1;32m~\\.conda\\envs\\ift6758-conda-env\\lib\\site-packages\\sklearn\\model_selection\\_search.py\u001b[0m in \u001b[0;36mfit\u001b[1;34m(self, X, y, groups, **fit_params)\u001b[0m\n\u001b[0;32m    889\u001b[0m                 \u001b[1;32mreturn\u001b[0m \u001b[0mresults\u001b[0m\u001b[1;33m\u001b[0m\u001b[1;33m\u001b[0m\u001b[0m\n\u001b[0;32m    890\u001b[0m \u001b[1;33m\u001b[0m\u001b[0m\n\u001b[1;32m--> 891\u001b[1;33m             \u001b[0mself\u001b[0m\u001b[1;33m.\u001b[0m\u001b[0m_run_search\u001b[0m\u001b[1;33m(\u001b[0m\u001b[0mevaluate_candidates\u001b[0m\u001b[1;33m)\u001b[0m\u001b[1;33m\u001b[0m\u001b[1;33m\u001b[0m\u001b[0m\n\u001b[0m\u001b[0;32m    892\u001b[0m \u001b[1;33m\u001b[0m\u001b[0m\n\u001b[0;32m    893\u001b[0m             \u001b[1;31m# multimetric is determined here because in the case of a callable\u001b[0m\u001b[1;33m\u001b[0m\u001b[1;33m\u001b[0m\u001b[0m\n",
            "\u001b[1;32m~\\.conda\\envs\\ift6758-conda-env\\lib\\site-packages\\skopt\\searchcv.py\u001b[0m in \u001b[0;36m_run_search\u001b[1;34m(self, evaluate_candidates)\u001b[0m\n\u001b[0;32m    510\u001b[0m                 \u001b[0mn_points_adjusted\u001b[0m \u001b[1;33m=\u001b[0m \u001b[0mmin\u001b[0m\u001b[1;33m(\u001b[0m\u001b[0mn_iter\u001b[0m\u001b[1;33m,\u001b[0m \u001b[0mn_points\u001b[0m\u001b[1;33m)\u001b[0m\u001b[1;33m\u001b[0m\u001b[1;33m\u001b[0m\u001b[0m\n\u001b[0;32m    511\u001b[0m \u001b[1;33m\u001b[0m\u001b[0m\n\u001b[1;32m--> 512\u001b[1;33m                 optim_result = self._step(\n\u001b[0m\u001b[0;32m    513\u001b[0m                     \u001b[0msearch_space\u001b[0m\u001b[1;33m,\u001b[0m \u001b[0moptimizer\u001b[0m\u001b[1;33m,\u001b[0m\u001b[1;33m\u001b[0m\u001b[1;33m\u001b[0m\u001b[0m\n\u001b[0;32m    514\u001b[0m                     \u001b[0mevaluate_candidates\u001b[0m\u001b[1;33m,\u001b[0m \u001b[0mn_points\u001b[0m\u001b[1;33m=\u001b[0m\u001b[0mn_points_adjusted\u001b[0m\u001b[1;33m\u001b[0m\u001b[1;33m\u001b[0m\u001b[0m\n",
            "\u001b[1;32m~\\.conda\\envs\\ift6758-conda-env\\lib\\site-packages\\skopt\\searchcv.py\u001b[0m in \u001b[0;36m_step\u001b[1;34m(self, search_space, optimizer, evaluate_candidates, n_points)\u001b[0m\n\u001b[0;32m    406\u001b[0m         \u001b[0mparams_dict\u001b[0m \u001b[1;33m=\u001b[0m \u001b[1;33m[\u001b[0m\u001b[0mpoint_asdict\u001b[0m\u001b[1;33m(\u001b[0m\u001b[0msearch_space\u001b[0m\u001b[1;33m,\u001b[0m \u001b[0mp\u001b[0m\u001b[1;33m)\u001b[0m \u001b[1;32mfor\u001b[0m \u001b[0mp\u001b[0m \u001b[1;32min\u001b[0m \u001b[0mparams\u001b[0m\u001b[1;33m]\u001b[0m\u001b[1;33m\u001b[0m\u001b[1;33m\u001b[0m\u001b[0m\n\u001b[0;32m    407\u001b[0m \u001b[1;33m\u001b[0m\u001b[0m\n\u001b[1;32m--> 408\u001b[1;33m         \u001b[0mall_results\u001b[0m \u001b[1;33m=\u001b[0m \u001b[0mevaluate_candidates\u001b[0m\u001b[1;33m(\u001b[0m\u001b[0mparams_dict\u001b[0m\u001b[1;33m)\u001b[0m\u001b[1;33m\u001b[0m\u001b[1;33m\u001b[0m\u001b[0m\n\u001b[0m\u001b[0;32m    409\u001b[0m         \u001b[1;31m# Feed the point and objective value back into optimizer\u001b[0m\u001b[1;33m\u001b[0m\u001b[1;33m\u001b[0m\u001b[0m\n\u001b[0;32m    410\u001b[0m         \u001b[1;31m# Optimizer minimizes objective, hence provide negative score\u001b[0m\u001b[1;33m\u001b[0m\u001b[1;33m\u001b[0m\u001b[0m\n",
            "\u001b[1;32m~\\.conda\\envs\\ift6758-conda-env\\lib\\site-packages\\sklearn\\model_selection\\_search.py\u001b[0m in \u001b[0;36mevaluate_candidates\u001b[1;34m(candidate_params, cv, more_results)\u001b[0m\n\u001b[0;32m    836\u001b[0m                     )\n\u001b[0;32m    837\u001b[0m \u001b[1;33m\u001b[0m\u001b[0m\n\u001b[1;32m--> 838\u001b[1;33m                 out = parallel(\n\u001b[0m\u001b[0;32m    839\u001b[0m                     delayed(_fit_and_score)(\n\u001b[0;32m    840\u001b[0m                         \u001b[0mclone\u001b[0m\u001b[1;33m(\u001b[0m\u001b[0mbase_estimator\u001b[0m\u001b[1;33m)\u001b[0m\u001b[1;33m,\u001b[0m\u001b[1;33m\u001b[0m\u001b[1;33m\u001b[0m\u001b[0m\n",
            "\u001b[1;32m~\\.conda\\envs\\ift6758-conda-env\\lib\\site-packages\\joblib\\parallel.py\u001b[0m in \u001b[0;36m__call__\u001b[1;34m(self, iterable)\u001b[0m\n\u001b[0;32m   1041\u001b[0m             \u001b[1;31m# remaining jobs.\u001b[0m\u001b[1;33m\u001b[0m\u001b[1;33m\u001b[0m\u001b[0m\n\u001b[0;32m   1042\u001b[0m             \u001b[0mself\u001b[0m\u001b[1;33m.\u001b[0m\u001b[0m_iterating\u001b[0m \u001b[1;33m=\u001b[0m \u001b[1;32mFalse\u001b[0m\u001b[1;33m\u001b[0m\u001b[1;33m\u001b[0m\u001b[0m\n\u001b[1;32m-> 1043\u001b[1;33m             \u001b[1;32mif\u001b[0m \u001b[0mself\u001b[0m\u001b[1;33m.\u001b[0m\u001b[0mdispatch_one_batch\u001b[0m\u001b[1;33m(\u001b[0m\u001b[0miterator\u001b[0m\u001b[1;33m)\u001b[0m\u001b[1;33m:\u001b[0m\u001b[1;33m\u001b[0m\u001b[1;33m\u001b[0m\u001b[0m\n\u001b[0m\u001b[0;32m   1044\u001b[0m                 \u001b[0mself\u001b[0m\u001b[1;33m.\u001b[0m\u001b[0m_iterating\u001b[0m \u001b[1;33m=\u001b[0m \u001b[0mself\u001b[0m\u001b[1;33m.\u001b[0m\u001b[0m_original_iterator\u001b[0m \u001b[1;32mis\u001b[0m \u001b[1;32mnot\u001b[0m \u001b[1;32mNone\u001b[0m\u001b[1;33m\u001b[0m\u001b[1;33m\u001b[0m\u001b[0m\n\u001b[0;32m   1045\u001b[0m \u001b[1;33m\u001b[0m\u001b[0m\n",
            "\u001b[1;32m~\\.conda\\envs\\ift6758-conda-env\\lib\\site-packages\\joblib\\parallel.py\u001b[0m in \u001b[0;36mdispatch_one_batch\u001b[1;34m(self, iterator)\u001b[0m\n\u001b[0;32m    859\u001b[0m                 \u001b[1;32mreturn\u001b[0m \u001b[1;32mFalse\u001b[0m\u001b[1;33m\u001b[0m\u001b[1;33m\u001b[0m\u001b[0m\n\u001b[0;32m    860\u001b[0m             \u001b[1;32melse\u001b[0m\u001b[1;33m:\u001b[0m\u001b[1;33m\u001b[0m\u001b[1;33m\u001b[0m\u001b[0m\n\u001b[1;32m--> 861\u001b[1;33m                 \u001b[0mself\u001b[0m\u001b[1;33m.\u001b[0m\u001b[0m_dispatch\u001b[0m\u001b[1;33m(\u001b[0m\u001b[0mtasks\u001b[0m\u001b[1;33m)\u001b[0m\u001b[1;33m\u001b[0m\u001b[1;33m\u001b[0m\u001b[0m\n\u001b[0m\u001b[0;32m    862\u001b[0m                 \u001b[1;32mreturn\u001b[0m \u001b[1;32mTrue\u001b[0m\u001b[1;33m\u001b[0m\u001b[1;33m\u001b[0m\u001b[0m\n\u001b[0;32m    863\u001b[0m \u001b[1;33m\u001b[0m\u001b[0m\n",
            "\u001b[1;32m~\\.conda\\envs\\ift6758-conda-env\\lib\\site-packages\\joblib\\parallel.py\u001b[0m in \u001b[0;36m_dispatch\u001b[1;34m(self, batch)\u001b[0m\n\u001b[0;32m    777\u001b[0m         \u001b[1;32mwith\u001b[0m \u001b[0mself\u001b[0m\u001b[1;33m.\u001b[0m\u001b[0m_lock\u001b[0m\u001b[1;33m:\u001b[0m\u001b[1;33m\u001b[0m\u001b[1;33m\u001b[0m\u001b[0m\n\u001b[0;32m    778\u001b[0m             \u001b[0mjob_idx\u001b[0m \u001b[1;33m=\u001b[0m \u001b[0mlen\u001b[0m\u001b[1;33m(\u001b[0m\u001b[0mself\u001b[0m\u001b[1;33m.\u001b[0m\u001b[0m_jobs\u001b[0m\u001b[1;33m)\u001b[0m\u001b[1;33m\u001b[0m\u001b[1;33m\u001b[0m\u001b[0m\n\u001b[1;32m--> 779\u001b[1;33m             \u001b[0mjob\u001b[0m \u001b[1;33m=\u001b[0m \u001b[0mself\u001b[0m\u001b[1;33m.\u001b[0m\u001b[0m_backend\u001b[0m\u001b[1;33m.\u001b[0m\u001b[0mapply_async\u001b[0m\u001b[1;33m(\u001b[0m\u001b[0mbatch\u001b[0m\u001b[1;33m,\u001b[0m \u001b[0mcallback\u001b[0m\u001b[1;33m=\u001b[0m\u001b[0mcb\u001b[0m\u001b[1;33m)\u001b[0m\u001b[1;33m\u001b[0m\u001b[1;33m\u001b[0m\u001b[0m\n\u001b[0m\u001b[0;32m    780\u001b[0m             \u001b[1;31m# A job can complete so quickly than its callback is\u001b[0m\u001b[1;33m\u001b[0m\u001b[1;33m\u001b[0m\u001b[0m\n\u001b[0;32m    781\u001b[0m             \u001b[1;31m# called before we get here, causing self._jobs to\u001b[0m\u001b[1;33m\u001b[0m\u001b[1;33m\u001b[0m\u001b[0m\n",
            "\u001b[1;32m~\\.conda\\envs\\ift6758-conda-env\\lib\\site-packages\\joblib\\_parallel_backends.py\u001b[0m in \u001b[0;36mapply_async\u001b[1;34m(self, func, callback)\u001b[0m\n\u001b[0;32m    206\u001b[0m     \u001b[1;32mdef\u001b[0m \u001b[0mapply_async\u001b[0m\u001b[1;33m(\u001b[0m\u001b[0mself\u001b[0m\u001b[1;33m,\u001b[0m \u001b[0mfunc\u001b[0m\u001b[1;33m,\u001b[0m \u001b[0mcallback\u001b[0m\u001b[1;33m=\u001b[0m\u001b[1;32mNone\u001b[0m\u001b[1;33m)\u001b[0m\u001b[1;33m:\u001b[0m\u001b[1;33m\u001b[0m\u001b[1;33m\u001b[0m\u001b[0m\n\u001b[0;32m    207\u001b[0m         \u001b[1;34m\"\"\"Schedule a func to be run\"\"\"\u001b[0m\u001b[1;33m\u001b[0m\u001b[1;33m\u001b[0m\u001b[0m\n\u001b[1;32m--> 208\u001b[1;33m         \u001b[0mresult\u001b[0m \u001b[1;33m=\u001b[0m \u001b[0mImmediateResult\u001b[0m\u001b[1;33m(\u001b[0m\u001b[0mfunc\u001b[0m\u001b[1;33m)\u001b[0m\u001b[1;33m\u001b[0m\u001b[1;33m\u001b[0m\u001b[0m\n\u001b[0m\u001b[0;32m    209\u001b[0m         \u001b[1;32mif\u001b[0m \u001b[0mcallback\u001b[0m\u001b[1;33m:\u001b[0m\u001b[1;33m\u001b[0m\u001b[1;33m\u001b[0m\u001b[0m\n\u001b[0;32m    210\u001b[0m             \u001b[0mcallback\u001b[0m\u001b[1;33m(\u001b[0m\u001b[0mresult\u001b[0m\u001b[1;33m)\u001b[0m\u001b[1;33m\u001b[0m\u001b[1;33m\u001b[0m\u001b[0m\n",
            "\u001b[1;32m~\\.conda\\envs\\ift6758-conda-env\\lib\\site-packages\\joblib\\_parallel_backends.py\u001b[0m in \u001b[0;36m__init__\u001b[1;34m(self, batch)\u001b[0m\n\u001b[0;32m    570\u001b[0m         \u001b[1;31m# Don't delay the application, to avoid keeping the input\u001b[0m\u001b[1;33m\u001b[0m\u001b[1;33m\u001b[0m\u001b[0m\n\u001b[0;32m    571\u001b[0m         \u001b[1;31m# arguments in memory\u001b[0m\u001b[1;33m\u001b[0m\u001b[1;33m\u001b[0m\u001b[0m\n\u001b[1;32m--> 572\u001b[1;33m         \u001b[0mself\u001b[0m\u001b[1;33m.\u001b[0m\u001b[0mresults\u001b[0m \u001b[1;33m=\u001b[0m \u001b[0mbatch\u001b[0m\u001b[1;33m(\u001b[0m\u001b[1;33m)\u001b[0m\u001b[1;33m\u001b[0m\u001b[1;33m\u001b[0m\u001b[0m\n\u001b[0m\u001b[0;32m    573\u001b[0m \u001b[1;33m\u001b[0m\u001b[0m\n\u001b[0;32m    574\u001b[0m     \u001b[1;32mdef\u001b[0m \u001b[0mget\u001b[0m\u001b[1;33m(\u001b[0m\u001b[0mself\u001b[0m\u001b[1;33m)\u001b[0m\u001b[1;33m:\u001b[0m\u001b[1;33m\u001b[0m\u001b[1;33m\u001b[0m\u001b[0m\n",
            "\u001b[1;32m~\\.conda\\envs\\ift6758-conda-env\\lib\\site-packages\\joblib\\parallel.py\u001b[0m in \u001b[0;36m__call__\u001b[1;34m(self)\u001b[0m\n\u001b[0;32m    260\u001b[0m         \u001b[1;31m# change the default number of processes to -1\u001b[0m\u001b[1;33m\u001b[0m\u001b[1;33m\u001b[0m\u001b[0m\n\u001b[0;32m    261\u001b[0m         \u001b[1;32mwith\u001b[0m \u001b[0mparallel_backend\u001b[0m\u001b[1;33m(\u001b[0m\u001b[0mself\u001b[0m\u001b[1;33m.\u001b[0m\u001b[0m_backend\u001b[0m\u001b[1;33m,\u001b[0m \u001b[0mn_jobs\u001b[0m\u001b[1;33m=\u001b[0m\u001b[0mself\u001b[0m\u001b[1;33m.\u001b[0m\u001b[0m_n_jobs\u001b[0m\u001b[1;33m)\u001b[0m\u001b[1;33m:\u001b[0m\u001b[1;33m\u001b[0m\u001b[1;33m\u001b[0m\u001b[0m\n\u001b[1;32m--> 262\u001b[1;33m             return [func(*args, **kwargs)\n\u001b[0m\u001b[0;32m    263\u001b[0m                     for func, args, kwargs in self.items]\n\u001b[0;32m    264\u001b[0m \u001b[1;33m\u001b[0m\u001b[0m\n",
            "\u001b[1;32m~\\.conda\\envs\\ift6758-conda-env\\lib\\site-packages\\joblib\\parallel.py\u001b[0m in \u001b[0;36m<listcomp>\u001b[1;34m(.0)\u001b[0m\n\u001b[0;32m    260\u001b[0m         \u001b[1;31m# change the default number of processes to -1\u001b[0m\u001b[1;33m\u001b[0m\u001b[1;33m\u001b[0m\u001b[0m\n\u001b[0;32m    261\u001b[0m         \u001b[1;32mwith\u001b[0m \u001b[0mparallel_backend\u001b[0m\u001b[1;33m(\u001b[0m\u001b[0mself\u001b[0m\u001b[1;33m.\u001b[0m\u001b[0m_backend\u001b[0m\u001b[1;33m,\u001b[0m \u001b[0mn_jobs\u001b[0m\u001b[1;33m=\u001b[0m\u001b[0mself\u001b[0m\u001b[1;33m.\u001b[0m\u001b[0m_n_jobs\u001b[0m\u001b[1;33m)\u001b[0m\u001b[1;33m:\u001b[0m\u001b[1;33m\u001b[0m\u001b[1;33m\u001b[0m\u001b[0m\n\u001b[1;32m--> 262\u001b[1;33m             return [func(*args, **kwargs)\n\u001b[0m\u001b[0;32m    263\u001b[0m                     for func, args, kwargs in self.items]\n\u001b[0;32m    264\u001b[0m \u001b[1;33m\u001b[0m\u001b[0m\n",
            "\u001b[1;32m~\\.conda\\envs\\ift6758-conda-env\\lib\\site-packages\\sklearn\\utils\\fixes.py\u001b[0m in \u001b[0;36m__call__\u001b[1;34m(self, *args, **kwargs)\u001b[0m\n\u001b[0;32m    209\u001b[0m     \u001b[1;32mdef\u001b[0m \u001b[0m__call__\u001b[0m\u001b[1;33m(\u001b[0m\u001b[0mself\u001b[0m\u001b[1;33m,\u001b[0m \u001b[1;33m*\u001b[0m\u001b[0margs\u001b[0m\u001b[1;33m,\u001b[0m \u001b[1;33m**\u001b[0m\u001b[0mkwargs\u001b[0m\u001b[1;33m)\u001b[0m\u001b[1;33m:\u001b[0m\u001b[1;33m\u001b[0m\u001b[1;33m\u001b[0m\u001b[0m\n\u001b[0;32m    210\u001b[0m         \u001b[1;32mwith\u001b[0m \u001b[0mconfig_context\u001b[0m\u001b[1;33m(\u001b[0m\u001b[1;33m**\u001b[0m\u001b[0mself\u001b[0m\u001b[1;33m.\u001b[0m\u001b[0mconfig\u001b[0m\u001b[1;33m)\u001b[0m\u001b[1;33m:\u001b[0m\u001b[1;33m\u001b[0m\u001b[1;33m\u001b[0m\u001b[0m\n\u001b[1;32m--> 211\u001b[1;33m             \u001b[1;32mreturn\u001b[0m \u001b[0mself\u001b[0m\u001b[1;33m.\u001b[0m\u001b[0mfunction\u001b[0m\u001b[1;33m(\u001b[0m\u001b[1;33m*\u001b[0m\u001b[0margs\u001b[0m\u001b[1;33m,\u001b[0m \u001b[1;33m**\u001b[0m\u001b[0mkwargs\u001b[0m\u001b[1;33m)\u001b[0m\u001b[1;33m\u001b[0m\u001b[1;33m\u001b[0m\u001b[0m\n\u001b[0m\u001b[0;32m    212\u001b[0m \u001b[1;33m\u001b[0m\u001b[0m\n\u001b[0;32m    213\u001b[0m \u001b[1;33m\u001b[0m\u001b[0m\n",
            "\u001b[1;32m~\\.conda\\envs\\ift6758-conda-env\\lib\\site-packages\\sklearn\\model_selection\\_validation.py\u001b[0m in \u001b[0;36m_fit_and_score\u001b[1;34m(estimator, X, y, scorer, train, test, verbose, parameters, fit_params, return_train_score, return_parameters, return_n_test_samples, return_times, return_estimator, split_progress, candidate_progress, error_score)\u001b[0m\n\u001b[0;32m    679\u001b[0m             \u001b[0mestimator\u001b[0m\u001b[1;33m.\u001b[0m\u001b[0mfit\u001b[0m\u001b[1;33m(\u001b[0m\u001b[0mX_train\u001b[0m\u001b[1;33m,\u001b[0m \u001b[1;33m**\u001b[0m\u001b[0mfit_params\u001b[0m\u001b[1;33m)\u001b[0m\u001b[1;33m\u001b[0m\u001b[1;33m\u001b[0m\u001b[0m\n\u001b[0;32m    680\u001b[0m         \u001b[1;32melse\u001b[0m\u001b[1;33m:\u001b[0m\u001b[1;33m\u001b[0m\u001b[1;33m\u001b[0m\u001b[0m\n\u001b[1;32m--> 681\u001b[1;33m             \u001b[0mestimator\u001b[0m\u001b[1;33m.\u001b[0m\u001b[0mfit\u001b[0m\u001b[1;33m(\u001b[0m\u001b[0mX_train\u001b[0m\u001b[1;33m,\u001b[0m \u001b[0my_train\u001b[0m\u001b[1;33m,\u001b[0m \u001b[1;33m**\u001b[0m\u001b[0mfit_params\u001b[0m\u001b[1;33m)\u001b[0m\u001b[1;33m\u001b[0m\u001b[1;33m\u001b[0m\u001b[0m\n\u001b[0m\u001b[0;32m    682\u001b[0m \u001b[1;33m\u001b[0m\u001b[0m\n\u001b[0;32m    683\u001b[0m     \u001b[1;32mexcept\u001b[0m \u001b[0mException\u001b[0m\u001b[1;33m:\u001b[0m\u001b[1;33m\u001b[0m\u001b[1;33m\u001b[0m\u001b[0m\n",
            "\u001b[1;32m~\\.conda\\envs\\ift6758-conda-env\\lib\\site-packages\\comet_ml\\monkey_patching.py\u001b[0m in \u001b[0;36mwrapper\u001b[1;34m(*args, **kwargs)\u001b[0m\n\u001b[0;32m    310\u001b[0m                     )\n\u001b[0;32m    311\u001b[0m \u001b[1;33m\u001b[0m\u001b[0m\n\u001b[1;32m--> 312\u001b[1;33m         \u001b[0mreturn_value\u001b[0m \u001b[1;33m=\u001b[0m \u001b[0moriginal\u001b[0m\u001b[1;33m(\u001b[0m\u001b[1;33m*\u001b[0m\u001b[0margs\u001b[0m\u001b[1;33m,\u001b[0m \u001b[1;33m**\u001b[0m\u001b[0mkwargs\u001b[0m\u001b[1;33m)\u001b[0m\u001b[1;33m\u001b[0m\u001b[1;33m\u001b[0m\u001b[0m\n\u001b[0m\u001b[0;32m    313\u001b[0m \u001b[1;33m\u001b[0m\u001b[0m\n\u001b[0;32m    314\u001b[0m         \u001b[1;31m# Call after callbacks once we have the return value\u001b[0m\u001b[1;33m\u001b[0m\u001b[1;33m\u001b[0m\u001b[0m\n",
            "\u001b[1;32m~\\.conda\\envs\\ift6758-conda-env\\lib\\site-packages\\sklearn\\feature_selection\\_rfe.py\u001b[0m in \u001b[0;36mfit\u001b[1;34m(self, X, y, groups)\u001b[0m\n\u001b[0;32m    659\u001b[0m         \"\"\"\n\u001b[0;32m    660\u001b[0m         \u001b[0mtags\u001b[0m \u001b[1;33m=\u001b[0m \u001b[0mself\u001b[0m\u001b[1;33m.\u001b[0m\u001b[0m_get_tags\u001b[0m\u001b[1;33m(\u001b[0m\u001b[1;33m)\u001b[0m\u001b[1;33m\u001b[0m\u001b[1;33m\u001b[0m\u001b[0m\n\u001b[1;32m--> 661\u001b[1;33m         X, y = self._validate_data(\n\u001b[0m\u001b[0;32m    662\u001b[0m             \u001b[0mX\u001b[0m\u001b[1;33m,\u001b[0m\u001b[1;33m\u001b[0m\u001b[1;33m\u001b[0m\u001b[0m\n\u001b[0;32m    663\u001b[0m             \u001b[0my\u001b[0m\u001b[1;33m,\u001b[0m\u001b[1;33m\u001b[0m\u001b[1;33m\u001b[0m\u001b[0m\n",
            "\u001b[1;32m~\\.conda\\envs\\ift6758-conda-env\\lib\\site-packages\\sklearn\\base.py\u001b[0m in \u001b[0;36m_validate_data\u001b[1;34m(self, X, y, reset, validate_separately, **check_params)\u001b[0m\n\u001b[0;32m    574\u001b[0m                 \u001b[0my\u001b[0m \u001b[1;33m=\u001b[0m \u001b[0mcheck_array\u001b[0m\u001b[1;33m(\u001b[0m\u001b[0my\u001b[0m\u001b[1;33m,\u001b[0m \u001b[1;33m**\u001b[0m\u001b[0mcheck_y_params\u001b[0m\u001b[1;33m)\u001b[0m\u001b[1;33m\u001b[0m\u001b[1;33m\u001b[0m\u001b[0m\n\u001b[0;32m    575\u001b[0m             \u001b[1;32melse\u001b[0m\u001b[1;33m:\u001b[0m\u001b[1;33m\u001b[0m\u001b[1;33m\u001b[0m\u001b[0m\n\u001b[1;32m--> 576\u001b[1;33m                 \u001b[0mX\u001b[0m\u001b[1;33m,\u001b[0m \u001b[0my\u001b[0m \u001b[1;33m=\u001b[0m \u001b[0mcheck_X_y\u001b[0m\u001b[1;33m(\u001b[0m\u001b[0mX\u001b[0m\u001b[1;33m,\u001b[0m \u001b[0my\u001b[0m\u001b[1;33m,\u001b[0m \u001b[1;33m**\u001b[0m\u001b[0mcheck_params\u001b[0m\u001b[1;33m)\u001b[0m\u001b[1;33m\u001b[0m\u001b[1;33m\u001b[0m\u001b[0m\n\u001b[0m\u001b[0;32m    577\u001b[0m             \u001b[0mout\u001b[0m \u001b[1;33m=\u001b[0m \u001b[0mX\u001b[0m\u001b[1;33m,\u001b[0m \u001b[0my\u001b[0m\u001b[1;33m\u001b[0m\u001b[1;33m\u001b[0m\u001b[0m\n\u001b[0;32m    578\u001b[0m \u001b[1;33m\u001b[0m\u001b[0m\n",
            "\u001b[1;32m~\\.conda\\envs\\ift6758-conda-env\\lib\\site-packages\\sklearn\\utils\\validation.py\u001b[0m in \u001b[0;36mcheck_X_y\u001b[1;34m(X, y, accept_sparse, accept_large_sparse, dtype, order, copy, force_all_finite, ensure_2d, allow_nd, multi_output, ensure_min_samples, ensure_min_features, y_numeric, estimator)\u001b[0m\n\u001b[0;32m    954\u001b[0m         \u001b[1;32mraise\u001b[0m \u001b[0mValueError\u001b[0m\u001b[1;33m(\u001b[0m\u001b[1;34m\"y cannot be None\"\u001b[0m\u001b[1;33m)\u001b[0m\u001b[1;33m\u001b[0m\u001b[1;33m\u001b[0m\u001b[0m\n\u001b[0;32m    955\u001b[0m \u001b[1;33m\u001b[0m\u001b[0m\n\u001b[1;32m--> 956\u001b[1;33m     X = check_array(\n\u001b[0m\u001b[0;32m    957\u001b[0m         \u001b[0mX\u001b[0m\u001b[1;33m,\u001b[0m\u001b[1;33m\u001b[0m\u001b[1;33m\u001b[0m\u001b[0m\n\u001b[0;32m    958\u001b[0m         \u001b[0maccept_sparse\u001b[0m\u001b[1;33m=\u001b[0m\u001b[0maccept_sparse\u001b[0m\u001b[1;33m,\u001b[0m\u001b[1;33m\u001b[0m\u001b[1;33m\u001b[0m\u001b[0m\n",
            "\u001b[1;32m~\\.conda\\envs\\ift6758-conda-env\\lib\\site-packages\\sklearn\\utils\\validation.py\u001b[0m in \u001b[0;36mcheck_array\u001b[1;34m(array, accept_sparse, accept_large_sparse, dtype, order, copy, force_all_finite, ensure_2d, allow_nd, ensure_min_samples, ensure_min_features, estimator)\u001b[0m\n\u001b[0;32m    779\u001b[0m                 \u001b[0marray\u001b[0m \u001b[1;33m=\u001b[0m \u001b[0marray\u001b[0m\u001b[1;33m.\u001b[0m\u001b[0mastype\u001b[0m\u001b[1;33m(\u001b[0m\u001b[0mnp\u001b[0m\u001b[1;33m.\u001b[0m\u001b[0mfloat64\u001b[0m\u001b[1;33m)\u001b[0m\u001b[1;33m\u001b[0m\u001b[1;33m\u001b[0m\u001b[0m\n\u001b[0;32m    780\u001b[0m             \u001b[1;32mexcept\u001b[0m \u001b[0mValueError\u001b[0m \u001b[1;32mas\u001b[0m \u001b[0me\u001b[0m\u001b[1;33m:\u001b[0m\u001b[1;33m\u001b[0m\u001b[1;33m\u001b[0m\u001b[0m\n\u001b[1;32m--> 781\u001b[1;33m                 raise ValueError(\n\u001b[0m\u001b[0;32m    782\u001b[0m                     \u001b[1;34m\"Unable to convert array of bytes/strings \"\u001b[0m\u001b[1;33m\u001b[0m\u001b[1;33m\u001b[0m\u001b[0m\n\u001b[0;32m    783\u001b[0m                     \u001b[1;34m\"into decimal numbers with dtype='numeric'\"\u001b[0m\u001b[1;33m\u001b[0m\u001b[1;33m\u001b[0m\u001b[0m\n",
            "\u001b[1;31mValueError\u001b[0m: Unable to convert array of bytes/strings into decimal numbers with dtype='numeric'"
          ]
        }
      ],
      "source": [
        "##Hyperparameter Tuning\n",
        "#creating deepcopy of default parameters before manipulations\n",
        "experiment = \"xgbase-bayestuning-featureselection\"\n",
        "params = deepcopy(default_params)\n",
        "\n",
        "#setting grid of selected parameters for iteration\n",
        "param_grid = {'estimator__gamma': [0,0.1,0.2,0.4,0.8,1.6,3.2,6.4,12.8,25.6,51.2,102.4, 200],\n",
        "              'estimator__learning_rate': [0.01, 0.03, 0.06, 0.1, 0.15, 0.2, 0.25, 0.3, 0.4, 0.5, 0.6, 0.7],\n",
        "              'estimator__max_depth': [5,6,7,8,9,10,11,12,13,14],\n",
        "              'estimator__n_estimators': [50,65,80,100,115,130,150],\n",
        "              'estimator__reg_alpha': [0,0.1,0.2,0.4,0.8,1.6,3.2,6.4,12.8,25.6,51.2,102.4,200],\n",
        "              'estimator__reg_lambda': [0,0.1,0.2,0.4,0.8,1.6,3.2,6.4,12.8,25.6,51.2,102.4,200]\n",
        "              }\n",
        "\n",
        "#No. of jobs\n",
        "bcvj = int(np.cumsum([len(x) for x in param_grid.values()])[-1])\n",
        "\n",
        "#unwrapping list values of default parameters\n",
        "default_params_xgb = {}\n",
        "\n",
        "for key in default_params.keys():\n",
        "    default_params_xgb[key] = default_params[key][0]\n",
        "\n",
        "#providing default parameters to xgbc model, before randomized search cross-validation\n",
        "xgb3 = xgb.XGBClassifier(**default_params_xgb)\n",
        "\n",
        "rfecv = RFECV(estimator=xgb3, \n",
        "              step=1, \n",
        "              cv=StratifiedKFold(3), \n",
        "              scoring = 'roc_auc')\n",
        "\n",
        "clf = BayesSearchCV(estimator=rfecv, search_spaces=param_grid, n_iter=bcvj, scoring='roc_auc', return_train_score=True, verbose=3,\n",
        "                    cv = StratifiedKFold(\n",
        "                            n_splits=3,\n",
        "                            shuffle=True\n",
        "                        ))\n",
        "clf.fit(Xtrain, Ytrain.values.ravel())\n",
        "\n",
        "#results dataframe\n",
        "df = pd.DataFrame(clf.cv_results_)\n",
        "\n",
        "#best parameters\n",
        "bp = clf.best_params_\n",
        "\n",
        "#storing computed values in results dictionary\n",
        "results_dict[experiment] = {'iterable_parameter': np.nan,\n",
        "                        'classifier': deepcopy(clf),\n",
        "                        'cv_results': df.copy(),\n",
        "                        'best_params': bp}\n",
        "\n",
        "\n",
        "y_pred_val  = clf.predict(Xval)\n",
        "y_pred_val_scores = clf.predict_proba(Xval)[:,1]"
      ]
    },
    {
      "cell_type": "code",
      "execution_count": 93,
      "metadata": {},
      "outputs": [
        {
          "name": "stderr",
          "output_type": "stream",
          "text": [
            "C:\\Users\\saiak\\.conda\\envs\\ift6758-conda-env\\lib\\site-packages\\xgboost\\training.py:17: UserWarning:\n",
            "\n",
            "Old style callback is deprecated.  See: https://xgboost.readthedocs.io/en/latest/python/callbacks.html\n",
            "\n",
            "C:\\Users\\saiak\\.conda\\envs\\ift6758-conda-env\\lib\\site-packages\\sklearn\\base.py:445: UserWarning:\n",
            "\n",
            "X does not have valid feature names, but RFECV was fitted with feature names\n",
            "\n",
            "C:\\Users\\saiak\\.conda\\envs\\ift6758-conda-env\\lib\\site-packages\\xgboost\\training.py:17: UserWarning:\n",
            "\n",
            "Old style callback is deprecated.  See: https://xgboost.readthedocs.io/en/latest/python/callbacks.html\n",
            "\n",
            "C:\\Users\\saiak\\.conda\\envs\\ift6758-conda-env\\lib\\site-packages\\sklearn\\utils\\deprecation.py:103: FutureWarning:\n",
            "\n",
            "The `grid_scores_` attribute is deprecated in version 1.0 in favor of `cv_results_` and will be removed in version 1.2.\n",
            "\n"
          ]
        },
        {
          "data": {
            "image/png": "[encoded data removed]",
            "text/plain": [
              "<Figure size 432x288 with 1 Axes>"
            ]
          },
          "metadata": {
            "needs_background": "light"
          },
          "output_type": "display_data"
        }
      ],
      "source": [
        "# Reference: https://www.kaggle.com/attackgnome/basic-feature-benchmark-rfecv-xgboost\n",
        "#choose estimator/model type for Recursive feature elimination and cross valiation\n",
        "estimator = xgb.XGBClassifier(**default_params_xgb)\n",
        "selector = RFECV(estimator, step=1, min_features_to_select=1, cv=10, scoring='roc_auc',verbose=1,n_jobs=4)\n",
        "\n",
        "#fit the model, get a rank of the variables, and a matrix of the selected X variables\n",
        "selector = selector.fit(Xtrain.drop(categories,axis=1), Ytrain.values.flatten())\n",
        "\n",
        "\n",
        "#PLot # of features selected vs. Model Score\n",
        "import matplotlib.pyplot as plt\n",
        "plt.figure()\n",
        "plt.title('XGB CV score vs No of Features')\n",
        "plt.xlabel(\"Number of features selected\")\n",
        "plt.ylabel(\"Neg Mean Squared Error\")\n",
        "plt.plot(range(1, len(selector.grid_scores_) + 1), selector.grid_scores_)\n",
        "plt.show()\n",
        "\n",
        "#get rank of X model features\n",
        "rank = selector.ranking_\n",
        "#Subset features to those selected by recursive feature elimination\n",
        "#X_train_scaled = X_train_scaled[:,selector.support_ ] \n",
        "\n",
        "# y_pred = selector.predict(Xval)\n",
        "\n"
      ]
    },
    {
      "cell_type": "code",
      "execution_count": 95,
      "metadata": {},
      "outputs": [
        {
          "data": {
            "text/plain": [
              "Index(['gameSeconds', 'totalGameSeconds', 'timeFromLastEvent', 'shotAngle',\n",
              "       'coordinatesX', 'coordinatesY', 'shotDistance', 'lastEventCoordinatesX',\n",
              "       'lastEventCoordinatesY', 'distanceFromLastEvent', 'speed',\n",
              "       'changeInShotAngle', 'angleSpeed'],\n",
              "      dtype='object')"
            ]
          },
          "execution_count": 95,
          "metadata": {},
          "output_type": "execute_result"
        }
      ],
      "source": [
        "Xtrain.drop(categories,axis=1).columns[selector.support_]"
      ]
    },
    {
      "cell_type": "code",
      "execution_count": 96,
      "metadata": {},
      "outputs": [
        {
          "data": {
            "text/plain": [
              "Index([], dtype='object')"
            ]
          },
          "execution_count": 96,
          "metadata": {},
          "output_type": "execute_result"
        }
      ],
      "source": [
        "Xtrain.drop(categories,axis=1).columns[np.logical_not(selector.support_)]"
      ]
    },
    {
      "cell_type": "code",
      "execution_count": 82,
      "metadata": {},
      "outputs": [
        {
          "data": {
            "text/plain": [
              "gameSeconds               float64\n",
              "totalGameSeconds          float64\n",
              "timeFromLastEvent         float64\n",
              "gamePeriod               category\n",
              "shotType                 category\n",
              "shotAngle                 float64\n",
              "isHome                   category\n",
              "coordinatesX              float64\n",
              "coordinatesY              float64\n",
              "shotDistance              float64\n",
              "lastEventType            category\n",
              "lastEventCoordinatesX     float64\n",
              "lastEventCoordinatesY     float64\n",
              "distanceFromLastEvent     float64\n",
              "rebound                  category\n",
              "speed                     float64\n",
              "changeInShotAngle         float64\n",
              "angleSpeed                float64\n",
              "dtype: object"
            ]
          },
          "execution_count": 82,
          "metadata": {},
          "output_type": "execute_result"
        }
      ],
      "source": [
        "#X_train_scaled = X_train_scaled[:,selector.support_ ] \n"
      ]
    },
    {
      "cell_type": "code",
      "execution_count": 90,
      "metadata": {},
      "outputs": [],
      "source": [
        "## Not dropping any features and using L1 reguraliser"
      ]
    },
    {
      "cell_type": "code",
      "execution_count": null,
      "metadata": {},
      "outputs": [],
      "source": []
    }
  ],
  "metadata": {
    "colab": {
      "authorship_tag": "ABX9TyM/pmDyRNjQl733PpsdBkRs",
      "include_colab_link": true,
      "name": "XGBoost.ipynb",
      "provenance": []
    },
    "kernelspec": {
      "display_name": "Python 3",
      "name": "python3"
    },
    "language_info": {
      "codemirror_mode": {
        "name": "ipython",
        "version": 3
      },
      "file_extension": ".py",
      "mimetype": "text/x-python",
      "name": "python",
      "nbconvert_exporter": "python",
      "pygments_lexer": "ipython3",
      "version": "3.9.7"
    }
  },
  "nbformat": 4,
  "nbformat_minor": 0
}
